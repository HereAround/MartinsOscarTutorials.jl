{
 "cells": [
  {
   "cell_type": "markdown",
   "id": "1181aec5-bf82-4eb3-87bf-40870ebe0436",
   "metadata": {},
   "source": [
    "# Linear Algebra in OSCAR\n",
    "\n",
    "* Authors: Martin Bies\n",
    "* Version: OSCAR version 1.2.0 or newer."
   ]
  },
  {
   "cell_type": "markdown",
   "id": "aa5a7942-0d7c-44f4-817e-d99dfdd8a428",
   "metadata": {},
   "source": [
    "This tutorial provides an introduction to linear algebra in OSCAR. The aim is to describe important functionality and to exemplify it, so that users can start to use OSCAR more easily. Still, let us note that this tutorial does not aim to cover all of the existing functionality. Instead, we present a selection of arguably very important functions and features. For a more complete overview, please consult the documentation at https://docs.oscar-system.org/stable/LinearAlgebra/intro/.\n",
    "\n",
    "For this tutorial, the reader need not be familiar with OSCAR, but is assumed to have some basic understanding of Julia.\n",
    "\n",
    "The content of this notebook is as follows:\n",
    "1. [Creating Matrices](#1-Creating-Matrices)\n",
    "2. [Solving Linear Equation Systems](#2-Solving-Linear-Equation-Systems)\n",
    "3. [Eigenvalues and Eigenspaces](#3-Eigenvalues-and-Eigenspaces)\n",
    "4. [Normalforms](#4-Normalforms)\n"
   ]
  },
  {
   "cell_type": "code",
   "execution_count": 1,
   "id": "bd3322fa",
   "metadata": {},
   "outputs": [],
   "source": [
    "using Oscar"
   ]
  },
  {
   "cell_type": "markdown",
   "id": "c1b3246b",
   "metadata": {},
   "source": [
    "# 1 Creating Matrices"
   ]
  },
  {
   "cell_type": "markdown",
   "id": "fcb038f8-51b0-4b0d-8a6d-e88b815d411a",
   "metadata": {},
   "source": [
    "There are many ways to create matrices in $\\texttt{OSCAR}$. We demonstrate a few:"
   ]
  },
  {
   "cell_type": "code",
   "execution_count": 3,
   "id": "b734cc21-664d-4f40-b932-151cae872dd0",
   "metadata": {},
   "outputs": [
    {
     "data": {
      "text/plain": [
       "[1   2   3]\n",
       "[4   5   6]"
      ]
     },
     "execution_count": 3,
     "metadata": {},
     "output_type": "execute_result"
    }
   ],
   "source": [
    "m = matrix(ZZ, [[1,2,3],[4,5,6]])"
   ]
  },
  {
   "cell_type": "code",
   "execution_count": 4,
   "id": "1306507b-f9d7-493f-a0da-4365b3ec47e4",
   "metadata": {},
   "outputs": [
    {
     "data": {
      "text/plain": [
       "ZZMatrix"
      ]
     },
     "execution_count": 4,
     "metadata": {},
     "output_type": "execute_result"
    }
   ],
   "source": [
    "typeof(m)"
   ]
  },
  {
   "cell_type": "code",
   "execution_count": 9,
   "id": "1a4af2f5-7606-4933-b17a-3855a23bdbf7",
   "metadata": {},
   "outputs": [
    {
     "data": {
      "text/plain": [
       "2×3 Matrix{Int64}:\n",
       " 1  2  3\n",
       " 4  5  6"
      ]
     },
     "execution_count": 9,
     "metadata": {},
     "output_type": "execute_result"
    }
   ],
   "source": [
    "m2 = [1 2 3; 4 5 6]"
   ]
  },
  {
   "cell_type": "code",
   "execution_count": 12,
   "id": "75d00217-7f3d-4ffc-8a66-f2fe2a430a22",
   "metadata": {},
   "outputs": [
    {
     "data": {
      "text/plain": [
       "[1   2   3]\n",
       "[4   5   6]"
      ]
     },
     "execution_count": 12,
     "metadata": {},
     "output_type": "execute_result"
    }
   ],
   "source": [
    "m3 = matrix(QQ, m2)"
   ]
  },
  {
   "cell_type": "code",
   "execution_count": 13,
   "id": "9364be30-1897-46d6-bb4d-812d504e8a34",
   "metadata": {},
   "outputs": [
    {
     "data": {
      "text/plain": [
       "QQMatrix"
      ]
     },
     "execution_count": 13,
     "metadata": {},
     "output_type": "execute_result"
    }
   ],
   "source": [
    "typeof(m3)"
   ]
  },
  {
   "cell_type": "code",
   "execution_count": null,
   "id": "4b7cfff0-2003-434e-92b6-e81f1bdf0198",
   "metadata": {},
   "outputs": [],
   "source": []
  },
  {
   "cell_type": "markdown",
   "id": "10247cf5-754b-49d3-99e3-8f3fa080a53e",
   "metadata": {},
   "source": [
    "# 2 Solving Linear Equation Systems"
   ]
  },
  {
   "cell_type": "markdown",
   "id": "e162d816-146f-4e3a-ac18-ecbbd148bfed",
   "metadata": {},
   "source": [
    "Let us solve the following system of linear equations in $\\texttt{OSCAR}$ over $\\mathbb{Z}$:\n",
    "\n",
    "$$ \\left[ \\begin{array}{ccc} 1 & 2 & 3 \\\\ 2 & 4 & 6 \\end{array} \\right] \\cdot v = \\left[ \\begin{array}{c} -5 \\\\ -10 \\end{array} \\right] $$"
   ]
  },
  {
   "cell_type": "code",
   "execution_count": 15,
   "id": "918acee1-185a-4c29-ae25-01b2389ad301",
   "metadata": {},
   "outputs": [
    {
     "data": {
      "text/plain": [
       "[1   2   3]\n",
       "[2   4   6]"
      ]
     },
     "execution_count": 15,
     "metadata": {},
     "output_type": "execute_result"
    }
   ],
   "source": [
    "m = matrix(ZZ, [[1,2,3], [2,4,6]])"
   ]
  },
  {
   "cell_type": "code",
   "execution_count": 22,
   "id": "65539514-0655-401a-a74b-d568eb6babc8",
   "metadata": {},
   "outputs": [
    {
     "data": {
      "text/plain": [
       "[ -5]\n",
       "[-10]"
      ]
     },
     "execution_count": 22,
     "metadata": {},
     "output_type": "execute_result"
    }
   ],
   "source": [
    "b = matrix(ZZ, [[-5], [-10]])"
   ]
  },
  {
   "cell_type": "code",
   "execution_count": 23,
   "id": "43aad064-ec7d-4698-8cc5-79a98c97556c",
   "metadata": {},
   "outputs": [
    {
     "data": {
      "text/plain": [
       "[  0]\n",
       "[-10]\n",
       "[  5]"
      ]
     },
     "execution_count": 23,
     "metadata": {},
     "output_type": "execute_result"
    }
   ],
   "source": [
    "solve(m, b, side = :right)"
   ]
  },
  {
   "cell_type": "markdown",
   "id": "66e5e5f4-6a13-45f4-9f77-514acc643dea",
   "metadata": {},
   "source": [
    "But of course, this is merely a single solution. To obtain all solutions, we need to add the nullspace."
   ]
  },
  {
   "cell_type": "code",
   "execution_count": 24,
   "id": "de00d595-ac21-4eed-b12a-c8376dcf65bc",
   "metadata": {},
   "outputs": [
    {
     "data": {
      "text/plain": [
       "(2, [0 1; 3 1; -2 -1])"
      ]
     },
     "execution_count": 24,
     "metadata": {},
     "output_type": "execute_result"
    }
   ],
   "source": [
    "nullspace(m)"
   ]
  },
  {
   "cell_type": "markdown",
   "id": "fec2e189-3301-4a3b-a183-2b962a214188",
   "metadata": {},
   "source": [
    "The first return value is the dimension of the nullspace, and the second is a basis of the nullspace."
   ]
  },
  {
   "cell_type": "code",
   "execution_count": 25,
   "id": "e8dc5823-2d18-495b-ba4e-c29876321d8e",
   "metadata": {},
   "outputs": [
    {
     "data": {
      "text/plain": [
       "[ 0    1]\n",
       "[ 3    1]\n",
       "[-2   -1]"
      ]
     },
     "execution_count": 25,
     "metadata": {},
     "output_type": "execute_result"
    }
   ],
   "source": [
    "nullspace(m)[2]"
   ]
  },
  {
   "cell_type": "code",
   "execution_count": null,
   "id": "a15ab4f9-6bea-4581-950b-a348a013a4b6",
   "metadata": {},
   "outputs": [],
   "source": []
  },
  {
   "cell_type": "markdown",
   "id": "ec646285-2e57-403d-8a14-4244c62eeb41",
   "metadata": {},
   "source": [
    "# 3 Eigenvalues and Eigenspaces"
   ]
  },
  {
   "cell_type": "code",
   "execution_count": null,
   "id": "c95fd646-96b3-4f68-aaa2-b6e1b7adfbbd",
   "metadata": {},
   "outputs": [],
   "source": []
  },
  {
   "cell_type": "markdown",
   "id": "b3f96ebf-cf37-4619-b733-97dcae562bbd",
   "metadata": {},
   "source": [
    "# 4 Normalforms"
   ]
  },
  {
   "cell_type": "code",
   "execution_count": null,
   "id": "e7932e72-6e54-4b90-aeb9-5b957e160775",
   "metadata": {},
   "outputs": [],
   "source": []
  },
  {
   "cell_type": "code",
   "execution_count": null,
   "id": "78b29ecd-7954-40b9-b7cc-c1b5e965f509",
   "metadata": {},
   "outputs": [],
   "source": []
  },
  {
   "cell_type": "code",
   "execution_count": null,
   "id": "ab4cd49e-9d3a-4937-9bce-cf8db8d8e5d4",
   "metadata": {},
   "outputs": [],
   "source": []
  }
 ],
 "metadata": {
  "kernelspec": {
   "display_name": "Julia 1.10.5",
   "language": "julia",
   "name": "julia-1.10"
  },
  "language_info": {
   "file_extension": ".jl",
   "mimetype": "application/julia",
   "name": "julia",
   "version": "1.10.5"
  }
 },
 "nbformat": 4,
 "nbformat_minor": 5
}
