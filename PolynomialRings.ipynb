{
 "cells": [
  {
   "cell_type": "markdown",
   "id": "1c763df6-8ba9-4f91-b6e8-f87d9b125f33",
   "metadata": {},
   "source": [
    "# Polynomial Rings"
   ]
  },
  {
   "cell_type": "markdown",
   "id": "20aa55e9-4ba0-4d9e-982f-e8e1f27cf0a4",
   "metadata": {},
   "source": [
    "* Author: John Abbott, Martin Bies, Luca Remke, Hans Schönemann\n",
    "* Version: OSCAR version 1.0\n",
    "* Last modified: April 3, 2024"
   ]
  },
  {
   "cell_type": "markdown",
   "id": "3d20aa4c-83e2-4c8c-a608-da077b842759",
   "metadata": {},
   "source": [
    "This tutorial provides an introduction to commutative algebra in OSCAR.\n",
    "The aim is to describe the functionalities for multivariate rings and ideals in these rings and to explain them with minimal examples.\n",
    "In order to facilitate the introduction, some of the methods are not presented in their entirety.\n",
    "For a full description of the topic, see https://docs.oscar-system.org/stable/CommutativeAlgebra/intro/.\n",
    "\n",
    "The reader needs no prior knowledge of *OSCAR*.\n",
    "\n",
    "Content:\n",
    "1. [Creating Multivariate Polynomial Rings](#1.-Creating-Multivariate-Polynomial-Rings)\n",
    "   - [1.A Constructors](#1.A-Constructors)\n",
    "   - [1.B Coefficient Rings](#1.B-Coefficient-Rings)\n",
    "   - [1.C Interlude: Monomial Ordering](#1.C-Interlude:-Monomial-Ordering)\n",
    "2. [Graded Polynomial Rings](#2.-Graded-Polynomial-Rings)\n",
    "   - [2.A Constructors](#2.A-Constructors)\n",
    "   - [2.B Properties](#2.B-Properties)\n",
    "3. [Data Associated to Multivariate Rings](#3.-Data-Associated-to-Multivariate-Rings)\n",
    "4. [Multivariate Polynomials](#4.-Multivariate-Polynomials)\n",
    "   - [4.A Constructors](#4.A-Constructors)\n",
    "   - [4.B Special Polynomials](#4.B-Special-Polynomials)\n",
    "   - [4.C Data Associated to Elements of Multivariate Rings](#4.C-Data-Associated-to-Elements-of-Multivariate-Rings)\n",
    "5. [Homomorphisms of Multivariate Polynomial Rings](#5.-Homomorphisms-of-Multivariate-Polynomial-Rings)\n",
    "6. [Ideals in Multivariate Polynomial Rings](#6.-Ideals-in-Multivariate-Polynomial-Rings)\n",
    "   - [6.A Constructors](#6.A-Constructors)\n",
    "   - [6.B Data associated to Ideals](#6.B-Data-associated-to-Ideals)\n",
    "   - [6.C Operations on Ideals](#6.C-Operations-on-Ideals)\n",
    "   - [6.D Properties of Ideals](#6.D-Properties-of-Ideals)\n",
    "   - [6.E Decomposition of Ideals](#6.E-Decomposition-of-Ideals)\n",
    "7. [Homogenization and Dehomogenization](#7.-Homogenization-and-Dehomogenization)\n",
    "   - [7.A Homogenization](#7.A-Homogenization)\n",
    "   - [7.B Dehomogenization](#7.B-Dehomogenization)\n",
    "   - [7.C Examples](#7.C-Examples)\n",
    "8. [Generating Special Ideals](#8.-Generating-Special-Ideals)\n",
    "9. [Gröbner basis](#9.-Gröbner-basis)"
   ]
  },
  {
   "cell_type": "code",
   "execution_count": 1,
   "id": "1b8cd594-1019-4fa6-a6f3-2fbe7059779b",
   "metadata": {},
   "outputs": [
    {
     "name": "stdout",
     "output_type": "stream",
     "text": [
      "  ___   ____   ____    _    ____\n",
      " / _ \\ / ___| / ___|  / \\  |  _ \\   |  Combining ANTIC, GAP, Polymake, Singular\n",
      "| | | |\\___ \\| |     / _ \\ | |_) |  |  Type \"?Oscar\" for more information\n",
      "| |_| | ___) | |___ / ___ \\|  _ <   |  Manual: https://docs.oscar-system.org\n",
      " \\___/ |____/ \\____/_/   \\_\\_| \\_\\  |  Version 1.0.0\n"
     ]
    }
   ],
   "source": [
    "using Oscar"
   ]
  },
  {
   "cell_type": "markdown",
   "id": "7bcd1782-6c8b-488d-a9ff-ac6405d6af45",
   "metadata": {},
   "source": [
    "# 1. Creating Polynomial Rings\n",
    "\n",
    "**Word of caution**: The words \"generators\" and \"variables\" are used interchangably in the following tutorial.\n",
    "\n",
    "## 1.A Constructors\n",
    "\n",
    "For reasons of simplicity, we begin by creating polynomial rings with integer coefficients. However, *OSCAR* can also handle different coefficient rings. More on this in [1.B Coefficient Rings](#1.B-Coefficient-Rings)."
   ]
  },
  {
   "cell_type": "markdown",
   "id": "464ea8f1-b901-4709-9d3c-41e92f1b6cad",
   "metadata": {},
   "source": [
    "### Univariate Polynomial Rings"
   ]
  },
  {
   "cell_type": "markdown",
   "id": "9d477707-5058-4837-8850-178e1c212f44",
   "metadata": {},
   "source": [
    "While the majority of the following text focuses on multivariate polynomial rings, we would like to point out a few constructors for univariate polynomial rings first. Let us focus on $R = \\mathbb{Q}[u]$. This ring is created by the following line in *OSCAR*:"
   ]
  },
  {
   "cell_type": "code",
   "execution_count": 2,
   "id": "8990737d-1979-480e-af41-5d0406532628",
   "metadata": {},
   "outputs": [
    {
     "data": {
      "text/plain": [
       "(Univariate polynomial ring in u over QQ, u)"
      ]
     },
     "execution_count": 2,
     "metadata": {},
     "output_type": "execute_result"
    }
   ],
   "source": [
    "R, u = polynomial_ring(QQ, \"u\")"
   ]
  },
  {
   "cell_type": "markdown",
   "id": "9ea510bf-c181-40a2-a1c0-03ba813e6533",
   "metadata": {},
   "source": [
    "Note that the method *polynomial_ring* always returns a tuple consisting of the ring in question and the generator corresponding to the string provided. Namely"
   ]
  },
  {
   "cell_type": "code",
   "execution_count": 3,
   "id": "43fbbb03-35d3-43fd-b712-2c65b3deb6e1",
   "metadata": {},
   "outputs": [
    {
     "data": {
      "text/plain": [
       "QQPolyRingElem"
      ]
     },
     "execution_count": 3,
     "metadata": {},
     "output_type": "execute_result"
    }
   ],
   "source": [
    "typeof(u)"
   ]
  },
  {
   "cell_type": "code",
   "execution_count": 4,
   "id": "d4c23aed-4917-45ff-ab49-6ef42a044d4b",
   "metadata": {},
   "outputs": [
    {
     "data": {
      "text/plain": [
       "true"
      ]
     },
     "execution_count": 4,
     "metadata": {},
     "output_type": "execute_result"
    }
   ],
   "source": [
    "parent(u) == R"
   ]
  },
  {
   "cell_type": "markdown",
   "id": "cdc6df0b-1ca0-49c1-81a7-c0d4a8828dc6",
   "metadata": {},
   "source": [
    "The reader may recall that univariate polynomial rings have different properties than multivariate polynomial rings. Think for instance of the maximal ideals in $\\mathbb{C} \\left[ x \\right]$ versus $\\mathbb{C} \\left[ x, y \\right]$. Consequently, an object of type \"Univariate polynomial ring\" in *OSCAR* has different properties from one of type \"Multivariate polynomial ring\". Therefore, be careful when you use the following alternative constructor:"
   ]
  },
  {
   "cell_type": "code",
   "execution_count": 5,
   "id": "8982590d-d665-470f-82ac-8cbdec9911e5",
   "metadata": {},
   "outputs": [
    {
     "data": {
      "text/plain": [
       "(Multivariate polynomial ring in 1 variable over QQ, QQMPolyRingElem[x1])"
      ]
     },
     "execution_count": 5,
     "metadata": {},
     "output_type": "execute_result"
    }
   ],
   "source": [
    "polynomial_ring(QQ, 1)"
   ]
  },
  {
   "cell_type": "markdown",
   "id": "4f3693c7-b511-4782-baeb-b821c28f8f0f",
   "metadata": {},
   "source": [
    "Note the difference. The last line create an instance of the type \"Multivariate polynomal ring\" in *OSCAR*, whereas the ring R created above is of type \"Univariate polynomial ring\". In other words, if you truly want to work with a univariate polynomial ring, consider using the constructor used in creating the R, i.e. use"
   ]
  },
  {
   "cell_type": "code",
   "execution_count": 6,
   "id": "29d69455-d70c-461e-b164-0ea635240e32",
   "metadata": {},
   "outputs": [],
   "source": [
    "R, u = polynomial_ring(QQ, \"u\");"
   ]
  },
  {
   "cell_type": "markdown",
   "id": "4ff6948a-b457-4480-a963-f010869353fd",
   "metadata": {},
   "source": [
    "### Multivariate Polynomial Rings With Explicit Generator Names"
   ]
  },
  {
   "cell_type": "markdown",
   "id": "2ab8aef3-e0d4-4f61-b885-10ca27c80657",
   "metadata": {},
   "source": [
    "Let us now look at the ring $R = \\mathbb{Z} \\left[ x, y, z \\right]$. We can create this ring in *OSCAR* as follows:"
   ]
  },
  {
   "cell_type": "code",
   "execution_count": 7,
   "id": "282b95f1",
   "metadata": {},
   "outputs": [
    {
     "data": {
      "text/plain": [
       "(Multivariate polynomial ring in 3 variables over ZZ, ZZMPolyRingElem[x, y, z])"
      ]
     },
     "execution_count": 7,
     "metadata": {},
     "output_type": "execute_result"
    }
   ],
   "source": [
    "R2, (x, y, z) = polynomial_ring(ZZ, [\"x\", \"y\", \"z\"])"
   ]
  },
  {
   "cell_type": "markdown",
   "id": "086933db-9891-404b-882b-de6a50ea8379",
   "metadata": {},
   "source": [
    "Recall that the method *polynomial_ring* returns a tuple, consisting of the ring in question and the generators. Here, the generators are returned as a vector corresponding to the strings provided."
   ]
  },
  {
   "cell_type": "code",
   "execution_count": 8,
   "id": "c42e595a-82be-4e08-a856-b273e0ca38d2",
   "metadata": {},
   "outputs": [
    {
     "data": {
      "text/plain": [
       "true"
      ]
     },
     "execution_count": 8,
     "metadata": {},
     "output_type": "execute_result"
    }
   ],
   "source": [
    "parent(x) == R2"
   ]
  },
  {
   "cell_type": "markdown",
   "id": "8a8eb827-5141-42fd-a6ff-d7230ca063aa",
   "metadata": {},
   "source": [
    "To make this constructor more convenient, *OSCAR* also provides a shortcut:"
   ]
  },
  {
   "cell_type": "code",
   "execution_count": 9,
   "id": "56ec718a-5c24-4dc4-a273-95caf32415c1",
   "metadata": {},
   "outputs": [
    {
     "data": {
      "text/plain": [
       "(Multivariate polynomial ring in 3 variables over ZZ, ZZMPolyRingElem[x, y, z])"
      ]
     },
     "execution_count": 9,
     "metadata": {},
     "output_type": "execute_result"
    }
   ],
   "source": [
    "R2, (x, y, z) = ZZ[\"x\", \"y\", \"z\"]"
   ]
  },
  {
   "cell_type": "markdown",
   "id": "ad6521e0-d725-4df8-996c-5308d103af07",
   "metadata": {},
   "source": [
    "### Multivariate Polynomial Rings With Large Number Of Generators\n",
    "\n",
    "Let us look into a somewhat more extreme example and assume that you want to create the polynomial ring $R_3 = \\mathbb{Z} \\left[ x_1, \\dots, x_{400} \\right]$. Arguably, you do not want to type in the 400 variable names. And indeed, there are better ways to handle this in *OSCAR*.\n",
    "\n",
    "The first, but rather cumbersome, method involves first creating a list of all generators."
   ]
  },
  {
   "cell_type": "code",
   "execution_count": 10,
   "id": "fc1568a3-9768-4ba3-bab1-eb1aee258984",
   "metadata": {},
   "outputs": [
    {
     "data": {
      "text/plain": [
       "400-element Vector{String}:\n",
       " \"x1\"\n",
       " \"x2\"\n",
       " \"x3\"\n",
       " \"x4\"\n",
       " \"x5\"\n",
       " \"x6\"\n",
       " \"x7\"\n",
       " \"x8\"\n",
       " \"x9\"\n",
       " \"x10\"\n",
       " \"x11\"\n",
       " \"x12\"\n",
       " \"x13\"\n",
       " ⋮\n",
       " \"x389\"\n",
       " \"x390\"\n",
       " \"x391\"\n",
       " \"x392\"\n",
       " \"x393\"\n",
       " \"x394\"\n",
       " \"x395\"\n",
       " \"x396\"\n",
       " \"x397\"\n",
       " \"x398\"\n",
       " \"x399\"\n",
       " \"x400\""
      ]
     },
     "execution_count": 10,
     "metadata": {},
     "output_type": "execute_result"
    }
   ],
   "source": [
    "generators = [join([\"x\", string(k)]) for k in 1:400]"
   ]
  },
  {
   "cell_type": "markdown",
   "id": "35c422ea-2676-42bf-a964-181c8654bdcc",
   "metadata": {},
   "source": [
    "Alternatively, the following line creates the exact same list. The only difference is that it uses string interpolation, a method commonly used in *Julia*."
   ]
  },
  {
   "cell_type": "code",
   "execution_count": 11,
   "id": "774c59e5-287e-4bd6-9e5b-1010ca626b0c",
   "metadata": {},
   "outputs": [],
   "source": [
    "generators = [\"x$(k)\" for k in 1:400];"
   ]
  },
  {
   "cell_type": "markdown",
   "id": "1a15a0c9-c65d-4a53-aecb-41c7297a8e75",
   "metadata": {},
   "source": [
    "String interpolation is rather flexbible. We can modify the above line to customize the variable names a lot. For example, say we want it to be \"x_[k]\" where k is an even number between 2 and 800, then we can achieve this as follows:"
   ]
  },
  {
   "cell_type": "code",
   "execution_count": 12,
   "id": "035412e9-2c4a-4273-89fd-9b3d91ac114c",
   "metadata": {},
   "outputs": [
    {
     "data": {
      "text/plain": [
       "400-element Vector{String}:\n",
       " \"x_[2]\"\n",
       " \"x_[4]\"\n",
       " \"x_[6]\"\n",
       " \"x_[8]\"\n",
       " \"x_[10]\"\n",
       " \"x_[12]\"\n",
       " \"x_[14]\"\n",
       " \"x_[16]\"\n",
       " \"x_[18]\"\n",
       " \"x_[20]\"\n",
       " \"x_[22]\"\n",
       " \"x_[24]\"\n",
       " \"x_[26]\"\n",
       " ⋮\n",
       " \"x_[778]\"\n",
       " \"x_[780]\"\n",
       " \"x_[782]\"\n",
       " \"x_[784]\"\n",
       " \"x_[786]\"\n",
       " \"x_[788]\"\n",
       " \"x_[790]\"\n",
       " \"x_[792]\"\n",
       " \"x_[794]\"\n",
       " \"x_[796]\"\n",
       " \"x_[798]\"\n",
       " \"x_[800]\""
      ]
     },
     "execution_count": 12,
     "metadata": {},
     "output_type": "execute_result"
    }
   ],
   "source": [
    "generators_even_index = [\"x_[$(2*k)]\" for k in 1:400]"
   ]
  },
  {
   "cell_type": "markdown",
   "id": "0eee7a22-db68-4c4d-83ca-f6eb65fd3379",
   "metadata": {},
   "source": [
    "The list of generators names can be passed into the constructor of polynomial ring:"
   ]
  },
  {
   "cell_type": "code",
   "execution_count": 13,
   "id": "64ba6b63-f171-48ae-a925-e23bb7f36ee5",
   "metadata": {},
   "outputs": [
    {
     "data": {
      "text/plain": [
       "(Multivariate polynomial ring in 400 variables over ZZ, ZZMPolyRingElem[x1, x2, x3, x4, x5, x6, x7, x8, x9, x10  …  x391, x392, x393, x394, x395, x396, x397, x398, x399, x400])"
      ]
     },
     "execution_count": 13,
     "metadata": {},
     "output_type": "execute_result"
    }
   ],
   "source": [
    "R3, _ = polynomial_ring(ZZ, generators)"
   ]
  },
  {
   "cell_type": "code",
   "execution_count": 14,
   "id": "1100b7e2-724b-4fd8-9687-89b9aa292f51",
   "metadata": {},
   "outputs": [
    {
     "data": {
      "text/plain": [
       "(Multivariate polynomial ring in 400 variables over ZZ, ZZMPolyRingElem[x_[2], x_[4], x_[6], x_[8], x_[10], x_[12], x_[14], x_[16], x_[18], x_[20]  …  x_[782], x_[784], x_[786], x_[788], x_[790], x_[792], x_[794], x_[796], x_[798], x_[800]])"
      ]
     },
     "execution_count": 14,
     "metadata": {},
     "output_type": "execute_result"
    }
   ],
   "source": [
    "R3_even_index, _ = polynomial_ring(ZZ, generators_even_index)"
   ]
  },
  {
   "cell_type": "markdown",
   "id": "34574ecd-2938-4378-814a-bcbdfd9b7114",
   "metadata": {},
   "source": [
    "While cumbersome, this approach can be super useful in case the desired generator names do not follow a well-defined pattern.\n",
    "\n",
    "However, in staying with the example of the ring $R_3 = \\mathbb{Z} \\left[ x_1, \\dots, x_{400} \\right]$, there is a convenient shortcut."
   ]
  },
  {
   "cell_type": "code",
   "execution_count": 15,
   "id": "034776b4-3d45-4b25-9d50-bb65176d79f1",
   "metadata": {},
   "outputs": [
    {
     "data": {
      "text/plain": [
       "(Multivariate polynomial ring in 400 variables over ZZ, ZZMPolyRingElem[x1, x2, x3, x4, x5, x6, x7, x8, x9, x10  …  x391, x392, x393, x394, x395, x396, x397, x398, x399, x400])"
      ]
     },
     "execution_count": 15,
     "metadata": {},
     "output_type": "execute_result"
    }
   ],
   "source": [
    "R3, _ = polynomial_ring(ZZ, 400)"
   ]
  },
  {
   "cell_type": "markdown",
   "id": "c26134ce-ed82-4f23-9823-8397f6fc609b",
   "metadata": {},
   "source": [
    "### Multivariate Polynomial Rings with Multi-Index Generator Names"
   ]
  },
  {
   "cell_type": "markdown",
   "id": "3de6164b-278e-4449-a1c0-013c8a5b885a",
   "metadata": {},
   "source": [
    "In some applications, it is helpful to variables indexed by multiple values. Here is an example."
   ]
  },
  {
   "cell_type": "code",
   "execution_count": 16,
   "id": "c78764c3",
   "metadata": {},
   "outputs": [
    {
     "data": {
      "text/plain": [
       "(Multivariate polynomial ring in 9 variables over QQ, QQMPolyRingElem[x[1, 1] x[1, 2] x[1, 3]; x[2, 1] x[2, 2] x[2, 3]], QQMPolyRingElem[y[1], y[2]], [z[1, 1, 1];;;])"
      ]
     },
     "execution_count": 16,
     "metadata": {},
     "output_type": "execute_result"
    }
   ],
   "source": [
    "R4, x, y, z = polynomial_ring(QQ, \"x\" => (1:2, 1:3), \"y\" => 1:2, \"z\" => (1:1, 1:1, 1:1))"
   ]
  },
  {
   "cell_type": "markdown",
   "id": "5d97c9ed-30ed-458d-a012-5c1b574974a8",
   "metadata": {},
   "source": [
    "**Careful**: In contrast to the above constructors, note that here we have **not** used round brackets to group x, y, z on the LHS of the equality sign.\n",
    "\n",
    "We can now access the variables/generators:"
   ]
  },
  {
   "cell_type": "code",
   "execution_count": 17,
   "id": "1e9bec4b-98a5-457d-b687-def9b6f35a0b",
   "metadata": {},
   "outputs": [
    {
     "data": {
      "text/plain": [
       "x[2, 3]"
      ]
     },
     "execution_count": 17,
     "metadata": {},
     "output_type": "execute_result"
    }
   ],
   "source": [
    "x[2, 3]"
   ]
  },
  {
   "cell_type": "code",
   "execution_count": 18,
   "id": "65b65569-45c5-4eed-8a43-4380da66b625",
   "metadata": {},
   "outputs": [
    {
     "data": {
      "text/plain": [
       "y[1]"
      ]
     },
     "execution_count": 18,
     "metadata": {},
     "output_type": "execute_result"
    }
   ],
   "source": [
    "y[1]"
   ]
  },
  {
   "cell_type": "code",
   "execution_count": 19,
   "id": "1a8fb8e0-d3f0-4c3a-9460-6f128b3b8140",
   "metadata": {},
   "outputs": [
    {
     "data": {
      "text/plain": [
       "z[1, 1, 1]"
      ]
     },
     "execution_count": 19,
     "metadata": {},
     "output_type": "execute_result"
    }
   ],
   "source": [
    "z[1, 1, 1]"
   ]
  },
  {
   "cell_type": "markdown",
   "id": "314b6303-8c22-44df-a60f-76df955dc8f4",
   "metadata": {},
   "source": [
    "Note that `z[1, 1, 2]` will cause an out-of-bounds error."
   ]
  },
  {
   "cell_type": "markdown",
   "id": "2a52111d-3ca0-4305-bc25-09d1242299a1",
   "metadata": {},
   "source": [
    "It is strongly recommended that you use index ranges that start at 1. Otherwise, you run into unexpected behaviors. For an example, see the following:"
   ]
  },
  {
   "cell_type": "code",
   "execution_count": 20,
   "id": "59786d5f-5a80-429f-a232-98693cf4a158",
   "metadata": {},
   "outputs": [
    {
     "data": {
      "text/plain": [
       "(Multivariate polynomial ring in 6 variables over QQ, QQMPolyRingElem[x[2, 2] x[2, 3] x[2, 4]; x[3, 2] x[3, 3] x[3, 4]])"
      ]
     },
     "execution_count": 20,
     "metadata": {},
     "output_type": "execute_result"
    }
   ],
   "source": [
    "R5, x = polynomial_ring(QQ, \"x\" => (2:3, 2:4))"
   ]
  },
  {
   "cell_type": "markdown",
   "id": "5a27783f-4bbd-4b14-8dd4-677280e66322",
   "metadata": {},
   "source": [
    "Now, you would expect that typing x[2,2] returns x[2,2]. Brace for impact, for we obtain the following:"
   ]
  },
  {
   "cell_type": "code",
   "execution_count": 21,
   "id": "cf9718d4-1712-408a-9ffb-ca557421d780",
   "metadata": {},
   "outputs": [
    {
     "data": {
      "text/plain": [
       "x[3, 3]"
      ]
     },
     "execution_count": 21,
     "metadata": {},
     "output_type": "execute_result"
    }
   ],
   "source": [
    "x[2, 2]"
   ]
  },
  {
   "cell_type": "markdown",
   "id": "ad59f803-321c-4911-beca-21ca19c9b5b2",
   "metadata": {},
   "source": [
    "So we observe an overall shift by (1,1). Use with care, and avoid if you can!"
   ]
  },
  {
   "cell_type": "markdown",
   "id": "238ee1df-551d-4e51-89cc-44cfd3b6b35a",
   "metadata": {},
   "source": [
    "## 1.B Coefficient Rings"
   ]
  },
  {
   "cell_type": "markdown",
   "id": "b83f760e",
   "metadata": {},
   "source": [
    "In *OSCAR*, various fields and rings can be used as coefficient ring of univariate/multivariate polynomial rings. This includes (but is not necessarily limited to) the following:\n",
    "- Ring of integers $\\mathbb{Z}$ via `ZZ`\n",
    "- Field of rational numbers $\\mathbb{Q}$ via `QQ`\n",
    "- Finite fields $\\mathbb{F}_p$ with prime $p$ via `GF(p)` or `finite_field(p)`\n",
    "- Finite fields $\\mathbb{F}_{p^n}$ with $p^n$ elements and prime $p$ via `GF(p, n)` or `finite_field(p, n)`\n",
    "- Simple algebraic extensions of $\\mathbb{Q}$ or $\\mathbb{F}_p$\n",
    "- Purely transcendental extensions of $\\mathbb{Q}$ or $\\mathbb{F}_p$\n",
    "\n",
    "For the construction of finite fields and algebraic or transcendental extensions the following methods are used:\n",
    "\n",
    "| Method |\n",
    "| :----------- |\n",
    "| `NumberField(f::fmpq_poly, s::Union{AbstractString, Char, Symbol}; cached::Bool = true, check::Bool = true)` |\n",
    "| `NumberField(f::Poly{NumFieldElem}, s::String; cached::Bool = false, check::Bool = false) -> NumField, NumFieldElem` |\n",
    "| `fraction_field(R::Ring; cached=true)` |\n",
    "\n",
    "- `FlintFiniteField`: Returns a tuple $(S,x)$ consisting of a finite field $S$ with characteristic `char` and positive degree `d` and a generator $x$. The characteristic must be a prime. If a Conway polynomial is known, the field is generated with this polynomial, otherwise a random sparse irreducible polynomial is used. The parameter `s` determines how the name of the generator $x$ is printed. Instead of `FlintFiniteField` the shorter `FiniteField` can be used.\n",
    "<br></br>\n",
    "- `NumberField`: Returns a tuple $(R, x)$ consisting of the algebraic number field $\\mathbb{Q}[x]/(f)$, where `f` is the specified polynomial, and the generator $x$. The string `s` specifies how the name of the generator $x$ is printed.\n",
    "<br></br>\n",
    "- `NumberField`: Returns a tuple $(L, b)$ consisting of the simple algebraic number field $L = K[x]/(f)$ and the class `b` of $x$ in $L$. Here `f` is an irreducible polynomial in $K[x]$ over a number field $K$. The string `s` specifies how the primitive element $b$ is printed.\n",
    "<br></br>\n",
    "- `fraction_field`: Returns the field of fractions of the ring `R`.\n",
    "\n",
    "Let us exemplify this functionality:"
   ]
  },
  {
   "cell_type": "markdown",
   "id": "7f00586d-484a-4e54-be97-6e12ac7fb9e4",
   "metadata": {},
   "source": [
    "Let us begin by creating a multivariate polynomial ring over $\\mathbb{Q}$:"
   ]
  },
  {
   "cell_type": "code",
   "execution_count": 22,
   "id": "7f05f43e-6106-45a2-a931-985400661f83",
   "metadata": {},
   "outputs": [
    {
     "data": {
      "text/plain": [
       "(Multivariate polynomial ring in 2 variables over QQ, QQMPolyRingElem[x, y])"
      ]
     },
     "execution_count": 22,
     "metadata": {},
     "output_type": "execute_result"
    }
   ],
   "source": [
    "polynomial_ring(QQ, [\"x\", \"y\"])"
   ]
  },
  {
   "cell_type": "markdown",
   "id": "8d61d8e3-a14a-4137-86b7-820a71e5dfad",
   "metadata": {},
   "source": [
    "If we care for the prime field GF(3) instead, here is how we create $\\mathbb{F}_3[u,v]$ and the vector of its generators."
   ]
  },
  {
   "cell_type": "code",
   "execution_count": 23,
   "id": "cc779a77",
   "metadata": {},
   "outputs": [
    {
     "data": {
      "text/plain": [
       "(Multivariate polynomial ring in 2 variables over GF(3), FqMPolyRingElem[u, v])"
      ]
     },
     "execution_count": 23,
     "metadata": {},
     "output_type": "execute_result"
    }
   ],
   "source": [
    "GF(3)[\"u\", \"v\"]"
   ]
  },
  {
   "cell_type": "markdown",
   "id": "a7701d28-44a1-4650-b16f-9076439fe82f",
   "metadata": {},
   "source": [
    "In a slight extension, let us create the degree 70 extension of $\\mathbb{F}_2$ (as well as its generator):"
   ]
  },
  {
   "cell_type": "code",
   "execution_count": 24,
   "id": "1553accc",
   "metadata": {},
   "outputs": [
    {
     "data": {
      "text/plain": [
       "(Finite field of degree 70 and characteristic 2, a)"
      ]
     },
     "execution_count": 24,
     "metadata": {},
     "output_type": "execute_result"
    }
   ],
   "source": [
    "GF_2_70, _ = finite_field(2, 70, \"a\")"
   ]
  },
  {
   "cell_type": "markdown",
   "id": "50c9b385-81a0-4b1e-a16d-d20f1ffb2c0a",
   "metadata": {},
   "source": [
    "**Crucial**: Note the \", _\". This ensures that the julia variable \"GF_2_70\" is associated only to the field, not to the generator. If you do not insert \", _\" in the above line, then the executation of `polynomial_ring(GF_2_70, 20)` will error. In other words, only because of the \", _\" above, the following line works."
   ]
  },
  {
   "cell_type": "code",
   "execution_count": 25,
   "id": "e825c4b5-f49f-4284-99cf-49cbda6e6fe7",
   "metadata": {},
   "outputs": [
    {
     "data": {
      "text/plain": [
       "(Multivariate polynomial ring in 20 variables over GF(2, 70), FqMPolyRingElem[x1, x2, x3, x4, x5, x6, x7, x8, x9, x10, x11, x12, x13, x14, x15, x16, x17, x18, x19, x20])"
      ]
     },
     "execution_count": 25,
     "metadata": {},
     "output_type": "execute_result"
    }
   ],
   "source": [
    "polynomial_ring(GF_2_70, 20)"
   ]
  },
  {
   "cell_type": "markdown",
   "id": "51c083cc-dc1e-4752-a052-5375d51e561b",
   "metadata": {},
   "source": [
    "The constructors for algebraic extensions take a (minimal) polynomial and a name (provided as string) and return a pair being the extension field and the generator. Let us give two examples:"
   ]
  },
  {
   "cell_type": "code",
   "execution_count": 26,
   "id": "3c1616b9",
   "metadata": {},
   "outputs": [
    {
     "data": {
      "text/plain": [
       "(Finite field of degree 2 and characteristic 3, a)"
      ]
     },
     "execution_count": 26,
     "metadata": {},
     "output_type": "execute_result"
    }
   ],
   "source": [
    "T, t = polynomial_ring(GF(3), \"t\")\n",
    "K, a = finite_field(t^2 + 1, \"a\")"
   ]
  },
  {
   "cell_type": "code",
   "execution_count": 27,
   "id": "1271cece-44c8-4bca-a617-036e16b22fb1",
   "metadata": {},
   "outputs": [
    {
     "data": {
      "text/plain": [
       "(Number field of degree 2 over QQ, a)"
      ]
     },
     "execution_count": 27,
     "metadata": {},
     "output_type": "execute_result"
    }
   ],
   "source": [
    "T, t = polynomial_ring(QQ, \"t\")\n",
    "K2, a = number_field(t^2 + 1, \"a\")"
   ]
  },
  {
   "cell_type": "markdown",
   "id": "26d5f6de-8c5b-41b9-9611-55d31b3a6e0d",
   "metadata": {},
   "source": [
    "In comparsion, the constructor for a field of fractions returns just the field (as there is no generator)."
   ]
  },
  {
   "cell_type": "code",
   "execution_count": 28,
   "id": "0fd496d2",
   "metadata": {},
   "outputs": [
    {
     "data": {
      "text/plain": [
       "Fraction field\n",
       "  of univariate polynomial ring in t over QQ"
      ]
     },
     "execution_count": 28,
     "metadata": {},
     "output_type": "execute_result"
    }
   ],
   "source": [
    "T, t = polynomial_ring(QQ, \"t\")\n",
    "QT = fraction_field(T)"
   ]
  },
  {
   "cell_type": "markdown",
   "id": "b973811d-76f5-49e2-8c7c-465aa0bdd687",
   "metadata": {},
   "source": [
    "And of course, you can employ any of them as the coefficient ring/field of your polynomial ring."
   ]
  },
  {
   "cell_type": "code",
   "execution_count": 29,
   "id": "e746aa38-2c18-461d-b5af-59376c852a58",
   "metadata": {},
   "outputs": [
    {
     "data": {
      "text/plain": [
       "(Multivariate polynomial ring in 3 variables over fraction field, AbstractAlgebra.Generic.MPoly{AbstractAlgebra.Generic.FracFieldElem{QQPolyRingElem}}[a, b, c])"
      ]
     },
     "execution_count": 29,
     "metadata": {},
     "output_type": "execute_result"
    }
   ],
   "source": [
    "polynomial_ring(QT, [\"a\", \"b\", \"c\"])"
   ]
  },
  {
   "cell_type": "markdown",
   "id": "bc667fe5-493f-48cb-a1e5-1934b0f4e48a",
   "metadata": {},
   "source": [
    "## 1.C Interlude: Monomial Ordering"
   ]
  },
  {
   "cell_type": "markdown",
   "id": "a41f5acd-693d-4fbf-a226-d085d94d1f39",
   "metadata": {},
   "source": [
    "In *OSCAR*, multivariate polynomial rings are constructed using:\n",
    "\n",
    "| Method |\n",
    "| :----------- |\n",
    "| `polynomial_ring(C::Ring, var_names::Vector{String}; ordering=:lex, cached = true)` |\n",
    "\n",
    "This method returns a tuple `R, vars` consisting of a polynomial ring `R` with coefficient ring `C` and a vector `vars` of generators corresponding to the strings in vector `var_names`. \n",
    "\n",
    "The optional parameter `ordering` defines the monomial order. The default value `lex`. Caching is used to ensure that a constructed ring is unique in the system. The default value is `true`. For new users, we suggest to not use these optional parameters. More details are given in [1.B Interlude: Monomial Ordering](#1.B-Interlude:-Monomial-Ordering).\n",
    "\n",
    "Each multivariate polynomial ring in `OSCAR` comes equipped with a monomial ordering according to which the polynomials are stored and displayed. Independently of this ordering, Gröbner bases and, more generally, standard bases can be computed with respect to any monomial ordering: The `groebner_basis` and `standard_basis` functions provided by `OSCAR` allow one to specify the desired monomial `ordering` as a keyword argument. Typically, however, the user does not have to worry about Gröbner (standard) bases: The functions discussed in this chapter compute such bases behind the scenes when needed. Once computed, each such basis is cached for later reuse.\n",
    "\n",
    "Multivariate polynomial rings can also be graded. Most of the functions that follow apply to both graded and non-graded cases. We will usually only consider the non-graded case when giving minimal examples.\n",
    "\n",
    "### Optional argument...\n",
    "\n",
    "... should be avoided by new-comers. This includes cached, ordering (internal_order), etc.\n"
   ]
  },
  {
   "cell_type": "markdown",
   "id": "c44bf613",
   "metadata": {},
   "source": [
    "# 2. Graded Polynomial Rings\n",
    "\n",
    "In the following, a ring $R$ which is graded by a finitely presented group $G$ is also called *$G$-graded* or *graded* and the group $G$ is called *graded group*. If $R$ is a polynomial ring over a field, a $G$-graded on $R$ is called *positive* if $G$ is free and each graded part $R_g, g \\in G$ is of finite dimension. In this case $R$ is *positively graded*. Thus, with respect to OSCAR, we call a `G`-graded ring `R` *$\\mathbb{Z}^m$-graded* if `is_free(G) && ngens(G) == rank(G) == m` evaluates to `true`. In this case we can identify elements of `G` and integer vectors of length `m`.\n",
    "\n",
    "## 2.A Constructors\n",
    "\n",
    "There are two ways to create multivariate rings with grading:\n",
    "\n",
    "1. With `grade` a graduation is assigned to an already defined polynomial ring:\n",
    "\n",
    "| Method |\n",
    "| :----------- |\n",
    "| `grade(R::MPolyRing, W::Vector{GrpAbFinGenElem})` |\n",
    "| `grade(R::MPolyRing, W::Vector{<:Vector{<:IntegerUnion}})` |\n",
    "| `grade(R::MPolyRing, W::Union{ZZMatrix, Matrix{<:IntegerUnion}})` |\n",
    "| `grade(R::MPolyRing, W::Vector{<:IntegerUnion})` |\n",
    "| `grade(R::MPolyRing)` |\n",
    "\n",
    "In all cases, a graded ring is created together with the vector of its generators. \n",
    "For this purpose, a `G` grading on the ring `R` is defined from the vector `W` with `ngens(R)` elements of a group `G` by assigning weights to the generators corresponding to the entries of `W`. \n",
    "If integer vectors of the same length `m` are specified instead of group elements, a $\\mathbb{Z}^m$-grading is defined on the ring `R`. \n",
    "Without specifying `W`, `R` is assigned the standard $\\mathbb{Z}$-grading.\n",
    "\n",
    "2. With `graded_polynomial_ring` a polynomial ring is created together with a grading:\n",
    "\n",
    "| Method |\n",
    "| :----------- |\n",
    "| `graded_polynomial_ring(C::Ring, V::Vector{String}, W; ordering=:lex)` |\n",
    "| `graded_polynomial_ring(C::Ring, V::Vector{String}; ordering=:lex)` |\n",
    "\n",
    "The methods create a graded multivariate polynomial ring with coefficient ring `C` together with the vector of its generators whose names are determined by the strings in `V`. \n",
    "The grading of this ring is defined with the data provided by `W`, see `grade`. \n",
    "Without specifying `W`, `R` receives the standard $\\mathbb{Z}$-grading.\n",
    "\n",
    "Time for examples:"
   ]
  },
  {
   "cell_type": "code",
   "execution_count": 30,
   "id": "c1eeed27",
   "metadata": {},
   "outputs": [
    {
     "data": {
      "text/plain": [
       "(Graded multivariate polynomial ring in 3 variables over QQ, MPolyDecRingElem{QQFieldElem, QQMPolyRingElem}[t, x, y])"
      ]
     },
     "execution_count": 30,
     "metadata": {},
     "output_type": "execute_result"
    }
   ],
   "source": [
    "# polynomial ring Q[t,x,y]\n",
    "R, (t, x, y) = polynomial_ring(QQ, [\"t\", \"x\", \"y\"])\n",
    "\n",
    "# assigning a grading\n",
    "S, (t, x, y) = grade(R, [-1, 1, 1])"
   ]
  },
  {
   "cell_type": "code",
   "execution_count": 31,
   "id": "57f8298b",
   "metadata": {},
   "outputs": [
    {
     "data": {
      "text/plain": [
       "(Graded multivariate polynomial ring in 3 variables over QQ, MPolyDecRingElem{QQFieldElem, QQMPolyRingElem}[t, x, y])"
      ]
     },
     "execution_count": 31,
     "metadata": {},
     "output_type": "execute_result"
    }
   ],
   "source": [
    "# a graded polynomial ring\n",
    "T, (t, x, y) = graded_polynomial_ring(QQ, [\"t\", \"x\", \"y\"], [-1, 1, 1])"
   ]
  },
  {
   "cell_type": "markdown",
   "id": "8cae8e00",
   "metadata": {},
   "source": [
    "## 2.B Properties\n",
    "\n",
    "| Method | Description |\n",
    "| :----------- | :----------- |\n",
    "| `is_standard_graded(R::MPolyRing_dec)` | Checks whether `R` is standard-$\\mathbb{Z}$-graded. |\n",
    "| `is_z_graded(R::MPolyRing_dec)` | Checks whether `R` is $\\mathbb{Z}$-graded. |\n",
    "| `is_zm_graded(R::MPolyRing_dec)` | Checks whether `R` is $\\mathbb{Z}^m$-graded. |\n",
    "| `is_positively_graded(R::MPolyRing_dec)` | Checks whether `R` is positively graded. |\n",
    "\n",
    "##### Example"
   ]
  },
  {
   "cell_type": "code",
   "execution_count": 32,
   "id": "2eaf1926",
   "metadata": {},
   "outputs": [
    {
     "data": {
      "text/plain": [
       "(false, true, false)"
      ]
     },
     "execution_count": 32,
     "metadata": {},
     "output_type": "execute_result"
    }
   ],
   "source": [
    "T, (t, x, y) = graded_polynomial_ring(QQ, [\"t\", \"x\", \"y\"], [-1, 1, 1])\n",
    "(is_standard_graded(T), is_z_graded(T), is_positively_graded(T))"
   ]
  },
  {
   "cell_type": "markdown",
   "id": "534af32a",
   "metadata": {},
   "source": [
    "# 3. Data Associated to Multivariate Rings\n",
    "\n",
    "The following information can be retrieved for a multivariate polynomial ring `R` with coefficient ring `C`:\n",
    "\n",
    "| Method | Description |\n",
    "| :----------- | :----------- |\n",
    "| `coefficient_ring(R)` | Coefficient ring `C`. |\n",
    "| `gens(R)` | Generators (variables) of `R`. |\n",
    "| `ngens(R)` | Number of the generators of `R`. |\n",
    "| `gen(R, i)` | `i`-th generator of `R`. |\n",
    "\n",
    "In the graded case, we additionally have:\n",
    "\n",
    "| Method | Description |\n",
    "| :----------- | :----------- |\n",
    "| `grading_group(R::MPolyDecRing)` | `G`-grading of `R` |\n",
    "| `homogeneous_component(R::MPolyDecRing,g::GrpAbFinGenElem)` <br><br> `homogeneous_component(R::MPolyDecRing,g::Vector{<:IntegerUnion})` <br><br> `homogeneous_component(R::MPolyDecRing,g::IntegerUnion)` | Homogeneous component of the polynomial ring `R` of degree `g` together with the embedding of the components into `R`. The type of `g` depends on the grading of `R`. |\n",
    "\n",
    "Here are a few examples:"
   ]
  },
  {
   "cell_type": "code",
   "execution_count": 33,
   "id": "fd9ccb2f",
   "metadata": {},
   "outputs": [
    {
     "data": {
      "text/plain": [
       "(Rational field, QQMPolyRingElem[x, y, z], 3, x, y, z)"
      ]
     },
     "execution_count": 33,
     "metadata": {},
     "output_type": "execute_result"
    }
   ],
   "source": [
    "R, (x, y, z) = polynomial_ring(QQ, [\"x\", \"y\", \"z\"])\n",
    "(coefficient_ring(R), gens(R), ngens(R), gen(R, 1), gen(R, 2), gen(R, 3))"
   ]
  },
  {
   "cell_type": "code",
   "execution_count": 34,
   "id": "f4096f34",
   "metadata": {},
   "outputs": [
    {
     "data": {
      "text/plain": [
       "Z"
      ]
     },
     "execution_count": 34,
     "metadata": {},
     "output_type": "execute_result"
    }
   ],
   "source": [
    "R, (x, y, z) = graded_polynomial_ring(QQ, [\"x\", \"y\", \"z\"], [1, 2, 3])\n",
    "grading_group(R)"
   ]
  },
  {
   "cell_type": "code",
   "execution_count": 35,
   "id": "996dc26a",
   "metadata": {},
   "outputs": [
    {
     "data": {
      "text/plain": [
       "(R_[1] of dim 1, Map: R_[1] of dim 1 -> R)"
      ]
     },
     "execution_count": 35,
     "metadata": {},
     "output_type": "execute_result"
    }
   ],
   "source": [
    "R, (x, y, z) = graded_polynomial_ring(QQ, [\"x\", \"y\", \"z\"], [1, 2, 3])\n",
    "homogeneous_component(R, 1)"
   ]
  },
  {
   "cell_type": "markdown",
   "id": "d979bd8e",
   "metadata": {},
   "source": [
    "# 4. Multivariate Polynomials\n",
    "\n",
    "## 4.A Constructors\n",
    "\n",
    "There are the following possibilities for constructing elements of a polynomial ring:\n",
    "- Build up polynomials from the generators of the ring using basic arithmetic.\n",
    "- Use `MPolyBuildCtx(R::MPolyRing)`, returning a *build context*.\n",
    "- Use\n",
    "\n",
    "    | Method |\n",
    "    | :----------- |\n",
    "    | `(R::MPolyRing{T})(c::Vector{T}, e::Vector{Vector{Int}}) where T <: RingElem` |\n",
    "    \n",
    "    This generates an element of `R` with non-trivial coefficients given by the vector `c` and exponent vectors given by the elements of `e`.\n",
    "\n",
    "Time for examples:"
   ]
  },
  {
   "cell_type": "code",
   "execution_count": 36,
   "id": "8b7f0284",
   "metadata": {},
   "outputs": [
    {
     "data": {
      "text/plain": [
       "true"
      ]
     },
     "execution_count": 36,
     "metadata": {},
     "output_type": "execute_result"
    }
   ],
   "source": [
    "R, (x, y, z) = polynomial_ring(QQ, [\"x\", \"y\", \"z\"])\n",
    "\n",
    "# using basic arithmetic\n",
    "f = 3*x^2+y*z\n",
    "\n",
    "# Using the method\n",
    "g = R(QQ.([3, 1]), [[2, 0, 0], [0, 1, 1]])\n",
    "\n",
    "# Using MPolyBuildCtx\n",
    "B = MPolyBuildCtx(R)\n",
    "push_term!(B, 3, [2, 0, 0])\n",
    "push_term!(B, 1, [0, 1, 1])\n",
    "h = finish(B)\n",
    "\n",
    "f == g == h"
   ]
  },
  {
   "cell_type": "markdown",
   "id": "a38b2eb5",
   "metadata": {},
   "source": [
    "## 4.B Special Polynomials\n",
    "\n",
    "For a multivariate polynomial ring `R`, `zero(R)` and `one(R)` denote the additive and multiplicative neutral elements of `R`, respectively. \n",
    "With `is_zero(f)` or `is_one(f)` these can be checked for an element `f`.\n",
    "\n",
    "## 4.C Data Associated to Elements of Multivariate Rings\n",
    "\n",
    "The following information can be obtained from an element `f` of a multivariate ring `R`:\n",
    "\n",
    "| Method | Description |\n",
    "| :----------- | :----------- |\n",
    "| `parent(f)` | Ring `R`. |\n",
    "| `total_degree(f)` | Total degree of `f`. |\n",
    "| `monomial(f, i)` | `i`-th monomial of `f`. |\n",
    "| `term(f, i)` | `i`-th term of `f`. |\n",
    "| `coeff(f, i)` | `i`-th coefficient of `f`. |\n",
    "| `exponent_vector(f, i)` | Exponent vector of the `i`-th term of `f`. |\n",
    "\n",
    "Further functionality is available in the graded case:\n",
    "\n",
    "| Method | Description |\n",
    "| :----------- | :----------- |\n",
    "| `homogeneous_components(f::MPolyDecRingElem{T, S}) where {T, S}` <br><br> `homogeneous_component(f::MPolyDecRingElem,g::GrpAbFinGenElem)` <br><br> `homogeneous_component(f::MPolyDecRingElem,g::Vector{<:IntegerUnion})` <br><br> `homogeneous_component(f::MPolyDecRingElem, g::IntegerUnion)` | Homogeneous components of `f` of degree `g`. The type of `g` depends on the type of grading of `R`. |\n",
    "| `is_homogeneous(f::MPolyDecRingElem)` | Checks whether `f` is homogeneous. |\n",
    "| `degree(f::MPolyDecRingElem)` | Degree of `f`. |\n",
    "| `degree(::Type{Vector{Int}}, f::MPolyDecRingElem)` | Degree of a homogeneous element `f` of a $\\mathbb{Z}^m$-graded multivariate ring, converted to a vector of integer numbers. |\n",
    "| `degree(::Type{Int}, f::MPolyDecRingElem)` | Degree of a homogeneous element `f` of a $\\mathbb{Z}$-graded multivariate ring, converted to an integer number. |\n",
    "\n",
    "##### Example"
   ]
  },
  {
   "cell_type": "code",
   "execution_count": 37,
   "id": "40d91216",
   "metadata": {},
   "outputs": [
    {
     "data": {
      "text/plain": [
       "(2, 1, [0, 1, 1], y*z, y*z)"
      ]
     },
     "execution_count": 37,
     "metadata": {},
     "output_type": "execute_result"
    }
   ],
   "source": [
    "R, (x, y, z) = polynomial_ring(QQ, [\"x\", \"y\", \"z\"])\n",
    "f = 3*x^2 + y*z\n",
    "(total_degree(f), coeff(f, 2), exponent_vector(f, 2), monomial(f, 2), term(f, 2))"
   ]
  },
  {
   "cell_type": "code",
   "execution_count": 38,
   "id": "3b943bff",
   "metadata": {},
   "outputs": [
    {
     "data": {
      "text/plain": [
       "Dict{FinGenAbGroupElem, MPolyDecRingElem{QQFieldElem, QQMPolyRingElem}} with 2 entries:\n",
       "  [2] => 3*x^2\n",
       "  [5] => y*z"
      ]
     },
     "execution_count": 38,
     "metadata": {},
     "output_type": "execute_result"
    }
   ],
   "source": [
    "R, (x, y, z) = graded_polynomial_ring(QQ, [\"x\", \"y\", \"z\"], [1, 2, 3])\n",
    "f = 3*x^2 + y*z\n",
    "homogeneous_components(f)"
   ]
  },
  {
   "cell_type": "markdown",
   "id": "4d8c7157",
   "metadata": {},
   "source": [
    "# 5. Homomorphisms of Multivariate Polynomial Rings\n",
    "\n",
    "If $R$ is a multivariate polynomial ring, and $S$ is any ring, then a ring homomorphism $R \\rightarrow S$ is determined by specifying its restriction to the coefficient ring of $R$, and by assigning an image to each variable of $R$. \n",
    "In OSCAR, such homomorphisms are created by using the following constructor:\n",
    "\n",
    "| Method |\n",
    "| :----------- |\n",
    "| `hom(R::MPolyRing, S::NCRing, coeff_map, images::Vector; check::Bool = true)` |\n",
    "| `hom(R::MPolyRing, S::NCRing, images::Vector; check::Bool = true)` |\n",
    "\n",
    "\n",
    "Given a homomorphism `coeff_map` from `C` to `S`, where `C` is the coefficient ring of `R`, and given a vector `images` of `nvars(R)` elements of `S`, return the homomorphism from `R` to `S` whose restriction to `C` is `coeff_map`, and which sends the $i$-th variable of `R` to the $i$-th entry of `images`.\n",
    "\n",
    "If no coefficient map is entered, invoke a canonical homomorphism of `C` to `S`, if such a homomorphism exists, and throw an error, otherwise.\n",
    "\n",
    "In case `check = true` (default), the function checks the conditions below:\n",
    "- If `S` is graded, the assigned images must be homogeneous with respect to the given grading.\n",
    "- If `S` is noncommutative, the assigned images must pairwise commute. \n",
    "\n",
    "If $F: R \\rightarrow S$ is a ring morphism, then `domain(F)`=`R` und `codomain(F)` = `S`.\n",
    "\n",
    "##### Example"
   ]
  },
  {
   "cell_type": "code",
   "execution_count": 39,
   "id": "65b35d55",
   "metadata": {
    "scrolled": true
   },
   "outputs": [
    {
     "data": {
      "text/plain": [
       "x^2 + 1"
      ]
     },
     "execution_count": 39,
     "metadata": {},
     "output_type": "execute_result"
    }
   ],
   "source": [
    "R, (x, y) = polynomial_ring(ZZ, [\"x\", \"y\"])\n",
    "f = 3*x^2 + 2*x + 1\n",
    "\n",
    "S, (x, y) = polynomial_ring(GF(2), [\"x\", \"y\"])\n",
    "\n",
    "# morphism from R to S\n",
    "H = hom(R, S, gens(S))\n",
    "H(f)"
   ]
  },
  {
   "cell_type": "markdown",
   "id": "1c87a4f9",
   "metadata": {},
   "source": [
    "# 6. Ideals in Multivariate Polynomial Rings\n",
    "\n",
    "## 6.A Constructors\n",
    "\n",
    "The construction of ideals in multivariate polynomial rings is done by the method:\n",
    "\n",
    "| Method |\n",
    "| :----------- |\n",
    "| `ideal(R::MPolyRing, g::Vector)` |\n",
    "\n",
    "where `g` is a vector of polynomials in the ring `R`. \n",
    "The return is the ideal generated by the polynomials. \n",
    "In the graded case these polynomials must be homogeneous.\n",
    "\n",
    "Here is an example:"
   ]
  },
  {
   "cell_type": "code",
   "execution_count": 40,
   "id": "196e9f10",
   "metadata": {},
   "outputs": [
    {
     "data": {
      "text/plain": [
       "Ideal generated by\n",
       "  x*y - 3*x\n",
       "  -2*x^2*y + y^3"
      ]
     },
     "execution_count": 40,
     "metadata": {},
     "output_type": "execute_result"
    }
   ],
   "source": [
    "R, (x, y) = polynomial_ring(QQ, [\"x\", \"y\"])\n",
    "I = ideal(R, [x*y-3*x, y^3-2*x^2*y])"
   ]
  },
  {
   "cell_type": "markdown",
   "id": "a5a07bc8",
   "metadata": {},
   "source": [
    "## 6.B Data associated to Ideals\n",
    "\n",
    "If `I` is an ideal of a multivariate polynomial ring `R`, then\n",
    "\n",
    "| Method | Description |\n",
    "| :----------- | :----------- |\n",
    "| `base_ring(I)` | `R`. |\n",
    "| `gens(I)` | Generators `I`. |\n",
    "| `ngens(I)` | Number of generator of `I`. |\n",
    "| `gen(I, k)` or `I[k]` | `k`-th generator of `I`. |\n",
    "| `dim(I::MPolyIdeal)` | Krull dimension of `I`. |\n",
    "| `codim(I::MPolyIdeal)` | Codimension of `I`. |\n",
    "| `minimal_generating_set(I::MPolyIdeal{<:MPolyDecRingElem})` | Array containing a minimal set of generators of `I`. |"
   ]
  },
  {
   "cell_type": "code",
   "execution_count": 41,
   "id": "454d60af",
   "metadata": {},
   "outputs": [
    {
     "data": {
      "text/plain": [
       "(Multivariate polynomial ring in 2 variables over QQ, QQMPolyRingElem[x^2, x*y, y^2], 3, x*y)"
      ]
     },
     "execution_count": 41,
     "metadata": {},
     "output_type": "execute_result"
    }
   ],
   "source": [
    "R, (x, y) = polynomial_ring(QQ, [\"x\", \"y\"])\n",
    "I = ideal(R, [x, y])^2\n",
    "(base_ring(I), gens(I), ngens(I), gen(I, 2))"
   ]
  },
  {
   "cell_type": "code",
   "execution_count": 42,
   "id": "72341880",
   "metadata": {},
   "outputs": [
    {
     "data": {
      "text/plain": [
       "(0, 3, MPolyDecRingElem{QQFieldElem, QQMPolyRingElem}[x, z^2, y^3])"
      ]
     },
     "execution_count": 42,
     "metadata": {},
     "output_type": "execute_result"
    }
   ],
   "source": [
    "R, (x, y, z) = graded_polynomial_ring(QQ, [\"x\", \"y\", \"z\"]);\n",
    "V = [x, z^2, x^3+y^3, y^4, y*z^5];\n",
    "I = ideal(R, V)\n",
    "\n",
    "(dim(I), codim(I), minimal_generating_set(I))"
   ]
  },
  {
   "cell_type": "markdown",
   "id": "4b56f391",
   "metadata": {},
   "source": [
    "## 6.C Operations on Ideals\n",
    "\n",
    "Sums, products and powers of ideals can be formed via `+`, `*` and `^` respectively. \n",
    "Furthermore, there are the following methods:\n",
    "\n",
    "| Method | Description |\n",
    "| :----------- | :----------- |\n",
    "| `intersect(I::MPolyIdeal{T}, Js::MPolyIdeal{T}...)` | Intersection of two or more ideals. |\n",
    "| `quotient(I::MPolyIdeal{T}, J::MPolyIdeal{T})` | Ideal quotient $I:J = \\{ f \\in R \\vert fJ \\subset I\\} \\subset R$ of `I` by `J`. Alternatively, use `I:J`. |\n",
    "| `quotient(I::MPolyIdeal{T}, f::MPolyElem{T})` | Ideal quotient of `I` by the ideal generated by `f`. ALternatively, use `I:f`. |\n",
    "| `saturation(I::MPolyIdeal{T}, J::MPolyIdeal{T})` | Saturation $I:J^{\\infty} = \\{f \\in R \\vert fJ^k \\subset I , k \\geq 1\\}$ of `I` wih respect to `J`. |\n",
    "| `saturation_with_index(I::MPolyIdeal{T},J::MPolyIdeal{T})` | Saturation $I:J^\\infty$ together with the smallest integer $m$ such that $I:J^m=I:J^\\infty$. |\n",
    "| `eliminate(I::MPolyIdeal{T}, V::Vector{T})` | Eliminates the variables in the vector `V` from the ideal `I` and returns all generators of `I` that contain only the remaining variables. |\n",
    "\n",
    "Let us demonstrate this functionality:"
   ]
  },
  {
   "cell_type": "code",
   "execution_count": 43,
   "id": "2abb2255",
   "metadata": {},
   "outputs": [
    {
     "data": {
      "text/plain": [
       "(Ideal (x^3, x^2*y, x*y^2, y^3), Ideal (x, y, z^2), Ideal (x*z^2, y*z^2))"
      ]
     },
     "execution_count": 43,
     "metadata": {},
     "output_type": "execute_result"
    }
   ],
   "source": [
    "R, (x, y, z) = polynomial_ring(QQ, [\"x\", \"y\", \"z\"])\n",
    "I = ideal(R, [x, y])\n",
    "J = ideal(R, [z^2])\n",
    "\n",
    "(I^3, I+J, I*J)"
   ]
  },
  {
   "cell_type": "code",
   "execution_count": 44,
   "id": "37f2c4c9",
   "metadata": {},
   "outputs": [
    {
     "data": {
      "text/plain": [
       "4-element Vector{MPolyIdeal{QQMPolyRingElem}}:\n",
       " Ideal (x*y, y^3, x^4 - x^2)\n",
       " Ideal (y, x^3 - x)\n",
       " Ideal (y, x^2 - 1)\n",
       " Ideal (x^4 - x^2)"
      ]
     },
     "execution_count": 44,
     "metadata": {},
     "output_type": "execute_result"
    }
   ],
   "source": [
    "R, (x, y) = polynomial_ring(QQ, [\"x\", \"y\"])\n",
    "I = ideal(R, [y^2-x^3+x, x*y])\n",
    "J = ideal(R, [x, y])^2\n",
    "\n",
    "[intersect(I, J), quotient(I, J), saturation(I, J), eliminate(I, [y])]"
   ]
  },
  {
   "cell_type": "markdown",
   "id": "4c07512e",
   "metadata": {},
   "source": [
    "## 6.D Properties of Ideals\n",
    "\n",
    "The following properties of an ideal can be tested:\n",
    "\n",
    "| Method | Description |\n",
    "| :----------- | :----------- |\n",
    "| `is_zero(I::MPolyIdeal)` | Checks whether `I` is the zero ideal. |\n",
    "| `is_one(I::MPolyIdeal)` | Checks whether `I` is generated by $1$. |\n",
    "| `is_monomial(I::MPolyIdeal)` | Checks whether `I` is generated by monomials. |\n",
    "| `is_subset(I::MPolyIdeal{T}, J::MPolyIdeal{T})` | Checks whether `I` is contained in `J`. |\n",
    "| `==(I::MPolyIdeal{T}, J::MPolyIdeal{T})` | Checks whether `I` is equal to `J`. |\n",
    "| `ideal_membership(f::T, I::MPolyIdeal{T})` | Checks whether `f` is contained in `I`. |\n",
    "| `radical_membership(f::T, I::MPolyIdeal{T})` | Checks whether `f` is contained in the radical of `I`. |\n",
    "| `is_prime(I::MPolyIdeal)` | Checks whether `I` is prime. |\n",
    "| `is_primary(I::MPolyIdeal)` | Checks whether `I` is primary. |\n",
    "\n",
    "##### Example"
   ]
  },
  {
   "cell_type": "code",
   "execution_count": 45,
   "id": "adbe40ea",
   "metadata": {},
   "outputs": [
    {
     "data": {
      "text/plain": [
       "(true, true, false, true, false, true)"
      ]
     },
     "execution_count": 45,
     "metadata": {},
     "output_type": "execute_result"
    }
   ],
   "source": [
    "R, (x, y) = polynomial_ring(QQ, [\"x\", \"y\"])\n",
    "I = ideal(R, [x, y])^2\n",
    "J = ideal(R, [x^2])\n",
    "f = x\n",
    "\n",
    "(is_monomial(I), is_subset(J, I), ideal_membership(f, J), radical_membership(f,J), is_prime(J), is_primary(J))"
   ]
  },
  {
   "cell_type": "markdown",
   "id": "07ed9da0",
   "metadata": {},
   "source": [
    "## 6.E Decomposition of Ideals\n",
    "\n",
    "The following methods can be used to decompose an ideal in a polynomial ring over a field:\n",
    "\n",
    "| Method | Description |\n",
    "| :----------- | :----------- |\n",
    "| `radical(I::MPolyIdeal)` | Radical of `I`. |\n",
    "| `primary_decomposition(I::MPolyIdeal; alg = :GTZ)` | Minimal primary decomposition of `I`, given as vector of tuples $(Q_i, P_i)$ where $Q_i$ is a primary ideal with associated prime ideal $P_i$. |\n",
    "| `absolute_primary_decomposition(I::MPolyIdeal{<:MPolyElem{fmpq}})` | Absolute minimal primary decomposition of `I`. |\n",
    "| `minimal_primes(I::MPolyIdeal; alg = :GTZ)` | Vector containing the minimal associated prime ideals of `I`. Alternatively, use `alg = :charSets`. |\n",
    "| `equidimensional_decomposition_weak(I::MPolyIdeal)` | Vector of equidimensional ideals where the last entry is the equidimensional hull of `I`, that is, the intersection of the primary components of `I` of maximal dimension. |\n",
    "| `equidimensional_decomposition_radical(I::MPolyIdeal)` | Vector of equidimensional radical ideals increasingly ordered by dimension. For each dimension, the returned radical ideal is the intersection of the associated primes of `I` of that dimension. |\n",
    "| `equidimensional_hull(I::MPolyIdeal)` | Intersection of the primary components of `I` of maximal dimension. In the case of polynomials over the integers, return the intersection of the primary components of `I` of minimal height.|\n",
    "| `equidimensional_hull_radical(I::MPolyIdeal)` | Intersection of the associated primes of I of maximal dimension.  |\n",
    "\n",
    "##### Example"
   ]
  },
  {
   "cell_type": "code",
   "execution_count": 46,
   "id": "77a67fa0",
   "metadata": {},
   "outputs": [
    {
     "data": {
      "text/plain": [
       "Ideal generated by\n",
       "  x^4 - x^3*y - x^3 - x^2 - x*y^2 + x*y + x + y^3 + y^2"
      ]
     },
     "execution_count": 46,
     "metadata": {},
     "output_type": "execute_result"
    }
   ],
   "source": [
    "# radical ideal in a polynomial ring\n",
    "R, (x, y) = polynomial_ring(QQ, [\"x\", \"y\"])\n",
    "I = intersect(ideal(R, [x, y])^2, ideal(R, [y^2-x^3+x]), ideal(R, [x-y-1])^2)\n",
    "radical(I)"
   ]
  },
  {
   "cell_type": "code",
   "execution_count": 47,
   "id": "9b75bc5f",
   "metadata": {},
   "outputs": [
    {
     "data": {
      "text/plain": [
       "3-element Vector{Tuple{MPolyIdeal{QQMPolyRingElem}, MPolyIdeal{QQMPolyRingElem}}}:\n",
       " (Ideal (x^3 - x - y^2), Ideal (x^3 - x - y^2))\n",
       " (Ideal (x^2 - 2*x*y - 2*x + y^2 + 2*y + 1), Ideal (x - y - 1))\n",
       " (Ideal (y, x^2), Ideal (x, y))"
      ]
     },
     "execution_count": 47,
     "metadata": {},
     "output_type": "execute_result"
    }
   ],
   "source": [
    "# primary decomposition of an ideal\n",
    "R, (x, y) = polynomial_ring(QQ, [\"x\", \"y\"])\n",
    "I = intersect(ideal(R, [x, y])^2, ideal(R, [y^2-x^3+x]), ideal(R, [x-y-1])^2)\n",
    "primary_decomposition(I)"
   ]
  },
  {
   "cell_type": "code",
   "execution_count": 48,
   "id": "6850bf39",
   "metadata": {},
   "outputs": [
    {
     "data": {
      "text/plain": [
       "2-element Vector{MPolyIdeal{QQMPolyRingElem}}:\n",
       " Ideal (x - y - 1)\n",
       " Ideal (x^3 - x - y^2)"
      ]
     },
     "execution_count": 48,
     "metadata": {},
     "output_type": "execute_result"
    }
   ],
   "source": [
    "# minimal associated primare ideals\n",
    "R, (x, y) = polynomial_ring(QQ, [\"x\", \"y\"])\n",
    "I = intersect(ideal(R, [x, y])^2, ideal(R, [y^2-x^3+x]), ideal(R, [x-y-1])^2)\n",
    "minimal_primes(I)"
   ]
  },
  {
   "cell_type": "code",
   "execution_count": 49,
   "id": "99683f2e",
   "metadata": {},
   "outputs": [
    {
     "data": {
      "text/plain": [
       "2-element Vector{MPolyIdeal{QQMPolyRingElem}}:\n",
       " Ideal (y, x)\n",
       " Ideal with 1 generator"
      ]
     },
     "execution_count": 49,
     "metadata": {},
     "output_type": "execute_result"
    }
   ],
   "source": [
    "# equidimensional ideals\n",
    "R, (x, y) = polynomial_ring(QQ, [\"x\", \"y\"])\n",
    "I = intersect(ideal(R, [x, y])^2, ideal(R, [y^2-x^3+x]), ideal(R, [x-y-1])^2)\n",
    "equidimensional_decomposition_weak(I)"
   ]
  },
  {
   "cell_type": "code",
   "execution_count": 50,
   "id": "6ad9772c",
   "metadata": {},
   "outputs": [
    {
     "data": {
      "text/plain": [
       "2-element Vector{MPolyIdeal{QQMPolyRingElem}}:\n",
       " Ideal (y, x)\n",
       " Ideal (x^4 - x^3*y - x^3 - x^2 - x*y^2 + x*y + x + y^3 + y^2)"
      ]
     },
     "execution_count": 50,
     "metadata": {},
     "output_type": "execute_result"
    }
   ],
   "source": [
    "# equidimensional radical ideals\n",
    "R, (x, y) = polynomial_ring(QQ, [\"x\", \"y\"])\n",
    "I = intersect(ideal(R, [x, y])^2, ideal(R, [y^2-x^3+x]), ideal(R, [x-y-1])^2)\n",
    "equidimensional_decomposition_radical(I)"
   ]
  },
  {
   "cell_type": "markdown",
   "id": "0c438a46",
   "metadata": {},
   "source": [
    "# 7. Homogenization and Dehomogenization\n",
    "\n",
    "## 7.A Homogenization\n",
    "\n",
    "The homogenization of an element of a $\\mathbb{Z}^m$-graded polynomial ring is done by the following methods:\n",
    "\n",
    "| Method |\n",
    "| :----------- |\n",
    "| `homogenization(f::MPolyRingElem, W::Union{ZZMatrix, Matrix{<:IntegerUnion}}, var::String, pos::Int = 1)` |\n",
    "| `homogenization(V::Vector{T},  W::Union{ZZMatrix, Matrix{<:IntegerUnion}}, var::String, pos::Int = 1) where {T <: MPolyRingElem}` |\n",
    "| `homogenization(I::MPolyIdeal{T},  W::Union{ZZMatrix, Matrix{<:IntegerUnion}}, var::String, pos::Int = 1) where {T <: MPolyRingElem}` |\n",
    "\n",
    "If $m$ is the number of rows of `W`, extend the parent polynomial ring of `f` by inserting $m$ extra variables, starting at position `pos`. \n",
    "Correspondingly, extend the integer matrix `W` by inserting the standard unit vectors of size mm as new columns, starting at column `pos`. \n",
    "Grade the extended ring by converting the columns of the extended matrix to elements of the group $\\mathbb{Z}^m$ and assigning these as weights to the variables. \n",
    "Homogenize `f` with respect to the induced ZmZm-grading on the original ring, using the extra variables as homogenizing variables. \n",
    "Return the result as an element of the extended ring with its $\\mathbb{Z}^m$-grading. \n",
    "If $m=1$, the extra variable prints as `var`. \n",
    "Otherwise, the extra variables print as `var[i]`, for $i=1,...,m$.\n",
    "\n",
    "Multiple elements can be homogenized in this way by specifying them as a vector `V`. \n",
    "For an ideal `I`, the generators of `I` are homogenized and then the ideal generated by these homogenizations is defined in the extended polynomial ring. \n",
    "This ideal is then saturated with the ideal generated by the additional homogenised variables.\n",
    "\n",
    "## 7.B Dehomogenization\n",
    "\n",
    "The dehomogenization of an element of a $\\mathbb{Z}^m$-graded polynomial ring is done by the following methods:\n",
    "\n",
    "| Method |\n",
    "| :----------- |\n",
    "| `dehomogenization(F::MPolyDecRingElem, pos::Int)` |\n",
    "| `dehomogenization(V::Vector{T}, pos::Int) where {T <: MPolyDecRingElem}` |\n",
    "| `dehomogenization(I::MPolyIdeal{T}, pos::Int) where {T <: MPolyDecRingElem}` |\n",
    "\n",
    "Given an element `F` of a $\\mathbb{Z}^m$-graded ring, where the generators of $\\mathbb{Z}^m$ are the assigned weights to the variables at positions `pos`, ..., `pos`$-1+m$, dehomogenize `F` using the variables at these positions. \n",
    "Return the result as an element of a polynomial ring not depending on the variables at these positions.\n",
    "\n",
    "Multiple elements can be dehomogenized by specifying them as a vector `V`. \n",
    "Similarly, an ideal `I` can be dehomogenized.\n",
    "\n",
    "## 7.C Examples"
   ]
  },
  {
   "cell_type": "code",
   "execution_count": 51,
   "id": "09f1023c",
   "metadata": {},
   "outputs": [
    {
     "data": {
      "text/plain": [
       "2-element Vector{Any}:\n",
       " x^3*z[1]^3*z[2]^3 + x^2*y*z[1]^2*z[2]^2 + x*y^2*z[1]*z[2] + y^3\n",
       " Graded multivariate polynomial ring in 4 variables over QQ"
      ]
     },
     "execution_count": 51,
     "metadata": {},
     "output_type": "execute_result"
    }
   ],
   "source": [
    "R, (x, y) = polynomial_ring(QQ, [\"x\", \"y\"])\n",
    "f = x^3+x^2*y+x*y^2+y^3\n",
    "W = [1 2; 3 4]\n",
    "h = homogenizer(R, W, \"z\"; pos = 3)\n",
    "[h(f), parent(h(f))]"
   ]
  },
  {
   "cell_type": "code",
   "execution_count": 52,
   "id": "c1d6aeee",
   "metadata": {},
   "outputs": [
    {
     "data": {
      "text/plain": [
       "true"
      ]
     },
     "execution_count": 52,
     "metadata": {},
     "output_type": "execute_result"
    }
   ],
   "source": [
    "S, (x, y) = graded_polynomial_ring(QQ, [\"x\", \"y\"])\n",
    "h = homogenizer(S, \"z\")\n",
    "dh = dehomogenizer(h)\n",
    "f = x^3-x^2*y-x\n",
    "dh(h(f)) == f"
   ]
  },
  {
   "cell_type": "markdown",
   "id": "7fdcff72",
   "metadata": {},
   "source": [
    "# 8. Generating Special Ideals\n",
    "\n",
    "- The katsura ideal `katsura(n)` is generated by $u_m - \\sum_{l=n}^{m} u_{l-m}u_l$ and $1-\\sum_{l=-n}^{n} u_l$ where `n` is a natural number, $u_{-i}=u_i$, $u_i=0$ for all $i>n$ and $m \\in \\{-n,...,n\\}$.\n",
    "\n",
    "| Method | Description |\n",
    "| :----------- | :----------- |\n",
    "| `katsura(n::Int)` | Katsura ideal. |\n",
    "| `katsura(R::MPolyRing)` | Katsura ideal in the given polynomial ring `R`. |\n",
    "\n",
    "Here is a simple example:"
   ]
  },
  {
   "cell_type": "code",
   "execution_count": 53,
   "id": "2436ae84",
   "metadata": {},
   "outputs": [
    {
     "data": {
      "text/plain": [
       "Ideal generated by\n",
       "  x1 + 2*x2 + 2*x3 - 1\n",
       "  x1^2 - x1 + 2*x2^2 + 2*x3^2\n",
       "  2*x1*x2 + 2*x2*x3 - x2"
      ]
     },
     "execution_count": 53,
     "metadata": {},
     "output_type": "execute_result"
    }
   ],
   "source": [
    "katsura(2)"
   ]
  },
  {
   "cell_type": "markdown",
   "id": "df085d30-2320-4397-bb9d-1db71e4c507e",
   "metadata": {},
   "source": [
    "## 9. Gröbner basis"
   ]
  },
  {
   "cell_type": "code",
   "execution_count": 54,
   "id": "b42d874e-fadb-42c8-854a-76e2c66150d4",
   "metadata": {},
   "outputs": [
    {
     "data": {
      "text/plain": [
       "(Multivariate polynomial ring in 3 variables over QQ, QQMPolyRingElem[x, y, z])"
      ]
     },
     "execution_count": 54,
     "metadata": {},
     "output_type": "execute_result"
    }
   ],
   "source": [
    "R, (x, y, z) = polynomial_ring(QQ, [\"x\", \"y\", \"z\"])"
   ]
  },
  {
   "cell_type": "code",
   "execution_count": 55,
   "id": "23e749db-2015-40db-a0dc-38dbbcbada01",
   "metadata": {},
   "outputs": [
    {
     "data": {
      "text/plain": [
       "Ideal generated by\n",
       "  x*y\n",
       "  z^2\n",
       "  z"
      ]
     },
     "execution_count": 55,
     "metadata": {},
     "output_type": "execute_result"
    }
   ],
   "source": [
    "II = ideal([x*y, z^2, z])"
   ]
  },
  {
   "cell_type": "code",
   "execution_count": 56,
   "id": "44cbe7c3-59cf-43a8-a770-14ee7a713d5a",
   "metadata": {},
   "outputs": [
    {
     "data": {
      "text/plain": [
       "Gröbner basis with elements\n",
       "1 -> z\n",
       "2 -> x*y\n",
       "with respect to the ordering\n",
       "degrevlex([x, y, z])"
      ]
     },
     "execution_count": 56,
     "metadata": {},
     "output_type": "execute_result"
    }
   ],
   "source": [
    "groebner_basis(II)"
   ]
  },
  {
   "cell_type": "markdown",
   "id": "d6b3dfd3-3427-4a3b-9254-023e63b7e183",
   "metadata": {},
   "source": [
    "The above computed Groebner basis is being cached in the ideal II. Among others, this information is being used to compute the Krull dimension of said ideal:"
   ]
  },
  {
   "cell_type": "code",
   "execution_count": 57,
   "id": "839c6209-f9e2-4bc3-94ca-8c2b23a29fca",
   "metadata": {},
   "outputs": [
    {
     "data": {
      "text/plain": [
       "1"
      ]
     },
     "execution_count": 57,
     "metadata": {},
     "output_type": "execute_result"
    }
   ],
   "source": [
    "dim(II)"
   ]
  },
  {
   "cell_type": "markdown",
   "id": "42f18fcf-86a3-4961-ba70-49a698e743f5",
   "metadata": {},
   "source": [
    "Recall that Groebner basis computations requires a monomials ordering. The standard ordering (degrevlex) is usually the best from a performance point of view."
   ]
  },
  {
   "cell_type": "code",
   "execution_count": null,
   "id": "22ce3bf6-0e6d-4c96-8ee2-c95fae263ad1",
   "metadata": {},
   "outputs": [],
   "source": []
  },
  {
   "cell_type": "code",
   "execution_count": null,
   "id": "9047d6d7-eeb0-4370-9c34-9167ce3708e3",
   "metadata": {},
   "outputs": [],
   "source": []
  }
 ],
 "metadata": {
  "kernelspec": {
   "display_name": "Julia 1.9.2",
   "language": "julia",
   "name": "julia-1.9"
  },
  "language_info": {
   "file_extension": ".jl",
   "mimetype": "application/julia",
   "name": "julia",
   "version": "1.9.2"
  }
 },
 "nbformat": 4,
 "nbformat_minor": 5
}
