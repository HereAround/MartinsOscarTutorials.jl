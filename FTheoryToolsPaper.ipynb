{
 "cells": [
  {
   "cell_type": "markdown",
   "id": "09c0537e-5be3-4169-9d9d-c9786decc80c",
   "metadata": {},
   "source": [
    "# *FTheoryTools -- Advanced Functionality*\n",
    "\n",
    "* Authors: Martin Bies, Miķelis Emīls Miķelsons, Andrew P. Turner\n",
    "* Version: OSCAR version 1.3.0 or newer."
   ]
  },
  {
   "cell_type": "markdown",
   "id": "040682d2-6313-4868-bdf7-570e90ed1e52",
   "metadata": {},
   "source": [
    "This tutorial collects the Julia code used in an upcoming publication and is an extensive survey of almost all of the functionality of FTheoryTools."
   ]
  },
  {
   "cell_type": "code",
   "execution_count": 1,
   "id": "e53ffe0c-2900-464b-a2e7-c2f7c3e5be6a",
   "metadata": {},
   "outputs": [
    {
     "name": "stdout",
     "output_type": "stream",
     "text": [
      "  ___   ____   ____    _    ____\n",
      " / _ \\ / ___| / ___|  / \\  |  _ \\   |  Combining ANTIC, GAP, Polymake, Singular\n",
      "| | | |\\___ \\| |     / _ \\ | |_) |  |  Type \"?Oscar\" for more information\n",
      "| |_| | ___) | |___ / ___ \\|  _ <   |  Manual: https://docs.oscar-system.org\n",
      " \\___/ |____/ \\____/_/   \\_\\_| \\_\\  |  1.4.0-DEV #master 1217370 2025-02-27\n"
     ]
    }
   ],
   "source": [
    "using Oscar"
   ]
  },
  {
   "cell_type": "code",
   "execution_count": 2,
   "id": "b60272d2-70fc-4ce8-a0e6-533f35ec76cc",
   "metadata": {},
   "outputs": [],
   "source": [
    "using Test"
   ]
  },
  {
   "cell_type": "code",
   "execution_count": 3,
   "id": "ef7c098c-d336-45a5-a6c0-d679a4a90e7a",
   "metadata": {},
   "outputs": [
    {
     "data": {
      "text/plain": [
       "Normal toric variety"
      ]
     },
     "execution_count": 3,
     "metadata": {},
     "output_type": "execute_result"
    }
   ],
   "source": [
    "B2 = projective_space(NormalToricVariety, 2)"
   ]
  },
  {
   "cell_type": "code",
   "execution_count": 4,
   "id": "6efc1b1f-8b96-4b5d-9a58-6ca2fa7ebf86",
   "metadata": {},
   "outputs": [
    {
     "data": {
      "text/plain": [
       "3-element Vector{MPolyDecRingElem{QQFieldElem, QQMPolyRingElem}}:\n",
       " x1\n",
       " x2\n",
       " x3"
      ]
     },
     "execution_count": 4,
     "metadata": {},
     "output_type": "execute_result"
    }
   ],
   "source": [
    "x1, x2, x3 = gens(cox_ring(B2))"
   ]
  },
  {
   "cell_type": "code",
   "execution_count": 5,
   "id": "3c429fd0-c4e5-4a1a-8f1c-0ca162d61006",
   "metadata": {},
   "outputs": [
    {
     "data": {
      "text/plain": [
       "Weierstrass model over a concrete base"
      ]
     },
     "execution_count": 5,
     "metadata": {},
     "output_type": "execute_result"
    }
   ],
   "source": [
    "weier_f = 1//48*(-(28*x1*x2^5 + 169*x3^6)^2 + 24*(2*x1^12 + 13*x1^2*x2^4*x3^6));\n",
    "weier_g = 1//864*(216*x1^4*x2^8*x3^6 + (28*x1*x2^5 + 169*x3^6)^3 - 36*(28*x1*x2^5 + 169*x3^6)*(2*x1^12 + 13*x1^2*x2^4*x3^6));\n",
    "w = weierstrass_model(B2, weier_f, weier_g; completeness_check = false)"
   ]
  },
  {
   "cell_type": "code",
   "execution_count": 6,
   "id": "e9bfc670-65bb-4a39-bb34-d46ac1ccc479",
   "metadata": {},
   "outputs": [
    {
     "data": {
      "text/plain": [
       "Dict{String, MPolyDecRingElem{QQFieldElem, QQMPolyRingElem}} with 2 entries:\n",
       "  \"f\" => x1^12 - 49//3*x1^2*x2^10 + 13//2*x1^2*x2^4*x3^6 - 1183//6*x1*x2^5*x3^6…\n",
       "  \"g\" => -7//3*x1^13*x2^5 - 169//12*x1^12*x3^6 + 1//4*x1^4*x2^8*x3^6 + 686//27*…"
      ]
     },
     "execution_count": 6,
     "metadata": {},
     "output_type": "execute_result"
    }
   ],
   "source": [
    "explicit_model_sections(w)"
   ]
  },
  {
   "cell_type": "code",
   "execution_count": 7,
   "id": "a398f218-7298-4189-a570-fab8c617a4ad",
   "metadata": {},
   "outputs": [
    {
     "data": {
      "text/plain": [
       "Weierstrass model over a concrete base"
      ]
     },
     "execution_count": 7,
     "metadata": {},
     "output_type": "execute_result"
    }
   ],
   "source": [
    "w_generic = weierstrass_model(B2; completeness_check = false)"
   ]
  },
  {
   "cell_type": "code",
   "execution_count": 8,
   "id": "c7d9823c-bf90-4049-b813-aa946ae775e1",
   "metadata": {},
   "outputs": [
    {
     "data": {
      "text/plain": [
       "Dict{String, MPolyDecRingElem{QQFieldElem, QQMPolyRingElem}} with 2 entries:\n",
       "  \"f\" => 4964*x1^12 - 183*x1^11*x2 + 4673*x1^11*x3 + 495*x1^10*x2^2 + 5771*x1^1…\n",
       "  \"g\" => 4292*x1^18 + 7921*x1^17*x2 - 6267*x1^17*x3 + 1254*x1^16*x2^2 - 7537*x1…"
      ]
     },
     "execution_count": 8,
     "metadata": {},
     "output_type": "execute_result"
    }
   ],
   "source": [
    "explicit_model_sections(w_generic)"
   ]
  },
  {
   "cell_type": "code",
   "execution_count": 9,
   "id": "3d80c621-42ef-4b67-98a9-ad288703d50d",
   "metadata": {},
   "outputs": [
    {
     "data": {
      "text/plain": [
       "1-element Vector{Tuple{MPolyIdeal{<:MPolyRingElem}, Tuple{Int64, Int64, Int64}, String}}:\n",
       " (Ideal with 1 generator, (0, 0, 1), \"I_1\")"
      ]
     },
     "execution_count": 9,
     "metadata": {},
     "output_type": "execute_result"
    }
   ],
   "source": [
    "singular_loci(w_generic)"
   ]
  },
  {
   "cell_type": "code",
   "execution_count": 10,
   "id": "d02e2433-0310-4256-ac27-89292b041063",
   "metadata": {},
   "outputs": [
    {
     "data": {
      "text/plain": [
       "2-element Vector{Tuple{MPolyIdeal{<:MPolyRingElem}, Tuple{Int64, Int64, Int64}, String}}:\n",
       " (Ideal with 1 generator, (0, 0, 1), \"I_1\")\n",
       " (Ideal (x1), (0, 0, 5), \"Split I_5\")"
      ]
     },
     "execution_count": 10,
     "metadata": {},
     "output_type": "execute_result"
    }
   ],
   "source": [
    "singular_loci(w)"
   ]
  },
  {
   "cell_type": "code",
   "execution_count": 11,
   "id": "24a68940-b1e5-49a1-bb6d-443976906844",
   "metadata": {},
   "outputs": [
    {
     "data": {
      "text/plain": [
       "Global Tate model over a concrete base"
      ]
     },
     "execution_count": 11,
     "metadata": {},
     "output_type": "execute_result"
    }
   ],
   "source": [
    "a1 = 13 * x3^3;\n",
    "a2 = 7 * x1 * x2^5;\n",
    "a3 = x1^2 * x2^4 * x3^3;\n",
    "a4 = x1^3 * (x2 + x3)^9;\n",
    "a6 = zero(cox_ring(B2));\n",
    "t = global_tate_model(B2, [a1, a2, a3, a4, a6])"
   ]
  },
  {
   "cell_type": "code",
   "execution_count": 12,
   "id": "425e9529-6d18-4b79-bb0d-0bef5457c21e",
   "metadata": {},
   "outputs": [
    {
     "data": {
      "text/plain": [
       "x1^3*x2^9*x*z^4 + 9*x1^3*x2^8*x3*x*z^4 + 36*x1^3*x2^7*x3^2*x*z^4 + 84*x1^3*x2^6*x3^3*x*z^4 + 126*x1^3*x2^5*x3^4*x*z^4 + 126*x1^3*x2^4*x3^5*x*z^4 + 84*x1^3*x2^3*x3^6*x*z^4 + 36*x1^3*x2^2*x3^7*x*z^4 + 9*x1^3*x2*x3^8*x*z^4 + x1^3*x3^9*x*z^4 - x1^2*x2^4*x3^3*y*z^3 + 7*x1*x2^5*x^2*z^2 - 13*x3^3*x*y*z + x^3 - y^2"
      ]
     },
     "execution_count": 12,
     "metadata": {},
     "output_type": "execute_result"
    }
   ],
   "source": [
    "hypersurface_equation(t)"
   ]
  },
  {
   "cell_type": "code",
   "execution_count": 13,
   "id": "c0da1319-333e-4d40-8342-2d9df08c813e",
   "metadata": {},
   "outputs": [
    {
     "data": {
      "text/plain": [
       "Weierstrass model over a concrete base"
      ]
     },
     "execution_count": 13,
     "metadata": {},
     "output_type": "execute_result"
    }
   ],
   "source": [
    "w = weierstrass_model(t)"
   ]
  },
  {
   "cell_type": "code",
   "execution_count": 14,
   "id": "353fbcb9-c734-4e8b-ad09-1caa2d3aaf87",
   "metadata": {},
   "outputs": [
    {
     "data": {
      "text/plain": [
       "x1^3*x2^9 + 9*x1^3*x2^8*x3 + 36*x1^3*x2^7*x3^2 + 84*x1^3*x2^6*x3^3 + 126*x1^3*x2^5*x3^4 + 126*x1^3*x2^4*x3^5 + 84*x1^3*x2^3*x3^6 + 36*x1^3*x2^2*x3^7 + 9*x1^3*x2*x3^8 + x1^3*x3^9 - 49//3*x1^2*x2^10 + 13//2*x1^2*x2^4*x3^6 - 1183//6*x1*x2^5*x3^6 - 28561//48*x3^12"
      ]
     },
     "execution_count": 14,
     "metadata": {},
     "output_type": "execute_result"
    }
   ],
   "source": [
    "weierstrass_section_f(w)"
   ]
  },
  {
   "cell_type": "code",
   "execution_count": 15,
   "id": "3472189a-a734-4676-b4be-c8cf710774e3",
   "metadata": {},
   "outputs": [
    {
     "data": {
      "text/plain": [
       "-7//3*x1^4*x2^14 - 21*x1^4*x2^13*x3 - 84*x1^4*x2^12*x3^2 - 196*x1^4*x2^11*x3^3 - 294*x1^4*x2^10*x3^4 - 294*x1^4*x2^9*x3^5 - 783//4*x1^4*x2^8*x3^6 - 84*x1^4*x2^7*x3^7 - 21*x1^4*x2^6*x3^8 - 7//3*x1^4*x2^5*x3^9 + 686//27*x1^3*x2^15 - 117//4*x1^3*x2^9*x3^6 - 507//4*x1^3*x2^8*x3^7 - 507*x1^3*x2^7*x3^8 - 1183*x1^3*x2^6*x3^9 - 3549//2*x1^3*x2^5*x3^10 - 3549//2*x1^3*x2^4*x3^11 - 1183*x1^3*x2^3*x3^12 - 507*x1^3*x2^2*x3^13 - 507//4*x1^3*x2*x3^14 - 169//12*x1^3*x3^15 + 8281//18*x1^2*x2^10*x3^6 - 2197//24*x1^2*x2^4*x3^12 + 199927//72*x1*x2^5*x3^12 + 4826809//864*x3^18"
      ]
     },
     "execution_count": 15,
     "metadata": {},
     "output_type": "execute_result"
    }
   ],
   "source": [
    "weierstrass_section_g(w)"
   ]
  },
  {
   "cell_type": "code",
   "execution_count": 16,
   "id": "204abb0f-2622-4afb-9c03-b2065290ca6b",
   "metadata": {},
   "outputs": [
    {
     "data": {
      "text/plain": [
       "Normal toric variety"
      ]
     },
     "execution_count": 16,
     "metadata": {},
     "output_type": "execute_result"
    }
   ],
   "source": [
    "fiber_ambient_space = weighted_projective_space(NormalToricVariety, [2,3,1])"
   ]
  },
  {
   "cell_type": "code",
   "execution_count": 17,
   "id": "472b2162-e1d2-4043-b996-0d6917312339",
   "metadata": {},
   "outputs": [],
   "source": [
    "set_coordinate_names(fiber_ambient_space, [\"x\" , \"y\" , \"z\" ])"
   ]
  },
  {
   "cell_type": "code",
   "execution_count": 18,
   "id": "afd81a04-2553-4f7c-ac9e-d8c7716635f4",
   "metadata": {},
   "outputs": [
    {
     "data": {
      "text/plain": [
       "Divisor class on a normal toric variety"
      ]
     },
     "execution_count": 18,
     "metadata": {},
     "output_type": "execute_result"
    }
   ],
   "source": [
    "D1 = 2 * anticanonical_divisor_class(B2)\n",
    "D2 = 3 * anticanonical_divisor_class(B2)\n",
    "D3 = trivial_divisor_class(B2)"
   ]
  },
  {
   "cell_type": "code",
   "execution_count": 19,
   "id": "aa478eda-5d02-4ab9-92d6-fc9e3df31926",
   "metadata": {},
   "outputs": [
    {
     "data": {
      "text/plain": [
       "(Multivariate polynomial ring in 6 variables over QQ, QQMPolyRingElem[x1, x2, x3, x, y, z])"
      ]
     },
     "execution_count": 19,
     "metadata": {},
     "output_type": "execute_result"
    }
   ],
   "source": [
    "amb_ring, (x1, x2, x3, x, y, z) = polynomial_ring(QQ, [\"x1\" , \"x2\" , \"x3\" , \"x\" , \"y\" , \"z\" ])"
   ]
  },
  {
   "cell_type": "code",
   "execution_count": 20,
   "id": "c0a7d771-36de-451f-8475-59df9d91f925",
   "metadata": {},
   "outputs": [
    {
     "data": {
      "text/plain": [
       "x1^3*x2^9*x*z^4 + 9*x1^3*x2^8*x3*x*z^4 + 36*x1^3*x2^7*x3^2*x*z^4 + 84*x1^3*x2^6*x3^3*x*z^4 + 126*x1^3*x2^5*x3^4*x*z^4 + 126*x1^3*x2^4*x3^5*x*z^4 + 84*x1^3*x2^3*x3^6*x*z^4 + 36*x1^3*x2^2*x3^7*x*z^4 + 9*x1^3*x2*x3^8*x*z^4 + x1^3*x3^9*x*z^4 - x1^2*x2^4*x3^3*y*z^3 + 7*x1*x2^5*x^2*z^2 - 13*x3^3*x*y*z + x^3 - y^2"
      ]
     },
     "execution_count": 20,
     "metadata": {},
     "output_type": "execute_result"
    }
   ],
   "source": [
    "p = x^3 + 7*x1*x2^5*x^2*z^2 + x1^3*(x2 + x3)^9*x*z^4 - y^2 - 13*x3^3*x*y*z - x1^2*x2^4*x3^3*y*z^3"
   ]
  },
  {
   "cell_type": "code",
   "execution_count": 21,
   "id": "e80976a9-56a2-4bf5-8a1d-f8166d2b7fb5",
   "metadata": {},
   "outputs": [
    {
     "data": {
      "text/plain": [
       "Hypersurface model over a concrete base"
      ]
     },
     "execution_count": 21,
     "metadata": {},
     "output_type": "execute_result"
    }
   ],
   "source": [
    "h = hypersurface_model(B2, fiber_ambient_space, [D1, D2, D3], p, completeness_check = false)"
   ]
  },
  {
   "cell_type": "code",
   "execution_count": 22,
   "id": "474469ff-a68e-403d-89dd-65c76112e388",
   "metadata": {},
   "outputs": [
    {
     "data": {
      "text/plain": [
       "x1^3*x2^9*x*z^4 + 9*x1^3*x2^8*x3*x*z^4 + 36*x1^3*x2^7*x3^2*x*z^4 + 84*x1^3*x2^6*x3^3*x*z^4 + 126*x1^3*x2^5*x3^4*x*z^4 + 126*x1^3*x2^4*x3^5*x*z^4 + 84*x1^3*x2^3*x3^6*x*z^4 + 36*x1^3*x2^2*x3^7*x*z^4 + 9*x1^3*x2*x3^8*x*z^4 + x1^3*x3^9*x*z^4 - x1^2*x2^4*x3^3*y*z^3 + 7*x1*x2^5*x^2*z^2 - 13*x3^3*x*y*z + x^3 - y^2"
      ]
     },
     "execution_count": 22,
     "metadata": {},
     "output_type": "execute_result"
    }
   ],
   "source": [
    "hypersurface_equation(h)"
   ]
  },
  {
   "cell_type": "code",
   "execution_count": 23,
   "id": "643b0791-9f48-4542-85f5-6e7458dfec78",
   "metadata": {},
   "outputs": [
    {
     "data": {
      "text/plain": [
       "x1^3*x2^9*x*z^4 + 9*x1^3*x2^8*x3*x*z^4 + 36*x1^3*x2^7*x3^2*x*z^4 + 84*x1^3*x2^6*x3^3*x*z^4 + 126*x1^3*x2^5*x3^4*x*z^4 + 126*x1^3*x2^4*x3^5*x*z^4 + 84*x1^3*x2^3*x3^6*x*z^4 + 36*x1^3*x2^2*x3^7*x*z^4 + 9*x1^3*x2*x3^8*x*z^4 + x1^3*x3^9*x*z^4 - x1^2*x2^4*x3^3*y*z^3 + 7*x1*x2^5*x^2*z^2 - 13*x3^3*x*y*z + x^3 - y^2"
      ]
     },
     "execution_count": 23,
     "metadata": {},
     "output_type": "execute_result"
    }
   ],
   "source": [
    "tate_polynomial(t)"
   ]
  },
  {
   "cell_type": "code",
   "execution_count": 24,
   "id": "a6a12414-7bd5-46da-93a1-25b41ab9da80",
   "metadata": {},
   "outputs": [
    {
     "data": {
      "text/plain": [
       "Multivariate polynomial ring in 6 variables over QQ graded by\n",
       "  x1 -> [1 0]\n",
       "  x2 -> [1 0]\n",
       "  x3 -> [1 0]\n",
       "  x -> [6 2]\n",
       "  y -> [9 3]\n",
       "  z -> [0 1]"
      ]
     },
     "execution_count": 24,
     "metadata": {},
     "output_type": "execute_result"
    }
   ],
   "source": [
    "cox_ring(ambient_space(t))"
   ]
  },
  {
   "cell_type": "code",
   "execution_count": 25,
   "id": "cf5c6422-663f-4c1a-85f6-4f75fb6aa3cd",
   "metadata": {},
   "outputs": [
    {
     "data": {
      "text/plain": [
       "Multivariate polynomial ring in 6 variables over QQ graded by\n",
       "  x1 -> [1 0]\n",
       "  x2 -> [1 0]\n",
       "  x3 -> [1 0]\n",
       "  x -> [6 2]\n",
       "  y -> [9 3]\n",
       "  z -> [0 1]"
      ]
     },
     "execution_count": 25,
     "metadata": {},
     "output_type": "execute_result"
    }
   ],
   "source": [
    "cox_ring(ambient_space(h))"
   ]
  },
  {
   "cell_type": "code",
   "execution_count": 26,
   "id": "bee2c9bd-c003-4313-9644-29a7736e347c",
   "metadata": {},
   "outputs": [
    {
     "data": {
      "text/plain": [
       "Normal toric variety"
      ]
     },
     "execution_count": 26,
     "metadata": {},
     "output_type": "execute_result"
    }
   ],
   "source": [
    "B3 = projective_space(NormalToricVariety, 3)"
   ]
  },
  {
   "cell_type": "code",
   "execution_count": 27,
   "id": "4ca4fba7-1831-4ed0-b206-a6fbbe43c83c",
   "metadata": {},
   "outputs": [
    {
     "data": {
      "text/plain": [
       "Multivariate polynomial ring in 4 variables over QQ graded by\n",
       "  x1 -> [1]\n",
       "  x2 -> [1]\n",
       "  x3 -> [1]\n",
       "  x4 -> [1]"
      ]
     },
     "execution_count": 27,
     "metadata": {},
     "output_type": "execute_result"
    }
   ],
   "source": [
    "cox_ring(B3)"
   ]
  },
  {
   "cell_type": "code",
   "execution_count": 28,
   "id": "1e7273ae-ac9b-4fe5-8571-fb89d82b60a0",
   "metadata": {},
   "outputs": [
    {
     "data": {
      "text/plain": [
       "Toric line bundle on a normal toric variety"
      ]
     },
     "execution_count": 28,
     "metadata": {},
     "output_type": "execute_result"
    }
   ],
   "source": [
    "W = toric_line_bundle(torusinvariant_prime_divisors(B3)[1])"
   ]
  },
  {
   "cell_type": "code",
   "execution_count": 29,
   "id": "0b5aca8e-fee6-4887-9d59-047f1754eb76",
   "metadata": {},
   "outputs": [
    {
     "data": {
      "text/plain": [
       "-9082*x1 + 5154*x2 + 3149*x3 + 7250*x4"
      ]
     },
     "execution_count": 29,
     "metadata": {},
     "output_type": "execute_result"
    }
   ],
   "source": [
    "w = generic_section(W)"
   ]
  },
  {
   "cell_type": "code",
   "execution_count": 30,
   "id": "ebbe6b09-f36e-4dd3-8412-e12a3d0362a3",
   "metadata": {},
   "outputs": [
    {
     "data": {
      "text/plain": [
       "x1"
      ]
     },
     "execution_count": 30,
     "metadata": {},
     "output_type": "execute_result"
    }
   ],
   "source": [
    "w = gens(cox_ring(B3))[1]"
   ]
  },
  {
   "cell_type": "code",
   "execution_count": 31,
   "id": "7f5142b4-9496-4b48-be7f-ad1d2ac991e2",
   "metadata": {},
   "outputs": [
    {
     "data": {
      "text/plain": [
       "Toric line bundle on a normal toric variety"
      ]
     },
     "execution_count": 31,
     "metadata": {},
     "output_type": "execute_result"
    }
   ],
   "source": [
    "Kbar = anticanonical_bundle(B3)"
   ]
  },
  {
   "cell_type": "code",
   "execution_count": 32,
   "id": "5bda52fc-2388-4bcd-a6b7-7329be99fde0",
   "metadata": {},
   "outputs": [
    {
     "data": {
      "text/plain": [
       "Global Tate model over a concrete base"
      ]
     },
     "execution_count": 32,
     "metadata": {},
     "output_type": "execute_result"
    }
   ],
   "source": [
    "a10 = generic_section(Kbar);\n",
    "a21 = generic_section(Kbar^2*W^(-1));\n",
    "a32 = generic_section(Kbar^3*W^(-2));\n",
    "a43 = generic_section(Kbar^4*W^(-3));\n",
    "a6 = zero(cox_ring(B3));\n",
    "t = global_tate_model(B3, [a10, a21 * w, a32 * w^2, a43 * w^3, a6])"
   ]
  },
  {
   "cell_type": "code",
   "execution_count": 33,
   "id": "e7e0cb1a-aefd-49e9-b14f-6bb4c4a7b703",
   "metadata": {},
   "outputs": [
    {
     "data": {
      "text/plain": [
       "2-element Vector{Tuple{MPolyIdeal{<:MPolyRingElem}, Tuple{Int64, Int64, Int64}, String}}:\n",
       " (Ideal with 1 generator, (0, 0, 1), \"I_1\")\n",
       " (Ideal (x1), (0, 0, 5), \"Split I_5\")"
      ]
     },
     "execution_count": 33,
     "metadata": {},
     "output_type": "execute_result"
    }
   ],
   "source": [
    "singular_loci(t)"
   ]
  },
  {
   "cell_type": "code",
   "execution_count": 34,
   "id": "ff9e3ed2-9944-4a4a-afa6-23e9c9e643e3",
   "metadata": {},
   "outputs": [
    {
     "data": {
      "text/plain": [
       "Normal toric variety"
      ]
     },
     "execution_count": 34,
     "metadata": {},
     "output_type": "execute_result"
    }
   ],
   "source": [
    "amb = ambient_space(t)"
   ]
  },
  {
   "cell_type": "code",
   "execution_count": 35,
   "id": "d5449828-e2fd-45e3-9e6a-d588c47cff11",
   "metadata": {},
   "outputs": [
    {
     "data": {
      "text/plain": [
       "Multivariate polynomial ring in 7 variables over QQ graded by\n",
       "  x1 -> [1 0]\n",
       "  x2 -> [1 0]\n",
       "  x3 -> [1 0]\n",
       "  x4 -> [1 0]\n",
       "  x -> [8 2]\n",
       "  y -> [12 3]\n",
       "  z -> [0 1]"
      ]
     },
     "execution_count": 35,
     "metadata": {},
     "output_type": "execute_result"
    }
   ],
   "source": [
    "cox_ring(amb)"
   ]
  },
  {
   "cell_type": "code",
   "execution_count": 36,
   "id": "44d88488-f8d1-4471-98f5-95492a92d728",
   "metadata": {},
   "outputs": [
    {
     "data": {
      "text/plain": [
       "Partially resolved global Tate model over a concrete base"
      ]
     },
     "execution_count": 36,
     "metadata": {},
     "output_type": "execute_result"
    }
   ],
   "source": [
    "t1 = blow_up(t, [\"x\" , \"y\" , string(w)]; coordinate_name = \"e1\" )"
   ]
  },
  {
   "cell_type": "code",
   "execution_count": 37,
   "id": "2160f12a-75f4-4d7b-ad9b-e1d159ec7d29",
   "metadata": {},
   "outputs": [
    {
     "data": {
      "text/plain": [
       "\u001b[32m\u001b[1mTest Passed\u001b[22m\u001b[39m\n",
       "      Thrown: ArgumentError"
      ]
     },
     "execution_count": 37,
     "metadata": {},
     "output_type": "execute_result"
    }
   ],
   "source": [
    "@test_throws ArgumentError resolutions(t)"
   ]
  },
  {
   "cell_type": "code",
   "execution_count": 38,
   "id": "3350a1a1-ec8f-48e5-bbae-5ae406e25fae",
   "metadata": {},
   "outputs": [],
   "source": [
    "set_resolutions(t, [[[[\"x\" , \"y\" , \"w\" ], [\"y\" , \"e1\" ], [\"x\" , \"e4\" ], [\"y\" , \"e2\" ], [\"x\" , \"y\" ]], [\"e1\" , \"e4\" , \"e2\" , \"e3\" , \"s\" ]]])"
   ]
  },
  {
   "cell_type": "code",
   "execution_count": 39,
   "id": "332071c2-9482-488f-b2b3-67dd72c974cf",
   "metadata": {},
   "outputs": [
    {
     "data": {
      "text/plain": [
       "x1"
      ]
     },
     "execution_count": 39,
     "metadata": {},
     "output_type": "execute_result"
    }
   ],
   "source": [
    "explicit_model_sections(t)[\"w\" ] = w"
   ]
  },
  {
   "cell_type": "code",
   "execution_count": 40,
   "id": "018d87fe-59dd-4792-9036-05a5942cd3c1",
   "metadata": {},
   "outputs": [
    {
     "data": {
      "text/plain": [
       "Partially resolved global Tate model over a concrete base"
      ]
     },
     "execution_count": 40,
     "metadata": {},
     "output_type": "execute_result"
    }
   ],
   "source": [
    "t_res = resolve(t, 1)"
   ]
  },
  {
   "cell_type": "code",
   "execution_count": 41,
   "id": "fa568670-6c7a-4f85-89f8-a88a0854c7b5",
   "metadata": {},
   "outputs": [
    {
     "data": {
      "text/plain": [
       "5584*x1^16*x*z^4*e1^15*e4^14*e2^14*e3^13 - 4409*x1^15*x2*x*z^4*e1^14*e4^13*e2^13*e3^12 + 145*x1^15*x3*x*z^4*e1^14*e4^13*e2^13*e3^12 + 7563*x1^15*x4*x*z^4*e1^14*e4^13*e2^13*e3^12 + 2985*x1^14*x2^2*x*z^4*e1^13*e4^12*e2^12*e3^11 + 4194*x1^14*x2*x3*x*z^4*e1^13*e4^12*e2^12*e3^11 + 1372*x1^14*x2*x4*x*z^4*e1^13*e4^12*e2^12*e3^11 - 5446*x1^14*x3^2*x*z^4*e1^13*e4^12*e2^12*e3^11 + 8051*x1^14*x3*x4*x*z^4*e1^13*e4^12*e2^12*e3^11 + 9149*x1^14*x4^2*x*z^4*e1^13*e4^12*e2^12*e3^11 - 2927*x1^13*x2^3*x*z^4*e1^12*e4^11*e2^11*e3^10 + 543*x1^13*x2^2*x3*x*z^4*e1^12*e4^11*e2^11*e3^10 - 472*x1^13*x2^2*x4*x*z^4*e1^12*e4^11*e2^11*e3^10 + 135*x1^13*x2*x3^2*x*z^4*e1^12*e4^11*e2^11*e3^10 - 8512*x1^13*x2*x3*x4*x*z^4*e1^12*e4^11*e2^11*e3^10 - 7225*x1^13*x2*x4^2*x*z^4*e1^12*e4^11*e2^11*e3^10 + 7179*x1^13*x3^3*x*z^4*e1^12*e4^11*e2^11*e3^10 - 5436*x1^13*x3^2*x4*x*z^4*e1^12*e4^11*e2^11*e3^10 + 8935*x1^13*x3*x4^2*x*z^4*e1^12*e4^11*e2^11*e3^10 - 2700*x1^13*x4^3*x*z^4*e1^12*e4^11*e2^11*e3^10 + 9176*x1^12*x2^4*x*z^4*e1^11*e4^10*e2^10*e3^9 + 4355*x1^12*x2^3*x3*x*z^4*e1^11*e4^10*e2^10*e3^9 - 744*x1^12*x2^3*x4*x*z^4*e1^11*e4^10*e2^10*e3^9 - 5573*x1^12*x2^2*x3^2*x*z^4*e1^11*e4^10*e2^10*e3^9 - 5926*x1^12*x2^2*x3*x4*x*z^4*e1^11*e4^10*e2^10*e3^9 + 6515*x1^12*x2^2*x4^2*x*z^4*e1^11*e4^10*e2^10*e3^9 + 6694*x1^12*x2*x3^3*x*z^4*e1^11*e4^10*e2^10*e3^9 + 7002*x1^12*x2*x3^2*x4*x*z^4*e1^11*e4^10*e2^10*e3^9 - 5118*x1^12*x2*x3*x4^2*x*z^4*e1^11*e4^10*e2^10*e3^9 + 9151*x1^12*x2*x4^3*x*z^4*e1^11*e4^10*e2^10*e3^9 + 3193*x1^12*x3^4*x*z^4*e1^11*e4^10*e2^10*e3^9 + 6631*x1^12*x3^3*x4*x*z^4*e1^11*e4^10*e2^10*e3^9 + 1418*x1^12*x3^2*x4^2*x*z^4*e1^11*e4^10*e2^10*e3^9 + 1081*x1^12*x3*x4^3*x*z^4*e1^11*e4^10*e2^10*e3^9 - 1620*x1^12*x4^4*x*z^4*e1^11*e4^10*e2^10*e3^9 + 3086*x1^12*y*z^3*e1^11*e4^11*e2^10*e3^10 - 9241*x1^11*x2^5*x*z^4*e1^10*e4^9*e2^9*e3^8 - 7395*x1^11*x2^4*x3*x*z^4*e1^10*e4^9*e2^9*e3^8 - 3311*x1^11*x2^4*x4*x*z^4*e1^10*e4^9*e2^9*e3^8 - 444*x1^11*x2^3*x3^2*x*z^4*e1^10*e4^9*e2^9*e3^8 - 260*x1^11*x2^3*x3*x4*x*z^4*e1^10*e4^9*e2^9*e3^8 - 3680*x1^11*x2^3*x4^2*x*z^4*e1^10*e4^9*e2^9*e3^8 - 2529*x1^11*x2^2*x3^3*x*z^4*e1^10*e4^9*e2^9*e3^8 + 1553*x1^11*x2^2*x3^2*x4*x*z^4*e1^10*e4^9*e2^9*e3^8 - 5017*x1^11*x2^2*x3*x4^2*x*z^4*e1^10*e4^9*e2^9*e3^8 - 417*x1^11*x2^2*x4^3*x*z^4*e1^10*e4^9*e2^9*e3^8 + 6669*x1^11*x2*x3^4*x*z^4*e1^10*e4^9*e2^9*e3^8 + 9262*x1^11*x2*x3^3*x4*x*z^4*e1^10*e4^9*e2^9*e3^8 - 6101*x1^11*x2*x3^2*x4^2*x*z^4*e1^10*e4^9*e2^9*e3^8 + 8662*x1^11*x2*x3*x4^3*x*z^4*e1^10*e4^9*e2^9*e3^8 - 1240*x1^11*x2*x4^4*x*z^4*e1^10*e4^9*e2^9*e3^8 + 2452*x1^11*x2*y*z^3*e1^10*e4^10*e2^9*e3^9 + 7972*x1^11*x3^5*x*z^4*e1^10*e4^9*e2^9*e3^8 - 6750*x1^11*x3^4*x4*x*z^4*e1^10*e4^9*e2^9*e3^8 + 7652*x1^11*x3^3*x4^2*x*z^4*e1^10*e4^9*e2^9*e3^8 + 6060*x1^11*x3^2*x4^3*x*z^4*e1^10*e4^9*e2^9*e3^8 + 4239*x1^11*x3*x4^4*x*z^4*e1^10*e4^9*e2^9*e3^8 - 6786*x1^11*x3*y*z^3*e1^10*e4^10*e2^9*e3^9 + 6633*x1^11*x4^5*x*z^4*e1^10*e4^9*e2^9*e3^8 - 9361*x1^11*x4*y*z^3*e1^10*e4^10*e2^9*e3^9 - 6426*x1^10*x2^6*x*z^4*e1^9*e4^8*e2^8*e3^7 + 1068*x1^10*x2^5*x3*x*z^4*e1^9*e4^8*e2^8*e3^7 + 5092*x1^10*x2^5*x4*x*z^4*e1^9*e4^8*e2^8*e3^7 + 1620*x1^10*x2^4*x3^2*x*z^4*e1^9*e4^8*e2^8*e3^7 + 5274*x1^10*x2^4*x3*x4*x*z^4*e1^9*e4^8*e2^8*e3^7 + 512*x1^10*x2^4*x4^2*x*z^4*e1^9*e4^8*e2^8*e3^7 + 5655*x1^10*x2^3*x3^3*x*z^4*e1^9*e4^8*e2^8*e3^7 - 622*x1^10*x2^3*x3^2*x4*x*z^4*e1^9*e4^8*e2^8*e3^7 - 1387*x1^10*x2^3*x3*x4^2*x*z^4*e1^9*e4^8*e2^8*e3^7 - 8904*x1^10*x2^3*x4^3*x*z^4*e1^9*e4^8*e2^8*e3^7 - 1212*x1^10*x2^2*x3^4*x*z^4*e1^9*e4^8*e2^8*e3^7 + 1580*x1^10*x2^2*x3^3*x4*x*z^4*e1^9*e4^8*e2^8*e3^7 + 633*x1^10*x2^2*x3^2*x4^2*x*z^4*e1^9*e4^8*e2^8*e3^7 + 4828*x1^10*x2^2*x3*x4^3*x*z^4*e1^9*e4^8*e2^8*e3^7 + 5218*x1^10*x2^2*x4^4*x*z^4*e1^9*e4^8*e2^8*e3^7 - 7064*x1^10*x2^2*y*z^3*e1^9*e4^9*e2^8*e3^8 - 3147*x1^10*x2*x3^5*x*z^4*e1^9*e4^8*e2^8*e3^7 + 8676*x1^10*x2*x3^4*x4*x*z^4*e1^9*e4^8*e2^8*e3^7 - 6207*x1^10*x2*x3^3*x4^2*x*z^4*e1^9*e4^8*e2^8*e3^7 - 7522*x1^10*x2*x3^2*x4^3*x*z^4*e1^9*e4^8*e2^8*e3^7 - 6611*x1^10*x2*x3*x4^4*x*z^4*e1^9*e4^8*e2^8*e3^7 - 7378*x1^10*x2*x3*y*z^3*e1^9*e4^9*e2^8*e3^8 + 7814*x1^10*x2*x4^5*x*z^4*e1^9*e4^8*e2^8*e3^7 - 1039*x1^10*x2*x4*y*z^3*e1^9*e4^9*e2^8*e3^8 - 574*x1^10*x3^6*x*z^4*e1^9*e4^8*e2^8*e3^7 + 424*x1^10*x3^5*x4*x*z^4*e1^9*e4^8*e2^8*e3^7 - 3236*x1^10*x3^4*x4^2*x*z^4*e1^9*e4^8*e2^8*e3^7 + 5510*x1^10*x3^3*x4^3*x*z^4*e1^9*e4^8*e2^8*e3^7 - 7143*x1^10*x3^2*x4^4*x*z^4*e1^9*e4^8*e2^8*e3^7 + 6022*x1^10*x3^2*y*z^3*e1^9*e4^9*e2^8*e3^8 - 6155*x1^10*x3*x4^5*x*z^4*e1^9*e4^8*e2^8*e3^7 - 4143*x1^10*x3*x4*y*z^3*e1^9*e4^9*e2^8*e3^8 + 5209*x1^10*x4^6*x*z^4*e1^9*e4^8*e2^8*e3^7 - 84*x1^10*x4^2*y*z^3*e1^9*e4^9*e2^8*e3^8 - 8558*x1^9*x2^7*x*z^4*e1^8*e4^7*e2^7*e3^6 - 5838*x1^9*x2^6*x3*x*z^4*e1^8*e4^7*e2^7*e3^6 + 3858*x1^9*x2^6*x4*x*z^4*e1^8*e4^7*e2^7*e3^6 + 1951*x1^9*x2^5*x3^2*x*z^4*e1^8*e4^7*e2^7*e3^6 + 6337*x1^9*x2^5*x3*x4*x*z^4*e1^8*e4^7*e2^7*e3^6 - 1526*x1^9*x2^5*x4^2*x*z^4*e1^8*e4^7*e2^7*e3^6 + 2528*x1^9*x2^4*x3^3*x*z^4*e1^8*e4^7*e2^7*e3^6 + 7530*x1^9*x2^4*x3^2*x4*x*z^4*e1^8*e4^7*e2^7*e3^6 - 4254*x1^9*x2^4*x3*x4^2*x*z^4*e1^8*e4^7*e2^7*e3^6 - 9825*x1^9*x2^4*x4^3*x*z^4*e1^8*e4^7*e2^7*e3^6 + 9590*x1^9*x2^3*x3^4*x*z^4*e1^8*e4^7*e2^7*e3^6 - 1636*x1^9*x2^3*x3^3*x4*x*z^4*e1^8*e4^7*e2^7*e3^6 + 2967*x1^9*x2^3*x3^2*x4^2*x*z^4*e1^8*e4^7*e2^7*e3^6 + 3498*x1^9*x2^3*x3*x4^3*x*z^4*e1^8*e4^7*e2^7*e3^6 + 650*x1^9*x2^3*x4^4*x*z^4*e1^8*e4^7*e2^7*e3^6 - 8204*x1^9*x2^3*y*z^3*e1^8*e4^8*e2^7*e3^7 + 9559*x1^9*x2^2*x3^5*x*z^4*e1^8*e4^7*e2^7*e3^6 + 1793*x1^9*x2^2*x3^4*x4*x*z^4*e1^8*e4^7*e2^7*e3^6 + 3791*x1^9*x2^2*x3^3*x4^2*x*z^4*e1^8*e4^7*e2^7*e3^6 - 1246*x1^9*x2^2*x3^2*x4^3*x*z^4*e1^8*e4^7*e2^7*e3^6 + 6111*x1^9*x2^2*x3*x4^4*x*z^4*e1^8*e4^7*e2^7*e3^6 + 1561*x1^9*x2^2*x3*y*z^3*e1^8*e4^8*e2^7*e3^7 - 2195*x1^9*x2^2*x4^5*x*z^4*e1^8*e4^7*e2^7*e3^6 + 2864*x1^9*x2^2*x4*y*z^3*e1^8*e4^8*e2^7*e3^7 - 5070*x1^9*x2*x3^6*x*z^4*e1^8*e4^7*e2^7*e3^6 + 3132*x1^9*x2*x3^5*x4*x*z^4*e1^8*e4^7*e2^7*e3^6 + 264*x1^9*x2*x3^4*x4^2*x*z^4*e1^8*e4^7*e2^7*e3^6 - 1659*x1^9*x2*x3^3*x4^3*x*z^4*e1^8*e4^7*e2^7*e3^6 + 1976*x1^9*x2*x3^2*x4^4*x*z^4*e1^8*e4^7*e2^7*e3^6 + 4582*x1^9*x2*x3^2*y*z^3*e1^8*e4^8*e2^7*e3^7 - 8296*x1^9*x2*x3*x4^5*x*z^4*e1^8*e4^7*e2^7*e3^6 + 9160*x1^9*x2*x3*x4*y*z^3*e1^8*e4^8*e2^7*e3^7 + 9504*x1^9*x2*x4^6*x*z^4*e1^8*e4^7*e2^7*e3^6 + 1657*x1^9*x2*x4^2*y*z^3*e1^8*e4^8*e2^7*e3^7 - 3250*x1^9*x3^7*x*z^4*e1^8*e4^7*e2^7*e3^6 - 4475*x1^9*x3^6*x4*x*z^4*e1^8*e4^7*e2^7*e3^6 + 5744*x1^9*x3^5*x4^2*x*z^4*e1^8*e4^7*e2^7*e3^6 + 1847*x1^9*x3^4*x4^3*x*z^4*e1^8*e4^7*e2^7*e3^6 - 1286*x1^9*x3^3*x4^4*x*z^4*e1^8*e4^7*e2^7*e3^6 - 2676*x1^9*x3^3*y*z^3*e1^8*e4^8*e2^7*e3^7 + 6263*x1^9*x3^2*x4^5*x*z^4*e1^8*e4^7*e2^7*e3^6 - 17*x1^9*x3^2*x4*y*z^3*e1^8*e4^8*e2^7*e3^7 - 4872*x1^9*x3*x4^6*x*z^4*e1^8*e4^7*e2^7*e3^6 - 8359*x1^9*x3*x4^2*y*z^3*e1^8*e4^8*e2^7*e3^7 + 3561*x1^9*x4^7*x*z^4*e1^8*e4^7*e2^7*e3^6 + 9033*x1^9*x4^3*y*z^3*e1^8*e4^8*e2^7*e3^7 + 6936*x1^8*x2^8*x*z^4*e1^7*e4^6*e2^6*e3^5 - 5695*x1^8*x2^7*x3*x*z^4*e1^7*e4^6*e2^6*e3^5 + 4647*x1^8*x2^7*x4*x*z^4*e1^7*e4^6*e2^6*e3^5 + 9482*x1^8*x2^6*x3^2*x*z^4*e1^7*e4^6*e2^6*e3^5 - 8964*x1^8*x2^6*x3*x4*x*z^4*e1^7*e4^6*e2^6*e3^5 + 3162*x1^8*x2^6*x4^2*x*z^4*e1^7*e4^6*e2^6*e3^5 - 8350*x1^8*x2^5*x3^3*x*z^4*e1^7*e4^6*e2^6*e3^5 + 7600*x1^8*x2^5*x3^2*x4*x*z^4*e1^7*e4^6*e2^6*e3^5 + 8692*x1^8*x2^5*x3*x4^2*x*z^4*e1^7*e4^6*e2^6*e3^5 - 9948*x1^8*x2^5*x4^3*x*z^4*e1^7*e4^6*e2^6*e3^5 + 860*x1^8*x2^4*x3^4*x*z^4*e1^7*e4^6*e2^6*e3^5 + 4794*x1^8*x2^4*x3^3*x4*x*z^4*e1^7*e4^6*e2^6*e3^5 + 7894*x1^8*x2^4*x3^2*x4^2*x*z^4*e1^7*e4^6*e2^6*e3^5 - 3791*x1^8*x2^4*x3*x4^3*x*z^4*e1^7*e4^6*e2^6*e3^5 - 834*x1^8*x2^4*x4^4*x*z^4*e1^7*e4^6*e2^6*e3^5 - 7690*x1^8*x2^4*y*z^3*e1^7*e4^7*e2^6*e3^6 + 5408*x1^8*x2^3*x3^5*x*z^4*e1^7*e4^6*e2^6*e3^5 - 6269*x1^8*x2^3*x3^4*x4*x*z^4*e1^7*e4^6*e2^6*e3^5 + 2214*x1^8*x2^3*x3^3*x4^2*x*z^4*e1^7*e4^6*e2^6*e3^5 - 9918*x1^8*x2^3*x3^2*x4^3*x*z^4*e1^7*e4^6*e2^6*e3^5 + 9891*x1^8*x2^3*x3*x4^4*x*z^4*e1^7*e4^6*e2^6*e3^5 - 838*x1^8*x2^3*x3*y*z^3*e1^7*e4^7*e2^6*e3^6 + 2188*x1^8*x2^3*x4^5*x*z^4*e1^7*e4^6*e2^6*e3^5 + 3757*x1^8*x2^3*x4*y*z^3*e1^7*e4^7*e2^6*e3^6 - 4554*x1^8*x2^2*x3^6*x*z^4*e1^7*e4^6*e2^6*e3^5 - 3830*x1^8*x2^2*x3^5*x4*x*z^4*e1^7*e4^6*e2^6*e3^5 + 3279*x1^8*x2^2*x3^4*x4^2*x*z^4*e1^7*e4^6*e2^6*e3^5 - 2258*x1^8*x2^2*x3^3*x4^3*x*z^4*e1^7*e4^6*e2^6*e3^5 - 151*x1^8*x2^2*x3^2*x4^4*x*z^4*e1^7*e4^6*e2^6*e3^5 + 5748*x1^8*x2^2*x3^2*y*z^3*e1^7*e4^7*e2^6*e3^6 + 2003*x1^8*x2^2*x3*x4^5*x*z^4*e1^7*e4^6*e2^6*e3^5 + 4662*x1^8*x2^2*x3*x4*y*z^3*e1^7*e4^7*e2^6*e3^6 + 2352*x1^8*x2^2*x4^6*x*z^4*e1^7*e4^6*e2^6*e3^5 - 9262*x1^8*x2^2*x4^2*y*z^3*e1^7*e4^7*e2^6*e3^6 + 2132*x1^8*x2*x3^7*x*z^4*e1^7*e4^6*e2^6*e3^5 + 8133*x1^8*x2*x3^6*x4*x*z^4*e1^7*e4^6*e2^6*e3^5 + 5938*x1^8*x2*x3^5*x4^2*x*z^4*e1^7*e4^6*e2^6*e3^5 - 6678*x1^8*x2*x3^4*x4^3*x*z^4*e1^7*e4^6*e2^6*e3^5 - 1359*x1^8*x2*x3^3*x4^4*x*z^4*e1^7*e4^6*e2^6*e3^5 - 5954*x1^8*x2*x3^3*y*z^3*e1^7*e4^7*e2^6*e3^6 + 2287*x1^8*x2*x3^2*x4^5*x*z^4*e1^7*e4^6*e2^6*e3^5 - 7480*x1^8*x2*x3^2*x4*y*z^3*e1^7*e4^7*e2^6*e3^6 + 405*x1^8*x2*x3*x4^6*x*z^4*e1^7*e4^6*e2^6*e3^5 + 9719*x1^8*x2*x3*x4^2*y*z^3*e1^7*e4^7*e2^6*e3^6 + 7822*x1^8*x2*x4^7*x*z^4*e1^7*e4^6*e2^6*e3^5 - 8643*x1^8*x2*x4^3*y*z^3*e1^7*e4^7*e2^6*e3^6 + 9855*x1^8*x3^8*x*z^4*e1^7*e4^6*e2^6*e3^5 - 7968*x1^8*x3^7*x4*x*z^4*e1^7*e4^6*e2^6*e3^5 - 3021*x1^8*x3^6*x4^2*x*z^4*e1^7*e4^6*e2^6*e3^5 + 4909*x1^8*x3^5*x4^3*x*z^4*e1^7*e4^6*e2^6*e3^5 + 1434*x1^8*x3^4*x4^4*x*z^4*e1^7*e4^6*e2^6*e3^5 + 8450*x1^8*x3^4*y*z^3*e1^7*e4^7*e2^6*e3^6 + 6502*x1^8*x3^3*x4^5*x*z^4*e1^7*e4^6*e2^6*e3^5 + 1655*x1^8*x3^3*x4*y*z^3*e1^7*e4^7*e2^6*e3^6 - 6637*x1^8*x3^2*x4^6*x*z^4*e1^7*e4^6*e2^6*e3^5 - 629*x1^8*x3^2*x4^2*y*z^3*e1^7*e4^7*e2^6*e3^6 + 5223*x1^8*x3*x4^7*x*z^4*e1^7*e4^6*e2^6*e3^5 + 5401*x1^8*x3*x4^3*y*z^3*e1^7*e4^7*e2^6*e3^6 - 2087*x1^8*x4^8*x*z^4*e1^7*e4^6*e2^6*e3^5 + 6481*x1^8*x4^4*y*z^3*e1^7*e4^7*e2^6*e3^6 + 7622*x1^8*x^2*z^2*e1^8*e4^7*e2^8*e3^7*s + 6940*x1^7*x2^9*x*z^4*e1^6*e4^5*e2^5*e3^4 + 5675*x1^7*x2^8*x3*x*z^4*e1^6*e4^5*e2^5*e3^4 - 6482*x1^7*x2^8*x4*x*z^4*e1^6*e4^5*e2^5*e3^4 + 6494*x1^7*x2^7*x3^2*x*z^4*e1^6*e4^5*e2^5*e3^4 + 3727*x1^7*x2^7*x3*x4*x*z^4*e1^6*e4^5*e2^5*e3^4 + 9021*x1^7*x2^7*x4^2*x*z^4*e1^6*e4^5*e2^5*e3^4 - 7547*x1^7*x2^6*x3^3*x*z^4*e1^6*e4^5*e2^5*e3^4 - 8840*x1^7*x2^6*x3^2*x4*x*z^4*e1^6*e4^5*e2^5*e3^4 + 4379*x1^7*x2^6*x3*x4^2*x*z^4*e1^6*e4^5*e2^5*e3^4 + 6754*x1^7*x2^6*x4^3*x*z^4*e1^6*e4^5*e2^5*e3^4 + 8321*x1^7*x2^5*x3^4*x*z^4*e1^6*e4^5*e2^5*e3^4 - 3295*x1^7*x2^5*x3^3*x4*x*z^4*e1^6*e4^5*e2^5*e3^4 + 7844*x1^7*x2^5*x3^2*x4^2*x*z^4*e1^6*e4^5*e2^5*e3^4 - 3848*x1^7*x2^5*x3*x4^3*x*z^4*e1^6*e4^5*e2^5*e3^4 - 9966*x1^7*x2^5*x4^4*x*z^4*e1^6*e4^5*e2^5*e3^4 - 289*x1^7*x2^5*y*z^3*e1^6*e4^6*e2^5*e3^5 - 9348*x1^7*x2^4*x3^5*x*z^4*e1^6*e4^5*e2^5*e3^4 - 8966*x1^7*x2^4*x3^4*x4*x*z^4*e1^6*e4^5*e2^5*e3^4 + 3091*x1^7*x2^4*x3^3*x4^2*x*z^4*e1^6*e4^5*e2^5*e3^4 + 7204*x1^7*x2^4*x3^2*x4^3*x*z^4*e1^6*e4^5*e2^5*e3^4 - 9297*x1^7*x2^4*x3*x4^4*x*z^4*e1^6*e4^5*e2^5*e3^4 - 3911*x1^7*x2^4*x3*y*z^3*e1^6*e4^6*e2^5*e3^5 - 9321*x1^7*x2^4*x4^5*x*z^4*e1^6*e4^5*e2^5*e3^4 - 1912*x1^7*x2^4*x4*y*z^3*e1^6*e4^6*e2^5*e3^5 - 6572*x1^7*x2^3*x3^6*x*z^4*e1^6*e4^5*e2^5*e3^4 + 6121*x1^7*x2^3*x3^5*x4*x*z^4*e1^6*e4^5*e2^5*e3^4 + 929*x1^7*x2^3*x3^4*x4^2*x*z^4*e1^6*e4^5*e2^5*e3^4 - 5789*x1^7*x2^3*x3^3*x4^3*x*z^4*e1^6*e4^5*e2^5*e3^4 - 1859*x1^7*x2^3*x3^2*x4^4*x*z^4*e1^6*e4^5*e2^5*e3^4 - 723*x1^7*x2^3*x3^2*y*z^3*e1^6*e4^6*e2^5*e3^5 + 9135*x1^7*x2^3*x3*x4^5*x*z^4*e1^6*e4^5*e2^5*e3^4 + 174*x1^7*x2^3*x3*x4*y*z^3*e1^6*e4^6*e2^5*e3^5 - 8786*x1^7*x2^3*x4^6*x*z^4*e1^6*e4^5*e2^5*e3^4 + 5308*x1^7*x2^3*x4^2*y*z^3*e1^6*e4^6*e2^5*e3^5 - 5273*x1^7*x2^2*x3^7*x*z^4*e1^6*e4^5*e2^5*e3^4 - 1876*x1^7*x2^2*x3^6*x4*x*z^4*e1^6*e4^5*e2^5*e3^4 + 6051*x1^7*x2^2*x3^5*x4^2*x*z^4*e1^6*e4^5*e2^5*e3^4 - 7291*x1^7*x2^2*x3^4*x4^3*x*z^4*e1^6*e4^5*e2^5*e3^4 - 6805*x1^7*x2^2*x3^3*x4^4*x*z^4*e1^6*e4^5*e2^5*e3^4 + 7580*x1^7*x2^2*x3^3*y*z^3*e1^6*e4^6*e2^5*e3^5 + 2126*x1^7*x2^2*x3^2*x4^5*x*z^4*e1^6*e4^5*e2^5*e3^4 + 4117*x1^7*x2^2*x3^2*x4*y*z^3*e1^6*e4^6*e2^5*e3^5 - 546*x1^7*x2^2*x3*x4^6*x*z^4*e1^6*e4^5*e2^5*e3^4 - 5398*x1^7*x2^2*x3*x4^2*y*z^3*e1^6*e4^6*e2^5*e3^5 + 5089*x1^7*x2^2*x4^7*x*z^4*e1^6*e4^5*e2^5*e3^4 + 2900*x1^7*x2^2*x4^3*y*z^3*e1^6*e4^6*e2^5*e3^5 + 1844*x1^7*x2*x3^8*x*z^4*e1^6*e4^5*e2^5*e3^4 + 6473*x1^7*x2*x3^7*x4*x*z^4*e1^6*e4^5*e2^5*e3^4 + 5228*x1^7*x2*x3^6*x4^2*x*z^4*e1^6*e4^5*e2^5*e3^4 + 867*x1^7*x2*x3^5*x4^3*x*z^4*e1^6*e4^5*e2^5*e3^4 + 286*x1^7*x2*x3^4*x4^4*x*z^4*e1^6*e4^5*e2^5*e3^4 + 8461*x1^7*x2*x3^4*y*z^3*e1^6*e4^6*e2^5*e3^5 - 3348*x1^7*x2*x3^3*x4^5*x*z^4*e1^6*e4^5*e2^5*e3^4 - 2983*x1^7*x2*x3^3*x4*y*z^3*e1^6*e4^6*e2^5*e3^5 + 5218*x1^7*x2*x3^2*x4^6*x*z^4*e1^6*e4^5*e2^5*e3^4 - 8818*x1^7*x2*x3^2*x4^2*y*z^3*e1^6*e4^6*e2^5*e3^5 - 4293*x1^7*x2*x3*x4^7*x*z^4*e1^6*e4^5*e2^5*e3^4 - 2355*x1^7*x2*x3*x4^3*y*z^3*e1^6*e4^6*e2^5*e3^5 - 8718*x1^7*x2*x4^8*x*z^4*e1^6*e4^5*e2^5*e3^4 - 4256*x1^7*x2*x4^4*y*z^3*e1^6*e4^6*e2^5*e3^5 + 934*x1^7*x2*x^2*z^2*e1^7*e4^6*e2^7*e3^6*s + 8141*x1^7*x3^9*x*z^4*e1^6*e4^5*e2^5*e3^4 - 3340*x1^7*x3^8*x4*x*z^4*e1^6*e4^5*e2^5*e3^4 - 6992*x1^7*x3^7*x4^2*x*z^4*e1^6*e4^5*e2^5*e3^4 + 1665*x1^7*x3^6*x4^3*x*z^4*e1^6*e4^5*e2^5*e3^4 - 1811*x1^7*x3^5*x4^4*x*z^4*e1^6*e4^5*e2^5*e3^4 - 6833*x1^7*x3^5*y*z^3*e1^6*e4^6*e2^5*e3^5 + 6019*x1^7*x3^4*x4^5*x*z^4*e1^6*e4^5*e2^5*e3^4 - 4461*x1^7*x3^4*x4*y*z^3*e1^6*e4^6*e2^5*e3^5 - 5593*x1^7*x3^3*x4^6*x*z^4*e1^6*e4^5*e2^5*e3^4 + 4927*x1^7*x3^3*x4^2*y*z^3*e1^6*e4^6*e2^5*e3^5 - 8216*x1^7*x3^2*x4^7*x*z^4*e1^6*e4^5*e2^5*e3^4 + 7018*x1^7*x3^2*x4^3*y*z^3*e1^6*e4^6*e2^5*e3^5 - 7529*x1^7*x3*x4^8*x*z^4*e1^6*e4^5*e2^5*e3^4 - 9987*x1^7*x3*x4^4*y*z^3*e1^6*e4^6*e2^5*e3^5 + 5742*x1^7*x3*x^2*z^2*e1^7*e4^6*e2^7*e3^6*s - 1953*x1^7*x4^9*x*z^4*e1^6*e4^5*e2^5*e3^4 + 8604*x1^7*x4^5*y*z^3*e1^6*e4^6*e2^5*e3^5 - 5200*x1^7*x4*x^2*z^2*e1^7*e4^6*e2^7*e3^6*s - 4291*x1^6*x2^10*x*z^4*e1^5*e4^4*e2^4*e3^3 + 6980*x1^6*x2^9*x3*x*z^4*e1^5*e4^4*e2^4*e3^3 + 7871*x1^6*x2^9*x4*x*z^4*e1^5*e4^4*e2^4*e3^3 + 2252*x1^6*x2^8*x3^2*x*z^4*e1^5*e4^4*e2^4*e3^3 - 4787*x1^6*x2^8*x3*x4*x*z^4*e1^5*e4^4*e2^4*e3^3 - 7643*x1^6*x2^8*x4^2*x*z^4*e1^5*e4^4*e2^4*e3^3 + 8948*x1^6*x2^7*x3^3*x*z^4*e1^5*e4^4*e2^4*e3^3 + 6449*x1^6*x2^7*x3^2*x4*x*z^4*e1^5*e4^4*e2^4*e3^3 + 5433*x1^6*x2^7*x3*x4^2*x*z^4*e1^5*e4^4*e2^4*e3^3 - 6936*x1^6*x2^7*x4^3*x*z^4*e1^5*e4^4*e2^4*e3^3 + 5285*x1^6*x2^6*x3^4*x*z^4*e1^5*e4^4*e2^4*e3^3 - 9472*x1^6*x2^6*x3^3*x4*x*z^4*e1^5*e4^4*e2^4*e3^3 + 6666*x1^6*x2^6*x3^2*x4^2*x*z^4*e1^5*e4^4*e2^4*e3^3 + 4847*x1^6*x2^6*x3*x4^3*x*z^4*e1^5*e4^4*e2^4*e3^3 + 6619*x1^6*x2^6*x4^4*x*z^4*e1^5*e4^4*e2^4*e3^3 - 4184*x1^6*x2^6*y*z^3*e1^5*e4^5*e2^4*e3^4 + 9652*x1^6*x2^5*x3^5*x*z^4*e1^5*e4^4*e2^4*e3^3 - 9122*x1^6*x2^5*x3^4*x4*x*z^4*e1^5*e4^4*e2^4*e3^3 + 6585*x1^6*x2^5*x3^3*x4^2*x*z^4*e1^5*e4^4*e2^4*e3^3 + 9723*x1^6*x2^5*x3^2*x4^3*x*z^4*e1^5*e4^4*e2^4*e3^3 + 674*x1^6*x2^5*x3*x4^4*x*z^4*e1^5*e4^4*e2^4*e3^3 + 3389*x1^6*x2^5*x3*y*z^3*e1^5*e4^5*e2^4*e3^4 - 6014*x1^6*x2^5*x4^5*x*z^4*e1^5*e4^4*e2^4*e3^3 + 6367*x1^6*x2^5*x4*y*z^3*e1^5*e4^5*e2^4*e3^4 - 1468*x1^6*x2^4*x3^6*x*z^4*e1^5*e4^4*e2^4*e3^3 + 8388*x1^6*x2^4*x3^5*x4*x*z^4*e1^5*e4^4*e2^4*e3^3 - 9268*x1^6*x2^4*x3^4*x4^2*x*z^4*e1^5*e4^4*e2^4*e3^3 - 8173*x1^6*x2^4*x3^3*x4^3*x*z^4*e1^5*e4^4*e2^4*e3^3 + 2827*x1^6*x2^4*x3^2*x4^4*x*z^4*e1^5*e4^4*e2^4*e3^3 + 3373*x1^6*x2^4*x3^2*y*z^3*e1^5*e4^5*e2^4*e3^4 - 4618*x1^6*x2^4*x3*x4^5*x*z^4*e1^5*e4^4*e2^4*e3^3 - 7085*x1^6*x2^4*x3*x4*y*z^3*e1^5*e4^5*e2^4*e3^4 + 3433*x1^6*x2^4*x4^6*x*z^4*e1^5*e4^4*e2^4*e3^3 - 9569*x1^6*x2^4*x4^2*y*z^3*e1^5*e4^5*e2^4*e3^4 - 9635*x1^6*x2^3*x3^7*x*z^4*e1^5*e4^4*e2^4*e3^3 + 5064*x1^6*x2^3*x3^6*x4*x*z^4*e1^5*e4^4*e2^4*e3^3 - 5522*x1^6*x2^3*x3^5*x4^2*x*z^4*e1^5*e4^4*e2^4*e3^3 - 1009*x1^6*x2^3*x3^4*x4^3*x*z^4*e1^5*e4^4*e2^4*e3^3 + 7479*x1^6*x2^3*x3^3*x4^4*x*z^4*e1^5*e4^4*e2^4*e3^3 + 8964*x1^6*x2^3*x3^3*y*z^3*e1^5*e4^5*e2^4*e3^4 + 6620*x1^6*x2^3*x3^2*x4^5*x*z^4*e1^5*e4^4*e2^4*e3^3 + 9383*x1^6*x2^3*x3^2*x4*y*z^3*e1^5*e4^5*e2^4*e3^4 - 5242*x1^6*x2^3*x3*x4^6*x*z^4*e1^5*e4^4*e2^4*e3^3 - 6165*x1^6*x2^3*x3*x4^2*y*z^3*e1^5*e4^5*e2^4*e3^4 - 5450*x1^6*x2^3*x4^7*x*z^4*e1^5*e4^4*e2^4*e3^3 + 9841*x1^6*x2^3*x4^3*y*z^3*e1^5*e4^5*e2^4*e3^4 + 5664*x1^6*x2^2*x3^8*x*z^4*e1^5*e4^4*e2^4*e3^3 + 9170*x1^6*x2^2*x3^7*x4*x*z^4*e1^5*e4^4*e2^4*e3^3 - 3352*x1^6*x2^2*x3^6*x4^2*x*z^4*e1^5*e4^4*e2^4*e3^3 + 2107*x1^6*x2^2*x3^5*x4^3*x*z^4*e1^5*e4^4*e2^4*e3^3 - 7992*x1^6*x2^2*x3^4*x4^4*x*z^4*e1^5*e4^4*e2^4*e3^3 + 8558*x1^6*x2^2*x3^4*y*z^3*e1^5*e4^5*e2^4*e3^4 + 2939*x1^6*x2^2*x3^3*x4^5*x*z^4*e1^5*e4^4*e2^4*e3^3 + 4453*x1^6*x2^2*x3^3*x4*y*z^3*e1^5*e4^5*e2^4*e3^4 + 7070*x1^6*x2^2*x3^2*x4^6*x*z^4*e1^5*e4^4*e2^4*e3^3 - 850*x1^6*x2^2*x3^2*x4^2*y*z^3*e1^5*e4^5*e2^4*e3^4 - 3893*x1^6*x2^2*x3*x4^7*x*z^4*e1^5*e4^4*e2^4*e3^3 - 134*x1^6*x2^2*x3*x4^3*y*z^3*e1^5*e4^5*e2^4*e3^4 + 2795*x1^6*x2^2*x4^8*x*z^4*e1^5*e4^4*e2^4*e3^3 - 9025*x1^6*x2^2*x4^4*y*z^3*e1^5*e4^5*e2^4*e3^4 + 2217*x1^6*x2^2*x^2*z^2*e1^6*e4^5*e2^6*e3^5*s + 2041*x1^6*x2*x3^9*x*z^4*e1^5*e4^4*e2^4*e3^3 - 5360*x1^6*x2*x3^8*x4*x*z^4*e1^5*e4^4*e2^4*e3^3 - 959*x1^6*x2*x3^7*x4^2*x*z^4*e1^5*e4^4*e2^4*e3^3 - 4318*x1^6*x2*x3^6*x4^3*x*z^4*e1^5*e4^4*e2^4*e3^3 - 9900*x1^6*x2*x3^5*x4^4*x*z^4*e1^5*e4^4*e2^4*e3^3 + 7335*x1^6*x2*x3^5*y*z^3*e1^5*e4^5*e2^4*e3^4 + 6093*x1^6*x2*x3^4*x4^5*x*z^4*e1^5*e4^4*e2^4*e3^3 + 6948*x1^6*x2*x3^4*x4*y*z^3*e1^5*e4^5*e2^4*e3^4 + 7727*x1^6*x2*x3^3*x4^6*x*z^4*e1^5*e4^4*e2^4*e3^3 + 4666*x1^6*x2*x3^3*x4^2*y*z^3*e1^5*e4^5*e2^4*e3^4 - 2789*x1^6*x2*x3^2*x4^7*x*z^4*e1^5*e4^4*e2^4*e3^3 + 9708*x1^6*x2*x3^2*x4^3*y*z^3*e1^5*e4^5*e2^4*e3^4 + 9191*x1^6*x2*x3*x4^8*x*z^4*e1^5*e4^4*e2^4*e3^3 + 6924*x1^6*x2*x3*x4^4*y*z^3*e1^5*e4^5*e2^4*e3^4 + 9679*x1^6*x2*x3*x^2*z^2*e1^6*e4^5*e2^6*e3^5*s - 5756*x1^6*x2*x4^9*x*z^4*e1^5*e4^4*e2^4*e3^3 + 2444*x1^6*x2*x4^5*y*z^3*e1^5*e4^5*e2^4*e3^4 - 1155*x1^6*x2*x4*x^2*z^2*e1^6*e4^5*e2^6*e3^5*s - 4798*x1^6*x3^10*x*z^4*e1^5*e4^4*e2^4*e3^3 - 2705*x1^6*x3^9*x4*x*z^4*e1^5*e4^4*e2^4*e3^3 + 2253*x1^6*x3^8*x4^2*x*z^4*e1^5*e4^4*e2^4*e3^3 - 2266*x1^6*x3^7*x4^3*x*z^4*e1^5*e4^4*e2^4*e3^3 - 456*x1^6*x3^6*x4^4*x*z^4*e1^5*e4^4*e2^4*e3^3 + 924*x1^6*x3^6*y*z^3*e1^5*e4^5*e2^4*e3^4 - 260*x1^6*x3^5*x4^5*x*z^4*e1^5*e4^4*e2^4*e3^3 - 2974*x1^6*x3^5*x4*y*z^3*e1^5*e4^5*e2^4*e3^4 + 6640*x1^6*x3^4*x4^6*x*z^4*e1^5*e4^4*e2^4*e3^3 - 8009*x1^6*x3^4*x4^2*y*z^3*e1^5*e4^5*e2^4*e3^4 - 5343*x1^6*x3^3*x4^7*x*z^4*e1^5*e4^4*e2^4*e3^3 - 4950*x1^6*x3^3*x4^3*y*z^3*e1^5*e4^5*e2^4*e3^4 + 6805*x1^6*x3^2*x4^8*x*z^4*e1^5*e4^4*e2^4*e3^3 - 3519*x1^6*x3^2*x4^4*y*z^3*e1^5*e4^5*e2^4*e3^4 + 820*x1^6*x3^2*x^2*z^2*e1^6*e4^5*e2^6*e3^5*s + 4205*x1^6*x3*x4^9*x*z^4*e1^5*e4^4*e2^4*e3^3 + 2043*x1^6*x3*x4^5*y*z^3*e1^5*e4^5*e2^4*e3^4 + 3604*x1^6*x3*x4*x^2*z^2*e1^6*e4^5*e2^6*e3^5*s - 8774*x1^6*x4^10*x*z^4*e1^5*e4^4*e2^4*e3^3 - 264*x1^6*x4^6*y*z^3*e1^5*e4^5*e2^4*e3^4 + 2532*x1^6*x4^2*x^2*z^2*e1^6*e4^5*e2^6*e3^5*s + 7631*x1^5*x2^11*x*z^4*e1^4*e4^3*e2^3*e3^2 + 8894*x1^5*x2^10*x3*x*z^4*e1^4*e4^3*e2^3*e3^2 + 7967*x1^5*x2^10*x4*x*z^4*e1^4*e4^3*e2^3*e3^2 - 3422*x1^5*x2^9*x3^2*x*z^4*e1^4*e4^3*e2^3*e3^2 + 5947*x1^5*x2^9*x3*x4*x*z^4*e1^4*e4^3*e2^3*e3^2 + 4124*x1^5*x2^9*x4^2*x*z^4*e1^4*e4^3*e2^3*e3^2 - 6849*x1^5*x2^8*x3^3*x*z^4*e1^4*e4^3*e2^3*e3^2 - 7219*x1^5*x2^8*x3^2*x4*x*z^4*e1^4*e4^3*e2^3*e3^2 + 6890*x1^5*x2^8*x3*x4^2*x*z^4*e1^4*e4^3*e2^3*e3^2 - 6459*x1^5*x2^8*x4^3*x*z^4*e1^4*e4^3*e2^3*e3^2 - 133*x1^5*x2^7*x3^4*x*z^4*e1^4*e4^3*e2^3*e3^2 - 587*x1^5*x2^7*x3^3*x4*x*z^4*e1^4*e4^3*e2^3*e3^2 - 3570*x1^5*x2^7*x3^2*x4^2*x*z^4*e1^4*e4^3*e2^3*e3^2 - 6359*x1^5*x2^7*x3*x4^3*x*z^4*e1^4*e4^3*e2^3*e3^2 + 9170*x1^5*x2^7*x4^4*x*z^4*e1^4*e4^3*e2^3*e3^2 - 7160*x1^5*x2^7*y*z^3*e1^4*e4^4*e2^3*e3^3 - 6869*x1^5*x2^6*x3^5*x*z^4*e1^4*e4^3*e2^3*e3^2 + 7845*x1^5*x2^6*x3^4*x4*x*z^4*e1^4*e4^3*e2^3*e3^2 + 5000*x1^5*x2^6*x3^3*x4^2*x*z^4*e1^4*e4^3*e2^3*e3^2 - 930*x1^5*x2^6*x3^2*x4^3*x*z^4*e1^4*e4^3*e2^3*e3^2 + 6911*x1^5*x2^6*x3*x4^4*x*z^4*e1^4*e4^3*e2^3*e3^2 + 9008*x1^5*x2^6*x3*y*z^3*e1^4*e4^4*e2^3*e3^3 + 2468*x1^5*x2^6*x4^5*x*z^4*e1^4*e4^3*e2^3*e3^2 - 1534*x1^5*x2^6*x4*y*z^3*e1^4*e4^4*e2^3*e3^3 - 6608*x1^5*x2^5*x3^6*x*z^4*e1^4*e4^3*e2^3*e3^2 + 637*x1^5*x2^5*x3^5*x4*x*z^4*e1^4*e4^3*e2^3*e3^2 - 355*x1^5*x2^5*x3^4*x4^2*x*z^4*e1^4*e4^3*e2^3*e3^2 + 6960*x1^5*x2^5*x3^3*x4^3*x*z^4*e1^4*e4^3*e2^3*e3^2 + 5011*x1^5*x2^5*x3^2*x4^4*x*z^4*e1^4*e4^3*e2^3*e3^2 - 9502*x1^5*x2^5*x3^2*y*z^3*e1^4*e4^4*e2^3*e3^3 - 756*x1^5*x2^5*x3*x4^5*x*z^4*e1^4*e4^3*e2^3*e3^2 + 5070*x1^5*x2^5*x3*x4*y*z^3*e1^4*e4^4*e2^3*e3^3 + 4932*x1^5*x2^5*x4^6*x*z^4*e1^4*e4^3*e2^3*e3^2 + 6729*x1^5*x2^5*x4^2*y*z^3*e1^4*e4^4*e2^3*e3^3 - 4799*x1^5*x2^4*x3^7*x*z^4*e1^4*e4^3*e2^3*e3^2 - 7307*x1^5*x2^4*x3^6*x4*x*z^4*e1^4*e4^3*e2^3*e3^2 + 4643*x1^5*x2^4*x3^5*x4^2*x*z^4*e1^4*e4^3*e2^3*e3^2 + 9817*x1^5*x2^4*x3^4*x4^3*x*z^4*e1^4*e4^3*e2^3*e3^2 - 2279*x1^5*x2^4*x3^3*x4^4*x*z^4*e1^4*e4^3*e2^3*e3^2 - 3001*x1^5*x2^4*x3^3*y*z^3*e1^4*e4^4*e2^3*e3^3 + 9008*x1^5*x2^4*x3^2*x4^5*x*z^4*e1^4*e4^3*e2^3*e3^2 - 9120*x1^5*x2^4*x3^2*x4*y*z^3*e1^4*e4^4*e2^3*e3^3 + 6457*x1^5*x2^4*x3*x4^6*x*z^4*e1^4*e4^3*e2^3*e3^2 + 1866*x1^5*x2^4*x3*x4^2*y*z^3*e1^4*e4^4*e2^3*e3^3 - 8136*x1^5*x2^4*x4^7*x*z^4*e1^4*e4^3*e2^3*e3^2 - 1260*x1^5*x2^4*x4^3*y*z^3*e1^4*e4^4*e2^3*e3^3 + 8911*x1^5*x2^3*x3^8*x*z^4*e1^4*e4^3*e2^3*e3^2 - 8947*x1^5*x2^3*x3^7*x4*x*z^4*e1^4*e4^3*e2^3*e3^2 + 5115*x1^5*x2^3*x3^6*x4^2*x*z^4*e1^4*e4^3*e2^3*e3^2 - 7916*x1^5*x2^3*x3^5*x4^3*x*z^4*e1^4*e4^3*e2^3*e3^2 - 9374*x1^5*x2^3*x3^4*x4^4*x*z^4*e1^4*e4^3*e2^3*e3^2 + 2345*x1^5*x2^3*x3^4*y*z^3*e1^4*e4^4*e2^3*e3^3 - 5137*x1^5*x2^3*x3^3*x4^5*x*z^4*e1^4*e4^3*e2^3*e3^2 + 319*x1^5*x2^3*x3^3*x4*y*z^3*e1^4*e4^4*e2^3*e3^3 - 6235*x1^5*x2^3*x3^2*x4^6*x*z^4*e1^4*e4^3*e2^3*e3^2 + 9316*x1^5*x2^3*x3^2*x4^2*y*z^3*e1^4*e4^4*e2^3*e3^3 - 9275*x1^5*x2^3*x3*x4^7*x*z^4*e1^4*e4^3*e2^3*e3^2 + 6484*x1^5*x2^3*x3*x4^3*y*z^3*e1^4*e4^4*e2^3*e3^3 + 3111*x1^5*x2^3*x4^8*x*z^4*e1^4*e4^3*e2^3*e3^2 - 8554*x1^5*x2^3*x4^4*y*z^3*e1^4*e4^4*e2^3*e3^3 + 1329*x1^5*x2^3*x^2*z^2*e1^5*e4^4*e2^5*e3^4*s - 7154*x1^5*x2^2*x3^9*x*z^4*e1^4*e4^3*e2^3*e3^2 + 7722*x1^5*x2^2*x3^8*x4*x*z^4*e1^4*e4^3*e2^3*e3^2 + 6740*x1^5*x2^2*x3^7*x4^2*x*z^4*e1^4*e4^3*e2^3*e3^2 + 3285*x1^5*x2^2*x3^6*x4^3*x*z^4*e1^4*e4^3*e2^3*e3^2 + 4849*x1^5*x2^2*x3^5*x4^4*x*z^4*e1^4*e4^3*e2^3*e3^2 + 495*x1^5*x2^2*x3^5*y*z^3*e1^4*e4^4*e2^3*e3^3 - 1297*x1^5*x2^2*x3^4*x4^5*x*z^4*e1^4*e4^3*e2^3*e3^2 - 9376*x1^5*x2^2*x3^4*x4*y*z^3*e1^4*e4^4*e2^3*e3^3 - 3827*x1^5*x2^2*x3^3*x4^6*x*z^4*e1^4*e4^3*e2^3*e3^2 + 4054*x1^5*x2^2*x3^3*x4^2*y*z^3*e1^4*e4^4*e2^3*e3^3 + 4853*x1^5*x2^2*x3^2*x4^7*x*z^4*e1^4*e4^3*e2^3*e3^2 - 7261*x1^5*x2^2*x3^2*x4^3*y*z^3*e1^4*e4^4*e2^3*e3^3 - 1010*x1^5*x2^2*x3*x4^8*x*z^4*e1^4*e4^3*e2^3*e3^2 + 895*x1^5*x2^2*x3*x4^4*y*z^3*e1^4*e4^4*e2^3*e3^3 - 9084*x1^5*x2^2*x3*x^2*z^2*e1^5*e4^4*e2^5*e3^4*s + 6034*x1^5*x2^2*x4^9*x*z^4*e1^4*e4^3*e2^3*e3^2 + 9456*x1^5*x2^2*x4^5*y*z^3*e1^4*e4^4*e2^3*e3^3 + 1207*x1^5*x2^2*x4*x^2*z^2*e1^5*e4^4*e2^5*e3^4*s - 282*x1^5*x2*x3^10*x*z^4*e1^4*e4^3*e2^3*e3^2 - 692*x1^5*x2*x3^9*x4*x*z^4*e1^4*e4^3*e2^3*e3^2 + 176*x1^5*x2*x3^8*x4^2*x*z^4*e1^4*e4^3*e2^3*e3^2 - 6841*x1^5*x2*x3^7*x4^3*x*z^4*e1^4*e4^3*e2^3*e3^2 + 9423*x1^5*x2*x3^6*x4^4*x*z^4*e1^4*e4^3*e2^3*e3^2 + 7405*x1^5*x2*x3^6*y*z^3*e1^4*e4^4*e2^3*e3^3 + 3513*x1^5*x2*x3^5*x4^5*x*z^4*e1^4*e4^3*e2^3*e3^2 + 5151*x1^5*x2*x3^5*x4*y*z^3*e1^4*e4^4*e2^3*e3^3 - 8464*x1^5*x2*x3^4*x4^6*x*z^4*e1^4*e4^3*e2^3*e3^2 - 821*x1^5*x2*x3^4*x4^2*y*z^3*e1^4*e4^4*e2^3*e3^3 + 9741*x1^5*x2*x3^3*x4^7*x*z^4*e1^4*e4^3*e2^3*e3^2 + 9457*x1^5*x2*x3^3*x4^3*y*z^3*e1^4*e4^4*e2^3*e3^3 - 705*x1^5*x2*x3^2*x4^8*x*z^4*e1^4*e4^3*e2^3*e3^2 + 5020*x1^5*x2*x3^2*x4^4*y*z^3*e1^4*e4^4*e2^3*e3^3 - 8120*x1^5*x2*x3^2*x^2*z^2*e1^5*e4^4*e2^5*e3^4*s + 4137*x1^5*x2*x3*x4^9*x*z^4*e1^4*e4^3*e2^3*e3^2 + 210*x1^5*x2*x3*x4^5*y*z^3*e1^4*e4^4*e2^3*e3^3 - 8144*x1^5*x2*x3*x4*x^2*z^2*e1^5*e4^4*e2^5*e3^4*s + 7831*x1^5*x2*x4^10*x*z^4*e1^4*e4^3*e2^3*e3^2 - 502*x1^5*x2*x4^6*y*z^3*e1^4*e4^4*e2^3*e3^3 + 9610*x1^5*x2*x4^2*x^2*z^2*e1^5*e4^4*e2^5*e3^4*s + 1338*x1^5*x3^11*x*z^4*e1^4*e4^3*e2^3*e3^2 + 608*x1^5*x3^10*x4*x*z^4*e1^4*e4^3*e2^3*e3^2 - 6185*x1^5*x3^9*x4^2*x*z^4*e1^4*e4^3*e2^3*e3^2 - 417*x1^5*x3^8*x4^3*x*z^4*e1^4*e4^3*e2^3*e3^2 + 8820*x1^5*x3^7*x4^4*x*z^4*e1^4*e4^3*e2^3*e3^2 - 9427*x1^5*x3^7*y*z^3*e1^4*e4^4*e2^3*e3^3 + 5403*x1^5*x3^6*x4^5*x*z^4*e1^4*e4^3*e2^3*e3^2 - 7404*x1^5*x3^6*x4*y*z^3*e1^4*e4^4*e2^3*e3^3 - 4731*x1^5*x3^5*x4^6*x*z^4*e1^4*e4^3*e2^3*e3^2 + 2604*x1^5*x3^5*x4^2*y*z^3*e1^4*e4^4*e2^3*e3^3 + 4863*x1^5*x3^4*x4^7*x*z^4*e1^4*e4^3*e2^3*e3^2 - 392*x1^5*x3^4*x4^3*y*z^3*e1^4*e4^4*e2^3*e3^3 + 8611*x1^5*x3^3*x4^8*x*z^4*e1^4*e4^3*e2^3*e3^2 + 1271*x1^5*x3^3*x4^4*y*z^3*e1^4*e4^4*e2^3*e3^3 - 3094*x1^5*x3^3*x^2*z^2*e1^5*e4^4*e2^5*e3^4*s + 9861*x1^5*x3^2*x4^9*x*z^4*e1^4*e4^3*e2^3*e3^2 + 6331*x1^5*x3^2*x4^5*y*z^3*e1^4*e4^4*e2^3*e3^3 + 9789*x1^5*x3^2*x4*x^2*z^2*e1^5*e4^4*e2^5*e3^4*s - 1264*x1^5*x3*x4^10*x*z^4*e1^4*e4^3*e2^3*e3^2 + 5538*x1^5*x3*x4^6*y*z^3*e1^4*e4^4*e2^3*e3^3 + 1036*x1^5*x3*x4^2*x^2*z^2*e1^5*e4^4*e2^5*e3^4*s + 9161*x1^5*x4^11*x*z^4*e1^4*e4^3*e2^3*e3^2 + 4104*x1^5*x4^7*y*z^3*e1^4*e4^4*e2^3*e3^3 - 9261*x1^5*x4^3*x^2*z^2*e1^5*e4^4*e2^5*e3^4*s + 2684*x1^4*x2^12*x*z^4*e1^3*e4^2*e2^2*e3 - 9011*x1^4*x2^11*x3*x*z^4*e1^3*e4^2*e2^2*e3 - 1658*x1^4*x2^11*x4*x*z^4*e1^3*e4^2*e2^2*e3 - 8693*x1^4*x2^10*x3^2*x*z^4*e1^3*e4^2*e2^2*e3 + 3350*x1^4*x2^10*x3*x4*x*z^4*e1^3*e4^2*e2^2*e3 - 3381*x1^4*x2^10*x4^2*x*z^4*e1^3*e4^2*e2^2*e3 - 217*x1^4*x2^9*x3^3*x*z^4*e1^3*e4^2*e2^2*e3 - 2850*x1^4*x2^9*x3^2*x4*x*z^4*e1^3*e4^2*e2^2*e3 - 5412*x1^4*x2^9*x3*x4^2*x*z^4*e1^3*e4^2*e2^2*e3 + 8507*x1^4*x2^9*x4^3*x*z^4*e1^3*e4^2*e2^2*e3 + 507*x1^4*x2^8*x3^4*x*z^4*e1^3*e4^2*e2^2*e3 - 5015*x1^4*x2^8*x3^3*x4*x*z^4*e1^3*e4^2*e2^2*e3 + 7586*x1^4*x2^8*x3^2*x4^2*x*z^4*e1^3*e4^2*e2^2*e3 - 8362*x1^4*x2^8*x3*x4^3*x*z^4*e1^3*e4^2*e2^2*e3 - 6228*x1^4*x2^8*x4^4*x*z^4*e1^3*e4^2*e2^2*e3 + 4817*x1^4*x2^8*y*z^3*e1^3*e4^3*e2^2*e3^2 + 6151*x1^4*x2^7*x3^5*x*z^4*e1^3*e4^2*e2^2*e3 - 6186*x1^4*x2^7*x3^4*x4*x*z^4*e1^3*e4^2*e2^2*e3 + 4565*x1^4*x2^7*x3^3*x4^2*x*z^4*e1^3*e4^2*e2^2*e3 - 8395*x1^4*x2^7*x3^2*x4^3*x*z^4*e1^3*e4^2*e2^2*e3 + 5024*x1^4*x2^7*x3*x4^4*x*z^4*e1^3*e4^2*e2^2*e3 + 3734*x1^4*x2^7*x3*y*z^3*e1^3*e4^3*e2^2*e3^2 + 7590*x1^4*x2^7*x4^5*x*z^4*e1^3*e4^2*e2^2*e3 - 5158*x1^4*x2^7*x4*y*z^3*e1^3*e4^3*e2^2*e3^2 + 9114*x1^4*x2^6*x3^6*x*z^4*e1^3*e4^2*e2^2*e3 - 4622*x1^4*x2^6*x3^5*x4*x*z^4*e1^3*e4^2*e2^2*e3 - 5559*x1^4*x2^6*x3^4*x4^2*x*z^4*e1^3*e4^2*e2^2*e3 + 9825*x1^4*x2^6*x3^3*x4^3*x*z^4*e1^3*e4^2*e2^2*e3 + 5332*x1^4*x2^6*x3^2*x4^4*x*z^4*e1^3*e4^2*e2^2*e3 - 9625*x1^4*x2^6*x3^2*y*z^3*e1^3*e4^3*e2^2*e3^2 - 1812*x1^4*x2^6*x3*x4^5*x*z^4*e1^3*e4^2*e2^2*e3 + 2721*x1^4*x2^6*x3*x4*y*z^3*e1^3*e4^3*e2^2*e3^2 - 6307*x1^4*x2^6*x4^6*x*z^4*e1^3*e4^2*e2^2*e3 + 8587*x1^4*x2^6*x4^2*y*z^3*e1^3*e4^3*e2^2*e3^2 - 7107*x1^4*x2^5*x3^7*x*z^4*e1^3*e4^2*e2^2*e3 + 2259*x1^4*x2^5*x3^6*x4*x*z^4*e1^3*e4^2*e2^2*e3 + 3237*x1^4*x2^5*x3^5*x4^2*x*z^4*e1^3*e4^2*e2^2*e3 + 2434*x1^4*x2^5*x3^4*x4^3*x*z^4*e1^3*e4^2*e2^2*e3 - 492*x1^4*x2^5*x3^3*x4^4*x*z^4*e1^3*e4^2*e2^2*e3 + 5458*x1^4*x2^5*x3^3*y*z^3*e1^3*e4^3*e2^2*e3^2 - 1665*x1^4*x2^5*x3^2*x4^5*x*z^4*e1^3*e4^2*e2^2*e3 + 1347*x1^4*x2^5*x3^2*x4*y*z^3*e1^3*e4^3*e2^2*e3^2 + 9561*x1^4*x2^5*x3*x4^6*x*z^4*e1^3*e4^2*e2^2*e3 - 3769*x1^4*x2^5*x3*x4^2*y*z^3*e1^3*e4^3*e2^2*e3^2 - 9572*x1^4*x2^5*x4^7*x*z^4*e1^3*e4^2*e2^2*e3 - 8100*x1^4*x2^5*x4^3*y*z^3*e1^3*e4^3*e2^2*e3^2 + 2184*x1^4*x2^4*x3^8*x*z^4*e1^3*e4^2*e2^2*e3 - 6576*x1^4*x2^4*x3^7*x4*x*z^4*e1^3*e4^2*e2^2*e3 - 1420*x1^4*x2^4*x3^6*x4^2*x*z^4*e1^3*e4^2*e2^2*e3 - 6367*x1^4*x2^4*x3^5*x4^3*x*z^4*e1^3*e4^2*e2^2*e3 - 2755*x1^4*x2^4*x3^4*x4^4*x*z^4*e1^3*e4^2*e2^2*e3 - 7239*x1^4*x2^4*x3^4*y*z^3*e1^3*e4^3*e2^2*e3^2 - 6432*x1^4*x2^4*x3^3*x4^5*x*z^4*e1^3*e4^2*e2^2*e3 + 5137*x1^4*x2^4*x3^3*x4*y*z^3*e1^3*e4^3*e2^2*e3^2 + 9836*x1^4*x2^4*x3^2*x4^6*x*z^4*e1^3*e4^2*e2^2*e3 - 9328*x1^4*x2^4*x3^2*x4^2*y*z^3*e1^3*e4^3*e2^2*e3^2 + 3594*x1^4*x2^4*x3*x4^7*x*z^4*e1^3*e4^2*e2^2*e3 - 1856*x1^4*x2^4*x3*x4^3*y*z^3*e1^3*e4^3*e2^2*e3^2 + 6419*x1^4*x2^4*x4^8*x*z^4*e1^3*e4^2*e2^2*e3 - 4635*x1^4*x2^4*x4^4*y*z^3*e1^3*e4^3*e2^2*e3^2 - 3972*x1^4*x2^4*x^2*z^2*e1^4*e4^3*e2^4*e3^3*s - 5766*x1^4*x2^3*x3^9*x*z^4*e1^3*e4^2*e2^2*e3 - 2598*x1^4*x2^3*x3^8*x4*x*z^4*e1^3*e4^2*e2^2*e3 + 9380*x1^4*x2^3*x3^7*x4^2*x*z^4*e1^3*e4^2*e2^2*e3 - 6442*x1^4*x2^3*x3^6*x4^3*x*z^4*e1^3*e4^2*e2^2*e3 + 8192*x1^4*x2^3*x3^5*x4^4*x*z^4*e1^3*e4^2*e2^2*e3 + 5463*x1^4*x2^3*x3^5*y*z^3*e1^3*e4^3*e2^2*e3^2 - 7699*x1^4*x2^3*x3^4*x4^5*x*z^4*e1^3*e4^2*e2^2*e3 + 8073*x1^4*x2^3*x3^4*x4*y*z^3*e1^3*e4^3*e2^2*e3^2 + 3449*x1^4*x2^3*x3^3*x4^6*x*z^4*e1^3*e4^2*e2^2*e3 - 7745*x1^4*x2^3*x3^3*x4^2*y*z^3*e1^3*e4^3*e2^2*e3^2 - 7444*x1^4*x2^3*x3^2*x4^7*x*z^4*e1^3*e4^2*e2^2*e3 - 1934*x1^4*x2^3*x3^2*x4^3*y*z^3*e1^3*e4^3*e2^2*e3^2 - 2172*x1^4*x2^3*x3*x4^8*x*z^4*e1^3*e4^2*e2^2*e3 + 3438*x1^4*x2^3*x3*x4^4*y*z^3*e1^3*e4^3*e2^2*e3^2 - 4185*x1^4*x2^3*x3*x^2*z^2*e1^4*e4^3*e2^4*e3^3*s + 1369*x1^4*x2^3*x4^9*x*z^4*e1^3*e4^2*e2^2*e3 - 8832*x1^4*x2^3*x4^5*y*z^3*e1^3*e4^3*e2^2*e3^2 - 4766*x1^4*x2^3*x4*x^2*z^2*e1^4*e4^3*e2^4*e3^3*s + 8794*x1^4*x2^2*x3^10*x*z^4*e1^3*e4^2*e2^2*e3 + 4474*x1^4*x2^2*x3^9*x4*x*z^4*e1^3*e4^2*e2^2*e3 - 3003*x1^4*x2^2*x3^8*x4^2*x*z^4*e1^3*e4^2*e2^2*e3 + 3430*x1^4*x2^2*x3^7*x4^3*x*z^4*e1^3*e4^2*e2^2*e3 - 1766*x1^4*x2^2*x3^6*x4^4*x*z^4*e1^3*e4^2*e2^2*e3 + 7964*x1^4*x2^2*x3^6*y*z^3*e1^3*e4^3*e2^2*e3^2 - 5276*x1^4*x2^2*x3^5*x4^5*x*z^4*e1^3*e4^2*e2^2*e3 + 472*x1^4*x2^2*x3^5*x4*y*z^3*e1^3*e4^3*e2^2*e3^2 + 3576*x1^4*x2^2*x3^4*x4^6*x*z^4*e1^3*e4^2*e2^2*e3 - 8729*x1^4*x2^2*x3^4*x4^2*y*z^3*e1^3*e4^3*e2^2*e3^2 - 7105*x1^4*x2^2*x3^3*x4^7*x*z^4*e1^3*e4^2*e2^2*e3 - 7918*x1^4*x2^2*x3^3*x4^3*y*z^3*e1^3*e4^3*e2^2*e3^2 + 28*x1^4*x2^2*x3^2*x4^8*x*z^4*e1^3*e4^2*e2^2*e3 + 9008*x1^4*x2^2*x3^2*x4^4*y*z^3*e1^3*e4^3*e2^2*e3^2 - 4527*x1^4*x2^2*x3^2*x^2*z^2*e1^4*e4^3*e2^4*e3^3*s - 8049*x1^4*x2^2*x3*x4^9*x*z^4*e1^3*e4^2*e2^2*e3 + 5396*x1^4*x2^2*x3*x4^5*y*z^3*e1^3*e4^3*e2^2*e3^2 - 3841*x1^4*x2^2*x3*x4*x^2*z^2*e1^4*e4^3*e2^4*e3^3*s - 387*x1^4*x2^2*x4^10*x*z^4*e1^3*e4^2*e2^2*e3 + 856*x1^4*x2^2*x4^6*y*z^3*e1^3*e4^3*e2^2*e3^2 - 9580*x1^4*x2^2*x4^2*x^2*z^2*e1^4*e4^3*e2^4*e3^3*s - 8357*x1^4*x2*x3^11*x*z^4*e1^3*e4^2*e2^2*e3 + 232*x1^4*x2*x3^10*x4*x*z^4*e1^3*e4^2*e2^2*e3 - 3136*x1^4*x2*x3^9*x4^2*x*z^4*e1^3*e4^2*e2^2*e3 + 5908*x1^4*x2*x3^8*x4^3*x*z^4*e1^3*e4^2*e2^2*e3 + 2238*x1^4*x2*x3^7*x4^4*x*z^4*e1^3*e4^2*e2^2*e3 + 5911*x1^4*x2*x3^7*y*z^3*e1^3*e4^3*e2^2*e3^2 - 1266*x1^4*x2*x3^6*x4^5*x*z^4*e1^3*e4^2*e2^2*e3 + 2909*x1^4*x2*x3^6*x4*y*z^3*e1^3*e4^3*e2^2*e3^2 - 1327*x1^4*x2*x3^5*x4^6*x*z^4*e1^3*e4^2*e2^2*e3 + 2737*x1^4*x2*x3^5*x4^2*y*z^3*e1^3*e4^3*e2^2*e3^2 - 4911*x1^4*x2*x3^4*x4^7*x*z^4*e1^3*e4^2*e2^2*e3 + 1553*x1^4*x2*x3^4*x4^3*y*z^3*e1^3*e4^3*e2^2*e3^2 - 7103*x1^4*x2*x3^3*x4^8*x*z^4*e1^3*e4^2*e2^2*e3 - 1495*x1^4*x2*x3^3*x4^4*y*z^3*e1^3*e4^3*e2^2*e3^2 + 1938*x1^4*x2*x3^3*x^2*z^2*e1^4*e4^3*e2^4*e3^3*s - 8906*x1^4*x2*x3^2*x4^9*x*z^4*e1^3*e4^2*e2^2*e3 + 6704*x1^4*x2*x3^2*x4^5*y*z^3*e1^3*e4^3*e2^2*e3^2 - 5151*x1^4*x2*x3^2*x4*x^2*z^2*e1^4*e4^3*e2^4*e3^3*s + 5057*x1^4*x2*x3*x4^10*x*z^4*e1^3*e4^2*e2^2*e3 - 5451*x1^4*x2*x3*x4^6*y*z^3*e1^3*e4^3*e2^2*e3^2 + 2336*x1^4*x2*x3*x4^2*x^2*z^2*e1^4*e4^3*e2^4*e3^3*s - 8320*x1^4*x2*x4^11*x*z^4*e1^3*e4^2*e2^2*e3 - 6500*x1^4*x2*x4^7*y*z^3*e1^3*e4^3*e2^2*e3^2 - 5897*x1^4*x2*x4^3*x^2*z^2*e1^4*e4^3*e2^4*e3^3*s + 1876*x1^4*x3^12*x*z^4*e1^3*e4^2*e2^2*e3 + 5128*x1^4*x3^11*x4*x*z^4*e1^3*e4^2*e2^2*e3 - 5344*x1^4*x3^10*x4^2*x*z^4*e1^3*e4^2*e2^2*e3 + 3377*x1^4*x3^9*x4^3*x*z^4*e1^3*e4^2*e2^2*e3 - 9591*x1^4*x3^8*x4^4*x*z^4*e1^3*e4^2*e2^2*e3 + 8499*x1^4*x3^8*y*z^3*e1^3*e4^3*e2^2*e3^2 + 5371*x1^4*x3^7*x4^5*x*z^4*e1^3*e4^2*e2^2*e3 + 5332*x1^4*x3^7*x4*y*z^3*e1^3*e4^3*e2^2*e3^2 - 3531*x1^4*x3^6*x4^6*x*z^4*e1^3*e4^2*e2^2*e3 + 8974*x1^4*x3^6*x4^2*y*z^3*e1^3*e4^3*e2^2*e3^2 - 6993*x1^4*x3^5*x4^7*x*z^4*e1^3*e4^2*e2^2*e3 - 2626*x1^4*x3^5*x4^3*y*z^3*e1^3*e4^3*e2^2*e3^2 + 2419*x1^4*x3^4*x4^8*x*z^4*e1^3*e4^2*e2^2*e3 + 6789*x1^4*x3^4*x4^4*y*z^3*e1^3*e4^3*e2^2*e3^2 - 2436*x1^4*x3^4*x^2*z^2*e1^4*e4^3*e2^4*e3^3*s - 207*x1^4*x3^3*x4^9*x*z^4*e1^3*e4^2*e2^2*e3 + 2411*x1^4*x3^3*x4^5*y*z^3*e1^3*e4^3*e2^2*e3^2 - 6384*x1^4*x3^3*x4*x^2*z^2*e1^4*e4^3*e2^4*e3^3*s - 4011*x1^4*x3^2*x4^10*x*z^4*e1^3*e4^2*e2^2*e3 + 7763*x1^4*x3^2*x4^6*y*z^3*e1^3*e4^3*e2^2*e3^2 - 7371*x1^4*x3^2*x4^2*x^2*z^2*e1^4*e4^3*e2^4*e3^3*s + 7968*x1^4*x3*x4^11*x*z^4*e1^3*e4^2*e2^2*e3 + 6218*x1^4*x3*x4^7*y*z^3*e1^3*e4^3*e2^2*e3^2 - 6269*x1^4*x3*x4^3*x^2*z^2*e1^4*e4^3*e2^4*e3^3*s + 9165*x1^4*x4^12*x*z^4*e1^3*e4^2*e2^2*e3 - 2758*x1^4*x4^8*y*z^3*e1^3*e4^3*e2^2*e3^2 + 3566*x1^4*x4^4*x^2*z^2*e1^4*e4^3*e2^4*e3^3*s - 1950*x1^4*x*y*z*e1^4*e4^4*e2^4*e3^4*s - 4947*x1^3*x2^13*x*z^4*e1^2*e4*e2 - 3723*x1^3*x2^12*x3*x*z^4*e1^2*e4*e2 + 9706*x1^3*x2^12*x4*x*z^4*e1^2*e4*e2 - 6527*x1^3*x2^11*x3^2*x*z^4*e1^2*e4*e2 - 9314*x1^3*x2^11*x3*x4*x*z^4*e1^2*e4*e2 + 4771*x1^3*x2^11*x4^2*x*z^4*e1^2*e4*e2 - 589*x1^3*x2^10*x3^3*x*z^4*e1^2*e4*e2 - 1352*x1^3*x2^10*x3^2*x4*x*z^4*e1^2*e4*e2 - 1467*x1^3*x2^10*x3*x4^2*x*z^4*e1^2*e4*e2 + 8187*x1^3*x2^10*x4^3*x*z^4*e1^2*e4*e2 + 705*x1^3*x2^9*x3^4*x*z^4*e1^2*e4*e2 - 816*x1^3*x2^9*x3^3*x4*x*z^4*e1^2*e4*e2 - 7635*x1^3*x2^9*x3^2*x4^2*x*z^4*e1^2*e4*e2 - 495*x1^3*x2^9*x3*x4^3*x*z^4*e1^2*e4*e2 - 5865*x1^3*x2^9*x4^4*x*z^4*e1^2*e4*e2 + 2094*x1^3*x2^9*y*z^3*e1^2*e4^2*e2*e3 - 9440*x1^3*x2^8*x3^5*x*z^4*e1^2*e4*e2 - 6248*x1^3*x2^8*x3^4*x4*x*z^4*e1^2*e4*e2 + 5015*x1^3*x2^8*x3^3*x4^2*x*z^4*e1^2*e4*e2 - 3791*x1^3*x2^8*x3^2*x4^3*x*z^4*e1^2*e4*e2 + 8909*x1^3*x2^8*x3*x4^4*x*z^4*e1^2*e4*e2 + 9297*x1^3*x2^8*x3*y*z^3*e1^2*e4^2*e2*e3 - 4359*x1^3*x2^8*x4^5*x*z^4*e1^2*e4*e2 + 9917*x1^3*x2^8*x4*y*z^3*e1^2*e4^2*e2*e3 + 8841*x1^3*x2^7*x3^6*x*z^4*e1^2*e4*e2 + 7231*x1^3*x2^7*x3^5*x4*x*z^4*e1^2*e4*e2 + 4947*x1^3*x2^7*x3^4*x4^2*x*z^4*e1^2*e4*e2 + 5872*x1^3*x2^7*x3^3*x4^3*x*z^4*e1^2*e4*e2 + 5264*x1^3*x2^7*x3^2*x4^4*x*z^4*e1^2*e4*e2 + 2233*x1^3*x2^7*x3^2*y*z^3*e1^2*e4^2*e2*e3 + 7198*x1^3*x2^7*x3*x4^5*x*z^4*e1^2*e4*e2 + 2278*x1^3*x2^7*x3*x4*y*z^3*e1^2*e4^2*e2*e3 + 6737*x1^3*x2^7*x4^6*x*z^4*e1^2*e4*e2 - 504*x1^3*x2^7*x4^2*y*z^3*e1^2*e4^2*e2*e3 - 9317*x1^3*x2^6*x3^7*x*z^4*e1^2*e4*e2 + 915*x1^3*x2^6*x3^6*x4*x*z^4*e1^2*e4*e2 - 8776*x1^3*x2^6*x3^5*x4^2*x*z^4*e1^2*e4*e2 + 3852*x1^3*x2^6*x3^4*x4^3*x*z^4*e1^2*e4*e2 + 2448*x1^3*x2^6*x3^3*x4^4*x*z^4*e1^2*e4*e2 + 7642*x1^3*x2^6*x3^3*y*z^3*e1^2*e4^2*e2*e3 + 3618*x1^3*x2^6*x3^2*x4^5*x*z^4*e1^2*e4*e2 + 7639*x1^3*x2^6*x3^2*x4*y*z^3*e1^2*e4^2*e2*e3 - 7419*x1^3*x2^6*x3*x4^6*x*z^4*e1^2*e4*e2 - 6099*x1^3*x2^6*x3*x4^2*y*z^3*e1^2*e4^2*e2*e3 + 6641*x1^3*x2^6*x4^7*x*z^4*e1^2*e4*e2 - 2602*x1^3*x2^6*x4^3*y*z^3*e1^2*e4^2*e2*e3 - 7668*x1^3*x2^5*x3^8*x*z^4*e1^2*e4*e2 - 8631*x1^3*x2^5*x3^7*x4*x*z^4*e1^2*e4*e2 - 233*x1^3*x2^5*x3^6*x4^2*x*z^4*e1^2*e4*e2 + 4850*x1^3*x2^5*x3^5*x4^3*x*z^4*e1^2*e4*e2 - 4060*x1^3*x2^5*x3^4*x4^4*x*z^4*e1^2*e4*e2 + 5568*x1^3*x2^5*x3^4*y*z^3*e1^2*e4^2*e2*e3 - 1711*x1^3*x2^5*x3^3*x4^5*x*z^4*e1^2*e4*e2 - 6491*x1^3*x2^5*x3^3*x4*y*z^3*e1^2*e4^2*e2*e3 + 2535*x1^3*x2^5*x3^2*x4^6*x*z^4*e1^2*e4*e2 + 3426*x1^3*x2^5*x3^2*x4^2*y*z^3*e1^2*e4^2*e2*e3 - 5503*x1^3*x2^5*x3*x4^7*x*z^4*e1^2*e4*e2 + 7657*x1^3*x2^5*x3*x4^3*y*z^3*e1^2*e4^2*e2*e3 + 5406*x1^3*x2^5*x4^8*x*z^4*e1^2*e4*e2 + 9650*x1^3*x2^5*x4^4*y*z^3*e1^2*e4^2*e2*e3 + 3234*x1^3*x2^5*x^2*z^2*e1^3*e4^2*e2^3*e3^2*s + 8502*x1^3*x2^4*x3^9*x*z^4*e1^2*e4*e2 - 5871*x1^3*x2^4*x3^8*x4*x*z^4*e1^2*e4*e2 + 2134*x1^3*x2^4*x3^7*x4^2*x*z^4*e1^2*e4*e2 - 575*x1^3*x2^4*x3^6*x4^3*x*z^4*e1^2*e4*e2 - 7226*x1^3*x2^4*x3^5*x4^4*x*z^4*e1^2*e4*e2 - 9013*x1^3*x2^4*x3^5*y*z^3*e1^2*e4^2*e2*e3 + 9905*x1^3*x2^4*x3^4*x4^5*x*z^4*e1^2*e4*e2 + 5818*x1^3*x2^4*x3^4*x4*y*z^3*e1^2*e4^2*e2*e3 - 9445*x1^3*x2^4*x3^3*x4^6*x*z^4*e1^2*e4*e2 + 5945*x1^3*x2^4*x3^3*x4^2*y*z^3*e1^2*e4^2*e2*e3 - 4153*x1^3*x2^4*x3^2*x4^7*x*z^4*e1^2*e4*e2 - 1626*x1^3*x2^4*x3^2*x4^3*y*z^3*e1^2*e4^2*e2*e3 + 1176*x1^3*x2^4*x3*x4^8*x*z^4*e1^2*e4*e2 - 9561*x1^3*x2^4*x3*x4^4*y*z^3*e1^2*e4^2*e2*e3 + 2210*x1^3*x2^4*x3*x^2*z^2*e1^3*e4^2*e2^3*e3^2*s + 7492*x1^3*x2^4*x4^9*x*z^4*e1^2*e4*e2 + 8773*x1^3*x2^4*x4^5*y*z^3*e1^2*e4^2*e2*e3 + 5583*x1^3*x2^4*x4*x^2*z^2*e1^3*e4^2*e2^3*e3^2*s - 8748*x1^3*x2^3*x3^10*x*z^4*e1^2*e4*e2 - 6267*x1^3*x2^3*x3^9*x4*x*z^4*e1^2*e4*e2 - 5530*x1^3*x2^3*x3^8*x4^2*x*z^4*e1^2*e4*e2 - 8050*x1^3*x2^3*x3^7*x4^3*x*z^4*e1^2*e4*e2 - 5372*x1^3*x2^3*x3^6*x4^4*x*z^4*e1^2*e4*e2 + 9314*x1^3*x2^3*x3^6*y*z^3*e1^2*e4^2*e2*e3 - 122*x1^3*x2^3*x3^5*x4^5*x*z^4*e1^2*e4*e2 - 8276*x1^3*x2^3*x3^5*x4*y*z^3*e1^2*e4^2*e2*e3 - 4411*x1^3*x2^3*x3^4*x4^6*x*z^4*e1^2*e4*e2 - 984*x1^3*x2^3*x3^4*x4^2*y*z^3*e1^2*e4^2*e2*e3 + 8232*x1^3*x2^3*x3^3*x4^7*x*z^4*e1^2*e4*e2 - 8753*x1^3*x2^3*x3^3*x4^3*y*z^3*e1^2*e4^2*e2*e3 + 5689*x1^3*x2^3*x3^2*x4^8*x*z^4*e1^2*e4*e2 - 2866*x1^3*x2^3*x3^2*x4^4*y*z^3*e1^2*e4^2*e2*e3 + 633*x1^3*x2^3*x3^2*x^2*z^2*e1^3*e4^2*e2^3*e3^2*s + 4138*x1^3*x2^3*x3*x4^9*x*z^4*e1^2*e4*e2 - 3578*x1^3*x2^3*x3*x4^5*y*z^3*e1^2*e4^2*e2*e3 + 5089*x1^3*x2^3*x3*x4*x^2*z^2*e1^3*e4^2*e2^3*e3^2*s + 2922*x1^3*x2^3*x4^10*x*z^4*e1^2*e4*e2 - 9967*x1^3*x2^3*x4^6*y*z^3*e1^2*e4^2*e2*e3 - 3947*x1^3*x2^3*x4^2*x^2*z^2*e1^3*e4^2*e2^3*e3^2*s - 7898*x1^3*x2^2*x3^11*x*z^4*e1^2*e4*e2 + 127*x1^3*x2^2*x3^10*x4*x*z^4*e1^2*e4*e2 + 4838*x1^3*x2^2*x3^9*x4^2*x*z^4*e1^2*e4*e2 + 8589*x1^3*x2^2*x3^8*x4^3*x*z^4*e1^2*e4*e2 - 9178*x1^3*x2^2*x3^7*x4^4*x*z^4*e1^2*e4*e2 + 4127*x1^3*x2^2*x3^7*y*z^3*e1^2*e4^2*e2*e3 + 3358*x1^3*x2^2*x3^6*x4^5*x*z^4*e1^2*e4*e2 - 859*x1^3*x2^2*x3^6*x4*y*z^3*e1^2*e4^2*e2*e3 - 1196*x1^3*x2^2*x3^5*x4^6*x*z^4*e1^2*e4*e2 + 3853*x1^3*x2^2*x3^5*x4^2*y*z^3*e1^2*e4^2*e2*e3 + 5582*x1^3*x2^2*x3^4*x4^7*x*z^4*e1^2*e4*e2 + 9182*x1^3*x2^2*x3^4*x4^3*y*z^3*e1^2*e4^2*e2*e3 + 7606*x1^3*x2^2*x3^3*x4^8*x*z^4*e1^2*e4*e2 + 4938*x1^3*x2^2*x3^3*x4^4*y*z^3*e1^2*e4^2*e2*e3 - 3009*x1^3*x2^2*x3^3*x^2*z^2*e1^3*e4^2*e2^3*e3^2*s + 2384*x1^3*x2^2*x3^2*x4^9*x*z^4*e1^2*e4*e2 - 6386*x1^3*x2^2*x3^2*x4^5*y*z^3*e1^2*e4^2*e2*e3 + 9728*x1^3*x2^2*x3^2*x4*x^2*z^2*e1^3*e4^2*e2^3*e3^2*s + 9027*x1^3*x2^2*x3*x4^10*x*z^4*e1^2*e4*e2 - 812*x1^3*x2^2*x3*x4^6*y*z^3*e1^2*e4^2*e2*e3 + 3620*x1^3*x2^2*x3*x4^2*x^2*z^2*e1^3*e4^2*e2^3*e3^2*s + 4006*x1^3*x2^2*x4^11*x*z^4*e1^2*e4*e2 - 240*x1^3*x2^2*x4^7*y*z^3*e1^2*e4^2*e2*e3 + 2184*x1^3*x2^2*x4^3*x^2*z^2*e1^3*e4^2*e2^3*e3^2*s - 2452*x1^3*x2*x3^12*x*z^4*e1^2*e4*e2 + 4098*x1^3*x2*x3^11*x4*x*z^4*e1^2*e4*e2 - 7777*x1^3*x2*x3^10*x4^2*x*z^4*e1^2*e4*e2 + 4310*x1^3*x2*x3^9*x4^3*x*z^4*e1^2*e4*e2 + 7924*x1^3*x2*x3^8*x4^4*x*z^4*e1^2*e4*e2 + 332*x1^3*x2*x3^8*y*z^3*e1^2*e4^2*e2*e3 - 6618*x1^3*x2*x3^7*x4^5*x*z^4*e1^2*e4*e2 + 1047*x1^3*x2*x3^7*x4*y*z^3*e1^2*e4^2*e2*e3 + 5929*x1^3*x2*x3^6*x4^6*x*z^4*e1^2*e4*e2 - 7634*x1^3*x2*x3^6*x4^2*y*z^3*e1^2*e4^2*e2*e3 + 1600*x1^3*x2*x3^5*x4^7*x*z^4*e1^2*e4*e2 - 4706*x1^3*x2*x3^5*x4^3*y*z^3*e1^2*e4^2*e2*e3 + 946*x1^3*x2*x3^4*x4^8*x*z^4*e1^2*e4*e2 + 460*x1^3*x2*x3^4*x4^4*y*z^3*e1^2*e4^2*e2*e3 + 5477*x1^3*x2*x3^4*x^2*z^2*e1^3*e4^2*e2^3*e3^2*s + 9031*x1^3*x2*x3^3*x4^9*x*z^4*e1^2*e4*e2 - 531*x1^3*x2*x3^3*x4^5*y*z^3*e1^2*e4^2*e2*e3 - 2733*x1^3*x2*x3^3*x4*x^2*z^2*e1^3*e4^2*e2^3*e3^2*s - 6512*x1^3*x2*x3^2*x4^10*x*z^4*e1^2*e4*e2 - 6858*x1^3*x2*x3^2*x4^6*y*z^3*e1^2*e4^2*e2*e3 + 7842*x1^3*x2*x3^2*x4^2*x^2*z^2*e1^3*e4^2*e2^3*e3^2*s - 1461*x1^3*x2*x3*x4^11*x*z^4*e1^2*e4*e2 - 1944*x1^3*x2*x3*x4^7*y*z^3*e1^2*e4^2*e2*e3 - 4948*x1^3*x2*x3*x4^3*x^2*z^2*e1^3*e4^2*e2^3*e3^2*s - 6107*x1^3*x2*x4^12*x*z^4*e1^2*e4*e2 - 2012*x1^3*x2*x4^8*y*z^3*e1^2*e4^2*e2*e3 + 5296*x1^3*x2*x4^4*x^2*z^2*e1^3*e4^2*e2^3*e3^2*s - 9021*x1^3*x2*x*y*z*e1^3*e4^3*e2^3*e3^3*s - 3063*x1^3*x3^13*x*z^4*e1^2*e4*e2 + 9998*x1^3*x3^12*x4*x*z^4*e1^2*e4*e2 + 1118*x1^3*x3^11*x4^2*x*z^4*e1^2*e4*e2 + 7410*x1^3*x3^10*x4^3*x*z^4*e1^2*e4*e2 + 8953*x1^3*x3^9*x4^4*x*z^4*e1^2*e4*e2 + 8360*x1^3*x3^9*y*z^3*e1^2*e4^2*e2*e3 + 6658*x1^3*x3^8*x4^5*x*z^4*e1^2*e4*e2 - 1413*x1^3*x3^8*x4*y*z^3*e1^2*e4^2*e2*e3 - 3694*x1^3*x3^7*x4^6*x*z^4*e1^2*e4*e2 + 8340*x1^3*x3^7*x4^2*y*z^3*e1^2*e4^2*e2*e3 + 5849*x1^3*x3^6*x4^7*x*z^4*e1^2*e4*e2 - 9589*x1^3*x3^6*x4^3*y*z^3*e1^2*e4^2*e2*e3 + 8172*x1^3*x3^5*x4^8*x*z^4*e1^2*e4*e2 - 5691*x1^3*x3^5*x4^4*y*z^3*e1^2*e4^2*e2*e3 - 328*x1^3*x3^5*x^2*z^2*e1^3*e4^2*e2^3*e3^2*s + 7134*x1^3*x3^4*x4^9*x*z^4*e1^2*e4*e2 + 3649*x1^3*x3^4*x4^5*y*z^3*e1^2*e4^2*e2*e3 - 2182*x1^3*x3^4*x4*x^2*z^2*e1^3*e4^2*e2^3*e3^2*s - 7339*x1^3*x3^3*x4^10*x*z^4*e1^2*e4*e2 + 1264*x1^3*x3^3*x4^6*y*z^3*e1^2*e4^2*e2*e3 - 6271*x1^3*x3^3*x4^2*x^2*z^2*e1^3*e4^2*e2^3*e3^2*s + 8893*x1^3*x3^2*x4^11*x*z^4*e1^2*e4*e2 + 6395*x1^3*x3^2*x4^7*y*z^3*e1^2*e4^2*e2*e3 + 3707*x1^3*x3^2*x4^3*x^2*z^2*e1^3*e4^2*e2^3*e3^2*s - 2061*x1^3*x3*x4^12*x*z^4*e1^2*e4*e2 - 3739*x1^3*x3*x4^8*y*z^3*e1^2*e4^2*e2*e3 - 3727*x1^3*x3*x4^4*x^2*z^2*e1^3*e4^2*e2^3*e3^2*s + 9768*x1^3*x3*x*y*z*e1^3*e4^3*e2^3*e3^3*s + 3330*x1^3*x4^13*x*z^4*e1^2*e4*e2 - 6524*x1^3*x4^9*y*z^3*e1^2*e4^2*e2*e3 - 798*x1^3*x4^5*x^2*z^2*e1^3*e4^2*e2^3*e3^2*s + 1903*x1^3*x4*x*y*z*e1^3*e4^3*e2^3*e3^3*s - 3072*x1^2*x2^10*y*z^3*e1*e4 + 8846*x1^2*x2^9*x3*y*z^3*e1*e4 - 2449*x1^2*x2^9*x4*y*z^3*e1*e4 - 4845*x1^2*x2^8*x3^2*y*z^3*e1*e4 - 9895*x1^2*x2^8*x3*x4*y*z^3*e1*e4 - 1862*x1^2*x2^8*x4^2*y*z^3*e1*e4 + 9498*x1^2*x2^7*x3^3*y*z^3*e1*e4 + 8575*x1^2*x2^7*x3^2*x4*y*z^3*e1*e4 + 8414*x1^2*x2^7*x3*x4^2*y*z^3*e1*e4 - 6625*x1^2*x2^7*x4^3*y*z^3*e1*e4 + 8800*x1^2*x2^6*x3^4*y*z^3*e1*e4 - 9774*x1^2*x2^6*x3^3*x4*y*z^3*e1*e4 + 2597*x1^2*x2^6*x3^2*x4^2*y*z^3*e1*e4 + 5943*x1^2*x2^6*x3*x4^3*y*z^3*e1*e4 - 8303*x1^2*x2^6*x4^4*y*z^3*e1*e4 + 25*x1^2*x2^6*x^2*z^2*e1^2*e4*e2^2*e3*s + 221*x1^2*x2^5*x3^5*y*z^3*e1*e4 + 6462*x1^2*x2^5*x3^4*x4*y*z^3*e1*e4 + 7215*x1^2*x2^5*x3^3*x4^2*y*z^3*e1*e4 - 4256*x1^2*x2^5*x3^2*x4^3*y*z^3*e1*e4 + 3477*x1^2*x2^5*x3*x4^4*y*z^3*e1*e4 - 9103*x1^2*x2^5*x3*x^2*z^2*e1^2*e4*e2^2*e3*s + 6070*x1^2*x2^5*x4^5*y*z^3*e1*e4 + 7427*x1^2*x2^5*x4*x^2*z^2*e1^2*e4*e2^2*e3*s + 7941*x1^2*x2^4*x3^6*y*z^3*e1*e4 + 3280*x1^2*x2^4*x3^5*x4*y*z^3*e1*e4 + 7183*x1^2*x2^4*x3^4*x4^2*y*z^3*e1*e4 + 2137*x1^2*x2^4*x3^3*x4^3*y*z^3*e1*e4 + 8559*x1^2*x2^4*x3^2*x4^4*y*z^3*e1*e4 - 2037*x1^2*x2^4*x3^2*x^2*z^2*e1^2*e4*e2^2*e3*s + 5350*x1^2*x2^4*x3*x4^5*y*z^3*e1*e4 - 3336*x1^2*x2^4*x3*x4*x^2*z^2*e1^2*e4*e2^2*e3*s + 2617*x1^2*x2^4*x4^6*y*z^3*e1*e4 + 1905*x1^2*x2^4*x4^2*x^2*z^2*e1^2*e4*e2^2*e3*s - 7001*x1^2*x2^3*x3^7*y*z^3*e1*e4 - 1391*x1^2*x2^3*x3^6*x4*y*z^3*e1*e4 + 8310*x1^2*x2^3*x3^5*x4^2*y*z^3*e1*e4 + 3099*x1^2*x2^3*x3^4*x4^3*y*z^3*e1*e4 - 1696*x1^2*x2^3*x3^3*x4^4*y*z^3*e1*e4 + 3028*x1^2*x2^3*x3^3*x^2*z^2*e1^2*e4*e2^2*e3*s + 1061*x1^2*x2^3*x3^2*x4^5*y*z^3*e1*e4 - 5427*x1^2*x2^3*x3^2*x4*x^2*z^2*e1^2*e4*e2^2*e3*s + 8789*x1^2*x2^3*x3*x4^6*y*z^3*e1*e4 - 7891*x1^2*x2^3*x3*x4^2*x^2*z^2*e1^2*e4*e2^2*e3*s - 9456*x1^2*x2^3*x4^7*y*z^3*e1*e4 + 7950*x1^2*x2^3*x4^3*x^2*z^2*e1^2*e4*e2^2*e3*s + 7549*x1^2*x2^2*x3^8*y*z^3*e1*e4 + 7956*x1^2*x2^2*x3^7*x4*y*z^3*e1*e4 - 7465*x1^2*x2^2*x3^6*x4^2*y*z^3*e1*e4 - 3221*x1^2*x2^2*x3^5*x4^3*y*z^3*e1*e4 + 1407*x1^2*x2^2*x3^4*x4^4*y*z^3*e1*e4 + 2762*x1^2*x2^2*x3^4*x^2*z^2*e1^2*e4*e2^2*e3*s - 4692*x1^2*x2^2*x3^3*x4^5*y*z^3*e1*e4 - 5436*x1^2*x2^2*x3^3*x4*x^2*z^2*e1^2*e4*e2^2*e3*s + 8694*x1^2*x2^2*x3^2*x4^6*y*z^3*e1*e4 + 585*x1^2*x2^2*x3^2*x4^2*x^2*z^2*e1^2*e4*e2^2*e3*s + 636*x1^2*x2^2*x3*x4^7*y*z^3*e1*e4 - 105*x1^2*x2^2*x3*x4^3*x^2*z^2*e1^2*e4*e2^2*e3*s - 5096*x1^2*x2^2*x4^8*y*z^3*e1*e4 + 4723*x1^2*x2^2*x4^4*x^2*z^2*e1^2*e4*e2^2*e3*s - 8696*x1^2*x2^2*x*y*z*e1^2*e4^2*e2^2*e3^2*s - 6328*x1^2*x2*x3^9*y*z^3*e1*e4 + 6032*x1^2*x2*x3^8*x4*y*z^3*e1*e4 - 5400*x1^2*x2*x3^7*x4^2*y*z^3*e1*e4 - 3688*x1^2*x2*x3^6*x4^3*y*z^3*e1*e4 + 1133*x1^2*x2*x3^5*x4^4*y*z^3*e1*e4 + 8023*x1^2*x2*x3^5*x^2*z^2*e1^2*e4*e2^2*e3*s - 6080*x1^2*x2*x3^4*x4^5*y*z^3*e1*e4 - 7006*x1^2*x2*x3^4*x4*x^2*z^2*e1^2*e4*e2^2*e3*s + 4623*x1^2*x2*x3^3*x4^6*y*z^3*e1*e4 - 3545*x1^2*x2*x3^3*x4^2*x^2*z^2*e1^2*e4*e2^2*e3*s + 997*x1^2*x2*x3^2*x4^7*y*z^3*e1*e4 + 7621*x1^2*x2*x3^2*x4^3*x^2*z^2*e1^2*e4*e2^2*e3*s + 2281*x1^2*x2*x3*x4^8*y*z^3*e1*e4 - 5455*x1^2*x2*x3*x4^4*x^2*z^2*e1^2*e4*e2^2*e3*s + 6057*x1^2*x2*x3*x*y*z*e1^2*e4^2*e2^2*e3^2*s + 6951*x1^2*x2*x4^9*y*z^3*e1*e4 - 4833*x1^2*x2*x4^5*x^2*z^2*e1^2*e4*e2^2*e3*s + 4224*x1^2*x2*x4*x*y*z*e1^2*e4^2*e2^2*e3^2*s - 4870*x1^2*x3^10*y*z^3*e1*e4 - 2497*x1^2*x3^9*x4*y*z^3*e1*e4 - 6364*x1^2*x3^8*x4^2*y*z^3*e1*e4 - 1537*x1^2*x3^7*x4^3*y*z^3*e1*e4 - 6896*x1^2*x3^6*x4^4*y*z^3*e1*e4 + 2156*x1^2*x3^6*x^2*z^2*e1^2*e4*e2^2*e3*s + 7656*x1^2*x3^5*x4^5*y*z^3*e1*e4 - 6679*x1^2*x3^5*x4*x^2*z^2*e1^2*e4*e2^2*e3*s + 1891*x1^2*x3^4*x4^6*y*z^3*e1*e4 - 2136*x1^2*x3^4*x4^2*x^2*z^2*e1^2*e4*e2^2*e3*s + 6491*x1^2*x3^3*x4^7*y*z^3*e1*e4 + 1365*x1^2*x3^3*x4^3*x^2*z^2*e1^2*e4*e2^2*e3*s - 4076*x1^2*x3^2*x4^8*y*z^3*e1*e4 - 2393*x1^2*x3^2*x4^4*x^2*z^2*e1^2*e4*e2^2*e3*s + 6482*x1^2*x3^2*x*y*z*e1^2*e4^2*e2^2*e3^2*s + 3370*x1^2*x3*x4^9*y*z^3*e1*e4 + 5629*x1^2*x3*x4^5*x^2*z^2*e1^2*e4*e2^2*e3*s - 5346*x1^2*x3*x4*x*y*z*e1^2*e4^2*e2^2*e3^2*s + 9523*x1^2*x4^10*y*z^3*e1*e4 - 2895*x1^2*x4^6*x^2*z^2*e1^2*e4*e2^2*e3*s + 2630*x1^2*x4^2*x*y*z*e1^2*e4^2*e2^2*e3^2*s - 1517*x1*x2^7*x^2*z^2*e1*e2*s + 7108*x1*x2^6*x3*x^2*z^2*e1*e2*s + 7624*x1*x2^6*x4*x^2*z^2*e1*e2*s + 633*x1*x2^5*x3^2*x^2*z^2*e1*e2*s + 5755*x1*x2^5*x3*x4*x^2*z^2*e1*e2*s + 6969*x1*x2^5*x4^2*x^2*z^2*e1*e2*s - 9811*x1*x2^4*x3^3*x^2*z^2*e1*e2*s + 7772*x1*x2^4*x3^2*x4*x^2*z^2*e1*e2*s + 8597*x1*x2^4*x3*x4^2*x^2*z^2*e1*e2*s - 8546*x1*x2^4*x4^3*x^2*z^2*e1*e2*s + 382*x1*x2^3*x3^4*x^2*z^2*e1*e2*s + 7407*x1*x2^3*x3^3*x4*x^2*z^2*e1*e2*s - 7207*x1*x2^3*x3^2*x4^2*x^2*z^2*e1*e2*s - 3249*x1*x2^3*x3*x4^3*x^2*z^2*e1*e2*s - 2550*x1*x2^3*x4^4*x^2*z^2*e1*e2*s - 9279*x1*x2^3*x*y*z*e1*e4*e2*e3*s + 1186*x1*x2^2*x3^5*x^2*z^2*e1*e2*s - 9957*x1*x2^2*x3^4*x4*x^2*z^2*e1*e2*s + 4731*x1*x2^2*x3^3*x4^2*x^2*z^2*e1*e2*s + 3834*x1*x2^2*x3^2*x4^3*x^2*z^2*e1*e2*s + 3627*x1*x2^2*x3*x4^4*x^2*z^2*e1*e2*s - 3310*x1*x2^2*x3*x*y*z*e1*e4*e2*e3*s + 7290*x1*x2^2*x4^5*x^2*z^2*e1*e2*s - 6154*x1*x2^2*x4*x*y*z*e1*e4*e2*e3*s + 6515*x1*x2*x3^6*x^2*z^2*e1*e2*s - 5344*x1*x2*x3^5*x4*x^2*z^2*e1*e2*s + 2107*x1*x2*x3^4*x4^2*x^2*z^2*e1*e2*s + 5851*x1*x2*x3^3*x4^3*x^2*z^2*e1*e2*s - 6166*x1*x2*x3^2*x4^4*x^2*z^2*e1*e2*s + 2655*x1*x2*x3^2*x*y*z*e1*e4*e2*e3*s - 4608*x1*x2*x3*x4^5*x^2*z^2*e1*e2*s + 5611*x1*x2*x3*x4*x*y*z*e1*e4*e2*e3*s + 8826*x1*x2*x4^6*x^2*z^2*e1*e2*s - 2462*x1*x2*x4^2*x*y*z*e1*e4*e2*e3*s - 1942*x1*x3^7*x^2*z^2*e1*e2*s + 9780*x1*x3^6*x4*x^2*z^2*e1*e2*s - 4003*x1*x3^5*x4^2*x^2*z^2*e1*e2*s - 2253*x1*x3^4*x4^3*x^2*z^2*e1*e2*s - 8200*x1*x3^3*x4^4*x^2*z^2*e1*e2*s - 8161*x1*x3^3*x*y*z*e1*e4*e2*e3*s + 6762*x1*x3^2*x4^5*x^2*z^2*e1*e2*s + 9857*x1*x3^2*x4*x*y*z*e1*e4*e2*e3*s - 7892*x1*x3*x4^6*x^2*z^2*e1*e2*s + 4477*x1*x3*x4^2*x*y*z*e1*e4*e2*e3*s - 8835*x1*x4^7*x^2*z^2*e1*e2*s - 8962*x1*x4^3*x*y*z*e1*e4*e2*e3*s + 6934*x2^4*x*y*z*s + 8675*x2^3*x3*x*y*z*s + 567*x2^3*x4*x*y*z*s + 2353*x2^2*x3^2*x*y*z*s + 6801*x2^2*x3*x4*x*y*z*s + 3739*x2^2*x4^2*x*y*z*s - 9186*x2*x3^3*x*y*z*s - 9176*x2*x3^2*x4*x*y*z*s + 8058*x2*x3*x4^2*x*y*z*s - 6749*x2*x4^3*x*y*z*s - 9299*x3^4*x*y*z*s + 3281*x3^3*x4*x*y*z*s + 3624*x3^2*x4^2*x*y*z*s + 767*x3*x4^3*x*y*z*s - 7424*x4^4*x*y*z*s + x^3*e1*e2^2*e3*s^2 - y^2*e4*e3*s"
      ]
     },
     "execution_count": 41,
     "metadata": {},
     "output_type": "execute_result"
    }
   ],
   "source": [
    "tate_polynomial(t_res)"
   ]
  },
  {
   "cell_type": "code",
   "execution_count": 42,
   "id": "194c5ecf-3435-4be4-9e25-4bdf401e561c",
   "metadata": {},
   "outputs": [
    {
     "data": {
      "text/plain": [
       "Toric line bundle on a normal toric variety"
      ]
     },
     "execution_count": 42,
     "metadata": {},
     "output_type": "execute_result"
    }
   ],
   "source": [
    "W = toric_line_bundle(2 * torusinvariant_prime_divisors(B3)[1])"
   ]
  },
  {
   "cell_type": "code",
   "execution_count": 43,
   "id": "d3050414-a80f-4a55-8654-4ef5f70b6291",
   "metadata": {},
   "outputs": [
    {
     "data": {
      "text/plain": [
       "-8342*x1^2 - 5215*x1*x2 + 5374*x1*x3 + 1276*x1*x4 + 9842*x2^2 + 1089*x2*x3 - 7698*x2*x4 - 2496*x3^2 + 8190*x3*x4 + 2188*x4^2"
      ]
     },
     "execution_count": 43,
     "metadata": {},
     "output_type": "execute_result"
    }
   ],
   "source": [
    "w = generic_section(W)"
   ]
  },
  {
   "cell_type": "code",
   "execution_count": 44,
   "id": "d6f69136-7c4c-4bb1-b83a-0c58810b4d36",
   "metadata": {},
   "outputs": [
    {
     "data": {
      "text/plain": [
       "Global Tate model over a concrete base"
      ]
     },
     "execution_count": 44,
     "metadata": {},
     "output_type": "execute_result"
    }
   ],
   "source": [
    "a10 = generic_section(Kbar);\n",
    "a21 = generic_section(Kbar^2*W^(-1));\n",
    "a32 = generic_section(Kbar^3*W^(-2));\n",
    "a43 = generic_section(Kbar^4*W^(-3));\n",
    "a6 = zero(cox_ring(B3));\n",
    "t2 = global_tate_model(B3, [a10, a21 * w, a32 * w^2, a43 * w^3, a6])"
   ]
  },
  {
   "cell_type": "code",
   "execution_count": 45,
   "id": "3ff69171-1ab4-49fa-8849-d5655182fd5a",
   "metadata": {},
   "outputs": [
    {
     "data": {
      "text/plain": [
       "2-element Vector{Tuple{MPolyIdeal{<:MPolyRingElem}, Tuple{Int64, Int64, Int64}, String}}:\n",
       " (Ideal with 1 generator, (0, 0, 1), \"I_1\")\n",
       " (Ideal with 1 generator, (0, 0, 5), \"Split I_5\")"
      ]
     },
     "execution_count": 45,
     "metadata": {},
     "output_type": "execute_result"
    }
   ],
   "source": [
    "singular_loci(t2)"
   ]
  },
  {
   "cell_type": "code",
   "execution_count": 46,
   "id": "bff610c3-82dc-498a-a068-7cc826a92fa9",
   "metadata": {},
   "outputs": [
    {
     "data": {
      "text/plain": [
       "Ideal generated by\n",
       "  8342*x1^2 + 5215*x1*x2 - 5374*x1*x3 - 1276*x1*x4 - 9842*x2^2 - 1089*x2*x3 + 7698*x2*x4 + 2496*x3^2 - 8190*x3*x4 - 2188*x4^2"
      ]
     },
     "execution_count": 46,
     "metadata": {},
     "output_type": "execute_result"
    }
   ],
   "source": [
    "singular_loci(t2)[2][1]"
   ]
  },
  {
   "cell_type": "code",
   "execution_count": 47,
   "id": "a2e7676e-531c-4263-88cc-1345c98834fc",
   "metadata": {},
   "outputs": [
    {
     "data": {
      "text/plain": [
       "Partially resolved global Tate model over a concrete base"
      ]
     },
     "execution_count": 47,
     "metadata": {},
     "output_type": "execute_result"
    }
   ],
   "source": [
    "t2_1 = blow_up(t, [\"x\" , \"y\" , string(w)]; coordinate_name = \"e1\" )"
   ]
  },
  {
   "cell_type": "code",
   "execution_count": 48,
   "id": "920ee668-4524-437e-b8fd-ad25b5b847db",
   "metadata": {},
   "outputs": [
    {
     "data": {
      "text/plain": [
       "CoveredScheme{QQField}"
      ]
     },
     "execution_count": 48,
     "metadata": {},
     "output_type": "execute_result"
    }
   ],
   "source": [
    "typeof(ambient_space(t2_1))"
   ]
  },
  {
   "cell_type": "code",
   "execution_count": 49,
   "id": "1a99d08d-6180-43a3-b849-8c2a4aab69ce",
   "metadata": {},
   "outputs": [
    {
     "data": {
      "text/plain": [
       "Scheme\n",
       "  over rational field\n",
       "with default covering\n",
       "  described by patches\n",
       "     1: scheme(-(s1//s0)*x_5_1 + x_4_1, 8342*(s1//s0)*x_1_1^2 + 5215*(s1//s0)*x_1_1*x_2_1 - 5374*(s1//s0)*x_1_1*x_3_1 - 1276*(s1//s0)*x_1_1 - 9842*(s1//s0)*x_2_1^2 - 1089*(s1//s0)*x_2_1*x_3_1 + 7698*(s1//s0)*x_2_1 + 2496*(s1//s0)*x_3_1^2 - 8190*(s1//s0)*x_3_1 - 2188*(s1//s0) - (s2//s0)*x_4_1, -(s2//s0)*x_5_1 + 8342*x_1_1^2 + 5215*x_1_1*x_2_1 - 5374*x_1_1*x_3_1 - 1276*x_1_1 - 9842*x_2_1^2 - 1089*x_2_1*x_3_1 + 7698*x_2_1 + 2496*x_3_1^2 - 8190*x_3_1 - 2188)\n",
       "     2: scheme((s0//s1)*x_4_1 - x_5_1, -(s2//s1)*x_4_1 + 8342*x_1_1^2 + 5215*x_1_1*x_2_1 - 5374*x_1_1*x_3_1 - 1276*x_1_1 - 9842*x_2_1^2 - 1089*x_2_1*x_3_1 + 7698*x_2_1 + 2496*x_3_1^2 - 8190*x_3_1 - 2188, 8342*(s0//s1)*x_1_1^2 + 5215*(s0//s1)*x_1_1*x_2_1 - 5374*(s0//s1)*x_1_1*x_3_1 - 1276*(s0//s1)*x_1_1 - 9842*(s0//s1)*x_2_1^2 - 1089*(s0//s1)*x_2_1*x_3_1 + 7698*(s0//s1)*x_2_1 + 2496*(s0//s1)*x_3_1^2 - 8190*(s0//s1)*x_3_1 - 2188*(s0//s1) - (s2//s1)*x_5_1)\n",
       "     3: scheme((s0//s2)*x_4_1 - (s1//s2)*x_5_1, 8342*(s1//s2)*x_1_1^2 + 5215*(s1//s2)*x_1_1*x_2_1 - 5374*(s1//s2)*x_1_1*x_3_1 - 1276*(s1//s2)*x_1_1 - 9842*(s1//s2)*x_2_1^2 - 1089*(s1//s2)*x_2_1*x_3_1 + 7698*(s1//s2)*x_2_1 + 2496*(s1//s2)*x_3_1^2 - 8190*(s1//s2)*x_3_1 - 2188*(s1//s2) - x_4_1, 8342*(s0//s2)*x_1_1^2 + 5215*(s0//s2)*x_1_1*x_2_1 - 5374*(s0//s2)*x_1_1*x_3_1 - 1276*(s0//s2)*x_1_1 - 9842*(s0//s2)*x_2_1^2 - 1089*(s0//s2)*x_2_1*x_3_1 + 7698*(s0//s2)*x_2_1 + 2496*(s0//s2)*x_3_1^2 - 8190*(s0//s2)*x_3_1 - 2188*(s0//s2) - x_5_1)\n",
       "     4: scheme(-(s1//s0)*x_5_2 + x_4_2, 2188*(s1//s0)*x_1_2^2 - 7698*(s1//s0)*x_1_2*x_2_2 + 8190*(s1//s0)*x_1_2*x_3_2 + 1276*(s1//s0)*x_1_2 + 9842*(s1//s0)*x_2_2^2 + 1089*(s1//s0)*x_2_2*x_3_2 - 5215*(s1//s0)*x_2_2 - 2496*(s1//s0)*x_3_2^2 + 5374*(s1//s0)*x_3_2 - 8342*(s1//s0) - (s2//s0)*x_4_2, -(s2//s0)*x_5_2 + 2188*x_1_2^2 - 7698*x_1_2*x_2_2 + 8190*x_1_2*x_3_2 + 1276*x_1_2 + 9842*x_2_2^2 + 1089*x_2_2*x_3_2 - 5215*x_2_2 - 2496*x_3_2^2 + 5374*x_3_2 - 8342)\n",
       "     5: scheme((s0//s1)*x_4_2 - x_5_2, -(s2//s1)*x_4_2 + 2188*x_1_2^2 - 7698*x_1_2*x_2_2 + 8190*x_1_2*x_3_2 + 1276*x_1_2 + 9842*x_2_2^2 + 1089*x_2_2*x_3_2 - 5215*x_2_2 - 2496*x_3_2^2 + 5374*x_3_2 - 8342, 2188*(s0//s1)*x_1_2^2 - 7698*(s0//s1)*x_1_2*x_2_2 + 8190*(s0//s1)*x_1_2*x_3_2 + 1276*(s0//s1)*x_1_2 + 9842*(s0//s1)*x_2_2^2 + 1089*(s0//s1)*x_2_2*x_3_2 - 5215*(s0//s1)*x_2_2 - 2496*(s0//s1)*x_3_2^2 + 5374*(s0//s1)*x_3_2 - 8342*(s0//s1) - (s2//s1)*x_5_2)\n",
       "     6: scheme((s0//s2)*x_4_2 - (s1//s2)*x_5_2, 2188*(s1//s2)*x_1_2^2 - 7698*(s1//s2)*x_1_2*x_2_2 + 8190*(s1//s2)*x_1_2*x_3_2 + 1276*(s1//s2)*x_1_2 + 9842*(s1//s2)*x_2_2^2 + 1089*(s1//s2)*x_2_2*x_3_2 - 5215*(s1//s2)*x_2_2 - 2496*(s1//s2)*x_3_2^2 + 5374*(s1//s2)*x_3_2 - 8342*(s1//s2) - x_4_2, 2188*(s0//s2)*x_1_2^2 - 7698*(s0//s2)*x_1_2*x_2_2 + 8190*(s0//s2)*x_1_2*x_3_2 + 1276*(s0//s2)*x_1_2 + 9842*(s0//s2)*x_2_2^2 + 1089*(s0//s2)*x_2_2*x_3_2 - 5215*(s0//s2)*x_2_2 - 2496*(s0//s2)*x_3_2^2 + 5374*(s0//s2)*x_3_2 - 8342*(s0//s2) - x_5_2)\n",
       "     7: scheme(-(s1//s0)*x_5_3 + x_4_3, 8342*(s1//s0)*x_1_3^2 - 1276*(s1//s0)*x_1_3*x_2_3 - 5374*(s1//s0)*x_1_3*x_3_3 + 5215*(s1//s0)*x_1_3 - 2188*(s1//s0)*x_2_3^2 - 8190*(s1//s0)*x_2_3*x_3_3 + 7698*(s1//s0)*x_2_3 + 2496*(s1//s0)*x_3_3^2 - 1089*(s1//s0)*x_3_3 - 9842*(s1//s0) - (s2//s0)*x_4_3, -(s2//s0)*x_5_3 + 8342*x_1_3^2 - 1276*x_1_3*x_2_3 - 5374*x_1_3*x_3_3 + 5215*x_1_3 - 2188*x_2_3^2 - 8190*x_2_3*x_3_3 + 7698*x_2_3 + 2496*x_3_3^2 - 1089*x_3_3 - 9842)\n",
       "     8: scheme((s0//s1)*x_4_3 - x_5_3, -(s2//s1)*x_4_3 + 8342*x_1_3^2 - 1276*x_1_3*x_2_3 - 5374*x_1_3*x_3_3 + 5215*x_1_3 - 2188*x_2_3^2 - 8190*x_2_3*x_3_3 + 7698*x_2_3 + 2496*x_3_3^2 - 1089*x_3_3 - 9842, 8342*(s0//s1)*x_1_3^2 - 1276*(s0//s1)*x_1_3*x_2_3 - 5374*(s0//s1)*x_1_3*x_3_3 + 5215*(s0//s1)*x_1_3 - 2188*(s0//s1)*x_2_3^2 - 8190*(s0//s1)*x_2_3*x_3_3 + 7698*(s0//s1)*x_2_3 + 2496*(s0//s1)*x_3_3^2 - 1089*(s0//s1)*x_3_3 - 9842*(s0//s1) - (s2//s1)*x_5_3)\n",
       "     9: scheme((s0//s2)*x_4_3 - (s1//s2)*x_5_3, 8342*(s1//s2)*x_1_3^2 - 1276*(s1//s2)*x_1_3*x_2_3 - 5374*(s1//s2)*x_1_3*x_3_3 + 5215*(s1//s2)*x_1_3 - 2188*(s1//s2)*x_2_3^2 - 8190*(s1//s2)*x_2_3*x_3_3 + 7698*(s1//s2)*x_2_3 + 2496*(s1//s2)*x_3_3^2 - 1089*(s1//s2)*x_3_3 - 9842*(s1//s2) - x_4_3, 8342*(s0//s2)*x_1_3^2 - 1276*(s0//s2)*x_1_3*x_2_3 - 5374*(s0//s2)*x_1_3*x_3_3 + 5215*(s0//s2)*x_1_3 - 2188*(s0//s2)*x_2_3^2 - 8190*(s0//s2)*x_2_3*x_3_3 + 7698*(s0//s2)*x_2_3 + 2496*(s0//s2)*x_3_3^2 - 1089*(s0//s2)*x_3_3 - 9842*(s0//s2) - x_5_3)\n",
       "    10: scheme(-(s1//s0)*x_5_4 + x_4_4, 8342*(s1//s0)*x_1_4^2 + 5215*(s1//s0)*x_1_4*x_2_4 - 1276*(s1//s0)*x_1_4*x_3_4 - 5374*(s1//s0)*x_1_4 - 9842*(s1//s0)*x_2_4^2 + 7698*(s1//s0)*x_2_4*x_3_4 - 1089*(s1//s0)*x_2_4 - 2188*(s1//s0)*x_3_4^2 - 8190*(s1//s0)*x_3_4 + 2496*(s1//s0) - (s2//s0)*x_4_4, -(s2//s0)*x_5_4 + 8342*x_1_4^2 + 5215*x_1_4*x_2_4 - 1276*x_1_4*x_3_4 - 5374*x_1_4 - 9842*x_2_4^2 + 7698*x_2_4*x_3_4 - 1089*x_2_4 - 2188*x_3_4^2 - 8190*x_3_4 + 2496)\n",
       "    11: scheme((s0//s1)*x_4_4 - x_5_4, -(s2//s1)*x_4_4 + 8342*x_1_4^2 + 5215*x_1_4*x_2_4 - 1276*x_1_4*x_3_4 - 5374*x_1_4 - 9842*x_2_4^2 + 7698*x_2_4*x_3_4 - 1089*x_2_4 - 2188*x_3_4^2 - 8190*x_3_4 + 2496, 8342*(s0//s1)*x_1_4^2 + 5215*(s0//s1)*x_1_4*x_2_4 - 1276*(s0//s1)*x_1_4*x_3_4 - 5374*(s0//s1)*x_1_4 - 9842*(s0//s1)*x_2_4^2 + 7698*(s0//s1)*x_2_4*x_3_4 - 1089*(s0//s1)*x_2_4 - 2188*(s0//s1)*x_3_4^2 - 8190*(s0//s1)*x_3_4 + 2496*(s0//s1) - (s2//s1)*x_5_4)\n",
       "    12: scheme((s0//s2)*x_4_4 - (s1//s2)*x_5_4, 8342*(s1//s2)*x_1_4^2 + 5215*(s1//s2)*x_1_4*x_2_4 - 1276*(s1//s2)*x_1_4*x_3_4 - 5374*(s1//s2)*x_1_4 - 9842*(s1//s2)*x_2_4^2 + 7698*(s1//s2)*x_2_4*x_3_4 - 1089*(s1//s2)*x_2_4 - 2188*(s1//s2)*x_3_4^2 - 8190*(s1//s2)*x_3_4 + 2496*(s1//s2) - x_4_4, 8342*(s0//s2)*x_1_4^2 + 5215*(s0//s2)*x_1_4*x_2_4 - 1276*(s0//s2)*x_1_4*x_3_4 - 5374*(s0//s2)*x_1_4 - 9842*(s0//s2)*x_2_4^2 + 7698*(s0//s2)*x_2_4*x_3_4 - 1089*(s0//s2)*x_2_4 - 2188*(s0//s2)*x_3_4^2 - 8190*(s0//s2)*x_3_4 + 2496*(s0//s2) - x_5_4)\n",
       "    13: normal, 5-dimensional toric variety\n",
       "    14: normal, 5-dimensional toric variety\n",
       "    15: normal, 5-dimensional toric variety\n",
       "    16: normal, 5-dimensional toric variety\n",
       "    17: normal, 5-dimensional toric variety\n",
       "    18: normal, 5-dimensional toric variety\n",
       "    19: normal, 5-dimensional toric variety\n",
       "    20: normal, 5-dimensional toric variety\n",
       "  in the coordinate(s)\n",
       "     1: [(s1//s0), (s2//s0), x_1_1, x_2_1, x_3_1, x_4_1, x_5_1]\n",
       "     2: [(s0//s1), (s2//s1), x_1_1, x_2_1, x_3_1, x_4_1, x_5_1]\n",
       "     3: [(s0//s2), (s1//s2), x_1_1, x_2_1, x_3_1, x_4_1, x_5_1]\n",
       "     4: [(s1//s0), (s2//s0), x_1_2, x_2_2, x_3_2, x_4_2, x_5_2]\n",
       "     5: [(s0//s1), (s2//s1), x_1_2, x_2_2, x_3_2, x_4_2, x_5_2]\n",
       "     6: [(s0//s2), (s1//s2), x_1_2, x_2_2, x_3_2, x_4_2, x_5_2]\n",
       "     7: [(s1//s0), (s2//s0), x_1_3, x_2_3, x_3_3, x_4_3, x_5_3]\n",
       "     8: [(s0//s1), (s2//s1), x_1_3, x_2_3, x_3_3, x_4_3, x_5_3]\n",
       "     9: [(s0//s2), (s1//s2), x_1_3, x_2_3, x_3_3, x_4_3, x_5_3]\n",
       "    10: [(s1//s0), (s2//s0), x_1_4, x_2_4, x_3_4, x_4_4, x_5_4]\n",
       "    11: [(s0//s1), (s2//s1), x_1_4, x_2_4, x_3_4, x_4_4, x_5_4]\n",
       "    12: [(s0//s2), (s1//s2), x_1_4, x_2_4, x_3_4, x_4_4, x_5_4]\n",
       "    13: [x_1_5, x_2_5, x_3_5, x_4_5, x_5_5, x_6_5]\n",
       "    14: [x_1_6, x_2_6, x_3_6, x_4_6, x_5_6, x_6_6]\n",
       "    15: [x_1_7, x_2_7, x_3_7, x_4_7, x_5_7, x_6_7]\n",
       "    16: [x_1_8, x_2_8, x_3_8, x_4_8, x_5_8, x_6_8]\n",
       "    17: [x_1_9, x_2_9, x_3_9, x_4_9, x_5_9, x_6_9]\n",
       "    18: [x_1_10, x_2_10, x_3_10, x_4_10, x_5_10, x_6_10]\n",
       "    19: [x_1_11, x_2_11, x_3_11, x_4_11, x_5_11, x_6_11]\n",
       "    20: [x_1_12, x_2_12, x_3_12, x_4_12, x_5_12, x_6_12]"
      ]
     },
     "execution_count": 49,
     "metadata": {},
     "output_type": "execute_result"
    }
   ],
   "source": [
    "ambient_space(t2_1)"
   ]
  },
  {
   "cell_type": "code",
   "execution_count": 50,
   "id": "2b1d54cd-475c-4aff-8dcd-98584826b328",
   "metadata": {},
   "outputs": [],
   "source": [
    "set_resolutions(t2, [[[[\"x\" , \"y\" , \"w\" ], [\"y\" , \"e1\" ], [\"x\" , \"e4\" ], [\"y\" , \"e2\" ], [\"x\" , \"y\" ]], [\"e1\" , \"e4\" , \"e2\" , \"e3\" , \"s\" ]]])"
   ]
  },
  {
   "cell_type": "code",
   "execution_count": 51,
   "id": "5cd3aa76-7cba-4263-b2d4-e6b697f63535",
   "metadata": {},
   "outputs": [],
   "source": [
    "explicit_model_sections(t2)[\"w\" ] = w;"
   ]
  },
  {
   "cell_type": "code",
   "execution_count": 52,
   "id": "e97b471a-5e93-4f68-805e-598ee384c732",
   "metadata": {},
   "outputs": [
    {
     "data": {
      "text/plain": [
       "Partially resolved global Tate model over a concrete base"
      ]
     },
     "execution_count": 52,
     "metadata": {},
     "output_type": "execute_result"
    }
   ],
   "source": [
    "t2_res = resolve(t2, 1)"
   ]
  },
  {
   "cell_type": "code",
   "execution_count": 53,
   "id": "3e31eb98-2f91-4302-9820-1d862c3efae1",
   "metadata": {},
   "outputs": [
    {
     "data": {
      "text/plain": [
       "\u001b[32m\u001b[1mTest Passed\u001b[22m\u001b[39m\n",
       "      Thrown: ArgumentError"
      ]
     },
     "execution_count": 53,
     "metadata": {},
     "output_type": "execute_result"
    }
   ],
   "source": [
    "@test_throws ArgumentError tate_polynomial(t2_res)"
   ]
  },
  {
   "cell_type": "code",
   "execution_count": 54,
   "id": "4fe36d1f-3df1-41f3-8194-1be818df03a4",
   "metadata": {},
   "outputs": [
    {
     "data": {
      "text/plain": [
       "Sheaf of ideals\n",
       "  on scheme over QQ covered with 48 patches\n",
       "     1: [(s1//s0), (s1//s0), (s2//s0), x_1_1, x_2_1, x_3_1]   scheme(0, -(s1//s0)*(s1//s0)^2*(s2//s0) + 8342*(s1//s0)*x_1_1^2 + 5215*(s1//s0)*x_1_1*x_2_1 - 5374*(s1//s0)*x_1_1*x_3_1 - 1276*(s1//s0)*x_1_1 - 9842*(s1//s0)*x_2_1^2 - 1089*(s1//s0)*x_2_1*x_3_1 + 7698*(s1//s0)*x_2_1 + 2496*(s1//s0)*x_3_1^2 - 8190*(s1//s0)*x_3_1 - 2188*(s1//s0), -(s1//s0)*(s1//s0)*(s2//s0) + 8342*x_1_1^2 + 5215*x_1_1*x_2_1 - 5374*x_1_1*x_3_1 - 1276*x_1_1 - 9842*x_2_1^2 - 1089*x_2_1*x_3_1 + 7698*x_2_1 + 2496*x_3_1^2 - 8190*x_3_1 - 2188, 0, 0)\n",
       "     2: [(s0//s1), (s2//s0), x_1_1, x_2_1, x_3_1, x_5_1]      scheme(0, -(s0//s1)*(s2//s0)*x_5_1^2 + 8342*(s0//s1)*x_1_1^2*x_5_1 + 5215*(s0//s1)*x_1_1*x_2_1*x_5_1 - 5374*(s0//s1)*x_1_1*x_3_1*x_5_1 - 1276*(s0//s1)*x_1_1*x_5_1 - 9842*(s0//s1)*x_2_1^2*x_5_1 - 1089*(s0//s1)*x_2_1*x_3_1*x_5_1 + 7698*(s0//s1)*x_2_1*x_5_1 + 2496*(s0//s1)*x_3_1^2*x_5_1 - 8190*(s0//s1)*x_3_1*x_5_1 - 2188*(s0//s1)*x_5_1, -(s2//s0)*x_5_1 + 8342*x_1_1^2 + 5215*x_1_1*x_2_1 - 5374*x_1_1*x_3_1 - 1276*x_1_1 - 9842*x_2_1^2 - 1089*x_2_1*x_3_1 + 7698*x_2_1 + 2496*x_3_1^2 - 8190*x_3_1 - 2188, 0, 0)\n",
       "     3: [(s0//s1), (s2//s1), x_1_1, x_2_1, x_3_1, x_4_1]      scheme(0, -(s2//s1)*x_4_1 + 8342*x_1_1^2 + 5215*x_1_1*x_2_1 - 5374*x_1_1*x_3_1 - 1276*x_1_1 - 9842*x_2_1^2 - 1089*x_2_1*x_3_1 + 7698*x_2_1 + 2496*x_3_1^2 - 8190*x_3_1 - 2188, -(s0//s1)*(s2//s1)*x_4_1 + 8342*(s0//s1)*x_1_1^2 + 5215*(s0//s1)*x_1_1*x_2_1 - 5374*(s0//s1)*x_1_1*x_3_1 - 1276*(s0//s1)*x_1_1 - 9842*(s0//s1)*x_2_1^2 - 1089*(s0//s1)*x_2_1*x_3_1 + 7698*(s0//s1)*x_2_1 + 2496*(s0//s1)*x_3_1^2 - 8190*(s0//s1)*x_3_1 - 2188*(s0//s1))\n",
       "     4: [(s1//s0), (s1//s0), (s0//s2), x_1_1, x_2_1, x_3_1]   scheme(0, -(s1//s0)^2*(s1//s0)*(s0//s2)^2 + 8342*(s1//s0)*(s0//s2)*x_1_1^2 + 5215*(s1//s0)*(s0//s2)*x_1_1*x_2_1 - 5374*(s1//s0)*(s0//s2)*x_1_1*x_3_1 - 1276*(s1//s0)*(s0//s2)*x_1_1 - 9842*(s1//s0)*(s0//s2)*x_2_1^2 - 1089*(s1//s0)*(s0//s2)*x_2_1*x_3_1 + 7698*(s1//s0)*(s0//s2)*x_2_1 + 2496*(s1//s0)*(s0//s2)*x_3_1^2 - 8190*(s1//s0)*(s0//s2)*x_3_1 - 2188*(s1//s0)*(s0//s2), -(s1//s0)*(s1//s0)*(s0//s2)^2 + 8342*(s0//s2)*x_1_1^2 + 5215*(s0//s2)*x_1_1*x_2_1 - 5374*(s0//s2)*x_1_1*x_3_1 - 1276*(s0//s2)*x_1_1 - 9842*(s0//s2)*x_2_1^2 - 1089*(s0//s2)*x_2_1*x_3_1 + 7698*(s0//s2)*x_2_1 + 2496*(s0//s2)*x_3_1^2 - 8190*(s0//s2)*x_3_1 - 2188*(s0//s2), -(s1//s0)*(s1//s0)*(s0//s2) + 8342*x_1_1^2 + 5215*x_1_1*x_2_1 - 5374*x_1_1*x_3_1 - 1276*x_1_1 - 9842*x_2_1^2 - 1089*x_2_1*x_3_1 + 7698*x_2_1 + 2496*x_3_1^2 - 8190*x_3_1 - 2188, 0, 0, 0, 0)\n",
       "     5: [(s0//s1), (s1//s0), (s1//s2), x_1_1, x_2_1, x_3_1]   scheme(0, -(s1//s0)*(s1//s2)^2 + 8342*(s1//s2)*x_1_1^2 + 5215*(s1//s2)*x_1_1*x_2_1 - 5374*(s1//s2)*x_1_1*x_3_1 - 1276*(s1//s2)*x_1_1 - 9842*(s1//s2)*x_2_1^2 - 1089*(s1//s2)*x_2_1*x_3_1 + 7698*(s1//s2)*x_2_1 + 2496*(s1//s2)*x_3_1^2 - 8190*(s1//s2)*x_3_1 - 2188*(s1//s2), -(s0//s1)*(s1//s0)*(s1//s2)^2 + 8342*(s0//s1)*(s1//s2)*x_1_1^2 + 5215*(s0//s1)*(s1//s2)*x_1_1*x_2_1 - 5374*(s0//s1)*(s1//s2)*x_1_1*x_3_1 - 1276*(s0//s1)*(s1//s2)*x_1_1 - 9842*(s0//s1)*(s1//s2)*x_2_1^2 - 1089*(s0//s1)*(s1//s2)*x_2_1*x_3_1 + 7698*(s0//s1)*(s1//s2)*x_2_1 + 2496*(s0//s1)*(s1//s2)*x_3_1^2 - 8190*(s0//s1)*(s1//s2)*x_3_1 - 2188*(s0//s1)*(s1//s2), -(s1//s0)*(s1//s2) + 8342*x_1_1^2 + 5215*x_1_1*x_2_1 - 5374*x_1_1*x_3_1 - 1276*x_1_1 - 9842*x_2_1^2 - 1089*x_2_1*x_3_1 + 7698*x_2_1 + 2496*x_3_1^2 - 8190*x_3_1 - 2188, 0, 0, 0, 0)\n",
       "     6: [(s1//s0), (s1//s0), (s0//s1), x_1_1, x_2_1, x_3_1]   scheme(0, -(s1//s0)^2*(s1//s0)^2*(s0//s1)^3 + 8342*(s1//s0)*(s1//s0)*(s0//s1)^2*x_1_1^2 + 5215*(s1//s0)*(s1//s0)*(s0//s1)^2*x_1_1*x_2_1 - 5374*(s1//s0)*(s1//s0)*(s0//s1)^2*x_1_1*x_3_1 - 1276*(s1//s0)*(s1//s0)*(s0//s1)^2*x_1_1 - 9842*(s1//s0)*(s1//s0)*(s0//s1)^2*x_2_1^2 - 1089*(s1//s0)*(s1//s0)*(s0//s1)^2*x_2_1*x_3_1 + 7698*(s1//s0)*(s1//s0)*(s0//s1)^2*x_2_1 + 2496*(s1//s0)*(s1//s0)*(s0//s1)^2*x_3_1^2 - 8190*(s1//s0)*(s1//s0)*(s0//s1)^2*x_3_1 - 2188*(s1//s0)*(s1//s0)*(s0//s1)^2, -(s1//s0)^2*(s1//s0)*(s0//s1)^2 + 8342*(s1//s0)*(s0//s1)*x_1_1^2 + 5215*(s1//s0)*(s0//s1)*x_1_1*x_2_1 - 5374*(s1//s0)*(s0//s1)*x_1_1*x_3_1 - 1276*(s1//s0)*(s0//s1)*x_1_1 - 9842*(s1//s0)*(s0//s1)*x_2_1^2 - 1089*(s1//s0)*(s0//s1)*x_2_1*x_3_1 + 7698*(s1//s0)*(s0//s1)*x_2_1 + 2496*(s1//s0)*(s0//s1)*x_3_1^2 - 8190*(s1//s0)*(s0//s1)*x_3_1 - 2188*(s1//s0)*(s0//s1), -(s1//s0)*(s1//s0)*(s0//s1)^2 + 8342*(s0//s1)*x_1_1^2 + 5215*(s0//s1)*x_1_1*x_2_1 - 5374*(s0//s1)*x_1_1*x_3_1 - 1276*(s0//s1)*x_1_1 - 9842*(s0//s1)*x_2_1^2 - 1089*(s0//s1)*x_2_1*x_3_1 + 7698*(s0//s1)*x_2_1 + 2496*(s0//s1)*x_3_1^2 - 8190*(s0//s1)*x_3_1 - 2188*(s0//s1), 0, 0, 0, -(s1//s0)*(s1//s0)*(s0//s1) + 8342*x_1_1^2 + 5215*x_1_1*x_2_1 - 5374*x_1_1*x_3_1 - 1276*x_1_1 - 9842*x_2_1^2 - 1089*x_2_1*x_3_1 + 7698*x_2_1 + 2496*x_3_1^2 - 8190*x_3_1 - 2188, 0, 0, 0, 0, -(s1//s0)^3*(s1//s0)^2*(s0//s1)^3 + 8342*(s1//s0)^2*(s1//s0)*(s0//s1)^2*x_1_1^2 + 5215*(s1//s0)^2*(s1//s0)*(s0//s1)^2*x_1_1*x_2_1 - 5374*(s1//s0)^2*(s1//s0)*(s0//s1)^2*x_1_1*x_3_1 - 1276*(s1//s0)^2*(s1//s0)*(s0//s1)^2*x_1_1 - 9842*(s1//s0)^2*(s1//s0)*(s0//s1)^2*x_2_1^2 - 1089*(s1//s0)^2*(s1//s0)*(s0//s1)^2*x_2_1*x_3_1 + 7698*(s1//s0)^2*(s1//s0)*(s0//s1)^2*x_2_1 + 2496*(s1//s0)^2*(s1//s0)*(s0//s1)^2*x_3_1^2 - 8190*(s1//s0)^2*(s1//s0)*(s0//s1)^2*x_3_1 - 2188*(s1//s0)^2*(s1//s0)*(s0//s1)^2, 0, 0)\n",
       "     7: [(s0//s1), (s1//s0), (s0//s2), x_1_1, x_2_1, x_3_1]   scheme(0, -(s0//s1)*(s1//s0)^2*(s0//s2)^3 + 8342*(s0//s1)*(s1//s0)*(s0//s2)^2*x_1_1^2 + 5215*(s0//s1)*(s1//s0)*(s0//s2)^2*x_1_1*x_2_1 - 5374*(s0//s1)*(s1//s0)*(s0//s2)^2*x_1_1*x_3_1 - 1276*(s0//s1)*(s1//s0)*(s0//s2)^2*x_1_1 - 9842*(s0//s1)*(s1//s0)*(s0//s2)^2*x_2_1^2 - 1089*(s0//s1)*(s1//s0)*(s0//s2)^2*x_2_1*x_3_1 + 7698*(s0//s1)*(s1//s0)*(s0//s2)^2*x_2_1 + 2496*(s0//s1)*(s1//s0)*(s0//s2)^2*x_3_1^2 - 8190*(s0//s1)*(s1//s0)*(s0//s2)^2*x_3_1 - 2188*(s0//s1)*(s1//s0)*(s0//s2)^2, -(s1//s0)*(s0//s2)^2 + 8342*(s0//s2)*x_1_1^2 + 5215*(s0//s2)*x_1_1*x_2_1 - 5374*(s0//s2)*x_1_1*x_3_1 - 1276*(s0//s2)*x_1_1 - 9842*(s0//s2)*x_2_1^2 - 1089*(s0//s2)*x_2_1*x_3_1 + 7698*(s0//s2)*x_2_1 + 2496*(s0//s2)*x_3_1^2 - 8190*(s0//s2)*x_3_1 - 2188*(s0//s2), -(s0//s1)*(s1//s0)*(s0//s2)^2 + 8342*(s0//s1)*(s0//s2)*x_1_1^2 + 5215*(s0//s1)*(s0//s2)*x_1_1*x_2_1 - 5374*(s0//s1)*(s0//s2)*x_1_1*x_3_1 - 1276*(s0//s1)*(s0//s2)*x_1_1 - 9842*(s0//s1)*(s0//s2)*x_2_1^2 - 1089*(s0//s1)*(s0//s2)*x_2_1*x_3_1 + 7698*(s0//s1)*(s0//s2)*x_2_1 + 2496*(s0//s1)*(s0//s2)*x_3_1^2 - 8190*(s0//s1)*(s0//s2)*x_3_1 - 2188*(s0//s1)*(s0//s2), 0, 0, 0, -(s1//s0)*(s0//s2) + 8342*x_1_1^2 + 5215*x_1_1*x_2_1 - 5374*x_1_1*x_3_1 - 1276*x_1_1 - 9842*x_2_1^2 - 1089*x_2_1*x_3_1 + 7698*x_2_1 + 2496*x_3_1^2 - 8190*x_3_1 - 2188, 0, 0, 0, 0, -(s0//s1)*(s1//s0)^2*(s0//s2)^3 + 8342*(s0//s1)*(s1//s0)*(s0//s2)^2*x_1_1^2 + 5215*(s0//s1)*(s1//s0)*(s0//s2)^2*x_1_1*x_2_1 - 5374*(s0//s1)*(s1//s0)*(s0//s2)^2*x_1_1*x_3_1 - 1276*(s0//s1)*(s1//s0)*(s0//s2)^2*x_1_1 - 9842*(s0//s1)*(s1//s0)*(s0//s2)^2*x_2_1^2 - 1089*(s0//s1)*(s1//s0)*(s0//s2)^2*x_2_1*x_3_1 + 7698*(s0//s1)*(s1//s0)*(s0//s2)^2*x_2_1 + 2496*(s0//s1)*(s1//s0)*(s0//s2)^2*x_3_1^2 - 8190*(s0//s1)*(s1//s0)*(s0//s2)^2*x_3_1 - 2188*(s0//s1)*(s1//s0)*(s0//s2)^2, 0, 0)\n",
       "     8: [(s1//s0), (s0//s1), (s0//s1), x_1_1, x_2_1, x_3_1]   scheme(0, -(s1//s0)^2*(s0//s1)^3 + 8342*(s1//s0)*(s0//s1)^2*x_1_1^2 + 5215*(s1//s0)*(s0//s1)^2*x_1_1*x_2_1 - 5374*(s1//s0)*(s0//s1)^2*x_1_1*x_3_1 - 1276*(s1//s0)*(s0//s1)^2*x_1_1 - 9842*(s1//s0)*(s0//s1)^2*x_2_1^2 - 1089*(s1//s0)*(s0//s1)^2*x_2_1*x_3_1 + 7698*(s1//s0)*(s0//s1)^2*x_2_1 + 2496*(s1//s0)*(s0//s1)^2*x_3_1^2 - 8190*(s1//s0)*(s0//s1)^2*x_3_1 - 2188*(s1//s0)*(s0//s1)^2, -(s1//s0)^2*(s0//s1)*(s0//s1)^2 + 8342*(s1//s0)*(s0//s1)*(s0//s1)*x_1_1^2 + 5215*(s1//s0)*(s0//s1)*(s0//s1)*x_1_1*x_2_1 - 5374*(s1//s0)*(s0//s1)*(s0//s1)*x_1_1*x_3_1 - 1276*(s1//s0)*(s0//s1)*(s0//s1)*x_1_1 - 9842*(s1//s0)*(s0//s1)*(s0//s1)*x_2_1^2 - 1089*(s1//s0)*(s0//s1)*(s0//s1)*x_2_1*x_3_1 + 7698*(s1//s0)*(s0//s1)*(s0//s1)*x_2_1 + 2496*(s1//s0)*(s0//s1)*(s0//s1)*x_3_1^2 - 8190*(s1//s0)*(s0//s1)*(s0//s1)*x_3_1 - 2188*(s1//s0)*(s0//s1)*(s0//s1), -(s1//s0)*(s0//s1)^2 + 8342*(s0//s1)*x_1_1^2 + 5215*(s0//s1)*x_1_1*x_2_1 - 5374*(s0//s1)*x_1_1*x_3_1 - 1276*(s0//s1)*x_1_1 - 9842*(s0//s1)*x_2_1^2 - 1089*(s0//s1)*x_2_1*x_3_1 + 7698*(s0//s1)*x_2_1 + 2496*(s0//s1)*x_3_1^2 - 8190*(s0//s1)*x_3_1 - 2188*(s0//s1), 0, 0, 0, -(s1//s0)*(s0//s1)*(s0//s1) + 8342*(s0//s1)*x_1_1^2 + 5215*(s0//s1)*x_1_1*x_2_1 - 5374*(s0//s1)*x_1_1*x_3_1 - 1276*(s0//s1)*x_1_1 - 9842*(s0//s1)*x_2_1^2 - 1089*(s0//s1)*x_2_1*x_3_1 + 7698*(s0//s1)*x_2_1 + 2496*(s0//s1)*x_3_1^2 - 8190*(s0//s1)*x_3_1 - 2188*(s0//s1), 0, 0, -(s1//s0)*(s0//s1) + 8342*x_1_1^2 + 5215*x_1_1*x_2_1 - 5374*x_1_1*x_3_1 - 1276*x_1_1 - 9842*x_2_1^2 - 1089*x_2_1*x_3_1 + 7698*x_2_1 + 2496*x_3_1^2 - 8190*x_3_1 - 2188, 0, 0, 0, 0)\n",
       "     9: [(s1//s0), (s0//s1), x_1_1, x_2_1, x_3_1]             scheme(0, 0, 0, 0, 0, 0, 0, 0, 0, 0, 0, 0, 0, 0, 0, 0, 0, 0, 0)\n",
       "    10: [(s0//s1), (s0//s1), x_1_1, x_2_1, x_3_1]             scheme(0, 0, 0, 0, 0, 0, 0, 0, 0, 0, 0, 0, 0, 0, 0, 0, 0, 0, 0)\n",
       "    11: [(s1//s0), (s1//s0), (s2//s0), x_1_2, x_2_2, x_3_2]   scheme(0, -(s1//s0)*(s1//s0)^2*(s2//s0) + 2188*(s1//s0)*x_1_2^2 - 7698*(s1//s0)*x_1_2*x_2_2 + 8190*(s1//s0)*x_1_2*x_3_2 + 1276*(s1//s0)*x_1_2 + 9842*(s1//s0)*x_2_2^2 + 1089*(s1//s0)*x_2_2*x_3_2 - 5215*(s1//s0)*x_2_2 - 2496*(s1//s0)*x_3_2^2 + 5374*(s1//s0)*x_3_2 - 8342*(s1//s0), -(s1//s0)*(s1//s0)*(s2//s0) + 2188*x_1_2^2 - 7698*x_1_2*x_2_2 + 8190*x_1_2*x_3_2 + 1276*x_1_2 + 9842*x_2_2^2 + 1089*x_2_2*x_3_2 - 5215*x_2_2 - 2496*x_3_2^2 + 5374*x_3_2 - 8342, 0, 0)\n",
       "    12: [(s0//s1), (s2//s0), x_1_2, x_2_2, x_3_2, x_5_2]      scheme(0, -(s0//s1)*(s2//s0)*x_5_2^2 + 2188*(s0//s1)*x_1_2^2*x_5_2 - 7698*(s0//s1)*x_1_2*x_2_2*x_5_2 + 8190*(s0//s1)*x_1_2*x_3_2*x_5_2 + 1276*(s0//s1)*x_1_2*x_5_2 + 9842*(s0//s1)*x_2_2^2*x_5_2 + 1089*(s0//s1)*x_2_2*x_3_2*x_5_2 - 5215*(s0//s1)*x_2_2*x_5_2 - 2496*(s0//s1)*x_3_2^2*x_5_2 + 5374*(s0//s1)*x_3_2*x_5_2 - 8342*(s0//s1)*x_5_2, -(s2//s0)*x_5_2 + 2188*x_1_2^2 - 7698*x_1_2*x_2_2 + 8190*x_1_2*x_3_2 + 1276*x_1_2 + 9842*x_2_2^2 + 1089*x_2_2*x_3_2 - 5215*x_2_2 - 2496*x_3_2^2 + 5374*x_3_2 - 8342, 0, 0)\n",
       "    13: [(s0//s1), (s2//s1), x_1_2, x_2_2, x_3_2, x_4_2]      scheme(0, -(s2//s1)*x_4_2 + 2188*x_1_2^2 - 7698*x_1_2*x_2_2 + 8190*x_1_2*x_3_2 + 1276*x_1_2 + 9842*x_2_2^2 + 1089*x_2_2*x_3_2 - 5215*x_2_2 - 2496*x_3_2^2 + 5374*x_3_2 - 8342, -(s0//s1)*(s2//s1)*x_4_2 + 2188*(s0//s1)*x_1_2^2 - 7698*(s0//s1)*x_1_2*x_2_2 + 8190*(s0//s1)*x_1_2*x_3_2 + 1276*(s0//s1)*x_1_2 + 9842*(s0//s1)*x_2_2^2 + 1089*(s0//s1)*x_2_2*x_3_2 - 5215*(s0//s1)*x_2_2 - 2496*(s0//s1)*x_3_2^2 + 5374*(s0//s1)*x_3_2 - 8342*(s0//s1))\n",
       "    14: [(s1//s0), (s1//s0), (s0//s2), x_1_2, x_2_2, x_3_2]   scheme(0, -(s1//s0)^2*(s1//s0)*(s0//s2)^2 + 2188*(s1//s0)*(s0//s2)*x_1_2^2 - 7698*(s1//s0)*(s0//s2)*x_1_2*x_2_2 + 8190*(s1//s0)*(s0//s2)*x_1_2*x_3_2 + 1276*(s1//s0)*(s0//s2)*x_1_2 + 9842*(s1//s0)*(s0//s2)*x_2_2^2 + 1089*(s1//s0)*(s0//s2)*x_2_2*x_3_2 - 5215*(s1//s0)*(s0//s2)*x_2_2 - 2496*(s1//s0)*(s0//s2)*x_3_2^2 + 5374*(s1//s0)*(s0//s2)*x_3_2 - 8342*(s1//s0)*(s0//s2), -(s1//s0)*(s1//s0)*(s0//s2)^2 + 2188*(s0//s2)*x_1_2^2 - 7698*(s0//s2)*x_1_2*x_2_2 + 8190*(s0//s2)*x_1_2*x_3_2 + 1276*(s0//s2)*x_1_2 + 9842*(s0//s2)*x_2_2^2 + 1089*(s0//s2)*x_2_2*x_3_2 - 5215*(s0//s2)*x_2_2 - 2496*(s0//s2)*x_3_2^2 + 5374*(s0//s2)*x_3_2 - 8342*(s0//s2), -(s1//s0)*(s1//s0)*(s0//s2) + 2188*x_1_2^2 - 7698*x_1_2*x_2_2 + 8190*x_1_2*x_3_2 + 1276*x_1_2 + 9842*x_2_2^2 + 1089*x_2_2*x_3_2 - 5215*x_2_2 - 2496*x_3_2^2 + 5374*x_3_2 - 8342, 0, 0, 0, 0)\n",
       "    15: [(s0//s1), (s1//s0), (s1//s2), x_1_2, x_2_2, x_3_2]   scheme(0, -(s1//s0)*(s1//s2)^2 + 2188*(s1//s2)*x_1_2^2 - 7698*(s1//s2)*x_1_2*x_2_2 + 8190*(s1//s2)*x_1_2*x_3_2 + 1276*(s1//s2)*x_1_2 + 9842*(s1//s2)*x_2_2^2 + 1089*(s1//s2)*x_2_2*x_3_2 - 5215*(s1//s2)*x_2_2 - 2496*(s1//s2)*x_3_2^2 + 5374*(s1//s2)*x_3_2 - 8342*(s1//s2), -(s0//s1)*(s1//s0)*(s1//s2)^2 + 2188*(s0//s1)*(s1//s2)*x_1_2^2 - 7698*(s0//s1)*(s1//s2)*x_1_2*x_2_2 + 8190*(s0//s1)*(s1//s2)*x_1_2*x_3_2 + 1276*(s0//s1)*(s1//s2)*x_1_2 + 9842*(s0//s1)*(s1//s2)*x_2_2^2 + 1089*(s0//s1)*(s1//s2)*x_2_2*x_3_2 - 5215*(s0//s1)*(s1//s2)*x_2_2 - 2496*(s0//s1)*(s1//s2)*x_3_2^2 + 5374*(s0//s1)*(s1//s2)*x_3_2 - 8342*(s0//s1)*(s1//s2), -(s1//s0)*(s1//s2) + 2188*x_1_2^2 - 7698*x_1_2*x_2_2 + 8190*x_1_2*x_3_2 + 1276*x_1_2 + 9842*x_2_2^2 + 1089*x_2_2*x_3_2 - 5215*x_2_2 - 2496*x_3_2^2 + 5374*x_3_2 - 8342, 0, 0, 0, 0)\n",
       "    16: [(s1//s0), (s1//s0), (s0//s1), x_1_2, x_2_2, x_3_2]   scheme(0, -(s1//s0)^2*(s1//s0)^2*(s0//s1)^3 + 2188*(s1//s0)*(s1//s0)*(s0//s1)^2*x_1_2^2 - 7698*(s1//s0)*(s1//s0)*(s0//s1)^2*x_1_2*x_2_2 + 8190*(s1//s0)*(s1//s0)*(s0//s1)^2*x_1_2*x_3_2 + 1276*(s1//s0)*(s1//s0)*(s0//s1)^2*x_1_2 + 9842*(s1//s0)*(s1//s0)*(s0//s1)^2*x_2_2^2 + 1089*(s1//s0)*(s1//s0)*(s0//s1)^2*x_2_2*x_3_2 - 5215*(s1//s0)*(s1//s0)*(s0//s1)^2*x_2_2 - 2496*(s1//s0)*(s1//s0)*(s0//s1)^2*x_3_2^2 + 5374*(s1//s0)*(s1//s0)*(s0//s1)^2*x_3_2 - 8342*(s1//s0)*(s1//s0)*(s0//s1)^2, -(s1//s0)^2*(s1//s0)*(s0//s1)^2 + 2188*(s1//s0)*(s0//s1)*x_1_2^2 - 7698*(s1//s0)*(s0//s1)*x_1_2*x_2_2 + 8190*(s1//s0)*(s0//s1)*x_1_2*x_3_2 + 1276*(s1//s0)*(s0//s1)*x_1_2 + 9842*(s1//s0)*(s0//s1)*x_2_2^2 + 1089*(s1//s0)*(s0//s1)*x_2_2*x_3_2 - 5215*(s1//s0)*(s0//s1)*x_2_2 - 2496*(s1//s0)*(s0//s1)*x_3_2^2 + 5374*(s1//s0)*(s0//s1)*x_3_2 - 8342*(s1//s0)*(s0//s1), -(s1//s0)*(s1//s0)*(s0//s1)^2 + 2188*(s0//s1)*x_1_2^2 - 7698*(s0//s1)*x_1_2*x_2_2 + 8190*(s0//s1)*x_1_2*x_3_2 + 1276*(s0//s1)*x_1_2 + 9842*(s0//s1)*x_2_2^2 + 1089*(s0//s1)*x_2_2*x_3_2 - 5215*(s0//s1)*x_2_2 - 2496*(s0//s1)*x_3_2^2 + 5374*(s0//s1)*x_3_2 - 8342*(s0//s1), 0, 0, 0, -(s1//s0)*(s1//s0)*(s0//s1) + 2188*x_1_2^2 - 7698*x_1_2*x_2_2 + 8190*x_1_2*x_3_2 + 1276*x_1_2 + 9842*x_2_2^2 + 1089*x_2_2*x_3_2 - 5215*x_2_2 - 2496*x_3_2^2 + 5374*x_3_2 - 8342, 0, 0, 0, 0, -(s1//s0)^3*(s1//s0)^2*(s0//s1)^3 + 2188*(s1//s0)^2*(s1//s0)*(s0//s1)^2*x_1_2^2 - 7698*(s1//s0)^2*(s1//s0)*(s0//s1)^2*x_1_2*x_2_2 + 8190*(s1//s0)^2*(s1//s0)*(s0//s1)^2*x_1_2*x_3_2 + 1276*(s1//s0)^2*(s1//s0)*(s0//s1)^2*x_1_2 + 9842*(s1//s0)^2*(s1//s0)*(s0//s1)^2*x_2_2^2 + 1089*(s1//s0)^2*(s1//s0)*(s0//s1)^2*x_2_2*x_3_2 - 5215*(s1//s0)^2*(s1//s0)*(s0//s1)^2*x_2_2 - 2496*(s1//s0)^2*(s1//s0)*(s0//s1)^2*x_3_2^2 + 5374*(s1//s0)^2*(s1//s0)*(s0//s1)^2*x_3_2 - 8342*(s1//s0)^2*(s1//s0)*(s0//s1)^2, 0, 0)\n",
       "    17: [(s0//s1), (s1//s0), (s0//s2), x_1_2, x_2_2, x_3_2]   scheme(0, -(s0//s1)*(s1//s0)^2*(s0//s2)^3 + 2188*(s0//s1)*(s1//s0)*(s0//s2)^2*x_1_2^2 - 7698*(s0//s1)*(s1//s0)*(s0//s2)^2*x_1_2*x_2_2 + 8190*(s0//s1)*(s1//s0)*(s0//s2)^2*x_1_2*x_3_2 + 1276*(s0//s1)*(s1//s0)*(s0//s2)^2*x_1_2 + 9842*(s0//s1)*(s1//s0)*(s0//s2)^2*x_2_2^2 + 1089*(s0//s1)*(s1//s0)*(s0//s2)^2*x_2_2*x_3_2 - 5215*(s0//s1)*(s1//s0)*(s0//s2)^2*x_2_2 - 2496*(s0//s1)*(s1//s0)*(s0//s2)^2*x_3_2^2 + 5374*(s0//s1)*(s1//s0)*(s0//s2)^2*x_3_2 - 8342*(s0//s1)*(s1//s0)*(s0//s2)^2, -(s1//s0)*(s0//s2)^2 + 2188*(s0//s2)*x_1_2^2 - 7698*(s0//s2)*x_1_2*x_2_2 + 8190*(s0//s2)*x_1_2*x_3_2 + 1276*(s0//s2)*x_1_2 + 9842*(s0//s2)*x_2_2^2 + 1089*(s0//s2)*x_2_2*x_3_2 - 5215*(s0//s2)*x_2_2 - 2496*(s0//s2)*x_3_2^2 + 5374*(s0//s2)*x_3_2 - 8342*(s0//s2), -(s0//s1)*(s1//s0)*(s0//s2)^2 + 2188*(s0//s1)*(s0//s2)*x_1_2^2 - 7698*(s0//s1)*(s0//s2)*x_1_2*x_2_2 + 8190*(s0//s1)*(s0//s2)*x_1_2*x_3_2 + 1276*(s0//s1)*(s0//s2)*x_1_2 + 9842*(s0//s1)*(s0//s2)*x_2_2^2 + 1089*(s0//s1)*(s0//s2)*x_2_2*x_3_2 - 5215*(s0//s1)*(s0//s2)*x_2_2 - 2496*(s0//s1)*(s0//s2)*x_3_2^2 + 5374*(s0//s1)*(s0//s2)*x_3_2 - 8342*(s0//s1)*(s0//s2), 0, 0, 0, -(s1//s0)*(s0//s2) + 2188*x_1_2^2 - 7698*x_1_2*x_2_2 + 8190*x_1_2*x_3_2 + 1276*x_1_2 + 9842*x_2_2^2 + 1089*x_2_2*x_3_2 - 5215*x_2_2 - 2496*x_3_2^2 + 5374*x_3_2 - 8342, 0, 0, 0, 0, -(s0//s1)*(s1//s0)^2*(s0//s2)^3 + 2188*(s0//s1)*(s1//s0)*(s0//s2)^2*x_1_2^2 - 7698*(s0//s1)*(s1//s0)*(s0//s2)^2*x_1_2*x_2_2 + 8190*(s0//s1)*(s1//s0)*(s0//s2)^2*x_1_2*x_3_2 + 1276*(s0//s1)*(s1//s0)*(s0//s2)^2*x_1_2 + 9842*(s0//s1)*(s1//s0)*(s0//s2)^2*x_2_2^2 + 1089*(s0//s1)*(s1//s0)*(s0//s2)^2*x_2_2*x_3_2 - 5215*(s0//s1)*(s1//s0)*(s0//s2)^2*x_2_2 - 2496*(s0//s1)*(s1//s0)*(s0//s2)^2*x_3_2^2 + 5374*(s0//s1)*(s1//s0)*(s0//s2)^2*x_3_2 - 8342*(s0//s1)*(s1//s0)*(s0//s2)^2, 0, 0)\n",
       "    18: [(s1//s0), (s0//s1), (s0//s1), x_1_2, x_2_2, x_3_2]   scheme(0, -(s1//s0)^2*(s0//s1)^3 + 2188*(s1//s0)*(s0//s1)^2*x_1_2^2 - 7698*(s1//s0)*(s0//s1)^2*x_1_2*x_2_2 + 8190*(s1//s0)*(s0//s1)^2*x_1_2*x_3_2 + 1276*(s1//s0)*(s0//s1)^2*x_1_2 + 9842*(s1//s0)*(s0//s1)^2*x_2_2^2 + 1089*(s1//s0)*(s0//s1)^2*x_2_2*x_3_2 - 5215*(s1//s0)*(s0//s1)^2*x_2_2 - 2496*(s1//s0)*(s0//s1)^2*x_3_2^2 + 5374*(s1//s0)*(s0//s1)^2*x_3_2 - 8342*(s1//s0)*(s0//s1)^2, -(s1//s0)^2*(s0//s1)*(s0//s1)^2 + 2188*(s1//s0)*(s0//s1)*(s0//s1)*x_1_2^2 - 7698*(s1//s0)*(s0//s1)*(s0//s1)*x_1_2*x_2_2 + 8190*(s1//s0)*(s0//s1)*(s0//s1)*x_1_2*x_3_2 + 1276*(s1//s0)*(s0//s1)*(s0//s1)*x_1_2 + 9842*(s1//s0)*(s0//s1)*(s0//s1)*x_2_2^2 + 1089*(s1//s0)*(s0//s1)*(s0//s1)*x_2_2*x_3_2 - 5215*(s1//s0)*(s0//s1)*(s0//s1)*x_2_2 - 2496*(s1//s0)*(s0//s1)*(s0//s1)*x_3_2^2 + 5374*(s1//s0)*(s0//s1)*(s0//s1)*x_3_2 - 8342*(s1//s0)*(s0//s1)*(s0//s1), -(s1//s0)*(s0//s1)^2 + 2188*(s0//s1)*x_1_2^2 - 7698*(s0//s1)*x_1_2*x_2_2 + 8190*(s0//s1)*x_1_2*x_3_2 + 1276*(s0//s1)*x_1_2 + 9842*(s0//s1)*x_2_2^2 + 1089*(s0//s1)*x_2_2*x_3_2 - 5215*(s0//s1)*x_2_2 - 2496*(s0//s1)*x_3_2^2 + 5374*(s0//s1)*x_3_2 - 8342*(s0//s1), 0, 0, 0, -(s1//s0)*(s0//s1)*(s0//s1) + 2188*(s0//s1)*x_1_2^2 - 7698*(s0//s1)*x_1_2*x_2_2 + 8190*(s0//s1)*x_1_2*x_3_2 + 1276*(s0//s1)*x_1_2 + 9842*(s0//s1)*x_2_2^2 + 1089*(s0//s1)*x_2_2*x_3_2 - 5215*(s0//s1)*x_2_2 - 2496*(s0//s1)*x_3_2^2 + 5374*(s0//s1)*x_3_2 - 8342*(s0//s1), 0, 0, -(s1//s0)*(s0//s1) + 2188*x_1_2^2 - 7698*x_1_2*x_2_2 + 8190*x_1_2*x_3_2 + 1276*x_1_2 + 9842*x_2_2^2 + 1089*x_2_2*x_3_2 - 5215*x_2_2 - 2496*x_3_2^2 + 5374*x_3_2 - 8342, 0, 0, 0, 0)\n",
       "    19: [(s1//s0), (s0//s1), x_1_2, x_2_2, x_3_2]             scheme(0, 0, 0, 0, 0, 0, 0, 0, 0, 0, 0, 0, 0, 0, 0, 0, 0, 0, 0)\n",
       "    20: [(s0//s1), (s0//s1), x_1_2, x_2_2, x_3_2]             scheme(0, 0, 0, 0, 0, 0, 0, 0, 0, 0, 0, 0, 0, 0, 0, 0, 0, 0, 0)\n",
       "    21: [(s1//s0), (s1//s0), (s2//s0), x_1_3, x_2_3, x_3_3]   scheme(0, -(s1//s0)*(s1//s0)^2*(s2//s0) + 8342*(s1//s0)*x_1_3^2 - 1276*(s1//s0)*x_1_3*x_2_3 - 5374*(s1//s0)*x_1_3*x_3_3 + 5215*(s1//s0)*x_1_3 - 2188*(s1//s0)*x_2_3^2 - 8190*(s1//s0)*x_2_3*x_3_3 + 7698*(s1//s0)*x_2_3 + 2496*(s1//s0)*x_3_3^2 - 1089*(s1//s0)*x_3_3 - 9842*(s1//s0), -(s1//s0)*(s1//s0)*(s2//s0) + 8342*x_1_3^2 - 1276*x_1_3*x_2_3 - 5374*x_1_3*x_3_3 + 5215*x_1_3 - 2188*x_2_3^2 - 8190*x_2_3*x_3_3 + 7698*x_2_3 + 2496*x_3_3^2 - 1089*x_3_3 - 9842, 0, 0)\n",
       "    22: [(s0//s1), (s2//s0), x_1_3, x_2_3, x_3_3, x_5_3]      scheme(0, -(s0//s1)*(s2//s0)*x_5_3^2 + 8342*(s0//s1)*x_1_3^2*x_5_3 - 1276*(s0//s1)*x_1_3*x_2_3*x_5_3 - 5374*(s0//s1)*x_1_3*x_3_3*x_5_3 + 5215*(s0//s1)*x_1_3*x_5_3 - 2188*(s0//s1)*x_2_3^2*x_5_3 - 8190*(s0//s1)*x_2_3*x_3_3*x_5_3 + 7698*(s0//s1)*x_2_3*x_5_3 + 2496*(s0//s1)*x_3_3^2*x_5_3 - 1089*(s0//s1)*x_3_3*x_5_3 - 9842*(s0//s1)*x_5_3, -(s2//s0)*x_5_3 + 8342*x_1_3^2 - 1276*x_1_3*x_2_3 - 5374*x_1_3*x_3_3 + 5215*x_1_3 - 2188*x_2_3^2 - 8190*x_2_3*x_3_3 + 7698*x_2_3 + 2496*x_3_3^2 - 1089*x_3_3 - 9842, 0, 0)\n",
       "    23: [(s0//s1), (s2//s1), x_1_3, x_2_3, x_3_3, x_4_3]      scheme(0, -(s2//s1)*x_4_3 + 8342*x_1_3^2 - 1276*x_1_3*x_2_3 - 5374*x_1_3*x_3_3 + 5215*x_1_3 - 2188*x_2_3^2 - 8190*x_2_3*x_3_3 + 7698*x_2_3 + 2496*x_3_3^2 - 1089*x_3_3 - 9842, -(s0//s1)*(s2//s1)*x_4_3 + 8342*(s0//s1)*x_1_3^2 - 1276*(s0//s1)*x_1_3*x_2_3 - 5374*(s0//s1)*x_1_3*x_3_3 + 5215*(s0//s1)*x_1_3 - 2188*(s0//s1)*x_2_3^2 - 8190*(s0//s1)*x_2_3*x_3_3 + 7698*(s0//s1)*x_2_3 + 2496*(s0//s1)*x_3_3^2 - 1089*(s0//s1)*x_3_3 - 9842*(s0//s1))\n",
       "    24: [(s1//s0), (s1//s0), (s0//s2), x_1_3, x_2_3, x_3_3]   scheme(0, -(s1//s0)^2*(s1//s0)*(s0//s2)^2 + 8342*(s1//s0)*(s0//s2)*x_1_3^2 - 1276*(s1//s0)*(s0//s2)*x_1_3*x_2_3 - 5374*(s1//s0)*(s0//s2)*x_1_3*x_3_3 + 5215*(s1//s0)*(s0//s2)*x_1_3 - 2188*(s1//s0)*(s0//s2)*x_2_3^2 - 8190*(s1//s0)*(s0//s2)*x_2_3*x_3_3 + 7698*(s1//s0)*(s0//s2)*x_2_3 + 2496*(s1//s0)*(s0//s2)*x_3_3^2 - 1089*(s1//s0)*(s0//s2)*x_3_3 - 9842*(s1//s0)*(s0//s2), -(s1//s0)*(s1//s0)*(s0//s2)^2 + 8342*(s0//s2)*x_1_3^2 - 1276*(s0//s2)*x_1_3*x_2_3 - 5374*(s0//s2)*x_1_3*x_3_3 + 5215*(s0//s2)*x_1_3 - 2188*(s0//s2)*x_2_3^2 - 8190*(s0//s2)*x_2_3*x_3_3 + 7698*(s0//s2)*x_2_3 + 2496*(s0//s2)*x_3_3^2 - 1089*(s0//s2)*x_3_3 - 9842*(s0//s2), -(s1//s0)*(s1//s0)*(s0//s2) + 8342*x_1_3^2 - 1276*x_1_3*x_2_3 - 5374*x_1_3*x_3_3 + 5215*x_1_3 - 2188*x_2_3^2 - 8190*x_2_3*x_3_3 + 7698*x_2_3 + 2496*x_3_3^2 - 1089*x_3_3 - 9842, 0, 0, 0, 0)\n",
       "    25: [(s0//s1), (s1//s0), (s1//s2), x_1_3, x_2_3, x_3_3]   scheme(0, -(s1//s0)*(s1//s2)^2 + 8342*(s1//s2)*x_1_3^2 - 1276*(s1//s2)*x_1_3*x_2_3 - 5374*(s1//s2)*x_1_3*x_3_3 + 5215*(s1//s2)*x_1_3 - 2188*(s1//s2)*x_2_3^2 - 8190*(s1//s2)*x_2_3*x_3_3 + 7698*(s1//s2)*x_2_3 + 2496*(s1//s2)*x_3_3^2 - 1089*(s1//s2)*x_3_3 - 9842*(s1//s2), -(s0//s1)*(s1//s0)*(s1//s2)^2 + 8342*(s0//s1)*(s1//s2)*x_1_3^2 - 1276*(s0//s1)*(s1//s2)*x_1_3*x_2_3 - 5374*(s0//s1)*(s1//s2)*x_1_3*x_3_3 + 5215*(s0//s1)*(s1//s2)*x_1_3 - 2188*(s0//s1)*(s1//s2)*x_2_3^2 - 8190*(s0//s1)*(s1//s2)*x_2_3*x_3_3 + 7698*(s0//s1)*(s1//s2)*x_2_3 + 2496*(s0//s1)*(s1//s2)*x_3_3^2 - 1089*(s0//s1)*(s1//s2)*x_3_3 - 9842*(s0//s1)*(s1//s2), -(s1//s0)*(s1//s2) + 8342*x_1_3^2 - 1276*x_1_3*x_2_3 - 5374*x_1_3*x_3_3 + 5215*x_1_3 - 2188*x_2_3^2 - 8190*x_2_3*x_3_3 + 7698*x_2_3 + 2496*x_3_3^2 - 1089*x_3_3 - 9842, 0, 0, 0, 0)\n",
       "    26: [(s1//s0), (s1//s0), (s0//s1), x_1_3, x_2_3, x_3_3]   scheme(0, -(s1//s0)^2*(s1//s0)^2*(s0//s1)^3 + 8342*(s1//s0)*(s1//s0)*(s0//s1)^2*x_1_3^2 - 1276*(s1//s0)*(s1//s0)*(s0//s1)^2*x_1_3*x_2_3 - 5374*(s1//s0)*(s1//s0)*(s0//s1)^2*x_1_3*x_3_3 + 5215*(s1//s0)*(s1//s0)*(s0//s1)^2*x_1_3 - 2188*(s1//s0)*(s1//s0)*(s0//s1)^2*x_2_3^2 - 8190*(s1//s0)*(s1//s0)*(s0//s1)^2*x_2_3*x_3_3 + 7698*(s1//s0)*(s1//s0)*(s0//s1)^2*x_2_3 + 2496*(s1//s0)*(s1//s0)*(s0//s1)^2*x_3_3^2 - 1089*(s1//s0)*(s1//s0)*(s0//s1)^2*x_3_3 - 9842*(s1//s0)*(s1//s0)*(s0//s1)^2, -(s1//s0)^2*(s1//s0)*(s0//s1)^2 + 8342*(s1//s0)*(s0//s1)*x_1_3^2 - 1276*(s1//s0)*(s0//s1)*x_1_3*x_2_3 - 5374*(s1//s0)*(s0//s1)*x_1_3*x_3_3 + 5215*(s1//s0)*(s0//s1)*x_1_3 - 2188*(s1//s0)*(s0//s1)*x_2_3^2 - 8190*(s1//s0)*(s0//s1)*x_2_3*x_3_3 + 7698*(s1//s0)*(s0//s1)*x_2_3 + 2496*(s1//s0)*(s0//s1)*x_3_3^2 - 1089*(s1//s0)*(s0//s1)*x_3_3 - 9842*(s1//s0)*(s0//s1), -(s1//s0)*(s1//s0)*(s0//s1)^2 + 8342*(s0//s1)*x_1_3^2 - 1276*(s0//s1)*x_1_3*x_2_3 - 5374*(s0//s1)*x_1_3*x_3_3 + 5215*(s0//s1)*x_1_3 - 2188*(s0//s1)*x_2_3^2 - 8190*(s0//s1)*x_2_3*x_3_3 + 7698*(s0//s1)*x_2_3 + 2496*(s0//s1)*x_3_3^2 - 1089*(s0//s1)*x_3_3 - 9842*(s0//s1), 0, 0, 0, -(s1//s0)*(s1//s0)*(s0//s1) + 8342*x_1_3^2 - 1276*x_1_3*x_2_3 - 5374*x_1_3*x_3_3 + 5215*x_1_3 - 2188*x_2_3^2 - 8190*x_2_3*x_3_3 + 7698*x_2_3 + 2496*x_3_3^2 - 1089*x_3_3 - 9842, 0, 0, 0, 0, -(s1//s0)^3*(s1//s0)^2*(s0//s1)^3 + 8342*(s1//s0)^2*(s1//s0)*(s0//s1)^2*x_1_3^2 - 1276*(s1//s0)^2*(s1//s0)*(s0//s1)^2*x_1_3*x_2_3 - 5374*(s1//s0)^2*(s1//s0)*(s0//s1)^2*x_1_3*x_3_3 + 5215*(s1//s0)^2*(s1//s0)*(s0//s1)^2*x_1_3 - 2188*(s1//s0)^2*(s1//s0)*(s0//s1)^2*x_2_3^2 - 8190*(s1//s0)^2*(s1//s0)*(s0//s1)^2*x_2_3*x_3_3 + 7698*(s1//s0)^2*(s1//s0)*(s0//s1)^2*x_2_3 + 2496*(s1//s0)^2*(s1//s0)*(s0//s1)^2*x_3_3^2 - 1089*(s1//s0)^2*(s1//s0)*(s0//s1)^2*x_3_3 - 9842*(s1//s0)^2*(s1//s0)*(s0//s1)^2, 0, 0)\n",
       "    27: [(s0//s1), (s1//s0), (s0//s2), x_1_3, x_2_3, x_3_3]   scheme(0, -(s0//s1)*(s1//s0)^2*(s0//s2)^3 + 8342*(s0//s1)*(s1//s0)*(s0//s2)^2*x_1_3^2 - 1276*(s0//s1)*(s1//s0)*(s0//s2)^2*x_1_3*x_2_3 - 5374*(s0//s1)*(s1//s0)*(s0//s2)^2*x_1_3*x_3_3 + 5215*(s0//s1)*(s1//s0)*(s0//s2)^2*x_1_3 - 2188*(s0//s1)*(s1//s0)*(s0//s2)^2*x_2_3^2 - 8190*(s0//s1)*(s1//s0)*(s0//s2)^2*x_2_3*x_3_3 + 7698*(s0//s1)*(s1//s0)*(s0//s2)^2*x_2_3 + 2496*(s0//s1)*(s1//s0)*(s0//s2)^2*x_3_3^2 - 1089*(s0//s1)*(s1//s0)*(s0//s2)^2*x_3_3 - 9842*(s0//s1)*(s1//s0)*(s0//s2)^2, -(s1//s0)*(s0//s2)^2 + 8342*(s0//s2)*x_1_3^2 - 1276*(s0//s2)*x_1_3*x_2_3 - 5374*(s0//s2)*x_1_3*x_3_3 + 5215*(s0//s2)*x_1_3 - 2188*(s0//s2)*x_2_3^2 - 8190*(s0//s2)*x_2_3*x_3_3 + 7698*(s0//s2)*x_2_3 + 2496*(s0//s2)*x_3_3^2 - 1089*(s0//s2)*x_3_3 - 9842*(s0//s2), -(s0//s1)*(s1//s0)*(s0//s2)^2 + 8342*(s0//s1)*(s0//s2)*x_1_3^2 - 1276*(s0//s1)*(s0//s2)*x_1_3*x_2_3 - 5374*(s0//s1)*(s0//s2)*x_1_3*x_3_3 + 5215*(s0//s1)*(s0//s2)*x_1_3 - 2188*(s0//s1)*(s0//s2)*x_2_3^2 - 8190*(s0//s1)*(s0//s2)*x_2_3*x_3_3 + 7698*(s0//s1)*(s0//s2)*x_2_3 + 2496*(s0//s1)*(s0//s2)*x_3_3^2 - 1089*(s0//s1)*(s0//s2)*x_3_3 - 9842*(s0//s1)*(s0//s2), 0, 0, 0, -(s1//s0)*(s0//s2) + 8342*x_1_3^2 - 1276*x_1_3*x_2_3 - 5374*x_1_3*x_3_3 + 5215*x_1_3 - 2188*x_2_3^2 - 8190*x_2_3*x_3_3 + 7698*x_2_3 + 2496*x_3_3^2 - 1089*x_3_3 - 9842, 0, 0, 0, 0, -(s0//s1)*(s1//s0)^2*(s0//s2)^3 + 8342*(s0//s1)*(s1//s0)*(s0//s2)^2*x_1_3^2 - 1276*(s0//s1)*(s1//s0)*(s0//s2)^2*x_1_3*x_2_3 - 5374*(s0//s1)*(s1//s0)*(s0//s2)^2*x_1_3*x_3_3 + 5215*(s0//s1)*(s1//s0)*(s0//s2)^2*x_1_3 - 2188*(s0//s1)*(s1//s0)*(s0//s2)^2*x_2_3^2 - 8190*(s0//s1)*(s1//s0)*(s0//s2)^2*x_2_3*x_3_3 + 7698*(s0//s1)*(s1//s0)*(s0//s2)^2*x_2_3 + 2496*(s0//s1)*(s1//s0)*(s0//s2)^2*x_3_3^2 - 1089*(s0//s1)*(s1//s0)*(s0//s2)^2*x_3_3 - 9842*(s0//s1)*(s1//s0)*(s0//s2)^2, 0, 0)\n",
       "    28: [(s1//s0), (s0//s1), (s0//s1), x_1_3, x_2_3, x_3_3]   scheme(0, -(s1//s0)^2*(s0//s1)^3 + 8342*(s1//s0)*(s0//s1)^2*x_1_3^2 - 1276*(s1//s0)*(s0//s1)^2*x_1_3*x_2_3 - 5374*(s1//s0)*(s0//s1)^2*x_1_3*x_3_3 + 5215*(s1//s0)*(s0//s1)^2*x_1_3 - 2188*(s1//s0)*(s0//s1)^2*x_2_3^2 - 8190*(s1//s0)*(s0//s1)^2*x_2_3*x_3_3 + 7698*(s1//s0)*(s0//s1)^2*x_2_3 + 2496*(s1//s0)*(s0//s1)^2*x_3_3^2 - 1089*(s1//s0)*(s0//s1)^2*x_3_3 - 9842*(s1//s0)*(s0//s1)^2, -(s1//s0)^2*(s0//s1)*(s0//s1)^2 + 8342*(s1//s0)*(s0//s1)*(s0//s1)*x_1_3^2 - 1276*(s1//s0)*(s0//s1)*(s0//s1)*x_1_3*x_2_3 - 5374*(s1//s0)*(s0//s1)*(s0//s1)*x_1_3*x_3_3 + 5215*(s1//s0)*(s0//s1)*(s0//s1)*x_1_3 - 2188*(s1//s0)*(s0//s1)*(s0//s1)*x_2_3^2 - 8190*(s1//s0)*(s0//s1)*(s0//s1)*x_2_3*x_3_3 + 7698*(s1//s0)*(s0//s1)*(s0//s1)*x_2_3 + 2496*(s1//s0)*(s0//s1)*(s0//s1)*x_3_3^2 - 1089*(s1//s0)*(s0//s1)*(s0//s1)*x_3_3 - 9842*(s1//s0)*(s0//s1)*(s0//s1), -(s1//s0)*(s0//s1)^2 + 8342*(s0//s1)*x_1_3^2 - 1276*(s0//s1)*x_1_3*x_2_3 - 5374*(s0//s1)*x_1_3*x_3_3 + 5215*(s0//s1)*x_1_3 - 2188*(s0//s1)*x_2_3^2 - 8190*(s0//s1)*x_2_3*x_3_3 + 7698*(s0//s1)*x_2_3 + 2496*(s0//s1)*x_3_3^2 - 1089*(s0//s1)*x_3_3 - 9842*(s0//s1), 0, 0, 0, -(s1//s0)*(s0//s1)*(s0//s1) + 8342*(s0//s1)*x_1_3^2 - 1276*(s0//s1)*x_1_3*x_2_3 - 5374*(s0//s1)*x_1_3*x_3_3 + 5215*(s0//s1)*x_1_3 - 2188*(s0//s1)*x_2_3^2 - 8190*(s0//s1)*x_2_3*x_3_3 + 7698*(s0//s1)*x_2_3 + 2496*(s0//s1)*x_3_3^2 - 1089*(s0//s1)*x_3_3 - 9842*(s0//s1), 0, 0, -(s1//s0)*(s0//s1) + 8342*x_1_3^2 - 1276*x_1_3*x_2_3 - 5374*x_1_3*x_3_3 + 5215*x_1_3 - 2188*x_2_3^2 - 8190*x_2_3*x_3_3 + 7698*x_2_3 + 2496*x_3_3^2 - 1089*x_3_3 - 9842, 0, 0, 0, 0)\n",
       "    29: [(s1//s0), (s0//s1), x_1_3, x_2_3, x_3_3]             scheme(0, 0, 0, 0, 0, 0, 0, 0, 0, 0, 0, 0, 0, 0, 0, 0, 0, 0, 0)\n",
       "    30: [(s0//s1), (s0//s1), x_1_3, x_2_3, x_3_3]             scheme(0, 0, 0, 0, 0, 0, 0, 0, 0, 0, 0, 0, 0, 0, 0, 0, 0, 0, 0)\n",
       "    31: [(s1//s0), (s1//s0), (s2//s0), x_1_4, x_2_4, x_3_4]   scheme(0, -(s1//s0)*(s1//s0)^2*(s2//s0) + 8342*(s1//s0)*x_1_4^2 + 5215*(s1//s0)*x_1_4*x_2_4 - 1276*(s1//s0)*x_1_4*x_3_4 - 5374*(s1//s0)*x_1_4 - 9842*(s1//s0)*x_2_4^2 + 7698*(s1//s0)*x_2_4*x_3_4 - 1089*(s1//s0)*x_2_4 - 2188*(s1//s0)*x_3_4^2 - 8190*(s1//s0)*x_3_4 + 2496*(s1//s0), -(s1//s0)*(s1//s0)*(s2//s0) + 8342*x_1_4^2 + 5215*x_1_4*x_2_4 - 1276*x_1_4*x_3_4 - 5374*x_1_4 - 9842*x_2_4^2 + 7698*x_2_4*x_3_4 - 1089*x_2_4 - 2188*x_3_4^2 - 8190*x_3_4 + 2496, 0, 0)\n",
       "    32: [(s0//s1), (s2//s0), x_1_4, x_2_4, x_3_4, x_5_4]      scheme(0, -(s0//s1)*(s2//s0)*x_5_4^2 + 8342*(s0//s1)*x_1_4^2*x_5_4 + 5215*(s0//s1)*x_1_4*x_2_4*x_5_4 - 1276*(s0//s1)*x_1_4*x_3_4*x_5_4 - 5374*(s0//s1)*x_1_4*x_5_4 - 9842*(s0//s1)*x_2_4^2*x_5_4 + 7698*(s0//s1)*x_2_4*x_3_4*x_5_4 - 1089*(s0//s1)*x_2_4*x_5_4 - 2188*(s0//s1)*x_3_4^2*x_5_4 - 8190*(s0//s1)*x_3_4*x_5_4 + 2496*(s0//s1)*x_5_4, -(s2//s0)*x_5_4 + 8342*x_1_4^2 + 5215*x_1_4*x_2_4 - 1276*x_1_4*x_3_4 - 5374*x_1_4 - 9842*x_2_4^2 + 7698*x_2_4*x_3_4 - 1089*x_2_4 - 2188*x_3_4^2 - 8190*x_3_4 + 2496, 0, 0)\n",
       "    33: [(s0//s1), (s2//s1), x_1_4, x_2_4, x_3_4, x_4_4]      scheme(0, -(s2//s1)*x_4_4 + 8342*x_1_4^2 + 5215*x_1_4*x_2_4 - 1276*x_1_4*x_3_4 - 5374*x_1_4 - 9842*x_2_4^2 + 7698*x_2_4*x_3_4 - 1089*x_2_4 - 2188*x_3_4^2 - 8190*x_3_4 + 2496, -(s0//s1)*(s2//s1)*x_4_4 + 8342*(s0//s1)*x_1_4^2 + 5215*(s0//s1)*x_1_4*x_2_4 - 1276*(s0//s1)*x_1_4*x_3_4 - 5374*(s0//s1)*x_1_4 - 9842*(s0//s1)*x_2_4^2 + 7698*(s0//s1)*x_2_4*x_3_4 - 1089*(s0//s1)*x_2_4 - 2188*(s0//s1)*x_3_4^2 - 8190*(s0//s1)*x_3_4 + 2496*(s0//s1))\n",
       "    34: [(s1//s0), (s1//s0), (s0//s2), x_1_4, x_2_4, x_3_4]   scheme(0, -(s1//s0)^2*(s1//s0)*(s0//s2)^2 + 8342*(s1//s0)*(s0//s2)*x_1_4^2 + 5215*(s1//s0)*(s0//s2)*x_1_4*x_2_4 - 1276*(s1//s0)*(s0//s2)*x_1_4*x_3_4 - 5374*(s1//s0)*(s0//s2)*x_1_4 - 9842*(s1//s0)*(s0//s2)*x_2_4^2 + 7698*(s1//s0)*(s0//s2)*x_2_4*x_3_4 - 1089*(s1//s0)*(s0//s2)*x_2_4 - 2188*(s1//s0)*(s0//s2)*x_3_4^2 - 8190*(s1//s0)*(s0//s2)*x_3_4 + 2496*(s1//s0)*(s0//s2), -(s1//s0)*(s1//s0)*(s0//s2)^2 + 8342*(s0//s2)*x_1_4^2 + 5215*(s0//s2)*x_1_4*x_2_4 - 1276*(s0//s2)*x_1_4*x_3_4 - 5374*(s0//s2)*x_1_4 - 9842*(s0//s2)*x_2_4^2 + 7698*(s0//s2)*x_2_4*x_3_4 - 1089*(s0//s2)*x_2_4 - 2188*(s0//s2)*x_3_4^2 - 8190*(s0//s2)*x_3_4 + 2496*(s0//s2), -(s1//s0)*(s1//s0)*(s0//s2) + 8342*x_1_4^2 + 5215*x_1_4*x_2_4 - 1276*x_1_4*x_3_4 - 5374*x_1_4 - 9842*x_2_4^2 + 7698*x_2_4*x_3_4 - 1089*x_2_4 - 2188*x_3_4^2 - 8190*x_3_4 + 2496, 0, 0, 0, 0)\n",
       "    35: [(s0//s1), (s1//s0), (s1//s2), x_1_4, x_2_4, x_3_4]   scheme(0, -(s1//s0)*(s1//s2)^2 + 8342*(s1//s2)*x_1_4^2 + 5215*(s1//s2)*x_1_4*x_2_4 - 1276*(s1//s2)*x_1_4*x_3_4 - 5374*(s1//s2)*x_1_4 - 9842*(s1//s2)*x_2_4^2 + 7698*(s1//s2)*x_2_4*x_3_4 - 1089*(s1//s2)*x_2_4 - 2188*(s1//s2)*x_3_4^2 - 8190*(s1//s2)*x_3_4 + 2496*(s1//s2), -(s0//s1)*(s1//s0)*(s1//s2)^2 + 8342*(s0//s1)*(s1//s2)*x_1_4^2 + 5215*(s0//s1)*(s1//s2)*x_1_4*x_2_4 - 1276*(s0//s1)*(s1//s2)*x_1_4*x_3_4 - 5374*(s0//s1)*(s1//s2)*x_1_4 - 9842*(s0//s1)*(s1//s2)*x_2_4^2 + 7698*(s0//s1)*(s1//s2)*x_2_4*x_3_4 - 1089*(s0//s1)*(s1//s2)*x_2_4 - 2188*(s0//s1)*(s1//s2)*x_3_4^2 - 8190*(s0//s1)*(s1//s2)*x_3_4 + 2496*(s0//s1)*(s1//s2), -(s1//s0)*(s1//s2) + 8342*x_1_4^2 + 5215*x_1_4*x_2_4 - 1276*x_1_4*x_3_4 - 5374*x_1_4 - 9842*x_2_4^2 + 7698*x_2_4*x_3_4 - 1089*x_2_4 - 2188*x_3_4^2 - 8190*x_3_4 + 2496, 0, 0, 0, 0)\n",
       "    36: [(s1//s0), (s1//s0), (s0//s1), x_1_4, x_2_4, x_3_4]   scheme(0, -(s1//s0)^2*(s1//s0)^2*(s0//s1)^3 + 8342*(s1//s0)*(s1//s0)*(s0//s1)^2*x_1_4^2 + 5215*(s1//s0)*(s1//s0)*(s0//s1)^2*x_1_4*x_2_4 - 1276*(s1//s0)*(s1//s0)*(s0//s1)^2*x_1_4*x_3_4 - 5374*(s1//s0)*(s1//s0)*(s0//s1)^2*x_1_4 - 9842*(s1//s0)*(s1//s0)*(s0//s1)^2*x_2_4^2 + 7698*(s1//s0)*(s1//s0)*(s0//s1)^2*x_2_4*x_3_4 - 1089*(s1//s0)*(s1//s0)*(s0//s1)^2*x_2_4 - 2188*(s1//s0)*(s1//s0)*(s0//s1)^2*x_3_4^2 - 8190*(s1//s0)*(s1//s0)*(s0//s1)^2*x_3_4 + 2496*(s1//s0)*(s1//s0)*(s0//s1)^2, -(s1//s0)^2*(s1//s0)*(s0//s1)^2 + 8342*(s1//s0)*(s0//s1)*x_1_4^2 + 5215*(s1//s0)*(s0//s1)*x_1_4*x_2_4 - 1276*(s1//s0)*(s0//s1)*x_1_4*x_3_4 - 5374*(s1//s0)*(s0//s1)*x_1_4 - 9842*(s1//s0)*(s0//s1)*x_2_4^2 + 7698*(s1//s0)*(s0//s1)*x_2_4*x_3_4 - 1089*(s1//s0)*(s0//s1)*x_2_4 - 2188*(s1//s0)*(s0//s1)*x_3_4^2 - 8190*(s1//s0)*(s0//s1)*x_3_4 + 2496*(s1//s0)*(s0//s1), -(s1//s0)*(s1//s0)*(s0//s1)^2 + 8342*(s0//s1)*x_1_4^2 + 5215*(s0//s1)*x_1_4*x_2_4 - 1276*(s0//s1)*x_1_4*x_3_4 - 5374*(s0//s1)*x_1_4 - 9842*(s0//s1)*x_2_4^2 + 7698*(s0//s1)*x_2_4*x_3_4 - 1089*(s0//s1)*x_2_4 - 2188*(s0//s1)*x_3_4^2 - 8190*(s0//s1)*x_3_4 + 2496*(s0//s1), 0, 0, 0, -(s1//s0)*(s1//s0)*(s0//s1) + 8342*x_1_4^2 + 5215*x_1_4*x_2_4 - 1276*x_1_4*x_3_4 - 5374*x_1_4 - 9842*x_2_4^2 + 7698*x_2_4*x_3_4 - 1089*x_2_4 - 2188*x_3_4^2 - 8190*x_3_4 + 2496, 0, 0, 0, 0, -(s1//s0)^3*(s1//s0)^2*(s0//s1)^3 + 8342*(s1//s0)^2*(s1//s0)*(s0//s1)^2*x_1_4^2 + 5215*(s1//s0)^2*(s1//s0)*(s0//s1)^2*x_1_4*x_2_4 - 1276*(s1//s0)^2*(s1//s0)*(s0//s1)^2*x_1_4*x_3_4 - 5374*(s1//s0)^2*(s1//s0)*(s0//s1)^2*x_1_4 - 9842*(s1//s0)^2*(s1//s0)*(s0//s1)^2*x_2_4^2 + 7698*(s1//s0)^2*(s1//s0)*(s0//s1)^2*x_2_4*x_3_4 - 1089*(s1//s0)^2*(s1//s0)*(s0//s1)^2*x_2_4 - 2188*(s1//s0)^2*(s1//s0)*(s0//s1)^2*x_3_4^2 - 8190*(s1//s0)^2*(s1//s0)*(s0//s1)^2*x_3_4 + 2496*(s1//s0)^2*(s1//s0)*(s0//s1)^2, 0, 0)\n",
       "    37: [(s0//s1), (s1//s0), (s0//s2), x_1_4, x_2_4, x_3_4]   scheme(0, -(s0//s1)*(s1//s0)^2*(s0//s2)^3 + 8342*(s0//s1)*(s1//s0)*(s0//s2)^2*x_1_4^2 + 5215*(s0//s1)*(s1//s0)*(s0//s2)^2*x_1_4*x_2_4 - 1276*(s0//s1)*(s1//s0)*(s0//s2)^2*x_1_4*x_3_4 - 5374*(s0//s1)*(s1//s0)*(s0//s2)^2*x_1_4 - 9842*(s0//s1)*(s1//s0)*(s0//s2)^2*x_2_4^2 + 7698*(s0//s1)*(s1//s0)*(s0//s2)^2*x_2_4*x_3_4 - 1089*(s0//s1)*(s1//s0)*(s0//s2)^2*x_2_4 - 2188*(s0//s1)*(s1//s0)*(s0//s2)^2*x_3_4^2 - 8190*(s0//s1)*(s1//s0)*(s0//s2)^2*x_3_4 + 2496*(s0//s1)*(s1//s0)*(s0//s2)^2, -(s1//s0)*(s0//s2)^2 + 8342*(s0//s2)*x_1_4^2 + 5215*(s0//s2)*x_1_4*x_2_4 - 1276*(s0//s2)*x_1_4*x_3_4 - 5374*(s0//s2)*x_1_4 - 9842*(s0//s2)*x_2_4^2 + 7698*(s0//s2)*x_2_4*x_3_4 - 1089*(s0//s2)*x_2_4 - 2188*(s0//s2)*x_3_4^2 - 8190*(s0//s2)*x_3_4 + 2496*(s0//s2), -(s0//s1)*(s1//s0)*(s0//s2)^2 + 8342*(s0//s1)*(s0//s2)*x_1_4^2 + 5215*(s0//s1)*(s0//s2)*x_1_4*x_2_4 - 1276*(s0//s1)*(s0//s2)*x_1_4*x_3_4 - 5374*(s0//s1)*(s0//s2)*x_1_4 - 9842*(s0//s1)*(s0//s2)*x_2_4^2 + 7698*(s0//s1)*(s0//s2)*x_2_4*x_3_4 - 1089*(s0//s1)*(s0//s2)*x_2_4 - 2188*(s0//s1)*(s0//s2)*x_3_4^2 - 8190*(s0//s1)*(s0//s2)*x_3_4 + 2496*(s0//s1)*(s0//s2), 0, 0, 0, -(s1//s0)*(s0//s2) + 8342*x_1_4^2 + 5215*x_1_4*x_2_4 - 1276*x_1_4*x_3_4 - 5374*x_1_4 - 9842*x_2_4^2 + 7698*x_2_4*x_3_4 - 1089*x_2_4 - 2188*x_3_4^2 - 8190*x_3_4 + 2496, 0, 0, 0, 0, -(s0//s1)*(s1//s0)^2*(s0//s2)^3 + 8342*(s0//s1)*(s1//s0)*(s0//s2)^2*x_1_4^2 + 5215*(s0//s1)*(s1//s0)*(s0//s2)^2*x_1_4*x_2_4 - 1276*(s0//s1)*(s1//s0)*(s0//s2)^2*x_1_4*x_3_4 - 5374*(s0//s1)*(s1//s0)*(s0//s2)^2*x_1_4 - 9842*(s0//s1)*(s1//s0)*(s0//s2)^2*x_2_4^2 + 7698*(s0//s1)*(s1//s0)*(s0//s2)^2*x_2_4*x_3_4 - 1089*(s0//s1)*(s1//s0)*(s0//s2)^2*x_2_4 - 2188*(s0//s1)*(s1//s0)*(s0//s2)^2*x_3_4^2 - 8190*(s0//s1)*(s1//s0)*(s0//s2)^2*x_3_4 + 2496*(s0//s1)*(s1//s0)*(s0//s2)^2, 0, 0)\n",
       "    38: [(s1//s0), (s0//s1), (s0//s1), x_1_4, x_2_4, x_3_4]   scheme(0, -(s1//s0)^2*(s0//s1)^3 + 8342*(s1//s0)*(s0//s1)^2*x_1_4^2 + 5215*(s1//s0)*(s0//s1)^2*x_1_4*x_2_4 - 1276*(s1//s0)*(s0//s1)^2*x_1_4*x_3_4 - 5374*(s1//s0)*(s0//s1)^2*x_1_4 - 9842*(s1//s0)*(s0//s1)^2*x_2_4^2 + 7698*(s1//s0)*(s0//s1)^2*x_2_4*x_3_4 - 1089*(s1//s0)*(s0//s1)^2*x_2_4 - 2188*(s1//s0)*(s0//s1)^2*x_3_4^2 - 8190*(s1//s0)*(s0//s1)^2*x_3_4 + 2496*(s1//s0)*(s0//s1)^2, -(s1//s0)^2*(s0//s1)*(s0//s1)^2 + 8342*(s1//s0)*(s0//s1)*(s0//s1)*x_1_4^2 + 5215*(s1//s0)*(s0//s1)*(s0//s1)*x_1_4*x_2_4 - 1276*(s1//s0)*(s0//s1)*(s0//s1)*x_1_4*x_3_4 - 5374*(s1//s0)*(s0//s1)*(s0//s1)*x_1_4 - 9842*(s1//s0)*(s0//s1)*(s0//s1)*x_2_4^2 + 7698*(s1//s0)*(s0//s1)*(s0//s1)*x_2_4*x_3_4 - 1089*(s1//s0)*(s0//s1)*(s0//s1)*x_2_4 - 2188*(s1//s0)*(s0//s1)*(s0//s1)*x_3_4^2 - 8190*(s1//s0)*(s0//s1)*(s0//s1)*x_3_4 + 2496*(s1//s0)*(s0//s1)*(s0//s1), -(s1//s0)*(s0//s1)^2 + 8342*(s0//s1)*x_1_4^2 + 5215*(s0//s1)*x_1_4*x_2_4 - 1276*(s0//s1)*x_1_4*x_3_4 - 5374*(s0//s1)*x_1_4 - 9842*(s0//s1)*x_2_4^2 + 7698*(s0//s1)*x_2_4*x_3_4 - 1089*(s0//s1)*x_2_4 - 2188*(s0//s1)*x_3_4^2 - 8190*(s0//s1)*x_3_4 + 2496*(s0//s1), 0, 0, 0, -(s1//s0)*(s0//s1)*(s0//s1) + 8342*(s0//s1)*x_1_4^2 + 5215*(s0//s1)*x_1_4*x_2_4 - 1276*(s0//s1)*x_1_4*x_3_4 - 5374*(s0//s1)*x_1_4 - 9842*(s0//s1)*x_2_4^2 + 7698*(s0//s1)*x_2_4*x_3_4 - 1089*(s0//s1)*x_2_4 - 2188*(s0//s1)*x_3_4^2 - 8190*(s0//s1)*x_3_4 + 2496*(s0//s1), 0, 0, -(s1//s0)*(s0//s1) + 8342*x_1_4^2 + 5215*x_1_4*x_2_4 - 1276*x_1_4*x_3_4 - 5374*x_1_4 - 9842*x_2_4^2 + 7698*x_2_4*x_3_4 - 1089*x_2_4 - 2188*x_3_4^2 - 8190*x_3_4 + 2496, 0, 0, 0, 0)\n",
       "    39: [(s1//s0), (s0//s1), x_1_4, x_2_4, x_3_4]             scheme(0, 0, 0, 0, 0, 0, 0, 0, 0, 0, 0, 0, 0, 0, 0, 0, 0, 0, 0)\n",
       "    40: [(s0//s1), (s0//s1), x_1_4, x_2_4, x_3_4]             scheme(0, 0, 0, 0, 0, 0, 0, 0, 0, 0, 0, 0, 0, 0, 0, 0, 0, 0, 0)\n",
       "    41: [x_1_5, x_2_5, x_3_5, x_4_5, x_5_5, x_6_5]            scheme(-x_4_5*x_6_5 + x_5_5^3)\n",
       "    42: [x_1_6, x_2_6, x_3_6, x_4_6, x_5_6, x_6_6]            scheme(-x_4_6*x_6_6 + x_5_6^3)\n",
       "    43: [x_1_7, x_2_7, x_3_7, x_4_7, x_5_7, x_6_7]            scheme(-x_4_7*x_6_7 + x_5_7^3)\n",
       "    44: [x_1_8, x_2_8, x_3_8, x_4_8, x_5_8, x_6_8]            scheme(-x_4_8*x_6_8 + x_5_8^3)\n",
       "    45: [x_1_9, x_2_9, x_3_9, x_4_9, x_5_9, x_6_9]            scheme(-x_4_9*x_5_9 + x_6_9^2)\n",
       "    46: [x_1_10, x_2_10, x_3_10, x_4_10, x_5_10, x_6_10]      scheme(-x_4_10*x_5_10 + x_6_10^2)\n",
       "    47: [x_1_11, x_2_11, x_3_11, x_4_11, x_5_11, x_6_11]      scheme(-x_4_11*x_5_11 + x_6_11^2)\n",
       "    48: [x_1_12, x_2_12, x_3_12, x_4_12, x_5_12, x_6_12]      scheme(-x_4_12*x_5_12 + x_6_12^2)\n",
       "with restrictions\n",
       "   1: Ideal with 3 generators\n",
       "   2: Ideal with 2 generators\n",
       "   3: Ideal with 2 generators\n",
       "   4: Ideal with 2 generators\n",
       "   5: Ideal with 2 generators\n",
       "   6: Ideal with 2 generators\n",
       "   7: Ideal with 2 generators\n",
       "   8: Ideal with 2 generators\n",
       "   9: Ideal with 1 generator\n",
       "  10: Ideal with 1 generator\n",
       "  11: Ideal with 3 generators\n",
       "  12: Ideal with 2 generators\n",
       "  13: Ideal with 2 generators\n",
       "  14: Ideal with 2 generators\n",
       "  15: Ideal with 2 generators\n",
       "  16: Ideal with 2 generators\n",
       "  17: Ideal with 2 generators\n",
       "  18: Ideal with 2 generators\n",
       "  19: Ideal with 1 generator\n",
       "  20: Ideal with 1 generator\n",
       "  21: Ideal with 3 generators\n",
       "  22: Ideal with 2 generators\n",
       "  23: Ideal with 2 generators\n",
       "  24: Ideal with 2 generators\n",
       "  25: Ideal with 2 generators\n",
       "  26: Ideal with 2 generators\n",
       "  27: Ideal with 2 generators\n",
       "  28: Ideal with 2 generators\n",
       "  29: Ideal with 1 generator\n",
       "  30: Ideal with 1 generator\n",
       "  31: Ideal with 3 generators\n",
       "  32: Ideal with 2 generators\n",
       "  33: Ideal with 2 generators\n",
       "  34: Ideal with 2 generators\n",
       "  35: Ideal with 2 generators\n",
       "  36: Ideal with 2 generators\n",
       "  37: Ideal with 2 generators\n",
       "  38: Ideal with 2 generators\n",
       "  39: Ideal with 1 generator\n",
       "  40: Ideal with 1 generator\n",
       "  41: Ideal with 3 generators\n",
       "  42: Ideal with 3 generators\n",
       "  43: Ideal with 3 generators\n",
       "  44: Ideal with 3 generators\n",
       "  45: Ideal with 4 generators\n",
       "  46: Ideal with 4 generators\n",
       "  47: Ideal with 4 generators\n",
       "  48: Ideal with 4 generators"
      ]
     },
     "execution_count": 54,
     "metadata": {},
     "output_type": "execute_result"
    }
   ],
   "source": [
    "tate_ideal_sheaf(t2_res)"
   ]
  },
  {
   "cell_type": "code",
   "execution_count": 55,
   "id": "4ea01e62-b0bd-44cb-bbdf-1022d5e447e6",
   "metadata": {},
   "outputs": [
    {
     "data": {
      "text/plain": [
       "Normal toric variety"
      ]
     },
     "execution_count": 55,
     "metadata": {},
     "output_type": "execute_result"
    }
   ],
   "source": [
    "B3 = projective_space(NormalToricVariety, 3)"
   ]
  },
  {
   "cell_type": "code",
   "execution_count": 56,
   "id": "5552accc-54b3-4231-9e2f-80fa7ed71e25",
   "metadata": {},
   "outputs": [
    {
     "data": {
      "text/plain": [
       "Torus-invariant, prime divisor on a normal toric variety"
      ]
     },
     "execution_count": 56,
     "metadata": {},
     "output_type": "execute_result"
    }
   ],
   "source": [
    "W = torusinvariant_prime_divisors(B3)[1]"
   ]
  },
  {
   "cell_type": "code",
   "execution_count": 57,
   "id": "c71e3e19-d085-4560-b509-d8a2f878ed3f",
   "metadata": {},
   "outputs": [
    {
     "name": "stdout",
     "output_type": "stream",
     "text": [
      "Construction over concrete base may lead to singularity enhancement. Consider computing singular_loci. However, this may take time!\n",
      "\n"
     ]
    },
    {
     "data": {
      "text/plain": [
       "Global Tate model over a concrete base -- SU(5)xU(1) restricted Tate model based on arXiv paper 1109.3454 Eq. (3.1)"
      ]
     },
     "execution_count": 57,
     "metadata": {},
     "output_type": "execute_result"
    }
   ],
   "source": [
    "t = literature_model(arxiv_id = \"1109.3454\" , equation = \"3.1\" , base_space = B3, defining_classes = Dict(\"w\" => W))"
   ]
  },
  {
   "cell_type": "code",
   "execution_count": 58,
   "id": "b33c880c-b841-4d02-abd1-d94e31512da7",
   "metadata": {},
   "outputs": [
    {
     "data": {
      "text/plain": [
       "\"Nucl. Phys. B\""
      ]
     },
     "execution_count": 58,
     "metadata": {},
     "output_type": "execute_result"
    }
   ],
   "source": [
    "journal_name(t)"
   ]
  },
  {
   "cell_type": "code",
   "execution_count": 59,
   "id": "951d0046-e8b4-4f7d-9323-7e1a11de654c",
   "metadata": {},
   "outputs": [
    {
     "data": {
      "text/plain": [
       "3-element Vector{String}:\n",
       " \"Sven Krause\"\n",
       " \"Christoph Mayrhofer\"\n",
       " \"Timo Weigand\""
      ]
     },
     "execution_count": 59,
     "metadata": {},
     "output_type": "execute_result"
    }
   ],
   "source": [
    "paper_authors(t)"
   ]
  },
  {
   "cell_type": "code",
   "execution_count": 60,
   "id": "c1b76ba8-04dd-4ce8-8374-b4d30175ac5e",
   "metadata": {},
   "outputs": [
    {
     "data": {
      "text/plain": [
       "\"10.48550/arXiv.1109.3454\""
      ]
     },
     "execution_count": 60,
     "metadata": {},
     "output_type": "execute_result"
    }
   ],
   "source": [
    "arxiv_doi(t)"
   ]
  },
  {
   "cell_type": "code",
   "execution_count": 61,
   "id": "44984a03-e824-4c6c-a550-3b835854c8a5",
   "metadata": {},
   "outputs": [
    {
     "data": {
      "text/plain": [
       "\"3.1\""
      ]
     },
     "execution_count": 61,
     "metadata": {},
     "output_type": "execute_result"
    }
   ],
   "source": [
    "journal_model_equation_number(t)"
   ]
  },
  {
   "cell_type": "code",
   "execution_count": 62,
   "id": "f26d5837-68f6-4aa2-b946-a68a570796c6",
   "metadata": {},
   "outputs": [
    {
     "data": {
      "text/plain": [
       "\"9\""
      ]
     },
     "execution_count": 62,
     "metadata": {},
     "output_type": "execute_result"
    }
   ],
   "source": [
    "journal_model_page(t)"
   ]
  },
  {
   "cell_type": "code",
   "execution_count": 63,
   "id": "519995cc-4fdd-4325-b977-4874b94db4df",
   "metadata": {},
   "outputs": [
    {
     "data": {
      "text/plain": [
       "Dict{String, ToricDivisorClass} with 1 entry:\n",
       "  \"w\" => Divisor class on a normal toric variety"
      ]
     },
     "execution_count": 63,
     "metadata": {},
     "output_type": "execute_result"
    }
   ],
   "source": [
    "defining_classes(t)"
   ]
  },
  {
   "cell_type": "code",
   "execution_count": 64,
   "id": "9bf3817d-0e21-4233-bac3-80bcc88180d4",
   "metadata": {},
   "outputs": [
    {
     "data": {
      "text/plain": [
       "9-element Vector{String}:\n",
       " \"a21\"\n",
       " \"a6\"\n",
       " \"a3\"\n",
       " \"w\"\n",
       " \"a2\"\n",
       " \"a1\"\n",
       " \"a43\"\n",
       " \"a4\"\n",
       " \"a32\""
      ]
     },
     "execution_count": 64,
     "metadata": {},
     "output_type": "execute_result"
    }
   ],
   "source": [
    "model_sections(t)"
   ]
  },
  {
   "cell_type": "code",
   "execution_count": 65,
   "id": "40385bd5-7ade-4a86-a4dd-050a9b6efd94",
   "metadata": {},
   "outputs": [
    {
     "data": {
      "text/plain": [
       "Dict{String, MPolyRingElem} with 4 entries:\n",
       "  \"a6\" => 0\n",
       "  \"a3\" => w^2*a32\n",
       "  \"a2\" => w*a21\n",
       "  \"a4\" => w^3*a43"
      ]
     },
     "execution_count": 65,
     "metadata": {},
     "output_type": "execute_result"
    }
   ],
   "source": [
    "model_section_parametrization(t)"
   ]
  },
  {
   "cell_type": "code",
   "execution_count": 66,
   "id": "438870b1-1aa5-41b3-8425-41ad0b9cb393",
   "metadata": {},
   "outputs": [
    {
     "data": {
      "text/plain": [
       "5-element Vector{String}:\n",
       " \"a21\"\n",
       " \"w\"\n",
       " \"a1\"\n",
       " \"a43\"\n",
       " \"a32\""
      ]
     },
     "execution_count": 66,
     "metadata": {},
     "output_type": "execute_result"
    }
   ],
   "source": [
    "tunable_sections(t)"
   ]
  },
  {
   "cell_type": "code",
   "execution_count": 67,
   "id": "dd75c6d6-5bd8-4553-8ad4-2bfbcc84b586",
   "metadata": {},
   "outputs": [
    {
     "data": {
      "text/plain": [
       "Dict{String, Vector{Int64}} with 5 entries:\n",
       "  \"a21\" => [2, -1]\n",
       "  \"w\"   => [0, 1]\n",
       "  \"a1\"  => [1, 0]\n",
       "  \"a43\" => [4, -3]\n",
       "  \"a32\" => [3, -2]"
      ]
     },
     "execution_count": 67,
     "metadata": {},
     "output_type": "execute_result"
    }
   ],
   "source": [
    "classes_of_tunable_sections_in_basis_of_Kbar_and_defining_classes(t)"
   ]
  },
  {
   "cell_type": "code",
   "execution_count": 68,
   "id": "fac4230f-647c-44be-8cb7-019123c919e7",
   "metadata": {},
   "outputs": [
    {
     "data": {
      "text/plain": [
       "Dict{String, ToricDivisorClass} with 9 entries:\n",
       "  \"a21\" => Divisor class on a normal toric variety\n",
       "  \"a6\"  => Divisor class on a normal toric variety\n",
       "  \"a3\"  => Divisor class on a normal toric variety\n",
       "  \"w\"   => Divisor class on a normal toric variety\n",
       "  \"a2\"  => Divisor class on a normal toric variety\n",
       "  \"a1\"  => Divisor class on a normal toric variety\n",
       "  \"a43\" => Divisor class on a normal toric variety\n",
       "  \"a4\"  => Divisor class on a normal toric variety\n",
       "  \"a32\" => Divisor class on a normal toric variety"
      ]
     },
     "execution_count": 68,
     "metadata": {},
     "output_type": "execute_result"
    }
   ],
   "source": [
    "classes_of_model_sections(t)"
   ]
  },
  {
   "cell_type": "code",
   "execution_count": 69,
   "id": "a1f5167e-5c1c-4ca7-ba81-7672438526a1",
   "metadata": {},
   "outputs": [
    {
     "data": {
      "text/plain": [
       "Dict{String, MPolyDecRingElem{QQFieldElem, QQMPolyRingElem}} with 9 entries:\n",
       "  \"a21\" => -3666*x1^7 - 2659*x1^6*x2 - 493*x1^6*x3 - 9657*x1^6*x4 + 9539*x1^5*x…\n",
       "  \"a6\"  => 0\n",
       "  \"a3\"  => -8872*x1^12 + 9425*x1^11*x2 + 3669*x1^11*x3 + 4383*x1^11*x4 - 6892*x…\n",
       "  \"w\"   => x1\n",
       "  \"a2\"  => -3666*x1^8 - 2659*x1^7*x2 - 493*x1^7*x3 - 9657*x1^7*x4 + 9539*x1^6*x…\n",
       "  \"a1\"  => -9259*x1^4 + 7618*x1^3*x2 - 327*x1^3*x3 + 3417*x1^3*x4 + 3662*x1^2*x…\n",
       "  \"a43\" => 4845*x1^13 - 4349*x1^12*x2 - 534*x1^12*x3 + 5091*x1^12*x4 - 2451*x1^…\n",
       "  \"a4\"  => 4845*x1^16 - 4349*x1^15*x2 - 534*x1^15*x3 + 5091*x1^15*x4 - 2451*x1^…\n",
       "  \"a32\" => -8872*x1^10 + 9425*x1^9*x2 + 3669*x1^9*x3 + 4383*x1^9*x4 - 6892*x1^8…"
      ]
     },
     "execution_count": 69,
     "metadata": {},
     "output_type": "execute_result"
    }
   ],
   "source": [
    "explicit_model_sections(t)"
   ]
  },
  {
   "cell_type": "code",
   "execution_count": 70,
   "id": "071013f6-cfaf-4128-9a7f-9e616db84254",
   "metadata": {},
   "outputs": [
    {
     "data": {
      "text/plain": [
       "1-element Vector{Vector{Vector}}:\n",
       " [[[\"x\", \"y\", \"w\"], [\"y\", \"e1\"], [\"x\", \"e4\"], [\"y\", \"e2\"], [\"x\", \"y\"]], [\"e1\", \"e4\", \"e2\", \"e3\", \"s\"]]"
      ]
     },
     "execution_count": 70,
     "metadata": {},
     "output_type": "execute_result"
    }
   ],
   "source": [
    "resolutions(t)"
   ]
  },
  {
   "cell_type": "code",
   "execution_count": 71,
   "id": "67bbb3fc-9799-4d0a-8598-e552b4abe407",
   "metadata": {},
   "outputs": [
    {
     "data": {
      "text/plain": [
       "Partially resolved global Tate model over a concrete base -- SU(5)xU(1) restricted Tate model based on arXiv paper 1109.3454 Eq. (3.1)"
      ]
     },
     "execution_count": 71,
     "metadata": {},
     "output_type": "execute_result"
    }
   ],
   "source": [
    "t5 = resolve(t, 1)"
   ]
  },
  {
   "cell_type": "code",
   "execution_count": 72,
   "id": "8460b5ca-8ff4-4980-a6ae-7023360a49af",
   "metadata": {},
   "outputs": [],
   "source": [
    "v = ambient_space(t5);"
   ]
  },
  {
   "cell_type": "code",
   "execution_count": 73,
   "id": "f53d6c9a-8c50-4f7a-b87f-07e838a22fbf",
   "metadata": {},
   "outputs": [
    {
     "data": {
      "text/plain": [
       "Multivariate polynomial ring in 12 variables over QQ graded by\n",
       "  x1 -> [1 0 0 0 0 0 0]\n",
       "  x2 -> [0 1 0 0 0 0 0]\n",
       "  x3 -> [0 1 0 0 0 0 0]\n",
       "  x4 -> [0 1 0 0 0 0 0]\n",
       "  x -> [0 0 1 0 0 0 0]\n",
       "  y -> [0 0 0 1 0 0 0]\n",
       "  z -> [0 0 0 0 1 0 0]\n",
       "  e1 -> [0 0 0 0 0 1 0]\n",
       "  e4 -> [0 0 0 0 0 0 1]\n",
       "  e2 -> [-1 -3 -1 1 -1 -1 0]\n",
       "  e3 -> [0 4 1 -1 1 0 -1]\n",
       "  s -> [2 6 -1 0 2 1 1]"
      ]
     },
     "execution_count": 73,
     "metadata": {},
     "output_type": "execute_result"
    }
   ],
   "source": [
    "cox_ring(v)"
   ]
  },
  {
   "cell_type": "code",
   "execution_count": 74,
   "id": "c1088724-d3de-4d4a-a318-f72c75ddbac8",
   "metadata": {},
   "outputs": [
    {
     "data": {
      "text/plain": [
       "[1   0   0   0   0   0   0   0   0   -1    0    2]\n",
       "[0   1   1   1   0   0   0   0   0   -3    4    6]\n",
       "[0   0   0   0   1   0   0   0   0   -1    1   -1]\n",
       "[0   0   0   0   0   1   0   0   0    1   -1    0]\n",
       "[0   0   0   0   0   0   1   0   0   -1    1    2]\n",
       "[0   0   0   0   0   0   0   1   0   -1    0    1]\n",
       "[0   0   0   0   0   0   0   0   1    0   -1    1]"
      ]
     },
     "execution_count": 74,
     "metadata": {},
     "output_type": "execute_result"
    }
   ],
   "source": [
    "M = matrix(map_from_torusinvariant_weil_divisor_group_to_class_group(v));\n",
    "M2 = transpose(M)"
   ]
  },
  {
   "cell_type": "code",
   "execution_count": 75,
   "id": "2d86c27b-2213-4f3b-b921-4203267e31b8",
   "metadata": {},
   "outputs": [
    {
     "data": {
      "text/plain": [
       "Torus-invariant, non-prime divisor on a normal toric variety"
      ]
     },
     "execution_count": 75,
     "metadata": {},
     "output_type": "execute_result"
    }
   ],
   "source": [
    "W = 2 * torusinvariant_prime_divisors(B3)[1]"
   ]
  },
  {
   "cell_type": "code",
   "execution_count": 76,
   "id": "eb6caaef-7c14-49eb-a991-7229126fddae",
   "metadata": {},
   "outputs": [
    {
     "name": "stdout",
     "output_type": "stream",
     "text": [
      "Construction over concrete base may lead to singularity enhancement. Consider computing singular_loci. However, this may take time!\n",
      "\n"
     ]
    },
    {
     "data": {
      "text/plain": [
       "Global Tate model over a concrete base -- SU(5)xU(1) restricted Tate model based on arXiv paper 1109.3454 Eq. (3.1)"
      ]
     },
     "execution_count": 76,
     "metadata": {},
     "output_type": "execute_result"
    }
   ],
   "source": [
    "t = literature_model(arxiv_id = \"1109.3454\" , equation = \"3.1\", base_space = B3, defining_classes = Dict(\"w\" => W))"
   ]
  },
  {
   "cell_type": "code",
   "execution_count": 77,
   "id": "46c8f796-e2b5-4e6d-988b-d653f27ee7bb",
   "metadata": {},
   "outputs": [
    {
     "data": {
      "text/plain": [
       "Partially resolved global Tate model over a concrete base -- SU(5)xU(1) restricted Tate model based on arXiv paper 1109.3454 Eq. (3.1)"
      ]
     },
     "execution_count": 77,
     "metadata": {},
     "output_type": "execute_result"
    }
   ],
   "source": [
    "t_res = resolve(t, 1)"
   ]
  },
  {
   "cell_type": "code",
   "execution_count": 78,
   "id": "5d4b02e1-8259-49f7-9dde-6dfde0c8ab2b",
   "metadata": {},
   "outputs": [
    {
     "name": "stdout",
     "output_type": "stream",
     "text": [
      "Model 33:\n",
      "Dict{String, Any}(\"journal_section\" => \"3\", \"arxiv_page\" => \"67\", \"arxiv_id\" => \"1408.4808\", \"gauge_algebra\" => Any[\"su(3)\", \"su(2)\", \"u(1)\"], \"arxiv_version\" => \"2\", \"journal_equation\" => \"3.141\", \"journal_page\" => \"67\", \"arxiv_equation\" => \"3.142\", \"journal_doi\" => \"10.1007/JHEP01(2015)142\", \"arxiv_section\" => \"3\", \"journal\" => \"JHEP\", \"file\" => \"model1408_4808-11-WSF.json\", \"arxiv_doi\" => \"10.48550/arXiv.1408.4808\", \"model_index\" => \"33\", \"type\" => \"weierstrass\")\n",
      "\n",
      "Model 34:\n",
      "Dict{String, Any}(\"journal_section\" => \"3\", \"arxiv_page\" => \"67\", \"arxiv_id\" => \"1408.4808\", \"gauge_algebra\" => Any[\"su(3)\", \"su(2)\", \"u(1)\"], \"arxiv_version\" => \"2\", \"journal_equation\" => \"3.141\", \"journal_page\" => \"67\", \"arxiv_equation\" => \"3.142\", \"journal_doi\" => \"10.1007/JHEP01(2015)142\", \"arxiv_section\" => \"3\", \"journal\" => \"JHEP\", \"file\" => \"model1408_4808-11.json\", \"arxiv_doi\" => \"10.48550/arXiv.1408.4808\", \"model_index\" => \"34\", \"type\" => \"hypersurface\")\n",
      "\n",
      "Model 39:\n",
      "Dict{String, Any}(\"journal_section\" => \"3\", \"arxiv_page\" => \"75\", \"arxiv_id\" => \"1408.4808\", \"gauge_algebra\" => Any[\"su(3)\", \"su(2)\", \"su(2)\", \"u(1)\"], \"arxiv_version\" => \"2\", \"journal_equation\" => \"3.167\", \"journal_page\" => \"75\", \"arxiv_equation\" => \"3.168\", \"journal_doi\" => \"10.1007/JHEP01(2015)142\", \"arxiv_section\" => \"3\", \"journal\" => \"JHEP\", \"file\" => \"model1408_4808-14-WSF.json\", \"arxiv_doi\" => \"10.48550/arXiv.1408.4808\", \"model_index\" => \"39\", \"type\" => \"weierstrass\")\n",
      "\n",
      "Model 40:\n",
      "Dict{String, Any}(\"journal_section\" => \"3\", \"arxiv_page\" => \"75\", \"arxiv_id\" => \"1408.4808\", \"gauge_algebra\" => Any[\"su(3)\", \"su(2)\", \"su(2)\", \"u(1)\"], \"arxiv_version\" => \"2\", \"journal_equation\" => \"3.167\", \"journal_page\" => \"75\", \"arxiv_equation\" => \"3.168\", \"journal_doi\" => \"10.1007/JHEP01(2015)142\", \"arxiv_section\" => \"3\", \"journal\" => \"JHEP\", \"file\" => \"model1408_4808-14.json\", \"arxiv_doi\" => \"10.48550/arXiv.1408.4808\", \"model_index\" => \"40\", \"type\" => \"hypersurface\")\n",
      "\n",
      "Model 45:\n",
      "Dict{String, Any}(\"journal_section\" => \"\", \"arxiv_page\" => \"2\", \"arxiv_id\" => \"1903.00009\", \"gauge_algebra\" => Any[\"su(3)\", \"su(2)\", \"u(1)\"], \"arxiv_version\" => \"3\", \"journal_equation\" => \"2\", \"journal_page\" => \"2\", \"arxiv_equation\" => \"2\", \"journal_doi\" => \"10.1103/PhysRevLett.123.101601\", \"arxiv_section\" => \"II\", \"journal\" => \"Physical Review Letters\", \"file\" => \"model1903_00009.json\", \"arxiv_doi\" => \"10.48550/arXiv.1903.00009\", \"model_index\" => \"45\", \"type\" => \"hypersurface\")\n",
      "\n"
     ]
    }
   ],
   "source": [
    "display_all_literature_models(Dict(\"gauge_algebra\" => [\"u(1)\" , \"su(2)\" , \"su(3)\" ]))"
   ]
  },
  {
   "cell_type": "code",
   "execution_count": 79,
   "id": "6cc2dcfb-481f-4e5e-8629-21cb7be3d98d",
   "metadata": {},
   "outputs": [
    {
     "data": {
      "text/plain": [
       "Divisor class on a normal toric variety"
      ]
     },
     "execution_count": 79,
     "metadata": {},
     "output_type": "execute_result"
    }
   ],
   "source": [
    "Kbar = anticanonical_divisor_class(B3)"
   ]
  },
  {
   "cell_type": "code",
   "execution_count": 80,
   "id": "5da89f44-0960-4b4e-b566-386aabf739bc",
   "metadata": {},
   "outputs": [
    {
     "name": "stdout",
     "output_type": "stream",
     "text": [
      "Construction over concrete base may lead to singularity enhancement. Consider computing singular_loci. However, this may take time!\n",
      "\n"
     ]
    },
    {
     "data": {
      "text/plain": [
       "Hypersurface model over a concrete base"
      ]
     },
     "execution_count": 80,
     "metadata": {},
     "output_type": "execute_result"
    }
   ],
   "source": [
    "foah11_B3 = literature_model(arxiv_id = \"1408.4808\" , equation = \"3.142\" , type = \"hypersurface\" , base_space = B3, \n",
    "        defining_classes = Dict(\"s7\" => Kbar, \"s9\" => Kbar))"
   ]
  },
  {
   "cell_type": "code",
   "execution_count": 81,
   "id": "aa392cc0-2ed4-4d28-9302-5a05e3ae6ea7",
   "metadata": {},
   "outputs": [
    {
     "data": {
      "text/plain": [
       "\"F-theory hypersurface model with fiber ambient space F_11\""
      ]
     },
     "execution_count": 81,
     "metadata": {},
     "output_type": "execute_result"
    }
   ],
   "source": [
    "model_description(foah11_B3)"
   ]
  },
  {
   "cell_type": "code",
   "execution_count": 82,
   "id": "85b78ab0-b4b1-4d27-8145-51a641cb12a3",
   "metadata": {},
   "outputs": [
    {
     "name": "stdout",
     "output_type": "stream",
     "text": [
      "Construction over concrete base may lead to singularity enhancement. Consider computing singular_loci. However, this may take time!\n",
      "\n"
     ]
    },
    {
     "data": {
      "text/plain": [
       "Hypersurface model over a concrete base"
      ]
     },
     "execution_count": 82,
     "metadata": {},
     "output_type": "execute_result"
    }
   ],
   "source": [
    "foah11_B3 = literature_model(34, base_space = B3, defining_classes =\n",
    "Dict(\"s7\" => Kbar, \"s9\" => Kbar))"
   ]
  },
  {
   "cell_type": "code",
   "execution_count": 83,
   "id": "34750d37-ee1d-47f2-b376-a1de77fe8507",
   "metadata": {},
   "outputs": [
    {
     "data": {
      "text/plain": [
       "7-element Vector{MPolyDecRingElem{QQFieldElem, QQMPolyRingElem}}:\n",
       " 1\n",
       " 0\n",
       " 9838*x1^4 + 9454*x1^3*x2 + 9860*x1^3*x3 + 9969*x1^3*x4 + 4549*x1^2*x2^2 + 5301*x1^2*x2*x3 + 7431*x1^2*x2*x4 - 8771*x1^2*x3^2 - 4601*x1^2*x3*x4 + 9446*x1^2*x4^2 - 6852*x1*x2^3 + 9133*x1*x2^2*x3 + 2541*x1*x2^2*x4 + 853*x1*x2*x3^2 + 2298*x1*x2*x3*x4 + 647*x1*x2*x4^2 + 5189*x1*x3^3 - 3481*x1*x3^2*x4 + 2809*x1*x3*x4^2 + 6556*x1*x4^3 + 8280*x2^4 + 6481*x2^3*x3 - 1571*x2^3*x4 - 8821*x2^2*x3^2 + 3955*x2^2*x3*x4 + 9705*x2^2*x4^2 - 3117*x2*x3^3 - 180*x2*x3^2*x4 - 3442*x2*x3*x4^2 + 769*x2*x4^3 + 8949*x3^4 + 9912*x3^3*x4 - 1009*x3^2*x4^2 - 9127*x3*x4^3 + 124*x4^4\n",
       " 1\n",
       " 1\n",
       " -9838*x1^4 - 9454*x1^3*x2 - 9860*x1^3*x3 - 9969*x1^3*x4 - 4549*x1^2*x2^2 - 5301*x1^2*x2*x3 - 7431*x1^2*x2*x4 + 8771*x1^2*x3^2 + 4601*x1^2*x3*x4 - 9446*x1^2*x4^2 + 6852*x1*x2^3 - 9133*x1*x2^2*x3 - 2541*x1*x2^2*x4 - 853*x1*x2*x3^2 - 2298*x1*x2*x3*x4 - 647*x1*x2*x4^2 - 5189*x1*x3^3 + 3481*x1*x3^2*x4 - 2809*x1*x3*x4^2 - 6556*x1*x4^3 - 8280*x2^4 - 6481*x2^3*x3 + 1571*x2^3*x4 + 8821*x2^2*x3^2 - 3955*x2^2*x3*x4 - 9705*x2^2*x4^2 + 3117*x2*x3^3 + 180*x2*x3^2*x4 + 3442*x2*x3*x4^2 - 769*x2*x4^3 - 8949*x3^4 - 9912*x3^3*x4 + 1009*x3^2*x4^2 + 9127*x3*x4^3 - 124*x4^4\n",
       " 1"
      ]
     },
     "execution_count": 83,
     "metadata": {},
     "output_type": "execute_result"
    }
   ],
   "source": [
    "zero_section(foah11_B3)"
   ]
  },
  {
   "cell_type": "code",
   "execution_count": 84,
   "id": "9df0bdfe-987f-42d4-8122-c422d03a64f1",
   "metadata": {},
   "outputs": [
    {
     "data": {
      "text/plain": [
       "1-element Vector{Vector{MPolyDecRingElem{QQFieldElem, QQMPolyRingElem}}}:\n",
       " [-7516*x1^4 + 5819*x1^3*x2 - 5292*x1^3*x3 - 8550*x1^3*x4 + 6450*x1^2*x2^2 + 9002*x1^2*x2*x3 - 8011*x1^2*x2*x4 + 3697*x1^2*x3^2 + 2143*x1^2*x3*x4 + 3815*x1^2*x4^2 + 9070*x1*x2^3 - 8585*x1*x2^2*x3 - 1724*x1*x2^2*x4 - 1111*x1*x2*x3^2 + 6481*x1*x2*x3*x4 + 7489*x1*x2*x4^2 - 4090*x1*x3^3 - 3009*x1*x3^2*x4 - 5620*x1*x3*x4^2 + 6129*x1*x4^3 + 2448*x2^4 - 7523*x2^3*x3 + 3233*x2^3*x4 + 4524*x2^2*x3^2 + 5536*x2^2*x3*x4 - 545*x2^2*x4^2 - 3653*x2*x3^3 + 540*x2*x3^2*x4 + 5307*x2*x3*x4^2 + 414*x2*x4^3 + 3828*x3^4 + 7517*x3^3*x4 - 2333*x3^2*x4^2 + 1430*x3*x4^3 - 1873*x4^4, 1, 1, 844*x1^4 + 888*x1^3*x2 - 8339*x1^3*x3 + 984*x1^3*x4 + 1725*x1^2*x2^2 - 8472*x1^2*x2*x3 - 383*x1^2*x2*x4 + 9619*x1^2*x3^2 - 8780*x1^2*x3*x4 - 5178*x1^2*x4^2 + 3986*x1*x2^3 + 7978*x1*x2^2*x3 + 8651*x1*x2^2*x4 - 3396*x1*x2*x3^2 - 4144*x1*x2*x3*x4 + 6384*x1*x2*x4^2 + 6384*x1*x3^3 + 6648*x1*x3^2*x4 + 4730*x1*x3*x4^2 + 5704*x1*x4^3 - 6355*x2^4 - 4472*x2^3*x3 - 5959*x2^3*x4 - 9349*x2^2*x3^2 + 9802*x2^2*x3*x4 - 3335*x2^2*x4^2 + 7874*x2*x3^3 - 2516*x2*x3^2*x4 - 9388*x2*x3*x4^2 + 693*x2*x4^3 + 6247*x3^4 - 5326*x3^3*x4 - 6480*x3^2*x4^2 + 4267*x3*x4^3 - 4059*x4^4, 1, 1, 0]"
      ]
     },
     "execution_count": 84,
     "metadata": {},
     "output_type": "execute_result"
    }
   ],
   "source": [
    "generating_sections(foah11_B3)"
   ]
  },
  {
   "cell_type": "code",
   "execution_count": 85,
   "id": "aa47df08-c29a-4bbc-9b8c-d52d6ba66600",
   "metadata": {},
   "outputs": [
    {
     "data": {
      "text/plain": [
       "Direct sum Lie algebra\n",
       "  of dimension 12\n",
       "with summands\n",
       "  sl_3\n",
       "  sl_2\n",
       "  linear Lie algebra\n",
       "over field of algebraic numbers"
      ]
     },
     "execution_count": 85,
     "metadata": {},
     "output_type": "execute_result"
    }
   ],
   "source": [
    "g = gauge_algebra(foah11_B3)"
   ]
  },
  {
   "cell_type": "code",
   "execution_count": 86,
   "id": "6c9467af-68d9-4881-b1e9-12638c622886",
   "metadata": {},
   "outputs": [
    {
     "data": {
      "text/plain": [
       "3-element Vector{Vector{String}}:\n",
       " [\"diagonal_matrix(root_of_unity(C,3),3)\"]\n",
       " [\"-identity_matrix(C,2)\"]\n",
       " [\"diagonal_matrix(root_of_unity(C,6,-1),1)\"]"
      ]
     },
     "execution_count": 86,
     "metadata": {},
     "output_type": "execute_result"
    }
   ],
   "source": [
    "global_gauge_quotients(foah11_B3)"
   ]
  },
  {
   "cell_type": "code",
   "execution_count": 87,
   "id": "00f1cf84-1f7e-48d9-8089-5163ef5fb840",
   "metadata": {},
   "outputs": [
    {
     "name": "stdout",
     "output_type": "stream",
     "text": [
      "Construction over concrete base may lead to singularity enhancement. Consider computing singular_loci. However, this may take time!\n",
      "\n"
     ]
    },
    {
     "data": {
      "text/plain": [
       "Weierstrass model over a concrete base -- F-theory weierstrass model dual to hypersurface model with fiber ambient space F_11 based on arXiv paper 1408.4808 Eq. (3.142)"
      ]
     },
     "execution_count": 87,
     "metadata": {},
     "output_type": "execute_result"
    }
   ],
   "source": [
    "foah11_B3_weier = weierstrass_model(foah11_B3)"
   ]
  },
  {
   "cell_type": "code",
   "execution_count": 88,
   "id": "14d0c78f-e005-43ec-9184-5401a3c6ab49",
   "metadata": {},
   "outputs": [
    {
     "data": {
      "text/plain": [
       "1-element Vector{String}:\n",
       " \"1408_4808-11-WSF\""
      ]
     },
     "execution_count": 88,
     "metadata": {},
     "output_type": "execute_result"
    }
   ],
   "source": [
    "birational_literature_models(foah11_B3)"
   ]
  },
  {
   "cell_type": "code",
   "execution_count": 89,
   "id": "20ab42aa-6321-4df9-b8ab-8801e6721934",
   "metadata": {},
   "outputs": [
    {
     "data": {
      "text/plain": [
       "3-element Vector{Tuple{MPolyIdeal{<:MPolyRingElem}, Tuple{Int64, Int64, Int64}, String}}:\n",
       " (Ideal with 1 generator, (0, 0, 1), \"I_1\")\n",
       " (Ideal with 1 generator, (0, 0, 2), \"Non-split I_2\")\n",
       " (Ideal with 1 generator, (0, 0, 3), \"Split I_3\")"
      ]
     },
     "execution_count": 89,
     "metadata": {},
     "output_type": "execute_result"
    }
   ],
   "source": [
    "singular_loci(foah11_B3_weier)"
   ]
  },
  {
   "cell_type": "code",
   "execution_count": 90,
   "id": "75411ced-6fb4-4107-a958-5d1897fce35b",
   "metadata": {},
   "outputs": [],
   "source": [
    "x1, x2, x3, x4 = gens(cox_ring(base_space(foah11_B3_weier)));"
   ]
  },
  {
   "cell_type": "code",
   "execution_count": 91,
   "id": "3a313c24-083a-4562-ae38-a8132069e4db",
   "metadata": {},
   "outputs": [
    {
     "data": {
      "text/plain": [
       "6-element Vector{String}:\n",
       " \"s1\"\n",
       " \"s5\"\n",
       " \"s6\"\n",
       " \"s2\"\n",
       " \"s9\"\n",
       " \"s3\""
      ]
     },
     "execution_count": 91,
     "metadata": {},
     "output_type": "execute_result"
    }
   ],
   "source": [
    "tunable_sections(foah11_B3_weier)"
   ]
  },
  {
   "cell_type": "code",
   "execution_count": 92,
   "id": "240e88e1-0ca9-413e-bdce-61c35c8d09fa",
   "metadata": {},
   "outputs": [
    {
     "data": {
      "text/plain": [
       "Weierstrass model over a concrete base"
      ]
     },
     "execution_count": 92,
     "metadata": {},
     "output_type": "execute_result"
    }
   ],
   "source": [
    "tuned_model = tune(foah11_B3_weier, Dict(\"s5\" =>zero(parent(x1))))"
   ]
  },
  {
   "cell_type": "code",
   "execution_count": 93,
   "id": "99f16a81-a4a6-465a-99eb-61487331bcd5",
   "metadata": {},
   "outputs": [
    {
     "data": {
      "text/plain": [
       "4-element Vector{Tuple{MPolyIdeal{<:MPolyRingElem}, Tuple{Int64, Int64, Int64}, String}}:\n",
       " (Ideal with 1 generator, (0, 0, 1), \"I_1\")\n",
       " (Ideal with 1 generator, (0, 0, 2), \"Non-split I_2\")\n",
       " (Ideal with 1 generator, (0, 0, 2), \"Non-split I_2\")\n",
       " (Ideal with 1 generator, (0, 0, 4), \"Split I_4\")"
      ]
     },
     "execution_count": 93,
     "metadata": {},
     "output_type": "execute_result"
    }
   ],
   "source": [
    "singular_loci(tuned_model)"
   ]
  },
  {
   "cell_type": "code",
   "execution_count": 94,
   "id": "b6b7cfcd-15d6-4e9e-a833-330ac1f31fd2",
   "metadata": {},
   "outputs": [
    {
     "data": {
      "text/plain": [
       "Hypersurface model over a concrete base"
      ]
     },
     "execution_count": 94,
     "metadata": {},
     "output_type": "execute_result"
    }
   ],
   "source": [
    "qsm_model = literature_model(arxiv_id = \"1903.00009\" , model_parameters = Dict(\"k\" => 283))"
   ]
  },
  {
   "cell_type": "code",
   "execution_count": 95,
   "id": "74fd2b00-4e18-4e62-8d25-a5be917a467f",
   "metadata": {},
   "outputs": [
    {
     "data": {
      "text/plain": [
       "Multivariate polynomial ring in 14 variables over QQ graded by\n",
       "  x1 -> [1 0 0 0 0 0 0 0 0]\n",
       "  x2 -> [0 1 0 0 0 0 0 0 0]\n",
       "  x3 -> [0 0 1 0 0 0 0 0 0]\n",
       "  x4 -> [0 0 0 1 0 0 0 0 0]\n",
       "  x5 -> [0 1 0 -1 0 0 0 0 0]\n",
       "  x6 -> [1 0 0 0 0 0 0 0 0]\n",
       "  x7 -> [-2 1 1 1 0 0 0 0 0]\n",
       "  v -> [0 0 0 0 1 0 0 0 0]\n",
       "  e3 -> [0 0 0 0 0 1 0 0 0]\n",
       "  e2 -> [0 0 0 0 0 0 1 0 0]\n",
       "  u -> [0 0 0 0 0 0 0 1 0]\n",
       "  e4 -> [0 0 0 0 0 0 0 0 1]\n",
       "  e1 -> [0 0 0 0 1 1 0 -1 -2]\n",
       "  w -> [0 0 0 0 0 1 1 1 1]"
      ]
     },
     "execution_count": 95,
     "metadata": {},
     "output_type": "execute_result"
    }
   ],
   "source": [
    "cox_ring(ambient_space(qsm_model))"
   ]
  },
  {
   "cell_type": "code",
   "execution_count": 96,
   "id": "6f5542c4-a099-4c9d-981b-169c93ae432e",
   "metadata": {},
   "outputs": [
    {
     "data": {
      "text/plain": [
       "Ideal generated by\n",
       "  x1*x6\n",
       "  x2*x4\n",
       "  x2*x5\n",
       "  x3*x5\n",
       "  x3*x7\n",
       "  v*e2\n",
       "  v*u\n",
       "  v*e4\n",
       "  v*e1\n",
       "  e3*w\n",
       "  e3*u\n",
       "  e3*e4\n",
       "  e3*e1\n",
       "  x4*x7\n",
       "  e2*w\n",
       "  e2*e4\n",
       "  e2*e1\n",
       "  u*w\n",
       "  u*e1\n",
       "  e4*w"
      ]
     },
     "execution_count": 96,
     "metadata": {},
     "output_type": "execute_result"
    }
   ],
   "source": [
    "stanley_reisner_ideal(ambient_space(qsm_model))"
   ]
  },
  {
   "cell_type": "code",
   "execution_count": 97,
   "id": "c8816ed0-e87c-4a87-bb93-e764cf42841e",
   "metadata": {},
   "outputs": [
    {
     "data": {
      "text/plain": [
       "Quotient\n",
       "  of multivariate polynomial ring in 14 variables x1, x2, x3, x4, ..., w\n",
       "    over rational field\n",
       "  by ideal with 25 generators"
      ]
     },
     "execution_count": 97,
     "metadata": {},
     "output_type": "execute_result"
    }
   ],
   "source": [
    "chow_ring(ambient_space(qsm_model))"
   ]
  },
  {
   "cell_type": "code",
   "execution_count": 98,
   "id": "316bda9f-5213-440e-af09-ae9c5a4ef8bb",
   "metadata": {},
   "outputs": [
    {
     "data": {
      "text/plain": [
       "91"
      ]
     },
     "execution_count": 98,
     "metadata": {},
     "output_type": "execute_result"
    }
   ],
   "source": [
    "binomial(14,2)"
   ]
  },
  {
   "cell_type": "code",
   "execution_count": 99,
   "id": "5987ebd5-55df-4234-8332-338502383de4",
   "metadata": {},
   "outputs": [
    {
     "data": {
      "text/plain": [
       "25"
      ]
     },
     "execution_count": 99,
     "metadata": {},
     "output_type": "execute_result"
    }
   ],
   "source": [
    "betti_number(ambient_space(qsm_model), 4)"
   ]
  },
  {
   "cell_type": "code",
   "execution_count": 100,
   "id": "5f2fb029-ecdb-4f67-b7f0-d93e45358631",
   "metadata": {},
   "outputs": [
    {
     "data": {
      "text/plain": [
       "25-element Vector{CohomologyClass}:\n",
       " Cohomology class on a normal toric variety given by x6*e2\n",
       " Cohomology class on a normal toric variety given by x4*u\n",
       " Cohomology class on a normal toric variety given by x6*e4\n",
       " Cohomology class on a normal toric variety given by x4*x6\n",
       " Cohomology class on a normal toric variety given by x7^2\n",
       " Cohomology class on a normal toric variety given by x6*e1\n",
       " Cohomology class on a normal toric variety given by x6*w\n",
       " Cohomology class on a normal toric variety given by x5*u\n",
       " Cohomology class on a normal toric variety given by x7*e2\n",
       " Cohomology class on a normal toric variety given by x5*x6\n",
       " Cohomology class on a normal toric variety given by x7*e4\n",
       " Cohomology class on a normal toric variety given by x7*e1\n",
       " Cohomology class on a normal toric variety given by x4*e2\n",
       " Cohomology class on a normal toric variety given by x7*w\n",
       " Cohomology class on a normal toric variety given by x6*u\n",
       " Cohomology class on a normal toric variety given by x4*e4\n",
       " Cohomology class on a normal toric variety given by x4*e1\n",
       " Cohomology class on a normal toric variety given by x4*w\n",
       " Cohomology class on a normal toric variety given by x5*e2\n",
       " Cohomology class on a normal toric variety given by e1*w\n",
       " Cohomology class on a normal toric variety given by x7*u\n",
       " Cohomology class on a normal toric variety given by x5*e4\n",
       " Cohomology class on a normal toric variety given by x6*x7\n",
       " Cohomology class on a normal toric variety given by x5*e1\n",
       " Cohomology class on a normal toric variety given by x5*w"
      ]
     },
     "execution_count": 100,
     "metadata": {},
     "output_type": "execute_result"
    }
   ],
   "source": [
    "basis_of_h22(ambient_space(qsm_model), check = false)"
   ]
  },
  {
   "cell_type": "code",
   "execution_count": 101,
   "id": "a9a2a061-aa4f-4c9f-bcf3-a60417f53d2c",
   "metadata": {},
   "outputs": [
    {
     "data": {
      "text/plain": [
       "25"
      ]
     },
     "execution_count": 101,
     "metadata": {},
     "output_type": "execute_result"
    }
   ],
   "source": [
    "g4_gens = chosen_g4_flux_basis(qsm_model);\n",
    "length(g4_gens)"
   ]
  },
  {
   "cell_type": "code",
   "execution_count": 102,
   "id": "06018a48-c945-4369-8479-b83e8f80cfb9",
   "metadata": {},
   "outputs": [
    {
     "data": {
      "text/plain": [
       "G4-flux candidate\n",
       "  - Elementary quantization checks: not executed\n",
       "  - Verticality checks: not executed\n",
       "  - Non-abelian gauge group: breaking pattern not analyzed\n",
       "  - Tadpole cancellation check: not executed"
      ]
     },
     "execution_count": 102,
     "metadata": {},
     "output_type": "execute_result"
    }
   ],
   "source": [
    "g4_gens[1]"
   ]
  },
  {
   "cell_type": "code",
   "execution_count": 103,
   "id": "d4012480-63a5-48cb-905f-e7ba5408689a",
   "metadata": {},
   "outputs": [
    {
     "data": {
      "text/plain": [
       "Cohomology class on a normal toric variety given by x6*e2"
      ]
     },
     "execution_count": 103,
     "metadata": {},
     "output_type": "execute_result"
    }
   ],
   "source": [
    "cohomology_class(g4_gens[1])"
   ]
  },
  {
   "cell_type": "code",
   "execution_count": 104,
   "id": "1d3f1ce9-3d07-4150-a98c-fc4364099841",
   "metadata": {},
   "outputs": [
    {
     "data": {
      "text/plain": [
       "A family of G4 fluxes:\n",
       "  - Elementary quantization checks: satisfied\n",
       "  - Verticality checks: failed\n",
       "  - Non-abelian gauge group: broken\n",
       "  - Tadpole constraint: not analyzed"
      ]
     },
     "execution_count": 104,
     "metadata": {},
     "output_type": "execute_result"
    }
   ],
   "source": [
    "fg = special_flux_family(qsm_model, check = false)"
   ]
  },
  {
   "cell_type": "code",
   "execution_count": 105,
   "id": "995c75a2-ba5a-443a-98f9-2ffc539bf150",
   "metadata": {},
   "outputs": [
    {
     "data": {
      "text/plain": [
       "(25, 25)"
      ]
     },
     "execution_count": 105,
     "metadata": {},
     "output_type": "execute_result"
    }
   ],
   "source": [
    "mat_int = matrix_integral(fg);\n",
    "size(mat_int)"
   ]
  },
  {
   "cell_type": "code",
   "execution_count": 106,
   "id": "a012f05a-cb7e-4237-b5ec-b4b040cbf810",
   "metadata": {},
   "outputs": [
    {
     "data": {
      "text/plain": [
       "(25, 0)"
      ]
     },
     "execution_count": 106,
     "metadata": {},
     "output_type": "execute_result"
    }
   ],
   "source": [
    "mat_rat = matrix_rational(fg);\n",
    "size(mat_rat)"
   ]
  },
  {
   "cell_type": "code",
   "execution_count": 107,
   "id": "23ffacad-ab64-4ec2-b81f-742867c3aa63",
   "metadata": {},
   "outputs": [
    {
     "data": {
      "text/plain": [
       "G4-flux candidate\n",
       "  - Elementary quantization checks: satisfied\n",
       "  - Verticality checks: not executed\n",
       "  - Non-abelian gauge group: breaking pattern not analyzed\n",
       "  - Tadpole cancellation check: not executed"
      ]
     },
     "execution_count": 107,
     "metadata": {},
     "output_type": "execute_result"
    }
   ],
   "source": [
    "g4 = random_flux_instance(fg)"
   ]
  },
  {
   "cell_type": "code",
   "execution_count": 108,
   "id": "4ec4c99e-61e9-4103-bbd2-aa007caf0ab2",
   "metadata": {},
   "outputs": [
    {
     "data": {
      "text/plain": [
       "A family of G4 fluxes:\n",
       "  - Elementary quantization checks: satisfied\n",
       "  - Verticality checks: satisfied\n",
       "  - Non-abelian gauge group: broken\n",
       "  - Tadpole constraint: not analyzed"
      ]
     },
     "execution_count": 108,
     "metadata": {},
     "output_type": "execute_result"
    }
   ],
   "source": [
    "fg_vert = special_flux_family(qsm_model, vert = true, check = false)"
   ]
  },
  {
   "cell_type": "code",
   "execution_count": 109,
   "id": "9cb2dbe3-040f-4fa4-b2f7-dc0256133400",
   "metadata": {},
   "outputs": [
    {
     "data": {
      "text/plain": [
       "(25, 17)"
      ]
     },
     "execution_count": 109,
     "metadata": {},
     "output_type": "execute_result"
    }
   ],
   "source": [
    "size(matrix_integral(fg_vert))"
   ]
  },
  {
   "cell_type": "code",
   "execution_count": 110,
   "id": "fa062060-157e-4d65-bc8e-1e6658b9271c",
   "metadata": {},
   "outputs": [
    {
     "data": {
      "text/plain": [
       "G4-flux candidate\n",
       "  - Elementary quantization checks: satisfied\n",
       "  - Verticality checks: satisfied\n",
       "  - Non-abelian gauge group: breaking pattern not analyzed\n",
       "  - Tadpole cancellation check: not executed"
      ]
     },
     "execution_count": 110,
     "metadata": {},
     "output_type": "execute_result"
    }
   ],
   "source": [
    "g4_vert = random_flux_instance(fg_vert)"
   ]
  },
  {
   "cell_type": "code",
   "execution_count": 111,
   "id": "23856e8b-699b-4583-8256-d95455a721f3",
   "metadata": {},
   "outputs": [
    {
     "data": {
      "text/plain": [
       "G4-flux candidate\n",
       "  - Elementary quantization checks: satisfied\n",
       "  - Verticality checks: satisfied\n",
       "  - Non-abelian gauge group: breaking pattern not analyzed\n",
       "  - Tadpole cancellation check: not executed"
      ]
     },
     "execution_count": 111,
     "metadata": {},
     "output_type": "execute_result"
    }
   ],
   "source": [
    "g4_vert_2 = random_flux(qsm_model, vert = true, check = false)"
   ]
  },
  {
   "cell_type": "code",
   "execution_count": 112,
   "id": "6b69f3eb-980b-4312-8c1d-4426f1b9f3a3",
   "metadata": {},
   "outputs": [
    {
     "data": {
      "text/plain": [
       "A family of G4 fluxes:\n",
       "  - Elementary quantization checks: satisfied\n",
       "  - Verticality checks: satisfied\n",
       "  - Non-abelian gauge group: not broken\n",
       "  - Tadpole constraint: not analyzed"
      ]
     },
     "execution_count": 112,
     "metadata": {},
     "output_type": "execute_result"
    }
   ],
   "source": [
    "fg_vert_not_breaking = special_flux_family(qsm_model, vert = true, not_breaking = true, check = false)"
   ]
  },
  {
   "cell_type": "code",
   "execution_count": 113,
   "id": "2f86f8c2-08f0-46bc-86f9-861fa314fbff",
   "metadata": {},
   "outputs": [
    {
     "data": {
      "text/plain": [
       "(25, 1)"
      ]
     },
     "execution_count": 113,
     "metadata": {},
     "output_type": "execute_result"
    }
   ],
   "source": [
    "size(matrix_integral(fg_vert_not_breaking))"
   ]
  },
  {
   "cell_type": "code",
   "execution_count": 114,
   "id": "d3171bc9-3984-48df-b9dc-87a87557af43",
   "metadata": {},
   "outputs": [
    {
     "data": {
      "text/plain": [
       "G4-flux candidate\n",
       "  - Elementary quantization checks: not executed\n",
       "  - Verticality checks: not executed\n",
       "  - Non-abelian gauge group: breaking pattern not analyzed\n",
       "  - Tadpole cancellation check: not executed"
      ]
     },
     "execution_count": 114,
     "metadata": {},
     "output_type": "execute_result"
    }
   ],
   "source": [
    "b22 = chosen_g4_flux_basis(qsm_model);\n",
    "mat_int = matrix_integral(fg_vert_not_breaking);\n",
    "g4_sample = sum([mat_int[k] * b22[k] for k in 1:length(b22)])"
   ]
  },
  {
   "cell_type": "code",
   "execution_count": 115,
   "id": "ad1503ac-a23b-4655-b393-9481b4b6942d",
   "metadata": {},
   "outputs": [
    {
     "data": {
      "text/plain": [
       "Cohomology class on a normal toric variety given by -1//5*x5*x6 + 1//30*x5*e2 + 1//15*x5*u + 1//10*x5*e4 + 1//15*x5*e1 + 1//30*x5*w - 11//15*x6*x7 + 2//15*x6*e2 + 4//15*x6*u + 2//5*x6*e4 + 4//15*x6*e1 + 2//15*x6*w - 7//30*x7^2 + 1//15*x7*e2 + 2//15*x7*u + 1//5*x7*e4 + 2//15*x7*e1 + 1//15*x7*w - 1//6*e1*w"
      ]
     },
     "execution_count": 115,
     "metadata": {},
     "output_type": "execute_result"
    }
   ],
   "source": [
    "cohomology_class(g4_sample)"
   ]
  },
  {
   "cell_type": "code",
   "execution_count": 116,
   "id": "15f3ce5c-6b2f-4ca6-9490-6bed5a3d1d40",
   "metadata": {},
   "outputs": [
    {
     "data": {
      "text/plain": [
       "30"
      ]
     },
     "execution_count": 116,
     "metadata": {},
     "output_type": "execute_result"
    }
   ],
   "source": [
    "kbar3(qsm_model)"
   ]
  },
  {
   "cell_type": "code",
   "execution_count": 117,
   "id": "c3d419b7-cb04-45e7-a40a-15732ccbccea",
   "metadata": {},
   "outputs": [],
   "source": [
    "divs = torusinvariant_prime_divisors(ambient_space(qsm_model));\n",
    "e1 = cohomology_class(divs[13]);\n",
    "e2 = cohomology_class(divs[10]);\n",
    "e4 = cohomology_class(divs[12]);\n",
    "u = cohomology_class(divs[11]);\n",
    "v = cohomology_class(divs[8]);\n",
    "pb_Kbar = cohomology_class(sum([divs[k] for k in 1:7]));"
   ]
  },
  {
   "cell_type": "code",
   "execution_count": 118,
   "id": "567222e4-1d3b-4759-97e9-20e07647d822",
   "metadata": {},
   "outputs": [],
   "source": [
    "g4_class = (-3) // kbar3(qsm_model) * (5 * e1 * e4 + pb_Kbar * (-3 * e1 - 2 * e2 - 6 * e4 + pb_Kbar - 4 * u + v));"
   ]
  },
  {
   "cell_type": "code",
   "execution_count": 119,
   "id": "77170d45-9b31-44dd-af68-ba1f8161f13b",
   "metadata": {},
   "outputs": [
    {
     "data": {
      "text/plain": [
       "G4-flux candidate\n",
       "  - Elementary quantization checks: not executed\n",
       "  - Verticality checks: not executed\n",
       "  - Non-abelian gauge group: breaking pattern not analyzed\n",
       "  - Tadpole cancellation check: not executed"
      ]
     },
     "execution_count": 119,
     "metadata": {},
     "output_type": "execute_result"
    }
   ],
   "source": [
    "g4_sample2 = g4_flux(qsm_model, g4_class, check = false, convert = true)"
   ]
  },
  {
   "cell_type": "code",
   "execution_count": 120,
   "id": "6dfc351e-14f5-4667-8503-dfec0c89a90d",
   "metadata": {},
   "outputs": [
    {
     "data": {
      "text/plain": [
       "Cohomology class on a normal toric variety given by -3//5*x5*x6 + 1//10*x5*e2 + 1//5*x5*u + 3//10*x5*e4 + 1//5*x5*e1 + 1//10*x5*w - 11//5*x6*x7 + 2//5*x6*e2 + 4//5*x6*u + 6//5*x6*e4 + 4//5*x6*e1 + 2//5*x6*w - 7//10*x7^2 + 1//5*x7*e2 + 2//5*x7*u + 3//5*x7*e4 + 2//5*x7*e1 + 1//5*x7*w - 1//2*e1*w"
      ]
     },
     "execution_count": 120,
     "metadata": {},
     "output_type": "execute_result"
    }
   ],
   "source": [
    "cohomology_class(g4_sample2)"
   ]
  },
  {
   "cell_type": "code",
   "execution_count": 121,
   "id": "97559cd7-7880-4888-a477-054b73cce67e",
   "metadata": {},
   "outputs": [
    {
     "data": {
      "text/plain": [
       "Cohomology class on a normal toric variety given by 0"
      ]
     },
     "execution_count": 121,
     "metadata": {},
     "output_type": "execute_result"
    }
   ],
   "source": [
    "3 * cohomology_class(g4_sample) - cohomology_class(g4_sample2)"
   ]
  },
  {
   "cell_type": "code",
   "execution_count": 122,
   "id": "20998bfc-5bb2-498f-849d-cbe1b289fe4b",
   "metadata": {},
   "outputs": [
    {
     "data": {
      "text/plain": [
       "-1//12*a1^2 + 123//4"
      ]
     },
     "execution_count": 122,
     "metadata": {},
     "output_type": "execute_result"
    }
   ],
   "source": [
    "d3_tadpole_constraint(fg_vert_not_breaking)"
   ]
  },
  {
   "cell_type": "code",
   "execution_count": 123,
   "id": "d9e62120-f349-43a9-a69c-1c130df3c4d8",
   "metadata": {},
   "outputs": [
    {
     "data": {
      "text/plain": [
       "[1]"
      ]
     },
     "execution_count": 123,
     "metadata": {},
     "output_type": "execute_result"
    }
   ],
   "source": [
    "mat_int = matrix(ZZ, [[1]])"
   ]
  },
  {
   "cell_type": "code",
   "execution_count": 124,
   "id": "8023fc66-efa7-47b5-abbd-3bf646ddf7fe",
   "metadata": {},
   "outputs": [
    {
     "data": {
      "text/plain": [
       "0 by 1 empty matrix"
      ]
     },
     "execution_count": 124,
     "metadata": {},
     "output_type": "execute_result"
    }
   ],
   "source": [
    "mat_rat = zero_matrix(QQ, 0, 1)"
   ]
  },
  {
   "cell_type": "code",
   "execution_count": 125,
   "id": "3fe56239-64b3-4c26-b257-0668d7861740",
   "metadata": {},
   "outputs": [
    {
     "data": {
      "text/plain": [
       "G4-flux candidate\n",
       "  - Elementary quantization checks: satisfied\n",
       "  - Verticality checks: satisfied\n",
       "  - Non-abelian gauge group: not broken\n",
       "  - Tadpole cancellation check: not executed"
      ]
     },
     "execution_count": 125,
     "metadata": {},
     "output_type": "execute_result"
    }
   ],
   "source": [
    "g4_exp = flux_instance(fg_vert_not_breaking, mat_int, mat_rat)"
   ]
  },
  {
   "cell_type": "code",
   "execution_count": 126,
   "id": "3871fc4c-8f12-4fdd-a5fa-c9fbe18dc4c6",
   "metadata": {},
   "outputs": [
    {
     "data": {
      "text/plain": [
       "92//3"
      ]
     },
     "execution_count": 126,
     "metadata": {},
     "output_type": "execute_result"
    }
   ],
   "source": [
    "d3_tadpole_constraint(g4_exp)"
   ]
  },
  {
   "cell_type": "code",
   "execution_count": 127,
   "id": "92a7f98e-732d-4dcd-8100-97f64208cd37",
   "metadata": {},
   "outputs": [
    {
     "data": {
      "text/plain": [
       "true"
      ]
     },
     "execution_count": 127,
     "metadata": {},
     "output_type": "execute_result"
    }
   ],
   "source": [
    "d3_tadpole_constraint(g4_exp) == -1//12 + 123//4"
   ]
  },
  {
   "cell_type": "raw",
   "id": "10a62cae-36a2-4ae4-8dfb-566cf9194a39",
   "metadata": {},
   "source": [
    "WARNING: The following models might take a few minutes to load in"
   ]
  },
  {
   "cell_type": "code",
   "execution_count": 128,
   "id": "470f2a76-9091-4b01-8867-714ad2d345af",
   "metadata": {},
   "outputs": [
    {
     "data": {
      "text/plain": [
       "Global Tate model over a concrete base -- The F-theory geometry with most flux vacua based on arXiv paper 1511.03209 Eq. (2.11)"
      ]
     },
     "execution_count": 128,
     "metadata": {},
     "output_type": "execute_result"
    }
   ],
   "source": [
    "t = literature_model(arxiv_id = \"1511.03209\")"
   ]
  },
  {
   "cell_type": "code",
   "execution_count": null,
   "id": "f4693f9c-3a4e-4240-ac3e-8753256fcdce",
   "metadata": {},
   "outputs": [],
   "source": [
    "t_res = resolve(t, 1)"
   ]
  },
  {
   "cell_type": "code",
   "execution_count": null,
   "id": "38d05dff-014f-481c-9008-72faeb1721e2",
   "metadata": {},
   "outputs": [],
   "source": [
    "cohomology_ring(ambient_space(t_res), check = false);"
   ]
  },
  {
   "cell_type": "code",
   "execution_count": null,
   "id": "ecde523d-066b-4752-91fc-f23ef9ac027c",
   "metadata": {},
   "outputs": [],
   "source": [
    "amb = ambient_space(t_res)"
   ]
  },
  {
   "cell_type": "code",
   "execution_count": null,
   "id": "82bc0e31-6b04-4fec-b7d1-2575cf771375",
   "metadata": {},
   "outputs": [],
   "source": [
    "h22_basis = basis_of_h22(amb, check = false);\n",
    "h22_basis[1]"
   ]
  },
  {
   "cell_type": "code",
   "execution_count": null,
   "id": "01e58896-3d41-4f77-ab47-53994c18815c",
   "metadata": {},
   "outputs": [],
   "source": [
    "length(h22_basis)"
   ]
  },
  {
   "cell_type": "code",
   "execution_count": null,
   "id": "47d53e26-ac1a-4bb7-b505-7ae818fb674f",
   "metadata": {},
   "outputs": [],
   "source": [
    "betti_number(amb, 4)"
   ]
  },
  {
   "cell_type": "code",
   "execution_count": null,
   "id": "ecc65ccc-6f3b-4757-88c0-7aebfcd2c899",
   "metadata": {},
   "outputs": [],
   "source": [
    "g4_amb_candidates = chosen_g4_flux_basis(t_res, check = false);"
   ]
  },
  {
   "cell_type": "code",
   "execution_count": null,
   "id": "b6f52140-719d-452c-adec-88989e7d2032",
   "metadata": {},
   "outputs": [],
   "source": [
    "length(g4_amb_candidates)"
   ]
  },
  {
   "cell_type": "code",
   "execution_count": null,
   "id": "61a7012b-d0eb-46d0-a756-e9d0af33de43",
   "metadata": {},
   "outputs": [],
   "source": [
    "fg_quant = special_flux_family(t_res, check = false)"
   ]
  },
  {
   "cell_type": "code",
   "execution_count": null,
   "id": "3040adac-ad19-41c9-9c2c-cd764bfdbd18",
   "metadata": {},
   "outputs": [],
   "source": [
    "size(matrix_integral(fg_quant))"
   ]
  },
  {
   "cell_type": "code",
   "execution_count": null,
   "id": "bb2f001e-d9c8-4430-8977-9b33ffae67c0",
   "metadata": {},
   "outputs": [],
   "source": [
    "size(matrix_rational(fg_quant))"
   ]
  },
  {
   "cell_type": "code",
   "execution_count": null,
   "id": "4c58f382-05be-4d2a-aa4c-f79301fc8359",
   "metadata": {},
   "outputs": [],
   "source": [
    "fg_quant_vert = special_flux_family(t_res, vert = true, check = false)"
   ]
  },
  {
   "cell_type": "code",
   "execution_count": null,
   "id": "dd6d45ab-7f5b-4b83-b544-568267e3dd64",
   "metadata": {},
   "outputs": [],
   "source": [
    "size(matrix_integral(fg_quant_vert))"
   ]
  },
  {
   "cell_type": "code",
   "execution_count": null,
   "id": "04f9f30e-25df-49bd-84a8-166b347129ed",
   "metadata": {},
   "outputs": [],
   "source": [
    "size(matrix_rational(fg_quant_vert))"
   ]
  }
 ],
 "metadata": {
  "kernelspec": {
   "display_name": "Julia (16 threads) 1.11.3",
   "language": "julia",
   "name": "julia-_16-threads_-1.11"
  },
  "language_info": {
   "file_extension": ".jl",
   "mimetype": "application/julia",
   "name": "julia",
   "version": "1.11.3"
  }
 },
 "nbformat": 4,
 "nbformat_minor": 5
}
