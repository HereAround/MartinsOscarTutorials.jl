{
 "cells": [
  {
   "cell_type": "markdown",
   "id": "09c0537e-5be3-4169-9d9d-c9786decc80c",
   "metadata": {},
   "source": [
    "# *FTheoryTools -- Advanced Functionality*\n",
    "\n",
    "* Authors: Martin Bies, Miķelis Emīls Miķelsons, Andrew P. Turner\n",
    "* Version: OSCAR version 1.3.0 or newer."
   ]
  },
  {
   "cell_type": "markdown",
   "id": "040682d2-6313-4868-bdf7-570e90ed1e52",
   "metadata": {},
   "source": [
    "This tutorial collects the Julia code used in an upcoming publication and is an extensive survey of almost all of the functionality of FTheoryTools."
   ]
  },
  {
   "cell_type": "code",
   "execution_count": 1,
   "id": "e53ffe0c-2900-464b-a2e7-c2f7c3e5be6a",
   "metadata": {},
   "outputs": [
    {
     "name": "stdout",
     "output_type": "stream",
     "text": [
      "  ___   ____   ____    _    ____\n",
      " / _ \\ / ___| / ___|  / \\  |  _ \\   |  Combining ANTIC, GAP, Polymake, Singular\n",
      "| | | |\\___ \\| |     / _ \\ | |_) |  |  Type \"?Oscar\" for more information\n",
      "| |_| | ___) | |___ / ___ \\|  _ <   |  Manual: https://docs.oscar-system.org\n",
      " \\___/ |____/ \\____/_/   \\_\\_| \\_\\  |  Version 1.3.0\n"
     ]
    }
   ],
   "source": [
    "using Oscar"
   ]
  },
  {
   "cell_type": "code",
   "execution_count": 2,
   "id": "b60272d2-70fc-4ce8-a0e6-533f35ec76cc",
   "metadata": {},
   "outputs": [],
   "source": [
    "using Test"
   ]
  },
  {
   "cell_type": "code",
   "execution_count": 3,
   "id": "ef7c098c-d336-45a5-a6c0-d679a4a90e7a",
   "metadata": {},
   "outputs": [
    {
     "data": {
      "text/plain": [
       "Normal toric variety"
      ]
     },
     "execution_count": 3,
     "metadata": {},
     "output_type": "execute_result"
    }
   ],
   "source": [
    "B2 = projective_space(NormalToricVariety, 2)"
   ]
  },
  {
   "cell_type": "code",
   "execution_count": 4,
   "id": "6efc1b1f-8b96-4b5d-9a58-6ca2fa7ebf86",
   "metadata": {},
   "outputs": [
    {
     "data": {
      "text/plain": [
       "3-element Vector{MPolyDecRingElem{QQFieldElem, QQMPolyRingElem}}:\n",
       " x1\n",
       " x2\n",
       " x3"
      ]
     },
     "execution_count": 4,
     "metadata": {},
     "output_type": "execute_result"
    }
   ],
   "source": [
    "x1, x2, x3 = gens(cox_ring(B2))"
   ]
  },
  {
   "cell_type": "code",
   "execution_count": 5,
   "id": "3c429fd0-c4e5-4a1a-8f1c-0ca162d61006",
   "metadata": {},
   "outputs": [
    {
     "data": {
      "text/plain": [
       "Weierstrass model over a concrete base"
      ]
     },
     "execution_count": 5,
     "metadata": {},
     "output_type": "execute_result"
    }
   ],
   "source": [
    "weier_f = 1//48*(-(28*x1*x2^5 + 169*x3^6)^2 + 24*(2*x1^12 + 13*x1^2*x2^4*x3^6));\n",
    "weier_g = 1//864*(216*x1^4*x2^8*x3^6 + (28*x1*x2^5 + 169*x3^6)^3 - 36*(28*x1*x2^5 + 169*x3^6)*(2*x1^12 + 13*x1^2*x2^4*x3^6));\n",
    "w = weierstrass_model(B2, weier_f, weier_g; completeness_check = false)"
   ]
  },
  {
   "cell_type": "code",
   "execution_count": 6,
   "id": "e9bfc670-65bb-4a39-bb34-d46ac1ccc479",
   "metadata": {},
   "outputs": [
    {
     "data": {
      "text/plain": [
       "Dict{String, MPolyDecRingElem{QQFieldElem, QQMPolyRingElem}} with 2 entries:\n",
       "  \"f\" => x1^12 - 49//3*x1^2*x2^10 + 13//2*x1^2*x2^4*x3^6 - 1183//6*x1*x2^5*x3^6…\n",
       "  \"g\" => -7//3*x1^13*x2^5 - 169//12*x1^12*x3^6 + 1//4*x1^4*x2^8*x3^6 + 686//27*…"
      ]
     },
     "execution_count": 6,
     "metadata": {},
     "output_type": "execute_result"
    }
   ],
   "source": [
    "explicit_model_sections(w)"
   ]
  },
  {
   "cell_type": "code",
   "execution_count": 7,
   "id": "a398f218-7298-4189-a570-fab8c617a4ad",
   "metadata": {},
   "outputs": [
    {
     "data": {
      "text/plain": [
       "Weierstrass model over a concrete base"
      ]
     },
     "execution_count": 7,
     "metadata": {},
     "output_type": "execute_result"
    }
   ],
   "source": [
    "w_generic = weierstrass_model(B2; completeness_check = false)"
   ]
  },
  {
   "cell_type": "code",
   "execution_count": 8,
   "id": "c7d9823c-bf90-4049-b813-aa946ae775e1",
   "metadata": {},
   "outputs": [
    {
     "data": {
      "text/plain": [
       "Dict{String, MPolyDecRingElem{QQFieldElem, QQMPolyRingElem}} with 2 entries:\n",
       "  \"f\" => 6702*x1^12 - 9484*x1^11*x2 + 5159*x1^11*x3 - 8958*x1^10*x2^2 - 8099*x1…\n",
       "  \"g\" => 5429*x1^18 - 6105*x1^17*x2 - 2707*x1^17*x3 + 4898*x1^16*x2^2 + 2885*x1…"
      ]
     },
     "execution_count": 8,
     "metadata": {},
     "output_type": "execute_result"
    }
   ],
   "source": [
    "explicit_model_sections(w_generic)"
   ]
  },
  {
   "cell_type": "code",
   "execution_count": 9,
   "id": "3d80c621-42ef-4b67-98a9-ad288703d50d",
   "metadata": {},
   "outputs": [
    {
     "data": {
      "text/plain": [
       "1-element Vector{Tuple{MPolyIdeal{<:MPolyRingElem}, Tuple{Int64, Int64, Int64}, String}}:\n",
       " (Ideal with 1 generator, (0, 0, 1), \"I_1\")"
      ]
     },
     "execution_count": 9,
     "metadata": {},
     "output_type": "execute_result"
    }
   ],
   "source": [
    "singular_loci(w_generic)"
   ]
  },
  {
   "cell_type": "code",
   "execution_count": 10,
   "id": "d02e2433-0310-4256-ac27-89292b041063",
   "metadata": {},
   "outputs": [
    {
     "data": {
      "text/plain": [
       "2-element Vector{Tuple{MPolyIdeal{<:MPolyRingElem}, Tuple{Int64, Int64, Int64}, String}}:\n",
       " (Ideal with 1 generator, (0, 0, 1), \"I_1\")\n",
       " (Ideal (x1), (0, 0, 5), \"Split I_5\")"
      ]
     },
     "execution_count": 10,
     "metadata": {},
     "output_type": "execute_result"
    }
   ],
   "source": [
    "singular_loci(w)"
   ]
  },
  {
   "cell_type": "code",
   "execution_count": 11,
   "id": "24a68940-b1e5-49a1-bb6d-443976906844",
   "metadata": {},
   "outputs": [
    {
     "data": {
      "text/plain": [
       "Global Tate model over a concrete base"
      ]
     },
     "execution_count": 11,
     "metadata": {},
     "output_type": "execute_result"
    }
   ],
   "source": [
    "a1 = 13 * x3^3;\n",
    "a2 = 7 * x1 * x2^5;\n",
    "a3 = x1^2 * x2^4 * x3^3;\n",
    "a4 = x1^3 * (x2 + x3)^9;\n",
    "a6 = zero(cox_ring(B2));\n",
    "t = global_tate_model(B2, [a1, a2, a3, a4, a6])"
   ]
  },
  {
   "cell_type": "code",
   "execution_count": 12,
   "id": "425e9529-6d18-4b79-bb0d-0bef5457c21e",
   "metadata": {},
   "outputs": [
    {
     "data": {
      "text/plain": [
       "x1^3*x2^9*x*z^4 + 9*x1^3*x2^8*x3*x*z^4 + 36*x1^3*x2^7*x3^2*x*z^4 + 84*x1^3*x2^6*x3^3*x*z^4 + 126*x1^3*x2^5*x3^4*x*z^4 + 126*x1^3*x2^4*x3^5*x*z^4 + 84*x1^3*x2^3*x3^6*x*z^4 + 36*x1^3*x2^2*x3^7*x*z^4 + 9*x1^3*x2*x3^8*x*z^4 + x1^3*x3^9*x*z^4 - x1^2*x2^4*x3^3*y*z^3 + 7*x1*x2^5*x^2*z^2 - 13*x3^3*x*y*z + x^3 - y^2"
      ]
     },
     "execution_count": 12,
     "metadata": {},
     "output_type": "execute_result"
    }
   ],
   "source": [
    "hypersurface_equation(t)"
   ]
  },
  {
   "cell_type": "code",
   "execution_count": 13,
   "id": "c0da1319-333e-4d40-8342-2d9df08c813e",
   "metadata": {},
   "outputs": [
    {
     "data": {
      "text/plain": [
       "Weierstrass model over a concrete base"
      ]
     },
     "execution_count": 13,
     "metadata": {},
     "output_type": "execute_result"
    }
   ],
   "source": [
    "w = weierstrass_model(t)"
   ]
  },
  {
   "cell_type": "code",
   "execution_count": 14,
   "id": "353fbcb9-c734-4e8b-ad09-1caa2d3aaf87",
   "metadata": {},
   "outputs": [
    {
     "data": {
      "text/plain": [
       "x1^3*x2^9 + 9*x1^3*x2^8*x3 + 36*x1^3*x2^7*x3^2 + 84*x1^3*x2^6*x3^3 + 126*x1^3*x2^5*x3^4 + 126*x1^3*x2^4*x3^5 + 84*x1^3*x2^3*x3^6 + 36*x1^3*x2^2*x3^7 + 9*x1^3*x2*x3^8 + x1^3*x3^9 - 49//3*x1^2*x2^10 + 13//2*x1^2*x2^4*x3^6 - 1183//6*x1*x2^5*x3^6 - 28561//48*x3^12"
      ]
     },
     "execution_count": 14,
     "metadata": {},
     "output_type": "execute_result"
    }
   ],
   "source": [
    "weierstrass_section_f(w)"
   ]
  },
  {
   "cell_type": "code",
   "execution_count": 15,
   "id": "3472189a-a734-4676-b4be-c8cf710774e3",
   "metadata": {},
   "outputs": [
    {
     "data": {
      "text/plain": [
       "-7//3*x1^4*x2^14 - 21*x1^4*x2^13*x3 - 84*x1^4*x2^12*x3^2 - 196*x1^4*x2^11*x3^3 - 294*x1^4*x2^10*x3^4 - 294*x1^4*x2^9*x3^5 - 783//4*x1^4*x2^8*x3^6 - 84*x1^4*x2^7*x3^7 - 21*x1^4*x2^6*x3^8 - 7//3*x1^4*x2^5*x3^9 + 686//27*x1^3*x2^15 - 117//4*x1^3*x2^9*x3^6 - 507//4*x1^3*x2^8*x3^7 - 507*x1^3*x2^7*x3^8 - 1183*x1^3*x2^6*x3^9 - 3549//2*x1^3*x2^5*x3^10 - 3549//2*x1^3*x2^4*x3^11 - 1183*x1^3*x2^3*x3^12 - 507*x1^3*x2^2*x3^13 - 507//4*x1^3*x2*x3^14 - 169//12*x1^3*x3^15 + 8281//18*x1^2*x2^10*x3^6 - 2197//24*x1^2*x2^4*x3^12 + 199927//72*x1*x2^5*x3^12 + 4826809//864*x3^18"
      ]
     },
     "execution_count": 15,
     "metadata": {},
     "output_type": "execute_result"
    }
   ],
   "source": [
    "weierstrass_section_g(w)"
   ]
  },
  {
   "cell_type": "code",
   "execution_count": 16,
   "id": "204abb0f-2622-4afb-9c03-b2065290ca6b",
   "metadata": {},
   "outputs": [
    {
     "data": {
      "text/plain": [
       "Normal toric variety"
      ]
     },
     "execution_count": 16,
     "metadata": {},
     "output_type": "execute_result"
    }
   ],
   "source": [
    "fiber_ambient_space = weighted_projective_space(NormalToricVariety, [2,3,1])"
   ]
  },
  {
   "cell_type": "code",
   "execution_count": 17,
   "id": "472b2162-e1d2-4043-b996-0d6917312339",
   "metadata": {},
   "outputs": [],
   "source": [
    "set_coordinate_names(fiber_ambient_space, [\"x\" , \"y\" , \"z\" ])"
   ]
  },
  {
   "cell_type": "code",
   "execution_count": 18,
   "id": "afd81a04-2553-4f7c-ac9e-d8c7716635f4",
   "metadata": {},
   "outputs": [
    {
     "data": {
      "text/plain": [
       "Divisor class on a normal toric variety"
      ]
     },
     "execution_count": 18,
     "metadata": {},
     "output_type": "execute_result"
    }
   ],
   "source": [
    "D1 = 2 * anticanonical_divisor_class(B2)\n",
    "D2 = 3 * anticanonical_divisor_class(B2)\n",
    "D3 = trivial_divisor_class(B2)"
   ]
  },
  {
   "cell_type": "code",
   "execution_count": 19,
   "id": "aa478eda-5d02-4ab9-92d6-fc9e3df31926",
   "metadata": {},
   "outputs": [
    {
     "data": {
      "text/plain": [
       "(Multivariate polynomial ring in 6 variables over QQ, QQMPolyRingElem[x1, x2, x3, x, y, z])"
      ]
     },
     "execution_count": 19,
     "metadata": {},
     "output_type": "execute_result"
    }
   ],
   "source": [
    "amb_ring, (x1, x2, x3, x, y, z) = polynomial_ring(QQ, [\"x1\" , \"x2\" , \"x3\" , \"x\" , \"y\" , \"z\" ])"
   ]
  },
  {
   "cell_type": "code",
   "execution_count": 20,
   "id": "c0a7d771-36de-451f-8475-59df9d91f925",
   "metadata": {},
   "outputs": [
    {
     "data": {
      "text/plain": [
       "x1^3*x2^9*x*z^4 + 9*x1^3*x2^8*x3*x*z^4 + 36*x1^3*x2^7*x3^2*x*z^4 + 84*x1^3*x2^6*x3^3*x*z^4 + 126*x1^3*x2^5*x3^4*x*z^4 + 126*x1^3*x2^4*x3^5*x*z^4 + 84*x1^3*x2^3*x3^6*x*z^4 + 36*x1^3*x2^2*x3^7*x*z^4 + 9*x1^3*x2*x3^8*x*z^4 + x1^3*x3^9*x*z^4 - x1^2*x2^4*x3^3*y*z^3 + 7*x1*x2^5*x^2*z^2 - 13*x3^3*x*y*z + x^3 - y^2"
      ]
     },
     "execution_count": 20,
     "metadata": {},
     "output_type": "execute_result"
    }
   ],
   "source": [
    "p = x^3 + 7*x1*x2^5*x^2*z^2 + x1^3*(x2 + x3)^9*x*z^4 - y^2 - 13*x3^3*x*y*z - x1^2*x2^4*x3^3*y*z^3"
   ]
  },
  {
   "cell_type": "code",
   "execution_count": 21,
   "id": "e80976a9-56a2-4bf5-8a1d-f8166d2b7fb5",
   "metadata": {},
   "outputs": [
    {
     "data": {
      "text/plain": [
       "Hypersurface model over a concrete base"
      ]
     },
     "execution_count": 21,
     "metadata": {},
     "output_type": "execute_result"
    }
   ],
   "source": [
    "h = hypersurface_model(B2, fiber_ambient_space, [D1, D2, D3], p, completeness_check = false)"
   ]
  },
  {
   "cell_type": "code",
   "execution_count": 22,
   "id": "474469ff-a68e-403d-89dd-65c76112e388",
   "metadata": {},
   "outputs": [
    {
     "data": {
      "text/plain": [
       "x1^3*x2^9*x*z^4 + 9*x1^3*x2^8*x3*x*z^4 + 36*x1^3*x2^7*x3^2*x*z^4 + 84*x1^3*x2^6*x3^3*x*z^4 + 126*x1^3*x2^5*x3^4*x*z^4 + 126*x1^3*x2^4*x3^5*x*z^4 + 84*x1^3*x2^3*x3^6*x*z^4 + 36*x1^3*x2^2*x3^7*x*z^4 + 9*x1^3*x2*x3^8*x*z^4 + x1^3*x3^9*x*z^4 - x1^2*x2^4*x3^3*y*z^3 + 7*x1*x2^5*x^2*z^2 - 13*x3^3*x*y*z + x^3 - y^2"
      ]
     },
     "execution_count": 22,
     "metadata": {},
     "output_type": "execute_result"
    }
   ],
   "source": [
    "hypersurface_equation(h)"
   ]
  },
  {
   "cell_type": "code",
   "execution_count": 23,
   "id": "643b0791-9f48-4542-85f5-6e7458dfec78",
   "metadata": {},
   "outputs": [
    {
     "data": {
      "text/plain": [
       "x1^3*x2^9*x*z^4 + 9*x1^3*x2^8*x3*x*z^4 + 36*x1^3*x2^7*x3^2*x*z^4 + 84*x1^3*x2^6*x3^3*x*z^4 + 126*x1^3*x2^5*x3^4*x*z^4 + 126*x1^3*x2^4*x3^5*x*z^4 + 84*x1^3*x2^3*x3^6*x*z^4 + 36*x1^3*x2^2*x3^7*x*z^4 + 9*x1^3*x2*x3^8*x*z^4 + x1^3*x3^9*x*z^4 - x1^2*x2^4*x3^3*y*z^3 + 7*x1*x2^5*x^2*z^2 - 13*x3^3*x*y*z + x^3 - y^2"
      ]
     },
     "execution_count": 23,
     "metadata": {},
     "output_type": "execute_result"
    }
   ],
   "source": [
    "tate_polynomial(t)"
   ]
  },
  {
   "cell_type": "code",
   "execution_count": 24,
   "id": "a6a12414-7bd5-46da-93a1-25b41ab9da80",
   "metadata": {},
   "outputs": [
    {
     "data": {
      "text/plain": [
       "Multivariate polynomial ring in 6 variables over QQ graded by\n",
       "  x1 -> [1 0]\n",
       "  x2 -> [1 0]\n",
       "  x3 -> [1 0]\n",
       "  x -> [6 2]\n",
       "  y -> [9 3]\n",
       "  z -> [0 1]"
      ]
     },
     "execution_count": 24,
     "metadata": {},
     "output_type": "execute_result"
    }
   ],
   "source": [
    "cox_ring(ambient_space(t))"
   ]
  },
  {
   "cell_type": "code",
   "execution_count": 25,
   "id": "cf5c6422-663f-4c1a-85f6-4f75fb6aa3cd",
   "metadata": {},
   "outputs": [
    {
     "data": {
      "text/plain": [
       "Multivariate polynomial ring in 6 variables over QQ graded by\n",
       "  x1 -> [1 0]\n",
       "  x2 -> [1 0]\n",
       "  x3 -> [1 0]\n",
       "  x -> [6 2]\n",
       "  y -> [9 3]\n",
       "  z -> [0 1]"
      ]
     },
     "execution_count": 25,
     "metadata": {},
     "output_type": "execute_result"
    }
   ],
   "source": [
    "cox_ring(ambient_space(h))"
   ]
  },
  {
   "cell_type": "code",
   "execution_count": 26,
   "id": "bee2c9bd-c003-4313-9644-29a7736e347c",
   "metadata": {},
   "outputs": [
    {
     "data": {
      "text/plain": [
       "Normal toric variety"
      ]
     },
     "execution_count": 26,
     "metadata": {},
     "output_type": "execute_result"
    }
   ],
   "source": [
    "B3 = projective_space(NormalToricVariety, 3)"
   ]
  },
  {
   "cell_type": "code",
   "execution_count": 27,
   "id": "4ca4fba7-1831-4ed0-b206-a6fbbe43c83c",
   "metadata": {},
   "outputs": [
    {
     "data": {
      "text/plain": [
       "Multivariate polynomial ring in 4 variables over QQ graded by\n",
       "  x1 -> [1]\n",
       "  x2 -> [1]\n",
       "  x3 -> [1]\n",
       "  x4 -> [1]"
      ]
     },
     "execution_count": 27,
     "metadata": {},
     "output_type": "execute_result"
    }
   ],
   "source": [
    "cox_ring(B3)"
   ]
  },
  {
   "cell_type": "code",
   "execution_count": 28,
   "id": "1e7273ae-ac9b-4fe5-8571-fb89d82b60a0",
   "metadata": {},
   "outputs": [
    {
     "data": {
      "text/plain": [
       "Toric line bundle on a normal toric variety"
      ]
     },
     "execution_count": 28,
     "metadata": {},
     "output_type": "execute_result"
    }
   ],
   "source": [
    "W = toric_line_bundle(torusinvariant_prime_divisors(B3)[1])"
   ]
  },
  {
   "cell_type": "code",
   "execution_count": 29,
   "id": "0b5aca8e-fee6-4887-9d59-047f1754eb76",
   "metadata": {},
   "outputs": [
    {
     "data": {
      "text/plain": [
       "-9760*x1 - 585*x2 - 1151*x3 + 1054*x4"
      ]
     },
     "execution_count": 29,
     "metadata": {},
     "output_type": "execute_result"
    }
   ],
   "source": [
    "w = generic_section(W)"
   ]
  },
  {
   "cell_type": "code",
   "execution_count": 30,
   "id": "ebbe6b09-f36e-4dd3-8412-e12a3d0362a3",
   "metadata": {},
   "outputs": [
    {
     "data": {
      "text/plain": [
       "x1"
      ]
     },
     "execution_count": 30,
     "metadata": {},
     "output_type": "execute_result"
    }
   ],
   "source": [
    "w = gens(cox_ring(B3))[1]"
   ]
  },
  {
   "cell_type": "code",
   "execution_count": 31,
   "id": "7f5142b4-9496-4b48-be7f-ad1d2ac991e2",
   "metadata": {},
   "outputs": [
    {
     "data": {
      "text/plain": [
       "Toric line bundle on a normal toric variety"
      ]
     },
     "execution_count": 31,
     "metadata": {},
     "output_type": "execute_result"
    }
   ],
   "source": [
    "Kbar = anticanonical_bundle(B3)"
   ]
  },
  {
   "cell_type": "code",
   "execution_count": 32,
   "id": "5bda52fc-2388-4bcd-a6b7-7329be99fde0",
   "metadata": {},
   "outputs": [
    {
     "data": {
      "text/plain": [
       "Global Tate model over a concrete base"
      ]
     },
     "execution_count": 32,
     "metadata": {},
     "output_type": "execute_result"
    }
   ],
   "source": [
    "a10 = generic_section(Kbar);\n",
    "a21 = generic_section(Kbar^2*W^(-1));\n",
    "a32 = generic_section(Kbar^3*W^(-2));\n",
    "a43 = generic_section(Kbar^4*W^(-3));\n",
    "a6 = zero(cox_ring(B3));\n",
    "t = global_tate_model(B3, [a10, a21 * w, a32 * w^2, a43 * w^3, a6])"
   ]
  },
  {
   "cell_type": "code",
   "execution_count": 33,
   "id": "e7e0cb1a-aefd-49e9-b14f-6bb4c4a7b703",
   "metadata": {},
   "outputs": [
    {
     "data": {
      "text/plain": [
       "2-element Vector{Tuple{MPolyIdeal{<:MPolyRingElem}, Tuple{Int64, Int64, Int64}, String}}:\n",
       " (Ideal with 1 generator, (0, 0, 1), \"I_1\")\n",
       " (Ideal (x1), (0, 0, 5), \"Split I_5\")"
      ]
     },
     "execution_count": 33,
     "metadata": {},
     "output_type": "execute_result"
    }
   ],
   "source": [
    "singular_loci(t)"
   ]
  },
  {
   "cell_type": "code",
   "execution_count": 34,
   "id": "ff9e3ed2-9944-4a4a-afa6-23e9c9e643e3",
   "metadata": {},
   "outputs": [
    {
     "data": {
      "text/plain": [
       "Normal toric variety"
      ]
     },
     "execution_count": 34,
     "metadata": {},
     "output_type": "execute_result"
    }
   ],
   "source": [
    "amb = ambient_space(t)"
   ]
  },
  {
   "cell_type": "code",
   "execution_count": 35,
   "id": "d5449828-e2fd-45e3-9e6a-d588c47cff11",
   "metadata": {},
   "outputs": [
    {
     "data": {
      "text/plain": [
       "Multivariate polynomial ring in 7 variables over QQ graded by\n",
       "  x1 -> [1 0]\n",
       "  x2 -> [1 0]\n",
       "  x3 -> [1 0]\n",
       "  x4 -> [1 0]\n",
       "  x -> [8 2]\n",
       "  y -> [12 3]\n",
       "  z -> [0 1]"
      ]
     },
     "execution_count": 35,
     "metadata": {},
     "output_type": "execute_result"
    }
   ],
   "source": [
    "cox_ring(amb)"
   ]
  },
  {
   "cell_type": "code",
   "execution_count": 36,
   "id": "44d88488-f8d1-4471-98f5-95492a92d728",
   "metadata": {},
   "outputs": [
    {
     "data": {
      "text/plain": [
       "Partially resolved global Tate model over a concrete base"
      ]
     },
     "execution_count": 36,
     "metadata": {},
     "output_type": "execute_result"
    }
   ],
   "source": [
    "t1 = blow_up(t, [\"x\" , \"y\" , string(w)]; coordinate_name = \"e1\" )"
   ]
  },
  {
   "cell_type": "code",
   "execution_count": 37,
   "id": "2160f12a-75f4-4d7b-ad9b-e1d159ec7d29",
   "metadata": {},
   "outputs": [
    {
     "data": {
      "text/plain": [
       "\u001b[32m\u001b[1mTest Passed\u001b[22m\u001b[39m\n",
       "      Thrown: ArgumentError"
      ]
     },
     "execution_count": 37,
     "metadata": {},
     "output_type": "execute_result"
    }
   ],
   "source": [
    "@test_throws ArgumentError resolutions(t)"
   ]
  },
  {
   "cell_type": "code",
   "execution_count": 38,
   "id": "3350a1a1-ec8f-48e5-bbae-5ae406e25fae",
   "metadata": {},
   "outputs": [],
   "source": [
    "set_resolutions(t, [[[[\"x\" , \"y\" , \"w\" ], [\"y\" , \"e1\" ], [\"x\" , \"e4\" ], [\"y\" , \"e2\" ], [\"x\" , \"y\" ]], [\"e1\" , \"e4\" , \"e2\" , \"e3\" , \"s\" ]]])"
   ]
  },
  {
   "cell_type": "code",
   "execution_count": 39,
   "id": "332071c2-9482-488f-b2b3-67dd72c974cf",
   "metadata": {},
   "outputs": [
    {
     "data": {
      "text/plain": [
       "x1"
      ]
     },
     "execution_count": 39,
     "metadata": {},
     "output_type": "execute_result"
    }
   ],
   "source": [
    "explicit_model_sections(t)[\"w\" ] = w"
   ]
  },
  {
   "cell_type": "code",
   "execution_count": 40,
   "id": "018d87fe-59dd-4792-9036-05a5942cd3c1",
   "metadata": {},
   "outputs": [
    {
     "data": {
      "text/plain": [
       "Partially resolved global Tate model over a concrete base"
      ]
     },
     "execution_count": 40,
     "metadata": {},
     "output_type": "execute_result"
    }
   ],
   "source": [
    "t_res = resolve(t, 1)"
   ]
  },
  {
   "cell_type": "code",
   "execution_count": 41,
   "id": "fa568670-6c7a-4f85-89f8-a88a0854c7b5",
   "metadata": {},
   "outputs": [
    {
     "data": {
      "text/plain": [
       "-8614*x1^16*x*z^4*e1^15*e4^14*e2^14*e3^13 - 3394*x1^15*x2*x*z^4*e1^14*e4^13*e2^13*e3^12 - 7520*x1^15*x3*x*z^4*e1^14*e4^13*e2^13*e3^12 - 7678*x1^15*x4*x*z^4*e1^14*e4^13*e2^13*e3^12 - 2590*x1^14*x2^2*x*z^4*e1^13*e4^12*e2^12*e3^11 + 9369*x1^14*x2*x3*x*z^4*e1^13*e4^12*e2^12*e3^11 - 9837*x1^14*x2*x4*x*z^4*e1^13*e4^12*e2^12*e3^11 + 4720*x1^14*x3^2*x*z^4*e1^13*e4^12*e2^12*e3^11 + 6761*x1^14*x3*x4*x*z^4*e1^13*e4^12*e2^12*e3^11 - 1964*x1^14*x4^2*x*z^4*e1^13*e4^12*e2^12*e3^11 - 6726*x1^13*x2^3*x*z^4*e1^12*e4^11*e2^11*e3^10 + 3768*x1^13*x2^2*x3*x*z^4*e1^12*e4^11*e2^11*e3^10 - 9924*x1^13*x2^2*x4*x*z^4*e1^12*e4^11*e2^11*e3^10 + 2289*x1^13*x2*x3^2*x*z^4*e1^12*e4^11*e2^11*e3^10 - 3037*x1^13*x2*x3*x4*x*z^4*e1^12*e4^11*e2^11*e3^10 + 3718*x1^13*x2*x4^2*x*z^4*e1^12*e4^11*e2^11*e3^10 - 3731*x1^13*x3^3*x*z^4*e1^12*e4^11*e2^11*e3^10 + 3474*x1^13*x3^2*x4*x*z^4*e1^12*e4^11*e2^11*e3^10 - 9979*x1^13*x3*x4^2*x*z^4*e1^12*e4^11*e2^11*e3^10 + 6652*x1^13*x4^3*x*z^4*e1^12*e4^11*e2^11*e3^10 + 5575*x1^12*x2^4*x*z^4*e1^11*e4^10*e2^10*e3^9 + 1537*x1^12*x2^3*x3*x*z^4*e1^11*e4^10*e2^10*e3^9 - 9998*x1^12*x2^3*x4*x*z^4*e1^11*e4^10*e2^10*e3^9 + 3685*x1^12*x2^2*x3^2*x*z^4*e1^11*e4^10*e2^10*e3^9 - 8404*x1^12*x2^2*x3*x4*x*z^4*e1^11*e4^10*e2^10*e3^9 - 6084*x1^12*x2^2*x4^2*x*z^4*e1^11*e4^10*e2^10*e3^9 + 6090*x1^12*x2*x3^3*x*z^4*e1^11*e4^10*e2^10*e3^9 - 5739*x1^12*x2*x3^2*x4*x*z^4*e1^11*e4^10*e2^10*e3^9 - 2009*x1^12*x2*x3*x4^2*x*z^4*e1^11*e4^10*e2^10*e3^9 - 6744*x1^12*x2*x4^3*x*z^4*e1^11*e4^10*e2^10*e3^9 - 4671*x1^12*x3^4*x*z^4*e1^11*e4^10*e2^10*e3^9 + 1419*x1^12*x3^3*x4*x*z^4*e1^11*e4^10*e2^10*e3^9 - 9757*x1^12*x3^2*x4^2*x*z^4*e1^11*e4^10*e2^10*e3^9 - 6983*x1^12*x3*x4^3*x*z^4*e1^11*e4^10*e2^10*e3^9 + 1049*x1^12*x4^4*x*z^4*e1^11*e4^10*e2^10*e3^9 - 7964*x1^12*y*z^3*e1^11*e4^11*e2^10*e3^10 - 4564*x1^11*x2^5*x*z^4*e1^10*e4^9*e2^9*e3^8 - 3700*x1^11*x2^4*x3*x*z^4*e1^10*e4^9*e2^9*e3^8 + 4344*x1^11*x2^4*x4*x*z^4*e1^10*e4^9*e2^9*e3^8 + 9971*x1^11*x2^3*x3^2*x*z^4*e1^10*e4^9*e2^9*e3^8 + 9211*x1^11*x2^3*x3*x4*x*z^4*e1^10*e4^9*e2^9*e3^8 + 1531*x1^11*x2^3*x4^2*x*z^4*e1^10*e4^9*e2^9*e3^8 + 778*x1^11*x2^2*x3^3*x*z^4*e1^10*e4^9*e2^9*e3^8 + 1558*x1^11*x2^2*x3^2*x4*x*z^4*e1^10*e4^9*e2^9*e3^8 + 2534*x1^11*x2^2*x3*x4^2*x*z^4*e1^10*e4^9*e2^9*e3^8 + 5002*x1^11*x2^2*x4^3*x*z^4*e1^10*e4^9*e2^9*e3^8 - 4377*x1^11*x2*x3^4*x*z^4*e1^10*e4^9*e2^9*e3^8 - 6781*x1^11*x2*x3^3*x4*x*z^4*e1^10*e4^9*e2^9*e3^8 - 1377*x1^11*x2*x3^2*x4^2*x*z^4*e1^10*e4^9*e2^9*e3^8 - 1880*x1^11*x2*x3*x4^3*x*z^4*e1^10*e4^9*e2^9*e3^8 - 9765*x1^11*x2*x4^4*x*z^4*e1^10*e4^9*e2^9*e3^8 - 1874*x1^11*x2*y*z^3*e1^10*e4^10*e2^9*e3^9 - 8972*x1^11*x3^5*x*z^4*e1^10*e4^9*e2^9*e3^8 - 309*x1^11*x3^4*x4*x*z^4*e1^10*e4^9*e2^9*e3^8 - 5613*x1^11*x3^3*x4^2*x*z^4*e1^10*e4^9*e2^9*e3^8 - 1276*x1^11*x3^2*x4^3*x*z^4*e1^10*e4^9*e2^9*e3^8 + 3331*x1^11*x3*x4^4*x*z^4*e1^10*e4^9*e2^9*e3^8 - 3386*x1^11*x3*y*z^3*e1^10*e4^10*e2^9*e3^9 - 6556*x1^11*x4^5*x*z^4*e1^10*e4^9*e2^9*e3^8 - 269*x1^11*x4*y*z^3*e1^10*e4^10*e2^9*e3^9 - 9996*x1^10*x2^6*x*z^4*e1^9*e4^8*e2^8*e3^7 + 3905*x1^10*x2^5*x3*x*z^4*e1^9*e4^8*e2^8*e3^7 - 4323*x1^10*x2^5*x4*x*z^4*e1^9*e4^8*e2^8*e3^7 + 3511*x1^10*x2^4*x3^2*x*z^4*e1^9*e4^8*e2^8*e3^7 - 9571*x1^10*x2^4*x3*x4*x*z^4*e1^9*e4^8*e2^8*e3^7 + 3164*x1^10*x2^4*x4^2*x*z^4*e1^9*e4^8*e2^8*e3^7 + 8947*x1^10*x2^3*x3^3*x*z^4*e1^9*e4^8*e2^8*e3^7 - 6420*x1^10*x2^3*x3^2*x4*x*z^4*e1^9*e4^8*e2^8*e3^7 + 2960*x1^10*x2^3*x3*x4^2*x*z^4*e1^9*e4^8*e2^8*e3^7 - 2263*x1^10*x2^3*x4^3*x*z^4*e1^9*e4^8*e2^8*e3^7 + 7103*x1^10*x2^2*x3^4*x*z^4*e1^9*e4^8*e2^8*e3^7 - 7504*x1^10*x2^2*x3^3*x4*x*z^4*e1^9*e4^8*e2^8*e3^7 + 7100*x1^10*x2^2*x3^2*x4^2*x*z^4*e1^9*e4^8*e2^8*e3^7 + 4272*x1^10*x2^2*x3*x4^3*x*z^4*e1^9*e4^8*e2^8*e3^7 + 5346*x1^10*x2^2*x4^4*x*z^4*e1^9*e4^8*e2^8*e3^7 + 3885*x1^10*x2^2*y*z^3*e1^9*e4^9*e2^8*e3^8 + 8032*x1^10*x2*x3^5*x*z^4*e1^9*e4^8*e2^8*e3^7 - 5290*x1^10*x2*x3^4*x4*x*z^4*e1^9*e4^8*e2^8*e3^7 + 4026*x1^10*x2*x3^3*x4^2*x*z^4*e1^9*e4^8*e2^8*e3^7 + 6325*x1^10*x2*x3^2*x4^3*x*z^4*e1^9*e4^8*e2^8*e3^7 - 1507*x1^10*x2*x3*x4^4*x*z^4*e1^9*e4^8*e2^8*e3^7 - 1818*x1^10*x2*x3*y*z^3*e1^9*e4^9*e2^8*e3^8 + 7232*x1^10*x2*x4^5*x*z^4*e1^9*e4^8*e2^8*e3^7 + 8742*x1^10*x2*x4*y*z^3*e1^9*e4^9*e2^8*e3^8 + 2713*x1^10*x3^6*x*z^4*e1^9*e4^8*e2^8*e3^7 - 1077*x1^10*x3^5*x4*x*z^4*e1^9*e4^8*e2^8*e3^7 + 7330*x1^10*x3^4*x4^2*x*z^4*e1^9*e4^8*e2^8*e3^7 + 2760*x1^10*x3^3*x4^3*x*z^4*e1^9*e4^8*e2^8*e3^7 + 7211*x1^10*x3^2*x4^4*x*z^4*e1^9*e4^8*e2^8*e3^7 - 2329*x1^10*x3^2*y*z^3*e1^9*e4^9*e2^8*e3^8 - 8364*x1^10*x3*x4^5*x*z^4*e1^9*e4^8*e2^8*e3^7 - 86*x1^10*x3*x4*y*z^3*e1^9*e4^9*e2^8*e3^8 + 4149*x1^10*x4^6*x*z^4*e1^9*e4^8*e2^8*e3^7 - 518*x1^10*x4^2*y*z^3*e1^9*e4^9*e2^8*e3^8 + 8525*x1^9*x2^7*x*z^4*e1^8*e4^7*e2^7*e3^6 + 3384*x1^9*x2^6*x3*x*z^4*e1^8*e4^7*e2^7*e3^6 - 931*x1^9*x2^6*x4*x*z^4*e1^8*e4^7*e2^7*e3^6 + 2114*x1^9*x2^5*x3^2*x*z^4*e1^8*e4^7*e2^7*e3^6 + 287*x1^9*x2^5*x3*x4*x*z^4*e1^8*e4^7*e2^7*e3^6 + 9479*x1^9*x2^5*x4^2*x*z^4*e1^8*e4^7*e2^7*e3^6 + 9295*x1^9*x2^4*x3^3*x*z^4*e1^8*e4^7*e2^7*e3^6 + 258*x1^9*x2^4*x3^2*x4*x*z^4*e1^8*e4^7*e2^7*e3^6 + 196*x1^9*x2^4*x3*x4^2*x*z^4*e1^8*e4^7*e2^7*e3^6 - 9401*x1^9*x2^4*x4^3*x*z^4*e1^8*e4^7*e2^7*e3^6 - 7151*x1^9*x2^3*x3^4*x*z^4*e1^8*e4^7*e2^7*e3^6 + 940*x1^9*x2^3*x3^3*x4*x*z^4*e1^8*e4^7*e2^7*e3^6 - 9771*x1^9*x2^3*x3^2*x4^2*x*z^4*e1^8*e4^7*e2^7*e3^6 - 692*x1^9*x2^3*x3*x4^3*x*z^4*e1^8*e4^7*e2^7*e3^6 + 1730*x1^9*x2^3*x4^4*x*z^4*e1^8*e4^7*e2^7*e3^6 + 3054*x1^9*x2^3*y*z^3*e1^8*e4^8*e2^7*e3^7 + 4018*x1^9*x2^2*x3^5*x*z^4*e1^8*e4^7*e2^7*e3^6 + 5251*x1^9*x2^2*x3^4*x4*x*z^4*e1^8*e4^7*e2^7*e3^6 + 9938*x1^9*x2^2*x3^3*x4^2*x*z^4*e1^8*e4^7*e2^7*e3^6 + 6252*x1^9*x2^2*x3^2*x4^3*x*z^4*e1^8*e4^7*e2^7*e3^6 - 6181*x1^9*x2^2*x3*x4^4*x*z^4*e1^8*e4^7*e2^7*e3^6 + 7479*x1^9*x2^2*x3*y*z^3*e1^8*e4^8*e2^7*e3^7 - 7099*x1^9*x2^2*x4^5*x*z^4*e1^8*e4^7*e2^7*e3^6 - 9667*x1^9*x2^2*x4*y*z^3*e1^8*e4^8*e2^7*e3^7 + 7912*x1^9*x2*x3^6*x*z^4*e1^8*e4^7*e2^7*e3^6 - 7015*x1^9*x2*x3^5*x4*x*z^4*e1^8*e4^7*e2^7*e3^6 + 8704*x1^9*x2*x3^4*x4^2*x*z^4*e1^8*e4^7*e2^7*e3^6 - 6593*x1^9*x2*x3^3*x4^3*x*z^4*e1^8*e4^7*e2^7*e3^6 - 4964*x1^9*x2*x3^2*x4^4*x*z^4*e1^8*e4^7*e2^7*e3^6 + 7381*x1^9*x2*x3^2*y*z^3*e1^8*e4^8*e2^7*e3^7 + 8566*x1^9*x2*x3*x4^5*x*z^4*e1^8*e4^7*e2^7*e3^6 - 1989*x1^9*x2*x3*x4*y*z^3*e1^8*e4^8*e2^7*e3^7 - 448*x1^9*x2*x4^6*x*z^4*e1^8*e4^7*e2^7*e3^6 + 1759*x1^9*x2*x4^2*y*z^3*e1^8*e4^8*e2^7*e3^7 + 4701*x1^9*x3^7*x*z^4*e1^8*e4^7*e2^7*e3^6 + 7462*x1^9*x3^6*x4*x*z^4*e1^8*e4^7*e2^7*e3^6 - 1742*x1^9*x3^5*x4^2*x*z^4*e1^8*e4^7*e2^7*e3^6 + 8104*x1^9*x3^4*x4^3*x*z^4*e1^8*e4^7*e2^7*e3^6 + 9982*x1^9*x3^3*x4^4*x*z^4*e1^8*e4^7*e2^7*e3^6 - 7604*x1^9*x3^3*y*z^3*e1^8*e4^8*e2^7*e3^7 + 3106*x1^9*x3^2*x4^5*x*z^4*e1^8*e4^7*e2^7*e3^6 - 9105*x1^9*x3^2*x4*y*z^3*e1^8*e4^8*e2^7*e3^7 - 3805*x1^9*x3*x4^6*x*z^4*e1^8*e4^7*e2^7*e3^6 - 3174*x1^9*x3*x4^2*y*z^3*e1^8*e4^8*e2^7*e3^7 + 1155*x1^9*x4^7*x*z^4*e1^8*e4^7*e2^7*e3^6 - 4866*x1^9*x4^3*y*z^3*e1^8*e4^8*e2^7*e3^7 - 8450*x1^8*x2^8*x*z^4*e1^7*e4^6*e2^6*e3^5 + 1008*x1^8*x2^7*x3*x*z^4*e1^7*e4^6*e2^6*e3^5 - 2661*x1^8*x2^7*x4*x*z^4*e1^7*e4^6*e2^6*e3^5 - 1458*x1^8*x2^6*x3^2*x*z^4*e1^7*e4^6*e2^6*e3^5 + 9620*x1^8*x2^6*x3*x4*x*z^4*e1^7*e4^6*e2^6*e3^5 + 5266*x1^8*x2^6*x4^2*x*z^4*e1^7*e4^6*e2^6*e3^5 - 1408*x1^8*x2^5*x3^3*x*z^4*e1^7*e4^6*e2^6*e3^5 + 27*x1^8*x2^5*x3^2*x4*x*z^4*e1^7*e4^6*e2^6*e3^5 + 3256*x1^8*x2^5*x3*x4^2*x*z^4*e1^7*e4^6*e2^6*e3^5 + 5232*x1^8*x2^5*x4^3*x*z^4*e1^7*e4^6*e2^6*e3^5 - 9143*x1^8*x2^4*x3^4*x*z^4*e1^7*e4^6*e2^6*e3^5 + 9225*x1^8*x2^4*x3^3*x4*x*z^4*e1^7*e4^6*e2^6*e3^5 + 9055*x1^8*x2^4*x3^2*x4^2*x*z^4*e1^7*e4^6*e2^6*e3^5 + 2291*x1^8*x2^4*x3*x4^3*x*z^4*e1^7*e4^6*e2^6*e3^5 + 4840*x1^8*x2^4*x4^4*x*z^4*e1^7*e4^6*e2^6*e3^5 - 9745*x1^8*x2^4*y*z^3*e1^7*e4^7*e2^6*e3^6 + 4655*x1^8*x2^3*x3^5*x*z^4*e1^7*e4^6*e2^6*e3^5 + 4956*x1^8*x2^3*x3^4*x4*x*z^4*e1^7*e4^6*e2^6*e3^5 - 5916*x1^8*x2^3*x3^3*x4^2*x*z^4*e1^7*e4^6*e2^6*e3^5 + 4569*x1^8*x2^3*x3^2*x4^3*x*z^4*e1^7*e4^6*e2^6*e3^5 + 1081*x1^8*x2^3*x3*x4^4*x*z^4*e1^7*e4^6*e2^6*e3^5 + 7423*x1^8*x2^3*x3*y*z^3*e1^7*e4^7*e2^6*e3^6 - 5037*x1^8*x2^3*x4^5*x*z^4*e1^7*e4^6*e2^6*e3^5 - 7557*x1^8*x2^3*x4*y*z^3*e1^7*e4^7*e2^6*e3^6 + 2199*x1^8*x2^2*x3^6*x*z^4*e1^7*e4^6*e2^6*e3^5 - 4154*x1^8*x2^2*x3^5*x4*x*z^4*e1^7*e4^6*e2^6*e3^5 + 9381*x1^8*x2^2*x3^4*x4^2*x*z^4*e1^7*e4^6*e2^6*e3^5 - 8950*x1^8*x2^2*x3^3*x4^3*x*z^4*e1^7*e4^6*e2^6*e3^5 + 3828*x1^8*x2^2*x3^2*x4^4*x*z^4*e1^7*e4^6*e2^6*e3^5 - 442*x1^8*x2^2*x3^2*y*z^3*e1^7*e4^7*e2^6*e3^6 + 4000*x1^8*x2^2*x3*x4^5*x*z^4*e1^7*e4^6*e2^6*e3^5 + 5099*x1^8*x2^2*x3*x4*y*z^3*e1^7*e4^7*e2^6*e3^6 - 9738*x1^8*x2^2*x4^6*x*z^4*e1^7*e4^6*e2^6*e3^5 + 510*x1^8*x2^2*x4^2*y*z^3*e1^7*e4^7*e2^6*e3^6 + 4749*x1^8*x2*x3^7*x*z^4*e1^7*e4^6*e2^6*e3^5 - 1220*x1^8*x2*x3^6*x4*x*z^4*e1^7*e4^6*e2^6*e3^5 - 8791*x1^8*x2*x3^5*x4^2*x*z^4*e1^7*e4^6*e2^6*e3^5 - 5543*x1^8*x2*x3^4*x4^3*x*z^4*e1^7*e4^6*e2^6*e3^5 - 5555*x1^8*x2*x3^3*x4^4*x*z^4*e1^7*e4^6*e2^6*e3^5 + 745*x1^8*x2*x3^3*y*z^3*e1^7*e4^7*e2^6*e3^6 - 8568*x1^8*x2*x3^2*x4^5*x*z^4*e1^7*e4^6*e2^6*e3^5 - 27*x1^8*x2*x3^2*x4*y*z^3*e1^7*e4^7*e2^6*e3^6 - 4037*x1^8*x2*x3*x4^6*x*z^4*e1^7*e4^6*e2^6*e3^5 - 6706*x1^8*x2*x3*x4^2*y*z^3*e1^7*e4^7*e2^6*e3^6 + 1380*x1^8*x2*x4^7*x*z^4*e1^7*e4^6*e2^6*e3^5 - 5212*x1^8*x2*x4^3*y*z^3*e1^7*e4^7*e2^6*e3^6 - 198*x1^8*x3^8*x*z^4*e1^7*e4^6*e2^6*e3^5 + 7933*x1^8*x3^7*x4*x*z^4*e1^7*e4^6*e2^6*e3^5 + 9769*x1^8*x3^6*x4^2*x*z^4*e1^7*e4^6*e2^6*e3^5 + 8439*x1^8*x3^5*x4^3*x*z^4*e1^7*e4^6*e2^6*e3^5 - 3128*x1^8*x3^4*x4^4*x*z^4*e1^7*e4^6*e2^6*e3^5 + 4345*x1^8*x3^4*y*z^3*e1^7*e4^7*e2^6*e3^6 - 4966*x1^8*x3^3*x4^5*x*z^4*e1^7*e4^6*e2^6*e3^5 - 2012*x1^8*x3^3*x4*y*z^3*e1^7*e4^7*e2^6*e3^6 - 9017*x1^8*x3^2*x4^6*x*z^4*e1^7*e4^6*e2^6*e3^5 - 9688*x1^8*x3^2*x4^2*y*z^3*e1^7*e4^7*e2^6*e3^6 + 9138*x1^8*x3*x4^7*x*z^4*e1^7*e4^6*e2^6*e3^5 - 1350*x1^8*x3*x4^3*y*z^3*e1^7*e4^7*e2^6*e3^6 + 9821*x1^8*x4^8*x*z^4*e1^7*e4^6*e2^6*e3^5 + 4152*x1^8*x4^4*y*z^3*e1^7*e4^7*e2^6*e3^6 + 2275*x1^8*x^2*z^2*e1^8*e4^7*e2^8*e3^7*s - 8560*x1^7*x2^9*x*z^4*e1^6*e4^5*e2^5*e3^4 - 8438*x1^7*x2^8*x3*x*z^4*e1^6*e4^5*e2^5*e3^4 + 422*x1^7*x2^8*x4*x*z^4*e1^6*e4^5*e2^5*e3^4 + 2165*x1^7*x2^7*x3^2*x*z^4*e1^6*e4^5*e2^5*e3^4 + 811*x1^7*x2^7*x3*x4*x*z^4*e1^6*e4^5*e2^5*e3^4 + 6896*x1^7*x2^7*x4^2*x*z^4*e1^6*e4^5*e2^5*e3^4 + 5431*x1^7*x2^6*x3^3*x*z^4*e1^6*e4^5*e2^5*e3^4 - 7805*x1^7*x2^6*x3^2*x4*x*z^4*e1^6*e4^5*e2^5*e3^4 - 8620*x1^7*x2^6*x3*x4^2*x*z^4*e1^6*e4^5*e2^5*e3^4 + 6742*x1^7*x2^6*x4^3*x*z^4*e1^6*e4^5*e2^5*e3^4 - 6503*x1^7*x2^5*x3^4*x*z^4*e1^6*e4^5*e2^5*e3^4 - 7297*x1^7*x2^5*x3^3*x4*x*z^4*e1^6*e4^5*e2^5*e3^4 + 9083*x1^7*x2^5*x3^2*x4^2*x*z^4*e1^6*e4^5*e2^5*e3^4 - 3114*x1^7*x2^5*x3*x4^3*x*z^4*e1^6*e4^5*e2^5*e3^4 - 6892*x1^7*x2^5*x4^4*x*z^4*e1^6*e4^5*e2^5*e3^4 - 346*x1^7*x2^5*y*z^3*e1^6*e4^6*e2^5*e3^5 + 9825*x1^7*x2^4*x3^5*x*z^4*e1^6*e4^5*e2^5*e3^4 + 889*x1^7*x2^4*x3^4*x4*x*z^4*e1^6*e4^5*e2^5*e3^4 - 5399*x1^7*x2^4*x3^3*x4^2*x*z^4*e1^6*e4^5*e2^5*e3^4 - 3321*x1^7*x2^4*x3^2*x4^3*x*z^4*e1^6*e4^5*e2^5*e3^4 - 5590*x1^7*x2^4*x3*x4^4*x*z^4*e1^6*e4^5*e2^5*e3^4 + 1360*x1^7*x2^4*x3*y*z^3*e1^6*e4^6*e2^5*e3^5 - 2830*x1^7*x2^4*x4^5*x*z^4*e1^6*e4^5*e2^5*e3^4 - 6510*x1^7*x2^4*x4*y*z^3*e1^6*e4^6*e2^5*e3^5 - 5158*x1^7*x2^3*x3^6*x*z^4*e1^6*e4^5*e2^5*e3^4 - 1324*x1^7*x2^3*x3^5*x4*x*z^4*e1^6*e4^5*e2^5*e3^4 + 3160*x1^7*x2^3*x3^4*x4^2*x*z^4*e1^6*e4^5*e2^5*e3^4 - 4992*x1^7*x2^3*x3^3*x4^3*x*z^4*e1^6*e4^5*e2^5*e3^4 + 8455*x1^7*x2^3*x3^2*x4^4*x*z^4*e1^6*e4^5*e2^5*e3^4 - 9593*x1^7*x2^3*x3^2*y*z^3*e1^6*e4^6*e2^5*e3^5 - 6682*x1^7*x2^3*x3*x4^5*x*z^4*e1^6*e4^5*e2^5*e3^4 + 6602*x1^7*x2^3*x3*x4*y*z^3*e1^6*e4^6*e2^5*e3^5 + 8870*x1^7*x2^3*x4^6*x*z^4*e1^6*e4^5*e2^5*e3^4 - 4836*x1^7*x2^3*x4^2*y*z^3*e1^6*e4^6*e2^5*e3^5 - 2981*x1^7*x2^2*x3^7*x*z^4*e1^6*e4^5*e2^5*e3^4 - 2525*x1^7*x2^2*x3^6*x4*x*z^4*e1^6*e4^5*e2^5*e3^4 + 462*x1^7*x2^2*x3^5*x4^2*x*z^4*e1^6*e4^5*e2^5*e3^4 + 8447*x1^7*x2^2*x3^4*x4^3*x*z^4*e1^6*e4^5*e2^5*e3^4 - 5315*x1^7*x2^2*x3^3*x4^4*x*z^4*e1^6*e4^5*e2^5*e3^4 + 9191*x1^7*x2^2*x3^3*y*z^3*e1^6*e4^6*e2^5*e3^5 - 8720*x1^7*x2^2*x3^2*x4^5*x*z^4*e1^6*e4^5*e2^5*e3^4 + 3155*x1^7*x2^2*x3^2*x4*y*z^3*e1^6*e4^6*e2^5*e3^5 - 3476*x1^7*x2^2*x3*x4^6*x*z^4*e1^6*e4^5*e2^5*e3^4 + 6045*x1^7*x2^2*x3*x4^2*y*z^3*e1^6*e4^6*e2^5*e3^5 - 3227*x1^7*x2^2*x4^7*x*z^4*e1^6*e4^5*e2^5*e3^4 + 220*x1^7*x2^2*x4^3*y*z^3*e1^6*e4^6*e2^5*e3^5 + 4943*x1^7*x2*x3^8*x*z^4*e1^6*e4^5*e2^5*e3^4 + 4405*x1^7*x2*x3^7*x4*x*z^4*e1^6*e4^5*e2^5*e3^4 + 4754*x1^7*x2*x3^6*x4^2*x*z^4*e1^6*e4^5*e2^5*e3^4 - 2330*x1^7*x2*x3^5*x4^3*x*z^4*e1^6*e4^5*e2^5*e3^4 - 802*x1^7*x2*x3^4*x4^4*x*z^4*e1^6*e4^5*e2^5*e3^4 - 4533*x1^7*x2*x3^4*y*z^3*e1^6*e4^6*e2^5*e3^5 - 2713*x1^7*x2*x3^3*x4^5*x*z^4*e1^6*e4^5*e2^5*e3^4 + 1079*x1^7*x2*x3^3*x4*y*z^3*e1^6*e4^6*e2^5*e3^5 + 9654*x1^7*x2*x3^2*x4^6*x*z^4*e1^6*e4^5*e2^5*e3^4 + 7746*x1^7*x2*x3^2*x4^2*y*z^3*e1^6*e4^6*e2^5*e3^5 + 1805*x1^7*x2*x3*x4^7*x*z^4*e1^6*e4^5*e2^5*e3^4 + 9913*x1^7*x2*x3*x4^3*y*z^3*e1^6*e4^6*e2^5*e3^5 - 1736*x1^7*x2*x4^8*x*z^4*e1^6*e4^5*e2^5*e3^4 - 4638*x1^7*x2*x4^4*y*z^3*e1^6*e4^6*e2^5*e3^5 - 4138*x1^7*x2*x^2*z^2*e1^7*e4^6*e2^7*e3^6*s + 3450*x1^7*x3^9*x*z^4*e1^6*e4^5*e2^5*e3^4 - 1920*x1^7*x3^8*x4*x*z^4*e1^6*e4^5*e2^5*e3^4 - 7716*x1^7*x3^7*x4^2*x*z^4*e1^6*e4^5*e2^5*e3^4 + 8372*x1^7*x3^6*x4^3*x*z^4*e1^6*e4^5*e2^5*e3^4 - 2818*x1^7*x3^5*x4^4*x*z^4*e1^6*e4^5*e2^5*e3^4 + 2938*x1^7*x3^5*y*z^3*e1^6*e4^6*e2^5*e3^5 - 7954*x1^7*x3^4*x4^5*x*z^4*e1^6*e4^5*e2^5*e3^4 + 3419*x1^7*x3^4*x4*y*z^3*e1^6*e4^6*e2^5*e3^5 + 8346*x1^7*x3^3*x4^6*x*z^4*e1^6*e4^5*e2^5*e3^4 - 9819*x1^7*x3^3*x4^2*y*z^3*e1^6*e4^6*e2^5*e3^5 + 6498*x1^7*x3^2*x4^7*x*z^4*e1^6*e4^5*e2^5*e3^4 - 5323*x1^7*x3^2*x4^3*y*z^3*e1^6*e4^6*e2^5*e3^5 + 8178*x1^7*x3*x4^8*x*z^4*e1^6*e4^5*e2^5*e3^4 + 3189*x1^7*x3*x4^4*y*z^3*e1^6*e4^6*e2^5*e3^5 + 6237*x1^7*x3*x^2*z^2*e1^7*e4^6*e2^7*e3^6*s - 248*x1^7*x4^9*x*z^4*e1^6*e4^5*e2^5*e3^4 + 5206*x1^7*x4^5*y*z^3*e1^6*e4^6*e2^5*e3^5 + 2887*x1^7*x4*x^2*z^2*e1^7*e4^6*e2^7*e3^6*s - 8868*x1^6*x2^10*x*z^4*e1^5*e4^4*e2^4*e3^3 - 8334*x1^6*x2^9*x3*x*z^4*e1^5*e4^4*e2^4*e3^3 - 6242*x1^6*x2^9*x4*x*z^4*e1^5*e4^4*e2^4*e3^3 + 8330*x1^6*x2^8*x3^2*x*z^4*e1^5*e4^4*e2^4*e3^3 + 1465*x1^6*x2^8*x3*x4*x*z^4*e1^5*e4^4*e2^4*e3^3 - 5851*x1^6*x2^8*x4^2*x*z^4*e1^5*e4^4*e2^4*e3^3 - 9170*x1^6*x2^7*x3^3*x*z^4*e1^5*e4^4*e2^4*e3^3 - 2249*x1^6*x2^7*x3^2*x4*x*z^4*e1^5*e4^4*e2^4*e3^3 - 99*x1^6*x2^7*x3*x4^2*x*z^4*e1^5*e4^4*e2^4*e3^3 - 6377*x1^6*x2^7*x4^3*x*z^4*e1^5*e4^4*e2^4*e3^3 + 1458*x1^6*x2^6*x3^4*x*z^4*e1^5*e4^4*e2^4*e3^3 + 9594*x1^6*x2^6*x3^3*x4*x*z^4*e1^5*e4^4*e2^4*e3^3 - 427*x1^6*x2^6*x3^2*x4^2*x*z^4*e1^5*e4^4*e2^4*e3^3 - 3024*x1^6*x2^6*x3*x4^3*x*z^4*e1^5*e4^4*e2^4*e3^3 + 9498*x1^6*x2^6*x4^4*x*z^4*e1^5*e4^4*e2^4*e3^3 + 5621*x1^6*x2^6*y*z^3*e1^5*e4^5*e2^4*e3^4 - 955*x1^6*x2^5*x3^5*x*z^4*e1^5*e4^4*e2^4*e3^3 - 9436*x1^6*x2^5*x3^4*x4*x*z^4*e1^5*e4^4*e2^4*e3^3 + 4387*x1^6*x2^5*x3^3*x4^2*x*z^4*e1^5*e4^4*e2^4*e3^3 - 6641*x1^6*x2^5*x3^2*x4^3*x*z^4*e1^5*e4^4*e2^4*e3^3 - 2995*x1^6*x2^5*x3*x4^4*x*z^4*e1^5*e4^4*e2^4*e3^3 - 910*x1^6*x2^5*x3*y*z^3*e1^5*e4^5*e2^4*e3^4 + 344*x1^6*x2^5*x4^5*x*z^4*e1^5*e4^4*e2^4*e3^3 + 7313*x1^6*x2^5*x4*y*z^3*e1^5*e4^5*e2^4*e3^4 + 6336*x1^6*x2^4*x3^6*x*z^4*e1^5*e4^4*e2^4*e3^3 + 7971*x1^6*x2^4*x3^5*x4*x*z^4*e1^5*e4^4*e2^4*e3^3 + 1705*x1^6*x2^4*x3^4*x4^2*x*z^4*e1^5*e4^4*e2^4*e3^3 - 1268*x1^6*x2^4*x3^3*x4^3*x*z^4*e1^5*e4^4*e2^4*e3^3 + 9606*x1^6*x2^4*x3^2*x4^4*x*z^4*e1^5*e4^4*e2^4*e3^3 - 1273*x1^6*x2^4*x3^2*y*z^3*e1^5*e4^5*e2^4*e3^4 + 5679*x1^6*x2^4*x3*x4^5*x*z^4*e1^5*e4^4*e2^4*e3^3 - 6993*x1^6*x2^4*x3*x4*y*z^3*e1^5*e4^5*e2^4*e3^4 + 2978*x1^6*x2^4*x4^6*x*z^4*e1^5*e4^4*e2^4*e3^3 + 7326*x1^6*x2^4*x4^2*y*z^3*e1^5*e4^5*e2^4*e3^4 + 6738*x1^6*x2^3*x3^7*x*z^4*e1^5*e4^4*e2^4*e3^3 + 9313*x1^6*x2^3*x3^6*x4*x*z^4*e1^5*e4^4*e2^4*e3^3 - 7096*x1^6*x2^3*x3^5*x4^2*x*z^4*e1^5*e4^4*e2^4*e3^3 - 857*x1^6*x2^3*x3^4*x4^3*x*z^4*e1^5*e4^4*e2^4*e3^3 + 4655*x1^6*x2^3*x3^3*x4^4*x*z^4*e1^5*e4^4*e2^4*e3^3 - 7682*x1^6*x2^3*x3^3*y*z^3*e1^5*e4^5*e2^4*e3^4 + 2658*x1^6*x2^3*x3^2*x4^5*x*z^4*e1^5*e4^4*e2^4*e3^3 - 3887*x1^6*x2^3*x3^2*x4*y*z^3*e1^5*e4^5*e2^4*e3^4 + 1206*x1^6*x2^3*x3*x4^6*x*z^4*e1^5*e4^4*e2^4*e3^3 - 9794*x1^6*x2^3*x3*x4^2*y*z^3*e1^5*e4^5*e2^4*e3^4 - 1648*x1^6*x2^3*x4^7*x*z^4*e1^5*e4^4*e2^4*e3^3 + 7847*x1^6*x2^3*x4^3*y*z^3*e1^5*e4^5*e2^4*e3^4 - 6782*x1^6*x2^2*x3^8*x*z^4*e1^5*e4^4*e2^4*e3^3 - 8003*x1^6*x2^2*x3^7*x4*x*z^4*e1^5*e4^4*e2^4*e3^3 + 9119*x1^6*x2^2*x3^6*x4^2*x*z^4*e1^5*e4^4*e2^4*e3^3 - 9349*x1^6*x2^2*x3^5*x4^3*x*z^4*e1^5*e4^4*e2^4*e3^3 + 5422*x1^6*x2^2*x3^4*x4^4*x*z^4*e1^5*e4^4*e2^4*e3^3 - 5705*x1^6*x2^2*x3^4*y*z^3*e1^5*e4^5*e2^4*e3^4 + 9412*x1^6*x2^2*x3^3*x4^5*x*z^4*e1^5*e4^4*e2^4*e3^3 - 9337*x1^6*x2^2*x3^3*x4*y*z^3*e1^5*e4^5*e2^4*e3^4 - 6012*x1^6*x2^2*x3^2*x4^6*x*z^4*e1^5*e4^4*e2^4*e3^3 - 1211*x1^6*x2^2*x3^2*x4^2*y*z^3*e1^5*e4^5*e2^4*e3^4 - 6319*x1^6*x2^2*x3*x4^7*x*z^4*e1^5*e4^4*e2^4*e3^3 + 2491*x1^6*x2^2*x3*x4^3*y*z^3*e1^5*e4^5*e2^4*e3^4 + 3183*x1^6*x2^2*x4^8*x*z^4*e1^5*e4^4*e2^4*e3^3 - 596*x1^6*x2^2*x4^4*y*z^3*e1^5*e4^5*e2^4*e3^4 + 1531*x1^6*x2^2*x^2*z^2*e1^6*e4^5*e2^6*e3^5*s + 8474*x1^6*x2*x3^9*x*z^4*e1^5*e4^4*e2^4*e3^3 + 1192*x1^6*x2*x3^8*x4*x*z^4*e1^5*e4^4*e2^4*e3^3 + 5294*x1^6*x2*x3^7*x4^2*x*z^4*e1^5*e4^4*e2^4*e3^3 + 8746*x1^6*x2*x3^6*x4^3*x*z^4*e1^5*e4^4*e2^4*e3^3 + 8130*x1^6*x2*x3^5*x4^4*x*z^4*e1^5*e4^4*e2^4*e3^3 - 5230*x1^6*x2*x3^5*y*z^3*e1^5*e4^5*e2^4*e3^4 - 2258*x1^6*x2*x3^4*x4^5*x*z^4*e1^5*e4^4*e2^4*e3^3 + 1374*x1^6*x2*x3^4*x4*y*z^3*e1^5*e4^5*e2^4*e3^4 + 6420*x1^6*x2*x3^3*x4^6*x*z^4*e1^5*e4^4*e2^4*e3^3 - 4885*x1^6*x2*x3^3*x4^2*y*z^3*e1^5*e4^5*e2^4*e3^4 + 3993*x1^6*x2*x3^2*x4^7*x*z^4*e1^5*e4^4*e2^4*e3^3 - 372*x1^6*x2*x3^2*x4^3*y*z^3*e1^5*e4^5*e2^4*e3^4 - 9487*x1^6*x2*x3*x4^8*x*z^4*e1^5*e4^4*e2^4*e3^3 + 5888*x1^6*x2*x3*x4^4*y*z^3*e1^5*e4^5*e2^4*e3^4 + 9899*x1^6*x2*x3*x^2*z^2*e1^6*e4^5*e2^6*e3^5*s - 6273*x1^6*x2*x4^9*x*z^4*e1^5*e4^4*e2^4*e3^3 - 5919*x1^6*x2*x4^5*y*z^3*e1^5*e4^5*e2^4*e3^4 + 5325*x1^6*x2*x4*x^2*z^2*e1^6*e4^5*e2^6*e3^5*s - 8729*x1^6*x3^10*x*z^4*e1^5*e4^4*e2^4*e3^3 + 3016*x1^6*x3^9*x4*x*z^4*e1^5*e4^4*e2^4*e3^3 + 2900*x1^6*x3^8*x4^2*x*z^4*e1^5*e4^4*e2^4*e3^3 - 3769*x1^6*x3^7*x4^3*x*z^4*e1^5*e4^4*e2^4*e3^3 - 516*x1^6*x3^6*x4^4*x*z^4*e1^5*e4^4*e2^4*e3^3 + 8883*x1^6*x3^6*y*z^3*e1^5*e4^5*e2^4*e3^4 - 5278*x1^6*x3^5*x4^5*x*z^4*e1^5*e4^4*e2^4*e3^3 + 4402*x1^6*x3^5*x4*y*z^3*e1^5*e4^5*e2^4*e3^4 + 153*x1^6*x3^4*x4^6*x*z^4*e1^5*e4^4*e2^4*e3^3 + 4363*x1^6*x3^4*x4^2*y*z^3*e1^5*e4^5*e2^4*e3^4 + 9302*x1^6*x3^3*x4^7*x*z^4*e1^5*e4^4*e2^4*e3^3 - 3208*x1^6*x3^3*x4^3*y*z^3*e1^5*e4^5*e2^4*e3^4 - 3198*x1^6*x3^2*x4^8*x*z^4*e1^5*e4^4*e2^4*e3^3 - 5263*x1^6*x3^2*x4^4*y*z^3*e1^5*e4^5*e2^4*e3^4 + 3948*x1^6*x3^2*x^2*z^2*e1^6*e4^5*e2^6*e3^5*s - 6297*x1^6*x3*x4^9*x*z^4*e1^5*e4^4*e2^4*e3^3 - 8760*x1^6*x3*x4^5*y*z^3*e1^5*e4^5*e2^4*e3^4 + 7791*x1^6*x3*x4*x^2*z^2*e1^6*e4^5*e2^6*e3^5*s + 316*x1^6*x4^10*x*z^4*e1^5*e4^4*e2^4*e3^3 - 4097*x1^6*x4^6*y*z^3*e1^5*e4^5*e2^4*e3^4 - 4470*x1^6*x4^2*x^2*z^2*e1^6*e4^5*e2^6*e3^5*s - 4038*x1^5*x2^11*x*z^4*e1^4*e4^3*e2^3*e3^2 + 4858*x1^5*x2^10*x3*x*z^4*e1^4*e4^3*e2^3*e3^2 + 1667*x1^5*x2^10*x4*x*z^4*e1^4*e4^3*e2^3*e3^2 - 8714*x1^5*x2^9*x3^2*x*z^4*e1^4*e4^3*e2^3*e3^2 - 5601*x1^5*x2^9*x3*x4*x*z^4*e1^4*e4^3*e2^3*e3^2 - 7121*x1^5*x2^9*x4^2*x*z^4*e1^4*e4^3*e2^3*e3^2 - 5749*x1^5*x2^8*x3^3*x*z^4*e1^4*e4^3*e2^3*e3^2 + 4127*x1^5*x2^8*x3^2*x4*x*z^4*e1^4*e4^3*e2^3*e3^2 + 3557*x1^5*x2^8*x3*x4^2*x*z^4*e1^4*e4^3*e2^3*e3^2 - 1287*x1^5*x2^8*x4^3*x*z^4*e1^4*e4^3*e2^3*e3^2 + 518*x1^5*x2^7*x3^4*x*z^4*e1^4*e4^3*e2^3*e3^2 - 7463*x1^5*x2^7*x3^3*x4*x*z^4*e1^4*e4^3*e2^3*e3^2 - 2495*x1^5*x2^7*x3^2*x4^2*x*z^4*e1^4*e4^3*e2^3*e3^2 + 7372*x1^5*x2^7*x3*x4^3*x*z^4*e1^4*e4^3*e2^3*e3^2 - 6215*x1^5*x2^7*x4^4*x*z^4*e1^4*e4^3*e2^3*e3^2 - 3308*x1^5*x2^7*y*z^3*e1^4*e4^4*e2^3*e3^3 + 3509*x1^5*x2^6*x3^5*x*z^4*e1^4*e4^3*e2^3*e3^2 + 446*x1^5*x2^6*x3^4*x4*x*z^4*e1^4*e4^3*e2^3*e3^2 - 8485*x1^5*x2^6*x3^3*x4^2*x*z^4*e1^4*e4^3*e2^3*e3^2 - 9214*x1^5*x2^6*x3^2*x4^3*x*z^4*e1^4*e4^3*e2^3*e3^2 - 6791*x1^5*x2^6*x3*x4^4*x*z^4*e1^4*e4^3*e2^3*e3^2 - 4056*x1^5*x2^6*x3*y*z^3*e1^4*e4^4*e2^3*e3^3 + 9715*x1^5*x2^6*x4^5*x*z^4*e1^4*e4^3*e2^3*e3^2 + 3229*x1^5*x2^6*x4*y*z^3*e1^4*e4^4*e2^3*e3^3 + 6797*x1^5*x2^5*x3^6*x*z^4*e1^4*e4^3*e2^3*e3^2 + 3552*x1^5*x2^5*x3^5*x4*x*z^4*e1^4*e4^3*e2^3*e3^2 - 8558*x1^5*x2^5*x3^4*x4^2*x*z^4*e1^4*e4^3*e2^3*e3^2 - 268*x1^5*x2^5*x3^3*x4^3*x*z^4*e1^4*e4^3*e2^3*e3^2 + 9256*x1^5*x2^5*x3^2*x4^4*x*z^4*e1^4*e4^3*e2^3*e3^2 - 676*x1^5*x2^5*x3^2*y*z^3*e1^4*e4^4*e2^3*e3^3 - 8853*x1^5*x2^5*x3*x4^5*x*z^4*e1^4*e4^3*e2^3*e3^2 + 2993*x1^5*x2^5*x3*x4*y*z^3*e1^4*e4^4*e2^3*e3^3 + 4622*x1^5*x2^5*x4^6*x*z^4*e1^4*e4^3*e2^3*e3^2 + 7332*x1^5*x2^5*x4^2*y*z^3*e1^4*e4^4*e2^3*e3^3 - 3796*x1^5*x2^4*x3^7*x*z^4*e1^4*e4^3*e2^3*e3^2 - 8831*x1^5*x2^4*x3^6*x4*x*z^4*e1^4*e4^3*e2^3*e3^2 - 3279*x1^5*x2^4*x3^5*x4^2*x*z^4*e1^4*e4^3*e2^3*e3^2 + 7172*x1^5*x2^4*x3^4*x4^3*x*z^4*e1^4*e4^3*e2^3*e3^2 + 3562*x1^5*x2^4*x3^3*x4^4*x*z^4*e1^4*e4^3*e2^3*e3^2 - 1273*x1^5*x2^4*x3^3*y*z^3*e1^4*e4^4*e2^3*e3^3 - 2201*x1^5*x2^4*x3^2*x4^5*x*z^4*e1^4*e4^3*e2^3*e3^2 - 5831*x1^5*x2^4*x3^2*x4*y*z^3*e1^4*e4^4*e2^3*e3^3 + 3632*x1^5*x2^4*x3*x4^6*x*z^4*e1^4*e4^3*e2^3*e3^2 + 3840*x1^5*x2^4*x3*x4^2*y*z^3*e1^4*e4^4*e2^3*e3^3 + 1373*x1^5*x2^4*x4^7*x*z^4*e1^4*e4^3*e2^3*e3^2 - 5455*x1^5*x2^4*x4^3*y*z^3*e1^4*e4^4*e2^3*e3^3 + 9606*x1^5*x2^3*x3^8*x*z^4*e1^4*e4^3*e2^3*e3^2 - 2490*x1^5*x2^3*x3^7*x4*x*z^4*e1^4*e4^3*e2^3*e3^2 + 2695*x1^5*x2^3*x3^6*x4^2*x*z^4*e1^4*e4^3*e2^3*e3^2 - 1371*x1^5*x2^3*x3^5*x4^3*x*z^4*e1^4*e4^3*e2^3*e3^2 - 9489*x1^5*x2^3*x3^4*x4^4*x*z^4*e1^4*e4^3*e2^3*e3^2 + 4056*x1^5*x2^3*x3^4*y*z^3*e1^4*e4^4*e2^3*e3^3 + 1416*x1^5*x2^3*x3^3*x4^5*x*z^4*e1^4*e4^3*e2^3*e3^2 - 4988*x1^5*x2^3*x3^3*x4*y*z^3*e1^4*e4^4*e2^3*e3^3 + 6056*x1^5*x2^3*x3^2*x4^6*x*z^4*e1^4*e4^3*e2^3*e3^2 - 123*x1^5*x2^3*x3^2*x4^2*y*z^3*e1^4*e4^4*e2^3*e3^3 - 6782*x1^5*x2^3*x3*x4^7*x*z^4*e1^4*e4^3*e2^3*e3^2 + 6111*x1^5*x2^3*x3*x4^3*y*z^3*e1^4*e4^4*e2^3*e3^3 + 5767*x1^5*x2^3*x4^8*x*z^4*e1^4*e4^3*e2^3*e3^2 - 8733*x1^5*x2^3*x4^4*y*z^3*e1^4*e4^4*e2^3*e3^3 + 8337*x1^5*x2^3*x^2*z^2*e1^5*e4^4*e2^5*e3^4*s - 1505*x1^5*x2^2*x3^9*x*z^4*e1^4*e4^3*e2^3*e3^2 - 2405*x1^5*x2^2*x3^8*x4*x*z^4*e1^4*e4^3*e2^3*e3^2 - 7301*x1^5*x2^2*x3^7*x4^2*x*z^4*e1^4*e4^3*e2^3*e3^2 - 5706*x1^5*x2^2*x3^6*x4^3*x*z^4*e1^4*e4^3*e2^3*e3^2 + 937*x1^5*x2^2*x3^5*x4^4*x*z^4*e1^4*e4^3*e2^3*e3^2 + 6209*x1^5*x2^2*x3^5*y*z^3*e1^4*e4^4*e2^3*e3^3 - 6011*x1^5*x2^2*x3^4*x4^5*x*z^4*e1^4*e4^3*e2^3*e3^2 + 3979*x1^5*x2^2*x3^4*x4*y*z^3*e1^4*e4^4*e2^3*e3^3 + 7871*x1^5*x2^2*x3^3*x4^6*x*z^4*e1^4*e4^3*e2^3*e3^2 - 1065*x1^5*x2^2*x3^3*x4^2*y*z^3*e1^4*e4^4*e2^3*e3^3 + 6353*x1^5*x2^2*x3^2*x4^7*x*z^4*e1^4*e4^3*e2^3*e3^2 + 1397*x1^5*x2^2*x3^2*x4^3*y*z^3*e1^4*e4^4*e2^3*e3^3 + 9896*x1^5*x2^2*x3*x4^8*x*z^4*e1^4*e4^3*e2^3*e3^2 + 6044*x1^5*x2^2*x3*x4^4*y*z^3*e1^4*e4^4*e2^3*e3^3 - 7343*x1^5*x2^2*x3*x^2*z^2*e1^5*e4^4*e2^5*e3^4*s + 9097*x1^5*x2^2*x4^9*x*z^4*e1^4*e4^3*e2^3*e3^2 + 5667*x1^5*x2^2*x4^5*y*z^3*e1^4*e4^4*e2^3*e3^3 - 1713*x1^5*x2^2*x4*x^2*z^2*e1^5*e4^4*e2^5*e3^4*s - 5918*x1^5*x2*x3^10*x*z^4*e1^4*e4^3*e2^3*e3^2 - 2819*x1^5*x2*x3^9*x4*x*z^4*e1^4*e4^3*e2^3*e3^2 + 3273*x1^5*x2*x3^8*x4^2*x*z^4*e1^4*e4^3*e2^3*e3^2 + 7233*x1^5*x2*x3^7*x4^3*x*z^4*e1^4*e4^3*e2^3*e3^2 - 3000*x1^5*x2*x3^6*x4^4*x*z^4*e1^4*e4^3*e2^3*e3^2 + 6058*x1^5*x2*x3^6*y*z^3*e1^4*e4^4*e2^3*e3^3 + 5840*x1^5*x2*x3^5*x4^5*x*z^4*e1^4*e4^3*e2^3*e3^2 - 8806*x1^5*x2*x3^5*x4*y*z^3*e1^4*e4^4*e2^3*e3^3 - 1567*x1^5*x2*x3^4*x4^6*x*z^4*e1^4*e4^3*e2^3*e3^2 - 3084*x1^5*x2*x3^4*x4^2*y*z^3*e1^4*e4^4*e2^3*e3^3 - 9010*x1^5*x2*x3^3*x4^7*x*z^4*e1^4*e4^3*e2^3*e3^2 + 2977*x1^5*x2*x3^3*x4^3*y*z^3*e1^4*e4^4*e2^3*e3^3 - 7887*x1^5*x2*x3^2*x4^8*x*z^4*e1^4*e4^3*e2^3*e3^2 - 3057*x1^5*x2*x3^2*x4^4*y*z^3*e1^4*e4^4*e2^3*e3^3 - 9153*x1^5*x2*x3^2*x^2*z^2*e1^5*e4^4*e2^5*e3^4*s - 6932*x1^5*x2*x3*x4^9*x*z^4*e1^4*e4^3*e2^3*e3^2 + 2426*x1^5*x2*x3*x4^5*y*z^3*e1^4*e4^4*e2^3*e3^3 - 6203*x1^5*x2*x3*x4*x^2*z^2*e1^5*e4^4*e2^5*e3^4*s + 289*x1^5*x2*x4^10*x*z^4*e1^4*e4^3*e2^3*e3^2 - 2303*x1^5*x2*x4^6*y*z^3*e1^4*e4^4*e2^3*e3^3 + 350*x1^5*x2*x4^2*x^2*z^2*e1^5*e4^4*e2^5*e3^4*s + 4481*x1^5*x3^11*x*z^4*e1^4*e4^3*e2^3*e3^2 - 5800*x1^5*x3^10*x4*x*z^4*e1^4*e4^3*e2^3*e3^2 + 9702*x1^5*x3^9*x4^2*x*z^4*e1^4*e4^3*e2^3*e3^2 + 2727*x1^5*x3^8*x4^3*x*z^4*e1^4*e4^3*e2^3*e3^2 - 1523*x1^5*x3^7*x4^4*x*z^4*e1^4*e4^3*e2^3*e3^2 + 4702*x1^5*x3^7*y*z^3*e1^4*e4^4*e2^3*e3^3 - 6530*x1^5*x3^6*x4^5*x*z^4*e1^4*e4^3*e2^3*e3^2 - 3391*x1^5*x3^6*x4*y*z^3*e1^4*e4^4*e2^3*e3^3 - 7381*x1^5*x3^5*x4^6*x*z^4*e1^4*e4^3*e2^3*e3^2 - 5816*x1^5*x3^5*x4^2*y*z^3*e1^4*e4^4*e2^3*e3^3 + 4337*x1^5*x3^4*x4^7*x*z^4*e1^4*e4^3*e2^3*e3^2 - 4087*x1^5*x3^4*x4^3*y*z^3*e1^4*e4^4*e2^3*e3^3 - 145*x1^5*x3^3*x4^8*x*z^4*e1^4*e4^3*e2^3*e3^2 + 3521*x1^5*x3^3*x4^4*y*z^3*e1^4*e4^4*e2^3*e3^3 - 3903*x1^5*x3^3*x^2*z^2*e1^5*e4^4*e2^5*e3^4*s + 2483*x1^5*x3^2*x4^9*x*z^4*e1^4*e4^3*e2^3*e3^2 - 207*x1^5*x3^2*x4^5*y*z^3*e1^4*e4^4*e2^3*e3^3 - 6955*x1^5*x3^2*x4*x^2*z^2*e1^5*e4^4*e2^5*e3^4*s + 46*x1^5*x3*x4^10*x*z^4*e1^4*e4^3*e2^3*e3^2 + 3113*x1^5*x3*x4^6*y*z^3*e1^4*e4^4*e2^3*e3^3 - 4503*x1^5*x3*x4^2*x^2*z^2*e1^5*e4^4*e2^5*e3^4*s - 6338*x1^5*x4^11*x*z^4*e1^4*e4^3*e2^3*e3^2 - 3583*x1^5*x4^7*y*z^3*e1^4*e4^4*e2^3*e3^3 - 2548*x1^5*x4^3*x^2*z^2*e1^5*e4^4*e2^5*e3^4*s - 7661*x1^4*x2^12*x*z^4*e1^3*e4^2*e2^2*e3 - 8290*x1^4*x2^11*x3*x*z^4*e1^3*e4^2*e2^2*e3 + 4116*x1^4*x2^11*x4*x*z^4*e1^3*e4^2*e2^2*e3 - 6037*x1^4*x2^10*x3^2*x*z^4*e1^3*e4^2*e2^2*e3 + 8058*x1^4*x2^10*x3*x4*x*z^4*e1^3*e4^2*e2^2*e3 + 4998*x1^4*x2^10*x4^2*x*z^4*e1^3*e4^2*e2^2*e3 + 2125*x1^4*x2^9*x3^3*x*z^4*e1^3*e4^2*e2^2*e3 + 2151*x1^4*x2^9*x3^2*x4*x*z^4*e1^3*e4^2*e2^2*e3 - 6188*x1^4*x2^9*x3*x4^2*x*z^4*e1^3*e4^2*e2^2*e3 - 5967*x1^4*x2^9*x4^3*x*z^4*e1^3*e4^2*e2^2*e3 - 3688*x1^4*x2^8*x3^4*x*z^4*e1^3*e4^2*e2^2*e3 - 2453*x1^4*x2^8*x3^3*x4*x*z^4*e1^3*e4^2*e2^2*e3 + 158*x1^4*x2^8*x3^2*x4^2*x*z^4*e1^3*e4^2*e2^2*e3 - 6170*x1^4*x2^8*x3*x4^3*x*z^4*e1^3*e4^2*e2^2*e3 - 9516*x1^4*x2^8*x4^4*x*z^4*e1^3*e4^2*e2^2*e3 + 8473*x1^4*x2^8*y*z^3*e1^3*e4^3*e2^2*e3^2 + 5334*x1^4*x2^7*x3^5*x*z^4*e1^3*e4^2*e2^2*e3 + 9153*x1^4*x2^7*x3^4*x4*x*z^4*e1^3*e4^2*e2^2*e3 + 5410*x1^4*x2^7*x3^3*x4^2*x*z^4*e1^3*e4^2*e2^2*e3 + 306*x1^4*x2^7*x3^2*x4^3*x*z^4*e1^3*e4^2*e2^2*e3 + 6785*x1^4*x2^7*x3*x4^4*x*z^4*e1^3*e4^2*e2^2*e3 + 9797*x1^4*x2^7*x3*y*z^3*e1^3*e4^3*e2^2*e3^2 - 6748*x1^4*x2^7*x4^5*x*z^4*e1^3*e4^2*e2^2*e3 - 8542*x1^4*x2^7*x4*y*z^3*e1^3*e4^3*e2^2*e3^2 + 4366*x1^4*x2^6*x3^6*x*z^4*e1^3*e4^2*e2^2*e3 + 880*x1^4*x2^6*x3^5*x4*x*z^4*e1^3*e4^2*e2^2*e3 + 565*x1^4*x2^6*x3^4*x4^2*x*z^4*e1^3*e4^2*e2^2*e3 - 5416*x1^4*x2^6*x3^3*x4^3*x*z^4*e1^3*e4^2*e2^2*e3 - 78*x1^4*x2^6*x3^2*x4^4*x*z^4*e1^3*e4^2*e2^2*e3 - 1252*x1^4*x2^6*x3^2*y*z^3*e1^3*e4^3*e2^2*e3^2 + 2801*x1^4*x2^6*x3*x4^5*x*z^4*e1^3*e4^2*e2^2*e3 - 5100*x1^4*x2^6*x3*x4*y*z^3*e1^3*e4^3*e2^2*e3^2 - 8629*x1^4*x2^6*x4^6*x*z^4*e1^3*e4^2*e2^2*e3 - 5834*x1^4*x2^6*x4^2*y*z^3*e1^3*e4^3*e2^2*e3^2 + 1132*x1^4*x2^5*x3^7*x*z^4*e1^3*e4^2*e2^2*e3 + 3875*x1^4*x2^5*x3^6*x4*x*z^4*e1^3*e4^2*e2^2*e3 + 2696*x1^4*x2^5*x3^5*x4^2*x*z^4*e1^3*e4^2*e2^2*e3 - 9292*x1^4*x2^5*x3^4*x4^3*x*z^4*e1^3*e4^2*e2^2*e3 + 3480*x1^4*x2^5*x3^3*x4^4*x*z^4*e1^3*e4^2*e2^2*e3 - 8333*x1^4*x2^5*x3^3*y*z^3*e1^3*e4^3*e2^2*e3^2 + 5069*x1^4*x2^5*x3^2*x4^5*x*z^4*e1^3*e4^2*e2^2*e3 + 5542*x1^4*x2^5*x3^2*x4*y*z^3*e1^3*e4^3*e2^2*e3^2 + 524*x1^4*x2^5*x3*x4^6*x*z^4*e1^3*e4^2*e2^2*e3 - 7038*x1^4*x2^5*x3*x4^2*y*z^3*e1^3*e4^3*e2^2*e3^2 + 2153*x1^4*x2^5*x4^7*x*z^4*e1^3*e4^2*e2^2*e3 - 4997*x1^4*x2^5*x4^3*y*z^3*e1^3*e4^3*e2^2*e3^2 + 3896*x1^4*x2^4*x3^8*x*z^4*e1^3*e4^2*e2^2*e3 - 3046*x1^4*x2^4*x3^7*x4*x*z^4*e1^3*e4^2*e2^2*e3 - 6858*x1^4*x2^4*x3^6*x4^2*x*z^4*e1^3*e4^2*e2^2*e3 + 3930*x1^4*x2^4*x3^5*x4^3*x*z^4*e1^3*e4^2*e2^2*e3 - 5197*x1^4*x2^4*x3^4*x4^4*x*z^4*e1^3*e4^2*e2^2*e3 - 6565*x1^4*x2^4*x3^4*y*z^3*e1^3*e4^3*e2^2*e3^2 - 7574*x1^4*x2^4*x3^3*x4^5*x*z^4*e1^3*e4^2*e2^2*e3 - 4562*x1^4*x2^4*x3^3*x4*y*z^3*e1^3*e4^3*e2^2*e3^2 - 7784*x1^4*x2^4*x3^2*x4^6*x*z^4*e1^3*e4^2*e2^2*e3 + 7117*x1^4*x2^4*x3^2*x4^2*y*z^3*e1^3*e4^3*e2^2*e3^2 + 3230*x1^4*x2^4*x3*x4^7*x*z^4*e1^3*e4^2*e2^2*e3 - 3877*x1^4*x2^4*x3*x4^3*y*z^3*e1^3*e4^3*e2^2*e3^2 + 7231*x1^4*x2^4*x4^8*x*z^4*e1^3*e4^2*e2^2*e3 + 7246*x1^4*x2^4*x4^4*y*z^3*e1^3*e4^3*e2^2*e3^2 + 5017*x1^4*x2^4*x^2*z^2*e1^4*e4^3*e2^4*e3^3*s + 5649*x1^4*x2^3*x3^9*x*z^4*e1^3*e4^2*e2^2*e3 + 2955*x1^4*x2^3*x3^8*x4*x*z^4*e1^3*e4^2*e2^2*e3 + 3258*x1^4*x2^3*x3^7*x4^2*x*z^4*e1^3*e4^2*e2^2*e3 + 808*x1^4*x2^3*x3^6*x4^3*x*z^4*e1^3*e4^2*e2^2*e3 + 7713*x1^4*x2^3*x3^5*x4^4*x*z^4*e1^3*e4^2*e2^2*e3 - 4035*x1^4*x2^3*x3^5*y*z^3*e1^3*e4^3*e2^2*e3^2 - 7968*x1^4*x2^3*x3^4*x4^5*x*z^4*e1^3*e4^2*e2^2*e3 - 5145*x1^4*x2^3*x3^4*x4*y*z^3*e1^3*e4^3*e2^2*e3^2 + 3384*x1^4*x2^3*x3^3*x4^6*x*z^4*e1^3*e4^2*e2^2*e3 - 6448*x1^4*x2^3*x3^3*x4^2*y*z^3*e1^3*e4^3*e2^2*e3^2 - 3070*x1^4*x2^3*x3^2*x4^7*x*z^4*e1^3*e4^2*e2^2*e3 - 1255*x1^4*x2^3*x3^2*x4^3*y*z^3*e1^3*e4^3*e2^2*e3^2 + 7067*x1^4*x2^3*x3*x4^8*x*z^4*e1^3*e4^2*e2^2*e3 - 7966*x1^4*x2^3*x3*x4^4*y*z^3*e1^3*e4^3*e2^2*e3^2 + 9164*x1^4*x2^3*x3*x^2*z^2*e1^4*e4^3*e2^4*e3^3*s - 1212*x1^4*x2^3*x4^9*x*z^4*e1^3*e4^2*e2^2*e3 - 1504*x1^4*x2^3*x4^5*y*z^3*e1^3*e4^3*e2^2*e3^2 - 702*x1^4*x2^3*x4*x^2*z^2*e1^4*e4^3*e2^4*e3^3*s + 1317*x1^4*x2^2*x3^10*x*z^4*e1^3*e4^2*e2^2*e3 + 2704*x1^4*x2^2*x3^9*x4*x*z^4*e1^3*e4^2*e2^2*e3 + 2840*x1^4*x2^2*x3^8*x4^2*x*z^4*e1^3*e4^2*e2^2*e3 + 7145*x1^4*x2^2*x3^7*x4^3*x*z^4*e1^3*e4^2*e2^2*e3 - 3497*x1^4*x2^2*x3^6*x4^4*x*z^4*e1^3*e4^2*e2^2*e3 + 4734*x1^4*x2^2*x3^6*y*z^3*e1^3*e4^3*e2^2*e3^2 + 7524*x1^4*x2^2*x3^5*x4^5*x*z^4*e1^3*e4^2*e2^2*e3 - 7324*x1^4*x2^2*x3^5*x4*y*z^3*e1^3*e4^3*e2^2*e3^2 - 8380*x1^4*x2^2*x3^4*x4^6*x*z^4*e1^3*e4^2*e2^2*e3 + 7780*x1^4*x2^2*x3^4*x4^2*y*z^3*e1^3*e4^3*e2^2*e3^2 - 1334*x1^4*x2^2*x3^3*x4^7*x*z^4*e1^3*e4^2*e2^2*e3 - 2029*x1^4*x2^2*x3^3*x4^3*y*z^3*e1^3*e4^3*e2^2*e3^2 - 6983*x1^4*x2^2*x3^2*x4^8*x*z^4*e1^3*e4^2*e2^2*e3 - 2391*x1^4*x2^2*x3^2*x4^4*y*z^3*e1^3*e4^3*e2^2*e3^2 + 1366*x1^4*x2^2*x3^2*x^2*z^2*e1^4*e4^3*e2^4*e3^3*s - 4114*x1^4*x2^2*x3*x4^9*x*z^4*e1^3*e4^2*e2^2*e3 - 7021*x1^4*x2^2*x3*x4^5*y*z^3*e1^3*e4^3*e2^2*e3^2 - 9951*x1^4*x2^2*x3*x4*x^2*z^2*e1^4*e4^3*e2^4*e3^3*s - 6966*x1^4*x2^2*x4^10*x*z^4*e1^3*e4^2*e2^2*e3 - 4207*x1^4*x2^2*x4^6*y*z^3*e1^3*e4^3*e2^2*e3^2 + 7571*x1^4*x2^2*x4^2*x^2*z^2*e1^4*e4^3*e2^4*e3^3*s - 2906*x1^4*x2*x3^11*x*z^4*e1^3*e4^2*e2^2*e3 - 8018*x1^4*x2*x3^10*x4*x*z^4*e1^3*e4^2*e2^2*e3 - 7209*x1^4*x2*x3^9*x4^2*x*z^4*e1^3*e4^2*e2^2*e3 + 6890*x1^4*x2*x3^8*x4^3*x*z^4*e1^3*e4^2*e2^2*e3 - 884*x1^4*x2*x3^7*x4^4*x*z^4*e1^3*e4^2*e2^2*e3 + 5094*x1^4*x2*x3^7*y*z^3*e1^3*e4^3*e2^2*e3^2 + 2919*x1^4*x2*x3^6*x4^5*x*z^4*e1^3*e4^2*e2^2*e3 - 3602*x1^4*x2*x3^6*x4*y*z^3*e1^3*e4^3*e2^2*e3^2 - 9666*x1^4*x2*x3^5*x4^6*x*z^4*e1^3*e4^2*e2^2*e3 + 9533*x1^4*x2*x3^5*x4^2*y*z^3*e1^3*e4^3*e2^2*e3^2 + 947*x1^4*x2*x3^4*x4^7*x*z^4*e1^3*e4^2*e2^2*e3 - 3056*x1^4*x2*x3^4*x4^3*y*z^3*e1^3*e4^3*e2^2*e3^2 + 7897*x1^4*x2*x3^3*x4^8*x*z^4*e1^3*e4^2*e2^2*e3 - 4395*x1^4*x2*x3^3*x4^4*y*z^3*e1^3*e4^3*e2^2*e3^2 + 7072*x1^4*x2*x3^3*x^2*z^2*e1^4*e4^3*e2^4*e3^3*s - 5119*x1^4*x2*x3^2*x4^9*x*z^4*e1^3*e4^2*e2^2*e3 - 5594*x1^4*x2*x3^2*x4^5*y*z^3*e1^3*e4^3*e2^2*e3^2 + 3384*x1^4*x2*x3^2*x4*x^2*z^2*e1^4*e4^3*e2^4*e3^3*s - 9060*x1^4*x2*x3*x4^10*x*z^4*e1^3*e4^2*e2^2*e3 - 7104*x1^4*x2*x3*x4^6*y*z^3*e1^3*e4^3*e2^2*e3^2 - 8778*x1^4*x2*x3*x4^2*x^2*z^2*e1^4*e4^3*e2^4*e3^3*s - 350*x1^4*x2*x4^11*x*z^4*e1^3*e4^2*e2^2*e3 - 8416*x1^4*x2*x4^7*y*z^3*e1^3*e4^3*e2^2*e3^2 + 7549*x1^4*x2*x4^3*x^2*z^2*e1^4*e4^3*e2^4*e3^3*s - 7290*x1^4*x3^12*x*z^4*e1^3*e4^2*e2^2*e3 + 6345*x1^4*x3^11*x4*x*z^4*e1^3*e4^2*e2^2*e3 - 3231*x1^4*x3^10*x4^2*x*z^4*e1^3*e4^2*e2^2*e3 + 2419*x1^4*x3^9*x4^3*x*z^4*e1^3*e4^2*e2^2*e3 - 1689*x1^4*x3^8*x4^4*x*z^4*e1^3*e4^2*e2^2*e3 + 1040*x1^4*x3^8*y*z^3*e1^3*e4^3*e2^2*e3^2 - 1111*x1^4*x3^7*x4^5*x*z^4*e1^3*e4^2*e2^2*e3 + 7328*x1^4*x3^7*x4*y*z^3*e1^3*e4^3*e2^2*e3^2 + 5861*x1^4*x3^6*x4^6*x*z^4*e1^3*e4^2*e2^2*e3 + 6241*x1^4*x3^6*x4^2*y*z^3*e1^3*e4^3*e2^2*e3^2 + 8630*x1^4*x3^5*x4^7*x*z^4*e1^3*e4^2*e2^2*e3 - 6935*x1^4*x3^5*x4^3*y*z^3*e1^3*e4^3*e2^2*e3^2 + 3889*x1^4*x3^4*x4^8*x*z^4*e1^3*e4^2*e2^2*e3 - 7817*x1^4*x3^4*x4^4*y*z^3*e1^3*e4^3*e2^2*e3^2 + 9310*x1^4*x3^4*x^2*z^2*e1^4*e4^3*e2^4*e3^3*s + 6865*x1^4*x3^3*x4^9*x*z^4*e1^3*e4^2*e2^2*e3 + 4100*x1^4*x3^3*x4^5*y*z^3*e1^3*e4^3*e2^2*e3^2 + 4014*x1^4*x3^3*x4*x^2*z^2*e1^4*e4^3*e2^4*e3^3*s + 5830*x1^4*x3^2*x4^10*x*z^4*e1^3*e4^2*e2^2*e3 - 3276*x1^4*x3^2*x4^6*y*z^3*e1^3*e4^3*e2^2*e3^2 - 6184*x1^4*x3^2*x4^2*x^2*z^2*e1^4*e4^3*e2^4*e3^3*s - 2417*x1^4*x3*x4^11*x*z^4*e1^3*e4^2*e2^2*e3 + 893*x1^4*x3*x4^7*y*z^3*e1^3*e4^3*e2^2*e3^2 + 566*x1^4*x3*x4^3*x^2*z^2*e1^4*e4^3*e2^4*e3^3*s + 3476*x1^4*x4^12*x*z^4*e1^3*e4^2*e2^2*e3 + 955*x1^4*x4^8*y*z^3*e1^3*e4^3*e2^2*e3^2 - 6024*x1^4*x4^4*x^2*z^2*e1^4*e4^3*e2^4*e3^3*s - 5057*x1^4*x*y*z*e1^4*e4^4*e2^4*e3^4*s + 7507*x1^3*x2^13*x*z^4*e1^2*e4*e2 + 7400*x1^3*x2^12*x3*x*z^4*e1^2*e4*e2 + 8926*x1^3*x2^12*x4*x*z^4*e1^2*e4*e2 + 7242*x1^3*x2^11*x3^2*x*z^4*e1^2*e4*e2 - 3524*x1^3*x2^11*x3*x4*x*z^4*e1^2*e4*e2 + 5562*x1^3*x2^11*x4^2*x*z^4*e1^2*e4*e2 - 6965*x1^3*x2^10*x3^3*x*z^4*e1^2*e4*e2 + 2072*x1^3*x2^10*x3^2*x4*x*z^4*e1^2*e4*e2 - 9101*x1^3*x2^10*x3*x4^2*x*z^4*e1^2*e4*e2 + 6030*x1^3*x2^10*x4^3*x*z^4*e1^2*e4*e2 + 5264*x1^3*x2^9*x3^4*x*z^4*e1^2*e4*e2 + 7817*x1^3*x2^9*x3^3*x4*x*z^4*e1^2*e4*e2 + 4193*x1^3*x2^9*x3^2*x4^2*x*z^4*e1^2*e4*e2 - 6712*x1^3*x2^9*x3*x4^3*x*z^4*e1^2*e4*e2 + 3655*x1^3*x2^9*x4^4*x*z^4*e1^2*e4*e2 + 549*x1^3*x2^9*y*z^3*e1^2*e4^2*e2*e3 + 2286*x1^3*x2^8*x3^5*x*z^4*e1^2*e4*e2 + 6824*x1^3*x2^8*x3^4*x4*x*z^4*e1^2*e4*e2 + 9760*x1^3*x2^8*x3^3*x4^2*x*z^4*e1^2*e4*e2 + 5527*x1^3*x2^8*x3^2*x4^3*x*z^4*e1^2*e4*e2 - 6540*x1^3*x2^8*x3*x4^4*x*z^4*e1^2*e4*e2 - 1282*x1^3*x2^8*x3*y*z^3*e1^2*e4^2*e2*e3 - 7705*x1^3*x2^8*x4^5*x*z^4*e1^2*e4*e2 - 6946*x1^3*x2^8*x4*y*z^3*e1^2*e4^2*e2*e3 - 1872*x1^3*x2^7*x3^6*x*z^4*e1^2*e4*e2 + 6661*x1^3*x2^7*x3^5*x4*x*z^4*e1^2*e4*e2 + 2384*x1^3*x2^7*x3^4*x4^2*x*z^4*e1^2*e4*e2 + 1724*x1^3*x2^7*x3^3*x4^3*x*z^4*e1^2*e4*e2 + 3358*x1^3*x2^7*x3^2*x4^4*x*z^4*e1^2*e4*e2 - 6397*x1^3*x2^7*x3^2*y*z^3*e1^2*e4^2*e2*e3 + 112*x1^3*x2^7*x3*x4^5*x*z^4*e1^2*e4*e2 + 1006*x1^3*x2^7*x3*x4*y*z^3*e1^2*e4^2*e2*e3 + 9369*x1^3*x2^7*x4^6*x*z^4*e1^2*e4*e2 - 5719*x1^3*x2^7*x4^2*y*z^3*e1^2*e4^2*e2*e3 - 1250*x1^3*x2^6*x3^7*x*z^4*e1^2*e4*e2 + 7629*x1^3*x2^6*x3^6*x4*x*z^4*e1^2*e4*e2 + 1465*x1^3*x2^6*x3^5*x4^2*x*z^4*e1^2*e4*e2 - 5537*x1^3*x2^6*x3^4*x4^3*x*z^4*e1^2*e4*e2 + 5374*x1^3*x2^6*x3^3*x4^4*x*z^4*e1^2*e4*e2 + 2600*x1^3*x2^6*x3^3*y*z^3*e1^2*e4^2*e2*e3 + 2580*x1^3*x2^6*x3^2*x4^5*x*z^4*e1^2*e4*e2 - 5686*x1^3*x2^6*x3^2*x4*y*z^3*e1^2*e4^2*e2*e3 + 8454*x1^3*x2^6*x3*x4^6*x*z^4*e1^2*e4*e2 + 5320*x1^3*x2^6*x3*x4^2*y*z^3*e1^2*e4^2*e2*e3 + 9860*x1^3*x2^6*x4^7*x*z^4*e1^2*e4*e2 + 1247*x1^3*x2^6*x4^3*y*z^3*e1^2*e4^2*e2*e3 - 8712*x1^3*x2^5*x3^8*x*z^4*e1^2*e4*e2 + 4648*x1^3*x2^5*x3^7*x4*x*z^4*e1^2*e4*e2 + 6125*x1^3*x2^5*x3^6*x4^2*x*z^4*e1^2*e4*e2 + 8816*x1^3*x2^5*x3^5*x4^3*x*z^4*e1^2*e4*e2 - 5598*x1^3*x2^5*x3^4*x4^4*x*z^4*e1^2*e4*e2 + 2350*x1^3*x2^5*x3^4*y*z^3*e1^2*e4^2*e2*e3 - 3783*x1^3*x2^5*x3^3*x4^5*x*z^4*e1^2*e4*e2 + 6855*x1^3*x2^5*x3^3*x4*y*z^3*e1^2*e4^2*e2*e3 - 8114*x1^3*x2^5*x3^2*x4^6*x*z^4*e1^2*e4*e2 - 6543*x1^3*x2^5*x3^2*x4^2*y*z^3*e1^2*e4^2*e2*e3 - 4913*x1^3*x2^5*x3*x4^7*x*z^4*e1^2*e4*e2 - 933*x1^3*x2^5*x3*x4^3*y*z^3*e1^2*e4^2*e2*e3 - 2197*x1^3*x2^5*x4^8*x*z^4*e1^2*e4*e2 + 8032*x1^3*x2^5*x4^4*y*z^3*e1^2*e4^2*e2*e3 + 1931*x1^3*x2^5*x^2*z^2*e1^3*e4^2*e2^3*e3^2*s - 2177*x1^3*x2^4*x3^9*x*z^4*e1^2*e4*e2 - 5096*x1^3*x2^4*x3^8*x4*x*z^4*e1^2*e4*e2 + 4350*x1^3*x2^4*x3^7*x4^2*x*z^4*e1^2*e4*e2 - 9047*x1^3*x2^4*x3^6*x4^3*x*z^4*e1^2*e4*e2 - 9777*x1^3*x2^4*x3^5*x4^4*x*z^4*e1^2*e4*e2 + 8315*x1^3*x2^4*x3^5*y*z^3*e1^2*e4^2*e2*e3 - 7611*x1^3*x2^4*x3^4*x4^5*x*z^4*e1^2*e4*e2 + 5619*x1^3*x2^4*x3^4*x4*y*z^3*e1^2*e4^2*e2*e3 - 6481*x1^3*x2^4*x3^3*x4^6*x*z^4*e1^2*e4*e2 + 5041*x1^3*x2^4*x3^3*x4^2*y*z^3*e1^2*e4^2*e2*e3 + 3227*x1^3*x2^4*x3^2*x4^7*x*z^4*e1^2*e4*e2 + 6281*x1^3*x2^4*x3^2*x4^3*y*z^3*e1^2*e4^2*e2*e3 - 5514*x1^3*x2^4*x3*x4^8*x*z^4*e1^2*e4*e2 - 3763*x1^3*x2^4*x3*x4^4*y*z^3*e1^2*e4^2*e2*e3 - 5659*x1^3*x2^4*x3*x^2*z^2*e1^3*e4^2*e2^3*e3^2*s - 8853*x1^3*x2^4*x4^9*x*z^4*e1^2*e4*e2 - 6565*x1^3*x2^4*x4^5*y*z^3*e1^2*e4^2*e2*e3 - 282*x1^3*x2^4*x4*x^2*z^2*e1^3*e4^2*e2^3*e3^2*s - 9167*x1^3*x2^3*x3^10*x*z^4*e1^2*e4*e2 - 9509*x1^3*x2^3*x3^9*x4*x*z^4*e1^2*e4*e2 + 8671*x1^3*x2^3*x3^8*x4^2*x*z^4*e1^2*e4*e2 + 4391*x1^3*x2^3*x3^7*x4^3*x*z^4*e1^2*e4*e2 + 8892*x1^3*x2^3*x3^6*x4^4*x*z^4*e1^2*e4*e2 - 2885*x1^3*x2^3*x3^6*y*z^3*e1^2*e4^2*e2*e3 + 5957*x1^3*x2^3*x3^5*x4^5*x*z^4*e1^2*e4*e2 + 9652*x1^3*x2^3*x3^5*x4*y*z^3*e1^2*e4^2*e2*e3 - 227*x1^3*x2^3*x3^4*x4^6*x*z^4*e1^2*e4*e2 + 6723*x1^3*x2^3*x3^4*x4^2*y*z^3*e1^2*e4^2*e2*e3 - 4944*x1^3*x2^3*x3^3*x4^7*x*z^4*e1^2*e4*e2 + 2331*x1^3*x2^3*x3^3*x4^3*y*z^3*e1^2*e4^2*e2*e3 + 5229*x1^3*x2^3*x3^2*x4^8*x*z^4*e1^2*e4*e2 - 8412*x1^3*x2^3*x3^2*x4^4*y*z^3*e1^2*e4^2*e2*e3 - 3861*x1^3*x2^3*x3^2*x^2*z^2*e1^3*e4^2*e2^3*e3^2*s + 6399*x1^3*x2^3*x3*x4^9*x*z^4*e1^2*e4*e2 + 6517*x1^3*x2^3*x3*x4^5*y*z^3*e1^2*e4^2*e2*e3 - 2862*x1^3*x2^3*x3*x4*x^2*z^2*e1^3*e4^2*e2^3*e3^2*s + 1248*x1^3*x2^3*x4^10*x*z^4*e1^2*e4*e2 + 6021*x1^3*x2^3*x4^6*y*z^3*e1^2*e4^2*e2*e3 + 3620*x1^3*x2^3*x4^2*x^2*z^2*e1^3*e4^2*e2^3*e3^2*s + 4385*x1^3*x2^2*x3^11*x*z^4*e1^2*e4*e2 - 4242*x1^3*x2^2*x3^10*x4*x*z^4*e1^2*e4*e2 - 9069*x1^3*x2^2*x3^9*x4^2*x*z^4*e1^2*e4*e2 + 5373*x1^3*x2^2*x3^8*x4^3*x*z^4*e1^2*e4*e2 - 3154*x1^3*x2^2*x3^7*x4^4*x*z^4*e1^2*e4*e2 + 6434*x1^3*x2^2*x3^7*y*z^3*e1^2*e4^2*e2*e3 + 8886*x1^3*x2^2*x3^6*x4^5*x*z^4*e1^2*e4*e2 - 9731*x1^3*x2^2*x3^6*x4*y*z^3*e1^2*e4^2*e2*e3 + 6191*x1^3*x2^2*x3^5*x4^6*x*z^4*e1^2*e4*e2 + 3599*x1^3*x2^2*x3^5*x4^2*y*z^3*e1^2*e4^2*e2*e3 + 7495*x1^3*x2^2*x3^4*x4^7*x*z^4*e1^2*e4*e2 + 9585*x1^3*x2^2*x3^4*x4^3*y*z^3*e1^2*e4^2*e2*e3 + 422*x1^3*x2^2*x3^3*x4^8*x*z^4*e1^2*e4*e2 + 8406*x1^3*x2^2*x3^3*x4^4*y*z^3*e1^2*e4^2*e2*e3 - 438*x1^3*x2^2*x3^3*x^2*z^2*e1^3*e4^2*e2^3*e3^2*s - 6996*x1^3*x2^2*x3^2*x4^9*x*z^4*e1^2*e4*e2 + 6155*x1^3*x2^2*x3^2*x4^5*y*z^3*e1^2*e4^2*e2*e3 + 6818*x1^3*x2^2*x3^2*x4*x^2*z^2*e1^3*e4^2*e2^3*e3^2*s + 1757*x1^3*x2^2*x3*x4^10*x*z^4*e1^2*e4*e2 + 7143*x1^3*x2^2*x3*x4^6*y*z^3*e1^2*e4^2*e2*e3 + 3715*x1^3*x2^2*x3*x4^2*x^2*z^2*e1^3*e4^2*e2^3*e3^2*s + 3729*x1^3*x2^2*x4^11*x*z^4*e1^2*e4*e2 - 4379*x1^3*x2^2*x4^7*y*z^3*e1^2*e4^2*e2*e3 + 568*x1^3*x2^2*x4^3*x^2*z^2*e1^3*e4^2*e2^3*e3^2*s - 4186*x1^3*x2*x3^12*x*z^4*e1^2*e4*e2 - 3294*x1^3*x2*x3^11*x4*x*z^4*e1^2*e4*e2 + 2581*x1^3*x2*x3^10*x4^2*x*z^4*e1^2*e4*e2 - 924*x1^3*x2*x3^9*x4^3*x*z^4*e1^2*e4*e2 + 4080*x1^3*x2*x3^8*x4^4*x*z^4*e1^2*e4*e2 - 5043*x1^3*x2*x3^8*y*z^3*e1^2*e4^2*e2*e3 - 656*x1^3*x2*x3^7*x4^5*x*z^4*e1^2*e4*e2 + 3621*x1^3*x2*x3^7*x4*y*z^3*e1^2*e4^2*e2*e3 + 3564*x1^3*x2*x3^6*x4^6*x*z^4*e1^2*e4*e2 - 3228*x1^3*x2*x3^6*x4^2*y*z^3*e1^2*e4^2*e2*e3 - 4926*x1^3*x2*x3^5*x4^7*x*z^4*e1^2*e4*e2 - 6641*x1^3*x2*x3^5*x4^3*y*z^3*e1^2*e4^2*e2*e3 - 6588*x1^3*x2*x3^4*x4^8*x*z^4*e1^2*e4*e2 - 5677*x1^3*x2*x3^4*x4^4*y*z^3*e1^2*e4^2*e2*e3 - 9074*x1^3*x2*x3^4*x^2*z^2*e1^3*e4^2*e2^3*e3^2*s + 7663*x1^3*x2*x3^3*x4^9*x*z^4*e1^2*e4*e2 + 1791*x1^3*x2*x3^3*x4^5*y*z^3*e1^2*e4^2*e2*e3 + 7848*x1^3*x2*x3^3*x4*x^2*z^2*e1^3*e4^2*e2^3*e3^2*s - 9028*x1^3*x2*x3^2*x4^10*x*z^4*e1^2*e4*e2 + 173*x1^3*x2*x3^2*x4^6*y*z^3*e1^2*e4^2*e2*e3 - 9557*x1^3*x2*x3^2*x4^2*x^2*z^2*e1^3*e4^2*e2^3*e3^2*s - 7367*x1^3*x2*x3*x4^11*x*z^4*e1^2*e4*e2 + 5236*x1^3*x2*x3*x4^7*y*z^3*e1^2*e4^2*e2*e3 + 680*x1^3*x2*x3*x4^3*x^2*z^2*e1^3*e4^2*e2^3*e3^2*s + 6040*x1^3*x2*x4^12*x*z^4*e1^2*e4*e2 + 8407*x1^3*x2*x4^8*y*z^3*e1^2*e4^2*e2*e3 - 9744*x1^3*x2*x4^4*x^2*z^2*e1^3*e4^2*e2^3*e3^2*s - 263*x1^3*x2*x*y*z*e1^3*e4^3*e2^3*e3^3*s + 5206*x1^3*x3^13*x*z^4*e1^2*e4*e2 - 1664*x1^3*x3^12*x4*x*z^4*e1^2*e4*e2 + 6973*x1^3*x3^11*x4^2*x*z^4*e1^2*e4*e2 + 3384*x1^3*x3^10*x4^3*x*z^4*e1^2*e4*e2 - 6185*x1^3*x3^9*x4^4*x*z^4*e1^2*e4*e2 - 6429*x1^3*x3^9*y*z^3*e1^2*e4^2*e2*e3 + 895*x1^3*x3^8*x4^5*x*z^4*e1^2*e4*e2 + 6238*x1^3*x3^8*x4*y*z^3*e1^2*e4^2*e2*e3 + 9765*x1^3*x3^7*x4^6*x*z^4*e1^2*e4*e2 - 4987*x1^3*x3^7*x4^2*y*z^3*e1^2*e4^2*e2*e3 - 4554*x1^3*x3^6*x4^7*x*z^4*e1^2*e4*e2 + 3887*x1^3*x3^6*x4^3*y*z^3*e1^2*e4^2*e2*e3 - 8279*x1^3*x3^5*x4^8*x*z^4*e1^2*e4*e2 - 9914*x1^3*x3^5*x4^4*y*z^3*e1^2*e4^2*e2*e3 + 4318*x1^3*x3^5*x^2*z^2*e1^3*e4^2*e2^3*e3^2*s - 8162*x1^3*x3^4*x4^9*x*z^4*e1^2*e4*e2 - 2093*x1^3*x3^4*x4^5*y*z^3*e1^2*e4^2*e2*e3 - 7833*x1^3*x3^4*x4*x^2*z^2*e1^3*e4^2*e2^3*e3^2*s - 4629*x1^3*x3^3*x4^10*x*z^4*e1^2*e4*e2 + 5372*x1^3*x3^3*x4^6*y*z^3*e1^2*e4^2*e2*e3 - 5067*x1^3*x3^3*x4^2*x^2*z^2*e1^3*e4^2*e2^3*e3^2*s - 8766*x1^3*x3^2*x4^11*x*z^4*e1^2*e4*e2 + 4344*x1^3*x3^2*x4^7*y*z^3*e1^2*e4^2*e2*e3 + 957*x1^3*x3^2*x4^3*x^2*z^2*e1^3*e4^2*e2^3*e3^2*s + 9504*x1^3*x3*x4^12*x*z^4*e1^2*e4*e2 - 4313*x1^3*x3*x4^8*y*z^3*e1^2*e4^2*e2*e3 + 9484*x1^3*x3*x4^4*x^2*z^2*e1^3*e4^2*e2^3*e3^2*s + 1449*x1^3*x3*x*y*z*e1^3*e4^3*e2^3*e3^3*s + 9119*x1^3*x4^13*x*z^4*e1^2*e4*e2 + 5479*x1^3*x4^9*y*z^3*e1^2*e4^2*e2*e3 - 5489*x1^3*x4^5*x^2*z^2*e1^3*e4^2*e2^3*e3^2*s - 6492*x1^3*x4*x*y*z*e1^3*e4^3*e2^3*e3^3*s + 9251*x1^2*x2^10*y*z^3*e1*e4 - 8251*x1^2*x2^9*x3*y*z^3*e1*e4 - 6950*x1^2*x2^9*x4*y*z^3*e1*e4 - 1651*x1^2*x2^8*x3^2*y*z^3*e1*e4 + 1938*x1^2*x2^8*x3*x4*y*z^3*e1*e4 + 2748*x1^2*x2^8*x4^2*y*z^3*e1*e4 + 4023*x1^2*x2^7*x3^3*y*z^3*e1*e4 - 2782*x1^2*x2^7*x3^2*x4*y*z^3*e1*e4 - 9233*x1^2*x2^7*x3*x4^2*y*z^3*e1*e4 - 9255*x1^2*x2^7*x4^3*y*z^3*e1*e4 + 1998*x1^2*x2^6*x3^4*y*z^3*e1*e4 - 382*x1^2*x2^6*x3^3*x4*y*z^3*e1*e4 + 9689*x1^2*x2^6*x3^2*x4^2*y*z^3*e1*e4 + 3909*x1^2*x2^6*x3*x4^3*y*z^3*e1*e4 + 122*x1^2*x2^6*x4^4*y*z^3*e1*e4 + 8933*x1^2*x2^6*x^2*z^2*e1^2*e4*e2^2*e3*s - 8514*x1^2*x2^5*x3^5*y*z^3*e1*e4 + 4976*x1^2*x2^5*x3^4*x4*y*z^3*e1*e4 + 3740*x1^2*x2^5*x3^3*x4^2*y*z^3*e1*e4 + 6369*x1^2*x2^5*x3^2*x4^3*y*z^3*e1*e4 - 9152*x1^2*x2^5*x3*x4^4*y*z^3*e1*e4 + 2786*x1^2*x2^5*x3*x^2*z^2*e1^2*e4*e2^2*e3*s - 3969*x1^2*x2^5*x4^5*y*z^3*e1*e4 - 2142*x1^2*x2^5*x4*x^2*z^2*e1^2*e4*e2^2*e3*s - 3494*x1^2*x2^4*x3^6*y*z^3*e1*e4 + 5899*x1^2*x2^4*x3^5*x4*y*z^3*e1*e4 + 8132*x1^2*x2^4*x3^4*x4^2*y*z^3*e1*e4 - 3422*x1^2*x2^4*x3^3*x4^3*y*z^3*e1*e4 + 4517*x1^2*x2^4*x3^2*x4^4*y*z^3*e1*e4 - 3150*x1^2*x2^4*x3^2*x^2*z^2*e1^2*e4*e2^2*e3*s + 8333*x1^2*x2^4*x3*x4^5*y*z^3*e1*e4 - 7194*x1^2*x2^4*x3*x4*x^2*z^2*e1^2*e4*e2^2*e3*s - 2411*x1^2*x2^4*x4^6*y*z^3*e1*e4 - 9534*x1^2*x2^4*x4^2*x^2*z^2*e1^2*e4*e2^2*e3*s + 8411*x1^2*x2^3*x3^7*y*z^3*e1*e4 + 573*x1^2*x2^3*x3^6*x4*y*z^3*e1*e4 + 5441*x1^2*x2^3*x3^5*x4^2*y*z^3*e1*e4 - 1553*x1^2*x2^3*x3^4*x4^3*y*z^3*e1*e4 + 7984*x1^2*x2^3*x3^3*x4^4*y*z^3*e1*e4 + 9231*x1^2*x2^3*x3^3*x^2*z^2*e1^2*e4*e2^2*e3*s - 7547*x1^2*x2^3*x3^2*x4^5*y*z^3*e1*e4 + 3442*x1^2*x2^3*x3^2*x4*x^2*z^2*e1^2*e4*e2^2*e3*s - 2354*x1^2*x2^3*x3*x4^6*y*z^3*e1*e4 - 7554*x1^2*x2^3*x3*x4^2*x^2*z^2*e1^2*e4*e2^2*e3*s - 3329*x1^2*x2^3*x4^7*y*z^3*e1*e4 + 8998*x1^2*x2^3*x4^3*x^2*z^2*e1^2*e4*e2^2*e3*s + 9124*x1^2*x2^2*x3^8*y*z^3*e1*e4 - 4378*x1^2*x2^2*x3^7*x4*y*z^3*e1*e4 + 8365*x1^2*x2^2*x3^6*x4^2*y*z^3*e1*e4 - 4635*x1^2*x2^2*x3^5*x4^3*y*z^3*e1*e4 - 8771*x1^2*x2^2*x3^4*x4^4*y*z^3*e1*e4 - 8186*x1^2*x2^2*x3^4*x^2*z^2*e1^2*e4*e2^2*e3*s + 3345*x1^2*x2^2*x3^3*x4^5*y*z^3*e1*e4 - 4718*x1^2*x2^2*x3^3*x4*x^2*z^2*e1^2*e4*e2^2*e3*s + 806*x1^2*x2^2*x3^2*x4^6*y*z^3*e1*e4 + 5976*x1^2*x2^2*x3^2*x4^2*x^2*z^2*e1^2*e4*e2^2*e3*s - 9171*x1^2*x2^2*x3*x4^7*y*z^3*e1*e4 + 3560*x1^2*x2^2*x3*x4^3*x^2*z^2*e1^2*e4*e2^2*e3*s - 5310*x1^2*x2^2*x4^8*y*z^3*e1*e4 + 6167*x1^2*x2^2*x4^4*x^2*z^2*e1^2*e4*e2^2*e3*s - 6886*x1^2*x2^2*x*y*z*e1^2*e4^2*e2^2*e3^2*s + 1948*x1^2*x2*x3^9*y*z^3*e1*e4 + 3325*x1^2*x2*x3^8*x4*y*z^3*e1*e4 - 2056*x1^2*x2*x3^7*x4^2*y*z^3*e1*e4 + 2331*x1^2*x2*x3^6*x4^3*y*z^3*e1*e4 - 9806*x1^2*x2*x3^5*x4^4*y*z^3*e1*e4 - 5182*x1^2*x2*x3^5*x^2*z^2*e1^2*e4*e2^2*e3*s - 8716*x1^2*x2*x3^4*x4^5*y*z^3*e1*e4 - 2353*x1^2*x2*x3^4*x4*x^2*z^2*e1^2*e4*e2^2*e3*s - 6098*x1^2*x2*x3^3*x4^6*y*z^3*e1*e4 + 8261*x1^2*x2*x3^3*x4^2*x^2*z^2*e1^2*e4*e2^2*e3*s + 2408*x1^2*x2*x3^2*x4^7*y*z^3*e1*e4 + 284*x1^2*x2*x3^2*x4^3*x^2*z^2*e1^2*e4*e2^2*e3*s - 2413*x1^2*x2*x3*x4^8*y*z^3*e1*e4 + 2795*x1^2*x2*x3*x4^4*x^2*z^2*e1^2*e4*e2^2*e3*s - 6018*x1^2*x2*x3*x*y*z*e1^2*e4^2*e2^2*e3^2*s + 5461*x1^2*x2*x4^9*y*z^3*e1*e4 - 6865*x1^2*x2*x4^5*x^2*z^2*e1^2*e4*e2^2*e3*s - 2718*x1^2*x2*x4*x*y*z*e1^2*e4^2*e2^2*e3^2*s - 6384*x1^2*x3^10*y*z^3*e1*e4 + 6835*x1^2*x3^9*x4*y*z^3*e1*e4 - 5063*x1^2*x3^8*x4^2*y*z^3*e1*e4 - 5791*x1^2*x3^7*x4^3*y*z^3*e1*e4 + 9666*x1^2*x3^6*x4^4*y*z^3*e1*e4 - 6194*x1^2*x3^6*x^2*z^2*e1^2*e4*e2^2*e3*s + 5266*x1^2*x3^5*x4^5*y*z^3*e1*e4 - 8016*x1^2*x3^5*x4*x^2*z^2*e1^2*e4*e2^2*e3*s - 4856*x1^2*x3^4*x4^6*y*z^3*e1*e4 - 3470*x1^2*x3^4*x4^2*x^2*z^2*e1^2*e4*e2^2*e3*s + 7508*x1^2*x3^3*x4^7*y*z^3*e1*e4 - 2323*x1^2*x3^3*x4^3*x^2*z^2*e1^2*e4*e2^2*e3*s - 3588*x1^2*x3^2*x4^8*y*z^3*e1*e4 - 9943*x1^2*x3^2*x4^4*x^2*z^2*e1^2*e4*e2^2*e3*s - 9908*x1^2*x3^2*x*y*z*e1^2*e4^2*e2^2*e3^2*s + 4641*x1^2*x3*x4^9*y*z^3*e1*e4 + 2493*x1^2*x3*x4^5*x^2*z^2*e1^2*e4*e2^2*e3*s + 2696*x1^2*x3*x4*x*y*z*e1^2*e4^2*e2^2*e3^2*s + 2706*x1^2*x4^10*y*z^3*e1*e4 + 4714*x1^2*x4^6*x^2*z^2*e1^2*e4*e2^2*e3*s - 6829*x1^2*x4^2*x*y*z*e1^2*e4^2*e2^2*e3^2*s - 7252*x1*x2^7*x^2*z^2*e1*e2*s + 2173*x1*x2^6*x3*x^2*z^2*e1*e2*s + 2764*x1*x2^6*x4*x^2*z^2*e1*e2*s - 8091*x1*x2^5*x3^2*x^2*z^2*e1*e2*s + 8455*x1*x2^5*x3*x4*x^2*z^2*e1*e2*s - 3876*x1*x2^5*x4^2*x^2*z^2*e1*e2*s + 9494*x1*x2^4*x3^3*x^2*z^2*e1*e2*s + 9480*x1*x2^4*x3^2*x4*x^2*z^2*e1*e2*s - 9026*x1*x2^4*x3*x4^2*x^2*z^2*e1*e2*s - 7311*x1*x2^4*x4^3*x^2*z^2*e1*e2*s - 2833*x1*x2^3*x3^4*x^2*z^2*e1*e2*s - 1514*x1*x2^3*x3^3*x4*x^2*z^2*e1*e2*s - 2433*x1*x2^3*x3^2*x4^2*x^2*z^2*e1*e2*s + 8806*x1*x2^3*x3*x4^3*x^2*z^2*e1*e2*s + 7298*x1*x2^3*x4^4*x^2*z^2*e1*e2*s + 6536*x1*x2^3*x*y*z*e1*e4*e2*e3*s + 5464*x1*x2^2*x3^5*x^2*z^2*e1*e2*s + 647*x1*x2^2*x3^4*x4*x^2*z^2*e1*e2*s + 4057*x1*x2^2*x3^3*x4^2*x^2*z^2*e1*e2*s - 1881*x1*x2^2*x3^2*x4^3*x^2*z^2*e1*e2*s - 9617*x1*x2^2*x3*x4^4*x^2*z^2*e1*e2*s - 5571*x1*x2^2*x3*x*y*z*e1*e4*e2*e3*s - 5523*x1*x2^2*x4^5*x^2*z^2*e1*e2*s - 4629*x1*x2^2*x4*x*y*z*e1*e4*e2*e3*s + 5288*x1*x2*x3^6*x^2*z^2*e1*e2*s + 241*x1*x2*x3^5*x4*x^2*z^2*e1*e2*s - 33*x1*x2*x3^4*x4^2*x^2*z^2*e1*e2*s - 1382*x1*x2*x3^3*x4^3*x^2*z^2*e1*e2*s + 3931*x1*x2*x3^2*x4^4*x^2*z^2*e1*e2*s + 6325*x1*x2*x3^2*x*y*z*e1*e4*e2*e3*s - 1585*x1*x2*x3*x4^5*x^2*z^2*e1*e2*s - 1572*x1*x2*x3*x4*x*y*z*e1*e4*e2*e3*s - 8380*x1*x2*x4^6*x^2*z^2*e1*e2*s + 6101*x1*x2*x4^2*x*y*z*e1*e4*e2*e3*s - 432*x1*x3^7*x^2*z^2*e1*e2*s - 9490*x1*x3^6*x4*x^2*z^2*e1*e2*s + 19*x1*x3^5*x4^2*x^2*z^2*e1*e2*s - 3183*x1*x3^4*x4^3*x^2*z^2*e1*e2*s + 3076*x1*x3^3*x4^4*x^2*z^2*e1*e2*s - 202*x1*x3^3*x*y*z*e1*e4*e2*e3*s + 1896*x1*x3^2*x4^5*x^2*z^2*e1*e2*s + 5409*x1*x3^2*x4*x*y*z*e1*e4*e2*e3*s - 687*x1*x3*x4^6*x^2*z^2*e1*e2*s - 8511*x1*x3*x4^2*x*y*z*e1*e4*e2*e3*s + 7663*x1*x4^7*x^2*z^2*e1*e2*s + 1628*x1*x4^3*x*y*z*e1*e4*e2*e3*s + 8740*x2^4*x*y*z*s + 9509*x2^3*x3*x*y*z*s - 3402*x2^3*x4*x*y*z*s + 9336*x2^2*x3^2*x*y*z*s - 2124*x2^2*x3*x4*x*y*z*s - 3306*x2^2*x4^2*x*y*z*s - 191*x2*x3^3*x*y*z*s + 5972*x2*x3^2*x4*x*y*z*s - 6889*x2*x3*x4^2*x*y*z*s + 9624*x2*x4^3*x*y*z*s - 4562*x3^4*x*y*z*s - 7212*x3^3*x4*x*y*z*s + 3279*x3^2*x4^2*x*y*z*s + 7084*x3*x4^3*x*y*z*s + 8991*x4^4*x*y*z*s + x^3*e1*e2^2*e3*s^2 - y^2*e4*e3*s"
      ]
     },
     "execution_count": 41,
     "metadata": {},
     "output_type": "execute_result"
    }
   ],
   "source": [
    "tate_polynomial(t_res)"
   ]
  },
  {
   "cell_type": "code",
   "execution_count": 42,
   "id": "194c5ecf-3435-4be4-9e25-4bdf401e561c",
   "metadata": {},
   "outputs": [
    {
     "data": {
      "text/plain": [
       "Toric line bundle on a normal toric variety"
      ]
     },
     "execution_count": 42,
     "metadata": {},
     "output_type": "execute_result"
    }
   ],
   "source": [
    "W = toric_line_bundle(2 * torusinvariant_prime_divisors(B3)[1])"
   ]
  },
  {
   "cell_type": "code",
   "execution_count": 43,
   "id": "d3050414-a80f-4a55-8654-4ef5f70b6291",
   "metadata": {},
   "outputs": [
    {
     "data": {
      "text/plain": [
       "7348*x1^2 - 9670*x1*x2 + 1509*x1*x3 + 5781*x1*x4 - 2421*x2^2 + 7636*x2*x3 - 7482*x2*x4 + 4428*x3^2 + 8644*x3*x4 - 5059*x4^2"
      ]
     },
     "execution_count": 43,
     "metadata": {},
     "output_type": "execute_result"
    }
   ],
   "source": [
    "w = generic_section(W)"
   ]
  },
  {
   "cell_type": "code",
   "execution_count": 44,
   "id": "d6f69136-7c4c-4bb1-b83a-0c58810b4d36",
   "metadata": {},
   "outputs": [
    {
     "data": {
      "text/plain": [
       "Global Tate model over a concrete base"
      ]
     },
     "execution_count": 44,
     "metadata": {},
     "output_type": "execute_result"
    }
   ],
   "source": [
    "a10 = generic_section(Kbar);\n",
    "a21 = generic_section(Kbar^2*W^(-1));\n",
    "a32 = generic_section(Kbar^3*W^(-2));\n",
    "a43 = generic_section(Kbar^4*W^(-3));\n",
    "a6 = zero(cox_ring(B3));\n",
    "t2 = global_tate_model(B3, [a10, a21 * w, a32 * w^2, a43 * w^3, a6])"
   ]
  },
  {
   "cell_type": "code",
   "execution_count": 45,
   "id": "3ff69171-1ab4-49fa-8849-d5655182fd5a",
   "metadata": {},
   "outputs": [
    {
     "data": {
      "text/plain": [
       "2-element Vector{Tuple{MPolyIdeal{<:MPolyRingElem}, Tuple{Int64, Int64, Int64}, String}}:\n",
       " (Ideal with 1 generator, (0, 0, 1), \"I_1\")\n",
       " (Ideal with 1 generator, (0, 0, 5), \"Split I_5\")"
      ]
     },
     "execution_count": 45,
     "metadata": {},
     "output_type": "execute_result"
    }
   ],
   "source": [
    "singular_loci(t2)"
   ]
  },
  {
   "cell_type": "code",
   "execution_count": 46,
   "id": "bff610c3-82dc-498a-a068-7cc826a92fa9",
   "metadata": {},
   "outputs": [
    {
     "data": {
      "text/plain": [
       "Ideal generated by\n",
       "  7348*x1^2 - 9670*x1*x2 + 1509*x1*x3 + 5781*x1*x4 - 2421*x2^2 + 7636*x2*x3 - 7482*x2*x4 + 4428*x3^2 + 8644*x3*x4 - 5059*x4^2"
      ]
     },
     "execution_count": 46,
     "metadata": {},
     "output_type": "execute_result"
    }
   ],
   "source": [
    "singular_loci(t2)[2][1]"
   ]
  },
  {
   "cell_type": "code",
   "execution_count": 47,
   "id": "a2e7676e-531c-4263-88cc-1345c98834fc",
   "metadata": {},
   "outputs": [
    {
     "data": {
      "text/plain": [
       "Partially resolved global Tate model over a concrete base"
      ]
     },
     "execution_count": 47,
     "metadata": {},
     "output_type": "execute_result"
    }
   ],
   "source": [
    "t2_1 = blow_up(t, [\"x\" , \"y\" , string(w)]; coordinate_name = \"e1\" )"
   ]
  },
  {
   "cell_type": "code",
   "execution_count": 48,
   "id": "920ee668-4524-437e-b8fd-ad25b5b847db",
   "metadata": {},
   "outputs": [
    {
     "data": {
      "text/plain": [
       "CoveredScheme{QQField}"
      ]
     },
     "execution_count": 48,
     "metadata": {},
     "output_type": "execute_result"
    }
   ],
   "source": [
    "typeof(ambient_space(t2_1))"
   ]
  },
  {
   "cell_type": "code",
   "execution_count": 49,
   "id": "1a99d08d-6180-43a3-b849-8c2a4aab69ce",
   "metadata": {},
   "outputs": [
    {
     "data": {
      "text/plain": [
       "Scheme\n",
       "  over rational field\n",
       "with default covering\n",
       "  described by patches\n",
       "     1: scheme(-(s1//s0)*x_5_1 + x_4_1, 7348*(s1//s0)*x_1_1^2 - 9670*(s1//s0)*x_1_1*x_2_1 + 1509*(s1//s0)*x_1_1*x_3_1 + 5781*(s1//s0)*x_1_1 - 2421*(s1//s0)*x_2_1^2 + 7636*(s1//s0)*x_2_1*x_3_1 - 7482*(s1//s0)*x_2_1 + 4428*(s1//s0)*x_3_1^2 + 8644*(s1//s0)*x_3_1 - 5059*(s1//s0) - (s2//s0)*x_4_1, -(s2//s0)*x_5_1 + 7348*x_1_1^2 - 9670*x_1_1*x_2_1 + 1509*x_1_1*x_3_1 + 5781*x_1_1 - 2421*x_2_1^2 + 7636*x_2_1*x_3_1 - 7482*x_2_1 + 4428*x_3_1^2 + 8644*x_3_1 - 5059)\n",
       "     2: scheme((s0//s1)*x_4_1 - x_5_1, -(s2//s1)*x_4_1 + 7348*x_1_1^2 - 9670*x_1_1*x_2_1 + 1509*x_1_1*x_3_1 + 5781*x_1_1 - 2421*x_2_1^2 + 7636*x_2_1*x_3_1 - 7482*x_2_1 + 4428*x_3_1^2 + 8644*x_3_1 - 5059, 7348*(s0//s1)*x_1_1^2 - 9670*(s0//s1)*x_1_1*x_2_1 + 1509*(s0//s1)*x_1_1*x_3_1 + 5781*(s0//s1)*x_1_1 - 2421*(s0//s1)*x_2_1^2 + 7636*(s0//s1)*x_2_1*x_3_1 - 7482*(s0//s1)*x_2_1 + 4428*(s0//s1)*x_3_1^2 + 8644*(s0//s1)*x_3_1 - 5059*(s0//s1) - (s2//s1)*x_5_1)\n",
       "     3: scheme((s0//s2)*x_4_1 - (s1//s2)*x_5_1, 7348*(s1//s2)*x_1_1^2 - 9670*(s1//s2)*x_1_1*x_2_1 + 1509*(s1//s2)*x_1_1*x_3_1 + 5781*(s1//s2)*x_1_1 - 2421*(s1//s2)*x_2_1^2 + 7636*(s1//s2)*x_2_1*x_3_1 - 7482*(s1//s2)*x_2_1 + 4428*(s1//s2)*x_3_1^2 + 8644*(s1//s2)*x_3_1 - 5059*(s1//s2) - x_4_1, 7348*(s0//s2)*x_1_1^2 - 9670*(s0//s2)*x_1_1*x_2_1 + 1509*(s0//s2)*x_1_1*x_3_1 + 5781*(s0//s2)*x_1_1 - 2421*(s0//s2)*x_2_1^2 + 7636*(s0//s2)*x_2_1*x_3_1 - 7482*(s0//s2)*x_2_1 + 4428*(s0//s2)*x_3_1^2 + 8644*(s0//s2)*x_3_1 - 5059*(s0//s2) - x_5_1)\n",
       "     4: scheme(-(s1//s0)*x_5_2 + x_4_2, 5059*(s1//s0)*x_1_2^2 + 7482*(s1//s0)*x_1_2*x_2_2 - 8644*(s1//s0)*x_1_2*x_3_2 - 5781*(s1//s0)*x_1_2 + 2421*(s1//s0)*x_2_2^2 - 7636*(s1//s0)*x_2_2*x_3_2 + 9670*(s1//s0)*x_2_2 - 4428*(s1//s0)*x_3_2^2 - 1509*(s1//s0)*x_3_2 - 7348*(s1//s0) - (s2//s0)*x_4_2, -(s2//s0)*x_5_2 + 5059*x_1_2^2 + 7482*x_1_2*x_2_2 - 8644*x_1_2*x_3_2 - 5781*x_1_2 + 2421*x_2_2^2 - 7636*x_2_2*x_3_2 + 9670*x_2_2 - 4428*x_3_2^2 - 1509*x_3_2 - 7348)\n",
       "     5: scheme((s0//s1)*x_4_2 - x_5_2, -(s2//s1)*x_4_2 + 5059*x_1_2^2 + 7482*x_1_2*x_2_2 - 8644*x_1_2*x_3_2 - 5781*x_1_2 + 2421*x_2_2^2 - 7636*x_2_2*x_3_2 + 9670*x_2_2 - 4428*x_3_2^2 - 1509*x_3_2 - 7348, 5059*(s0//s1)*x_1_2^2 + 7482*(s0//s1)*x_1_2*x_2_2 - 8644*(s0//s1)*x_1_2*x_3_2 - 5781*(s0//s1)*x_1_2 + 2421*(s0//s1)*x_2_2^2 - 7636*(s0//s1)*x_2_2*x_3_2 + 9670*(s0//s1)*x_2_2 - 4428*(s0//s1)*x_3_2^2 - 1509*(s0//s1)*x_3_2 - 7348*(s0//s1) - (s2//s1)*x_5_2)\n",
       "     6: scheme((s0//s2)*x_4_2 - (s1//s2)*x_5_2, 5059*(s1//s2)*x_1_2^2 + 7482*(s1//s2)*x_1_2*x_2_2 - 8644*(s1//s2)*x_1_2*x_3_2 - 5781*(s1//s2)*x_1_2 + 2421*(s1//s2)*x_2_2^2 - 7636*(s1//s2)*x_2_2*x_3_2 + 9670*(s1//s2)*x_2_2 - 4428*(s1//s2)*x_3_2^2 - 1509*(s1//s2)*x_3_2 - 7348*(s1//s2) - x_4_2, 5059*(s0//s2)*x_1_2^2 + 7482*(s0//s2)*x_1_2*x_2_2 - 8644*(s0//s2)*x_1_2*x_3_2 - 5781*(s0//s2)*x_1_2 + 2421*(s0//s2)*x_2_2^2 - 7636*(s0//s2)*x_2_2*x_3_2 + 9670*(s0//s2)*x_2_2 - 4428*(s0//s2)*x_3_2^2 - 1509*(s0//s2)*x_3_2 - 7348*(s0//s2) - x_5_2)\n",
       "     7: scheme(-(s1//s0)*x_5_3 + x_4_3, 7348*(s1//s0)*x_1_3^2 + 5781*(s1//s0)*x_1_3*x_2_3 + 1509*(s1//s0)*x_1_3*x_3_3 - 9670*(s1//s0)*x_1_3 - 5059*(s1//s0)*x_2_3^2 + 8644*(s1//s0)*x_2_3*x_3_3 - 7482*(s1//s0)*x_2_3 + 4428*(s1//s0)*x_3_3^2 + 7636*(s1//s0)*x_3_3 - 2421*(s1//s0) - (s2//s0)*x_4_3, -(s2//s0)*x_5_3 + 7348*x_1_3^2 + 5781*x_1_3*x_2_3 + 1509*x_1_3*x_3_3 - 9670*x_1_3 - 5059*x_2_3^2 + 8644*x_2_3*x_3_3 - 7482*x_2_3 + 4428*x_3_3^2 + 7636*x_3_3 - 2421)\n",
       "     8: scheme((s0//s1)*x_4_3 - x_5_3, -(s2//s1)*x_4_3 + 7348*x_1_3^2 + 5781*x_1_3*x_2_3 + 1509*x_1_3*x_3_3 - 9670*x_1_3 - 5059*x_2_3^2 + 8644*x_2_3*x_3_3 - 7482*x_2_3 + 4428*x_3_3^2 + 7636*x_3_3 - 2421, 7348*(s0//s1)*x_1_3^2 + 5781*(s0//s1)*x_1_3*x_2_3 + 1509*(s0//s1)*x_1_3*x_3_3 - 9670*(s0//s1)*x_1_3 - 5059*(s0//s1)*x_2_3^2 + 8644*(s0//s1)*x_2_3*x_3_3 - 7482*(s0//s1)*x_2_3 + 4428*(s0//s1)*x_3_3^2 + 7636*(s0//s1)*x_3_3 - 2421*(s0//s1) - (s2//s1)*x_5_3)\n",
       "     9: scheme((s0//s2)*x_4_3 - (s1//s2)*x_5_3, 7348*(s1//s2)*x_1_3^2 + 5781*(s1//s2)*x_1_3*x_2_3 + 1509*(s1//s2)*x_1_3*x_3_3 - 9670*(s1//s2)*x_1_3 - 5059*(s1//s2)*x_2_3^2 + 8644*(s1//s2)*x_2_3*x_3_3 - 7482*(s1//s2)*x_2_3 + 4428*(s1//s2)*x_3_3^2 + 7636*(s1//s2)*x_3_3 - 2421*(s1//s2) - x_4_3, 7348*(s0//s2)*x_1_3^2 + 5781*(s0//s2)*x_1_3*x_2_3 + 1509*(s0//s2)*x_1_3*x_3_3 - 9670*(s0//s2)*x_1_3 - 5059*(s0//s2)*x_2_3^2 + 8644*(s0//s2)*x_2_3*x_3_3 - 7482*(s0//s2)*x_2_3 + 4428*(s0//s2)*x_3_3^2 + 7636*(s0//s2)*x_3_3 - 2421*(s0//s2) - x_5_3)\n",
       "    10: scheme(-(s1//s0)*x_5_4 + x_4_4, 7348*(s1//s0)*x_1_4^2 - 9670*(s1//s0)*x_1_4*x_2_4 + 5781*(s1//s0)*x_1_4*x_3_4 + 1509*(s1//s0)*x_1_4 - 2421*(s1//s0)*x_2_4^2 - 7482*(s1//s0)*x_2_4*x_3_4 + 7636*(s1//s0)*x_2_4 - 5059*(s1//s0)*x_3_4^2 + 8644*(s1//s0)*x_3_4 + 4428*(s1//s0) - (s2//s0)*x_4_4, -(s2//s0)*x_5_4 + 7348*x_1_4^2 - 9670*x_1_4*x_2_4 + 5781*x_1_4*x_3_4 + 1509*x_1_4 - 2421*x_2_4^2 - 7482*x_2_4*x_3_4 + 7636*x_2_4 - 5059*x_3_4^2 + 8644*x_3_4 + 4428)\n",
       "    11: scheme((s0//s1)*x_4_4 - x_5_4, -(s2//s1)*x_4_4 + 7348*x_1_4^2 - 9670*x_1_4*x_2_4 + 5781*x_1_4*x_3_4 + 1509*x_1_4 - 2421*x_2_4^2 - 7482*x_2_4*x_3_4 + 7636*x_2_4 - 5059*x_3_4^2 + 8644*x_3_4 + 4428, 7348*(s0//s1)*x_1_4^2 - 9670*(s0//s1)*x_1_4*x_2_4 + 5781*(s0//s1)*x_1_4*x_3_4 + 1509*(s0//s1)*x_1_4 - 2421*(s0//s1)*x_2_4^2 - 7482*(s0//s1)*x_2_4*x_3_4 + 7636*(s0//s1)*x_2_4 - 5059*(s0//s1)*x_3_4^2 + 8644*(s0//s1)*x_3_4 + 4428*(s0//s1) - (s2//s1)*x_5_4)\n",
       "    12: scheme((s0//s2)*x_4_4 - (s1//s2)*x_5_4, 7348*(s1//s2)*x_1_4^2 - 9670*(s1//s2)*x_1_4*x_2_4 + 5781*(s1//s2)*x_1_4*x_3_4 + 1509*(s1//s2)*x_1_4 - 2421*(s1//s2)*x_2_4^2 - 7482*(s1//s2)*x_2_4*x_3_4 + 7636*(s1//s2)*x_2_4 - 5059*(s1//s2)*x_3_4^2 + 8644*(s1//s2)*x_3_4 + 4428*(s1//s2) - x_4_4, 7348*(s0//s2)*x_1_4^2 - 9670*(s0//s2)*x_1_4*x_2_4 + 5781*(s0//s2)*x_1_4*x_3_4 + 1509*(s0//s2)*x_1_4 - 2421*(s0//s2)*x_2_4^2 - 7482*(s0//s2)*x_2_4*x_3_4 + 7636*(s0//s2)*x_2_4 - 5059*(s0//s2)*x_3_4^2 + 8644*(s0//s2)*x_3_4 + 4428*(s0//s2) - x_5_4)\n",
       "    13: normal, 5-dimensional toric variety\n",
       "    14: normal, 5-dimensional toric variety\n",
       "    15: normal, 5-dimensional toric variety\n",
       "    16: normal, 5-dimensional toric variety\n",
       "    17: normal, 5-dimensional toric variety\n",
       "    18: normal, 5-dimensional toric variety\n",
       "    19: normal, 5-dimensional toric variety\n",
       "    20: normal, 5-dimensional toric variety\n",
       "  in the coordinate(s)\n",
       "     1: [(s1//s0), (s2//s0), x_1_1, x_2_1, x_3_1, x_4_1, x_5_1]\n",
       "     2: [(s0//s1), (s2//s1), x_1_1, x_2_1, x_3_1, x_4_1, x_5_1]\n",
       "     3: [(s0//s2), (s1//s2), x_1_1, x_2_1, x_3_1, x_4_1, x_5_1]\n",
       "     4: [(s1//s0), (s2//s0), x_1_2, x_2_2, x_3_2, x_4_2, x_5_2]\n",
       "     5: [(s0//s1), (s2//s1), x_1_2, x_2_2, x_3_2, x_4_2, x_5_2]\n",
       "     6: [(s0//s2), (s1//s2), x_1_2, x_2_2, x_3_2, x_4_2, x_5_2]\n",
       "     7: [(s1//s0), (s2//s0), x_1_3, x_2_3, x_3_3, x_4_3, x_5_3]\n",
       "     8: [(s0//s1), (s2//s1), x_1_3, x_2_3, x_3_3, x_4_3, x_5_3]\n",
       "     9: [(s0//s2), (s1//s2), x_1_3, x_2_3, x_3_3, x_4_3, x_5_3]\n",
       "    10: [(s1//s0), (s2//s0), x_1_4, x_2_4, x_3_4, x_4_4, x_5_4]\n",
       "    11: [(s0//s1), (s2//s1), x_1_4, x_2_4, x_3_4, x_4_4, x_5_4]\n",
       "    12: [(s0//s2), (s1//s2), x_1_4, x_2_4, x_3_4, x_4_4, x_5_4]\n",
       "    13: [x_1_5, x_2_5, x_3_5, x_4_5, x_5_5, x_6_5]\n",
       "    14: [x_1_6, x_2_6, x_3_6, x_4_6, x_5_6, x_6_6]\n",
       "    15: [x_1_7, x_2_7, x_3_7, x_4_7, x_5_7, x_6_7]\n",
       "    16: [x_1_8, x_2_8, x_3_8, x_4_8, x_5_8, x_6_8]\n",
       "    17: [x_1_9, x_2_9, x_3_9, x_4_9, x_5_9, x_6_9]\n",
       "    18: [x_1_10, x_2_10, x_3_10, x_4_10, x_5_10, x_6_10]\n",
       "    19: [x_1_11, x_2_11, x_3_11, x_4_11, x_5_11, x_6_11]\n",
       "    20: [x_1_12, x_2_12, x_3_12, x_4_12, x_5_12, x_6_12]"
      ]
     },
     "execution_count": 49,
     "metadata": {},
     "output_type": "execute_result"
    }
   ],
   "source": [
    "ambient_space(t2_1)"
   ]
  },
  {
   "cell_type": "code",
   "execution_count": 50,
   "id": "2b1d54cd-475c-4aff-8dcd-98584826b328",
   "metadata": {},
   "outputs": [],
   "source": [
    "set_resolutions(t2, [[[[\"x\" , \"y\" , \"w\" ], [\"y\" , \"e1\" ], [\"x\" , \"e4\" ], [\"y\" , \"e2\" ], [\"x\" , \"y\" ]], [\"e1\" , \"e4\" , \"e2\" , \"e3\" , \"s\" ]]])"
   ]
  },
  {
   "cell_type": "code",
   "execution_count": 51,
   "id": "5cd3aa76-7cba-4263-b2d4-e6b697f63535",
   "metadata": {},
   "outputs": [],
   "source": [
    "explicit_model_sections(t2)[\"w\" ] = w;"
   ]
  },
  {
   "cell_type": "code",
   "execution_count": 52,
   "id": "e97b471a-5e93-4f68-805e-598ee384c732",
   "metadata": {},
   "outputs": [
    {
     "data": {
      "text/plain": [
       "Partially resolved global Tate model over a concrete base"
      ]
     },
     "execution_count": 52,
     "metadata": {},
     "output_type": "execute_result"
    }
   ],
   "source": [
    "t2_res = resolve(t2, 1)"
   ]
  },
  {
   "cell_type": "code",
   "execution_count": 53,
   "id": "3e31eb98-2f91-4302-9820-1d862c3efae1",
   "metadata": {},
   "outputs": [
    {
     "data": {
      "text/plain": [
       "\u001b[32m\u001b[1mTest Passed\u001b[22m\u001b[39m\n",
       "      Thrown: ArgumentError"
      ]
     },
     "execution_count": 53,
     "metadata": {},
     "output_type": "execute_result"
    }
   ],
   "source": [
    "@test_throws ArgumentError tate_polynomial(t2_res)"
   ]
  },
  {
   "cell_type": "code",
   "execution_count": 54,
   "id": "4fe36d1f-3df1-41f3-8194-1be818df03a4",
   "metadata": {},
   "outputs": [
    {
     "data": {
      "text/plain": [
       "Sheaf of ideals\n",
       "  on scheme over QQ covered with 48 patches\n",
       "     1: [(s1//s0), (s1//s0), (s2//s0), x_1_1, x_2_1, x_3_1]   scheme(0, -(s1//s0)*(s1//s0)^2*(s2//s0) + 7348*(s1//s0)*x_1_1^2 - 9670*(s1//s0)*x_1_1*x_2_1 + 1509*(s1//s0)*x_1_1*x_3_1 + 5781*(s1//s0)*x_1_1 - 2421*(s1//s0)*x_2_1^2 + 7636*(s1//s0)*x_2_1*x_3_1 - 7482*(s1//s0)*x_2_1 + 4428*(s1//s0)*x_3_1^2 + 8644*(s1//s0)*x_3_1 - 5059*(s1//s0), -(s1//s0)*(s1//s0)*(s2//s0) + 7348*x_1_1^2 - 9670*x_1_1*x_2_1 + 1509*x_1_1*x_3_1 + 5781*x_1_1 - 2421*x_2_1^2 + 7636*x_2_1*x_3_1 - 7482*x_2_1 + 4428*x_3_1^2 + 8644*x_3_1 - 5059, 0, 0)\n",
       "     2: [(s0//s1), (s2//s0), x_1_1, x_2_1, x_3_1, x_5_1]      scheme(0, -(s0//s1)*(s2//s0)*x_5_1^2 + 7348*(s0//s1)*x_1_1^2*x_5_1 - 9670*(s0//s1)*x_1_1*x_2_1*x_5_1 + 1509*(s0//s1)*x_1_1*x_3_1*x_5_1 + 5781*(s0//s1)*x_1_1*x_5_1 - 2421*(s0//s1)*x_2_1^2*x_5_1 + 7636*(s0//s1)*x_2_1*x_3_1*x_5_1 - 7482*(s0//s1)*x_2_1*x_5_1 + 4428*(s0//s1)*x_3_1^2*x_5_1 + 8644*(s0//s1)*x_3_1*x_5_1 - 5059*(s0//s1)*x_5_1, -(s2//s0)*x_5_1 + 7348*x_1_1^2 - 9670*x_1_1*x_2_1 + 1509*x_1_1*x_3_1 + 5781*x_1_1 - 2421*x_2_1^2 + 7636*x_2_1*x_3_1 - 7482*x_2_1 + 4428*x_3_1^2 + 8644*x_3_1 - 5059, 0, 0)\n",
       "     3: [(s0//s1), (s2//s1), x_1_1, x_2_1, x_3_1, x_4_1]      scheme(0, -(s2//s1)*x_4_1 + 7348*x_1_1^2 - 9670*x_1_1*x_2_1 + 1509*x_1_1*x_3_1 + 5781*x_1_1 - 2421*x_2_1^2 + 7636*x_2_1*x_3_1 - 7482*x_2_1 + 4428*x_3_1^2 + 8644*x_3_1 - 5059, -(s0//s1)*(s2//s1)*x_4_1 + 7348*(s0//s1)*x_1_1^2 - 9670*(s0//s1)*x_1_1*x_2_1 + 1509*(s0//s1)*x_1_1*x_3_1 + 5781*(s0//s1)*x_1_1 - 2421*(s0//s1)*x_2_1^2 + 7636*(s0//s1)*x_2_1*x_3_1 - 7482*(s0//s1)*x_2_1 + 4428*(s0//s1)*x_3_1^2 + 8644*(s0//s1)*x_3_1 - 5059*(s0//s1))\n",
       "     4: [(s1//s0), (s1//s0), (s0//s2), x_1_1, x_2_1, x_3_1]   scheme(0, -(s1//s0)^2*(s1//s0)*(s0//s2)^2 + 7348*(s1//s0)*(s0//s2)*x_1_1^2 - 9670*(s1//s0)*(s0//s2)*x_1_1*x_2_1 + 1509*(s1//s0)*(s0//s2)*x_1_1*x_3_1 + 5781*(s1//s0)*(s0//s2)*x_1_1 - 2421*(s1//s0)*(s0//s2)*x_2_1^2 + 7636*(s1//s0)*(s0//s2)*x_2_1*x_3_1 - 7482*(s1//s0)*(s0//s2)*x_2_1 + 4428*(s1//s0)*(s0//s2)*x_3_1^2 + 8644*(s1//s0)*(s0//s2)*x_3_1 - 5059*(s1//s0)*(s0//s2), -(s1//s0)*(s1//s0)*(s0//s2)^2 + 7348*(s0//s2)*x_1_1^2 - 9670*(s0//s2)*x_1_1*x_2_1 + 1509*(s0//s2)*x_1_1*x_3_1 + 5781*(s0//s2)*x_1_1 - 2421*(s0//s2)*x_2_1^2 + 7636*(s0//s2)*x_2_1*x_3_1 - 7482*(s0//s2)*x_2_1 + 4428*(s0//s2)*x_3_1^2 + 8644*(s0//s2)*x_3_1 - 5059*(s0//s2), -(s1//s0)*(s1//s0)*(s0//s2) + 7348*x_1_1^2 - 9670*x_1_1*x_2_1 + 1509*x_1_1*x_3_1 + 5781*x_1_1 - 2421*x_2_1^2 + 7636*x_2_1*x_3_1 - 7482*x_2_1 + 4428*x_3_1^2 + 8644*x_3_1 - 5059, 0, 0, 0, 0)\n",
       "     5: [(s0//s1), (s1//s0), (s1//s2), x_1_1, x_2_1, x_3_1]   scheme(0, -(s1//s0)*(s1//s2)^2 + 7348*(s1//s2)*x_1_1^2 - 9670*(s1//s2)*x_1_1*x_2_1 + 1509*(s1//s2)*x_1_1*x_3_1 + 5781*(s1//s2)*x_1_1 - 2421*(s1//s2)*x_2_1^2 + 7636*(s1//s2)*x_2_1*x_3_1 - 7482*(s1//s2)*x_2_1 + 4428*(s1//s2)*x_3_1^2 + 8644*(s1//s2)*x_3_1 - 5059*(s1//s2), -(s0//s1)*(s1//s0)*(s1//s2)^2 + 7348*(s0//s1)*(s1//s2)*x_1_1^2 - 9670*(s0//s1)*(s1//s2)*x_1_1*x_2_1 + 1509*(s0//s1)*(s1//s2)*x_1_1*x_3_1 + 5781*(s0//s1)*(s1//s2)*x_1_1 - 2421*(s0//s1)*(s1//s2)*x_2_1^2 + 7636*(s0//s1)*(s1//s2)*x_2_1*x_3_1 - 7482*(s0//s1)*(s1//s2)*x_2_1 + 4428*(s0//s1)*(s1//s2)*x_3_1^2 + 8644*(s0//s1)*(s1//s2)*x_3_1 - 5059*(s0//s1)*(s1//s2), -(s1//s0)*(s1//s2) + 7348*x_1_1^2 - 9670*x_1_1*x_2_1 + 1509*x_1_1*x_3_1 + 5781*x_1_1 - 2421*x_2_1^2 + 7636*x_2_1*x_3_1 - 7482*x_2_1 + 4428*x_3_1^2 + 8644*x_3_1 - 5059, 0, 0, 0, 0)\n",
       "     6: [(s1//s0), (s1//s0), (s0//s1), x_1_1, x_2_1, x_3_1]   scheme(0, -(s1//s0)^2*(s1//s0)^2*(s0//s1)^3 + 7348*(s1//s0)*(s1//s0)*(s0//s1)^2*x_1_1^2 - 9670*(s1//s0)*(s1//s0)*(s0//s1)^2*x_1_1*x_2_1 + 1509*(s1//s0)*(s1//s0)*(s0//s1)^2*x_1_1*x_3_1 + 5781*(s1//s0)*(s1//s0)*(s0//s1)^2*x_1_1 - 2421*(s1//s0)*(s1//s0)*(s0//s1)^2*x_2_1^2 + 7636*(s1//s0)*(s1//s0)*(s0//s1)^2*x_2_1*x_3_1 - 7482*(s1//s0)*(s1//s0)*(s0//s1)^2*x_2_1 + 4428*(s1//s0)*(s1//s0)*(s0//s1)^2*x_3_1^2 + 8644*(s1//s0)*(s1//s0)*(s0//s1)^2*x_3_1 - 5059*(s1//s0)*(s1//s0)*(s0//s1)^2, -(s1//s0)^2*(s1//s0)*(s0//s1)^2 + 7348*(s1//s0)*(s0//s1)*x_1_1^2 - 9670*(s1//s0)*(s0//s1)*x_1_1*x_2_1 + 1509*(s1//s0)*(s0//s1)*x_1_1*x_3_1 + 5781*(s1//s0)*(s0//s1)*x_1_1 - 2421*(s1//s0)*(s0//s1)*x_2_1^2 + 7636*(s1//s0)*(s0//s1)*x_2_1*x_3_1 - 7482*(s1//s0)*(s0//s1)*x_2_1 + 4428*(s1//s0)*(s0//s1)*x_3_1^2 + 8644*(s1//s0)*(s0//s1)*x_3_1 - 5059*(s1//s0)*(s0//s1), -(s1//s0)*(s1//s0)*(s0//s1)^2 + 7348*(s0//s1)*x_1_1^2 - 9670*(s0//s1)*x_1_1*x_2_1 + 1509*(s0//s1)*x_1_1*x_3_1 + 5781*(s0//s1)*x_1_1 - 2421*(s0//s1)*x_2_1^2 + 7636*(s0//s1)*x_2_1*x_3_1 - 7482*(s0//s1)*x_2_1 + 4428*(s0//s1)*x_3_1^2 + 8644*(s0//s1)*x_3_1 - 5059*(s0//s1), 0, 0, 0, -(s1//s0)*(s1//s0)*(s0//s1) + 7348*x_1_1^2 - 9670*x_1_1*x_2_1 + 1509*x_1_1*x_3_1 + 5781*x_1_1 - 2421*x_2_1^2 + 7636*x_2_1*x_3_1 - 7482*x_2_1 + 4428*x_3_1^2 + 8644*x_3_1 - 5059, 0, 0, 0, 0, -(s1//s0)^3*(s1//s0)^2*(s0//s1)^3 + 7348*(s1//s0)^2*(s1//s0)*(s0//s1)^2*x_1_1^2 - 9670*(s1//s0)^2*(s1//s0)*(s0//s1)^2*x_1_1*x_2_1 + 1509*(s1//s0)^2*(s1//s0)*(s0//s1)^2*x_1_1*x_3_1 + 5781*(s1//s0)^2*(s1//s0)*(s0//s1)^2*x_1_1 - 2421*(s1//s0)^2*(s1//s0)*(s0//s1)^2*x_2_1^2 + 7636*(s1//s0)^2*(s1//s0)*(s0//s1)^2*x_2_1*x_3_1 - 7482*(s1//s0)^2*(s1//s0)*(s0//s1)^2*x_2_1 + 4428*(s1//s0)^2*(s1//s0)*(s0//s1)^2*x_3_1^2 + 8644*(s1//s0)^2*(s1//s0)*(s0//s1)^2*x_3_1 - 5059*(s1//s0)^2*(s1//s0)*(s0//s1)^2, 0, 0)\n",
       "     7: [(s0//s1), (s1//s0), (s0//s2), x_1_1, x_2_1, x_3_1]   scheme(0, -(s0//s1)*(s1//s0)^2*(s0//s2)^3 + 7348*(s0//s1)*(s1//s0)*(s0//s2)^2*x_1_1^2 - 9670*(s0//s1)*(s1//s0)*(s0//s2)^2*x_1_1*x_2_1 + 1509*(s0//s1)*(s1//s0)*(s0//s2)^2*x_1_1*x_3_1 + 5781*(s0//s1)*(s1//s0)*(s0//s2)^2*x_1_1 - 2421*(s0//s1)*(s1//s0)*(s0//s2)^2*x_2_1^2 + 7636*(s0//s1)*(s1//s0)*(s0//s2)^2*x_2_1*x_3_1 - 7482*(s0//s1)*(s1//s0)*(s0//s2)^2*x_2_1 + 4428*(s0//s1)*(s1//s0)*(s0//s2)^2*x_3_1^2 + 8644*(s0//s1)*(s1//s0)*(s0//s2)^2*x_3_1 - 5059*(s0//s1)*(s1//s0)*(s0//s2)^2, -(s1//s0)*(s0//s2)^2 + 7348*(s0//s2)*x_1_1^2 - 9670*(s0//s2)*x_1_1*x_2_1 + 1509*(s0//s2)*x_1_1*x_3_1 + 5781*(s0//s2)*x_1_1 - 2421*(s0//s2)*x_2_1^2 + 7636*(s0//s2)*x_2_1*x_3_1 - 7482*(s0//s2)*x_2_1 + 4428*(s0//s2)*x_3_1^2 + 8644*(s0//s2)*x_3_1 - 5059*(s0//s2), -(s0//s1)*(s1//s0)*(s0//s2)^2 + 7348*(s0//s1)*(s0//s2)*x_1_1^2 - 9670*(s0//s1)*(s0//s2)*x_1_1*x_2_1 + 1509*(s0//s1)*(s0//s2)*x_1_1*x_3_1 + 5781*(s0//s1)*(s0//s2)*x_1_1 - 2421*(s0//s1)*(s0//s2)*x_2_1^2 + 7636*(s0//s1)*(s0//s2)*x_2_1*x_3_1 - 7482*(s0//s1)*(s0//s2)*x_2_1 + 4428*(s0//s1)*(s0//s2)*x_3_1^2 + 8644*(s0//s1)*(s0//s2)*x_3_1 - 5059*(s0//s1)*(s0//s2), 0, 0, 0, -(s1//s0)*(s0//s2) + 7348*x_1_1^2 - 9670*x_1_1*x_2_1 + 1509*x_1_1*x_3_1 + 5781*x_1_1 - 2421*x_2_1^2 + 7636*x_2_1*x_3_1 - 7482*x_2_1 + 4428*x_3_1^2 + 8644*x_3_1 - 5059, 0, 0, 0, 0, -(s0//s1)*(s1//s0)^2*(s0//s2)^3 + 7348*(s0//s1)*(s1//s0)*(s0//s2)^2*x_1_1^2 - 9670*(s0//s1)*(s1//s0)*(s0//s2)^2*x_1_1*x_2_1 + 1509*(s0//s1)*(s1//s0)*(s0//s2)^2*x_1_1*x_3_1 + 5781*(s0//s1)*(s1//s0)*(s0//s2)^2*x_1_1 - 2421*(s0//s1)*(s1//s0)*(s0//s2)^2*x_2_1^2 + 7636*(s0//s1)*(s1//s0)*(s0//s2)^2*x_2_1*x_3_1 - 7482*(s0//s1)*(s1//s0)*(s0//s2)^2*x_2_1 + 4428*(s0//s1)*(s1//s0)*(s0//s2)^2*x_3_1^2 + 8644*(s0//s1)*(s1//s0)*(s0//s2)^2*x_3_1 - 5059*(s0//s1)*(s1//s0)*(s0//s2)^2, 0, 0)\n",
       "     8: [(s1//s0), (s0//s1), (s0//s1), x_1_1, x_2_1, x_3_1]   scheme(0, -(s1//s0)^2*(s0//s1)^3 + 7348*(s1//s0)*(s0//s1)^2*x_1_1^2 - 9670*(s1//s0)*(s0//s1)^2*x_1_1*x_2_1 + 1509*(s1//s0)*(s0//s1)^2*x_1_1*x_3_1 + 5781*(s1//s0)*(s0//s1)^2*x_1_1 - 2421*(s1//s0)*(s0//s1)^2*x_2_1^2 + 7636*(s1//s0)*(s0//s1)^2*x_2_1*x_3_1 - 7482*(s1//s0)*(s0//s1)^2*x_2_1 + 4428*(s1//s0)*(s0//s1)^2*x_3_1^2 + 8644*(s1//s0)*(s0//s1)^2*x_3_1 - 5059*(s1//s0)*(s0//s1)^2, -(s1//s0)^2*(s0//s1)*(s0//s1)^2 + 7348*(s1//s0)*(s0//s1)*(s0//s1)*x_1_1^2 - 9670*(s1//s0)*(s0//s1)*(s0//s1)*x_1_1*x_2_1 + 1509*(s1//s0)*(s0//s1)*(s0//s1)*x_1_1*x_3_1 + 5781*(s1//s0)*(s0//s1)*(s0//s1)*x_1_1 - 2421*(s1//s0)*(s0//s1)*(s0//s1)*x_2_1^2 + 7636*(s1//s0)*(s0//s1)*(s0//s1)*x_2_1*x_3_1 - 7482*(s1//s0)*(s0//s1)*(s0//s1)*x_2_1 + 4428*(s1//s0)*(s0//s1)*(s0//s1)*x_3_1^2 + 8644*(s1//s0)*(s0//s1)*(s0//s1)*x_3_1 - 5059*(s1//s0)*(s0//s1)*(s0//s1), -(s1//s0)*(s0//s1)^2 + 7348*(s0//s1)*x_1_1^2 - 9670*(s0//s1)*x_1_1*x_2_1 + 1509*(s0//s1)*x_1_1*x_3_1 + 5781*(s0//s1)*x_1_1 - 2421*(s0//s1)*x_2_1^2 + 7636*(s0//s1)*x_2_1*x_3_1 - 7482*(s0//s1)*x_2_1 + 4428*(s0//s1)*x_3_1^2 + 8644*(s0//s1)*x_3_1 - 5059*(s0//s1), 0, 0, 0, -(s1//s0)*(s0//s1)*(s0//s1) + 7348*(s0//s1)*x_1_1^2 - 9670*(s0//s1)*x_1_1*x_2_1 + 1509*(s0//s1)*x_1_1*x_3_1 + 5781*(s0//s1)*x_1_1 - 2421*(s0//s1)*x_2_1^2 + 7636*(s0//s1)*x_2_1*x_3_1 - 7482*(s0//s1)*x_2_1 + 4428*(s0//s1)*x_3_1^2 + 8644*(s0//s1)*x_3_1 - 5059*(s0//s1), 0, 0, -(s1//s0)*(s0//s1) + 7348*x_1_1^2 - 9670*x_1_1*x_2_1 + 1509*x_1_1*x_3_1 + 5781*x_1_1 - 2421*x_2_1^2 + 7636*x_2_1*x_3_1 - 7482*x_2_1 + 4428*x_3_1^2 + 8644*x_3_1 - 5059, 0, 0, 0, 0)\n",
       "     9: [(s1//s0), (s0//s1), x_1_1, x_2_1, x_3_1]             scheme(0, 0, 0, 0, 0, 0, 0, 0, 0, 0, 0, 0, 0, 0, 0, 0, 0, 0, 0)\n",
       "    10: [(s0//s1), (s0//s1), x_1_1, x_2_1, x_3_1]             scheme(0, 0, 0, 0, 0, 0, 0, 0, 0, 0, 0, 0, 0, 0, 0, 0, 0, 0, 0)\n",
       "    11: [(s1//s0), (s1//s0), (s2//s0), x_1_2, x_2_2, x_3_2]   scheme(0, -(s1//s0)*(s1//s0)^2*(s2//s0) + 5059*(s1//s0)*x_1_2^2 + 7482*(s1//s0)*x_1_2*x_2_2 - 8644*(s1//s0)*x_1_2*x_3_2 - 5781*(s1//s0)*x_1_2 + 2421*(s1//s0)*x_2_2^2 - 7636*(s1//s0)*x_2_2*x_3_2 + 9670*(s1//s0)*x_2_2 - 4428*(s1//s0)*x_3_2^2 - 1509*(s1//s0)*x_3_2 - 7348*(s1//s0), -(s1//s0)*(s1//s0)*(s2//s0) + 5059*x_1_2^2 + 7482*x_1_2*x_2_2 - 8644*x_1_2*x_3_2 - 5781*x_1_2 + 2421*x_2_2^2 - 7636*x_2_2*x_3_2 + 9670*x_2_2 - 4428*x_3_2^2 - 1509*x_3_2 - 7348, 0, 0)\n",
       "    12: [(s0//s1), (s2//s0), x_1_2, x_2_2, x_3_2, x_5_2]      scheme(0, -(s0//s1)*(s2//s0)*x_5_2^2 + 5059*(s0//s1)*x_1_2^2*x_5_2 + 7482*(s0//s1)*x_1_2*x_2_2*x_5_2 - 8644*(s0//s1)*x_1_2*x_3_2*x_5_2 - 5781*(s0//s1)*x_1_2*x_5_2 + 2421*(s0//s1)*x_2_2^2*x_5_2 - 7636*(s0//s1)*x_2_2*x_3_2*x_5_2 + 9670*(s0//s1)*x_2_2*x_5_2 - 4428*(s0//s1)*x_3_2^2*x_5_2 - 1509*(s0//s1)*x_3_2*x_5_2 - 7348*(s0//s1)*x_5_2, -(s2//s0)*x_5_2 + 5059*x_1_2^2 + 7482*x_1_2*x_2_2 - 8644*x_1_2*x_3_2 - 5781*x_1_2 + 2421*x_2_2^2 - 7636*x_2_2*x_3_2 + 9670*x_2_2 - 4428*x_3_2^2 - 1509*x_3_2 - 7348, 0, 0)\n",
       "    13: [(s0//s1), (s2//s1), x_1_2, x_2_2, x_3_2, x_4_2]      scheme(0, -(s2//s1)*x_4_2 + 5059*x_1_2^2 + 7482*x_1_2*x_2_2 - 8644*x_1_2*x_3_2 - 5781*x_1_2 + 2421*x_2_2^2 - 7636*x_2_2*x_3_2 + 9670*x_2_2 - 4428*x_3_2^2 - 1509*x_3_2 - 7348, -(s0//s1)*(s2//s1)*x_4_2 + 5059*(s0//s1)*x_1_2^2 + 7482*(s0//s1)*x_1_2*x_2_2 - 8644*(s0//s1)*x_1_2*x_3_2 - 5781*(s0//s1)*x_1_2 + 2421*(s0//s1)*x_2_2^2 - 7636*(s0//s1)*x_2_2*x_3_2 + 9670*(s0//s1)*x_2_2 - 4428*(s0//s1)*x_3_2^2 - 1509*(s0//s1)*x_3_2 - 7348*(s0//s1))\n",
       "    14: [(s1//s0), (s1//s0), (s0//s2), x_1_2, x_2_2, x_3_2]   scheme(0, -(s1//s0)^2*(s1//s0)*(s0//s2)^2 + 5059*(s1//s0)*(s0//s2)*x_1_2^2 + 7482*(s1//s0)*(s0//s2)*x_1_2*x_2_2 - 8644*(s1//s0)*(s0//s2)*x_1_2*x_3_2 - 5781*(s1//s0)*(s0//s2)*x_1_2 + 2421*(s1//s0)*(s0//s2)*x_2_2^2 - 7636*(s1//s0)*(s0//s2)*x_2_2*x_3_2 + 9670*(s1//s0)*(s0//s2)*x_2_2 - 4428*(s1//s0)*(s0//s2)*x_3_2^2 - 1509*(s1//s0)*(s0//s2)*x_3_2 - 7348*(s1//s0)*(s0//s2), -(s1//s0)*(s1//s0)*(s0//s2)^2 + 5059*(s0//s2)*x_1_2^2 + 7482*(s0//s2)*x_1_2*x_2_2 - 8644*(s0//s2)*x_1_2*x_3_2 - 5781*(s0//s2)*x_1_2 + 2421*(s0//s2)*x_2_2^2 - 7636*(s0//s2)*x_2_2*x_3_2 + 9670*(s0//s2)*x_2_2 - 4428*(s0//s2)*x_3_2^2 - 1509*(s0//s2)*x_3_2 - 7348*(s0//s2), -(s1//s0)*(s1//s0)*(s0//s2) + 5059*x_1_2^2 + 7482*x_1_2*x_2_2 - 8644*x_1_2*x_3_2 - 5781*x_1_2 + 2421*x_2_2^2 - 7636*x_2_2*x_3_2 + 9670*x_2_2 - 4428*x_3_2^2 - 1509*x_3_2 - 7348, 0, 0, 0, 0)\n",
       "    15: [(s0//s1), (s1//s0), (s1//s2), x_1_2, x_2_2, x_3_2]   scheme(0, -(s1//s0)*(s1//s2)^2 + 5059*(s1//s2)*x_1_2^2 + 7482*(s1//s2)*x_1_2*x_2_2 - 8644*(s1//s2)*x_1_2*x_3_2 - 5781*(s1//s2)*x_1_2 + 2421*(s1//s2)*x_2_2^2 - 7636*(s1//s2)*x_2_2*x_3_2 + 9670*(s1//s2)*x_2_2 - 4428*(s1//s2)*x_3_2^2 - 1509*(s1//s2)*x_3_2 - 7348*(s1//s2), -(s0//s1)*(s1//s0)*(s1//s2)^2 + 5059*(s0//s1)*(s1//s2)*x_1_2^2 + 7482*(s0//s1)*(s1//s2)*x_1_2*x_2_2 - 8644*(s0//s1)*(s1//s2)*x_1_2*x_3_2 - 5781*(s0//s1)*(s1//s2)*x_1_2 + 2421*(s0//s1)*(s1//s2)*x_2_2^2 - 7636*(s0//s1)*(s1//s2)*x_2_2*x_3_2 + 9670*(s0//s1)*(s1//s2)*x_2_2 - 4428*(s0//s1)*(s1//s2)*x_3_2^2 - 1509*(s0//s1)*(s1//s2)*x_3_2 - 7348*(s0//s1)*(s1//s2), -(s1//s0)*(s1//s2) + 5059*x_1_2^2 + 7482*x_1_2*x_2_2 - 8644*x_1_2*x_3_2 - 5781*x_1_2 + 2421*x_2_2^2 - 7636*x_2_2*x_3_2 + 9670*x_2_2 - 4428*x_3_2^2 - 1509*x_3_2 - 7348, 0, 0, 0, 0)\n",
       "    16: [(s1//s0), (s1//s0), (s0//s1), x_1_2, x_2_2, x_3_2]   scheme(0, -(s1//s0)^2*(s1//s0)^2*(s0//s1)^3 + 5059*(s1//s0)*(s1//s0)*(s0//s1)^2*x_1_2^2 + 7482*(s1//s0)*(s1//s0)*(s0//s1)^2*x_1_2*x_2_2 - 8644*(s1//s0)*(s1//s0)*(s0//s1)^2*x_1_2*x_3_2 - 5781*(s1//s0)*(s1//s0)*(s0//s1)^2*x_1_2 + 2421*(s1//s0)*(s1//s0)*(s0//s1)^2*x_2_2^2 - 7636*(s1//s0)*(s1//s0)*(s0//s1)^2*x_2_2*x_3_2 + 9670*(s1//s0)*(s1//s0)*(s0//s1)^2*x_2_2 - 4428*(s1//s0)*(s1//s0)*(s0//s1)^2*x_3_2^2 - 1509*(s1//s0)*(s1//s0)*(s0//s1)^2*x_3_2 - 7348*(s1//s0)*(s1//s0)*(s0//s1)^2, -(s1//s0)^2*(s1//s0)*(s0//s1)^2 + 5059*(s1//s0)*(s0//s1)*x_1_2^2 + 7482*(s1//s0)*(s0//s1)*x_1_2*x_2_2 - 8644*(s1//s0)*(s0//s1)*x_1_2*x_3_2 - 5781*(s1//s0)*(s0//s1)*x_1_2 + 2421*(s1//s0)*(s0//s1)*x_2_2^2 - 7636*(s1//s0)*(s0//s1)*x_2_2*x_3_2 + 9670*(s1//s0)*(s0//s1)*x_2_2 - 4428*(s1//s0)*(s0//s1)*x_3_2^2 - 1509*(s1//s0)*(s0//s1)*x_3_2 - 7348*(s1//s0)*(s0//s1), -(s1//s0)*(s1//s0)*(s0//s1)^2 + 5059*(s0//s1)*x_1_2^2 + 7482*(s0//s1)*x_1_2*x_2_2 - 8644*(s0//s1)*x_1_2*x_3_2 - 5781*(s0//s1)*x_1_2 + 2421*(s0//s1)*x_2_2^2 - 7636*(s0//s1)*x_2_2*x_3_2 + 9670*(s0//s1)*x_2_2 - 4428*(s0//s1)*x_3_2^2 - 1509*(s0//s1)*x_3_2 - 7348*(s0//s1), 0, 0, 0, -(s1//s0)*(s1//s0)*(s0//s1) + 5059*x_1_2^2 + 7482*x_1_2*x_2_2 - 8644*x_1_2*x_3_2 - 5781*x_1_2 + 2421*x_2_2^2 - 7636*x_2_2*x_3_2 + 9670*x_2_2 - 4428*x_3_2^2 - 1509*x_3_2 - 7348, 0, 0, 0, 0, -(s1//s0)^3*(s1//s0)^2*(s0//s1)^3 + 5059*(s1//s0)^2*(s1//s0)*(s0//s1)^2*x_1_2^2 + 7482*(s1//s0)^2*(s1//s0)*(s0//s1)^2*x_1_2*x_2_2 - 8644*(s1//s0)^2*(s1//s0)*(s0//s1)^2*x_1_2*x_3_2 - 5781*(s1//s0)^2*(s1//s0)*(s0//s1)^2*x_1_2 + 2421*(s1//s0)^2*(s1//s0)*(s0//s1)^2*x_2_2^2 - 7636*(s1//s0)^2*(s1//s0)*(s0//s1)^2*x_2_2*x_3_2 + 9670*(s1//s0)^2*(s1//s0)*(s0//s1)^2*x_2_2 - 4428*(s1//s0)^2*(s1//s0)*(s0//s1)^2*x_3_2^2 - 1509*(s1//s0)^2*(s1//s0)*(s0//s1)^2*x_3_2 - 7348*(s1//s0)^2*(s1//s0)*(s0//s1)^2, 0, 0)\n",
       "    17: [(s0//s1), (s1//s0), (s0//s2), x_1_2, x_2_2, x_3_2]   scheme(0, -(s0//s1)*(s1//s0)^2*(s0//s2)^3 + 5059*(s0//s1)*(s1//s0)*(s0//s2)^2*x_1_2^2 + 7482*(s0//s1)*(s1//s0)*(s0//s2)^2*x_1_2*x_2_2 - 8644*(s0//s1)*(s1//s0)*(s0//s2)^2*x_1_2*x_3_2 - 5781*(s0//s1)*(s1//s0)*(s0//s2)^2*x_1_2 + 2421*(s0//s1)*(s1//s0)*(s0//s2)^2*x_2_2^2 - 7636*(s0//s1)*(s1//s0)*(s0//s2)^2*x_2_2*x_3_2 + 9670*(s0//s1)*(s1//s0)*(s0//s2)^2*x_2_2 - 4428*(s0//s1)*(s1//s0)*(s0//s2)^2*x_3_2^2 - 1509*(s0//s1)*(s1//s0)*(s0//s2)^2*x_3_2 - 7348*(s0//s1)*(s1//s0)*(s0//s2)^2, -(s1//s0)*(s0//s2)^2 + 5059*(s0//s2)*x_1_2^2 + 7482*(s0//s2)*x_1_2*x_2_2 - 8644*(s0//s2)*x_1_2*x_3_2 - 5781*(s0//s2)*x_1_2 + 2421*(s0//s2)*x_2_2^2 - 7636*(s0//s2)*x_2_2*x_3_2 + 9670*(s0//s2)*x_2_2 - 4428*(s0//s2)*x_3_2^2 - 1509*(s0//s2)*x_3_2 - 7348*(s0//s2), -(s0//s1)*(s1//s0)*(s0//s2)^2 + 5059*(s0//s1)*(s0//s2)*x_1_2^2 + 7482*(s0//s1)*(s0//s2)*x_1_2*x_2_2 - 8644*(s0//s1)*(s0//s2)*x_1_2*x_3_2 - 5781*(s0//s1)*(s0//s2)*x_1_2 + 2421*(s0//s1)*(s0//s2)*x_2_2^2 - 7636*(s0//s1)*(s0//s2)*x_2_2*x_3_2 + 9670*(s0//s1)*(s0//s2)*x_2_2 - 4428*(s0//s1)*(s0//s2)*x_3_2^2 - 1509*(s0//s1)*(s0//s2)*x_3_2 - 7348*(s0//s1)*(s0//s2), 0, 0, 0, -(s1//s0)*(s0//s2) + 5059*x_1_2^2 + 7482*x_1_2*x_2_2 - 8644*x_1_2*x_3_2 - 5781*x_1_2 + 2421*x_2_2^2 - 7636*x_2_2*x_3_2 + 9670*x_2_2 - 4428*x_3_2^2 - 1509*x_3_2 - 7348, 0, 0, 0, 0, -(s0//s1)*(s1//s0)^2*(s0//s2)^3 + 5059*(s0//s1)*(s1//s0)*(s0//s2)^2*x_1_2^2 + 7482*(s0//s1)*(s1//s0)*(s0//s2)^2*x_1_2*x_2_2 - 8644*(s0//s1)*(s1//s0)*(s0//s2)^2*x_1_2*x_3_2 - 5781*(s0//s1)*(s1//s0)*(s0//s2)^2*x_1_2 + 2421*(s0//s1)*(s1//s0)*(s0//s2)^2*x_2_2^2 - 7636*(s0//s1)*(s1//s0)*(s0//s2)^2*x_2_2*x_3_2 + 9670*(s0//s1)*(s1//s0)*(s0//s2)^2*x_2_2 - 4428*(s0//s1)*(s1//s0)*(s0//s2)^2*x_3_2^2 - 1509*(s0//s1)*(s1//s0)*(s0//s2)^2*x_3_2 - 7348*(s0//s1)*(s1//s0)*(s0//s2)^2, 0, 0)\n",
       "    18: [(s1//s0), (s0//s1), (s0//s1), x_1_2, x_2_2, x_3_2]   scheme(0, -(s1//s0)^2*(s0//s1)^3 + 5059*(s1//s0)*(s0//s1)^2*x_1_2^2 + 7482*(s1//s0)*(s0//s1)^2*x_1_2*x_2_2 - 8644*(s1//s0)*(s0//s1)^2*x_1_2*x_3_2 - 5781*(s1//s0)*(s0//s1)^2*x_1_2 + 2421*(s1//s0)*(s0//s1)^2*x_2_2^2 - 7636*(s1//s0)*(s0//s1)^2*x_2_2*x_3_2 + 9670*(s1//s0)*(s0//s1)^2*x_2_2 - 4428*(s1//s0)*(s0//s1)^2*x_3_2^2 - 1509*(s1//s0)*(s0//s1)^2*x_3_2 - 7348*(s1//s0)*(s0//s1)^2, -(s1//s0)^2*(s0//s1)*(s0//s1)^2 + 5059*(s1//s0)*(s0//s1)*(s0//s1)*x_1_2^2 + 7482*(s1//s0)*(s0//s1)*(s0//s1)*x_1_2*x_2_2 - 8644*(s1//s0)*(s0//s1)*(s0//s1)*x_1_2*x_3_2 - 5781*(s1//s0)*(s0//s1)*(s0//s1)*x_1_2 + 2421*(s1//s0)*(s0//s1)*(s0//s1)*x_2_2^2 - 7636*(s1//s0)*(s0//s1)*(s0//s1)*x_2_2*x_3_2 + 9670*(s1//s0)*(s0//s1)*(s0//s1)*x_2_2 - 4428*(s1//s0)*(s0//s1)*(s0//s1)*x_3_2^2 - 1509*(s1//s0)*(s0//s1)*(s0//s1)*x_3_2 - 7348*(s1//s0)*(s0//s1)*(s0//s1), -(s1//s0)*(s0//s1)^2 + 5059*(s0//s1)*x_1_2^2 + 7482*(s0//s1)*x_1_2*x_2_2 - 8644*(s0//s1)*x_1_2*x_3_2 - 5781*(s0//s1)*x_1_2 + 2421*(s0//s1)*x_2_2^2 - 7636*(s0//s1)*x_2_2*x_3_2 + 9670*(s0//s1)*x_2_2 - 4428*(s0//s1)*x_3_2^2 - 1509*(s0//s1)*x_3_2 - 7348*(s0//s1), 0, 0, 0, -(s1//s0)*(s0//s1)*(s0//s1) + 5059*(s0//s1)*x_1_2^2 + 7482*(s0//s1)*x_1_2*x_2_2 - 8644*(s0//s1)*x_1_2*x_3_2 - 5781*(s0//s1)*x_1_2 + 2421*(s0//s1)*x_2_2^2 - 7636*(s0//s1)*x_2_2*x_3_2 + 9670*(s0//s1)*x_2_2 - 4428*(s0//s1)*x_3_2^2 - 1509*(s0//s1)*x_3_2 - 7348*(s0//s1), 0, 0, -(s1//s0)*(s0//s1) + 5059*x_1_2^2 + 7482*x_1_2*x_2_2 - 8644*x_1_2*x_3_2 - 5781*x_1_2 + 2421*x_2_2^2 - 7636*x_2_2*x_3_2 + 9670*x_2_2 - 4428*x_3_2^2 - 1509*x_3_2 - 7348, 0, 0, 0, 0)\n",
       "    19: [(s1//s0), (s0//s1), x_1_2, x_2_2, x_3_2]             scheme(0, 0, 0, 0, 0, 0, 0, 0, 0, 0, 0, 0, 0, 0, 0, 0, 0, 0, 0)\n",
       "    20: [(s0//s1), (s0//s1), x_1_2, x_2_2, x_3_2]             scheme(0, 0, 0, 0, 0, 0, 0, 0, 0, 0, 0, 0, 0, 0, 0, 0, 0, 0, 0)\n",
       "    21: [(s1//s0), (s1//s0), (s2//s0), x_1_3, x_2_3, x_3_3]   scheme(0, -(s1//s0)*(s1//s0)^2*(s2//s0) + 7348*(s1//s0)*x_1_3^2 + 5781*(s1//s0)*x_1_3*x_2_3 + 1509*(s1//s0)*x_1_3*x_3_3 - 9670*(s1//s0)*x_1_3 - 5059*(s1//s0)*x_2_3^2 + 8644*(s1//s0)*x_2_3*x_3_3 - 7482*(s1//s0)*x_2_3 + 4428*(s1//s0)*x_3_3^2 + 7636*(s1//s0)*x_3_3 - 2421*(s1//s0), -(s1//s0)*(s1//s0)*(s2//s0) + 7348*x_1_3^2 + 5781*x_1_3*x_2_3 + 1509*x_1_3*x_3_3 - 9670*x_1_3 - 5059*x_2_3^2 + 8644*x_2_3*x_3_3 - 7482*x_2_3 + 4428*x_3_3^2 + 7636*x_3_3 - 2421, 0, 0)\n",
       "    22: [(s0//s1), (s2//s0), x_1_3, x_2_3, x_3_3, x_5_3]      scheme(0, -(s0//s1)*(s2//s0)*x_5_3^2 + 7348*(s0//s1)*x_1_3^2*x_5_3 + 5781*(s0//s1)*x_1_3*x_2_3*x_5_3 + 1509*(s0//s1)*x_1_3*x_3_3*x_5_3 - 9670*(s0//s1)*x_1_3*x_5_3 - 5059*(s0//s1)*x_2_3^2*x_5_3 + 8644*(s0//s1)*x_2_3*x_3_3*x_5_3 - 7482*(s0//s1)*x_2_3*x_5_3 + 4428*(s0//s1)*x_3_3^2*x_5_3 + 7636*(s0//s1)*x_3_3*x_5_3 - 2421*(s0//s1)*x_5_3, -(s2//s0)*x_5_3 + 7348*x_1_3^2 + 5781*x_1_3*x_2_3 + 1509*x_1_3*x_3_3 - 9670*x_1_3 - 5059*x_2_3^2 + 8644*x_2_3*x_3_3 - 7482*x_2_3 + 4428*x_3_3^2 + 7636*x_3_3 - 2421, 0, 0)\n",
       "    23: [(s0//s1), (s2//s1), x_1_3, x_2_3, x_3_3, x_4_3]      scheme(0, -(s2//s1)*x_4_3 + 7348*x_1_3^2 + 5781*x_1_3*x_2_3 + 1509*x_1_3*x_3_3 - 9670*x_1_3 - 5059*x_2_3^2 + 8644*x_2_3*x_3_3 - 7482*x_2_3 + 4428*x_3_3^2 + 7636*x_3_3 - 2421, -(s0//s1)*(s2//s1)*x_4_3 + 7348*(s0//s1)*x_1_3^2 + 5781*(s0//s1)*x_1_3*x_2_3 + 1509*(s0//s1)*x_1_3*x_3_3 - 9670*(s0//s1)*x_1_3 - 5059*(s0//s1)*x_2_3^2 + 8644*(s0//s1)*x_2_3*x_3_3 - 7482*(s0//s1)*x_2_3 + 4428*(s0//s1)*x_3_3^2 + 7636*(s0//s1)*x_3_3 - 2421*(s0//s1))\n",
       "    24: [(s1//s0), (s1//s0), (s0//s2), x_1_3, x_2_3, x_3_3]   scheme(0, -(s1//s0)^2*(s1//s0)*(s0//s2)^2 + 7348*(s1//s0)*(s0//s2)*x_1_3^2 + 5781*(s1//s0)*(s0//s2)*x_1_3*x_2_3 + 1509*(s1//s0)*(s0//s2)*x_1_3*x_3_3 - 9670*(s1//s0)*(s0//s2)*x_1_3 - 5059*(s1//s0)*(s0//s2)*x_2_3^2 + 8644*(s1//s0)*(s0//s2)*x_2_3*x_3_3 - 7482*(s1//s0)*(s0//s2)*x_2_3 + 4428*(s1//s0)*(s0//s2)*x_3_3^2 + 7636*(s1//s0)*(s0//s2)*x_3_3 - 2421*(s1//s0)*(s0//s2), -(s1//s0)*(s1//s0)*(s0//s2)^2 + 7348*(s0//s2)*x_1_3^2 + 5781*(s0//s2)*x_1_3*x_2_3 + 1509*(s0//s2)*x_1_3*x_3_3 - 9670*(s0//s2)*x_1_3 - 5059*(s0//s2)*x_2_3^2 + 8644*(s0//s2)*x_2_3*x_3_3 - 7482*(s0//s2)*x_2_3 + 4428*(s0//s2)*x_3_3^2 + 7636*(s0//s2)*x_3_3 - 2421*(s0//s2), -(s1//s0)*(s1//s0)*(s0//s2) + 7348*x_1_3^2 + 5781*x_1_3*x_2_3 + 1509*x_1_3*x_3_3 - 9670*x_1_3 - 5059*x_2_3^2 + 8644*x_2_3*x_3_3 - 7482*x_2_3 + 4428*x_3_3^2 + 7636*x_3_3 - 2421, 0, 0, 0, 0)\n",
       "    25: [(s0//s1), (s1//s0), (s1//s2), x_1_3, x_2_3, x_3_3]   scheme(0, -(s1//s0)*(s1//s2)^2 + 7348*(s1//s2)*x_1_3^2 + 5781*(s1//s2)*x_1_3*x_2_3 + 1509*(s1//s2)*x_1_3*x_3_3 - 9670*(s1//s2)*x_1_3 - 5059*(s1//s2)*x_2_3^2 + 8644*(s1//s2)*x_2_3*x_3_3 - 7482*(s1//s2)*x_2_3 + 4428*(s1//s2)*x_3_3^2 + 7636*(s1//s2)*x_3_3 - 2421*(s1//s2), -(s0//s1)*(s1//s0)*(s1//s2)^2 + 7348*(s0//s1)*(s1//s2)*x_1_3^2 + 5781*(s0//s1)*(s1//s2)*x_1_3*x_2_3 + 1509*(s0//s1)*(s1//s2)*x_1_3*x_3_3 - 9670*(s0//s1)*(s1//s2)*x_1_3 - 5059*(s0//s1)*(s1//s2)*x_2_3^2 + 8644*(s0//s1)*(s1//s2)*x_2_3*x_3_3 - 7482*(s0//s1)*(s1//s2)*x_2_3 + 4428*(s0//s1)*(s1//s2)*x_3_3^2 + 7636*(s0//s1)*(s1//s2)*x_3_3 - 2421*(s0//s1)*(s1//s2), -(s1//s0)*(s1//s2) + 7348*x_1_3^2 + 5781*x_1_3*x_2_3 + 1509*x_1_3*x_3_3 - 9670*x_1_3 - 5059*x_2_3^2 + 8644*x_2_3*x_3_3 - 7482*x_2_3 + 4428*x_3_3^2 + 7636*x_3_3 - 2421, 0, 0, 0, 0)\n",
       "    26: [(s1//s0), (s1//s0), (s0//s1), x_1_3, x_2_3, x_3_3]   scheme(0, -(s1//s0)^2*(s1//s0)^2*(s0//s1)^3 + 7348*(s1//s0)*(s1//s0)*(s0//s1)^2*x_1_3^2 + 5781*(s1//s0)*(s1//s0)*(s0//s1)^2*x_1_3*x_2_3 + 1509*(s1//s0)*(s1//s0)*(s0//s1)^2*x_1_3*x_3_3 - 9670*(s1//s0)*(s1//s0)*(s0//s1)^2*x_1_3 - 5059*(s1//s0)*(s1//s0)*(s0//s1)^2*x_2_3^2 + 8644*(s1//s0)*(s1//s0)*(s0//s1)^2*x_2_3*x_3_3 - 7482*(s1//s0)*(s1//s0)*(s0//s1)^2*x_2_3 + 4428*(s1//s0)*(s1//s0)*(s0//s1)^2*x_3_3^2 + 7636*(s1//s0)*(s1//s0)*(s0//s1)^2*x_3_3 - 2421*(s1//s0)*(s1//s0)*(s0//s1)^2, -(s1//s0)^2*(s1//s0)*(s0//s1)^2 + 7348*(s1//s0)*(s0//s1)*x_1_3^2 + 5781*(s1//s0)*(s0//s1)*x_1_3*x_2_3 + 1509*(s1//s0)*(s0//s1)*x_1_3*x_3_3 - 9670*(s1//s0)*(s0//s1)*x_1_3 - 5059*(s1//s0)*(s0//s1)*x_2_3^2 + 8644*(s1//s0)*(s0//s1)*x_2_3*x_3_3 - 7482*(s1//s0)*(s0//s1)*x_2_3 + 4428*(s1//s0)*(s0//s1)*x_3_3^2 + 7636*(s1//s0)*(s0//s1)*x_3_3 - 2421*(s1//s0)*(s0//s1), -(s1//s0)*(s1//s0)*(s0//s1)^2 + 7348*(s0//s1)*x_1_3^2 + 5781*(s0//s1)*x_1_3*x_2_3 + 1509*(s0//s1)*x_1_3*x_3_3 - 9670*(s0//s1)*x_1_3 - 5059*(s0//s1)*x_2_3^2 + 8644*(s0//s1)*x_2_3*x_3_3 - 7482*(s0//s1)*x_2_3 + 4428*(s0//s1)*x_3_3^2 + 7636*(s0//s1)*x_3_3 - 2421*(s0//s1), 0, 0, 0, -(s1//s0)*(s1//s0)*(s0//s1) + 7348*x_1_3^2 + 5781*x_1_3*x_2_3 + 1509*x_1_3*x_3_3 - 9670*x_1_3 - 5059*x_2_3^2 + 8644*x_2_3*x_3_3 - 7482*x_2_3 + 4428*x_3_3^2 + 7636*x_3_3 - 2421, 0, 0, 0, 0, -(s1//s0)^3*(s1//s0)^2*(s0//s1)^3 + 7348*(s1//s0)^2*(s1//s0)*(s0//s1)^2*x_1_3^2 + 5781*(s1//s0)^2*(s1//s0)*(s0//s1)^2*x_1_3*x_2_3 + 1509*(s1//s0)^2*(s1//s0)*(s0//s1)^2*x_1_3*x_3_3 - 9670*(s1//s0)^2*(s1//s0)*(s0//s1)^2*x_1_3 - 5059*(s1//s0)^2*(s1//s0)*(s0//s1)^2*x_2_3^2 + 8644*(s1//s0)^2*(s1//s0)*(s0//s1)^2*x_2_3*x_3_3 - 7482*(s1//s0)^2*(s1//s0)*(s0//s1)^2*x_2_3 + 4428*(s1//s0)^2*(s1//s0)*(s0//s1)^2*x_3_3^2 + 7636*(s1//s0)^2*(s1//s0)*(s0//s1)^2*x_3_3 - 2421*(s1//s0)^2*(s1//s0)*(s0//s1)^2, 0, 0)\n",
       "    27: [(s0//s1), (s1//s0), (s0//s2), x_1_3, x_2_3, x_3_3]   scheme(0, -(s0//s1)*(s1//s0)^2*(s0//s2)^3 + 7348*(s0//s1)*(s1//s0)*(s0//s2)^2*x_1_3^2 + 5781*(s0//s1)*(s1//s0)*(s0//s2)^2*x_1_3*x_2_3 + 1509*(s0//s1)*(s1//s0)*(s0//s2)^2*x_1_3*x_3_3 - 9670*(s0//s1)*(s1//s0)*(s0//s2)^2*x_1_3 - 5059*(s0//s1)*(s1//s0)*(s0//s2)^2*x_2_3^2 + 8644*(s0//s1)*(s1//s0)*(s0//s2)^2*x_2_3*x_3_3 - 7482*(s0//s1)*(s1//s0)*(s0//s2)^2*x_2_3 + 4428*(s0//s1)*(s1//s0)*(s0//s2)^2*x_3_3^2 + 7636*(s0//s1)*(s1//s0)*(s0//s2)^2*x_3_3 - 2421*(s0//s1)*(s1//s0)*(s0//s2)^2, -(s1//s0)*(s0//s2)^2 + 7348*(s0//s2)*x_1_3^2 + 5781*(s0//s2)*x_1_3*x_2_3 + 1509*(s0//s2)*x_1_3*x_3_3 - 9670*(s0//s2)*x_1_3 - 5059*(s0//s2)*x_2_3^2 + 8644*(s0//s2)*x_2_3*x_3_3 - 7482*(s0//s2)*x_2_3 + 4428*(s0//s2)*x_3_3^2 + 7636*(s0//s2)*x_3_3 - 2421*(s0//s2), -(s0//s1)*(s1//s0)*(s0//s2)^2 + 7348*(s0//s1)*(s0//s2)*x_1_3^2 + 5781*(s0//s1)*(s0//s2)*x_1_3*x_2_3 + 1509*(s0//s1)*(s0//s2)*x_1_3*x_3_3 - 9670*(s0//s1)*(s0//s2)*x_1_3 - 5059*(s0//s1)*(s0//s2)*x_2_3^2 + 8644*(s0//s1)*(s0//s2)*x_2_3*x_3_3 - 7482*(s0//s1)*(s0//s2)*x_2_3 + 4428*(s0//s1)*(s0//s2)*x_3_3^2 + 7636*(s0//s1)*(s0//s2)*x_3_3 - 2421*(s0//s1)*(s0//s2), 0, 0, 0, -(s1//s0)*(s0//s2) + 7348*x_1_3^2 + 5781*x_1_3*x_2_3 + 1509*x_1_3*x_3_3 - 9670*x_1_3 - 5059*x_2_3^2 + 8644*x_2_3*x_3_3 - 7482*x_2_3 + 4428*x_3_3^2 + 7636*x_3_3 - 2421, 0, 0, 0, 0, -(s0//s1)*(s1//s0)^2*(s0//s2)^3 + 7348*(s0//s1)*(s1//s0)*(s0//s2)^2*x_1_3^2 + 5781*(s0//s1)*(s1//s0)*(s0//s2)^2*x_1_3*x_2_3 + 1509*(s0//s1)*(s1//s0)*(s0//s2)^2*x_1_3*x_3_3 - 9670*(s0//s1)*(s1//s0)*(s0//s2)^2*x_1_3 - 5059*(s0//s1)*(s1//s0)*(s0//s2)^2*x_2_3^2 + 8644*(s0//s1)*(s1//s0)*(s0//s2)^2*x_2_3*x_3_3 - 7482*(s0//s1)*(s1//s0)*(s0//s2)^2*x_2_3 + 4428*(s0//s1)*(s1//s0)*(s0//s2)^2*x_3_3^2 + 7636*(s0//s1)*(s1//s0)*(s0//s2)^2*x_3_3 - 2421*(s0//s1)*(s1//s0)*(s0//s2)^2, 0, 0)\n",
       "    28: [(s1//s0), (s0//s1), (s0//s1), x_1_3, x_2_3, x_3_3]   scheme(0, -(s1//s0)^2*(s0//s1)^3 + 7348*(s1//s0)*(s0//s1)^2*x_1_3^2 + 5781*(s1//s0)*(s0//s1)^2*x_1_3*x_2_3 + 1509*(s1//s0)*(s0//s1)^2*x_1_3*x_3_3 - 9670*(s1//s0)*(s0//s1)^2*x_1_3 - 5059*(s1//s0)*(s0//s1)^2*x_2_3^2 + 8644*(s1//s0)*(s0//s1)^2*x_2_3*x_3_3 - 7482*(s1//s0)*(s0//s1)^2*x_2_3 + 4428*(s1//s0)*(s0//s1)^2*x_3_3^2 + 7636*(s1//s0)*(s0//s1)^2*x_3_3 - 2421*(s1//s0)*(s0//s1)^2, -(s1//s0)^2*(s0//s1)*(s0//s1)^2 + 7348*(s1//s0)*(s0//s1)*(s0//s1)*x_1_3^2 + 5781*(s1//s0)*(s0//s1)*(s0//s1)*x_1_3*x_2_3 + 1509*(s1//s0)*(s0//s1)*(s0//s1)*x_1_3*x_3_3 - 9670*(s1//s0)*(s0//s1)*(s0//s1)*x_1_3 - 5059*(s1//s0)*(s0//s1)*(s0//s1)*x_2_3^2 + 8644*(s1//s0)*(s0//s1)*(s0//s1)*x_2_3*x_3_3 - 7482*(s1//s0)*(s0//s1)*(s0//s1)*x_2_3 + 4428*(s1//s0)*(s0//s1)*(s0//s1)*x_3_3^2 + 7636*(s1//s0)*(s0//s1)*(s0//s1)*x_3_3 - 2421*(s1//s0)*(s0//s1)*(s0//s1), -(s1//s0)*(s0//s1)^2 + 7348*(s0//s1)*x_1_3^2 + 5781*(s0//s1)*x_1_3*x_2_3 + 1509*(s0//s1)*x_1_3*x_3_3 - 9670*(s0//s1)*x_1_3 - 5059*(s0//s1)*x_2_3^2 + 8644*(s0//s1)*x_2_3*x_3_3 - 7482*(s0//s1)*x_2_3 + 4428*(s0//s1)*x_3_3^2 + 7636*(s0//s1)*x_3_3 - 2421*(s0//s1), 0, 0, 0, -(s1//s0)*(s0//s1)*(s0//s1) + 7348*(s0//s1)*x_1_3^2 + 5781*(s0//s1)*x_1_3*x_2_3 + 1509*(s0//s1)*x_1_3*x_3_3 - 9670*(s0//s1)*x_1_3 - 5059*(s0//s1)*x_2_3^2 + 8644*(s0//s1)*x_2_3*x_3_3 - 7482*(s0//s1)*x_2_3 + 4428*(s0//s1)*x_3_3^2 + 7636*(s0//s1)*x_3_3 - 2421*(s0//s1), 0, 0, -(s1//s0)*(s0//s1) + 7348*x_1_3^2 + 5781*x_1_3*x_2_3 + 1509*x_1_3*x_3_3 - 9670*x_1_3 - 5059*x_2_3^2 + 8644*x_2_3*x_3_3 - 7482*x_2_3 + 4428*x_3_3^2 + 7636*x_3_3 - 2421, 0, 0, 0, 0)\n",
       "    29: [(s1//s0), (s0//s1), x_1_3, x_2_3, x_3_3]             scheme(0, 0, 0, 0, 0, 0, 0, 0, 0, 0, 0, 0, 0, 0, 0, 0, 0, 0, 0)\n",
       "    30: [(s0//s1), (s0//s1), x_1_3, x_2_3, x_3_3]             scheme(0, 0, 0, 0, 0, 0, 0, 0, 0, 0, 0, 0, 0, 0, 0, 0, 0, 0, 0)\n",
       "    31: [(s1//s0), (s1//s0), (s2//s0), x_1_4, x_2_4, x_3_4]   scheme(0, -(s1//s0)*(s1//s0)^2*(s2//s0) + 7348*(s1//s0)*x_1_4^2 - 9670*(s1//s0)*x_1_4*x_2_4 + 5781*(s1//s0)*x_1_4*x_3_4 + 1509*(s1//s0)*x_1_4 - 2421*(s1//s0)*x_2_4^2 - 7482*(s1//s0)*x_2_4*x_3_4 + 7636*(s1//s0)*x_2_4 - 5059*(s1//s0)*x_3_4^2 + 8644*(s1//s0)*x_3_4 + 4428*(s1//s0), -(s1//s0)*(s1//s0)*(s2//s0) + 7348*x_1_4^2 - 9670*x_1_4*x_2_4 + 5781*x_1_4*x_3_4 + 1509*x_1_4 - 2421*x_2_4^2 - 7482*x_2_4*x_3_4 + 7636*x_2_4 - 5059*x_3_4^2 + 8644*x_3_4 + 4428, 0, 0)\n",
       "    32: [(s0//s1), (s2//s0), x_1_4, x_2_4, x_3_4, x_5_4]      scheme(0, -(s0//s1)*(s2//s0)*x_5_4^2 + 7348*(s0//s1)*x_1_4^2*x_5_4 - 9670*(s0//s1)*x_1_4*x_2_4*x_5_4 + 5781*(s0//s1)*x_1_4*x_3_4*x_5_4 + 1509*(s0//s1)*x_1_4*x_5_4 - 2421*(s0//s1)*x_2_4^2*x_5_4 - 7482*(s0//s1)*x_2_4*x_3_4*x_5_4 + 7636*(s0//s1)*x_2_4*x_5_4 - 5059*(s0//s1)*x_3_4^2*x_5_4 + 8644*(s0//s1)*x_3_4*x_5_4 + 4428*(s0//s1)*x_5_4, -(s2//s0)*x_5_4 + 7348*x_1_4^2 - 9670*x_1_4*x_2_4 + 5781*x_1_4*x_3_4 + 1509*x_1_4 - 2421*x_2_4^2 - 7482*x_2_4*x_3_4 + 7636*x_2_4 - 5059*x_3_4^2 + 8644*x_3_4 + 4428, 0, 0)\n",
       "    33: [(s0//s1), (s2//s1), x_1_4, x_2_4, x_3_4, x_4_4]      scheme(0, -(s2//s1)*x_4_4 + 7348*x_1_4^2 - 9670*x_1_4*x_2_4 + 5781*x_1_4*x_3_4 + 1509*x_1_4 - 2421*x_2_4^2 - 7482*x_2_4*x_3_4 + 7636*x_2_4 - 5059*x_3_4^2 + 8644*x_3_4 + 4428, -(s0//s1)*(s2//s1)*x_4_4 + 7348*(s0//s1)*x_1_4^2 - 9670*(s0//s1)*x_1_4*x_2_4 + 5781*(s0//s1)*x_1_4*x_3_4 + 1509*(s0//s1)*x_1_4 - 2421*(s0//s1)*x_2_4^2 - 7482*(s0//s1)*x_2_4*x_3_4 + 7636*(s0//s1)*x_2_4 - 5059*(s0//s1)*x_3_4^2 + 8644*(s0//s1)*x_3_4 + 4428*(s0//s1))\n",
       "    34: [(s1//s0), (s1//s0), (s0//s2), x_1_4, x_2_4, x_3_4]   scheme(0, -(s1//s0)^2*(s1//s0)*(s0//s2)^2 + 7348*(s1//s0)*(s0//s2)*x_1_4^2 - 9670*(s1//s0)*(s0//s2)*x_1_4*x_2_4 + 5781*(s1//s0)*(s0//s2)*x_1_4*x_3_4 + 1509*(s1//s0)*(s0//s2)*x_1_4 - 2421*(s1//s0)*(s0//s2)*x_2_4^2 - 7482*(s1//s0)*(s0//s2)*x_2_4*x_3_4 + 7636*(s1//s0)*(s0//s2)*x_2_4 - 5059*(s1//s0)*(s0//s2)*x_3_4^2 + 8644*(s1//s0)*(s0//s2)*x_3_4 + 4428*(s1//s0)*(s0//s2), -(s1//s0)*(s1//s0)*(s0//s2)^2 + 7348*(s0//s2)*x_1_4^2 - 9670*(s0//s2)*x_1_4*x_2_4 + 5781*(s0//s2)*x_1_4*x_3_4 + 1509*(s0//s2)*x_1_4 - 2421*(s0//s2)*x_2_4^2 - 7482*(s0//s2)*x_2_4*x_3_4 + 7636*(s0//s2)*x_2_4 - 5059*(s0//s2)*x_3_4^2 + 8644*(s0//s2)*x_3_4 + 4428*(s0//s2), -(s1//s0)*(s1//s0)*(s0//s2) + 7348*x_1_4^2 - 9670*x_1_4*x_2_4 + 5781*x_1_4*x_3_4 + 1509*x_1_4 - 2421*x_2_4^2 - 7482*x_2_4*x_3_4 + 7636*x_2_4 - 5059*x_3_4^2 + 8644*x_3_4 + 4428, 0, 0, 0, 0)\n",
       "    35: [(s0//s1), (s1//s0), (s1//s2), x_1_4, x_2_4, x_3_4]   scheme(0, -(s1//s0)*(s1//s2)^2 + 7348*(s1//s2)*x_1_4^2 - 9670*(s1//s2)*x_1_4*x_2_4 + 5781*(s1//s2)*x_1_4*x_3_4 + 1509*(s1//s2)*x_1_4 - 2421*(s1//s2)*x_2_4^2 - 7482*(s1//s2)*x_2_4*x_3_4 + 7636*(s1//s2)*x_2_4 - 5059*(s1//s2)*x_3_4^2 + 8644*(s1//s2)*x_3_4 + 4428*(s1//s2), -(s0//s1)*(s1//s0)*(s1//s2)^2 + 7348*(s0//s1)*(s1//s2)*x_1_4^2 - 9670*(s0//s1)*(s1//s2)*x_1_4*x_2_4 + 5781*(s0//s1)*(s1//s2)*x_1_4*x_3_4 + 1509*(s0//s1)*(s1//s2)*x_1_4 - 2421*(s0//s1)*(s1//s2)*x_2_4^2 - 7482*(s0//s1)*(s1//s2)*x_2_4*x_3_4 + 7636*(s0//s1)*(s1//s2)*x_2_4 - 5059*(s0//s1)*(s1//s2)*x_3_4^2 + 8644*(s0//s1)*(s1//s2)*x_3_4 + 4428*(s0//s1)*(s1//s2), -(s1//s0)*(s1//s2) + 7348*x_1_4^2 - 9670*x_1_4*x_2_4 + 5781*x_1_4*x_3_4 + 1509*x_1_4 - 2421*x_2_4^2 - 7482*x_2_4*x_3_4 + 7636*x_2_4 - 5059*x_3_4^2 + 8644*x_3_4 + 4428, 0, 0, 0, 0)\n",
       "    36: [(s1//s0), (s1//s0), (s0//s1), x_1_4, x_2_4, x_3_4]   scheme(0, -(s1//s0)^2*(s1//s0)^2*(s0//s1)^3 + 7348*(s1//s0)*(s1//s0)*(s0//s1)^2*x_1_4^2 - 9670*(s1//s0)*(s1//s0)*(s0//s1)^2*x_1_4*x_2_4 + 5781*(s1//s0)*(s1//s0)*(s0//s1)^2*x_1_4*x_3_4 + 1509*(s1//s0)*(s1//s0)*(s0//s1)^2*x_1_4 - 2421*(s1//s0)*(s1//s0)*(s0//s1)^2*x_2_4^2 - 7482*(s1//s0)*(s1//s0)*(s0//s1)^2*x_2_4*x_3_4 + 7636*(s1//s0)*(s1//s0)*(s0//s1)^2*x_2_4 - 5059*(s1//s0)*(s1//s0)*(s0//s1)^2*x_3_4^2 + 8644*(s1//s0)*(s1//s0)*(s0//s1)^2*x_3_4 + 4428*(s1//s0)*(s1//s0)*(s0//s1)^2, -(s1//s0)^2*(s1//s0)*(s0//s1)^2 + 7348*(s1//s0)*(s0//s1)*x_1_4^2 - 9670*(s1//s0)*(s0//s1)*x_1_4*x_2_4 + 5781*(s1//s0)*(s0//s1)*x_1_4*x_3_4 + 1509*(s1//s0)*(s0//s1)*x_1_4 - 2421*(s1//s0)*(s0//s1)*x_2_4^2 - 7482*(s1//s0)*(s0//s1)*x_2_4*x_3_4 + 7636*(s1//s0)*(s0//s1)*x_2_4 - 5059*(s1//s0)*(s0//s1)*x_3_4^2 + 8644*(s1//s0)*(s0//s1)*x_3_4 + 4428*(s1//s0)*(s0//s1), -(s1//s0)*(s1//s0)*(s0//s1)^2 + 7348*(s0//s1)*x_1_4^2 - 9670*(s0//s1)*x_1_4*x_2_4 + 5781*(s0//s1)*x_1_4*x_3_4 + 1509*(s0//s1)*x_1_4 - 2421*(s0//s1)*x_2_4^2 - 7482*(s0//s1)*x_2_4*x_3_4 + 7636*(s0//s1)*x_2_4 - 5059*(s0//s1)*x_3_4^2 + 8644*(s0//s1)*x_3_4 + 4428*(s0//s1), 0, 0, 0, -(s1//s0)*(s1//s0)*(s0//s1) + 7348*x_1_4^2 - 9670*x_1_4*x_2_4 + 5781*x_1_4*x_3_4 + 1509*x_1_4 - 2421*x_2_4^2 - 7482*x_2_4*x_3_4 + 7636*x_2_4 - 5059*x_3_4^2 + 8644*x_3_4 + 4428, 0, 0, 0, 0, -(s1//s0)^3*(s1//s0)^2*(s0//s1)^3 + 7348*(s1//s0)^2*(s1//s0)*(s0//s1)^2*x_1_4^2 - 9670*(s1//s0)^2*(s1//s0)*(s0//s1)^2*x_1_4*x_2_4 + 5781*(s1//s0)^2*(s1//s0)*(s0//s1)^2*x_1_4*x_3_4 + 1509*(s1//s0)^2*(s1//s0)*(s0//s1)^2*x_1_4 - 2421*(s1//s0)^2*(s1//s0)*(s0//s1)^2*x_2_4^2 - 7482*(s1//s0)^2*(s1//s0)*(s0//s1)^2*x_2_4*x_3_4 + 7636*(s1//s0)^2*(s1//s0)*(s0//s1)^2*x_2_4 - 5059*(s1//s0)^2*(s1//s0)*(s0//s1)^2*x_3_4^2 + 8644*(s1//s0)^2*(s1//s0)*(s0//s1)^2*x_3_4 + 4428*(s1//s0)^2*(s1//s0)*(s0//s1)^2, 0, 0)\n",
       "    37: [(s0//s1), (s1//s0), (s0//s2), x_1_4, x_2_4, x_3_4]   scheme(0, -(s0//s1)*(s1//s0)^2*(s0//s2)^3 + 7348*(s0//s1)*(s1//s0)*(s0//s2)^2*x_1_4^2 - 9670*(s0//s1)*(s1//s0)*(s0//s2)^2*x_1_4*x_2_4 + 5781*(s0//s1)*(s1//s0)*(s0//s2)^2*x_1_4*x_3_4 + 1509*(s0//s1)*(s1//s0)*(s0//s2)^2*x_1_4 - 2421*(s0//s1)*(s1//s0)*(s0//s2)^2*x_2_4^2 - 7482*(s0//s1)*(s1//s0)*(s0//s2)^2*x_2_4*x_3_4 + 7636*(s0//s1)*(s1//s0)*(s0//s2)^2*x_2_4 - 5059*(s0//s1)*(s1//s0)*(s0//s2)^2*x_3_4^2 + 8644*(s0//s1)*(s1//s0)*(s0//s2)^2*x_3_4 + 4428*(s0//s1)*(s1//s0)*(s0//s2)^2, -(s1//s0)*(s0//s2)^2 + 7348*(s0//s2)*x_1_4^2 - 9670*(s0//s2)*x_1_4*x_2_4 + 5781*(s0//s2)*x_1_4*x_3_4 + 1509*(s0//s2)*x_1_4 - 2421*(s0//s2)*x_2_4^2 - 7482*(s0//s2)*x_2_4*x_3_4 + 7636*(s0//s2)*x_2_4 - 5059*(s0//s2)*x_3_4^2 + 8644*(s0//s2)*x_3_4 + 4428*(s0//s2), -(s0//s1)*(s1//s0)*(s0//s2)^2 + 7348*(s0//s1)*(s0//s2)*x_1_4^2 - 9670*(s0//s1)*(s0//s2)*x_1_4*x_2_4 + 5781*(s0//s1)*(s0//s2)*x_1_4*x_3_4 + 1509*(s0//s1)*(s0//s2)*x_1_4 - 2421*(s0//s1)*(s0//s2)*x_2_4^2 - 7482*(s0//s1)*(s0//s2)*x_2_4*x_3_4 + 7636*(s0//s1)*(s0//s2)*x_2_4 - 5059*(s0//s1)*(s0//s2)*x_3_4^2 + 8644*(s0//s1)*(s0//s2)*x_3_4 + 4428*(s0//s1)*(s0//s2), 0, 0, 0, -(s1//s0)*(s0//s2) + 7348*x_1_4^2 - 9670*x_1_4*x_2_4 + 5781*x_1_4*x_3_4 + 1509*x_1_4 - 2421*x_2_4^2 - 7482*x_2_4*x_3_4 + 7636*x_2_4 - 5059*x_3_4^2 + 8644*x_3_4 + 4428, 0, 0, 0, 0, -(s0//s1)*(s1//s0)^2*(s0//s2)^3 + 7348*(s0//s1)*(s1//s0)*(s0//s2)^2*x_1_4^2 - 9670*(s0//s1)*(s1//s0)*(s0//s2)^2*x_1_4*x_2_4 + 5781*(s0//s1)*(s1//s0)*(s0//s2)^2*x_1_4*x_3_4 + 1509*(s0//s1)*(s1//s0)*(s0//s2)^2*x_1_4 - 2421*(s0//s1)*(s1//s0)*(s0//s2)^2*x_2_4^2 - 7482*(s0//s1)*(s1//s0)*(s0//s2)^2*x_2_4*x_3_4 + 7636*(s0//s1)*(s1//s0)*(s0//s2)^2*x_2_4 - 5059*(s0//s1)*(s1//s0)*(s0//s2)^2*x_3_4^2 + 8644*(s0//s1)*(s1//s0)*(s0//s2)^2*x_3_4 + 4428*(s0//s1)*(s1//s0)*(s0//s2)^2, 0, 0)\n",
       "    38: [(s1//s0), (s0//s1), (s0//s1), x_1_4, x_2_4, x_3_4]   scheme(0, -(s1//s0)^2*(s0//s1)^3 + 7348*(s1//s0)*(s0//s1)^2*x_1_4^2 - 9670*(s1//s0)*(s0//s1)^2*x_1_4*x_2_4 + 5781*(s1//s0)*(s0//s1)^2*x_1_4*x_3_4 + 1509*(s1//s0)*(s0//s1)^2*x_1_4 - 2421*(s1//s0)*(s0//s1)^2*x_2_4^2 - 7482*(s1//s0)*(s0//s1)^2*x_2_4*x_3_4 + 7636*(s1//s0)*(s0//s1)^2*x_2_4 - 5059*(s1//s0)*(s0//s1)^2*x_3_4^2 + 8644*(s1//s0)*(s0//s1)^2*x_3_4 + 4428*(s1//s0)*(s0//s1)^2, -(s1//s0)^2*(s0//s1)*(s0//s1)^2 + 7348*(s1//s0)*(s0//s1)*(s0//s1)*x_1_4^2 - 9670*(s1//s0)*(s0//s1)*(s0//s1)*x_1_4*x_2_4 + 5781*(s1//s0)*(s0//s1)*(s0//s1)*x_1_4*x_3_4 + 1509*(s1//s0)*(s0//s1)*(s0//s1)*x_1_4 - 2421*(s1//s0)*(s0//s1)*(s0//s1)*x_2_4^2 - 7482*(s1//s0)*(s0//s1)*(s0//s1)*x_2_4*x_3_4 + 7636*(s1//s0)*(s0//s1)*(s0//s1)*x_2_4 - 5059*(s1//s0)*(s0//s1)*(s0//s1)*x_3_4^2 + 8644*(s1//s0)*(s0//s1)*(s0//s1)*x_3_4 + 4428*(s1//s0)*(s0//s1)*(s0//s1), -(s1//s0)*(s0//s1)^2 + 7348*(s0//s1)*x_1_4^2 - 9670*(s0//s1)*x_1_4*x_2_4 + 5781*(s0//s1)*x_1_4*x_3_4 + 1509*(s0//s1)*x_1_4 - 2421*(s0//s1)*x_2_4^2 - 7482*(s0//s1)*x_2_4*x_3_4 + 7636*(s0//s1)*x_2_4 - 5059*(s0//s1)*x_3_4^2 + 8644*(s0//s1)*x_3_4 + 4428*(s0//s1), 0, 0, 0, -(s1//s0)*(s0//s1)*(s0//s1) + 7348*(s0//s1)*x_1_4^2 - 9670*(s0//s1)*x_1_4*x_2_4 + 5781*(s0//s1)*x_1_4*x_3_4 + 1509*(s0//s1)*x_1_4 - 2421*(s0//s1)*x_2_4^2 - 7482*(s0//s1)*x_2_4*x_3_4 + 7636*(s0//s1)*x_2_4 - 5059*(s0//s1)*x_3_4^2 + 8644*(s0//s1)*x_3_4 + 4428*(s0//s1), 0, 0, -(s1//s0)*(s0//s1) + 7348*x_1_4^2 - 9670*x_1_4*x_2_4 + 5781*x_1_4*x_3_4 + 1509*x_1_4 - 2421*x_2_4^2 - 7482*x_2_4*x_3_4 + 7636*x_2_4 - 5059*x_3_4^2 + 8644*x_3_4 + 4428, 0, 0, 0, 0)\n",
       "    39: [(s1//s0), (s0//s1), x_1_4, x_2_4, x_3_4]             scheme(0, 0, 0, 0, 0, 0, 0, 0, 0, 0, 0, 0, 0, 0, 0, 0, 0, 0, 0)\n",
       "    40: [(s0//s1), (s0//s1), x_1_4, x_2_4, x_3_4]             scheme(0, 0, 0, 0, 0, 0, 0, 0, 0, 0, 0, 0, 0, 0, 0, 0, 0, 0, 0)\n",
       "    41: [x_1_5, x_2_5, x_3_5, x_4_5, x_5_5, x_6_5]            scheme(-x_4_5*x_6_5 + x_5_5^3)\n",
       "    42: [x_1_6, x_2_6, x_3_6, x_4_6, x_5_6, x_6_6]            scheme(-x_4_6*x_6_6 + x_5_6^3)\n",
       "    43: [x_1_7, x_2_7, x_3_7, x_4_7, x_5_7, x_6_7]            scheme(-x_4_7*x_6_7 + x_5_7^3)\n",
       "    44: [x_1_8, x_2_8, x_3_8, x_4_8, x_5_8, x_6_8]            scheme(-x_4_8*x_6_8 + x_5_8^3)\n",
       "    45: [x_1_9, x_2_9, x_3_9, x_4_9, x_5_9, x_6_9]            scheme(-x_4_9*x_5_9 + x_6_9^2)\n",
       "    46: [x_1_10, x_2_10, x_3_10, x_4_10, x_5_10, x_6_10]      scheme(-x_4_10*x_5_10 + x_6_10^2)\n",
       "    47: [x_1_11, x_2_11, x_3_11, x_4_11, x_5_11, x_6_11]      scheme(-x_4_11*x_5_11 + x_6_11^2)\n",
       "    48: [x_1_12, x_2_12, x_3_12, x_4_12, x_5_12, x_6_12]      scheme(-x_4_12*x_5_12 + x_6_12^2)\n",
       "with restrictions\n",
       "   1: Ideal with 3 generators\n",
       "   2: Ideal with 2 generators\n",
       "   3: Ideal with 2 generators\n",
       "   4: Ideal with 2 generators\n",
       "   5: Ideal with 2 generators\n",
       "   6: Ideal with 2 generators\n",
       "   7: Ideal with 2 generators\n",
       "   8: Ideal with 2 generators\n",
       "   9: Ideal with 1 generator\n",
       "  10: Ideal with 1 generator\n",
       "  11: Ideal with 3 generators\n",
       "  12: Ideal with 2 generators\n",
       "  13: Ideal with 2 generators\n",
       "  14: Ideal with 2 generators\n",
       "  15: Ideal with 2 generators\n",
       "  16: Ideal with 2 generators\n",
       "  17: Ideal with 2 generators\n",
       "  18: Ideal with 2 generators\n",
       "  19: Ideal with 1 generator\n",
       "  20: Ideal with 1 generator\n",
       "  21: Ideal with 3 generators\n",
       "  22: Ideal with 2 generators\n",
       "  23: Ideal with 2 generators\n",
       "  24: Ideal with 2 generators\n",
       "  25: Ideal with 2 generators\n",
       "  26: Ideal with 2 generators\n",
       "  27: Ideal with 2 generators\n",
       "  28: Ideal with 2 generators\n",
       "  29: Ideal with 1 generator\n",
       "  30: Ideal with 1 generator\n",
       "  31: Ideal with 3 generators\n",
       "  32: Ideal with 2 generators\n",
       "  33: Ideal with 2 generators\n",
       "  34: Ideal with 2 generators\n",
       "  35: Ideal with 2 generators\n",
       "  36: Ideal with 2 generators\n",
       "  37: Ideal with 2 generators\n",
       "  38: Ideal with 2 generators\n",
       "  39: Ideal with 1 generator\n",
       "  40: Ideal with 1 generator\n",
       "  41: Ideal with 3 generators\n",
       "  42: Ideal with 3 generators\n",
       "  43: Ideal with 3 generators\n",
       "  44: Ideal with 3 generators\n",
       "  45: Ideal with 4 generators\n",
       "  46: Ideal with 4 generators\n",
       "  47: Ideal with 4 generators\n",
       "  48: Ideal with 4 generators"
      ]
     },
     "execution_count": 54,
     "metadata": {},
     "output_type": "execute_result"
    }
   ],
   "source": [
    "tate_ideal_sheaf(t2_res)"
   ]
  },
  {
   "cell_type": "code",
   "execution_count": 55,
   "id": "4ea01e62-b0bd-44cb-bbdf-1022d5e447e6",
   "metadata": {},
   "outputs": [
    {
     "data": {
      "text/plain": [
       "Normal toric variety"
      ]
     },
     "execution_count": 55,
     "metadata": {},
     "output_type": "execute_result"
    }
   ],
   "source": [
    "B3 = projective_space(NormalToricVariety, 3)"
   ]
  },
  {
   "cell_type": "code",
   "execution_count": 56,
   "id": "5552accc-54b3-4231-9e2f-80fa7ed71e25",
   "metadata": {},
   "outputs": [
    {
     "data": {
      "text/plain": [
       "Torus-invariant, prime divisor on a normal toric variety"
      ]
     },
     "execution_count": 56,
     "metadata": {},
     "output_type": "execute_result"
    }
   ],
   "source": [
    "W = torusinvariant_prime_divisors(B3)[1]"
   ]
  },
  {
   "cell_type": "code",
   "execution_count": 57,
   "id": "c71e3e19-d085-4560-b509-d8a2f878ed3f",
   "metadata": {},
   "outputs": [
    {
     "name": "stdout",
     "output_type": "stream",
     "text": [
      "Construction over concrete base may lead to singularity enhancement. Consider computing singular_loci. However, this may take time!\n",
      "\n"
     ]
    },
    {
     "data": {
      "text/plain": [
       "Global Tate model over a concrete base -- SU(5)xU(1) restricted Tate model based on arXiv paper 1109.3454 Eq. (3.1)"
      ]
     },
     "execution_count": 57,
     "metadata": {},
     "output_type": "execute_result"
    }
   ],
   "source": [
    "t = literature_model(arxiv_id = \"1109.3454\" , equation = \"3.1\" , base_space = B3, defining_classes = Dict(\"w\" => W))"
   ]
  },
  {
   "cell_type": "code",
   "execution_count": 58,
   "id": "b33c880c-b841-4d02-abd1-d94e31512da7",
   "metadata": {},
   "outputs": [
    {
     "data": {
      "text/plain": [
       "\"Nucl. Phys. B\""
      ]
     },
     "execution_count": 58,
     "metadata": {},
     "output_type": "execute_result"
    }
   ],
   "source": [
    "journal_name(t)"
   ]
  },
  {
   "cell_type": "code",
   "execution_count": 59,
   "id": "951d0046-e8b4-4f7d-9323-7e1a11de654c",
   "metadata": {},
   "outputs": [
    {
     "data": {
      "text/plain": [
       "3-element Vector{String}:\n",
       " \"Sven Krause\"\n",
       " \"Christoph Mayrhofer\"\n",
       " \"Timo Weigand\""
      ]
     },
     "execution_count": 59,
     "metadata": {},
     "output_type": "execute_result"
    }
   ],
   "source": [
    "paper_authors(t)"
   ]
  },
  {
   "cell_type": "code",
   "execution_count": 60,
   "id": "c1b76ba8-04dd-4ce8-8374-b4d30175ac5e",
   "metadata": {},
   "outputs": [
    {
     "data": {
      "text/plain": [
       "\"10.48550/arXiv.1109.3454\""
      ]
     },
     "execution_count": 60,
     "metadata": {},
     "output_type": "execute_result"
    }
   ],
   "source": [
    "arxiv_doi(t)"
   ]
  },
  {
   "cell_type": "code",
   "execution_count": 61,
   "id": "44984a03-e824-4c6c-a550-3b835854c8a5",
   "metadata": {},
   "outputs": [
    {
     "data": {
      "text/plain": [
       "\"3.1\""
      ]
     },
     "execution_count": 61,
     "metadata": {},
     "output_type": "execute_result"
    }
   ],
   "source": [
    "journal_model_equation_number(t)"
   ]
  },
  {
   "cell_type": "code",
   "execution_count": 62,
   "id": "f26d5837-68f6-4aa2-b946-a68a570796c6",
   "metadata": {},
   "outputs": [
    {
     "data": {
      "text/plain": [
       "\"9\""
      ]
     },
     "execution_count": 62,
     "metadata": {},
     "output_type": "execute_result"
    }
   ],
   "source": [
    "journal_model_page(t)"
   ]
  },
  {
   "cell_type": "code",
   "execution_count": 63,
   "id": "519995cc-4fdd-4325-b977-4874b94db4df",
   "metadata": {},
   "outputs": [
    {
     "data": {
      "text/plain": [
       "Dict{String, ToricDivisorClass} with 1 entry:\n",
       "  \"w\" => Divisor class on a normal toric variety"
      ]
     },
     "execution_count": 63,
     "metadata": {},
     "output_type": "execute_result"
    }
   ],
   "source": [
    "defining_classes(t)"
   ]
  },
  {
   "cell_type": "code",
   "execution_count": 64,
   "id": "9bf3817d-0e21-4233-bac3-80bcc88180d4",
   "metadata": {},
   "outputs": [
    {
     "data": {
      "text/plain": [
       "9-element Vector{String}:\n",
       " \"a21\"\n",
       " \"a6\"\n",
       " \"a3\"\n",
       " \"w\"\n",
       " \"a2\"\n",
       " \"a1\"\n",
       " \"a43\"\n",
       " \"a4\"\n",
       " \"a32\""
      ]
     },
     "execution_count": 64,
     "metadata": {},
     "output_type": "execute_result"
    }
   ],
   "source": [
    "model_sections(t)"
   ]
  },
  {
   "cell_type": "code",
   "execution_count": 65,
   "id": "40385bd5-7ade-4a86-a4dd-050a9b6efd94",
   "metadata": {},
   "outputs": [
    {
     "data": {
      "text/plain": [
       "Dict{String, MPolyRingElem} with 4 entries:\n",
       "  \"a6\" => 0\n",
       "  \"a3\" => w^2*a32\n",
       "  \"a2\" => w*a21\n",
       "  \"a4\" => w^3*a43"
      ]
     },
     "execution_count": 65,
     "metadata": {},
     "output_type": "execute_result"
    }
   ],
   "source": [
    "model_section_parametrization(t)"
   ]
  },
  {
   "cell_type": "code",
   "execution_count": 66,
   "id": "438870b1-1aa5-41b3-8425-41ad0b9cb393",
   "metadata": {},
   "outputs": [
    {
     "data": {
      "text/plain": [
       "5-element Vector{String}:\n",
       " \"a21\"\n",
       " \"w\"\n",
       " \"a1\"\n",
       " \"a43\"\n",
       " \"a32\""
      ]
     },
     "execution_count": 66,
     "metadata": {},
     "output_type": "execute_result"
    }
   ],
   "source": [
    "tunable_sections(t)"
   ]
  },
  {
   "cell_type": "code",
   "execution_count": 67,
   "id": "dd75c6d6-5bd8-4553-8ad4-2bfbcc84b586",
   "metadata": {},
   "outputs": [
    {
     "data": {
      "text/plain": [
       "Dict{String, Vector{Int64}} with 5 entries:\n",
       "  \"a21\" => [2, -1]\n",
       "  \"w\"   => [0, 1]\n",
       "  \"a1\"  => [1, 0]\n",
       "  \"a43\" => [4, -3]\n",
       "  \"a32\" => [3, -2]"
      ]
     },
     "execution_count": 67,
     "metadata": {},
     "output_type": "execute_result"
    }
   ],
   "source": [
    "classes_of_tunable_sections_in_basis_of_Kbar_and_defining_classes(t)"
   ]
  },
  {
   "cell_type": "code",
   "execution_count": 68,
   "id": "fac4230f-647c-44be-8cb7-019123c919e7",
   "metadata": {},
   "outputs": [
    {
     "data": {
      "text/plain": [
       "Dict{String, ToricDivisorClass} with 9 entries:\n",
       "  \"a21\" => Divisor class on a normal toric variety\n",
       "  \"a6\"  => Divisor class on a normal toric variety\n",
       "  \"a3\"  => Divisor class on a normal toric variety\n",
       "  \"w\"   => Divisor class on a normal toric variety\n",
       "  \"a2\"  => Divisor class on a normal toric variety\n",
       "  \"a1\"  => Divisor class on a normal toric variety\n",
       "  \"a43\" => Divisor class on a normal toric variety\n",
       "  \"a4\"  => Divisor class on a normal toric variety\n",
       "  \"a32\" => Divisor class on a normal toric variety"
      ]
     },
     "execution_count": 68,
     "metadata": {},
     "output_type": "execute_result"
    }
   ],
   "source": [
    "classes_of_model_sections(t)"
   ]
  },
  {
   "cell_type": "code",
   "execution_count": 69,
   "id": "a1f5167e-5c1c-4ca7-ba81-7672438526a1",
   "metadata": {},
   "outputs": [
    {
     "data": {
      "text/plain": [
       "Dict{String, MPolyDecRingElem{QQFieldElem, QQMPolyRingElem}} with 9 entries:\n",
       "  \"a21\" => 8196*x1^7 - 7791*x1^6*x2 - 957*x1^6*x3 + 1695*x1^6*x4 - 9153*x1^5*x2…\n",
       "  \"a6\"  => 0\n",
       "  \"a3\"  => 9076*x1^12 + 7314*x1^11*x2 + 1897*x1^11*x3 - 8172*x1^11*x4 + 2184*x1…\n",
       "  \"w\"   => x1\n",
       "  \"a2\"  => 8196*x1^8 - 7791*x1^7*x2 - 957*x1^7*x3 + 1695*x1^7*x4 - 9153*x1^6*x2…\n",
       "  \"a1\"  => -5509*x1^4 - 2838*x1^3*x2 + 1340*x1^3*x3 - 3744*x1^3*x4 - 1662*x1^2*…\n",
       "  \"a43\" => 1418*x1^13 + 5456*x1^12*x2 + 5821*x1^12*x3 + 6989*x1^12*x4 + 1012*x1…\n",
       "  \"a4\"  => 1418*x1^16 + 5456*x1^15*x2 + 5821*x1^15*x3 + 6989*x1^15*x4 + 1012*x1…\n",
       "  \"a32\" => 9076*x1^10 + 7314*x1^9*x2 + 1897*x1^9*x3 - 8172*x1^9*x4 + 2184*x1^8*…"
      ]
     },
     "execution_count": 69,
     "metadata": {},
     "output_type": "execute_result"
    }
   ],
   "source": [
    "explicit_model_sections(t)"
   ]
  },
  {
   "cell_type": "code",
   "execution_count": 70,
   "id": "071013f6-cfaf-4128-9a7f-9e616db84254",
   "metadata": {},
   "outputs": [
    {
     "data": {
      "text/plain": [
       "1-element Vector{Vector{Vector}}:\n",
       " [[[\"x\", \"y\", \"w\"], [\"y\", \"e1\"], [\"x\", \"e4\"], [\"y\", \"e2\"], [\"x\", \"y\"]], [\"e1\", \"e4\", \"e2\", \"e3\", \"s\"]]"
      ]
     },
     "execution_count": 70,
     "metadata": {},
     "output_type": "execute_result"
    }
   ],
   "source": [
    "resolutions(t)"
   ]
  },
  {
   "cell_type": "code",
   "execution_count": 71,
   "id": "67bbb3fc-9799-4d0a-8598-e552b4abe407",
   "metadata": {},
   "outputs": [
    {
     "data": {
      "text/plain": [
       "Partially resolved global Tate model over a concrete base -- SU(5)xU(1) restricted Tate model based on arXiv paper 1109.3454 Eq. (3.1)"
      ]
     },
     "execution_count": 71,
     "metadata": {},
     "output_type": "execute_result"
    }
   ],
   "source": [
    "t5 = resolve(t, 1)"
   ]
  },
  {
   "cell_type": "code",
   "execution_count": 72,
   "id": "8460b5ca-8ff4-4980-a6ae-7023360a49af",
   "metadata": {},
   "outputs": [],
   "source": [
    "v = ambient_space(t5);"
   ]
  },
  {
   "cell_type": "code",
   "execution_count": 73,
   "id": "f53d6c9a-8c50-4f7a-b87f-07e838a22fbf",
   "metadata": {},
   "outputs": [
    {
     "data": {
      "text/plain": [
       "Multivariate polynomial ring in 12 variables over QQ graded by\n",
       "  x1 -> [1 0 0 0 0 0 0]\n",
       "  x2 -> [0 1 0 0 0 0 0]\n",
       "  x3 -> [0 1 0 0 0 0 0]\n",
       "  x4 -> [0 1 0 0 0 0 0]\n",
       "  x -> [0 0 1 0 0 0 0]\n",
       "  y -> [0 0 0 1 0 0 0]\n",
       "  z -> [0 0 0 0 1 0 0]\n",
       "  e1 -> [0 0 0 0 0 1 0]\n",
       "  e4 -> [0 0 0 0 0 0 1]\n",
       "  e2 -> [-1 -3 -1 1 -1 -1 0]\n",
       "  e3 -> [0 4 1 -1 1 0 -1]\n",
       "  s -> [2 6 -1 0 2 1 1]"
      ]
     },
     "execution_count": 73,
     "metadata": {},
     "output_type": "execute_result"
    }
   ],
   "source": [
    "cox_ring(v)"
   ]
  },
  {
   "cell_type": "code",
   "execution_count": 74,
   "id": "c1088724-d3de-4d4a-a318-f72c75ddbac8",
   "metadata": {},
   "outputs": [
    {
     "data": {
      "text/plain": [
       "[1   0   0   0   0   0   0   0   0   -1    0    2]\n",
       "[0   1   1   1   0   0   0   0   0   -3    4    6]\n",
       "[0   0   0   0   1   0   0   0   0   -1    1   -1]\n",
       "[0   0   0   0   0   1   0   0   0    1   -1    0]\n",
       "[0   0   0   0   0   0   1   0   0   -1    1    2]\n",
       "[0   0   0   0   0   0   0   1   0   -1    0    1]\n",
       "[0   0   0   0   0   0   0   0   1    0   -1    1]"
      ]
     },
     "execution_count": 74,
     "metadata": {},
     "output_type": "execute_result"
    }
   ],
   "source": [
    "M = matrix(map_from_torusinvariant_weil_divisor_group_to_class_group(v));\n",
    "M2 = transpose(M)"
   ]
  },
  {
   "cell_type": "code",
   "execution_count": 75,
   "id": "2d86c27b-2213-4f3b-b921-4203267e31b8",
   "metadata": {},
   "outputs": [
    {
     "data": {
      "text/plain": [
       "Torus-invariant, non-prime divisor on a normal toric variety"
      ]
     },
     "execution_count": 75,
     "metadata": {},
     "output_type": "execute_result"
    }
   ],
   "source": [
    "W = 2 * torusinvariant_prime_divisors(B3)[1]"
   ]
  },
  {
   "cell_type": "code",
   "execution_count": 76,
   "id": "eb6caaef-7c14-49eb-a991-7229126fddae",
   "metadata": {},
   "outputs": [
    {
     "name": "stdout",
     "output_type": "stream",
     "text": [
      "Construction over concrete base may lead to singularity enhancement. Consider computing singular_loci. However, this may take time!\n",
      "\n"
     ]
    },
    {
     "data": {
      "text/plain": [
       "Global Tate model over a concrete base -- SU(5)xU(1) restricted Tate model based on arXiv paper 1109.3454 Eq. (3.1)"
      ]
     },
     "execution_count": 76,
     "metadata": {},
     "output_type": "execute_result"
    }
   ],
   "source": [
    "t = literature_model(arxiv_id = \"1109.3454\" , equation = \"3.1\", base_space = B3, defining_classes = Dict(\"w\" => W))"
   ]
  },
  {
   "cell_type": "code",
   "execution_count": 77,
   "id": "46c8f796-e2b5-4e6d-988b-d653f27ee7bb",
   "metadata": {},
   "outputs": [
    {
     "data": {
      "text/plain": [
       "Partially resolved global Tate model over a concrete base -- SU(5)xU(1) restricted Tate model based on arXiv paper 1109.3454 Eq. (3.1)"
      ]
     },
     "execution_count": 77,
     "metadata": {},
     "output_type": "execute_result"
    }
   ],
   "source": [
    "t_res = resolve(t, 1)"
   ]
  },
  {
   "cell_type": "code",
   "execution_count": 78,
   "id": "5d4b02e1-8259-49f7-9dde-6dfde0c8ab2b",
   "metadata": {},
   "outputs": [
    {
     "name": "stdout",
     "output_type": "stream",
     "text": [
      "Model 33:\n",
      "Dict{String, Any}(\"journal_section\" => \"3\", \"arxiv_page\" => \"67\", \"arxiv_id\" => \"1408.4808\", \"gauge_algebra\" => Any[\"su(3)\", \"su(2)\", \"u(1)\"], \"arxiv_version\" => \"2\", \"journal_equation\" => \"3.141\", \"journal_page\" => \"67\", \"arxiv_equation\" => \"3.142\", \"journal_doi\" => \"10.1007/JHEP01(2015)142\", \"arxiv_section\" => \"3\", \"journal\" => \"JHEP\", \"file\" => \"model1408_4808-11-WSF.json\", \"arxiv_doi\" => \"10.48550/arXiv.1408.4808\", \"model_index\" => \"33\", \"type\" => \"weierstrass\")\n",
      "\n",
      "Model 34:\n",
      "Dict{String, Any}(\"journal_section\" => \"3\", \"arxiv_page\" => \"67\", \"arxiv_id\" => \"1408.4808\", \"gauge_algebra\" => Any[\"su(3)\", \"su(2)\", \"u(1)\"], \"arxiv_version\" => \"2\", \"journal_equation\" => \"3.141\", \"journal_page\" => \"67\", \"arxiv_equation\" => \"3.142\", \"journal_doi\" => \"10.1007/JHEP01(2015)142\", \"arxiv_section\" => \"3\", \"journal\" => \"JHEP\", \"file\" => \"model1408_4808-11.json\", \"arxiv_doi\" => \"10.48550/arXiv.1408.4808\", \"model_index\" => \"34\", \"type\" => \"hypersurface\")\n",
      "\n",
      "Model 39:\n",
      "Dict{String, Any}(\"journal_section\" => \"3\", \"arxiv_page\" => \"75\", \"arxiv_id\" => \"1408.4808\", \"gauge_algebra\" => Any[\"su(3)\", \"su(2)\", \"su(2)\", \"u(1)\"], \"arxiv_version\" => \"2\", \"journal_equation\" => \"3.167\", \"journal_page\" => \"75\", \"arxiv_equation\" => \"3.168\", \"journal_doi\" => \"10.1007/JHEP01(2015)142\", \"arxiv_section\" => \"3\", \"journal\" => \"JHEP\", \"file\" => \"model1408_4808-14-WSF.json\", \"arxiv_doi\" => \"10.48550/arXiv.1408.4808\", \"model_index\" => \"39\", \"type\" => \"weierstrass\")\n",
      "\n",
      "Model 40:\n",
      "Dict{String, Any}(\"journal_section\" => \"3\", \"arxiv_page\" => \"75\", \"arxiv_id\" => \"1408.4808\", \"gauge_algebra\" => Any[\"su(3)\", \"su(2)\", \"su(2)\", \"u(1)\"], \"arxiv_version\" => \"2\", \"journal_equation\" => \"3.167\", \"journal_page\" => \"75\", \"arxiv_equation\" => \"3.168\", \"journal_doi\" => \"10.1007/JHEP01(2015)142\", \"arxiv_section\" => \"3\", \"journal\" => \"JHEP\", \"file\" => \"model1408_4808-14.json\", \"arxiv_doi\" => \"10.48550/arXiv.1408.4808\", \"model_index\" => \"40\", \"type\" => \"hypersurface\")\n",
      "\n",
      "Model 45:\n",
      "Dict{String, Any}(\"journal_section\" => \"\", \"arxiv_page\" => \"2\", \"arxiv_id\" => \"1903.00009\", \"gauge_algebra\" => Any[\"su(3)\", \"su(2)\", \"u(1)\"], \"arxiv_version\" => \"3\", \"journal_equation\" => \"2\", \"journal_page\" => \"2\", \"arxiv_equation\" => \"2\", \"journal_doi\" => \"10.1103/PhysRevLett.123.101601\", \"arxiv_section\" => \"II\", \"journal\" => \"Physical Review Letters\", \"file\" => \"model1903_00009.json\", \"arxiv_doi\" => \"10.48550/arXiv.1903.00009\", \"model_index\" => \"45\", \"type\" => \"hypersurface\")\n",
      "\n"
     ]
    }
   ],
   "source": [
    "display_all_literature_models(Dict(\"gauge_algebra\" => [\"u(1)\" , \"su(2)\" , \"su(3)\" ]))"
   ]
  },
  {
   "cell_type": "code",
   "execution_count": 79,
   "id": "6cc2dcfb-481f-4e5e-8629-21cb7be3d98d",
   "metadata": {},
   "outputs": [
    {
     "data": {
      "text/plain": [
       "Divisor class on a normal toric variety"
      ]
     },
     "execution_count": 79,
     "metadata": {},
     "output_type": "execute_result"
    }
   ],
   "source": [
    "Kbar = anticanonical_divisor_class(B3)"
   ]
  },
  {
   "cell_type": "code",
   "execution_count": 80,
   "id": "5da89f44-0960-4b4e-b566-386aabf739bc",
   "metadata": {},
   "outputs": [
    {
     "name": "stdout",
     "output_type": "stream",
     "text": [
      "Construction over concrete base may lead to singularity enhancement. Consider computing singular_loci. However, this may take time!\n",
      "\n"
     ]
    },
    {
     "data": {
      "text/plain": [
       "Hypersurface model over a concrete base"
      ]
     },
     "execution_count": 80,
     "metadata": {},
     "output_type": "execute_result"
    }
   ],
   "source": [
    "foah11_B3 = literature_model(arxiv_id = \"1408.4808\" , equation = \"3.142\" , type = \"hypersurface\" , base_space = B3, \n",
    "        defining_classes = Dict(\"s7\" => Kbar, \"s9\" => Kbar))"
   ]
  },
  {
   "cell_type": "code",
   "execution_count": 81,
   "id": "aa392cc0-2ed4-4d28-9302-5a05e3ae6ea7",
   "metadata": {},
   "outputs": [
    {
     "data": {
      "text/plain": [
       "\"F-theory hypersurface model with fiber ambient space F_11\""
      ]
     },
     "execution_count": 81,
     "metadata": {},
     "output_type": "execute_result"
    }
   ],
   "source": [
    "model_description(foah11_B3)"
   ]
  },
  {
   "cell_type": "code",
   "execution_count": 82,
   "id": "85b78ab0-b4b1-4d27-8145-51a641cb12a3",
   "metadata": {},
   "outputs": [
    {
     "name": "stdout",
     "output_type": "stream",
     "text": [
      "Construction over concrete base may lead to singularity enhancement. Consider computing singular_loci. However, this may take time!\n",
      "\n"
     ]
    },
    {
     "data": {
      "text/plain": [
       "Hypersurface model over a concrete base"
      ]
     },
     "execution_count": 82,
     "metadata": {},
     "output_type": "execute_result"
    }
   ],
   "source": [
    "foah11_B3 = literature_model(34, base_space = B3, defining_classes =\n",
    "Dict(\"s7\" => Kbar, \"s9\" => Kbar))"
   ]
  },
  {
   "cell_type": "code",
   "execution_count": 83,
   "id": "34750d37-ee1d-47f2-b376-a1de77fe8507",
   "metadata": {},
   "outputs": [
    {
     "data": {
      "text/plain": [
       "7-element Vector{MPolyDecRingElem{QQFieldElem, QQMPolyRingElem}}:\n",
       " 1\n",
       " 0\n",
       " 8755*x1^4 - 6893*x1^3*x2 + 355*x1^3*x3 + 4150*x1^3*x4 - 876*x1^2*x2^2 + 4024*x1^2*x2*x3 - 1231*x1^2*x2*x4 + 2020*x1^2*x3^2 + 9998*x1^2*x3*x4 - 9511*x1^2*x4^2 - 9442*x1*x2^3 - 3792*x1*x2^2*x3 + 3831*x1*x2^2*x4 + 9234*x1*x2*x3^2 - 4926*x1*x2*x3*x4 + 3004*x1*x2*x4^2 + 8876*x1*x3^3 - 5476*x1*x3^2*x4 - 2415*x1*x3*x4^2 - 9409*x1*x4^3 + 6314*x2^4 + 6965*x2^3*x3 + 2078*x2^3*x4 + 7917*x2^2*x3^2 + 688*x2^2*x3*x4 - 1343*x2^2*x4^2 + 4751*x2*x3^3 + 6536*x2*x3^2*x4 - 7178*x2*x3*x4^2 - 3970*x2*x4^3 + 74*x3^4 + 231*x3^3*x4 + 2758*x3^2*x4^2 - 7887*x3*x4^3 - 6129*x4^4\n",
       " 1\n",
       " 1\n",
       " -8755*x1^4 + 6893*x1^3*x2 - 355*x1^3*x3 - 4150*x1^3*x4 + 876*x1^2*x2^2 - 4024*x1^2*x2*x3 + 1231*x1^2*x2*x4 - 2020*x1^2*x3^2 - 9998*x1^2*x3*x4 + 9511*x1^2*x4^2 + 9442*x1*x2^3 + 3792*x1*x2^2*x3 - 3831*x1*x2^2*x4 - 9234*x1*x2*x3^2 + 4926*x1*x2*x3*x4 - 3004*x1*x2*x4^2 - 8876*x1*x3^3 + 5476*x1*x3^2*x4 + 2415*x1*x3*x4^2 + 9409*x1*x4^3 - 6314*x2^4 - 6965*x2^3*x3 - 2078*x2^3*x4 - 7917*x2^2*x3^2 - 688*x2^2*x3*x4 + 1343*x2^2*x4^2 - 4751*x2*x3^3 - 6536*x2*x3^2*x4 + 7178*x2*x3*x4^2 + 3970*x2*x4^3 - 74*x3^4 - 231*x3^3*x4 - 2758*x3^2*x4^2 + 7887*x3*x4^3 + 6129*x4^4\n",
       " 1"
      ]
     },
     "execution_count": 83,
     "metadata": {},
     "output_type": "execute_result"
    }
   ],
   "source": [
    "zero_section(foah11_B3)"
   ]
  },
  {
   "cell_type": "code",
   "execution_count": 84,
   "id": "9df0bdfe-987f-42d4-8122-c422d03a64f1",
   "metadata": {},
   "outputs": [
    {
     "data": {
      "text/plain": [
       "1-element Vector{Vector{MPolyDecRingElem{QQFieldElem, QQMPolyRingElem}}}:\n",
       " [527*x1^4 - 5589*x1^3*x2 - 4927*x1^3*x3 + 1639*x1^3*x4 - 8765*x1^2*x2^2 - 193*x1^2*x2*x3 + 6608*x1^2*x2*x4 - 9310*x1^2*x3^2 - 3732*x1^2*x3*x4 + 2889*x1^2*x4^2 - 8952*x1*x2^3 - 5839*x1*x2^2*x3 - 2384*x1*x2^2*x4 - 6973*x1*x2*x3^2 + 8380*x1*x2*x3*x4 + 2697*x1*x2*x4^2 - 3670*x1*x3^3 + 5603*x1*x3^2*x4 + 7931*x1*x3*x4^2 + 8924*x1*x4^3 + 9941*x2^4 + 1113*x2^3*x3 - 4901*x2^3*x4 - 6594*x2^2*x3^2 + 4164*x2^2*x3*x4 + 423*x2^2*x4^2 + 9155*x2*x3^3 - 9587*x2*x3^2*x4 + 3600*x2*x3*x4^2 + 3257*x2*x4^3 - 6530*x3^4 - 8163*x3^3*x4 + 7314*x3^2*x4^2 + 9156*x3*x4^3 + 9822*x4^4, 1, 1, -9258*x1^4 - 6471*x1^3*x2 + 943*x1^3*x3 + 3967*x1^3*x4 + 8930*x1^2*x2^2 + 8677*x1^2*x2*x3 + 8578*x1^2*x2*x4 + 3302*x1^2*x3^2 - 2341*x1^2*x3*x4 + 2981*x1^2*x4^2 - 9119*x1*x2^3 + 7126*x1*x2^2*x3 + 187*x1*x2^2*x4 - 3763*x1*x2*x3^2 - 2606*x1*x2*x3*x4 + 2147*x1*x2*x4^2 - 998*x1*x3^3 + 7805*x1*x3^2*x4 + 5118*x1*x3*x4^2 - 5435*x1*x4^3 + 159*x2^4 - 8370*x2^3*x3 + 6562*x2^3*x4 + 5740*x2^2*x3^2 - 7831*x2^2*x3*x4 - 3452*x2^2*x4^2 + 1525*x2*x3^3 - 1211*x2*x3^2*x4 + 9324*x2*x3*x4^2 + 7137*x2*x4^3 + 3231*x3^4 + 5734*x3^3*x4 - 771*x3^2*x4^2 + 1287*x3*x4^3 + 9119*x4^4, 1, 1, 0]"
      ]
     },
     "execution_count": 84,
     "metadata": {},
     "output_type": "execute_result"
    }
   ],
   "source": [
    "generating_sections(foah11_B3)"
   ]
  },
  {
   "cell_type": "code",
   "execution_count": 85,
   "id": "aa47df08-c29a-4bbc-9b8c-d52d6ba66600",
   "metadata": {},
   "outputs": [
    {
     "data": {
      "text/plain": [
       "Direct sum Lie algebra\n",
       "  of dimension 12\n",
       "with summands\n",
       "  sl_3\n",
       "  sl_2\n",
       "  linear Lie algebra\n",
       "over algebraic closure of rational field"
      ]
     },
     "execution_count": 85,
     "metadata": {},
     "output_type": "execute_result"
    }
   ],
   "source": [
    "g = gauge_algebra(foah11_B3)"
   ]
  },
  {
   "cell_type": "code",
   "execution_count": 86,
   "id": "6c9467af-68d9-4881-b1e9-12638c622886",
   "metadata": {},
   "outputs": [
    {
     "data": {
      "text/plain": [
       "3-element Vector{Vector{String}}:\n",
       " [\"diagonal_matrix(root_of_unity(C,3),3)\"]\n",
       " [\"-identity_matrix(C,2)\"]\n",
       " [\"diagonal_matrix(root_of_unity(C,6,-1),1)\"]"
      ]
     },
     "execution_count": 86,
     "metadata": {},
     "output_type": "execute_result"
    }
   ],
   "source": [
    "global_gauge_quotients(foah11_B3)"
   ]
  },
  {
   "cell_type": "code",
   "execution_count": 87,
   "id": "00f1cf84-1f7e-48d9-8089-5163ef5fb840",
   "metadata": {},
   "outputs": [
    {
     "name": "stdout",
     "output_type": "stream",
     "text": [
      "Construction over concrete base may lead to singularity enhancement. Consider computing singular_loci. However, this may take time!\n",
      "\n"
     ]
    },
    {
     "data": {
      "text/plain": [
       "Weierstrass model over a concrete base -- F-theory weierstrass model dual to hypersurface model with fiber ambient space F_11 based on arXiv paper 1408.4808 Eq. (3.142)"
      ]
     },
     "execution_count": 87,
     "metadata": {},
     "output_type": "execute_result"
    }
   ],
   "source": [
    "foah11_B3_weier = weierstrass_model(foah11_B3)"
   ]
  },
  {
   "cell_type": "code",
   "execution_count": 88,
   "id": "14d0c78f-e005-43ec-9184-5401a3c6ab49",
   "metadata": {},
   "outputs": [
    {
     "data": {
      "text/plain": [
       "1-element Vector{String}:\n",
       " \"1408_4808-11-WSF\""
      ]
     },
     "execution_count": 88,
     "metadata": {},
     "output_type": "execute_result"
    }
   ],
   "source": [
    "birational_literature_models(foah11_B3)"
   ]
  },
  {
   "cell_type": "code",
   "execution_count": 89,
   "id": "20ab42aa-6321-4df9-b8ab-8801e6721934",
   "metadata": {},
   "outputs": [
    {
     "data": {
      "text/plain": [
       "3-element Vector{Tuple{MPolyIdeal{<:MPolyRingElem}, Tuple{Int64, Int64, Int64}, String}}:\n",
       " (Ideal with 1 generator, (0, 0, 1), \"I_1\")\n",
       " (Ideal with 1 generator, (0, 0, 2), \"Non-split I_2\")\n",
       " (Ideal with 1 generator, (0, 0, 3), \"Split I_3\")"
      ]
     },
     "execution_count": 89,
     "metadata": {},
     "output_type": "execute_result"
    }
   ],
   "source": [
    "singular_loci(foah11_B3_weier)"
   ]
  },
  {
   "cell_type": "code",
   "execution_count": 90,
   "id": "75411ced-6fb4-4107-a958-5d1897fce35b",
   "metadata": {},
   "outputs": [],
   "source": [
    "x1, x2, x3, x4 = gens(cox_ring(base_space(foah11_B3_weier)));"
   ]
  },
  {
   "cell_type": "code",
   "execution_count": 91,
   "id": "3a313c24-083a-4562-ae38-a8132069e4db",
   "metadata": {},
   "outputs": [
    {
     "data": {
      "text/plain": [
       "6-element Vector{String}:\n",
       " \"s1\"\n",
       " \"s5\"\n",
       " \"s6\"\n",
       " \"s2\"\n",
       " \"s9\"\n",
       " \"s3\""
      ]
     },
     "execution_count": 91,
     "metadata": {},
     "output_type": "execute_result"
    }
   ],
   "source": [
    "tunable_sections(foah11_B3_weier)"
   ]
  },
  {
   "cell_type": "code",
   "execution_count": 92,
   "id": "240e88e1-0ca9-413e-bdce-61c35c8d09fa",
   "metadata": {},
   "outputs": [
    {
     "data": {
      "text/plain": [
       "Weierstrass model over a concrete base"
      ]
     },
     "execution_count": 92,
     "metadata": {},
     "output_type": "execute_result"
    }
   ],
   "source": [
    "tuned_model = tune(foah11_B3_weier, Dict(\"s5\" =>zero(parent(x1))))"
   ]
  },
  {
   "cell_type": "code",
   "execution_count": 93,
   "id": "99f16a81-a4a6-465a-99eb-61487331bcd5",
   "metadata": {},
   "outputs": [
    {
     "data": {
      "text/plain": [
       "4-element Vector{Tuple{MPolyIdeal{<:MPolyRingElem}, Tuple{Int64, Int64, Int64}, String}}:\n",
       " (Ideal with 1 generator, (0, 0, 1), \"I_1\")\n",
       " (Ideal with 1 generator, (0, 0, 2), \"Non-split I_2\")\n",
       " (Ideal with 1 generator, (0, 0, 2), \"Non-split I_2\")\n",
       " (Ideal with 1 generator, (0, 0, 4), \"Split I_4\")"
      ]
     },
     "execution_count": 93,
     "metadata": {},
     "output_type": "execute_result"
    }
   ],
   "source": [
    "singular_loci(tuned_model)"
   ]
  },
  {
   "cell_type": "code",
   "execution_count": 94,
   "id": "b6b7cfcd-15d6-4e9e-a833-330ac1f31fd2",
   "metadata": {},
   "outputs": [
    {
     "data": {
      "text/plain": [
       "Hypersurface model over a concrete base"
      ]
     },
     "execution_count": 94,
     "metadata": {},
     "output_type": "execute_result"
    }
   ],
   "source": [
    "qsm_model = literature_model(arxiv_id = \"1903.00009\" , model_parameters = Dict(\"k\" => 283))"
   ]
  },
  {
   "cell_type": "code",
   "execution_count": 95,
   "id": "74fd2b00-4e18-4e62-8d25-a5be917a467f",
   "metadata": {},
   "outputs": [
    {
     "data": {
      "text/plain": [
       "Multivariate polynomial ring in 14 variables over QQ graded by\n",
       "  x1 -> [1 0 0 0 0 0 0 0 0]\n",
       "  x2 -> [0 1 0 0 0 0 0 0 0]\n",
       "  x3 -> [0 0 1 0 0 0 0 0 0]\n",
       "  x4 -> [0 0 0 1 0 0 0 0 0]\n",
       "  x5 -> [0 1 0 -1 0 0 0 0 0]\n",
       "  x6 -> [1 0 0 0 0 0 0 0 0]\n",
       "  x7 -> [-2 1 1 1 0 0 0 0 0]\n",
       "  v -> [0 0 0 0 1 0 0 0 0]\n",
       "  e3 -> [0 0 0 0 0 1 0 0 0]\n",
       "  e2 -> [0 0 0 0 0 0 1 0 0]\n",
       "  u -> [0 0 0 0 0 0 0 1 0]\n",
       "  e4 -> [0 0 0 0 0 0 0 0 1]\n",
       "  e1 -> [0 0 0 0 1 1 0 -1 -2]\n",
       "  w -> [0 0 0 0 0 1 1 1 1]"
      ]
     },
     "execution_count": 95,
     "metadata": {},
     "output_type": "execute_result"
    }
   ],
   "source": [
    "cox_ring(ambient_space(qsm_model))"
   ]
  },
  {
   "cell_type": "code",
   "execution_count": 96,
   "id": "6f5542c4-a099-4c9d-981b-169c93ae432e",
   "metadata": {},
   "outputs": [
    {
     "data": {
      "text/plain": [
       "Ideal generated by\n",
       "  x1*x6\n",
       "  x2*x4\n",
       "  x2*x5\n",
       "  x3*x5\n",
       "  x3*x7\n",
       "  v*e2\n",
       "  v*u\n",
       "  v*e4\n",
       "  v*e1\n",
       "  e3*w\n",
       "  e3*u\n",
       "  e3*e4\n",
       "  e3*e1\n",
       "  x4*x7\n",
       "  e2*w\n",
       "  e2*e4\n",
       "  e2*e1\n",
       "  u*w\n",
       "  u*e1\n",
       "  e4*w"
      ]
     },
     "execution_count": 96,
     "metadata": {},
     "output_type": "execute_result"
    }
   ],
   "source": [
    "stanley_reisner_ideal(ambient_space(qsm_model))"
   ]
  },
  {
   "cell_type": "code",
   "execution_count": 97,
   "id": "c8816ed0-e87c-4a87-bb93-e764cf42841e",
   "metadata": {},
   "outputs": [
    {
     "data": {
      "text/plain": [
       "Quotient\n",
       "  of multivariate polynomial ring in 14 variables x1, x2, x3, x4, ..., w\n",
       "    over rational field\n",
       "  by ideal with 25 generators"
      ]
     },
     "execution_count": 97,
     "metadata": {},
     "output_type": "execute_result"
    }
   ],
   "source": [
    "chow_ring(ambient_space(qsm_model))"
   ]
  },
  {
   "cell_type": "code",
   "execution_count": 98,
   "id": "316bda9f-5213-440e-af09-ae9c5a4ef8bb",
   "metadata": {},
   "outputs": [
    {
     "data": {
      "text/plain": [
       "91"
      ]
     },
     "execution_count": 98,
     "metadata": {},
     "output_type": "execute_result"
    }
   ],
   "source": [
    "binomial(14,2)"
   ]
  },
  {
   "cell_type": "code",
   "execution_count": 99,
   "id": "5987ebd5-55df-4234-8332-338502383de4",
   "metadata": {},
   "outputs": [
    {
     "data": {
      "text/plain": [
       "25"
      ]
     },
     "execution_count": 99,
     "metadata": {},
     "output_type": "execute_result"
    }
   ],
   "source": [
    "betti_number(ambient_space(qsm_model), 4)"
   ]
  },
  {
   "cell_type": "code",
   "execution_count": 100,
   "id": "5f2fb029-ecdb-4f67-b7f0-d93e45358631",
   "metadata": {},
   "outputs": [
    {
     "data": {
      "text/plain": [
       "25-element Vector{CohomologyClass}:\n",
       " Cohomology class on a normal toric variety given by x6*e2\n",
       " Cohomology class on a normal toric variety given by x4*u\n",
       " Cohomology class on a normal toric variety given by x6*e4\n",
       " Cohomology class on a normal toric variety given by x4*x6\n",
       " Cohomology class on a normal toric variety given by x7^2\n",
       " Cohomology class on a normal toric variety given by x6*e1\n",
       " Cohomology class on a normal toric variety given by x6*w\n",
       " Cohomology class on a normal toric variety given by x5*u\n",
       " Cohomology class on a normal toric variety given by x7*e2\n",
       " Cohomology class on a normal toric variety given by x5*x6\n",
       " Cohomology class on a normal toric variety given by x7*e4\n",
       " Cohomology class on a normal toric variety given by x7*e1\n",
       " Cohomology class on a normal toric variety given by x4*e2\n",
       " Cohomology class on a normal toric variety given by x7*w\n",
       " Cohomology class on a normal toric variety given by x6*u\n",
       " Cohomology class on a normal toric variety given by x4*e4\n",
       " Cohomology class on a normal toric variety given by x4*e1\n",
       " Cohomology class on a normal toric variety given by x4*w\n",
       " Cohomology class on a normal toric variety given by x5*e2\n",
       " Cohomology class on a normal toric variety given by e1*w\n",
       " Cohomology class on a normal toric variety given by x7*u\n",
       " Cohomology class on a normal toric variety given by x5*e4\n",
       " Cohomology class on a normal toric variety given by x6*x7\n",
       " Cohomology class on a normal toric variety given by x5*e1\n",
       " Cohomology class on a normal toric variety given by x5*w"
      ]
     },
     "execution_count": 100,
     "metadata": {},
     "output_type": "execute_result"
    }
   ],
   "source": [
    "basis_of_h22(ambient_space(qsm_model), check = false)"
   ]
  },
  {
   "cell_type": "code",
   "execution_count": 101,
   "id": "a9a2a061-aa4f-4c9f-bcf3-a60417f53d2c",
   "metadata": {},
   "outputs": [
    {
     "data": {
      "text/plain": [
       "25"
      ]
     },
     "execution_count": 101,
     "metadata": {},
     "output_type": "execute_result"
    }
   ],
   "source": [
    "g4_gens = chosen_g4_flux_basis(qsm_model);\n",
    "length(g4_gens)"
   ]
  },
  {
   "cell_type": "code",
   "execution_count": 102,
   "id": "06018a48-c945-4369-8479-b83e8f80cfb9",
   "metadata": {},
   "outputs": [
    {
     "data": {
      "text/plain": [
       "G4-flux candidate\n",
       "  - Elementary quantization checks: not executed\n",
       "  - Verticality checks: not executed\n",
       "  - Non-abelian gauge group: breaking pattern not analyzed\n",
       "  - Tadpole cancellation check: not executed"
      ]
     },
     "execution_count": 102,
     "metadata": {},
     "output_type": "execute_result"
    }
   ],
   "source": [
    "g4_gens[1]"
   ]
  },
  {
   "cell_type": "code",
   "execution_count": 103,
   "id": "d4012480-63a5-48cb-905f-e7ba5408689a",
   "metadata": {},
   "outputs": [
    {
     "data": {
      "text/plain": [
       "Cohomology class on a normal toric variety given by x6*e2"
      ]
     },
     "execution_count": 103,
     "metadata": {},
     "output_type": "execute_result"
    }
   ],
   "source": [
    "cohomology_class(g4_gens[1])"
   ]
  },
  {
   "cell_type": "code",
   "execution_count": 104,
   "id": "1d3f1ce9-3d07-4150-a98c-fc4364099841",
   "metadata": {},
   "outputs": [
    {
     "data": {
      "text/plain": [
       "A family of G4 fluxes:\n",
       "  - Elementary quantization checks: satisfied\n",
       "  - Verticality checks: failed\n",
       "  - Non-abelian gauge group: broken\n",
       "  - Tadpole constraint: not analyzed"
      ]
     },
     "execution_count": 104,
     "metadata": {},
     "output_type": "execute_result"
    }
   ],
   "source": [
    "fg = special_flux_family(qsm_model, check = false)"
   ]
  },
  {
   "cell_type": "code",
   "execution_count": 105,
   "id": "995c75a2-ba5a-443a-98f9-2ffc539bf150",
   "metadata": {},
   "outputs": [
    {
     "data": {
      "text/plain": [
       "(25, 25)"
      ]
     },
     "execution_count": 105,
     "metadata": {},
     "output_type": "execute_result"
    }
   ],
   "source": [
    "mat_int = matrix_integral(fg);\n",
    "size(mat_int)"
   ]
  },
  {
   "cell_type": "code",
   "execution_count": 106,
   "id": "a012f05a-cb7e-4237-b5ec-b4b040cbf810",
   "metadata": {},
   "outputs": [
    {
     "data": {
      "text/plain": [
       "(25, 0)"
      ]
     },
     "execution_count": 106,
     "metadata": {},
     "output_type": "execute_result"
    }
   ],
   "source": [
    "mat_rat = matrix_rational(fg);\n",
    "size(mat_rat)"
   ]
  },
  {
   "cell_type": "code",
   "execution_count": 107,
   "id": "23ffacad-ab64-4ec2-b81f-742867c3aa63",
   "metadata": {},
   "outputs": [
    {
     "data": {
      "text/plain": [
       "G4-flux candidate\n",
       "  - Elementary quantization checks: satisfied\n",
       "  - Verticality checks: not executed\n",
       "  - Non-abelian gauge group: breaking pattern not analyzed\n",
       "  - Tadpole cancellation check: not executed"
      ]
     },
     "execution_count": 107,
     "metadata": {},
     "output_type": "execute_result"
    }
   ],
   "source": [
    "g4 = random_flux_instance(fg)"
   ]
  },
  {
   "cell_type": "code",
   "execution_count": 108,
   "id": "4ec4c99e-61e9-4103-bbd2-aa007caf0ab2",
   "metadata": {},
   "outputs": [
    {
     "data": {
      "text/plain": [
       "A family of G4 fluxes:\n",
       "  - Elementary quantization checks: satisfied\n",
       "  - Verticality checks: satisfied\n",
       "  - Non-abelian gauge group: broken\n",
       "  - Tadpole constraint: not analyzed"
      ]
     },
     "execution_count": 108,
     "metadata": {},
     "output_type": "execute_result"
    }
   ],
   "source": [
    "fg_vert = special_flux_family(qsm_model, vert = true, check = false)"
   ]
  },
  {
   "cell_type": "code",
   "execution_count": 109,
   "id": "9cb2dbe3-040f-4fa4-b2f7-dc0256133400",
   "metadata": {},
   "outputs": [
    {
     "data": {
      "text/plain": [
       "(25, 17)"
      ]
     },
     "execution_count": 109,
     "metadata": {},
     "output_type": "execute_result"
    }
   ],
   "source": [
    "size(matrix_integral(fg_vert))"
   ]
  },
  {
   "cell_type": "code",
   "execution_count": 110,
   "id": "fa062060-157e-4d65-bc8e-1e6658b9271c",
   "metadata": {},
   "outputs": [
    {
     "data": {
      "text/plain": [
       "G4-flux candidate\n",
       "  - Elementary quantization checks: satisfied\n",
       "  - Verticality checks: satisfied\n",
       "  - Non-abelian gauge group: breaking pattern not analyzed\n",
       "  - Tadpole cancellation check: not executed"
      ]
     },
     "execution_count": 110,
     "metadata": {},
     "output_type": "execute_result"
    }
   ],
   "source": [
    "g4_vert = random_flux_instance(fg_vert)"
   ]
  },
  {
   "cell_type": "code",
   "execution_count": 111,
   "id": "23856e8b-699b-4583-8256-d95455a721f3",
   "metadata": {},
   "outputs": [
    {
     "data": {
      "text/plain": [
       "G4-flux candidate\n",
       "  - Elementary quantization checks: satisfied\n",
       "  - Verticality checks: satisfied\n",
       "  - Non-abelian gauge group: breaking pattern not analyzed\n",
       "  - Tadpole cancellation check: not executed"
      ]
     },
     "execution_count": 111,
     "metadata": {},
     "output_type": "execute_result"
    }
   ],
   "source": [
    "g4_vert_2 = random_flux(qsm_model, vert = true, check = false)"
   ]
  },
  {
   "cell_type": "code",
   "execution_count": 112,
   "id": "6b69f3eb-980b-4312-8c1d-4426f1b9f3a3",
   "metadata": {},
   "outputs": [
    {
     "data": {
      "text/plain": [
       "A family of G4 fluxes:\n",
       "  - Elementary quantization checks: satisfied\n",
       "  - Verticality checks: satisfied\n",
       "  - Non-abelian gauge group: not broken\n",
       "  - Tadpole constraint: not analyzed"
      ]
     },
     "execution_count": 112,
     "metadata": {},
     "output_type": "execute_result"
    }
   ],
   "source": [
    "fg_vert_not_breaking = special_flux_family(qsm_model, vert = true, not_breaking = true, check = false)"
   ]
  },
  {
   "cell_type": "code",
   "execution_count": 113,
   "id": "2f86f8c2-08f0-46bc-86f9-861fa314fbff",
   "metadata": {},
   "outputs": [
    {
     "data": {
      "text/plain": [
       "(25, 1)"
      ]
     },
     "execution_count": 113,
     "metadata": {},
     "output_type": "execute_result"
    }
   ],
   "source": [
    "size(matrix_integral(fg_vert_not_breaking))"
   ]
  },
  {
   "cell_type": "code",
   "execution_count": 114,
   "id": "d3171bc9-3984-48df-b9dc-87a87557af43",
   "metadata": {},
   "outputs": [
    {
     "data": {
      "text/plain": [
       "G4-flux candidate\n",
       "  - Elementary quantization checks: not executed\n",
       "  - Verticality checks: not executed\n",
       "  - Non-abelian gauge group: breaking pattern not analyzed\n",
       "  - Tadpole cancellation check: not executed"
      ]
     },
     "execution_count": 114,
     "metadata": {},
     "output_type": "execute_result"
    }
   ],
   "source": [
    "b22 = chosen_g4_flux_basis(qsm_model);\n",
    "mat_int = matrix_integral(fg_vert_not_breaking);\n",
    "g4_sample = sum([mat_int[k] * b22[k] for k in 1:length(b22)])"
   ]
  },
  {
   "cell_type": "code",
   "execution_count": 115,
   "id": "ad1503ac-a23b-4655-b393-9481b4b6942d",
   "metadata": {},
   "outputs": [
    {
     "data": {
      "text/plain": [
       "Cohomology class on a normal toric variety given by -1//5*x5*x6 + 1//30*x5*e2 + 1//15*x5*u + 1//10*x5*e4 + 1//15*x5*e1 + 1//30*x5*w - 11//15*x6*x7 + 2//15*x6*e2 + 4//15*x6*u + 2//5*x6*e4 + 4//15*x6*e1 + 2//15*x6*w - 7//30*x7^2 + 1//15*x7*e2 + 2//15*x7*u + 1//5*x7*e4 + 2//15*x7*e1 + 1//15*x7*w - 1//6*e1*w"
      ]
     },
     "execution_count": 115,
     "metadata": {},
     "output_type": "execute_result"
    }
   ],
   "source": [
    "cohomology_class(g4_sample)"
   ]
  },
  {
   "cell_type": "code",
   "execution_count": 116,
   "id": "15f3ce5c-6b2f-4ca6-9490-6bed5a3d1d40",
   "metadata": {},
   "outputs": [
    {
     "data": {
      "text/plain": [
       "30"
      ]
     },
     "execution_count": 116,
     "metadata": {},
     "output_type": "execute_result"
    }
   ],
   "source": [
    "kbar3(qsm_model)"
   ]
  },
  {
   "cell_type": "code",
   "execution_count": 117,
   "id": "c3d419b7-cb04-45e7-a40a-15732ccbccea",
   "metadata": {},
   "outputs": [],
   "source": [
    "divs = torusinvariant_prime_divisors(ambient_space(qsm_model));\n",
    "e1 = cohomology_class(divs[13]);\n",
    "e2 = cohomology_class(divs[10]);\n",
    "e4 = cohomology_class(divs[12]);\n",
    "u = cohomology_class(divs[11]);\n",
    "v = cohomology_class(divs[8]);\n",
    "pb_Kbar = cohomology_class(sum([divs[k] for k in 1:7]));"
   ]
  },
  {
   "cell_type": "code",
   "execution_count": 118,
   "id": "567222e4-1d3b-4759-97e9-20e07647d822",
   "metadata": {},
   "outputs": [],
   "source": [
    "g4_class = (-3) // kbar3(qsm_model) * (5 * e1 * e4 + pb_Kbar * (-3 * e1 - 2 * e2 - 6 * e4 + pb_Kbar - 4 * u + v));"
   ]
  },
  {
   "cell_type": "code",
   "execution_count": 119,
   "id": "77170d45-9b31-44dd-af68-ba1f8161f13b",
   "metadata": {},
   "outputs": [
    {
     "data": {
      "text/plain": [
       "G4-flux candidate\n",
       "  - Elementary quantization checks: not executed\n",
       "  - Verticality checks: not executed\n",
       "  - Non-abelian gauge group: breaking pattern not analyzed\n",
       "  - Tadpole cancellation check: not executed"
      ]
     },
     "execution_count": 119,
     "metadata": {},
     "output_type": "execute_result"
    }
   ],
   "source": [
    "g4_sample2 = g4_flux(qsm_model, g4_class, check = false, convert = true)"
   ]
  },
  {
   "cell_type": "code",
   "execution_count": 120,
   "id": "6dfc351e-14f5-4667-8503-dfec0c89a90d",
   "metadata": {},
   "outputs": [
    {
     "data": {
      "text/plain": [
       "Cohomology class on a normal toric variety given by -3//5*x5*x6 + 1//10*x5*e2 + 1//5*x5*u + 3//10*x5*e4 + 1//5*x5*e1 + 1//10*x5*w - 11//5*x6*x7 + 2//5*x6*e2 + 4//5*x6*u + 6//5*x6*e4 + 4//5*x6*e1 + 2//5*x6*w - 7//10*x7^2 + 1//5*x7*e2 + 2//5*x7*u + 3//5*x7*e4 + 2//5*x7*e1 + 1//5*x7*w - 1//2*e1*w"
      ]
     },
     "execution_count": 120,
     "metadata": {},
     "output_type": "execute_result"
    }
   ],
   "source": [
    "cohomology_class(g4_sample2)"
   ]
  },
  {
   "cell_type": "code",
   "execution_count": 121,
   "id": "97559cd7-7880-4888-a477-054b73cce67e",
   "metadata": {},
   "outputs": [
    {
     "data": {
      "text/plain": [
       "Cohomology class on a normal toric variety given by 0"
      ]
     },
     "execution_count": 121,
     "metadata": {},
     "output_type": "execute_result"
    }
   ],
   "source": [
    "3 * cohomology_class(g4_sample) - cohomology_class(g4_sample2)"
   ]
  },
  {
   "cell_type": "code",
   "execution_count": 122,
   "id": "20998bfc-5bb2-498f-849d-cbe1b289fe4b",
   "metadata": {},
   "outputs": [
    {
     "data": {
      "text/plain": [
       "-1//12*a1^2 + 123//4"
      ]
     },
     "execution_count": 122,
     "metadata": {},
     "output_type": "execute_result"
    }
   ],
   "source": [
    "d3_tadpole_constraint(fg_vert_not_breaking)"
   ]
  },
  {
   "cell_type": "code",
   "execution_count": 123,
   "id": "d9e62120-f349-43a9-a69c-1c130df3c4d8",
   "metadata": {},
   "outputs": [
    {
     "data": {
      "text/plain": [
       "[1]"
      ]
     },
     "execution_count": 123,
     "metadata": {},
     "output_type": "execute_result"
    }
   ],
   "source": [
    "mat_int = matrix(ZZ, [[1]])"
   ]
  },
  {
   "cell_type": "code",
   "execution_count": 124,
   "id": "8023fc66-efa7-47b5-abbd-3bf646ddf7fe",
   "metadata": {},
   "outputs": [
    {
     "data": {
      "text/plain": [
       "0 by 1 empty matrix"
      ]
     },
     "execution_count": 124,
     "metadata": {},
     "output_type": "execute_result"
    }
   ],
   "source": [
    "mat_rat = zero_matrix(QQ, 0, 1)"
   ]
  },
  {
   "cell_type": "code",
   "execution_count": 125,
   "id": "3fe56239-64b3-4c26-b257-0668d7861740",
   "metadata": {},
   "outputs": [
    {
     "data": {
      "text/plain": [
       "G4-flux candidate\n",
       "  - Elementary quantization checks: satisfied\n",
       "  - Verticality checks: satisfied\n",
       "  - Non-abelian gauge group: not broken\n",
       "  - Tadpole cancellation check: not executed"
      ]
     },
     "execution_count": 125,
     "metadata": {},
     "output_type": "execute_result"
    }
   ],
   "source": [
    "g4_exp = flux_instance(fg_vert_not_breaking, mat_int, mat_rat)"
   ]
  },
  {
   "cell_type": "code",
   "execution_count": 126,
   "id": "3871fc4c-8f12-4fdd-a5fa-c9fbe18dc4c6",
   "metadata": {},
   "outputs": [
    {
     "data": {
      "text/plain": [
       "92//3"
      ]
     },
     "execution_count": 126,
     "metadata": {},
     "output_type": "execute_result"
    }
   ],
   "source": [
    "d3_tadpole_constraint(g4_exp)"
   ]
  },
  {
   "cell_type": "code",
   "execution_count": 127,
   "id": "92a7f98e-732d-4dcd-8100-97f64208cd37",
   "metadata": {},
   "outputs": [
    {
     "data": {
      "text/plain": [
       "true"
      ]
     },
     "execution_count": 127,
     "metadata": {},
     "output_type": "execute_result"
    }
   ],
   "source": [
    "d3_tadpole_constraint(g4_exp) == -1//12 + 123//4"
   ]
  },
  {
   "cell_type": "raw",
   "id": "10a62cae-36a2-4ae4-8dfb-566cf9194a39",
   "metadata": {},
   "source": [
    "WARNING: The following models might take a few minutes to load in"
   ]
  },
  {
   "cell_type": "code",
   "execution_count": 128,
   "id": "470f2a76-9091-4b01-8867-714ad2d345af",
   "metadata": {},
   "outputs": [
    {
     "data": {
      "text/plain": [
       "Global Tate model over a concrete base -- The F-theory geometry with most flux vacua based on arXiv paper 1511.03209 Eq. (2.11)"
      ]
     },
     "execution_count": 128,
     "metadata": {},
     "output_type": "execute_result"
    }
   ],
   "source": [
    "#t = literature_model(arxiv_id = \"1511.03209\")"
   ]
  },
  {
   "cell_type": "code",
   "execution_count": 129,
   "id": "f4693f9c-3a4e-4240-ac3e-8753256fcdce",
   "metadata": {},
   "outputs": [
    {
     "data": {
      "text/plain": [
       "Partially resolved global Tate model over a concrete base -- The F-theory geometry with most flux vacua based on arXiv paper 1511.03209 Eq. (2.11)"
      ]
     },
     "execution_count": 129,
     "metadata": {},
     "output_type": "execute_result"
    }
   ],
   "source": [
    "#t_res = resolve(t, 1)"
   ]
  },
  {
   "cell_type": "code",
   "execution_count": 130,
   "id": "38d05dff-014f-481c-9008-72faeb1721e2",
   "metadata": {},
   "outputs": [],
   "source": [
    "#cohomology_ring(ambient_space(t_res), check = false);"
   ]
  },
  {
   "cell_type": "code",
   "execution_count": 131,
   "id": "ecde523d-066b-4752-91fc-f23ef9ac027c",
   "metadata": {},
   "outputs": [
    {
     "data": {
      "text/plain": [
       "Normal toric variety"
      ]
     },
     "execution_count": 131,
     "metadata": {},
     "output_type": "execute_result"
    }
   ],
   "source": [
    "#amb = ambient_space(t_res)"
   ]
  },
  {
   "cell_type": "code",
   "execution_count": 132,
   "id": "82bc0e31-6b04-4fec-b7d1-2575cf771375",
   "metadata": {},
   "outputs": [
    {
     "data": {
      "text/plain": [
       "Cohomology class on a normal toric variety given by y*e79_2"
      ]
     },
     "execution_count": 132,
     "metadata": {},
     "output_type": "execute_result"
    }
   ],
   "source": [
    "#h22_basis = basis_of_h22(amb, check = false);\n",
    "#h22_basis[1]"
   ]
  },
  {
   "cell_type": "code",
   "execution_count": 133,
   "id": "01e58896-3d41-4f77-ab47-53994c18815c",
   "metadata": {},
   "outputs": [
    {
     "data": {
      "text/plain": [
       "815"
      ]
     },
     "execution_count": 133,
     "metadata": {},
     "output_type": "execute_result"
    }
   ],
   "source": [
    "#length(h22_basis)"
   ]
  },
  {
   "cell_type": "code",
   "execution_count": 134,
   "id": "47d53e26-ac1a-4bb7-b505-7ae818fb674f",
   "metadata": {},
   "outputs": [
    {
     "data": {
      "text/plain": [
       "815"
      ]
     },
     "execution_count": 134,
     "metadata": {},
     "output_type": "execute_result"
    }
   ],
   "source": [
    "#betti_number(amb, 4)"
   ]
  },
  {
   "cell_type": "code",
   "execution_count": 135,
   "id": "ecc65ccc-6f3b-4757-88c0-7aebfcd2c899",
   "metadata": {},
   "outputs": [],
   "source": [
    "#g4_amb_candidates = chosen_g4_flux_basis(t_res, check = false);"
   ]
  },
  {
   "cell_type": "code",
   "execution_count": 136,
   "id": "b6f52140-719d-452c-adec-88989e7d2032",
   "metadata": {},
   "outputs": [
    {
     "data": {
      "text/plain": [
       "629"
      ]
     },
     "execution_count": 136,
     "metadata": {},
     "output_type": "execute_result"
    }
   ],
   "source": [
    "#length(g4_amb_candidates)"
   ]
  },
  {
   "cell_type": "code",
   "execution_count": 137,
   "id": "61a7012b-d0eb-46d0-a756-e9d0af33de43",
   "metadata": {},
   "outputs": [
    {
     "data": {
      "text/plain": [
       "A family of G4 fluxes:\n",
       "  - Elementary quantization checks: satisfied\n",
       "  - Verticality checks: failed\n",
       "  - Non-abelian gauge group: broken\n",
       "  - Tadpole constraint: not analyzed"
      ]
     },
     "execution_count": 137,
     "metadata": {},
     "output_type": "execute_result"
    }
   ],
   "source": [
    "#fg_quant = special_flux_family(t_res, check = false)"
   ]
  },
  {
   "cell_type": "code",
   "execution_count": 138,
   "id": "3040adac-ad19-41c9-9c2c-cd764bfdbd18",
   "metadata": {},
   "outputs": [
    {
     "data": {
      "text/plain": [
       "(629, 502)"
      ]
     },
     "execution_count": 138,
     "metadata": {},
     "output_type": "execute_result"
    }
   ],
   "source": [
    "#size(matrix_integral(fg_quant))"
   ]
  },
  {
   "cell_type": "code",
   "execution_count": 139,
   "id": "bb2f001e-d9c8-4430-8977-9b33ffae67c0",
   "metadata": {},
   "outputs": [
    {
     "data": {
      "text/plain": [
       "(629, 127)"
      ]
     },
     "execution_count": 139,
     "metadata": {},
     "output_type": "execute_result"
    }
   ],
   "source": [
    "#size(matrix_rational(fg_quant))"
   ]
  },
  {
   "cell_type": "code",
   "execution_count": 140,
   "id": "4c58f382-05be-4d2a-aa4c-f79301fc8359",
   "metadata": {},
   "outputs": [
    {
     "data": {
      "text/plain": [
       "A family of G4 fluxes:\n",
       "  - Elementary quantization checks: satisfied\n",
       "  - Verticality checks: satisfied\n",
       "  - Non-abelian gauge group: broken\n",
       "  - Tadpole constraint: not analyzed"
      ]
     },
     "execution_count": 140,
     "metadata": {},
     "output_type": "execute_result"
    }
   ],
   "source": [
    "#fg_quant_vert = special_flux_family(t_res, vert = true, check = false)"
   ]
  },
  {
   "cell_type": "code",
   "execution_count": 141,
   "id": "dd6d45ab-7f5b-4b83-b544-568267e3dd64",
   "metadata": {},
   "outputs": [
    {
     "data": {
      "text/plain": [
       "(629, 224)"
      ]
     },
     "execution_count": 141,
     "metadata": {},
     "output_type": "execute_result"
    }
   ],
   "source": [
    "#size(matrix_integral(fg_quant_vert))"
   ]
  },
  {
   "cell_type": "code",
   "execution_count": 142,
   "id": "04f9f30e-25df-49bd-84a8-166b347129ed",
   "metadata": {},
   "outputs": [
    {
     "data": {
      "text/plain": [
       "(629, 127)"
      ]
     },
     "execution_count": 142,
     "metadata": {},
     "output_type": "execute_result"
    }
   ],
   "source": [
    "#size(matrix_rational(fg_quant_vert))"
   ]
  },
  {
   "cell_type": "code",
   "execution_count": null,
   "id": "1d2d192c-2907-490b-8f12-ab6524ca756b",
   "metadata": {},
   "outputs": [],
   "source": []
  }
 ],
 "metadata": {
  "kernelspec": {
   "display_name": "Julia (16 threads) 1.11.3",
   "language": "julia",
   "name": "julia-_16-threads_-1.11"
  },
  "language_info": {
   "file_extension": ".jl",
   "mimetype": "application/julia",
   "name": "julia",
   "version": "1.11.3"
  }
 },
 "nbformat": 4,
 "nbformat_minor": 5
}
