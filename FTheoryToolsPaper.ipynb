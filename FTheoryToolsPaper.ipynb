{
 "cells": [
  {
   "cell_type": "markdown",
   "id": "4c1f74eb-2ba0-4f5d-a5cd-98cabf12e60d",
   "metadata": {},
   "source": [
    "# *FTheoryTools: Advancing Computational Capabilities for F-Theory Research*\n",
    "\n",
    "* Authors: Martin Bies, Miķelis Emīls Miķelsons, Andrew P. Turner\n",
    "* Version: OSCAR version 1.3.1 or newer."
   ]
  },
  {
   "cell_type": "markdown",
   "id": "3e440801-6f89-41d2-a8bc-5903f2b97a3f",
   "metadata": {},
   "source": [
    "This tutorial collects the Julia code used in an upcoming publication and is an extensive survey of almost all of the functionality of FTheoryTools."
   ]
  },
  {
   "cell_type": "code",
   "execution_count": 1,
   "id": "e53ffe0c-2900-464b-a2e7-c2f7c3e5be6a",
   "metadata": {},
   "outputs": [],
   "source": [
    "using Oscar"
   ]
  },
  {
   "cell_type": "code",
   "execution_count": 2,
   "id": "b60272d2-70fc-4ce8-a0e6-533f35ec76cc",
   "metadata": {},
   "outputs": [],
   "source": [
    "using Test"
   ]
  },
  {
   "cell_type": "markdown",
   "id": "cd767665-08bb-4aa8-a632-c7577c9bcf71",
   "metadata": {},
   "source": [
    "## 3: Algorithmic Framework for F-Theory Models in OSCAR"
   ]
  },
  {
   "cell_type": "markdown",
   "id": "54fad14e-0846-48f4-9141-d6e82f8d9bc1",
   "metadata": {},
   "source": [
    "### 3.1: Weierstrass Models"
   ]
  },
  {
   "cell_type": "code",
   "execution_count": 3,
   "id": "ef7c098c-d336-45a5-a6c0-d679a4a90e7a",
   "metadata": {},
   "outputs": [
    {
     "data": {
      "text/plain": [
       "Normal toric variety"
      ]
     },
     "execution_count": 3,
     "metadata": {},
     "output_type": "execute_result"
    }
   ],
   "source": [
    "B2 = projective_space(NormalToricVariety, 2)"
   ]
  },
  {
   "cell_type": "code",
   "execution_count": 4,
   "id": "6efc1b1f-8b96-4b5d-9a58-6ca2fa7ebf86",
   "metadata": {},
   "outputs": [
    {
     "data": {
      "text/plain": [
       "3-element Vector{MPolyDecRingElem{QQFieldElem, QQMPolyRingElem}}:\n",
       " x1\n",
       " x2\n",
       " x3"
      ]
     },
     "execution_count": 4,
     "metadata": {},
     "output_type": "execute_result"
    }
   ],
   "source": [
    "x1, x2, x3 = gens(cox_ring(B2))"
   ]
  },
  {
   "cell_type": "code",
   "execution_count": 5,
   "id": "3c429fd0-c4e5-4a1a-8f1c-0ca162d61006",
   "metadata": {},
   "outputs": [
    {
     "data": {
      "text/plain": [
       "Weierstrass model over a concrete base"
      ]
     },
     "execution_count": 5,
     "metadata": {},
     "output_type": "execute_result"
    }
   ],
   "source": [
    "weier_f = 1//48*(-(28*x1*x2^5 + 169*x3^6)^2 + 24*(2*x1^12 + 13*x1^2*x2^4*x3^6));\n",
    "weier_g = 1//864*(216*x1^4*x2^8*x3^6 + (28*x1*x2^5 + 169*x3^6)^3 - 36*(28*x1*x2^5 + 169*x3^6)*(2*x1^12 + 13*x1^2*x2^4*x3^6));\n",
    "w = weierstrass_model(B2, weier_f, weier_g; completeness_check = false)"
   ]
  },
  {
   "cell_type": "code",
   "execution_count": 6,
   "id": "e9bfc670-65bb-4a39-bb34-d46ac1ccc479",
   "metadata": {},
   "outputs": [
    {
     "data": {
      "text/plain": [
       "Dict{String, MPolyDecRingElem{QQFieldElem, QQMPolyRingElem}} with 2 entries:\n",
       "  \"f\" => x1^12 - 49//3*x1^2*x2^10 + 13//2*x1^2*x2^4*x3^6 - 1183//6*x1*x2^5*x3^6 - 28561//48*x3^12\n",
       "  \"g\" => -7//3*x1^13*x2^5 - 169//12*x1^12*x3^6 + 1//4*x1^4*x2^8*x3^6 + 686//27*x1^3*x2^15 - 91//6*x1^3*x2^9*x3^6 + 8281//18*x1^2*x2^10*x3^6 - 2197//24*x1^2*x2^4*x3^12 + 199927//72*x1*x2^5*x3^12 + 4826809//864*x3^18"
      ]
     },
     "execution_count": 6,
     "metadata": {},
     "output_type": "execute_result"
    }
   ],
   "source": [
    "explicit_model_sections(w)"
   ]
  },
  {
   "cell_type": "code",
   "execution_count": 7,
   "id": "a398f218-7298-4189-a570-fab8c617a4ad",
   "metadata": {},
   "outputs": [
    {
     "data": {
      "text/plain": [
       "Weierstrass model over a concrete base"
      ]
     },
     "execution_count": 7,
     "metadata": {},
     "output_type": "execute_result"
    }
   ],
   "source": [
    "w_generic = weierstrass_model(B2; completeness_check = false)"
   ]
  },
  {
   "cell_type": "code",
   "execution_count": 8,
   "id": "c7d9823c-bf90-4049-b813-aa946ae775e1",
   "metadata": {},
   "outputs": [
    {
     "data": {
      "text/plain": [
       "Dict{String, MPolyDecRingElem{QQFieldElem, QQMPolyRingElem}} with 2 entries:\n",
       "  \"f\" => 8921*x1^12 + 5037*x1^11*x2 - 2212*x1^11*x3 + 4134*x1^10*x2^2 + 1800*x1^10*x2*x3 - 5687*x1^10*x3^2 - 8532*x1^9*x2^3 - 5220*x1^9*x2^2*x3 + 7446*x1^9*x2*x3^2 + 3963*x1^9*x3^3 + 2007*x1^8*x2^4 + 9734*x1^8*x2^3*x3 - 251*x1^8*x2^2*x…\n",
       "  \"g\" => -1066*x1^18 + 6143*x1^17*x2 + 771*x1^17*x3 - 7498*x1^16*x2^2 + 6469*x1^16*x2*x3 - 4768*x1^16*x3^2 + 8382*x1^15*x2^3 + 5251*x1^15*x2^2*x3 + 6398*x1^15*x2*x3^2 - 2574*x1^15*x3^3 - 9196*x1^14*x2^4 - 2742*x1^14*x2^3*x3 - 3913*x1^1…"
      ]
     },
     "execution_count": 8,
     "metadata": {},
     "output_type": "execute_result"
    }
   ],
   "source": [
    "explicit_model_sections(w_generic)"
   ]
  },
  {
   "cell_type": "markdown",
   "id": "2881daaf-e186-42ad-a8af-a45c1c803af6",
   "metadata": {},
   "source": [
    "### 3.2 The Refined Tate Fiber Type"
   ]
  },
  {
   "cell_type": "code",
   "execution_count": 9,
   "id": "3d80c621-42ef-4b67-98a9-ad288703d50d",
   "metadata": {},
   "outputs": [
    {
     "data": {
      "text/plain": [
       "1-element Vector{Tuple{MPolyIdeal{<:MPolyRingElem}, Tuple{Int64, Int64, Int64}, String}}:\n",
       " (Ideal with 1 generator, (0, 0, 1), \"I_1\")"
      ]
     },
     "execution_count": 9,
     "metadata": {},
     "output_type": "execute_result"
    }
   ],
   "source": [
    "singular_loci(w_generic)"
   ]
  },
  {
   "cell_type": "code",
   "execution_count": 10,
   "id": "d02e2433-0310-4256-ac27-89292b041063",
   "metadata": {},
   "outputs": [
    {
     "data": {
      "text/plain": [
       "2-element Vector{Tuple{MPolyIdeal{<:MPolyRingElem}, Tuple{Int64, Int64, Int64}, String}}:\n",
       " (Ideal with 1 generator, (0, 0, 1), \"I_1\")\n",
       " (Ideal (x1), (0, 0, 5), \"Split I_5\")"
      ]
     },
     "execution_count": 10,
     "metadata": {},
     "output_type": "execute_result"
    }
   ],
   "source": [
    "singular_loci(w)"
   ]
  },
  {
   "cell_type": "markdown",
   "id": "05a46e25-6e25-4d34-9bc7-9ed326d70035",
   "metadata": {},
   "source": [
    "### 3.3 Global Tate Models"
   ]
  },
  {
   "cell_type": "code",
   "execution_count": 11,
   "id": "24a68940-b1e5-49a1-bb6d-443976906844",
   "metadata": {},
   "outputs": [
    {
     "data": {
      "text/plain": [
       "Global Tate model over a concrete base"
      ]
     },
     "execution_count": 11,
     "metadata": {},
     "output_type": "execute_result"
    }
   ],
   "source": [
    "a1 = 13 * x3^3;\n",
    "a2 = 7 * x1 * x2^5;\n",
    "a3 = x1^2 * x2^4 * x3^3;\n",
    "a4 = x1^3 * (x2 + x3)^9;\n",
    "a6 = zero(cox_ring(B2));\n",
    "t = global_tate_model(B2, [a1, a2, a3, a4, a6])"
   ]
  },
  {
   "cell_type": "code",
   "execution_count": 12,
   "id": "425e9529-6d18-4b79-bb0d-0bef5457c21e",
   "metadata": {},
   "outputs": [
    {
     "data": {
      "text/plain": [
       "x1^3*x2^9*x*z^4 + 9*x1^3*x2^8*x3*x*z^4 + 36*x1^3*x2^7*x3^2*x*z^4 + 84*x1^3*x2^6*x3^3*x*z^4 + 126*x1^3*x2^5*x3^4*x*z^4 + 126*x1^3*x2^4*x3^5*x*z^4 + 84*x1^3*x2^3*x3^6*x*z^4 + 36*x1^3*x2^2*x3^7*x*z^4 + 9*x1^3*x2*x3^8*x*z^4 + x1^3*x3^9*x*z^4 - x1^2*x2^4*x3^3*y*z^3 + 7*x1*x2^5*x^2*z^2 - 13*x3^3*x*y*z + x^3 - y^2"
      ]
     },
     "execution_count": 12,
     "metadata": {},
     "output_type": "execute_result"
    }
   ],
   "source": [
    "hypersurface_equation(t)"
   ]
  },
  {
   "cell_type": "code",
   "execution_count": 13,
   "id": "c0da1319-333e-4d40-8342-2d9df08c813e",
   "metadata": {},
   "outputs": [
    {
     "data": {
      "text/plain": [
       "Weierstrass model over a concrete base"
      ]
     },
     "execution_count": 13,
     "metadata": {},
     "output_type": "execute_result"
    }
   ],
   "source": [
    "w = weierstrass_model(t)"
   ]
  },
  {
   "cell_type": "code",
   "execution_count": 14,
   "id": "353fbcb9-c734-4e8b-ad09-1caa2d3aaf87",
   "metadata": {},
   "outputs": [
    {
     "data": {
      "text/plain": [
       "x1^3*x2^9 + 9*x1^3*x2^8*x3 + 36*x1^3*x2^7*x3^2 + 84*x1^3*x2^6*x3^3 + 126*x1^3*x2^5*x3^4 + 126*x1^3*x2^4*x3^5 + 84*x1^3*x2^3*x3^6 + 36*x1^3*x2^2*x3^7 + 9*x1^3*x2*x3^8 + x1^3*x3^9 - 49//3*x1^2*x2^10 + 13//2*x1^2*x2^4*x3^6 - 1183//6*x1*x2^5*x3^6 - 28561//48*x3^12"
      ]
     },
     "execution_count": 14,
     "metadata": {},
     "output_type": "execute_result"
    }
   ],
   "source": [
    "weierstrass_section_f(w)"
   ]
  },
  {
   "cell_type": "code",
   "execution_count": 15,
   "id": "3472189a-a734-4676-b4be-c8cf710774e3",
   "metadata": {},
   "outputs": [
    {
     "data": {
      "text/plain": [
       "-7//3*x1^4*x2^14 - 21*x1^4*x2^13*x3 - 84*x1^4*x2^12*x3^2 - 196*x1^4*x2^11*x3^3 - 294*x1^4*x2^10*x3^4 - 294*x1^4*x2^9*x3^5 - 783//4*x1^4*x2^8*x3^6 - 84*x1^4*x2^7*x3^7 - 21*x1^4*x2^6*x3^8 - 7//3*x1^4*x2^5*x3^9 + 686//27*x1^3*x2^15 - 117//4*x1^3*x2^9*x3^6 - 507//4*x1^3*x2^8*x3^7 - 507*x1^3*x2^7*x3^8 - 1183*x1^3*x2^6*x3^9 - 3549//2*x1^3*x2^5*x3^10 - 3549//2*x1^3*x2^4*x3^11 - 1183*x1^3*x2^3*x3^12 - 507*x1^3*x2^2*x3^13 - 507//4*x1^3*x2*x3^14 - 169//12*x1^3*x3^15 + 8281//18*x1^2*x2^10*x3^6 - 2197//24*x1^2*x2^4*x3^12 + 199927//72*x1*x2^5*x3^12 + 4826809//864*x3^18"
      ]
     },
     "execution_count": 15,
     "metadata": {},
     "output_type": "execute_result"
    }
   ],
   "source": [
    "weierstrass_section_g(w)"
   ]
  },
  {
   "cell_type": "markdown",
   "id": "1539ca27-7503-4138-a2f1-6c0a2662a136",
   "metadata": {},
   "source": [
    "### 3.4 Hypersurface Models"
   ]
  },
  {
   "cell_type": "code",
   "execution_count": 16,
   "id": "204abb0f-2622-4afb-9c03-b2065290ca6b",
   "metadata": {},
   "outputs": [
    {
     "data": {
      "text/plain": [
       "Normal toric variety"
      ]
     },
     "execution_count": 16,
     "metadata": {},
     "output_type": "execute_result"
    }
   ],
   "source": [
    "fiber_ambient_space = weighted_projective_space(NormalToricVariety, [2,3,1])"
   ]
  },
  {
   "cell_type": "code",
   "execution_count": 17,
   "id": "472b2162-e1d2-4043-b996-0d6917312339",
   "metadata": {},
   "outputs": [],
   "source": [
    "set_coordinate_names(fiber_ambient_space, [\"x\" , \"y\" , \"z\" ])"
   ]
  },
  {
   "cell_type": "code",
   "execution_count": 18,
   "id": "afd81a04-2553-4f7c-ac9e-d8c7716635f4",
   "metadata": {},
   "outputs": [
    {
     "data": {
      "text/plain": [
       "Divisor class on a normal toric variety"
      ]
     },
     "execution_count": 18,
     "metadata": {},
     "output_type": "execute_result"
    }
   ],
   "source": [
    "D1 = 2 * anticanonical_divisor_class(B2)\n",
    "D2 = 3 * anticanonical_divisor_class(B2)"
   ]
  },
  {
   "cell_type": "code",
   "execution_count": 19,
   "id": "aa478eda-5d02-4ab9-92d6-fc9e3df31926",
   "metadata": {},
   "outputs": [
    {
     "data": {
      "text/plain": [
       "(Multivariate polynomial ring in 6 variables over QQ, QQMPolyRingElem[x1, x2, x3, x, y, z])"
      ]
     },
     "execution_count": 19,
     "metadata": {},
     "output_type": "execute_result"
    }
   ],
   "source": [
    "amb_ring, (x1, x2, x3, x, y, z) = polynomial_ring(QQ, [\"x1\" , \"x2\" , \"x3\" , \"x\" , \"y\" , \"z\" ])"
   ]
  },
  {
   "cell_type": "code",
   "execution_count": 20,
   "id": "c0a7d771-36de-451f-8475-59df9d91f925",
   "metadata": {},
   "outputs": [
    {
     "data": {
      "text/plain": [
       "x1^3*x2^9*x*z^4 + 9*x1^3*x2^8*x3*x*z^4 + 36*x1^3*x2^7*x3^2*x*z^4 + 84*x1^3*x2^6*x3^3*x*z^4 + 126*x1^3*x2^5*x3^4*x*z^4 + 126*x1^3*x2^4*x3^5*x*z^4 + 84*x1^3*x2^3*x3^6*x*z^4 + 36*x1^3*x2^2*x3^7*x*z^4 + 9*x1^3*x2*x3^8*x*z^4 + x1^3*x3^9*x*z^4 - x1^2*x2^4*x3^3*y*z^3 + 7*x1*x2^5*x^2*z^2 - 13*x3^3*x*y*z + x^3 - y^2"
      ]
     },
     "execution_count": 20,
     "metadata": {},
     "output_type": "execute_result"
    }
   ],
   "source": [
    "p = x^3 + 7*x1*x2^5*x^2*z^2 + x1^3*(x2 + x3)^9*x*z^4 - y^2 - 13*x3^3*x*y*z - x1^2*x2^4*x3^3*y*z^3"
   ]
  },
  {
   "cell_type": "code",
   "execution_count": 21,
   "id": "e80976a9-56a2-4bf5-8a1d-f8166d2b7fb5",
   "metadata": {},
   "outputs": [
    {
     "data": {
      "text/plain": [
       "Hypersurface model over a concrete base"
      ]
     },
     "execution_count": 21,
     "metadata": {},
     "output_type": "execute_result"
    }
   ],
   "source": [
    "h = hypersurface_model(B2, fiber_ambient_space, [D1, D2], p, completeness_check = false)"
   ]
  },
  {
   "cell_type": "code",
   "execution_count": 22,
   "id": "474469ff-a68e-403d-89dd-65c76112e388",
   "metadata": {},
   "outputs": [
    {
     "data": {
      "text/plain": [
       "x1^3*x2^9*x*z^4 + 9*x1^3*x2^8*x3*x*z^4 + 36*x1^3*x2^7*x3^2*x*z^4 + 84*x1^3*x2^6*x3^3*x*z^4 + 126*x1^3*x2^5*x3^4*x*z^4 + 126*x1^3*x2^4*x3^5*x*z^4 + 84*x1^3*x2^3*x3^6*x*z^4 + 36*x1^3*x2^2*x3^7*x*z^4 + 9*x1^3*x2*x3^8*x*z^4 + x1^3*x3^9*x*z^4 - x1^2*x2^4*x3^3*y*z^3 + 7*x1*x2^5*x^2*z^2 - 13*x3^3*x*y*z + x^3 - y^2"
      ]
     },
     "execution_count": 22,
     "metadata": {},
     "output_type": "execute_result"
    }
   ],
   "source": [
    "hypersurface_equation(h)"
   ]
  },
  {
   "cell_type": "code",
   "execution_count": 23,
   "id": "643b0791-9f48-4542-85f5-6e7458dfec78",
   "metadata": {},
   "outputs": [
    {
     "data": {
      "text/plain": [
       "x1^3*x2^9*x*z^4 + 9*x1^3*x2^8*x3*x*z^4 + 36*x1^3*x2^7*x3^2*x*z^4 + 84*x1^3*x2^6*x3^3*x*z^4 + 126*x1^3*x2^5*x3^4*x*z^4 + 126*x1^3*x2^4*x3^5*x*z^4 + 84*x1^3*x2^3*x3^6*x*z^4 + 36*x1^3*x2^2*x3^7*x*z^4 + 9*x1^3*x2*x3^8*x*z^4 + x1^3*x3^9*x*z^4 - x1^2*x2^4*x3^3*y*z^3 + 7*x1*x2^5*x^2*z^2 - 13*x3^3*x*y*z + x^3 - y^2"
      ]
     },
     "execution_count": 23,
     "metadata": {},
     "output_type": "execute_result"
    }
   ],
   "source": [
    "tate_polynomial(t)"
   ]
  },
  {
   "cell_type": "code",
   "execution_count": 24,
   "id": "a6a12414-7bd5-46da-93a1-25b41ab9da80",
   "metadata": {},
   "outputs": [
    {
     "data": {
      "text/plain": [
       "Multivariate polynomial ring in 6 variables over QQ graded by\n",
       "  x1 -> [1 0]\n",
       "  x2 -> [1 0]\n",
       "  x3 -> [1 0]\n",
       "  x -> [6 2]\n",
       "  y -> [9 3]\n",
       "  z -> [0 1]"
      ]
     },
     "execution_count": 24,
     "metadata": {},
     "output_type": "execute_result"
    }
   ],
   "source": [
    "cox_ring(ambient_space(t))"
   ]
  },
  {
   "cell_type": "code",
   "execution_count": 25,
   "id": "cf5c6422-663f-4c1a-85f6-4f75fb6aa3cd",
   "metadata": {},
   "outputs": [
    {
     "data": {
      "text/plain": [
       "Multivariate polynomial ring in 6 variables over QQ graded by\n",
       "  x1 -> [1 0]\n",
       "  x2 -> [1 0]\n",
       "  x3 -> [1 0]\n",
       "  x -> [6 2]\n",
       "  y -> [9 3]\n",
       "  z -> [0 1]"
      ]
     },
     "execution_count": 25,
     "metadata": {},
     "output_type": "execute_result"
    }
   ],
   "source": [
    "cox_ring(ambient_space(h))"
   ]
  },
  {
   "cell_type": "markdown",
   "id": "70141eee-fe3c-47fd-a436-bacf67f7ee7d",
   "metadata": {},
   "source": [
    "### 3.5 Resolution of Singularities --- Toric Blowups and Beyond"
   ]
  },
  {
   "cell_type": "code",
   "execution_count": 26,
   "id": "bee2c9bd-c003-4313-9644-29a7736e347c",
   "metadata": {},
   "outputs": [
    {
     "data": {
      "text/plain": [
       "Normal toric variety"
      ]
     },
     "execution_count": 26,
     "metadata": {},
     "output_type": "execute_result"
    }
   ],
   "source": [
    "B3 = projective_space(NormalToricVariety, 3)"
   ]
  },
  {
   "cell_type": "code",
   "execution_count": 27,
   "id": "4ca4fba7-1831-4ed0-b206-a6fbbe43c83c",
   "metadata": {},
   "outputs": [
    {
     "data": {
      "text/plain": [
       "Multivariate polynomial ring in 4 variables over QQ graded by\n",
       "  x1 -> [1]\n",
       "  x2 -> [1]\n",
       "  x3 -> [1]\n",
       "  x4 -> [1]"
      ]
     },
     "execution_count": 27,
     "metadata": {},
     "output_type": "execute_result"
    }
   ],
   "source": [
    "cox_ring(B3)"
   ]
  },
  {
   "cell_type": "code",
   "execution_count": 28,
   "id": "1e7273ae-ac9b-4fe5-8571-fb89d82b60a0",
   "metadata": {},
   "outputs": [
    {
     "data": {
      "text/plain": [
       "Toric line bundle on a normal toric variety"
      ]
     },
     "execution_count": 28,
     "metadata": {},
     "output_type": "execute_result"
    }
   ],
   "source": [
    "W = toric_line_bundle(torusinvariant_prime_divisors(B3)[1])"
   ]
  },
  {
   "cell_type": "code",
   "execution_count": 29,
   "id": "0b5aca8e-fee6-4887-9d59-047f1754eb76",
   "metadata": {},
   "outputs": [
    {
     "data": {
      "text/plain": [
       "-8218*x1 + 7840*x2 + 5129*x3 + 1039*x4"
      ]
     },
     "execution_count": 29,
     "metadata": {},
     "output_type": "execute_result"
    }
   ],
   "source": [
    "w = generic_section(W)"
   ]
  },
  {
   "cell_type": "code",
   "execution_count": 30,
   "id": "ebbe6b09-f36e-4dd3-8412-e12a3d0362a3",
   "metadata": {},
   "outputs": [
    {
     "data": {
      "text/plain": [
       "x1"
      ]
     },
     "execution_count": 30,
     "metadata": {},
     "output_type": "execute_result"
    }
   ],
   "source": [
    "w = gens(cox_ring(B3))[1]"
   ]
  },
  {
   "cell_type": "code",
   "execution_count": 31,
   "id": "7f5142b4-9496-4b48-be7f-ad1d2ac991e2",
   "metadata": {},
   "outputs": [
    {
     "data": {
      "text/plain": [
       "Toric line bundle on a normal toric variety"
      ]
     },
     "execution_count": 31,
     "metadata": {},
     "output_type": "execute_result"
    }
   ],
   "source": [
    "Kbar = anticanonical_bundle(B3)"
   ]
  },
  {
   "cell_type": "code",
   "execution_count": 32,
   "id": "5bda52fc-2388-4bcd-a6b7-7329be99fde0",
   "metadata": {},
   "outputs": [
    {
     "data": {
      "text/plain": [
       "Global Tate model over a concrete base"
      ]
     },
     "execution_count": 32,
     "metadata": {},
     "output_type": "execute_result"
    }
   ],
   "source": [
    "a10 = generic_section(Kbar);\n",
    "a21 = generic_section(Kbar^2*W^(-1));\n",
    "a32 = generic_section(Kbar^3*W^(-2));\n",
    "a43 = generic_section(Kbar^4*W^(-3));\n",
    "a6 = zero(cox_ring(B3));\n",
    "t = global_tate_model(B3, [a10, a21 * w, a32 * w^2, a43 * w^3, a6])"
   ]
  },
  {
   "cell_type": "code",
   "execution_count": 33,
   "id": "e7e0cb1a-aefd-49e9-b14f-6bb4c4a7b703",
   "metadata": {},
   "outputs": [
    {
     "data": {
      "text/plain": [
       "2-element Vector{Tuple{MPolyIdeal{<:MPolyRingElem}, Tuple{Int64, Int64, Int64}, String}}:\n",
       " (Ideal with 1 generator, (0, 0, 1), \"I_1\")\n",
       " (Ideal (x1), (0, 0, 5), \"Split I_5\")"
      ]
     },
     "execution_count": 33,
     "metadata": {},
     "output_type": "execute_result"
    }
   ],
   "source": [
    "singular_loci(t)"
   ]
  },
  {
   "cell_type": "code",
   "execution_count": 34,
   "id": "ff9e3ed2-9944-4a4a-afa6-23e9c9e643e3",
   "metadata": {},
   "outputs": [
    {
     "data": {
      "text/plain": [
       "Normal toric variety"
      ]
     },
     "execution_count": 34,
     "metadata": {},
     "output_type": "execute_result"
    }
   ],
   "source": [
    "amb = ambient_space(t)"
   ]
  },
  {
   "cell_type": "code",
   "execution_count": 35,
   "id": "d5449828-e2fd-45e3-9e6a-d588c47cff11",
   "metadata": {},
   "outputs": [
    {
     "data": {
      "text/plain": [
       "Multivariate polynomial ring in 7 variables over QQ graded by\n",
       "  x1 -> [1 0]\n",
       "  x2 -> [1 0]\n",
       "  x3 -> [1 0]\n",
       "  x4 -> [1 0]\n",
       "  x -> [8 2]\n",
       "  y -> [12 3]\n",
       "  z -> [0 1]"
      ]
     },
     "execution_count": 35,
     "metadata": {},
     "output_type": "execute_result"
    }
   ],
   "source": [
    "cox_ring(amb)"
   ]
  },
  {
   "cell_type": "code",
   "execution_count": 36,
   "id": "44d88488-f8d1-4471-98f5-95492a92d728",
   "metadata": {},
   "outputs": [
    {
     "data": {
      "text/plain": [
       "Partially resolved global Tate model over a concrete base"
      ]
     },
     "execution_count": 36,
     "metadata": {},
     "output_type": "execute_result"
    }
   ],
   "source": [
    "t1 = blow_up(t, [\"x\" , \"y\" , string(w)]; coordinate_name = \"e1\" )"
   ]
  },
  {
   "cell_type": "code",
   "execution_count": 37,
   "id": "2160f12a-75f4-4d7b-ad9b-e1d159ec7d29",
   "metadata": {},
   "outputs": [
    {
     "data": {
      "text/plain": [
       "\u001b[32m\u001b[1mTest Passed\u001b[22m\u001b[39m\n",
       "      Thrown: ArgumentError"
      ]
     },
     "execution_count": 37,
     "metadata": {},
     "output_type": "execute_result"
    }
   ],
   "source": [
    "@test_throws ArgumentError resolutions(t)"
   ]
  },
  {
   "cell_type": "code",
   "execution_count": 38,
   "id": "3350a1a1-ec8f-48e5-bbae-5ae406e25fae",
   "metadata": {},
   "outputs": [],
   "source": [
    "set_resolutions(t, [([[\"x\" , \"y\" , \"w\" ], [\"y\" , \"e1\" ], [\"x\" , \"e4\" ], [\"y\" , \"e2\" ], [\"x\" , \"y\" ]], [\"e1\" , \"e4\" , \"e2\" , \"e3\" , \"s\" ])])"
   ]
  },
  {
   "cell_type": "code",
   "execution_count": 39,
   "id": "332071c2-9482-488f-b2b3-67dd72c974cf",
   "metadata": {},
   "outputs": [
    {
     "data": {
      "text/plain": [
       "x1"
      ]
     },
     "execution_count": 39,
     "metadata": {},
     "output_type": "execute_result"
    }
   ],
   "source": [
    "explicit_model_sections(t)[\"w\" ] = w"
   ]
  },
  {
   "cell_type": "code",
   "execution_count": 40,
   "id": "018d87fe-59dd-4792-9036-05a5942cd3c1",
   "metadata": {},
   "outputs": [
    {
     "data": {
      "text/plain": [
       "Partially resolved global Tate model over a concrete base"
      ]
     },
     "execution_count": 40,
     "metadata": {},
     "output_type": "execute_result"
    }
   ],
   "source": [
    "t_res = resolve(t, 1)"
   ]
  },
  {
   "cell_type": "code",
   "execution_count": 41,
   "id": "fa568670-6c7a-4f85-89f8-a88a0854c7b5",
   "metadata": {
    "scrolled": true
   },
   "outputs": [
    {
     "data": {
      "text/plain": [
       "2757*x1^16*x*z^4*e1^15*e4^14*e2^14*e3^13 + 2334*x1^15*x2*x*z^4*e1^14*e4^13*e2^13*e3^12 - 2921*x1^15*x3*x*z^4*e1^14*e4^13*e2^13*e3^12 - 8275*x1^15*x4*x*z^4*e1^14*e4^13*e2^13*e3^12 - 4471*x1^14*x2^2*x*z^4*e1^13*e4^12*e2^12*e3^11 + 8617*x1^14*x2*x3*x*z^4*e1^13*e4^12*e2^12*e3^11 + 5334*x1^14*x2*x4*x*z^4*e1^13*e4^12*e2^12*e3^11 - 4339*x1^14*x3^2*x*z^4*e1^13*e4^12*e2^12*e3^11 + 7135*x1^14*x3*x4*x*z^4*e1^13*e4^12*e2^12*e3^11 - 1825*x1^14*x4^2*x*z^4*e1^13*e4^12*e2^12*e3^11 + 4362*x1^13*x2^3*x*z^4*e1^12*e4^11*e2^11*e3^10 + 1870*x1^13*x2^2*x3*x*z^4*e1^12*e4^11*e2^11*e3^10 - 1444*x1^13*x2^2*x4*x*z^4*e1^12*e4^11*e2^11*e3^10 - 6265*x1^13*x2*x3^2*x*z^4*e1^12*e4^11*e2^11*e3^10 + 9377*x1^13*x2*x3*x4*x*z^4*e1^12*e4^11*e2^11*e3^10 - 1846*x1^13*x2*x4^2*x*z^4*e1^12*e4^11*e2^11*e3^10 - 103*x1^13*x3^3*x*z^4*e1^12*e4^11*e2^11*e3^10 + 2324*x1^13*x3^2*x4*x*z^4*e1^12*e4^11*e2^11*e3^10 + 2518*x1^13*x3*x4^2*x*z^4*e1^12*e4^11*e2^11*e3^10 - 7038*x1^13*x4^3*x*z^4*e1^12*e4^11*e2^11*e3^10 - 8591*x1^12*x2^4*x*z^4*e1^11*e4^10*e2^10*e3^9 - 4430*x1^12*x2^3*x3*x*z^4*e1^11*e4^10*e2^10*e3^9 - 4375*x1^12*x2^3*x4*x*z^4*e1^11*e4^10*e2^10*e3^9 - 1095*x1^12*x2^2*x3^2*x*z^4*e1^11*e4^10*e2^10*e3^9 + 7964*x1^12*x2^2*x3*x4*x*z^4*e1^11*e4^10*e2^10*e3^9 - 9152*x1^12*x2^2*x4^2*x*z^4*e1^11*e4^10*e2^10*e3^9 + 7217*x1^12*x2*x3^3*x*z^4*e1^11*e4^10*e2^10*e3^9 - 4529*x1^12*x2*x3^2*x4*x*z^4*e1^11*e4^10*e2^10*e3^9 - 3588*x1^12*x2*x3*x4^2*x*z^4*e1^11*e4^10*e2^10*e3^9 - 4488*x1^12*x2*x4^3*x*z^4*e1^11*e4^10*e2^10*e3^9 - 8873*x1^12*x3^4*x*z^4*e1^11*e4^10*e2^10*e3^9 - 4928*x1^12*x3^3*x4*x*z^4*e1^11*e4^10*e2^10*e3^9 + 9073*x1^12*x3^2*x4^2*x*z^4*e1^11*e4^10*e2^10*e3^9 - 1713*x1^12*x3*x4^3*x*z^4*e1^11*e4^10*e2^10*e3^9 - 3800*x1^12*x4^4*x*z^4*e1^11*e4^10*e2^10*e3^9 + 6336*x1^12*y*z^3*e1^11*e4^11*e2^10*e3^10 + 7176*x1^11*x2^5*x*z^4*e1^10*e4^9*e2^9*e3^8 - 8497*x1^11*x2^4*x3*x*z^4*e1^10*e4^9*e2^9*e3^8 + 7212*x1^11*x2^4*x4*x*z^4*e1^10*e4^9*e2^9*e3^8 - 3415*x1^11*x2^3*x3^2*x*z^4*e1^10*e4^9*e2^9*e3^8 - 5621*x1^11*x2^3*x3*x4*x*z^4*e1^10*e4^9*e2^9*e3^8 - 978*x1^11*x2^3*x4^2*x*z^4*e1^10*e4^9*e2^9*e3^8 - 1814*x1^11*x2^2*x3^3*x*z^4*e1^10*e4^9*e2^9*e3^8 + 3446*x1^11*x2^2*x3^2*x4*x*z^4*e1^10*e4^9*e2^9*e3^8 - 5937*x1^11*x2^2*x3*x4^2*x*z^4*e1^10*e4^9*e2^9*e3^8 - 8240*x1^11*x2^2*x4^3*x*z^4*e1^10*e4^9*e2^9*e3^8 + 3634*x1^11*x2*x3^4*x*z^4*e1^10*e4^9*e2^9*e3^8 - 9612*x1^11*x2*x3^3*x4*x*z^4*e1^10*e4^9*e2^9*e3^8 - 7524*x1^11*x2*x3^2*x4^2*x*z^4*e1^10*e4^9*e2^9*e3^8 - 950*x1^11*x2*x3*x4^3*x*z^4*e1^10*e4^9*e2^9*e3^8 - 748*x1^11*x2*x4^4*x*z^4*e1^10*e4^9*e2^9*e3^8 + 6053*x1^11*x2*y*z^3*e1^10*e4^10*e2^9*e3^9 + 5939*x1^11*x3^5*x*z^4*e1^10*e4^9*e2^9*e3^8 - 3722*x1^11*x3^4*x4*x*z^4*e1^10*e4^9*e2^9*e3^8 + 4064*x1^11*x3^3*x4^2*x*z^4*e1^10*e4^9*e2^9*e3^8 - 4471*x1^11*x3^2*x4^3*x*z^4*e1^10*e4^9*e2^9*e3^8 - 3592*x1^11*x3*x4^4*x*z^4*e1^10*e4^9*e2^9*e3^8 - 3521*x1^11*x3*y*z^3*e1^10*e4^10*e2^9*e3^9 - 8360*x1^11*x4^5*x*z^4*e1^10*e4^9*e2^9*e3^8 - 3732*x1^11*x4*y*z^3*e1^10*e4^10*e2^9*e3^9 + 2058*x1^10*x2^6*x*z^4*e1^9*e4^8*e2^8*e3^7 - 6065*x1^10*x2^5*x3*x*z^4*e1^9*e4^8*e2^8*e3^7 - 3889*x1^10*x2^5*x4*x*z^4*e1^9*e4^8*e2^8*e3^7 + 1419*x1^10*x2^4*x3^2*x*z^4*e1^9*e4^8*e2^8*e3^7 + 5976*x1^10*x2^4*x3*x4*x*z^4*e1^9*e4^8*e2^8*e3^7 - 3640*x1^10*x2^4*x4^2*x*z^4*e1^9*e4^8*e2^8*e3^7 - 1412*x1^10*x2^3*x3^3*x*z^4*e1^9*e4^8*e2^8*e3^7 - 3572*x1^10*x2^3*x3^2*x4*x*z^4*e1^9*e4^8*e2^8*e3^7 + 3312*x1^10*x2^3*x3*x4^2*x*z^4*e1^9*e4^8*e2^8*e3^7 + 6671*x1^10*x2^3*x4^3*x*z^4*e1^9*e4^8*e2^8*e3^7 + 773*x1^10*x2^2*x3^4*x*z^4*e1^9*e4^8*e2^8*e3^7 + 9072*x1^10*x2^2*x3^3*x4*x*z^4*e1^9*e4^8*e2^8*e3^7 + 1663*x1^10*x2^2*x3^2*x4^2*x*z^4*e1^9*e4^8*e2^8*e3^7 - 7108*x1^10*x2^2*x3*x4^3*x*z^4*e1^9*e4^8*e2^8*e3^7 + 4703*x1^10*x2^2*x4^4*x*z^4*e1^9*e4^8*e2^8*e3^7 - 1995*x1^10*x2^2*y*z^3*e1^9*e4^9*e2^8*e3^8 + 2012*x1^10*x2*x3^5*x*z^4*e1^9*e4^8*e2^8*e3^7 + 9363*x1^10*x2*x3^4*x4*x*z^4*e1^9*e4^8*e2^8*e3^7 - 4256*x1^10*x2*x3^3*x4^2*x*z^4*e1^9*e4^8*e2^8*e3^7 - 4453*x1^10*x2*x3^2*x4^3*x*z^4*e1^9*e4^8*e2^8*e3^7 - 5232*x1^10*x2*x3*x4^4*x*z^4*e1^9*e4^8*e2^8*e3^7 + 6187*x1^10*x2*x3*y*z^3*e1^9*e4^9*e2^8*e3^8 - 1204*x1^10*x2*x4^5*x*z^4*e1^9*e4^8*e2^8*e3^7 + 5003*x1^10*x2*x4*y*z^3*e1^9*e4^9*e2^8*e3^8 - 7224*x1^10*x3^6*x*z^4*e1^9*e4^8*e2^8*e3^7 - 8242*x1^10*x3^5*x4*x*z^4*e1^9*e4^8*e2^8*e3^7 + 4725*x1^10*x3^4*x4^2*x*z^4*e1^9*e4^8*e2^8*e3^7 + 4989*x1^10*x3^3*x4^3*x*z^4*e1^9*e4^8*e2^8*e3^7 - 1487*x1^10*x3^2*x4^4*x*z^4*e1^9*e4^8*e2^8*e3^7 - 7448*x1^10*x3^2*y*z^3*e1^9*e4^9*e2^8*e3^8 - 963*x1^10*x3*x4^5*x*z^4*e1^9*e4^8*e2^8*e3^7 + 4525*x1^10*x3*x4*y*z^3*e1^9*e4^9*e2^8*e3^8 - 5305*x1^10*x4^6*x*z^4*e1^9*e4^8*e2^8*e3^7 + 9324*x1^10*x4^2*y*z^3*e1^9*e4^9*e2^8*e3^8 - 4702*x1^9*x2^7*x*z^4*e1^8*e4^7*e2^7*e3^6 - 393*x1^9*x2^6*x3*x*z^4*e1^8*e4^7*e2^7*e3^6 - 2048*x1^9*x2^6*x4*x*z^4*e1^8*e4^7*e2^7*e3^6 + 8175*x1^9*x2^5*x3^2*x*z^4*e1^8*e4^7*e2^7*e3^6 - 1614*x1^9*x2^5*x3*x4*x*z^4*e1^8*e4^7*e2^7*e3^6 - 893*x1^9*x2^5*x4^2*x*z^4*e1^8*e4^7*e2^7*e3^6 + 8954*x1^9*x2^4*x3^3*x*z^4*e1^8*e4^7*e2^7*e3^6 - 4467*x1^9*x2^4*x3^2*x4*x*z^4*e1^8*e4^7*e2^7*e3^6 - 2165*x1^9*x2^4*x3*x4^2*x*z^4*e1^8*e4^7*e2^7*e3^6 + 1496*x1^9*x2^4*x4^3*x*z^4*e1^8*e4^7*e2^7*e3^6 + 9671*x1^9*x2^3*x3^4*x*z^4*e1^8*e4^7*e2^7*e3^6 + 3443*x1^9*x2^3*x3^3*x4*x*z^4*e1^8*e4^7*e2^7*e3^6 + 7148*x1^9*x2^3*x3^2*x4^2*x*z^4*e1^8*e4^7*e2^7*e3^6 + 6810*x1^9*x2^3*x3*x4^3*x*z^4*e1^8*e4^7*e2^7*e3^6 - 2284*x1^9*x2^3*x4^4*x*z^4*e1^8*e4^7*e2^7*e3^6 - 2058*x1^9*x2^3*y*z^3*e1^8*e4^8*e2^7*e3^7 - 6865*x1^9*x2^2*x3^5*x*z^4*e1^8*e4^7*e2^7*e3^6 + 7031*x1^9*x2^2*x3^4*x4*x*z^4*e1^8*e4^7*e2^7*e3^6 - 5226*x1^9*x2^2*x3^3*x4^2*x*z^4*e1^8*e4^7*e2^7*e3^6 + 9109*x1^9*x2^2*x3^2*x4^3*x*z^4*e1^8*e4^7*e2^7*e3^6 - 4856*x1^9*x2^2*x3*x4^4*x*z^4*e1^8*e4^7*e2^7*e3^6 + 3937*x1^9*x2^2*x3*y*z^3*e1^8*e4^8*e2^7*e3^7 - 8286*x1^9*x2^2*x4^5*x*z^4*e1^8*e4^7*e2^7*e3^6 + 1196*x1^9*x2^2*x4*y*z^3*e1^8*e4^8*e2^7*e3^7 + 5633*x1^9*x2*x3^6*x*z^4*e1^8*e4^7*e2^7*e3^6 + 7560*x1^9*x2*x3^5*x4*x*z^4*e1^8*e4^7*e2^7*e3^6 - 2146*x1^9*x2*x3^4*x4^2*x*z^4*e1^8*e4^7*e2^7*e3^6 + 2110*x1^9*x2*x3^3*x4^3*x*z^4*e1^8*e4^7*e2^7*e3^6 + 2908*x1^9*x2*x3^2*x4^4*x*z^4*e1^8*e4^7*e2^7*e3^6 - 7394*x1^9*x2*x3^2*y*z^3*e1^8*e4^8*e2^7*e3^7 - 1320*x1^9*x2*x3*x4^5*x*z^4*e1^8*e4^7*e2^7*e3^6 + 6247*x1^9*x2*x3*x4*y*z^3*e1^8*e4^8*e2^7*e3^7 - 475*x1^9*x2*x4^6*x*z^4*e1^8*e4^7*e2^7*e3^6 + 225*x1^9*x2*x4^2*y*z^3*e1^8*e4^8*e2^7*e3^7 + 9260*x1^9*x3^7*x*z^4*e1^8*e4^7*e2^7*e3^6 + 9877*x1^9*x3^6*x4*x*z^4*e1^8*e4^7*e2^7*e3^6 - 4725*x1^9*x3^5*x4^2*x*z^4*e1^8*e4^7*e2^7*e3^6 + 9592*x1^9*x3^4*x4^3*x*z^4*e1^8*e4^7*e2^7*e3^6 - 3818*x1^9*x3^3*x4^4*x*z^4*e1^8*e4^7*e2^7*e3^6 - 8457*x1^9*x3^3*y*z^3*e1^8*e4^8*e2^7*e3^7 - 7133*x1^9*x3^2*x4^5*x*z^4*e1^8*e4^7*e2^7*e3^6 + 7834*x1^9*x3^2*x4*y*z^3*e1^8*e4^8*e2^7*e3^7 - 6683*x1^9*x3*x4^6*x*z^4*e1^8*e4^7*e2^7*e3^6 - 3352*x1^9*x3*x4^2*y*z^3*e1^8*e4^8*e2^7*e3^7 - 4059*x1^9*x4^7*x*z^4*e1^8*e4^7*e2^7*e3^6 - 2114*x1^9*x4^3*y*z^3*e1^8*e4^8*e2^7*e3^7 + 8942*x1^8*x2^8*x*z^4*e1^7*e4^6*e2^6*e3^5 - 5965*x1^8*x2^7*x3*x*z^4*e1^7*e4^6*e2^6*e3^5 + 2030*x1^8*x2^7*x4*x*z^4*e1^7*e4^6*e2^6*e3^5 - 8727*x1^8*x2^6*x3^2*x*z^4*e1^7*e4^6*e2^6*e3^5 + 4778*x1^8*x2^6*x3*x4*x*z^4*e1^7*e4^6*e2^6*e3^5 + 6458*x1^8*x2^6*x4^2*x*z^4*e1^7*e4^6*e2^6*e3^5 - 4260*x1^8*x2^5*x3^3*x*z^4*e1^7*e4^6*e2^6*e3^5 - 1853*x1^8*x2^5*x3^2*x4*x*z^4*e1^7*e4^6*e2^6*e3^5 - 8110*x1^8*x2^5*x3*x4^2*x*z^4*e1^7*e4^6*e2^6*e3^5 + 5902*x1^8*x2^5*x4^3*x*z^4*e1^7*e4^6*e2^6*e3^5 + 2157*x1^8*x2^4*x3^4*x*z^4*e1^7*e4^6*e2^6*e3^5 - 8295*x1^8*x2^4*x3^3*x4*x*z^4*e1^7*e4^6*e2^6*e3^5 - 2218*x1^8*x2^4*x3^2*x4^2*x*z^4*e1^7*e4^6*e2^6*e3^5 + 8141*x1^8*x2^4*x3*x4^3*x*z^4*e1^7*e4^6*e2^6*e3^5 - 2381*x1^8*x2^4*x4^4*x*z^4*e1^7*e4^6*e2^6*e3^5 + 9515*x1^8*x2^4*y*z^3*e1^7*e4^7*e2^6*e3^6 + 7009*x1^8*x2^3*x3^5*x*z^4*e1^7*e4^6*e2^6*e3^5 - 6031*x1^8*x2^3*x3^4*x4*x*z^4*e1^7*e4^6*e2^6*e3^5 + 2369*x1^8*x2^3*x3^3*x4^2*x*z^4*e1^7*e4^6*e2^6*e3^5 + 3458*x1^8*x2^3*x3^2*x4^3*x*z^4*e1^7*e4^6*e2^6*e3^5 + 8618*x1^8*x2^3*x3*x4^4*x*z^4*e1^7*e4^6*e2^6*e3^5 - 7560*x1^8*x2^3*x3*y*z^3*e1^7*e4^7*e2^6*e3^6 + 2772*x1^8*x2^3*x4^5*x*z^4*e1^7*e4^6*e2^6*e3^5 + 467*x1^8*x2^3*x4*y*z^3*e1^7*e4^7*e2^6*e3^6 - 8205*x1^8*x2^2*x3^6*x*z^4*e1^7*e4^6*e2^6*e3^5 - 9740*x1^8*x2^2*x3^5*x4*x*z^4*e1^7*e4^6*e2^6*e3^5 + 1121*x1^8*x2^2*x3^4*x4^2*x*z^4*e1^7*e4^6*e2^6*e3^5 + 5173*x1^8*x2^2*x3^3*x4^3*x*z^4*e1^7*e4^6*e2^6*e3^5 + 7829*x1^8*x2^2*x3^2*x4^4*x*z^4*e1^7*e4^6*e2^6*e3^5 - 4209*x1^8*x2^2*x3^2*y*z^3*e1^7*e4^7*e2^6*e3^6 - 8841*x1^8*x2^2*x3*x4^5*x*z^4*e1^7*e4^6*e2^6*e3^5 - 9419*x1^8*x2^2*x3*x4*y*z^3*e1^7*e4^7*e2^6*e3^6 + 4527*x1^8*x2^2*x4^6*x*z^4*e1^7*e4^6*e2^6*e3^5 - 6550*x1^8*x2^2*x4^2*y*z^3*e1^7*e4^7*e2^6*e3^6 + 9903*x1^8*x2*x3^7*x*z^4*e1^7*e4^6*e2^6*e3^5 + 668*x1^8*x2*x3^6*x4*x*z^4*e1^7*e4^6*e2^6*e3^5 - 4352*x1^8*x2*x3^5*x4^2*x*z^4*e1^7*e4^6*e2^6*e3^5 - 6363*x1^8*x2*x3^4*x4^3*x*z^4*e1^7*e4^6*e2^6*e3^5 + 8894*x1^8*x2*x3^3*x4^4*x*z^4*e1^7*e4^6*e2^6*e3^5 - 9575*x1^8*x2*x3^3*y*z^3*e1^7*e4^7*e2^6*e3^6 - 7974*x1^8*x2*x3^2*x4^5*x*z^4*e1^7*e4^6*e2^6*e3^5 - 7239*x1^8*x2*x3^2*x4*y*z^3*e1^7*e4^7*e2^6*e3^6 - 4289*x1^8*x2*x3*x4^6*x*z^4*e1^7*e4^6*e2^6*e3^5 + 8467*x1^8*x2*x3*x4^2*y*z^3*e1^7*e4^7*e2^6*e3^6 - 5135*x1^8*x2*x4^7*x*z^4*e1^7*e4^6*e2^6*e3^5 - 2961*x1^8*x2*x4^3*y*z^3*e1^7*e4^7*e2^6*e3^6 - 6661*x1^8*x3^8*x*z^4*e1^7*e4^6*e2^6*e3^5 - 9420*x1^8*x3^7*x4*x*z^4*e1^7*e4^6*e2^6*e3^5 + 483*x1^8*x3^6*x4^2*x*z^4*e1^7*e4^6*e2^6*e3^5 + 1871*x1^8*x3^5*x4^3*x*z^4*e1^7*e4^6*e2^6*e3^5 + 9108*x1^8*x3^4*x4^4*x*z^4*e1^7*e4^6*e2^6*e3^5 + 1382*x1^8*x3^4*y*z^3*e1^7*e4^7*e2^6*e3^6 + 818*x1^8*x3^3*x4^5*x*z^4*e1^7*e4^6*e2^6*e3^5 - 9179*x1^8*x3^3*x4*y*z^3*e1^7*e4^7*e2^6*e3^6 - 1025*x1^8*x3^2*x4^6*x*z^4*e1^7*e4^6*e2^6*e3^5 - 949*x1^8*x3^2*x4^2*y*z^3*e1^7*e4^7*e2^6*e3^6 - 5382*x1^8*x3*x4^7*x*z^4*e1^7*e4^6*e2^6*e3^5 - 2737*x1^8*x3*x4^3*y*z^3*e1^7*e4^7*e2^6*e3^6 + 7001*x1^8*x4^8*x*z^4*e1^7*e4^6*e2^6*e3^5 - 6867*x1^8*x4^4*y*z^3*e1^7*e4^7*e2^6*e3^6 - 1612*x1^8*x^2*z^2*e1^8*e4^7*e2^8*e3^7*s - 7140*x1^7*x2^9*x*z^4*e1^6*e4^5*e2^5*e3^4 - 7846*x1^7*x2^8*x3*x*z^4*e1^6*e4^5*e2^5*e3^4 - 6492*x1^7*x2^8*x4*x*z^4*e1^6*e4^5*e2^5*e3^4 + 1759*x1^7*x2^7*x3^2*x*z^4*e1^6*e4^5*e2^5*e3^4 + 651*x1^7*x2^7*x3*x4*x*z^4*e1^6*e4^5*e2^5*e3^4 - 4455*x1^7*x2^7*x4^2*x*z^4*e1^6*e4^5*e2^5*e3^4 + 7619*x1^7*x2^6*x3^3*x*z^4*e1^6*e4^5*e2^5*e3^4 - 2615*x1^7*x2^6*x3^2*x4*x*z^4*e1^6*e4^5*e2^5*e3^4 - 8573*x1^7*x2^6*x3*x4^2*x*z^4*e1^6*e4^5*e2^5*e3^4 + 8110*x1^7*x2^6*x4^3*x*z^4*e1^6*e4^5*e2^5*e3^4 + 2840*x1^7*x2^5*x3^4*x*z^4*e1^6*e4^5*e2^5*e3^4 + 5736*x1^7*x2^5*x3^3*x4*x*z^4*e1^6*e4^5*e2^5*e3^4 + 54*x1^7*x2^5*x3^2*x4^2*x*z^4*e1^6*e4^5*e2^5*e3^4 - 8154*x1^7*x2^5*x3*x4^3*x*z^4*e1^6*e4^5*e2^5*e3^4 + 7224*x1^7*x2^5*x4^4*x*z^4*e1^6*e4^5*e2^5*e3^4 - 8679*x1^7*x2^5*y*z^3*e1^6*e4^6*e2^5*e3^5 - 8689*x1^7*x2^4*x3^5*x*z^4*e1^6*e4^5*e2^5*e3^4 + 8583*x1^7*x2^4*x3^4*x4*x*z^4*e1^6*e4^5*e2^5*e3^4 + 6718*x1^7*x2^4*x3^3*x4^2*x*z^4*e1^6*e4^5*e2^5*e3^4 - 6320*x1^7*x2^4*x3^2*x4^3*x*z^4*e1^6*e4^5*e2^5*e3^4 + 7282*x1^7*x2^4*x3*x4^4*x*z^4*e1^6*e4^5*e2^5*e3^4 - 4086*x1^7*x2^4*x3*y*z^3*e1^6*e4^6*e2^5*e3^5 + 6615*x1^7*x2^4*x4^5*x*z^4*e1^6*e4^5*e2^5*e3^4 + 5513*x1^7*x2^4*x4*y*z^3*e1^6*e4^6*e2^5*e3^5 + 2412*x1^7*x2^3*x3^6*x*z^4*e1^6*e4^5*e2^5*e3^4 - 2982*x1^7*x2^3*x3^5*x4*x*z^4*e1^6*e4^5*e2^5*e3^4 + 7588*x1^7*x2^3*x3^4*x4^2*x*z^4*e1^6*e4^5*e2^5*e3^4 - 5698*x1^7*x2^3*x3^3*x4^3*x*z^4*e1^6*e4^5*e2^5*e3^4 - 8038*x1^7*x2^3*x3^2*x4^4*x*z^4*e1^6*e4^5*e2^5*e3^4 + 3217*x1^7*x2^3*x3^2*y*z^3*e1^6*e4^6*e2^5*e3^5 + 6131*x1^7*x2^3*x3*x4^5*x*z^4*e1^6*e4^5*e2^5*e3^4 + 9474*x1^7*x2^3*x3*x4*y*z^3*e1^6*e4^6*e2^5*e3^5 + 2428*x1^7*x2^3*x4^6*x*z^4*e1^6*e4^5*e2^5*e3^4 - 4761*x1^7*x2^3*x4^2*y*z^3*e1^6*e4^6*e2^5*e3^5 + 3643*x1^7*x2^2*x3^7*x*z^4*e1^6*e4^5*e2^5*e3^4 + 7021*x1^7*x2^2*x3^6*x4*x*z^4*e1^6*e4^5*e2^5*e3^4 - 283*x1^7*x2^2*x3^5*x4^2*x*z^4*e1^6*e4^5*e2^5*e3^4 + 1517*x1^7*x2^2*x3^4*x4^3*x*z^4*e1^6*e4^5*e2^5*e3^4 - 4606*x1^7*x2^2*x3^3*x4^4*x*z^4*e1^6*e4^5*e2^5*e3^4 + 607*x1^7*x2^2*x3^3*y*z^3*e1^6*e4^6*e2^5*e3^5 + 4768*x1^7*x2^2*x3^2*x4^5*x*z^4*e1^6*e4^5*e2^5*e3^4 - 9559*x1^7*x2^2*x3^2*x4*y*z^3*e1^6*e4^6*e2^5*e3^5 - 8309*x1^7*x2^2*x3*x4^6*x*z^4*e1^6*e4^5*e2^5*e3^4 - 4970*x1^7*x2^2*x3*x4^2*y*z^3*e1^6*e4^6*e2^5*e3^5 - 1248*x1^7*x2^2*x4^7*x*z^4*e1^6*e4^5*e2^5*e3^4 - 2563*x1^7*x2^2*x4^3*y*z^3*e1^6*e4^6*e2^5*e3^5 - 8304*x1^7*x2*x3^8*x*z^4*e1^6*e4^5*e2^5*e3^4 - 8879*x1^7*x2*x3^7*x4*x*z^4*e1^6*e4^5*e2^5*e3^4 - 2208*x1^7*x2*x3^6*x4^2*x*z^4*e1^6*e4^5*e2^5*e3^4 - 2480*x1^7*x2*x3^5*x4^3*x*z^4*e1^6*e4^5*e2^5*e3^4 + 2913*x1^7*x2*x3^4*x4^4*x*z^4*e1^6*e4^5*e2^5*e3^4 + 8025*x1^7*x2*x3^4*y*z^3*e1^6*e4^6*e2^5*e3^5 + 7854*x1^7*x2*x3^3*x4^5*x*z^4*e1^6*e4^5*e2^5*e3^4 - 516*x1^7*x2*x3^3*x4*y*z^3*e1^6*e4^6*e2^5*e3^5 + 1845*x1^7*x2*x3^2*x4^6*x*z^4*e1^6*e4^5*e2^5*e3^4 + 9575*x1^7*x2*x3^2*x4^2*y*z^3*e1^6*e4^6*e2^5*e3^5 + 4164*x1^7*x2*x3*x4^7*x*z^4*e1^6*e4^5*e2^5*e3^4 + 1894*x1^7*x2*x3*x4^3*y*z^3*e1^6*e4^6*e2^5*e3^5 + 7603*x1^7*x2*x4^8*x*z^4*e1^6*e4^5*e2^5*e3^4 - 7449*x1^7*x2*x4^4*y*z^3*e1^6*e4^6*e2^5*e3^5 - 7488*x1^7*x2*x^2*z^2*e1^7*e4^6*e2^7*e3^6*s - 2827*x1^7*x3^9*x*z^4*e1^6*e4^5*e2^5*e3^4 + 3621*x1^7*x3^8*x4*x*z^4*e1^6*e4^5*e2^5*e3^4 - 3341*x1^7*x3^7*x4^2*x*z^4*e1^6*e4^5*e2^5*e3^4 - 907*x1^7*x3^6*x4^3*x*z^4*e1^6*e4^5*e2^5*e3^4 - 7673*x1^7*x3^5*x4^4*x*z^4*e1^6*e4^5*e2^5*e3^4 + 5168*x1^7*x3^5*y*z^3*e1^6*e4^6*e2^5*e3^5 - 411*x1^7*x3^4*x4^5*x*z^4*e1^6*e4^5*e2^5*e3^4 - 9191*x1^7*x3^4*x4*y*z^3*e1^6*e4^6*e2^5*e3^5 + 4887*x1^7*x3^3*x4^6*x*z^4*e1^6*e4^5*e2^5*e3^4 + 588*x1^7*x3^3*x4^2*y*z^3*e1^6*e4^6*e2^5*e3^5 - 7452*x1^7*x3^2*x4^7*x*z^4*e1^6*e4^5*e2^5*e3^4 + 5615*x1^7*x3^2*x4^3*y*z^3*e1^6*e4^6*e2^5*e3^5 + 6537*x1^7*x3*x4^8*x*z^4*e1^6*e4^5*e2^5*e3^4 + 5238*x1^7*x3*x4^4*y*z^3*e1^6*e4^6*e2^5*e3^5 + 1314*x1^7*x3*x^2*z^2*e1^7*e4^6*e2^7*e3^6*s + 3086*x1^7*x4^9*x*z^4*e1^6*e4^5*e2^5*e3^4 + 2855*x1^7*x4^5*y*z^3*e1^6*e4^6*e2^5*e3^5 + 311*x1^7*x4*x^2*z^2*e1^7*e4^6*e2^7*e3^6*s - 1591*x1^6*x2^10*x*z^4*e1^5*e4^4*e2^4*e3^3 + 9057*x1^6*x2^9*x3*x*z^4*e1^5*e4^4*e2^4*e3^3 - 3903*x1^6*x2^9*x4*x*z^4*e1^5*e4^4*e2^4*e3^3 + 5016*x1^6*x2^8*x3^2*x*z^4*e1^5*e4^4*e2^4*e3^3 + 9693*x1^6*x2^8*x3*x4*x*z^4*e1^5*e4^4*e2^4*e3^3 - 8199*x1^6*x2^8*x4^2*x*z^4*e1^5*e4^4*e2^4*e3^3 - 5197*x1^6*x2^7*x3^3*x*z^4*e1^5*e4^4*e2^4*e3^3 + 7478*x1^6*x2^7*x3^2*x4*x*z^4*e1^5*e4^4*e2^4*e3^3 - 1454*x1^6*x2^7*x3*x4^2*x*z^4*e1^5*e4^4*e2^4*e3^3 + 6687*x1^6*x2^7*x4^3*x*z^4*e1^5*e4^4*e2^4*e3^3 + 8433*x1^6*x2^6*x3^4*x*z^4*e1^5*e4^4*e2^4*e3^3 + 6106*x1^6*x2^6*x3^3*x4*x*z^4*e1^5*e4^4*e2^4*e3^3 + 9614*x1^6*x2^6*x3^2*x4^2*x*z^4*e1^5*e4^4*e2^4*e3^3 + 5360*x1^6*x2^6*x3*x4^3*x*z^4*e1^5*e4^4*e2^4*e3^3 + 1053*x1^6*x2^6*x4^4*x*z^4*e1^5*e4^4*e2^4*e3^3 - 5433*x1^6*x2^6*y*z^3*e1^5*e4^5*e2^4*e3^4 - 2994*x1^6*x2^5*x3^5*x*z^4*e1^5*e4^4*e2^4*e3^3 + 7594*x1^6*x2^5*x3^4*x4*x*z^4*e1^5*e4^4*e2^4*e3^3 + 539*x1^6*x2^5*x3^3*x4^2*x*z^4*e1^5*e4^4*e2^4*e3^3 + 750*x1^6*x2^5*x3^2*x4^3*x*z^4*e1^5*e4^4*e2^4*e3^3 + 9712*x1^6*x2^5*x3*x4^4*x*z^4*e1^5*e4^4*e2^4*e3^3 - 6899*x1^6*x2^5*x3*y*z^3*e1^5*e4^5*e2^4*e3^4 + 4335*x1^6*x2^5*x4^5*x*z^4*e1^5*e4^4*e2^4*e3^3 - 1421*x1^6*x2^5*x4*y*z^3*e1^5*e4^5*e2^4*e3^4 - 134*x1^6*x2^4*x3^6*x*z^4*e1^5*e4^4*e2^4*e3^3 - 5449*x1^6*x2^4*x3^5*x4*x*z^4*e1^5*e4^4*e2^4*e3^3 - 2712*x1^6*x2^4*x3^4*x4^2*x*z^4*e1^5*e4^4*e2^4*e3^3 - 8229*x1^6*x2^4*x3^3*x4^3*x*z^4*e1^5*e4^4*e2^4*e3^3 - 1498*x1^6*x2^4*x3^2*x4^4*x*z^4*e1^5*e4^4*e2^4*e3^3 + 844*x1^6*x2^4*x3^2*y*z^3*e1^5*e4^5*e2^4*e3^4 - 1697*x1^6*x2^4*x3*x4^5*x*z^4*e1^5*e4^4*e2^4*e3^3 + 5957*x1^6*x2^4*x3*x4*y*z^3*e1^5*e4^5*e2^4*e3^4 + 2268*x1^6*x2^4*x4^6*x*z^4*e1^5*e4^4*e2^4*e3^3 + 4701*x1^6*x2^4*x4^2*y*z^3*e1^5*e4^5*e2^4*e3^4 - 9195*x1^6*x2^3*x3^7*x*z^4*e1^5*e4^4*e2^4*e3^3 - 5630*x1^6*x2^3*x3^6*x4*x*z^4*e1^5*e4^4*e2^4*e3^3 - 873*x1^6*x2^3*x3^5*x4^2*x*z^4*e1^5*e4^4*e2^4*e3^3 - 1821*x1^6*x2^3*x3^4*x4^3*x*z^4*e1^5*e4^4*e2^4*e3^3 + 7951*x1^6*x2^3*x3^3*x4^4*x*z^4*e1^5*e4^4*e2^4*e3^3 - 1225*x1^6*x2^3*x3^3*y*z^3*e1^5*e4^5*e2^4*e3^4 - 6041*x1^6*x2^3*x3^2*x4^5*x*z^4*e1^5*e4^4*e2^4*e3^3 + 4954*x1^6*x2^3*x3^2*x4*y*z^3*e1^5*e4^5*e2^4*e3^4 - 4516*x1^6*x2^3*x3*x4^6*x*z^4*e1^5*e4^4*e2^4*e3^3 + 5495*x1^6*x2^3*x3*x4^2*y*z^3*e1^5*e4^5*e2^4*e3^4 - 6886*x1^6*x2^3*x4^7*x*z^4*e1^5*e4^4*e2^4*e3^3 - 2422*x1^6*x2^3*x4^3*y*z^3*e1^5*e4^5*e2^4*e3^4 + 1152*x1^6*x2^2*x3^8*x*z^4*e1^5*e4^4*e2^4*e3^3 + 480*x1^6*x2^2*x3^7*x4*x*z^4*e1^5*e4^4*e2^4*e3^3 + 4262*x1^6*x2^2*x3^6*x4^2*x*z^4*e1^5*e4^4*e2^4*e3^3 - 6275*x1^6*x2^2*x3^5*x4^3*x*z^4*e1^5*e4^4*e2^4*e3^3 - 7728*x1^6*x2^2*x3^4*x4^4*x*z^4*e1^5*e4^4*e2^4*e3^3 - 5481*x1^6*x2^2*x3^4*y*z^3*e1^5*e4^5*e2^4*e3^4 - 2374*x1^6*x2^2*x3^3*x4^5*x*z^4*e1^5*e4^4*e2^4*e3^3 + 4928*x1^6*x2^2*x3^3*x4*y*z^3*e1^5*e4^5*e2^4*e3^4 + 7829*x1^6*x2^2*x3^2*x4^6*x*z^4*e1^5*e4^4*e2^4*e3^3 + 8640*x1^6*x2^2*x3^2*x4^2*y*z^3*e1^5*e4^5*e2^4*e3^4 + 4592*x1^6*x2^2*x3*x4^7*x*z^4*e1^5*e4^4*e2^4*e3^3 - 17*x1^6*x2^2*x3*x4^3*y*z^3*e1^5*e4^5*e2^4*e3^4 - 3487*x1^6*x2^2*x4^8*x*z^4*e1^5*e4^4*e2^4*e3^3 + 9004*x1^6*x2^2*x4^4*y*z^3*e1^5*e4^5*e2^4*e3^4 + 2156*x1^6*x2^2*x^2*z^2*e1^6*e4^5*e2^6*e3^5*s + 9541*x1^6*x2*x3^9*x*z^4*e1^5*e4^4*e2^4*e3^3 - 7542*x1^6*x2*x3^8*x4*x*z^4*e1^5*e4^4*e2^4*e3^3 + 4548*x1^6*x2*x3^7*x4^2*x*z^4*e1^5*e4^4*e2^4*e3^3 - 9581*x1^6*x2*x3^6*x4^3*x*z^4*e1^5*e4^4*e2^4*e3^3 + 1920*x1^6*x2*x3^5*x4^4*x*z^4*e1^5*e4^4*e2^4*e3^3 + 1673*x1^6*x2*x3^5*y*z^3*e1^5*e4^5*e2^4*e3^4 - 7002*x1^6*x2*x3^4*x4^5*x*z^4*e1^5*e4^4*e2^4*e3^3 - 1813*x1^6*x2*x3^4*x4*y*z^3*e1^5*e4^5*e2^4*e3^4 + 689*x1^6*x2*x3^3*x4^6*x*z^4*e1^5*e4^4*e2^4*e3^3 + 9638*x1^6*x2*x3^3*x4^2*y*z^3*e1^5*e4^5*e2^4*e3^4 - 470*x1^6*x2*x3^2*x4^7*x*z^4*e1^5*e4^4*e2^4*e3^3 - 671*x1^6*x2*x3^2*x4^3*y*z^3*e1^5*e4^5*e2^4*e3^4 + 2120*x1^6*x2*x3*x4^8*x*z^4*e1^5*e4^4*e2^4*e3^3 - 3543*x1^6*x2*x3*x4^4*y*z^3*e1^5*e4^5*e2^4*e3^4 + 4355*x1^6*x2*x3*x^2*z^2*e1^6*e4^5*e2^6*e3^5*s + 929*x1^6*x2*x4^9*x*z^4*e1^5*e4^4*e2^4*e3^3 - 6874*x1^6*x2*x4^5*y*z^3*e1^5*e4^5*e2^4*e3^4 + 8509*x1^6*x2*x4*x^2*z^2*e1^6*e4^5*e2^6*e3^5*s + 7529*x1^6*x3^10*x*z^4*e1^5*e4^4*e2^4*e3^3 + 3678*x1^6*x3^9*x4*x*z^4*e1^5*e4^4*e2^4*e3^3 + 262*x1^6*x3^8*x4^2*x*z^4*e1^5*e4^4*e2^4*e3^3 - 4062*x1^6*x3^7*x4^3*x*z^4*e1^5*e4^4*e2^4*e3^3 + 2637*x1^6*x3^6*x4^4*x*z^4*e1^5*e4^4*e2^4*e3^3 - 1714*x1^6*x3^6*y*z^3*e1^5*e4^5*e2^4*e3^4 + 3108*x1^6*x3^5*x4^5*x*z^4*e1^5*e4^4*e2^4*e3^3 + 8442*x1^6*x3^5*x4*y*z^3*e1^5*e4^5*e2^4*e3^4 - 6923*x1^6*x3^4*x4^6*x*z^4*e1^5*e4^4*e2^4*e3^3 - 1188*x1^6*x3^4*x4^2*y*z^3*e1^5*e4^5*e2^4*e3^4 - 4687*x1^6*x3^3*x4^7*x*z^4*e1^5*e4^4*e2^4*e3^3 + 7253*x1^6*x3^3*x4^3*y*z^3*e1^5*e4^5*e2^4*e3^4 - 7043*x1^6*x3^2*x4^8*x*z^4*e1^5*e4^4*e2^4*e3^3 + 1219*x1^6*x3^2*x4^4*y*z^3*e1^5*e4^5*e2^4*e3^4 - 4157*x1^6*x3^2*x^2*z^2*e1^6*e4^5*e2^6*e3^5*s - 6613*x1^6*x3*x4^9*x*z^4*e1^5*e4^4*e2^4*e3^3 + 3761*x1^6*x3*x4^5*y*z^3*e1^5*e4^5*e2^4*e3^4 + 2728*x1^6*x3*x4*x^2*z^2*e1^6*e4^5*e2^6*e3^5*s - 2760*x1^6*x4^10*x*z^4*e1^5*e4^4*e2^4*e3^3 + 8249*x1^6*x4^6*y*z^3*e1^5*e4^5*e2^4*e3^4 - 3206*x1^6*x4^2*x^2*z^2*e1^6*e4^5*e2^6*e3^5*s + 3326*x1^5*x2^11*x*z^4*e1^4*e4^3*e2^3*e3^2 - 4736*x1^5*x2^10*x3*x*z^4*e1^4*e4^3*e2^3*e3^2 + 3187*x1^5*x2^10*x4*x*z^4*e1^4*e4^3*e2^3*e3^2 - 3183*x1^5*x2^9*x3^2*x*z^4*e1^4*e4^3*e2^3*e3^2 - 8036*x1^5*x2^9*x3*x4*x*z^4*e1^4*e4^3*e2^3*e3^2 - 6873*x1^5*x2^9*x4^2*x*z^4*e1^4*e4^3*e2^3*e3^2 + 5904*x1^5*x2^8*x3^3*x*z^4*e1^4*e4^3*e2^3*e3^2 + 7869*x1^5*x2^8*x3^2*x4*x*z^4*e1^4*e4^3*e2^3*e3^2 - 2548*x1^5*x2^8*x3*x4^2*x*z^4*e1^4*e4^3*e2^3*e3^2 + 8452*x1^5*x2^8*x4^3*x*z^4*e1^4*e4^3*e2^3*e3^2 + 1797*x1^5*x2^7*x3^4*x*z^4*e1^4*e4^3*e2^3*e3^2 - 3275*x1^5*x2^7*x3^3*x4*x*z^4*e1^4*e4^3*e2^3*e3^2 + 3390*x1^5*x2^7*x3^2*x4^2*x*z^4*e1^4*e4^3*e2^3*e3^2 + 3642*x1^5*x2^7*x3*x4^3*x*z^4*e1^4*e4^3*e2^3*e3^2 - 2177*x1^5*x2^7*x4^4*x*z^4*e1^4*e4^3*e2^3*e3^2 + 6262*x1^5*x2^7*y*z^3*e1^4*e4^4*e2^3*e3^3 - 8168*x1^5*x2^6*x3^5*x*z^4*e1^4*e4^3*e2^3*e3^2 + 7205*x1^5*x2^6*x3^4*x4*x*z^4*e1^4*e4^3*e2^3*e3^2 + 101*x1^5*x2^6*x3^3*x4^2*x*z^4*e1^4*e4^3*e2^3*e3^2 - 4753*x1^5*x2^6*x3^2*x4^3*x*z^4*e1^4*e4^3*e2^3*e3^2 + 8711*x1^5*x2^6*x3*x4^4*x*z^4*e1^4*e4^3*e2^3*e3^2 - 7635*x1^5*x2^6*x3*y*z^3*e1^4*e4^4*e2^3*e3^3 + 5800*x1^5*x2^6*x4^5*x*z^4*e1^4*e4^3*e2^3*e3^2 - 9697*x1^5*x2^6*x4*y*z^3*e1^4*e4^4*e2^3*e3^3 - 2999*x1^5*x2^5*x3^6*x*z^4*e1^4*e4^3*e2^3*e3^2 + 3087*x1^5*x2^5*x3^5*x4*x*z^4*e1^4*e4^3*e2^3*e3^2 + 4260*x1^5*x2^5*x3^4*x4^2*x*z^4*e1^4*e4^3*e2^3*e3^2 - 8673*x1^5*x2^5*x3^3*x4^3*x*z^4*e1^4*e4^3*e2^3*e3^2 + 1013*x1^5*x2^5*x3^2*x4^4*x*z^4*e1^4*e4^3*e2^3*e3^2 - 4921*x1^5*x2^5*x3^2*y*z^3*e1^4*e4^4*e2^3*e3^3 + 8627*x1^5*x2^5*x3*x4^5*x*z^4*e1^4*e4^3*e2^3*e3^2 - 2276*x1^5*x2^5*x3*x4*y*z^3*e1^4*e4^4*e2^3*e3^3 - 4484*x1^5*x2^5*x4^6*x*z^4*e1^4*e4^3*e2^3*e3^2 - 532*x1^5*x2^5*x4^2*y*z^3*e1^4*e4^4*e2^3*e3^3 + 6375*x1^5*x2^4*x3^7*x*z^4*e1^4*e4^3*e2^3*e3^2 - 4051*x1^5*x2^4*x3^6*x4*x*z^4*e1^4*e4^3*e2^3*e3^2 - 7428*x1^5*x2^4*x3^5*x4^2*x*z^4*e1^4*e4^3*e2^3*e3^2 + 2451*x1^5*x2^4*x3^4*x4^3*x*z^4*e1^4*e4^3*e2^3*e3^2 + 5266*x1^5*x2^4*x3^3*x4^4*x*z^4*e1^4*e4^3*e2^3*e3^2 + 8022*x1^5*x2^4*x3^3*y*z^3*e1^4*e4^4*e2^3*e3^3 - 4123*x1^5*x2^4*x3^2*x4^5*x*z^4*e1^4*e4^3*e2^3*e3^2 + 9853*x1^5*x2^4*x3^2*x4*y*z^3*e1^4*e4^4*e2^3*e3^3 - 8340*x1^5*x2^4*x3*x4^6*x*z^4*e1^4*e4^3*e2^3*e3^2 - 2436*x1^5*x2^4*x3*x4^2*y*z^3*e1^4*e4^4*e2^3*e3^3 - 5698*x1^5*x2^4*x4^7*x*z^4*e1^4*e4^3*e2^3*e3^2 + 9538*x1^5*x2^4*x4^3*y*z^3*e1^4*e4^4*e2^3*e3^3 + 5683*x1^5*x2^3*x3^8*x*z^4*e1^4*e4^3*e2^3*e3^2 - 2206*x1^5*x2^3*x3^7*x4*x*z^4*e1^4*e4^3*e2^3*e3^2 + 2163*x1^5*x2^3*x3^6*x4^2*x*z^4*e1^4*e4^3*e2^3*e3^2 + 666*x1^5*x2^3*x3^5*x4^3*x*z^4*e1^4*e4^3*e2^3*e3^2 + 1388*x1^5*x2^3*x3^4*x4^4*x*z^4*e1^4*e4^3*e2^3*e3^2 - 6904*x1^5*x2^3*x3^4*y*z^3*e1^4*e4^4*e2^3*e3^3 + 6969*x1^5*x2^3*x3^3*x4^5*x*z^4*e1^4*e4^3*e2^3*e3^2 + 7241*x1^5*x2^3*x3^3*x4*y*z^3*e1^4*e4^4*e2^3*e3^3 + 7011*x1^5*x2^3*x3^2*x4^6*x*z^4*e1^4*e4^3*e2^3*e3^2 - 3232*x1^5*x2^3*x3^2*x4^2*y*z^3*e1^4*e4^4*e2^3*e3^3 + 8102*x1^5*x2^3*x3*x4^7*x*z^4*e1^4*e4^3*e2^3*e3^2 - 6343*x1^5*x2^3*x3*x4^3*y*z^3*e1^4*e4^4*e2^3*e3^3 + 3869*x1^5*x2^3*x4^8*x*z^4*e1^4*e4^3*e2^3*e3^2 - 5998*x1^5*x2^3*x4^4*y*z^3*e1^4*e4^4*e2^3*e3^3 - 7420*x1^5*x2^3*x^2*z^2*e1^5*e4^4*e2^5*e3^4*s - 4660*x1^5*x2^2*x3^9*x*z^4*e1^4*e4^3*e2^3*e3^2 + 6624*x1^5*x2^2*x3^8*x4*x*z^4*e1^4*e4^3*e2^3*e3^2 + 1255*x1^5*x2^2*x3^7*x4^2*x*z^4*e1^4*e4^3*e2^3*e3^2 + 1466*x1^5*x2^2*x3^6*x4^3*x*z^4*e1^4*e4^3*e2^3*e3^2 + 1553*x1^5*x2^2*x3^5*x4^4*x*z^4*e1^4*e4^3*e2^3*e3^2 + 7031*x1^5*x2^2*x3^5*y*z^3*e1^4*e4^4*e2^3*e3^3 + 6895*x1^5*x2^2*x3^4*x4^5*x*z^4*e1^4*e4^3*e2^3*e3^2 - 3953*x1^5*x2^2*x3^4*x4*y*z^3*e1^4*e4^4*e2^3*e3^3 + 8861*x1^5*x2^2*x3^3*x4^6*x*z^4*e1^4*e4^3*e2^3*e3^2 + 4261*x1^5*x2^2*x3^3*x4^2*y*z^3*e1^4*e4^4*e2^3*e3^3 + 7849*x1^5*x2^2*x3^2*x4^7*x*z^4*e1^4*e4^3*e2^3*e3^2 + 2965*x1^5*x2^2*x3^2*x4^3*y*z^3*e1^4*e4^4*e2^3*e3^3 - 1226*x1^5*x2^2*x3*x4^8*x*z^4*e1^4*e4^3*e2^3*e3^2 - 6983*x1^5*x2^2*x3*x4^4*y*z^3*e1^4*e4^4*e2^3*e3^3 + 2870*x1^5*x2^2*x3*x^2*z^2*e1^5*e4^4*e2^5*e3^4*s + 43*x1^5*x2^2*x4^9*x*z^4*e1^4*e4^3*e2^3*e3^2 + 1573*x1^5*x2^2*x4^5*y*z^3*e1^4*e4^4*e2^3*e3^3 - 837*x1^5*x2^2*x4*x^2*z^2*e1^5*e4^4*e2^5*e3^4*s - 8540*x1^5*x2*x3^10*x*z^4*e1^4*e4^3*e2^3*e3^2 + 5117*x1^5*x2*x3^9*x4*x*z^4*e1^4*e4^3*e2^3*e3^2 + 6335*x1^5*x2*x3^8*x4^2*x*z^4*e1^4*e4^3*e2^3*e3^2 + 8761*x1^5*x2*x3^7*x4^3*x*z^4*e1^4*e4^3*e2^3*e3^2 - 3100*x1^5*x2*x3^6*x4^4*x*z^4*e1^4*e4^3*e2^3*e3^2 + 2833*x1^5*x2*x3^6*y*z^3*e1^4*e4^4*e2^3*e3^3 + 6055*x1^5*x2*x3^5*x4^5*x*z^4*e1^4*e4^3*e2^3*e3^2 - 3700*x1^5*x2*x3^5*x4*y*z^3*e1^4*e4^4*e2^3*e3^3 - 6073*x1^5*x2*x3^4*x4^6*x*z^4*e1^4*e4^3*e2^3*e3^2 + 7832*x1^5*x2*x3^4*x4^2*y*z^3*e1^4*e4^4*e2^3*e3^3 - 67*x1^5*x2*x3^3*x4^7*x*z^4*e1^4*e4^3*e2^3*e3^2 + 3841*x1^5*x2*x3^3*x4^3*y*z^3*e1^4*e4^4*e2^3*e3^3 + 9712*x1^5*x2*x3^2*x4^8*x*z^4*e1^4*e4^3*e2^3*e3^2 - 335*x1^5*x2*x3^2*x4^4*y*z^3*e1^4*e4^4*e2^3*e3^3 + 1205*x1^5*x2*x3^2*x^2*z^2*e1^5*e4^4*e2^5*e3^4*s - 5945*x1^5*x2*x3*x4^9*x*z^4*e1^4*e4^3*e2^3*e3^2 + 1670*x1^5*x2*x3*x4^5*y*z^3*e1^4*e4^4*e2^3*e3^3 + 2982*x1^5*x2*x3*x4*x^2*z^2*e1^5*e4^4*e2^5*e3^4*s + 2303*x1^5*x2*x4^10*x*z^4*e1^4*e4^3*e2^3*e3^2 - 3476*x1^5*x2*x4^6*y*z^3*e1^4*e4^4*e2^3*e3^3 - 7208*x1^5*x2*x4^2*x^2*z^2*e1^5*e4^4*e2^5*e3^4*s + 4602*x1^5*x3^11*x*z^4*e1^4*e4^3*e2^3*e3^2 + 362*x1^5*x3^10*x4*x*z^4*e1^4*e4^3*e2^3*e3^2 - 6331*x1^5*x3^9*x4^2*x*z^4*e1^4*e4^3*e2^3*e3^2 - 5468*x1^5*x3^8*x4^3*x*z^4*e1^4*e4^3*e2^3*e3^2 + 9307*x1^5*x3^7*x4^4*x*z^4*e1^4*e4^3*e2^3*e3^2 + 7683*x1^5*x3^7*y*z^3*e1^4*e4^4*e2^3*e3^3 + 5984*x1^5*x3^6*x4^5*x*z^4*e1^4*e4^3*e2^3*e3^2 - 2627*x1^5*x3^6*x4*y*z^3*e1^4*e4^4*e2^3*e3^3 - 7605*x1^5*x3^5*x4^6*x*z^4*e1^4*e4^3*e2^3*e3^2 - 2567*x1^5*x3^5*x4^2*y*z^3*e1^4*e4^4*e2^3*e3^3 - 8882*x1^5*x3^4*x4^7*x*z^4*e1^4*e4^3*e2^3*e3^2 - 7435*x1^5*x3^4*x4^3*y*z^3*e1^4*e4^4*e2^3*e3^3 - 4492*x1^5*x3^3*x4^8*x*z^4*e1^4*e4^3*e2^3*e3^2 + 2281*x1^5*x3^3*x4^4*y*z^3*e1^4*e4^4*e2^3*e3^3 - 7126*x1^5*x3^3*x^2*z^2*e1^5*e4^4*e2^5*e3^4*s - 2078*x1^5*x3^2*x4^9*x*z^4*e1^4*e4^3*e2^3*e3^2 + 3299*x1^5*x3^2*x4^5*y*z^3*e1^4*e4^4*e2^3*e3^3 + 4302*x1^5*x3^2*x4*x^2*z^2*e1^5*e4^4*e2^5*e3^4*s - 7503*x1^5*x3*x4^10*x*z^4*e1^4*e4^3*e2^3*e3^2 + 4044*x1^5*x3*x4^6*y*z^3*e1^4*e4^4*e2^3*e3^3 - 4625*x1^5*x3*x4^2*x^2*z^2*e1^5*e4^4*e2^5*e3^4*s + 94*x1^5*x4^11*x*z^4*e1^4*e4^3*e2^3*e3^2 - 9291*x1^5*x4^7*y*z^3*e1^4*e4^4*e2^3*e3^3 - 4042*x1^5*x4^3*x^2*z^2*e1^5*e4^4*e2^5*e3^4*s - 6792*x1^4*x2^12*x*z^4*e1^3*e4^2*e2^2*e3 - 917*x1^4*x2^11*x3*x*z^4*e1^3*e4^2*e2^2*e3 - 6543*x1^4*x2^11*x4*x*z^4*e1^3*e4^2*e2^2*e3 + 2499*x1^4*x2^10*x3^2*x*z^4*e1^3*e4^2*e2^2*e3 - 4742*x1^4*x2^10*x3*x4*x*z^4*e1^3*e4^2*e2^2*e3 + 5935*x1^4*x2^10*x4^2*x*z^4*e1^3*e4^2*e2^2*e3 - 2158*x1^4*x2^9*x3^3*x*z^4*e1^3*e4^2*e2^2*e3 - 5376*x1^4*x2^9*x3^2*x4*x*z^4*e1^3*e4^2*e2^2*e3 + 8396*x1^4*x2^9*x3*x4^2*x*z^4*e1^3*e4^2*e2^2*e3 - 3833*x1^4*x2^9*x4^3*x*z^4*e1^3*e4^2*e2^2*e3 + 8521*x1^4*x2^8*x3^4*x*z^4*e1^3*e4^2*e2^2*e3 - 381*x1^4*x2^8*x3^3*x4*x*z^4*e1^3*e4^2*e2^2*e3 - 5283*x1^4*x2^8*x3^2*x4^2*x*z^4*e1^3*e4^2*e2^2*e3 - 3227*x1^4*x2^8*x3*x4^3*x*z^4*e1^3*e4^2*e2^2*e3 - 4330*x1^4*x2^8*x4^4*x*z^4*e1^3*e4^2*e2^2*e3 + 6879*x1^4*x2^8*y*z^3*e1^3*e4^3*e2^2*e3^2 + 4854*x1^4*x2^7*x3^5*x*z^4*e1^3*e4^2*e2^2*e3 + 634*x1^4*x2^7*x3^4*x4*x*z^4*e1^3*e4^2*e2^2*e3 - 6992*x1^4*x2^7*x3^3*x4^2*x*z^4*e1^3*e4^2*e2^2*e3 + 3510*x1^4*x2^7*x3^2*x4^3*x*z^4*e1^3*e4^2*e2^2*e3 - 6347*x1^4*x2^7*x3*x4^4*x*z^4*e1^3*e4^2*e2^2*e3 - 1295*x1^4*x2^7*x3*y*z^3*e1^3*e4^3*e2^2*e3^2 + 2607*x1^4*x2^7*x4^5*x*z^4*e1^3*e4^2*e2^2*e3 + 60*x1^4*x2^7*x4*y*z^3*e1^3*e4^3*e2^2*e3^2 + 6613*x1^4*x2^6*x3^6*x*z^4*e1^3*e4^2*e2^2*e3 + 7238*x1^4*x2^6*x3^5*x4*x*z^4*e1^3*e4^2*e2^2*e3 + 3049*x1^4*x2^6*x3^4*x4^2*x*z^4*e1^3*e4^2*e2^2*e3 - 7013*x1^4*x2^6*x3^3*x4^3*x*z^4*e1^3*e4^2*e2^2*e3 + 3810*x1^4*x2^6*x3^2*x4^4*x*z^4*e1^3*e4^2*e2^2*e3 + 3823*x1^4*x2^6*x3^2*y*z^3*e1^3*e4^3*e2^2*e3^2 + 7770*x1^4*x2^6*x3*x4^5*x*z^4*e1^3*e4^2*e2^2*e3 + 993*x1^4*x2^6*x3*x4*y*z^3*e1^3*e4^3*e2^2*e3^2 - 3516*x1^4*x2^6*x4^6*x*z^4*e1^3*e4^2*e2^2*e3 - 4708*x1^4*x2^6*x4^2*y*z^3*e1^3*e4^3*e2^2*e3^2 + 9390*x1^4*x2^5*x3^7*x*z^4*e1^3*e4^2*e2^2*e3 + 7287*x1^4*x2^5*x3^6*x4*x*z^4*e1^3*e4^2*e2^2*e3 + 8661*x1^4*x2^5*x3^5*x4^2*x*z^4*e1^3*e4^2*e2^2*e3 - 7426*x1^4*x2^5*x3^4*x4^3*x*z^4*e1^3*e4^2*e2^2*e3 + 1825*x1^4*x2^5*x3^3*x4^4*x*z^4*e1^3*e4^2*e2^2*e3 - 600*x1^4*x2^5*x3^3*y*z^3*e1^3*e4^3*e2^2*e3^2 + 1827*x1^4*x2^5*x3^2*x4^5*x*z^4*e1^3*e4^2*e2^2*e3 + 8243*x1^4*x2^5*x3^2*x4*y*z^3*e1^3*e4^3*e2^2*e3^2 + 5132*x1^4*x2^5*x3*x4^6*x*z^4*e1^3*e4^2*e2^2*e3 - 923*x1^4*x2^5*x3*x4^2*y*z^3*e1^3*e4^3*e2^2*e3^2 - 8780*x1^4*x2^5*x4^7*x*z^4*e1^3*e4^2*e2^2*e3 + 7286*x1^4*x2^5*x4^3*y*z^3*e1^3*e4^3*e2^2*e3^2 + 5414*x1^4*x2^4*x3^8*x*z^4*e1^3*e4^2*e2^2*e3 - 747*x1^4*x2^4*x3^7*x4*x*z^4*e1^3*e4^2*e2^2*e3 + 1277*x1^4*x2^4*x3^6*x4^2*x*z^4*e1^3*e4^2*e2^2*e3 + 7630*x1^4*x2^4*x3^5*x4^3*x*z^4*e1^3*e4^2*e2^2*e3 + 9286*x1^4*x2^4*x3^4*x4^4*x*z^4*e1^3*e4^2*e2^2*e3 + 3014*x1^4*x2^4*x3^4*y*z^3*e1^3*e4^3*e2^2*e3^2 - 7153*x1^4*x2^4*x3^3*x4^5*x*z^4*e1^3*e4^2*e2^2*e3 - 8301*x1^4*x2^4*x3^3*x4*y*z^3*e1^3*e4^3*e2^2*e3^2 + 7246*x1^4*x2^4*x3^2*x4^6*x*z^4*e1^3*e4^2*e2^2*e3 + 1636*x1^4*x2^4*x3^2*x4^2*y*z^3*e1^3*e4^3*e2^2*e3^2 - 8105*x1^4*x2^4*x3*x4^7*x*z^4*e1^3*e4^2*e2^2*e3 - 4931*x1^4*x2^4*x3*x4^3*y*z^3*e1^3*e4^3*e2^2*e3^2 - 2601*x1^4*x2^4*x4^8*x*z^4*e1^3*e4^2*e2^2*e3 + 3665*x1^4*x2^4*x4^4*y*z^3*e1^3*e4^3*e2^2*e3^2 + 9732*x1^4*x2^4*x^2*z^2*e1^4*e4^3*e2^4*e3^3*s - 9397*x1^4*x2^3*x3^9*x*z^4*e1^3*e4^2*e2^2*e3 - 6236*x1^4*x2^3*x3^8*x4*x*z^4*e1^3*e4^2*e2^2*e3 - 179*x1^4*x2^3*x3^7*x4^2*x*z^4*e1^3*e4^2*e2^2*e3 + 9550*x1^4*x2^3*x3^6*x4^3*x*z^4*e1^3*e4^2*e2^2*e3 - 2117*x1^4*x2^3*x3^5*x4^4*x*z^4*e1^3*e4^2*e2^2*e3 - 7913*x1^4*x2^3*x3^5*y*z^3*e1^3*e4^3*e2^2*e3^2 + 9101*x1^4*x2^3*x3^4*x4^5*x*z^4*e1^3*e4^2*e2^2*e3 - 6010*x1^4*x2^3*x3^4*x4*y*z^3*e1^3*e4^3*e2^2*e3^2 + 7541*x1^4*x2^3*x3^3*x4^6*x*z^4*e1^3*e4^2*e2^2*e3 - 8366*x1^4*x2^3*x3^3*x4^2*y*z^3*e1^3*e4^3*e2^2*e3^2 + 4761*x1^4*x2^3*x3^2*x4^7*x*z^4*e1^3*e4^2*e2^2*e3 - 3321*x1^4*x2^3*x3^2*x4^3*y*z^3*e1^3*e4^3*e2^2*e3^2 - 1898*x1^4*x2^3*x3*x4^8*x*z^4*e1^3*e4^2*e2^2*e3 - 7387*x1^4*x2^3*x3*x4^4*y*z^3*e1^3*e4^3*e2^2*e3^2 + 4483*x1^4*x2^3*x3*x^2*z^2*e1^4*e4^3*e2^4*e3^3*s + 2864*x1^4*x2^3*x4^9*x*z^4*e1^3*e4^2*e2^2*e3 - 9130*x1^4*x2^3*x4^5*y*z^3*e1^3*e4^3*e2^2*e3^2 - 4331*x1^4*x2^3*x4*x^2*z^2*e1^4*e4^3*e2^4*e3^3*s + 1631*x1^4*x2^2*x3^10*x*z^4*e1^3*e4^2*e2^2*e3 + 9926*x1^4*x2^2*x3^9*x4*x*z^4*e1^3*e4^2*e2^2*e3 - 1638*x1^4*x2^2*x3^8*x4^2*x*z^4*e1^3*e4^2*e2^2*e3 + 2209*x1^4*x2^2*x3^7*x4^3*x*z^4*e1^3*e4^2*e2^2*e3 - 7877*x1^4*x2^2*x3^6*x4^4*x*z^4*e1^3*e4^2*e2^2*e3 + 2567*x1^4*x2^2*x3^6*y*z^3*e1^3*e4^3*e2^2*e3^2 + 161*x1^4*x2^2*x3^5*x4^5*x*z^4*e1^3*e4^2*e2^2*e3 - 6212*x1^4*x2^2*x3^5*x4*y*z^3*e1^3*e4^3*e2^2*e3^2 + 321*x1^4*x2^2*x3^4*x4^6*x*z^4*e1^3*e4^2*e2^2*e3 + 2689*x1^4*x2^2*x3^4*x4^2*y*z^3*e1^3*e4^3*e2^2*e3^2 - 7503*x1^4*x2^2*x3^3*x4^7*x*z^4*e1^3*e4^2*e2^2*e3 - 3399*x1^4*x2^2*x3^3*x4^3*y*z^3*e1^3*e4^3*e2^2*e3^2 + 3708*x1^4*x2^2*x3^2*x4^8*x*z^4*e1^3*e4^2*e2^2*e3 + 8695*x1^4*x2^2*x3^2*x4^4*y*z^3*e1^3*e4^3*e2^2*e3^2 + 6475*x1^4*x2^2*x3^2*x^2*z^2*e1^4*e4^3*e2^4*e3^3*s + 158*x1^4*x2^2*x3*x4^9*x*z^4*e1^3*e4^2*e2^2*e3 + 7859*x1^4*x2^2*x3*x4^5*y*z^3*e1^3*e4^3*e2^2*e3^2 + 5193*x1^4*x2^2*x3*x4*x^2*z^2*e1^4*e4^3*e2^4*e3^3*s + 8852*x1^4*x2^2*x4^10*x*z^4*e1^3*e4^2*e2^2*e3 + 2099*x1^4*x2^2*x4^6*y*z^3*e1^3*e4^3*e2^2*e3^2 - 888*x1^4*x2^2*x4^2*x^2*z^2*e1^4*e4^3*e2^4*e3^3*s + 7590*x1^4*x2*x3^11*x*z^4*e1^3*e4^2*e2^2*e3 + 7798*x1^4*x2*x3^10*x4*x*z^4*e1^3*e4^2*e2^2*e3 - 2781*x1^4*x2*x3^9*x4^2*x*z^4*e1^3*e4^2*e2^2*e3 + 2240*x1^4*x2*x3^8*x4^3*x*z^4*e1^3*e4^2*e2^2*e3 + 2525*x1^4*x2*x3^7*x4^4*x*z^4*e1^3*e4^2*e2^2*e3 - 4546*x1^4*x2*x3^7*y*z^3*e1^3*e4^3*e2^2*e3^2 + 3148*x1^4*x2*x3^6*x4^5*x*z^4*e1^3*e4^2*e2^2*e3 - 8078*x1^4*x2*x3^6*x4*y*z^3*e1^3*e4^3*e2^2*e3^2 + 2334*x1^4*x2*x3^5*x4^6*x*z^4*e1^3*e4^2*e2^2*e3 - 8735*x1^4*x2*x3^5*x4^2*y*z^3*e1^3*e4^3*e2^2*e3^2 + 5346*x1^4*x2*x3^4*x4^7*x*z^4*e1^3*e4^2*e2^2*e3 - 5679*x1^4*x2*x3^4*x4^3*y*z^3*e1^3*e4^3*e2^2*e3^2 + 1796*x1^4*x2*x3^3*x4^8*x*z^4*e1^3*e4^2*e2^2*e3 - 4921*x1^4*x2*x3^3*x4^4*y*z^3*e1^3*e4^3*e2^2*e3^2 + 9467*x1^4*x2*x3^3*x^2*z^2*e1^4*e4^3*e2^4*e3^3*s - 3615*x1^4*x2*x3^2*x4^9*x*z^4*e1^3*e4^2*e2^2*e3 - 9064*x1^4*x2*x3^2*x4^5*y*z^3*e1^3*e4^3*e2^2*e3^2 - 1229*x1^4*x2*x3^2*x4*x^2*z^2*e1^4*e4^3*e2^4*e3^3*s - 2820*x1^4*x2*x3*x4^10*x*z^4*e1^3*e4^2*e2^2*e3 + 5058*x1^4*x2*x3*x4^6*y*z^3*e1^3*e4^3*e2^2*e3^2 + 9309*x1^4*x2*x3*x4^2*x^2*z^2*e1^4*e4^3*e2^4*e3^3*s + 8923*x1^4*x2*x4^11*x*z^4*e1^3*e4^2*e2^2*e3 - 1296*x1^4*x2*x4^7*y*z^3*e1^3*e4^3*e2^2*e3^2 + 189*x1^4*x2*x4^3*x^2*z^2*e1^4*e4^3*e2^4*e3^3*s - 7245*x1^4*x3^12*x*z^4*e1^3*e4^2*e2^2*e3 + 3601*x1^4*x3^11*x4*x*z^4*e1^3*e4^2*e2^2*e3 - 4358*x1^4*x3^10*x4^2*x*z^4*e1^3*e4^2*e2^2*e3 + 7335*x1^4*x3^9*x4^3*x*z^4*e1^3*e4^2*e2^2*e3 + 4439*x1^4*x3^8*x4^4*x*z^4*e1^3*e4^2*e2^2*e3 - 4586*x1^4*x3^8*y*z^3*e1^3*e4^3*e2^2*e3^2 + 4154*x1^4*x3^7*x4^5*x*z^4*e1^3*e4^2*e2^2*e3 + 9497*x1^4*x3^7*x4*y*z^3*e1^3*e4^3*e2^2*e3^2 - 3569*x1^4*x3^6*x4^6*x*z^4*e1^3*e4^2*e2^2*e3 + 3532*x1^4*x3^6*x4^2*y*z^3*e1^3*e4^3*e2^2*e3^2 + 4290*x1^4*x3^5*x4^7*x*z^4*e1^3*e4^2*e2^2*e3 - 1652*x1^4*x3^5*x4^3*y*z^3*e1^3*e4^3*e2^2*e3^2 - 2246*x1^4*x3^4*x4^8*x*z^4*e1^3*e4^2*e2^2*e3 + 4677*x1^4*x3^4*x4^4*y*z^3*e1^3*e4^3*e2^2*e3^2 - 8325*x1^4*x3^4*x^2*z^2*e1^4*e4^3*e2^4*e3^3*s - 9324*x1^4*x3^3*x4^9*x*z^4*e1^3*e4^2*e2^2*e3 - 6662*x1^4*x3^3*x4^5*y*z^3*e1^3*e4^3*e2^2*e3^2 - 4801*x1^4*x3^3*x4*x^2*z^2*e1^4*e4^3*e2^4*e3^3*s + 8872*x1^4*x3^2*x4^10*x*z^4*e1^3*e4^2*e2^2*e3 - 2290*x1^4*x3^2*x4^6*y*z^3*e1^3*e4^3*e2^2*e3^2 + 8016*x1^4*x3^2*x4^2*x^2*z^2*e1^4*e4^3*e2^4*e3^3*s + 4247*x1^4*x3*x4^11*x*z^4*e1^3*e4^2*e2^2*e3 + 8880*x1^4*x3*x4^7*y*z^3*e1^3*e4^3*e2^2*e3^2 + 9795*x1^4*x3*x4^3*x^2*z^2*e1^4*e4^3*e2^4*e3^3*s - 8276*x1^4*x4^12*x*z^4*e1^3*e4^2*e2^2*e3 - 4216*x1^4*x4^8*y*z^3*e1^3*e4^3*e2^2*e3^2 + 5223*x1^4*x4^4*x^2*z^2*e1^4*e4^3*e2^4*e3^3*s - 8909*x1^4*x*y*z*e1^4*e4^4*e2^4*e3^4*s + 9790*x1^3*x2^13*x*z^4*e1^2*e4*e2 - 4600*x1^3*x2^12*x3*x*z^4*e1^2*e4*e2 + 966*x1^3*x2^12*x4*x*z^4*e1^2*e4*e2 - 645*x1^3*x2^11*x3^2*x*z^4*e1^2*e4*e2 - 31*x1^3*x2^11*x3*x4*x*z^4*e1^2*e4*e2 + 9852*x1^3*x2^11*x4^2*x*z^4*e1^2*e4*e2 - 3452*x1^3*x2^10*x3^3*x*z^4*e1^2*e4*e2 - 9901*x1^3*x2^10*x3^2*x4*x*z^4*e1^2*e4*e2 - 4427*x1^3*x2^10*x3*x4^2*x*z^4*e1^2*e4*e2 + 889*x1^3*x2^10*x4^3*x*z^4*e1^2*e4*e2 - 7628*x1^3*x2^9*x3^4*x*z^4*e1^2*e4*e2 - 9773*x1^3*x2^9*x3^3*x4*x*z^4*e1^2*e4*e2 - 3891*x1^3*x2^9*x3^2*x4^2*x*z^4*e1^2*e4*e2 + 1569*x1^3*x2^9*x3*x4^3*x*z^4*e1^2*e4*e2 - 4446*x1^3*x2^9*x4^4*x*z^4*e1^2*e4*e2 + 2473*x1^3*x2^9*y*z^3*e1^2*e4^2*e2*e3 + 1704*x1^3*x2^8*x3^5*x*z^4*e1^2*e4*e2 - 5568*x1^3*x2^8*x3^4*x4*x*z^4*e1^2*e4*e2 + 8626*x1^3*x2^8*x3^3*x4^2*x*z^4*e1^2*e4*e2 + 5784*x1^3*x2^8*x3^2*x4^3*x*z^4*e1^2*e4*e2 + 212*x1^3*x2^8*x3*x4^4*x*z^4*e1^2*e4*e2 + 9103*x1^3*x2^8*x3*y*z^3*e1^2*e4^2*e2*e3 - 7258*x1^3*x2^8*x4^5*x*z^4*e1^2*e4*e2 - 2504*x1^3*x2^8*x4*y*z^3*e1^2*e4^2*e2*e3 + 7742*x1^3*x2^7*x3^6*x*z^4*e1^2*e4*e2 + 3610*x1^3*x2^7*x3^5*x4*x*z^4*e1^2*e4*e2 + 3644*x1^3*x2^7*x3^4*x4^2*x*z^4*e1^2*e4*e2 + 8758*x1^3*x2^7*x3^3*x4^3*x*z^4*e1^2*e4*e2 - 264*x1^3*x2^7*x3^2*x4^4*x*z^4*e1^2*e4*e2 + 1533*x1^3*x2^7*x3^2*y*z^3*e1^2*e4^2*e2*e3 + 3707*x1^3*x2^7*x3*x4^5*x*z^4*e1^2*e4*e2 + 1297*x1^3*x2^7*x3*x4*y*z^3*e1^2*e4^2*e2*e3 - 7392*x1^3*x2^7*x4^6*x*z^4*e1^2*e4*e2 - 9613*x1^3*x2^7*x4^2*y*z^3*e1^2*e4^2*e2*e3 + 2607*x1^3*x2^6*x3^7*x*z^4*e1^2*e4*e2 + 9889*x1^3*x2^6*x3^6*x4*x*z^4*e1^2*e4*e2 + 4963*x1^3*x2^6*x3^5*x4^2*x*z^4*e1^2*e4*e2 + 2115*x1^3*x2^6*x3^4*x4^3*x*z^4*e1^2*e4*e2 + 321*x1^3*x2^6*x3^3*x4^4*x*z^4*e1^2*e4*e2 + 7474*x1^3*x2^6*x3^3*y*z^3*e1^2*e4^2*e2*e3 + 4920*x1^3*x2^6*x3^2*x4^5*x*z^4*e1^2*e4*e2 + 1223*x1^3*x2^6*x3^2*x4*y*z^3*e1^2*e4^2*e2*e3 + 8476*x1^3*x2^6*x3*x4^6*x*z^4*e1^2*e4*e2 - 3356*x1^3*x2^6*x3*x4^2*y*z^3*e1^2*e4^2*e2*e3 - 3937*x1^3*x2^6*x4^7*x*z^4*e1^2*e4*e2 + 3693*x1^3*x2^6*x4^3*y*z^3*e1^2*e4^2*e2*e3 - 7192*x1^3*x2^5*x3^8*x*z^4*e1^2*e4*e2 + 5345*x1^3*x2^5*x3^7*x4*x*z^4*e1^2*e4*e2 + 7451*x1^3*x2^5*x3^6*x4^2*x*z^4*e1^2*e4*e2 - 4974*x1^3*x2^5*x3^5*x4^3*x*z^4*e1^2*e4*e2 + 7490*x1^3*x2^5*x3^4*x4^4*x*z^4*e1^2*e4*e2 - 5316*x1^3*x2^5*x3^4*y*z^3*e1^2*e4^2*e2*e3 - 9775*x1^3*x2^5*x3^3*x4^5*x*z^4*e1^2*e4*e2 + 4323*x1^3*x2^5*x3^3*x4*y*z^3*e1^2*e4^2*e2*e3 - 4528*x1^3*x2^5*x3^2*x4^6*x*z^4*e1^2*e4*e2 + 7786*x1^3*x2^5*x3^2*x4^2*y*z^3*e1^2*e4^2*e2*e3 - 8258*x1^3*x2^5*x3*x4^7*x*z^4*e1^2*e4*e2 - 2967*x1^3*x2^5*x3*x4^3*y*z^3*e1^2*e4^2*e2*e3 - 8066*x1^3*x2^5*x4^8*x*z^4*e1^2*e4*e2 + 3626*x1^3*x2^5*x4^4*y*z^3*e1^2*e4^2*e2*e3 + 7597*x1^3*x2^5*x^2*z^2*e1^3*e4^2*e2^3*e3^2*s + 3545*x1^3*x2^4*x3^9*x*z^4*e1^2*e4*e2 + 2090*x1^3*x2^4*x3^8*x4*x*z^4*e1^2*e4*e2 - 732*x1^3*x2^4*x3^7*x4^2*x*z^4*e1^2*e4*e2 + 5968*x1^3*x2^4*x3^6*x4^3*x*z^4*e1^2*e4*e2 - 6503*x1^3*x2^4*x3^5*x4^4*x*z^4*e1^2*e4*e2 - 7340*x1^3*x2^4*x3^5*y*z^3*e1^2*e4^2*e2*e3 + 63*x1^3*x2^4*x3^4*x4^5*x*z^4*e1^2*e4*e2 - 4988*x1^3*x2^4*x3^4*x4*y*z^3*e1^2*e4^2*e2*e3 + 2923*x1^3*x2^4*x3^3*x4^6*x*z^4*e1^2*e4*e2 + 2409*x1^3*x2^4*x3^3*x4^2*y*z^3*e1^2*e4^2*e2*e3 - 4329*x1^3*x2^4*x3^2*x4^7*x*z^4*e1^2*e4*e2 + 3238*x1^3*x2^4*x3^2*x4^3*y*z^3*e1^2*e4^2*e2*e3 + 4097*x1^3*x2^4*x3*x4^8*x*z^4*e1^2*e4*e2 + 3261*x1^3*x2^4*x3*x4^4*y*z^3*e1^2*e4^2*e2*e3 + 9982*x1^3*x2^4*x3*x^2*z^2*e1^3*e4^2*e2^3*e3^2*s + 6585*x1^3*x2^4*x4^9*x*z^4*e1^2*e4*e2 - 849*x1^3*x2^4*x4^5*y*z^3*e1^2*e4^2*e2*e3 + 8268*x1^3*x2^4*x4*x^2*z^2*e1^3*e4^2*e2^3*e3^2*s + 1901*x1^3*x2^3*x3^10*x*z^4*e1^2*e4*e2 + 3714*x1^3*x2^3*x3^9*x4*x*z^4*e1^2*e4*e2 - 2223*x1^3*x2^3*x3^8*x4^2*x*z^4*e1^2*e4*e2 + 9092*x1^3*x2^3*x3^7*x4^3*x*z^4*e1^2*e4*e2 - 493*x1^3*x2^3*x3^6*x4^4*x*z^4*e1^2*e4*e2 + 4123*x1^3*x2^3*x3^6*y*z^3*e1^2*e4^2*e2*e3 + 880*x1^3*x2^3*x3^5*x4^5*x*z^4*e1^2*e4*e2 + 5267*x1^3*x2^3*x3^5*x4*y*z^3*e1^2*e4^2*e2*e3 + 1583*x1^3*x2^3*x3^4*x4^6*x*z^4*e1^2*e4*e2 + 8654*x1^3*x2^3*x3^4*x4^2*y*z^3*e1^2*e4^2*e2*e3 + 7853*x1^3*x2^3*x3^3*x4^7*x*z^4*e1^2*e4*e2 + 8796*x1^3*x2^3*x3^3*x4^3*y*z^3*e1^2*e4^2*e2*e3 + 3216*x1^3*x2^3*x3^2*x4^8*x*z^4*e1^2*e4*e2 + 9754*x1^3*x2^3*x3^2*x4^4*y*z^3*e1^2*e4^2*e2*e3 + 2437*x1^3*x2^3*x3^2*x^2*z^2*e1^3*e4^2*e2^3*e3^2*s + 5995*x1^3*x2^3*x3*x4^9*x*z^4*e1^2*e4*e2 - 9224*x1^3*x2^3*x3*x4^5*y*z^3*e1^2*e4^2*e2*e3 - 1330*x1^3*x2^3*x3*x4*x^2*z^2*e1^3*e4^2*e2^3*e3^2*s + 7615*x1^3*x2^3*x4^10*x*z^4*e1^2*e4*e2 - 5737*x1^3*x2^3*x4^6*y*z^3*e1^2*e4^2*e2*e3 - 105*x1^3*x2^3*x4^2*x^2*z^2*e1^3*e4^2*e2^3*e3^2*s + 3368*x1^3*x2^2*x3^11*x*z^4*e1^2*e4*e2 + 6233*x1^3*x2^2*x3^10*x4*x*z^4*e1^2*e4*e2 + 4612*x1^3*x2^2*x3^9*x4^2*x*z^4*e1^2*e4*e2 + 7875*x1^3*x2^2*x3^8*x4^3*x*z^4*e1^2*e4*e2 - 1922*x1^3*x2^2*x3^7*x4^4*x*z^4*e1^2*e4*e2 + 1335*x1^3*x2^2*x3^7*y*z^3*e1^2*e4^2*e2*e3 + 2353*x1^3*x2^2*x3^6*x4^5*x*z^4*e1^2*e4*e2 - 3825*x1^3*x2^2*x3^6*x4*y*z^3*e1^2*e4^2*e2*e3 - 9581*x1^3*x2^2*x3^5*x4^6*x*z^4*e1^2*e4*e2 + 2542*x1^3*x2^2*x3^5*x4^2*y*z^3*e1^2*e4^2*e2*e3 + 676*x1^3*x2^2*x3^4*x4^7*x*z^4*e1^2*e4*e2 + 2840*x1^3*x2^2*x3^4*x4^3*y*z^3*e1^2*e4^2*e2*e3 - 6771*x1^3*x2^2*x3^3*x4^8*x*z^4*e1^2*e4*e2 + 3306*x1^3*x2^2*x3^3*x4^4*y*z^3*e1^2*e4^2*e2*e3 - 1411*x1^3*x2^2*x3^3*x^2*z^2*e1^3*e4^2*e2^3*e3^2*s + 1348*x1^3*x2^2*x3^2*x4^9*x*z^4*e1^2*e4*e2 - 1669*x1^3*x2^2*x3^2*x4^5*y*z^3*e1^2*e4^2*e2*e3 + 4418*x1^3*x2^2*x3^2*x4*x^2*z^2*e1^3*e4^2*e2^3*e3^2*s + 8921*x1^3*x2^2*x3*x4^10*x*z^4*e1^2*e4*e2 - 5086*x1^3*x2^2*x3*x4^6*y*z^3*e1^2*e4^2*e2*e3 + 73*x1^3*x2^2*x3*x4^2*x^2*z^2*e1^3*e4^2*e2^3*e3^2*s + 3692*x1^3*x2^2*x4^11*x*z^4*e1^2*e4*e2 + 7542*x1^3*x2^2*x4^7*y*z^3*e1^2*e4^2*e2*e3 + 3908*x1^3*x2^2*x4^3*x^2*z^2*e1^3*e4^2*e2^3*e3^2*s - 2893*x1^3*x2*x3^12*x*z^4*e1^2*e4*e2 - 2663*x1^3*x2*x3^11*x4*x*z^4*e1^2*e4*e2 + 3328*x1^3*x2*x3^10*x4^2*x*z^4*e1^2*e4*e2 + 6988*x1^3*x2*x3^9*x4^3*x*z^4*e1^2*e4*e2 - 8466*x1^3*x2*x3^8*x4^4*x*z^4*e1^2*e4*e2 + 2398*x1^3*x2*x3^8*y*z^3*e1^2*e4^2*e2*e3 - 7340*x1^3*x2*x3^7*x4^5*x*z^4*e1^2*e4*e2 + 4097*x1^3*x2*x3^7*x4*y*z^3*e1^2*e4^2*e2*e3 + 835*x1^3*x2*x3^6*x4^6*x*z^4*e1^2*e4*e2 - 3431*x1^3*x2*x3^6*x4^2*y*z^3*e1^2*e4^2*e2*e3 + 5374*x1^3*x2*x3^5*x4^7*x*z^4*e1^2*e4*e2 + 1819*x1^3*x2*x3^5*x4^3*y*z^3*e1^2*e4^2*e2*e3 + 4830*x1^3*x2*x3^4*x4^8*x*z^4*e1^2*e4*e2 - 7416*x1^3*x2*x3^4*x4^4*y*z^3*e1^2*e4^2*e2*e3 + 184*x1^3*x2*x3^4*x^2*z^2*e1^3*e4^2*e2^3*e3^2*s - 6222*x1^3*x2*x3^3*x4^9*x*z^4*e1^2*e4*e2 - 4726*x1^3*x2*x3^3*x4^5*y*z^3*e1^2*e4^2*e2*e3 + 4517*x1^3*x2*x3^3*x4*x^2*z^2*e1^3*e4^2*e2^3*e3^2*s + 7332*x1^3*x2*x3^2*x4^10*x*z^4*e1^2*e4*e2 - 1952*x1^3*x2*x3^2*x4^6*y*z^3*e1^2*e4^2*e2*e3 + 7605*x1^3*x2*x3^2*x4^2*x^2*z^2*e1^3*e4^2*e2^3*e3^2*s + 1399*x1^3*x2*x3*x4^11*x*z^4*e1^2*e4*e2 - 8835*x1^3*x2*x3*x4^7*y*z^3*e1^2*e4^2*e2*e3 - 297*x1^3*x2*x3*x4^3*x^2*z^2*e1^3*e4^2*e2^3*e3^2*s - 1774*x1^3*x2*x4^12*x*z^4*e1^2*e4*e2 - 5217*x1^3*x2*x4^8*y*z^3*e1^2*e4^2*e2*e3 - 9204*x1^3*x2*x4^4*x^2*z^2*e1^3*e4^2*e2^3*e3^2*s - 6995*x1^3*x2*x*y*z*e1^3*e4^3*e2^3*e3^3*s + 4680*x1^3*x3^13*x*z^4*e1^2*e4*e2 + 73*x1^3*x3^12*x4*x*z^4*e1^2*e4*e2 - 694*x1^3*x3^11*x4^2*x*z^4*e1^2*e4*e2 - 56*x1^3*x3^10*x4^3*x*z^4*e1^2*e4*e2 - 5472*x1^3*x3^9*x4^4*x*z^4*e1^2*e4*e2 - 3786*x1^3*x3^9*y*z^3*e1^2*e4^2*e2*e3 + 1568*x1^3*x3^8*x4^5*x*z^4*e1^2*e4*e2 + 867*x1^3*x3^8*x4*y*z^3*e1^2*e4^2*e2*e3 + 3463*x1^3*x3^7*x4^6*x*z^4*e1^2*e4*e2 - 8937*x1^3*x3^7*x4^2*y*z^3*e1^2*e4^2*e2*e3 + 5191*x1^3*x3^6*x4^7*x*z^4*e1^2*e4*e2 + 5990*x1^3*x3^6*x4^3*y*z^3*e1^2*e4^2*e2*e3 + 9119*x1^3*x3^5*x4^8*x*z^4*e1^2*e4*e2 - 4360*x1^3*x3^5*x4^4*y*z^3*e1^2*e4^2*e2*e3 - 8190*x1^3*x3^5*x^2*z^2*e1^3*e4^2*e2^3*e3^2*s - 7348*x1^3*x3^4*x4^9*x*z^4*e1^2*e4*e2 + 520*x1^3*x3^4*x4^5*y*z^3*e1^2*e4^2*e2*e3 - 2592*x1^3*x3^4*x4*x^2*z^2*e1^3*e4^2*e2^3*e3^2*s + 938*x1^3*x3^3*x4^10*x*z^4*e1^2*e4*e2 + 4886*x1^3*x3^3*x4^6*y*z^3*e1^2*e4^2*e2*e3 + 1944*x1^3*x3^3*x4^2*x^2*z^2*e1^3*e4^2*e2^3*e3^2*s - 8087*x1^3*x3^2*x4^11*x*z^4*e1^2*e4*e2 + 6321*x1^3*x3^2*x4^7*y*z^3*e1^2*e4^2*e2*e3 - 236*x1^3*x3^2*x4^3*x^2*z^2*e1^3*e4^2*e2^3*e3^2*s - 6978*x1^3*x3*x4^12*x*z^4*e1^2*e4*e2 - 7757*x1^3*x3*x4^8*y*z^3*e1^2*e4^2*e2*e3 - 3671*x1^3*x3*x4^4*x^2*z^2*e1^3*e4^2*e2^3*e3^2*s - 4555*x1^3*x3*x*y*z*e1^3*e4^3*e2^3*e3^3*s + 7519*x1^3*x4^13*x*z^4*e1^2*e4*e2 - 4177*x1^3*x4^9*y*z^3*e1^2*e4^2*e2*e3 - 2072*x1^3*x4^5*x^2*z^2*e1^3*e4^2*e2^3*e3^2*s - 3702*x1^3*x4*x*y*z*e1^3*e4^3*e2^3*e3^3*s - 9936*x1^2*x2^10*y*z^3*e1*e4 + 2413*x1^2*x2^9*x3*y*z^3*e1*e4 + 336*x1^2*x2^9*x4*y*z^3*e1*e4 - 2072*x1^2*x2^8*x3^2*y*z^3*e1*e4 + 4681*x1^2*x2^8*x3*x4*y*z^3*e1*e4 + 3763*x1^2*x2^8*x4^2*y*z^3*e1*e4 + 1324*x1^2*x2^7*x3^3*y*z^3*e1*e4 + 263*x1^2*x2^7*x3^2*x4*y*z^3*e1*e4 - 6626*x1^2*x2^7*x3*x4^2*y*z^3*e1*e4 - 4700*x1^2*x2^7*x4^3*y*z^3*e1*e4 + 8952*x1^2*x2^6*x3^4*y*z^3*e1*e4 - 6521*x1^2*x2^6*x3^3*x4*y*z^3*e1*e4 + 7729*x1^2*x2^6*x3^2*x4^2*y*z^3*e1*e4 - 458*x1^2*x2^6*x3*x4^3*y*z^3*e1*e4 - 7398*x1^2*x2^6*x4^4*y*z^3*e1*e4 + 7855*x1^2*x2^6*x^2*z^2*e1^2*e4*e2^2*e3*s + 7600*x1^2*x2^5*x3^5*y*z^3*e1*e4 + 6795*x1^2*x2^5*x3^4*x4*y*z^3*e1*e4 - 4978*x1^2*x2^5*x3^3*x4^2*y*z^3*e1*e4 - 8817*x1^2*x2^5*x3^2*x4^3*y*z^3*e1*e4 - 7209*x1^2*x2^5*x3*x4^4*y*z^3*e1*e4 - 624*x1^2*x2^5*x3*x^2*z^2*e1^2*e4*e2^2*e3*s - 9013*x1^2*x2^5*x4^5*y*z^3*e1*e4 + 1916*x1^2*x2^5*x4*x^2*z^2*e1^2*e4*e2^2*e3*s - 1542*x1^2*x2^4*x3^6*y*z^3*e1*e4 - 2055*x1^2*x2^4*x3^5*x4*y*z^3*e1*e4 + 5301*x1^2*x2^4*x3^4*x4^2*y*z^3*e1*e4 + 7303*x1^2*x2^4*x3^3*x4^3*y*z^3*e1*e4 - 5992*x1^2*x2^4*x3^2*x4^4*y*z^3*e1*e4 + 9140*x1^2*x2^4*x3^2*x^2*z^2*e1^2*e4*e2^2*e3*s + 7269*x1^2*x2^4*x3*x4^5*y*z^3*e1*e4 - 41*x1^2*x2^4*x3*x4*x^2*z^2*e1^2*e4*e2^2*e3*s - 3524*x1^2*x2^4*x4^6*y*z^3*e1*e4 + 4294*x1^2*x2^4*x4^2*x^2*z^2*e1^2*e4*e2^2*e3*s - 7551*x1^2*x2^3*x3^7*y*z^3*e1*e4 + 6176*x1^2*x2^3*x3^6*x4*y*z^3*e1*e4 - 817*x1^2*x2^3*x3^5*x4^2*y*z^3*e1*e4 + 902*x1^2*x2^3*x3^4*x4^3*y*z^3*e1*e4 - 8746*x1^2*x2^3*x3^3*x4^4*y*z^3*e1*e4 + 4282*x1^2*x2^3*x3^3*x^2*z^2*e1^2*e4*e2^2*e3*s - 9887*x1^2*x2^3*x3^2*x4^5*y*z^3*e1*e4 + 2261*x1^2*x2^3*x3^2*x4*x^2*z^2*e1^2*e4*e2^2*e3*s + 2364*x1^2*x2^3*x3*x4^6*y*z^3*e1*e4 + 5952*x1^2*x2^3*x3*x4^2*x^2*z^2*e1^2*e4*e2^2*e3*s + 5135*x1^2*x2^3*x4^7*y*z^3*e1*e4 - 9125*x1^2*x2^3*x4^3*x^2*z^2*e1^2*e4*e2^2*e3*s - 4456*x1^2*x2^2*x3^8*y*z^3*e1*e4 - 9984*x1^2*x2^2*x3^7*x4*y*z^3*e1*e4 - 2514*x1^2*x2^2*x3^6*x4^2*y*z^3*e1*e4 + 1840*x1^2*x2^2*x3^5*x4^3*y*z^3*e1*e4 - 3313*x1^2*x2^2*x3^4*x4^4*y*z^3*e1*e4 - 1714*x1^2*x2^2*x3^4*x^2*z^2*e1^2*e4*e2^2*e3*s + 1345*x1^2*x2^2*x3^3*x4^5*y*z^3*e1*e4 + 4228*x1^2*x2^2*x3^3*x4*x^2*z^2*e1^2*e4*e2^2*e3*s - 5189*x1^2*x2^2*x3^2*x4^6*y*z^3*e1*e4 + 9277*x1^2*x2^2*x3^2*x4^2*x^2*z^2*e1^2*e4*e2^2*e3*s + 5094*x1^2*x2^2*x3*x4^7*y*z^3*e1*e4 + 7871*x1^2*x2^2*x3*x4^3*x^2*z^2*e1^2*e4*e2^2*e3*s - 3495*x1^2*x2^2*x4^8*y*z^3*e1*e4 - 3684*x1^2*x2^2*x4^4*x^2*z^2*e1^2*e4*e2^2*e3*s + 9400*x1^2*x2^2*x*y*z*e1^2*e4^2*e2^2*e3^2*s + 4459*x1^2*x2*x3^9*y*z^3*e1*e4 + 3313*x1^2*x2*x3^8*x4*y*z^3*e1*e4 - 5291*x1^2*x2*x3^7*x4^2*y*z^3*e1*e4 + 6285*x1^2*x2*x3^6*x4^3*y*z^3*e1*e4 - 1062*x1^2*x2*x3^5*x4^4*y*z^3*e1*e4 - 1070*x1^2*x2*x3^5*x^2*z^2*e1^2*e4*e2^2*e3*s + 5446*x1^2*x2*x3^4*x4^5*y*z^3*e1*e4 + 5905*x1^2*x2*x3^4*x4*x^2*z^2*e1^2*e4*e2^2*e3*s + 4433*x1^2*x2*x3^3*x4^6*y*z^3*e1*e4 - 8282*x1^2*x2*x3^3*x4^2*x^2*z^2*e1^2*e4*e2^2*e3*s - 5067*x1^2*x2*x3^2*x4^7*y*z^3*e1*e4 + 8407*x1^2*x2*x3^2*x4^3*x^2*z^2*e1^2*e4*e2^2*e3*s + 7236*x1^2*x2*x3*x4^8*y*z^3*e1*e4 + 3157*x1^2*x2*x3*x4^4*x^2*z^2*e1^2*e4*e2^2*e3*s - 7066*x1^2*x2*x3*x*y*z*e1^2*e4^2*e2^2*e3^2*s - 2599*x1^2*x2*x4^9*y*z^3*e1*e4 + 6200*x1^2*x2*x4^5*x^2*z^2*e1^2*e4*e2^2*e3*s - 4397*x1^2*x2*x4*x*y*z*e1^2*e4^2*e2^2*e3^2*s - 5043*x1^2*x3^10*y*z^3*e1*e4 + 6789*x1^2*x3^9*x4*y*z^3*e1*e4 - 8563*x1^2*x3^8*x4^2*y*z^3*e1*e4 + 9297*x1^2*x3^7*x4^3*y*z^3*e1*e4 + 8236*x1^2*x3^6*x4^4*y*z^3*e1*e4 + 3285*x1^2*x3^6*x^2*z^2*e1^2*e4*e2^2*e3*s - 4023*x1^2*x3^5*x4^5*y*z^3*e1*e4 - 7166*x1^2*x3^5*x4*x^2*z^2*e1^2*e4*e2^2*e3*s - 9276*x1^2*x3^4*x4^6*y*z^3*e1*e4 + 8326*x1^2*x3^4*x4^2*x^2*z^2*e1^2*e4*e2^2*e3*s - 5982*x1^2*x3^3*x4^7*y*z^3*e1*e4 + 4848*x1^2*x3^3*x4^3*x^2*z^2*e1^2*e4*e2^2*e3*s - 7861*x1^2*x3^2*x4^8*y*z^3*e1*e4 - 1309*x1^2*x3^2*x4^4*x^2*z^2*e1^2*e4*e2^2*e3*s + 2206*x1^2*x3^2*x*y*z*e1^2*e4^2*e2^2*e3^2*s - 6275*x1^2*x3*x4^9*y*z^3*e1*e4 - 8659*x1^2*x3*x4^5*x^2*z^2*e1^2*e4*e2^2*e3*s - 3007*x1^2*x3*x4*x*y*z*e1^2*e4^2*e2^2*e3^2*s + 767*x1^2*x4^10*y*z^3*e1*e4 - 8479*x1^2*x4^6*x^2*z^2*e1^2*e4*e2^2*e3*s + 3429*x1^2*x4^2*x*y*z*e1^2*e4^2*e2^2*e3^2*s + 5724*x1*x2^7*x^2*z^2*e1*e2*s + 810*x1*x2^6*x3*x^2*z^2*e1*e2*s + 7317*x1*x2^6*x4*x^2*z^2*e1*e2*s + 4894*x1*x2^5*x3^2*x^2*z^2*e1*e2*s + 548*x1*x2^5*x3*x4*x^2*z^2*e1*e2*s + 8628*x1*x2^5*x4^2*x^2*z^2*e1*e2*s + 5394*x1*x2^4*x3^3*x^2*z^2*e1*e2*s - 4200*x1*x2^4*x3^2*x4*x^2*z^2*e1*e2*s - 7279*x1*x2^4*x3*x4^2*x^2*z^2*e1*e2*s + 538*x1*x2^4*x4^3*x^2*z^2*e1*e2*s - 1997*x1*x2^3*x3^4*x^2*z^2*e1*e2*s + 7643*x1*x2^3*x3^3*x4*x^2*z^2*e1*e2*s + 3212*x1*x2^3*x3^2*x4^2*x^2*z^2*e1*e2*s - 4104*x1*x2^3*x3*x4^3*x^2*z^2*e1*e2*s + 6942*x1*x2^3*x4^4*x^2*z^2*e1*e2*s - 2446*x1*x2^3*x*y*z*e1*e4*e2*e3*s + 4153*x1*x2^2*x3^5*x^2*z^2*e1*e2*s - 5329*x1*x2^2*x3^4*x4*x^2*z^2*e1*e2*s + 9978*x1*x2^2*x3^3*x4^2*x^2*z^2*e1*e2*s - 4310*x1*x2^2*x3^2*x4^3*x^2*z^2*e1*e2*s + 7354*x1*x2^2*x3*x4^4*x^2*z^2*e1*e2*s - 8581*x1*x2^2*x3*x*y*z*e1*e4*e2*e3*s + 9721*x1*x2^2*x4^5*x^2*z^2*e1*e2*s - 8591*x1*x2^2*x4*x*y*z*e1*e4*e2*e3*s + 1362*x1*x2*x3^6*x^2*z^2*e1*e2*s - 5892*x1*x2*x3^5*x4*x^2*z^2*e1*e2*s - 1835*x1*x2*x3^4*x4^2*x^2*z^2*e1*e2*s - 3395*x1*x2*x3^3*x4^3*x^2*z^2*e1*e2*s - 433*x1*x2*x3^2*x4^4*x^2*z^2*e1*e2*s - 8193*x1*x2*x3^2*x*y*z*e1*e4*e2*e3*s - 5169*x1*x2*x3*x4^5*x^2*z^2*e1*e2*s - 5343*x1*x2*x3*x4*x*y*z*e1*e4*e2*e3*s + 9086*x1*x2*x4^6*x^2*z^2*e1*e2*s - 3360*x1*x2*x4^2*x*y*z*e1*e4*e2*e3*s + 7797*x1*x3^7*x^2*z^2*e1*e2*s + 1092*x1*x3^6*x4*x^2*z^2*e1*e2*s + 2150*x1*x3^5*x4^2*x^2*z^2*e1*e2*s + 4556*x1*x3^4*x4^3*x^2*z^2*e1*e2*s - 283*x1*x3^3*x4^4*x^2*z^2*e1*e2*s + 1081*x1*x3^3*x*y*z*e1*e4*e2*e3*s + 6609*x1*x3^2*x4^5*x^2*z^2*e1*e2*s - 1101*x1*x3^2*x4*x*y*z*e1*e4*e2*e3*s + 2902*x1*x3*x4^6*x^2*z^2*e1*e2*s + 5819*x1*x3*x4^2*x*y*z*e1*e4*e2*e3*s - 7623*x1*x4^7*x^2*z^2*e1*e2*s - 4342*x1*x4^3*x*y*z*e1*e4*e2*e3*s - 8351*x2^4*x*y*z*s - 9185*x2^3*x3*x*y*z*s - 4363*x2^3*x4*x*y*z*s + 4655*x2^2*x3^2*x*y*z*s - 9014*x2^2*x3*x4*x*y*z*s - 4985*x2^2*x4^2*x*y*z*s + 6271*x2*x3^3*x*y*z*s - 7038*x2*x3^2*x4*x*y*z*s + 6079*x2*x3*x4^2*x*y*z*s + 1945*x2*x4^3*x*y*z*s - 5080*x3^4*x*y*z*s + 3897*x3^3*x4*x*y*z*s + 5849*x3^2*x4^2*x*y*z*s + 2234*x3*x4^3*x*y*z*s + 412*x4^4*x*y*z*s + x^3*e1*e2^2*e3*s^2 - y^2*e4*e3*s"
      ]
     },
     "execution_count": 41,
     "metadata": {},
     "output_type": "execute_result"
    }
   ],
   "source": [
    "tate_polynomial(t_res)"
   ]
  },
  {
   "cell_type": "code",
   "execution_count": 42,
   "id": "194c5ecf-3435-4be4-9e25-4bdf401e561c",
   "metadata": {},
   "outputs": [
    {
     "data": {
      "text/plain": [
       "Toric line bundle on a normal toric variety"
      ]
     },
     "execution_count": 42,
     "metadata": {},
     "output_type": "execute_result"
    }
   ],
   "source": [
    "W = toric_line_bundle(2 * torusinvariant_prime_divisors(B3)[1])"
   ]
  },
  {
   "cell_type": "code",
   "execution_count": 43,
   "id": "d3050414-a80f-4a55-8654-4ef5f70b6291",
   "metadata": {},
   "outputs": [
    {
     "data": {
      "text/plain": [
       "5158*x1^2 - 6150*x1*x2 - 2926*x1*x3 + 8143*x1*x4 - 8199*x2^2 - 4065*x2*x3 - 5168*x2*x4 + 661*x3^2 - 4435*x3*x4 - 5177*x4^2"
      ]
     },
     "execution_count": 43,
     "metadata": {},
     "output_type": "execute_result"
    }
   ],
   "source": [
    "w = generic_section(W)"
   ]
  },
  {
   "cell_type": "code",
   "execution_count": 44,
   "id": "d6f69136-7c4c-4bb1-b83a-0c58810b4d36",
   "metadata": {},
   "outputs": [
    {
     "data": {
      "text/plain": [
       "Global Tate model over a concrete base"
      ]
     },
     "execution_count": 44,
     "metadata": {},
     "output_type": "execute_result"
    }
   ],
   "source": [
    "a10 = generic_section(Kbar);\n",
    "a21 = generic_section(Kbar^2*W^(-1));\n",
    "a32 = generic_section(Kbar^3*W^(-2));\n",
    "a43 = generic_section(Kbar^4*W^(-3));\n",
    "a6 = zero(cox_ring(B3));\n",
    "t2 = global_tate_model(B3, [a10, a21 * w, a32 * w^2, a43 * w^3, a6])"
   ]
  },
  {
   "cell_type": "code",
   "execution_count": 45,
   "id": "3ff69171-1ab4-49fa-8849-d5655182fd5a",
   "metadata": {},
   "outputs": [
    {
     "data": {
      "text/plain": [
       "2-element Vector{Tuple{MPolyIdeal{<:MPolyRingElem}, Tuple{Int64, Int64, Int64}, String}}:\n",
       " (Ideal with 1 generator, (0, 0, 1), \"I_1\")\n",
       " (Ideal with 1 generator, (0, 0, 5), \"Split I_5\")"
      ]
     },
     "execution_count": 45,
     "metadata": {},
     "output_type": "execute_result"
    }
   ],
   "source": [
    "singular_loci(t2)"
   ]
  },
  {
   "cell_type": "code",
   "execution_count": 46,
   "id": "bff610c3-82dc-498a-a068-7cc826a92fa9",
   "metadata": {},
   "outputs": [
    {
     "data": {
      "text/plain": [
       "Ideal generated by\n",
       "  5158*x1^2 - 6150*x1*x2 - 2926*x1*x3 + 8143*x1*x4 - 8199*x2^2 - 4065*x2*x3 - 5168*x2*x4 + 661*x3^2 - 4435*x3*x4 - 5177*x4^2"
      ]
     },
     "execution_count": 46,
     "metadata": {},
     "output_type": "execute_result"
    }
   ],
   "source": [
    "singular_loci(t2)[2][1]"
   ]
  },
  {
   "cell_type": "code",
   "execution_count": 47,
   "id": "a2e7676e-531c-4263-88cc-1345c98834fc",
   "metadata": {},
   "outputs": [
    {
     "data": {
      "text/plain": [
       "Partially resolved global Tate model over a concrete base"
      ]
     },
     "execution_count": 47,
     "metadata": {},
     "output_type": "execute_result"
    }
   ],
   "source": [
    "t2_1 = blow_up(t, [\"x\" , \"y\" , string(w)]; coordinate_name = \"e1\" )"
   ]
  },
  {
   "cell_type": "code",
   "execution_count": 48,
   "id": "920ee668-4524-437e-b8fd-ad25b5b847db",
   "metadata": {},
   "outputs": [
    {
     "data": {
      "text/plain": [
       "CoveredScheme{QQField}"
      ]
     },
     "execution_count": 48,
     "metadata": {},
     "output_type": "execute_result"
    }
   ],
   "source": [
    "typeof(ambient_space(t2_1))"
   ]
  },
  {
   "cell_type": "code",
   "execution_count": 49,
   "id": "1a99d08d-6180-43a3-b849-8c2a4aab69ce",
   "metadata": {
    "scrolled": true
   },
   "outputs": [
    {
     "data": {
      "text/plain": [
       "Scheme\n",
       "  over rational field\n",
       "with default covering\n",
       "  described by patches\n",
       "     1: scheme(-(s1//s0)*x_5_1 + x_4_1, 5158*(s1//s0)*x_1_1^2 - 6150*(s1//s0)*x_1_1*x_2_1 - 2926*(s1//s0)*x_1_1*x_3_1 + 8143*(s1//s0)*x_1_1 - 8199*(s1//s0)*x_2_1^2 - 4065*(s1//s0)*x_2_1*x_3_1 - 5168*(s1//s0)*x_2_1 + 661*(s1//s0)*x_3_1^2 - 4435*(s1//s0)*x_3_1 - 5177*(s1//s0) - (s2//s0)*x_4_1, -(s2//s0)*x_5_1 + 5158*x_1_1^2 - 6150*x_1_1*x_2_1 - 2926*x_1_1*x_3_1 + 8143*x_1_1 - 8199*x_2_1^2 - 4065*x_2_1*x_3_1 - 5168*x_2_1 + 661*x_3_1^2 - 4435*x_3_1 - 5177)\n",
       "     2: scheme((s0//s1)*x_4_1 - x_5_1, -(s2//s1)*x_4_1 + 5158*x_1_1^2 - 6150*x_1_1*x_2_1 - 2926*x_1_1*x_3_1 + 8143*x_1_1 - 8199*x_2_1^2 - 4065*x_2_1*x_3_1 - 5168*x_2_1 + 661*x_3_1^2 - 4435*x_3_1 - 5177, 5158*(s0//s1)*x_1_1^2 - 6150*(s0//s1)*x_1_1*x_2_1 - 2926*(s0//s1)*x_1_1*x_3_1 + 8143*(s0//s1)*x_1_1 - 8199*(s0//s1)*x_2_1^2 - 4065*(s0//s1)*x_2_1*x_3_1 - 5168*(s0//s1)*x_2_1 + 661*(s0//s1)*x_3_1^2 - 4435*(s0//s1)*x_3_1 - 5177*(s0//s1) - (s2//s1)*x_5_1)\n",
       "     3: scheme((s0//s2)*x_4_1 - (s1//s2)*x_5_1, 5158*(s1//s2)*x_1_1^2 - 6150*(s1//s2)*x_1_1*x_2_1 - 2926*(s1//s2)*x_1_1*x_3_1 + 8143*(s1//s2)*x_1_1 - 8199*(s1//s2)*x_2_1^2 - 4065*(s1//s2)*x_2_1*x_3_1 - 5168*(s1//s2)*x_2_1 + 661*(s1//s2)*x_3_1^2 - 4435*(s1//s2)*x_3_1 - 5177*(s1//s2) - x_4_1, 5158*(s0//s2)*x_1_1^2 - 6150*(s0//s2)*x_1_1*x_2_1 - 2926*(s0//s2)*x_1_1*x_3_1 + 8143*(s0//s2)*x_1_1 - 8199*(s0//s2)*x_2_1^2 - 4065*(s0//s2)*x_2_1*x_3_1 - 5168*(s0//s2)*x_2_1 + 661*(s0//s2)*x_3_1^2 - 4435*(s0//s2)*x_3_1 - 5177*(s0//s2) - x_5_1)\n",
       "     4: scheme(-(s1//s0)*x_5_2 + x_4_2, 5177*(s1//s0)*x_1_2^2 + 5168*(s1//s0)*x_1_2*x_2_2 + 4435*(s1//s0)*x_1_2*x_3_2 - 8143*(s1//s0)*x_1_2 + 8199*(s1//s0)*x_2_2^2 + 4065*(s1//s0)*x_2_2*x_3_2 + 6150*(s1//s0)*x_2_2 - 661*(s1//s0)*x_3_2^2 + 2926*(s1//s0)*x_3_2 - 5158*(s1//s0) - (s2//s0)*x_4_2, -(s2//s0)*x_5_2 + 5177*x_1_2^2 + 5168*x_1_2*x_2_2 + 4435*x_1_2*x_3_2 - 8143*x_1_2 + 8199*x_2_2^2 + 4065*x_2_2*x_3_2 + 6150*x_2_2 - 661*x_3_2^2 + 2926*x_3_2 - 5158)\n",
       "     5: scheme((s0//s1)*x_4_2 - x_5_2, -(s2//s1)*x_4_2 + 5177*x_1_2^2 + 5168*x_1_2*x_2_2 + 4435*x_1_2*x_3_2 - 8143*x_1_2 + 8199*x_2_2^2 + 4065*x_2_2*x_3_2 + 6150*x_2_2 - 661*x_3_2^2 + 2926*x_3_2 - 5158, 5177*(s0//s1)*x_1_2^2 + 5168*(s0//s1)*x_1_2*x_2_2 + 4435*(s0//s1)*x_1_2*x_3_2 - 8143*(s0//s1)*x_1_2 + 8199*(s0//s1)*x_2_2^2 + 4065*(s0//s1)*x_2_2*x_3_2 + 6150*(s0//s1)*x_2_2 - 661*(s0//s1)*x_3_2^2 + 2926*(s0//s1)*x_3_2 - 5158*(s0//s1) - (s2//s1)*x_5_2)\n",
       "     6: scheme((s0//s2)*x_4_2 - (s1//s2)*x_5_2, 5177*(s1//s2)*x_1_2^2 + 5168*(s1//s2)*x_1_2*x_2_2 + 4435*(s1//s2)*x_1_2*x_3_2 - 8143*(s1//s2)*x_1_2 + 8199*(s1//s2)*x_2_2^2 + 4065*(s1//s2)*x_2_2*x_3_2 + 6150*(s1//s2)*x_2_2 - 661*(s1//s2)*x_3_2^2 + 2926*(s1//s2)*x_3_2 - 5158*(s1//s2) - x_4_2, 5177*(s0//s2)*x_1_2^2 + 5168*(s0//s2)*x_1_2*x_2_2 + 4435*(s0//s2)*x_1_2*x_3_2 - 8143*(s0//s2)*x_1_2 + 8199*(s0//s2)*x_2_2^2 + 4065*(s0//s2)*x_2_2*x_3_2 + 6150*(s0//s2)*x_2_2 - 661*(s0//s2)*x_3_2^2 + 2926*(s0//s2)*x_3_2 - 5158*(s0//s2) - x_5_2)\n",
       "     7: scheme(-(s1//s0)*x_5_3 + x_4_3, 5158*(s1//s0)*x_1_3^2 + 8143*(s1//s0)*x_1_3*x_2_3 - 2926*(s1//s0)*x_1_3*x_3_3 - 6150*(s1//s0)*x_1_3 - 5177*(s1//s0)*x_2_3^2 - 4435*(s1//s0)*x_2_3*x_3_3 - 5168*(s1//s0)*x_2_3 + 661*(s1//s0)*x_3_3^2 - 4065*(s1//s0)*x_3_3 - 8199*(s1//s0) - (s2//s0)*x_4_3, -(s2//s0)*x_5_3 + 5158*x_1_3^2 + 8143*x_1_3*x_2_3 - 2926*x_1_3*x_3_3 - 6150*x_1_3 - 5177*x_2_3^2 - 4435*x_2_3*x_3_3 - 5168*x_2_3 + 661*x_3_3^2 - 4065*x_3_3 - 8199)\n",
       "     8: scheme((s0//s1)*x_4_3 - x_5_3, -(s2//s1)*x_4_3 + 5158*x_1_3^2 + 8143*x_1_3*x_2_3 - 2926*x_1_3*x_3_3 - 6150*x_1_3 - 5177*x_2_3^2 - 4435*x_2_3*x_3_3 - 5168*x_2_3 + 661*x_3_3^2 - 4065*x_3_3 - 8199, 5158*(s0//s1)*x_1_3^2 + 8143*(s0//s1)*x_1_3*x_2_3 - 2926*(s0//s1)*x_1_3*x_3_3 - 6150*(s0//s1)*x_1_3 - 5177*(s0//s1)*x_2_3^2 - 4435*(s0//s1)*x_2_3*x_3_3 - 5168*(s0//s1)*x_2_3 + 661*(s0//s1)*x_3_3^2 - 4065*(s0//s1)*x_3_3 - 8199*(s0//s1) - (s2//s1)*x_5_3)\n",
       "     9: scheme((s0//s2)*x_4_3 - (s1//s2)*x_5_3, 5158*(s1//s2)*x_1_3^2 + 8143*(s1//s2)*x_1_3*x_2_3 - 2926*(s1//s2)*x_1_3*x_3_3 - 6150*(s1//s2)*x_1_3 - 5177*(s1//s2)*x_2_3^2 - 4435*(s1//s2)*x_2_3*x_3_3 - 5168*(s1//s2)*x_2_3 + 661*(s1//s2)*x_3_3^2 - 4065*(s1//s2)*x_3_3 - 8199*(s1//s2) - x_4_3, 5158*(s0//s2)*x_1_3^2 + 8143*(s0//s2)*x_1_3*x_2_3 - 2926*(s0//s2)*x_1_3*x_3_3 - 6150*(s0//s2)*x_1_3 - 5177*(s0//s2)*x_2_3^2 - 4435*(s0//s2)*x_2_3*x_3_3 - 5168*(s0//s2)*x_2_3 + 661*(s0//s2)*x_3_3^2 - 4065*(s0//s2)*x_3_3 - 8199*(s0//s2) - x_5_3)\n",
       "    10: scheme(-(s1//s0)*x_5_4 + x_4_4, 5158*(s1//s0)*x_1_4^2 - 6150*(s1//s0)*x_1_4*x_2_4 + 8143*(s1//s0)*x_1_4*x_3_4 - 2926*(s1//s0)*x_1_4 - 8199*(s1//s0)*x_2_4^2 - 5168*(s1//s0)*x_2_4*x_3_4 - 4065*(s1//s0)*x_2_4 - 5177*(s1//s0)*x_3_4^2 - 4435*(s1//s0)*x_3_4 + 661*(s1//s0) - (s2//s0)*x_4_4, -(s2//s0)*x_5_4 + 5158*x_1_4^2 - 6150*x_1_4*x_2_4 + 8143*x_1_4*x_3_4 - 2926*x_1_4 - 8199*x_2_4^2 - 5168*x_2_4*x_3_4 - 4065*x_2_4 - 5177*x_3_4^2 - 4435*x_3_4 + 661)\n",
       "    11: scheme((s0//s1)*x_4_4 - x_5_4, -(s2//s1)*x_4_4 + 5158*x_1_4^2 - 6150*x_1_4*x_2_4 + 8143*x_1_4*x_3_4 - 2926*x_1_4 - 8199*x_2_4^2 - 5168*x_2_4*x_3_4 - 4065*x_2_4 - 5177*x_3_4^2 - 4435*x_3_4 + 661, 5158*(s0//s1)*x_1_4^2 - 6150*(s0//s1)*x_1_4*x_2_4 + 8143*(s0//s1)*x_1_4*x_3_4 - 2926*(s0//s1)*x_1_4 - 8199*(s0//s1)*x_2_4^2 - 5168*(s0//s1)*x_2_4*x_3_4 - 4065*(s0//s1)*x_2_4 - 5177*(s0//s1)*x_3_4^2 - 4435*(s0//s1)*x_3_4 + 661*(s0//s1) - (s2//s1)*x_5_4)\n",
       "    12: scheme((s0//s2)*x_4_4 - (s1//s2)*x_5_4, 5158*(s1//s2)*x_1_4^2 - 6150*(s1//s2)*x_1_4*x_2_4 + 8143*(s1//s2)*x_1_4*x_3_4 - 2926*(s1//s2)*x_1_4 - 8199*(s1//s2)*x_2_4^2 - 5168*(s1//s2)*x_2_4*x_3_4 - 4065*(s1//s2)*x_2_4 - 5177*(s1//s2)*x_3_4^2 - 4435*(s1//s2)*x_3_4 + 661*(s1//s2) - x_4_4, 5158*(s0//s2)*x_1_4^2 - 6150*(s0//s2)*x_1_4*x_2_4 + 8143*(s0//s2)*x_1_4*x_3_4 - 2926*(s0//s2)*x_1_4 - 8199*(s0//s2)*x_2_4^2 - 5168*(s0//s2)*x_2_4*x_3_4 - 4065*(s0//s2)*x_2_4 - 5177*(s0//s2)*x_3_4^2 - 4435*(s0//s2)*x_3_4 + 661*(s0//s2) - x_5_4)\n",
       "    13: normal, 5-dimensional toric variety\n",
       "    14: normal, 5-dimensional toric variety\n",
       "    15: normal, 5-dimensional toric variety\n",
       "    16: normal, 5-dimensional toric variety\n",
       "    17: normal, 5-dimensional toric variety\n",
       "    18: normal, 5-dimensional toric variety\n",
       "    19: normal, 5-dimensional toric variety\n",
       "    20: normal, 5-dimensional toric variety\n",
       "  in the coordinate(s)\n",
       "     1: [(s1//s0), (s2//s0), x_1_1, x_2_1, x_3_1, x_4_1, x_5_1]\n",
       "     2: [(s0//s1), (s2//s1), x_1_1, x_2_1, x_3_1, x_4_1, x_5_1]\n",
       "     3: [(s0//s2), (s1//s2), x_1_1, x_2_1, x_3_1, x_4_1, x_5_1]\n",
       "     4: [(s1//s0), (s2//s0), x_1_2, x_2_2, x_3_2, x_4_2, x_5_2]\n",
       "     5: [(s0//s1), (s2//s1), x_1_2, x_2_2, x_3_2, x_4_2, x_5_2]\n",
       "     6: [(s0//s2), (s1//s2), x_1_2, x_2_2, x_3_2, x_4_2, x_5_2]\n",
       "     7: [(s1//s0), (s2//s0), x_1_3, x_2_3, x_3_3, x_4_3, x_5_3]\n",
       "     8: [(s0//s1), (s2//s1), x_1_3, x_2_3, x_3_3, x_4_3, x_5_3]\n",
       "     9: [(s0//s2), (s1//s2), x_1_3, x_2_3, x_3_3, x_4_3, x_5_3]\n",
       "    10: [(s1//s0), (s2//s0), x_1_4, x_2_4, x_3_4, x_4_4, x_5_4]\n",
       "    11: [(s0//s1), (s2//s1), x_1_4, x_2_4, x_3_4, x_4_4, x_5_4]\n",
       "    12: [(s0//s2), (s1//s2), x_1_4, x_2_4, x_3_4, x_4_4, x_5_4]\n",
       "    13: [x_1_5, x_2_5, x_3_5, x_4_5, x_5_5, x_6_5]\n",
       "    14: [x_1_6, x_2_6, x_3_6, x_4_6, x_5_6, x_6_6]\n",
       "    15: [x_1_7, x_2_7, x_3_7, x_4_7, x_5_7, x_6_7]\n",
       "    16: [x_1_8, x_2_8, x_3_8, x_4_8, x_5_8, x_6_8]\n",
       "    17: [x_1_9, x_2_9, x_3_9, x_4_9, x_5_9, x_6_9]\n",
       "    18: [x_1_10, x_2_10, x_3_10, x_4_10, x_5_10, x_6_10]\n",
       "    19: [x_1_11, x_2_11, x_3_11, x_4_11, x_5_11, x_6_11]\n",
       "    20: [x_1_12, x_2_12, x_3_12, x_4_12, x_5_12, x_6_12]"
      ]
     },
     "execution_count": 49,
     "metadata": {},
     "output_type": "execute_result"
    }
   ],
   "source": [
    "ambient_space(t2_1)"
   ]
  },
  {
   "cell_type": "code",
   "execution_count": 50,
   "id": "2b1d54cd-475c-4aff-8dcd-98584826b328",
   "metadata": {},
   "outputs": [],
   "source": [
    "set_resolutions(t2, [([[\"x\" , \"y\" , \"w\" ], [\"y\" , \"e1\" ], [\"x\" , \"e4\" ], [\"y\" , \"e2\" ], [\"x\" , \"y\" ]], [\"e1\" , \"e4\" , \"e2\" , \"e3\" , \"s\" ])])"
   ]
  },
  {
   "cell_type": "code",
   "execution_count": 51,
   "id": "5cd3aa76-7cba-4263-b2d4-e6b697f63535",
   "metadata": {},
   "outputs": [],
   "source": [
    "explicit_model_sections(t2)[\"w\" ] = w;"
   ]
  },
  {
   "cell_type": "code",
   "execution_count": 52,
   "id": "e97b471a-5e93-4f68-805e-598ee384c732",
   "metadata": {},
   "outputs": [
    {
     "data": {
      "text/plain": [
       "Partially resolved global Tate model over a concrete base"
      ]
     },
     "execution_count": 52,
     "metadata": {},
     "output_type": "execute_result"
    }
   ],
   "source": [
    "t2_res = resolve(t2, 1)"
   ]
  },
  {
   "cell_type": "code",
   "execution_count": 53,
   "id": "3e31eb98-2f91-4302-9820-1d862c3efae1",
   "metadata": {},
   "outputs": [
    {
     "data": {
      "text/plain": [
       "\u001b[32m\u001b[1mTest Passed\u001b[22m\u001b[39m\n",
       "      Thrown: ArgumentError"
      ]
     },
     "execution_count": 53,
     "metadata": {},
     "output_type": "execute_result"
    }
   ],
   "source": [
    "@test_throws ArgumentError tate_polynomial(t2_res)"
   ]
  },
  {
   "cell_type": "code",
   "execution_count": 54,
   "id": "4fe36d1f-3df1-41f3-8194-1be818df03a4",
   "metadata": {
    "scrolled": true
   },
   "outputs": [
    {
     "data": {
      "text/plain": [
       "Sheaf of ideals\n",
       "  on scheme over QQ covered with 48 patches\n",
       "     1: [(s1//s0), (s1//s0), (s2//s0), x_1_1, x_2_1, x_3_1]   scheme(0, -(s1//s0)*(s1//s0)^2*(s2//s0) + 5158*(s1//s0)*x_1_1^2 - 6150*(s1//s0)*x_1_1*x_2_1 - 2926*(s1//s0)*x_1_1*x_3_1 + 8143*(s1//s0)*x_1_1 - 8199*(s1//s0)*x_2_1^2 - 4065*(s1//s0)*x_2_1*x_3_1 - 5168*(s1//s0)*x_2_1 + 661*(s1//s0)*x_3_1^2 - 4435*(s1//s0)*x_3_1 - 5177*(s1//s0), -(s1//s0)*(s1//s0)*(s2//s0) + 5158*x_1_1^2 - 6150*x_1_1*x_2_1 - 2926*x_1_1*x_3_1 + 8143*x_1_1 - 8199*x_2_1^2 - 4065*x_2_1*x_3_1 - 5168*x_2_1 + 661*x_3_1^2 - 4435*x_3_1 - 5177, 0, 0)\n",
       "     2: [(s0//s1), (s2//s0), x_1_1, x_2_1, x_3_1, x_5_1]      scheme(0, -(s0//s1)*(s2//s0)*x_5_1^2 + 5158*(s0//s1)*x_1_1^2*x_5_1 - 6150*(s0//s1)*x_1_1*x_2_1*x_5_1 - 2926*(s0//s1)*x_1_1*x_3_1*x_5_1 + 8143*(s0//s1)*x_1_1*x_5_1 - 8199*(s0//s1)*x_2_1^2*x_5_1 - 4065*(s0//s1)*x_2_1*x_3_1*x_5_1 - 5168*(s0//s1)*x_2_1*x_5_1 + 661*(s0//s1)*x_3_1^2*x_5_1 - 4435*(s0//s1)*x_3_1*x_5_1 - 5177*(s0//s1)*x_5_1, -(s2//s0)*x_5_1 + 5158*x_1_1^2 - 6150*x_1_1*x_2_1 - 2926*x_1_1*x_3_1 + 8143*x_1_1 - 8199*x_2_1^2 - 4065*x_2_1*x_3_1 - 5168*x_2_1 + 661*x_3_1^2 - 4435*x_3_1 - 5177, 0, 0)\n",
       "     3: [(s0//s1), (s2//s1), x_1_1, x_2_1, x_3_1, x_4_1]      scheme(0, -(s2//s1)*x_4_1 + 5158*x_1_1^2 - 6150*x_1_1*x_2_1 - 2926*x_1_1*x_3_1 + 8143*x_1_1 - 8199*x_2_1^2 - 4065*x_2_1*x_3_1 - 5168*x_2_1 + 661*x_3_1^2 - 4435*x_3_1 - 5177, -(s0//s1)*(s2//s1)*x_4_1 + 5158*(s0//s1)*x_1_1^2 - 6150*(s0//s1)*x_1_1*x_2_1 - 2926*(s0//s1)*x_1_1*x_3_1 + 8143*(s0//s1)*x_1_1 - 8199*(s0//s1)*x_2_1^2 - 4065*(s0//s1)*x_2_1*x_3_1 - 5168*(s0//s1)*x_2_1 + 661*(s0//s1)*x_3_1^2 - 4435*(s0//s1)*x_3_1 - 5177*(s0//s1))\n",
       "     4: [(s1//s0), (s1//s0), (s0//s2), x_1_1, x_2_1, x_3_1]   scheme(0, -(s1//s0)^2*(s1//s0)*(s0//s2)^2 + 5158*(s1//s0)*(s0//s2)*x_1_1^2 - 6150*(s1//s0)*(s0//s2)*x_1_1*x_2_1 - 2926*(s1//s0)*(s0//s2)*x_1_1*x_3_1 + 8143*(s1//s0)*(s0//s2)*x_1_1 - 8199*(s1//s0)*(s0//s2)*x_2_1^2 - 4065*(s1//s0)*(s0//s2)*x_2_1*x_3_1 - 5168*(s1//s0)*(s0//s2)*x_2_1 + 661*(s1//s0)*(s0//s2)*x_3_1^2 - 4435*(s1//s0)*(s0//s2)*x_3_1 - 5177*(s1//s0)*(s0//s2), -(s1//s0)*(s1//s0)*(s0//s2)^2 + 5158*(s0//s2)*x_1_1^2 - 6150*(s0//s2)*x_1_1*x_2_1 - 2926*(s0//s2)*x_1_1*x_3_1 + 8143*(s0//s2)*x_1_1 - 8199*(s0//s2)*x_2_1^2 - 4065*(s0//s2)*x_2_1*x_3_1 - 5168*(s0//s2)*x_2_1 + 661*(s0//s2)*x_3_1^2 - 4435*(s0//s2)*x_3_1 - 5177*(s0//s2), -(s1//s0)*(s1//s0)*(s0//s2) + 5158*x_1_1^2 - 6150*x_1_1*x_2_1 - 2926*x_1_1*x_3_1 + 8143*x_1_1 - 8199*x_2_1^2 - 4065*x_2_1*x_3_1 - 5168*x_2_1 + 661*x_3_1^2 - 4435*x_3_1 - 5177, 0, 0, 0, 0)\n",
       "     5: [(s0//s1), (s1//s0), (s1//s2), x_1_1, x_2_1, x_3_1]   scheme(0, -(s1//s0)*(s1//s2)^2 + 5158*(s1//s2)*x_1_1^2 - 6150*(s1//s2)*x_1_1*x_2_1 - 2926*(s1//s2)*x_1_1*x_3_1 + 8143*(s1//s2)*x_1_1 - 8199*(s1//s2)*x_2_1^2 - 4065*(s1//s2)*x_2_1*x_3_1 - 5168*(s1//s2)*x_2_1 + 661*(s1//s2)*x_3_1^2 - 4435*(s1//s2)*x_3_1 - 5177*(s1//s2), -(s0//s1)*(s1//s0)*(s1//s2)^2 + 5158*(s0//s1)*(s1//s2)*x_1_1^2 - 6150*(s0//s1)*(s1//s2)*x_1_1*x_2_1 - 2926*(s0//s1)*(s1//s2)*x_1_1*x_3_1 + 8143*(s0//s1)*(s1//s2)*x_1_1 - 8199*(s0//s1)*(s1//s2)*x_2_1^2 - 4065*(s0//s1)*(s1//s2)*x_2_1*x_3_1 - 5168*(s0//s1)*(s1//s2)*x_2_1 + 661*(s0//s1)*(s1//s2)*x_3_1^2 - 4435*(s0//s1)*(s1//s2)*x_3_1 - 5177*(s0//s1)*(s1//s2), -(s1//s0)*(s1//s2) + 5158*x_1_1^2 - 6150*x_1_1*x_2_1 - 2926*x_1_1*x_3_1 + 8143*x_1_1 - 8199*x_2_1^2 - 4065*x_2_1*x_3_1 - 5168*x_2_1 + 661*x_3_1^2 - 4435*x_3_1 - 5177, 0, 0, 0, 0)\n",
       "     6: [(s1//s0), (s1//s0), (s0//s1), x_1_1, x_2_1, x_3_1]   scheme(0, -(s1//s0)^2*(s1//s0)^2*(s0//s1)^3 + 5158*(s1//s0)*(s1//s0)*(s0//s1)^2*x_1_1^2 - 6150*(s1//s0)*(s1//s0)*(s0//s1)^2*x_1_1*x_2_1 - 2926*(s1//s0)*(s1//s0)*(s0//s1)^2*x_1_1*x_3_1 + 8143*(s1//s0)*(s1//s0)*(s0//s1)^2*x_1_1 - 8199*(s1//s0)*(s1//s0)*(s0//s1)^2*x_2_1^2 - 4065*(s1//s0)*(s1//s0)*(s0//s1)^2*x_2_1*x_3_1 - 5168*(s1//s0)*(s1//s0)*(s0//s1)^2*x_2_1 + 661*(s1//s0)*(s1//s0)*(s0//s1)^2*x_3_1^2 - 4435*(s1//s0)*(s1//s0)*(s0//s1)^2*x_3_1 - 5177*(s1//s0)*(s1//s0)*(s0//s1)^2, -(s1//s0)^2*(s1//s0)*(s0//s1)^2 + 5158*(s1//s0)*(s0//s1)*x_1_1^2 - 6150*(s1//s0)*(s0//s1)*x_1_1*x_2_1 - 2926*(s1//s0)*(s0//s1)*x_1_1*x_3_1 + 8143*(s1//s0)*(s0//s1)*x_1_1 - 8199*(s1//s0)*(s0//s1)*x_2_1^2 - 4065*(s1//s0)*(s0//s1)*x_2_1*x_3_1 - 5168*(s1//s0)*(s0//s1)*x_2_1 + 661*(s1//s0)*(s0//s1)*x_3_1^2 - 4435*(s1//s0)*(s0//s1)*x_3_1 - 5177*(s1//s0)*(s0//s1), -(s1//s0)*(s1//s0)*(s0//s1)^2 + 5158*(s0//s1)*x_1_1^2 - 6150*(s0//s1)*x_1_1*x_2_1 - 2926*(s0//s1)*x_1_1*x_3_1 + 8143*(s0//s1)*x_1_1 - 8199*(s0//s1)*x_2_1^2 - 4065*(s0//s1)*x_2_1*x_3_1 - 5168*(s0//s1)*x_2_1 + 661*(s0//s1)*x_3_1^2 - 4435*(s0//s1)*x_3_1 - 5177*(s0//s1), 0, 0, 0, -(s1//s0)*(s1//s0)*(s0//s1) + 5158*x_1_1^2 - 6150*x_1_1*x_2_1 - 2926*x_1_1*x_3_1 + 8143*x_1_1 - 8199*x_2_1^2 - 4065*x_2_1*x_3_1 - 5168*x_2_1 + 661*x_3_1^2 - 4435*x_3_1 - 5177, 0, 0, 0, 0, -(s1//s0)^3*(s1//s0)^2*(s0//s1)^3 + 5158*(s1//s0)^2*(s1//s0)*(s0//s1)^2*x_1_1^2 - 6150*(s1//s0)^2*(s1//s0)*(s0//s1)^2*x_1_1*x_2_1 - 2926*(s1//s0)^2*(s1//s0)*(s0//s1)^2*x_1_1*x_3_1 + 8143*(s1//s0)^2*(s1//s0)*(s0//s1)^2*x_1_1 - 8199*(s1//s0)^2*(s1//s0)*(s0//s1)^2*x_2_1^2 - 4065*(s1//s0)^2*(s1//s0)*(s0//s1)^2*x_2_1*x_3_1 - 5168*(s1//s0)^2*(s1//s0)*(s0//s1)^2*x_2_1 + 661*(s1//s0)^2*(s1//s0)*(s0//s1)^2*x_3_1^2 - 4435*(s1//s0)^2*(s1//s0)*(s0//s1)^2*x_3_1 - 5177*(s1//s0)^2*(s1//s0)*(s0//s1)^2, 0, 0)\n",
       "     7: [(s0//s1), (s1//s0), (s0//s2), x_1_1, x_2_1, x_3_1]   scheme(0, -(s0//s1)*(s1//s0)^2*(s0//s2)^3 + 5158*(s0//s1)*(s1//s0)*(s0//s2)^2*x_1_1^2 - 6150*(s0//s1)*(s1//s0)*(s0//s2)^2*x_1_1*x_2_1 - 2926*(s0//s1)*(s1//s0)*(s0//s2)^2*x_1_1*x_3_1 + 8143*(s0//s1)*(s1//s0)*(s0//s2)^2*x_1_1 - 8199*(s0//s1)*(s1//s0)*(s0//s2)^2*x_2_1^2 - 4065*(s0//s1)*(s1//s0)*(s0//s2)^2*x_2_1*x_3_1 - 5168*(s0//s1)*(s1//s0)*(s0//s2)^2*x_2_1 + 661*(s0//s1)*(s1//s0)*(s0//s2)^2*x_3_1^2 - 4435*(s0//s1)*(s1//s0)*(s0//s2)^2*x_3_1 - 5177*(s0//s1)*(s1//s0)*(s0//s2)^2, -(s1//s0)*(s0//s2)^2 + 5158*(s0//s2)*x_1_1^2 - 6150*(s0//s2)*x_1_1*x_2_1 - 2926*(s0//s2)*x_1_1*x_3_1 + 8143*(s0//s2)*x_1_1 - 8199*(s0//s2)*x_2_1^2 - 4065*(s0//s2)*x_2_1*x_3_1 - 5168*(s0//s2)*x_2_1 + 661*(s0//s2)*x_3_1^2 - 4435*(s0//s2)*x_3_1 - 5177*(s0//s2), -(s0//s1)*(s1//s0)*(s0//s2)^2 + 5158*(s0//s1)*(s0//s2)*x_1_1^2 - 6150*(s0//s1)*(s0//s2)*x_1_1*x_2_1 - 2926*(s0//s1)*(s0//s2)*x_1_1*x_3_1 + 8143*(s0//s1)*(s0//s2)*x_1_1 - 8199*(s0//s1)*(s0//s2)*x_2_1^2 - 4065*(s0//s1)*(s0//s2)*x_2_1*x_3_1 - 5168*(s0//s1)*(s0//s2)*x_2_1 + 661*(s0//s1)*(s0//s2)*x_3_1^2 - 4435*(s0//s1)*(s0//s2)*x_3_1 - 5177*(s0//s1)*(s0//s2), 0, 0, 0, -(s1//s0)*(s0//s2) + 5158*x_1_1^2 - 6150*x_1_1*x_2_1 - 2926*x_1_1*x_3_1 + 8143*x_1_1 - 8199*x_2_1^2 - 4065*x_2_1*x_3_1 - 5168*x_2_1 + 661*x_3_1^2 - 4435*x_3_1 - 5177, 0, 0, 0, 0, -(s0//s1)*(s1//s0)^2*(s0//s2)^3 + 5158*(s0//s1)*(s1//s0)*(s0//s2)^2*x_1_1^2 - 6150*(s0//s1)*(s1//s0)*(s0//s2)^2*x_1_1*x_2_1 - 2926*(s0//s1)*(s1//s0)*(s0//s2)^2*x_1_1*x_3_1 + 8143*(s0//s1)*(s1//s0)*(s0//s2)^2*x_1_1 - 8199*(s0//s1)*(s1//s0)*(s0//s2)^2*x_2_1^2 - 4065*(s0//s1)*(s1//s0)*(s0//s2)^2*x_2_1*x_3_1 - 5168*(s0//s1)*(s1//s0)*(s0//s2)^2*x_2_1 + 661*(s0//s1)*(s1//s0)*(s0//s2)^2*x_3_1^2 - 4435*(s0//s1)*(s1//s0)*(s0//s2)^2*x_3_1 - 5177*(s0//s1)*(s1//s0)*(s0//s2)^2, 0, 0)\n",
       "     8: [(s1//s0), (s0//s1), (s0//s1), x_1_1, x_2_1, x_3_1]   scheme(0, -(s1//s0)^2*(s0//s1)^3 + 5158*(s1//s0)*(s0//s1)^2*x_1_1^2 - 6150*(s1//s0)*(s0//s1)^2*x_1_1*x_2_1 - 2926*(s1//s0)*(s0//s1)^2*x_1_1*x_3_1 + 8143*(s1//s0)*(s0//s1)^2*x_1_1 - 8199*(s1//s0)*(s0//s1)^2*x_2_1^2 - 4065*(s1//s0)*(s0//s1)^2*x_2_1*x_3_1 - 5168*(s1//s0)*(s0//s1)^2*x_2_1 + 661*(s1//s0)*(s0//s1)^2*x_3_1^2 - 4435*(s1//s0)*(s0//s1)^2*x_3_1 - 5177*(s1//s0)*(s0//s1)^2, -(s1//s0)^2*(s0//s1)*(s0//s1)^2 + 5158*(s1//s0)*(s0//s1)*(s0//s1)*x_1_1^2 - 6150*(s1//s0)*(s0//s1)*(s0//s1)*x_1_1*x_2_1 - 2926*(s1//s0)*(s0//s1)*(s0//s1)*x_1_1*x_3_1 + 8143*(s1//s0)*(s0//s1)*(s0//s1)*x_1_1 - 8199*(s1//s0)*(s0//s1)*(s0//s1)*x_2_1^2 - 4065*(s1//s0)*(s0//s1)*(s0//s1)*x_2_1*x_3_1 - 5168*(s1//s0)*(s0//s1)*(s0//s1)*x_2_1 + 661*(s1//s0)*(s0//s1)*(s0//s1)*x_3_1^2 - 4435*(s1//s0)*(s0//s1)*(s0//s1)*x_3_1 - 5177*(s1//s0)*(s0//s1)*(s0//s1), -(s1//s0)*(s0//s1)^2 + 5158*(s0//s1)*x_1_1^2 - 6150*(s0//s1)*x_1_1*x_2_1 - 2926*(s0//s1)*x_1_1*x_3_1 + 8143*(s0//s1)*x_1_1 - 8199*(s0//s1)*x_2_1^2 - 4065*(s0//s1)*x_2_1*x_3_1 - 5168*(s0//s1)*x_2_1 + 661*(s0//s1)*x_3_1^2 - 4435*(s0//s1)*x_3_1 - 5177*(s0//s1), 0, 0, 0, -(s1//s0)*(s0//s1)*(s0//s1) + 5158*(s0//s1)*x_1_1^2 - 6150*(s0//s1)*x_1_1*x_2_1 - 2926*(s0//s1)*x_1_1*x_3_1 + 8143*(s0//s1)*x_1_1 - 8199*(s0//s1)*x_2_1^2 - 4065*(s0//s1)*x_2_1*x_3_1 - 5168*(s0//s1)*x_2_1 + 661*(s0//s1)*x_3_1^2 - 4435*(s0//s1)*x_3_1 - 5177*(s0//s1), 0, 0, -(s1//s0)*(s0//s1) + 5158*x_1_1^2 - 6150*x_1_1*x_2_1 - 2926*x_1_1*x_3_1 + 8143*x_1_1 - 8199*x_2_1^2 - 4065*x_2_1*x_3_1 - 5168*x_2_1 + 661*x_3_1^2 - 4435*x_3_1 - 5177, 0, 0, 0, 0)\n",
       "     9: [(s1//s0), (s0//s1), x_1_1, x_2_1, x_3_1]             scheme(0, 0, 0, 0, 0, 0, 0, 0, 0, 0, 0, 0, 0, 0, 0, 0, 0, 0, 0)\n",
       "    10: [(s0//s1), (s0//s1), x_1_1, x_2_1, x_3_1]             scheme(0, 0, 0, 0, 0, 0, 0, 0, 0, 0, 0, 0, 0, 0, 0, 0, 0, 0, 0)\n",
       "    11: [(s1//s0), (s1//s0), (s2//s0), x_1_2, x_2_2, x_3_2]   scheme(0, -(s1//s0)*(s1//s0)^2*(s2//s0) + 5177*(s1//s0)*x_1_2^2 + 5168*(s1//s0)*x_1_2*x_2_2 + 4435*(s1//s0)*x_1_2*x_3_2 - 8143*(s1//s0)*x_1_2 + 8199*(s1//s0)*x_2_2^2 + 4065*(s1//s0)*x_2_2*x_3_2 + 6150*(s1//s0)*x_2_2 - 661*(s1//s0)*x_3_2^2 + 2926*(s1//s0)*x_3_2 - 5158*(s1//s0), -(s1//s0)*(s1//s0)*(s2//s0) + 5177*x_1_2^2 + 5168*x_1_2*x_2_2 + 4435*x_1_2*x_3_2 - 8143*x_1_2 + 8199*x_2_2^2 + 4065*x_2_2*x_3_2 + 6150*x_2_2 - 661*x_3_2^2 + 2926*x_3_2 - 5158, 0, 0)\n",
       "    12: [(s0//s1), (s2//s0), x_1_2, x_2_2, x_3_2, x_5_2]      scheme(0, -(s0//s1)*(s2//s0)*x_5_2^2 + 5177*(s0//s1)*x_1_2^2*x_5_2 + 5168*(s0//s1)*x_1_2*x_2_2*x_5_2 + 4435*(s0//s1)*x_1_2*x_3_2*x_5_2 - 8143*(s0//s1)*x_1_2*x_5_2 + 8199*(s0//s1)*x_2_2^2*x_5_2 + 4065*(s0//s1)*x_2_2*x_3_2*x_5_2 + 6150*(s0//s1)*x_2_2*x_5_2 - 661*(s0//s1)*x_3_2^2*x_5_2 + 2926*(s0//s1)*x_3_2*x_5_2 - 5158*(s0//s1)*x_5_2, -(s2//s0)*x_5_2 + 5177*x_1_2^2 + 5168*x_1_2*x_2_2 + 4435*x_1_2*x_3_2 - 8143*x_1_2 + 8199*x_2_2^2 + 4065*x_2_2*x_3_2 + 6150*x_2_2 - 661*x_3_2^2 + 2926*x_3_2 - 5158, 0, 0)\n",
       "    13: [(s0//s1), (s2//s1), x_1_2, x_2_2, x_3_2, x_4_2]      scheme(0, -(s2//s1)*x_4_2 + 5177*x_1_2^2 + 5168*x_1_2*x_2_2 + 4435*x_1_2*x_3_2 - 8143*x_1_2 + 8199*x_2_2^2 + 4065*x_2_2*x_3_2 + 6150*x_2_2 - 661*x_3_2^2 + 2926*x_3_2 - 5158, -(s0//s1)*(s2//s1)*x_4_2 + 5177*(s0//s1)*x_1_2^2 + 5168*(s0//s1)*x_1_2*x_2_2 + 4435*(s0//s1)*x_1_2*x_3_2 - 8143*(s0//s1)*x_1_2 + 8199*(s0//s1)*x_2_2^2 + 4065*(s0//s1)*x_2_2*x_3_2 + 6150*(s0//s1)*x_2_2 - 661*(s0//s1)*x_3_2^2 + 2926*(s0//s1)*x_3_2 - 5158*(s0//s1))\n",
       "    14: [(s1//s0), (s1//s0), (s0//s2), x_1_2, x_2_2, x_3_2]   scheme(0, -(s1//s0)^2*(s1//s0)*(s0//s2)^2 + 5177*(s1//s0)*(s0//s2)*x_1_2^2 + 5168*(s1//s0)*(s0//s2)*x_1_2*x_2_2 + 4435*(s1//s0)*(s0//s2)*x_1_2*x_3_2 - 8143*(s1//s0)*(s0//s2)*x_1_2 + 8199*(s1//s0)*(s0//s2)*x_2_2^2 + 4065*(s1//s0)*(s0//s2)*x_2_2*x_3_2 + 6150*(s1//s0)*(s0//s2)*x_2_2 - 661*(s1//s0)*(s0//s2)*x_3_2^2 + 2926*(s1//s0)*(s0//s2)*x_3_2 - 5158*(s1//s0)*(s0//s2), -(s1//s0)*(s1//s0)*(s0//s2)^2 + 5177*(s0//s2)*x_1_2^2 + 5168*(s0//s2)*x_1_2*x_2_2 + 4435*(s0//s2)*x_1_2*x_3_2 - 8143*(s0//s2)*x_1_2 + 8199*(s0//s2)*x_2_2^2 + 4065*(s0//s2)*x_2_2*x_3_2 + 6150*(s0//s2)*x_2_2 - 661*(s0//s2)*x_3_2^2 + 2926*(s0//s2)*x_3_2 - 5158*(s0//s2), -(s1//s0)*(s1//s0)*(s0//s2) + 5177*x_1_2^2 + 5168*x_1_2*x_2_2 + 4435*x_1_2*x_3_2 - 8143*x_1_2 + 8199*x_2_2^2 + 4065*x_2_2*x_3_2 + 6150*x_2_2 - 661*x_3_2^2 + 2926*x_3_2 - 5158, 0, 0, 0, 0)\n",
       "    15: [(s0//s1), (s1//s0), (s1//s2), x_1_2, x_2_2, x_3_2]   scheme(0, -(s1//s0)*(s1//s2)^2 + 5177*(s1//s2)*x_1_2^2 + 5168*(s1//s2)*x_1_2*x_2_2 + 4435*(s1//s2)*x_1_2*x_3_2 - 8143*(s1//s2)*x_1_2 + 8199*(s1//s2)*x_2_2^2 + 4065*(s1//s2)*x_2_2*x_3_2 + 6150*(s1//s2)*x_2_2 - 661*(s1//s2)*x_3_2^2 + 2926*(s1//s2)*x_3_2 - 5158*(s1//s2), -(s0//s1)*(s1//s0)*(s1//s2)^2 + 5177*(s0//s1)*(s1//s2)*x_1_2^2 + 5168*(s0//s1)*(s1//s2)*x_1_2*x_2_2 + 4435*(s0//s1)*(s1//s2)*x_1_2*x_3_2 - 8143*(s0//s1)*(s1//s2)*x_1_2 + 8199*(s0//s1)*(s1//s2)*x_2_2^2 + 4065*(s0//s1)*(s1//s2)*x_2_2*x_3_2 + 6150*(s0//s1)*(s1//s2)*x_2_2 - 661*(s0//s1)*(s1//s2)*x_3_2^2 + 2926*(s0//s1)*(s1//s2)*x_3_2 - 5158*(s0//s1)*(s1//s2), -(s1//s0)*(s1//s2) + 5177*x_1_2^2 + 5168*x_1_2*x_2_2 + 4435*x_1_2*x_3_2 - 8143*x_1_2 + 8199*x_2_2^2 + 4065*x_2_2*x_3_2 + 6150*x_2_2 - 661*x_3_2^2 + 2926*x_3_2 - 5158, 0, 0, 0, 0)\n",
       "    16: [(s1//s0), (s1//s0), (s0//s1), x_1_2, x_2_2, x_3_2]   scheme(0, -(s1//s0)^2*(s1//s0)^2*(s0//s1)^3 + 5177*(s1//s0)*(s1//s0)*(s0//s1)^2*x_1_2^2 + 5168*(s1//s0)*(s1//s0)*(s0//s1)^2*x_1_2*x_2_2 + 4435*(s1//s0)*(s1//s0)*(s0//s1)^2*x_1_2*x_3_2 - 8143*(s1//s0)*(s1//s0)*(s0//s1)^2*x_1_2 + 8199*(s1//s0)*(s1//s0)*(s0//s1)^2*x_2_2^2 + 4065*(s1//s0)*(s1//s0)*(s0//s1)^2*x_2_2*x_3_2 + 6150*(s1//s0)*(s1//s0)*(s0//s1)^2*x_2_2 - 661*(s1//s0)*(s1//s0)*(s0//s1)^2*x_3_2^2 + 2926*(s1//s0)*(s1//s0)*(s0//s1)^2*x_3_2 - 5158*(s1//s0)*(s1//s0)*(s0//s1)^2, -(s1//s0)^2*(s1//s0)*(s0//s1)^2 + 5177*(s1//s0)*(s0//s1)*x_1_2^2 + 5168*(s1//s0)*(s0//s1)*x_1_2*x_2_2 + 4435*(s1//s0)*(s0//s1)*x_1_2*x_3_2 - 8143*(s1//s0)*(s0//s1)*x_1_2 + 8199*(s1//s0)*(s0//s1)*x_2_2^2 + 4065*(s1//s0)*(s0//s1)*x_2_2*x_3_2 + 6150*(s1//s0)*(s0//s1)*x_2_2 - 661*(s1//s0)*(s0//s1)*x_3_2^2 + 2926*(s1//s0)*(s0//s1)*x_3_2 - 5158*(s1//s0)*(s0//s1), -(s1//s0)*(s1//s0)*(s0//s1)^2 + 5177*(s0//s1)*x_1_2^2 + 5168*(s0//s1)*x_1_2*x_2_2 + 4435*(s0//s1)*x_1_2*x_3_2 - 8143*(s0//s1)*x_1_2 + 8199*(s0//s1)*x_2_2^2 + 4065*(s0//s1)*x_2_2*x_3_2 + 6150*(s0//s1)*x_2_2 - 661*(s0//s1)*x_3_2^2 + 2926*(s0//s1)*x_3_2 - 5158*(s0//s1), 0, 0, 0, -(s1//s0)*(s1//s0)*(s0//s1) + 5177*x_1_2^2 + 5168*x_1_2*x_2_2 + 4435*x_1_2*x_3_2 - 8143*x_1_2 + 8199*x_2_2^2 + 4065*x_2_2*x_3_2 + 6150*x_2_2 - 661*x_3_2^2 + 2926*x_3_2 - 5158, 0, 0, 0, 0, -(s1//s0)^3*(s1//s0)^2*(s0//s1)^3 + 5177*(s1//s0)^2*(s1//s0)*(s0//s1)^2*x_1_2^2 + 5168*(s1//s0)^2*(s1//s0)*(s0//s1)^2*x_1_2*x_2_2 + 4435*(s1//s0)^2*(s1//s0)*(s0//s1)^2*x_1_2*x_3_2 - 8143*(s1//s0)^2*(s1//s0)*(s0//s1)^2*x_1_2 + 8199*(s1//s0)^2*(s1//s0)*(s0//s1)^2*x_2_2^2 + 4065*(s1//s0)^2*(s1//s0)*(s0//s1)^2*x_2_2*x_3_2 + 6150*(s1//s0)^2*(s1//s0)*(s0//s1)^2*x_2_2 - 661*(s1//s0)^2*(s1//s0)*(s0//s1)^2*x_3_2^2 + 2926*(s1//s0)^2*(s1//s0)*(s0//s1)^2*x_3_2 - 5158*(s1//s0)^2*(s1//s0)*(s0//s1)^2, 0, 0)\n",
       "    17: [(s0//s1), (s1//s0), (s0//s2), x_1_2, x_2_2, x_3_2]   scheme(0, -(s0//s1)*(s1//s0)^2*(s0//s2)^3 + 5177*(s0//s1)*(s1//s0)*(s0//s2)^2*x_1_2^2 + 5168*(s0//s1)*(s1//s0)*(s0//s2)^2*x_1_2*x_2_2 + 4435*(s0//s1)*(s1//s0)*(s0//s2)^2*x_1_2*x_3_2 - 8143*(s0//s1)*(s1//s0)*(s0//s2)^2*x_1_2 + 8199*(s0//s1)*(s1//s0)*(s0//s2)^2*x_2_2^2 + 4065*(s0//s1)*(s1//s0)*(s0//s2)^2*x_2_2*x_3_2 + 6150*(s0//s1)*(s1//s0)*(s0//s2)^2*x_2_2 - 661*(s0//s1)*(s1//s0)*(s0//s2)^2*x_3_2^2 + 2926*(s0//s1)*(s1//s0)*(s0//s2)^2*x_3_2 - 5158*(s0//s1)*(s1//s0)*(s0//s2)^2, -(s1//s0)*(s0//s2)^2 + 5177*(s0//s2)*x_1_2^2 + 5168*(s0//s2)*x_1_2*x_2_2 + 4435*(s0//s2)*x_1_2*x_3_2 - 8143*(s0//s2)*x_1_2 + 8199*(s0//s2)*x_2_2^2 + 4065*(s0//s2)*x_2_2*x_3_2 + 6150*(s0//s2)*x_2_2 - 661*(s0//s2)*x_3_2^2 + 2926*(s0//s2)*x_3_2 - 5158*(s0//s2), -(s0//s1)*(s1//s0)*(s0//s2)^2 + 5177*(s0//s1)*(s0//s2)*x_1_2^2 + 5168*(s0//s1)*(s0//s2)*x_1_2*x_2_2 + 4435*(s0//s1)*(s0//s2)*x_1_2*x_3_2 - 8143*(s0//s1)*(s0//s2)*x_1_2 + 8199*(s0//s1)*(s0//s2)*x_2_2^2 + 4065*(s0//s1)*(s0//s2)*x_2_2*x_3_2 + 6150*(s0//s1)*(s0//s2)*x_2_2 - 661*(s0//s1)*(s0//s2)*x_3_2^2 + 2926*(s0//s1)*(s0//s2)*x_3_2 - 5158*(s0//s1)*(s0//s2), 0, 0, 0, -(s1//s0)*(s0//s2) + 5177*x_1_2^2 + 5168*x_1_2*x_2_2 + 4435*x_1_2*x_3_2 - 8143*x_1_2 + 8199*x_2_2^2 + 4065*x_2_2*x_3_2 + 6150*x_2_2 - 661*x_3_2^2 + 2926*x_3_2 - 5158, 0, 0, 0, 0, -(s0//s1)*(s1//s0)^2*(s0//s2)^3 + 5177*(s0//s1)*(s1//s0)*(s0//s2)^2*x_1_2^2 + 5168*(s0//s1)*(s1//s0)*(s0//s2)^2*x_1_2*x_2_2 + 4435*(s0//s1)*(s1//s0)*(s0//s2)^2*x_1_2*x_3_2 - 8143*(s0//s1)*(s1//s0)*(s0//s2)^2*x_1_2 + 8199*(s0//s1)*(s1//s0)*(s0//s2)^2*x_2_2^2 + 4065*(s0//s1)*(s1//s0)*(s0//s2)^2*x_2_2*x_3_2 + 6150*(s0//s1)*(s1//s0)*(s0//s2)^2*x_2_2 - 661*(s0//s1)*(s1//s0)*(s0//s2)^2*x_3_2^2 + 2926*(s0//s1)*(s1//s0)*(s0//s2)^2*x_3_2 - 5158*(s0//s1)*(s1//s0)*(s0//s2)^2, 0, 0)\n",
       "    18: [(s1//s0), (s0//s1), (s0//s1), x_1_2, x_2_2, x_3_2]   scheme(0, -(s1//s0)^2*(s0//s1)^3 + 5177*(s1//s0)*(s0//s1)^2*x_1_2^2 + 5168*(s1//s0)*(s0//s1)^2*x_1_2*x_2_2 + 4435*(s1//s0)*(s0//s1)^2*x_1_2*x_3_2 - 8143*(s1//s0)*(s0//s1)^2*x_1_2 + 8199*(s1//s0)*(s0//s1)^2*x_2_2^2 + 4065*(s1//s0)*(s0//s1)^2*x_2_2*x_3_2 + 6150*(s1//s0)*(s0//s1)^2*x_2_2 - 661*(s1//s0)*(s0//s1)^2*x_3_2^2 + 2926*(s1//s0)*(s0//s1)^2*x_3_2 - 5158*(s1//s0)*(s0//s1)^2, -(s1//s0)^2*(s0//s1)*(s0//s1)^2 + 5177*(s1//s0)*(s0//s1)*(s0//s1)*x_1_2^2 + 5168*(s1//s0)*(s0//s1)*(s0//s1)*x_1_2*x_2_2 + 4435*(s1//s0)*(s0//s1)*(s0//s1)*x_1_2*x_3_2 - 8143*(s1//s0)*(s0//s1)*(s0//s1)*x_1_2 + 8199*(s1//s0)*(s0//s1)*(s0//s1)*x_2_2^2 + 4065*(s1//s0)*(s0//s1)*(s0//s1)*x_2_2*x_3_2 + 6150*(s1//s0)*(s0//s1)*(s0//s1)*x_2_2 - 661*(s1//s0)*(s0//s1)*(s0//s1)*x_3_2^2 + 2926*(s1//s0)*(s0//s1)*(s0//s1)*x_3_2 - 5158*(s1//s0)*(s0//s1)*(s0//s1), -(s1//s0)*(s0//s1)^2 + 5177*(s0//s1)*x_1_2^2 + 5168*(s0//s1)*x_1_2*x_2_2 + 4435*(s0//s1)*x_1_2*x_3_2 - 8143*(s0//s1)*x_1_2 + 8199*(s0//s1)*x_2_2^2 + 4065*(s0//s1)*x_2_2*x_3_2 + 6150*(s0//s1)*x_2_2 - 661*(s0//s1)*x_3_2^2 + 2926*(s0//s1)*x_3_2 - 5158*(s0//s1), 0, 0, 0, -(s1//s0)*(s0//s1)*(s0//s1) + 5177*(s0//s1)*x_1_2^2 + 5168*(s0//s1)*x_1_2*x_2_2 + 4435*(s0//s1)*x_1_2*x_3_2 - 8143*(s0//s1)*x_1_2 + 8199*(s0//s1)*x_2_2^2 + 4065*(s0//s1)*x_2_2*x_3_2 + 6150*(s0//s1)*x_2_2 - 661*(s0//s1)*x_3_2^2 + 2926*(s0//s1)*x_3_2 - 5158*(s0//s1), 0, 0, -(s1//s0)*(s0//s1) + 5177*x_1_2^2 + 5168*x_1_2*x_2_2 + 4435*x_1_2*x_3_2 - 8143*x_1_2 + 8199*x_2_2^2 + 4065*x_2_2*x_3_2 + 6150*x_2_2 - 661*x_3_2^2 + 2926*x_3_2 - 5158, 0, 0, 0, 0)\n",
       "    19: [(s1//s0), (s0//s1), x_1_2, x_2_2, x_3_2]             scheme(0, 0, 0, 0, 0, 0, 0, 0, 0, 0, 0, 0, 0, 0, 0, 0, 0, 0, 0)\n",
       "    20: [(s0//s1), (s0//s1), x_1_2, x_2_2, x_3_2]             scheme(0, 0, 0, 0, 0, 0, 0, 0, 0, 0, 0, 0, 0, 0, 0, 0, 0, 0, 0)\n",
       "    21: [(s1//s0), (s1//s0), (s2//s0), x_1_3, x_2_3, x_3_3]   scheme(0, -(s1//s0)*(s1//s0)^2*(s2//s0) + 5158*(s1//s0)*x_1_3^2 + 8143*(s1//s0)*x_1_3*x_2_3 - 2926*(s1//s0)*x_1_3*x_3_3 - 6150*(s1//s0)*x_1_3 - 5177*(s1//s0)*x_2_3^2 - 4435*(s1//s0)*x_2_3*x_3_3 - 5168*(s1//s0)*x_2_3 + 661*(s1//s0)*x_3_3^2 - 4065*(s1//s0)*x_3_3 - 8199*(s1//s0), -(s1//s0)*(s1//s0)*(s2//s0) + 5158*x_1_3^2 + 8143*x_1_3*x_2_3 - 2926*x_1_3*x_3_3 - 6150*x_1_3 - 5177*x_2_3^2 - 4435*x_2_3*x_3_3 - 5168*x_2_3 + 661*x_3_3^2 - 4065*x_3_3 - 8199, 0, 0)\n",
       "    22: [(s0//s1), (s2//s0), x_1_3, x_2_3, x_3_3, x_5_3]      scheme(0, -(s0//s1)*(s2//s0)*x_5_3^2 + 5158*(s0//s1)*x_1_3^2*x_5_3 + 8143*(s0//s1)*x_1_3*x_2_3*x_5_3 - 2926*(s0//s1)*x_1_3*x_3_3*x_5_3 - 6150*(s0//s1)*x_1_3*x_5_3 - 5177*(s0//s1)*x_2_3^2*x_5_3 - 4435*(s0//s1)*x_2_3*x_3_3*x_5_3 - 5168*(s0//s1)*x_2_3*x_5_3 + 661*(s0//s1)*x_3_3^2*x_5_3 - 4065*(s0//s1)*x_3_3*x_5_3 - 8199*(s0//s1)*x_5_3, -(s2//s0)*x_5_3 + 5158*x_1_3^2 + 8143*x_1_3*x_2_3 - 2926*x_1_3*x_3_3 - 6150*x_1_3 - 5177*x_2_3^2 - 4435*x_2_3*x_3_3 - 5168*x_2_3 + 661*x_3_3^2 - 4065*x_3_3 - 8199, 0, 0)\n",
       "    23: [(s0//s1), (s2//s1), x_1_3, x_2_3, x_3_3, x_4_3]      scheme(0, -(s2//s1)*x_4_3 + 5158*x_1_3^2 + 8143*x_1_3*x_2_3 - 2926*x_1_3*x_3_3 - 6150*x_1_3 - 5177*x_2_3^2 - 4435*x_2_3*x_3_3 - 5168*x_2_3 + 661*x_3_3^2 - 4065*x_3_3 - 8199, -(s0//s1)*(s2//s1)*x_4_3 + 5158*(s0//s1)*x_1_3^2 + 8143*(s0//s1)*x_1_3*x_2_3 - 2926*(s0//s1)*x_1_3*x_3_3 - 6150*(s0//s1)*x_1_3 - 5177*(s0//s1)*x_2_3^2 - 4435*(s0//s1)*x_2_3*x_3_3 - 5168*(s0//s1)*x_2_3 + 661*(s0//s1)*x_3_3^2 - 4065*(s0//s1)*x_3_3 - 8199*(s0//s1))\n",
       "    24: [(s1//s0), (s1//s0), (s0//s2), x_1_3, x_2_3, x_3_3]   scheme(0, -(s1//s0)^2*(s1//s0)*(s0//s2)^2 + 5158*(s1//s0)*(s0//s2)*x_1_3^2 + 8143*(s1//s0)*(s0//s2)*x_1_3*x_2_3 - 2926*(s1//s0)*(s0//s2)*x_1_3*x_3_3 - 6150*(s1//s0)*(s0//s2)*x_1_3 - 5177*(s1//s0)*(s0//s2)*x_2_3^2 - 4435*(s1//s0)*(s0//s2)*x_2_3*x_3_3 - 5168*(s1//s0)*(s0//s2)*x_2_3 + 661*(s1//s0)*(s0//s2)*x_3_3^2 - 4065*(s1//s0)*(s0//s2)*x_3_3 - 8199*(s1//s0)*(s0//s2), -(s1//s0)*(s1//s0)*(s0//s2)^2 + 5158*(s0//s2)*x_1_3^2 + 8143*(s0//s2)*x_1_3*x_2_3 - 2926*(s0//s2)*x_1_3*x_3_3 - 6150*(s0//s2)*x_1_3 - 5177*(s0//s2)*x_2_3^2 - 4435*(s0//s2)*x_2_3*x_3_3 - 5168*(s0//s2)*x_2_3 + 661*(s0//s2)*x_3_3^2 - 4065*(s0//s2)*x_3_3 - 8199*(s0//s2), -(s1//s0)*(s1//s0)*(s0//s2) + 5158*x_1_3^2 + 8143*x_1_3*x_2_3 - 2926*x_1_3*x_3_3 - 6150*x_1_3 - 5177*x_2_3^2 - 4435*x_2_3*x_3_3 - 5168*x_2_3 + 661*x_3_3^2 - 4065*x_3_3 - 8199, 0, 0, 0, 0)\n",
       "    25: [(s0//s1), (s1//s0), (s1//s2), x_1_3, x_2_3, x_3_3]   scheme(0, -(s1//s0)*(s1//s2)^2 + 5158*(s1//s2)*x_1_3^2 + 8143*(s1//s2)*x_1_3*x_2_3 - 2926*(s1//s2)*x_1_3*x_3_3 - 6150*(s1//s2)*x_1_3 - 5177*(s1//s2)*x_2_3^2 - 4435*(s1//s2)*x_2_3*x_3_3 - 5168*(s1//s2)*x_2_3 + 661*(s1//s2)*x_3_3^2 - 4065*(s1//s2)*x_3_3 - 8199*(s1//s2), -(s0//s1)*(s1//s0)*(s1//s2)^2 + 5158*(s0//s1)*(s1//s2)*x_1_3^2 + 8143*(s0//s1)*(s1//s2)*x_1_3*x_2_3 - 2926*(s0//s1)*(s1//s2)*x_1_3*x_3_3 - 6150*(s0//s1)*(s1//s2)*x_1_3 - 5177*(s0//s1)*(s1//s2)*x_2_3^2 - 4435*(s0//s1)*(s1//s2)*x_2_3*x_3_3 - 5168*(s0//s1)*(s1//s2)*x_2_3 + 661*(s0//s1)*(s1//s2)*x_3_3^2 - 4065*(s0//s1)*(s1//s2)*x_3_3 - 8199*(s0//s1)*(s1//s2), -(s1//s0)*(s1//s2) + 5158*x_1_3^2 + 8143*x_1_3*x_2_3 - 2926*x_1_3*x_3_3 - 6150*x_1_3 - 5177*x_2_3^2 - 4435*x_2_3*x_3_3 - 5168*x_2_3 + 661*x_3_3^2 - 4065*x_3_3 - 8199, 0, 0, 0, 0)\n",
       "    26: [(s1//s0), (s1//s0), (s0//s1), x_1_3, x_2_3, x_3_3]   scheme(0, -(s1//s0)^2*(s1//s0)^2*(s0//s1)^3 + 5158*(s1//s0)*(s1//s0)*(s0//s1)^2*x_1_3^2 + 8143*(s1//s0)*(s1//s0)*(s0//s1)^2*x_1_3*x_2_3 - 2926*(s1//s0)*(s1//s0)*(s0//s1)^2*x_1_3*x_3_3 - 6150*(s1//s0)*(s1//s0)*(s0//s1)^2*x_1_3 - 5177*(s1//s0)*(s1//s0)*(s0//s1)^2*x_2_3^2 - 4435*(s1//s0)*(s1//s0)*(s0//s1)^2*x_2_3*x_3_3 - 5168*(s1//s0)*(s1//s0)*(s0//s1)^2*x_2_3 + 661*(s1//s0)*(s1//s0)*(s0//s1)^2*x_3_3^2 - 4065*(s1//s0)*(s1//s0)*(s0//s1)^2*x_3_3 - 8199*(s1//s0)*(s1//s0)*(s0//s1)^2, -(s1//s0)^2*(s1//s0)*(s0//s1)^2 + 5158*(s1//s0)*(s0//s1)*x_1_3^2 + 8143*(s1//s0)*(s0//s1)*x_1_3*x_2_3 - 2926*(s1//s0)*(s0//s1)*x_1_3*x_3_3 - 6150*(s1//s0)*(s0//s1)*x_1_3 - 5177*(s1//s0)*(s0//s1)*x_2_3^2 - 4435*(s1//s0)*(s0//s1)*x_2_3*x_3_3 - 5168*(s1//s0)*(s0//s1)*x_2_3 + 661*(s1//s0)*(s0//s1)*x_3_3^2 - 4065*(s1//s0)*(s0//s1)*x_3_3 - 8199*(s1//s0)*(s0//s1), -(s1//s0)*(s1//s0)*(s0//s1)^2 + 5158*(s0//s1)*x_1_3^2 + 8143*(s0//s1)*x_1_3*x_2_3 - 2926*(s0//s1)*x_1_3*x_3_3 - 6150*(s0//s1)*x_1_3 - 5177*(s0//s1)*x_2_3^2 - 4435*(s0//s1)*x_2_3*x_3_3 - 5168*(s0//s1)*x_2_3 + 661*(s0//s1)*x_3_3^2 - 4065*(s0//s1)*x_3_3 - 8199*(s0//s1), 0, 0, 0, -(s1//s0)*(s1//s0)*(s0//s1) + 5158*x_1_3^2 + 8143*x_1_3*x_2_3 - 2926*x_1_3*x_3_3 - 6150*x_1_3 - 5177*x_2_3^2 - 4435*x_2_3*x_3_3 - 5168*x_2_3 + 661*x_3_3^2 - 4065*x_3_3 - 8199, 0, 0, 0, 0, -(s1//s0)^3*(s1//s0)^2*(s0//s1)^3 + 5158*(s1//s0)^2*(s1//s0)*(s0//s1)^2*x_1_3^2 + 8143*(s1//s0)^2*(s1//s0)*(s0//s1)^2*x_1_3*x_2_3 - 2926*(s1//s0)^2*(s1//s0)*(s0//s1)^2*x_1_3*x_3_3 - 6150*(s1//s0)^2*(s1//s0)*(s0//s1)^2*x_1_3 - 5177*(s1//s0)^2*(s1//s0)*(s0//s1)^2*x_2_3^2 - 4435*(s1//s0)^2*(s1//s0)*(s0//s1)^2*x_2_3*x_3_3 - 5168*(s1//s0)^2*(s1//s0)*(s0//s1)^2*x_2_3 + 661*(s1//s0)^2*(s1//s0)*(s0//s1)^2*x_3_3^2 - 4065*(s1//s0)^2*(s1//s0)*(s0//s1)^2*x_3_3 - 8199*(s1//s0)^2*(s1//s0)*(s0//s1)^2, 0, 0)\n",
       "    27: [(s0//s1), (s1//s0), (s0//s2), x_1_3, x_2_3, x_3_3]   scheme(0, -(s0//s1)*(s1//s0)^2*(s0//s2)^3 + 5158*(s0//s1)*(s1//s0)*(s0//s2)^2*x_1_3^2 + 8143*(s0//s1)*(s1//s0)*(s0//s2)^2*x_1_3*x_2_3 - 2926*(s0//s1)*(s1//s0)*(s0//s2)^2*x_1_3*x_3_3 - 6150*(s0//s1)*(s1//s0)*(s0//s2)^2*x_1_3 - 5177*(s0//s1)*(s1//s0)*(s0//s2)^2*x_2_3^2 - 4435*(s0//s1)*(s1//s0)*(s0//s2)^2*x_2_3*x_3_3 - 5168*(s0//s1)*(s1//s0)*(s0//s2)^2*x_2_3 + 661*(s0//s1)*(s1//s0)*(s0//s2)^2*x_3_3^2 - 4065*(s0//s1)*(s1//s0)*(s0//s2)^2*x_3_3 - 8199*(s0//s1)*(s1//s0)*(s0//s2)^2, -(s1//s0)*(s0//s2)^2 + 5158*(s0//s2)*x_1_3^2 + 8143*(s0//s2)*x_1_3*x_2_3 - 2926*(s0//s2)*x_1_3*x_3_3 - 6150*(s0//s2)*x_1_3 - 5177*(s0//s2)*x_2_3^2 - 4435*(s0//s2)*x_2_3*x_3_3 - 5168*(s0//s2)*x_2_3 + 661*(s0//s2)*x_3_3^2 - 4065*(s0//s2)*x_3_3 - 8199*(s0//s2), -(s0//s1)*(s1//s0)*(s0//s2)^2 + 5158*(s0//s1)*(s0//s2)*x_1_3^2 + 8143*(s0//s1)*(s0//s2)*x_1_3*x_2_3 - 2926*(s0//s1)*(s0//s2)*x_1_3*x_3_3 - 6150*(s0//s1)*(s0//s2)*x_1_3 - 5177*(s0//s1)*(s0//s2)*x_2_3^2 - 4435*(s0//s1)*(s0//s2)*x_2_3*x_3_3 - 5168*(s0//s1)*(s0//s2)*x_2_3 + 661*(s0//s1)*(s0//s2)*x_3_3^2 - 4065*(s0//s1)*(s0//s2)*x_3_3 - 8199*(s0//s1)*(s0//s2), 0, 0, 0, -(s1//s0)*(s0//s2) + 5158*x_1_3^2 + 8143*x_1_3*x_2_3 - 2926*x_1_3*x_3_3 - 6150*x_1_3 - 5177*x_2_3^2 - 4435*x_2_3*x_3_3 - 5168*x_2_3 + 661*x_3_3^2 - 4065*x_3_3 - 8199, 0, 0, 0, 0, -(s0//s1)*(s1//s0)^2*(s0//s2)^3 + 5158*(s0//s1)*(s1//s0)*(s0//s2)^2*x_1_3^2 + 8143*(s0//s1)*(s1//s0)*(s0//s2)^2*x_1_3*x_2_3 - 2926*(s0//s1)*(s1//s0)*(s0//s2)^2*x_1_3*x_3_3 - 6150*(s0//s1)*(s1//s0)*(s0//s2)^2*x_1_3 - 5177*(s0//s1)*(s1//s0)*(s0//s2)^2*x_2_3^2 - 4435*(s0//s1)*(s1//s0)*(s0//s2)^2*x_2_3*x_3_3 - 5168*(s0//s1)*(s1//s0)*(s0//s2)^2*x_2_3 + 661*(s0//s1)*(s1//s0)*(s0//s2)^2*x_3_3^2 - 4065*(s0//s1)*(s1//s0)*(s0//s2)^2*x_3_3 - 8199*(s0//s1)*(s1//s0)*(s0//s2)^2, 0, 0)\n",
       "    28: [(s1//s0), (s0//s1), (s0//s1), x_1_3, x_2_3, x_3_3]   scheme(0, -(s1//s0)^2*(s0//s1)^3 + 5158*(s1//s0)*(s0//s1)^2*x_1_3^2 + 8143*(s1//s0)*(s0//s1)^2*x_1_3*x_2_3 - 2926*(s1//s0)*(s0//s1)^2*x_1_3*x_3_3 - 6150*(s1//s0)*(s0//s1)^2*x_1_3 - 5177*(s1//s0)*(s0//s1)^2*x_2_3^2 - 4435*(s1//s0)*(s0//s1)^2*x_2_3*x_3_3 - 5168*(s1//s0)*(s0//s1)^2*x_2_3 + 661*(s1//s0)*(s0//s1)^2*x_3_3^2 - 4065*(s1//s0)*(s0//s1)^2*x_3_3 - 8199*(s1//s0)*(s0//s1)^2, -(s1//s0)^2*(s0//s1)*(s0//s1)^2 + 5158*(s1//s0)*(s0//s1)*(s0//s1)*x_1_3^2 + 8143*(s1//s0)*(s0//s1)*(s0//s1)*x_1_3*x_2_3 - 2926*(s1//s0)*(s0//s1)*(s0//s1)*x_1_3*x_3_3 - 6150*(s1//s0)*(s0//s1)*(s0//s1)*x_1_3 - 5177*(s1//s0)*(s0//s1)*(s0//s1)*x_2_3^2 - 4435*(s1//s0)*(s0//s1)*(s0//s1)*x_2_3*x_3_3 - 5168*(s1//s0)*(s0//s1)*(s0//s1)*x_2_3 + 661*(s1//s0)*(s0//s1)*(s0//s1)*x_3_3^2 - 4065*(s1//s0)*(s0//s1)*(s0//s1)*x_3_3 - 8199*(s1//s0)*(s0//s1)*(s0//s1), -(s1//s0)*(s0//s1)^2 + 5158*(s0//s1)*x_1_3^2 + 8143*(s0//s1)*x_1_3*x_2_3 - 2926*(s0//s1)*x_1_3*x_3_3 - 6150*(s0//s1)*x_1_3 - 5177*(s0//s1)*x_2_3^2 - 4435*(s0//s1)*x_2_3*x_3_3 - 5168*(s0//s1)*x_2_3 + 661*(s0//s1)*x_3_3^2 - 4065*(s0//s1)*x_3_3 - 8199*(s0//s1), 0, 0, 0, -(s1//s0)*(s0//s1)*(s0//s1) + 5158*(s0//s1)*x_1_3^2 + 8143*(s0//s1)*x_1_3*x_2_3 - 2926*(s0//s1)*x_1_3*x_3_3 - 6150*(s0//s1)*x_1_3 - 5177*(s0//s1)*x_2_3^2 - 4435*(s0//s1)*x_2_3*x_3_3 - 5168*(s0//s1)*x_2_3 + 661*(s0//s1)*x_3_3^2 - 4065*(s0//s1)*x_3_3 - 8199*(s0//s1), 0, 0, -(s1//s0)*(s0//s1) + 5158*x_1_3^2 + 8143*x_1_3*x_2_3 - 2926*x_1_3*x_3_3 - 6150*x_1_3 - 5177*x_2_3^2 - 4435*x_2_3*x_3_3 - 5168*x_2_3 + 661*x_3_3^2 - 4065*x_3_3 - 8199, 0, 0, 0, 0)\n",
       "    29: [(s1//s0), (s0//s1), x_1_3, x_2_3, x_3_3]             scheme(0, 0, 0, 0, 0, 0, 0, 0, 0, 0, 0, 0, 0, 0, 0, 0, 0, 0, 0)\n",
       "    30: [(s0//s1), (s0//s1), x_1_3, x_2_3, x_3_3]             scheme(0, 0, 0, 0, 0, 0, 0, 0, 0, 0, 0, 0, 0, 0, 0, 0, 0, 0, 0)\n",
       "    31: [(s1//s0), (s1//s0), (s2//s0), x_1_4, x_2_4, x_3_4]   scheme(0, -(s1//s0)*(s1//s0)^2*(s2//s0) + 5158*(s1//s0)*x_1_4^2 - 6150*(s1//s0)*x_1_4*x_2_4 + 8143*(s1//s0)*x_1_4*x_3_4 - 2926*(s1//s0)*x_1_4 - 8199*(s1//s0)*x_2_4^2 - 5168*(s1//s0)*x_2_4*x_3_4 - 4065*(s1//s0)*x_2_4 - 5177*(s1//s0)*x_3_4^2 - 4435*(s1//s0)*x_3_4 + 661*(s1//s0), -(s1//s0)*(s1//s0)*(s2//s0) + 5158*x_1_4^2 - 6150*x_1_4*x_2_4 + 8143*x_1_4*x_3_4 - 2926*x_1_4 - 8199*x_2_4^2 - 5168*x_2_4*x_3_4 - 4065*x_2_4 - 5177*x_3_4^2 - 4435*x_3_4 + 661, 0, 0)\n",
       "    32: [(s0//s1), (s2//s0), x_1_4, x_2_4, x_3_4, x_5_4]      scheme(0, -(s0//s1)*(s2//s0)*x_5_4^2 + 5158*(s0//s1)*x_1_4^2*x_5_4 - 6150*(s0//s1)*x_1_4*x_2_4*x_5_4 + 8143*(s0//s1)*x_1_4*x_3_4*x_5_4 - 2926*(s0//s1)*x_1_4*x_5_4 - 8199*(s0//s1)*x_2_4^2*x_5_4 - 5168*(s0//s1)*x_2_4*x_3_4*x_5_4 - 4065*(s0//s1)*x_2_4*x_5_4 - 5177*(s0//s1)*x_3_4^2*x_5_4 - 4435*(s0//s1)*x_3_4*x_5_4 + 661*(s0//s1)*x_5_4, -(s2//s0)*x_5_4 + 5158*x_1_4^2 - 6150*x_1_4*x_2_4 + 8143*x_1_4*x_3_4 - 2926*x_1_4 - 8199*x_2_4^2 - 5168*x_2_4*x_3_4 - 4065*x_2_4 - 5177*x_3_4^2 - 4435*x_3_4 + 661, 0, 0)\n",
       "    33: [(s0//s1), (s2//s1), x_1_4, x_2_4, x_3_4, x_4_4]      scheme(0, -(s2//s1)*x_4_4 + 5158*x_1_4^2 - 6150*x_1_4*x_2_4 + 8143*x_1_4*x_3_4 - 2926*x_1_4 - 8199*x_2_4^2 - 5168*x_2_4*x_3_4 - 4065*x_2_4 - 5177*x_3_4^2 - 4435*x_3_4 + 661, -(s0//s1)*(s2//s1)*x_4_4 + 5158*(s0//s1)*x_1_4^2 - 6150*(s0//s1)*x_1_4*x_2_4 + 8143*(s0//s1)*x_1_4*x_3_4 - 2926*(s0//s1)*x_1_4 - 8199*(s0//s1)*x_2_4^2 - 5168*(s0//s1)*x_2_4*x_3_4 - 4065*(s0//s1)*x_2_4 - 5177*(s0//s1)*x_3_4^2 - 4435*(s0//s1)*x_3_4 + 661*(s0//s1))\n",
       "    34: [(s1//s0), (s1//s0), (s0//s2), x_1_4, x_2_4, x_3_4]   scheme(0, -(s1//s0)^2*(s1//s0)*(s0//s2)^2 + 5158*(s1//s0)*(s0//s2)*x_1_4^2 - 6150*(s1//s0)*(s0//s2)*x_1_4*x_2_4 + 8143*(s1//s0)*(s0//s2)*x_1_4*x_3_4 - 2926*(s1//s0)*(s0//s2)*x_1_4 - 8199*(s1//s0)*(s0//s2)*x_2_4^2 - 5168*(s1//s0)*(s0//s2)*x_2_4*x_3_4 - 4065*(s1//s0)*(s0//s2)*x_2_4 - 5177*(s1//s0)*(s0//s2)*x_3_4^2 - 4435*(s1//s0)*(s0//s2)*x_3_4 + 661*(s1//s0)*(s0//s2), -(s1//s0)*(s1//s0)*(s0//s2)^2 + 5158*(s0//s2)*x_1_4^2 - 6150*(s0//s2)*x_1_4*x_2_4 + 8143*(s0//s2)*x_1_4*x_3_4 - 2926*(s0//s2)*x_1_4 - 8199*(s0//s2)*x_2_4^2 - 5168*(s0//s2)*x_2_4*x_3_4 - 4065*(s0//s2)*x_2_4 - 5177*(s0//s2)*x_3_4^2 - 4435*(s0//s2)*x_3_4 + 661*(s0//s2), -(s1//s0)*(s1//s0)*(s0//s2) + 5158*x_1_4^2 - 6150*x_1_4*x_2_4 + 8143*x_1_4*x_3_4 - 2926*x_1_4 - 8199*x_2_4^2 - 5168*x_2_4*x_3_4 - 4065*x_2_4 - 5177*x_3_4^2 - 4435*x_3_4 + 661, 0, 0, 0, 0)\n",
       "    35: [(s0//s1), (s1//s0), (s1//s2), x_1_4, x_2_4, x_3_4]   scheme(0, -(s1//s0)*(s1//s2)^2 + 5158*(s1//s2)*x_1_4^2 - 6150*(s1//s2)*x_1_4*x_2_4 + 8143*(s1//s2)*x_1_4*x_3_4 - 2926*(s1//s2)*x_1_4 - 8199*(s1//s2)*x_2_4^2 - 5168*(s1//s2)*x_2_4*x_3_4 - 4065*(s1//s2)*x_2_4 - 5177*(s1//s2)*x_3_4^2 - 4435*(s1//s2)*x_3_4 + 661*(s1//s2), -(s0//s1)*(s1//s0)*(s1//s2)^2 + 5158*(s0//s1)*(s1//s2)*x_1_4^2 - 6150*(s0//s1)*(s1//s2)*x_1_4*x_2_4 + 8143*(s0//s1)*(s1//s2)*x_1_4*x_3_4 - 2926*(s0//s1)*(s1//s2)*x_1_4 - 8199*(s0//s1)*(s1//s2)*x_2_4^2 - 5168*(s0//s1)*(s1//s2)*x_2_4*x_3_4 - 4065*(s0//s1)*(s1//s2)*x_2_4 - 5177*(s0//s1)*(s1//s2)*x_3_4^2 - 4435*(s0//s1)*(s1//s2)*x_3_4 + 661*(s0//s1)*(s1//s2), -(s1//s0)*(s1//s2) + 5158*x_1_4^2 - 6150*x_1_4*x_2_4 + 8143*x_1_4*x_3_4 - 2926*x_1_4 - 8199*x_2_4^2 - 5168*x_2_4*x_3_4 - 4065*x_2_4 - 5177*x_3_4^2 - 4435*x_3_4 + 661, 0, 0, 0, 0)\n",
       "    36: [(s1//s0), (s1//s0), (s0//s1), x_1_4, x_2_4, x_3_4]   scheme(0, -(s1//s0)^2*(s1//s0)^2*(s0//s1)^3 + 5158*(s1//s0)*(s1//s0)*(s0//s1)^2*x_1_4^2 - 6150*(s1//s0)*(s1//s0)*(s0//s1)^2*x_1_4*x_2_4 + 8143*(s1//s0)*(s1//s0)*(s0//s1)^2*x_1_4*x_3_4 - 2926*(s1//s0)*(s1//s0)*(s0//s1)^2*x_1_4 - 8199*(s1//s0)*(s1//s0)*(s0//s1)^2*x_2_4^2 - 5168*(s1//s0)*(s1//s0)*(s0//s1)^2*x_2_4*x_3_4 - 4065*(s1//s0)*(s1//s0)*(s0//s1)^2*x_2_4 - 5177*(s1//s0)*(s1//s0)*(s0//s1)^2*x_3_4^2 - 4435*(s1//s0)*(s1//s0)*(s0//s1)^2*x_3_4 + 661*(s1//s0)*(s1//s0)*(s0//s1)^2, -(s1//s0)^2*(s1//s0)*(s0//s1)^2 + 5158*(s1//s0)*(s0//s1)*x_1_4^2 - 6150*(s1//s0)*(s0//s1)*x_1_4*x_2_4 + 8143*(s1//s0)*(s0//s1)*x_1_4*x_3_4 - 2926*(s1//s0)*(s0//s1)*x_1_4 - 8199*(s1//s0)*(s0//s1)*x_2_4^2 - 5168*(s1//s0)*(s0//s1)*x_2_4*x_3_4 - 4065*(s1//s0)*(s0//s1)*x_2_4 - 5177*(s1//s0)*(s0//s1)*x_3_4^2 - 4435*(s1//s0)*(s0//s1)*x_3_4 + 661*(s1//s0)*(s0//s1), -(s1//s0)*(s1//s0)*(s0//s1)^2 + 5158*(s0//s1)*x_1_4^2 - 6150*(s0//s1)*x_1_4*x_2_4 + 8143*(s0//s1)*x_1_4*x_3_4 - 2926*(s0//s1)*x_1_4 - 8199*(s0//s1)*x_2_4^2 - 5168*(s0//s1)*x_2_4*x_3_4 - 4065*(s0//s1)*x_2_4 - 5177*(s0//s1)*x_3_4^2 - 4435*(s0//s1)*x_3_4 + 661*(s0//s1), 0, 0, 0, -(s1//s0)*(s1//s0)*(s0//s1) + 5158*x_1_4^2 - 6150*x_1_4*x_2_4 + 8143*x_1_4*x_3_4 - 2926*x_1_4 - 8199*x_2_4^2 - 5168*x_2_4*x_3_4 - 4065*x_2_4 - 5177*x_3_4^2 - 4435*x_3_4 + 661, 0, 0, 0, 0, -(s1//s0)^3*(s1//s0)^2*(s0//s1)^3 + 5158*(s1//s0)^2*(s1//s0)*(s0//s1)^2*x_1_4^2 - 6150*(s1//s0)^2*(s1//s0)*(s0//s1)^2*x_1_4*x_2_4 + 8143*(s1//s0)^2*(s1//s0)*(s0//s1)^2*x_1_4*x_3_4 - 2926*(s1//s0)^2*(s1//s0)*(s0//s1)^2*x_1_4 - 8199*(s1//s0)^2*(s1//s0)*(s0//s1)^2*x_2_4^2 - 5168*(s1//s0)^2*(s1//s0)*(s0//s1)^2*x_2_4*x_3_4 - 4065*(s1//s0)^2*(s1//s0)*(s0//s1)^2*x_2_4 - 5177*(s1//s0)^2*(s1//s0)*(s0//s1)^2*x_3_4^2 - 4435*(s1//s0)^2*(s1//s0)*(s0//s1)^2*x_3_4 + 661*(s1//s0)^2*(s1//s0)*(s0//s1)^2, 0, 0)\n",
       "    37: [(s0//s1), (s1//s0), (s0//s2), x_1_4, x_2_4, x_3_4]   scheme(0, -(s0//s1)*(s1//s0)^2*(s0//s2)^3 + 5158*(s0//s1)*(s1//s0)*(s0//s2)^2*x_1_4^2 - 6150*(s0//s1)*(s1//s0)*(s0//s2)^2*x_1_4*x_2_4 + 8143*(s0//s1)*(s1//s0)*(s0//s2)^2*x_1_4*x_3_4 - 2926*(s0//s1)*(s1//s0)*(s0//s2)^2*x_1_4 - 8199*(s0//s1)*(s1//s0)*(s0//s2)^2*x_2_4^2 - 5168*(s0//s1)*(s1//s0)*(s0//s2)^2*x_2_4*x_3_4 - 4065*(s0//s1)*(s1//s0)*(s0//s2)^2*x_2_4 - 5177*(s0//s1)*(s1//s0)*(s0//s2)^2*x_3_4^2 - 4435*(s0//s1)*(s1//s0)*(s0//s2)^2*x_3_4 + 661*(s0//s1)*(s1//s0)*(s0//s2)^2, -(s1//s0)*(s0//s2)^2 + 5158*(s0//s2)*x_1_4^2 - 6150*(s0//s2)*x_1_4*x_2_4 + 8143*(s0//s2)*x_1_4*x_3_4 - 2926*(s0//s2)*x_1_4 - 8199*(s0//s2)*x_2_4^2 - 5168*(s0//s2)*x_2_4*x_3_4 - 4065*(s0//s2)*x_2_4 - 5177*(s0//s2)*x_3_4^2 - 4435*(s0//s2)*x_3_4 + 661*(s0//s2), -(s0//s1)*(s1//s0)*(s0//s2)^2 + 5158*(s0//s1)*(s0//s2)*x_1_4^2 - 6150*(s0//s1)*(s0//s2)*x_1_4*x_2_4 + 8143*(s0//s1)*(s0//s2)*x_1_4*x_3_4 - 2926*(s0//s1)*(s0//s2)*x_1_4 - 8199*(s0//s1)*(s0//s2)*x_2_4^2 - 5168*(s0//s1)*(s0//s2)*x_2_4*x_3_4 - 4065*(s0//s1)*(s0//s2)*x_2_4 - 5177*(s0//s1)*(s0//s2)*x_3_4^2 - 4435*(s0//s1)*(s0//s2)*x_3_4 + 661*(s0//s1)*(s0//s2), 0, 0, 0, -(s1//s0)*(s0//s2) + 5158*x_1_4^2 - 6150*x_1_4*x_2_4 + 8143*x_1_4*x_3_4 - 2926*x_1_4 - 8199*x_2_4^2 - 5168*x_2_4*x_3_4 - 4065*x_2_4 - 5177*x_3_4^2 - 4435*x_3_4 + 661, 0, 0, 0, 0, -(s0//s1)*(s1//s0)^2*(s0//s2)^3 + 5158*(s0//s1)*(s1//s0)*(s0//s2)^2*x_1_4^2 - 6150*(s0//s1)*(s1//s0)*(s0//s2)^2*x_1_4*x_2_4 + 8143*(s0//s1)*(s1//s0)*(s0//s2)^2*x_1_4*x_3_4 - 2926*(s0//s1)*(s1//s0)*(s0//s2)^2*x_1_4 - 8199*(s0//s1)*(s1//s0)*(s0//s2)^2*x_2_4^2 - 5168*(s0//s1)*(s1//s0)*(s0//s2)^2*x_2_4*x_3_4 - 4065*(s0//s1)*(s1//s0)*(s0//s2)^2*x_2_4 - 5177*(s0//s1)*(s1//s0)*(s0//s2)^2*x_3_4^2 - 4435*(s0//s1)*(s1//s0)*(s0//s2)^2*x_3_4 + 661*(s0//s1)*(s1//s0)*(s0//s2)^2, 0, 0)\n",
       "    38: [(s1//s0), (s0//s1), (s0//s1), x_1_4, x_2_4, x_3_4]   scheme(0, -(s1//s0)^2*(s0//s1)^3 + 5158*(s1//s0)*(s0//s1)^2*x_1_4^2 - 6150*(s1//s0)*(s0//s1)^2*x_1_4*x_2_4 + 8143*(s1//s0)*(s0//s1)^2*x_1_4*x_3_4 - 2926*(s1//s0)*(s0//s1)^2*x_1_4 - 8199*(s1//s0)*(s0//s1)^2*x_2_4^2 - 5168*(s1//s0)*(s0//s1)^2*x_2_4*x_3_4 - 4065*(s1//s0)*(s0//s1)^2*x_2_4 - 5177*(s1//s0)*(s0//s1)^2*x_3_4^2 - 4435*(s1//s0)*(s0//s1)^2*x_3_4 + 661*(s1//s0)*(s0//s1)^2, -(s1//s0)^2*(s0//s1)*(s0//s1)^2 + 5158*(s1//s0)*(s0//s1)*(s0//s1)*x_1_4^2 - 6150*(s1//s0)*(s0//s1)*(s0//s1)*x_1_4*x_2_4 + 8143*(s1//s0)*(s0//s1)*(s0//s1)*x_1_4*x_3_4 - 2926*(s1//s0)*(s0//s1)*(s0//s1)*x_1_4 - 8199*(s1//s0)*(s0//s1)*(s0//s1)*x_2_4^2 - 5168*(s1//s0)*(s0//s1)*(s0//s1)*x_2_4*x_3_4 - 4065*(s1//s0)*(s0//s1)*(s0//s1)*x_2_4 - 5177*(s1//s0)*(s0//s1)*(s0//s1)*x_3_4^2 - 4435*(s1//s0)*(s0//s1)*(s0//s1)*x_3_4 + 661*(s1//s0)*(s0//s1)*(s0//s1), -(s1//s0)*(s0//s1)^2 + 5158*(s0//s1)*x_1_4^2 - 6150*(s0//s1)*x_1_4*x_2_4 + 8143*(s0//s1)*x_1_4*x_3_4 - 2926*(s0//s1)*x_1_4 - 8199*(s0//s1)*x_2_4^2 - 5168*(s0//s1)*x_2_4*x_3_4 - 4065*(s0//s1)*x_2_4 - 5177*(s0//s1)*x_3_4^2 - 4435*(s0//s1)*x_3_4 + 661*(s0//s1), 0, 0, 0, -(s1//s0)*(s0//s1)*(s0//s1) + 5158*(s0//s1)*x_1_4^2 - 6150*(s0//s1)*x_1_4*x_2_4 + 8143*(s0//s1)*x_1_4*x_3_4 - 2926*(s0//s1)*x_1_4 - 8199*(s0//s1)*x_2_4^2 - 5168*(s0//s1)*x_2_4*x_3_4 - 4065*(s0//s1)*x_2_4 - 5177*(s0//s1)*x_3_4^2 - 4435*(s0//s1)*x_3_4 + 661*(s0//s1), 0, 0, -(s1//s0)*(s0//s1) + 5158*x_1_4^2 - 6150*x_1_4*x_2_4 + 8143*x_1_4*x_3_4 - 2926*x_1_4 - 8199*x_2_4^2 - 5168*x_2_4*x_3_4 - 4065*x_2_4 - 5177*x_3_4^2 - 4435*x_3_4 + 661, 0, 0, 0, 0)\n",
       "    39: [(s1//s0), (s0//s1), x_1_4, x_2_4, x_3_4]             scheme(0, 0, 0, 0, 0, 0, 0, 0, 0, 0, 0, 0, 0, 0, 0, 0, 0, 0, 0)\n",
       "    40: [(s0//s1), (s0//s1), x_1_4, x_2_4, x_3_4]             scheme(0, 0, 0, 0, 0, 0, 0, 0, 0, 0, 0, 0, 0, 0, 0, 0, 0, 0, 0)\n",
       "    41: [x_1_5, x_2_5, x_3_5, x_4_5, x_5_5, x_6_5]            scheme(-x_4_5*x_6_5 + x_5_5^3)\n",
       "    42: [x_1_6, x_2_6, x_3_6, x_4_6, x_5_6, x_6_6]            scheme(-x_4_6*x_6_6 + x_5_6^3)\n",
       "    43: [x_1_7, x_2_7, x_3_7, x_4_7, x_5_7, x_6_7]            scheme(-x_4_7*x_6_7 + x_5_7^3)\n",
       "    44: [x_1_8, x_2_8, x_3_8, x_4_8, x_5_8, x_6_8]            scheme(-x_4_8*x_6_8 + x_5_8^3)\n",
       "    45: [x_1_9, x_2_9, x_3_9, x_4_9, x_5_9, x_6_9]            scheme(-x_4_9*x_5_9 + x_6_9^2)\n",
       "    46: [x_1_10, x_2_10, x_3_10, x_4_10, x_5_10, x_6_10]      scheme(-x_4_10*x_5_10 + x_6_10^2)\n",
       "    47: [x_1_11, x_2_11, x_3_11, x_4_11, x_5_11, x_6_11]      scheme(-x_4_11*x_5_11 + x_6_11^2)\n",
       "    48: [x_1_12, x_2_12, x_3_12, x_4_12, x_5_12, x_6_12]      scheme(-x_4_12*x_5_12 + x_6_12^2)\n",
       "with restrictions\n",
       "   1: Ideal with 3 generators\n",
       "   2: Ideal with 2 generators\n",
       "   3: Ideal with 2 generators\n",
       "   4: Ideal with 2 generators\n",
       "   5: Ideal with 2 generators\n",
       "   6: Ideal with 2 generators\n",
       "   7: Ideal with 2 generators\n",
       "   8: Ideal with 2 generators\n",
       "   9: Ideal with 1 generator\n",
       "  10: Ideal with 1 generator\n",
       "  11: Ideal with 3 generators\n",
       "  12: Ideal with 2 generators\n",
       "  13: Ideal with 2 generators\n",
       "  14: Ideal with 2 generators\n",
       "  15: Ideal with 2 generators\n",
       "  16: Ideal with 2 generators\n",
       "  17: Ideal with 2 generators\n",
       "  18: Ideal with 2 generators\n",
       "  19: Ideal with 1 generator\n",
       "  20: Ideal with 1 generator\n",
       "  21: Ideal with 3 generators\n",
       "  22: Ideal with 2 generators\n",
       "  23: Ideal with 2 generators\n",
       "  24: Ideal with 2 generators\n",
       "  25: Ideal with 2 generators\n",
       "  26: Ideal with 2 generators\n",
       "  27: Ideal with 2 generators\n",
       "  28: Ideal with 2 generators\n",
       "  29: Ideal with 1 generator\n",
       "  30: Ideal with 1 generator\n",
       "  31: Ideal with 3 generators\n",
       "  32: Ideal with 2 generators\n",
       "  33: Ideal with 2 generators\n",
       "  34: Ideal with 2 generators\n",
       "  35: Ideal with 2 generators\n",
       "  36: Ideal with 2 generators\n",
       "  37: Ideal with 2 generators\n",
       "  38: Ideal with 2 generators\n",
       "  39: Ideal with 1 generator\n",
       "  40: Ideal with 1 generator\n",
       "  41: Ideal with 3 generators\n",
       "  42: Ideal with 3 generators\n",
       "  43: Ideal with 3 generators\n",
       "  44: Ideal with 3 generators\n",
       "  45: Ideal with 4 generators\n",
       "  46: Ideal with 4 generators\n",
       "  47: Ideal with 4 generators\n",
       "  48: Ideal with 4 generators"
      ]
     },
     "execution_count": 54,
     "metadata": {},
     "output_type": "execute_result"
    }
   ],
   "source": [
    "tate_ideal_sheaf(t2_res)"
   ]
  },
  {
   "cell_type": "markdown",
   "id": "bb2fb83d-2c6c-4eda-8ddf-cb72e488de11",
   "metadata": {},
   "source": [
    "## 4: Literature Models"
   ]
  },
  {
   "cell_type": "markdown",
   "id": "22c2ffc2-7d16-4524-af3f-aedb5fe0a346",
   "metadata": {},
   "source": [
    "### 4.1: Fundamentals of Literature Models"
   ]
  },
  {
   "cell_type": "code",
   "execution_count": 55,
   "id": "4ea01e62-b0bd-44cb-bbdf-1022d5e447e6",
   "metadata": {},
   "outputs": [
    {
     "data": {
      "text/plain": [
       "Normal toric variety"
      ]
     },
     "execution_count": 55,
     "metadata": {},
     "output_type": "execute_result"
    }
   ],
   "source": [
    "B3 = projective_space(NormalToricVariety, 3)"
   ]
  },
  {
   "cell_type": "code",
   "execution_count": 56,
   "id": "5552accc-54b3-4231-9e2f-80fa7ed71e25",
   "metadata": {},
   "outputs": [
    {
     "data": {
      "text/plain": [
       "Torus-invariant, prime divisor on a normal toric variety"
      ]
     },
     "execution_count": 56,
     "metadata": {},
     "output_type": "execute_result"
    }
   ],
   "source": [
    "W = torusinvariant_prime_divisors(B3)[1]"
   ]
  },
  {
   "cell_type": "code",
   "execution_count": 57,
   "id": "c71e3e19-d085-4560-b509-d8a2f878ed3f",
   "metadata": {},
   "outputs": [
    {
     "name": "stdout",
     "output_type": "stream",
     "text": [
      "Construction over concrete base may lead to singularity enhancement. Consider computing singular_loci. However, this may take time!\n",
      "\n"
     ]
    },
    {
     "data": {
      "text/plain": [
       "Global Tate model over a concrete base -- SU(5)xU(1) restricted Tate model based on arXiv paper 1109.3454 Eq. (3.1)"
      ]
     },
     "execution_count": 57,
     "metadata": {},
     "output_type": "execute_result"
    }
   ],
   "source": [
    "t = literature_model(arxiv_id = \"1109.3454\" , equation = \"3.1\" , base_space = B3, defining_classes = Dict(\"w\" => W))"
   ]
  },
  {
   "cell_type": "code",
   "execution_count": 58,
   "id": "b33c880c-b841-4d02-abd1-d94e31512da7",
   "metadata": {},
   "outputs": [
    {
     "data": {
      "text/plain": [
       "\"Nucl. Phys. B\""
      ]
     },
     "execution_count": 58,
     "metadata": {},
     "output_type": "execute_result"
    }
   ],
   "source": [
    "journal_name(t)"
   ]
  },
  {
   "cell_type": "code",
   "execution_count": 59,
   "id": "951d0046-e8b4-4f7d-9323-7e1a11de654c",
   "metadata": {},
   "outputs": [
    {
     "data": {
      "text/plain": [
       "3-element Vector{String}:\n",
       " \"Sven Krause\"\n",
       " \"Christoph Mayrhofer\"\n",
       " \"Timo Weigand\""
      ]
     },
     "execution_count": 59,
     "metadata": {},
     "output_type": "execute_result"
    }
   ],
   "source": [
    "paper_authors(t)"
   ]
  },
  {
   "cell_type": "code",
   "execution_count": 60,
   "id": "c1b76ba8-04dd-4ce8-8374-b4d30175ac5e",
   "metadata": {},
   "outputs": [
    {
     "data": {
      "text/plain": [
       "\"10.48550/arXiv.1109.3454\""
      ]
     },
     "execution_count": 60,
     "metadata": {},
     "output_type": "execute_result"
    }
   ],
   "source": [
    "arxiv_doi(t)"
   ]
  },
  {
   "cell_type": "code",
   "execution_count": 61,
   "id": "44984a03-e824-4c6c-a550-3b835854c8a5",
   "metadata": {},
   "outputs": [
    {
     "data": {
      "text/plain": [
       "\"3.1\""
      ]
     },
     "execution_count": 61,
     "metadata": {},
     "output_type": "execute_result"
    }
   ],
   "source": [
    "journal_model_equation_number(t)"
   ]
  },
  {
   "cell_type": "code",
   "execution_count": 62,
   "id": "f26d5837-68f6-4aa2-b946-a68a570796c6",
   "metadata": {},
   "outputs": [
    {
     "data": {
      "text/plain": [
       "\"9\""
      ]
     },
     "execution_count": 62,
     "metadata": {},
     "output_type": "execute_result"
    }
   ],
   "source": [
    "journal_model_page(t)"
   ]
  },
  {
   "cell_type": "code",
   "execution_count": 63,
   "id": "519995cc-4fdd-4325-b977-4874b94db4df",
   "metadata": {},
   "outputs": [
    {
     "data": {
      "text/plain": [
       "Dict{String, ToricDivisorClass} with 1 entry:\n",
       "  \"w\" => Divisor class on a normal toric variety"
      ]
     },
     "execution_count": 63,
     "metadata": {},
     "output_type": "execute_result"
    }
   ],
   "source": [
    "defining_classes(t)"
   ]
  },
  {
   "cell_type": "code",
   "execution_count": 64,
   "id": "9bf3817d-0e21-4233-bac3-80bcc88180d4",
   "metadata": {},
   "outputs": [
    {
     "data": {
      "text/plain": [
       "9-element Vector{String}:\n",
       " \"a21\"\n",
       " \"a6\"\n",
       " \"a3\"\n",
       " \"w\"\n",
       " \"a2\"\n",
       " \"a1\"\n",
       " \"a43\"\n",
       " \"a4\"\n",
       " \"a32\""
      ]
     },
     "execution_count": 64,
     "metadata": {},
     "output_type": "execute_result"
    }
   ],
   "source": [
    "model_sections(t)"
   ]
  },
  {
   "cell_type": "code",
   "execution_count": 65,
   "id": "40385bd5-7ade-4a86-a4dd-050a9b6efd94",
   "metadata": {},
   "outputs": [
    {
     "data": {
      "text/plain": [
       "Dict{String, MPolyRingElem} with 4 entries:\n",
       "  \"a6\" => 0\n",
       "  \"a3\" => w^2*a32\n",
       "  \"a2\" => w*a21\n",
       "  \"a4\" => w^3*a43"
      ]
     },
     "execution_count": 65,
     "metadata": {},
     "output_type": "execute_result"
    }
   ],
   "source": [
    "model_section_parametrization(t)"
   ]
  },
  {
   "cell_type": "code",
   "execution_count": 66,
   "id": "438870b1-1aa5-41b3-8425-41ad0b9cb393",
   "metadata": {},
   "outputs": [
    {
     "data": {
      "text/plain": [
       "5-element Vector{String}:\n",
       " \"a21\"\n",
       " \"w\"\n",
       " \"a1\"\n",
       " \"a43\"\n",
       " \"a32\""
      ]
     },
     "execution_count": 66,
     "metadata": {},
     "output_type": "execute_result"
    }
   ],
   "source": [
    "tunable_sections(t)"
   ]
  },
  {
   "cell_type": "code",
   "execution_count": 67,
   "id": "fac4230f-647c-44be-8cb7-019123c919e7",
   "metadata": {},
   "outputs": [
    {
     "data": {
      "text/plain": [
       "Dict{String, ToricDivisorClass} with 9 entries:\n",
       "  \"a21\" => Divisor class on a normal toric variety\n",
       "  \"a6\"  => Divisor class on a normal toric variety\n",
       "  \"a3\"  => Divisor class on a normal toric variety\n",
       "  \"w\"   => Divisor class on a normal toric variety\n",
       "  \"a2\"  => Divisor class on a normal toric variety\n",
       "  \"a1\"  => Divisor class on a normal toric variety\n",
       "  \"a43\" => Divisor class on a normal toric variety\n",
       "  \"a4\"  => Divisor class on a normal toric variety\n",
       "  \"a32\" => Divisor class on a normal toric variety"
      ]
     },
     "execution_count": 67,
     "metadata": {},
     "output_type": "execute_result"
    }
   ],
   "source": [
    "classes_of_model_sections(t)"
   ]
  },
  {
   "cell_type": "code",
   "execution_count": 68,
   "id": "dd75c6d6-5bd8-4553-8ad4-2bfbcc84b586",
   "metadata": {},
   "outputs": [
    {
     "data": {
      "text/plain": [
       "Dict{String, Vector{Int64}} with 5 entries:\n",
       "  \"a21\" => [2, -1]\n",
       "  \"w\"   => [0, 1]\n",
       "  \"a1\"  => [1, 0]\n",
       "  \"a43\" => [4, -3]\n",
       "  \"a32\" => [3, -2]"
      ]
     },
     "execution_count": 68,
     "metadata": {},
     "output_type": "execute_result"
    }
   ],
   "source": [
    "classes_of_tunable_sections_in_basis_of_Kbar_and_defining_classes(t)"
   ]
  },
  {
   "cell_type": "code",
   "execution_count": 69,
   "id": "a1f5167e-5c1c-4ca7-ba81-7672438526a1",
   "metadata": {},
   "outputs": [
    {
     "data": {
      "text/plain": [
       "Dict{String, MPolyDecRingElem{QQFieldElem, QQMPolyRingElem}} with 9 entries:\n",
       "  \"a21\" => -9633*x1^7 + 874*x1^6*x2 + 4563*x1^6*x3 - 4199*x1^6*x4 - 563*x1^5*x2^2 + 1516*x1^5*x2*x3 - 8544*x1^5*x2*x4 - 7389*x1^5*x3^2 + 5657*x1^5*x3*x4 + 7532*x1^5*x4^2 + 2035*x1^4*x2^3 + 6406*x1^4*x2^2*x3 + 4745*x1^4*x2^2*x4 + 561*x1…\n",
       "  \"a6\"  => 0\n",
       "  \"a3\"  => 634*x1^12 - 476*x1^11*x2 - 478*x1^11*x3 + 7611*x1^11*x4 + 9643*x1^10*x2^2 - 8606*x1^10*x2*x3 - 2972*x1^10*x2*x4 - 185*x1^10*x3^2 - 7520*x1^10*x3*x4 - 3146*x1^10*x4^2 - 4496*x1^9*x2^3 + 5361*x1^9*x2^2*x3 - 2112*x1^9*x2^2*x4 -…\n",
       "  \"w\"   => x1\n",
       "  \"a2\"  => -9633*x1^8 + 874*x1^7*x2 + 4563*x1^7*x3 - 4199*x1^7*x4 - 563*x1^6*x2^2 + 1516*x1^6*x2*x3 - 8544*x1^6*x2*x4 - 7389*x1^6*x3^2 + 5657*x1^6*x3*x4 + 7532*x1^6*x4^2 + 2035*x1^5*x2^3 + 6406*x1^5*x2^2*x3 + 4745*x1^5*x2^2*x4 + 561*x1…\n",
       "  \"a1\"  => -1352*x1^4 + 8591*x1^3*x2 - 6936*x1^3*x3 - 4851*x1^3*x4 + 2985*x1^2*x2^2 - 7039*x1^2*x2*x3 + 5451*x1^2*x2*x4 - 8498*x1^2*x3^2 + 5705*x1^2*x3*x4 - 9070*x1^2*x4^2 + 9289*x1*x2^3 + 4266*x1*x2^2*x3 + 3833*x1*x2^2*x4 + 2270*x1*x2…\n",
       "  \"a43\" => 3820*x1^13 - 8801*x1^12*x2 - 4718*x1^12*x3 + 506*x1^12*x4 + 3372*x1^11*x2^2 + 9925*x1^11*x2*x3 - 3809*x1^11*x2*x4 + 7627*x1^11*x3^2 + 4167*x1^11*x3*x4 - 1187*x1^11*x4^2 - 222*x1^10*x2^3 - 8601*x1^10*x2^2*x3 - 4298*x1^10*x2^2…\n",
       "  \"a4\"  => 3820*x1^16 - 8801*x1^15*x2 - 4718*x1^15*x3 + 506*x1^15*x4 + 3372*x1^14*x2^2 + 9925*x1^14*x2*x3 - 3809*x1^14*x2*x4 + 7627*x1^14*x3^2 + 4167*x1^14*x3*x4 - 1187*x1^14*x4^2 - 222*x1^13*x2^3 - 8601*x1^13*x2^2*x3 - 4298*x1^13*x2^2…\n",
       "  \"a32\" => 634*x1^10 - 476*x1^9*x2 - 478*x1^9*x3 + 7611*x1^9*x4 + 9643*x1^8*x2^2 - 8606*x1^8*x2*x3 - 2972*x1^8*x2*x4 - 185*x1^8*x3^2 - 7520*x1^8*x3*x4 - 3146*x1^8*x4^2 - 4496*x1^7*x2^3 + 5361*x1^7*x2^2*x3 - 2112*x1^7*x2^2*x4 - 8287*x1^…"
      ]
     },
     "execution_count": 69,
     "metadata": {},
     "output_type": "execute_result"
    }
   ],
   "source": [
    "explicit_model_sections(t)"
   ]
  },
  {
   "cell_type": "code",
   "execution_count": 70,
   "id": "071013f6-cfaf-4128-9a7f-9e616db84254",
   "metadata": {},
   "outputs": [
    {
     "data": {
      "text/plain": [
       "1-element Vector{Tuple{Vector{Vector{String}}, Vector{String}}}:\n",
       " ([[\"x\", \"y\", \"w\"], [\"y\", \"e1\"], [\"x\", \"e4\"], [\"y\", \"e2\"], [\"x\", \"y\"]], [\"e1\", \"e4\", \"e2\", \"e3\", \"s\"])"
      ]
     },
     "execution_count": 70,
     "metadata": {},
     "output_type": "execute_result"
    }
   ],
   "source": [
    "resolutions(t)"
   ]
  },
  {
   "cell_type": "code",
   "execution_count": 71,
   "id": "67bbb3fc-9799-4d0a-8598-e552b4abe407",
   "metadata": {},
   "outputs": [
    {
     "data": {
      "text/plain": [
       "Partially resolved global Tate model over a concrete base -- SU(5)xU(1) restricted Tate model based on arXiv paper 1109.3454 Eq. (3.1)"
      ]
     },
     "execution_count": 71,
     "metadata": {},
     "output_type": "execute_result"
    }
   ],
   "source": [
    "t_res = resolve(t, 1)"
   ]
  },
  {
   "cell_type": "code",
   "execution_count": 72,
   "id": "8460b5ca-8ff4-4980-a6ae-7023360a49af",
   "metadata": {},
   "outputs": [],
   "source": [
    "v = ambient_space(t_res);"
   ]
  },
  {
   "cell_type": "code",
   "execution_count": 73,
   "id": "f53d6c9a-8c50-4f7a-b87f-07e838a22fbf",
   "metadata": {},
   "outputs": [
    {
     "data": {
      "text/plain": [
       "Multivariate polynomial ring in 12 variables over QQ graded by\n",
       "  x1 -> [1 0 0 0 0 0 0]\n",
       "  x2 -> [0 1 0 0 0 0 0]\n",
       "  x3 -> [0 1 0 0 0 0 0]\n",
       "  x4 -> [0 1 0 0 0 0 0]\n",
       "  x -> [0 0 1 0 0 0 0]\n",
       "  y -> [0 0 0 1 0 0 0]\n",
       "  z -> [0 0 0 0 1 0 0]\n",
       "  e1 -> [0 0 0 0 0 1 0]\n",
       "  e4 -> [0 0 0 0 0 0 1]\n",
       "  e2 -> [-1 -3 -1 1 -1 -1 0]\n",
       "  e3 -> [0 4 1 -1 1 0 -1]\n",
       "  s -> [2 6 -1 0 2 1 1]"
      ]
     },
     "execution_count": 73,
     "metadata": {},
     "output_type": "execute_result"
    }
   ],
   "source": [
    "cox_ring(v)"
   ]
  },
  {
   "cell_type": "code",
   "execution_count": 74,
   "id": "c1088724-d3de-4d4a-a318-f72c75ddbac8",
   "metadata": {},
   "outputs": [
    {
     "data": {
      "text/plain": [
       "[1   0   0   0   0   0   0   0   0   -1    0    2]\n",
       "[0   1   1   1   0   0   0   0   0   -3    4    6]\n",
       "[0   0   0   0   1   0   0   0   0   -1    1   -1]\n",
       "[0   0   0   0   0   1   0   0   0    1   -1    0]\n",
       "[0   0   0   0   0   0   1   0   0   -1    1    2]\n",
       "[0   0   0   0   0   0   0   1   0   -1    0    1]\n",
       "[0   0   0   0   0   0   0   0   1    0   -1    1]"
      ]
     },
     "execution_count": 74,
     "metadata": {},
     "output_type": "execute_result"
    }
   ],
   "source": [
    "M = matrix(map_from_torusinvariant_weil_divisor_group_to_class_group(v));\n",
    "MT = transpose(M)"
   ]
  },
  {
   "cell_type": "code",
   "execution_count": 75,
   "id": "2d86c27b-2213-4f3b-b921-4203267e31b8",
   "metadata": {},
   "outputs": [
    {
     "data": {
      "text/plain": [
       "Torus-invariant, non-prime divisor on a normal toric variety"
      ]
     },
     "execution_count": 75,
     "metadata": {},
     "output_type": "execute_result"
    }
   ],
   "source": [
    "W = 2 * torusinvariant_prime_divisors(B3)[1]"
   ]
  },
  {
   "cell_type": "code",
   "execution_count": 76,
   "id": "eb6caaef-7c14-49eb-a991-7229126fddae",
   "metadata": {},
   "outputs": [
    {
     "name": "stdout",
     "output_type": "stream",
     "text": [
      "Construction over concrete base may lead to singularity enhancement. Consider computing singular_loci. However, this may take time!\n",
      "\n"
     ]
    },
    {
     "data": {
      "text/plain": [
       "Global Tate model over a concrete base -- SU(5)xU(1) restricted Tate model based on arXiv paper 1109.3454 Eq. (3.1)"
      ]
     },
     "execution_count": 76,
     "metadata": {},
     "output_type": "execute_result"
    }
   ],
   "source": [
    "t = literature_model(arxiv_id = \"1109.3454\" , equation = \"3.1\", base_space = B3, defining_classes = Dict(\"w\" => W))"
   ]
  },
  {
   "cell_type": "code",
   "execution_count": 77,
   "id": "46c8f796-e2b5-4e6d-988b-d653f27ee7bb",
   "metadata": {},
   "outputs": [
    {
     "data": {
      "text/plain": [
       "Partially resolved global Tate model over a concrete base -- SU(5)xU(1) restricted Tate model based on arXiv paper 1109.3454 Eq. (3.1)"
      ]
     },
     "execution_count": 77,
     "metadata": {},
     "output_type": "execute_result"
    }
   ],
   "source": [
    "t_res = resolve(t, 1)"
   ]
  },
  {
   "cell_type": "markdown",
   "id": "99aeaae5-346e-4d5f-9c95-618d918c794b",
   "metadata": {},
   "source": [
    "### 4.2 Toric Hypersurface Fibrations"
   ]
  },
  {
   "cell_type": "code",
   "execution_count": 78,
   "id": "5d4b02e1-8259-49f7-9dde-6dfde0c8ab2b",
   "metadata": {
    "scrolled": true
   },
   "outputs": [
    {
     "name": "stdout",
     "output_type": "stream",
     "text": [
      "Model 33:\n",
      "(\"journal_section\" => \"3\", \"arxiv_page\" => \"67\", \"arxiv_id\" => \"1408.4808\", \"gauge_algebra\" => Any[\"su(3)\", \"su(2)\", \"u(1)\"], \"arxiv_version\" => \"2\", \"journal_equation\" => \"3.141\", \"journal_page\" => \"67\", \"arxiv_equation\" => \"3.142\", \"journal_doi\" => \"10.1007/JHEP01(2015)142\", \"arxiv_section\" => \"3\", \"journal\" => \"JHEP\", \"file\" => \"model1408_4808-11-WSF.json\", \"arxiv_doi\" => \"10.48550/arXiv.1408.4808\", \"model_index\" => \"33\", \"type\" => \"weierstrass\")\n",
      "\n",
      "Model 34:\n",
      "Dict{String, Any}(\"journal_section\" => \"3\", \"arxiv_page\" => \"67\", \"arxiv_id\" => \"1408.4808\", \"gauge_algebra\" => Any[\"su(3)\", \"su(2)\", \"u(1)\"], \"arxiv_version\" => \"2\", \"journal_equation\" => \"3.141\", \"journal_page\" => \"67\", \"arxiv_equation\" => \"3.142\", \"journal_doi\" => \"10.1007/JHEP01(2015)142\", \"arxiv_section\" => \"3\", \"journal\" => \"JHEP\", \"file\" => \"model1408_4808-11.json\", \"arxiv_doi\" => \"10.48550/arXiv.1408.4808\", \"model_index\" => \"34\", \"type\" => \"hypersurface\")\n",
      "\n",
      "Model 39:\n",
      "Dict{String, Any}(\"journal_section\" => \"3\", \"arxiv_page\" => \"75\", \"arxiv_id\" => \"1408.4808\", \"gauge_algebra\" => Any[\"su(3)\", \"su(2)\", \"su(2)\", \"u(1)\"], \"arxiv_version\" => \"2\", \"journal_equation\" => \"3.167\", \"journal_page\" => \"75\", \"arxiv_equation\" => \"3.168\", \"journal_doi\" => \"10.1007/JHEP01(2015)142\", \"arxiv_section\" => \"3\", \"journal\" => \"JHEP\", \"file\" => \"model1408_4808-14-WSF.json\", \"arxiv_doi\" => \"10.48550/arXiv.1408.4808\", \"model_index\" => \"39\", \"type\" => \"weierstrass\")\n",
      "\n",
      "Model 40:\n",
      "Dict{String, Any}(\"journal_section\" => \"3\", \"arxiv_page\" => \"75\", \"arxiv_id\" => \"1408.4808\", \"gauge_algebra\" => Any[\"su(3)\", \"su(2)\", \"su(2)\", \"u(1)\"], \"arxiv_version\" => \"2\", \"journal_equation\" => \"3.167\", \"journal_page\" => \"75\", \"arxiv_equation\" => \"3.168\", \"journal_doi\" => \"10.1007/JHEP01(2015)142\", \"arxiv_section\" => \"3\", \"journal\" => \"JHEP\", \"file\" => \"model1408_4808-14.json\", \"arxiv_doi\" => \"10.48550/arXiv.1408.4808\", \"model_index\" => \"40\", \"type\" => \"hypersurface\")\n",
      "\n",
      "Model 45:\n",
      "Dict{String, Any}(\"journal_section\" => \"\", \"arxiv_page\" => \"2\", \"arxiv_id\" => \"1903.00009\", \"gauge_algebra\" => Any[\"su(3)\", \"su(2)\", \"u(1)\"], \"arxiv_version\" => \"3\", \"journal_equation\" => \"2\", \"journal_page\" => \"2\", \"arxiv_equation\" => \"2\", \"journal_doi\" => \"10.1103/PhysRevLett.123.101601\", \"arxiv_section\" => \"II\", \"journal\" => \"Physical Review Letters\", \"file\" => \"model1903_00009.json\", \"arxiv_doi\" => \"10.48550/arXiv.1903.00009\", \"model_index\" => \"45\", \"type\" => \"hypersurface\")\n",
      "\n"
     ]
    }
   ],
   "source": [
    "display_all_literature_models(Dict(\"gauge_algebra\" => [\"su(3)\" , \"su(2)\", \"u(1)\"]))"
   ]
  },
  {
   "cell_type": "code",
   "execution_count": 79,
   "id": "6cc2dcfb-481f-4e5e-8629-21cb7be3d98d",
   "metadata": {},
   "outputs": [
    {
     "data": {
      "text/plain": [
       "Divisor class on a normal toric variety"
      ]
     },
     "execution_count": 79,
     "metadata": {},
     "output_type": "execute_result"
    }
   ],
   "source": [
    "Kbar = anticanonical_divisor_class(B3)"
   ]
  },
  {
   "cell_type": "code",
   "execution_count": 80,
   "id": "5da89f44-0960-4b4e-b566-386aabf739bc",
   "metadata": {},
   "outputs": [
    {
     "name": "stdout",
     "output_type": "stream",
     "text": [
      "Construction over concrete base may lead to singularity enhancement. Consider computing singular_loci. However, this may take time!\n",
      "\n"
     ]
    },
    {
     "data": {
      "text/plain": [
       "Hypersurface model over a concrete base"
      ]
     },
     "execution_count": 80,
     "metadata": {},
     "output_type": "execute_result"
    }
   ],
   "source": [
    "foah11_B3 = literature_model(arxiv_id = \"1408.4808\" , equation = \"3.142\" , type = \"hypersurface\" , base_space = B3, \n",
    "        defining_classes = Dict(\"s7\" => Kbar, \"s9\" => Kbar))"
   ]
  },
  {
   "cell_type": "code",
   "execution_count": 81,
   "id": "aa392cc0-2ed4-4d28-9302-5a05e3ae6ea7",
   "metadata": {},
   "outputs": [
    {
     "data": {
      "text/plain": [
       "\"F-theory hypersurface model with fiber ambient space F_11\""
      ]
     },
     "execution_count": 81,
     "metadata": {},
     "output_type": "execute_result"
    }
   ],
   "source": [
    "model_description(foah11_B3)"
   ]
  },
  {
   "cell_type": "code",
   "execution_count": 82,
   "id": "85b78ab0-b4b1-4d27-8145-51a641cb12a3",
   "metadata": {},
   "outputs": [
    {
     "name": "stdout",
     "output_type": "stream",
     "text": [
      "Construction over concrete base may lead to singularity enhancement. Consider computing singular_loci. However, this may take time!\n",
      "\n"
     ]
    },
    {
     "data": {
      "text/plain": [
       "Hypersurface model over a concrete base"
      ]
     },
     "execution_count": 82,
     "metadata": {},
     "output_type": "execute_result"
    }
   ],
   "source": [
    "foah11_B3 = literature_model(34, base_space = B3, defining_classes =\n",
    "Dict(\"s7\" => Kbar, \"s9\" => Kbar))"
   ]
  },
  {
   "cell_type": "code",
   "execution_count": 83,
   "id": "34750d37-ee1d-47f2-b376-a1de77fe8507",
   "metadata": {},
   "outputs": [
    {
     "data": {
      "text/plain": [
       "7-element Vector{MPolyDecRingElem{QQFieldElem, QQMPolyRingElem}}:\n",
       " 1\n",
       " 0\n",
       " 969*x1^4 + 3566*x1^3*x2 + 1791*x1^3*x3 - 115*x1^3*x4 + 535*x1^2*x2^2 + 1702*x1^2*x2*x3 + 9720*x1^2*x2*x4 + 1621*x1^2*x3^2 - 7482*x1^2*x3*x4 - 8634*x1^2*x4^2 - 1057*x1*x2^3 - 1595*x1*x2^2*x3 - 8858*x1*x2^2*x4 - 8365*x1*x2*x3^2 + 3332*x1*x2*x3*x4 + 1905*x1*x2*x4^2 + 2294*x1*x3^3 - 9109*x1*x3^2*x4 - 1589*x1*x3*x4^2 + 4091*x1*x4^3 + 8250*x2^4 - 349*x2^3*x3 + 711*x2^3*x4 + 9587*x2^2*x3^2 + 2528*x2^2*x3*x4 - 9906*x2^2*x4^2 + 5865*x2*x3^3 - 3729*x2*x3^2*x4 + 5551*x2*x3*x4^2 - 8507*x2*x4^3 - 7030*x3^4 - 7001*x3^3*x4 + 6308*x3^2*x4^2 - 3598*x3*x4^3 - 2948*x4^4\n",
       " 1\n",
       " 1\n",
       " -488*x1^4 + 3899*x1^3*x2 - 3964*x1^3*x3 - 4970*x1^3*x4 + 2157*x1^2*x2^2 + 7919*x1^2*x2*x3 - 8658*x1^2*x2*x4 - 2773*x1^2*x3^2 - 2861*x1^2*x3*x4 + 5877*x1^2*x4^2 + 8186*x1*x2^3 + 5258*x1*x2^2*x3 + 748*x1*x2^2*x4 - 8786*x1*x2*x3^2 - 6439*x1*x2*x3*x4 - 2360*x1*x2*x4^2 + 6211*x1*x3^3 + 2448*x1*x3^2*x4 - 6160*x1*x3*x4^2 + 6293*x1*x4^3 + 5967*x2^4 - 1012*x2^3*x3 - 5282*x2^3*x4 - 8648*x2^2*x3^2 - 776*x2^2*x3*x4 + 3140*x2^2*x4^2 + 5470*x2*x3^3 + 1170*x2*x3^2*x4 - 8981*x2*x3*x4^2 - 1581*x2*x4^3 + 3173*x3^4 + 3801*x3^3*x4 - 1848*x3^2*x4^2 + 9008*x3*x4^3 + 9755*x4^4\n",
       " 1"
      ]
     },
     "execution_count": 83,
     "metadata": {},
     "output_type": "execute_result"
    }
   ],
   "source": [
    "zero_section(foah11_B3)"
   ]
  },
  {
   "cell_type": "code",
   "execution_count": 84,
   "id": "9df0bdfe-987f-42d4-8122-c422d03a64f1",
   "metadata": {},
   "outputs": [
    {
     "data": {
      "text/plain": [
       "1-element Vector{Vector{MPolyDecRingElem{QQFieldElem, QQMPolyRingElem}}}:\n",
       " [1754*x1^4 + 2876*x1^3*x2 - 3603*x1^3*x3 + 905*x1^3*x4 - 890*x1^2*x2^2 + 2492*x1^2*x2*x3 + 7040*x1^2*x2*x4 + 6360*x1^2*x3^2 - 1061*x1^2*x3*x4 - 2926*x1^2*x4^2 + 126*x1*x2^3 - 3846*x1*x2^2*x3 - 650*x1*x2^2*x4 - 3290*x1*x2*x3^2 + 7871*x1*x2*x3*x4 - 3914*x1*x2*x4^2 + 7148*x1*x3^3 + 5275*x1*x3^2*x4 - 8385*x1*x3*x4^2 + 2943*x1*x4^3 - 3332*x2^4 - 6468*x2^3*x3 + 6716*x2^3*x4 - 5457*x2^2*x3^2 - 159*x2^2*x3*x4 + 9338*x2^2*x4^2 + 6425*x2*x3^3 + 7087*x2*x3^2*x4 + 4029*x2*x3*x4^2 + 5448*x2*x4^3 - 4515*x3^4 - 3485*x3^3*x4 + 8334*x3^2*x4^2 - 9324*x3*x4^3 - 5435*x4^4, 1, 1, -6346*x1^4 + 4364*x1^3*x2 - 5042*x1^3*x3 - 5321*x1^3*x4 + 4683*x1^2*x2^2 - 6201*x1^2*x2*x3 + 148*x1^2*x2*x4 + 2568*x1^2*x3^2 - 910*x1^2*x3*x4 - 3552*x1^2*x4^2 - 4599*x1*x2^3 + 7716*x1*x2^2*x3 - 7287*x1*x2^2*x4 - 3949*x1*x2*x3^2 - 7797*x1*x2*x3*x4 + 1771*x1*x2*x4^2 + 2386*x1*x3^3 + 6699*x1*x3^2*x4 + 6736*x1*x3*x4^2 - 127*x1*x4^3 + 3680*x2^4 - 3517*x2^3*x3 + 2642*x2^3*x4 - 4257*x2^2*x3^2 + 1111*x2^2*x3*x4 - 4623*x2^2*x4^2 + 8674*x2*x3^3 - 6051*x2*x3^2*x4 - 991*x2*x3*x4^2 + 4601*x2*x4^3 - 6137*x3^4 - 7966*x3^3*x4 - 9213*x3^2*x4^2 + 7791*x3*x4^3 - 2056*x4^4, 1, 1, 0]"
      ]
     },
     "execution_count": 84,
     "metadata": {},
     "output_type": "execute_result"
    }
   ],
   "source": [
    "generating_sections(foah11_B3)"
   ]
  },
  {
   "cell_type": "code",
   "execution_count": 85,
   "id": "aa47df08-c29a-4bbc-9b8c-d52d6ba66600",
   "metadata": {},
   "outputs": [
    {
     "data": {
      "text/plain": [
       "Direct sum Lie algebra\n",
       "  of dimension 12\n",
       "with summands\n",
       "  sl_3\n",
       "  sl_2\n",
       "  linear Lie algebra\n",
       "over algebraic closure of rational field"
      ]
     },
     "execution_count": 85,
     "metadata": {},
     "output_type": "execute_result"
    }
   ],
   "source": [
    "g = gauge_algebra(foah11_B3)"
   ]
  },
  {
   "cell_type": "code",
   "execution_count": 86,
   "id": "6c9467af-68d9-4881-b1e9-12638c622886",
   "metadata": {},
   "outputs": [
    {
     "data": {
      "text/plain": [
       "3-element Vector{Vector{String}}:\n",
       " [\"diagonal_matrix(root_of_unity(C,3),3)\"]\n",
       " [\"-identity_matrix(C,2)\"]\n",
       " [\"diagonal_matrix(root_of_unity(C,6,-1),1)\"]"
      ]
     },
     "execution_count": 86,
     "metadata": {},
     "output_type": "execute_result"
    }
   ],
   "source": [
    "global_gauge_group_quotient(foah11_B3)"
   ]
  },
  {
   "cell_type": "code",
   "execution_count": 87,
   "id": "80546beb-4bae-4fd1-8b7f-eea308aefa63",
   "metadata": {},
   "outputs": [
    {
     "data": {
      "text/plain": [
       "Algebraic closure of rational field"
      ]
     },
     "execution_count": 87,
     "metadata": {},
     "output_type": "execute_result"
    }
   ],
   "source": [
    "C = algebraic_closure(QQ)"
   ]
  },
  {
   "cell_type": "code",
   "execution_count": 88,
   "id": "d23f1219-3538-4e08-b4a6-e71b6c86cb18",
   "metadata": {},
   "outputs": [
    {
     "data": {
      "text/plain": [
       "[Root -0.500000 + 0.866025*im of x^2 + x + 1                                   Root 0 of x                                   Root 0 of x]\n",
       "[                                Root 0 of x   Root -0.500000 + 0.866025*im of x^2 + x + 1                                   Root 0 of x]\n",
       "[                                Root 0 of x                                   Root 0 of x   Root -0.500000 + 0.866025*im of x^2 + x + 1]"
      ]
     },
     "execution_count": 88,
     "metadata": {},
     "output_type": "execute_result"
    }
   ],
   "source": [
    "diagonal_matrix(root_of_unity(C,3),3)"
   ]
  },
  {
   "cell_type": "code",
   "execution_count": 89,
   "id": "00f1cf84-1f7e-48d9-8089-5163ef5fb840",
   "metadata": {},
   "outputs": [
    {
     "name": "stdout",
     "output_type": "stream",
     "text": [
      "Construction over concrete base may lead to singularity enhancement. Consider computing singular_loci. However, this may take time!\n",
      "\n"
     ]
    },
    {
     "data": {
      "text/plain": [
       "Weierstrass model over a concrete base -- F-theory weierstrass model dual to hypersurface model with fiber ambient space F_11 based on arXiv paper 1408.4808 Eq. (3.142)"
      ]
     },
     "execution_count": 89,
     "metadata": {},
     "output_type": "execute_result"
    }
   ],
   "source": [
    "foah11_B3_weier = weierstrass_model(foah11_B3)"
   ]
  },
  {
   "cell_type": "code",
   "execution_count": 90,
   "id": "14d0c78f-e005-43ec-9184-5401a3c6ab49",
   "metadata": {},
   "outputs": [
    {
     "data": {
      "text/plain": [
       "1-element Vector{String}:\n",
       " \"1408_4808-11-WSF\""
      ]
     },
     "execution_count": 90,
     "metadata": {},
     "output_type": "execute_result"
    }
   ],
   "source": [
    "birational_literature_models(foah11_B3)"
   ]
  },
  {
   "cell_type": "code",
   "execution_count": 91,
   "id": "20ab42aa-6321-4df9-b8ab-8801e6721934",
   "metadata": {},
   "outputs": [
    {
     "data": {
      "text/plain": [
       "3-element Vector{Tuple{MPolyIdeal{<:MPolyRingElem}, Tuple{Int64, Int64, Int64}, String}}:\n",
       " (Ideal with 1 generator, (0, 0, 1), \"I_1\")\n",
       " (Ideal with 1 generator, (0, 0, 2), \"Non-split I_2\")\n",
       " (Ideal with 1 generator, (0, 0, 3), \"Split I_3\")"
      ]
     },
     "execution_count": 91,
     "metadata": {},
     "output_type": "execute_result"
    }
   ],
   "source": [
    "singular_loci(foah11_B3_weier)"
   ]
  },
  {
   "cell_type": "code",
   "execution_count": 92,
   "id": "3a313c24-083a-4562-ae38-a8132069e4db",
   "metadata": {},
   "outputs": [
    {
     "data": {
      "text/plain": [
       "6-element Vector{String}:\n",
       " \"s1\"\n",
       " \"s5\"\n",
       " \"s6\"\n",
       " \"s2\"\n",
       " \"s9\"\n",
       " \"s3\""
      ]
     },
     "execution_count": 92,
     "metadata": {},
     "output_type": "execute_result"
    }
   ],
   "source": [
    "tunable_sections(foah11_B3_weier)"
   ]
  },
  {
   "cell_type": "code",
   "execution_count": 93,
   "id": "240e88e1-0ca9-413e-bdce-61c35c8d09fa",
   "metadata": {},
   "outputs": [
    {
     "data": {
      "text/plain": [
       "Weierstrass model over a concrete base"
      ]
     },
     "execution_count": 93,
     "metadata": {},
     "output_type": "execute_result"
    }
   ],
   "source": [
    "R = cox_ring(base_space(foah11_B3_weier));\n",
    "tuned_model = tune(foah11_B3_weier, Dict(\"s5\" =>zero(R)))"
   ]
  },
  {
   "cell_type": "code",
   "execution_count": 94,
   "id": "99f16a81-a4a6-465a-99eb-61487331bcd5",
   "metadata": {},
   "outputs": [
    {
     "data": {
      "text/plain": [
       "4-element Vector{Tuple{MPolyIdeal{<:MPolyRingElem}, Tuple{Int64, Int64, Int64}, String}}:\n",
       " (Ideal with 1 generator, (0, 0, 1), \"I_1\")\n",
       " (Ideal with 1 generator, (0, 0, 2), \"Non-split I_2\")\n",
       " (Ideal with 1 generator, (0, 0, 2), \"Non-split I_2\")\n",
       " (Ideal with 1 generator, (0, 0, 4), \"Split I_4\")"
      ]
     },
     "execution_count": 94,
     "metadata": {},
     "output_type": "execute_result"
    }
   ],
   "source": [
    "singular_loci(tuned_model)"
   ]
  },
  {
   "cell_type": "markdown",
   "id": "1de33a36-fd17-4224-8ac6-dd59d8b97d64",
   "metadata": {},
   "source": [
    "## 5 Enumeration of G4-Fluxes"
   ]
  },
  {
   "cell_type": "markdown",
   "id": "f3d0d2cd-69fa-4587-b95d-173c706a73eb",
   "metadata": {},
   "source": [
    "### 5.1 Computation of G4-Fluxes"
   ]
  },
  {
   "cell_type": "code",
   "execution_count": 95,
   "id": "b6b7cfcd-15d6-4e9e-a833-330ac1f31fd2",
   "metadata": {},
   "outputs": [
    {
     "data": {
      "text/plain": [
       "Hypersurface model over a concrete base"
      ]
     },
     "execution_count": 95,
     "metadata": {},
     "output_type": "execute_result"
    }
   ],
   "source": [
    "qsm_model = literature_model(arxiv_id = \"1903.00009\" , model_parameters = Dict(\"k\" => 283))"
   ]
  },
  {
   "cell_type": "code",
   "execution_count": 96,
   "id": "74fd2b00-4e18-4e62-8d25-a5be917a467f",
   "metadata": {},
   "outputs": [
    {
     "data": {
      "text/plain": [
       "Multivariate polynomial ring in 14 variables over QQ graded by\n",
       "  x1 -> [1 0 0 0 0 0 0 0 0]\n",
       "  x2 -> [0 1 0 0 0 0 0 0 0]\n",
       "  x3 -> [0 0 1 0 0 0 0 0 0]\n",
       "  x4 -> [0 0 0 1 0 0 0 0 0]\n",
       "  x5 -> [0 1 0 -1 0 0 0 0 0]\n",
       "  x6 -> [1 0 0 0 0 0 0 0 0]\n",
       "  x7 -> [-2 1 1 1 0 0 0 0 0]\n",
       "  v -> [0 0 0 0 1 0 0 0 0]\n",
       "  e3 -> [0 0 0 0 0 1 0 0 0]\n",
       "  e2 -> [0 0 0 0 0 0 1 0 0]\n",
       "  u -> [0 0 0 0 0 0 0 1 0]\n",
       "  e4 -> [0 0 0 0 0 0 0 0 1]\n",
       "  e1 -> [0 0 0 0 1 1 0 -1 -2]\n",
       "  w -> [0 0 0 0 0 1 1 1 1]"
      ]
     },
     "execution_count": 96,
     "metadata": {},
     "output_type": "execute_result"
    }
   ],
   "source": [
    "cox_ring(ambient_space(qsm_model))"
   ]
  },
  {
   "cell_type": "code",
   "execution_count": 97,
   "id": "6f5542c4-a099-4c9d-981b-169c93ae432e",
   "metadata": {},
   "outputs": [
    {
     "data": {
      "text/plain": [
       "Ideal generated by\n",
       "  x1*x6\n",
       "  x2*x4\n",
       "  x2*x5\n",
       "  x3*x5\n",
       "  x3*x7\n",
       "  v*e2\n",
       "  v*u\n",
       "  v*e4\n",
       "  v*e1\n",
       "  e3*w\n",
       "  e3*u\n",
       "  e3*e4\n",
       "  e3*e1\n",
       "  x4*x7\n",
       "  e2*w\n",
       "  e2*e4\n",
       "  e2*e1\n",
       "  u*w\n",
       "  u*e1\n",
       "  e4*w"
      ]
     },
     "execution_count": 97,
     "metadata": {},
     "output_type": "execute_result"
    }
   ],
   "source": [
    "stanley_reisner_ideal(ambient_space(qsm_model))"
   ]
  },
  {
   "cell_type": "code",
   "execution_count": 98,
   "id": "c8816ed0-e87c-4a87-bb93-e764cf42841e",
   "metadata": {},
   "outputs": [
    {
     "data": {
      "text/plain": [
       "Quotient\n",
       "  of multivariate polynomial ring in 14 variables over QQ graded by\n",
       "    x1 -> [1]\n",
       "    x2 -> [1]\n",
       "    x3 -> [1]\n",
       "    x4 -> [1]\n",
       "    x5 -> [1]\n",
       "    x6 -> [1]\n",
       "    x7 -> [1]\n",
       "    v -> [1]\n",
       "    e3 -> [1]\n",
       "    e2 -> [1]\n",
       "    u -> [1]\n",
       "    e4 -> [1]\n",
       "    e1 -> [1]\n",
       "    w -> [1]\n",
       "  by ideal with 25 generators"
      ]
     },
     "execution_count": 98,
     "metadata": {},
     "output_type": "execute_result"
    }
   ],
   "source": [
    "cohomology_ring(ambient_space(qsm_model))"
   ]
  },
  {
   "cell_type": "code",
   "execution_count": 99,
   "id": "316bda9f-5213-440e-af09-ae9c5a4ef8bb",
   "metadata": {},
   "outputs": [
    {
     "data": {
      "text/plain": [
       "91"
      ]
     },
     "execution_count": 99,
     "metadata": {},
     "output_type": "execute_result"
    }
   ],
   "source": [
    "binomial(14,2)"
   ]
  },
  {
   "cell_type": "code",
   "execution_count": 100,
   "id": "5987ebd5-55df-4234-8332-338502383de4",
   "metadata": {},
   "outputs": [
    {
     "data": {
      "text/plain": [
       "25"
      ]
     },
     "execution_count": 100,
     "metadata": {},
     "output_type": "execute_result"
    }
   ],
   "source": [
    "betti_number(ambient_space(qsm_model), 4)"
   ]
  },
  {
   "cell_type": "code",
   "execution_count": 101,
   "id": "5f2fb029-ecdb-4f67-b7f0-d93e45358631",
   "metadata": {},
   "outputs": [
    {
     "data": {
      "text/plain": [
       "25-element Vector{CohomologyClass}:\n",
       " Cohomology class on a normal toric variety given by x6*e4\n",
       " Cohomology class on a normal toric variety given by x4*x6\n",
       " Cohomology class on a normal toric variety given by x7^2\n",
       " Cohomology class on a normal toric variety given by x5*x6\n",
       " Cohomology class on a normal toric variety given by x6*x7\n",
       " Cohomology class on a normal toric variety given by x7*e2\n",
       " Cohomology class on a normal toric variety given by x7*u\n",
       " Cohomology class on a normal toric variety given by x7*e4\n",
       " Cohomology class on a normal toric variety given by x7*e1\n",
       " Cohomology class on a normal toric variety given by x7*w\n",
       " Cohomology class on a normal toric variety given by x5*u\n",
       " Cohomology class on a normal toric variety given by x4*e4\n",
       " Cohomology class on a normal toric variety given by x5*e4\n",
       " Cohomology class on a normal toric variety given by e1*w\n",
       " Cohomology class on a normal toric variety given by x6*e2\n",
       " Cohomology class on a normal toric variety given by x6*u\n",
       " Cohomology class on a normal toric variety given by x6*w\n",
       " Cohomology class on a normal toric variety given by x4*e2\n",
       " Cohomology class on a normal toric variety given by x4*u\n",
       " Cohomology class on a normal toric variety given by x4*e1\n",
       " Cohomology class on a normal toric variety given by x4*w\n",
       " Cohomology class on a normal toric variety given by x5*e2\n",
       " Cohomology class on a normal toric variety given by x5*e1\n",
       " Cohomology class on a normal toric variety given by x5*w\n",
       " Cohomology class on a normal toric variety given by x6*e1"
      ]
     },
     "execution_count": 101,
     "metadata": {},
     "output_type": "execute_result"
    }
   ],
   "source": [
    "basis_of_h22_ambient(qsm_model, check = false)"
   ]
  },
  {
   "cell_type": "code",
   "execution_count": 102,
   "id": "a9a2a061-aa4f-4c9f-bcf3-a60417f53d2c",
   "metadata": {},
   "outputs": [
    {
     "data": {
      "text/plain": [
       "25"
      ]
     },
     "execution_count": 102,
     "metadata": {},
     "output_type": "execute_result"
    }
   ],
   "source": [
    "g4_gens = chosen_g4_flux_basis(qsm_model);\n",
    "length(g4_gens)"
   ]
  },
  {
   "cell_type": "code",
   "execution_count": 103,
   "id": "06018a48-c945-4369-8479-b83e8f80cfb9",
   "metadata": {},
   "outputs": [
    {
     "data": {
      "text/plain": [
       "G4-flux candidate\n",
       "  - Elementary quantization checks: not executed\n",
       "  - Transversality checks: not executed\n",
       "  - Non-abelian gauge group: breaking pattern not analyzed\n",
       "  - Tadpole cancellation check: not computed"
      ]
     },
     "execution_count": 103,
     "metadata": {},
     "output_type": "execute_result"
    }
   ],
   "source": [
    "g4_gens[1]"
   ]
  },
  {
   "cell_type": "code",
   "execution_count": 104,
   "id": "d4012480-63a5-48cb-905f-e7ba5408689a",
   "metadata": {},
   "outputs": [
    {
     "data": {
      "text/plain": [
       "Cohomology class on a normal toric variety given by x6*e4"
      ]
     },
     "execution_count": 104,
     "metadata": {},
     "output_type": "execute_result"
    }
   ],
   "source": [
    "cohomology_class(g4_gens[1])"
   ]
  },
  {
   "cell_type": "code",
   "execution_count": 105,
   "id": "32574a6a-3af1-43f4-852f-b0b2f99ae537",
   "metadata": {},
   "outputs": [],
   "source": [
    "#Oscar._ambient_space_divisor_pairs_to_be_considered(qsm_model)"
   ]
  },
  {
   "cell_type": "code",
   "execution_count": 106,
   "id": "1d3f1ce9-3d07-4150-a98c-fc4364099841",
   "metadata": {},
   "outputs": [
    {
     "data": {
      "text/plain": [
       "Family of G4 fluxes:\n",
       "  - Elementary quantization checks: satisfied\n",
       "  - Transversality checks: satisfied\n",
       "  - Non-abelian gauge group: breaking pattern not analyzed"
      ]
     },
     "execution_count": 106,
     "metadata": {},
     "output_type": "execute_result"
    }
   ],
   "source": [
    "fg = special_flux_family(qsm_model, check = false)"
   ]
  },
  {
   "cell_type": "code",
   "execution_count": 107,
   "id": "995c75a2-ba5a-443a-98f9-2ffc539bf150",
   "metadata": {},
   "outputs": [
    {
     "data": {
      "text/plain": [
       "(25, 17)"
      ]
     },
     "execution_count": 107,
     "metadata": {},
     "output_type": "execute_result"
    }
   ],
   "source": [
    "mat_int = matrix_integral(fg);\n",
    "size(mat_int)"
   ]
  },
  {
   "cell_type": "code",
   "execution_count": 108,
   "id": "a012f05a-cb7e-4237-b5ec-b4b040cbf810",
   "metadata": {},
   "outputs": [
    {
     "data": {
      "text/plain": [
       "(25, 0)"
      ]
     },
     "execution_count": 108,
     "metadata": {},
     "output_type": "execute_result"
    }
   ],
   "source": [
    "mat_rat = matrix_rational(fg);\n",
    "size(mat_rat)"
   ]
  },
  {
   "cell_type": "code",
   "execution_count": 109,
   "id": "23ffacad-ab64-4ec2-b81f-742867c3aa63",
   "metadata": {},
   "outputs": [
    {
     "data": {
      "text/plain": [
       "G4-flux candidate\n",
       "  - Elementary quantization checks: satisfied\n",
       "  - Transversality checks: satisfied\n",
       "  - Non-abelian gauge group: breaking pattern not analyzed\n",
       "  - Tadpole cancellation check: not computed"
      ]
     },
     "execution_count": 109,
     "metadata": {},
     "output_type": "execute_result"
    }
   ],
   "source": [
    "g4 = random_flux_instance(fg)"
   ]
  },
  {
   "cell_type": "code",
   "execution_count": 110,
   "id": "5c44de9a-90f9-4694-a936-b96bfd14abc7",
   "metadata": {},
   "outputs": [
    {
     "data": {
      "text/plain": [
       "G4-flux candidate\n",
       "  - Elementary quantization checks: satisfied\n",
       "  - Transversality checks: satisfied\n",
       "  - Non-abelian gauge group: breaking pattern not analyzed\n",
       "  - Tadpole cancellation check: not computed"
      ]
     },
     "execution_count": 110,
     "metadata": {},
     "output_type": "execute_result"
    }
   ],
   "source": [
    "g4_2 = random_flux(qsm_model, check = false)"
   ]
  },
  {
   "cell_type": "code",
   "execution_count": 111,
   "id": "4ec4c99e-61e9-4103-bbd2-aa007caf0ab2",
   "metadata": {},
   "outputs": [
    {
     "data": {
      "text/plain": [
       "Family of G4 fluxes:\n",
       "  - Elementary quantization checks: satisfied\n",
       "  - Transversality checks: satisfied\n",
       "  - Non-abelian gauge group: unbroken"
      ]
     },
     "execution_count": 111,
     "metadata": {},
     "output_type": "execute_result"
    }
   ],
   "source": [
    "fg_not_breaking = special_flux_family(qsm_model, not_breaking = true, check = false)"
   ]
  },
  {
   "cell_type": "code",
   "execution_count": 112,
   "id": "9cb2dbe3-040f-4fa4-b2f7-dc0256133400",
   "metadata": {},
   "outputs": [
    {
     "data": {
      "text/plain": [
       "(25, 1)"
      ]
     },
     "execution_count": 112,
     "metadata": {},
     "output_type": "execute_result"
    }
   ],
   "source": [
    "size(matrix_integral(fg_not_breaking))"
   ]
  },
  {
   "cell_type": "code",
   "execution_count": 113,
   "id": "d3171bc9-3984-48df-b9dc-87a87557af43",
   "metadata": {},
   "outputs": [
    {
     "data": {
      "text/plain": [
       "G4-flux candidate\n",
       "  - Elementary quantization checks: not executed\n",
       "  - Transversality checks: not executed\n",
       "  - Non-abelian gauge group: breaking pattern not analyzed\n",
       "  - Tadpole cancellation check: not computed"
      ]
     },
     "execution_count": 113,
     "metadata": {},
     "output_type": "execute_result"
    }
   ],
   "source": [
    "b22 = chosen_g4_flux_basis(qsm_model);\n",
    "mat_int = matrix_integral(fg_not_breaking);\n",
    "g4_sample = sum([mat_int[k] * b22[k] for k in 1:length(b22)])"
   ]
  },
  {
   "cell_type": "code",
   "execution_count": 114,
   "id": "ad1503ac-a23b-4655-b393-9481b4b6942d",
   "metadata": {},
   "outputs": [
    {
     "data": {
      "text/plain": [
       "Cohomology class on a normal toric variety given by -1//5*x5*x6 + 1//30*x5*e2 + 1//15*x5*u + 1//10*x5*e4 + 1//15*x5*e1 + 1//30*x5*w - 11//15*x6*x7 + 2//15*x6*e2 + 4//15*x6*u + 2//5*x6*e4 + 4//15*x6*e1 + 2//15*x6*w - 7//30*x7^2 + 1//15*x7*e2 + 2//15*x7*u + 1//5*x7*e4 + 2//15*x7*e1 + 1//15*x7*w - 1//6*e1*w"
      ]
     },
     "execution_count": 114,
     "metadata": {},
     "output_type": "execute_result"
    }
   ],
   "source": [
    "cohomology_class(g4_sample)"
   ]
  },
  {
   "cell_type": "code",
   "execution_count": 115,
   "id": "15f3ce5c-6b2f-4ca6-9490-6bed5a3d1d40",
   "metadata": {},
   "outputs": [
    {
     "data": {
      "text/plain": [
       "30"
      ]
     },
     "execution_count": 115,
     "metadata": {},
     "output_type": "execute_result"
    }
   ],
   "source": [
    "kbar3(qsm_model)"
   ]
  },
  {
   "cell_type": "code",
   "execution_count": 116,
   "id": "c3d419b7-cb04-45e7-a40a-15732ccbccea",
   "metadata": {},
   "outputs": [],
   "source": [
    "divs = torusinvariant_prime_divisors(ambient_space(qsm_model));\n",
    "e1 = cohomology_class(divs[13]);\n",
    "e2 = cohomology_class(divs[10]);\n",
    "e4 = cohomology_class(divs[12]);\n",
    "u = cohomology_class(divs[11]);\n",
    "v = cohomology_class(divs[8]);\n",
    "pb_Kbar = cohomology_class(sum([divs[k] for k in 1:7]));"
   ]
  },
  {
   "cell_type": "code",
   "execution_count": 117,
   "id": "567222e4-1d3b-4759-97e9-20e07647d822",
   "metadata": {},
   "outputs": [],
   "source": [
    "g4_class = (-3) // kbar3(qsm_model) * (5 * e1 * e4 + pb_Kbar * (-3 * e1 - 2 * e2 - 6 * e4 + pb_Kbar - 4 * u + v));"
   ]
  },
  {
   "cell_type": "code",
   "execution_count": 118,
   "id": "77170d45-9b31-44dd-af68-ba1f8161f13b",
   "metadata": {},
   "outputs": [
    {
     "data": {
      "text/plain": [
       "G4-flux candidate\n",
       "  - Elementary quantization checks: not executed\n",
       "  - Transversality checks: not executed\n",
       "  - Non-abelian gauge group: breaking pattern not analyzed\n",
       "  - Tadpole cancellation check: not computed"
      ]
     },
     "execution_count": 118,
     "metadata": {},
     "output_type": "execute_result"
    }
   ],
   "source": [
    "g4_sample2 = g4_flux(qsm_model, g4_class, check = false, convert = true)"
   ]
  },
  {
   "cell_type": "code",
   "execution_count": 119,
   "id": "192fb5a7-0275-4f63-80ab-34e671243076",
   "metadata": {},
   "outputs": [
    {
     "data": {
      "text/plain": [
       "G4-flux candidate\n",
       "  - Elementary quantization checks: satisfied\n",
       "  - Transversality checks: satisfied\n",
       "  - Non-abelian gauge group: unbroken\n",
       "  - Tadpole cancellation check: not computed"
      ]
     },
     "execution_count": 119,
     "metadata": {},
     "output_type": "execute_result"
    }
   ],
   "source": [
    "qsm_flux(qsm_model)"
   ]
  },
  {
   "cell_type": "code",
   "execution_count": 120,
   "id": "09a01848-ed9f-4562-b196-9895ac0432b9",
   "metadata": {},
   "outputs": [
    {
     "data": {
      "text/plain": [
       "true"
      ]
     },
     "execution_count": 120,
     "metadata": {},
     "output_type": "execute_result"
    }
   ],
   "source": [
    " qsm_flux(qsm_model) == g4_sample2"
   ]
  },
  {
   "cell_type": "code",
   "execution_count": 121,
   "id": "e9390426-dee8-418c-93dc-d7afdb9adf7a",
   "metadata": {},
   "outputs": [
    {
     "data": {
      "text/plain": [
       "Cohomology class on a normal toric variety given by -3//5*x5*x6 + 1//10*x5*e2 + 1//5*x5*u + 3//10*x5*e4 + 1//5*x5*e1 + 1//10*x5*w - 11//5*x6*x7 + 2//5*x6*e2 + 4//5*x6*u + 6//5*x6*e4 + 4//5*x6*e1 + 2//5*x6*w - 7//10*x7^2 + 1//5*x7*e2 + 2//5*x7*u + 3//5*x7*e4 + 2//5*x7*e1 + 1//5*x7*w - 1//2*e1*w"
      ]
     },
     "execution_count": 121,
     "metadata": {},
     "output_type": "execute_result"
    }
   ],
   "source": [
    "cohomology_class(g4_sample2)"
   ]
  },
  {
   "cell_type": "code",
   "execution_count": 122,
   "id": "97559cd7-7880-4888-a477-054b73cce67e",
   "metadata": {},
   "outputs": [
    {
     "data": {
      "text/plain": [
       "Cohomology class on a normal toric variety given by 0"
      ]
     },
     "execution_count": 122,
     "metadata": {},
     "output_type": "execute_result"
    }
   ],
   "source": [
    "3 * cohomology_class(g4_sample) - cohomology_class(g4_sample2)"
   ]
  },
  {
   "cell_type": "code",
   "execution_count": 123,
   "id": "20998bfc-5bb2-498f-849d-cbe1b289fe4b",
   "metadata": {},
   "outputs": [
    {
     "data": {
      "text/plain": [
       "-1//12*a1^2 + 123//4"
      ]
     },
     "execution_count": 123,
     "metadata": {},
     "output_type": "execute_result"
    }
   ],
   "source": [
    "d3_tadpole_constraint(fg_not_breaking)"
   ]
  },
  {
   "cell_type": "code",
   "execution_count": 124,
   "id": "3fe56239-64b3-4c26-b257-0668d7861740",
   "metadata": {},
   "outputs": [
    {
     "data": {
      "text/plain": [
       "G4-flux candidate\n",
       "  - Elementary quantization checks: satisfied\n",
       "  - Transversality checks: satisfied\n",
       "  - Non-abelian gauge group: unbroken\n",
       "  - Tadpole cancellation check: not computed"
      ]
     },
     "execution_count": 124,
     "metadata": {},
     "output_type": "execute_result"
    }
   ],
   "source": [
    "g4_exp = flux_instance(fg_not_breaking, [3], [])"
   ]
  },
  {
   "cell_type": "code",
   "execution_count": 125,
   "id": "3871fc4c-8f12-4fdd-a5fa-c9fbe18dc4c6",
   "metadata": {},
   "outputs": [
    {
     "data": {
      "text/plain": [
       "30"
      ]
     },
     "execution_count": 125,
     "metadata": {},
     "output_type": "execute_result"
    }
   ],
   "source": [
    "d3_tadpole_constraint(g4_exp)"
   ]
  },
  {
   "cell_type": "code",
   "execution_count": 126,
   "id": "92a7f98e-732d-4dcd-8100-97f64208cd37",
   "metadata": {},
   "outputs": [
    {
     "data": {
      "text/plain": [
       "true"
      ]
     },
     "execution_count": 126,
     "metadata": {},
     "output_type": "execute_result"
    }
   ],
   "source": [
    "d3_tadpole_constraint(g4_exp) == -1//12*3^2 + 123//4"
   ]
  },
  {
   "cell_type": "markdown",
   "id": "9ccc0a34-680c-4940-bab0-82b92feaeb67",
   "metadata": {},
   "source": [
    "### 5.2 G4-Fluxes in a Complex Model --- A Computational Stress Test"
   ]
  },
  {
   "cell_type": "raw",
   "id": "10a62cae-36a2-4ae4-8dfb-566cf9194a39",
   "metadata": {},
   "source": [
    "WARNING: The following models might take a few minutes to load in"
   ]
  },
  {
   "cell_type": "code",
   "execution_count": 127,
   "id": "470f2a76-9091-4b01-8867-714ad2d345af",
   "metadata": {},
   "outputs": [
    {
     "data": {
      "text/plain": [
       "Global Tate model over a concrete base -- The F-theory geometry with most flux vacua based on arXiv paper 1511.03209 Eq. (2.11)"
      ]
     },
     "execution_count": 127,
     "metadata": {},
     "output_type": "execute_result"
    }
   ],
   "source": [
    "t = literature_model(arxiv_id = \"1511.03209\")"
   ]
  },
  {
   "cell_type": "code",
   "execution_count": 128,
   "id": "f4693f9c-3a4e-4240-ac3e-8753256fcdce",
   "metadata": {},
   "outputs": [
    {
     "data": {
      "text/plain": [
       "Partially resolved global Tate model over a concrete base -- The F-theory geometry with most flux vacua based on arXiv paper 1511.03209 Eq. (2.11)"
      ]
     },
     "execution_count": 128,
     "metadata": {},
     "output_type": "execute_result"
    }
   ],
   "source": [
    "t_res = resolve(t, 1)"
   ]
  },
  {
   "cell_type": "code",
   "execution_count": 129,
   "id": "38d05dff-014f-481c-9008-72faeb1721e2",
   "metadata": {},
   "outputs": [],
   "source": [
    "amb = ambient_space(t_res);\n",
    "cohomology_ring(amb, check = false);"
   ]
  },
  {
   "cell_type": "code",
   "execution_count": 130,
   "id": "47d53e26-ac1a-4bb7-b505-7ae818fb674f",
   "metadata": {},
   "outputs": [
    {
     "data": {
      "text/plain": [
       "1109"
      ]
     },
     "execution_count": 130,
     "metadata": {},
     "output_type": "execute_result"
    }
   ],
   "source": [
    "betti_number(amb, 4)"
   ]
  },
  {
   "cell_type": "code",
   "execution_count": 131,
   "id": "ecc65ccc-6f3b-4757-88c0-7aebfcd2c899",
   "metadata": {},
   "outputs": [],
   "source": [
    "g4_amb_candidates = chosen_g4_flux_basis(t_res, check = false);"
   ]
  },
  {
   "cell_type": "code",
   "execution_count": 132,
   "id": "b6f52140-719d-452c-adec-88989e7d2032",
   "metadata": {},
   "outputs": [
    {
     "data": {
      "text/plain": [
       "629"
      ]
     },
     "execution_count": 132,
     "metadata": {},
     "output_type": "execute_result"
    }
   ],
   "source": [
    "length(g4_amb_candidates)"
   ]
  },
  {
   "cell_type": "code",
   "execution_count": 133,
   "id": "61a7012b-d0eb-46d0-a756-e9d0af33de43",
   "metadata": {
    "scrolled": true
   },
   "outputs": [
    {
     "data": {
      "text/plain": [
       "Family of G4 fluxes:\n",
       "  - Elementary quantization checks: satisfied\n",
       "  - Transversality checks: satisfied\n",
       "  - Non-abelian gauge group: breaking pattern not analyzed"
      ]
     },
     "execution_count": 133,
     "metadata": {},
     "output_type": "execute_result"
    }
   ],
   "source": [
    "fg_quant = special_flux_family(t_res, check = false, algorithm = \"special\")"
   ]
  },
  {
   "cell_type": "code",
   "execution_count": 134,
   "id": "3040adac-ad19-41c9-9c2c-cd764bfdbd18",
   "metadata": {},
   "outputs": [
    {
     "data": {
      "text/plain": [
       "(629, 224)"
      ]
     },
     "execution_count": 134,
     "metadata": {},
     "output_type": "execute_result"
    }
   ],
   "source": [
    "size(matrix_integral(fg_quant))"
   ]
  },
  {
   "cell_type": "code",
   "execution_count": 135,
   "id": "bb2f001e-d9c8-4430-8977-9b33ffae67c0",
   "metadata": {},
   "outputs": [
    {
     "data": {
      "text/plain": [
       "(629, 127)"
      ]
     },
     "execution_count": 135,
     "metadata": {},
     "output_type": "execute_result"
    }
   ],
   "source": [
    "size(matrix_rational(fg_quant))"
   ]
  },
  {
   "cell_type": "code",
   "execution_count": 136,
   "id": "4c58f382-05be-4d2a-aa4c-f79301fc8359",
   "metadata": {},
   "outputs": [
    {
     "data": {
      "text/plain": [
       "Family of G4 fluxes:\n",
       "  - Elementary quantization checks: satisfied\n",
       "  - Transversality checks: satisfied\n",
       "  - Non-abelian gauge group: unbroken"
      ]
     },
     "execution_count": 136,
     "metadata": {},
     "output_type": "execute_result"
    }
   ],
   "source": [
    "fg_quant_no_break = special_flux_family(t_res, not_breaking = true, check = false, algorithm = \"special\")"
   ]
  },
  {
   "cell_type": "code",
   "execution_count": 137,
   "id": "dd6d45ab-7f5b-4b83-b544-568267e3dd64",
   "metadata": {},
   "outputs": [
    {
     "data": {
      "text/plain": [
       "(629, 1)"
      ]
     },
     "execution_count": 137,
     "metadata": {},
     "output_type": "execute_result"
    }
   ],
   "source": [
    "size(matrix_integral(fg_quant_no_break))"
   ]
  },
  {
   "cell_type": "code",
   "execution_count": 138,
   "id": "04f9f30e-25df-49bd-84a8-166b347129ed",
   "metadata": {},
   "outputs": [
    {
     "data": {
      "text/plain": [
       "(629, 127)"
      ]
     },
     "execution_count": 138,
     "metadata": {},
     "output_type": "execute_result"
    }
   ],
   "source": [
    "size(matrix_rational(fg_quant_no_break))"
   ]
  },
  {
   "cell_type": "code",
   "execution_count": null,
   "id": "1d2d192c-2907-490b-8f12-ab6524ca756b",
   "metadata": {},
   "outputs": [],
   "source": []
  }
 ],
 "metadata": {
  "kernelspec": {
   "display_name": "Julia 1.11.4",
   "language": "julia",
   "name": "julia-1.11"
  },
  "language_info": {
   "file_extension": ".jl",
   "mimetype": "application/julia",
   "name": "julia",
   "version": "1.11.4"
  }
 },
 "nbformat": 4,
 "nbformat_minor": 5
}
