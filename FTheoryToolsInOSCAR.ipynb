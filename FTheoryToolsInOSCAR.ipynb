{
 "cells": [
  {
   "cell_type": "markdown",
   "id": "85fd2ee3-b210-48cb-ae68-e8d254dd7703",
   "metadata": {},
   "source": [
    "# *FTheoryTools*\n",
    "\n",
    "* Authors: Martin Bies, Mikelis Emils Mikelsons, Andrew P. Turner\n",
    "* Version: OSCAR version 1.1.0\n",
    "* Last modified: June 21st, 2024"
   ]
  },
  {
   "cell_type": "markdown",
   "id": "605e34eb-b200-432a-be17-e21b47f2b615",
   "metadata": {},
   "source": [
    "This tutorial provides a brief introduction to the *FTheoryTools* component of *OSCAR*.\n",
    "\n",
    "The aim is to describe some basic constructions. In order to facilitate this introduction, we are very selective in what we present. For a full description of the available functionality, see https://docs.oscar-system.org/stable/Experimental/FTheoryTools/introduction/. It is worth mentioning that *FTheoryTools* is still (as of June 21st, 2024) in its experimental stage in *OSCAR*. Consequently, major changes may happen in the future.\n",
    "\n",
    "For this tutorial, no prior knowledge of *OSCAR* is necessary.\n",
    "\n",
    "## Content\n",
    "1. [An SU(5) Tate model from scratch](#1-An-SU(5)-Tate-model-from-scratch)\n",
    "   - [Construction](#1.A-Construction)\n",
    "   - [Properties and Attributes](#1.B-Properties-and-Attributes)\n",
    "2. [Literature Models and Singularity Resolution](#2-Literature-Models-and-Singularity-Resolution)\n",
    "   - [Creating a Literature Model](#2-A-Creating-a-Literature-Model)\n",
    "   - [Attributes and Properties of Literature Models](#2.B-Attributes-and-Properties-of-Literature-Models)\n",
    "   - [Singularity Resolution](#2.C-Singularity-Resolution)\n",
    "    - [Other Functionality](#2.D-Other-Functionality)\n",
    "3. [The Quadrillion F-Theory Standard Models](#3-The-Quadrillion-F-Theory-Standard-Models)\n",
    "    - [Base Geometry](#3.A-Base-Geometry)\n",
    "    - [The $C_{i}$ Curves](#3.B-The-C_i-Curves)"
   ]
  },
  {
   "cell_type": "code",
   "execution_count": 5,
   "id": "e53ffe0c-2900-464b-a2e7-c2f7c3e5be6a",
   "metadata": {},
   "outputs": [
    {
     "name": "stderr",
     "output_type": "stream",
     "text": [
      "\u001b[36m\u001b[1m[ \u001b[22m\u001b[39m\u001b[36m\u001b[1mInfo: \u001b[22m\u001b[39mPrecompiling Oscar [f1435218-dba5-11e9-1e4d-f1a5fab5fc13]\n"
     ]
    },
    {
     "name": "stdout",
     "output_type": "stream",
     "text": []
    }
   ],
   "source": [
    "using Oscar"
   ]
  },
  {
   "cell_type": "markdown",
   "id": "ebe8b891-7d57-465a-b237-80f766e923a4",
   "metadata": {},
   "source": [
    "# 1 An SU(5) Tate model from scratch"
   ]
  },
  {
   "cell_type": "markdown",
   "id": "5116cd56-24d4-48ef-9eee-4eac2dcafb22",
   "metadata": {},
   "source": [
    "## 1.A Construction"
   ]
  },
  {
   "cell_type": "markdown",
   "id": "b8c53ecf-5283-4748-9f24-d34864b60d7a",
   "metadata": {},
   "source": [
    "We begin by showing how an F-theory model can be created within the F-theory tools. This is showcase this by looking at an $SU(5)$ Tate model over an arbitrary base. To construct this model, we begin with a $\\mathbb{P}^{2, 3, 1}$ fibration over a complex $n$-dimensional base manifold $B$, such that the homogeneous coordinates $[x : y : z]$ transform as\n",
    "    $$x \\in H^0(B, \\bar{K}_B^{\\otimes 2})\\,, \\quad y \\in H^0(B, \\bar{K}_B^{\\otimes 3})\\,, \\quad z \\in H^0(B, \\mathcal{O}_B)\\,,$$\n",
    "with $K_B$ the canonical bundle of the base. A Tate model is realized as a hypersurface in this $(n + 2)$-dimensional ambient space given by the locus\n",
    "    $$y^2 + a_1 x y z + a_3 y z^3 = x^3 + a_2 x^2 z^2 + a_4 x z^4 + a_6 z^6\\,,$$\n",
    "with $a_i \\in H^0(B, \\bar{K}_B^{\\otimes i})$. These data define an elliptic fibration $X$ over the base $B$.\n",
    "\n",
    "For the SU(5) Tate model, we tune the parameters $a_i$ of the model so they become proportional to specific powers of $w$, with $w = 0$ a divisor in the base $B$:\n",
    "    $$a_1 = w^0 a_{1, 0}\\,, \\quad a_2 = w^1 a_{2, 1}\\,, \\quad a_3 = w^2 a_{3, 2}\\,, \\quad a_4 = w^3 a_{4, 3}\\,, \\quad a_6 \\equiv 0\\,.$$\n",
    "Certainly, we could fix a base. In this case we talk about one explicit geometry/F-theory model. Typically, people in the literature like to study families of models in that the base is left mostly unconstrained. Even so, one would at the very least fix the dimension of the base. We shall follow this example and fix $\\mathrm{dim}(B) = 3$."
   ]
  },
  {
   "cell_type": "markdown",
   "id": "c46e076e",
   "metadata": {},
   "source": [
    "With $\\texttt{FTheoryTools}$, we can create this model with the following steps. First, we create a ring (which you may read as an auxiliary base coordinate ring) whose indeterminates are the parameters needed to define the Tate model in question. Here these parameters are $a_{10}$, $a_{21}$, $a_{32}$, $a_{43}$, $a_{65}$ and $w$. So we create the following ring:"
   ]
  },
  {
   "cell_type": "code",
   "execution_count": 6,
   "id": "6ee360c2-4154-45e1-bc4d-ff17fc7b5ee8",
   "metadata": {},
   "outputs": [
    {
     "data": {
      "text/plain": [
       "(Multivariate polynomial ring in 6 variables over QQ, QQMPolyRingElem[a10, a21, a32, a43, a65, w])"
      ]
     },
     "execution_count": 6,
     "metadata": {},
     "output_type": "execute_result"
    }
   ],
   "source": [
    "auxiliary_base_ring, (a10, a21, a32, a43, a65, w) = QQ[\"a10\", \"a21\", \"a32\", \"a43\", \"a65\", \"w\"]"
   ]
  },
  {
   "cell_type": "markdown",
   "id": "8636098f-c368-461d-92a7-e29d35123dc0",
   "metadata": {},
   "source": [
    "Note that this command not only defines the polynomial ring, but also defines symbols a10, a21, \\dots, w which refer to the indeterminates of this polynomial ring. This will be important momentarily."
   ]
  },
  {
   "cell_type": "markdown",
   "id": "20ce21fe-f27e-4192-983a-637fde592f54",
   "metadata": {},
   "source": [
    "As mentioned above, the model parameters $a_{ij}$ transform as sections of the line bundle $\\overline{K}_{B}^{\\otimes i} \\otimes \\mathcal{O}_B(\\{ w = 0 \\})^{\\otimes (-j)}$. Certainly, we must inform $\\texttt{FTheoryTools}$ about this transformation behavior. To this en, we record the powers $i$ and $j$ in the following matrix:"
   ]
  },
  {
   "cell_type": "code",
   "execution_count": 7,
   "id": "8fcfca37-fa7b-48a2-8aa5-828387958e2f",
   "metadata": {},
   "outputs": [
    {
     "data": {
      "text/plain": [
       "2×6 Matrix{Int64}:\n",
       " 1   2   3   4   6  0\n",
       " 0  -1  -2  -3  -5  1"
      ]
     },
     "execution_count": 7,
     "metadata": {},
     "output_type": "execute_result"
    }
   ],
   "source": [
    "auxiliary_base_grading = [1 2 3 4 6 0; 0 -1 -2 -3 -5 1]"
   ]
  },
  {
   "cell_type": "markdown",
   "id": "bf1417e0-bb1b-48b3-9db1-68baf9825b21",
   "metadata": {},
   "source": [
    "Finally, we define the Tate sections $a_1$, $a_2$, \\dots, $a_6$ in terms of the model parameters (a.k.a. the indetemrinates of the polynomial ring4 $auxiliary\\_base\\_ring$ as defined above."
   ]
  },
  {
   "cell_type": "code",
   "execution_count": 44,
   "id": "8bc562ca-2114-4e58-8190-12e3e212b51e",
   "metadata": {},
   "outputs": [
    {
     "data": {
      "text/plain": [
       "0"
      ]
     },
     "execution_count": 44,
     "metadata": {},
     "output_type": "execute_result"
    }
   ],
   "source": [
    "a1 = a10\n",
    "a2 = a21 * w\n",
    "a3 = a32 * w^2\n",
    "a4 = a43 * w^3\n",
    "a6 = zero(auxiliary_base_ring)"
   ]
  },
  {
   "cell_type": "markdown",
   "id": "042f6145-3fd1-44ab-bb12-47d0fcc80211",
   "metadata": {},
   "source": [
    "It is convenient to group these Tate sections in a vector. As such, the following line completes our preparations to define this F-theory model."
   ]
  },
  {
   "cell_type": "code",
   "execution_count": 45,
   "id": "ccc408a5-674f-4a1b-a107-a35594c853fb",
   "metadata": {},
   "outputs": [
    {
     "data": {
      "text/plain": [
       "5-element Vector{QQMPolyRingElem}:\n",
       " a10\n",
       " a21*w\n",
       " a32*w^2\n",
       " a43*w^3\n",
       " 0"
      ]
     },
     "execution_count": 45,
     "metadata": {},
     "output_type": "execute_result"
    }
   ],
   "source": [
    "ais = [a1, a2, a3, a4, a6]"
   ]
  },
  {
   "cell_type": "markdown",
   "id": "73c98964",
   "metadata": {},
   "source": [
    "Now we can define the Tate model as given above. Recall that we fixed $\\mathrm{dim}(B) = 3$. (in this case, we will choose $d = 3$ for the dimension of the base):"
   ]
  },
  {
   "cell_type": "code",
   "execution_count": 46,
   "id": "3e0b2258",
   "metadata": {},
   "outputs": [
    {
     "name": "stdout",
     "output_type": "stream",
     "text": [
      "Assuming that the first row of the given grading is the grading under Kbar\n",
      "\n"
     ]
    },
    {
     "data": {
      "text/plain": [
       "Global Tate model over a not fully specified base"
      ]
     },
     "execution_count": 46,
     "metadata": {},
     "output_type": "execute_result"
    }
   ],
   "source": [
    "su5_tate = global_tate_model(auxiliary_base_ring, auxiliary_base_grading, 3, ais)"
   ]
  },
  {
   "cell_type": "markdown",
   "id": "c343ac2a-0e11-4966-a879-3f51643b9cbf",
   "metadata": {},
   "source": [
    "For simplicity, and to ease reuse, let us collect all these steps necessary to construct this model in the following code sample:"
   ]
  },
  {
   "cell_type": "code",
   "execution_count": 47,
   "id": "30ad0b4f-3fca-4af1-852a-5a4f07f8589e",
   "metadata": {},
   "outputs": [
    {
     "name": "stdout",
     "output_type": "stream",
     "text": [
      "Assuming that the first row of the given grading is the grading under Kbar\n",
      "\n"
     ]
    },
    {
     "data": {
      "text/plain": [
       "Global Tate model over a not fully specified base"
      ]
     },
     "execution_count": 47,
     "metadata": {},
     "output_type": "execute_result"
    }
   ],
   "source": [
    "auxiliary_base_ring, (a10, a21, a32, a43, a65, w) = QQ[\"a10\", \"a21\", \"a32\", \"a43\", \"a65\", \"w\"] # Ring, whose variables are the model parameters.\n",
    "auxiliary_base_grading = [1 2 3 4 6 0; 0 -1 -2 -3 -5 1] # Transformation behavior of the model parameters under the model classes, here Kbar and [w].\n",
    "a1 = a10 # Tuning the Tate sections\n",
    "a2 = a21 * w\n",
    "a3 = a32 * w^2\n",
    "a4 = a43 * w^3\n",
    "a6 = zero(auxiliary_base_ring)\n",
    "ais = [a1, a2, a3, a4, a6] # Collecting the Tate sections in a vector.\n",
    "d = 3 # Dimension of the base.\n",
    "su5_tate = global_tate_model(auxiliary_base_ring, auxiliary_base_grading, 3, ais) # Finally, constructing the model"
   ]
  },
  {
   "cell_type": "markdown",
   "id": "3679c88e-9ebf-42f1-ac19-ad854f3fccd1",
   "metadata": {},
   "source": [
    "## 1.B Properties and Attributes"
   ]
  },
  {
   "cell_type": "markdown",
   "id": "98dffa94",
   "metadata": {},
   "source": [
    "We can now extract various properties and attributes of this model, including (but not limited to) the Tate polynomial, the Tate sections, its base space etc. Here are some examples:"
   ]
  },
  {
   "cell_type": "code",
   "execution_count": 48,
   "id": "6933c119",
   "metadata": {},
   "outputs": [
    {
     "data": {
      "text/plain": [
       "-a10*x*y*z + a21*w*x^2*z^2 - a32*w^2*y*z^3 + a43*w^3*x*z^4 + x^3 - y^2"
      ]
     },
     "execution_count": 48,
     "metadata": {},
     "output_type": "execute_result"
    }
   ],
   "source": [
    "su5_tate_poly = tate_polynomial(su5_tate)"
   ]
  },
  {
   "cell_type": "code",
   "execution_count": 49,
   "id": "2785b979-5ff2-47de-88e1-57eeb0bede14",
   "metadata": {},
   "outputs": [
    {
     "data": {
      "text/plain": [
       "A family of spaces of dimension d = 3"
      ]
     },
     "execution_count": 49,
     "metadata": {},
     "output_type": "execute_result"
    }
   ],
   "source": [
    "base_space(su5_tate)"
   ]
  },
  {
   "cell_type": "code",
   "execution_count": 50,
   "id": "8824185f-cc9b-40b5-b40e-26e950adbd08",
   "metadata": {},
   "outputs": [
    {
     "data": {
      "text/plain": [
       "A family of spaces of dimension d = 5"
      ]
     },
     "execution_count": 50,
     "metadata": {},
     "output_type": "execute_result"
    }
   ],
   "source": [
    "ambient_space(su5_tate)"
   ]
  },
  {
   "cell_type": "markdown",
   "id": "5a39619c-6880-486a-a013-55d098fb48d4",
   "metadata": {},
   "source": [
    "This constructed model has singularities, and various information about these singularities determines the physics of the model.\n",
    "\n",
    "Recall that a Tate model (often referred to as \"long Weierstrass form\" in the mathematics literature) can always be cast into a Weierstrass model (also referred to as \"short Weierstrass form\"). The discriminant locus of this Weierstrass model informs us on the base loci over which the elliptic fiber is singular. So let us compute this.\n",
    "\n",
    "First, we compute the corresponding Weiersrass model:"
   ]
  },
  {
   "cell_type": "code",
   "execution_count": 51,
   "id": "b09f9f97-ced9-42b0-ae72-343d28e5e9aa",
   "metadata": {},
   "outputs": [
    {
     "data": {
      "text/plain": [
       "Weierstrass model over a not fully specified base"
      ]
     },
     "execution_count": 51,
     "metadata": {},
     "output_type": "execute_result"
    }
   ],
   "source": [
    "su5_weierstrass = weierstrass_model(su5_tate)"
   ]
  },
  {
   "cell_type": "markdown",
   "id": "db17cb3a-b5f0-462b-bb93-5224883aa1e8",
   "metadata": {},
   "source": [
    "In terms of the Weierstrass sections $f$ and $g$, the discrminant is given by $\\Delta = 4 f^3 + 27 g^2$. Hence, we first compute the Weierstrass sections:"
   ]
  },
  {
   "cell_type": "code",
   "execution_count": 52,
   "id": "7e0634be-b724-40c3-86ca-d1507bccfd08",
   "metadata": {},
   "outputs": [
    {
     "data": {
      "text/plain": [
       "-1//48*a10^4 - 1//6*a10^2*a21*w + 1//2*a10*a32*w^2 - 1//3*a21^2*w^2 + a43*w^3"
      ]
     },
     "execution_count": 52,
     "metadata": {},
     "output_type": "execute_result"
    }
   ],
   "source": [
    "su5_f = weierstrass_section_f(su5_weierstrass)"
   ]
  },
  {
   "cell_type": "code",
   "execution_count": 53,
   "id": "effd4e15-7485-4145-8409-08f1a4b7e422",
   "metadata": {},
   "outputs": [
    {
     "data": {
      "text/plain": [
       "1//864*a10^6 + 1//72*a10^4*a21*w - 1//24*a10^3*a32*w^2 + 1//18*a10^2*a21^2*w^2 - 1//12*a10^2*a43*w^3 - 1//6*a10*a21*a32*w^3 + 2//27*a21^3*w^3 - 1//3*a21*a43*w^4 + 1//4*a32^2*w^4"
      ]
     },
     "execution_count": 53,
     "metadata": {},
     "output_type": "execute_result"
    }
   ],
   "source": [
    "su5_g = weierstrass_section_g(su5_weierstrass)"
   ]
  },
  {
   "cell_type": "markdown",
   "id": "25988f10",
   "metadata": {},
   "source": [
    "Certainly, $\\texttt{FTheoryTools}$ can do all of this automatically and use the expressions to compute the discriminant $\\Delta$:"
   ]
  },
  {
   "cell_type": "code",
   "execution_count": 54,
   "id": "4890e14f",
   "metadata": {},
   "outputs": [
    {
     "data": {
      "text/plain": [
       "(-1//16) * w^5 * (a10^5*a32*a43 - a10^4*a21*a32^2 + a10^4*a43^2*w + 8*a10^3*a21*a32*a43*w + a10^3*a32^3*w - 8*a10^2*a21^2*a32^2*w + 8*a10^2*a21*a43^2*w^2 - 30*a10^2*a32^2*a43*w^2 + 16*a10*a21^2*a32*a43*w^2 + 36*a10*a21*a32^3*w^2 - 96*a10*a32*a43^2*w^3 - 16*a21^3*a32^2*w^2 + 16*a21^2*a43^2*w^3 + 72*a21*a32^2*a43*w^3 - 27*a32^4*w^3 - 64*a43^3*w^4)"
      ]
     },
     "execution_count": 54,
     "metadata": {},
     "output_type": "execute_result"
    }
   ],
   "source": [
    "su5_disc = factor(discriminant(su5_tate))"
   ]
  },
  {
   "cell_type": "markdown",
   "id": "e1216f4a-b66a-4069-9172-868c70a903a6",
   "metadata": {},
   "source": [
    "We must be a bit careful with this method, as its internal mechanics currently makes assumptions that mirror toric situations. We are still working on the framework for arbitrary base spaces, and so this assumption may or may not be overuled at some point in the future.\n",
    "\n",
    "Irrespective, we have taken great care to verify that the current functionality produces correct results, such as the above. (Interested people could compare with the results presented in https://link.springer.com/article/10.1007/JHEP08(2012)119."
   ]
  },
  {
   "cell_type": "markdown",
   "id": "7749dd23",
   "metadata": {},
   "source": [
    "From the expression of the discriminant, we can see that it vanishes to order 5 at the locus $w = 0$. In contrasts, the Weierstrass sections $f$ and $g$ do not vanish at $\\{ w = 0\\}$:"
   ]
  },
  {
   "cell_type": "code",
   "execution_count": 55,
   "id": "eb28f69d",
   "metadata": {},
   "outputs": [
    {
     "data": {
      "text/plain": [
       "(-1//48) * (a10^4 + 8*a10^2*a21*w - 24*a10*a32*w^2 + 16*a21^2*w^2 - 48*a43*w^3)"
      ]
     },
     "execution_count": 55,
     "metadata": {},
     "output_type": "execute_result"
    }
   ],
   "source": [
    "factor(su5_f)"
   ]
  },
  {
   "cell_type": "code",
   "execution_count": 56,
   "id": "f262e22e",
   "metadata": {},
   "outputs": [
    {
     "data": {
      "text/plain": [
       "(1//864) * (a10^6 + 12*a10^4*a21*w - 36*a10^3*a32*w^2 + 48*a10^2*a21^2*w^2 - 72*a10^2*a43*w^3 - 144*a10*a21*a32*w^3 + 64*a21^3*w^3 - 288*a21*a43*w^4 + 216*a32^2*w^4)"
      ]
     },
     "execution_count": 56,
     "metadata": {},
     "output_type": "execute_result"
    }
   ],
   "source": [
    "factor(su5_g)"
   ]
  },
  {
   "cell_type": "markdown",
   "id": "db64b3ac",
   "metadata": {},
   "source": [
    "This indicates that the singularity at $w = 0$ has Kodaira type $I_5$, which gives rise to an SU(5) gauge group, as desired (cf. \"Weierstrass table\" at https://docs.oscar-system.org/stable/Experimental/FTheoryTools/weierstrass/).\n",
    "\n",
    "This analysis of finding the type of gauge enhancement can also be carried out automatically in \\texttt{FTheoryTools}:"
   ]
  },
  {
   "cell_type": "code",
   "execution_count": 57,
   "id": "7a5471ef",
   "metadata": {},
   "outputs": [
    {
     "data": {
      "text/plain": [
       "2-element Vector{Tuple{MPolyIdeal{<:MPolyRingElem}, Tuple{Int64, Int64, Int64}, String}}:\n",
       " (Ideal with 1 generator, (0, 0, 1), \"I_1\")\n",
       " (Ideal (w), (0, 0, 5), \"Split I_5\")"
      ]
     },
     "execution_count": 57,
     "metadata": {},
     "output_type": "execute_result"
    }
   ],
   "source": [
    "singular_loci(su5_tate)"
   ]
  },
  {
   "cell_type": "markdown",
   "id": "37b3dbdd",
   "metadata": {},
   "source": [
    "This indicates a split (indicating the Tate monodromy type) $I_5$ singularity at $w = 0$, and identifies the rest of the discriminant as a type $I_1$ singularity.\n",
    "\n",
    "(Note that we are using the Kodaira classification, despite the fact that $X$ is not an elliptic surface; we will further abuse the classification by using it at codimension higher than 1. This is standard in the physics literature, and though acknowledged as improper, always gives consistent physical results in known examples.)"
   ]
  },
  {
   "cell_type": "markdown",
   "id": "c735f4f7",
   "metadata": {},
   "source": [
    "In order to analyze the fibers over the singular locus, we wish to resolve the singularities of the space $X$. However, due to physical constraints (in order to maintain supersymmetry), we restrict ourselves only to crepant resolutions, and we leave any terminal singularities unresolved. The particular model we are considering can be crepantly resolved through codimension 3 by the following sequence of blowups:\n",
    "    $$X_4 \\xrightarrow{(b_{3, 1}, e_2)} X_3 \\xrightarrow{(b_{2, 2}, b_{2, 3})} X_2 \\xrightarrow{(b_{1, 1}, b_{1, 2}, e_1)} X_1 \\xrightarrow{(x, y, w)} X\\,,$$\n",
    "where the center of each blowup is indicated above the corresponding arrow. For blowup $i$ with center $(g_1, \\dotsc, g_m)$, the blowup is carried out as $g_j \\to e_i b_{i, j}$, so that $e_i = 0$ is the exceptional locus of the blowup.\n",
    "\n",
    "This sequence of blowups was worked out by Krause, Mayrhofer and Weigand in https://arxiv.org/abs/1109.3454. So we should hope that $\\texttt{FTheoryTools}$ knows this result. Indeed, your hopes are fulfilled. Let us turn to this next."
   ]
  },
  {
   "cell_type": "markdown",
   "id": "18f4dde5-a56a-4791-b96a-26239f39026a",
   "metadata": {},
   "source": [
    "# 2 Literature Models and Singularity Resolution"
   ]
  },
  {
   "cell_type": "markdown",
   "id": "70b089f4-da5d-4368-8559-132529f6e0a9",
   "metadata": {},
   "source": [
    "## 2.A Creating a Literature Model"
   ]
  },
  {
   "cell_type": "markdown",
   "id": "b487c660-744b-4e45-90c1-54cb50c45560",
   "metadata": {},
   "source": [
    "We begin by creating the above model anew. However, this time we choose a different route:\n",
    "* The above model is a well-known literature construction, and we provide specialized constructors for such standard constructions. In particular, these constructors will know about known resolutions, such as the one mentioned in the previous paragraph.\n",
    "* We create this model over a concrete base space. Thereby, we can explicitly execute the resolution in question. (At this point, we are discussing if and how this can be reliably extended to arbitrary base spaces.) For simplicity, we choose $\\mathbb{P}^3$ as our base space."
   ]
  },
  {
   "cell_type": "markdown",
   "id": "48073d07-f2ed-4efe-9c58-5601323f5909",
   "metadata": {},
   "source": [
    "With that being said, our first step in this construction is to build the base space $\\mathbb{P}^3$:"
   ]
  },
  {
   "cell_type": "code",
   "execution_count": 31,
   "id": "1b687093-aeea-4243-8c2a-db02ac458ee9",
   "metadata": {},
   "outputs": [
    {
     "data": {
      "text/plain": [
       "Normal toric variety"
      ]
     },
     "execution_count": 31,
     "metadata": {},
     "output_type": "execute_result"
    }
   ],
   "source": [
    "B3 = projective_space(NormalToricVariety, 3)"
   ]
  },
  {
   "cell_type": "markdown",
   "id": "684a9214-ea5c-4795-be37-217593788952",
   "metadata": {},
   "source": [
    "The next step is to fix the divisor $\\{ w = 0 \\} \\subset B$, over which we shall disign the $SU(5)$ gauge enhancement. It is standard to fix this locus by choice of an effective divisor (class). The logic is to subsequently pick a generic section in the associated line bundle and then consider the zero locus of a generic section of this line bundle. (Although, one can of course also consider non-generic sections!)\n",
    "\n",
    "With that being said, here is our choice of divisor class:"
   ]
  },
  {
   "cell_type": "code",
   "execution_count": 33,
   "id": "299c67a6-f21b-40c3-9685-430f42d909ce",
   "metadata": {},
   "outputs": [
    {
     "data": {
      "text/plain": [
       "Torus-invariant, prime divisor on a normal toric variety"
      ]
     },
     "execution_count": 33,
     "metadata": {},
     "output_type": "execute_result"
    }
   ],
   "source": [
    "w = torusinvariant_prime_divisors(B3)[1]"
   ]
  },
  {
   "cell_type": "markdown",
   "id": "07ceba05-c067-4fe5-be8c-a151ec5adf30",
   "metadata": {},
   "source": [
    "With these preparational steps, we can now construct this literature model as follows:"
   ]
  },
  {
   "cell_type": "code",
   "execution_count": 34,
   "id": "45e8145d-0bba-4758-bec3-5c0222834432",
   "metadata": {},
   "outputs": [
    {
     "name": "stdout",
     "output_type": "stream",
     "text": [
      "Construction over concrete base may lead to singularity enhancement. Consider computing singular_loci. However, this may take time!\n",
      "\n"
     ]
    },
    {
     "data": {
      "text/plain": [
       "Global Tate model over a concrete base -- SU(5)xU(1) restricted Tate model based on arXiv paper 1109.3454 Eq. (3.1)"
      ]
     },
     "execution_count": 34,
     "metadata": {},
     "output_type": "execute_result"
    }
   ],
   "source": [
    "t2 = literature_model(arxiv_id = \"1109.3454\", equation = \"3.1\", base_space = B3, defining_classes = Dict(\"w\" => w), completeness_check = false)"
   ]
  },
  {
   "cell_type": "markdown",
   "id": "322bb8ba-fb2b-4155-b523-f1575206f51d",
   "metadata": {},
   "source": [
    "Note that in the above case, we used the arxiv identifier of the paper in question as well as the equation number in said paper to fully specify the model that we seek to construct. Of course, other information can be provided too for the querry (DOI, section, authors, etc.). In addition, you may want to specify the model type (Weierstrass model, global Tate model, hypersurface model etc.) as multiple forms/presentations of one and the same model might be available in our database."
   ]
  },
  {
   "cell_type": "markdown",
   "id": "682b96a4-3fc0-466e-ac89-0f886fe7bcc0",
   "metadata": {},
   "source": [
    "Arguably, it can be tedious to find the arxiv number, section, paragraph, etc. Therefore, let us mention that we also support a simplified constructor for convenience. Instead of the meta data of the article, this constructor accepts an integer, which specifies the position of this model in our database. This is useful for commonly used models, whose index could be memorised. For instance, the above model is (for historic reasons) the first model in our database. Hence, we can also create it as follows (once the base $B_3$ and the divsior class $w$ have been chosen):"
   ]
  },
  {
   "cell_type": "code",
   "execution_count": 35,
   "id": "72782045-583d-4b95-94e9-8b009f9a3166",
   "metadata": {},
   "outputs": [
    {
     "name": "stdout",
     "output_type": "stream",
     "text": [
      "Construction over concrete base may lead to singularity enhancement. Consider computing singular_loci. However, this may take time!\n",
      "\n"
     ]
    },
    {
     "data": {
      "text/plain": [
       "Global Tate model over a concrete base -- SU(5)xU(1) restricted Tate model based on arXiv paper 1109.3454 Eq. (3.1)"
      ]
     },
     "execution_count": 35,
     "metadata": {},
     "output_type": "execute_result"
    }
   ],
   "source": [
    "t2 = literature_model(1, base_space = B3, defining_classes = Dict(\"w\" => w), completeness_check = false)"
   ]
  },
  {
   "cell_type": "markdown",
   "id": "5ee61749-e97d-47b6-b9ab-e1416c3e710f",
   "metadata": {},
   "source": [
    "To see if we already support your desired model and which index it has, use the following method. (And of course, if we do not yet support your desired model, please be in touch. We will then try to make it happen.)"
   ]
  },
  {
   "cell_type": "code",
   "execution_count": 36,
   "id": "9e38aaf5-fa9e-4e4e-a47a-c3245527d184",
   "metadata": {},
   "outputs": [
    {
     "name": "stdout",
     "output_type": "stream",
     "text": [
      "Model 1:\n",
      "Dict{String, Any}(\"journal_section\" => \"3\", \"arxiv_page\" => \"10\", \"arxiv_id\" => \"1109.3454\", \"arxiv_version\" => \"2\", \"journal_equation\" => \"3.1\", \"journal_page\" => \"9\", \"arxiv_equation\" => \"3.1\", \"journal_doi\" => \"10.1016/j.nuclphysb.2011.12.013\", \"arxiv_section\" => \"3\", \"journal\" => \"Nucl. Phys. B\", \"file\" => \"model1109_3454.json\", \"arxiv_doi\" => \"10.48550/arXiv.1109.3454\", \"model_index\" => \"1\", \"type\" => \"tate\")\n",
      "\n",
      "Model 2:\n",
      "Dict{String, Any}(\"journal_section\" => \"B\", \"arxiv_page\" => \"32\", \"arxiv_id\" => \"1208.2695\", \"arxiv_version\" => \"2\", \"journal_equation\" => \"B.5\", \"journal_page\" => \"33\", \"arxiv_equation\" => \"B.5\", \"journal_doi\" => \"10.1007/JHEP10(2012)128\", \"arxiv_section\" => \"B\", \"journal\" => \"JHEP\", \"file\" => \"model1208_2695-1.json\", \"arxiv_doi\" => \"10.48550/arXiv.1208.2695\", \"model_index\" => \"2\", \"type\" => \"hypersurface\")\n",
      "\n",
      "Model 3:\n",
      "Dict{String, Any}(\"journal_section\" => \"B\", \"arxiv_page\" => \"34\", \"arxiv_id\" => \"1208.2695\", \"arxiv_version\" => \"2\", \"journal_equation\" => \"B.19\", \"journal_page\" => \"34\", \"arxiv_equation\" => \"B.19\", \"journal_doi\" => \"10.1007/JHEP10(2012)128\", \"arxiv_section\" => \"B\", \"journal\" => \"JHEP\", \"file\" => \"model1208_2695-2.json\", \"arxiv_doi\" => \"10.48550/arXiv.1208.2695\", \"model_index\" => \"3\", \"type\" => \"weierstrass\")\n",
      "\n",
      "Model 4:\n",
      "Dict{String, Any}(\"journal_section\" => \"\", \"arxiv_page\" => \"19\", \"arxiv_id\" => \"1212.2949\", \"arxiv_version\" => \"2\", \"journal_equation\" => \"\", \"journal_page\" => \"\", \"arxiv_equation\" => \"3.2\", \"journal_doi\" => \"10.1007/JHEP04(2013)061\", \"arxiv_section\" => \"3.1\", \"journal\" => \"JHEP\", \"file\" => \"model1212_2949-1.json\", \"arxiv_doi\" => \"10.48550/arXiv.1212.2949\", \"model_index\" => \"4\", \"type\" => \"tate\")\n",
      "\n",
      "Model 5:\n",
      "Dict{String, Any}(\"journal_section\" => \"\", \"arxiv_page\" => \"31\", \"arxiv_id\" => \"1212.2949\", \"arxiv_version\" => \"2\", \"journal_equation\" => \"\", \"journal_page\" => \"\", \"arxiv_equation\" => \"3.42\", \"journal_doi\" => \"10.1007/JHEP04(2013)061\", \"arxiv_section\" => \"3.2\", \"journal\" => \"JHEP\", \"file\" => \"model1212_2949-2.json\", \"arxiv_doi\" => \"10.48550/arXiv.1212.2949\", \"model_index\" => \"5\", \"type\" => \"tate\")\n",
      "\n",
      "Model 6:\n",
      "Dict{String, Any}(\"journal_section\" => \"\", \"arxiv_page\" => \"37\", \"arxiv_id\" => \"1212.2949\", \"arxiv_version\" => \"2\", \"journal_equation\" => \"\", \"journal_page\" => \"\", \"arxiv_equation\" => \"4.1\", \"journal_doi\" => \"10.1007/JHEP04(2013)061\", \"arxiv_section\" => \"4.1\", \"journal\" => \"JHEP\", \"file\" => \"model1212_2949-3.json\", \"arxiv_doi\" => \"10.48550/arXiv.1212.2949\", \"model_index\" => \"6\", \"type\" => \"tate\")\n",
      "\n",
      "Model 7:\n",
      "Dict{String, Any}(\"journal_section\" => \"\", \"arxiv_page\" => \"44\", \"arxiv_id\" => \"1212.2949\", \"arxiv_version\" => \"2\", \"journal_equation\" => \"\", \"journal_page\" => \"\", \"arxiv_equation\" => \"4.23\", \"journal_doi\" => \"10.1007/JHEP04(2013)061\", \"arxiv_section\" => \"4.2\", \"journal\" => \"JHEP\", \"file\" => \"model1212_2949-4.json\", \"arxiv_doi\" => \"10.48550/arXiv.1212.2949\", \"model_index\" => \"7\", \"type\" => \"tate\")\n",
      "\n",
      "Model 8:\n",
      "Dict{String, Any}(\"journal_section\" => \"\", \"arxiv_page\" => \"49\", \"arxiv_id\" => \"1212.2949\", \"arxiv_version\" => \"2\", \"journal_equation\" => \"\", \"journal_page\" => \"\", \"arxiv_equation\" => \"5.1\", \"journal_doi\" => \"10.1007/JHEP04(2013)061\", \"arxiv_section\" => \"5.1\", \"journal\" => \"JHEP\", \"file\" => \"model1212_2949-5.json\", \"arxiv_doi\" => \"10.48550/arXiv.1212.2949\", \"model_index\" => \"8\", \"type\" => \"tate\")\n",
      "\n",
      "Model 9:\n",
      "Dict{String, Any}(\"journal_section\" => \"\", \"arxiv_page\" => \"49\", \"arxiv_id\" => \"1212.2949\", \"arxiv_version\" => \"2\", \"journal_equation\" => \"\", \"journal_page\" => \"\", \"arxiv_equation\" => \"5.7\", \"journal_doi\" => \"10.1007/JHEP04(2013)061\", \"arxiv_section\" => \"5.1\", \"journal\" => \"JHEP\", \"file\" => \"model1212_2949-6.json\", \"arxiv_doi\" => \"10.48550/arXiv.1212.2949\", \"model_index\" => \"9\", \"type\" => \"tate\")\n",
      "\n",
      "Model 10:\n",
      "Dict{String, Any}(\"journal_section\" => \"\", \"arxiv_page\" => \"49\", \"arxiv_id\" => \"1212.2949\", \"arxiv_version\" => \"2\", \"journal_equation\" => \"\", \"journal_page\" => \"\", \"arxiv_equation\" => \"5.13\", \"journal_doi\" => \"10.1007/JHEP04(2013)061\", \"arxiv_section\" => \"5.1\", \"journal\" => \"JHEP\", \"file\" => \"model1212_2949-7.json\", \"arxiv_doi\" => \"10.48550/arXiv.1212.2949\", \"model_index\" => \"10\", \"type\" => \"tate\")\n",
      "\n",
      "Model 11:\n",
      "Dict{String, Any}(\"journal_section\" => \"\", \"arxiv_page\" => \"17\", \"arxiv_id\" => \"1507.05954\", \"arxiv_version\" => \"2\", \"journal_equation\" => \"\", \"journal_page\" => \"\", \"arxiv_equation\" => \"3.4\", \"journal_doi\" => \"10.1007/JHEP11(2015)204\", \"arxiv_section\" => \"3\", \"journal\" => \"JHEP\", \"file\" => \"model1507_05954-1.json\", \"arxiv_doi\" => \"10.48550/arXiv.1507.05954\", \"model_index\" => \"11\", \"type\" => \"hypersurface\")\n",
      "\n",
      "Model 12:\n",
      "Dict{String, Any}(\"journal_section\" => \"\", \"arxiv_page\" => \"71\", \"arxiv_id\" => \"1507.05954\", \"arxiv_version\" => \"2\", \"journal_equation\" => \"\", \"journal_page\" => \"\", \"arxiv_equation\" => \"A.1\", \"journal_doi\" => \"10.1007/JHEP11(2015)204\", \"arxiv_section\" => \"A\", \"journal\" => \"JHEP\", \"file\" => \"model1507_05954-2.json\", \"arxiv_doi\" => \"10.48550/arXiv.1507.05954\", \"model_index\" => \"12\", \"type\" => \"weierstrass\")\n",
      "\n",
      "Model 13:\n",
      "Dict{String, Any}(\"journal_section\" => \"3\", \"arxiv_page\" => \"18\", \"arxiv_id\" => \"1408.4808\", \"arxiv_version\" => \"2\", \"journal_equation\" => \"3.4\", \"journal_page\" => \"19\", \"arxiv_equation\" => \"3.4\", \"journal_doi\" => \"10.1007/JHEP01(2015)142\", \"arxiv_section\" => \"3\", \"journal\" => \"JHEP\", \"file\" => \"model1408_4808-1-WSF.json\", \"arxiv_doi\" => \"10.48550/arXiv.1408.4808\", \"model_index\" => \"13\", \"type\" => \"weierstrass\")\n",
      "\n",
      "Model 13:\n",
      "Dict{String, Any}(\"journal_section\" => \"\", \"arxiv_page\" => \"2\", \"arxiv_id\" => \"1903.00009\", \"arxiv_version\" => \"3\", \"journal_equation\" => \"2\", \"journal_page\" => \"2\", \"arxiv_equation\" => \"2\", \"journal_doi\" => \"10.1103/PhysRevLett.123.101601\", \"arxiv_section\" => \"II\", \"journal\" => \"Physical Review Letters\", \"file\" => \"model1903.00009.json\", \"arxiv_doi\" => \"10.48550/arXiv.1903.00009\", \"model_index\" => \"13\", \"type\" => \"hypersurface\")\n",
      "\n",
      "Model 14:\n",
      "Dict{String, Any}(\"journal_section\" => \"3\", \"arxiv_page\" => \"18\", \"arxiv_id\" => \"1408.4808\", \"arxiv_version\" => \"2\", \"journal_equation\" => \"3.4\", \"journal_page\" => \"19\", \"arxiv_equation\" => \"3.4\", \"journal_doi\" => \"10.1007/JHEP01(2015)142\", \"arxiv_section\" => \"3\", \"journal\" => \"JHEP\", \"file\" => \"model1408_4808-1.json\", \"arxiv_doi\" => \"10.48550/arXiv.1408.4808\", \"model_index\" => \"14\", \"type\" => \"hypersurface\")\n",
      "\n",
      "Model 15:\n",
      "Dict{String, Any}(\"journal_section\" => \"3\", \"arxiv_page\" => \"20\", \"arxiv_id\" => \"1408.4808\", \"arxiv_version\" => \"2\", \"journal_equation\" => \"3.12\", \"journal_page\" => \"20\", \"arxiv_equation\" => \"3.12\", \"journal_doi\" => \"10.1007/JHEP01(2015)142\", \"arxiv_section\" => \"3\", \"journal\" => \"JHEP\", \"file\" => \"model1408_4808-2-WSF.json\", \"arxiv_doi\" => \"10.48550/arXiv.1408.4808\", \"model_index\" => \"15\", \"type\" => \"weierstrass\")\n",
      "\n",
      "Model 16:\n",
      "Dict{String, Any}(\"journal_section\" => \"3\", \"arxiv_page\" => \"20\", \"arxiv_id\" => \"1408.4808\", \"arxiv_version\" => \"2\", \"journal_equation\" => \"3.12\", \"journal_page\" => \"20\", \"arxiv_equation\" => \"3.12\", \"journal_doi\" => \"10.1007/JHEP01(2015)142\", \"arxiv_section\" => \"3\", \"journal\" => \"JHEP\", \"file\" => \"model1408_4808-2.json\", \"arxiv_doi\" => \"10.48550/arXiv.1408.4808\", \"model_index\" => \"16\", \"type\" => \"hypersurface\")\n",
      "\n",
      "Model 17:\n",
      "Dict{String, Any}(\"journal_section\" => \"3\", \"arxiv_page\" => \"36\", \"arxiv_id\" => \"1408.4808\", \"arxiv_version\" => \"2\", \"journal_equation\" => \"3.53\", \"journal_page\" => \"36\", \"arxiv_equation\" => \"3.54\", \"journal_doi\" => \"10.1007/JHEP01(2015)142\", \"arxiv_section\" => \"3\", \"journal\" => \"JHEP\", \"file\" => \"model1408_4808-3-WSF.json\", \"arxiv_doi\" => \"10.48550/arXiv.1408.4808\", \"model_index\" => \"17\", \"type\" => \"weierstrass\")\n",
      "\n",
      "Model 18:\n",
      "Dict{String, Any}(\"journal_section\" => \"3\", \"arxiv_page\" => \"36\", \"arxiv_id\" => \"1408.4808\", \"arxiv_version\" => \"2\", \"journal_equation\" => \"3.53\", \"journal_page\" => \"36\", \"arxiv_equation\" => \"3.54\", \"journal_doi\" => \"10.1007/JHEP01(2015)142\", \"arxiv_section\" => \"3\", \"journal\" => \"JHEP\", \"file\" => \"model1408_4808-3.json\", \"arxiv_doi\" => \"10.48550/arXiv.1408.4808\", \"model_index\" => \"18\", \"type\" => \"hypersurface\")\n",
      "\n",
      "Model 19:\n",
      "Dict{String, Any}(\"journal_section\" => \"3\", \"arxiv_page\" => \"22\", \"arxiv_id\" => \"1408.4808\", \"arxiv_version\" => \"2\", \"journal_equation\" => \"3.17\", \"journal_page\" => \"22\", \"arxiv_equation\" => \"3.17\", \"journal_doi\" => \"10.1007/JHEP01(2015)142\", \"arxiv_section\" => \"3\", \"journal\" => \"JHEP\", \"file\" => \"model1408_4808-4-WSF.json\", \"arxiv_doi\" => \"10.48550/arXiv.1408.4808\", \"model_index\" => \"19\", \"type\" => \"weierstrass\")\n",
      "\n",
      "Model 20:\n",
      "Dict{String, Any}(\"journal_section\" => \"3\", \"arxiv_page\" => \"22\", \"arxiv_id\" => \"1408.4808\", \"arxiv_version\" => \"2\", \"journal_equation\" => \"3.17\", \"journal_page\" => \"22\", \"arxiv_equation\" => \"3.17\", \"journal_doi\" => \"10.1007/JHEP01(2015)142\", \"arxiv_section\" => \"3\", \"journal\" => \"JHEP\", \"file\" => \"model1408_4808-4.json\", \"arxiv_doi\" => \"10.48550/arXiv.1408.4808\", \"model_index\" => \"20\", \"type\" => \"hypersurface\")\n",
      "\n",
      "Model 21:\n",
      "Dict{String, Any}(\"journal_section\" => \"3\", \"arxiv_page\" => \"43\", \"arxiv_id\" => \"1408.4808\", \"arxiv_version\" => \"2\", \"journal_equation\" => \"3.72\", \"journal_page\" => \"43\", \"arxiv_equation\" => \"3.73\", \"journal_doi\" => \"10.1007/JHEP01(2015)142\", \"arxiv_section\" => \"3\", \"journal\" => \"JHEP\", \"file\" => \"model1408_4808-5-WSF.json\", \"arxiv_doi\" => \"10.48550/arXiv.1408.4808\", \"model_index\" => \"21\", \"type\" => \"weierstrass\")\n",
      "\n",
      "Model 22:\n",
      "Dict{String, Any}(\"journal_section\" => \"3\", \"arxiv_page\" => \"43\", \"arxiv_id\" => \"1408.4808\", \"arxiv_version\" => \"2\", \"journal_equation\" => \"3.72\", \"journal_page\" => \"43\", \"arxiv_equation\" => \"3.73\", \"journal_doi\" => \"10.1007/JHEP01(2015)142\", \"arxiv_section\" => \"3\", \"journal\" => \"JHEP\", \"file\" => \"model1408_4808-5.json\", \"arxiv_doi\" => \"10.48550/arXiv.1408.4808\", \"model_index\" => \"22\", \"type\" => \"hypersurface\")\n",
      "\n",
      "Model 23:\n",
      "Dict{String, Any}(\"journal_section\" => \"3\", \"arxiv_page\" => \"46\", \"arxiv_id\" => \"1408.4808\", \"arxiv_version\" => \"2\", \"journal_equation\" => \"3.81\", \"journal_page\" => \"46\", \"arxiv_equation\" => \"3.82\", \"journal_doi\" => \"10.1007/JHEP01(2015)142\", \"arxiv_section\" => \"3\", \"journal\" => \"JHEP\", \"file\" => \"model1408_4808-6-WSF.json\", \"arxiv_doi\" => \"10.48550/arXiv.1408.4808\", \"model_index\" => \"23\", \"type\" => \"weierstrass\")\n",
      "\n",
      "Model 24:\n",
      "Dict{String, Any}(\"journal_section\" => \"3\", \"arxiv_page\" => \"46\", \"arxiv_id\" => \"1408.4808\", \"arxiv_version\" => \"2\", \"journal_equation\" => \"3.81\", \"journal_page\" => \"46\", \"arxiv_equation\" => \"3.82\", \"journal_doi\" => \"10.1007/JHEP01(2015)142\", \"arxiv_section\" => \"3\", \"journal\" => \"JHEP\", \"file\" => \"model1408_4808-6.json\", \"arxiv_doi\" => \"10.48550/arXiv.1408.4808\", \"model_index\" => \"24\", \"type\" => \"hypersurface\")\n",
      "\n",
      "Model 25:\n",
      "Dict{String, Any}(\"journal_section\" => \"3\", \"arxiv_page\" => \"50\", \"arxiv_id\" => \"1408.4808\", \"arxiv_version\" => \"2\", \"journal_equation\" => \"3.95\", \"journal_page\" => \"51\", \"arxiv_equation\" => \"3.96\", \"journal_doi\" => \"10.1007/JHEP01(2015)142\", \"arxiv_section\" => \"3\", \"journal\" => \"JHEP\", \"file\" => \"model1408_4808-7-WSF.json\", \"arxiv_doi\" => \"10.48550/arXiv.1408.4808\", \"model_index\" => \"25\", \"type\" => \"weierstrass\")\n",
      "\n",
      "Model 26:\n",
      "Dict{String, Any}(\"journal_section\" => \"3\", \"arxiv_page\" => \"50\", \"arxiv_id\" => \"1408.4808\", \"arxiv_version\" => \"2\", \"journal_equation\" => \"3.95\", \"journal_page\" => \"51\", \"arxiv_equation\" => \"3.96\", \"journal_doi\" => \"10.1007/JHEP01(2015)142\", \"arxiv_section\" => \"3\", \"journal\" => \"JHEP\", \"file\" => \"model1408_4808-7.json\", \"arxiv_doi\" => \"10.48550/arXiv.1408.4808\", \"model_index\" => \"26\", \"type\" => \"hypersurface\")\n",
      "\n",
      "Model 27:\n",
      "Dict{String, Any}(\"journal_section\" => \"3\", \"arxiv_page\" => \"54\", \"arxiv_id\" => \"1408.4808\", \"arxiv_version\" => \"2\", \"journal_equation\" => \"3.105\", \"journal_page\" => \"55\", \"arxiv_equation\" => \"3.106\", \"journal_doi\" => \"10.1007/JHEP01(2015)142\", \"arxiv_section\" => \"3\", \"journal\" => \"JHEP\", \"file\" => \"model1408_4808-8-WSF.json\", \"arxiv_doi\" => \"10.48550/arXiv.1408.4808\", \"model_index\" => \"27\", \"type\" => \"weierstrass\")\n",
      "\n",
      "Model 28:\n",
      "Dict{String, Any}(\"journal_section\" => \"3\", \"arxiv_page\" => \"54\", \"arxiv_id\" => \"1408.4808\", \"arxiv_version\" => \"2\", \"journal_equation\" => \"3.105\", \"journal_page\" => \"55\", \"arxiv_equation\" => \"3.106\", \"journal_doi\" => \"10.1007/JHEP01(2015)142\", \"arxiv_section\" => \"3\", \"journal\" => \"JHEP\", \"file\" => \"model1408_4808-8.json\", \"arxiv_doi\" => \"10.48550/arXiv.1408.4808\", \"model_index\" => \"28\", \"type\" => \"hypersurface\")\n",
      "\n",
      "Model 29:\n",
      "Dict{String, Any}(\"journal_section\" => \"3\", \"arxiv_page\" => \"58\", \"arxiv_id\" => \"1408.4808\", \"arxiv_version\" => \"2\", \"journal_equation\" => \"3.117\", \"journal_page\" => \"59\", \"arxiv_equation\" => \"3.118\", \"journal_doi\" => \"10.1007/JHEP01(2015)142\", \"arxiv_section\" => \"3\", \"journal\" => \"JHEP\", \"file\" => \"model1408_4808-9-WSF.json\", \"arxiv_doi\" => \"10.48550/arXiv.1408.4808\", \"model_index\" => \"29\", \"type\" => \"weierstrass\")\n",
      "\n",
      "Model 30:\n",
      "Dict{String, Any}(\"journal_section\" => \"3\", \"arxiv_page\" => \"58\", \"arxiv_id\" => \"1408.4808\", \"arxiv_version\" => \"2\", \"journal_equation\" => \"3.117\", \"journal_page\" => \"59\", \"arxiv_equation\" => \"3.118\", \"journal_doi\" => \"10.1007/JHEP01(2015)142\", \"arxiv_section\" => \"3\", \"journal\" => \"JHEP\", \"file\" => \"model1408_4808-9.json\", \"arxiv_doi\" => \"10.48550/arXiv.1408.4808\", \"model_index\" => \"30\", \"type\" => \"hypersurface\")\n",
      "\n",
      "Model 31:\n",
      "Dict{String, Any}(\"journal_section\" => \"3\", \"arxiv_page\" => \"62\", \"arxiv_id\" => \"1408.4808\", \"arxiv_version\" => \"2\", \"journal_equation\" => \"3.129\", \"journal_page\" => \"62\", \"arxiv_equation\" => \"3.130\", \"journal_doi\" => \"10.1007/JHEP01(2015)142\", \"arxiv_section\" => \"3\", \"journal\" => \"JHEP\", \"file\" => \"model1408_4808-10-WSF.json\", \"arxiv_doi\" => \"10.48550/arXiv.1408.4808\", \"model_index\" => \"31\", \"type\" => \"weierstrass\")\n",
      "\n",
      "Model 32:\n",
      "Dict{String, Any}(\"journal_section\" => \"3\", \"arxiv_page\" => \"62\", \"arxiv_id\" => \"1408.4808\", \"arxiv_version\" => \"2\", \"journal_equation\" => \"3.129\", \"journal_page\" => \"62\", \"arxiv_equation\" => \"3.130\", \"journal_doi\" => \"10.1007/JHEP01(2015)142\", \"arxiv_section\" => \"3\", \"journal\" => \"JHEP\", \"file\" => \"model1408_4808-10.json\", \"arxiv_doi\" => \"10.48550/arXiv.1408.4808\", \"model_index\" => \"32\", \"type\" => \"hypersurface\")\n",
      "\n",
      "Model 33:\n",
      "Dict{String, Any}(\"journal_section\" => \"3\", \"arxiv_page\" => \"67\", \"arxiv_id\" => \"1408.4808\", \"arxiv_version\" => \"2\", \"journal_equation\" => \"3.141\", \"journal_page\" => \"67\", \"arxiv_equation\" => \"3.142\", \"journal_doi\" => \"10.1007/JHEP01(2015)142\", \"arxiv_section\" => \"3\", \"journal\" => \"JHEP\", \"file\" => \"model1408_4808-11-WSF.json\", \"arxiv_doi\" => \"10.48550/arXiv.1408.4808\", \"model_index\" => \"33\", \"type\" => \"weierstrass\")\n",
      "\n",
      "Model 34:\n",
      "Dict{String, Any}(\"journal_section\" => \"3\", \"arxiv_page\" => \"67\", \"arxiv_id\" => \"1408.4808\", \"arxiv_version\" => \"2\", \"journal_equation\" => \"3.141\", \"journal_page\" => \"67\", \"arxiv_equation\" => \"3.142\", \"journal_doi\" => \"10.1007/JHEP01(2015)142\", \"arxiv_section\" => \"3\", \"journal\" => \"JHEP\", \"file\" => \"model1408_4808-11.json\", \"arxiv_doi\" => \"10.48550/arXiv.1408.4808\", \"model_index\" => \"34\", \"type\" => \"hypersurface\")\n",
      "\n",
      "Model 35:\n",
      "Dict{String, Any}(\"journal_section\" => \"3\", \"arxiv_page\" => \"70\", \"arxiv_id\" => \"1408.4808\", \"arxiv_version\" => \"2\", \"journal_equation\" => \"3.154\", \"journal_page\" => \"70\", \"arxiv_equation\" => \"3.155\", \"journal_doi\" => \"10.1007/JHEP01(2015)142\", \"arxiv_section\" => \"3\", \"journal\" => \"JHEP\", \"file\" => \"model1408_4808-12-WSF.json\", \"arxiv_doi\" => \"10.48550/arXiv.1408.4808\", \"model_index\" => \"35\", \"type\" => \"weierstrass\")\n",
      "\n",
      "Model 36:\n",
      "Dict{String, Any}(\"journal_section\" => \"3\", \"arxiv_page\" => \"70\", \"arxiv_id\" => \"1408.4808\", \"arxiv_version\" => \"2\", \"journal_equation\" => \"3.154\", \"journal_page\" => \"70\", \"arxiv_equation\" => \"3.155\", \"journal_doi\" => \"10.1007/JHEP01(2015)142\", \"arxiv_section\" => \"3\", \"journal\" => \"JHEP\", \"file\" => \"model1408_4808-12.json\", \"arxiv_doi\" => \"10.48550/arXiv.1408.4808\", \"model_index\" => \"36\", \"type\" => \"hypersurface\")\n",
      "\n",
      "Model 37:\n",
      "Dict{String, Any}(\"journal_section\" => \"3\", \"arxiv_page\" => \"79\", \"arxiv_id\" => \"1408.4808\", \"arxiv_version\" => \"2\", \"journal_equation\" => \"3.180\", \"journal_page\" => \"79\", \"arxiv_equation\" => \"3.181\", \"journal_doi\" => \"10.1007/JHEP01(2015)142\", \"arxiv_section\" => \"3\", \"journal\" => \"JHEP\", \"file\" => \"model1408_4808-13-WSF.json\", \"arxiv_doi\" => \"10.48550/arXiv.1408.4808\", \"model_index\" => \"37\", \"type\" => \"weierstrass\")\n",
      "\n",
      "Model 38:\n",
      "Dict{String, Any}(\"journal_section\" => \"3\", \"arxiv_page\" => \"79\", \"arxiv_id\" => \"1408.4808\", \"arxiv_version\" => \"2\", \"journal_equation\" => \"3.180\", \"journal_page\" => \"79\", \"arxiv_equation\" => \"3.181\", \"journal_doi\" => \"10.1007/JHEP01(2015)142\", \"arxiv_section\" => \"3\", \"journal\" => \"JHEP\", \"file\" => \"model1408_4808-13.json\", \"arxiv_doi\" => \"10.48550/arXiv.1408.4808\", \"model_index\" => \"38\", \"type\" => \"hypersurface\")\n",
      "\n",
      "Model 39:\n",
      "Dict{String, Any}(\"journal_section\" => \"3\", \"arxiv_page\" => \"75\", \"arxiv_id\" => \"1408.4808\", \"arxiv_version\" => \"2\", \"journal_equation\" => \"3.167\", \"journal_page\" => \"75\", \"arxiv_equation\" => \"3.168\", \"journal_doi\" => \"10.1007/JHEP01(2015)142\", \"arxiv_section\" => \"3\", \"journal\" => \"JHEP\", \"file\" => \"model1408_4808-14-WSF.json\", \"arxiv_doi\" => \"10.48550/arXiv.1408.4808\", \"model_index\" => \"39\", \"type\" => \"weierstrass\")\n",
      "\n",
      "Model 40:\n",
      "Dict{String, Any}(\"journal_section\" => \"3\", \"arxiv_page\" => \"75\", \"arxiv_id\" => \"1408.4808\", \"arxiv_version\" => \"2\", \"journal_equation\" => \"3.167\", \"journal_page\" => \"75\", \"arxiv_equation\" => \"3.168\", \"journal_doi\" => \"10.1007/JHEP01(2015)142\", \"arxiv_section\" => \"3\", \"journal\" => \"JHEP\", \"file\" => \"model1408_4808-14.json\", \"arxiv_doi\" => \"10.48550/arXiv.1408.4808\", \"model_index\" => \"40\", \"type\" => \"hypersurface\")\n",
      "\n",
      "Model 41:\n",
      "Dict{String, Any}(\"journal_section\" => \"3\", \"arxiv_page\" => \"83\", \"arxiv_id\" => \"1408.4808\", \"arxiv_version\" => \"2\", \"journal_equation\" => \"3.189\", \"journal_page\" => \"83\", \"arxiv_equation\" => \"3.190\", \"journal_doi\" => \"10.1007/JHEP01(2015)142\", \"arxiv_section\" => \"3\", \"journal\" => \"JHEP\", \"file\" => \"model1408_4808-15-WSF.json\", \"arxiv_doi\" => \"10.48550/arXiv.1408.4808\", \"model_index\" => \"41\", \"type\" => \"weierstrass\")\n",
      "\n",
      "Model 42:\n",
      "Dict{String, Any}(\"journal_section\" => \"3\", \"arxiv_page\" => \"83\", \"arxiv_id\" => \"1408.4808\", \"arxiv_version\" => \"2\", \"journal_equation\" => \"3.189\", \"journal_page\" => \"83\", \"arxiv_equation\" => \"3.190\", \"journal_doi\" => \"10.1007/JHEP01(2015)142\", \"arxiv_section\" => \"3\", \"journal\" => \"JHEP\", \"file\" => \"model1408_4808-15.json\", \"arxiv_doi\" => \"10.48550/arXiv.1408.4808\", \"model_index\" => \"42\", \"type\" => \"hypersurface\")\n",
      "\n",
      "Model 43:\n",
      "Dict{String, Any}(\"journal_section\" => \"3\", \"arxiv_page\" => \"87\", \"arxiv_id\" => \"1408.4808\", \"arxiv_version\" => \"2\", \"journal_equation\" => \"3.202\", \"journal_page\" => \"88\", \"arxiv_equation\" => \"3.203\", \"journal_doi\" => \"10.1007/JHEP01(2015)142\", \"arxiv_section\" => \"3\", \"journal\" => \"JHEP\", \"file\" => \"model1408_4808-16-WSF.json\", \"arxiv_doi\" => \"10.48550/arXiv.1408.4808\", \"model_index\" => \"43\", \"type\" => \"weierstrass\")\n",
      "\n",
      "Model 44:\n",
      "Dict{String, Any}(\"journal_section\" => \"3\", \"arxiv_page\" => \"87\", \"arxiv_id\" => \"1408.4808\", \"arxiv_version\" => \"2\", \"journal_equation\" => \"3.202\", \"journal_page\" => \"88\", \"arxiv_equation\" => \"3.203\", \"journal_doi\" => \"10.1007/JHEP01(2015)142\", \"arxiv_section\" => \"3\", \"journal\" => \"JHEP\", \"file\" => \"model1408_4808-16.json\", \"arxiv_doi\" => \"10.48550/arXiv.1408.4808\", \"model_index\" => \"44\", \"type\" => \"hypersurface\")\n",
      "\n"
     ]
    }
   ],
   "source": [
    "display_all_literature_models()"
   ]
  },
  {
   "cell_type": "markdown",
   "id": "df4e5147-fab0-4728-a953-40ea62cb332c",
   "metadata": {},
   "source": [
    "## 2.B Attributes and Properties of Literature Models"
   ]
  },
  {
   "cell_type": "markdown",
   "id": "7825ff51-c832-4b77-bd26-b6d624a4a3aa",
   "metadata": {},
   "source": [
    "Of course, the now constructed model knows about its origins in the literature:"
   ]
  },
  {
   "cell_type": "code",
   "execution_count": 37,
   "id": "0309af3c-fe33-4a9c-bcda-3c7c5c91d5b3",
   "metadata": {},
   "outputs": [
    {
     "data": {
      "text/plain": [
       "\"1109.3454\""
      ]
     },
     "execution_count": 37,
     "metadata": {},
     "output_type": "execute_result"
    }
   ],
   "source": [
    "arxiv_id(t2)"
   ]
  },
  {
   "cell_type": "code",
   "execution_count": 38,
   "id": "32304579-563f-477e-8304-3317e07f3b91",
   "metadata": {},
   "outputs": [
    {
     "data": {
      "text/plain": [
       "3-element Vector{String}:\n",
       " \"Sven Krause\"\n",
       " \"Christoph Mayrhofer\"\n",
       " \"Timo Weigand\""
      ]
     },
     "execution_count": 38,
     "metadata": {},
     "output_type": "execute_result"
    }
   ],
   "source": [
    "paper_authors(t2)"
   ]
  },
  {
   "cell_type": "code",
   "execution_count": 39,
   "id": "a595ebbc-7a4b-4c9b-b03d-77a4c2c93157",
   "metadata": {},
   "outputs": [
    {
     "data": {
      "text/plain": [
       "\"\\$G_4\\$ flux, chiral matter and singularity resolution in F-theory compactifications\""
      ]
     },
     "execution_count": 39,
     "metadata": {},
     "output_type": "execute_result"
    }
   ],
   "source": [
    "paper_title(t2)"
   ]
  },
  {
   "cell_type": "code",
   "execution_count": 40,
   "id": "32232806-f0e1-43f7-9d90-5593fdc94caa",
   "metadata": {},
   "outputs": [
    {
     "data": {
      "text/plain": [
       "\"SU(5)xU(1) restricted Tate model\""
      ]
     },
     "execution_count": 40,
     "metadata": {},
     "output_type": "execute_result"
    }
   ],
   "source": [
    "model_description(t2)"
   ]
  },
  {
   "cell_type": "markdown",
   "id": "54170d79-d3f9-40eb-827c-a202d56f4d01",
   "metadata": {},
   "source": [
    "You could also ask this model about this gauge algebra:"
   ]
  },
  {
   "cell_type": "code",
   "execution_count": 58,
   "id": "a96ff5b3-ce74-4673-b1da-1fb895e2221f",
   "metadata": {},
   "outputs": [
    {
     "data": {
      "text/plain": [
       "2-element Vector{LinearLieAlgebra{QQBarFieldElem}}:\n",
       " Special linear Lie algebra of degree 5 over QQBar\n",
       " Linear Lie algebra with 1x1 matrices over QQBar"
      ]
     },
     "execution_count": 58,
     "metadata": {},
     "output_type": "execute_result"
    }
   ],
   "source": [
    "gauge_algebra(t2)"
   ]
  },
  {
   "cell_type": "markdown",
   "id": "d04d46a4-6fc1-4a49-9550-5ef84618df6c",
   "metadata": {},
   "source": [
    "You should have expected a direct sum of two Lie algebras here. Indeed, this is the correct answer and will very soon be available in $\\texttt{OCSAR}$ (and thereby, in $\\texttt{FTheoryTools}$). However, for now we will have to make do with a list of the summands.\n",
    "\n",
    "But of course, we can also just compute \"standard\" information:"
   ]
  },
  {
   "cell_type": "code",
   "execution_count": 60,
   "id": "a97f3664-af2b-4844-9179-e672f6aef30b",
   "metadata": {},
   "outputs": [
    {
     "data": {
      "text/plain": [
       "2-element Vector{Tuple{MPolyIdeal{<:MPolyRingElem}, Tuple{Int64, Int64, Int64}, String}}:\n",
       " (Ideal with 1 generator, (0, 0, 1), \"I_1\")\n",
       " (Ideal (x1), (0, 0, 5), \"Split I_5\")"
      ]
     },
     "execution_count": 60,
     "metadata": {},
     "output_type": "execute_result"
    }
   ],
   "source": [
    "singular_loci(t2)"
   ]
  },
  {
   "cell_type": "code",
   "execution_count": 61,
   "id": "dbf0ba37-7022-4692-829d-98026ddd0ae3",
   "metadata": {},
   "outputs": [
    {
     "data": {
      "text/plain": [
       "2"
      ]
     },
     "execution_count": 61,
     "metadata": {},
     "output_type": "execute_result"
    }
   ],
   "source": [
    "length(singular_loci(t2))"
   ]
  },
  {
   "cell_type": "code",
   "execution_count": 62,
   "id": "4a4a8810-2e2c-4852-bac6-b3d66ca316e8",
   "metadata": {},
   "outputs": [
    {
     "data": {
      "text/plain": [
       "Normal, 3-dimensional toric variety without torusfactor"
      ]
     },
     "execution_count": 62,
     "metadata": {},
     "output_type": "execute_result"
    }
   ],
   "source": [
    "base_space(t2)"
   ]
  },
  {
   "cell_type": "code",
   "execution_count": 63,
   "id": "4dbcde29-8110-4850-bb69-f22add537583",
   "metadata": {},
   "outputs": [
    {
     "data": {
      "text/plain": [
       "Multivariate polynomial ring in 4 variables over QQ graded by\n",
       "  x1 -> [1]\n",
       "  x2 -> [1]\n",
       "  x3 -> [1]\n",
       "  x4 -> [1]"
      ]
     },
     "execution_count": 63,
     "metadata": {},
     "output_type": "execute_result"
    }
   ],
   "source": [
    "cox_ring(base_space(t2))"
   ]
  },
  {
   "cell_type": "code",
   "execution_count": 64,
   "id": "c708dd62-1c1c-4870-a313-0a3bc36c9708",
   "metadata": {},
   "outputs": [
    {
     "data": {
      "text/plain": [
       "Multivariate polynomial ring in 7 variables over QQ graded by\n",
       "  x1 -> [1 0]\n",
       "  x2 -> [1 0]\n",
       "  x3 -> [1 0]\n",
       "  x4 -> [1 0]\n",
       "  x -> [8 2]\n",
       "  y -> [12 3]\n",
       "  z -> [0 1]"
      ]
     },
     "execution_count": 64,
     "metadata": {},
     "output_type": "execute_result"
    }
   ],
   "source": [
    "cox_ring(ambient_space(t2))"
   ]
  },
  {
   "cell_type": "markdown",
   "id": "5ed9cfce-9ed8-4a47-8310-1f299efc5c84",
   "metadata": {},
   "source": [
    "Crucially, the model *t2* has information about resolutions that have been worked out in the literature. In the case at hand:"
   ]
  },
  {
   "cell_type": "code",
   "execution_count": 65,
   "id": "3f71acf4-81fb-41e1-a373-5acccb64f4e3",
   "metadata": {},
   "outputs": [
    {
     "data": {
      "text/plain": [
       "1-element Vector{Vector{Vector}}:\n",
       " [[[\"x\", \"y\", \"w\"], [\"y\", \"e1\"], [\"x\", \"e4\"], [\"y\", \"e2\"], [\"x\", \"y\"]], [\"e1\", \"e4\", \"e2\", \"e3\", \"s\"]]"
      ]
     },
     "execution_count": 65,
     "metadata": {},
     "output_type": "execute_result"
    }
   ],
   "source": [
    "resolutions(t2)"
   ]
  },
  {
   "cell_type": "markdown",
   "id": "978370ef-9c5e-47a3-9d7b-2c340735f551",
   "metadata": {},
   "source": [
    "We will now make use of this to resolve the model automatically. It is worth computing the Tate polynomial here, so we can compare it to the hypersurface equation after the reslutions have been exectuted."
   ]
  },
  {
   "cell_type": "code",
   "execution_count": 66,
   "id": "99c39c24-8f31-4068-9c83-951b66acc2b6",
   "metadata": {},
   "outputs": [
    {
     "data": {
      "text/plain": [
       "-8974786287317906363*x1^16*x*z^4 + 8020474379942420368*x1^15*x2*x*z^4 + 7696158387514534752*x1^15*x3*x*z^4 + 6827399067703185627*x1^15*x4*x*z^4 + 6247867115047556345*x1^14*x2^2*x*z^4 + 6598798257711740631*x1^14*x2*x3*x*z^4 + 8527172367977488724*x1^14*x2*x4*x*z^4 + 4653152480284972424*x1^14*x3^2*x*z^4 + 7443116538886649886*x1^14*x3*x4*x*z^4 - 387309480728093951*x1^14*x4^2*x*z^4 - 6883227671813522651*x1^13*x2^3*x*z^4 - 2550924625914035221*x1^13*x2^2*x3*x*z^4 + 1896492134922121658*x1^13*x2^2*x4*x*z^4 + 8788411033650322595*x1^13*x2*x3^2*x*z^4 + 231705900538414326*x1^13*x2*x3*x4*x*z^4 - 7428091323460016536*x1^13*x2*x4^2*x*z^4 - 1987294885071195085*x1^13*x3^3*x*z^4 + 554476860053983472*x1^13*x3^2*x4*x*z^4 + 218428167288776695*x1^13*x3*x4^2*x*z^4 - 2181344497863380116*x1^13*x4^3*x*z^4 + 1258764406932162492*x1^12*x2^4*x*z^4 - 7269658068236401906*x1^12*x2^3*x3*x*z^4 - 7079901800834740116*x1^12*x2^3*x4*x*z^4 + 7069534833519984721*x1^12*x2^2*x3^2*x*z^4 - 8130473554113409265*x1^12*x2^2*x3*x4*x*z^4 + 8206384814729670170*x1^12*x2^2*x4^2*x*z^4 - 4966657929429402834*x1^12*x2*x3^3*x*z^4 - 7686504305160546487*x1^12*x2*x3^2*x4*x*z^4 - 6254223850285643994*x1^12*x2*x3*x4^2*x*z^4 + 2531269079833714258*x1^12*x2*x4^3*x*z^4 - 5600616836711004497*x1^12*x3^4*x*z^4 + 5583003782202347143*x1^12*x3^3*x4*x*z^4 + 2038711530801493301*x1^12*x3^2*x4^2*x*z^4 - 2894700760343990708*x1^12*x3*x4^3*x*z^4 - 4165713968877438055*x1^12*x4^4*x*z^4 - 6747273690547630908*x1^12*y*z^3 + 108901321781440360*x1^11*x2^5*x*z^4 - 569010217657622976*x1^11*x2^4*x3*x*z^4 + 4717777807137685140*x1^11*x2^4*x4*x*z^4 - 2284213988430507421*x1^11*x2^3*x3^2*x*z^4 - 552813349567258479*x1^11*x2^3*x3*x4*x*z^4 - 2868559118737522492*x1^11*x2^3*x4^2*x*z^4 - 7399565525195653116*x1^11*x2^2*x3^3*x*z^4 - 2162963920259275957*x1^11*x2^2*x3^2*x4*x*z^4 - 4533081926357703877*x1^11*x2^2*x3*x4^2*x*z^4 - 4126204629120650939*x1^11*x2^2*x4^3*x*z^4 + 5679619449537591750*x1^11*x2*x3^4*x*z^4 - 2522288304387685416*x1^11*x2*x3^3*x4*x*z^4 + 8395962819176633737*x1^11*x2*x3^2*x4^2*x*z^4 - 6777724065775844048*x1^11*x2*x3*x4^3*x*z^4 + 1110420730291000056*x1^11*x2*x4^4*x*z^4 + 1743499246140867940*x1^11*x2*y*z^3 + 3072919419399119074*x1^11*x3^5*x*z^4 - 8473336953687397422*x1^11*x3^4*x4*x*z^4 - 8368155438040405431*x1^11*x3^3*x4^2*x*z^4 - 8498595880208849546*x1^11*x3^2*x4^3*x*z^4 - 3502202948775982112*x1^11*x3*x4^4*x*z^4 + 7440936472008295937*x1^11*x3*y*z^3 - 1347605043098238370*x1^11*x4^5*x*z^4 + 6285826257584861189*x1^11*x4*y*z^3 - 7380050337560687328*x1^10*x2^6*x*z^4 - 237518227567162071*x1^10*x2^5*x3*x*z^4 + 9101887861098942419*x1^10*x2^5*x4*x*z^4 - 7489389349637913645*x1^10*x2^4*x3^2*x*z^4 + 3065588536020504779*x1^10*x2^4*x3*x4*x*z^4 + 7308221538091619526*x1^10*x2^4*x4^2*x*z^4 - 5499899735210874373*x1^10*x2^3*x3^3*x*z^4 - 1176917415527077818*x1^10*x2^3*x3^2*x4*x*z^4 + 1757586508515486602*x1^10*x2^3*x3*x4^2*x*z^4 + 8854570499160854277*x1^10*x2^3*x4^3*x*z^4 + 5064394259858124911*x1^10*x2^2*x3^4*x*z^4 + 6056105588126845295*x1^10*x2^2*x3^3*x4*x*z^4 + 5106387270259035965*x1^10*x2^2*x3^2*x4^2*x*z^4 - 305269661585118910*x1^10*x2^2*x3*x4^3*x*z^4 - 4425380267190000249*x1^10*x2^2*x4^4*x*z^4 + 1208608387280929239*x1^10*x2^2*y*z^3 + 1110040923829390480*x1^10*x2*x3^5*x*z^4 - 5534502119891752873*x1^10*x2*x3^4*x4*x*z^4 - 6477429889173606790*x1^10*x2*x3^3*x4^2*x*z^4 - 3248775067000468415*x1^10*x2*x3^2*x4^3*x*z^4 + 5654141414574497726*x1^10*x2*x3*x4^4*x*z^4 - 7806902439826125128*x1^10*x2*x3*y*z^3 + 1239104089243244432*x1^10*x2*x4^5*x*z^4 - 8263402024071493200*x1^10*x2*x4*y*z^3 + 2904328564389617607*x1^10*x3^6*x*z^4 - 8690661546145299725*x1^10*x3^5*x4*x*z^4 + 7563647728905690630*x1^10*x3^4*x4^2*x*z^4 - 3482075804590012224*x1^10*x3^3*x4^3*x*z^4 - 7027959198466139348*x1^10*x3^2*x4^4*x*z^4 - 6212596611928317742*x1^10*x3^2*y*z^3 - 298256258309908220*x1^10*x3*x4^5*x*z^4 - 5168941854172164418*x1^10*x3*x4*y*z^3 - 5741612820219222241*x1^10*x4^6*x*z^4 + 2191633540815376202*x1^10*x4^2*y*z^3 + 211236465659009515*x1^9*x2^7*x*z^4 - 520511597371134298*x1^9*x2^6*x3*x*z^4 - 3812759214223077437*x1^9*x2^6*x4*x*z^4 - 6601240646177410131*x1^9*x2^5*x3^2*x*z^4 + 3000197352238090847*x1^9*x2^5*x3*x4*x*z^4 + 6280113094015005751*x1^9*x2^5*x4^2*x*z^4 - 875960690401653458*x1^9*x2^4*x3^3*x*z^4 - 5797333456219266903*x1^9*x2^4*x3^2*x4*x*z^4 - 2070424220054597955*x1^9*x2^4*x3*x4^2*x*z^4 + 5324869439106573123*x1^9*x2^4*x4^3*x*z^4 - 4613119520546030333*x1^9*x2^3*x3^4*x*z^4 + 6808454706623806867*x1^9*x2^3*x3^3*x4*x*z^4 + 3479332200051545968*x1^9*x2^3*x3^2*x4^2*x*z^4 + 3491814446051396750*x1^9*x2^3*x3*x4^3*x*z^4 + 1647229382674588943*x1^9*x2^3*x4^4*x*z^4 + 185019901504530800*x1^9*x2^3*y*z^3 + 241489905701639415*x1^9*x2^2*x3^5*x*z^4 - 4613138663416428546*x1^9*x2^2*x3^4*x4*x*z^4 + 8899087953539189122*x1^9*x2^2*x3^3*x4^2*x*z^4 + 3927269289333788465*x1^9*x2^2*x3^2*x4^3*x*z^4 - 1865712662200682293*x1^9*x2^2*x3*x4^4*x*z^4 - 199444310609721930*x1^9*x2^2*x3*y*z^3 - 5297824410781204795*x1^9*x2^2*x4^5*x*z^4 - 647241422027896740*x1^9*x2^2*x4*y*z^3 + 7697388095996213272*x1^9*x2*x3^6*x*z^4 - 1107981296465398763*x1^9*x2*x3^5*x4*x*z^4 - 2387713725822717173*x1^9*x2*x3^4*x4^2*x*z^4 + 5608391230435534677*x1^9*x2*x3^3*x4^3*x*z^4 - 8800123358093291363*x1^9*x2*x3^2*x4^4*x*z^4 - 2028707748605544383*x1^9*x2*x3^2*y*z^3 - 699329187065465145*x1^9*x2*x3*x4^5*x*z^4 - 3140216263791656980*x1^9*x2*x3*x4*y*z^3 + 2772200344576517155*x1^9*x2*x4^6*x*z^4 + 4431558152305286896*x1^9*x2*x4^2*y*z^3 - 3285228958066186618*x1^9*x3^7*x*z^4 - 1767445606855139306*x1^9*x3^6*x4*x*z^4 + 474097492541888541*x1^9*x3^5*x4^2*x*z^4 + 942066468292821338*x1^9*x3^4*x4^3*x*z^4 + 2540248544348029621*x1^9*x3^3*x4^4*x*z^4 - 3624223196052704474*x1^9*x3^3*y*z^3 - 4283664376790344035*x1^9*x3^2*x4^5*x*z^4 + 5096428731974064785*x1^9*x3^2*x4*y*z^3 - 3517949437114404039*x1^9*x3*x4^6*x*z^4 - 3289559696958886093*x1^9*x3*x4^2*y*z^3 + 7361689153367155498*x1^9*x4^7*x*z^4 - 1275670807668547695*x1^9*x4^3*y*z^3 - 4964208444939945263*x1^8*x2^8*x*z^4 + 7354107569958550075*x1^8*x2^7*x3*x*z^4 + 5772884355471371551*x1^8*x2^7*x4*x*z^4 - 3664067899283784355*x1^8*x2^6*x3^2*x*z^4 - 8292270434186533727*x1^8*x2^6*x3*x4*x*z^4 + 4472748138650449078*x1^8*x2^6*x4^2*x*z^4 - 1844735921744372003*x1^8*x2^5*x3^3*x*z^4 - 7182381235573191556*x1^8*x2^5*x3^2*x4*x*z^4 - 7427621600276213022*x1^8*x2^5*x3*x4^2*x*z^4 + 4086893111585241301*x1^8*x2^5*x4^3*x*z^4 - 6232683806106593745*x1^8*x2^4*x3^4*x*z^4 + 6393881118112114909*x1^8*x2^4*x3^3*x4*x*z^4 + 4434074295161265420*x1^8*x2^4*x3^2*x4^2*x*z^4 - 6023293913093537610*x1^8*x2^4*x3*x4^3*x*z^4 + 7266626342768060108*x1^8*x2^4*x4^4*x*z^4 + 4607682222894763905*x1^8*x2^4*y*z^3 - 1484474233701355741*x1^8*x2^3*x3^5*x*z^4 - 454216735868086334*x1^8*x2^3*x3^4*x4*x*z^4 + 2597085803325387974*x1^8*x2^3*x3^3*x4^2*x*z^4 + 8180382517105557196*x1^8*x2^3*x3^2*x4^3*x*z^4 - 1606309201535022902*x1^8*x2^3*x3*x4^4*x*z^4 + 3455497273744570087*x1^8*x2^3*x3*y*z^3 - 7557204916745504176*x1^8*x2^3*x4^5*x*z^4 + 2149836945975503907*x1^8*x2^3*x4*y*z^3 - 4031399798236355825*x1^8*x2^2*x3^6*x*z^4 + 94830524996908763*x1^8*x2^2*x3^5*x4*x*z^4 - 7187487173244455608*x1^8*x2^2*x3^4*x4^2*x*z^4 - 3641110514667451871*x1^8*x2^2*x3^3*x4^3*x*z^4 + 739146770684793157*x1^8*x2^2*x3^2*x4^4*x*z^4 - 7744322300808001020*x1^8*x2^2*x3^2*y*z^3 - 3797931324400487096*x1^8*x2^2*x3*x4^5*x*z^4 - 6937635235088734055*x1^8*x2^2*x3*x4*y*z^3 - 8999476369118160830*x1^8*x2^2*x4^6*x*z^4 + 1317251513305180807*x1^8*x2^2*x4^2*y*z^3 - 4460452425480029029*x1^8*x2*x3^7*x*z^4 - 482925396666405270*x1^8*x2*x3^6*x4*x*z^4 - 78730906772059611*x1^8*x2*x3^5*x4^2*x*z^4 + 8166997205754046163*x1^8*x2*x3^4*x4^3*x*z^4 - 84333851566648077*x1^8*x2*x3^3*x4^4*x*z^4 + 7896370545282907460*x1^8*x2*x3^3*y*z^3 + 8158212457241439545*x1^8*x2*x3^2*x4^5*x*z^4 + 168132004130070711*x1^8*x2*x3^2*x4*y*z^3 - 1407859558446590100*x1^8*x2*x3*x4^6*x*z^4 + 8465884365795878643*x1^8*x2*x3*x4^2*y*z^3 - 737123718026287276*x1^8*x2*x4^7*x*z^4 + 4367316257199823305*x1^8*x2*x4^3*y*z^3 - 8542150947187245031*x1^8*x3^8*x*z^4 + 6868948278639608986*x1^8*x3^7*x4*x*z^4 + 6950665194269233814*x1^8*x3^6*x4^2*x*z^4 + 8602087200840986098*x1^8*x3^5*x4^3*x*z^4 + 3686356555060585634*x1^8*x3^4*x4^4*x*z^4 + 8438859562339836220*x1^8*x3^4*y*z^3 + 6593914451407155609*x1^8*x3^3*x4^5*x*z^4 - 4549294503677138063*x1^8*x3^3*x4*y*z^3 - 1541531021256238816*x1^8*x3^2*x4^6*x*z^4 + 4197393261272652070*x1^8*x3^2*x4^2*y*z^3 + 9048494045104463374*x1^8*x3*x4^7*x*z^4 + 8363149938407192445*x1^8*x3*x4^3*y*z^3 - 4730129522565383455*x1^8*x4^8*x*z^4 + 5192594223125057943*x1^8*x4^4*y*z^3 - 2124311494975591498*x1^8*x^2*z^2 - 6006190775200810855*x1^7*x2^9*x*z^4 + 2052494350027189464*x1^7*x2^8*x3*x*z^4 + 8729875415584635434*x1^7*x2^8*x4*x*z^4 + 7961269560356716626*x1^7*x2^7*x3^2*x*z^4 - 7146671765796701760*x1^7*x2^7*x3*x4*x*z^4 + 251123910498263773*x1^7*x2^7*x4^2*x*z^4 - 7194868790379071422*x1^7*x2^6*x3^3*x*z^4 + 1296505471290495245*x1^7*x2^6*x3^2*x4*x*z^4 + 1018336768421503093*x1^7*x2^6*x3*x4^2*x*z^4 - 939140853427818880*x1^7*x2^6*x4^3*x*z^4 - 8293031885899168935*x1^7*x2^5*x3^4*x*z^4 + 7404925994308609943*x1^7*x2^5*x3^3*x4*x*z^4 - 5951762579034879413*x1^7*x2^5*x3^2*x4^2*x*z^4 + 5331313661817487997*x1^7*x2^5*x3*x4^3*x*z^4 - 6493678575410611333*x1^7*x2^5*x4^4*x*z^4 - 4424712015310460823*x1^7*x2^5*y*z^3 + 2512158994753388495*x1^7*x2^4*x3^5*x*z^4 + 1432806137588623960*x1^7*x2^4*x3^4*x4*x*z^4 + 2149238519913964876*x1^7*x2^4*x3^3*x4^2*x*z^4 + 8893761605347983372*x1^7*x2^4*x3^2*x4^3*x*z^4 + 4060115585079662158*x1^7*x2^4*x3*x4^4*x*z^4 - 2845658364478083130*x1^7*x2^4*x3*y*z^3 - 6111616369613987791*x1^7*x2^4*x4^5*x*z^4 + 3112609957548313057*x1^7*x2^4*x4*y*z^3 + 2619519856378189128*x1^7*x2^3*x3^6*x*z^4 - 1426173182405610549*x1^7*x2^3*x3^5*x4*x*z^4 + 4273261075904307*x1^7*x2^3*x3^4*x4^2*x*z^4 - 1088660674657845412*x1^7*x2^3*x3^3*x4^3*x*z^4 + 3225830086151195793*x1^7*x2^3*x3^2*x4^4*x*z^4 - 1846480593346103166*x1^7*x2^3*x3^2*y*z^3 + 248775523635999740*x1^7*x2^3*x3*x4^5*x*z^4 - 7398812595298774239*x1^7*x2^3*x3*x4*y*z^3 - 5088526010254214084*x1^7*x2^3*x4^6*x*z^4 - 7382213604897573019*x1^7*x2^3*x4^2*y*z^3 - 5230354004535883712*x1^7*x2^2*x3^7*x*z^4 + 8479278981226022659*x1^7*x2^2*x3^6*x4*x*z^4 - 1532332278040688963*x1^7*x2^2*x3^5*x4^2*x*z^4 - 5322116540660615282*x1^7*x2^2*x3^4*x4^3*x*z^4 + 7461233336322539301*x1^7*x2^2*x3^3*x4^4*x*z^4 + 5442828350518994369*x1^7*x2^2*x3^3*y*z^3 + 8251880884479888408*x1^7*x2^2*x3^2*x4^5*x*z^4 + 5360463487262051492*x1^7*x2^2*x3^2*x4*y*z^3 + 2923010879038574168*x1^7*x2^2*x3*x4^6*x*z^4 - 4681366290760696904*x1^7*x2^2*x3*x4^2*y*z^3 + 8348113486234612677*x1^7*x2^2*x4^7*x*z^4 + 6812271071203269513*x1^7*x2^2*x4^3*y*z^3 - 8910030579199985450*x1^7*x2*x3^8*x*z^4 - 5073287992690787102*x1^7*x2*x3^7*x4*x*z^4 - 1719271745916854939*x1^7*x2*x3^6*x4^2*x*z^4 + 3327556793630992274*x1^7*x2*x3^5*x4^3*x*z^4 + 2385440842345952646*x1^7*x2*x3^4*x4^4*x*z^4 - 1278398404877851054*x1^7*x2*x3^4*y*z^3 - 5158258333314933316*x1^7*x2*x3^3*x4^5*x*z^4 - 4990006086599239433*x1^7*x2*x3^3*x4*y*z^3 + 9162555463254599004*x1^7*x2*x3^2*x4^6*x*z^4 + 7312715418222435365*x1^7*x2*x3^2*x4^2*y*z^3 + 3305447343364313798*x1^7*x2*x3*x4^7*x*z^4 + 7812939418009830213*x1^7*x2*x3*x4^3*y*z^3 - 5197228640683020566*x1^7*x2*x4^8*x*z^4 + 2055095343929896749*x1^7*x2*x4^4*y*z^3 - 7021745598665827075*x1^7*x2*x^2*z^2 - 2347930387304510717*x1^7*x3^9*x*z^4 + 2112268604200083346*x1^7*x3^8*x4*x*z^4 - 5877058357785031467*x1^7*x3^7*x4^2*x*z^4 + 551199893912562388*x1^7*x3^6*x4^3*x*z^4 - 969660879980161847*x1^7*x3^5*x4^4*x*z^4 - 3395304945383020218*x1^7*x3^5*y*z^3 - 6374900304938344847*x1^7*x3^4*x4^5*x*z^4 + 6528878544089966744*x1^7*x3^4*x4*y*z^3 + 1641740789712619184*x1^7*x3^3*x4^6*x*z^4 + 8476796105557209883*x1^7*x3^3*x4^2*y*z^3 - 576380412514327946*x1^7*x3^2*x4^7*x*z^4 - 8430805011683544197*x1^7*x3^2*x4^3*y*z^3 - 3597052483910479928*x1^7*x3*x4^8*x*z^4 - 5677214184394182470*x1^7*x3*x4^4*y*z^3 + 9176360561711414082*x1^7*x3*x^2*z^2 - 6732493183538816140*x1^7*x4^9*x*z^4 + 6260271116252953998*x1^7*x4^5*y*z^3 - 222514679631047070*x1^7*x4*x^2*z^2 + 9071869937304420830*x1^6*x2^10*x*z^4 - 2564129645184261449*x1^6*x2^9*x3*x*z^4 - 1024106379780292112*x1^6*x2^9*x4*x*z^4 - 1530077723493968264*x1^6*x2^8*x3^2*x*z^4 - 344607972823544616*x1^6*x2^8*x3*x4*x*z^4 - 3690957002604332458*x1^6*x2^8*x4^2*x*z^4 + 5962114696619929653*x1^6*x2^7*x3^3*x*z^4 - 7254046085849652422*x1^6*x2^7*x3^2*x4*x*z^4 + 6363659685185073900*x1^6*x2^7*x3*x4^2*x*z^4 + 5505016629008189827*x1^6*x2^7*x4^3*x*z^4 + 8830863427368726674*x1^6*x2^6*x3^4*x*z^4 - 683776166054708397*x1^6*x2^6*x3^3*x4*x*z^4 - 8404719878193385784*x1^6*x2^6*x3^2*x4^2*x*z^4 + 5114856885901273489*x1^6*x2^6*x3*x4^3*x*z^4 + 3884592912560438330*x1^6*x2^6*x4^4*x*z^4 - 1235581803317752124*x1^6*x2^6*y*z^3 - 5910072483890451504*x1^6*x2^5*x3^5*x*z^4 + 1504015900269623676*x1^6*x2^5*x3^4*x4*x*z^4 + 1836439160470644064*x1^6*x2^5*x3^3*x4^2*x*z^4 + 2175410708166542588*x1^6*x2^5*x3^2*x4^3*x*z^4 + 1861294078290759138*x1^6*x2^5*x3*x4^4*x*z^4 - 626181744438152446*x1^6*x2^5*x3*y*z^3 + 8481576739681715926*x1^6*x2^5*x4^5*x*z^4 + 3220220530564710299*x1^6*x2^5*x4*y*z^3 + 7194753609662800818*x1^6*x2^4*x3^6*x*z^4 - 709816876043859814*x1^6*x2^4*x3^5*x4*x*z^4 - 163207612502775740*x1^6*x2^4*x3^4*x4^2*x*z^4 + 7975575531981980768*x1^6*x2^4*x3^3*x4^3*x*z^4 + 4198181921752891389*x1^6*x2^4*x3^2*x4^4*x*z^4 - 5753020544186833410*x1^6*x2^4*x3^2*y*z^3 + 4075555880220274997*x1^6*x2^4*x3*x4^5*x*z^4 + 2916515027480061505*x1^6*x2^4*x3*x4*y*z^3 - 6440386580335626528*x1^6*x2^4*x4^6*x*z^4 - 8530796926850789076*x1^6*x2^4*x4^2*y*z^3 - 2009799962013360242*x1^6*x2^3*x3^7*x*z^4 + 6907495206039695204*x1^6*x2^3*x3^6*x4*x*z^4 - 9135153701935017490*x1^6*x2^3*x3^5*x4^2*x*z^4 - 5061237086639376528*x1^6*x2^3*x3^4*x4^3*x*z^4 + 6053603952882552708*x1^6*x2^3*x3^3*x4^4*x*z^4 - 4904327257937152944*x1^6*x2^3*x3^3*y*z^3 - 1705570864788965350*x1^6*x2^3*x3^2*x4^5*x*z^4 - 4436142984703389878*x1^6*x2^3*x3^2*x4*y*z^3 + 6675823114214447202*x1^6*x2^3*x3*x4^6*x*z^4 - 2324982946763936149*x1^6*x2^3*x3*x4^2*y*z^3 - 3225439098598871162*x1^6*x2^3*x4^7*x*z^4 + 5964141555123705952*x1^6*x2^3*x4^3*y*z^3 - 9063052321058298623*x1^6*x2^2*x3^8*x*z^4 - 6757729207032848695*x1^6*x2^2*x3^7*x4*x*z^4 - 4019376888207914847*x1^6*x2^2*x3^6*x4^2*x*z^4 - 6921388007701892644*x1^6*x2^2*x3^5*x4^3*x*z^4 + 7112624422225897415*x1^6*x2^2*x3^4*x4^4*x*z^4 + 1633684583875781200*x1^6*x2^2*x3^4*y*z^3 + 7081467888704256828*x1^6*x2^2*x3^3*x4^5*x*z^4 - 9080405177916493881*x1^6*x2^2*x3^3*x4*y*z^3 + 7172634454521385533*x1^6*x2^2*x3^2*x4^6*x*z^4 - 1178332927075287527*x1^6*x2^2*x3^2*x4^2*y*z^3 - 6574851912623523996*x1^6*x2^2*x3*x4^7*x*z^4 - 8849566656957257934*x1^6*x2^2*x3*x4^3*y*z^3 + 8580245164142196568*x1^6*x2^2*x4^8*x*z^4 - 2061973877177210657*x1^6*x2^2*x4^4*y*z^3 + 764339376554189034*x1^6*x2^2*x^2*z^2 - 4880839088093933467*x1^6*x2*x3^9*x*z^4 + 4184949820678652517*x1^6*x2*x3^8*x4*x*z^4 - 8789110366897214519*x1^6*x2*x3^7*x4^2*x*z^4 - 5977079057506939873*x1^6*x2*x3^6*x4^3*x*z^4 - 4556168427875331171*x1^6*x2*x3^5*x4^4*x*z^4 + 1655206302408477952*x1^6*x2*x3^5*y*z^3 + 3077534404628841890*x1^6*x2*x3^4*x4^5*x*z^4 - 7975359043891826244*x1^6*x2*x3^4*x4*y*z^3 + 6914870341006420770*x1^6*x2*x3^3*x4^6*x*z^4 - 8394152978829359625*x1^6*x2*x3^3*x4^2*y*z^3 + 321565082559519312*x1^6*x2*x3^2*x4^7*x*z^4 - 1034159674142002677*x1^6*x2*x3^2*x4^3*y*z^3 - 3912474526755398196*x1^6*x2*x3*x4^8*x*z^4 - 483304524891650346*x1^6*x2*x3*x4^4*y*z^3 - 6675896163193621752*x1^6*x2*x3*x^2*z^2 - 7174533955170727991*x1^6*x2*x4^9*x*z^4 + 3205648756599731707*x1^6*x2*x4^5*y*z^3 - 4264046168742095711*x1^6*x2*x4*x^2*z^2 - 2578109965820954914*x1^6*x3^10*x*z^4 - 5784476431665942811*x1^6*x3^9*x4*x*z^4 + 8235722657883764212*x1^6*x3^8*x4^2*x*z^4 + 2456492311509197999*x1^6*x3^7*x4^3*x*z^4 + 8572058795580704225*x1^6*x3^6*x4^4*x*z^4 - 2372156721324721747*x1^6*x3^6*y*z^3 - 422863314169891529*x1^6*x3^5*x4^5*x*z^4 - 7167674206139864483*x1^6*x3^5*x4*y*z^3 + 2388004146769830741*x1^6*x3^4*x4^6*x*z^4 - 5002555048551657155*x1^6*x3^4*x4^2*y*z^3 + 7788202921694483947*x1^6*x3^3*x4^7*x*z^4 - 630818773473480449*x1^6*x3^3*x4^3*y*z^3 + 7820753795899005667*x1^6*x3^2*x4^8*x*z^4 - 3771314160038604066*x1^6*x3^2*x4^4*y*z^3 - 6285407757229936755*x1^6*x3^2*x^2*z^2 - 192852751128963125*x1^6*x3*x4^9*x*z^4 - 6807857806271911878*x1^6*x3*x4^5*y*z^3 + 6490168719935650284*x1^6*x3*x4*x^2*z^2 + 1291497933343307846*x1^6*x4^10*x*z^4 - 8937807632866956026*x1^6*x4^6*y*z^3 + 1950543886583678745*x1^6*x4^2*x^2*z^2 + 226074582907448950*x1^5*x2^11*x*z^4 - 8693733695685179290*x1^5*x2^10*x3*x*z^4 + 2949626309327707779*x1^5*x2^10*x4*x*z^4 + 2099903305696991936*x1^5*x2^9*x3^2*x*z^4 + 8676641176086271466*x1^5*x2^9*x3*x4*x*z^4 - 1033994419618244908*x1^5*x2^9*x4^2*x*z^4 + 1376022128404809690*x1^5*x2^8*x3^3*x*z^4 - 5155962943340317309*x1^5*x2^8*x3^2*x4*x*z^4 - 7673844905094841489*x1^5*x2^8*x3*x4^2*x*z^4 - 1975281764994446581*x1^5*x2^8*x4^3*x*z^4 - 1175587425907867136*x1^5*x2^7*x3^4*x*z^4 - 867372539158289379*x1^5*x2^7*x3^3*x4*x*z^4 - 1157928443682126727*x1^5*x2^7*x3^2*x4^2*x*z^4 + 8098263848388791114*x1^5*x2^7*x3*x4^3*x*z^4 + 873062949960813913*x1^5*x2^7*x4^4*x*z^4 + 6017754239911657654*x1^5*x2^7*y*z^3 - 2107933071629352286*x1^5*x2^6*x3^5*x*z^4 + 7455831339758290860*x1^5*x2^6*x3^4*x4*x*z^4 + 2812748152336984762*x1^5*x2^6*x3^3*x4^2*x*z^4 + 267819134216300693*x1^5*x2^6*x3^2*x4^3*x*z^4 + 2008128507835428906*x1^5*x2^6*x3*x4^4*x*z^4 - 7804951046300405796*x1^5*x2^6*x3*y*z^3 - 3506860545881460511*x1^5*x2^6*x4^5*x*z^4 + 4368007446955429981*x1^5*x2^6*x4*y*z^3 - 6604683902112366258*x1^5*x2^5*x3^6*x*z^4 - 1187100494290676320*x1^5*x2^5*x3^5*x4*x*z^4 - 6969150919699295414*x1^5*x2^5*x3^4*x4^2*x*z^4 - 8038228086292730298*x1^5*x2^5*x3^3*x4^3*x*z^4 + 7758889989859438742*x1^5*x2^5*x3^2*x4^4*x*z^4 - 5655110386820966817*x1^5*x2^5*x3^2*y*z^3 - 3243732513996077005*x1^5*x2^5*x3*x4^5*x*z^4 - 7956634094871393984*x1^5*x2^5*x3*x4*y*z^3 + 1960462494142366584*x1^5*x2^5*x4^6*x*z^4 - 8902058233982082284*x1^5*x2^5*x4^2*y*z^3 - 3460328771445958269*x1^5*x2^4*x3^7*x*z^4 + 9056262546584036355*x1^5*x2^4*x3^6*x4*x*z^4 - 1044777897330197268*x1^5*x2^4*x3^5*x4^2*x*z^4 - 8485328342172614051*x1^5*x2^4*x3^4*x4^3*x*z^4 + 1124386936073394368*x1^5*x2^4*x3^3*x4^4*x*z^4 + 7527670779737094647*x1^5*x2^4*x3^3*y*z^3 + 5953012068615746433*x1^5*x2^4*x3^2*x4^5*x*z^4 - 5208205966361740847*x1^5*x2^4*x3^2*x4*y*z^3 - 7040292676663005897*x1^5*x2^4*x3*x4^6*x*z^4 - 1338026481702853067*x1^5*x2^4*x3*x4^2*y*z^3 - 2778285894177382477*x1^5*x2^4*x4^7*x*z^4 + 852193025234912677*x1^5*x2^4*x4^3*y*z^3 + 5003129263491876153*x1^5*x2^3*x3^8*x*z^4 + 1415321157644755472*x1^5*x2^3*x3^7*x4*x*z^4 - 938929184820144103*x1^5*x2^3*x3^6*x4^2*x*z^4 - 8259005590441507662*x1^5*x2^3*x3^5*x4^3*x*z^4 - 7630108255784163083*x1^5*x2^3*x3^4*x4^4*x*z^4 + 3233362251148074049*x1^5*x2^3*x3^4*y*z^3 + 1578441455100315618*x1^5*x2^3*x3^3*x4^5*x*z^4 - 7798190056218972338*x1^5*x2^3*x3^3*x4*y*z^3 + 6909572187304191861*x1^5*x2^3*x3^2*x4^6*x*z^4 + 2488816356925003608*x1^5*x2^3*x3^2*x4^2*y*z^3 - 4341885086385768949*x1^5*x2^3*x3*x4^7*x*z^4 - 5845003446567676476*x1^5*x2^3*x3*x4^3*y*z^3 + 4966763923901587636*x1^5*x2^3*x4^8*x*z^4 + 7723028748655372083*x1^5*x2^3*x4^4*y*z^3 + 2450288160298729025*x1^5*x2^3*x^2*z^2 + 8690304904251313524*x1^5*x2^2*x3^9*x*z^4 + 550420984066665398*x1^5*x2^2*x3^8*x4*x*z^4 - 708929290406332732*x1^5*x2^2*x3^7*x4^2*x*z^4 - 6292699125259780212*x1^5*x2^2*x3^6*x4^3*x*z^4 - 6016379306559591291*x1^5*x2^2*x3^5*x4^4*x*z^4 - 4978406625822681428*x1^5*x2^2*x3^5*y*z^3 - 5439440650949382881*x1^5*x2^2*x3^4*x4^5*x*z^4 - 7483595270090700012*x1^5*x2^2*x3^4*x4*y*z^3 - 1330042617839661875*x1^5*x2^2*x3^3*x4^6*x*z^4 + 785369986819136117*x1^5*x2^2*x3^3*x4^2*y*z^3 - 8418942731734539748*x1^5*x2^2*x3^2*x4^7*x*z^4 + 1420435011791894136*x1^5*x2^2*x3^2*x4^3*y*z^3 + 993260359510520497*x1^5*x2^2*x3*x4^8*x*z^4 + 6024253138418174531*x1^5*x2^2*x3*x4^4*y*z^3 - 7948429962739146612*x1^5*x2^2*x3*x^2*z^2 - 4480769256568822904*x1^5*x2^2*x4^9*x*z^4 - 6878712290439009999*x1^5*x2^2*x4^5*y*z^3 - 2939708165635064838*x1^5*x2^2*x4*x^2*z^2 + 4514843656092272381*x1^5*x2*x3^10*x*z^4 - 2681511573897437953*x1^5*x2*x3^9*x4*x*z^4 - 69028619637482018*x1^5*x2*x3^8*x4^2*x*z^4 + 9072312755642949684*x1^5*x2*x3^7*x4^3*x*z^4 - 8295365394469472584*x1^5*x2*x3^6*x4^4*x*z^4 - 3119509428789840490*x1^5*x2*x3^6*y*z^3 + 5284869019382084533*x1^5*x2*x3^5*x4^5*x*z^4 - 223160942347841440*x1^5*x2*x3^5*x4*y*z^3 + 5553154877585604298*x1^5*x2*x3^4*x4^6*x*z^4 + 636176526747391107*x1^5*x2*x3^4*x4^2*y*z^3 - 7178745550255943891*x1^5*x2*x3^3*x4^7*x*z^4 + 6076518427113318074*x1^5*x2*x3^3*x4^3*y*z^3 - 1017535520497076728*x1^5*x2*x3^2*x4^8*x*z^4 + 6596360741722977186*x1^5*x2*x3^2*x4^4*y*z^3 - 1863093104633661849*x1^5*x2*x3^2*x^2*z^2 - 2847928788938653577*x1^5*x2*x3*x4^9*x*z^4 + 2261165941419561489*x1^5*x2*x3*x4^5*y*z^3 - 1780522720715169146*x1^5*x2*x3*x4*x^2*z^2 + 1246381153353227619*x1^5*x2*x4^10*x*z^4 - 2428529627342471432*x1^5*x2*x4^6*y*z^3 - 3229558613336252951*x1^5*x2*x4^2*x^2*z^2 - 503832461174769443*x1^5*x3^11*x*z^4 - 3613948757618006696*x1^5*x3^10*x4*x*z^4 - 8474771821264293634*x1^5*x3^9*x4^2*x*z^4 + 7484982830376609666*x1^5*x3^8*x4^3*x*z^4 - 8621485991009527571*x1^5*x3^7*x4^4*x*z^4 + 5032062757441251321*x1^5*x3^7*y*z^3 + 3107333268667099151*x1^5*x3^6*x4^5*x*z^4 + 7422750268168229924*x1^5*x3^6*x4*y*z^3 - 2374663427989248625*x1^5*x3^5*x4^6*x*z^4 - 1250457601692050544*x1^5*x3^5*x4^2*y*z^3 + 8845120486039905981*x1^5*x3^4*x4^7*x*z^4 - 1162104576507393831*x1^5*x3^4*x4^3*y*z^3 + 1450835865693453129*x1^5*x3^3*x4^8*x*z^4 + 4651799972907845563*x1^5*x3^3*x4^4*y*z^3 + 2775117734114800276*x1^5*x3^3*x^2*z^2 + 6745420982349943444*x1^5*x3^2*x4^9*x*z^4 + 593507722895237088*x1^5*x3^2*x4^5*y*z^3 + 2150063266135359033*x1^5*x3^2*x4*x^2*z^2 - 1067206632728267109*x1^5*x3*x4^10*x*z^4 - 7759000724578164575*x1^5*x3*x4^6*y*z^3 - 2478446404563073001*x1^5*x3*x4^2*x^2*z^2 - 2421159488017750284*x1^5*x4^11*x*z^4 - 4486237910107494410*x1^5*x4^7*y*z^3 - 567128299182973095*x1^5*x4^3*x^2*z^2 + 7812254984700084268*x1^4*x2^12*x*z^4 - 3096776736022139855*x1^4*x2^11*x3*x*z^4 - 3226756917719268018*x1^4*x2^11*x4*x*z^4 - 8389973133502527791*x1^4*x2^10*x3^2*x*z^4 - 3866497511252400201*x1^4*x2^10*x3*x4*x*z^4 + 6699311398427371401*x1^4*x2^10*x4^2*x*z^4 - 3845492923718898440*x1^4*x2^9*x3^3*x*z^4 + 1358364645490466376*x1^4*x2^9*x3^2*x4*x*z^4 + 71700046244015438*x1^4*x2^9*x3*x4^2*x*z^4 + 2902196052799063168*x1^4*x2^9*x4^3*x*z^4 + 6427241356209243675*x1^4*x2^8*x3^4*x*z^4 - 6964773151229097044*x1^4*x2^8*x3^3*x4*x*z^4 + 4083243828029488868*x1^4*x2^8*x3^2*x4^2*x*z^4 + 8918907388628652108*x1^4*x2^8*x3*x4^3*x*z^4 - 906127238108126857*x1^4*x2^8*x4^4*x*z^4 + 1571753298384550883*x1^4*x2^8*y*z^3 + 4997331519961488461*x1^4*x2^7*x3^5*x*z^4 + 1938345154953205264*x1^4*x2^7*x3^4*x4*x*z^4 + 8625007756062521701*x1^4*x2^7*x3^3*x4^2*x*z^4 + 175134986084178740*x1^4*x2^7*x3^2*x4^3*x*z^4 - 5391246505171434871*x1^4*x2^7*x3*x4^4*x*z^4 + 6623315885837052995*x1^4*x2^7*x3*y*z^3 - 2101991741855651494*x1^4*x2^7*x4^5*x*z^4 + 7298160565916647410*x1^4*x2^7*x4*y*z^3 - 8983191883995305793*x1^4*x2^6*x3^6*x*z^4 - 8946562715105358316*x1^4*x2^6*x3^5*x4*x*z^4 + 2697600330705243314*x1^4*x2^6*x3^4*x4^2*x*z^4 + 3778046685605765087*x1^4*x2^6*x3^3*x4^3*x*z^4 + 3226530227305214535*x1^4*x2^6*x3^2*x4^4*x*z^4 - 7217945056372823538*x1^4*x2^6*x3^2*y*z^3 - 1362485111215428677*x1^4*x2^6*x3*x4^5*x*z^4 - 4482115462308602644*x1^4*x2^6*x3*x4*y*z^3 - 4420635130364248078*x1^4*x2^6*x4^6*x*z^4 - 7635070583587702592*x1^4*x2^6*x4^2*y*z^3 + 4187826717461641067*x1^4*x2^5*x3^7*x*z^4 - 4208562309752872557*x1^4*x2^5*x3^6*x4*x*z^4 - 3626293142102821740*x1^4*x2^5*x3^5*x4^2*x*z^4 + 9048494273281227071*x1^4*x2^5*x3^4*x4^3*x*z^4 + 8064222946349920130*x1^4*x2^5*x3^3*x4^4*x*z^4 - 5387813446923486679*x1^4*x2^5*x3^3*y*z^3 - 828535604974188077*x1^4*x2^5*x3^2*x4^5*x*z^4 - 8068055021995049336*x1^4*x2^5*x3^2*x4*y*z^3 + 6606050980334310979*x1^4*x2^5*x3*x4^6*x*z^4 - 6463208942975332731*x1^4*x2^5*x3*x4^2*y*z^3 - 4422705616932325*x1^4*x2^5*x4^7*x*z^4 - 3182506862247993237*x1^4*x2^5*x4^3*y*z^3 + 6141451554668461929*x1^4*x2^4*x3^8*x*z^4 - 6782001263843740656*x1^4*x2^4*x3^7*x4*x*z^4 - 3001000970319935637*x1^4*x2^4*x3^6*x4^2*x*z^4 + 8740263298354828117*x1^4*x2^4*x3^5*x4^3*x*z^4 + 1410323860155411908*x1^4*x2^4*x3^4*x4^4*x*z^4 + 4603214900482970172*x1^4*x2^4*x3^4*y*z^3 + 8833387973088555203*x1^4*x2^4*x3^3*x4^5*x*z^4 + 8626183628643620950*x1^4*x2^4*x3^3*x4*y*z^3 - 4574541157571388182*x1^4*x2^4*x3^2*x4^6*x*z^4 - 2551085717666209949*x1^4*x2^4*x3^2*x4^2*y*z^3 + 5275078440199470685*x1^4*x2^4*x3*x4^7*x*z^4 - 5489701560537496541*x1^4*x2^4*x3*x4^3*y*z^3 - 2018329436561497025*x1^4*x2^4*x4^8*x*z^4 - 6819701913936219357*x1^4*x2^4*x4^4*y*z^3 - 6461808508472556853*x1^4*x2^4*x^2*z^2 - 2972711378963162665*x1^4*x2^3*x3^9*x*z^4 + 3993329533645551336*x1^4*x2^3*x3^8*x4*x*z^4 - 9212917576347284665*x1^4*x2^3*x3^7*x4^2*x*z^4 - 6561218261585207318*x1^4*x2^3*x3^6*x4^3*x*z^4 - 1132899557181997607*x1^4*x2^3*x3^5*x4^4*x*z^4 + 8314486913327886105*x1^4*x2^3*x3^5*y*z^3 + 237895013581399182*x1^4*x2^3*x3^4*x4^5*x*z^4 - 7925751831900551696*x1^4*x2^3*x3^4*x4*y*z^3 + 8407216094083932932*x1^4*x2^3*x3^3*x4^6*x*z^4 - 5853433057538541743*x1^4*x2^3*x3^3*x4^2*y*z^3 + 8875910638747963953*x1^4*x2^3*x3^2*x4^7*x*z^4 - 3867202813084099777*x1^4*x2^3*x3^2*x4^3*y*z^3 + 4060133363662967688*x1^4*x2^3*x3*x4^8*x*z^4 + 4356651772909775087*x1^4*x2^3*x3*x4^4*y*z^3 - 8577940734123569465*x1^4*x2^3*x3*x^2*z^2 + 4913114855712050975*x1^4*x2^3*x4^9*x*z^4 + 5849541146485898457*x1^4*x2^3*x4^5*y*z^3 + 4202771373149898502*x1^4*x2^3*x4*x^2*z^2 - 1582681880379427085*x1^4*x2^2*x3^10*x*z^4 + 6801262258976082438*x1^4*x2^2*x3^9*x4*x*z^4 - 3306805139505348500*x1^4*x2^2*x3^8*x4^2*x*z^4 + 999273177147566861*x1^4*x2^2*x3^7*x4^3*x*z^4 - 2893726582915517700*x1^4*x2^2*x3^6*x4^4*x*z^4 - 7875975857020404722*x1^4*x2^2*x3^6*y*z^3 + 2162270362789558177*x1^4*x2^2*x3^5*x4^5*x*z^4 + 1545083240908145189*x1^4*x2^2*x3^5*x4*y*z^3 + 7548939131518811635*x1^4*x2^2*x3^4*x4^6*x*z^4 + 6453692304079742693*x1^4*x2^2*x3^4*x4^2*y*z^3 - 7152199232099541208*x1^4*x2^2*x3^3*x4^7*x*z^4 + 6792656464531881027*x1^4*x2^2*x3^3*x4^3*y*z^3 + 2550202837608138030*x1^4*x2^2*x3^2*x4^8*x*z^4 - 6073759546500952569*x1^4*x2^2*x3^2*x4^4*y*z^3 + 2066361778128794754*x1^4*x2^2*x3^2*x^2*z^2 - 7222863078914893596*x1^4*x2^2*x3*x4^9*x*z^4 + 101954511413373440*x1^4*x2^2*x3*x4^5*y*z^3 + 6868174578773977701*x1^4*x2^2*x3*x4*x^2*z^2 - 2712321242361143351*x1^4*x2^2*x4^10*x*z^4 - 8959856051281206122*x1^4*x2^2*x4^6*y*z^3 + 2696878375512235976*x1^4*x2^2*x4^2*x^2*z^2 + 1791049658725891811*x1^4*x2*x3^11*x*z^4 + 1275328630013625063*x1^4*x2*x3^10*x4*x*z^4 + 7568890142390250018*x1^4*x2*x3^9*x4^2*x*z^4 + 325001044252830135*x1^4*x2*x3^8*x4^3*x*z^4 - 4047905523993615996*x1^4*x2*x3^7*x4^4*x*z^4 + 7981698637079091402*x1^4*x2*x3^7*y*z^3 + 3546402990494905490*x1^4*x2*x3^6*x4^5*x*z^4 + 922081810731798827*x1^4*x2*x3^6*x4*y*z^3 - 1476803273767371166*x1^4*x2*x3^5*x4^6*x*z^4 + 391330928725089403*x1^4*x2*x3^5*x4^2*y*z^3 - 757900351974136559*x1^4*x2*x3^4*x4^7*x*z^4 + 6542161074576655536*x1^4*x2*x3^4*x4^3*y*z^3 - 3829365267647404443*x1^4*x2*x3^3*x4^8*x*z^4 + 4415636728894376253*x1^4*x2*x3^3*x4^4*y*z^3 + 316267427037856582*x1^4*x2*x3^3*x^2*z^2 + 2936364005666080599*x1^4*x2*x3^2*x4^9*x*z^4 + 8135063249141690788*x1^4*x2*x3^2*x4^5*y*z^3 + 3604859155847710761*x1^4*x2*x3^2*x4*x^2*z^2 - 5090205294576351092*x1^4*x2*x3*x4^10*x*z^4 + 6979870288327045571*x1^4*x2*x3*x4^6*y*z^3 - 4631014949994120315*x1^4*x2*x3*x4^2*x^2*z^2 + 3299951271636643913*x1^4*x2*x4^11*x*z^4 + 5463654742022746933*x1^4*x2*x4^7*y*z^3 - 3120169585385346559*x1^4*x2*x4^3*x^2*z^2 + 2154772644023938023*x1^4*x3^12*x*z^4 + 8192787614418199347*x1^4*x3^11*x4*x*z^4 - 158301427915296368*x1^4*x3^10*x4^2*x*z^4 - 6186693784346489149*x1^4*x3^9*x4^3*x*z^4 + 1704522981090052134*x1^4*x3^8*x4^4*x*z^4 - 6471069017709163323*x1^4*x3^8*y*z^3 - 6909529584071970257*x1^4*x3^7*x4^5*x*z^4 + 1895649785995751311*x1^4*x3^7*x4*y*z^3 + 9075776229128614261*x1^4*x3^6*x4^6*x*z^4 - 3871826164895316907*x1^4*x3^6*x4^2*y*z^3 - 1543669047943148879*x1^4*x3^5*x4^7*x*z^4 + 2469464669283691763*x1^4*x3^5*x4^3*y*z^3 - 6527743954016454616*x1^4*x3^4*x4^8*x*z^4 - 4101077219737398909*x1^4*x3^4*x4^4*y*z^3 - 2703729432714745290*x1^4*x3^4*x^2*z^2 - 8131492886222333684*x1^4*x3^3*x4^9*x*z^4 - 3322540206685492442*x1^4*x3^3*x4^5*y*z^3 - 3581502179007767285*x1^4*x3^3*x4*x^2*z^2 + 3337726991625879689*x1^4*x3^2*x4^10*x*z^4 - 7929688952914670920*x1^4*x3^2*x4^6*y*z^3 - 2930079119351740850*x1^4*x3^2*x4^2*x^2*z^2 - 8057880963581276918*x1^4*x3*x4^11*x*z^4 - 6457622700922916573*x1^4*x3*x4^7*y*z^3 + 1274799223677769273*x1^4*x3*x4^3*x^2*z^2 + 7860317209591745681*x1^4*x4^12*x*z^4 - 6096923144399634593*x1^4*x4^8*y*z^3 + 4570409402958896577*x1^4*x4^4*x^2*z^2 - 2926677337408393438*x1^4*x*y*z + 4052650767456511168*x1^3*x2^13*x*z^4 + 2904134360120053504*x1^3*x2^12*x3*x*z^4 + 2166988411947891056*x1^3*x2^12*x4*x*z^4 + 8515946679500667710*x1^3*x2^11*x3^2*x*z^4 - 4568254146727155537*x1^3*x2^11*x3*x4*x*z^4 - 6309411382963355854*x1^3*x2^11*x4^2*x*z^4 + 240757678680696962*x1^3*x2^10*x3^3*x*z^4 - 231554380411886636*x1^3*x2^10*x3^2*x4*x*z^4 + 3957211307063700105*x1^3*x2^10*x3*x4^2*x*z^4 + 5502651499683771924*x1^3*x2^10*x4^3*x*z^4 + 3919499937109107610*x1^3*x2^9*x3^4*x*z^4 + 1420532461015922435*x1^3*x2^9*x3^3*x4*x*z^4 - 660184396938343971*x1^3*x2^9*x3^2*x4^2*x*z^4 + 8273275020635966598*x1^3*x2^9*x3*x4^3*x*z^4 - 2791816686269754300*x1^3*x2^9*x4^4*x*z^4 + 2900736293536040798*x1^3*x2^9*y*z^3 - 6216631235737020211*x1^3*x2^8*x3^5*x*z^4 + 6005121458869686037*x1^3*x2^8*x3^4*x4*x*z^4 + 7907718316201115640*x1^3*x2^8*x3^3*x4^2*x*z^4 - 3817964608473068149*x1^3*x2^8*x3^2*x4^3*x*z^4 + 4268823776212325446*x1^3*x2^8*x3*x4^4*x*z^4 + 4554880803203062440*x1^3*x2^8*x3*y*z^3 + 6646921372573921912*x1^3*x2^8*x4^5*x*z^4 - 8942011341817734285*x1^3*x2^8*x4*y*z^3 - 4623305718307534985*x1^3*x2^7*x3^6*x*z^4 - 7579521811130168897*x1^3*x2^7*x3^5*x4*x*z^4 - 2028693535084817391*x1^3*x2^7*x3^4*x4^2*x*z^4 + 2985699397216490004*x1^3*x2^7*x3^3*x4^3*x*z^4 + 1200813063745026475*x1^3*x2^7*x3^2*x4^4*x*z^4 + 7975063879830780954*x1^3*x2^7*x3^2*y*z^3 + 7083463553651411295*x1^3*x2^7*x3*x4^5*x*z^4 + 4996168360029695499*x1^3*x2^7*x3*x4*y*z^3 + 4690343501029633753*x1^3*x2^7*x4^6*x*z^4 - 1088844432548012990*x1^3*x2^7*x4^2*y*z^3 + 1830546804402504668*x1^3*x2^6*x3^7*x*z^4 - 1621880001790911714*x1^3*x2^6*x3^6*x4*x*z^4 - 2076729749354659722*x1^3*x2^6*x3^5*x4^2*x*z^4 - 4220662428939143766*x1^3*x2^6*x3^4*x4^3*x*z^4 - 3714737806112589480*x1^3*x2^6*x3^3*x4^4*x*z^4 - 2025403833518833170*x1^3*x2^6*x3^3*y*z^3 + 8520895325146482897*x1^3*x2^6*x3^2*x4^5*x*z^4 - 6725855921242761463*x1^3*x2^6*x3^2*x4*y*z^3 - 7581767449689943063*x1^3*x2^6*x3*x4^6*x*z^4 - 7986823852534847443*x1^3*x2^6*x3*x4^2*y*z^3 + 2052092221594026623*x1^3*x2^6*x4^7*x*z^4 - 2428443466319868651*x1^3*x2^6*x4^3*y*z^3 - 1774793482650522875*x1^3*x2^5*x3^8*x*z^4 + 3394018715993900407*x1^3*x2^5*x3^7*x4*x*z^4 - 4658764469020136250*x1^3*x2^5*x3^6*x4^2*x*z^4 - 9128543157699552395*x1^3*x2^5*x3^5*x4^3*x*z^4 + 7438136184377401719*x1^3*x2^5*x3^4*x4^4*x*z^4 + 2904569297072494722*x1^3*x2^5*x3^4*y*z^3 - 991109972268159293*x1^3*x2^5*x3^3*x4^5*x*z^4 - 8330039859059272324*x1^3*x2^5*x3^3*x4*y*z^3 + 8186691923907911263*x1^3*x2^5*x3^2*x4^6*x*z^4 + 5106079908076364541*x1^3*x2^5*x3^2*x4^2*y*z^3 + 6419523575443075324*x1^3*x2^5*x3*x4^7*x*z^4 + 8521366949127882141*x1^3*x2^5*x3*x4^3*y*z^3 + 8763000940537211202*x1^3*x2^5*x4^8*x*z^4 - 9039491227516431446*x1^3*x2^5*x4^4*y*z^3 - 2087276839864699458*x1^3*x2^5*x^2*z^2 + 5005840744812393111*x1^3*x2^4*x3^9*x*z^4 + 2139572725416080496*x1^3*x2^4*x3^8*x4*x*z^4 - 778497372092986899*x1^3*x2^4*x3^7*x4^2*x*z^4 + 4935247607307019007*x1^3*x2^4*x3^6*x4^3*x*z^4 - 5098299357361386686*x1^3*x2^4*x3^5*x4^4*x*z^4 - 5316652296286384288*x1^3*x2^4*x3^5*y*z^3 - 8897417809141029897*x1^3*x2^4*x3^4*x4^5*x*z^4 - 4807409026842169052*x1^3*x2^4*x3^4*x4*y*z^3 + 4027487864482800706*x1^3*x2^4*x3^3*x4^6*x*z^4 - 5632399948075691160*x1^3*x2^4*x3^3*x4^2*y*z^3 - 8115610314593012593*x1^3*x2^4*x3^2*x4^7*x*z^4 - 3674321613428519778*x1^3*x2^4*x3^2*x4^3*y*z^3 - 1045333432776867448*x1^3*x2^4*x3*x4^8*x*z^4 - 7506918571155904642*x1^3*x2^4*x3*x4^4*y*z^3 + 6962837958702982198*x1^3*x2^4*x3*x^2*z^2 + 3842750180946607092*x1^3*x2^4*x4^9*x*z^4 + 5631525732928585283*x1^3*x2^4*x4^5*y*z^3 - 3658326251161210382*x1^3*x2^4*x4*x^2*z^2 - 7515296771123563872*x1^3*x2^3*x3^10*x*z^4 + 6017029678329688023*x1^3*x2^3*x3^9*x4*x*z^4 - 3129061108836353487*x1^3*x2^3*x3^8*x4^2*x*z^4 - 4485119004390396286*x1^3*x2^3*x3^7*x4^3*x*z^4 + 4262377187436768894*x1^3*x2^3*x3^6*x4^4*x*z^4 + 3580227887097171392*x1^3*x2^3*x3^6*y*z^3 - 7464461821551913576*x1^3*x2^3*x3^5*x4^5*x*z^4 - 5367971688179555139*x1^3*x2^3*x3^5*x4*y*z^3 - 4631257172918377049*x1^3*x2^3*x3^4*x4^6*x*z^4 - 8703085007586491984*x1^3*x2^3*x3^4*x4^2*y*z^3 + 2010032403099859932*x1^3*x2^3*x3^3*x4^7*x*z^4 - 6935078946635072599*x1^3*x2^3*x3^3*x4^3*y*z^3 - 7179352766625432128*x1^3*x2^3*x3^2*x4^8*x*z^4 - 4591207145215335889*x1^3*x2^3*x3^2*x4^4*y*z^3 - 1038609382456821100*x1^3*x2^3*x3^2*x^2*z^2 - 6452749981369739590*x1^3*x2^3*x3*x4^9*x*z^4 + 2321985748975188224*x1^3*x2^3*x3*x4^5*y*z^3 - 7990720695050792218*x1^3*x2^3*x3*x4*x^2*z^2 - 5252375928254120789*x1^3*x2^3*x4^10*x*z^4 - 8206855548794056234*x1^3*x2^3*x4^6*y*z^3 + 7610685020420598106*x1^3*x2^3*x4^2*x^2*z^2 - 4955191413663471272*x1^3*x2^2*x3^11*x*z^4 + 2029232273226984907*x1^3*x2^2*x3^10*x4*x*z^4 + 9163991489278473098*x1^3*x2^2*x3^9*x4^2*x*z^4 + 2018871425274119988*x1^3*x2^2*x3^8*x4^3*x*z^4 + 7947443835370922924*x1^3*x2^2*x3^7*x4^4*x*z^4 + 6408306361200868938*x1^3*x2^2*x3^7*y*z^3 - 338534654800505947*x1^3*x2^2*x3^6*x4^5*x*z^4 - 6575852858163675273*x1^3*x2^2*x3^6*x4*y*z^3 - 6956232188737114321*x1^3*x2^2*x3^5*x4^6*x*z^4 + 5936927981211891822*x1^3*x2^2*x3^5*x4^2*y*z^3 - 7876473899592214348*x1^3*x2^2*x3^4*x4^7*x*z^4 + 2272614731836793868*x1^3*x2^2*x3^4*x4^3*y*z^3 - 1703895909547954244*x1^3*x2^2*x3^3*x4^8*x*z^4 + 5044117496962945756*x1^3*x2^2*x3^3*x4^4*y*z^3 + 8667283627915725736*x1^3*x2^2*x3^3*x^2*z^2 + 5354529379863530253*x1^3*x2^2*x3^2*x4^9*x*z^4 + 3492043592264862426*x1^3*x2^2*x3^2*x4^5*y*z^3 - 3569589666903669126*x1^3*x2^2*x3^2*x4*x^2*z^2 + 5488360251001977622*x1^3*x2^2*x3*x4^10*x*z^4 + 5749243865750071743*x1^3*x2^2*x3*x4^6*y*z^3 + 3712491377497329818*x1^3*x2^2*x3*x4^2*x^2*z^2 + 3343925437613961147*x1^3*x2^2*x4^11*x*z^4 - 5387025563005610819*x1^3*x2^2*x4^7*y*z^3 - 8168221503028415203*x1^3*x2^2*x4^3*x^2*z^2 + 2856181387906526956*x1^3*x2*x3^12*x*z^4 - 3790952589104746286*x1^3*x2*x3^11*x4*x*z^4 - 5809074833642169853*x1^3*x2*x3^10*x4^2*x*z^4 + 6576606456252440876*x1^3*x2*x3^9*x4^3*x*z^4 + 6182009431024390245*x1^3*x2*x3^8*x4^4*x*z^4 - 8160979298892398638*x1^3*x2*x3^8*y*z^3 + 5335200780619557418*x1^3*x2*x3^7*x4^5*x*z^4 + 8037454693701051756*x1^3*x2*x3^7*x4*y*z^3 + 238129250645082402*x1^3*x2*x3^6*x4^6*x*z^4 - 8317533796363532330*x1^3*x2*x3^6*x4^2*y*z^3 + 8410534753041358483*x1^3*x2*x3^5*x4^7*x*z^4 - 7277190515009866425*x1^3*x2*x3^5*x4^3*y*z^3 - 334268909110989319*x1^3*x2*x3^4*x4^8*x*z^4 + 6045901778062076821*x1^3*x2*x3^4*x4^4*y*z^3 - 9035461241844286557*x1^3*x2*x3^4*x^2*z^2 - 4432261276440567133*x1^3*x2*x3^3*x4^9*x*z^4 + 6005572639917675120*x1^3*x2*x3^3*x4^5*y*z^3 + 4900643741381180850*x1^3*x2*x3^3*x4*x^2*z^2 - 5025026450890608258*x1^3*x2*x3^2*x4^10*x*z^4 + 6933332773155193803*x1^3*x2*x3^2*x4^6*y*z^3 - 1681504166149493121*x1^3*x2*x3^2*x4^2*x^2*z^2 + 4681774854500528089*x1^3*x2*x3*x4^11*x*z^4 - 4988397712511233780*x1^3*x2*x3*x4^7*y*z^3 - 8564919025618109735*x1^3*x2*x3*x4^3*x^2*z^2 - 6462395707516808004*x1^3*x2*x4^12*x*z^4 + 3340514026605142635*x1^3*x2*x4^8*y*z^3 + 8783572026020280678*x1^3*x2*x4^4*x^2*z^2 + 4792890165913495638*x1^3*x2*x*y*z - 4710123880757598390*x1^3*x3^13*x*z^4 + 119491544080190124*x1^3*x3^12*x4*x*z^4 - 4594928113897030240*x1^3*x3^11*x4^2*x*z^4 - 7285696052611962910*x1^3*x3^10*x4^3*x*z^4 + 7919318205074042291*x1^3*x3^9*x4^4*x*z^4 + 6065257035526432176*x1^3*x3^9*y*z^3 - 5717169828915055827*x1^3*x3^8*x4^5*x*z^4 - 543770958530942941*x1^3*x3^8*x4*y*z^3 - 6283235934420895143*x1^3*x3^7*x4^6*x*z^4 + 4909874324510083050*x1^3*x3^7*x4^2*y*z^3 - 6198172347636975536*x1^3*x3^6*x4^7*x*z^4 - 7407367212208554081*x1^3*x3^6*x4^3*y*z^3 + 3971042251888918320*x1^3*x3^5*x4^8*x*z^4 - 7753707894201337081*x1^3*x3^5*x4^4*y*z^3 - 2436822695442090021*x1^3*x3^5*x^2*z^2 + 5519840747770397780*x1^3*x3^4*x4^9*x*z^4 + 7316438761618388101*x1^3*x3^4*x4^5*y*z^3 + 5317795635594877298*x1^3*x3^4*x4*x^2*z^2 - 567635963432512976*x1^3*x3^3*x4^10*x*z^4 + 4468041353794370269*x1^3*x3^3*x4^6*y*z^3 - 5541209918965317203*x1^3*x3^3*x4^2*x^2*z^2 - 7649451704965058496*x1^3*x3^2*x4^11*x*z^4 + 7643653564586892991*x1^3*x3^2*x4^7*y*z^3 - 6554646704325540796*x1^3*x3^2*x4^3*x^2*z^2 + 363352735091981936*x1^3*x3*x4^12*x*z^4 - 9219003435378366476*x1^3*x3*x4^8*y*z^3 - 122162874601695345*x1^3*x3*x4^4*x^2*z^2 - 987025835281636080*x1^3*x3*x*y*z + 7029434965037924964*x1^3*x4^13*x*z^4 - 215446072296512381*x1^3*x4^9*y*z^3 + 4644783682514108716*x1^3*x4^5*x^2*z^2 + 5791939505380101192*x1^3*x4*x*y*z - 12973717356286030*x1^2*x2^10*y*z^3 + 2825047727203521570*x1^2*x2^9*x3*y*z^3 - 2254932442317807902*x1^2*x2^9*x4*y*z^3 + 6557574499970859457*x1^2*x2^8*x3^2*y*z^3 + 4040486954367393856*x1^2*x2^8*x3*x4*y*z^3 - 3734092944310024629*x1^2*x2^8*x4^2*y*z^3 + 5584248991246658663*x1^2*x2^7*x3^3*y*z^3 + 5248466926413786717*x1^2*x2^7*x3^2*x4*y*z^3 - 5115098364632837882*x1^2*x2^7*x3*x4^2*y*z^3 - 2372913048803686452*x1^2*x2^7*x4^3*y*z^3 - 3754863542638593139*x1^2*x2^6*x3^4*y*z^3 + 3959205542270026460*x1^2*x2^6*x3^3*x4*y*z^3 + 1235335403509211866*x1^2*x2^6*x3^2*x4^2*y*z^3 - 6763262444725985709*x1^2*x2^6*x3*x4^3*y*z^3 + 5144664445105232421*x1^2*x2^6*x4^4*y*z^3 + 6786655663597534121*x1^2*x2^6*x^2*z^2 - 8971007599320720488*x1^2*x2^5*x3^5*y*z^3 + 2001117564441186295*x1^2*x2^5*x3^4*x4*y*z^3 - 1867899243353166975*x1^2*x2^5*x3^3*x4^2*y*z^3 - 747792745410714045*x1^2*x2^5*x3^2*x4^3*y*z^3 + 6007962333051110826*x1^2*x2^5*x3*x4^4*y*z^3 + 1644793907233064763*x1^2*x2^5*x3*x^2*z^2 - 7428043066162146029*x1^2*x2^5*x4^5*y*z^3 + 1468564699346596604*x1^2*x2^5*x4*x^2*z^2 + 7746181292505685921*x1^2*x2^4*x3^6*y*z^3 + 8108098093391839458*x1^2*x2^4*x3^5*x4*y*z^3 + 4525483748208034792*x1^2*x2^4*x3^4*x4^2*y*z^3 + 4522485837885143274*x1^2*x2^4*x3^3*x4^3*y*z^3 - 1097493118038831063*x1^2*x2^4*x3^2*x4^4*y*z^3 - 5162380714796193431*x1^2*x2^4*x3^2*x^2*z^2 + 2742969061967075012*x1^2*x2^4*x3*x4^5*y*z^3 + 5896189268207220736*x1^2*x2^4*x3*x4*x^2*z^2 - 7836419478951201911*x1^2*x2^4*x4^6*y*z^3 + 3670483272596151539*x1^2*x2^4*x4^2*x^2*z^2 - 7208366905542432538*x1^2*x2^3*x3^7*y*z^3 + 2390836077007338367*x1^2*x2^3*x3^6*x4*y*z^3 - 985475945487551563*x1^2*x2^3*x3^5*x4^2*y*z^3 + 5185260227753457422*x1^2*x2^3*x3^4*x4^3*y*z^3 - 8521577535961613102*x1^2*x2^3*x3^3*x4^4*y*z^3 + 8393266797895126223*x1^2*x2^3*x3^3*x^2*z^2 + 4793745371663551171*x1^2*x2^3*x3^2*x4^5*y*z^3 - 1835853588316881877*x1^2*x2^3*x3^2*x4*x^2*z^2 + 8425253892112602274*x1^2*x2^3*x3*x4^6*y*z^3 - 8811495952719613199*x1^2*x2^3*x3*x4^2*x^2*z^2 + 4634197919465196889*x1^2*x2^3*x4^7*y*z^3 - 4719445794021175097*x1^2*x2^3*x4^3*x^2*z^2 + 4183844044389958321*x1^2*x2^2*x3^8*y*z^3 - 2537026465290898475*x1^2*x2^2*x3^7*x4*y*z^3 - 8563550819556149152*x1^2*x2^2*x3^6*x4^2*y*z^3 + 8036192976686872959*x1^2*x2^2*x3^5*x4^3*y*z^3 + 5433779174653452087*x1^2*x2^2*x3^4*x4^4*y*z^3 + 604075320900726534*x1^2*x2^2*x3^4*x^2*z^2 - 30242325401496320*x1^2*x2^2*x3^3*x4^5*y*z^3 + 265283351465679785*x1^2*x2^2*x3^3*x4*x^2*z^2 - 3384463891057078797*x1^2*x2^2*x3^2*x4^6*y*z^3 - 9206265436705519997*x1^2*x2^2*x3^2*x4^2*x^2*z^2 - 1640752258223497000*x1^2*x2^2*x3*x4^7*y*z^3 - 6157993368815451366*x1^2*x2^2*x3*x4^3*x^2*z^2 + 410019511716821826*x1^2*x2^2*x4^8*y*z^3 - 1358726312050747126*x1^2*x2^2*x4^4*x^2*z^2 - 8037170016820638134*x1^2*x2^2*x*y*z - 3177793457261443352*x1^2*x2*x3^9*y*z^3 - 9121605187570934748*x1^2*x2*x3^8*x4*y*z^3 + 1373538466854470998*x1^2*x2*x3^7*x4^2*y*z^3 - 6793418955923200944*x1^2*x2*x3^6*x4^3*y*z^3 + 116548192031624927*x1^2*x2*x3^5*x4^4*y*z^3 - 6422768832547910604*x1^2*x2*x3^5*x^2*z^2 - 1116461454964347198*x1^2*x2*x3^4*x4^5*y*z^3 + 3390408987129380852*x1^2*x2*x3^4*x4*x^2*z^2 - 25994796519333826*x1^2*x2*x3^3*x4^6*y*z^3 - 6819423222185404274*x1^2*x2*x3^3*x4^2*x^2*z^2 - 1853571035792790325*x1^2*x2*x3^2*x4^7*y*z^3 + 373995516985067030*x1^2*x2*x3^2*x4^3*x^2*z^2 - 1045482603556138760*x1^2*x2*x3*x4^8*y*z^3 + 5027221982886265524*x1^2*x2*x3*x4^4*x^2*z^2 - 9192001767647214195*x1^2*x2*x3*x*y*z + 7492349445864862182*x1^2*x2*x4^9*y*z^3 - 5689722322811448767*x1^2*x2*x4^5*x^2*z^2 - 2331664787836334404*x1^2*x2*x4*x*y*z + 4429232523544256615*x1^2*x3^10*y*z^3 + 6987452067502711843*x1^2*x3^9*x4*y*z^3 - 2494566349565755840*x1^2*x3^8*x4^2*y*z^3 + 173038259743280826*x1^2*x3^7*x4^3*y*z^3 + 361800667759692282*x1^2*x3^6*x4^4*y*z^3 + 3500498656979658510*x1^2*x3^6*x^2*z^2 + 383416839238836300*x1^2*x3^5*x4^5*y*z^3 + 8572553220800206606*x1^2*x3^5*x4*x^2*z^2 + 785635096473780989*x1^2*x3^4*x4^6*y*z^3 + 4476426827621097666*x1^2*x3^4*x4^2*x^2*z^2 + 8642597178126677616*x1^2*x3^3*x4^7*y*z^3 + 1485935424345887944*x1^2*x3^3*x4^3*x^2*z^2 - 6808810047526623399*x1^2*x3^2*x4^8*y*z^3 - 8618152742309205519*x1^2*x3^2*x4^4*x^2*z^2 - 1793168391560056948*x1^2*x3^2*x*y*z + 4852178123737808225*x1^2*x3*x4^9*y*z^3 - 7219111950009644995*x1^2*x3*x4^5*x^2*z^2 - 448448574697055665*x1^2*x3*x4*x*y*z + 6013314424623497145*x1^2*x4^10*y*z^3 + 5834471167064899910*x1^2*x4^6*x^2*z^2 - 7363788756331720350*x1^2*x4^2*x*y*z + 821393095891489415*x1*x2^7*x^2*z^2 - 1389782582207262219*x1*x2^6*x3*x^2*z^2 - 1797357326467184923*x1*x2^6*x4*x^2*z^2 - 8703209678830637275*x1*x2^5*x3^2*x^2*z^2 - 4608140291864867986*x1*x2^5*x3*x4*x^2*z^2 - 4134749808244540598*x1*x2^5*x4^2*x^2*z^2 - 3068323270708113911*x1*x2^4*x3^3*x^2*z^2 + 6970963614705907635*x1*x2^4*x3^2*x4*x^2*z^2 + 2492407615712042507*x1*x2^4*x3*x4^2*x^2*z^2 + 8674367913135204811*x1*x2^4*x4^3*x^2*z^2 + 3611700862616317766*x1*x2^3*x3^4*x^2*z^2 - 5594462513220430846*x1*x2^3*x3^3*x4*x^2*z^2 + 7529732142089797534*x1*x2^3*x3^2*x4^2*x^2*z^2 - 9175061486537376708*x1*x2^3*x3*x4^3*x^2*z^2 - 6118297984660759788*x1*x2^3*x4^4*x^2*z^2 + 8898789611734830393*x1*x2^3*x*y*z - 1186333374151901767*x1*x2^2*x3^5*x^2*z^2 - 2934595253960746802*x1*x2^2*x3^4*x4*x^2*z^2 - 6126103808089153257*x1*x2^2*x3^3*x4^2*x^2*z^2 + 6928436133220411167*x1*x2^2*x3^2*x4^3*x^2*z^2 - 2441160883373854140*x1*x2^2*x3*x4^4*x^2*z^2 + 1434089319766094733*x1*x2^2*x3*x*y*z + 5681898876149142693*x1*x2^2*x4^5*x^2*z^2 - 5571168174839971090*x1*x2^2*x4*x*y*z + 3389743963502706322*x1*x2*x3^6*x^2*z^2 - 3483703365764880026*x1*x2*x3^5*x4*x^2*z^2 + 8620657674337176798*x1*x2*x3^4*x4^2*x^2*z^2 - 1929500636818666601*x1*x2*x3^3*x4^3*x^2*z^2 - 429143446655002965*x1*x2*x3^2*x4^4*x^2*z^2 + 696936736374609637*x1*x2*x3^2*x*y*z + 7080702362946195609*x1*x2*x3*x4^5*x^2*z^2 + 8244397849698478930*x1*x2*x3*x4*x*y*z - 3642580867696510597*x1*x2*x4^6*x^2*z^2 + 5233899788200915924*x1*x2*x4^2*x*y*z - 2686272780271049220*x1*x3^7*x^2*z^2 + 8387979927850535398*x1*x3^6*x4*x^2*z^2 + 115467062300853020*x1*x3^5*x4^2*x^2*z^2 - 4965733144104384772*x1*x3^4*x4^3*x^2*z^2 + 6211509222453944695*x1*x3^3*x4^4*x^2*z^2 - 5076571868633363513*x1*x3^3*x*y*z - 5242329990827853422*x1*x3^2*x4^5*x^2*z^2 + 39351370190183315*x1*x3^2*x4*x*y*z + 5779470086495066277*x1*x3*x4^6*x^2*z^2 - 6719001249096696903*x1*x3*x4^2*x*y*z - 9109617934558275690*x1*x4^7*x^2*z^2 + 6122764667393463438*x1*x4^3*x*y*z + 1537171990622404948*x2^4*x*y*z - 1300509674724294790*x2^3*x3*x*y*z + 7910080296962973209*x2^3*x4*x*y*z - 3369341311757325151*x2^2*x3^2*x*y*z - 7347459154737700835*x2^2*x3*x4*x*y*z - 4655167510623499984*x2^2*x4^2*x*y*z - 3123613793838799669*x2*x3^3*x*y*z - 6590882067098252183*x2*x3^2*x4*x*y*z + 6913673009458851479*x2*x3*x4^2*x*y*z - 2980061308715945115*x2*x4^3*x*y*z - 5832631303362403723*x3^4*x*y*z + 5822228410061486088*x3^3*x4*x*y*z + 3935413225622879996*x3^2*x4^2*x*y*z - 7981844057081921628*x3*x4^3*x*y*z + 2455494553416120060*x4^4*x*y*z + x^3 - y^2"
      ]
     },
     "execution_count": 66,
     "metadata": {},
     "output_type": "execute_result"
    }
   ],
   "source": [
    "tate_polynomial(t2)"
   ]
  },
  {
   "cell_type": "markdown",
   "id": "f79630b0-6b8a-4367-9696-a4fc2c209833",
   "metadata": {},
   "source": [
    "## 2.C Singularity Resolution"
   ]
  },
  {
   "cell_type": "markdown",
   "id": "fe7bcb3b-bf26-416e-baee-e0ef3ca9419f",
   "metadata": {},
   "source": [
    "Let us now resolve this model. Given that a sequence of blowups is known, we \"just\" have to execute these blowups. Note, however, that this step may be technically very challenging, for instance if schemes are employed as bases. Fortunately in the case at hand the resolution is super easy to execute (but still tedious and very time consuming if done by hand).\n",
    "\n",
    "To resolve this model instantly and without any hard and tedious \"human\" labor, we just have to select which resolution/blowup sequence the computer should employ. In the case at hand there is only one sequence of (non-weighted) blowups known, as displayed above. Our choice is thus simply \"1\", which says \"resolve with the first available blowup resolution sequence\". Here is the result:"
   ]
  },
  {
   "cell_type": "code",
   "execution_count": 36,
   "id": "8361fbd6-067b-4e1c-83ec-b1fe280d611c",
   "metadata": {},
   "outputs": [
    {
     "data": {
      "text/plain": [
       "Partially resolved global Tate model over a concrete base -- SU(5)xU(1) restricted Tate model based on arXiv paper 1109.3454 Eq. (3.1)"
      ]
     },
     "execution_count": 36,
     "metadata": {},
     "output_type": "execute_result"
    }
   ],
   "source": [
    "t2_resolved = resolve(t2, 1)"
   ]
  },
  {
   "cell_type": "markdown",
   "id": "ff5383e3-48c2-4a84-be60-29d107c0bec7",
   "metadata": {},
   "source": [
    "Currently, there are no checks implemented to tell if a model has been fully resolved. Rather, internally the system just remembers if resolution techniques were applied and then informs about this by saying that the model is \"partially resolved\". However, in the above case, the model is actually fully resolved. (Recall, that this refers to a crepant resolution, and that singularities which cannot be resolved crepantly are still around.)"
   ]
  },
  {
   "cell_type": "code",
   "execution_count": 37,
   "id": "999d7f5c-e3d6-46fc-86cf-94b4ae6d8f46",
   "metadata": {},
   "outputs": [
    {
     "data": {
      "text/plain": [
       "Multivariate polynomial ring in 12 variables over QQ graded by\n",
       "  x1 -> [1 0 0 0 0 0 0]\n",
       "  x2 -> [0 1 0 0 0 0 0]\n",
       "  x3 -> [0 1 0 0 0 0 0]\n",
       "  x4 -> [0 1 0 0 0 0 0]\n",
       "  x -> [0 0 1 0 0 0 0]\n",
       "  y -> [0 0 0 1 0 0 0]\n",
       "  z -> [0 0 0 0 1 0 0]\n",
       "  e1 -> [0 0 0 0 0 1 0]\n",
       "  e4 -> [0 0 0 0 0 0 1]\n",
       "  e2 -> [-1 -3 -1 1 -1 -1 0]\n",
       "  e3 -> [0 4 1 -1 1 0 -1]\n",
       "  s -> [2 6 -1 0 2 1 1]"
      ]
     },
     "execution_count": 37,
     "metadata": {},
     "output_type": "execute_result"
    }
   ],
   "source": [
    "cox_ring(ambient_space(t2_resolved))"
   ]
  },
  {
   "cell_type": "code",
   "execution_count": 38,
   "id": "ad4f3be1-f6a6-43f9-902f-933e9a8da84a",
   "metadata": {},
   "outputs": [],
   "source": [
    "tate_polynomial(t2_resolved);"
   ]
  },
  {
   "cell_type": "markdown",
   "id": "eb224dce-a8df-4225-94ac-63836453e93c",
   "metadata": {},
   "source": [
    "For this model we can also perform a non-toric resolution:"
   ]
  },
  {
   "cell_type": "code",
   "execution_count": 39,
   "id": "be1c6592-e11c-4261-b0f8-1b4f9e421afa",
   "metadata": {},
   "outputs": [
    {
     "data": {
      "text/plain": [
       "Torus-invariant, non-prime divisor on a normal toric variety"
      ]
     },
     "execution_count": 39,
     "metadata": {},
     "output_type": "execute_result"
    }
   ],
   "source": [
    "w = 2 * torusinvariant_prime_divisors(B3)[1]"
   ]
  },
  {
   "cell_type": "code",
   "execution_count": 40,
   "id": "aa8329ca-a708-4987-a9fa-5dd531cda028",
   "metadata": {},
   "outputs": [
    {
     "name": "stdout",
     "output_type": "stream",
     "text": [
      "Construction over concrete base may lead to singularity enhancement. Consider computing singular_loci. However, this may take time!\n",
      "\n"
     ]
    }
   ],
   "source": [
    "t = literature_model(arxiv_id = \"1109.3454\", equation = \"3.1\", base_space = B3, defining_classes = Dict(\"w\" => w));"
   ]
  },
  {
   "cell_type": "code",
   "execution_count": 41,
   "id": "bd2acd13-83de-4c97-a437-7f0aeb3a7430",
   "metadata": {},
   "outputs": [
    {
     "data": {
      "text/plain": [
       "Partially resolved global Tate model over a concrete base -- SU(5)xU(1) restricted Tate model based on arXiv paper 1109.3454 Eq. (3.1)"
      ]
     },
     "execution_count": 41,
     "metadata": {},
     "output_type": "execute_result"
    }
   ],
   "source": [
    "blow_up(t, [\"x\", \"y\", string(explicit_model_sections(t)[\"w\"])]; coordinate_name = \"e1\")"
   ]
  },
  {
   "cell_type": "markdown",
   "id": "e798f850-6d90-4840-a553-8d09bda8347d",
   "metadata": {},
   "source": [
    "This is now the starting point of more refined investigations, say of topological data to gauge for instance the Tadpole cancellation condition, or to work out the chiral spectrum. Or to work out the vector-like spectrum, coupling strength of Yukawa interactions etc. We do not yet touch upon this subject. However, we hope to touch on this material once the foundational material has been extended to schemes and families of spaces as base spaces."
   ]
  },
  {
   "cell_type": "markdown",
   "id": "d543c1a6-d27e-493f-a3e8-44a2f5ee3190",
   "metadata": {},
   "source": [
    "## 2.D Other Functionality"
   ]
  },
  {
   "cell_type": "markdown",
   "id": "769678be-292d-4f32-bc64-060c5fe87e9c",
   "metadata": {},
   "source": [
    "It is possible to tune constructed models to change certain attributes, e.g. in an attempt to engineer a larger gauge group. We can also tune a model by fixing a special choice for the model sections.\n",
    "Note that it is in particular possible to set a section to zero:"
   ]
  },
  {
   "cell_type": "code",
   "execution_count": 42,
   "id": "d0dc3574-79ee-44aa-8eec-ced983db8a57",
   "metadata": {},
   "outputs": [
    {
     "data": {
      "text/plain": [
       "Torus-invariant, non-prime divisor on a normal toric variety"
      ]
     },
     "execution_count": 42,
     "metadata": {},
     "output_type": "execute_result"
    }
   ],
   "source": [
    "Kbar = anticanonical_divisor(B3)"
   ]
  },
  {
   "cell_type": "code",
   "execution_count": 43,
   "id": "2c0655d5-1ef3-4fe3-84c4-e4b511f61fb6",
   "metadata": {},
   "outputs": [
    {
     "name": "stdout",
     "output_type": "stream",
     "text": [
      "Construction over concrete base may lead to singularity enhancement. Consider computing singular_loci. However, this may take time!\n",
      "\n"
     ]
    },
    {
     "data": {
      "text/plain": [
       "Hypersurface model over a concrete base"
      ]
     },
     "execution_count": 43,
     "metadata": {},
     "output_type": "execute_result"
    }
   ],
   "source": [
    "F1 = literature_model(arxiv_id = \"1408.4808\", equation = \"3.4\", type = \"hypersurface\", base_space = B3, defining_classes = Dict(\"s7\" => Kbar, \"s9\" => Kbar), completeness_check = false)"
   ]
  },
  {
   "cell_type": "code",
   "execution_count": 44,
   "id": "9f6a144c-7730-4a95-a42e-2b5d985e21ee",
   "metadata": {},
   "outputs": [
    {
     "data": {
      "text/plain": [
       "s1*u^3 + s2*u^2*v + s3*u*v^2 + s4*v^3 + s5*u^2*w + s6*u*v*w + s7*v^2*w + s8*u*w^2 + s9*v*w^2 + s10*w^3"
      ]
     },
     "execution_count": 44,
     "metadata": {},
     "output_type": "execute_result"
    }
   ],
   "source": [
    "hypersurface_equation_parametrization(F1)"
   ]
  },
  {
   "cell_type": "code",
   "execution_count": 45,
   "id": "6bcf6a76-bdb1-4e15-a2a7-6a5c74034ef2",
   "metadata": {},
   "outputs": [],
   "source": [
    "x1, x2, x3, x4 = gens(cox_ring(base_space(F1)));;"
   ]
  },
  {
   "cell_type": "code",
   "execution_count": 46,
   "id": "44e03e68-d2c3-4495-b055-0a2c07478b94",
   "metadata": {},
   "outputs": [
    {
     "data": {
      "text/plain": [
       "Dict{String, MPolyDecRingElem{QQFieldElem, QQMPolyRingElem}} with 1 entry:\n",
       "  \"s10\" => 0"
      ]
     },
     "execution_count": 46,
     "metadata": {},
     "output_type": "execute_result"
    }
   ],
   "source": [
    "new_choice = Dict(\"s10\" => zero(parent(x1)))"
   ]
  },
  {
   "cell_type": "code",
   "execution_count": 47,
   "id": "bf5f306a-2c71-4bf4-93b4-8e4228299820",
   "metadata": {},
   "outputs": [
    {
     "data": {
      "text/plain": [
       "Hypersurface model over a concrete base"
      ]
     },
     "execution_count": 47,
     "metadata": {},
     "output_type": "execute_result"
    }
   ],
   "source": [
    "tuned_F1 = tune(F1, new_choice)"
   ]
  },
  {
   "cell_type": "code",
   "execution_count": 48,
   "id": "b1b3ad99-47e5-4d58-94a9-1a469417575b",
   "metadata": {},
   "outputs": [
    {
     "data": {
      "text/plain": [
       "true"
      ]
     },
     "execution_count": 48,
     "metadata": {},
     "output_type": "execute_result"
    }
   ],
   "source": [
    "is_zero(explicit_model_sections(tuned_F1)[\"s10\"])"
   ]
  },
  {
   "cell_type": "code",
   "execution_count": 49,
   "id": "a44b0b3d-fa3e-480f-b217-b069e96c8056",
   "metadata": {},
   "outputs": [
    {
     "data": {
      "text/plain": [
       "Dict{String, MPolyDecRingElem{QQFieldElem, QQMPolyRingElem}} with 10 entries:\n",
       "  \"s1\"  => 8791199083695932474*x1^4 + 7643479792612114091*x1^3*x2 - 32044866152…\n",
       "  \"s8\"  => -7213043686742499701*x1^4 - 3807201613773135548*x1^3*x2 + 6319967702…\n",
       "  \"s5\"  => 33927466523590420*x1^4 - 224514977524182041*x1^3*x2 + 19910779382562…\n",
       "  \"s6\"  => -3807450074396734867*x1^4 - 8436982387215131363*x1^3*x2 - 8779812591…\n",
       "  \"s7\"  => 8688563996494228138*x1^4 - 1073869156965394580*x1^3*x2 - 36435089363…\n",
       "  \"s2\"  => 5908469472187553623*x1^4 - 7903242100205887616*x1^3*x2 + 28943427036…\n",
       "  \"s4\"  => -3252539725390639171*x1^4 - 2660939820414109260*x1^3*x2 - 2723212825…\n",
       "  \"s9\"  => -4437140836833732292*x1^4 + 5560335080038301206*x1^3*x2 - 5922897403…\n",
       "  \"s3\"  => -7505763851429914082*x1^4 - 5177260832765410957*x1^3*x2 - 4805410458…\n",
       "  \"s10\" => 0"
      ]
     },
     "execution_count": 49,
     "metadata": {},
     "output_type": "execute_result"
    }
   ],
   "source": [
    "explicit_model_sections(tuned_F1)"
   ]
  },
  {
   "cell_type": "markdown",
   "id": "573d849e-2f7e-4bdf-aabd-c7f2ac79003c",
   "metadata": {},
   "source": [
    "Lastly, all of the models and information that is stored about the models functions as a database, that will be expanded with time:"
   ]
  },
  {
   "cell_type": "markdown",
   "id": "ed0511a0-59a1-4197-b41b-fdcc2f679f30",
   "metadata": {},
   "source": [
    "# 3 The Quadrillion F-Theory Standard Models"
   ]
  },
  {
   "cell_type": "markdown",
   "id": "0a551fac-32dc-42b0-b844-9299c25620b8",
   "metadata": {},
   "source": [
    "## 3.A Base Geometry"
   ]
  },
  {
   "attachments": {},
   "cell_type": "markdown",
   "id": "503bdb73-1872-4cef-801c-df3144669863",
   "metadata": {},
   "source": [
    "A yet more special instance of literature models are the Quadrillion F-theory Standard Models\n",
    "(F-theory QSMs) [CHLLT19](https://arxiv.org/abs/1903.00009). Those hypersurface models come in 708 different families.\n",
    "\n",
    "The base geometry of an F-theory QSM is obtained from triangulating one of 708 reflexive 3-dimensional\n",
    "polytopes. The models, whose bases are obtained from triangulations of the same polytope form a family.\n",
    "The following information on the polytope in question and its triangulations is available within the database:"
   ]
  },
  {
   "cell_type": "code",
   "execution_count": 51,
   "id": "2184226a-0a28-442a-83ac-62b17e363c5b",
   "metadata": {},
   "outputs": [
    {
     "data": {
      "text/plain": [
       "Hypersurface model over a concrete base"
      ]
     },
     "execution_count": 51,
     "metadata": {},
     "output_type": "execute_result"
    }
   ],
   "source": [
    "qsm_model = literature_model(arxiv_id = \"1903.00009\", model_parameters = Dict(\"k\" => 4))"
   ]
  },
  {
   "cell_type": "markdown",
   "id": "4275f385-ef7a-442d-b5d1-da3ad7280074",
   "metadata": {},
   "source": [
    "The following method returns the vertices of the polytope the the base of the F-Theory QSM is\n",
    "build from. Note that those vertices are normalized according to the Polymake standard\n",
    "to rational numbers:"
   ]
  },
  {
   "cell_type": "code",
   "execution_count": 52,
   "id": "22708169-4ca1-478d-9848-4f96e5b64e42",
   "metadata": {},
   "outputs": [
    {
     "data": {
      "text/plain": [
       "4-element Vector{Vector{QQFieldElem}}:\n",
       " [-1, -1, -1]\n",
       " [1, -1//2, -1//2]\n",
       " [-1, 2, -1]\n",
       " [-1, -1, 5]"
      ]
     },
     "execution_count": 52,
     "metadata": {},
     "output_type": "execute_result"
    }
   ],
   "source": [
    "vertices(qsm_model)"
   ]
  },
  {
   "cell_type": "markdown",
   "id": "28e98253-980d-44aa-88bd-9c9eaccf202c",
   "metadata": {},
   "source": [
    "Of the 3-dimensional reflexive polytope that the base of this F-theory model is build from,\n",
    "the following method returns the index within the Kreuzer-Skarke list:"
   ]
  },
  {
   "cell_type": "code",
   "execution_count": 53,
   "id": "38a90e0b-08ce-4bc8-b0fb-6706ecc58234",
   "metadata": {},
   "outputs": [
    {
     "data": {
      "text/plain": [
       "4"
      ]
     },
     "execution_count": 53,
     "metadata": {},
     "output_type": "execute_result"
    }
   ],
   "source": [
    "polytope_index(qsm_model)"
   ]
  },
  {
   "cell_type": "markdown",
   "id": "a58994c9-3562-47e3-b158-7a1a0b93705b",
   "metadata": {},
   "source": [
    "For a 3-dimensional reflexive polytope in the Kreuzer-Skarke list, the list of\n",
    "full (sometimes also called fine), regular, star triangulations can be extremely\n",
    "large. Consequently, one may wonder if the triangulations can be enumerated in a\n",
    "somewhat reasonable time (say 5 minutes on a personal computer). The following method tries\n",
    "to provide an answer to this. It returns `true` if one should expect a timly response\n",
    "to the atttempt to enumerate all (full, regular, star) triangulations. Otherwise, this\n",
    "method returns `false`:"
   ]
  },
  {
   "cell_type": "code",
   "execution_count": 54,
   "id": "4618d3c4-18bc-4d30-8420-2528d1b8ad07",
   "metadata": {},
   "outputs": [
    {
     "data": {
      "text/plain": [
       "true"
      ]
     },
     "execution_count": 54,
     "metadata": {},
     "output_type": "execute_result"
    }
   ],
   "source": [
    "has_quick_triangulation(qsm_model)"
   ]
  },
  {
   "cell_type": "markdown",
   "id": "5a648b76-b140-44e6-829c-399f7a0134c9",
   "metadata": {},
   "source": [
    "In order to enumerate the number of full, regular, star triangulations of a\n",
    "3-dimensional reflexive polytope, it is possible to first find the corresponding\n",
    "triangulations of all facets of the polytope [HT17](https://arxiv.org/abs/1610.08864). A first indication for\n",
    "the complexity of this triangulation task is the maximum number of lattice points\n",
    "in a facet of the polytope in question. The following method returns this maximal number of\n",
    "lattice points:"
   ]
  },
  {
   "cell_type": "code",
   "execution_count": 55,
   "id": "9c48f30d-601f-4337-88fd-b64bb14b6e8d",
   "metadata": {},
   "outputs": [
    {
     "data": {
      "text/plain": [
       "16"
      ]
     },
     "execution_count": 55,
     "metadata": {},
     "output_type": "execute_result"
    }
   ],
   "source": [
    "max_lattice_pts_in_facet(qsm_model)"
   ]
  },
  {
   "cell_type": "markdown",
   "id": "cdcf8333-e3bf-40ec-923b-64a39e8a4d5c",
   "metadata": {},
   "source": [
    "The following method returns an estimate for the number of full, regular, star triangulations\n",
    "of the 3-dimensional reflexive polytope, those triangulations define the possible base\n",
    "spaces of the F-theory QSM in question:"
   ]
  },
  {
   "cell_type": "code",
   "execution_count": 56,
   "id": "090d49b9-87f3-4959-b663-42c364962af6",
   "metadata": {},
   "outputs": [
    {
     "data": {
      "text/plain": [
       "212533333333"
      ]
     },
     "execution_count": 56,
     "metadata": {},
     "output_type": "execute_result"
    }
   ],
   "source": [
    "estimated_number_of_triangulations(qsm_model)"
   ]
  },
  {
   "cell_type": "markdown",
   "id": "4138f688-1ea7-47e8-803a-1c6be32f2881",
   "metadata": {},
   "source": [
    "Beyond the polytope and its triangulations, a number of other integers are of key importance, for example, Hodge numbers are also supported in the database."
   ]
  },
  {
   "cell_type": "markdown",
   "id": "35917b76-4f39-47dd-9d6a-b9655a514bd4",
   "metadata": {},
   "source": [
    "## 3.B The $C_{i}$ Curves"
   ]
  },
  {
   "cell_type": "markdown",
   "id": "ab265d31-2d56-436e-b475-52b58fd31aad",
   "metadata": {},
   "source": [
    "More recently, a research program estimated the exact massless spectra of the F-theory QSMs\n",
    "(cf. [Bie24](https://arxiv.org/abs/2303.08144)). These studies require yet more information about the F-theory QSM geometries,\n",
    "which are supported by the database.\n",
    "\n",
    "First, recall that (currently), the base of an F-theory QSM is a 3-dimensional toric variety $B3$.\n",
    "Let $s \\in H^0(B3, \\bar{K}_{B3}^{\\otimes i})$, then $V(s)$ is a K3-surface. Moreover, let $x_{i}$ be the coordinates\n",
    "of the Cox ring of $B3$. Then $V(x_{i})$ is a divisor in $B3$. Consequently, $C_{i} = V(x_{i}) \\cap V(s)$\n",
    "is a divisor in the K3-surface $V(s)$. For the root bundle counting program, these curves $C_{i}$ are\n",
    "of ample importance (cf. [Bie24](https://arxiv.org/abs/2303.08144)). The following information on these curves is supported:"
   ]
  },
  {
   "cell_type": "markdown",
   "id": "e0374166-2742-4ed2-be6d-0eea2facbba5",
   "metadata": {},
   "source": [
    "The following method returns the genera of the $C_{i}$ curves.\n",
    "Recall that $C_{i} = V(x_{i}, s)$, where $x_{i}$ is a homogeneous\n",
    "coordinate of the 3-dimensional toric base space $B3$ of the\n",
    "QSM hypersurface model in question, and $s$ is a generic\n",
    "section of the anticanonical bundle of $B3$. Consequently,\n",
    "we may use the coordinates $x_{i}$ as labels for the curves $C_{i}$:"
   ]
  },
  {
   "cell_type": "code",
   "execution_count": 57,
   "id": "d164138e-571e-4a85-96f7-60e096b53d78",
   "metadata": {},
   "outputs": [
    {
     "data": {
      "text/plain": [
       "x7"
      ]
     },
     "execution_count": 57,
     "metadata": {},
     "output_type": "execute_result"
    }
   ],
   "source": [
    "my_key = collect(keys(degrees_of_kbar_restrictions_to_ci_curves(qsm_model)))[1]"
   ]
  },
  {
   "cell_type": "code",
   "execution_count": 59,
   "id": "f806dfe9-3d1c-43ae-b1b3-36ac7ed3fdda",
   "metadata": {},
   "outputs": [
    {
     "data": {
      "text/plain": [
       "0"
      ]
     },
     "execution_count": 59,
     "metadata": {},
     "output_type": "execute_result"
    }
   ],
   "source": [
    "genera_of_ci_curves(qsm_model)[my_key]"
   ]
  },
  {
   "cell_type": "markdown",
   "id": "f798f340-1d8c-46c0-afe8-99cd3a9bb4af",
   "metadata": {},
   "source": [
    "The anticanonical divisor of the 3-dimensional toric base space $B3$ of the\n",
    "QSM hypersurface model in question can be restricted to the $C_{i}$ curves. The\n",
    "result of this operation is a line bundle. The following method returns the degree of\n",
    "this line bundle for every $C_{i}$ curve:"
   ]
  },
  {
   "cell_type": "code",
   "execution_count": 58,
   "id": "adab85a3-ca4e-4369-ab12-1b8ff28502a2",
   "metadata": {},
   "outputs": [
    {
     "data": {
      "text/plain": [
       "0"
      ]
     },
     "execution_count": 58,
     "metadata": {},
     "output_type": "execute_result"
    }
   ],
   "source": [
    "degrees_of_kbar_restrictions_to_ci_curves(qsm_model)[my_key]"
   ]
  },
  {
   "cell_type": "markdown",
   "id": "7d165d3a-8801-48f2-af4b-124f1d508623",
   "metadata": {},
   "source": [
    "The topological intersection numbers among $C_{i}$ curves are also of ample importance.\n",
    "The following method returns those intersection numbers in the form of a matrix:"
   ]
  },
  {
   "cell_type": "code",
   "execution_count": 60,
   "id": "7c158aae-6bd3-4163-8906-960144a1852c",
   "metadata": {},
   "outputs": [
    {
     "data": {
      "text/plain": [
       "29×29 Matrix{Int64}:\n",
       " -2   0   0   0   1   0   0   0   0   1  …  0  0   0  0  0   0   0  0   0   0\n",
       "  0  -2   0   0   0   0   0   0   0   0     0  0   0  0  0   0   1  0   1   2\n",
       "  0   0  -2   0   0   0   0   0   0   0     0  0   0  0  0   2   0  0   0   0\n",
       "  0   0   0  -2   0   0   0   0   1   0     0  0   1  0  0   0   0  0   0   0\n",
       "  1   0   0   0  -2   1   0   0   0   0     0  0   0  0  0   0   0  0   0   0\n",
       "  0   0   0   0   1  -2   1   0   0   0  …  0  0   0  0  0   0   0  0   0   0\n",
       "  0   0   0   0   0   1  -2   1   0   0     0  0   0  0  0   0   0  0   0   0\n",
       "  0   0   0   0   0   0   1  -2   1   0     0  0   0  0  0   0   0  0   0   0\n",
       "  0   0   0   1   0   0   0   1  -2   0     0  0   0  0  0   0   0  0   0   0\n",
       "  1   0   0   0   0   0   0   0   0  -2     0  0   0  0  0   0   0  0   0   0\n",
       "  0   0   0   0   0   0   0   0   0   0  …  0  0   0  0  0   0   0  0   0   0\n",
       "  0   0   0   0   0   0   0   0   0   0     0  0   0  0  0   0   0  0   0   0\n",
       "  0   0   0   0   0   0   0   0   0   0     0  0   0  0  0   0   0  0   0   0\n",
       "  ⋮                   ⋮                  ⋱     ⋮                 ⋮         \n",
       "  1   0   0   0   0   0   0   0   0   0     0  0   0  0  0   0   1  0   0   0\n",
       "  0   0   0   0   0   0   0   0   0   0     0  0   0  0  0   0   0  0   0   0\n",
       "  0   0   0   0   0   0   0   0   0   0     0  0   0  0  0   0   0  0   0   0\n",
       "  0   0   0   0   0   0   0   0   0   0  …  0  0   0  0  0   0   0  0   0   0\n",
       "  0   0   0   1   0   0   0   0   0   0     0  0  -2  0  0   0   0  0   1   0\n",
       "  0   0   0   0   0   0   0   0   0   0     0  0   0  0  0   0   0  0   0   0\n",
       "  0   0   0   0   0   0   0   0   0   0     0  0   0  0  0   0   0  0   0   0\n",
       "  0   0   2   0   0   0   0   0   0   0     0  0   0  0  0  -4   0  0   0   2\n",
       "  0   1   0   0   0   0   0   0   0   0  …  0  0   0  0  0   0  -2  0   0   0\n",
       "  0   0   0   0   0   0   0   0   0   0     0  0   0  0  0   0   0  0   0   0\n",
       "  0   1   0   0   0   0   0   0   0   0     0  0   1  0  0   0   0  0  -2   0\n",
       "  0   2   0   0   0   0   0   0   0   0     0  0   0  0  0   2   0  0   0  -4"
      ]
     },
     "execution_count": 60,
     "metadata": {},
     "output_type": "execute_result"
    }
   ],
   "source": [
    "topological_intersection_numbers_among_ci_curves(qsm_model)"
   ]
  },
  {
   "cell_type": "markdown",
   "id": "eb6a62e6-b0b4-4722-ac07-b7802b7d5fc6",
   "metadata": {},
   "source": [
    "Some of the $C_{i}$ curves are trivial, in that $V(x_{i}, s)$ is the empty set.\n",
    "The following method returns the vector of all indices of trivial $C_{i}$ curves.\n",
    "That is, should $V(x_{23}, s)$ be the empty set, then 23 will be included in\n",
    "the returned list:"
   ]
  },
  {
   "cell_type": "code",
   "execution_count": 61,
   "id": "978f51e3-738b-4e7c-b0ac-29cdc0e1eab7",
   "metadata": {},
   "outputs": [
    {
     "data": {
      "text/plain": [
       "10-element Vector{Int64}:\n",
       " 23\n",
       " 22\n",
       " 18\n",
       " 19\n",
       " 20\n",
       " 26\n",
       " 10\n",
       " 11\n",
       " 12\n",
       " 15"
      ]
     },
     "execution_count": 61,
     "metadata": {},
     "output_type": "execute_result"
    }
   ],
   "source": [
    "indices_of_trivial_ci_curves(qsm_model)"
   ]
  },
  {
   "cell_type": "markdown",
   "id": "ee2dbb8c-3e12-4d38-b3a2-a9fb20e01267",
   "metadata": {},
   "source": [
    "The topological intersection numbers among the non-trivial $C_{i}$ curves are used\n",
    "frequently. The following method returns those intersection numbers in the form of a matrix:"
   ]
  },
  {
   "cell_type": "code",
   "execution_count": 62,
   "id": "469f424f-b89b-44a5-8d72-4f9d1910bba9",
   "metadata": {},
   "outputs": [
    {
     "data": {
      "text/plain": [
       "19×19 Matrix{Int64}:\n",
       " -2   0   0   0   1   0   0   0   0   1   0   0   0   1   0   0   0   0   0\n",
       "  0  -2   0   0   0   0   0   0   0   0   0   0   0   0   0   0   1   1   2\n",
       "  0   0  -2   0   0   0   0   0   0   0   0   1   1   0   0   2   0   0   0\n",
       "  0   0   0  -2   0   0   0   0   1   0   1   0   0   0   1   0   0   0   0\n",
       "  1   0   0   0  -2   1   0   0   0   0   0   0   0   0   0   0   0   0   0\n",
       "  0   0   0   0   1  -2   1   0   0   0   0   0   0   0   0   0   0   0   0\n",
       "  0   0   0   0   0   1  -2   1   0   0   0   0   0   0   0   0   0   0   0\n",
       "  0   0   0   0   0   0   1  -2   1   0   0   0   0   0   0   0   0   0   0\n",
       "  0   0   0   1   0   0   0   1  -2   0   0   0   0   0   0   0   0   0   0\n",
       "  1   0   0   0   0   0   0   0   0  -2   0   1   0   0   0   0   0   0   0\n",
       "  0   0   0   1   0   0   0   0   0   0  -2   0   1   0   0   0   0   0   0\n",
       "  0   0   1   0   0   0   0   0   0   1   0  -2   0   0   0   0   0   0   0\n",
       "  0   0   1   0   0   0   0   0   0   0   1   0  -2   0   0   0   0   0   0\n",
       "  1   0   0   0   0   0   0   0   0   0   0   0   0  -2   0   0   1   0   0\n",
       "  0   0   0   1   0   0   0   0   0   0   0   0   0   0  -2   0   0   1   0\n",
       "  0   0   2   0   0   0   0   0   0   0   0   0   0   0   0  -4   0   0   2\n",
       "  0   1   0   0   0   0   0   0   0   0   0   0   0   1   0   0  -2   0   0\n",
       "  0   1   0   0   0   0   0   0   0   0   0   0   0   0   1   0   0  -2   0\n",
       "  0   2   0   0   0   0   0   0   0   0   0   0   0   0   0   2   0   0  -4"
      ]
     },
     "execution_count": 62,
     "metadata": {},
     "output_type": "execute_result"
    }
   ],
   "source": [
    "topological_intersection_numbers_among_nontrivial_ci_curves(qsm_model)"
   ]
  },
  {
   "cell_type": "markdown",
   "id": "153a58b4-dc74-4a5b-b106-6da0da10548b",
   "metadata": {},
   "source": [
    "The collection of the $C_{i}$ curves form a nodal curve. To every nodal curve one can associate a\n",
    "(dual) graph. In this graph, every irreducible component of the nodal curve becomes a node/vertex\n",
    "of the dual graph, and every nodal singularity of the nodal curve turns into an edge of the dual\n",
    "graph. In the case at hand, this is rather simple.\n",
    "\n",
    "The $C_{i}$ curves turn into the irreducible components of the nodal curve. Certainly, we only need\n",
    "to focus on the non-trivial $C_{i}$ curves. A non-trivial $C_{i}$ curve can split into multiple irreducible\n",
    "components. This is taken into acccount when the nodes/vertices of the dual graph are constructed.\n",
    "\n",
    "The topological intersection numbers among the $C_{i}$ curves (or rather, their irreducible components)\n",
    "tells us how many nodal singularities link the $C_{i}$ curves (or rather, their irreducible components)\n",
    "in question. Hence, if the topological intersection numbers is zero, there is no edge between the\n",
    "corresponding nodes. Otherwise, if the topological intersection number is positive, say $n$, then\n",
    "there are exactly $n$ edges between the nodes in question."
   ]
  },
  {
   "cell_type": "markdown",
   "id": "31f12218-d172-4eca-913b-c11c6a5e18d5",
   "metadata": {},
   "source": [
    "The following method returns the dual graph of the QSM model in question.\n",
    "Note that no labels are (currently) attached to the vertices/nodes or edges.\n",
    "To understand/read this graph correctly, one of the following methods listed below:"
   ]
  },
  {
   "cell_type": "code",
   "execution_count": 63,
   "id": "7a64a41b-38ee-4644-b307-016ecb32b32b",
   "metadata": {},
   "outputs": [
    {
     "data": {
      "text/plain": [
       "Undirected graph with 21 nodes and the following edges:\n",
       "(5, 1)(6, 5)(7, 6)(8, 7)(9, 4)(9, 8)(10, 1)(11, 4)(12, 3)(12, 10)(13, 3)(13, 11)(14, 1)(15, 4)(16, 3)(17, 3)(18, 2)(18, 14)(19, 2)(19, 15)(20, 2)(20, 16)(21, 2)(21, 17)"
      ]
     },
     "execution_count": 63,
     "metadata": {},
     "output_type": "execute_result"
    }
   ],
   "source": [
    "dual_graph(qsm_model)"
   ]
  },
  {
   "cell_type": "markdown",
   "id": "9f99e38f-8733-4172-944d-c543caffaffe",
   "metadata": {},
   "source": [
    "The following method returns a vector with labels for each node/vertex of the dual graph of the QSM\n",
    "model in question. Those labels allow to understand the geometric origin of the node/vertex.\n",
    "\n",
    "Specifically, recall that those nodes are associated to the $C_{i}$ curves, which are in turn\n",
    "given by $C_{i} = V(x_{i}, s)$. $x_{i}$ is a homogenous coordinate of the 3-dimensional toric base space\n",
    "B3 of the QSM in question, and s is a generic section of the anticanonical bundle of $B3$.\n",
    "\n",
    "Only non-trivial $C_{i}$ curves correspond to vertices/nodes of the dual graph.\n",
    "\n",
    "If $C_{i}$ is irreducible and corresponds to the k-th component, then the label \"Ci\"\n",
    "appears at position k of the vector returned by this method. However, if $C_{i}$ is\n",
    "reducible, then we introduce the labels Ci-0, Ci-1, Ci-2 etc. for those irreducible\n",
    "components of $C_{i}$. If Ci-0 corresponds to the k-th components of the dual graph,\n",
    "then the label \"Ci-0\" appears at position k of the vector returned by this method:\n"
   ]
  },
  {
   "cell_type": "code",
   "execution_count": 64,
   "id": "702ce797-2724-4dbc-a4cd-fe4d7d6d7fc3",
   "metadata": {},
   "outputs": [
    {
     "data": {
      "text/plain": [
       "21-element Vector{String}:\n",
       " \"C0\"\n",
       " \"C1\"\n",
       " \"C2\"\n",
       " \"C3\"\n",
       " \"C4\"\n",
       " \"C5\"\n",
       " \"C6\"\n",
       " \"C7\"\n",
       " \"C8\"\n",
       " \"C9\"\n",
       " \"C13\"\n",
       " \"C14\"\n",
       " \"C16\"\n",
       " \"C17\"\n",
       " \"C21\"\n",
       " \"C24-0\"\n",
       " \"C24-1\"\n",
       " \"C25\"\n",
       " \"C27\"\n",
       " \"C28-0\"\n",
       " \"C28-1\""
      ]
     },
     "execution_count": 64,
     "metadata": {},
     "output_type": "execute_result"
    }
   ],
   "source": [
    "components_of_dual_graph(qsm_model)"
   ]
  },
  {
   "cell_type": "markdown",
   "id": "2ad89195-17b8-4f2d-9572-11893d965fed",
   "metadata": {},
   "source": [
    "The anticanonical bundle of the toric 3-dimensional base space of the F-theory QSM in\n",
    "question can be restricted to the (geometric counterparts of the) nodes/vertices of\n",
    "the dual graph. The result is a line bundle for each node/vertex. The following method returns\n",
    "a vector with the degrees of these line bundles:"
   ]
  },
  {
   "cell_type": "code",
   "execution_count": 65,
   "id": "76b54ab2-730a-4945-9269-6359d7090e35",
   "metadata": {},
   "outputs": [
    {
     "data": {
      "text/plain": [
       "0"
      ]
     },
     "execution_count": 65,
     "metadata": {},
     "output_type": "execute_result"
    }
   ],
   "source": [
    "degrees_of_kbar_restrictions_to_components_of_dual_graph(qsm_model)[\"C28-1\"]"
   ]
  },
  {
   "cell_type": "markdown",
   "id": "d9bc90b7-5d9c-454d-a927-b2ab3ea234ce",
   "metadata": {},
   "source": [
    "The following method returns a vector with the genera of the (geometric\n",
    "counterparts of the) nodes/vertices of the dual graph:"
   ]
  },
  {
   "cell_type": "code",
   "execution_count": 66,
   "id": "b41a2d49-a79a-4854-89a2-aaa9eba5ee93",
   "metadata": {},
   "outputs": [
    {
     "data": {
      "text/plain": [
       "0"
      ]
     },
     "execution_count": 66,
     "metadata": {},
     "output_type": "execute_result"
    }
   ],
   "source": [
    "genera_of_components_of_dual_graph(qsm_model)[\"C28-1\"]"
   ]
  },
  {
   "cell_type": "markdown",
   "id": "a1c5e06a-bce8-43aa-a4b5-75c8e698841f",
   "metadata": {},
   "source": [
    "The dual graph is essential in counting root bundles (cf. [BCL21](https://link.aps.org/doi/10.1103/PhysRevD.104.L061903)). It turns out, that one\n",
    "can simplify this graph so that the computations at hand can be conducted on a simpler graph\n",
    "instead. The following functionality exists to access this simplified dual graph:\n",
    "```@docs\n",
    "simplified_dual_graph(m::AbstractFTheoryModel)\n",
    "components_of_simplified_dual_graph(m::AbstractFTheoryModel)\n",
    "degrees_of_kbar_restrictions_to_components_of_simplified_dual_graph(m::AbstractFTheoryModel)\n",
    "genera_of_components_of_simplified_dual_graph(m::AbstractFTheoryModel)\n",
    "```"
   ]
  },
  {
   "cell_type": "code",
   "execution_count": null,
   "id": "ef7c098c-d336-45a5-a6c0-d679a4a90e7a",
   "metadata": {},
   "outputs": [],
   "source": []
  }
 ],
 "metadata": {
  "kernelspec": {
   "display_name": "Julia 1.9.2",
   "language": "julia",
   "name": "julia-1.9"
  },
  "language_info": {
   "file_extension": ".jl",
   "mimetype": "application/julia",
   "name": "julia",
   "version": "1.9.2"
  }
 },
 "nbformat": 4,
 "nbformat_minor": 5
}
