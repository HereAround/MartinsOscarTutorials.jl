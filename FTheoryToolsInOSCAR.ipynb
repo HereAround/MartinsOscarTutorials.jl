{
 "cells": [
  {
   "cell_type": "markdown",
   "id": "85fd2ee3-b210-48cb-ae68-e8d254dd7703",
   "metadata": {},
   "source": [
    "# *FTheoryTools*\n",
    "\n",
    "* Authors: Martin Bies, Mikelis Emils Mikelsons, Andrew P. Turner\n",
    "* Version: OSCAR version 1.1.0\n",
    "* Last modified: June 21th, 2024"
   ]
  },
  {
   "cell_type": "markdown",
   "id": "605e34eb-b200-432a-be17-e21b47f2b615",
   "metadata": {},
   "source": [
    "This tutorial provides a brief introduction to the *FTheoryTools* component of *OSCAR*.\n",
    "\n",
    "The aim is to describe some basic constructions. In order to facilitate this introduction, we are very selective in what we present. For a full description of the available functionality, see https://docs.oscar-system.org/stable/Experimental/FTheoryTools/introduction/. It is worth mentioning that *FTheoryTools* is still (as of June 21st, 2024) in its experimental stage in *OSCAR*. Consequently, major changes may happen in the future.\n",
    "\n",
    "For this tutorial, no prior knowledge of *OSCAR* is necessary.\n",
    "\n",
    "## Content\n",
    "1. [An SU(5) Tate model from scratch](#1-An-SU(5)-Tate-model-from-scratch)\n",
    "   - [Construction](#1.A-Construction)\n",
    "   - [Properties and Attributes](#1.B-Properties-and-Attributes)\n",
    "2. [Literature Models and Singularity Resolution](#2-Literature-Models-and-Singularity-Resolution)\n",
    "   - [Creating a Literature Model](#2-A-Creating-a-Literature-Model)\n",
    "   - [Attributes and Properties of Literature Models](#2.B-Attributes-and-Properties-of-Literature-Models)\n",
    "   - [Singularity Resolution](#2.C-Singularity-Resolution)\n",
    "    - [Other Functionality](#2.D-Other-Functionality)\n",
    "3. [The Quadrillion F-Theory Standard Models](#3-The-Quadrillion-F-Theory-Standard-Models)\n",
    "    - [Base Geometry](#3.A-Base-Geometry)\n",
    "    - [The $C_{i}$ Curves](#3.B-The-C_i-Curves)"
   ]
  },
  {
   "cell_type": "code",
   "execution_count": 1,
   "id": "e53ffe0c-2900-464b-a2e7-c2f7c3e5be6a",
   "metadata": {},
   "outputs": [
    {
     "name": "stdout",
     "output_type": "stream",
     "text": [
      "  ___   ____   ____    _    ____\n",
      " / _ \\ / ___| / ___|  / \\  |  _ \\   |  Combining ANTIC, GAP, Polymake, Singular\n",
      "| | | |\\___ \\| |     / _ \\ | |_) |  |  Type \"?Oscar\" for more information\n",
      "| |_| | ___) | |___ / ___ \\|  _ <   |  Manual: https://docs.oscar-system.org\n",
      " \\___/ |____/ \\____/_/   \\_\\_| \\_\\  |  1.2.0-DEV #master 1c7d9d5 2024-06-20\n"
     ]
    }
   ],
   "source": [
    "using Oscar"
   ]
  },
  {
   "cell_type": "markdown",
   "id": "ebe8b891-7d57-465a-b237-80f766e923a4",
   "metadata": {},
   "source": [
    "# 1 An SU(5) Tate model from scratch"
   ]
  },
  {
   "cell_type": "markdown",
   "id": "5116cd56-24d4-48ef-9eee-4eac2dcafb22",
   "metadata": {},
   "source": [
    "## 1.A Construction"
   ]
  },
  {
   "cell_type": "markdown",
   "id": "b8c53ecf-5283-4748-9f24-d34864b60d7a",
   "metadata": {},
   "source": [
    "We consider an SU(5) Tate model over an arbitrary base. To construct this model, we begin with a $\\mathbb{P}^{2, 3, 1}$ fibration over a complex $n$-dimensional base manifold $B$, such that the homogeneous coordinates $[x : y : z]$ transform as\n",
    "    $$x \\in H^0(B, \\bar{K}_B^{\\otimes 2})\\,, \\quad y \\in H^0(B, \\bar{K}_B^{\\otimes 3})\\,, \\quad z \\in H^0(B, \\mathcal{O}_B)\\,,$$\n",
    "with $K_B$ the canonical bundle of the base. A Tate model is realized as a hypersurface in this $(n + 2)$-dimensional ambient space given by the locus\n",
    "    $$y^2 + a_1 x y z + a_3 y z^3 = x^3 + a_2 x^2 z^2 + a_4 x z^4 + a_6 z^6\\,,$$\n",
    "with $a_i \\in H^0(B, \\bar{K}_B^{\\otimes i})$. These data define an elliptic fibration $X$ over the base $B$.\n",
    "\n",
    "For the SU(5) Tate model, we tune the parameters $a_i$ of the model so they become proportional to specific powers of $w$, with $w = 0$ a divisor in the base $B$:\n",
    "    $$a_1 = w^0 a_{1, 0}\\,, \\quad a_2 = w^1 a_{2, 1}\\,, \\quad a_3 = w^2 a_{3, 2}\\,, \\quad a_4 = w^3 a_{4, 3}\\,, \\quad a_6 = w^5 a_{6, 5}\\,.$$"
   ]
  },
  {
   "cell_type": "markdown",
   "id": "c46e076e",
   "metadata": {},
   "source": [
    "With FTheoryTools, we can create this model with the following code. First, we create an auxiliary base ring with the parameters needed to define our model:"
   ]
  },
  {
   "cell_type": "code",
   "execution_count": 2,
   "id": "6ee360c2-4154-45e1-bc4d-ff17fc7b5ee8",
   "metadata": {},
   "outputs": [
    {
     "data": {
      "text/plain": [
       "(Multivariate polynomial ring in 6 variables over QQ, QQMPolyRingElem[a10, a21, a32, a43, a65, w])"
      ]
     },
     "execution_count": 2,
     "metadata": {},
     "output_type": "execute_result"
    }
   ],
   "source": [
    "auxiliary_base_ring, (a10, a21, a32, a43, a65, w) = QQ[\"a10\", \"a21\", \"a32\", \"a43\", \"a65\", \"w\"]"
   ]
  },
  {
   "cell_type": "code",
   "execution_count": 3,
   "id": "8fcfca37-fa7b-48a2-8aa5-828387958e2f",
   "metadata": {},
   "outputs": [
    {
     "data": {
      "text/plain": [
       "2×6 Matrix{Int64}:\n",
       " 1   2   3   4   6  0\n",
       " 0  -1  -2  -3  -5  1"
      ]
     },
     "execution_count": 3,
     "metadata": {},
     "output_type": "execute_result"
    }
   ],
   "source": [
    "auxiliary_base_grading = [1 2 3 4 6 0; 0 -1 -2 -3 -5 1]"
   ]
  },
  {
   "cell_type": "code",
   "execution_count": 4,
   "id": "8bc562ca-2114-4e58-8190-12e3e212b51e",
   "metadata": {},
   "outputs": [
    {
     "data": {
      "text/plain": [
       "a10"
      ]
     },
     "execution_count": 4,
     "metadata": {},
     "output_type": "execute_result"
    }
   ],
   "source": [
    "a1 = a10"
   ]
  },
  {
   "cell_type": "code",
   "execution_count": 5,
   "id": "d5e9f388-e77b-4efc-b4b1-e5988a629bc4",
   "metadata": {},
   "outputs": [
    {
     "data": {
      "text/plain": [
       "a21*w"
      ]
     },
     "execution_count": 5,
     "metadata": {},
     "output_type": "execute_result"
    }
   ],
   "source": [
    "a2 = a21 * w"
   ]
  },
  {
   "cell_type": "code",
   "execution_count": 6,
   "id": "100160dc-631c-49c8-9392-7eb3a616b940",
   "metadata": {},
   "outputs": [
    {
     "data": {
      "text/plain": [
       "a32*w^2"
      ]
     },
     "execution_count": 6,
     "metadata": {},
     "output_type": "execute_result"
    }
   ],
   "source": [
    "a3 = a32 * w^2"
   ]
  },
  {
   "cell_type": "code",
   "execution_count": 7,
   "id": "90f5e4cb-fef4-4a0e-97a1-0bbdf3c21c37",
   "metadata": {},
   "outputs": [
    {
     "data": {
      "text/plain": [
       "a43*w^3"
      ]
     },
     "execution_count": 7,
     "metadata": {},
     "output_type": "execute_result"
    }
   ],
   "source": [
    "a4 = a43 * w^3"
   ]
  },
  {
   "cell_type": "code",
   "execution_count": 8,
   "id": "54b429a1-ea68-46fc-a4ef-fb078e8269b5",
   "metadata": {},
   "outputs": [
    {
     "data": {
      "text/plain": [
       "a65*w^5"
      ]
     },
     "execution_count": 8,
     "metadata": {},
     "output_type": "execute_result"
    }
   ],
   "source": [
    "a6 = a65 * w^5"
   ]
  },
  {
   "cell_type": "code",
   "execution_count": 9,
   "id": "ccc408a5-674f-4a1b-a107-a35594c853fb",
   "metadata": {},
   "outputs": [
    {
     "data": {
      "text/plain": [
       "5-element Vector{QQMPolyRingElem}:\n",
       " a10\n",
       " a21*w\n",
       " a32*w^2\n",
       " a43*w^3\n",
       " a65*w^5"
      ]
     },
     "execution_count": 9,
     "metadata": {},
     "output_type": "execute_result"
    }
   ],
   "source": [
    "ais = [a1, a2, a3, a4, a6]"
   ]
  },
  {
   "cell_type": "markdown",
   "id": "73c98964",
   "metadata": {},
   "source": [
    "Then, we define the Tate model as given above (in this case, we will choose $d = 3$ for the dimension of the base):"
   ]
  },
  {
   "cell_type": "code",
   "execution_count": 10,
   "id": "3e0b2258",
   "metadata": {},
   "outputs": [
    {
     "name": "stdout",
     "output_type": "stream",
     "text": [
      "Assuming that the first row of the given grading is the grading under Kbar\n",
      "\n"
     ]
    },
    {
     "data": {
      "text/plain": [
       "Global Tate model over a not fully specified base"
      ]
     },
     "execution_count": 10,
     "metadata": {},
     "output_type": "execute_result"
    }
   ],
   "source": [
    "su5_tate = global_tate_model(auxiliary_base_ring, auxiliary_base_grading, 3, ais)"
   ]
  },
  {
   "cell_type": "markdown",
   "id": "3679c88e-9ebf-42f1-ac19-ad854f3fccd1",
   "metadata": {},
   "source": [
    "## 1.B Properties and Attributes"
   ]
  },
  {
   "cell_type": "markdown",
   "id": "98dffa94",
   "metadata": {},
   "source": [
    "We can then extract the Tate polynomial, the Tate sections, base spaces etc. of this model."
   ]
  },
  {
   "cell_type": "code",
   "execution_count": 11,
   "id": "6933c119",
   "metadata": {},
   "outputs": [
    {
     "data": {
      "text/plain": [
       "-a10*x*y*z + a21*w*x^2*z^2 - a32*w^2*y*z^3 + a43*w^3*x*z^4 + a65*w^5*z^6 + x^3 - y^2"
      ]
     },
     "execution_count": 11,
     "metadata": {},
     "output_type": "execute_result"
    }
   ],
   "source": [
    "su5_tate_poly = tate_polynomial(su5_tate)"
   ]
  },
  {
   "cell_type": "code",
   "execution_count": 12,
   "id": "2785b979-5ff2-47de-88e1-57eeb0bede14",
   "metadata": {},
   "outputs": [
    {
     "data": {
      "text/plain": [
       "A family of spaces of dimension d = 3"
      ]
     },
     "execution_count": 12,
     "metadata": {},
     "output_type": "execute_result"
    }
   ],
   "source": [
    "base_space(su5_tate)"
   ]
  },
  {
   "cell_type": "code",
   "execution_count": 13,
   "id": "8824185f-cc9b-40b5-b40e-26e950adbd08",
   "metadata": {},
   "outputs": [
    {
     "data": {
      "text/plain": [
       "A family of spaces of dimension d = 5"
      ]
     },
     "execution_count": 13,
     "metadata": {},
     "output_type": "execute_result"
    }
   ],
   "source": [
    "ambient_space(su5_tate)"
   ]
  },
  {
   "cell_type": "markdown",
   "id": "25988f10",
   "metadata": {},
   "source": [
    "This model has singularities, and various information about these singularities determines the physics of the model. First, we compute the discriminant to determine where the model is singular:"
   ]
  },
  {
   "cell_type": "code",
   "execution_count": 14,
   "id": "4890e14f",
   "metadata": {},
   "outputs": [
    {
     "data": {
      "text/plain": [
       "(1//16) * w^5 * (a10^6*a65 - a10^5*a32*a43 + a10^4*a21*a32^2 + 12*a10^4*a21*a65*w - a10^4*a43^2*w - 8*a10^3*a21*a32*a43*w - a10^3*a32^3*w - 36*a10^3*a32*a65*w^2 + 8*a10^2*a21^2*a32^2*w + 48*a10^2*a21^2*a65*w^2 - 8*a10^2*a21*a43^2*w^2 + 30*a10^2*a32^2*a43*w^2 - 72*a10^2*a43*a65*w^3 - 16*a10*a21^2*a32*a43*w^2 - 36*a10*a21*a32^3*w^2 - 144*a10*a21*a32*a65*w^3 + 96*a10*a32*a43^2*w^3 + 16*a21^3*a32^2*w^2 + 64*a21^3*a65*w^3 - 16*a21^2*a43^2*w^3 - 72*a21*a32^2*a43*w^3 - 288*a21*a43*a65*w^4 + 27*a32^4*w^3 + 216*a32^2*a65*w^4 + 64*a43^3*w^4 + 432*a65^2*w^5)"
      ]
     },
     "execution_count": 14,
     "metadata": {},
     "output_type": "execute_result"
    }
   ],
   "source": [
    "su5_disc = factor(discriminant(su5_tate))"
   ]
  },
  {
   "cell_type": "markdown",
   "id": "e1216f4a-b66a-4069-9172-868c70a903a6",
   "metadata": {},
   "source": [
    "(Careful with the above method. It assumes that a family of spaces more or less work as a toric space internally. This is to be discussed and possibly overhauled in the future development process. As a consequence, the output might change. However, the above result is of course correct and as expected in the literature.)"
   ]
  },
  {
   "cell_type": "markdown",
   "id": "7749dd23",
   "metadata": {},
   "source": [
    "We see that the discriminant vanishes to order 5 at $w = 0$.\n",
    "\n",
    "We can also compute the coefficients $f$ and $g$ of the corresponding Weierstrass model (defined analogously to our Tate model, but with the hypersurface equation given in short Weierstrass form):"
   ]
  },
  {
   "cell_type": "code",
   "execution_count": 15,
   "id": "2187dd4a",
   "metadata": {},
   "outputs": [
    {
     "data": {
      "text/plain": [
       "Weierstrass model over a not fully specified base"
      ]
     },
     "execution_count": 15,
     "metadata": {},
     "output_type": "execute_result"
    }
   ],
   "source": [
    "su5_weierstrass = weierstrass_model(su5_tate)"
   ]
  },
  {
   "cell_type": "code",
   "execution_count": 16,
   "id": "7a1b70ce",
   "metadata": {},
   "outputs": [
    {
     "data": {
      "text/plain": [
       "-1//48*a10^4 - 1//6*a10^2*a21*w + 1//2*a10*a32*w^2 - 1//3*a21^2*w^2 + a43*w^3"
      ]
     },
     "execution_count": 16,
     "metadata": {},
     "output_type": "execute_result"
    }
   ],
   "source": [
    "su5_f = weierstrass_section_f(su5_weierstrass)"
   ]
  },
  {
   "cell_type": "code",
   "execution_count": 17,
   "id": "15ec06fb",
   "metadata": {},
   "outputs": [
    {
     "data": {
      "text/plain": [
       "1//864*a10^6 + 1//72*a10^4*a21*w - 1//24*a10^3*a32*w^2 + 1//18*a10^2*a21^2*w^2 - 1//12*a10^2*a43*w^3 - 1//6*a10*a21*a32*w^3 + 2//27*a21^3*w^3 - 1//3*a21*a43*w^4 + 1//4*a32^2*w^4 + a65*w^5"
      ]
     },
     "execution_count": 17,
     "metadata": {},
     "output_type": "execute_result"
    }
   ],
   "source": [
    "su5_g = weierstrass_section_g(su5_weierstrass)"
   ]
  },
  {
   "cell_type": "markdown",
   "id": "a7758aac",
   "metadata": {},
   "source": [
    "These sections do not vanish at $w = 0$:"
   ]
  },
  {
   "cell_type": "code",
   "execution_count": 18,
   "id": "eb28f69d",
   "metadata": {},
   "outputs": [
    {
     "data": {
      "text/plain": [
       "(-1//48) * (a10^4 + 8*a10^2*a21*w - 24*a10*a32*w^2 + 16*a21^2*w^2 - 48*a43*w^3)"
      ]
     },
     "execution_count": 18,
     "metadata": {},
     "output_type": "execute_result"
    }
   ],
   "source": [
    "factor(su5_f)"
   ]
  },
  {
   "cell_type": "code",
   "execution_count": 19,
   "id": "f262e22e",
   "metadata": {},
   "outputs": [
    {
     "data": {
      "text/plain": [
       "(1//864) * (a10^6 + 12*a10^4*a21*w - 36*a10^3*a32*w^2 + 48*a10^2*a21^2*w^2 - 72*a10^2*a43*w^3 - 144*a10*a21*a32*w^3 + 64*a21^3*w^3 - 288*a21*a43*w^4 + 216*a32^2*w^4 + 864*a65*w^5)"
      ]
     },
     "execution_count": 19,
     "metadata": {},
     "output_type": "execute_result"
    }
   ],
   "source": [
    "factor(su5_g)"
   ]
  },
  {
   "cell_type": "markdown",
   "id": "db64b3ac",
   "metadata": {},
   "source": [
    "This indicates that the singularity at $w = 0$ has Kodaira type $I_5$, which gives rise to an SU(5) gauge group, as desired. This analysis can also be carried out automatically:"
   ]
  },
  {
   "cell_type": "code",
   "execution_count": 20,
   "id": "7a5471ef",
   "metadata": {},
   "outputs": [
    {
     "data": {
      "text/plain": [
       "2-element Vector{Tuple{MPolyIdeal{<:MPolyRingElem}, Tuple{Int64, Int64, Int64}, String}}:\n",
       " (Ideal with 1 generator, (0, 0, 1), \"I_1\")\n",
       " (Ideal (w), (0, 0, 5), \"Split I_5\")"
      ]
     },
     "execution_count": 20,
     "metadata": {},
     "output_type": "execute_result"
    }
   ],
   "source": [
    "singular_loci(su5_tate)"
   ]
  },
  {
   "cell_type": "markdown",
   "id": "37b3dbdd",
   "metadata": {},
   "source": [
    "This indicates a split (indicating the Tate monodromy type) $I_5$ singularity at $w = 0$, and identifies the rest of the discriminant as a type $I_1$ singularity.\n",
    "\n",
    "(Note that we are using the Kodaira classification, despite the fact that $X$ is not an elliptic surface; we will further abuse the classification by using it at codimension higher than 1. This is standard in the physics literature, and though acknowledged as improper, always gives consistent physical results in known examples.)"
   ]
  },
  {
   "cell_type": "markdown",
   "id": "c735f4f7",
   "metadata": {},
   "source": [
    "In order to analyze the fibers over the singular locus, we wish to resolve the singularities of the space $X$. However, due to physical constraints (in order to maintain supersymmetry), we restrict ourselves only to crepant resolutions, and we leave any terminal singularities unresolved. The particular model we are considering can be crepantly resolved through codimension 3 by the following sequence of blowups:\n",
    "    $$X_4 \\xrightarrow{(b_{3, 1}, e_2)} X_3 \\xrightarrow{(b_{2, 2}, b_{2, 3})} X_2 \\xrightarrow{(b_{1, 1}, b_{1, 2}, e_1)} X_1 \\xrightarrow{(x, y, w)} X\\,,$$\n",
    "where the center of each blowup is indicated above the corresponding arrow. For blowup $i$ with center $(g_1, \\dotsc, g_m)$, the blowup is carried out as $g_j \\to e_i b_{i, j}$, so that $e_i = 0$ is the exceptional locus of the blowup."
   ]
  },
  {
   "cell_type": "markdown",
   "id": "dee31ca2-43e4-45ec-8ac2-e434260c29b7",
   "metadata": {},
   "source": [
    "The blowup above can be carried out using *FTheoryTools*. We turn to this next:"
   ]
  },
  {
   "cell_type": "markdown",
   "id": "18f4dde5-a56a-4791-b96a-26239f39026a",
   "metadata": {},
   "source": [
    "# 2 Literature Models and Singularity Resolution"
   ]
  },
  {
   "cell_type": "markdown",
   "id": "70b089f4-da5d-4368-8559-132529f6e0a9",
   "metadata": {},
   "source": [
    "## 2.A Creating a Literature Model"
   ]
  },
  {
   "cell_type": "markdown",
   "id": "b487c660-744b-4e45-90c1-54cb50c45560",
   "metadata": {},
   "source": [
    "We begin by creating the above model anew. However, this time we choose a different route:\n",
    "* The above model is a well-known literature construction, and we provide specialized constructor for such standard constructions. In particular, these constructors will know about known resolutions, such as the one mentioned in the previous paragraph.\n",
    "* We create this model over a concrete base space. Thereby, we can explicitly execute the resolution in question."
   ]
  },
  {
   "cell_type": "code",
   "execution_count": 21,
   "id": "1b687093-aeea-4243-8c2a-db02ac458ee9",
   "metadata": {},
   "outputs": [
    {
     "data": {
      "text/plain": [
       "Normal toric variety"
      ]
     },
     "execution_count": 21,
     "metadata": {},
     "output_type": "execute_result"
    }
   ],
   "source": [
    "B3 = projective_space(NormalToricVariety, 3)"
   ]
  },
  {
   "cell_type": "code",
   "execution_count": 22,
   "id": "299c67a6-f21b-40c3-9685-430f42d909ce",
   "metadata": {},
   "outputs": [
    {
     "data": {
      "text/plain": [
       "Torus-invariant, prime divisor on a normal toric variety"
      ]
     },
     "execution_count": 22,
     "metadata": {},
     "output_type": "execute_result"
    }
   ],
   "source": [
    "w = torusinvariant_prime_divisors(B3)[1]"
   ]
  },
  {
   "cell_type": "code",
   "execution_count": 23,
   "id": "45e8145d-0bba-4758-bec3-5c0222834432",
   "metadata": {},
   "outputs": [
    {
     "name": "stdout",
     "output_type": "stream",
     "text": [
      "Construction over concrete base may lead to singularity enhancement. Consider computing singular_loci. However, this may take time!\n",
      "\n"
     ]
    },
    {
     "data": {
      "text/plain": [
       "Global Tate model over a concrete base -- SU(5)xU(1) restricted Tate model based on arXiv paper 1109.3454 Eq. (3.1)"
      ]
     },
     "execution_count": 23,
     "metadata": {},
     "output_type": "execute_result"
    }
   ],
   "source": [
    "t2 = literature_model(arxiv_id = \"1109.3454\", equation = \"3.1\", base_space = B3, defining_classes = Dict(\"w\" => w), completeness_check = false)"
   ]
  },
  {
   "cell_type": "markdown",
   "id": "322bb8ba-fb2b-4155-b523-f1575206f51d",
   "metadata": {},
   "source": [
    "Note that in the above case, we used the arxiv identifier of the paper in question as well as the equation number in said paper to fully specify the model that we seek to construct. Of course, other information can be provided too and often it is also important to specify the type(Weierstrass, Hypersurface etc.) as multiple forms might be available."
   ]
  },
  {
   "cell_type": "markdown",
   "id": "682b96a4-3fc0-466e-ac89-0f886fe7bcc0",
   "metadata": {},
   "source": [
    "For convenience, a simplified constructor for models is also supported, namely, instead of the meta data of the article, this constructor accepts an integer, which specifies the position of this model in our database. This is useful for commonly used models, whose index could be memorised:"
   ]
  },
  {
   "cell_type": "code",
   "execution_count": 24,
   "id": "72782045-583d-4b95-94e9-8b009f9a3166",
   "metadata": {},
   "outputs": [
    {
     "name": "stdout",
     "output_type": "stream",
     "text": [
      "Construction over concrete base may lead to singularity enhancement. Consider computing singular_loci. However, this may take time!\n",
      "\n"
     ]
    },
    {
     "data": {
      "text/plain": [
       "Global Tate model over a concrete base -- SU(5)xU(1) restricted Tate model based on arXiv paper 1109.3454 Eq. (3.1)"
      ]
     },
     "execution_count": 24,
     "metadata": {},
     "output_type": "execute_result"
    }
   ],
   "source": [
    "t2 = literature_model(1, base_space = B3, defining_classes = Dict(\"w\" => w), completeness_check = false)"
   ]
  },
  {
   "cell_type": "markdown",
   "id": "df4e5147-fab0-4728-a953-40ea62cb332c",
   "metadata": {},
   "source": [
    "## 2.B Attributes and Properties of Literature Models"
   ]
  },
  {
   "cell_type": "markdown",
   "id": "7825ff51-c832-4b77-bd26-b6d624a4a3aa",
   "metadata": {},
   "source": [
    "Of course, the now constructed model knows about its origins in the literature:"
   ]
  },
  {
   "cell_type": "code",
   "execution_count": 25,
   "id": "0309af3c-fe33-4a9c-bcda-3c7c5c91d5b3",
   "metadata": {},
   "outputs": [
    {
     "data": {
      "text/plain": [
       "\"1109.3454\""
      ]
     },
     "execution_count": 25,
     "metadata": {},
     "output_type": "execute_result"
    }
   ],
   "source": [
    "arxiv_id(t2)"
   ]
  },
  {
   "cell_type": "code",
   "execution_count": 26,
   "id": "32304579-563f-477e-8304-3317e07f3b91",
   "metadata": {},
   "outputs": [
    {
     "data": {
      "text/plain": [
       "3-element Vector{String}:\n",
       " \"Sven Krause\"\n",
       " \"Christoph Mayrhofer\"\n",
       " \"Timo Weigand\""
      ]
     },
     "execution_count": 26,
     "metadata": {},
     "output_type": "execute_result"
    }
   ],
   "source": [
    "paper_authors(t2)"
   ]
  },
  {
   "cell_type": "code",
   "execution_count": 27,
   "id": "a595ebbc-7a4b-4c9b-b03d-77a4c2c93157",
   "metadata": {},
   "outputs": [
    {
     "data": {
      "text/plain": [
       "\"\\$G_4\\$ flux, chiral matter and singularity resolution in F-theory compactifications\""
      ]
     },
     "execution_count": 27,
     "metadata": {},
     "output_type": "execute_result"
    }
   ],
   "source": [
    "paper_title(t2)"
   ]
  },
  {
   "cell_type": "code",
   "execution_count": 28,
   "id": "32232806-f0e1-43f7-9d90-5593fdc94caa",
   "metadata": {},
   "outputs": [
    {
     "data": {
      "text/plain": [
       "\"SU(5)xU(1) restricted Tate model\""
      ]
     },
     "execution_count": 28,
     "metadata": {},
     "output_type": "execute_result"
    }
   ],
   "source": [
    "model_description(t2)"
   ]
  },
  {
   "cell_type": "code",
   "execution_count": 29,
   "id": "a96ff5b3-ce74-4673-b1da-1fb895e2221f",
   "metadata": {},
   "outputs": [
    {
     "data": {
      "text/plain": [
       "2-element Vector{LinearLieAlgebra{QQBarFieldElem}}:\n",
       " Special linear Lie algebra of degree 5 over QQBar\n",
       " Linear Lie algebra with 1x1 matrices over QQBar"
      ]
     },
     "execution_count": 29,
     "metadata": {},
     "output_type": "execute_result"
    }
   ],
   "source": [
    "gauge_algebra(t2)"
   ]
  },
  {
   "cell_type": "markdown",
   "id": "d04d46a4-6fc1-4a49-9550-5ef84618df6c",
   "metadata": {},
   "source": [
    "But of course, we can also just compute \"standard\" information:"
   ]
  },
  {
   "cell_type": "code",
   "execution_count": 30,
   "id": "a97f3664-af2b-4844-9179-e672f6aef30b",
   "metadata": {},
   "outputs": [
    {
     "data": {
      "text/plain": [
       "2-element Vector{Tuple{MPolyIdeal{<:MPolyRingElem}, Tuple{Int64, Int64, Int64}, String}}:\n",
       " (Ideal with 1 generator, (0, 0, 1), \"I_1\")\n",
       " (Ideal (x1), (0, 0, 5), \"Split I_5\")"
      ]
     },
     "execution_count": 30,
     "metadata": {},
     "output_type": "execute_result"
    }
   ],
   "source": [
    "singular_loci(t2)"
   ]
  },
  {
   "cell_type": "code",
   "execution_count": 31,
   "id": "dbf0ba37-7022-4692-829d-98026ddd0ae3",
   "metadata": {},
   "outputs": [
    {
     "data": {
      "text/plain": [
       "2"
      ]
     },
     "execution_count": 31,
     "metadata": {},
     "output_type": "execute_result"
    }
   ],
   "source": [
    "length(singular_loci(t2))"
   ]
  },
  {
   "cell_type": "code",
   "execution_count": 32,
   "id": "4a4a8810-2e2c-4852-bac6-b3d66ca316e8",
   "metadata": {},
   "outputs": [
    {
     "data": {
      "text/plain": [
       "Normal, 3-dimensional toric variety without torusfactor"
      ]
     },
     "execution_count": 32,
     "metadata": {},
     "output_type": "execute_result"
    }
   ],
   "source": [
    "base_space(t2)"
   ]
  },
  {
   "cell_type": "code",
   "execution_count": 33,
   "id": "4dbcde29-8110-4850-bb69-f22add537583",
   "metadata": {},
   "outputs": [
    {
     "data": {
      "text/plain": [
       "Multivariate polynomial ring in 4 variables over QQ graded by\n",
       "  x1 -> [1]\n",
       "  x2 -> [1]\n",
       "  x3 -> [1]\n",
       "  x4 -> [1]"
      ]
     },
     "execution_count": 33,
     "metadata": {},
     "output_type": "execute_result"
    }
   ],
   "source": [
    "cox_ring(base_space(t2))"
   ]
  },
  {
   "cell_type": "code",
   "execution_count": 34,
   "id": "c708dd62-1c1c-4870-a313-0a3bc36c9708",
   "metadata": {},
   "outputs": [
    {
     "data": {
      "text/plain": [
       "Multivariate polynomial ring in 7 variables over QQ graded by\n",
       "  x1 -> [1 0]\n",
       "  x2 -> [1 0]\n",
       "  x3 -> [1 0]\n",
       "  x4 -> [1 0]\n",
       "  x -> [8 2]\n",
       "  y -> [12 3]\n",
       "  z -> [0 1]"
      ]
     },
     "execution_count": 34,
     "metadata": {},
     "output_type": "execute_result"
    }
   ],
   "source": [
    "cox_ring(ambient_space(t2))"
   ]
  },
  {
   "cell_type": "markdown",
   "id": "5ed9cfce-9ed8-4a47-8310-1f299efc5c84",
   "metadata": {},
   "source": [
    "Crucially, the model *t2* has information about resolutions that have been worked out in the literature. In the case at hand:"
   ]
  },
  {
   "cell_type": "code",
   "execution_count": 35,
   "id": "3f71acf4-81fb-41e1-a373-5acccb64f4e3",
   "metadata": {},
   "outputs": [
    {
     "data": {
      "text/plain": [
       "1-element Vector{Vector{Vector}}:\n",
       " [[[\"x\", \"y\", \"w\"], [\"y\", \"e1\"], [\"x\", \"e4\"], [\"y\", \"e2\"], [\"x\", \"y\"]], [\"e1\", \"e4\", \"e2\", \"e3\", \"s\"]]"
      ]
     },
     "execution_count": 35,
     "metadata": {},
     "output_type": "execute_result"
    }
   ],
   "source": [
    "resolutions(t2)"
   ]
  },
  {
   "cell_type": "markdown",
   "id": "f79630b0-6b8a-4367-9696-a4fc2c209833",
   "metadata": {},
   "source": [
    "## 2.C Singularity Resolution"
   ]
  },
  {
   "cell_type": "markdown",
   "id": "fe7bcb3b-bf26-416e-baee-e0ef3ca9419f",
   "metadata": {},
   "source": [
    "Let us now resolve this model. Given that a sequence of blowups is known, we \"just\" have to execute these blowups. Note, however, that this step may be technically very challenging, for instance if schemes are employed as bases. Fortunately in the case at hand the resolution is super easy to execute (but still tedious and very time consuming if done by hand).\n",
    "\n",
    "To resolve this model instantly and without any hard and tedious \"human\" labor, we just have to select which resolution/blowup sequence the computer should employ. In the case at hand there is only one sequence of (non-weighted) blowups known, as displayed above. Our choice is thus simply \"1\", which says \"resolve with the first available blowup resolution sequence\". Here is the result:"
   ]
  },
  {
   "cell_type": "code",
   "execution_count": 36,
   "id": "8361fbd6-067b-4e1c-83ec-b1fe280d611c",
   "metadata": {},
   "outputs": [
    {
     "data": {
      "text/plain": [
       "Partially resolved global Tate model over a concrete base -- SU(5)xU(1) restricted Tate model based on arXiv paper 1109.3454 Eq. (3.1)"
      ]
     },
     "execution_count": 36,
     "metadata": {},
     "output_type": "execute_result"
    }
   ],
   "source": [
    "t2_resolved = resolve(t2, 1)"
   ]
  },
  {
   "cell_type": "markdown",
   "id": "ff5383e3-48c2-4a84-be60-29d107c0bec7",
   "metadata": {},
   "source": [
    "Currently, there are no checks implemented to tell if a model has been fully resolved. Rather, internally the system just remembers if resolution techniques were applied and then informs about this by saying that the model is \"partially resolved\". However, in the above case, the model is actually fully resolved. (Recall, that this refers to a crepant resolution, and that singularities which cannot be resolved crepantly are still around.)"
   ]
  },
  {
   "cell_type": "code",
   "execution_count": 37,
   "id": "999d7f5c-e3d6-46fc-86cf-94b4ae6d8f46",
   "metadata": {},
   "outputs": [
    {
     "data": {
      "text/plain": [
       "Multivariate polynomial ring in 12 variables over QQ graded by\n",
       "  x1 -> [1 0 0 0 0 0 0]\n",
       "  x2 -> [0 1 0 0 0 0 0]\n",
       "  x3 -> [0 1 0 0 0 0 0]\n",
       "  x4 -> [0 1 0 0 0 0 0]\n",
       "  x -> [0 0 1 0 0 0 0]\n",
       "  y -> [0 0 0 1 0 0 0]\n",
       "  z -> [0 0 0 0 1 0 0]\n",
       "  e1 -> [0 0 0 0 0 1 0]\n",
       "  e4 -> [0 0 0 0 0 0 1]\n",
       "  e2 -> [-1 -3 -1 1 -1 -1 0]\n",
       "  e3 -> [0 4 1 -1 1 0 -1]\n",
       "  s -> [2 6 -1 0 2 1 1]"
      ]
     },
     "execution_count": 37,
     "metadata": {},
     "output_type": "execute_result"
    }
   ],
   "source": [
    "cox_ring(ambient_space(t2_resolved))"
   ]
  },
  {
   "cell_type": "code",
   "execution_count": 38,
   "id": "ad4f3be1-f6a6-43f9-902f-933e9a8da84a",
   "metadata": {},
   "outputs": [],
   "source": [
    "tate_polynomial(t2_resolved);"
   ]
  },
  {
   "cell_type": "markdown",
   "id": "eb224dce-a8df-4225-94ac-63836453e93c",
   "metadata": {},
   "source": [
    "For this model we can also perform a non-toric resolution:"
   ]
  },
  {
   "cell_type": "code",
   "execution_count": 39,
   "id": "be1c6592-e11c-4261-b0f8-1b4f9e421afa",
   "metadata": {},
   "outputs": [
    {
     "data": {
      "text/plain": [
       "Torus-invariant, non-prime divisor on a normal toric variety"
      ]
     },
     "execution_count": 39,
     "metadata": {},
     "output_type": "execute_result"
    }
   ],
   "source": [
    "w = 2 * torusinvariant_prime_divisors(B3)[1]"
   ]
  },
  {
   "cell_type": "code",
   "execution_count": 40,
   "id": "aa8329ca-a708-4987-a9fa-5dd531cda028",
   "metadata": {},
   "outputs": [
    {
     "name": "stdout",
     "output_type": "stream",
     "text": [
      "Construction over concrete base may lead to singularity enhancement. Consider computing singular_loci. However, this may take time!\n",
      "\n"
     ]
    }
   ],
   "source": [
    "t = literature_model(arxiv_id = \"1109.3454\", equation = \"3.1\", base_space = B3, defining_classes = Dict(\"w\" => w));"
   ]
  },
  {
   "cell_type": "code",
   "execution_count": 41,
   "id": "bd2acd13-83de-4c97-a437-7f0aeb3a7430",
   "metadata": {},
   "outputs": [
    {
     "data": {
      "text/plain": [
       "Partially resolved global Tate model over a concrete base -- SU(5)xU(1) restricted Tate model based on arXiv paper 1109.3454 Eq. (3.1)"
      ]
     },
     "execution_count": 41,
     "metadata": {},
     "output_type": "execute_result"
    }
   ],
   "source": [
    "blow_up(t, [\"x\", \"y\", string(explicit_model_sections(t)[\"w\"])]; coordinate_name = \"e1\")"
   ]
  },
  {
   "cell_type": "markdown",
   "id": "e798f850-6d90-4840-a553-8d09bda8347d",
   "metadata": {},
   "source": [
    "This is now the starting point of more refined investigations, say of topological data to gauge for instance the Tadpole cancellation condition, or to work out the chiral spectrum. Or to work out the vector-like spectrum, coupling strength of Yukawa interactions etc. We do not yet touch upon this subject. However, we hope to touch on this material once the foundational material has been extended to schemes and families of spaces as base spaces."
   ]
  },
  {
   "cell_type": "markdown",
   "id": "d543c1a6-d27e-493f-a3e8-44a2f5ee3190",
   "metadata": {},
   "source": [
    "## 2.D Other Functionality"
   ]
  },
  {
   "cell_type": "markdown",
   "id": "769678be-292d-4f32-bc64-060c5fe87e9c",
   "metadata": {},
   "source": [
    "It is possible to tune constructed models to change certain attributes, e.g. in an attempt to engineer a larger gauge group. We can also tune a model by fixing a special choice for the model sections.\n",
    "Note that it is in particular possible to set a section to zero:"
   ]
  },
  {
   "cell_type": "code",
   "execution_count": 42,
   "id": "d0dc3574-79ee-44aa-8eec-ced983db8a57",
   "metadata": {},
   "outputs": [
    {
     "data": {
      "text/plain": [
       "Torus-invariant, non-prime divisor on a normal toric variety"
      ]
     },
     "execution_count": 42,
     "metadata": {},
     "output_type": "execute_result"
    }
   ],
   "source": [
    "Kbar = anticanonical_divisor(B3)"
   ]
  },
  {
   "cell_type": "code",
   "execution_count": 43,
   "id": "2c0655d5-1ef3-4fe3-84c4-e4b511f61fb6",
   "metadata": {},
   "outputs": [
    {
     "name": "stdout",
     "output_type": "stream",
     "text": [
      "Construction over concrete base may lead to singularity enhancement. Consider computing singular_loci. However, this may take time!\n",
      "\n"
     ]
    },
    {
     "data": {
      "text/plain": [
       "Hypersurface model over a concrete base"
      ]
     },
     "execution_count": 43,
     "metadata": {},
     "output_type": "execute_result"
    }
   ],
   "source": [
    "F1 = literature_model(arxiv_id = \"1408.4808\", equation = \"3.4\", type = \"hypersurface\", base_space = B3, defining_classes = Dict(\"s7\" => Kbar, \"s9\" => Kbar), completeness_check = false)"
   ]
  },
  {
   "cell_type": "code",
   "execution_count": 44,
   "id": "9f6a144c-7730-4a95-a42e-2b5d985e21ee",
   "metadata": {},
   "outputs": [
    {
     "data": {
      "text/plain": [
       "s1*u^3 + s2*u^2*v + s3*u*v^2 + s4*v^3 + s5*u^2*w + s6*u*v*w + s7*v^2*w + s8*u*w^2 + s9*v*w^2 + s10*w^3"
      ]
     },
     "execution_count": 44,
     "metadata": {},
     "output_type": "execute_result"
    }
   ],
   "source": [
    "hypersurface_equation_parametrization(F1)"
   ]
  },
  {
   "cell_type": "code",
   "execution_count": 45,
   "id": "6bcf6a76-bdb1-4e15-a2a7-6a5c74034ef2",
   "metadata": {},
   "outputs": [],
   "source": [
    "x1, x2, x3, x4 = gens(cox_ring(base_space(F1)));;"
   ]
  },
  {
   "cell_type": "code",
   "execution_count": 46,
   "id": "44e03e68-d2c3-4495-b055-0a2c07478b94",
   "metadata": {},
   "outputs": [
    {
     "data": {
      "text/plain": [
       "Dict{String, MPolyDecRingElem{QQFieldElem, QQMPolyRingElem}} with 1 entry:\n",
       "  \"s10\" => 0"
      ]
     },
     "execution_count": 46,
     "metadata": {},
     "output_type": "execute_result"
    }
   ],
   "source": [
    "new_choice = Dict(\"s10\" => zero(parent(x1)))"
   ]
  },
  {
   "cell_type": "code",
   "execution_count": 47,
   "id": "bf5f306a-2c71-4bf4-93b4-8e4228299820",
   "metadata": {},
   "outputs": [
    {
     "data": {
      "text/plain": [
       "Hypersurface model over a concrete base"
      ]
     },
     "execution_count": 47,
     "metadata": {},
     "output_type": "execute_result"
    }
   ],
   "source": [
    "tuned_F1 = tune(F1, new_choice)"
   ]
  },
  {
   "cell_type": "code",
   "execution_count": 48,
   "id": "b1b3ad99-47e5-4d58-94a9-1a469417575b",
   "metadata": {},
   "outputs": [
    {
     "data": {
      "text/plain": [
       "true"
      ]
     },
     "execution_count": 48,
     "metadata": {},
     "output_type": "execute_result"
    }
   ],
   "source": [
    "is_zero(explicit_model_sections(tuned_F1)[\"s10\"])"
   ]
  },
  {
   "cell_type": "code",
   "execution_count": 49,
   "id": "a44b0b3d-fa3e-480f-b217-b069e96c8056",
   "metadata": {},
   "outputs": [
    {
     "data": {
      "text/plain": [
       "Dict{String, MPolyDecRingElem{QQFieldElem, QQMPolyRingElem}} with 10 entries:\n",
       "  \"s1\"  => 8791199083695932474*x1^4 + 7643479792612114091*x1^3*x2 - 32044866152…\n",
       "  \"s8\"  => -7213043686742499701*x1^4 - 3807201613773135548*x1^3*x2 + 6319967702…\n",
       "  \"s5\"  => 33927466523590420*x1^4 - 224514977524182041*x1^3*x2 + 19910779382562…\n",
       "  \"s6\"  => -3807450074396734867*x1^4 - 8436982387215131363*x1^3*x2 - 8779812591…\n",
       "  \"s7\"  => 8688563996494228138*x1^4 - 1073869156965394580*x1^3*x2 - 36435089363…\n",
       "  \"s2\"  => 5908469472187553623*x1^4 - 7903242100205887616*x1^3*x2 + 28943427036…\n",
       "  \"s4\"  => -3252539725390639171*x1^4 - 2660939820414109260*x1^3*x2 - 2723212825…\n",
       "  \"s9\"  => -4437140836833732292*x1^4 + 5560335080038301206*x1^3*x2 - 5922897403…\n",
       "  \"s3\"  => -7505763851429914082*x1^4 - 5177260832765410957*x1^3*x2 - 4805410458…\n",
       "  \"s10\" => 0"
      ]
     },
     "execution_count": 49,
     "metadata": {},
     "output_type": "execute_result"
    }
   ],
   "source": [
    "explicit_model_sections(tuned_F1)"
   ]
  },
  {
   "cell_type": "markdown",
   "id": "573d849e-2f7e-4bdf-aabd-c7f2ac79003c",
   "metadata": {},
   "source": [
    "Lastly, all of the models and information that is stored about the models functions as a database, that will be expanded with time:"
   ]
  },
  {
   "cell_type": "code",
   "execution_count": 50,
   "id": "f9195b02-efb8-4547-836d-66afe0075cfa",
   "metadata": {},
   "outputs": [
    {
     "name": "stdout",
     "output_type": "stream",
     "text": [
      "Model 1:\n",
      "Dict{String, Any}(\"journal_section\" => \"3\", \"arxiv_page\" => \"10\", \"arxiv_id\" => \"1109.3454\", \"arxiv_version\" => \"2\", \"journal_equation\" => \"3.1\", \"journal_page\" => \"9\", \"arxiv_equation\" => \"3.1\", \"journal_doi\" => \"10.1016/j.nuclphysb.2011.12.013\", \"arxiv_section\" => \"3\", \"journal\" => \"Nucl. Phys. B\", \"file\" => \"model1109_3454.json\", \"arxiv_doi\" => \"10.48550/arXiv.1109.3454\", \"model_index\" => \"1\", \"type\" => \"tate\")\n",
      "\n",
      "Model 2:\n",
      "Dict{String, Any}(\"journal_section\" => \"B\", \"arxiv_page\" => \"32\", \"arxiv_id\" => \"1208.2695\", \"arxiv_version\" => \"2\", \"journal_equation\" => \"B.5\", \"journal_page\" => \"33\", \"arxiv_equation\" => \"B.5\", \"journal_doi\" => \"10.1007/JHEP10(2012)128\", \"arxiv_section\" => \"B\", \"journal\" => \"JHEP\", \"file\" => \"model1208_2695-1.json\", \"arxiv_doi\" => \"10.48550/arXiv.1208.2695\", \"model_index\" => \"2\", \"type\" => \"hypersurface\")\n",
      "\n",
      "Model 3:\n",
      "Dict{String, Any}(\"journal_section\" => \"B\", \"arxiv_page\" => \"34\", \"arxiv_id\" => \"1208.2695\", \"arxiv_version\" => \"2\", \"journal_equation\" => \"B.19\", \"journal_page\" => \"34\", \"arxiv_equation\" => \"B.19\", \"journal_doi\" => \"10.1007/JHEP10(2012)128\", \"arxiv_section\" => \"B\", \"journal\" => \"JHEP\", \"file\" => \"model1208_2695-2.json\", \"arxiv_doi\" => \"10.48550/arXiv.1208.2695\", \"model_index\" => \"3\", \"type\" => \"weierstrass\")\n",
      "\n",
      "Model 4:\n",
      "Dict{String, Any}(\"journal_section\" => \"\", \"arxiv_page\" => \"19\", \"arxiv_id\" => \"1212.2949\", \"arxiv_version\" => \"2\", \"journal_equation\" => \"\", \"journal_page\" => \"\", \"arxiv_equation\" => \"3.2\", \"journal_doi\" => \"10.1007/JHEP04(2013)061\", \"arxiv_section\" => \"3.1\", \"journal\" => \"JHEP\", \"file\" => \"model1212_2949-1.json\", \"arxiv_doi\" => \"10.48550/arXiv.1212.2949\", \"model_index\" => \"4\", \"type\" => \"tate\")\n",
      "\n",
      "Model 5:\n",
      "Dict{String, Any}(\"journal_section\" => \"\", \"arxiv_page\" => \"31\", \"arxiv_id\" => \"1212.2949\", \"arxiv_version\" => \"2\", \"journal_equation\" => \"\", \"journal_page\" => \"\", \"arxiv_equation\" => \"3.42\", \"journal_doi\" => \"10.1007/JHEP04(2013)061\", \"arxiv_section\" => \"3.2\", \"journal\" => \"JHEP\", \"file\" => \"model1212_2949-2.json\", \"arxiv_doi\" => \"10.48550/arXiv.1212.2949\", \"model_index\" => \"5\", \"type\" => \"tate\")\n",
      "\n",
      "Model 6:\n",
      "Dict{String, Any}(\"journal_section\" => \"\", \"arxiv_page\" => \"37\", \"arxiv_id\" => \"1212.2949\", \"arxiv_version\" => \"2\", \"journal_equation\" => \"\", \"journal_page\" => \"\", \"arxiv_equation\" => \"4.1\", \"journal_doi\" => \"10.1007/JHEP04(2013)061\", \"arxiv_section\" => \"4.1\", \"journal\" => \"JHEP\", \"file\" => \"model1212_2949-3.json\", \"arxiv_doi\" => \"10.48550/arXiv.1212.2949\", \"model_index\" => \"6\", \"type\" => \"tate\")\n",
      "\n",
      "Model 7:\n",
      "Dict{String, Any}(\"journal_section\" => \"\", \"arxiv_page\" => \"44\", \"arxiv_id\" => \"1212.2949\", \"arxiv_version\" => \"2\", \"journal_equation\" => \"\", \"journal_page\" => \"\", \"arxiv_equation\" => \"4.23\", \"journal_doi\" => \"10.1007/JHEP04(2013)061\", \"arxiv_section\" => \"4.2\", \"journal\" => \"JHEP\", \"file\" => \"model1212_2949-4.json\", \"arxiv_doi\" => \"10.48550/arXiv.1212.2949\", \"model_index\" => \"7\", \"type\" => \"tate\")\n",
      "\n",
      "Model 8:\n",
      "Dict{String, Any}(\"journal_section\" => \"\", \"arxiv_page\" => \"49\", \"arxiv_id\" => \"1212.2949\", \"arxiv_version\" => \"2\", \"journal_equation\" => \"\", \"journal_page\" => \"\", \"arxiv_equation\" => \"5.1\", \"journal_doi\" => \"10.1007/JHEP04(2013)061\", \"arxiv_section\" => \"5.1\", \"journal\" => \"JHEP\", \"file\" => \"model1212_2949-5.json\", \"arxiv_doi\" => \"10.48550/arXiv.1212.2949\", \"model_index\" => \"8\", \"type\" => \"tate\")\n",
      "\n",
      "Model 9:\n",
      "Dict{String, Any}(\"journal_section\" => \"\", \"arxiv_page\" => \"49\", \"arxiv_id\" => \"1212.2949\", \"arxiv_version\" => \"2\", \"journal_equation\" => \"\", \"journal_page\" => \"\", \"arxiv_equation\" => \"5.7\", \"journal_doi\" => \"10.1007/JHEP04(2013)061\", \"arxiv_section\" => \"5.1\", \"journal\" => \"JHEP\", \"file\" => \"model1212_2949-6.json\", \"arxiv_doi\" => \"10.48550/arXiv.1212.2949\", \"model_index\" => \"9\", \"type\" => \"tate\")\n",
      "\n",
      "Model 10:\n",
      "Dict{String, Any}(\"journal_section\" => \"\", \"arxiv_page\" => \"49\", \"arxiv_id\" => \"1212.2949\", \"arxiv_version\" => \"2\", \"journal_equation\" => \"\", \"journal_page\" => \"\", \"arxiv_equation\" => \"5.13\", \"journal_doi\" => \"10.1007/JHEP04(2013)061\", \"arxiv_section\" => \"5.1\", \"journal\" => \"JHEP\", \"file\" => \"model1212_2949-7.json\", \"arxiv_doi\" => \"10.48550/arXiv.1212.2949\", \"model_index\" => \"10\", \"type\" => \"tate\")\n",
      "\n",
      "Model 11:\n",
      "Dict{String, Any}(\"journal_section\" => \"\", \"arxiv_page\" => \"17\", \"arxiv_id\" => \"1507.05954\", \"arxiv_version\" => \"2\", \"journal_equation\" => \"\", \"journal_page\" => \"\", \"arxiv_equation\" => \"3.4\", \"journal_doi\" => \"10.1007/JHEP11(2015)204\", \"arxiv_section\" => \"3\", \"journal\" => \"JHEP\", \"file\" => \"model1507_05954-1.json\", \"arxiv_doi\" => \"10.48550/arXiv.1507.05954\", \"model_index\" => \"11\", \"type\" => \"hypersurface\")\n",
      "\n",
      "Model 12:\n",
      "Dict{String, Any}(\"journal_section\" => \"\", \"arxiv_page\" => \"71\", \"arxiv_id\" => \"1507.05954\", \"arxiv_version\" => \"2\", \"journal_equation\" => \"\", \"journal_page\" => \"\", \"arxiv_equation\" => \"A.1\", \"journal_doi\" => \"10.1007/JHEP11(2015)204\", \"arxiv_section\" => \"A\", \"journal\" => \"JHEP\", \"file\" => \"model1507_05954-2.json\", \"arxiv_doi\" => \"10.48550/arXiv.1507.05954\", \"model_index\" => \"12\", \"type\" => \"weierstrass\")\n",
      "\n",
      "Model 13:\n",
      "Dict{String, Any}(\"journal_section\" => \"3\", \"arxiv_page\" => \"18\", \"arxiv_id\" => \"1408.4808\", \"arxiv_version\" => \"2\", \"journal_equation\" => \"3.4\", \"journal_page\" => \"19\", \"arxiv_equation\" => \"3.4\", \"journal_doi\" => \"10.1007/JHEP01(2015)142\", \"arxiv_section\" => \"3\", \"journal\" => \"JHEP\", \"file\" => \"model1408_4808-1-WSF.json\", \"arxiv_doi\" => \"10.48550/arXiv.1408.4808\", \"model_index\" => \"13\", \"type\" => \"weierstrass\")\n",
      "\n",
      "Model 13:\n",
      "Dict{String, Any}(\"journal_section\" => \"\", \"arxiv_page\" => \"2\", \"arxiv_id\" => \"1903.00009\", \"arxiv_version\" => \"3\", \"journal_equation\" => \"2\", \"journal_page\" => \"2\", \"arxiv_equation\" => \"2\", \"journal_doi\" => \"10.1103/PhysRevLett.123.101601\", \"arxiv_section\" => \"II\", \"journal\" => \"Physical Review Letters\", \"file\" => \"model1903.00009.json\", \"arxiv_doi\" => \"10.48550/arXiv.1903.00009\", \"model_index\" => \"13\", \"type\" => \"hypersurface\")\n",
      "\n",
      "Model 14:\n",
      "Dict{String, Any}(\"journal_section\" => \"3\", \"arxiv_page\" => \"18\", \"arxiv_id\" => \"1408.4808\", \"arxiv_version\" => \"2\", \"journal_equation\" => \"3.4\", \"journal_page\" => \"19\", \"arxiv_equation\" => \"3.4\", \"journal_doi\" => \"10.1007/JHEP01(2015)142\", \"arxiv_section\" => \"3\", \"journal\" => \"JHEP\", \"file\" => \"model1408_4808-1.json\", \"arxiv_doi\" => \"10.48550/arXiv.1408.4808\", \"model_index\" => \"14\", \"type\" => \"hypersurface\")\n",
      "\n",
      "Model 15:\n",
      "Dict{String, Any}(\"journal_section\" => \"3\", \"arxiv_page\" => \"20\", \"arxiv_id\" => \"1408.4808\", \"arxiv_version\" => \"2\", \"journal_equation\" => \"3.12\", \"journal_page\" => \"20\", \"arxiv_equation\" => \"3.12\", \"journal_doi\" => \"10.1007/JHEP01(2015)142\", \"arxiv_section\" => \"3\", \"journal\" => \"JHEP\", \"file\" => \"model1408_4808-2-WSF.json\", \"arxiv_doi\" => \"10.48550/arXiv.1408.4808\", \"model_index\" => \"15\", \"type\" => \"weierstrass\")\n",
      "\n",
      "Model 16:\n",
      "Dict{String, Any}(\"journal_section\" => \"3\", \"arxiv_page\" => \"20\", \"arxiv_id\" => \"1408.4808\", \"arxiv_version\" => \"2\", \"journal_equation\" => \"3.12\", \"journal_page\" => \"20\", \"arxiv_equation\" => \"3.12\", \"journal_doi\" => \"10.1007/JHEP01(2015)142\", \"arxiv_section\" => \"3\", \"journal\" => \"JHEP\", \"file\" => \"model1408_4808-2.json\", \"arxiv_doi\" => \"10.48550/arXiv.1408.4808\", \"model_index\" => \"16\", \"type\" => \"hypersurface\")\n",
      "\n",
      "Model 17:\n",
      "Dict{String, Any}(\"journal_section\" => \"3\", \"arxiv_page\" => \"36\", \"arxiv_id\" => \"1408.4808\", \"arxiv_version\" => \"2\", \"journal_equation\" => \"3.53\", \"journal_page\" => \"36\", \"arxiv_equation\" => \"3.54\", \"journal_doi\" => \"10.1007/JHEP01(2015)142\", \"arxiv_section\" => \"3\", \"journal\" => \"JHEP\", \"file\" => \"model1408_4808-3-WSF.json\", \"arxiv_doi\" => \"10.48550/arXiv.1408.4808\", \"model_index\" => \"17\", \"type\" => \"weierstrass\")\n",
      "\n",
      "Model 18:\n",
      "Dict{String, Any}(\"journal_section\" => \"3\", \"arxiv_page\" => \"36\", \"arxiv_id\" => \"1408.4808\", \"arxiv_version\" => \"2\", \"journal_equation\" => \"3.53\", \"journal_page\" => \"36\", \"arxiv_equation\" => \"3.54\", \"journal_doi\" => \"10.1007/JHEP01(2015)142\", \"arxiv_section\" => \"3\", \"journal\" => \"JHEP\", \"file\" => \"model1408_4808-3.json\", \"arxiv_doi\" => \"10.48550/arXiv.1408.4808\", \"model_index\" => \"18\", \"type\" => \"hypersurface\")\n",
      "\n",
      "Model 19:\n",
      "Dict{String, Any}(\"journal_section\" => \"3\", \"arxiv_page\" => \"22\", \"arxiv_id\" => \"1408.4808\", \"arxiv_version\" => \"2\", \"journal_equation\" => \"3.17\", \"journal_page\" => \"22\", \"arxiv_equation\" => \"3.17\", \"journal_doi\" => \"10.1007/JHEP01(2015)142\", \"arxiv_section\" => \"3\", \"journal\" => \"JHEP\", \"file\" => \"model1408_4808-4-WSF.json\", \"arxiv_doi\" => \"10.48550/arXiv.1408.4808\", \"model_index\" => \"19\", \"type\" => \"weierstrass\")\n",
      "\n",
      "Model 20:\n",
      "Dict{String, Any}(\"journal_section\" => \"3\", \"arxiv_page\" => \"22\", \"arxiv_id\" => \"1408.4808\", \"arxiv_version\" => \"2\", \"journal_equation\" => \"3.17\", \"journal_page\" => \"22\", \"arxiv_equation\" => \"3.17\", \"journal_doi\" => \"10.1007/JHEP01(2015)142\", \"arxiv_section\" => \"3\", \"journal\" => \"JHEP\", \"file\" => \"model1408_4808-4.json\", \"arxiv_doi\" => \"10.48550/arXiv.1408.4808\", \"model_index\" => \"20\", \"type\" => \"hypersurface\")\n",
      "\n",
      "Model 21:\n",
      "Dict{String, Any}(\"journal_section\" => \"3\", \"arxiv_page\" => \"43\", \"arxiv_id\" => \"1408.4808\", \"arxiv_version\" => \"2\", \"journal_equation\" => \"3.72\", \"journal_page\" => \"43\", \"arxiv_equation\" => \"3.73\", \"journal_doi\" => \"10.1007/JHEP01(2015)142\", \"arxiv_section\" => \"3\", \"journal\" => \"JHEP\", \"file\" => \"model1408_4808-5-WSF.json\", \"arxiv_doi\" => \"10.48550/arXiv.1408.4808\", \"model_index\" => \"21\", \"type\" => \"weierstrass\")\n",
      "\n",
      "Model 22:\n",
      "Dict{String, Any}(\"journal_section\" => \"3\", \"arxiv_page\" => \"43\", \"arxiv_id\" => \"1408.4808\", \"arxiv_version\" => \"2\", \"journal_equation\" => \"3.72\", \"journal_page\" => \"43\", \"arxiv_equation\" => \"3.73\", \"journal_doi\" => \"10.1007/JHEP01(2015)142\", \"arxiv_section\" => \"3\", \"journal\" => \"JHEP\", \"file\" => \"model1408_4808-5.json\", \"arxiv_doi\" => \"10.48550/arXiv.1408.4808\", \"model_index\" => \"22\", \"type\" => \"hypersurface\")\n",
      "\n",
      "Model 23:\n",
      "Dict{String, Any}(\"journal_section\" => \"3\", \"arxiv_page\" => \"46\", \"arxiv_id\" => \"1408.4808\", \"arxiv_version\" => \"2\", \"journal_equation\" => \"3.81\", \"journal_page\" => \"46\", \"arxiv_equation\" => \"3.82\", \"journal_doi\" => \"10.1007/JHEP01(2015)142\", \"arxiv_section\" => \"3\", \"journal\" => \"JHEP\", \"file\" => \"model1408_4808-6-WSF.json\", \"arxiv_doi\" => \"10.48550/arXiv.1408.4808\", \"model_index\" => \"23\", \"type\" => \"weierstrass\")\n",
      "\n",
      "Model 24:\n",
      "Dict{String, Any}(\"journal_section\" => \"3\", \"arxiv_page\" => \"46\", \"arxiv_id\" => \"1408.4808\", \"arxiv_version\" => \"2\", \"journal_equation\" => \"3.81\", \"journal_page\" => \"46\", \"arxiv_equation\" => \"3.82\", \"journal_doi\" => \"10.1007/JHEP01(2015)142\", \"arxiv_section\" => \"3\", \"journal\" => \"JHEP\", \"file\" => \"model1408_4808-6.json\", \"arxiv_doi\" => \"10.48550/arXiv.1408.4808\", \"model_index\" => \"24\", \"type\" => \"hypersurface\")\n",
      "\n",
      "Model 25:\n",
      "Dict{String, Any}(\"journal_section\" => \"3\", \"arxiv_page\" => \"50\", \"arxiv_id\" => \"1408.4808\", \"arxiv_version\" => \"2\", \"journal_equation\" => \"3.95\", \"journal_page\" => \"51\", \"arxiv_equation\" => \"3.96\", \"journal_doi\" => \"10.1007/JHEP01(2015)142\", \"arxiv_section\" => \"3\", \"journal\" => \"JHEP\", \"file\" => \"model1408_4808-7-WSF.json\", \"arxiv_doi\" => \"10.48550/arXiv.1408.4808\", \"model_index\" => \"25\", \"type\" => \"weierstrass\")\n",
      "\n",
      "Model 26:\n",
      "Dict{String, Any}(\"journal_section\" => \"3\", \"arxiv_page\" => \"50\", \"arxiv_id\" => \"1408.4808\", \"arxiv_version\" => \"2\", \"journal_equation\" => \"3.95\", \"journal_page\" => \"51\", \"arxiv_equation\" => \"3.96\", \"journal_doi\" => \"10.1007/JHEP01(2015)142\", \"arxiv_section\" => \"3\", \"journal\" => \"JHEP\", \"file\" => \"model1408_4808-7.json\", \"arxiv_doi\" => \"10.48550/arXiv.1408.4808\", \"model_index\" => \"26\", \"type\" => \"hypersurface\")\n",
      "\n",
      "Model 27:\n",
      "Dict{String, Any}(\"journal_section\" => \"3\", \"arxiv_page\" => \"54\", \"arxiv_id\" => \"1408.4808\", \"arxiv_version\" => \"2\", \"journal_equation\" => \"3.105\", \"journal_page\" => \"55\", \"arxiv_equation\" => \"3.106\", \"journal_doi\" => \"10.1007/JHEP01(2015)142\", \"arxiv_section\" => \"3\", \"journal\" => \"JHEP\", \"file\" => \"model1408_4808-8-WSF.json\", \"arxiv_doi\" => \"10.48550/arXiv.1408.4808\", \"model_index\" => \"27\", \"type\" => \"weierstrass\")\n",
      "\n",
      "Model 28:\n",
      "Dict{String, Any}(\"journal_section\" => \"3\", \"arxiv_page\" => \"54\", \"arxiv_id\" => \"1408.4808\", \"arxiv_version\" => \"2\", \"journal_equation\" => \"3.105\", \"journal_page\" => \"55\", \"arxiv_equation\" => \"3.106\", \"journal_doi\" => \"10.1007/JHEP01(2015)142\", \"arxiv_section\" => \"3\", \"journal\" => \"JHEP\", \"file\" => \"model1408_4808-8.json\", \"arxiv_doi\" => \"10.48550/arXiv.1408.4808\", \"model_index\" => \"28\", \"type\" => \"hypersurface\")\n",
      "\n",
      "Model 29:\n",
      "Dict{String, Any}(\"journal_section\" => \"3\", \"arxiv_page\" => \"58\", \"arxiv_id\" => \"1408.4808\", \"arxiv_version\" => \"2\", \"journal_equation\" => \"3.117\", \"journal_page\" => \"59\", \"arxiv_equation\" => \"3.118\", \"journal_doi\" => \"10.1007/JHEP01(2015)142\", \"arxiv_section\" => \"3\", \"journal\" => \"JHEP\", \"file\" => \"model1408_4808-9-WSF.json\", \"arxiv_doi\" => \"10.48550/arXiv.1408.4808\", \"model_index\" => \"29\", \"type\" => \"weierstrass\")\n",
      "\n",
      "Model 30:\n",
      "Dict{String, Any}(\"journal_section\" => \"3\", \"arxiv_page\" => \"58\", \"arxiv_id\" => \"1408.4808\", \"arxiv_version\" => \"2\", \"journal_equation\" => \"3.117\", \"journal_page\" => \"59\", \"arxiv_equation\" => \"3.118\", \"journal_doi\" => \"10.1007/JHEP01(2015)142\", \"arxiv_section\" => \"3\", \"journal\" => \"JHEP\", \"file\" => \"model1408_4808-9.json\", \"arxiv_doi\" => \"10.48550/arXiv.1408.4808\", \"model_index\" => \"30\", \"type\" => \"hypersurface\")\n",
      "\n",
      "Model 31:\n",
      "Dict{String, Any}(\"journal_section\" => \"3\", \"arxiv_page\" => \"62\", \"arxiv_id\" => \"1408.4808\", \"arxiv_version\" => \"2\", \"journal_equation\" => \"3.129\", \"journal_page\" => \"62\", \"arxiv_equation\" => \"3.130\", \"journal_doi\" => \"10.1007/JHEP01(2015)142\", \"arxiv_section\" => \"3\", \"journal\" => \"JHEP\", \"file\" => \"model1408_4808-10-WSF.json\", \"arxiv_doi\" => \"10.48550/arXiv.1408.4808\", \"model_index\" => \"31\", \"type\" => \"weierstrass\")\n",
      "\n",
      "Model 32:\n",
      "Dict{String, Any}(\"journal_section\" => \"3\", \"arxiv_page\" => \"62\", \"arxiv_id\" => \"1408.4808\", \"arxiv_version\" => \"2\", \"journal_equation\" => \"3.129\", \"journal_page\" => \"62\", \"arxiv_equation\" => \"3.130\", \"journal_doi\" => \"10.1007/JHEP01(2015)142\", \"arxiv_section\" => \"3\", \"journal\" => \"JHEP\", \"file\" => \"model1408_4808-10.json\", \"arxiv_doi\" => \"10.48550/arXiv.1408.4808\", \"model_index\" => \"32\", \"type\" => \"hypersurface\")\n",
      "\n",
      "Model 33:\n",
      "Dict{String, Any}(\"journal_section\" => \"3\", \"arxiv_page\" => \"67\", \"arxiv_id\" => \"1408.4808\", \"arxiv_version\" => \"2\", \"journal_equation\" => \"3.141\", \"journal_page\" => \"67\", \"arxiv_equation\" => \"3.142\", \"journal_doi\" => \"10.1007/JHEP01(2015)142\", \"arxiv_section\" => \"3\", \"journal\" => \"JHEP\", \"file\" => \"model1408_4808-11-WSF.json\", \"arxiv_doi\" => \"10.48550/arXiv.1408.4808\", \"model_index\" => \"33\", \"type\" => \"weierstrass\")\n",
      "\n",
      "Model 34:\n",
      "Dict{String, Any}(\"journal_section\" => \"3\", \"arxiv_page\" => \"67\", \"arxiv_id\" => \"1408.4808\", \"arxiv_version\" => \"2\", \"journal_equation\" => \"3.141\", \"journal_page\" => \"67\", \"arxiv_equation\" => \"3.142\", \"journal_doi\" => \"10.1007/JHEP01(2015)142\", \"arxiv_section\" => \"3\", \"journal\" => \"JHEP\", \"file\" => \"model1408_4808-11.json\", \"arxiv_doi\" => \"10.48550/arXiv.1408.4808\", \"model_index\" => \"34\", \"type\" => \"hypersurface\")\n",
      "\n",
      "Model 35:\n",
      "Dict{String, Any}(\"journal_section\" => \"3\", \"arxiv_page\" => \"70\", \"arxiv_id\" => \"1408.4808\", \"arxiv_version\" => \"2\", \"journal_equation\" => \"3.154\", \"journal_page\" => \"70\", \"arxiv_equation\" => \"3.155\", \"journal_doi\" => \"10.1007/JHEP01(2015)142\", \"arxiv_section\" => \"3\", \"journal\" => \"JHEP\", \"file\" => \"model1408_4808-12-WSF.json\", \"arxiv_doi\" => \"10.48550/arXiv.1408.4808\", \"model_index\" => \"35\", \"type\" => \"weierstrass\")\n",
      "\n",
      "Model 36:\n",
      "Dict{String, Any}(\"journal_section\" => \"3\", \"arxiv_page\" => \"70\", \"arxiv_id\" => \"1408.4808\", \"arxiv_version\" => \"2\", \"journal_equation\" => \"3.154\", \"journal_page\" => \"70\", \"arxiv_equation\" => \"3.155\", \"journal_doi\" => \"10.1007/JHEP01(2015)142\", \"arxiv_section\" => \"3\", \"journal\" => \"JHEP\", \"file\" => \"model1408_4808-12.json\", \"arxiv_doi\" => \"10.48550/arXiv.1408.4808\", \"model_index\" => \"36\", \"type\" => \"hypersurface\")\n",
      "\n",
      "Model 37:\n",
      "Dict{String, Any}(\"journal_section\" => \"3\", \"arxiv_page\" => \"79\", \"arxiv_id\" => \"1408.4808\", \"arxiv_version\" => \"2\", \"journal_equation\" => \"3.180\", \"journal_page\" => \"79\", \"arxiv_equation\" => \"3.181\", \"journal_doi\" => \"10.1007/JHEP01(2015)142\", \"arxiv_section\" => \"3\", \"journal\" => \"JHEP\", \"file\" => \"model1408_4808-13-WSF.json\", \"arxiv_doi\" => \"10.48550/arXiv.1408.4808\", \"model_index\" => \"37\", \"type\" => \"weierstrass\")\n",
      "\n",
      "Model 38:\n",
      "Dict{String, Any}(\"journal_section\" => \"3\", \"arxiv_page\" => \"79\", \"arxiv_id\" => \"1408.4808\", \"arxiv_version\" => \"2\", \"journal_equation\" => \"3.180\", \"journal_page\" => \"79\", \"arxiv_equation\" => \"3.181\", \"journal_doi\" => \"10.1007/JHEP01(2015)142\", \"arxiv_section\" => \"3\", \"journal\" => \"JHEP\", \"file\" => \"model1408_4808-13.json\", \"arxiv_doi\" => \"10.48550/arXiv.1408.4808\", \"model_index\" => \"38\", \"type\" => \"hypersurface\")\n",
      "\n",
      "Model 39:\n",
      "Dict{String, Any}(\"journal_section\" => \"3\", \"arxiv_page\" => \"75\", \"arxiv_id\" => \"1408.4808\", \"arxiv_version\" => \"2\", \"journal_equation\" => \"3.167\", \"journal_page\" => \"75\", \"arxiv_equation\" => \"3.168\", \"journal_doi\" => \"10.1007/JHEP01(2015)142\", \"arxiv_section\" => \"3\", \"journal\" => \"JHEP\", \"file\" => \"model1408_4808-14-WSF.json\", \"arxiv_doi\" => \"10.48550/arXiv.1408.4808\", \"model_index\" => \"39\", \"type\" => \"weierstrass\")\n",
      "\n",
      "Model 40:\n",
      "Dict{String, Any}(\"journal_section\" => \"3\", \"arxiv_page\" => \"75\", \"arxiv_id\" => \"1408.4808\", \"arxiv_version\" => \"2\", \"journal_equation\" => \"3.167\", \"journal_page\" => \"75\", \"arxiv_equation\" => \"3.168\", \"journal_doi\" => \"10.1007/JHEP01(2015)142\", \"arxiv_section\" => \"3\", \"journal\" => \"JHEP\", \"file\" => \"model1408_4808-14.json\", \"arxiv_doi\" => \"10.48550/arXiv.1408.4808\", \"model_index\" => \"40\", \"type\" => \"hypersurface\")\n",
      "\n",
      "Model 41:\n",
      "Dict{String, Any}(\"journal_section\" => \"3\", \"arxiv_page\" => \"83\", \"arxiv_id\" => \"1408.4808\", \"arxiv_version\" => \"2\", \"journal_equation\" => \"3.189\", \"journal_page\" => \"83\", \"arxiv_equation\" => \"3.190\", \"journal_doi\" => \"10.1007/JHEP01(2015)142\", \"arxiv_section\" => \"3\", \"journal\" => \"JHEP\", \"file\" => \"model1408_4808-15-WSF.json\", \"arxiv_doi\" => \"10.48550/arXiv.1408.4808\", \"model_index\" => \"41\", \"type\" => \"weierstrass\")\n",
      "\n",
      "Model 42:\n",
      "Dict{String, Any}(\"journal_section\" => \"3\", \"arxiv_page\" => \"83\", \"arxiv_id\" => \"1408.4808\", \"arxiv_version\" => \"2\", \"journal_equation\" => \"3.189\", \"journal_page\" => \"83\", \"arxiv_equation\" => \"3.190\", \"journal_doi\" => \"10.1007/JHEP01(2015)142\", \"arxiv_section\" => \"3\", \"journal\" => \"JHEP\", \"file\" => \"model1408_4808-15.json\", \"arxiv_doi\" => \"10.48550/arXiv.1408.4808\", \"model_index\" => \"42\", \"type\" => \"hypersurface\")\n",
      "\n",
      "Model 43:\n",
      "Dict{String, Any}(\"journal_section\" => \"3\", \"arxiv_page\" => \"87\", \"arxiv_id\" => \"1408.4808\", \"arxiv_version\" => \"2\", \"journal_equation\" => \"3.202\", \"journal_page\" => \"88\", \"arxiv_equation\" => \"3.203\", \"journal_doi\" => \"10.1007/JHEP01(2015)142\", \"arxiv_section\" => \"3\", \"journal\" => \"JHEP\", \"file\" => \"model1408_4808-16-WSF.json\", \"arxiv_doi\" => \"10.48550/arXiv.1408.4808\", \"model_index\" => \"43\", \"type\" => \"weierstrass\")\n",
      "\n",
      "Model 44:\n",
      "Dict{String, Any}(\"journal_section\" => \"3\", \"arxiv_page\" => \"87\", \"arxiv_id\" => \"1408.4808\", \"arxiv_version\" => \"2\", \"journal_equation\" => \"3.202\", \"journal_page\" => \"88\", \"arxiv_equation\" => \"3.203\", \"journal_doi\" => \"10.1007/JHEP01(2015)142\", \"arxiv_section\" => \"3\", \"journal\" => \"JHEP\", \"file\" => \"model1408_4808-16.json\", \"arxiv_doi\" => \"10.48550/arXiv.1408.4808\", \"model_index\" => \"44\", \"type\" => \"hypersurface\")\n",
      "\n"
     ]
    }
   ],
   "source": [
    "display_all_literature_models()"
   ]
  },
  {
   "cell_type": "markdown",
   "id": "ed0511a0-59a1-4197-b41b-fdcc2f679f30",
   "metadata": {},
   "source": [
    "# 3 The Quadrillion F-Theory Standard Models"
   ]
  },
  {
   "cell_type": "markdown",
   "id": "0a551fac-32dc-42b0-b844-9299c25620b8",
   "metadata": {},
   "source": [
    "## 3.A Base Geometry"
   ]
  },
  {
   "attachments": {},
   "cell_type": "markdown",
   "id": "503bdb73-1872-4cef-801c-df3144669863",
   "metadata": {},
   "source": [
    "A yet more special instance of literature models are the Quadrillion F-theory Standard Models\n",
    "(F-theory QSMs) [CHLLT19](@cite). Those hypersurface models come in 708 different families.\n",
    "\n",
    "The base geometry of an F-theory QSM is obtained from triangulating one of 708 reflexive 3-dimensional\n",
    "polytopes. The models, whose bases are obtained from triangulations of the same polytope form a family.\n",
    "The following information on the polytope in question and its triangulations is available within the database:"
   ]
  },
  {
   "cell_type": "code",
   "execution_count": 51,
   "id": "2184226a-0a28-442a-83ac-62b17e363c5b",
   "metadata": {},
   "outputs": [
    {
     "data": {
      "text/plain": [
       "Hypersurface model over a concrete base"
      ]
     },
     "execution_count": 51,
     "metadata": {},
     "output_type": "execute_result"
    }
   ],
   "source": [
    "qsm_model = literature_model(arxiv_id = \"1903.00009\", model_parameters = Dict(\"k\" => 4))"
   ]
  },
  {
   "cell_type": "markdown",
   "id": "4275f385-ef7a-442d-b5d1-da3ad7280074",
   "metadata": {},
   "source": [
    "The following method returns the vertices of the polytope the the base of the F-Theory QSM is\n",
    "build from. Note that those vertices are normalized according to the Polymake standard\n",
    "to rational numbers:"
   ]
  },
  {
   "cell_type": "code",
   "execution_count": 52,
   "id": "22708169-4ca1-478d-9848-4f96e5b64e42",
   "metadata": {},
   "outputs": [
    {
     "data": {
      "text/plain": [
       "4-element Vector{Vector{QQFieldElem}}:\n",
       " [-1, -1, -1]\n",
       " [1, -1//2, -1//2]\n",
       " [-1, 2, -1]\n",
       " [-1, -1, 5]"
      ]
     },
     "execution_count": 52,
     "metadata": {},
     "output_type": "execute_result"
    }
   ],
   "source": [
    "vertices(qsm_model)"
   ]
  },
  {
   "cell_type": "markdown",
   "id": "28e98253-980d-44aa-88bd-9c9eaccf202c",
   "metadata": {},
   "source": [
    "Of the 3-dimensional reflexive polytope that the base of this F-theory model is build from,\n",
    "the following method returns the index within the Kreuzer-Skarke list:"
   ]
  },
  {
   "cell_type": "code",
   "execution_count": 53,
   "id": "38a90e0b-08ce-4bc8-b0fb-6706ecc58234",
   "metadata": {},
   "outputs": [
    {
     "data": {
      "text/plain": [
       "4"
      ]
     },
     "execution_count": 53,
     "metadata": {},
     "output_type": "execute_result"
    }
   ],
   "source": [
    "polytope_index(qsm_model)"
   ]
  },
  {
   "cell_type": "markdown",
   "id": "a58994c9-3562-47e3-b158-7a1a0b93705b",
   "metadata": {},
   "source": [
    "For a 3-dimensional reflexive polytope in the Kreuzer-Skarke list, the list of\n",
    "full (sometimes also called fine), regular, star triangulations can be extremely\n",
    "large. Consequently, one may wonder if the triangulations can be enumerated in a\n",
    "somewhat reasonable time (say 5 minutes on a personal computer). The following method tries\n",
    "to provide an answer to this. It returns `true` if one should expect a timly response\n",
    "to the atttempt to enumerate all (full, regular, star) triangulations. Otherwise, this\n",
    "method returns `false`:"
   ]
  },
  {
   "cell_type": "code",
   "execution_count": 54,
   "id": "4618d3c4-18bc-4d30-8420-2528d1b8ad07",
   "metadata": {},
   "outputs": [
    {
     "data": {
      "text/plain": [
       "true"
      ]
     },
     "execution_count": 54,
     "metadata": {},
     "output_type": "execute_result"
    }
   ],
   "source": [
    "has_quick_triangulation(qsm_model)"
   ]
  },
  {
   "cell_type": "markdown",
   "id": "5a648b76-b140-44e6-829c-399f7a0134c9",
   "metadata": {},
   "source": [
    "In order to enumerate the number of full, regular, star triangulations of a\n",
    "3-dimensional reflexive polytope, it is possible to first find the corresponding\n",
    "triangulations of all facets of the polytope [HT17](@cite). A first indication for\n",
    "the complexity of this triangulation task is the maximum number of lattice points\n",
    "in a facet of the polytope in question. The following method returns this maximal number of\n",
    "lattice points:"
   ]
  },
  {
   "cell_type": "code",
   "execution_count": 55,
   "id": "9c48f30d-601f-4337-88fd-b64bb14b6e8d",
   "metadata": {},
   "outputs": [
    {
     "data": {
      "text/plain": [
       "16"
      ]
     },
     "execution_count": 55,
     "metadata": {},
     "output_type": "execute_result"
    }
   ],
   "source": [
    "max_lattice_pts_in_facet(qsm_model)"
   ]
  },
  {
   "cell_type": "markdown",
   "id": "cdcf8333-e3bf-40ec-923b-64a39e8a4d5c",
   "metadata": {},
   "source": [
    "The following method returns an estimate for the number of full, regular, star triangulations\n",
    "of the 3-dimensional reflexive polytope, those triangulations define the possible base\n",
    "spaces of the F-theory QSM in question:"
   ]
  },
  {
   "cell_type": "code",
   "execution_count": 56,
   "id": "090d49b9-87f3-4959-b663-42c364962af6",
   "metadata": {},
   "outputs": [
    {
     "data": {
      "text/plain": [
       "212533333333"
      ]
     },
     "execution_count": 56,
     "metadata": {},
     "output_type": "execute_result"
    }
   ],
   "source": [
    "estimated_number_of_triangulations(qsm_model)"
   ]
  },
  {
   "cell_type": "markdown",
   "id": "4138f688-1ea7-47e8-803a-1c6be32f2881",
   "metadata": {},
   "source": [
    "Beyond the polytope and its triangulations, a number of other integers are of key importance, for example, Hodge numbers are also supported in the database."
   ]
  },
  {
   "cell_type": "markdown",
   "id": "35917b76-4f39-47dd-9d6a-b9655a514bd4",
   "metadata": {},
   "source": [
    "## 3.B The $C_{i}$ Curves"
   ]
  },
  {
   "cell_type": "markdown",
   "id": "ab265d31-2d56-436e-b475-52b58fd31aad",
   "metadata": {},
   "source": [
    "More recently, a research program estimated the exact massless spectra of the F-theory QSMs\n",
    "(cf. [Bie24](@cite)). These studies require yet more information about the F-theory QSM geometries,\n",
    "which are supported by the database.\n",
    "\n",
    "First, recall that (currently), the base of an F-theory QSM is a 3-dimensional toric variety $B3$.\n",
    "Let $s \\in H^0(B3, \\bar{K}_{B3}^{\\otimes i})$, then $V(s)$ is a K3-surface. Moreover, let $x_{i}$ be the coordinates\n",
    "of the Cox ring of $B3$. Then $V(x_{i})$ is a divisor in $B3$. Consequently, $C_{i} = V(x_{i}) \\cap V(s)$\n",
    "is a divisor in the K3-surface $V(s)$. For the root bundle counting program, these curves $C_{i}$ are\n",
    "of ample importance (cf. [Bie24](@cite)). The following information on these curves is supported:"
   ]
  },
  {
   "cell_type": "markdown",
   "id": "e0374166-2742-4ed2-be6d-0eea2facbba5",
   "metadata": {},
   "source": [
    "The following method returns the genera of the $C_{i}$ curves.\n",
    "Recall that $C_{i} = V(x_{i}, s)$, where $x_{i}$ is a homogeneous\n",
    "coordinate of the 3-dimensional toric base space $B3$ of the\n",
    "QSM hypersurface model in question, and $s$ is a generic\n",
    "section of the anticanonical bundle of $B3$. Consequently,\n",
    "we may use the coordinates $x_{i}$ as labels for the curves $C_{i}$:"
   ]
  },
  {
   "cell_type": "code",
   "execution_count": 57,
   "id": "d164138e-571e-4a85-96f7-60e096b53d78",
   "metadata": {},
   "outputs": [
    {
     "data": {
      "text/plain": [
       "x7"
      ]
     },
     "execution_count": 57,
     "metadata": {},
     "output_type": "execute_result"
    }
   ],
   "source": [
    "my_key = collect(keys(degrees_of_kbar_restrictions_to_ci_curves(qsm_model)))[1]"
   ]
  },
  {
   "cell_type": "code",
   "execution_count": 59,
   "id": "f806dfe9-3d1c-43ae-b1b3-36ac7ed3fdda",
   "metadata": {},
   "outputs": [
    {
     "data": {
      "text/plain": [
       "0"
      ]
     },
     "execution_count": 59,
     "metadata": {},
     "output_type": "execute_result"
    }
   ],
   "source": [
    "genera_of_ci_curves(qsm_model)[my_key]"
   ]
  },
  {
   "cell_type": "markdown",
   "id": "f798f340-1d8c-46c0-afe8-99cd3a9bb4af",
   "metadata": {},
   "source": [
    "The anticanonical divisor of the 3-dimensional toric base space $B3$ of the\n",
    "QSM hypersurface model in question can be restricted to the $C_{i}$ curves. The\n",
    "result of this operation is a line bundle. The following method returns the degree of\n",
    "this line bundle for every $C_{i}$ curve:"
   ]
  },
  {
   "cell_type": "code",
   "execution_count": 58,
   "id": "adab85a3-ca4e-4369-ab12-1b8ff28502a2",
   "metadata": {},
   "outputs": [
    {
     "data": {
      "text/plain": [
       "0"
      ]
     },
     "execution_count": 58,
     "metadata": {},
     "output_type": "execute_result"
    }
   ],
   "source": [
    "degrees_of_kbar_restrictions_to_ci_curves(qsm_model)[my_key]"
   ]
  },
  {
   "cell_type": "markdown",
   "id": "7d165d3a-8801-48f2-af4b-124f1d508623",
   "metadata": {},
   "source": [
    "The topological intersection numbers among $C_{i}$ curves are also of ample importance.\n",
    "The following method returns those intersection numbers in the form of a matrix:"
   ]
  },
  {
   "cell_type": "code",
   "execution_count": 60,
   "id": "7c158aae-6bd3-4163-8906-960144a1852c",
   "metadata": {},
   "outputs": [
    {
     "data": {
      "text/plain": [
       "29×29 Matrix{Int64}:\n",
       " -2   0   0   0   1   0   0   0   0   1  …  0  0   0  0  0   0   0  0   0   0\n",
       "  0  -2   0   0   0   0   0   0   0   0     0  0   0  0  0   0   1  0   1   2\n",
       "  0   0  -2   0   0   0   0   0   0   0     0  0   0  0  0   2   0  0   0   0\n",
       "  0   0   0  -2   0   0   0   0   1   0     0  0   1  0  0   0   0  0   0   0\n",
       "  1   0   0   0  -2   1   0   0   0   0     0  0   0  0  0   0   0  0   0   0\n",
       "  0   0   0   0   1  -2   1   0   0   0  …  0  0   0  0  0   0   0  0   0   0\n",
       "  0   0   0   0   0   1  -2   1   0   0     0  0   0  0  0   0   0  0   0   0\n",
       "  0   0   0   0   0   0   1  -2   1   0     0  0   0  0  0   0   0  0   0   0\n",
       "  0   0   0   1   0   0   0   1  -2   0     0  0   0  0  0   0   0  0   0   0\n",
       "  1   0   0   0   0   0   0   0   0  -2     0  0   0  0  0   0   0  0   0   0\n",
       "  0   0   0   0   0   0   0   0   0   0  …  0  0   0  0  0   0   0  0   0   0\n",
       "  0   0   0   0   0   0   0   0   0   0     0  0   0  0  0   0   0  0   0   0\n",
       "  0   0   0   0   0   0   0   0   0   0     0  0   0  0  0   0   0  0   0   0\n",
       "  ⋮                   ⋮                  ⋱     ⋮                 ⋮         \n",
       "  1   0   0   0   0   0   0   0   0   0     0  0   0  0  0   0   1  0   0   0\n",
       "  0   0   0   0   0   0   0   0   0   0     0  0   0  0  0   0   0  0   0   0\n",
       "  0   0   0   0   0   0   0   0   0   0     0  0   0  0  0   0   0  0   0   0\n",
       "  0   0   0   0   0   0   0   0   0   0  …  0  0   0  0  0   0   0  0   0   0\n",
       "  0   0   0   1   0   0   0   0   0   0     0  0  -2  0  0   0   0  0   1   0\n",
       "  0   0   0   0   0   0   0   0   0   0     0  0   0  0  0   0   0  0   0   0\n",
       "  0   0   0   0   0   0   0   0   0   0     0  0   0  0  0   0   0  0   0   0\n",
       "  0   0   2   0   0   0   0   0   0   0     0  0   0  0  0  -4   0  0   0   2\n",
       "  0   1   0   0   0   0   0   0   0   0  …  0  0   0  0  0   0  -2  0   0   0\n",
       "  0   0   0   0   0   0   0   0   0   0     0  0   0  0  0   0   0  0   0   0\n",
       "  0   1   0   0   0   0   0   0   0   0     0  0   1  0  0   0   0  0  -2   0\n",
       "  0   2   0   0   0   0   0   0   0   0     0  0   0  0  0   2   0  0   0  -4"
      ]
     },
     "execution_count": 60,
     "metadata": {},
     "output_type": "execute_result"
    }
   ],
   "source": [
    "topological_intersection_numbers_among_ci_curves(qsm_model)"
   ]
  },
  {
   "cell_type": "markdown",
   "id": "eb6a62e6-b0b4-4722-ac07-b7802b7d5fc6",
   "metadata": {},
   "source": [
    "Some of the $C_{i}$ curves are trivial, in that $V(x_{i}, s)$ is the empty set.\n",
    "The following method returns the vector of all indices of trivial $C_{i}$ curves.\n",
    "That is, should $V(x_{23}, s)$ be the empty set, then 23 will be included in\n",
    "the returned list:"
   ]
  },
  {
   "cell_type": "code",
   "execution_count": 61,
   "id": "978f51e3-738b-4e7c-b0ac-29cdc0e1eab7",
   "metadata": {},
   "outputs": [
    {
     "data": {
      "text/plain": [
       "10-element Vector{Int64}:\n",
       " 23\n",
       " 22\n",
       " 18\n",
       " 19\n",
       " 20\n",
       " 26\n",
       " 10\n",
       " 11\n",
       " 12\n",
       " 15"
      ]
     },
     "execution_count": 61,
     "metadata": {},
     "output_type": "execute_result"
    }
   ],
   "source": [
    "indices_of_trivial_ci_curves(qsm_model)"
   ]
  },
  {
   "cell_type": "markdown",
   "id": "ee2dbb8c-3e12-4d38-b3a2-a9fb20e01267",
   "metadata": {},
   "source": [
    "The topological intersection numbers among the non-trivial $C_{i}$ curves are used\n",
    "frequently. The following method returns those intersection numbers in the form of a matrix:"
   ]
  },
  {
   "cell_type": "code",
   "execution_count": 62,
   "id": "469f424f-b89b-44a5-8d72-4f9d1910bba9",
   "metadata": {},
   "outputs": [
    {
     "data": {
      "text/plain": [
       "19×19 Matrix{Int64}:\n",
       " -2   0   0   0   1   0   0   0   0   1   0   0   0   1   0   0   0   0   0\n",
       "  0  -2   0   0   0   0   0   0   0   0   0   0   0   0   0   0   1   1   2\n",
       "  0   0  -2   0   0   0   0   0   0   0   0   1   1   0   0   2   0   0   0\n",
       "  0   0   0  -2   0   0   0   0   1   0   1   0   0   0   1   0   0   0   0\n",
       "  1   0   0   0  -2   1   0   0   0   0   0   0   0   0   0   0   0   0   0\n",
       "  0   0   0   0   1  -2   1   0   0   0   0   0   0   0   0   0   0   0   0\n",
       "  0   0   0   0   0   1  -2   1   0   0   0   0   0   0   0   0   0   0   0\n",
       "  0   0   0   0   0   0   1  -2   1   0   0   0   0   0   0   0   0   0   0\n",
       "  0   0   0   1   0   0   0   1  -2   0   0   0   0   0   0   0   0   0   0\n",
       "  1   0   0   0   0   0   0   0   0  -2   0   1   0   0   0   0   0   0   0\n",
       "  0   0   0   1   0   0   0   0   0   0  -2   0   1   0   0   0   0   0   0\n",
       "  0   0   1   0   0   0   0   0   0   1   0  -2   0   0   0   0   0   0   0\n",
       "  0   0   1   0   0   0   0   0   0   0   1   0  -2   0   0   0   0   0   0\n",
       "  1   0   0   0   0   0   0   0   0   0   0   0   0  -2   0   0   1   0   0\n",
       "  0   0   0   1   0   0   0   0   0   0   0   0   0   0  -2   0   0   1   0\n",
       "  0   0   2   0   0   0   0   0   0   0   0   0   0   0   0  -4   0   0   2\n",
       "  0   1   0   0   0   0   0   0   0   0   0   0   0   1   0   0  -2   0   0\n",
       "  0   1   0   0   0   0   0   0   0   0   0   0   0   0   1   0   0  -2   0\n",
       "  0   2   0   0   0   0   0   0   0   0   0   0   0   0   0   2   0   0  -4"
      ]
     },
     "execution_count": 62,
     "metadata": {},
     "output_type": "execute_result"
    }
   ],
   "source": [
    "topological_intersection_numbers_among_nontrivial_ci_curves(qsm_model)"
   ]
  },
  {
   "cell_type": "markdown",
   "id": "153a58b4-dc74-4a5b-b106-6da0da10548b",
   "metadata": {},
   "source": [
    "The collection of the $C_{i}$ curves form a nodal curve. To every nodal curve one can associate a\n",
    "(dual) graph. In this graph, every irreducible component of the nodal curve becomes a node/vertex\n",
    "of the dual graph, and every nodal singularity of the nodal curve turns into an edge of the dual\n",
    "graph. In the case at hand, this is rather simple.\n",
    "\n",
    "The $C_{i}$ curves turn into the irreducible components of the nodal curve. Certainly, we only need\n",
    "to focus on the non-trivial $C_{i}$ curves. A non-trivial $C_{i}$ curve can split into multiple irreducible\n",
    "components. This is taken into acccount when the nodes/vertices of the dual graph are constructed.\n",
    "\n",
    "The topological intersection numbers among the $C_{i}$ curves (or rather, their irreducible components)\n",
    "tells us how many nodal singularities link the $C_{i}$ curves (or rather, their irreducible components)\n",
    "in question. Hence, if the topological intersection numbers is zero, there is no edge between the\n",
    "corresponding nodes. Otherwise, if the topological intersection number is positive, say $n$, then\n",
    "there are exactly $n$ edges between the nodes in question."
   ]
  },
  {
   "cell_type": "markdown",
   "id": "31f12218-d172-4eca-913b-c11c6a5e18d5",
   "metadata": {},
   "source": [
    "The following method returns the dual graph of the QSM model in question.\n",
    "Note that no labels are (currently) attached to the vertices/nodes or edges.\n",
    "To understand/read this graph correctly, one of the following methods listed below:"
   ]
  },
  {
   "cell_type": "code",
   "execution_count": 63,
   "id": "7a64a41b-38ee-4644-b307-016ecb32b32b",
   "metadata": {},
   "outputs": [
    {
     "data": {
      "text/plain": [
       "Undirected graph with 21 nodes and the following edges:\n",
       "(5, 1)(6, 5)(7, 6)(8, 7)(9, 4)(9, 8)(10, 1)(11, 4)(12, 3)(12, 10)(13, 3)(13, 11)(14, 1)(15, 4)(16, 3)(17, 3)(18, 2)(18, 14)(19, 2)(19, 15)(20, 2)(20, 16)(21, 2)(21, 17)"
      ]
     },
     "execution_count": 63,
     "metadata": {},
     "output_type": "execute_result"
    }
   ],
   "source": [
    "dual_graph(qsm_model)"
   ]
  },
  {
   "cell_type": "markdown",
   "id": "9f99e38f-8733-4172-944d-c543caffaffe",
   "metadata": {},
   "source": [
    "The following method returns a vector with labels for each node/vertex of the dual graph of the QSM\n",
    "model in question. Those labels allow to understand the geometric origin of the node/vertex.\n",
    "\n",
    "Specifically, recall that those nodes are associated to the $C_{i}$ curves, which are in turn\n",
    "given by $C_{i} = V(x_{i}, s)$. $x_{i}$ is a homogenous coordinate of the 3-dimensional toric base space\n",
    "B3 of the QSM in question, and s is a generic section of the anticanonical bundle of $B3$.\n",
    "\n",
    "Only non-trivial $C_{i}$ curves correspond to vertices/nodes of the dual graph.\n",
    "\n",
    "If $C_{i}$ is irreducible and corresponds to the k-th component, then the label \"Ci\"\n",
    "appears at position k of the vector returned by this method. However, if $C_{i}$ is\n",
    "reducible, then we introduce the labels Ci-0, Ci-1, Ci-2 etc. for those irreducible\n",
    "components of $C_{i}$. If Ci-0 corresponds to the k-th components of the dual graph,\n",
    "then the label \"Ci-0\" appears at position k of the vector returned by this method:\n"
   ]
  },
  {
   "cell_type": "code",
   "execution_count": 64,
   "id": "702ce797-2724-4dbc-a4cd-fe4d7d6d7fc3",
   "metadata": {},
   "outputs": [
    {
     "data": {
      "text/plain": [
       "21-element Vector{String}:\n",
       " \"C0\"\n",
       " \"C1\"\n",
       " \"C2\"\n",
       " \"C3\"\n",
       " \"C4\"\n",
       " \"C5\"\n",
       " \"C6\"\n",
       " \"C7\"\n",
       " \"C8\"\n",
       " \"C9\"\n",
       " \"C13\"\n",
       " \"C14\"\n",
       " \"C16\"\n",
       " \"C17\"\n",
       " \"C21\"\n",
       " \"C24-0\"\n",
       " \"C24-1\"\n",
       " \"C25\"\n",
       " \"C27\"\n",
       " \"C28-0\"\n",
       " \"C28-1\""
      ]
     },
     "execution_count": 64,
     "metadata": {},
     "output_type": "execute_result"
    }
   ],
   "source": [
    "components_of_dual_graph(qsm_model)"
   ]
  },
  {
   "cell_type": "markdown",
   "id": "2ad89195-17b8-4f2d-9572-11893d965fed",
   "metadata": {},
   "source": [
    "The anticanonical bundle of the toric 3-dimensional base space of the F-theory QSM in\n",
    "question can be restricted to the (geometric counterparts of the) nodes/vertices of\n",
    "the dual graph. The result is a line bundle for each node/vertex. The following method returns\n",
    "a vector with the degrees of these line bundles:"
   ]
  },
  {
   "cell_type": "code",
   "execution_count": 65,
   "id": "76b54ab2-730a-4945-9269-6359d7090e35",
   "metadata": {},
   "outputs": [
    {
     "data": {
      "text/plain": [
       "0"
      ]
     },
     "execution_count": 65,
     "metadata": {},
     "output_type": "execute_result"
    }
   ],
   "source": [
    "degrees_of_kbar_restrictions_to_components_of_dual_graph(qsm_model)[\"C28-1\"]"
   ]
  },
  {
   "cell_type": "markdown",
   "id": "d9bc90b7-5d9c-454d-a927-b2ab3ea234ce",
   "metadata": {},
   "source": [
    "The following method returns a vector with the genera of the (geometric\n",
    "counterparts of the) nodes/vertices of the dual graph:"
   ]
  },
  {
   "cell_type": "code",
   "execution_count": 66,
   "id": "b41a2d49-a79a-4854-89a2-aaa9eba5ee93",
   "metadata": {},
   "outputs": [
    {
     "data": {
      "text/plain": [
       "0"
      ]
     },
     "execution_count": 66,
     "metadata": {},
     "output_type": "execute_result"
    }
   ],
   "source": [
    "genera_of_components_of_dual_graph(qsm_model)[\"C28-1\"]"
   ]
  },
  {
   "cell_type": "markdown",
   "id": "a1c5e06a-bce8-43aa-a4b5-75c8e698841f",
   "metadata": {},
   "source": [
    "The dual graph is essential in counting root bundles (cf. [BCL21](@cite)). It turns out, that one\n",
    "can simplify this graph so that the computations at hand can be conducted on a simpler graph\n",
    "instead. The following functionality exists to access this simplified dual graph:\n",
    "```@docs\n",
    "simplified_dual_graph(m::AbstractFTheoryModel)\n",
    "components_of_simplified_dual_graph(m::AbstractFTheoryModel)\n",
    "degrees_of_kbar_restrictions_to_components_of_simplified_dual_graph(m::AbstractFTheoryModel)\n",
    "genera_of_components_of_simplified_dual_graph(m::AbstractFTheoryModel)\n",
    "```"
   ]
  },
  {
   "cell_type": "code",
   "execution_count": null,
   "id": "ef7c098c-d336-45a5-a6c0-d679a4a90e7a",
   "metadata": {},
   "outputs": [],
   "source": []
  }
 ],
 "metadata": {
  "kernelspec": {
   "display_name": "Julia 1.10.4",
   "language": "julia",
   "name": "julia-1.10"
  },
  "language_info": {
   "file_extension": ".jl",
   "mimetype": "application/julia",
   "name": "julia",
   "version": "1.10.4"
  }
 },
 "nbformat": 4,
 "nbformat_minor": 5
}
