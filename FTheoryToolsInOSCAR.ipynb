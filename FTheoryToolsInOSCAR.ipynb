{
 "cells": [
  {
   "cell_type": "markdown",
   "id": "85fd2ee3-b210-48cb-ae68-e8d254dd7703",
   "metadata": {},
   "source": [
    "# *FTheoryTools*\n",
    "\n",
    "* Authors: Martin Bies, Mikelis Emils Mikelsons, Andrew P. Turner\n",
    "* Version: OSCAR version 1.1.0\n",
    "* Last modified: June 27th, 2024"
   ]
  },
  {
   "cell_type": "markdown",
   "id": "605e34eb-b200-432a-be17-e21b47f2b615",
   "metadata": {},
   "source": [
    "This tutorial provides a brief introduction to the *FTheoryTools* component of *OSCAR*.\n",
    "\n",
    "The aim is to describe some basic constructions. In order to facilitate this introduction, we are very selective in what we present. For a full description of the available functionality, see https://docs.oscar-system.org/stable/Experimental/FTheoryTools/introduction/. It is worth mentioning that *FTheoryTools* is still (as of June 21st, 2024) in its experimental stage in *OSCAR*. Consequently, major changes may happen in the future.\n",
    "\n",
    "For this tutorial, no prior knowledge of *OSCAR* is necessary.\n",
    "\n",
    "## Content\n",
    "1. [An SU(5) Tate model from scratch](#1-An-SU(5)-Tate-model-from-scratch)\n",
    "   - [Construction](#1.A-Construction)\n",
    "   - [Properties and Attributes](#1.B-Properties-and-Attributes)\n",
    "2. [Literature Models and Singularity Resolution](#2-Literature-Models-and-Singularity-Resolution)\n",
    "   - [Creating a Literature Model](#2-A-Creating-a-Literature-Model)\n",
    "   - [Attributes and Properties of Literature Models](#2.B-Attributes-and-Properties-of-Literature-Models)\n",
    "   - [Singularity Resolution](#2.C-Singularity-Resolution)\n",
    "    - [Other Functionality](#2.D-Other-Functionality)\n",
    "3. [The Quadrillion F-Theory Standard Models](#3-The-Quadrillion-F-Theory-Standard-Models)\n",
    "    - [Base Geometry](#3.A-Base-Geometry)\n",
    "    - [The $C_{i}$ Curves](#3.B-The-C_i-Curves)"
   ]
  },
  {
   "cell_type": "code",
   "execution_count": 1,
   "id": "e53ffe0c-2900-464b-a2e7-c2f7c3e5be6a",
   "metadata": {},
   "outputs": [
    {
     "name": "stdout",
     "output_type": "stream",
     "text": [
      "  ___   ____   ____    _    ____\n",
      " / _ \\ / ___| / ___|  / \\  |  _ \\   |  Combining ANTIC, GAP, Polymake, Singular\n",
      "| | | |\\___ \\| |     / _ \\ | |_) |  |  Type \"?Oscar\" for more information\n",
      "| |_| | ___) | |___ / ___ \\|  _ <   |  Manual: https://docs.oscar-system.org\n",
      " \\___/ |____/ \\____/_/   \\_\\_| \\_\\  |  1.1.0 #release-1.1 d0b75de 2024-06-21\n"
     ]
    }
   ],
   "source": [
    "using Oscar"
   ]
  },
  {
   "cell_type": "markdown",
   "id": "ebe8b891-7d57-465a-b237-80f766e923a4",
   "metadata": {},
   "source": [
    "# 1 An SU(5) Tate model from scratch"
   ]
  },
  {
   "cell_type": "markdown",
   "id": "5116cd56-24d4-48ef-9eee-4eac2dcafb22",
   "metadata": {},
   "source": [
    "## 1.A Construction"
   ]
  },
  {
   "cell_type": "markdown",
   "id": "b8c53ecf-5283-4748-9f24-d34864b60d7a",
   "metadata": {},
   "source": [
    "We begin by showing how an F-theory model can be created within the F-theory tools. This is showcase this by looking at an $SU(5)$ Tate model over an arbitrary base. To construct this model, we begin with a $\\mathbb{P}^{2, 3, 1}$ fibration over a complex $n$-dimensional base manifold $B$, such that the homogeneous coordinates $[x : y : z]$ transform as\n",
    "    $$x \\in H^0(B, \\bar{K}_B^{\\otimes 2})\\,, \\quad y \\in H^0(B, \\bar{K}_B^{\\otimes 3})\\,, \\quad z \\in H^0(B, \\mathcal{O}_B)\\,,$$\n",
    "with $K_B$ the canonical bundle of the base. A Tate model is realized as a hypersurface in this $(n + 2)$-dimensional ambient space given by the locus\n",
    "    $$y^2 + a_1 x y z + a_3 y z^3 = x^3 + a_2 x^2 z^2 + a_4 x z^4 + a_6 z^6\\,,$$\n",
    "with $a_i \\in H^0(B, \\bar{K}_B^{\\otimes i})$. These data define an elliptic fibration $X$ over the base $B$.\n",
    "\n",
    "For the SU(5) Tate model, we tune the parameters $a_i$ of the model so they become proportional to specific powers of $w$, with $w = 0$ a divisor in the base $B$:\n",
    "    $$a_1 = w^0 a_{1, 0}\\,, \\quad a_2 = w^1 a_{2, 1}\\,, \\quad a_3 = w^2 a_{3, 2}\\,, \\quad a_4 = w^3 a_{4, 3}\\,, \\quad a_6 \\equiv 0\\,.$$\n",
    "Certainly, we could fix a base. In this case we talk about one explicit geometry/F-theory model. Typically, people in the literature like to study families of models in that the base is left mostly unconstrained. Even so, one would at the very least fix the dimension of the base. We shall follow this example and fix $\\mathrm{dim}(B) = 3$."
   ]
  },
  {
   "cell_type": "markdown",
   "id": "c46e076e",
   "metadata": {},
   "source": [
    "With $\\texttt{FTheoryTools}$, we can create this model with the following steps. First, we create a ring (which you may read as an auxiliary base coordinate ring) whose indeterminates are the parameters needed to define the Tate model in question. Here these parameters are $a_{10}$, $a_{21}$, $a_{32}$, $a_{43}$, $a_{65}$ and $w$. So we create the following ring:"
   ]
  },
  {
   "cell_type": "code",
   "execution_count": 2,
   "id": "6ee360c2-4154-45e1-bc4d-ff17fc7b5ee8",
   "metadata": {},
   "outputs": [
    {
     "data": {
      "text/plain": [
       "(Multivariate polynomial ring in 6 variables over QQ, QQMPolyRingElem[a10, a21, a32, a43, a65, w])"
      ]
     },
     "execution_count": 2,
     "metadata": {},
     "output_type": "execute_result"
    }
   ],
   "source": [
    "auxiliary_base_ring, (a10, a21, a32, a43, a65, w) = QQ[\"a10\", \"a21\", \"a32\", \"a43\", \"a65\", \"w\"]"
   ]
  },
  {
   "cell_type": "markdown",
   "id": "8636098f-c368-461d-92a7-e29d35123dc0",
   "metadata": {},
   "source": [
    "Note that this command not only defines the polynomial ring, but also defines symbols a10, a21, \\dots, w which refer to the indeterminates of this polynomial ring. This will be important momentarily."
   ]
  },
  {
   "cell_type": "markdown",
   "id": "20ce21fe-f27e-4192-983a-637fde592f54",
   "metadata": {},
   "source": [
    "As mentioned above, the model parameters $a_{ij}$ transform as sections of the line bundle $\\overline{K}_{B}^{\\otimes i} \\otimes \\mathcal{O}_B(\\{ w = 0 \\})^{\\otimes (-j)}$. Certainly, we must inform $\\texttt{FTheoryTools}$ about this transformation behavior. To this en, we record the powers $i$ and $j$ in the following matrix:"
   ]
  },
  {
   "cell_type": "code",
   "execution_count": 3,
   "id": "8fcfca37-fa7b-48a2-8aa5-828387958e2f",
   "metadata": {},
   "outputs": [
    {
     "data": {
      "text/plain": [
       "2×6 Matrix{Int64}:\n",
       " 1   2   3   4   6  0\n",
       " 0  -1  -2  -3  -5  1"
      ]
     },
     "execution_count": 3,
     "metadata": {},
     "output_type": "execute_result"
    }
   ],
   "source": [
    "auxiliary_base_grading = [1 2 3 4 6 0; 0 -1 -2 -3 -5 1]"
   ]
  },
  {
   "cell_type": "markdown",
   "id": "bf1417e0-bb1b-48b3-9db1-68baf9825b21",
   "metadata": {},
   "source": [
    "Finally, we define the Tate sections $a_1$, $a_2$, \\dots, $a_6$ in terms of the model parameters (a.k.a. the indetemrinates of the polynomial ring4 $auxiliary\\_base\\_ring$ as defined above."
   ]
  },
  {
   "cell_type": "code",
   "execution_count": 4,
   "id": "8bc562ca-2114-4e58-8190-12e3e212b51e",
   "metadata": {},
   "outputs": [
    {
     "data": {
      "text/plain": [
       "0"
      ]
     },
     "execution_count": 4,
     "metadata": {},
     "output_type": "execute_result"
    }
   ],
   "source": [
    "a1 = a10\n",
    "a2 = a21 * w\n",
    "a3 = a32 * w^2\n",
    "a4 = a43 * w^3\n",
    "a6 = zero(auxiliary_base_ring)"
   ]
  },
  {
   "cell_type": "markdown",
   "id": "042f6145-3fd1-44ab-bb12-47d0fcc80211",
   "metadata": {},
   "source": [
    "It is convenient to group these Tate sections in a vector. As such, the following line completes our preparations to define this F-theory model."
   ]
  },
  {
   "cell_type": "code",
   "execution_count": 5,
   "id": "ccc408a5-674f-4a1b-a107-a35594c853fb",
   "metadata": {},
   "outputs": [
    {
     "data": {
      "text/plain": [
       "5-element Vector{QQMPolyRingElem}:\n",
       " a10\n",
       " a21*w\n",
       " a32*w^2\n",
       " a43*w^3\n",
       " 0"
      ]
     },
     "execution_count": 5,
     "metadata": {},
     "output_type": "execute_result"
    }
   ],
   "source": [
    "ais = [a1, a2, a3, a4, a6]"
   ]
  },
  {
   "cell_type": "markdown",
   "id": "73c98964",
   "metadata": {},
   "source": [
    "Now we can define the Tate model as given above. Recall that we fixed $\\mathrm{dim}(B) = 3$. (in this case, we will choose $d = 3$ for the dimension of the base):"
   ]
  },
  {
   "cell_type": "code",
   "execution_count": 6,
   "id": "3e0b2258",
   "metadata": {},
   "outputs": [
    {
     "name": "stdout",
     "output_type": "stream",
     "text": [
      "Assuming that the first row of the given grading is the grading under Kbar\n",
      "\n"
     ]
    },
    {
     "data": {
      "text/plain": [
       "Global Tate model over a not fully specified base"
      ]
     },
     "execution_count": 6,
     "metadata": {},
     "output_type": "execute_result"
    }
   ],
   "source": [
    "su5_tate = global_tate_model(auxiliary_base_ring, auxiliary_base_grading, 3, ais)"
   ]
  },
  {
   "cell_type": "markdown",
   "id": "c343ac2a-0e11-4966-a879-3f51643b9cbf",
   "metadata": {},
   "source": [
    "For simplicity, and to ease reuse, let us collect all these steps necessary to construct this model in the following code sample:"
   ]
  },
  {
   "cell_type": "code",
   "execution_count": 7,
   "id": "30ad0b4f-3fca-4af1-852a-5a4f07f8589e",
   "metadata": {},
   "outputs": [
    {
     "name": "stdout",
     "output_type": "stream",
     "text": [
      "Assuming that the first row of the given grading is the grading under Kbar\n",
      "\n"
     ]
    },
    {
     "data": {
      "text/plain": [
       "Global Tate model over a not fully specified base"
      ]
     },
     "execution_count": 7,
     "metadata": {},
     "output_type": "execute_result"
    }
   ],
   "source": [
    "auxiliary_base_ring, (a10, a21, a32, a43, a65, w) = QQ[\"a10\", \"a21\", \"a32\", \"a43\", \"a65\", \"w\"] # Ring, whose variables are the model parameters.\n",
    "auxiliary_base_grading = [1 2 3 4 6 0; 0 -1 -2 -3 -5 1] # Transformation behavior of the model parameters under the model classes, here Kbar and [w].\n",
    "a1 = a10 # Tuning the Tate sections\n",
    "a2 = a21 * w\n",
    "a3 = a32 * w^2\n",
    "a4 = a43 * w^3\n",
    "a6 = zero(auxiliary_base_ring)\n",
    "ais = [a1, a2, a3, a4, a6] # Collecting the Tate sections in a vector.\n",
    "d = 3 # Dimension of the base.\n",
    "su5_tate = global_tate_model(auxiliary_base_ring, auxiliary_base_grading, 3, ais) # Finally, constructing the model"
   ]
  },
  {
   "cell_type": "markdown",
   "id": "3679c88e-9ebf-42f1-ac19-ad854f3fccd1",
   "metadata": {},
   "source": [
    "## 1.B Properties and Attributes"
   ]
  },
  {
   "cell_type": "markdown",
   "id": "98dffa94",
   "metadata": {},
   "source": [
    "We can now extract various properties and attributes of this model, including (but not limited to) the Tate polynomial, the Tate sections, its base space etc. Here are some examples:"
   ]
  },
  {
   "cell_type": "code",
   "execution_count": 8,
   "id": "6933c119",
   "metadata": {},
   "outputs": [
    {
     "data": {
      "text/plain": [
       "-a10*x*y*z + a21*w*x^2*z^2 - a32*w^2*y*z^3 + a43*w^3*x*z^4 + x^3 - y^2"
      ]
     },
     "execution_count": 8,
     "metadata": {},
     "output_type": "execute_result"
    }
   ],
   "source": [
    "su5_tate_poly = tate_polynomial(su5_tate)"
   ]
  },
  {
   "cell_type": "code",
   "execution_count": 9,
   "id": "2785b979-5ff2-47de-88e1-57eeb0bede14",
   "metadata": {},
   "outputs": [
    {
     "data": {
      "text/plain": [
       "A family of spaces of dimension d = 3"
      ]
     },
     "execution_count": 9,
     "metadata": {},
     "output_type": "execute_result"
    }
   ],
   "source": [
    "base_space(su5_tate)"
   ]
  },
  {
   "cell_type": "code",
   "execution_count": 10,
   "id": "8824185f-cc9b-40b5-b40e-26e950adbd08",
   "metadata": {},
   "outputs": [
    {
     "data": {
      "text/plain": [
       "A family of spaces of dimension d = 5"
      ]
     },
     "execution_count": 10,
     "metadata": {},
     "output_type": "execute_result"
    }
   ],
   "source": [
    "ambient_space(su5_tate)"
   ]
  },
  {
   "cell_type": "markdown",
   "id": "5a39619c-6880-486a-a013-55d098fb48d4",
   "metadata": {},
   "source": [
    "This constructed model has singularities, and various information about these singularities determines the physics of the model.\n",
    "\n",
    "Recall that a Tate model (often referred to as \"long Weierstrass form\" in the mathematics literature) can always be cast into a Weierstrass model (also referred to as \"short Weierstrass form\"). The discriminant locus of this Weierstrass model informs us on the base loci over which the elliptic fiber is singular. So let us compute this.\n",
    "\n",
    "First, we compute the corresponding Weiersrass model:"
   ]
  },
  {
   "cell_type": "code",
   "execution_count": 11,
   "id": "b09f9f97-ced9-42b0-ae72-343d28e5e9aa",
   "metadata": {},
   "outputs": [
    {
     "data": {
      "text/plain": [
       "Weierstrass model over a not fully specified base"
      ]
     },
     "execution_count": 11,
     "metadata": {},
     "output_type": "execute_result"
    }
   ],
   "source": [
    "su5_weierstrass = weierstrass_model(su5_tate)"
   ]
  },
  {
   "cell_type": "markdown",
   "id": "db17cb3a-b5f0-462b-bb93-5224883aa1e8",
   "metadata": {},
   "source": [
    "In terms of the Weierstrass sections $f$ and $g$, the discrminant is given by $\\Delta = 4 f^3 + 27 g^2$. Hence, we first compute the Weierstrass sections:"
   ]
  },
  {
   "cell_type": "code",
   "execution_count": 12,
   "id": "7e0634be-b724-40c3-86ca-d1507bccfd08",
   "metadata": {},
   "outputs": [
    {
     "data": {
      "text/plain": [
       "-1//48*a10^4 - 1//6*a10^2*a21*w + 1//2*a10*a32*w^2 - 1//3*a21^2*w^2 + a43*w^3"
      ]
     },
     "execution_count": 12,
     "metadata": {},
     "output_type": "execute_result"
    }
   ],
   "source": [
    "su5_f = weierstrass_section_f(su5_weierstrass)"
   ]
  },
  {
   "cell_type": "code",
   "execution_count": 13,
   "id": "effd4e15-7485-4145-8409-08f1a4b7e422",
   "metadata": {},
   "outputs": [
    {
     "data": {
      "text/plain": [
       "1//864*a10^6 + 1//72*a10^4*a21*w - 1//24*a10^3*a32*w^2 + 1//18*a10^2*a21^2*w^2 - 1//12*a10^2*a43*w^3 - 1//6*a10*a21*a32*w^3 + 2//27*a21^3*w^3 - 1//3*a21*a43*w^4 + 1//4*a32^2*w^4"
      ]
     },
     "execution_count": 13,
     "metadata": {},
     "output_type": "execute_result"
    }
   ],
   "source": [
    "su5_g = weierstrass_section_g(su5_weierstrass)"
   ]
  },
  {
   "cell_type": "markdown",
   "id": "25988f10",
   "metadata": {},
   "source": [
    "Certainly, $\\texttt{FTheoryTools}$ can do all of this automatically and use the expressions to compute the discriminant $\\Delta$:"
   ]
  },
  {
   "cell_type": "code",
   "execution_count": 14,
   "id": "4890e14f",
   "metadata": {},
   "outputs": [
    {
     "data": {
      "text/plain": [
       "(-1//16) * w^5 * (a10^5*a32*a43 - a10^4*a21*a32^2 + a10^4*a43^2*w + 8*a10^3*a21*a32*a43*w + a10^3*a32^3*w - 8*a10^2*a21^2*a32^2*w + 8*a10^2*a21*a43^2*w^2 - 30*a10^2*a32^2*a43*w^2 + 16*a10*a21^2*a32*a43*w^2 + 36*a10*a21*a32^3*w^2 - 96*a10*a32*a43^2*w^3 - 16*a21^3*a32^2*w^2 + 16*a21^2*a43^2*w^3 + 72*a21*a32^2*a43*w^3 - 27*a32^4*w^3 - 64*a43^3*w^4)"
      ]
     },
     "execution_count": 14,
     "metadata": {},
     "output_type": "execute_result"
    }
   ],
   "source": [
    "su5_disc = factor(discriminant(su5_tate))"
   ]
  },
  {
   "cell_type": "markdown",
   "id": "e1216f4a-b66a-4069-9172-868c70a903a6",
   "metadata": {},
   "source": [
    "We must be a bit careful with this method, as its internal mechanics currently makes assumptions that mirror toric situations. We are still working on the framework for arbitrary base spaces, and so this assumption may or may not be overuled at some point in the future.\n",
    "\n",
    "Irrespective, we have taken great care to verify that the current functionality produces correct results, such as the above. (Interested people could compare with the results presented in https://link.springer.com/article/10.1007/JHEP08(2012)119."
   ]
  },
  {
   "cell_type": "markdown",
   "id": "7749dd23",
   "metadata": {},
   "source": [
    "From the expression of the discriminant, we can see that it vanishes to order 5 at the locus $w = 0$. In contrasts, the Weierstrass sections $f$ and $g$ do not vanish at $\\{ w = 0\\}$:"
   ]
  },
  {
   "cell_type": "code",
   "execution_count": 15,
   "id": "eb28f69d",
   "metadata": {},
   "outputs": [
    {
     "data": {
      "text/plain": [
       "(-1//48) * (a10^4 + 8*a10^2*a21*w - 24*a10*a32*w^2 + 16*a21^2*w^2 - 48*a43*w^3)"
      ]
     },
     "execution_count": 15,
     "metadata": {},
     "output_type": "execute_result"
    }
   ],
   "source": [
    "factor(su5_f)"
   ]
  },
  {
   "cell_type": "code",
   "execution_count": 16,
   "id": "f262e22e",
   "metadata": {},
   "outputs": [
    {
     "data": {
      "text/plain": [
       "(1//864) * (a10^6 + 12*a10^4*a21*w - 36*a10^3*a32*w^2 + 48*a10^2*a21^2*w^2 - 72*a10^2*a43*w^3 - 144*a10*a21*a32*w^3 + 64*a21^3*w^3 - 288*a21*a43*w^4 + 216*a32^2*w^4)"
      ]
     },
     "execution_count": 16,
     "metadata": {},
     "output_type": "execute_result"
    }
   ],
   "source": [
    "factor(su5_g)"
   ]
  },
  {
   "cell_type": "markdown",
   "id": "db64b3ac",
   "metadata": {},
   "source": [
    "This indicates that the singularity at $w = 0$ has Kodaira type $I_5$, which gives rise to an SU(5) gauge group, as desired (cf. \"Weierstrass table\" at https://docs.oscar-system.org/stable/Experimental/FTheoryTools/weierstrass/).\n",
    "\n",
    "This analysis of finding the type of gauge enhancement can also be carried out automatically in \\texttt{FTheoryTools}:"
   ]
  },
  {
   "cell_type": "code",
   "execution_count": 17,
   "id": "7a5471ef",
   "metadata": {},
   "outputs": [
    {
     "data": {
      "text/plain": [
       "2-element Vector{Tuple{MPolyIdeal{<:MPolyRingElem}, Tuple{Int64, Int64, Int64}, String}}:\n",
       " (Ideal with 1 generator, (0, 0, 1), \"I_1\")\n",
       " (Ideal (w), (0, 0, 5), \"Split I_5\")"
      ]
     },
     "execution_count": 17,
     "metadata": {},
     "output_type": "execute_result"
    }
   ],
   "source": [
    "singular_loci(su5_tate)"
   ]
  },
  {
   "cell_type": "markdown",
   "id": "37b3dbdd",
   "metadata": {},
   "source": [
    "This indicates a split (indicating the Tate monodromy type) $I_5$ singularity at $w = 0$, and identifies the rest of the discriminant as a type $I_1$ singularity.\n",
    "\n",
    "(Note that we are using the Kodaira classification, despite the fact that $X$ is not an elliptic surface; we will further abuse the classification by using it at codimension higher than 1. This is standard in the physics literature, and though acknowledged as improper, always gives consistent physical results in known examples.)"
   ]
  },
  {
   "cell_type": "markdown",
   "id": "c735f4f7",
   "metadata": {},
   "source": [
    "In order to analyze the fibers over the singular locus, we wish to resolve the singularities of the space $X$. However, due to physical constraints (in order to maintain supersymmetry), we restrict ourselves only to crepant resolutions, and we leave any terminal singularities unresolved. The particular model we are considering can be crepantly resolved through codimension 3 by the following sequence of blowups:\n",
    "    $$X_4 \\xrightarrow{(b_{3, 1}, e_2)} X_3 \\xrightarrow{(b_{2, 2}, b_{2, 3})} X_2 \\xrightarrow{(b_{1, 1}, b_{1, 2}, e_1)} X_1 \\xrightarrow{(x, y, w)} X\\,,$$\n",
    "where the center of each blowup is indicated above the corresponding arrow. For blowup $i$ with center $(g_1, \\dotsc, g_m)$, the blowup is carried out as $g_j \\to e_i b_{i, j}$, so that $e_i = 0$ is the exceptional locus of the blowup.\n",
    "\n",
    "This sequence of blowups was worked out by Krause, Mayrhofer and Weigand in https://arxiv.org/abs/1109.3454. So we should hope that $\\texttt{FTheoryTools}$ knows this result. Indeed, your hopes are fulfilled. Let us turn to this next."
   ]
  },
  {
   "cell_type": "markdown",
   "id": "18f4dde5-a56a-4791-b96a-26239f39026a",
   "metadata": {},
   "source": [
    "# 2 Literature Models and Singularity Resolution"
   ]
  },
  {
   "cell_type": "markdown",
   "id": "70b089f4-da5d-4368-8559-132529f6e0a9",
   "metadata": {},
   "source": [
    "## 2.A Creating a Literature Model"
   ]
  },
  {
   "cell_type": "markdown",
   "id": "b487c660-744b-4e45-90c1-54cb50c45560",
   "metadata": {},
   "source": [
    "We begin by creating the above model anew. However, this time we choose a different route:\n",
    "* The above model is a well-known literature construction, and we provide specialized constructors for such standard constructions. In particular, these constructors will know about known resolutions, such as the one mentioned in the previous paragraph.\n",
    "* We create this model over a concrete base space. Thereby, we can explicitly execute the resolution in question. (At this point, we are discussing if and how this can be reliably extended to arbitrary base spaces.) For simplicity, we choose $\\mathbb{P}^3$ as our base space."
   ]
  },
  {
   "cell_type": "markdown",
   "id": "48073d07-f2ed-4efe-9c58-5601323f5909",
   "metadata": {},
   "source": [
    "With that being said, our first step in this construction is to build the base space $\\mathbb{P}^3$:"
   ]
  },
  {
   "cell_type": "code",
   "execution_count": 18,
   "id": "1b687093-aeea-4243-8c2a-db02ac458ee9",
   "metadata": {},
   "outputs": [
    {
     "data": {
      "text/plain": [
       "Normal toric variety"
      ]
     },
     "execution_count": 18,
     "metadata": {},
     "output_type": "execute_result"
    }
   ],
   "source": [
    "B3 = projective_space(NormalToricVariety, 3)"
   ]
  },
  {
   "cell_type": "markdown",
   "id": "684a9214-ea5c-4795-be37-217593788952",
   "metadata": {},
   "source": [
    "The next step is to fix the divisor $\\{ w = 0 \\} \\subset B$, over which we shall disign the $SU(5)$ gauge enhancement. It is standard to fix this locus by choice of an effective divisor (class). The logic is to subsequently pick a generic section in the associated line bundle and then consider the zero locus of a generic section of this line bundle. (Although, one can of course also consider non-generic sections!)\n",
    "\n",
    "With that being said, here is our choice of divisor class:"
   ]
  },
  {
   "cell_type": "code",
   "execution_count": 19,
   "id": "299c67a6-f21b-40c3-9685-430f42d909ce",
   "metadata": {},
   "outputs": [
    {
     "data": {
      "text/plain": [
       "Torus-invariant, prime divisor on a normal toric variety"
      ]
     },
     "execution_count": 19,
     "metadata": {},
     "output_type": "execute_result"
    }
   ],
   "source": [
    "w = torusinvariant_prime_divisors(B3)[1]"
   ]
  },
  {
   "cell_type": "markdown",
   "id": "07ceba05-c067-4fe5-be8c-a151ec5adf30",
   "metadata": {},
   "source": [
    "With these preparational steps, we can now construct this literature model as follows:"
   ]
  },
  {
   "cell_type": "code",
   "execution_count": 20,
   "id": "45e8145d-0bba-4758-bec3-5c0222834432",
   "metadata": {},
   "outputs": [
    {
     "name": "stdout",
     "output_type": "stream",
     "text": [
      "Construction over concrete base may lead to singularity enhancement. Consider computing singular_loci. However, this may take time!\n",
      "\n"
     ]
    },
    {
     "data": {
      "text/plain": [
       "Global Tate model over a concrete base -- SU(5)xU(1) restricted Tate model based on arXiv paper 1109.3454 Eq. (3.1)"
      ]
     },
     "execution_count": 20,
     "metadata": {},
     "output_type": "execute_result"
    }
   ],
   "source": [
    "t2 = literature_model(arxiv_id = \"1109.3454\", equation = \"3.1\", base_space = B3, defining_classes = Dict(\"w\" => w), completeness_check = false)"
   ]
  },
  {
   "cell_type": "markdown",
   "id": "322bb8ba-fb2b-4155-b523-f1575206f51d",
   "metadata": {},
   "source": [
    "Note that in the above case, we used the arxiv identifier of the paper in question as well as the equation number in said paper to fully specify the model that we seek to construct. Of course, other information can be provided too for the querry (DOI, section, authors, etc.). In addition, you may want to specify the model type (Weierstrass model, global Tate model, hypersurface model etc.) as multiple forms/presentations of one and the same model might be available in our database."
   ]
  },
  {
   "cell_type": "markdown",
   "id": "682b96a4-3fc0-466e-ac89-0f886fe7bcc0",
   "metadata": {},
   "source": [
    "Arguably, it can be tedious to find the arxiv number, section, paragraph, etc. Therefore, let us mention that we also support a simplified constructor for convenience. Instead of the meta data of the article, this constructor accepts an integer, which specifies the position of this model in our database. This is useful for commonly used models, whose index could be memorised. For instance, the above model is (for historic reasons) the first model in our database. Hence, we can also create it as follows (once the base $B_3$ and the divsior class $w$ have been chosen):"
   ]
  },
  {
   "cell_type": "code",
   "execution_count": 21,
   "id": "72782045-583d-4b95-94e9-8b009f9a3166",
   "metadata": {},
   "outputs": [
    {
     "name": "stdout",
     "output_type": "stream",
     "text": [
      "Construction over concrete base may lead to singularity enhancement. Consider computing singular_loci. However, this may take time!\n",
      "\n"
     ]
    },
    {
     "data": {
      "text/plain": [
       "Global Tate model over a concrete base -- SU(5)xU(1) restricted Tate model based on arXiv paper 1109.3454 Eq. (3.1)"
      ]
     },
     "execution_count": 21,
     "metadata": {},
     "output_type": "execute_result"
    }
   ],
   "source": [
    "t2 = literature_model(1, base_space = B3, defining_classes = Dict(\"w\" => w), completeness_check = false)"
   ]
  },
  {
   "cell_type": "markdown",
   "id": "5ee61749-e97d-47b6-b9ab-e1416c3e710f",
   "metadata": {},
   "source": [
    "To see if we already support your desired model and which index it has, use the following method. (And of course, if we do not yet support your desired model, please be in touch. We will then try to make it happen.)"
   ]
  },
  {
   "cell_type": "code",
   "execution_count": 22,
   "id": "9e38aaf5-fa9e-4e4e-a47a-c3245527d184",
   "metadata": {},
   "outputs": [
    {
     "name": "stdout",
     "output_type": "stream",
     "text": [
      "Model 1:\n",
      "Dict{String, Any}(\"journal_section\" => \"3\", \"arxiv_page\" => \"10\", \"arxiv_id\" => \"1109.3454\", \"arxiv_version\" => \"2\", \"journal_equation\" => \"3.1\", \"journal_page\" => \"9\", \"arxiv_equation\" => \"3.1\", \"journal_doi\" => \"10.1016/j.nuclphysb.2011.12.013\", \"arxiv_section\" => \"3\", \"journal\" => \"Nucl. Phys. B\", \"file\" => \"model1109_3454.json\", \"arxiv_doi\" => \"10.48550/arXiv.1109.3454\", \"model_index\" => \"1\", \"type\" => \"tate\")\n",
      "\n",
      "Model 2:\n",
      "Dict{String, Any}(\"journal_section\" => \"B\", \"arxiv_page\" => \"32\", \"arxiv_id\" => \"1208.2695\", \"arxiv_version\" => \"2\", \"journal_equation\" => \"B.5\", \"journal_page\" => \"33\", \"arxiv_equation\" => \"B.5\", \"journal_doi\" => \"10.1007/JHEP10(2012)128\", \"arxiv_section\" => \"B\", \"journal\" => \"JHEP\", \"file\" => \"model1208_2695-1.json\", \"arxiv_doi\" => \"10.48550/arXiv.1208.2695\", \"model_index\" => \"2\", \"type\" => \"hypersurface\")\n",
      "\n",
      "Model 3:\n",
      "Dict{String, Any}(\"journal_section\" => \"B\", \"arxiv_page\" => \"34\", \"arxiv_id\" => \"1208.2695\", \"arxiv_version\" => \"2\", \"journal_equation\" => \"B.19\", \"journal_page\" => \"34\", \"arxiv_equation\" => \"B.19\", \"journal_doi\" => \"10.1007/JHEP10(2012)128\", \"arxiv_section\" => \"B\", \"journal\" => \"JHEP\", \"file\" => \"model1208_2695-2.json\", \"arxiv_doi\" => \"10.48550/arXiv.1208.2695\", \"model_index\" => \"3\", \"type\" => \"weierstrass\")\n",
      "\n",
      "Model 4:\n",
      "Dict{String, Any}(\"journal_section\" => \"\", \"arxiv_page\" => \"19\", \"arxiv_id\" => \"1212.2949\", \"arxiv_version\" => \"2\", \"journal_equation\" => \"\", \"journal_page\" => \"\", \"arxiv_equation\" => \"3.2\", \"journal_doi\" => \"10.1007/JHEP04(2013)061\", \"arxiv_section\" => \"3.1\", \"journal\" => \"JHEP\", \"file\" => \"model1212_2949-1.json\", \"arxiv_doi\" => \"10.48550/arXiv.1212.2949\", \"model_index\" => \"4\", \"type\" => \"tate\")\n",
      "\n",
      "Model 5:\n",
      "Dict{String, Any}(\"journal_section\" => \"\", \"arxiv_page\" => \"31\", \"arxiv_id\" => \"1212.2949\", \"arxiv_version\" => \"2\", \"journal_equation\" => \"\", \"journal_page\" => \"\", \"arxiv_equation\" => \"3.42\", \"journal_doi\" => \"10.1007/JHEP04(2013)061\", \"arxiv_section\" => \"3.2\", \"journal\" => \"JHEP\", \"file\" => \"model1212_2949-2.json\", \"arxiv_doi\" => \"10.48550/arXiv.1212.2949\", \"model_index\" => \"5\", \"type\" => \"tate\")\n",
      "\n",
      "Model 6:\n",
      "Dict{String, Any}(\"journal_section\" => \"\", \"arxiv_page\" => \"37\", \"arxiv_id\" => \"1212.2949\", \"arxiv_version\" => \"2\", \"journal_equation\" => \"\", \"journal_page\" => \"\", \"arxiv_equation\" => \"4.1\", \"journal_doi\" => \"10.1007/JHEP04(2013)061\", \"arxiv_section\" => \"4.1\", \"journal\" => \"JHEP\", \"file\" => \"model1212_2949-3.json\", \"arxiv_doi\" => \"10.48550/arXiv.1212.2949\", \"model_index\" => \"6\", \"type\" => \"tate\")\n",
      "\n",
      "Model 7:\n",
      "Dict{String, Any}(\"journal_section\" => \"\", \"arxiv_page\" => \"44\", \"arxiv_id\" => \"1212.2949\", \"arxiv_version\" => \"2\", \"journal_equation\" => \"\", \"journal_page\" => \"\", \"arxiv_equation\" => \"4.23\", \"journal_doi\" => \"10.1007/JHEP04(2013)061\", \"arxiv_section\" => \"4.2\", \"journal\" => \"JHEP\", \"file\" => \"model1212_2949-4.json\", \"arxiv_doi\" => \"10.48550/arXiv.1212.2949\", \"model_index\" => \"7\", \"type\" => \"tate\")\n",
      "\n",
      "Model 8:\n",
      "Dict{String, Any}(\"journal_section\" => \"\", \"arxiv_page\" => \"49\", \"arxiv_id\" => \"1212.2949\", \"arxiv_version\" => \"2\", \"journal_equation\" => \"\", \"journal_page\" => \"\", \"arxiv_equation\" => \"5.1\", \"journal_doi\" => \"10.1007/JHEP04(2013)061\", \"arxiv_section\" => \"5.1\", \"journal\" => \"JHEP\", \"file\" => \"model1212_2949-5.json\", \"arxiv_doi\" => \"10.48550/arXiv.1212.2949\", \"model_index\" => \"8\", \"type\" => \"tate\")\n",
      "\n",
      "Model 9:\n",
      "Dict{String, Any}(\"journal_section\" => \"\", \"arxiv_page\" => \"49\", \"arxiv_id\" => \"1212.2949\", \"arxiv_version\" => \"2\", \"journal_equation\" => \"\", \"journal_page\" => \"\", \"arxiv_equation\" => \"5.7\", \"journal_doi\" => \"10.1007/JHEP04(2013)061\", \"arxiv_section\" => \"5.1\", \"journal\" => \"JHEP\", \"file\" => \"model1212_2949-6.json\", \"arxiv_doi\" => \"10.48550/arXiv.1212.2949\", \"model_index\" => \"9\", \"type\" => \"tate\")\n",
      "\n",
      "Model 10:\n",
      "Dict{String, Any}(\"journal_section\" => \"\", \"arxiv_page\" => \"49\", \"arxiv_id\" => \"1212.2949\", \"arxiv_version\" => \"2\", \"journal_equation\" => \"\", \"journal_page\" => \"\", \"arxiv_equation\" => \"5.13\", \"journal_doi\" => \"10.1007/JHEP04(2013)061\", \"arxiv_section\" => \"5.1\", \"journal\" => \"JHEP\", \"file\" => \"model1212_2949-7.json\", \"arxiv_doi\" => \"10.48550/arXiv.1212.2949\", \"model_index\" => \"10\", \"type\" => \"tate\")\n",
      "\n",
      "Model 11:\n",
      "Dict{String, Any}(\"journal_section\" => \"\", \"arxiv_page\" => \"17\", \"arxiv_id\" => \"1507.05954\", \"arxiv_version\" => \"2\", \"journal_equation\" => \"\", \"journal_page\" => \"\", \"arxiv_equation\" => \"3.4\", \"journal_doi\" => \"10.1007/JHEP11(2015)204\", \"arxiv_section\" => \"3\", \"journal\" => \"JHEP\", \"file\" => \"model1507_05954-1.json\", \"arxiv_doi\" => \"10.48550/arXiv.1507.05954\", \"model_index\" => \"11\", \"type\" => \"hypersurface\")\n",
      "\n",
      "Model 12:\n",
      "Dict{String, Any}(\"journal_section\" => \"\", \"arxiv_page\" => \"71\", \"arxiv_id\" => \"1507.05954\", \"arxiv_version\" => \"2\", \"journal_equation\" => \"\", \"journal_page\" => \"\", \"arxiv_equation\" => \"A.1\", \"journal_doi\" => \"10.1007/JHEP11(2015)204\", \"arxiv_section\" => \"A\", \"journal\" => \"JHEP\", \"file\" => \"model1507_05954-2.json\", \"arxiv_doi\" => \"10.48550/arXiv.1507.05954\", \"model_index\" => \"12\", \"type\" => \"weierstrass\")\n",
      "\n",
      "Model 13:\n",
      "Dict{String, Any}(\"journal_section\" => \"3\", \"arxiv_page\" => \"18\", \"arxiv_id\" => \"1408.4808\", \"arxiv_version\" => \"2\", \"journal_equation\" => \"3.4\", \"journal_page\" => \"19\", \"arxiv_equation\" => \"3.4\", \"journal_doi\" => \"10.1007/JHEP01(2015)142\", \"arxiv_section\" => \"3\", \"journal\" => \"JHEP\", \"file\" => \"model1408_4808-1-WSF.json\", \"arxiv_doi\" => \"10.48550/arXiv.1408.4808\", \"model_index\" => \"13\", \"type\" => \"weierstrass\")\n",
      "\n",
      "Model 13:\n",
      "Dict{String, Any}(\"journal_section\" => \"\", \"arxiv_page\" => \"2\", \"arxiv_id\" => \"1903.00009\", \"arxiv_version\" => \"3\", \"journal_equation\" => \"2\", \"journal_page\" => \"2\", \"arxiv_equation\" => \"2\", \"journal_doi\" => \"10.1103/PhysRevLett.123.101601\", \"arxiv_section\" => \"II\", \"journal\" => \"Physical Review Letters\", \"file\" => \"model1903.00009.json\", \"arxiv_doi\" => \"10.48550/arXiv.1903.00009\", \"model_index\" => \"13\", \"type\" => \"hypersurface\")\n",
      "\n",
      "Model 14:\n",
      "Dict{String, Any}(\"journal_section\" => \"3\", \"arxiv_page\" => \"18\", \"arxiv_id\" => \"1408.4808\", \"arxiv_version\" => \"2\", \"journal_equation\" => \"3.4\", \"journal_page\" => \"19\", \"arxiv_equation\" => \"3.4\", \"journal_doi\" => \"10.1007/JHEP01(2015)142\", \"arxiv_section\" => \"3\", \"journal\" => \"JHEP\", \"file\" => \"model1408_4808-1.json\", \"arxiv_doi\" => \"10.48550/arXiv.1408.4808\", \"model_index\" => \"14\", \"type\" => \"hypersurface\")\n",
      "\n",
      "Model 15:\n",
      "Dict{String, Any}(\"journal_section\" => \"3\", \"arxiv_page\" => \"20\", \"arxiv_id\" => \"1408.4808\", \"arxiv_version\" => \"2\", \"journal_equation\" => \"3.12\", \"journal_page\" => \"20\", \"arxiv_equation\" => \"3.12\", \"journal_doi\" => \"10.1007/JHEP01(2015)142\", \"arxiv_section\" => \"3\", \"journal\" => \"JHEP\", \"file\" => \"model1408_4808-2-WSF.json\", \"arxiv_doi\" => \"10.48550/arXiv.1408.4808\", \"model_index\" => \"15\", \"type\" => \"weierstrass\")\n",
      "\n",
      "Model 16:\n",
      "Dict{String, Any}(\"journal_section\" => \"3\", \"arxiv_page\" => \"20\", \"arxiv_id\" => \"1408.4808\", \"arxiv_version\" => \"2\", \"journal_equation\" => \"3.12\", \"journal_page\" => \"20\", \"arxiv_equation\" => \"3.12\", \"journal_doi\" => \"10.1007/JHEP01(2015)142\", \"arxiv_section\" => \"3\", \"journal\" => \"JHEP\", \"file\" => \"model1408_4808-2.json\", \"arxiv_doi\" => \"10.48550/arXiv.1408.4808\", \"model_index\" => \"16\", \"type\" => \"hypersurface\")\n",
      "\n",
      "Model 17:\n",
      "Dict{String, Any}(\"journal_section\" => \"3\", \"arxiv_page\" => \"36\", \"arxiv_id\" => \"1408.4808\", \"arxiv_version\" => \"2\", \"journal_equation\" => \"3.53\", \"journal_page\" => \"36\", \"arxiv_equation\" => \"3.54\", \"journal_doi\" => \"10.1007/JHEP01(2015)142\", \"arxiv_section\" => \"3\", \"journal\" => \"JHEP\", \"file\" => \"model1408_4808-3-WSF.json\", \"arxiv_doi\" => \"10.48550/arXiv.1408.4808\", \"model_index\" => \"17\", \"type\" => \"weierstrass\")\n",
      "\n",
      "Model 18:\n",
      "Dict{String, Any}(\"journal_section\" => \"3\", \"arxiv_page\" => \"36\", \"arxiv_id\" => \"1408.4808\", \"arxiv_version\" => \"2\", \"journal_equation\" => \"3.53\", \"journal_page\" => \"36\", \"arxiv_equation\" => \"3.54\", \"journal_doi\" => \"10.1007/JHEP01(2015)142\", \"arxiv_section\" => \"3\", \"journal\" => \"JHEP\", \"file\" => \"model1408_4808-3.json\", \"arxiv_doi\" => \"10.48550/arXiv.1408.4808\", \"model_index\" => \"18\", \"type\" => \"hypersurface\")\n",
      "\n",
      "Model 19:\n",
      "Dict{String, Any}(\"journal_section\" => \"3\", \"arxiv_page\" => \"22\", \"arxiv_id\" => \"1408.4808\", \"arxiv_version\" => \"2\", \"journal_equation\" => \"3.17\", \"journal_page\" => \"22\", \"arxiv_equation\" => \"3.17\", \"journal_doi\" => \"10.1007/JHEP01(2015)142\", \"arxiv_section\" => \"3\", \"journal\" => \"JHEP\", \"file\" => \"model1408_4808-4-WSF.json\", \"arxiv_doi\" => \"10.48550/arXiv.1408.4808\", \"model_index\" => \"19\", \"type\" => \"weierstrass\")\n",
      "\n",
      "Model 20:\n",
      "Dict{String, Any}(\"journal_section\" => \"3\", \"arxiv_page\" => \"22\", \"arxiv_id\" => \"1408.4808\", \"arxiv_version\" => \"2\", \"journal_equation\" => \"3.17\", \"journal_page\" => \"22\", \"arxiv_equation\" => \"3.17\", \"journal_doi\" => \"10.1007/JHEP01(2015)142\", \"arxiv_section\" => \"3\", \"journal\" => \"JHEP\", \"file\" => \"model1408_4808-4.json\", \"arxiv_doi\" => \"10.48550/arXiv.1408.4808\", \"model_index\" => \"20\", \"type\" => \"hypersurface\")\n",
      "\n",
      "Model 21:\n",
      "Dict{String, Any}(\"journal_section\" => \"3\", \"arxiv_page\" => \"43\", \"arxiv_id\" => \"1408.4808\", \"arxiv_version\" => \"2\", \"journal_equation\" => \"3.72\", \"journal_page\" => \"43\", \"arxiv_equation\" => \"3.73\", \"journal_doi\" => \"10.1007/JHEP01(2015)142\", \"arxiv_section\" => \"3\", \"journal\" => \"JHEP\", \"file\" => \"model1408_4808-5-WSF.json\", \"arxiv_doi\" => \"10.48550/arXiv.1408.4808\", \"model_index\" => \"21\", \"type\" => \"weierstrass\")\n",
      "\n",
      "Model 22:\n",
      "Dict{String, Any}(\"journal_section\" => \"3\", \"arxiv_page\" => \"43\", \"arxiv_id\" => \"1408.4808\", \"arxiv_version\" => \"2\", \"journal_equation\" => \"3.72\", \"journal_page\" => \"43\", \"arxiv_equation\" => \"3.73\", \"journal_doi\" => \"10.1007/JHEP01(2015)142\", \"arxiv_section\" => \"3\", \"journal\" => \"JHEP\", \"file\" => \"model1408_4808-5.json\", \"arxiv_doi\" => \"10.48550/arXiv.1408.4808\", \"model_index\" => \"22\", \"type\" => \"hypersurface\")\n",
      "\n",
      "Model 23:\n",
      "Dict{String, Any}(\"journal_section\" => \"3\", \"arxiv_page\" => \"46\", \"arxiv_id\" => \"1408.4808\", \"arxiv_version\" => \"2\", \"journal_equation\" => \"3.81\", \"journal_page\" => \"46\", \"arxiv_equation\" => \"3.82\", \"journal_doi\" => \"10.1007/JHEP01(2015)142\", \"arxiv_section\" => \"3\", \"journal\" => \"JHEP\", \"file\" => \"model1408_4808-6-WSF.json\", \"arxiv_doi\" => \"10.48550/arXiv.1408.4808\", \"model_index\" => \"23\", \"type\" => \"weierstrass\")\n",
      "\n",
      "Model 24:\n",
      "Dict{String, Any}(\"journal_section\" => \"3\", \"arxiv_page\" => \"46\", \"arxiv_id\" => \"1408.4808\", \"arxiv_version\" => \"2\", \"journal_equation\" => \"3.81\", \"journal_page\" => \"46\", \"arxiv_equation\" => \"3.82\", \"journal_doi\" => \"10.1007/JHEP01(2015)142\", \"arxiv_section\" => \"3\", \"journal\" => \"JHEP\", \"file\" => \"model1408_4808-6.json\", \"arxiv_doi\" => \"10.48550/arXiv.1408.4808\", \"model_index\" => \"24\", \"type\" => \"hypersurface\")\n",
      "\n",
      "Model 25:\n",
      "Dict{String, Any}(\"journal_section\" => \"3\", \"arxiv_page\" => \"50\", \"arxiv_id\" => \"1408.4808\", \"arxiv_version\" => \"2\", \"journal_equation\" => \"3.95\", \"journal_page\" => \"51\", \"arxiv_equation\" => \"3.96\", \"journal_doi\" => \"10.1007/JHEP01(2015)142\", \"arxiv_section\" => \"3\", \"journal\" => \"JHEP\", \"file\" => \"model1408_4808-7-WSF.json\", \"arxiv_doi\" => \"10.48550/arXiv.1408.4808\", \"model_index\" => \"25\", \"type\" => \"weierstrass\")\n",
      "\n",
      "Model 26:\n",
      "Dict{String, Any}(\"journal_section\" => \"3\", \"arxiv_page\" => \"50\", \"arxiv_id\" => \"1408.4808\", \"arxiv_version\" => \"2\", \"journal_equation\" => \"3.95\", \"journal_page\" => \"51\", \"arxiv_equation\" => \"3.96\", \"journal_doi\" => \"10.1007/JHEP01(2015)142\", \"arxiv_section\" => \"3\", \"journal\" => \"JHEP\", \"file\" => \"model1408_4808-7.json\", \"arxiv_doi\" => \"10.48550/arXiv.1408.4808\", \"model_index\" => \"26\", \"type\" => \"hypersurface\")\n",
      "\n",
      "Model 27:\n",
      "Dict{String, Any}(\"journal_section\" => \"3\", \"arxiv_page\" => \"54\", \"arxiv_id\" => \"1408.4808\", \"arxiv_version\" => \"2\", \"journal_equation\" => \"3.105\", \"journal_page\" => \"55\", \"arxiv_equation\" => \"3.106\", \"journal_doi\" => \"10.1007/JHEP01(2015)142\", \"arxiv_section\" => \"3\", \"journal\" => \"JHEP\", \"file\" => \"model1408_4808-8-WSF.json\", \"arxiv_doi\" => \"10.48550/arXiv.1408.4808\", \"model_index\" => \"27\", \"type\" => \"weierstrass\")\n",
      "\n",
      "Model 28:\n",
      "Dict{String, Any}(\"journal_section\" => \"3\", \"arxiv_page\" => \"54\", \"arxiv_id\" => \"1408.4808\", \"arxiv_version\" => \"2\", \"journal_equation\" => \"3.105\", \"journal_page\" => \"55\", \"arxiv_equation\" => \"3.106\", \"journal_doi\" => \"10.1007/JHEP01(2015)142\", \"arxiv_section\" => \"3\", \"journal\" => \"JHEP\", \"file\" => \"model1408_4808-8.json\", \"arxiv_doi\" => \"10.48550/arXiv.1408.4808\", \"model_index\" => \"28\", \"type\" => \"hypersurface\")\n",
      "\n",
      "Model 29:\n",
      "Dict{String, Any}(\"journal_section\" => \"3\", \"arxiv_page\" => \"58\", \"arxiv_id\" => \"1408.4808\", \"arxiv_version\" => \"2\", \"journal_equation\" => \"3.117\", \"journal_page\" => \"59\", \"arxiv_equation\" => \"3.118\", \"journal_doi\" => \"10.1007/JHEP01(2015)142\", \"arxiv_section\" => \"3\", \"journal\" => \"JHEP\", \"file\" => \"model1408_4808-9-WSF.json\", \"arxiv_doi\" => \"10.48550/arXiv.1408.4808\", \"model_index\" => \"29\", \"type\" => \"weierstrass\")\n",
      "\n",
      "Model 30:\n",
      "Dict{String, Any}(\"journal_section\" => \"3\", \"arxiv_page\" => \"58\", \"arxiv_id\" => \"1408.4808\", \"arxiv_version\" => \"2\", \"journal_equation\" => \"3.117\", \"journal_page\" => \"59\", \"arxiv_equation\" => \"3.118\", \"journal_doi\" => \"10.1007/JHEP01(2015)142\", \"arxiv_section\" => \"3\", \"journal\" => \"JHEP\", \"file\" => \"model1408_4808-9.json\", \"arxiv_doi\" => \"10.48550/arXiv.1408.4808\", \"model_index\" => \"30\", \"type\" => \"hypersurface\")\n",
      "\n",
      "Model 31:\n",
      "Dict{String, Any}(\"journal_section\" => \"3\", \"arxiv_page\" => \"62\", \"arxiv_id\" => \"1408.4808\", \"arxiv_version\" => \"2\", \"journal_equation\" => \"3.129\", \"journal_page\" => \"62\", \"arxiv_equation\" => \"3.130\", \"journal_doi\" => \"10.1007/JHEP01(2015)142\", \"arxiv_section\" => \"3\", \"journal\" => \"JHEP\", \"file\" => \"model1408_4808-10-WSF.json\", \"arxiv_doi\" => \"10.48550/arXiv.1408.4808\", \"model_index\" => \"31\", \"type\" => \"weierstrass\")\n",
      "\n",
      "Model 32:\n",
      "Dict{String, Any}(\"journal_section\" => \"3\", \"arxiv_page\" => \"62\", \"arxiv_id\" => \"1408.4808\", \"arxiv_version\" => \"2\", \"journal_equation\" => \"3.129\", \"journal_page\" => \"62\", \"arxiv_equation\" => \"3.130\", \"journal_doi\" => \"10.1007/JHEP01(2015)142\", \"arxiv_section\" => \"3\", \"journal\" => \"JHEP\", \"file\" => \"model1408_4808-10.json\", \"arxiv_doi\" => \"10.48550/arXiv.1408.4808\", \"model_index\" => \"32\", \"type\" => \"hypersurface\")\n",
      "\n",
      "Model 33:\n",
      "Dict{String, Any}(\"journal_section\" => \"3\", \"arxiv_page\" => \"67\", \"arxiv_id\" => \"1408.4808\", \"arxiv_version\" => \"2\", \"journal_equation\" => \"3.141\", \"journal_page\" => \"67\", \"arxiv_equation\" => \"3.142\", \"journal_doi\" => \"10.1007/JHEP01(2015)142\", \"arxiv_section\" => \"3\", \"journal\" => \"JHEP\", \"file\" => \"model1408_4808-11-WSF.json\", \"arxiv_doi\" => \"10.48550/arXiv.1408.4808\", \"model_index\" => \"33\", \"type\" => \"weierstrass\")\n",
      "\n",
      "Model 34:\n",
      "Dict{String, Any}(\"journal_section\" => \"3\", \"arxiv_page\" => \"67\", \"arxiv_id\" => \"1408.4808\", \"arxiv_version\" => \"2\", \"journal_equation\" => \"3.141\", \"journal_page\" => \"67\", \"arxiv_equation\" => \"3.142\", \"journal_doi\" => \"10.1007/JHEP01(2015)142\", \"arxiv_section\" => \"3\", \"journal\" => \"JHEP\", \"file\" => \"model1408_4808-11.json\", \"arxiv_doi\" => \"10.48550/arXiv.1408.4808\", \"model_index\" => \"34\", \"type\" => \"hypersurface\")\n",
      "\n",
      "Model 35:\n",
      "Dict{String, Any}(\"journal_section\" => \"3\", \"arxiv_page\" => \"70\", \"arxiv_id\" => \"1408.4808\", \"arxiv_version\" => \"2\", \"journal_equation\" => \"3.154\", \"journal_page\" => \"70\", \"arxiv_equation\" => \"3.155\", \"journal_doi\" => \"10.1007/JHEP01(2015)142\", \"arxiv_section\" => \"3\", \"journal\" => \"JHEP\", \"file\" => \"model1408_4808-12-WSF.json\", \"arxiv_doi\" => \"10.48550/arXiv.1408.4808\", \"model_index\" => \"35\", \"type\" => \"weierstrass\")\n",
      "\n",
      "Model 36:\n",
      "Dict{String, Any}(\"journal_section\" => \"3\", \"arxiv_page\" => \"70\", \"arxiv_id\" => \"1408.4808\", \"arxiv_version\" => \"2\", \"journal_equation\" => \"3.154\", \"journal_page\" => \"70\", \"arxiv_equation\" => \"3.155\", \"journal_doi\" => \"10.1007/JHEP01(2015)142\", \"arxiv_section\" => \"3\", \"journal\" => \"JHEP\", \"file\" => \"model1408_4808-12.json\", \"arxiv_doi\" => \"10.48550/arXiv.1408.4808\", \"model_index\" => \"36\", \"type\" => \"hypersurface\")\n",
      "\n",
      "Model 37:\n",
      "Dict{String, Any}(\"journal_section\" => \"3\", \"arxiv_page\" => \"79\", \"arxiv_id\" => \"1408.4808\", \"arxiv_version\" => \"2\", \"journal_equation\" => \"3.180\", \"journal_page\" => \"79\", \"arxiv_equation\" => \"3.181\", \"journal_doi\" => \"10.1007/JHEP01(2015)142\", \"arxiv_section\" => \"3\", \"journal\" => \"JHEP\", \"file\" => \"model1408_4808-13-WSF.json\", \"arxiv_doi\" => \"10.48550/arXiv.1408.4808\", \"model_index\" => \"37\", \"type\" => \"weierstrass\")\n",
      "\n",
      "Model 38:\n",
      "Dict{String, Any}(\"journal_section\" => \"3\", \"arxiv_page\" => \"79\", \"arxiv_id\" => \"1408.4808\", \"arxiv_version\" => \"2\", \"journal_equation\" => \"3.180\", \"journal_page\" => \"79\", \"arxiv_equation\" => \"3.181\", \"journal_doi\" => \"10.1007/JHEP01(2015)142\", \"arxiv_section\" => \"3\", \"journal\" => \"JHEP\", \"file\" => \"model1408_4808-13.json\", \"arxiv_doi\" => \"10.48550/arXiv.1408.4808\", \"model_index\" => \"38\", \"type\" => \"hypersurface\")\n",
      "\n",
      "Model 39:\n",
      "Dict{String, Any}(\"journal_section\" => \"3\", \"arxiv_page\" => \"75\", \"arxiv_id\" => \"1408.4808\", \"arxiv_version\" => \"2\", \"journal_equation\" => \"3.167\", \"journal_page\" => \"75\", \"arxiv_equation\" => \"3.168\", \"journal_doi\" => \"10.1007/JHEP01(2015)142\", \"arxiv_section\" => \"3\", \"journal\" => \"JHEP\", \"file\" => \"model1408_4808-14-WSF.json\", \"arxiv_doi\" => \"10.48550/arXiv.1408.4808\", \"model_index\" => \"39\", \"type\" => \"weierstrass\")\n",
      "\n",
      "Model 40:\n",
      "Dict{String, Any}(\"journal_section\" => \"3\", \"arxiv_page\" => \"75\", \"arxiv_id\" => \"1408.4808\", \"arxiv_version\" => \"2\", \"journal_equation\" => \"3.167\", \"journal_page\" => \"75\", \"arxiv_equation\" => \"3.168\", \"journal_doi\" => \"10.1007/JHEP01(2015)142\", \"arxiv_section\" => \"3\", \"journal\" => \"JHEP\", \"file\" => \"model1408_4808-14.json\", \"arxiv_doi\" => \"10.48550/arXiv.1408.4808\", \"model_index\" => \"40\", \"type\" => \"hypersurface\")\n",
      "\n",
      "Model 41:\n",
      "Dict{String, Any}(\"journal_section\" => \"3\", \"arxiv_page\" => \"83\", \"arxiv_id\" => \"1408.4808\", \"arxiv_version\" => \"2\", \"journal_equation\" => \"3.189\", \"journal_page\" => \"83\", \"arxiv_equation\" => \"3.190\", \"journal_doi\" => \"10.1007/JHEP01(2015)142\", \"arxiv_section\" => \"3\", \"journal\" => \"JHEP\", \"file\" => \"model1408_4808-15-WSF.json\", \"arxiv_doi\" => \"10.48550/arXiv.1408.4808\", \"model_index\" => \"41\", \"type\" => \"weierstrass\")\n",
      "\n",
      "Model 42:\n",
      "Dict{String, Any}(\"journal_section\" => \"3\", \"arxiv_page\" => \"83\", \"arxiv_id\" => \"1408.4808\", \"arxiv_version\" => \"2\", \"journal_equation\" => \"3.189\", \"journal_page\" => \"83\", \"arxiv_equation\" => \"3.190\", \"journal_doi\" => \"10.1007/JHEP01(2015)142\", \"arxiv_section\" => \"3\", \"journal\" => \"JHEP\", \"file\" => \"model1408_4808-15.json\", \"arxiv_doi\" => \"10.48550/arXiv.1408.4808\", \"model_index\" => \"42\", \"type\" => \"hypersurface\")\n",
      "\n",
      "Model 43:\n",
      "Dict{String, Any}(\"journal_section\" => \"3\", \"arxiv_page\" => \"87\", \"arxiv_id\" => \"1408.4808\", \"arxiv_version\" => \"2\", \"journal_equation\" => \"3.202\", \"journal_page\" => \"88\", \"arxiv_equation\" => \"3.203\", \"journal_doi\" => \"10.1007/JHEP01(2015)142\", \"arxiv_section\" => \"3\", \"journal\" => \"JHEP\", \"file\" => \"model1408_4808-16-WSF.json\", \"arxiv_doi\" => \"10.48550/arXiv.1408.4808\", \"model_index\" => \"43\", \"type\" => \"weierstrass\")\n",
      "\n",
      "Model 44:\n",
      "Dict{String, Any}(\"journal_section\" => \"3\", \"arxiv_page\" => \"87\", \"arxiv_id\" => \"1408.4808\", \"arxiv_version\" => \"2\", \"journal_equation\" => \"3.202\", \"journal_page\" => \"88\", \"arxiv_equation\" => \"3.203\", \"journal_doi\" => \"10.1007/JHEP01(2015)142\", \"arxiv_section\" => \"3\", \"journal\" => \"JHEP\", \"file\" => \"model1408_4808-16.json\", \"arxiv_doi\" => \"10.48550/arXiv.1408.4808\", \"model_index\" => \"44\", \"type\" => \"hypersurface\")\n",
      "\n"
     ]
    }
   ],
   "source": [
    "display_all_literature_models()"
   ]
  },
  {
   "cell_type": "markdown",
   "id": "df4e5147-fab0-4728-a953-40ea62cb332c",
   "metadata": {},
   "source": [
    "## 2.B Attributes and Properties of Literature Models"
   ]
  },
  {
   "cell_type": "markdown",
   "id": "7825ff51-c832-4b77-bd26-b6d624a4a3aa",
   "metadata": {},
   "source": [
    "Of course, the now constructed model knows about its origins in the literature:"
   ]
  },
  {
   "cell_type": "code",
   "execution_count": 23,
   "id": "0309af3c-fe33-4a9c-bcda-3c7c5c91d5b3",
   "metadata": {},
   "outputs": [
    {
     "data": {
      "text/plain": [
       "\"1109.3454\""
      ]
     },
     "execution_count": 23,
     "metadata": {},
     "output_type": "execute_result"
    }
   ],
   "source": [
    "arxiv_id(t2)"
   ]
  },
  {
   "cell_type": "code",
   "execution_count": 24,
   "id": "32304579-563f-477e-8304-3317e07f3b91",
   "metadata": {},
   "outputs": [
    {
     "data": {
      "text/plain": [
       "3-element Vector{String}:\n",
       " \"Sven Krause\"\n",
       " \"Christoph Mayrhofer\"\n",
       " \"Timo Weigand\""
      ]
     },
     "execution_count": 24,
     "metadata": {},
     "output_type": "execute_result"
    }
   ],
   "source": [
    "paper_authors(t2)"
   ]
  },
  {
   "cell_type": "code",
   "execution_count": 25,
   "id": "a595ebbc-7a4b-4c9b-b03d-77a4c2c93157",
   "metadata": {},
   "outputs": [
    {
     "data": {
      "text/plain": [
       "\"\\$G_4\\$ flux, chiral matter and singularity resolution in F-theory compactifications\""
      ]
     },
     "execution_count": 25,
     "metadata": {},
     "output_type": "execute_result"
    }
   ],
   "source": [
    "paper_title(t2)"
   ]
  },
  {
   "cell_type": "code",
   "execution_count": 26,
   "id": "32232806-f0e1-43f7-9d90-5593fdc94caa",
   "metadata": {},
   "outputs": [
    {
     "data": {
      "text/plain": [
       "\"SU(5)xU(1) restricted Tate model\""
      ]
     },
     "execution_count": 26,
     "metadata": {},
     "output_type": "execute_result"
    }
   ],
   "source": [
    "model_description(t2)"
   ]
  },
  {
   "cell_type": "markdown",
   "id": "54170d79-d3f9-40eb-827c-a202d56f4d01",
   "metadata": {},
   "source": [
    "You could also ask this model about this gauge algebra:"
   ]
  },
  {
   "cell_type": "code",
   "execution_count": 27,
   "id": "a96ff5b3-ce74-4673-b1da-1fb895e2221f",
   "metadata": {},
   "outputs": [
    {
     "data": {
      "text/plain": [
       "2-element Vector{LinearLieAlgebra{QQBarFieldElem}}:\n",
       " Special linear Lie algebra of degree 5 over QQBar\n",
       " Linear Lie algebra with 1x1 matrices over QQBar"
      ]
     },
     "execution_count": 27,
     "metadata": {},
     "output_type": "execute_result"
    }
   ],
   "source": [
    "gauge_algebra(t2)"
   ]
  },
  {
   "cell_type": "markdown",
   "id": "d04d46a4-6fc1-4a49-9550-5ef84618df6c",
   "metadata": {},
   "source": [
    "You should have expected a direct sum of two Lie algebras here. Indeed, this is the correct answer and will very soon be available in $\\texttt{OCSAR}$ (and thereby, in $\\texttt{FTheoryTools}$). However, for now we will have to make do with a list of the summands.\n",
    "\n",
    "But of course, we can also just compute \"standard\" information:"
   ]
  },
  {
   "cell_type": "code",
   "execution_count": 28,
   "id": "a97f3664-af2b-4844-9179-e672f6aef30b",
   "metadata": {},
   "outputs": [
    {
     "data": {
      "text/plain": [
       "2-element Vector{Tuple{MPolyIdeal{<:MPolyRingElem}, Tuple{Int64, Int64, Int64}, String}}:\n",
       " (Ideal with 1 generator, (0, 0, 1), \"I_1\")\n",
       " (Ideal (x1), (0, 0, 5), \"Split I_5\")"
      ]
     },
     "execution_count": 28,
     "metadata": {},
     "output_type": "execute_result"
    }
   ],
   "source": [
    "singular_loci(t2)"
   ]
  },
  {
   "cell_type": "code",
   "execution_count": 29,
   "id": "4a4a8810-2e2c-4852-bac6-b3d66ca316e8",
   "metadata": {},
   "outputs": [
    {
     "data": {
      "text/plain": [
       "Normal, 3-dimensional toric variety without torusfactor"
      ]
     },
     "execution_count": 29,
     "metadata": {},
     "output_type": "execute_result"
    }
   ],
   "source": [
    "base_space(t2)"
   ]
  },
  {
   "cell_type": "code",
   "execution_count": 30,
   "id": "4dbcde29-8110-4850-bb69-f22add537583",
   "metadata": {},
   "outputs": [
    {
     "data": {
      "text/plain": [
       "Multivariate polynomial ring in 4 variables over QQ graded by\n",
       "  x1 -> [1]\n",
       "  x2 -> [1]\n",
       "  x3 -> [1]\n",
       "  x4 -> [1]"
      ]
     },
     "execution_count": 30,
     "metadata": {},
     "output_type": "execute_result"
    }
   ],
   "source": [
    "cox_ring(base_space(t2))"
   ]
  },
  {
   "cell_type": "code",
   "execution_count": 31,
   "id": "c708dd62-1c1c-4870-a313-0a3bc36c9708",
   "metadata": {},
   "outputs": [
    {
     "data": {
      "text/plain": [
       "Multivariate polynomial ring in 7 variables over QQ graded by\n",
       "  x1 -> [1 0]\n",
       "  x2 -> [1 0]\n",
       "  x3 -> [1 0]\n",
       "  x4 -> [1 0]\n",
       "  x -> [8 2]\n",
       "  y -> [12 3]\n",
       "  z -> [0 1]"
      ]
     },
     "execution_count": 31,
     "metadata": {},
     "output_type": "execute_result"
    }
   ],
   "source": [
    "cox_ring(ambient_space(t2))"
   ]
  },
  {
   "cell_type": "markdown",
   "id": "5ed9cfce-9ed8-4a47-8310-1f299efc5c84",
   "metadata": {},
   "source": [
    "Crucially, the model *t2* has information about resolutions that have been worked out in the literature. In the case at hand:"
   ]
  },
  {
   "cell_type": "code",
   "execution_count": 32,
   "id": "3f71acf4-81fb-41e1-a373-5acccb64f4e3",
   "metadata": {},
   "outputs": [
    {
     "data": {
      "text/plain": [
       "1-element Vector{Vector{Vector}}:\n",
       " [[[\"x\", \"y\", \"w\"], [\"y\", \"e1\"], [\"x\", \"e4\"], [\"y\", \"e2\"], [\"x\", \"y\"]], [\"e1\", \"e4\", \"e2\", \"e3\", \"s\"]]"
      ]
     },
     "execution_count": 32,
     "metadata": {},
     "output_type": "execute_result"
    }
   ],
   "source": [
    "resolutions(t2)"
   ]
  },
  {
   "cell_type": "markdown",
   "id": "978370ef-9c5e-47a3-9d7b-2c340735f551",
   "metadata": {},
   "source": [
    "We will now make use of this to resolve the model automatically. To appreciate the level of complexity, it is worth eyeballing the Tate polynomial, which cuts out the singular elliptically fibered CY 4-fold in a 5-dimensional toric ambient space:"
   ]
  },
  {
   "cell_type": "code",
   "execution_count": 33,
   "id": "99c39c24-8f31-4068-9c83-951b66acc2b6",
   "metadata": {},
   "outputs": [
    {
     "data": {
      "text/plain": [
       "2245838742780501868*x1^16*x*z^4 - 625625962108169685*x1^15*x2*x*z^4 + 8388308661734489812*x1^15*x3*x*z^4 + 8560615939064674130*x1^15*x4*x*z^4 + 2281910554020120372*x1^14*x2^2*x*z^4 - 1880630015136813862*x1^14*x2*x3*x*z^4 + 186235463298897300*x1^14*x2*x4*x*z^4 + 4960210843783909071*x1^14*x3^2*x*z^4 - 2703999814941762792*x1^14*x3*x4*x*z^4 - 2935148237417899294*x1^14*x4^2*x*z^4 - 112091264391450866*x1^13*x2^3*x*z^4 + 1547753036636782602*x1^13*x2^2*x3*x*z^4 - 6169436467229263321*x1^13*x2^2*x4*x*z^4 + 6154194733593270520*x1^13*x2*x3^2*x*z^4 + 4338872748222371805*x1^13*x2*x3*x4*x*z^4 - 5471232308828166851*x1^13*x2*x4^2*x*z^4 + 1490204283724783091*x1^13*x3^3*x*z^4 - 769904287880529889*x1^13*x3^2*x4*x*z^4 + 208792400033001671*x1^13*x3*x4^2*x*z^4 - 2055293669808677995*x1^13*x4^3*x*z^4 + 5664418133315981753*x1^12*x2^4*x*z^4 - 4012338340010549911*x1^12*x2^3*x3*x*z^4 - 841175743157474074*x1^12*x2^3*x4*x*z^4 - 8736741826363214943*x1^12*x2^2*x3^2*x*z^4 + 540771780726236436*x1^12*x2^2*x3*x4*x*z^4 - 1983271356076570018*x1^12*x2^2*x4^2*x*z^4 - 8732731769695135911*x1^12*x2*x3^3*x*z^4 - 8808089340059270598*x1^12*x2*x3^2*x4*x*z^4 - 8875411933727085112*x1^12*x2*x3*x4^2*x*z^4 + 8464409695586034567*x1^12*x2*x4^3*x*z^4 + 3763958795681225143*x1^12*x3^4*x*z^4 - 5507493568690381528*x1^12*x3^3*x4*x*z^4 + 7781216669059565558*x1^12*x3^2*x4^2*x*z^4 - 4108941155497200883*x1^12*x3*x4^3*x*z^4 + 7763412735166533915*x1^12*x4^4*x*z^4 + 4702260379980238615*x1^12*y*z^3 - 480080313373741058*x1^11*x2^5*x*z^4 + 4724053461662743131*x1^11*x2^4*x3*x*z^4 + 5452173068349480830*x1^11*x2^4*x4*x*z^4 - 5126441325090304614*x1^11*x2^3*x3^2*x*z^4 - 4834995023843400695*x1^11*x2^3*x3*x4*x*z^4 - 6803030734198133194*x1^11*x2^3*x4^2*x*z^4 + 1430934065897674286*x1^11*x2^2*x3^3*x*z^4 + 5870054357707192404*x1^11*x2^2*x3^2*x4*x*z^4 + 9128434561117782712*x1^11*x2^2*x3*x4^2*x*z^4 - 7677402348323368263*x1^11*x2^2*x4^3*x*z^4 + 6902745237867771164*x1^11*x2*x3^4*x*z^4 + 1509020771172610479*x1^11*x2*x3^3*x4*x*z^4 + 1448044955104245572*x1^11*x2*x3^2*x4^2*x*z^4 - 1242196053336172400*x1^11*x2*x3*x4^3*x*z^4 - 7175678633438231983*x1^11*x2*x4^4*x*z^4 + 3331660427961748009*x1^11*x2*y*z^3 + 2802792034519384330*x1^11*x3^5*x*z^4 + 7986178611845510878*x1^11*x3^4*x4*x*z^4 - 4837691650975717025*x1^11*x3^3*x4^2*x*z^4 - 2111479966213661947*x1^11*x3^2*x4^3*x*z^4 + 1947599221331015420*x1^11*x3*x4^4*x*z^4 - 3705460155537155586*x1^11*x3*y*z^3 + 728323672253200413*x1^11*x4^5*x*z^4 - 5871062755321583949*x1^11*x4*y*z^3 - 813604049489674984*x1^10*x2^6*x*z^4 + 6802777094006116584*x1^10*x2^5*x3*x*z^4 + 7615181997974280289*x1^10*x2^5*x4*x*z^4 + 4629078370867615597*x1^10*x2^4*x3^2*x*z^4 + 4926367615118673557*x1^10*x2^4*x3*x4*x*z^4 - 5448628696957246473*x1^10*x2^4*x4^2*x*z^4 + 3793217930292118818*x1^10*x2^3*x3^3*x*z^4 + 8607849925320238800*x1^10*x2^3*x3^2*x4*x*z^4 - 7770251254652829302*x1^10*x2^3*x3*x4^2*x*z^4 + 8468776343327566258*x1^10*x2^3*x4^3*x*z^4 - 8042330715086915571*x1^10*x2^2*x3^4*x*z^4 + 7270354094502793506*x1^10*x2^2*x3^3*x4*x*z^4 - 8694936318649359449*x1^10*x2^2*x3^2*x4^2*x*z^4 + 8179422208813321196*x1^10*x2^2*x3*x4^3*x*z^4 - 3750017455292678190*x1^10*x2^2*x4^4*x*z^4 + 3650800977065895988*x1^10*x2^2*y*z^3 - 87311700655498747*x1^10*x2*x3^5*x*z^4 - 7929657368819186868*x1^10*x2*x3^4*x4*x*z^4 + 6687497767565707052*x1^10*x2*x3^3*x4^2*x*z^4 + 2237222502504945323*x1^10*x2*x3^2*x4^3*x*z^4 + 694891754363164755*x1^10*x2*x3*x4^4*x*z^4 - 8657133337053671855*x1^10*x2*x3*y*z^3 - 4448745806270997712*x1^10*x2*x4^5*x*z^4 - 6633661803126405399*x1^10*x2*x4*y*z^3 - 9180101433474502661*x1^10*x3^6*x*z^4 + 3945808337355565545*x1^10*x3^5*x4*x*z^4 + 8569394283072741147*x1^10*x3^4*x4^2*x*z^4 + 7263183164670481719*x1^10*x3^3*x4^3*x*z^4 + 3102032837685904916*x1^10*x3^2*x4^4*x*z^4 - 5613041100777954497*x1^10*x3^2*y*z^3 + 5594023137431216118*x1^10*x3*x4^5*x*z^4 + 5924198478445592011*x1^10*x3*x4*y*z^3 - 9115413168928524792*x1^10*x4^6*x*z^4 + 3697198958778450693*x1^10*x4^2*y*z^3 - 1240783702774477486*x1^9*x2^7*x*z^4 + 264752453369442676*x1^9*x2^6*x3*x*z^4 + 3041897230429663767*x1^9*x2^6*x4*x*z^4 - 6800762916465488345*x1^9*x2^5*x3^2*x*z^4 - 6604207141955251189*x1^9*x2^5*x3*x4*x*z^4 - 713093180799606707*x1^9*x2^5*x4^2*x*z^4 + 4930928905731399131*x1^9*x2^4*x3^3*x*z^4 - 6473050833615785585*x1^9*x2^4*x3^2*x4*x*z^4 - 6750896198520673175*x1^9*x2^4*x3*x4^2*x*z^4 + 1015495594767916402*x1^9*x2^4*x4^3*x*z^4 - 5799862382707068617*x1^9*x2^3*x3^4*x*z^4 + 2732572960712387208*x1^9*x2^3*x3^3*x4*x*z^4 + 6254115203686652014*x1^9*x2^3*x3^2*x4^2*x*z^4 - 7740117280815882833*x1^9*x2^3*x3*x4^3*x*z^4 - 7021886219992670402*x1^9*x2^3*x4^4*x*z^4 + 7647098739536729775*x1^9*x2^3*y*z^3 - 8409108994394334067*x1^9*x2^2*x3^5*x*z^4 + 8557552477798936944*x1^9*x2^2*x3^4*x4*x*z^4 + 6134516838680214637*x1^9*x2^2*x3^3*x4^2*x*z^4 + 6425014245118871853*x1^9*x2^2*x3^2*x4^3*x*z^4 - 177332519643861239*x1^9*x2^2*x3*x4^4*x*z^4 - 2596519321896963267*x1^9*x2^2*x3*y*z^3 + 214210423880916629*x1^9*x2^2*x4^5*x*z^4 + 3030278708502501938*x1^9*x2^2*x4*y*z^3 + 4179433229357322939*x1^9*x2*x3^6*x*z^4 + 6446809533883154233*x1^9*x2*x3^5*x4*x*z^4 + 5250512872709002596*x1^9*x2*x3^4*x4^2*x*z^4 - 7165358725099672586*x1^9*x2*x3^3*x4^3*x*z^4 + 1760468971300563275*x1^9*x2*x3^2*x4^4*x*z^4 + 3134470426505614692*x1^9*x2*x3^2*y*z^3 - 6737074222384893580*x1^9*x2*x3*x4^5*x*z^4 + 6943666564030261646*x1^9*x2*x3*x4*y*z^3 + 8195767648947671400*x1^9*x2*x4^6*x*z^4 - 7940077483857826749*x1^9*x2*x4^2*y*z^3 - 1082377081052077975*x1^9*x3^7*x*z^4 - 4504297680547743799*x1^9*x3^6*x4*x*z^4 + 4201124990156010843*x1^9*x3^5*x4^2*x*z^4 - 2435677802811171960*x1^9*x3^4*x4^3*x*z^4 + 201039140289544234*x1^9*x3^3*x4^4*x*z^4 + 2672787401348183430*x1^9*x3^3*y*z^3 + 2717807124344005509*x1^9*x3^2*x4^5*x*z^4 + 9163029840404413316*x1^9*x3^2*x4*y*z^3 - 6967110847931969361*x1^9*x3*x4^6*x*z^4 + 2818264331240037248*x1^9*x3*x4^2*y*z^3 - 3966470300517278965*x1^9*x4^7*x*z^4 - 5908874961598335855*x1^9*x4^3*y*z^3 - 1039983009864824149*x1^8*x2^8*x*z^4 + 4859817907336965256*x1^8*x2^7*x3*x*z^4 - 6962400819723534680*x1^8*x2^7*x4*x*z^4 + 1739685338634277510*x1^8*x2^6*x3^2*x*z^4 - 5923107598178912102*x1^8*x2^6*x3*x4*x*z^4 + 5174896616163448984*x1^8*x2^6*x4^2*x*z^4 - 8303519727060883256*x1^8*x2^5*x3^3*x*z^4 - 8418262884174873091*x1^8*x2^5*x3^2*x4*x*z^4 + 1294044545477638345*x1^8*x2^5*x3*x4^2*x*z^4 + 545410573042393876*x1^8*x2^5*x4^3*x*z^4 + 6955546211891811718*x1^8*x2^4*x3^4*x*z^4 - 2015352397947803986*x1^8*x2^4*x3^3*x4*x*z^4 + 4488619984829133866*x1^8*x2^4*x3^2*x4^2*x*z^4 - 6042836169286622398*x1^8*x2^4*x3*x4^3*x*z^4 - 635047403458877237*x1^8*x2^4*x4^4*x*z^4 + 3870496157197433712*x1^8*x2^4*y*z^3 + 3264411274899994819*x1^8*x2^3*x3^5*x*z^4 - 7655551974199289499*x1^8*x2^3*x3^4*x4*x*z^4 + 1061255339086260580*x1^8*x2^3*x3^3*x4^2*x*z^4 + 45868830880310532*x1^8*x2^3*x3^2*x4^3*x*z^4 - 7163754017826416144*x1^8*x2^3*x3*x4^4*x*z^4 + 9210712927134672070*x1^8*x2^3*x3*y*z^3 - 3019473382789809162*x1^8*x2^3*x4^5*x*z^4 + 1213767381228939107*x1^8*x2^3*x4*y*z^3 - 8301584723054049010*x1^8*x2^2*x3^6*x*z^4 + 3908064116592557806*x1^8*x2^2*x3^5*x4*x*z^4 + 5323481122869265092*x1^8*x2^2*x3^4*x4^2*x*z^4 - 6715325868201423615*x1^8*x2^2*x3^3*x4^3*x*z^4 + 180687274704532187*x1^8*x2^2*x3^2*x4^4*x*z^4 + 1084134032761341833*x1^8*x2^2*x3^2*y*z^3 - 6761404095682838508*x1^8*x2^2*x3*x4^5*x*z^4 - 5652142160991351317*x1^8*x2^2*x3*x4*y*z^3 - 7438904654355060870*x1^8*x2^2*x4^6*x*z^4 + 4837147838699678304*x1^8*x2^2*x4^2*y*z^3 - 2988089626969663165*x1^8*x2*x3^7*x*z^4 - 3156986335394690995*x1^8*x2*x3^6*x4*x*z^4 - 9021563718473328612*x1^8*x2*x3^5*x4^2*x*z^4 - 4904992415987668358*x1^8*x2*x3^4*x4^3*x*z^4 - 8033242360372715085*x1^8*x2*x3^3*x4^4*x*z^4 + 602140429585774490*x1^8*x2*x3^3*y*z^3 + 7677428125779301889*x1^8*x2*x3^2*x4^5*x*z^4 + 7881797527661714812*x1^8*x2*x3^2*x4*y*z^3 + 9157988959354614043*x1^8*x2*x3*x4^6*x*z^4 + 508406669204514124*x1^8*x2*x3*x4^2*y*z^3 + 6306155410856177227*x1^8*x2*x4^7*x*z^4 + 2527906437250527268*x1^8*x2*x4^3*y*z^3 + 8491742672015933605*x1^8*x3^8*x*z^4 - 9183476490098738846*x1^8*x3^7*x4*x*z^4 + 4524478952587317220*x1^8*x3^6*x4^2*x*z^4 + 5787332309134189293*x1^8*x3^5*x4^3*x*z^4 + 3387855253485148982*x1^8*x3^4*x4^4*x*z^4 - 5421434328390864762*x1^8*x3^4*y*z^3 + 2848903041211443246*x1^8*x3^3*x4^5*x*z^4 + 33066176766972685*x1^8*x3^3*x4*y*z^3 - 7125694074979301566*x1^8*x3^2*x4^6*x*z^4 - 5679784282048918672*x1^8*x3^2*x4^2*y*z^3 - 2471334683207862640*x1^8*x3*x4^7*x*z^4 - 7433070180242896748*x1^8*x3*x4^3*y*z^3 + 7032256125038052078*x1^8*x4^8*x*z^4 - 4135421077488113195*x1^8*x4^4*y*z^3 + 1008450392335499857*x1^8*x^2*z^2 - 6945595159287326966*x1^7*x2^9*x*z^4 + 576781620004960695*x1^7*x2^8*x3*x*z^4 - 6169338402365997396*x1^7*x2^8*x4*x*z^4 + 3332288764238703495*x1^7*x2^7*x3^2*x*z^4 + 1057365120971659209*x1^7*x2^7*x3*x4*x*z^4 - 5577868427092983574*x1^7*x2^7*x4^2*x*z^4 - 8839015135162819803*x1^7*x2^6*x3^3*x*z^4 - 6254953361725995660*x1^7*x2^6*x3^2*x4*x*z^4 - 917040413194860054*x1^7*x2^6*x3*x4^2*x*z^4 - 4166440117760485072*x1^7*x2^6*x4^3*x*z^4 - 9002538418655404711*x1^7*x2^5*x3^4*x*z^4 - 5333232961315151354*x1^7*x2^5*x3^3*x4*x*z^4 - 3936028931703405958*x1^7*x2^5*x3^2*x4^2*x*z^4 + 1303784972921414071*x1^7*x2^5*x3*x4^3*x*z^4 - 1296902235588949585*x1^7*x2^5*x4^4*x*z^4 - 3967083211404615942*x1^7*x2^5*y*z^3 - 3929373894360487259*x1^7*x2^4*x3^5*x*z^4 + 1038438664680686693*x1^7*x2^4*x3^4*x4*x*z^4 + 1464399599267393035*x1^7*x2^4*x3^3*x4^2*x*z^4 + 2045033784984419752*x1^7*x2^4*x3^2*x4^3*x*z^4 - 4653642744257751830*x1^7*x2^4*x3*x4^4*x*z^4 + 8093542994237718791*x1^7*x2^4*x3*y*z^3 - 1145075965455630826*x1^7*x2^4*x4^5*x*z^4 - 6746826640926451015*x1^7*x2^4*x4*y*z^3 - 3194989024514631943*x1^7*x2^3*x3^6*x*z^4 + 3994477781349489919*x1^7*x2^3*x3^5*x4*x*z^4 - 3700574834819105820*x1^7*x2^3*x3^4*x4^2*x*z^4 + 8908901646334861188*x1^7*x2^3*x3^3*x4^3*x*z^4 + 7937069796587268291*x1^7*x2^3*x3^2*x4^4*x*z^4 - 6509498701673274645*x1^7*x2^3*x3^2*y*z^3 + 5632410635819381670*x1^7*x2^3*x3*x4^5*x*z^4 + 3599173082906531301*x1^7*x2^3*x3*x4*y*z^3 + 2022562093751931878*x1^7*x2^3*x4^6*x*z^4 + 1570823453420973659*x1^7*x2^3*x4^2*y*z^3 + 5664407625056255987*x1^7*x2^2*x3^7*x*z^4 + 6129968103456392140*x1^7*x2^2*x3^6*x4*x*z^4 + 1184237906625987196*x1^7*x2^2*x3^5*x4^2*x*z^4 + 3542607245967673800*x1^7*x2^2*x3^4*x4^3*x*z^4 - 835454354658232762*x1^7*x2^2*x3^3*x4^4*x*z^4 + 1047235264975894078*x1^7*x2^2*x3^3*y*z^3 + 3592607762056475177*x1^7*x2^2*x3^2*x4^5*x*z^4 + 2573349479273540264*x1^7*x2^2*x3^2*x4*y*z^3 + 3684734730289285991*x1^7*x2^2*x3*x4^6*x*z^4 - 7000086573162361760*x1^7*x2^2*x3*x4^2*y*z^3 - 4910946545126209042*x1^7*x2^2*x4^7*x*z^4 - 4152804943264993161*x1^7*x2^2*x4^3*y*z^3 + 6541254473960188018*x1^7*x2*x3^8*x*z^4 - 2212700139422464755*x1^7*x2*x3^7*x4*x*z^4 - 778177557086120877*x1^7*x2*x3^6*x4^2*x*z^4 + 4530114035915187839*x1^7*x2*x3^5*x4^3*x*z^4 + 1597086375201242568*x1^7*x2*x3^4*x4^4*x*z^4 - 8655079961745916315*x1^7*x2*x3^4*y*z^3 + 4282862411132187382*x1^7*x2*x3^3*x4^5*x*z^4 - 7707138379808883936*x1^7*x2*x3^3*x4*y*z^3 + 3606346396139380384*x1^7*x2*x3^2*x4^6*x*z^4 + 6355195310841025549*x1^7*x2*x3^2*x4^2*y*z^3 - 688417867537289360*x1^7*x2*x3*x4^7*x*z^4 + 7620777966201426533*x1^7*x2*x3*x4^3*y*z^3 + 4025490512009552949*x1^7*x2*x4^8*x*z^4 - 8689361328711413368*x1^7*x2*x4^4*y*z^3 + 23162176594638683*x1^7*x2*x^2*z^2 + 6020452306429173110*x1^7*x3^9*x*z^4 + 7324860799556163395*x1^7*x3^8*x4*x*z^4 - 865324352404901806*x1^7*x3^7*x4^2*x*z^4 + 6270978004725345060*x1^7*x3^6*x4^3*x*z^4 - 5496730181399677516*x1^7*x3^5*x4^4*x*z^4 - 7199396641499352098*x1^7*x3^5*y*z^3 - 1299718499781322362*x1^7*x3^4*x4^5*x*z^4 - 716117980957071112*x1^7*x3^4*x4*y*z^3 - 8916743112265790762*x1^7*x3^3*x4^6*x*z^4 + 6526027415351618033*x1^7*x3^3*x4^2*y*z^3 - 158014662272707970*x1^7*x3^2*x4^7*x*z^4 - 3822985180574206608*x1^7*x3^2*x4^3*y*z^3 - 7632993957601245865*x1^7*x3*x4^8*x*z^4 - 3426697392585851845*x1^7*x3*x4^4*y*z^3 + 2301804575083606768*x1^7*x3*x^2*z^2 - 6261551762386150104*x1^7*x4^9*x*z^4 + 5513443808345614182*x1^7*x4^5*y*z^3 + 2466163843726394677*x1^7*x4*x^2*z^2 - 6013206653842786890*x1^6*x2^10*x*z^4 + 9022571503133048974*x1^6*x2^9*x3*x*z^4 - 5347799750953013915*x1^6*x2^9*x4*x*z^4 + 621269767668829646*x1^6*x2^8*x3^2*x*z^4 - 3392631283181067719*x1^6*x2^8*x3*x4*x*z^4 - 5070262641433081915*x1^6*x2^8*x4^2*x*z^4 + 3587366252182830850*x1^6*x2^7*x3^3*x*z^4 - 4896737639232953849*x1^6*x2^7*x3^2*x4*x*z^4 - 3263471770290297656*x1^6*x2^7*x3*x4^2*x*z^4 - 6215758427629882466*x1^6*x2^7*x4^3*x*z^4 + 4524754754953653660*x1^6*x2^6*x3^4*x*z^4 - 9163113044837623618*x1^6*x2^6*x3^3*x4*x*z^4 + 2000355009837540768*x1^6*x2^6*x3^2*x4^2*x*z^4 + 2840598058477442935*x1^6*x2^6*x3*x4^3*x*z^4 + 6608192047343145318*x1^6*x2^6*x4^4*x*z^4 + 7257486440727007650*x1^6*x2^6*y*z^3 + 5462899349333361*x1^6*x2^5*x3^5*x*z^4 - 6171558203498876808*x1^6*x2^5*x3^4*x4*x*z^4 + 1105488480397802224*x1^6*x2^5*x3^3*x4^2*x*z^4 + 8123059873708414863*x1^6*x2^5*x3^2*x4^3*x*z^4 + 749249662709685548*x1^6*x2^5*x3*x4^4*x*z^4 + 1924008858803497405*x1^6*x2^5*x3*y*z^3 - 7984712546588116422*x1^6*x2^5*x4^5*x*z^4 + 7928245209605993658*x1^6*x2^5*x4*y*z^3 - 2752082240971392810*x1^6*x2^4*x3^6*x*z^4 + 8087721526954428288*x1^6*x2^4*x3^5*x4*x*z^4 - 8096266009290579797*x1^6*x2^4*x3^4*x4^2*x*z^4 - 5498741160450400041*x1^6*x2^4*x3^3*x4^3*x*z^4 - 4798975671174996922*x1^6*x2^4*x3^2*x4^4*x*z^4 - 7089467346012750003*x1^6*x2^4*x3^2*y*z^3 - 2138669793168244952*x1^6*x2^4*x3*x4^5*x*z^4 + 8778348883885263564*x1^6*x2^4*x3*x4*y*z^3 + 4431546157966693238*x1^6*x2^4*x4^6*x*z^4 + 1215465911867553644*x1^6*x2^4*x4^2*y*z^3 + 5656375372441262155*x1^6*x2^3*x3^7*x*z^4 - 1743223047650259641*x1^6*x2^3*x3^6*x4*x*z^4 + 6378549091092858320*x1^6*x2^3*x3^5*x4^2*x*z^4 - 6402850507296739706*x1^6*x2^3*x3^4*x4^3*x*z^4 - 710627785074241570*x1^6*x2^3*x3^3*x4^4*x*z^4 - 9083690132542325439*x1^6*x2^3*x3^3*y*z^3 - 848183997252240630*x1^6*x2^3*x3^2*x4^5*x*z^4 - 657589503101021081*x1^6*x2^3*x3^2*x4*y*z^3 + 185988247661119781*x1^6*x2^3*x3*x4^6*x*z^4 + 7724362256966129946*x1^6*x2^3*x3*x4^2*y*z^3 - 5451445281328834109*x1^6*x2^3*x4^7*x*z^4 - 546788803614763446*x1^6*x2^3*x4^3*y*z^3 + 5845518382471519717*x1^6*x2^2*x3^8*x*z^4 - 7983048394738858502*x1^6*x2^2*x3^7*x4*x*z^4 + 7686562827585736324*x1^6*x2^2*x3^6*x4^2*x*z^4 + 6522427286088708861*x1^6*x2^2*x3^5*x4^3*x*z^4 + 6873992668511838183*x1^6*x2^2*x3^4*x4^4*x*z^4 + 1776746802592529175*x1^6*x2^2*x3^4*y*z^3 - 5239177142732179143*x1^6*x2^2*x3^3*x4^5*x*z^4 - 295894429830221845*x1^6*x2^2*x3^3*x4*y*z^3 + 6521812869333062830*x1^6*x2^2*x3^2*x4^6*x*z^4 - 7008829635598391169*x1^6*x2^2*x3^2*x4^2*y*z^3 - 627451968058825447*x1^6*x2^2*x3*x4^7*x*z^4 + 3892624497129819601*x1^6*x2^2*x3*x4^3*y*z^3 + 1907618712991851749*x1^6*x2^2*x4^8*x*z^4 + 1125776202839667854*x1^6*x2^2*x4^4*y*z^3 + 7664880563908470601*x1^6*x2^2*x^2*z^2 - 3366299212321659776*x1^6*x2*x3^9*x*z^4 - 5903369758426207938*x1^6*x2*x3^8*x4*x*z^4 - 1303952644824056835*x1^6*x2*x3^7*x4^2*x*z^4 - 635399639721436392*x1^6*x2*x3^6*x4^3*x*z^4 - 4410780680707780266*x1^6*x2*x3^5*x4^4*x*z^4 + 2166254473005210183*x1^6*x2*x3^5*y*z^3 - 6614404360593354589*x1^6*x2*x3^4*x4^5*x*z^4 + 7927887444409963393*x1^6*x2*x3^4*x4*y*z^3 + 5383112206814494697*x1^6*x2*x3^3*x4^6*x*z^4 - 4235059416676815601*x1^6*x2*x3^3*x4^2*y*z^3 - 6328541148559428174*x1^6*x2*x3^2*x4^7*x*z^4 - 5561027079797403427*x1^6*x2*x3^2*x4^3*y*z^3 + 5731428287900181226*x1^6*x2*x3*x4^8*x*z^4 - 5353646996071602184*x1^6*x2*x3*x4^4*y*z^3 - 8231346801101524000*x1^6*x2*x3*x^2*z^2 + 559625538902685013*x1^6*x2*x4^9*x*z^4 - 7819878486395921959*x1^6*x2*x4^5*y*z^3 - 7299858899097050422*x1^6*x2*x4*x^2*z^2 - 7189612470147689813*x1^6*x3^10*x*z^4 + 2540605677822665112*x1^6*x3^9*x4*x*z^4 - 3517643274499347730*x1^6*x3^8*x4^2*x*z^4 - 8343189647193020350*x1^6*x3^7*x4^3*x*z^4 - 8458830327158633561*x1^6*x3^6*x4^4*x*z^4 + 7496703592375030918*x1^6*x3^6*y*z^3 + 3697665106333288539*x1^6*x3^5*x4^5*x*z^4 - 4910448817592392257*x1^6*x3^5*x4*y*z^3 - 7445122422332215706*x1^6*x3^4*x4^6*x*z^4 - 6251961248528295537*x1^6*x3^4*x4^2*y*z^3 - 4824678603985289301*x1^6*x3^3*x4^7*x*z^4 - 2895283636697929980*x1^6*x3^3*x4^3*y*z^3 + 1905376167260157577*x1^6*x3^2*x4^8*x*z^4 - 476107639189576102*x1^6*x3^2*x4^4*y*z^3 - 67333213929815844*x1^6*x3^2*x^2*z^2 - 5354986705737644885*x1^6*x3*x4^9*x*z^4 - 4266059399089665117*x1^6*x3*x4^5*y*z^3 - 3379355445416514414*x1^6*x3*x4*x^2*z^2 - 5007996779135046802*x1^6*x4^10*x*z^4 + 4991690367101353292*x1^6*x4^6*y*z^3 - 7448465392519438359*x1^6*x4^2*x^2*z^2 + 2926001799318407317*x1^5*x2^11*x*z^4 - 2765558162748380190*x1^5*x2^10*x3*x*z^4 - 5708237785953197744*x1^5*x2^10*x4*x*z^4 - 8142218128284900782*x1^5*x2^9*x3^2*x*z^4 + 7670836245961021154*x1^5*x2^9*x3*x4*x*z^4 - 8789919640827003222*x1^5*x2^9*x4^2*x*z^4 - 8838111066154386798*x1^5*x2^8*x3^3*x*z^4 - 3408072015013475344*x1^5*x2^8*x3^2*x4*x*z^4 + 1921851641026847109*x1^5*x2^8*x3*x4^2*x*z^4 + 879177368641308696*x1^5*x2^8*x4^3*x*z^4 - 5795016948441926748*x1^5*x2^7*x3^4*x*z^4 - 7045438616162043042*x1^5*x2^7*x3^3*x4*x*z^4 + 4834401532645708601*x1^5*x2^7*x3^2*x4^2*x*z^4 + 8646124726345826202*x1^5*x2^7*x3*x4^3*x*z^4 - 8844596321055409458*x1^5*x2^7*x4^4*x*z^4 - 7473326293068220869*x1^5*x2^7*y*z^3 - 3469863350441978144*x1^5*x2^6*x3^5*x*z^4 - 1235663318787088562*x1^5*x2^6*x3^4*x4*x*z^4 - 6577969547518258497*x1^5*x2^6*x3^3*x4^2*x*z^4 + 19937927452603051*x1^5*x2^6*x3^2*x4^3*x*z^4 - 410924651475110961*x1^5*x2^6*x3*x4^4*x*z^4 - 8865374155943837863*x1^5*x2^6*x3*y*z^3 + 8947473377670250294*x1^5*x2^6*x4^5*x*z^4 + 5118908778396808780*x1^5*x2^6*x4*y*z^3 + 6764260928035266102*x1^5*x2^5*x3^6*x*z^4 + 6521623296420254790*x1^5*x2^5*x3^5*x4*x*z^4 + 3374714204532729663*x1^5*x2^5*x3^4*x4^2*x*z^4 - 1058207097681210865*x1^5*x2^5*x3^3*x4^3*x*z^4 - 4814790656731207803*x1^5*x2^5*x3^2*x4^4*x*z^4 + 7396667026808666384*x1^5*x2^5*x3^2*y*z^3 + 7989207817883653869*x1^5*x2^5*x3*x4^5*x*z^4 + 5754115353415759065*x1^5*x2^5*x3*x4*y*z^3 - 3558828579268651354*x1^5*x2^5*x4^6*x*z^4 - 4857243227290071270*x1^5*x2^5*x4^2*y*z^3 - 1179544805058929304*x1^5*x2^4*x3^7*x*z^4 - 6844310554618955401*x1^5*x2^4*x3^6*x4*x*z^4 + 7003293132386518871*x1^5*x2^4*x3^5*x4^2*x*z^4 - 2501196006573175741*x1^5*x2^4*x3^4*x4^3*x*z^4 - 604874107496228460*x1^5*x2^4*x3^3*x4^4*x*z^4 - 5180451371641382654*x1^5*x2^4*x3^3*y*z^3 + 8721480645581702520*x1^5*x2^4*x3^2*x4^5*x*z^4 - 2929739350804246794*x1^5*x2^4*x3^2*x4*y*z^3 - 7670354798951696227*x1^5*x2^4*x3*x4^6*x*z^4 - 7639955866075036007*x1^5*x2^4*x3*x4^2*y*z^3 + 2508338061125371108*x1^5*x2^4*x4^7*x*z^4 - 1450721984368204763*x1^5*x2^4*x4^3*y*z^3 + 8230517703994733121*x1^5*x2^3*x3^8*x*z^4 - 5910631612768894948*x1^5*x2^3*x3^7*x4*x*z^4 + 8692140851445458348*x1^5*x2^3*x3^6*x4^2*x*z^4 + 6067066540118507797*x1^5*x2^3*x3^5*x4^3*x*z^4 + 1911223197554521616*x1^5*x2^3*x3^4*x4^4*x*z^4 + 907243609616003491*x1^5*x2^3*x3^4*y*z^3 - 804069672865441312*x1^5*x2^3*x3^3*x4^5*x*z^4 + 1005098109362305786*x1^5*x2^3*x3^3*x4*y*z^3 - 3841117767102831209*x1^5*x2^3*x3^2*x4^6*x*z^4 + 3301570486028563649*x1^5*x2^3*x3^2*x4^2*y*z^3 + 3478753148918306643*x1^5*x2^3*x3*x4^7*x*z^4 - 4198233555436805945*x1^5*x2^3*x3*x4^3*y*z^3 + 8636972747285598934*x1^5*x2^3*x4^8*x*z^4 - 6426746334281686560*x1^5*x2^3*x4^4*y*z^3 + 637613688211492214*x1^5*x2^3*x^2*z^2 - 5069264391343292338*x1^5*x2^2*x3^9*x*z^4 + 4123449427067397460*x1^5*x2^2*x3^8*x4*x*z^4 - 5192532120041543193*x1^5*x2^2*x3^7*x4^2*x*z^4 - 5422547342406470793*x1^5*x2^2*x3^6*x4^3*x*z^4 + 7996869174349709177*x1^5*x2^2*x3^5*x4^4*x*z^4 - 6355684862699455840*x1^5*x2^2*x3^5*y*z^3 + 8065753171926979953*x1^5*x2^2*x3^4*x4^5*x*z^4 + 8798546294945752656*x1^5*x2^2*x3^4*x4*y*z^3 - 4568425335367005478*x1^5*x2^2*x3^3*x4^6*x*z^4 - 7014084577785797468*x1^5*x2^2*x3^3*x4^2*y*z^3 - 2241848983796850280*x1^5*x2^2*x3^2*x4^7*x*z^4 - 4937278495673990470*x1^5*x2^2*x3^2*x4^3*y*z^3 - 6311536591712762132*x1^5*x2^2*x3*x4^8*x*z^4 + 8672913770463014196*x1^5*x2^2*x3*x4^4*y*z^3 - 3779829100017334725*x1^5*x2^2*x3*x^2*z^2 - 6336265155589915384*x1^5*x2^2*x4^9*x*z^4 - 689368699945398780*x1^5*x2^2*x4^5*y*z^3 + 4176979519706454378*x1^5*x2^2*x4*x^2*z^2 + 2932091487128749684*x1^5*x2*x3^10*x*z^4 - 7346215062679332589*x1^5*x2*x3^9*x4*x*z^4 + 1294906102558920896*x1^5*x2*x3^8*x4^2*x*z^4 - 9124494361757369561*x1^5*x2*x3^7*x4^3*x*z^4 + 6016746620078223064*x1^5*x2*x3^6*x4^4*x*z^4 + 7735980042412637642*x1^5*x2*x3^6*y*z^3 - 7551378420935406941*x1^5*x2*x3^5*x4^5*x*z^4 + 6169517716726912094*x1^5*x2*x3^5*x4*y*z^3 + 7563889166235088185*x1^5*x2*x3^4*x4^6*x*z^4 - 1876871422265439803*x1^5*x2*x3^4*x4^2*y*z^3 + 645083006705237729*x1^5*x2*x3^3*x4^7*x*z^4 + 3729372923647245997*x1^5*x2*x3^3*x4^3*y*z^3 - 1397690398522333914*x1^5*x2*x3^2*x4^8*x*z^4 + 4257223397462291734*x1^5*x2*x3^2*x4^4*y*z^3 - 2923276118430983158*x1^5*x2*x3^2*x^2*z^2 + 5027995974418389773*x1^5*x2*x3*x4^9*x*z^4 - 8324123700978025118*x1^5*x2*x3*x4^5*y*z^3 - 5181160651852624005*x1^5*x2*x3*x4*x^2*z^2 - 853946178858564014*x1^5*x2*x4^10*x*z^4 - 1112306695523846580*x1^5*x2*x4^6*y*z^3 - 2294277889735351466*x1^5*x2*x4^2*x^2*z^2 - 7783881751922334233*x1^5*x3^11*x*z^4 - 5788962017854530168*x1^5*x3^10*x4*x*z^4 + 951587407928421203*x1^5*x3^9*x4^2*x*z^4 + 6078354920309115483*x1^5*x3^8*x4^3*x*z^4 + 467147848078573229*x1^5*x3^7*x4^4*x*z^4 + 1911308650761778257*x1^5*x3^7*y*z^3 + 8331058498690280100*x1^5*x3^6*x4^5*x*z^4 + 110559679971825895*x1^5*x3^6*x4*y*z^3 - 2244246824557473197*x1^5*x3^5*x4^6*x*z^4 - 8237178871635121634*x1^5*x3^5*x4^2*y*z^3 + 8072452428846953530*x1^5*x3^4*x4^7*x*z^4 + 3608173292951585678*x1^5*x3^4*x4^3*y*z^3 - 3200259679135441690*x1^5*x3^3*x4^8*x*z^4 + 5049873504652221110*x1^5*x3^3*x4^4*y*z^3 + 589705609009365700*x1^5*x3^3*x^2*z^2 - 493120393758365660*x1^5*x3^2*x4^9*x*z^4 - 4878009159000981919*x1^5*x3^2*x4^5*y*z^3 + 3539642299248205003*x1^5*x3^2*x4*x^2*z^2 + 3703369148159201310*x1^5*x3*x4^10*x*z^4 - 2271482585751909145*x1^5*x3*x4^6*y*z^3 - 7217145642122468918*x1^5*x3*x4^2*x^2*z^2 + 2437261247611373226*x1^5*x4^11*x*z^4 - 8255388395343220630*x1^5*x4^7*y*z^3 + 7141730480046257347*x1^5*x4^3*x^2*z^2 - 4600890514164917359*x1^4*x2^12*x*z^4 + 2583166558204028511*x1^4*x2^11*x3*x*z^4 - 8546937210098829132*x1^4*x2^11*x4*x*z^4 - 1019307340569136481*x1^4*x2^10*x3^2*x*z^4 + 4483935874728504578*x1^4*x2^10*x3*x4*x*z^4 + 4360663321850729541*x1^4*x2^10*x4^2*x*z^4 - 8147001016310007155*x1^4*x2^9*x3^3*x*z^4 - 3802180079646836406*x1^4*x2^9*x3^2*x4*x*z^4 + 1636767320804877482*x1^4*x2^9*x3*x4^2*x*z^4 - 6938802826143551939*x1^4*x2^9*x4^3*x*z^4 + 5022118777921652424*x1^4*x2^8*x3^4*x*z^4 + 6057964764938031279*x1^4*x2^8*x3^3*x4*x*z^4 + 3989773435128377014*x1^4*x2^8*x3^2*x4^2*x*z^4 + 3376459378873292600*x1^4*x2^8*x3*x4^3*x*z^4 - 8751327204407540525*x1^4*x2^8*x4^4*x*z^4 + 5780893406673009986*x1^4*x2^8*y*z^3 + 3907781041680984062*x1^4*x2^7*x3^5*x*z^4 - 6035111382688985422*x1^4*x2^7*x3^4*x4*x*z^4 + 2907955468827196458*x1^4*x2^7*x3^3*x4^2*x*z^4 + 3398623639436575484*x1^4*x2^7*x3^2*x4^3*x*z^4 - 2237964585223033487*x1^4*x2^7*x3*x4^4*x*z^4 + 5069368471141249928*x1^4*x2^7*x3*y*z^3 - 3685410775876579391*x1^4*x2^7*x4^5*x*z^4 + 1478221064298785211*x1^4*x2^7*x4*y*z^3 + 4354210621095996781*x1^4*x2^6*x3^6*x*z^4 + 7273876629600079408*x1^4*x2^6*x3^5*x4*x*z^4 - 3344772936540402294*x1^4*x2^6*x3^4*x4^2*x*z^4 - 7562834214046988*x1^4*x2^6*x3^3*x4^3*x*z^4 - 9192864709677257162*x1^4*x2^6*x3^2*x4^4*x*z^4 + 7965876283868125293*x1^4*x2^6*x3^2*y*z^3 + 5194705633080242999*x1^4*x2^6*x3*x4^5*x*z^4 + 7672007763062419228*x1^4*x2^6*x3*x4*y*z^3 - 9195855017343799752*x1^4*x2^6*x4^6*x*z^4 + 923436713010840139*x1^4*x2^6*x4^2*y*z^3 - 6281638739112106566*x1^4*x2^5*x3^7*x*z^4 - 6688940709686479542*x1^4*x2^5*x3^6*x4*x*z^4 + 7551856368460127054*x1^4*x2^5*x3^5*x4^2*x*z^4 + 5484166155620523775*x1^4*x2^5*x3^4*x4^3*x*z^4 - 2209679247386594329*x1^4*x2^5*x3^3*x4^4*x*z^4 + 3606276190003261102*x1^4*x2^5*x3^3*y*z^3 - 8360910997764251833*x1^4*x2^5*x3^2*x4^5*x*z^4 + 1584064213723837159*x1^4*x2^5*x3^2*x4*y*z^3 - 4572138958791735486*x1^4*x2^5*x3*x4^6*x*z^4 - 7135674279984782772*x1^4*x2^5*x3*x4^2*y*z^3 - 8151673638164934899*x1^4*x2^5*x4^7*x*z^4 + 7853673877709583392*x1^4*x2^5*x4^3*y*z^3 + 2910089403094277475*x1^4*x2^4*x3^8*x*z^4 - 6955720732164291713*x1^4*x2^4*x3^7*x4*x*z^4 + 1983187782067368374*x1^4*x2^4*x3^6*x4^2*x*z^4 + 5587918417190347495*x1^4*x2^4*x3^5*x4^3*x*z^4 - 3810368272358710259*x1^4*x2^4*x3^4*x4^4*x*z^4 + 345938077210456827*x1^4*x2^4*x3^4*y*z^3 + 1368820016289898223*x1^4*x2^4*x3^3*x4^5*x*z^4 - 2405677126471968041*x1^4*x2^4*x3^3*x4*y*z^3 - 3785486050143622581*x1^4*x2^4*x3^2*x4^6*x*z^4 + 8619729983399587729*x1^4*x2^4*x3^2*x4^2*y*z^3 + 7282531085976735898*x1^4*x2^4*x3*x4^7*x*z^4 + 920371919410745912*x1^4*x2^4*x3*x4^3*y*z^3 - 5691441356488426112*x1^4*x2^4*x4^8*x*z^4 + 2862933385147830649*x1^4*x2^4*x4^4*y*z^3 - 37297578569684546*x1^4*x2^4*x^2*z^2 - 1290614517674414289*x1^4*x2^3*x3^9*x*z^4 - 6768934114729085257*x1^4*x2^3*x3^8*x4*x*z^4 - 4635712774719286405*x1^4*x2^3*x3^7*x4^2*x*z^4 - 3680030373280049731*x1^4*x2^3*x3^6*x4^3*x*z^4 - 4368183820013843403*x1^4*x2^3*x3^5*x4^4*x*z^4 - 1981753866428171553*x1^4*x2^3*x3^5*y*z^3 + 7465453184974410748*x1^4*x2^3*x3^4*x4^5*x*z^4 + 830687136146036723*x1^4*x2^3*x3^4*x4*y*z^3 - 8572566017886546117*x1^4*x2^3*x3^3*x4^6*x*z^4 - 6350528163630310505*x1^4*x2^3*x3^3*x4^2*y*z^3 - 6105821271673951546*x1^4*x2^3*x3^2*x4^7*x*z^4 - 1653591221161141738*x1^4*x2^3*x3^2*x4^3*y*z^3 - 932429567685152824*x1^4*x2^3*x3*x4^8*x*z^4 - 2525332915030739359*x1^4*x2^3*x3*x4^4*y*z^3 + 3640469523461410317*x1^4*x2^3*x3*x^2*z^2 - 225821749153320001*x1^4*x2^3*x4^9*x*z^4 - 7175350691045409417*x1^4*x2^3*x4^5*y*z^3 - 3227674675162105794*x1^4*x2^3*x4*x^2*z^2 - 929085362642070281*x1^4*x2^2*x3^10*x*z^4 + 4542488852760761719*x1^4*x2^2*x3^9*x4*x*z^4 + 4360913158857647528*x1^4*x2^2*x3^8*x4^2*x*z^4 - 8001983564479400618*x1^4*x2^2*x3^7*x4^3*x*z^4 - 8912405187592810363*x1^4*x2^2*x3^6*x4^4*x*z^4 - 5354355116122111618*x1^4*x2^2*x3^6*y*z^3 + 4282229863679905143*x1^4*x2^2*x3^5*x4^5*x*z^4 + 6819573630326302087*x1^4*x2^2*x3^5*x4*y*z^3 - 8029713137885920877*x1^4*x2^2*x3^4*x4^6*x*z^4 + 570592750597999006*x1^4*x2^2*x3^4*x4^2*y*z^3 - 6546691029702006611*x1^4*x2^2*x3^3*x4^7*x*z^4 + 1547640950316859763*x1^4*x2^2*x3^3*x4^3*y*z^3 - 2092560848446846330*x1^4*x2^2*x3^2*x4^8*x*z^4 - 4325181551862993080*x1^4*x2^2*x3^2*x4^4*y*z^3 + 1893616552474843277*x1^4*x2^2*x3^2*x^2*z^2 + 5696531717978452718*x1^4*x2^2*x3*x4^9*x*z^4 + 1835489796662721754*x1^4*x2^2*x3*x4^5*y*z^3 - 5466800701171123551*x1^4*x2^2*x3*x4*x^2*z^2 + 6545877406644247011*x1^4*x2^2*x4^10*x*z^4 - 5339041943687787842*x1^4*x2^2*x4^6*y*z^3 - 3523135744589908378*x1^4*x2^2*x4^2*x^2*z^2 + 6012267430432245365*x1^4*x2*x3^11*x*z^4 - 50322389211018425*x1^4*x2*x3^10*x4*x*z^4 + 1002169812595269126*x1^4*x2*x3^9*x4^2*x*z^4 - 3766019194604981291*x1^4*x2*x3^8*x4^3*x*z^4 + 8341565427939240328*x1^4*x2*x3^7*x4^4*x*z^4 + 8809669374660022365*x1^4*x2*x3^7*y*z^3 - 6094693505094295597*x1^4*x2*x3^6*x4^5*x*z^4 + 1092038793844257657*x1^4*x2*x3^6*x4*y*z^3 - 3843578347098020318*x1^4*x2*x3^5*x4^6*x*z^4 - 1814068639344190398*x1^4*x2*x3^5*x4^2*y*z^3 + 3082249764933938709*x1^4*x2*x3^4*x4^7*x*z^4 + 9093758917426257740*x1^4*x2*x3^4*x4^3*y*z^3 + 3581945846174364445*x1^4*x2*x3^3*x4^8*x*z^4 + 3005114966236211164*x1^4*x2*x3^3*x4^4*y*z^3 + 8886584084584158359*x1^4*x2*x3^3*x^2*z^2 + 5125544518227708233*x1^4*x2*x3^2*x4^9*x*z^4 + 5675403356043223154*x1^4*x2*x3^2*x4^5*y*z^3 - 2014552509252639043*x1^4*x2*x3^2*x4*x^2*z^2 - 3053319659159519562*x1^4*x2*x3*x4^10*x*z^4 + 3908434911657785051*x1^4*x2*x3*x4^6*y*z^3 + 1324050543551731828*x1^4*x2*x3*x4^2*x^2*z^2 - 8882722901527991105*x1^4*x2*x4^11*x*z^4 - 6809382015153024308*x1^4*x2*x4^7*y*z^3 - 5044203721142828577*x1^4*x2*x4^3*x^2*z^2 - 2627487569172554209*x1^4*x3^12*x*z^4 + 3988387899110281697*x1^4*x3^11*x4*x*z^4 - 6404562213288803559*x1^4*x3^10*x4^2*x*z^4 - 2022832706366664362*x1^4*x3^9*x4^3*x*z^4 + 7103458268789835762*x1^4*x3^8*x4^4*x*z^4 + 5233644238983007429*x1^4*x3^8*y*z^3 + 6792545456076490720*x1^4*x3^7*x4^5*x*z^4 - 389589854887330024*x1^4*x3^7*x4*y*z^3 + 918142190274079984*x1^4*x3^6*x4^6*x*z^4 + 2417149234976539617*x1^4*x3^6*x4^2*y*z^3 + 2600092468516905822*x1^4*x3^5*x4^7*x*z^4 + 4682848767449640738*x1^4*x3^5*x4^3*y*z^3 - 6786205503731495090*x1^4*x3^4*x4^8*x*z^4 + 7611872035062684700*x1^4*x3^4*x4^4*y*z^3 - 7184099211461640692*x1^4*x3^4*x^2*z^2 + 380020019793029580*x1^4*x3^3*x4^9*x*z^4 - 167144693400890116*x1^4*x3^3*x4^5*y*z^3 - 3093827564114347934*x1^4*x3^3*x4*x^2*z^2 + 6602437557677496121*x1^4*x3^2*x4^10*x*z^4 + 3255086806574586824*x1^4*x3^2*x4^6*y*z^3 - 327489145279547698*x1^4*x3^2*x4^2*x^2*z^2 + 5242117405539735365*x1^4*x3*x4^11*x*z^4 - 2795079689979604326*x1^4*x3*x4^7*y*z^3 + 8640202709736300152*x1^4*x3*x4^3*x^2*z^2 - 1181368885058772200*x1^4*x4^12*x*z^4 - 6595726882045526487*x1^4*x4^8*y*z^3 - 5801320305007930924*x1^4*x4^4*x^2*z^2 - 4665052037760950708*x1^4*x*y*z - 7544218248140008506*x1^3*x2^13*x*z^4 - 3926331480815582692*x1^3*x2^12*x3*x*z^4 - 3160454006415784090*x1^3*x2^12*x4*x*z^4 + 5443745941022363555*x1^3*x2^11*x3^2*x*z^4 - 6567329750082232682*x1^3*x2^11*x3*x4*x*z^4 - 2639784068600769370*x1^3*x2^11*x4^2*x*z^4 + 6327369452797250164*x1^3*x2^10*x3^3*x*z^4 + 3819152509544088262*x1^3*x2^10*x3^2*x4*x*z^4 - 2648041287122272068*x1^3*x2^10*x3*x4^2*x*z^4 - 4303623484059790924*x1^3*x2^10*x4^3*x*z^4 - 2696587128335195874*x1^3*x2^9*x3^4*x*z^4 - 3142472234984734190*x1^3*x2^9*x3^3*x4*x*z^4 - 4791377388599578151*x1^3*x2^9*x3^2*x4^2*x*z^4 + 4101324682468185800*x1^3*x2^9*x3*x4^3*x*z^4 - 8895439062236665185*x1^3*x2^9*x4^4*x*z^4 + 5057166192276835669*x1^3*x2^9*y*z^3 - 3645862458360926191*x1^3*x2^8*x3^5*x*z^4 + 8735682673622894965*x1^3*x2^8*x3^4*x4*x*z^4 + 5407050263043910539*x1^3*x2^8*x3^3*x4^2*x*z^4 - 5261932990884168844*x1^3*x2^8*x3^2*x4^3*x*z^4 + 1754723244947865980*x1^3*x2^8*x3*x4^4*x*z^4 - 3426250758342657448*x1^3*x2^8*x3*y*z^3 + 6048944291087091581*x1^3*x2^8*x4^5*x*z^4 + 7845676398788844582*x1^3*x2^8*x4*y*z^3 + 1658391652692375164*x1^3*x2^7*x3^6*x*z^4 - 9120487364190764675*x1^3*x2^7*x3^5*x4*x*z^4 - 6483401385389281357*x1^3*x2^7*x3^4*x4^2*x*z^4 - 7299480837065780116*x1^3*x2^7*x3^3*x4^3*x*z^4 - 301757238208372449*x1^3*x2^7*x3^2*x4^4*x*z^4 - 7275343587537586885*x1^3*x2^7*x3^2*y*z^3 - 6899017759979341067*x1^3*x2^7*x3*x4^5*x*z^4 + 2279406730201693717*x1^3*x2^7*x3*x4*y*z^3 - 1393741021807121295*x1^3*x2^7*x4^6*x*z^4 - 8616254661504566372*x1^3*x2^7*x4^2*y*z^3 - 8388744182408647164*x1^3*x2^6*x3^7*x*z^4 - 5317584075294493410*x1^3*x2^6*x3^6*x4*x*z^4 - 2678964890896164094*x1^3*x2^6*x3^5*x4^2*x*z^4 - 1741070914157677065*x1^3*x2^6*x3^4*x4^3*x*z^4 + 1341382859681170607*x1^3*x2^6*x3^3*x4^4*x*z^4 + 1437922511197331371*x1^3*x2^6*x3^3*y*z^3 - 8549638646777872830*x1^3*x2^6*x3^2*x4^5*x*z^4 + 4915799812670965346*x1^3*x2^6*x3^2*x4*y*z^3 - 9031726858825232428*x1^3*x2^6*x3*x4^6*x*z^4 - 2582463792725431589*x1^3*x2^6*x3*x4^2*y*z^3 + 5049114577712668849*x1^3*x2^6*x4^7*x*z^4 - 7061501257320020792*x1^3*x2^6*x4^3*y*z^3 + 3381362511334827857*x1^3*x2^5*x3^8*x*z^4 + 6092234369828596163*x1^3*x2^5*x3^7*x4*x*z^4 + 2163931411260480264*x1^3*x2^5*x3^6*x4^2*x*z^4 - 6794704762942571156*x1^3*x2^5*x3^5*x4^3*x*z^4 + 2081650870487146045*x1^3*x2^5*x3^4*x4^4*x*z^4 - 54347708045110990*x1^3*x2^5*x3^4*y*z^3 + 1316434681267809229*x1^3*x2^5*x3^3*x4^5*x*z^4 + 4686220443941443680*x1^3*x2^5*x3^3*x4*y*z^3 - 8808728778318238467*x1^3*x2^5*x3^2*x4^6*x*z^4 + 6060790877272777412*x1^3*x2^5*x3^2*x4^2*y*z^3 - 2995319592239609794*x1^3*x2^5*x3*x4^7*x*z^4 - 4367444145222473199*x1^3*x2^5*x3*x4^3*y*z^3 + 6705836550246364603*x1^3*x2^5*x4^8*x*z^4 - 3011273788889783027*x1^3*x2^5*x4^4*y*z^3 + 4934763111346456848*x1^3*x2^5*x^2*z^2 - 1877065755498244280*x1^3*x2^4*x3^9*x*z^4 + 5615136675211248985*x1^3*x2^4*x3^8*x4*x*z^4 - 7155199054477037258*x1^3*x2^4*x3^7*x4^2*x*z^4 - 7356660030475655200*x1^3*x2^4*x3^6*x4^3*x*z^4 - 2921870374391691583*x1^3*x2^4*x3^5*x4^4*x*z^4 - 5524297513904571192*x1^3*x2^4*x3^5*y*z^3 - 9066865470363663786*x1^3*x2^4*x3^4*x4^5*x*z^4 + 538501437776129269*x1^3*x2^4*x3^4*x4*y*z^3 - 5334368328892384094*x1^3*x2^4*x3^3*x4^6*x*z^4 - 736433735065540042*x1^3*x2^4*x3^3*x4^2*y*z^3 - 2044444381666912415*x1^3*x2^4*x3^2*x4^7*x*z^4 - 7733192876721240258*x1^3*x2^4*x3^2*x4^3*y*z^3 - 1503079766675397295*x1^3*x2^4*x3*x4^8*x*z^4 + 3442773160534851506*x1^3*x2^4*x3*x4^4*y*z^3 + 960173723443470029*x1^3*x2^4*x3*x^2*z^2 + 8383127921911035612*x1^3*x2^4*x4^9*x*z^4 - 7876004008662687720*x1^3*x2^4*x4^5*y*z^3 + 2292461304733928651*x1^3*x2^4*x4*x^2*z^2 - 4504627415206502859*x1^3*x2^3*x3^10*x*z^4 + 3231275575274285791*x1^3*x2^3*x3^9*x4*x*z^4 - 5634585476741737025*x1^3*x2^3*x3^8*x4^2*x*z^4 + 4470526932506869183*x1^3*x2^3*x3^7*x4^3*x*z^4 - 8904380101709340765*x1^3*x2^3*x3^6*x4^4*x*z^4 + 8172264368751114942*x1^3*x2^3*x3^6*y*z^3 + 774644859251157831*x1^3*x2^3*x3^5*x4^5*x*z^4 + 8009606245499407353*x1^3*x2^3*x3^5*x4*y*z^3 + 504992831118226710*x1^3*x2^3*x3^4*x4^6*x*z^4 + 4819113405443405503*x1^3*x2^3*x3^4*x4^2*y*z^3 - 2541788736319856141*x1^3*x2^3*x3^3*x4^7*x*z^4 + 3689010270565549788*x1^3*x2^3*x3^3*x4^3*y*z^3 - 8374184357932200952*x1^3*x2^3*x3^2*x4^8*x*z^4 - 2836860781290157106*x1^3*x2^3*x3^2*x4^4*y*z^3 - 1398222870008655285*x1^3*x2^3*x3^2*x^2*z^2 - 3797825137442788618*x1^3*x2^3*x3*x4^9*x*z^4 - 3973871191928559084*x1^3*x2^3*x3*x4^5*y*z^3 - 2051407770581471486*x1^3*x2^3*x3*x4*x^2*z^2 + 7266754879604313485*x1^3*x2^3*x4^10*x*z^4 + 951526973521666864*x1^3*x2^3*x4^6*y*z^3 - 4566905333628690382*x1^3*x2^3*x4^2*x^2*z^2 - 7054375416104916282*x1^3*x2^2*x3^11*x*z^4 - 248264944100155623*x1^3*x2^2*x3^10*x4*x*z^4 + 8925068402368647252*x1^3*x2^2*x3^9*x4^2*x*z^4 + 6565847642170883969*x1^3*x2^2*x3^8*x4^3*x*z^4 - 7125044540442330806*x1^3*x2^2*x3^7*x4^4*x*z^4 - 7397297747565033669*x1^3*x2^2*x3^7*y*z^3 + 1437282707170930147*x1^3*x2^2*x3^6*x4^5*x*z^4 + 5310723798061284386*x1^3*x2^2*x3^6*x4*y*z^3 - 5512876825294540568*x1^3*x2^2*x3^5*x4^6*x*z^4 - 1445580863472749185*x1^3*x2^2*x3^5*x4^2*y*z^3 - 5066601773226770386*x1^3*x2^2*x3^4*x4^7*x*z^4 - 2753964293571950181*x1^3*x2^2*x3^4*x4^3*y*z^3 + 6745318418674457434*x1^3*x2^2*x3^3*x4^8*x*z^4 - 3185995334478004708*x1^3*x2^2*x3^3*x4^4*y*z^3 - 758474597866258013*x1^3*x2^2*x3^3*x^2*z^2 - 8524373592777449750*x1^3*x2^2*x3^2*x4^9*x*z^4 - 7620235401810820768*x1^3*x2^2*x3^2*x4^5*y*z^3 - 4238124480885314623*x1^3*x2^2*x3^2*x4*x^2*z^2 + 5262609503720517765*x1^3*x2^2*x3*x4^10*x*z^4 - 4513079871771534384*x1^3*x2^2*x3*x4^6*y*z^3 - 5757602174260647141*x1^3*x2^2*x3*x4^2*x^2*z^2 + 8888566361118143839*x1^3*x2^2*x4^11*x*z^4 + 6755315668533033061*x1^3*x2^2*x4^7*y*z^3 + 4347698265115369393*x1^3*x2^2*x4^3*x^2*z^2 + 4829636460594868077*x1^3*x2*x3^12*x*z^4 + 1960239029796476209*x1^3*x2*x3^11*x4*x*z^4 + 7062402716931668269*x1^3*x2*x3^10*x4^2*x*z^4 + 5653206921571739657*x1^3*x2*x3^9*x4^3*x*z^4 - 3158721217605003346*x1^3*x2*x3^8*x4^4*x*z^4 - 3035293756699566041*x1^3*x2*x3^8*y*z^3 + 2132163731906243439*x1^3*x2*x3^7*x4^5*x*z^4 + 4280960475975480965*x1^3*x2*x3^7*x4*y*z^3 + 8250650493431986730*x1^3*x2*x3^6*x4^6*x*z^4 + 1058603434305911881*x1^3*x2*x3^6*x4^2*y*z^3 + 184284864174630545*x1^3*x2*x3^5*x4^7*x*z^4 - 3994214270734751960*x1^3*x2*x3^5*x4^3*y*z^3 - 5532506341801294595*x1^3*x2*x3^4*x4^8*x*z^4 + 5420190274999265543*x1^3*x2*x3^4*x4^4*y*z^3 - 600634757075700131*x1^3*x2*x3^4*x^2*z^2 + 5400217435137614857*x1^3*x2*x3^3*x4^9*x*z^4 - 6612601776803761361*x1^3*x2*x3^3*x4^5*y*z^3 + 4544280173370150332*x1^3*x2*x3^3*x4*x^2*z^2 - 1402245598786126651*x1^3*x2*x3^2*x4^10*x*z^4 - 1704507333458478674*x1^3*x2*x3^2*x4^6*y*z^3 + 3808484713083011998*x1^3*x2*x3^2*x4^2*x^2*z^2 - 1981695302520737233*x1^3*x2*x3*x4^11*x*z^4 + 2351310591015855633*x1^3*x2*x3*x4^7*y*z^3 - 6940639984932734436*x1^3*x2*x3*x4^3*x^2*z^2 + 570105962461399040*x1^3*x2*x4^12*x*z^4 - 1475915550588452807*x1^3*x2*x4^8*y*z^3 + 4375795638316253872*x1^3*x2*x4^4*x^2*z^2 + 5167850280199092844*x1^3*x2*x*y*z + 8916220603023928976*x1^3*x3^13*x*z^4 + 141822775488829828*x1^3*x3^12*x4*x*z^4 - 4235936865805558787*x1^3*x3^11*x4^2*x*z^4 - 4649276494901786854*x1^3*x3^10*x4^3*x*z^4 - 2115675960573779657*x1^3*x3^9*x4^4*x*z^4 - 6780534951315659527*x1^3*x3^9*y*z^3 - 4435469662392849694*x1^3*x3^8*x4^5*x*z^4 - 5912430080412556274*x1^3*x3^8*x4*y*z^3 - 6907850134605155529*x1^3*x3^7*x4^6*x*z^4 + 346283186315183731*x1^3*x3^7*x4^2*y*z^3 - 8034975101603609432*x1^3*x3^6*x4^7*x*z^4 + 7724413188660394388*x1^3*x3^6*x4^3*y*z^3 - 4222017849072183327*x1^3*x3^5*x4^8*x*z^4 - 1804373675689604009*x1^3*x3^5*x4^4*y*z^3 + 6617922422798856444*x1^3*x3^5*x^2*z^2 + 5723548796098919645*x1^3*x3^4*x4^9*x*z^4 - 741388048961959166*x1^3*x3^4*x4^5*y*z^3 - 4137802671858720859*x1^3*x3^4*x4*x^2*z^2 - 5020055571606449624*x1^3*x3^3*x4^10*x*z^4 - 9060083302841172900*x1^3*x3^3*x4^6*y*z^3 + 5471000468032967641*x1^3*x3^3*x4^2*x^2*z^2 - 4802712077804209851*x1^3*x3^2*x4^11*x*z^4 + 7788450216866034037*x1^3*x3^2*x4^7*y*z^3 + 174819726359567074*x1^3*x3^2*x4^3*x^2*z^2 + 5851057134592889068*x1^3*x3*x4^12*x*z^4 - 5341822557108670079*x1^3*x3*x4^8*y*z^3 + 7832956056463226282*x1^3*x3*x4^4*x^2*z^2 + 5616386025501687912*x1^3*x3*x*y*z - 6977115688775948341*x1^3*x4^13*x*z^4 - 5632195044101085608*x1^3*x4^9*y*z^3 - 359735957814688100*x1^3*x4^5*x^2*z^2 + 7640214622521851000*x1^3*x4*x*y*z - 1265109762440848214*x1^2*x2^10*y*z^3 - 7167953056741119872*x1^2*x2^9*x3*y*z^3 - 3901553103894091849*x1^2*x2^9*x4*y*z^3 - 2845189362553292315*x1^2*x2^8*x3^2*y*z^3 - 7253887597962681385*x1^2*x2^8*x3*x4*y*z^3 + 573057659268596756*x1^2*x2^8*x4^2*y*z^3 + 5020353739425445384*x1^2*x2^7*x3^3*y*z^3 - 6506078400068590031*x1^2*x2^7*x3^2*x4*y*z^3 + 4170538598741654369*x1^2*x2^7*x3*x4^2*y*z^3 - 8683156177067014043*x1^2*x2^7*x4^3*y*z^3 - 1140773444413281732*x1^2*x2^6*x3^4*y*z^3 + 1811757348599218785*x1^2*x2^6*x3^3*x4*y*z^3 + 2130415554666762390*x1^2*x2^6*x3^2*x4^2*y*z^3 - 9212743775504180902*x1^2*x2^6*x3*x4^3*y*z^3 - 3062950917087947726*x1^2*x2^6*x4^4*y*z^3 + 346993229146279832*x1^2*x2^6*x^2*z^2 + 976484589864043703*x1^2*x2^5*x3^5*y*z^3 + 507800668990404702*x1^2*x2^5*x3^4*x4*y*z^3 - 2545587121708757402*x1^2*x2^5*x3^3*x4^2*y*z^3 - 4616277735730749466*x1^2*x2^5*x3^2*x4^3*y*z^3 + 8946113909523221559*x1^2*x2^5*x3*x4^4*y*z^3 + 7310110010863992104*x1^2*x2^5*x3*x^2*z^2 + 474473353083036068*x1^2*x2^5*x4^5*y*z^3 - 1635191887605287896*x1^2*x2^5*x4*x^2*z^2 + 7386073212217089420*x1^2*x2^4*x3^6*y*z^3 + 972454321721918200*x1^2*x2^4*x3^5*x4*y*z^3 + 2508664426407217522*x1^2*x2^4*x3^4*x4^2*y*z^3 + 3552129065984719176*x1^2*x2^4*x3^3*x4^3*y*z^3 + 4241428337875199416*x1^2*x2^4*x3^2*x4^4*y*z^3 + 678409613879558373*x1^2*x2^4*x3^2*x^2*z^2 - 3709692388712728658*x1^2*x2^4*x3*x4^5*y*z^3 + 6002893580534988364*x1^2*x2^4*x3*x4*x^2*z^2 + 8362914464966624852*x1^2*x2^4*x4^6*y*z^3 + 5882619165368821875*x1^2*x2^4*x4^2*x^2*z^2 + 2504207837610506880*x1^2*x2^3*x3^7*y*z^3 - 918967684591054479*x1^2*x2^3*x3^6*x4*y*z^3 - 2862301042490923362*x1^2*x2^3*x3^5*x4^2*y*z^3 + 2783532603155304133*x1^2*x2^3*x3^4*x4^3*y*z^3 - 2570250380130194272*x1^2*x2^3*x3^3*x4^4*y*z^3 + 1748868719718672382*x1^2*x2^3*x3^3*x^2*z^2 - 2779044238025907246*x1^2*x2^3*x3^2*x4^5*y*z^3 - 2503909015023351947*x1^2*x2^3*x3^2*x4*x^2*z^2 - 697196441175642245*x1^2*x2^3*x3*x4^6*y*z^3 - 1311764988127703822*x1^2*x2^3*x3*x4^2*x^2*z^2 - 56040696597951973*x1^2*x2^3*x4^7*y*z^3 - 5097212851172792127*x1^2*x2^3*x4^3*x^2*z^2 - 431186326498415230*x1^2*x2^2*x3^8*y*z^3 + 292213543678908354*x1^2*x2^2*x3^7*x4*y*z^3 + 7477209688328557283*x1^2*x2^2*x3^6*x4^2*y*z^3 + 8377573849302647169*x1^2*x2^2*x3^5*x4^3*y*z^3 - 8108155162774451794*x1^2*x2^2*x3^4*x4^4*y*z^3 - 828827533476819471*x1^2*x2^2*x3^4*x^2*z^2 + 1629006818481102915*x1^2*x2^2*x3^3*x4^5*y*z^3 - 3682278613232311269*x1^2*x2^2*x3^3*x4*x^2*z^2 + 6971825496703549826*x1^2*x2^2*x3^2*x4^6*y*z^3 + 7406585427354370590*x1^2*x2^2*x3^2*x4^2*x^2*z^2 + 462535875755898229*x1^2*x2^2*x3*x4^7*y*z^3 + 2739223787179835682*x1^2*x2^2*x3*x4^3*x^2*z^2 - 8808765077420379867*x1^2*x2^2*x4^8*y*z^3 - 3868430938025438029*x1^2*x2^2*x4^4*x^2*z^2 + 8998275477113899770*x1^2*x2^2*x*y*z + 7246867409769112215*x1^2*x2*x3^9*y*z^3 - 4539156173067317576*x1^2*x2*x3^8*x4*y*z^3 + 4352848308080438667*x1^2*x2*x3^7*x4^2*y*z^3 + 5211670675628669534*x1^2*x2*x3^6*x4^3*y*z^3 - 8377944683375680844*x1^2*x2*x3^5*x4^4*y*z^3 + 7028176661894865920*x1^2*x2*x3^5*x^2*z^2 + 5863118715872333505*x1^2*x2*x3^4*x4^5*y*z^3 - 7732157404083552849*x1^2*x2*x3^4*x4*x^2*z^2 + 6236235004195150247*x1^2*x2*x3^3*x4^6*y*z^3 + 3325000919541184280*x1^2*x2*x3^3*x4^2*x^2*z^2 + 8876033288287840614*x1^2*x2*x3^2*x4^7*y*z^3 + 1518224504257445677*x1^2*x2*x3^2*x4^3*x^2*z^2 - 2120332070670742295*x1^2*x2*x3*x4^8*y*z^3 + 6226234947110611493*x1^2*x2*x3*x4^4*x^2*z^2 - 3929648655257862065*x1^2*x2*x3*x*y*z - 9121384669167612320*x1^2*x2*x4^9*y*z^3 + 1288146620860557195*x1^2*x2*x4^5*x^2*z^2 - 4157742869632892156*x1^2*x2*x4*x*y*z - 1496995508237484512*x1^2*x3^10*y*z^3 + 895480497563917079*x1^2*x3^9*x4*y*z^3 - 8770862073566757906*x1^2*x3^8*x4^2*y*z^3 - 4048387215877894806*x1^2*x3^7*x4^3*y*z^3 - 6314607691808412529*x1^2*x3^6*x4^4*y*z^3 + 1828491061757461472*x1^2*x3^6*x^2*z^2 + 7382156538144711010*x1^2*x3^5*x4^5*y*z^3 + 267692758849686126*x1^2*x3^5*x4*x^2*z^2 - 8577764073258477764*x1^2*x3^4*x4^6*y*z^3 - 280630224589044875*x1^2*x3^4*x4^2*x^2*z^2 - 2871252386060013412*x1^2*x3^3*x4^7*y*z^3 - 6228338765428705653*x1^2*x3^3*x4^3*x^2*z^2 + 3076215078084422114*x1^2*x3^2*x4^8*y*z^3 - 1722299807841623743*x1^2*x3^2*x4^4*x^2*z^2 + 1923540275749602928*x1^2*x3^2*x*y*z - 3378736206820355045*x1^2*x3*x4^9*y*z^3 + 7874554453761837677*x1^2*x3*x4^5*x^2*z^2 + 7882061052498119867*x1^2*x3*x4*x*y*z - 6007119937161816764*x1^2*x4^10*y*z^3 - 6628953451341579379*x1^2*x4^6*x^2*z^2 - 3311225507397183309*x1^2*x4^2*x*y*z - 8866886123385995750*x1*x2^7*x^2*z^2 + 2324464435094358729*x1*x2^6*x3*x^2*z^2 - 7885123822747547680*x1*x2^6*x4*x^2*z^2 + 4993364096584907862*x1*x2^5*x3^2*x^2*z^2 - 6300007604384825523*x1*x2^5*x3*x4*x^2*z^2 - 8467669235972676797*x1*x2^5*x4^2*x^2*z^2 - 5426947977324444804*x1*x2^4*x3^3*x^2*z^2 + 4193572733483683387*x1*x2^4*x3^2*x4*x^2*z^2 - 8244710723126629539*x1*x2^4*x3*x4^2*x^2*z^2 - 8266776301439965720*x1*x2^4*x4^3*x^2*z^2 - 6149511335641386627*x1*x2^3*x3^4*x^2*z^2 - 429020956202025290*x1*x2^3*x3^3*x4*x^2*z^2 + 1950263275874086023*x1*x2^3*x3^2*x4^2*x^2*z^2 + 2673655739443048434*x1*x2^3*x3*x4^3*x^2*z^2 - 3413975713267782085*x1*x2^3*x4^4*x^2*z^2 - 3635111995176924260*x1*x2^3*x*y*z + 3320008221048016369*x1*x2^2*x3^5*x^2*z^2 - 1004930541647133005*x1*x2^2*x3^4*x4*x^2*z^2 + 2211218226348557113*x1*x2^2*x3^3*x4^2*x^2*z^2 - 5871828292722470495*x1*x2^2*x3^2*x4^3*x^2*z^2 + 33500831272431474*x1*x2^2*x3*x4^4*x^2*z^2 - 9144078107509681038*x1*x2^2*x3*x*y*z + 227847318533456333*x1*x2^2*x4^5*x^2*z^2 - 8155916189931826687*x1*x2^2*x4*x*y*z - 3611916699320817929*x1*x2*x3^6*x^2*z^2 - 2422440591028099681*x1*x2*x3^5*x4*x^2*z^2 + 5416095751058618654*x1*x2*x3^4*x4^2*x^2*z^2 - 1712951563792240146*x1*x2*x3^3*x4^3*x^2*z^2 + 2832226509400876645*x1*x2*x3^2*x4^4*x^2*z^2 + 4745007098605939137*x1*x2*x3^2*x*y*z + 7966965835472983065*x1*x2*x3*x4^5*x^2*z^2 - 3609680781300523585*x1*x2*x3*x4*x*y*z + 5315872294200005466*x1*x2*x4^6*x^2*z^2 - 5442201294854784223*x1*x2*x4^2*x*y*z - 1021545258380870523*x1*x3^7*x^2*z^2 - 2274333998285113423*x1*x3^6*x4*x^2*z^2 - 4821666648705141841*x1*x3^5*x4^2*x^2*z^2 + 2004162850655479332*x1*x3^4*x4^3*x^2*z^2 - 3266761122794840447*x1*x3^3*x4^4*x^2*z^2 + 3559057387146356631*x1*x3^3*x*y*z - 2155422294387612360*x1*x3^2*x4^5*x^2*z^2 + 3965561418835335374*x1*x3^2*x4*x*y*z - 4685594894488882412*x1*x3*x4^6*x^2*z^2 - 7911070918327850549*x1*x3*x4^2*x*y*z - 1231482967460587376*x1*x4^7*x^2*z^2 + 1624216885869813153*x1*x4^3*x*y*z - 3563449025423290000*x2^4*x*y*z + 7771018759106949439*x2^3*x3*x*y*z - 6413255078438852957*x2^3*x4*x*y*z - 710318956485635669*x2^2*x3^2*x*y*z + 5234396314347709865*x2^2*x3*x4*x*y*z + 1950406094265132143*x2^2*x4^2*x*y*z + 5073006328031500872*x2*x3^3*x*y*z + 6327102790424703790*x2*x3^2*x4*x*y*z + 5218202654913457879*x2*x3*x4^2*x*y*z + 1260708341730452748*x2*x4^3*x*y*z + 6759394237345372089*x3^4*x*y*z - 8340679324008952688*x3^3*x4*x*y*z + 9048290120425040341*x3^2*x4^2*x*y*z - 2938000851552539121*x3*x4^3*x*y*z + 2434685216038596372*x4^4*x*y*z + x^3 - y^2"
      ]
     },
     "execution_count": 33,
     "metadata": {},
     "output_type": "execute_result"
    }
   ],
   "source": [
    "tate_polynomial(t2)"
   ]
  },
  {
   "cell_type": "markdown",
   "id": "f79630b0-6b8a-4367-9696-a4fc2c209833",
   "metadata": {},
   "source": [
    "## 2.C Singularity Resolution"
   ]
  },
  {
   "cell_type": "markdown",
   "id": "fe7bcb3b-bf26-416e-baee-e0ef3ca9419f",
   "metadata": {},
   "source": [
    "Let us now resolve this model. Given that a sequence of blowups is known, we \"just\" have to execute these blowups. Note, however, that this step may be technically very challenging, for instance if schemes are employed as bases. Fortunately, in the case at hand, the resolution is rather easy to execute (but still tedious and very time consuming if done by hand).\n",
    "\n",
    "To resolve this model instantly and without any hard and tedious \"human\" labor, we just have to select which resolution/blowup sequence the computer should employ. In the case at hand there is only one sequence of (non-weighted) blowups known, as displayed above. Our choice is thus simply \"1\", which says \"resolve with the first available blowup resolution sequence\". Here is the result:"
   ]
  },
  {
   "cell_type": "code",
   "execution_count": 34,
   "id": "8361fbd6-067b-4e1c-83ec-b1fe280d611c",
   "metadata": {},
   "outputs": [
    {
     "data": {
      "text/plain": [
       "Partially resolved global Tate model over a concrete base -- SU(5)xU(1) restricted Tate model based on arXiv paper 1109.3454 Eq. (3.1)"
      ]
     },
     "execution_count": 34,
     "metadata": {},
     "output_type": "execute_result"
    }
   ],
   "source": [
    "t2_resolved = resolve(t2, 1)"
   ]
  },
  {
   "cell_type": "markdown",
   "id": "ff5383e3-48c2-4a84-be60-29d107c0bec7",
   "metadata": {},
   "source": [
    "Currently, there are no checks implemented to tell if a model has been fully resolved. Rather, internally the system just remembers if resolution techniques were applied and then informs about this by saying that the model is \"partially resolved\". However, in the above case, the model is actually fully resolved. (Recall, that this refers to a crepant resolution, and that singularities which cannot be resolved crepantly may still be around.)"
   ]
  },
  {
   "cell_type": "code",
   "execution_count": 35,
   "id": "999d7f5c-e3d6-46fc-86cf-94b4ae6d8f46",
   "metadata": {},
   "outputs": [
    {
     "data": {
      "text/plain": [
       "Multivariate polynomial ring in 12 variables over QQ graded by\n",
       "  x1 -> [1 0 0 0 0 0 0]\n",
       "  x2 -> [0 1 0 0 0 0 0]\n",
       "  x3 -> [0 1 0 0 0 0 0]\n",
       "  x4 -> [0 1 0 0 0 0 0]\n",
       "  x -> [0 0 1 0 0 0 0]\n",
       "  y -> [0 0 0 1 0 0 0]\n",
       "  z -> [0 0 0 0 1 0 0]\n",
       "  e1 -> [0 0 0 0 0 1 0]\n",
       "  e4 -> [0 0 0 0 0 0 1]\n",
       "  e2 -> [-1 -3 -1 1 -1 -1 0]\n",
       "  e3 -> [0 4 1 -1 1 0 -1]\n",
       "  s -> [2 6 -1 0 2 1 1]"
      ]
     },
     "execution_count": 35,
     "metadata": {},
     "output_type": "execute_result"
    }
   ],
   "source": [
    "cox_ring(ambient_space(t2_resolved))"
   ]
  },
  {
   "cell_type": "code",
   "execution_count": 36,
   "id": "ad4f3be1-f6a6-43f9-902f-933e9a8da84a",
   "metadata": {},
   "outputs": [
    {
     "data": {
      "text/plain": [
       "2245838742780501868*x1^16*x*z^4*e1^15*e4^14*e2^14*e3^13 - 625625962108169685*x1^15*x2*x*z^4*e1^14*e4^13*e2^13*e3^12 + 8388308661734489812*x1^15*x3*x*z^4*e1^14*e4^13*e2^13*e3^12 + 8560615939064674130*x1^15*x4*x*z^4*e1^14*e4^13*e2^13*e3^12 + 2281910554020120372*x1^14*x2^2*x*z^4*e1^13*e4^12*e2^12*e3^11 - 1880630015136813862*x1^14*x2*x3*x*z^4*e1^13*e4^12*e2^12*e3^11 + 186235463298897300*x1^14*x2*x4*x*z^4*e1^13*e4^12*e2^12*e3^11 + 4960210843783909071*x1^14*x3^2*x*z^4*e1^13*e4^12*e2^12*e3^11 - 2703999814941762792*x1^14*x3*x4*x*z^4*e1^13*e4^12*e2^12*e3^11 - 2935148237417899294*x1^14*x4^2*x*z^4*e1^13*e4^12*e2^12*e3^11 - 112091264391450866*x1^13*x2^3*x*z^4*e1^12*e4^11*e2^11*e3^10 + 1547753036636782602*x1^13*x2^2*x3*x*z^4*e1^12*e4^11*e2^11*e3^10 - 6169436467229263321*x1^13*x2^2*x4*x*z^4*e1^12*e4^11*e2^11*e3^10 + 6154194733593270520*x1^13*x2*x3^2*x*z^4*e1^12*e4^11*e2^11*e3^10 + 4338872748222371805*x1^13*x2*x3*x4*x*z^4*e1^12*e4^11*e2^11*e3^10 - 5471232308828166851*x1^13*x2*x4^2*x*z^4*e1^12*e4^11*e2^11*e3^10 + 1490204283724783091*x1^13*x3^3*x*z^4*e1^12*e4^11*e2^11*e3^10 - 769904287880529889*x1^13*x3^2*x4*x*z^4*e1^12*e4^11*e2^11*e3^10 + 208792400033001671*x1^13*x3*x4^2*x*z^4*e1^12*e4^11*e2^11*e3^10 - 2055293669808677995*x1^13*x4^3*x*z^4*e1^12*e4^11*e2^11*e3^10 + 5664418133315981753*x1^12*x2^4*x*z^4*e1^11*e4^10*e2^10*e3^9 - 4012338340010549911*x1^12*x2^3*x3*x*z^4*e1^11*e4^10*e2^10*e3^9 - 841175743157474074*x1^12*x2^3*x4*x*z^4*e1^11*e4^10*e2^10*e3^9 - 8736741826363214943*x1^12*x2^2*x3^2*x*z^4*e1^11*e4^10*e2^10*e3^9 + 540771780726236436*x1^12*x2^2*x3*x4*x*z^4*e1^11*e4^10*e2^10*e3^9 - 1983271356076570018*x1^12*x2^2*x4^2*x*z^4*e1^11*e4^10*e2^10*e3^9 - 8732731769695135911*x1^12*x2*x3^3*x*z^4*e1^11*e4^10*e2^10*e3^9 - 8808089340059270598*x1^12*x2*x3^2*x4*x*z^4*e1^11*e4^10*e2^10*e3^9 - 8875411933727085112*x1^12*x2*x3*x4^2*x*z^4*e1^11*e4^10*e2^10*e3^9 + 8464409695586034567*x1^12*x2*x4^3*x*z^4*e1^11*e4^10*e2^10*e3^9 + 3763958795681225143*x1^12*x3^4*x*z^4*e1^11*e4^10*e2^10*e3^9 - 5507493568690381528*x1^12*x3^3*x4*x*z^4*e1^11*e4^10*e2^10*e3^9 + 7781216669059565558*x1^12*x3^2*x4^2*x*z^4*e1^11*e4^10*e2^10*e3^9 - 4108941155497200883*x1^12*x3*x4^3*x*z^4*e1^11*e4^10*e2^10*e3^9 + 7763412735166533915*x1^12*x4^4*x*z^4*e1^11*e4^10*e2^10*e3^9 + 4702260379980238615*x1^12*y*z^3*e1^11*e4^11*e2^10*e3^10 - 480080313373741058*x1^11*x2^5*x*z^4*e1^10*e4^9*e2^9*e3^8 + 4724053461662743131*x1^11*x2^4*x3*x*z^4*e1^10*e4^9*e2^9*e3^8 + 5452173068349480830*x1^11*x2^4*x4*x*z^4*e1^10*e4^9*e2^9*e3^8 - 5126441325090304614*x1^11*x2^3*x3^2*x*z^4*e1^10*e4^9*e2^9*e3^8 - 4834995023843400695*x1^11*x2^3*x3*x4*x*z^4*e1^10*e4^9*e2^9*e3^8 - 6803030734198133194*x1^11*x2^3*x4^2*x*z^4*e1^10*e4^9*e2^9*e3^8 + 1430934065897674286*x1^11*x2^2*x3^3*x*z^4*e1^10*e4^9*e2^9*e3^8 + 5870054357707192404*x1^11*x2^2*x3^2*x4*x*z^4*e1^10*e4^9*e2^9*e3^8 + 9128434561117782712*x1^11*x2^2*x3*x4^2*x*z^4*e1^10*e4^9*e2^9*e3^8 - 7677402348323368263*x1^11*x2^2*x4^3*x*z^4*e1^10*e4^9*e2^9*e3^8 + 6902745237867771164*x1^11*x2*x3^4*x*z^4*e1^10*e4^9*e2^9*e3^8 + 1509020771172610479*x1^11*x2*x3^3*x4*x*z^4*e1^10*e4^9*e2^9*e3^8 + 1448044955104245572*x1^11*x2*x3^2*x4^2*x*z^4*e1^10*e4^9*e2^9*e3^8 - 1242196053336172400*x1^11*x2*x3*x4^3*x*z^4*e1^10*e4^9*e2^9*e3^8 - 7175678633438231983*x1^11*x2*x4^4*x*z^4*e1^10*e4^9*e2^9*e3^8 + 3331660427961748009*x1^11*x2*y*z^3*e1^10*e4^10*e2^9*e3^9 + 2802792034519384330*x1^11*x3^5*x*z^4*e1^10*e4^9*e2^9*e3^8 + 7986178611845510878*x1^11*x3^4*x4*x*z^4*e1^10*e4^9*e2^9*e3^8 - 4837691650975717025*x1^11*x3^3*x4^2*x*z^4*e1^10*e4^9*e2^9*e3^8 - 2111479966213661947*x1^11*x3^2*x4^3*x*z^4*e1^10*e4^9*e2^9*e3^8 + 1947599221331015420*x1^11*x3*x4^4*x*z^4*e1^10*e4^9*e2^9*e3^8 - 3705460155537155586*x1^11*x3*y*z^3*e1^10*e4^10*e2^9*e3^9 + 728323672253200413*x1^11*x4^5*x*z^4*e1^10*e4^9*e2^9*e3^8 - 5871062755321583949*x1^11*x4*y*z^3*e1^10*e4^10*e2^9*e3^9 - 813604049489674984*x1^10*x2^6*x*z^4*e1^9*e4^8*e2^8*e3^7 + 6802777094006116584*x1^10*x2^5*x3*x*z^4*e1^9*e4^8*e2^8*e3^7 + 7615181997974280289*x1^10*x2^5*x4*x*z^4*e1^9*e4^8*e2^8*e3^7 + 4629078370867615597*x1^10*x2^4*x3^2*x*z^4*e1^9*e4^8*e2^8*e3^7 + 4926367615118673557*x1^10*x2^4*x3*x4*x*z^4*e1^9*e4^8*e2^8*e3^7 - 5448628696957246473*x1^10*x2^4*x4^2*x*z^4*e1^9*e4^8*e2^8*e3^7 + 3793217930292118818*x1^10*x2^3*x3^3*x*z^4*e1^9*e4^8*e2^8*e3^7 + 8607849925320238800*x1^10*x2^3*x3^2*x4*x*z^4*e1^9*e4^8*e2^8*e3^7 - 7770251254652829302*x1^10*x2^3*x3*x4^2*x*z^4*e1^9*e4^8*e2^8*e3^7 + 8468776343327566258*x1^10*x2^3*x4^3*x*z^4*e1^9*e4^8*e2^8*e3^7 - 8042330715086915571*x1^10*x2^2*x3^4*x*z^4*e1^9*e4^8*e2^8*e3^7 + 7270354094502793506*x1^10*x2^2*x3^3*x4*x*z^4*e1^9*e4^8*e2^8*e3^7 - 8694936318649359449*x1^10*x2^2*x3^2*x4^2*x*z^4*e1^9*e4^8*e2^8*e3^7 + 8179422208813321196*x1^10*x2^2*x3*x4^3*x*z^4*e1^9*e4^8*e2^8*e3^7 - 3750017455292678190*x1^10*x2^2*x4^4*x*z^4*e1^9*e4^8*e2^8*e3^7 + 3650800977065895988*x1^10*x2^2*y*z^3*e1^9*e4^9*e2^8*e3^8 - 87311700655498747*x1^10*x2*x3^5*x*z^4*e1^9*e4^8*e2^8*e3^7 - 7929657368819186868*x1^10*x2*x3^4*x4*x*z^4*e1^9*e4^8*e2^8*e3^7 + 6687497767565707052*x1^10*x2*x3^3*x4^2*x*z^4*e1^9*e4^8*e2^8*e3^7 + 2237222502504945323*x1^10*x2*x3^2*x4^3*x*z^4*e1^9*e4^8*e2^8*e3^7 + 694891754363164755*x1^10*x2*x3*x4^4*x*z^4*e1^9*e4^8*e2^8*e3^7 - 8657133337053671855*x1^10*x2*x3*y*z^3*e1^9*e4^9*e2^8*e3^8 - 4448745806270997712*x1^10*x2*x4^5*x*z^4*e1^9*e4^8*e2^8*e3^7 - 6633661803126405399*x1^10*x2*x4*y*z^3*e1^9*e4^9*e2^8*e3^8 - 9180101433474502661*x1^10*x3^6*x*z^4*e1^9*e4^8*e2^8*e3^7 + 3945808337355565545*x1^10*x3^5*x4*x*z^4*e1^9*e4^8*e2^8*e3^7 + 8569394283072741147*x1^10*x3^4*x4^2*x*z^4*e1^9*e4^8*e2^8*e3^7 + 7263183164670481719*x1^10*x3^3*x4^3*x*z^4*e1^9*e4^8*e2^8*e3^7 + 3102032837685904916*x1^10*x3^2*x4^4*x*z^4*e1^9*e4^8*e2^8*e3^7 - 5613041100777954497*x1^10*x3^2*y*z^3*e1^9*e4^9*e2^8*e3^8 + 5594023137431216118*x1^10*x3*x4^5*x*z^4*e1^9*e4^8*e2^8*e3^7 + 5924198478445592011*x1^10*x3*x4*y*z^3*e1^9*e4^9*e2^8*e3^8 - 9115413168928524792*x1^10*x4^6*x*z^4*e1^9*e4^8*e2^8*e3^7 + 3697198958778450693*x1^10*x4^2*y*z^3*e1^9*e4^9*e2^8*e3^8 - 1240783702774477486*x1^9*x2^7*x*z^4*e1^8*e4^7*e2^7*e3^6 + 264752453369442676*x1^9*x2^6*x3*x*z^4*e1^8*e4^7*e2^7*e3^6 + 3041897230429663767*x1^9*x2^6*x4*x*z^4*e1^8*e4^7*e2^7*e3^6 - 6800762916465488345*x1^9*x2^5*x3^2*x*z^4*e1^8*e4^7*e2^7*e3^6 - 6604207141955251189*x1^9*x2^5*x3*x4*x*z^4*e1^8*e4^7*e2^7*e3^6 - 713093180799606707*x1^9*x2^5*x4^2*x*z^4*e1^8*e4^7*e2^7*e3^6 + 4930928905731399131*x1^9*x2^4*x3^3*x*z^4*e1^8*e4^7*e2^7*e3^6 - 6473050833615785585*x1^9*x2^4*x3^2*x4*x*z^4*e1^8*e4^7*e2^7*e3^6 - 6750896198520673175*x1^9*x2^4*x3*x4^2*x*z^4*e1^8*e4^7*e2^7*e3^6 + 1015495594767916402*x1^9*x2^4*x4^3*x*z^4*e1^8*e4^7*e2^7*e3^6 - 5799862382707068617*x1^9*x2^3*x3^4*x*z^4*e1^8*e4^7*e2^7*e3^6 + 2732572960712387208*x1^9*x2^3*x3^3*x4*x*z^4*e1^8*e4^7*e2^7*e3^6 + 6254115203686652014*x1^9*x2^3*x3^2*x4^2*x*z^4*e1^8*e4^7*e2^7*e3^6 - 7740117280815882833*x1^9*x2^3*x3*x4^3*x*z^4*e1^8*e4^7*e2^7*e3^6 - 7021886219992670402*x1^9*x2^3*x4^4*x*z^4*e1^8*e4^7*e2^7*e3^6 + 7647098739536729775*x1^9*x2^3*y*z^3*e1^8*e4^8*e2^7*e3^7 - 8409108994394334067*x1^9*x2^2*x3^5*x*z^4*e1^8*e4^7*e2^7*e3^6 + 8557552477798936944*x1^9*x2^2*x3^4*x4*x*z^4*e1^8*e4^7*e2^7*e3^6 + 6134516838680214637*x1^9*x2^2*x3^3*x4^2*x*z^4*e1^8*e4^7*e2^7*e3^6 + 6425014245118871853*x1^9*x2^2*x3^2*x4^3*x*z^4*e1^8*e4^7*e2^7*e3^6 - 177332519643861239*x1^9*x2^2*x3*x4^4*x*z^4*e1^8*e4^7*e2^7*e3^6 - 2596519321896963267*x1^9*x2^2*x3*y*z^3*e1^8*e4^8*e2^7*e3^7 + 214210423880916629*x1^9*x2^2*x4^5*x*z^4*e1^8*e4^7*e2^7*e3^6 + 3030278708502501938*x1^9*x2^2*x4*y*z^3*e1^8*e4^8*e2^7*e3^7 + 4179433229357322939*x1^9*x2*x3^6*x*z^4*e1^8*e4^7*e2^7*e3^6 + 6446809533883154233*x1^9*x2*x3^5*x4*x*z^4*e1^8*e4^7*e2^7*e3^6 + 5250512872709002596*x1^9*x2*x3^4*x4^2*x*z^4*e1^8*e4^7*e2^7*e3^6 - 7165358725099672586*x1^9*x2*x3^3*x4^3*x*z^4*e1^8*e4^7*e2^7*e3^6 + 1760468971300563275*x1^9*x2*x3^2*x4^4*x*z^4*e1^8*e4^7*e2^7*e3^6 + 3134470426505614692*x1^9*x2*x3^2*y*z^3*e1^8*e4^8*e2^7*e3^7 - 6737074222384893580*x1^9*x2*x3*x4^5*x*z^4*e1^8*e4^7*e2^7*e3^6 + 6943666564030261646*x1^9*x2*x3*x4*y*z^3*e1^8*e4^8*e2^7*e3^7 + 8195767648947671400*x1^9*x2*x4^6*x*z^4*e1^8*e4^7*e2^7*e3^6 - 7940077483857826749*x1^9*x2*x4^2*y*z^3*e1^8*e4^8*e2^7*e3^7 - 1082377081052077975*x1^9*x3^7*x*z^4*e1^8*e4^7*e2^7*e3^6 - 4504297680547743799*x1^9*x3^6*x4*x*z^4*e1^8*e4^7*e2^7*e3^6 + 4201124990156010843*x1^9*x3^5*x4^2*x*z^4*e1^8*e4^7*e2^7*e3^6 - 2435677802811171960*x1^9*x3^4*x4^3*x*z^4*e1^8*e4^7*e2^7*e3^6 + 201039140289544234*x1^9*x3^3*x4^4*x*z^4*e1^8*e4^7*e2^7*e3^6 + 2672787401348183430*x1^9*x3^3*y*z^3*e1^8*e4^8*e2^7*e3^7 + 2717807124344005509*x1^9*x3^2*x4^5*x*z^4*e1^8*e4^7*e2^7*e3^6 + 9163029840404413316*x1^9*x3^2*x4*y*z^3*e1^8*e4^8*e2^7*e3^7 - 6967110847931969361*x1^9*x3*x4^6*x*z^4*e1^8*e4^7*e2^7*e3^6 + 2818264331240037248*x1^9*x3*x4^2*y*z^3*e1^8*e4^8*e2^7*e3^7 - 3966470300517278965*x1^9*x4^7*x*z^4*e1^8*e4^7*e2^7*e3^6 - 5908874961598335855*x1^9*x4^3*y*z^3*e1^8*e4^8*e2^7*e3^7 - 1039983009864824149*x1^8*x2^8*x*z^4*e1^7*e4^6*e2^6*e3^5 + 4859817907336965256*x1^8*x2^7*x3*x*z^4*e1^7*e4^6*e2^6*e3^5 - 6962400819723534680*x1^8*x2^7*x4*x*z^4*e1^7*e4^6*e2^6*e3^5 + 1739685338634277510*x1^8*x2^6*x3^2*x*z^4*e1^7*e4^6*e2^6*e3^5 - 5923107598178912102*x1^8*x2^6*x3*x4*x*z^4*e1^7*e4^6*e2^6*e3^5 + 5174896616163448984*x1^8*x2^6*x4^2*x*z^4*e1^7*e4^6*e2^6*e3^5 - 8303519727060883256*x1^8*x2^5*x3^3*x*z^4*e1^7*e4^6*e2^6*e3^5 - 8418262884174873091*x1^8*x2^5*x3^2*x4*x*z^4*e1^7*e4^6*e2^6*e3^5 + 1294044545477638345*x1^8*x2^5*x3*x4^2*x*z^4*e1^7*e4^6*e2^6*e3^5 + 545410573042393876*x1^8*x2^5*x4^3*x*z^4*e1^7*e4^6*e2^6*e3^5 + 6955546211891811718*x1^8*x2^4*x3^4*x*z^4*e1^7*e4^6*e2^6*e3^5 - 2015352397947803986*x1^8*x2^4*x3^3*x4*x*z^4*e1^7*e4^6*e2^6*e3^5 + 4488619984829133866*x1^8*x2^4*x3^2*x4^2*x*z^4*e1^7*e4^6*e2^6*e3^5 - 6042836169286622398*x1^8*x2^4*x3*x4^3*x*z^4*e1^7*e4^6*e2^6*e3^5 - 635047403458877237*x1^8*x2^4*x4^4*x*z^4*e1^7*e4^6*e2^6*e3^5 + 3870496157197433712*x1^8*x2^4*y*z^3*e1^7*e4^7*e2^6*e3^6 + 3264411274899994819*x1^8*x2^3*x3^5*x*z^4*e1^7*e4^6*e2^6*e3^5 - 7655551974199289499*x1^8*x2^3*x3^4*x4*x*z^4*e1^7*e4^6*e2^6*e3^5 + 1061255339086260580*x1^8*x2^3*x3^3*x4^2*x*z^4*e1^7*e4^6*e2^6*e3^5 + 45868830880310532*x1^8*x2^3*x3^2*x4^3*x*z^4*e1^7*e4^6*e2^6*e3^5 - 7163754017826416144*x1^8*x2^3*x3*x4^4*x*z^4*e1^7*e4^6*e2^6*e3^5 + 9210712927134672070*x1^8*x2^3*x3*y*z^3*e1^7*e4^7*e2^6*e3^6 - 3019473382789809162*x1^8*x2^3*x4^5*x*z^4*e1^7*e4^6*e2^6*e3^5 + 1213767381228939107*x1^8*x2^3*x4*y*z^3*e1^7*e4^7*e2^6*e3^6 - 8301584723054049010*x1^8*x2^2*x3^6*x*z^4*e1^7*e4^6*e2^6*e3^5 + 3908064116592557806*x1^8*x2^2*x3^5*x4*x*z^4*e1^7*e4^6*e2^6*e3^5 + 5323481122869265092*x1^8*x2^2*x3^4*x4^2*x*z^4*e1^7*e4^6*e2^6*e3^5 - 6715325868201423615*x1^8*x2^2*x3^3*x4^3*x*z^4*e1^7*e4^6*e2^6*e3^5 + 180687274704532187*x1^8*x2^2*x3^2*x4^4*x*z^4*e1^7*e4^6*e2^6*e3^5 + 1084134032761341833*x1^8*x2^2*x3^2*y*z^3*e1^7*e4^7*e2^6*e3^6 - 6761404095682838508*x1^8*x2^2*x3*x4^5*x*z^4*e1^7*e4^6*e2^6*e3^5 - 5652142160991351317*x1^8*x2^2*x3*x4*y*z^3*e1^7*e4^7*e2^6*e3^6 - 7438904654355060870*x1^8*x2^2*x4^6*x*z^4*e1^7*e4^6*e2^6*e3^5 + 4837147838699678304*x1^8*x2^2*x4^2*y*z^3*e1^7*e4^7*e2^6*e3^6 - 2988089626969663165*x1^8*x2*x3^7*x*z^4*e1^7*e4^6*e2^6*e3^5 - 3156986335394690995*x1^8*x2*x3^6*x4*x*z^4*e1^7*e4^6*e2^6*e3^5 - 9021563718473328612*x1^8*x2*x3^5*x4^2*x*z^4*e1^7*e4^6*e2^6*e3^5 - 4904992415987668358*x1^8*x2*x3^4*x4^3*x*z^4*e1^7*e4^6*e2^6*e3^5 - 8033242360372715085*x1^8*x2*x3^3*x4^4*x*z^4*e1^7*e4^6*e2^6*e3^5 + 602140429585774490*x1^8*x2*x3^3*y*z^3*e1^7*e4^7*e2^6*e3^6 + 7677428125779301889*x1^8*x2*x3^2*x4^5*x*z^4*e1^7*e4^6*e2^6*e3^5 + 7881797527661714812*x1^8*x2*x3^2*x4*y*z^3*e1^7*e4^7*e2^6*e3^6 + 9157988959354614043*x1^8*x2*x3*x4^6*x*z^4*e1^7*e4^6*e2^6*e3^5 + 508406669204514124*x1^8*x2*x3*x4^2*y*z^3*e1^7*e4^7*e2^6*e3^6 + 6306155410856177227*x1^8*x2*x4^7*x*z^4*e1^7*e4^6*e2^6*e3^5 + 2527906437250527268*x1^8*x2*x4^3*y*z^3*e1^7*e4^7*e2^6*e3^6 + 8491742672015933605*x1^8*x3^8*x*z^4*e1^7*e4^6*e2^6*e3^5 - 9183476490098738846*x1^8*x3^7*x4*x*z^4*e1^7*e4^6*e2^6*e3^5 + 4524478952587317220*x1^8*x3^6*x4^2*x*z^4*e1^7*e4^6*e2^6*e3^5 + 5787332309134189293*x1^8*x3^5*x4^3*x*z^4*e1^7*e4^6*e2^6*e3^5 + 3387855253485148982*x1^8*x3^4*x4^4*x*z^4*e1^7*e4^6*e2^6*e3^5 - 5421434328390864762*x1^8*x3^4*y*z^3*e1^7*e4^7*e2^6*e3^6 + 2848903041211443246*x1^8*x3^3*x4^5*x*z^4*e1^7*e4^6*e2^6*e3^5 + 33066176766972685*x1^8*x3^3*x4*y*z^3*e1^7*e4^7*e2^6*e3^6 - 7125694074979301566*x1^8*x3^2*x4^6*x*z^4*e1^7*e4^6*e2^6*e3^5 - 5679784282048918672*x1^8*x3^2*x4^2*y*z^3*e1^7*e4^7*e2^6*e3^6 - 2471334683207862640*x1^8*x3*x4^7*x*z^4*e1^7*e4^6*e2^6*e3^5 - 7433070180242896748*x1^8*x3*x4^3*y*z^3*e1^7*e4^7*e2^6*e3^6 + 7032256125038052078*x1^8*x4^8*x*z^4*e1^7*e4^6*e2^6*e3^5 - 4135421077488113195*x1^8*x4^4*y*z^3*e1^7*e4^7*e2^6*e3^6 + 1008450392335499857*x1^8*x^2*z^2*e1^8*e4^7*e2^8*e3^7*s - 6945595159287326966*x1^7*x2^9*x*z^4*e1^6*e4^5*e2^5*e3^4 + 576781620004960695*x1^7*x2^8*x3*x*z^4*e1^6*e4^5*e2^5*e3^4 - 6169338402365997396*x1^7*x2^8*x4*x*z^4*e1^6*e4^5*e2^5*e3^4 + 3332288764238703495*x1^7*x2^7*x3^2*x*z^4*e1^6*e4^5*e2^5*e3^4 + 1057365120971659209*x1^7*x2^7*x3*x4*x*z^4*e1^6*e4^5*e2^5*e3^4 - 5577868427092983574*x1^7*x2^7*x4^2*x*z^4*e1^6*e4^5*e2^5*e3^4 - 8839015135162819803*x1^7*x2^6*x3^3*x*z^4*e1^6*e4^5*e2^5*e3^4 - 6254953361725995660*x1^7*x2^6*x3^2*x4*x*z^4*e1^6*e4^5*e2^5*e3^4 - 917040413194860054*x1^7*x2^6*x3*x4^2*x*z^4*e1^6*e4^5*e2^5*e3^4 - 4166440117760485072*x1^7*x2^6*x4^3*x*z^4*e1^6*e4^5*e2^5*e3^4 - 9002538418655404711*x1^7*x2^5*x3^4*x*z^4*e1^6*e4^5*e2^5*e3^4 - 5333232961315151354*x1^7*x2^5*x3^3*x4*x*z^4*e1^6*e4^5*e2^5*e3^4 - 3936028931703405958*x1^7*x2^5*x3^2*x4^2*x*z^4*e1^6*e4^5*e2^5*e3^4 + 1303784972921414071*x1^7*x2^5*x3*x4^3*x*z^4*e1^6*e4^5*e2^5*e3^4 - 1296902235588949585*x1^7*x2^5*x4^4*x*z^4*e1^6*e4^5*e2^5*e3^4 - 3967083211404615942*x1^7*x2^5*y*z^3*e1^6*e4^6*e2^5*e3^5 - 3929373894360487259*x1^7*x2^4*x3^5*x*z^4*e1^6*e4^5*e2^5*e3^4 + 1038438664680686693*x1^7*x2^4*x3^4*x4*x*z^4*e1^6*e4^5*e2^5*e3^4 + 1464399599267393035*x1^7*x2^4*x3^3*x4^2*x*z^4*e1^6*e4^5*e2^5*e3^4 + 2045033784984419752*x1^7*x2^4*x3^2*x4^3*x*z^4*e1^6*e4^5*e2^5*e3^4 - 4653642744257751830*x1^7*x2^4*x3*x4^4*x*z^4*e1^6*e4^5*e2^5*e3^4 + 8093542994237718791*x1^7*x2^4*x3*y*z^3*e1^6*e4^6*e2^5*e3^5 - 1145075965455630826*x1^7*x2^4*x4^5*x*z^4*e1^6*e4^5*e2^5*e3^4 - 6746826640926451015*x1^7*x2^4*x4*y*z^3*e1^6*e4^6*e2^5*e3^5 - 3194989024514631943*x1^7*x2^3*x3^6*x*z^4*e1^6*e4^5*e2^5*e3^4 + 3994477781349489919*x1^7*x2^3*x3^5*x4*x*z^4*e1^6*e4^5*e2^5*e3^4 - 3700574834819105820*x1^7*x2^3*x3^4*x4^2*x*z^4*e1^6*e4^5*e2^5*e3^4 + 8908901646334861188*x1^7*x2^3*x3^3*x4^3*x*z^4*e1^6*e4^5*e2^5*e3^4 + 7937069796587268291*x1^7*x2^3*x3^2*x4^4*x*z^4*e1^6*e4^5*e2^5*e3^4 - 6509498701673274645*x1^7*x2^3*x3^2*y*z^3*e1^6*e4^6*e2^5*e3^5 + 5632410635819381670*x1^7*x2^3*x3*x4^5*x*z^4*e1^6*e4^5*e2^5*e3^4 + 3599173082906531301*x1^7*x2^3*x3*x4*y*z^3*e1^6*e4^6*e2^5*e3^5 + 2022562093751931878*x1^7*x2^3*x4^6*x*z^4*e1^6*e4^5*e2^5*e3^4 + 1570823453420973659*x1^7*x2^3*x4^2*y*z^3*e1^6*e4^6*e2^5*e3^5 + 5664407625056255987*x1^7*x2^2*x3^7*x*z^4*e1^6*e4^5*e2^5*e3^4 + 6129968103456392140*x1^7*x2^2*x3^6*x4*x*z^4*e1^6*e4^5*e2^5*e3^4 + 1184237906625987196*x1^7*x2^2*x3^5*x4^2*x*z^4*e1^6*e4^5*e2^5*e3^4 + 3542607245967673800*x1^7*x2^2*x3^4*x4^3*x*z^4*e1^6*e4^5*e2^5*e3^4 - 835454354658232762*x1^7*x2^2*x3^3*x4^4*x*z^4*e1^6*e4^5*e2^5*e3^4 + 1047235264975894078*x1^7*x2^2*x3^3*y*z^3*e1^6*e4^6*e2^5*e3^5 + 3592607762056475177*x1^7*x2^2*x3^2*x4^5*x*z^4*e1^6*e4^5*e2^5*e3^4 + 2573349479273540264*x1^7*x2^2*x3^2*x4*y*z^3*e1^6*e4^6*e2^5*e3^5 + 3684734730289285991*x1^7*x2^2*x3*x4^6*x*z^4*e1^6*e4^5*e2^5*e3^4 - 7000086573162361760*x1^7*x2^2*x3*x4^2*y*z^3*e1^6*e4^6*e2^5*e3^5 - 4910946545126209042*x1^7*x2^2*x4^7*x*z^4*e1^6*e4^5*e2^5*e3^4 - 4152804943264993161*x1^7*x2^2*x4^3*y*z^3*e1^6*e4^6*e2^5*e3^5 + 6541254473960188018*x1^7*x2*x3^8*x*z^4*e1^6*e4^5*e2^5*e3^4 - 2212700139422464755*x1^7*x2*x3^7*x4*x*z^4*e1^6*e4^5*e2^5*e3^4 - 778177557086120877*x1^7*x2*x3^6*x4^2*x*z^4*e1^6*e4^5*e2^5*e3^4 + 4530114035915187839*x1^7*x2*x3^5*x4^3*x*z^4*e1^6*e4^5*e2^5*e3^4 + 1597086375201242568*x1^7*x2*x3^4*x4^4*x*z^4*e1^6*e4^5*e2^5*e3^4 - 8655079961745916315*x1^7*x2*x3^4*y*z^3*e1^6*e4^6*e2^5*e3^5 + 4282862411132187382*x1^7*x2*x3^3*x4^5*x*z^4*e1^6*e4^5*e2^5*e3^4 - 7707138379808883936*x1^7*x2*x3^3*x4*y*z^3*e1^6*e4^6*e2^5*e3^5 + 3606346396139380384*x1^7*x2*x3^2*x4^6*x*z^4*e1^6*e4^5*e2^5*e3^4 + 6355195310841025549*x1^7*x2*x3^2*x4^2*y*z^3*e1^6*e4^6*e2^5*e3^5 - 688417867537289360*x1^7*x2*x3*x4^7*x*z^4*e1^6*e4^5*e2^5*e3^4 + 7620777966201426533*x1^7*x2*x3*x4^3*y*z^3*e1^6*e4^6*e2^5*e3^5 + 4025490512009552949*x1^7*x2*x4^8*x*z^4*e1^6*e4^5*e2^5*e3^4 - 8689361328711413368*x1^7*x2*x4^4*y*z^3*e1^6*e4^6*e2^5*e3^5 + 23162176594638683*x1^7*x2*x^2*z^2*e1^7*e4^6*e2^7*e3^6*s + 6020452306429173110*x1^7*x3^9*x*z^4*e1^6*e4^5*e2^5*e3^4 + 7324860799556163395*x1^7*x3^8*x4*x*z^4*e1^6*e4^5*e2^5*e3^4 - 865324352404901806*x1^7*x3^7*x4^2*x*z^4*e1^6*e4^5*e2^5*e3^4 + 6270978004725345060*x1^7*x3^6*x4^3*x*z^4*e1^6*e4^5*e2^5*e3^4 - 5496730181399677516*x1^7*x3^5*x4^4*x*z^4*e1^6*e4^5*e2^5*e3^4 - 7199396641499352098*x1^7*x3^5*y*z^3*e1^6*e4^6*e2^5*e3^5 - 1299718499781322362*x1^7*x3^4*x4^5*x*z^4*e1^6*e4^5*e2^5*e3^4 - 716117980957071112*x1^7*x3^4*x4*y*z^3*e1^6*e4^6*e2^5*e3^5 - 8916743112265790762*x1^7*x3^3*x4^6*x*z^4*e1^6*e4^5*e2^5*e3^4 + 6526027415351618033*x1^7*x3^3*x4^2*y*z^3*e1^6*e4^6*e2^5*e3^5 - 158014662272707970*x1^7*x3^2*x4^7*x*z^4*e1^6*e4^5*e2^5*e3^4 - 3822985180574206608*x1^7*x3^2*x4^3*y*z^3*e1^6*e4^6*e2^5*e3^5 - 7632993957601245865*x1^7*x3*x4^8*x*z^4*e1^6*e4^5*e2^5*e3^4 - 3426697392585851845*x1^7*x3*x4^4*y*z^3*e1^6*e4^6*e2^5*e3^5 + 2301804575083606768*x1^7*x3*x^2*z^2*e1^7*e4^6*e2^7*e3^6*s - 6261551762386150104*x1^7*x4^9*x*z^4*e1^6*e4^5*e2^5*e3^4 + 5513443808345614182*x1^7*x4^5*y*z^3*e1^6*e4^6*e2^5*e3^5 + 2466163843726394677*x1^7*x4*x^2*z^2*e1^7*e4^6*e2^7*e3^6*s - 6013206653842786890*x1^6*x2^10*x*z^4*e1^5*e4^4*e2^4*e3^3 + 9022571503133048974*x1^6*x2^9*x3*x*z^4*e1^5*e4^4*e2^4*e3^3 - 5347799750953013915*x1^6*x2^9*x4*x*z^4*e1^5*e4^4*e2^4*e3^3 + 621269767668829646*x1^6*x2^8*x3^2*x*z^4*e1^5*e4^4*e2^4*e3^3 - 3392631283181067719*x1^6*x2^8*x3*x4*x*z^4*e1^5*e4^4*e2^4*e3^3 - 5070262641433081915*x1^6*x2^8*x4^2*x*z^4*e1^5*e4^4*e2^4*e3^3 + 3587366252182830850*x1^6*x2^7*x3^3*x*z^4*e1^5*e4^4*e2^4*e3^3 - 4896737639232953849*x1^6*x2^7*x3^2*x4*x*z^4*e1^5*e4^4*e2^4*e3^3 - 3263471770290297656*x1^6*x2^7*x3*x4^2*x*z^4*e1^5*e4^4*e2^4*e3^3 - 6215758427629882466*x1^6*x2^7*x4^3*x*z^4*e1^5*e4^4*e2^4*e3^3 + 4524754754953653660*x1^6*x2^6*x3^4*x*z^4*e1^5*e4^4*e2^4*e3^3 - 9163113044837623618*x1^6*x2^6*x3^3*x4*x*z^4*e1^5*e4^4*e2^4*e3^3 + 2000355009837540768*x1^6*x2^6*x3^2*x4^2*x*z^4*e1^5*e4^4*e2^4*e3^3 + 2840598058477442935*x1^6*x2^6*x3*x4^3*x*z^4*e1^5*e4^4*e2^4*e3^3 + 6608192047343145318*x1^6*x2^6*x4^4*x*z^4*e1^5*e4^4*e2^4*e3^3 + 7257486440727007650*x1^6*x2^6*y*z^3*e1^5*e4^5*e2^4*e3^4 + 5462899349333361*x1^6*x2^5*x3^5*x*z^4*e1^5*e4^4*e2^4*e3^3 - 6171558203498876808*x1^6*x2^5*x3^4*x4*x*z^4*e1^5*e4^4*e2^4*e3^3 + 1105488480397802224*x1^6*x2^5*x3^3*x4^2*x*z^4*e1^5*e4^4*e2^4*e3^3 + 8123059873708414863*x1^6*x2^5*x3^2*x4^3*x*z^4*e1^5*e4^4*e2^4*e3^3 + 749249662709685548*x1^6*x2^5*x3*x4^4*x*z^4*e1^5*e4^4*e2^4*e3^3 + 1924008858803497405*x1^6*x2^5*x3*y*z^3*e1^5*e4^5*e2^4*e3^4 - 7984712546588116422*x1^6*x2^5*x4^5*x*z^4*e1^5*e4^4*e2^4*e3^3 + 7928245209605993658*x1^6*x2^5*x4*y*z^3*e1^5*e4^5*e2^4*e3^4 - 2752082240971392810*x1^6*x2^4*x3^6*x*z^4*e1^5*e4^4*e2^4*e3^3 + 8087721526954428288*x1^6*x2^4*x3^5*x4*x*z^4*e1^5*e4^4*e2^4*e3^3 - 8096266009290579797*x1^6*x2^4*x3^4*x4^2*x*z^4*e1^5*e4^4*e2^4*e3^3 - 5498741160450400041*x1^6*x2^4*x3^3*x4^3*x*z^4*e1^5*e4^4*e2^4*e3^3 - 4798975671174996922*x1^6*x2^4*x3^2*x4^4*x*z^4*e1^5*e4^4*e2^4*e3^3 - 7089467346012750003*x1^6*x2^4*x3^2*y*z^3*e1^5*e4^5*e2^4*e3^4 - 2138669793168244952*x1^6*x2^4*x3*x4^5*x*z^4*e1^5*e4^4*e2^4*e3^3 + 8778348883885263564*x1^6*x2^4*x3*x4*y*z^3*e1^5*e4^5*e2^4*e3^4 + 4431546157966693238*x1^6*x2^4*x4^6*x*z^4*e1^5*e4^4*e2^4*e3^3 + 1215465911867553644*x1^6*x2^4*x4^2*y*z^3*e1^5*e4^5*e2^4*e3^4 + 5656375372441262155*x1^6*x2^3*x3^7*x*z^4*e1^5*e4^4*e2^4*e3^3 - 1743223047650259641*x1^6*x2^3*x3^6*x4*x*z^4*e1^5*e4^4*e2^4*e3^3 + 6378549091092858320*x1^6*x2^3*x3^5*x4^2*x*z^4*e1^5*e4^4*e2^4*e3^3 - 6402850507296739706*x1^6*x2^3*x3^4*x4^3*x*z^4*e1^5*e4^4*e2^4*e3^3 - 710627785074241570*x1^6*x2^3*x3^3*x4^4*x*z^4*e1^5*e4^4*e2^4*e3^3 - 9083690132542325439*x1^6*x2^3*x3^3*y*z^3*e1^5*e4^5*e2^4*e3^4 - 848183997252240630*x1^6*x2^3*x3^2*x4^5*x*z^4*e1^5*e4^4*e2^4*e3^3 - 657589503101021081*x1^6*x2^3*x3^2*x4*y*z^3*e1^5*e4^5*e2^4*e3^4 + 185988247661119781*x1^6*x2^3*x3*x4^6*x*z^4*e1^5*e4^4*e2^4*e3^3 + 7724362256966129946*x1^6*x2^3*x3*x4^2*y*z^3*e1^5*e4^5*e2^4*e3^4 - 5451445281328834109*x1^6*x2^3*x4^7*x*z^4*e1^5*e4^4*e2^4*e3^3 - 546788803614763446*x1^6*x2^3*x4^3*y*z^3*e1^5*e4^5*e2^4*e3^4 + 5845518382471519717*x1^6*x2^2*x3^8*x*z^4*e1^5*e4^4*e2^4*e3^3 - 7983048394738858502*x1^6*x2^2*x3^7*x4*x*z^4*e1^5*e4^4*e2^4*e3^3 + 7686562827585736324*x1^6*x2^2*x3^6*x4^2*x*z^4*e1^5*e4^4*e2^4*e3^3 + 6522427286088708861*x1^6*x2^2*x3^5*x4^3*x*z^4*e1^5*e4^4*e2^4*e3^3 + 6873992668511838183*x1^6*x2^2*x3^4*x4^4*x*z^4*e1^5*e4^4*e2^4*e3^3 + 1776746802592529175*x1^6*x2^2*x3^4*y*z^3*e1^5*e4^5*e2^4*e3^4 - 5239177142732179143*x1^6*x2^2*x3^3*x4^5*x*z^4*e1^5*e4^4*e2^4*e3^3 - 295894429830221845*x1^6*x2^2*x3^3*x4*y*z^3*e1^5*e4^5*e2^4*e3^4 + 6521812869333062830*x1^6*x2^2*x3^2*x4^6*x*z^4*e1^5*e4^4*e2^4*e3^3 - 7008829635598391169*x1^6*x2^2*x3^2*x4^2*y*z^3*e1^5*e4^5*e2^4*e3^4 - 627451968058825447*x1^6*x2^2*x3*x4^7*x*z^4*e1^5*e4^4*e2^4*e3^3 + 3892624497129819601*x1^6*x2^2*x3*x4^3*y*z^3*e1^5*e4^5*e2^4*e3^4 + 1907618712991851749*x1^6*x2^2*x4^8*x*z^4*e1^5*e4^4*e2^4*e3^3 + 1125776202839667854*x1^6*x2^2*x4^4*y*z^3*e1^5*e4^5*e2^4*e3^4 + 7664880563908470601*x1^6*x2^2*x^2*z^2*e1^6*e4^5*e2^6*e3^5*s - 3366299212321659776*x1^6*x2*x3^9*x*z^4*e1^5*e4^4*e2^4*e3^3 - 5903369758426207938*x1^6*x2*x3^8*x4*x*z^4*e1^5*e4^4*e2^4*e3^3 - 1303952644824056835*x1^6*x2*x3^7*x4^2*x*z^4*e1^5*e4^4*e2^4*e3^3 - 635399639721436392*x1^6*x2*x3^6*x4^3*x*z^4*e1^5*e4^4*e2^4*e3^3 - 4410780680707780266*x1^6*x2*x3^5*x4^4*x*z^4*e1^5*e4^4*e2^4*e3^3 + 2166254473005210183*x1^6*x2*x3^5*y*z^3*e1^5*e4^5*e2^4*e3^4 - 6614404360593354589*x1^6*x2*x3^4*x4^5*x*z^4*e1^5*e4^4*e2^4*e3^3 + 7927887444409963393*x1^6*x2*x3^4*x4*y*z^3*e1^5*e4^5*e2^4*e3^4 + 5383112206814494697*x1^6*x2*x3^3*x4^6*x*z^4*e1^5*e4^4*e2^4*e3^3 - 4235059416676815601*x1^6*x2*x3^3*x4^2*y*z^3*e1^5*e4^5*e2^4*e3^4 - 6328541148559428174*x1^6*x2*x3^2*x4^7*x*z^4*e1^5*e4^4*e2^4*e3^3 - 5561027079797403427*x1^6*x2*x3^2*x4^3*y*z^3*e1^5*e4^5*e2^4*e3^4 + 5731428287900181226*x1^6*x2*x3*x4^8*x*z^4*e1^5*e4^4*e2^4*e3^3 - 5353646996071602184*x1^6*x2*x3*x4^4*y*z^3*e1^5*e4^5*e2^4*e3^4 - 8231346801101524000*x1^6*x2*x3*x^2*z^2*e1^6*e4^5*e2^6*e3^5*s + 559625538902685013*x1^6*x2*x4^9*x*z^4*e1^5*e4^4*e2^4*e3^3 - 7819878486395921959*x1^6*x2*x4^5*y*z^3*e1^5*e4^5*e2^4*e3^4 - 7299858899097050422*x1^6*x2*x4*x^2*z^2*e1^6*e4^5*e2^6*e3^5*s - 7189612470147689813*x1^6*x3^10*x*z^4*e1^5*e4^4*e2^4*e3^3 + 2540605677822665112*x1^6*x3^9*x4*x*z^4*e1^5*e4^4*e2^4*e3^3 - 3517643274499347730*x1^6*x3^8*x4^2*x*z^4*e1^5*e4^4*e2^4*e3^3 - 8343189647193020350*x1^6*x3^7*x4^3*x*z^4*e1^5*e4^4*e2^4*e3^3 - 8458830327158633561*x1^6*x3^6*x4^4*x*z^4*e1^5*e4^4*e2^4*e3^3 + 7496703592375030918*x1^6*x3^6*y*z^3*e1^5*e4^5*e2^4*e3^4 + 3697665106333288539*x1^6*x3^5*x4^5*x*z^4*e1^5*e4^4*e2^4*e3^3 - 4910448817592392257*x1^6*x3^5*x4*y*z^3*e1^5*e4^5*e2^4*e3^4 - 7445122422332215706*x1^6*x3^4*x4^6*x*z^4*e1^5*e4^4*e2^4*e3^3 - 6251961248528295537*x1^6*x3^4*x4^2*y*z^3*e1^5*e4^5*e2^4*e3^4 - 4824678603985289301*x1^6*x3^3*x4^7*x*z^4*e1^5*e4^4*e2^4*e3^3 - 2895283636697929980*x1^6*x3^3*x4^3*y*z^3*e1^5*e4^5*e2^4*e3^4 + 1905376167260157577*x1^6*x3^2*x4^8*x*z^4*e1^5*e4^4*e2^4*e3^3 - 476107639189576102*x1^6*x3^2*x4^4*y*z^3*e1^5*e4^5*e2^4*e3^4 - 67333213929815844*x1^6*x3^2*x^2*z^2*e1^6*e4^5*e2^6*e3^5*s - 5354986705737644885*x1^6*x3*x4^9*x*z^4*e1^5*e4^4*e2^4*e3^3 - 4266059399089665117*x1^6*x3*x4^5*y*z^3*e1^5*e4^5*e2^4*e3^4 - 3379355445416514414*x1^6*x3*x4*x^2*z^2*e1^6*e4^5*e2^6*e3^5*s - 5007996779135046802*x1^6*x4^10*x*z^4*e1^5*e4^4*e2^4*e3^3 + 4991690367101353292*x1^6*x4^6*y*z^3*e1^5*e4^5*e2^4*e3^4 - 7448465392519438359*x1^6*x4^2*x^2*z^2*e1^6*e4^5*e2^6*e3^5*s + 2926001799318407317*x1^5*x2^11*x*z^4*e1^4*e4^3*e2^3*e3^2 - 2765558162748380190*x1^5*x2^10*x3*x*z^4*e1^4*e4^3*e2^3*e3^2 - 5708237785953197744*x1^5*x2^10*x4*x*z^4*e1^4*e4^3*e2^3*e3^2 - 8142218128284900782*x1^5*x2^9*x3^2*x*z^4*e1^4*e4^3*e2^3*e3^2 + 7670836245961021154*x1^5*x2^9*x3*x4*x*z^4*e1^4*e4^3*e2^3*e3^2 - 8789919640827003222*x1^5*x2^9*x4^2*x*z^4*e1^4*e4^3*e2^3*e3^2 - 8838111066154386798*x1^5*x2^8*x3^3*x*z^4*e1^4*e4^3*e2^3*e3^2 - 3408072015013475344*x1^5*x2^8*x3^2*x4*x*z^4*e1^4*e4^3*e2^3*e3^2 + 1921851641026847109*x1^5*x2^8*x3*x4^2*x*z^4*e1^4*e4^3*e2^3*e3^2 + 879177368641308696*x1^5*x2^8*x4^3*x*z^4*e1^4*e4^3*e2^3*e3^2 - 5795016948441926748*x1^5*x2^7*x3^4*x*z^4*e1^4*e4^3*e2^3*e3^2 - 7045438616162043042*x1^5*x2^7*x3^3*x4*x*z^4*e1^4*e4^3*e2^3*e3^2 + 4834401532645708601*x1^5*x2^7*x3^2*x4^2*x*z^4*e1^4*e4^3*e2^3*e3^2 + 8646124726345826202*x1^5*x2^7*x3*x4^3*x*z^4*e1^4*e4^3*e2^3*e3^2 - 8844596321055409458*x1^5*x2^7*x4^4*x*z^4*e1^4*e4^3*e2^3*e3^2 - 7473326293068220869*x1^5*x2^7*y*z^3*e1^4*e4^4*e2^3*e3^3 - 3469863350441978144*x1^5*x2^6*x3^5*x*z^4*e1^4*e4^3*e2^3*e3^2 - 1235663318787088562*x1^5*x2^6*x3^4*x4*x*z^4*e1^4*e4^3*e2^3*e3^2 - 6577969547518258497*x1^5*x2^6*x3^3*x4^2*x*z^4*e1^4*e4^3*e2^3*e3^2 + 19937927452603051*x1^5*x2^6*x3^2*x4^3*x*z^4*e1^4*e4^3*e2^3*e3^2 - 410924651475110961*x1^5*x2^6*x3*x4^4*x*z^4*e1^4*e4^3*e2^3*e3^2 - 8865374155943837863*x1^5*x2^6*x3*y*z^3*e1^4*e4^4*e2^3*e3^3 + 8947473377670250294*x1^5*x2^6*x4^5*x*z^4*e1^4*e4^3*e2^3*e3^2 + 5118908778396808780*x1^5*x2^6*x4*y*z^3*e1^4*e4^4*e2^3*e3^3 + 6764260928035266102*x1^5*x2^5*x3^6*x*z^4*e1^4*e4^3*e2^3*e3^2 + 6521623296420254790*x1^5*x2^5*x3^5*x4*x*z^4*e1^4*e4^3*e2^3*e3^2 + 3374714204532729663*x1^5*x2^5*x3^4*x4^2*x*z^4*e1^4*e4^3*e2^3*e3^2 - 1058207097681210865*x1^5*x2^5*x3^3*x4^3*x*z^4*e1^4*e4^3*e2^3*e3^2 - 4814790656731207803*x1^5*x2^5*x3^2*x4^4*x*z^4*e1^4*e4^3*e2^3*e3^2 + 7396667026808666384*x1^5*x2^5*x3^2*y*z^3*e1^4*e4^4*e2^3*e3^3 + 7989207817883653869*x1^5*x2^5*x3*x4^5*x*z^4*e1^4*e4^3*e2^3*e3^2 + 5754115353415759065*x1^5*x2^5*x3*x4*y*z^3*e1^4*e4^4*e2^3*e3^3 - 3558828579268651354*x1^5*x2^5*x4^6*x*z^4*e1^4*e4^3*e2^3*e3^2 - 4857243227290071270*x1^5*x2^5*x4^2*y*z^3*e1^4*e4^4*e2^3*e3^3 - 1179544805058929304*x1^5*x2^4*x3^7*x*z^4*e1^4*e4^3*e2^3*e3^2 - 6844310554618955401*x1^5*x2^4*x3^6*x4*x*z^4*e1^4*e4^3*e2^3*e3^2 + 7003293132386518871*x1^5*x2^4*x3^5*x4^2*x*z^4*e1^4*e4^3*e2^3*e3^2 - 2501196006573175741*x1^5*x2^4*x3^4*x4^3*x*z^4*e1^4*e4^3*e2^3*e3^2 - 604874107496228460*x1^5*x2^4*x3^3*x4^4*x*z^4*e1^4*e4^3*e2^3*e3^2 - 5180451371641382654*x1^5*x2^4*x3^3*y*z^3*e1^4*e4^4*e2^3*e3^3 + 8721480645581702520*x1^5*x2^4*x3^2*x4^5*x*z^4*e1^4*e4^3*e2^3*e3^2 - 2929739350804246794*x1^5*x2^4*x3^2*x4*y*z^3*e1^4*e4^4*e2^3*e3^3 - 7670354798951696227*x1^5*x2^4*x3*x4^6*x*z^4*e1^4*e4^3*e2^3*e3^2 - 7639955866075036007*x1^5*x2^4*x3*x4^2*y*z^3*e1^4*e4^4*e2^3*e3^3 + 2508338061125371108*x1^5*x2^4*x4^7*x*z^4*e1^4*e4^3*e2^3*e3^2 - 1450721984368204763*x1^5*x2^4*x4^3*y*z^3*e1^4*e4^4*e2^3*e3^3 + 8230517703994733121*x1^5*x2^3*x3^8*x*z^4*e1^4*e4^3*e2^3*e3^2 - 5910631612768894948*x1^5*x2^3*x3^7*x4*x*z^4*e1^4*e4^3*e2^3*e3^2 + 8692140851445458348*x1^5*x2^3*x3^6*x4^2*x*z^4*e1^4*e4^3*e2^3*e3^2 + 6067066540118507797*x1^5*x2^3*x3^5*x4^3*x*z^4*e1^4*e4^3*e2^3*e3^2 + 1911223197554521616*x1^5*x2^3*x3^4*x4^4*x*z^4*e1^4*e4^3*e2^3*e3^2 + 907243609616003491*x1^5*x2^3*x3^4*y*z^3*e1^4*e4^4*e2^3*e3^3 - 804069672865441312*x1^5*x2^3*x3^3*x4^5*x*z^4*e1^4*e4^3*e2^3*e3^2 + 1005098109362305786*x1^5*x2^3*x3^3*x4*y*z^3*e1^4*e4^4*e2^3*e3^3 - 3841117767102831209*x1^5*x2^3*x3^2*x4^6*x*z^4*e1^4*e4^3*e2^3*e3^2 + 3301570486028563649*x1^5*x2^3*x3^2*x4^2*y*z^3*e1^4*e4^4*e2^3*e3^3 + 3478753148918306643*x1^5*x2^3*x3*x4^7*x*z^4*e1^4*e4^3*e2^3*e3^2 - 4198233555436805945*x1^5*x2^3*x3*x4^3*y*z^3*e1^4*e4^4*e2^3*e3^3 + 8636972747285598934*x1^5*x2^3*x4^8*x*z^4*e1^4*e4^3*e2^3*e3^2 - 6426746334281686560*x1^5*x2^3*x4^4*y*z^3*e1^4*e4^4*e2^3*e3^3 + 637613688211492214*x1^5*x2^3*x^2*z^2*e1^5*e4^4*e2^5*e3^4*s - 5069264391343292338*x1^5*x2^2*x3^9*x*z^4*e1^4*e4^3*e2^3*e3^2 + 4123449427067397460*x1^5*x2^2*x3^8*x4*x*z^4*e1^4*e4^3*e2^3*e3^2 - 5192532120041543193*x1^5*x2^2*x3^7*x4^2*x*z^4*e1^4*e4^3*e2^3*e3^2 - 5422547342406470793*x1^5*x2^2*x3^6*x4^3*x*z^4*e1^4*e4^3*e2^3*e3^2 + 7996869174349709177*x1^5*x2^2*x3^5*x4^4*x*z^4*e1^4*e4^3*e2^3*e3^2 - 6355684862699455840*x1^5*x2^2*x3^5*y*z^3*e1^4*e4^4*e2^3*e3^3 + 8065753171926979953*x1^5*x2^2*x3^4*x4^5*x*z^4*e1^4*e4^3*e2^3*e3^2 + 8798546294945752656*x1^5*x2^2*x3^4*x4*y*z^3*e1^4*e4^4*e2^3*e3^3 - 4568425335367005478*x1^5*x2^2*x3^3*x4^6*x*z^4*e1^4*e4^3*e2^3*e3^2 - 7014084577785797468*x1^5*x2^2*x3^3*x4^2*y*z^3*e1^4*e4^4*e2^3*e3^3 - 2241848983796850280*x1^5*x2^2*x3^2*x4^7*x*z^4*e1^4*e4^3*e2^3*e3^2 - 4937278495673990470*x1^5*x2^2*x3^2*x4^3*y*z^3*e1^4*e4^4*e2^3*e3^3 - 6311536591712762132*x1^5*x2^2*x3*x4^8*x*z^4*e1^4*e4^3*e2^3*e3^2 + 8672913770463014196*x1^5*x2^2*x3*x4^4*y*z^3*e1^4*e4^4*e2^3*e3^3 - 3779829100017334725*x1^5*x2^2*x3*x^2*z^2*e1^5*e4^4*e2^5*e3^4*s - 6336265155589915384*x1^5*x2^2*x4^9*x*z^4*e1^4*e4^3*e2^3*e3^2 - 689368699945398780*x1^5*x2^2*x4^5*y*z^3*e1^4*e4^4*e2^3*e3^3 + 4176979519706454378*x1^5*x2^2*x4*x^2*z^2*e1^5*e4^4*e2^5*e3^4*s + 2932091487128749684*x1^5*x2*x3^10*x*z^4*e1^4*e4^3*e2^3*e3^2 - 7346215062679332589*x1^5*x2*x3^9*x4*x*z^4*e1^4*e4^3*e2^3*e3^2 + 1294906102558920896*x1^5*x2*x3^8*x4^2*x*z^4*e1^4*e4^3*e2^3*e3^2 - 9124494361757369561*x1^5*x2*x3^7*x4^3*x*z^4*e1^4*e4^3*e2^3*e3^2 + 6016746620078223064*x1^5*x2*x3^6*x4^4*x*z^4*e1^4*e4^3*e2^3*e3^2 + 7735980042412637642*x1^5*x2*x3^6*y*z^3*e1^4*e4^4*e2^3*e3^3 - 7551378420935406941*x1^5*x2*x3^5*x4^5*x*z^4*e1^4*e4^3*e2^3*e3^2 + 6169517716726912094*x1^5*x2*x3^5*x4*y*z^3*e1^4*e4^4*e2^3*e3^3 + 7563889166235088185*x1^5*x2*x3^4*x4^6*x*z^4*e1^4*e4^3*e2^3*e3^2 - 1876871422265439803*x1^5*x2*x3^4*x4^2*y*z^3*e1^4*e4^4*e2^3*e3^3 + 645083006705237729*x1^5*x2*x3^3*x4^7*x*z^4*e1^4*e4^3*e2^3*e3^2 + 3729372923647245997*x1^5*x2*x3^3*x4^3*y*z^3*e1^4*e4^4*e2^3*e3^3 - 1397690398522333914*x1^5*x2*x3^2*x4^8*x*z^4*e1^4*e4^3*e2^3*e3^2 + 4257223397462291734*x1^5*x2*x3^2*x4^4*y*z^3*e1^4*e4^4*e2^3*e3^3 - 2923276118430983158*x1^5*x2*x3^2*x^2*z^2*e1^5*e4^4*e2^5*e3^4*s + 5027995974418389773*x1^5*x2*x3*x4^9*x*z^4*e1^4*e4^3*e2^3*e3^2 - 8324123700978025118*x1^5*x2*x3*x4^5*y*z^3*e1^4*e4^4*e2^3*e3^3 - 5181160651852624005*x1^5*x2*x3*x4*x^2*z^2*e1^5*e4^4*e2^5*e3^4*s - 853946178858564014*x1^5*x2*x4^10*x*z^4*e1^4*e4^3*e2^3*e3^2 - 1112306695523846580*x1^5*x2*x4^6*y*z^3*e1^4*e4^4*e2^3*e3^3 - 2294277889735351466*x1^5*x2*x4^2*x^2*z^2*e1^5*e4^4*e2^5*e3^4*s - 7783881751922334233*x1^5*x3^11*x*z^4*e1^4*e4^3*e2^3*e3^2 - 5788962017854530168*x1^5*x3^10*x4*x*z^4*e1^4*e4^3*e2^3*e3^2 + 951587407928421203*x1^5*x3^9*x4^2*x*z^4*e1^4*e4^3*e2^3*e3^2 + 6078354920309115483*x1^5*x3^8*x4^3*x*z^4*e1^4*e4^3*e2^3*e3^2 + 467147848078573229*x1^5*x3^7*x4^4*x*z^4*e1^4*e4^3*e2^3*e3^2 + 1911308650761778257*x1^5*x3^7*y*z^3*e1^4*e4^4*e2^3*e3^3 + 8331058498690280100*x1^5*x3^6*x4^5*x*z^4*e1^4*e4^3*e2^3*e3^2 + 110559679971825895*x1^5*x3^6*x4*y*z^3*e1^4*e4^4*e2^3*e3^3 - 2244246824557473197*x1^5*x3^5*x4^6*x*z^4*e1^4*e4^3*e2^3*e3^2 - 8237178871635121634*x1^5*x3^5*x4^2*y*z^3*e1^4*e4^4*e2^3*e3^3 + 8072452428846953530*x1^5*x3^4*x4^7*x*z^4*e1^4*e4^3*e2^3*e3^2 + 3608173292951585678*x1^5*x3^4*x4^3*y*z^3*e1^4*e4^4*e2^3*e3^3 - 3200259679135441690*x1^5*x3^3*x4^8*x*z^4*e1^4*e4^3*e2^3*e3^2 + 5049873504652221110*x1^5*x3^3*x4^4*y*z^3*e1^4*e4^4*e2^3*e3^3 + 589705609009365700*x1^5*x3^3*x^2*z^2*e1^5*e4^4*e2^5*e3^4*s - 493120393758365660*x1^5*x3^2*x4^9*x*z^4*e1^4*e4^3*e2^3*e3^2 - 4878009159000981919*x1^5*x3^2*x4^5*y*z^3*e1^4*e4^4*e2^3*e3^3 + 3539642299248205003*x1^5*x3^2*x4*x^2*z^2*e1^5*e4^4*e2^5*e3^4*s + 3703369148159201310*x1^5*x3*x4^10*x*z^4*e1^4*e4^3*e2^3*e3^2 - 2271482585751909145*x1^5*x3*x4^6*y*z^3*e1^4*e4^4*e2^3*e3^3 - 7217145642122468918*x1^5*x3*x4^2*x^2*z^2*e1^5*e4^4*e2^5*e3^4*s + 2437261247611373226*x1^5*x4^11*x*z^4*e1^4*e4^3*e2^3*e3^2 - 8255388395343220630*x1^5*x4^7*y*z^3*e1^4*e4^4*e2^3*e3^3 + 7141730480046257347*x1^5*x4^3*x^2*z^2*e1^5*e4^4*e2^5*e3^4*s - 4600890514164917359*x1^4*x2^12*x*z^4*e1^3*e4^2*e2^2*e3 + 2583166558204028511*x1^4*x2^11*x3*x*z^4*e1^3*e4^2*e2^2*e3 - 8546937210098829132*x1^4*x2^11*x4*x*z^4*e1^3*e4^2*e2^2*e3 - 1019307340569136481*x1^4*x2^10*x3^2*x*z^4*e1^3*e4^2*e2^2*e3 + 4483935874728504578*x1^4*x2^10*x3*x4*x*z^4*e1^3*e4^2*e2^2*e3 + 4360663321850729541*x1^4*x2^10*x4^2*x*z^4*e1^3*e4^2*e2^2*e3 - 8147001016310007155*x1^4*x2^9*x3^3*x*z^4*e1^3*e4^2*e2^2*e3 - 3802180079646836406*x1^4*x2^9*x3^2*x4*x*z^4*e1^3*e4^2*e2^2*e3 + 1636767320804877482*x1^4*x2^9*x3*x4^2*x*z^4*e1^3*e4^2*e2^2*e3 - 6938802826143551939*x1^4*x2^9*x4^3*x*z^4*e1^3*e4^2*e2^2*e3 + 5022118777921652424*x1^4*x2^8*x3^4*x*z^4*e1^3*e4^2*e2^2*e3 + 6057964764938031279*x1^4*x2^8*x3^3*x4*x*z^4*e1^3*e4^2*e2^2*e3 + 3989773435128377014*x1^4*x2^8*x3^2*x4^2*x*z^4*e1^3*e4^2*e2^2*e3 + 3376459378873292600*x1^4*x2^8*x3*x4^3*x*z^4*e1^3*e4^2*e2^2*e3 - 8751327204407540525*x1^4*x2^8*x4^4*x*z^4*e1^3*e4^2*e2^2*e3 + 5780893406673009986*x1^4*x2^8*y*z^3*e1^3*e4^3*e2^2*e3^2 + 3907781041680984062*x1^4*x2^7*x3^5*x*z^4*e1^3*e4^2*e2^2*e3 - 6035111382688985422*x1^4*x2^7*x3^4*x4*x*z^4*e1^3*e4^2*e2^2*e3 + 2907955468827196458*x1^4*x2^7*x3^3*x4^2*x*z^4*e1^3*e4^2*e2^2*e3 + 3398623639436575484*x1^4*x2^7*x3^2*x4^3*x*z^4*e1^3*e4^2*e2^2*e3 - 2237964585223033487*x1^4*x2^7*x3*x4^4*x*z^4*e1^3*e4^2*e2^2*e3 + 5069368471141249928*x1^4*x2^7*x3*y*z^3*e1^3*e4^3*e2^2*e3^2 - 3685410775876579391*x1^4*x2^7*x4^5*x*z^4*e1^3*e4^2*e2^2*e3 + 1478221064298785211*x1^4*x2^7*x4*y*z^3*e1^3*e4^3*e2^2*e3^2 + 4354210621095996781*x1^4*x2^6*x3^6*x*z^4*e1^3*e4^2*e2^2*e3 + 7273876629600079408*x1^4*x2^6*x3^5*x4*x*z^4*e1^3*e4^2*e2^2*e3 - 3344772936540402294*x1^4*x2^6*x3^4*x4^2*x*z^4*e1^3*e4^2*e2^2*e3 - 7562834214046988*x1^4*x2^6*x3^3*x4^3*x*z^4*e1^3*e4^2*e2^2*e3 - 9192864709677257162*x1^4*x2^6*x3^2*x4^4*x*z^4*e1^3*e4^2*e2^2*e3 + 7965876283868125293*x1^4*x2^6*x3^2*y*z^3*e1^3*e4^3*e2^2*e3^2 + 5194705633080242999*x1^4*x2^6*x3*x4^5*x*z^4*e1^3*e4^2*e2^2*e3 + 7672007763062419228*x1^4*x2^6*x3*x4*y*z^3*e1^3*e4^3*e2^2*e3^2 - 9195855017343799752*x1^4*x2^6*x4^6*x*z^4*e1^3*e4^2*e2^2*e3 + 923436713010840139*x1^4*x2^6*x4^2*y*z^3*e1^3*e4^3*e2^2*e3^2 - 6281638739112106566*x1^4*x2^5*x3^7*x*z^4*e1^3*e4^2*e2^2*e3 - 6688940709686479542*x1^4*x2^5*x3^6*x4*x*z^4*e1^3*e4^2*e2^2*e3 + 7551856368460127054*x1^4*x2^5*x3^5*x4^2*x*z^4*e1^3*e4^2*e2^2*e3 + 5484166155620523775*x1^4*x2^5*x3^4*x4^3*x*z^4*e1^3*e4^2*e2^2*e3 - 2209679247386594329*x1^4*x2^5*x3^3*x4^4*x*z^4*e1^3*e4^2*e2^2*e3 + 3606276190003261102*x1^4*x2^5*x3^3*y*z^3*e1^3*e4^3*e2^2*e3^2 - 8360910997764251833*x1^4*x2^5*x3^2*x4^5*x*z^4*e1^3*e4^2*e2^2*e3 + 1584064213723837159*x1^4*x2^5*x3^2*x4*y*z^3*e1^3*e4^3*e2^2*e3^2 - 4572138958791735486*x1^4*x2^5*x3*x4^6*x*z^4*e1^3*e4^2*e2^2*e3 - 7135674279984782772*x1^4*x2^5*x3*x4^2*y*z^3*e1^3*e4^3*e2^2*e3^2 - 8151673638164934899*x1^4*x2^5*x4^7*x*z^4*e1^3*e4^2*e2^2*e3 + 7853673877709583392*x1^4*x2^5*x4^3*y*z^3*e1^3*e4^3*e2^2*e3^2 + 2910089403094277475*x1^4*x2^4*x3^8*x*z^4*e1^3*e4^2*e2^2*e3 - 6955720732164291713*x1^4*x2^4*x3^7*x4*x*z^4*e1^3*e4^2*e2^2*e3 + 1983187782067368374*x1^4*x2^4*x3^6*x4^2*x*z^4*e1^3*e4^2*e2^2*e3 + 5587918417190347495*x1^4*x2^4*x3^5*x4^3*x*z^4*e1^3*e4^2*e2^2*e3 - 3810368272358710259*x1^4*x2^4*x3^4*x4^4*x*z^4*e1^3*e4^2*e2^2*e3 + 345938077210456827*x1^4*x2^4*x3^4*y*z^3*e1^3*e4^3*e2^2*e3^2 + 1368820016289898223*x1^4*x2^4*x3^3*x4^5*x*z^4*e1^3*e4^2*e2^2*e3 - 2405677126471968041*x1^4*x2^4*x3^3*x4*y*z^3*e1^3*e4^3*e2^2*e3^2 - 3785486050143622581*x1^4*x2^4*x3^2*x4^6*x*z^4*e1^3*e4^2*e2^2*e3 + 8619729983399587729*x1^4*x2^4*x3^2*x4^2*y*z^3*e1^3*e4^3*e2^2*e3^2 + 7282531085976735898*x1^4*x2^4*x3*x4^7*x*z^4*e1^3*e4^2*e2^2*e3 + 920371919410745912*x1^4*x2^4*x3*x4^3*y*z^3*e1^3*e4^3*e2^2*e3^2 - 5691441356488426112*x1^4*x2^4*x4^8*x*z^4*e1^3*e4^2*e2^2*e3 + 2862933385147830649*x1^4*x2^4*x4^4*y*z^3*e1^3*e4^3*e2^2*e3^2 - 37297578569684546*x1^4*x2^4*x^2*z^2*e1^4*e4^3*e2^4*e3^3*s - 1290614517674414289*x1^4*x2^3*x3^9*x*z^4*e1^3*e4^2*e2^2*e3 - 6768934114729085257*x1^4*x2^3*x3^8*x4*x*z^4*e1^3*e4^2*e2^2*e3 - 4635712774719286405*x1^4*x2^3*x3^7*x4^2*x*z^4*e1^3*e4^2*e2^2*e3 - 3680030373280049731*x1^4*x2^3*x3^6*x4^3*x*z^4*e1^3*e4^2*e2^2*e3 - 4368183820013843403*x1^4*x2^3*x3^5*x4^4*x*z^4*e1^3*e4^2*e2^2*e3 - 1981753866428171553*x1^4*x2^3*x3^5*y*z^3*e1^3*e4^3*e2^2*e3^2 + 7465453184974410748*x1^4*x2^3*x3^4*x4^5*x*z^4*e1^3*e4^2*e2^2*e3 + 830687136146036723*x1^4*x2^3*x3^4*x4*y*z^3*e1^3*e4^3*e2^2*e3^2 - 8572566017886546117*x1^4*x2^3*x3^3*x4^6*x*z^4*e1^3*e4^2*e2^2*e3 - 6350528163630310505*x1^4*x2^3*x3^3*x4^2*y*z^3*e1^3*e4^3*e2^2*e3^2 - 6105821271673951546*x1^4*x2^3*x3^2*x4^7*x*z^4*e1^3*e4^2*e2^2*e3 - 1653591221161141738*x1^4*x2^3*x3^2*x4^3*y*z^3*e1^3*e4^3*e2^2*e3^2 - 932429567685152824*x1^4*x2^3*x3*x4^8*x*z^4*e1^3*e4^2*e2^2*e3 - 2525332915030739359*x1^4*x2^3*x3*x4^4*y*z^3*e1^3*e4^3*e2^2*e3^2 + 3640469523461410317*x1^4*x2^3*x3*x^2*z^2*e1^4*e4^3*e2^4*e3^3*s - 225821749153320001*x1^4*x2^3*x4^9*x*z^4*e1^3*e4^2*e2^2*e3 - 7175350691045409417*x1^4*x2^3*x4^5*y*z^3*e1^3*e4^3*e2^2*e3^2 - 3227674675162105794*x1^4*x2^3*x4*x^2*z^2*e1^4*e4^3*e2^4*e3^3*s - 929085362642070281*x1^4*x2^2*x3^10*x*z^4*e1^3*e4^2*e2^2*e3 + 4542488852760761719*x1^4*x2^2*x3^9*x4*x*z^4*e1^3*e4^2*e2^2*e3 + 4360913158857647528*x1^4*x2^2*x3^8*x4^2*x*z^4*e1^3*e4^2*e2^2*e3 - 8001983564479400618*x1^4*x2^2*x3^7*x4^3*x*z^4*e1^3*e4^2*e2^2*e3 - 8912405187592810363*x1^4*x2^2*x3^6*x4^4*x*z^4*e1^3*e4^2*e2^2*e3 - 5354355116122111618*x1^4*x2^2*x3^6*y*z^3*e1^3*e4^3*e2^2*e3^2 + 4282229863679905143*x1^4*x2^2*x3^5*x4^5*x*z^4*e1^3*e4^2*e2^2*e3 + 6819573630326302087*x1^4*x2^2*x3^5*x4*y*z^3*e1^3*e4^3*e2^2*e3^2 - 8029713137885920877*x1^4*x2^2*x3^4*x4^6*x*z^4*e1^3*e4^2*e2^2*e3 + 570592750597999006*x1^4*x2^2*x3^4*x4^2*y*z^3*e1^3*e4^3*e2^2*e3^2 - 6546691029702006611*x1^4*x2^2*x3^3*x4^7*x*z^4*e1^3*e4^2*e2^2*e3 + 1547640950316859763*x1^4*x2^2*x3^3*x4^3*y*z^3*e1^3*e4^3*e2^2*e3^2 - 2092560848446846330*x1^4*x2^2*x3^2*x4^8*x*z^4*e1^3*e4^2*e2^2*e3 - 4325181551862993080*x1^4*x2^2*x3^2*x4^4*y*z^3*e1^3*e4^3*e2^2*e3^2 + 1893616552474843277*x1^4*x2^2*x3^2*x^2*z^2*e1^4*e4^3*e2^4*e3^3*s + 5696531717978452718*x1^4*x2^2*x3*x4^9*x*z^4*e1^3*e4^2*e2^2*e3 + 1835489796662721754*x1^4*x2^2*x3*x4^5*y*z^3*e1^3*e4^3*e2^2*e3^2 - 5466800701171123551*x1^4*x2^2*x3*x4*x^2*z^2*e1^4*e4^3*e2^4*e3^3*s + 6545877406644247011*x1^4*x2^2*x4^10*x*z^4*e1^3*e4^2*e2^2*e3 - 5339041943687787842*x1^4*x2^2*x4^6*y*z^3*e1^3*e4^3*e2^2*e3^2 - 3523135744589908378*x1^4*x2^2*x4^2*x^2*z^2*e1^4*e4^3*e2^4*e3^3*s + 6012267430432245365*x1^4*x2*x3^11*x*z^4*e1^3*e4^2*e2^2*e3 - 50322389211018425*x1^4*x2*x3^10*x4*x*z^4*e1^3*e4^2*e2^2*e3 + 1002169812595269126*x1^4*x2*x3^9*x4^2*x*z^4*e1^3*e4^2*e2^2*e3 - 3766019194604981291*x1^4*x2*x3^8*x4^3*x*z^4*e1^3*e4^2*e2^2*e3 + 8341565427939240328*x1^4*x2*x3^7*x4^4*x*z^4*e1^3*e4^2*e2^2*e3 + 8809669374660022365*x1^4*x2*x3^7*y*z^3*e1^3*e4^3*e2^2*e3^2 - 6094693505094295597*x1^4*x2*x3^6*x4^5*x*z^4*e1^3*e4^2*e2^2*e3 + 1092038793844257657*x1^4*x2*x3^6*x4*y*z^3*e1^3*e4^3*e2^2*e3^2 - 3843578347098020318*x1^4*x2*x3^5*x4^6*x*z^4*e1^3*e4^2*e2^2*e3 - 1814068639344190398*x1^4*x2*x3^5*x4^2*y*z^3*e1^3*e4^3*e2^2*e3^2 + 3082249764933938709*x1^4*x2*x3^4*x4^7*x*z^4*e1^3*e4^2*e2^2*e3 + 9093758917426257740*x1^4*x2*x3^4*x4^3*y*z^3*e1^3*e4^3*e2^2*e3^2 + 3581945846174364445*x1^4*x2*x3^3*x4^8*x*z^4*e1^3*e4^2*e2^2*e3 + 3005114966236211164*x1^4*x2*x3^3*x4^4*y*z^3*e1^3*e4^3*e2^2*e3^2 + 8886584084584158359*x1^4*x2*x3^3*x^2*z^2*e1^4*e4^3*e2^4*e3^3*s + 5125544518227708233*x1^4*x2*x3^2*x4^9*x*z^4*e1^3*e4^2*e2^2*e3 + 5675403356043223154*x1^4*x2*x3^2*x4^5*y*z^3*e1^3*e4^3*e2^2*e3^2 - 2014552509252639043*x1^4*x2*x3^2*x4*x^2*z^2*e1^4*e4^3*e2^4*e3^3*s - 3053319659159519562*x1^4*x2*x3*x4^10*x*z^4*e1^3*e4^2*e2^2*e3 + 3908434911657785051*x1^4*x2*x3*x4^6*y*z^3*e1^3*e4^3*e2^2*e3^2 + 1324050543551731828*x1^4*x2*x3*x4^2*x^2*z^2*e1^4*e4^3*e2^4*e3^3*s - 8882722901527991105*x1^4*x2*x4^11*x*z^4*e1^3*e4^2*e2^2*e3 - 6809382015153024308*x1^4*x2*x4^7*y*z^3*e1^3*e4^3*e2^2*e3^2 - 5044203721142828577*x1^4*x2*x4^3*x^2*z^2*e1^4*e4^3*e2^4*e3^3*s - 2627487569172554209*x1^4*x3^12*x*z^4*e1^3*e4^2*e2^2*e3 + 3988387899110281697*x1^4*x3^11*x4*x*z^4*e1^3*e4^2*e2^2*e3 - 6404562213288803559*x1^4*x3^10*x4^2*x*z^4*e1^3*e4^2*e2^2*e3 - 2022832706366664362*x1^4*x3^9*x4^3*x*z^4*e1^3*e4^2*e2^2*e3 + 7103458268789835762*x1^4*x3^8*x4^4*x*z^4*e1^3*e4^2*e2^2*e3 + 5233644238983007429*x1^4*x3^8*y*z^3*e1^3*e4^3*e2^2*e3^2 + 6792545456076490720*x1^4*x3^7*x4^5*x*z^4*e1^3*e4^2*e2^2*e3 - 389589854887330024*x1^4*x3^7*x4*y*z^3*e1^3*e4^3*e2^2*e3^2 + 918142190274079984*x1^4*x3^6*x4^6*x*z^4*e1^3*e4^2*e2^2*e3 + 2417149234976539617*x1^4*x3^6*x4^2*y*z^3*e1^3*e4^3*e2^2*e3^2 + 2600092468516905822*x1^4*x3^5*x4^7*x*z^4*e1^3*e4^2*e2^2*e3 + 4682848767449640738*x1^4*x3^5*x4^3*y*z^3*e1^3*e4^3*e2^2*e3^2 - 6786205503731495090*x1^4*x3^4*x4^8*x*z^4*e1^3*e4^2*e2^2*e3 + 7611872035062684700*x1^4*x3^4*x4^4*y*z^3*e1^3*e4^3*e2^2*e3^2 - 7184099211461640692*x1^4*x3^4*x^2*z^2*e1^4*e4^3*e2^4*e3^3*s + 380020019793029580*x1^4*x3^3*x4^9*x*z^4*e1^3*e4^2*e2^2*e3 - 167144693400890116*x1^4*x3^3*x4^5*y*z^3*e1^3*e4^3*e2^2*e3^2 - 3093827564114347934*x1^4*x3^3*x4*x^2*z^2*e1^4*e4^3*e2^4*e3^3*s + 6602437557677496121*x1^4*x3^2*x4^10*x*z^4*e1^3*e4^2*e2^2*e3 + 3255086806574586824*x1^4*x3^2*x4^6*y*z^3*e1^3*e4^3*e2^2*e3^2 - 327489145279547698*x1^4*x3^2*x4^2*x^2*z^2*e1^4*e4^3*e2^4*e3^3*s + 5242117405539735365*x1^4*x3*x4^11*x*z^4*e1^3*e4^2*e2^2*e3 - 2795079689979604326*x1^4*x3*x4^7*y*z^3*e1^3*e4^3*e2^2*e3^2 + 8640202709736300152*x1^4*x3*x4^3*x^2*z^2*e1^4*e4^3*e2^4*e3^3*s - 1181368885058772200*x1^4*x4^12*x*z^4*e1^3*e4^2*e2^2*e3 - 6595726882045526487*x1^4*x4^8*y*z^3*e1^3*e4^3*e2^2*e3^2 - 5801320305007930924*x1^4*x4^4*x^2*z^2*e1^4*e4^3*e2^4*e3^3*s - 4665052037760950708*x1^4*x*y*z*e1^4*e4^4*e2^4*e3^4*s - 7544218248140008506*x1^3*x2^13*x*z^4*e1^2*e4*e2 - 3926331480815582692*x1^3*x2^12*x3*x*z^4*e1^2*e4*e2 - 3160454006415784090*x1^3*x2^12*x4*x*z^4*e1^2*e4*e2 + 5443745941022363555*x1^3*x2^11*x3^2*x*z^4*e1^2*e4*e2 - 6567329750082232682*x1^3*x2^11*x3*x4*x*z^4*e1^2*e4*e2 - 2639784068600769370*x1^3*x2^11*x4^2*x*z^4*e1^2*e4*e2 + 6327369452797250164*x1^3*x2^10*x3^3*x*z^4*e1^2*e4*e2 + 3819152509544088262*x1^3*x2^10*x3^2*x4*x*z^4*e1^2*e4*e2 - 2648041287122272068*x1^3*x2^10*x3*x4^2*x*z^4*e1^2*e4*e2 - 4303623484059790924*x1^3*x2^10*x4^3*x*z^4*e1^2*e4*e2 - 2696587128335195874*x1^3*x2^9*x3^4*x*z^4*e1^2*e4*e2 - 3142472234984734190*x1^3*x2^9*x3^3*x4*x*z^4*e1^2*e4*e2 - 4791377388599578151*x1^3*x2^9*x3^2*x4^2*x*z^4*e1^2*e4*e2 + 4101324682468185800*x1^3*x2^9*x3*x4^3*x*z^4*e1^2*e4*e2 - 8895439062236665185*x1^3*x2^9*x4^4*x*z^4*e1^2*e4*e2 + 5057166192276835669*x1^3*x2^9*y*z^3*e1^2*e4^2*e2*e3 - 3645862458360926191*x1^3*x2^8*x3^5*x*z^4*e1^2*e4*e2 + 8735682673622894965*x1^3*x2^8*x3^4*x4*x*z^4*e1^2*e4*e2 + 5407050263043910539*x1^3*x2^8*x3^3*x4^2*x*z^4*e1^2*e4*e2 - 5261932990884168844*x1^3*x2^8*x3^2*x4^3*x*z^4*e1^2*e4*e2 + 1754723244947865980*x1^3*x2^8*x3*x4^4*x*z^4*e1^2*e4*e2 - 3426250758342657448*x1^3*x2^8*x3*y*z^3*e1^2*e4^2*e2*e3 + 6048944291087091581*x1^3*x2^8*x4^5*x*z^4*e1^2*e4*e2 + 7845676398788844582*x1^3*x2^8*x4*y*z^3*e1^2*e4^2*e2*e3 + 1658391652692375164*x1^3*x2^7*x3^6*x*z^4*e1^2*e4*e2 - 9120487364190764675*x1^3*x2^7*x3^5*x4*x*z^4*e1^2*e4*e2 - 6483401385389281357*x1^3*x2^7*x3^4*x4^2*x*z^4*e1^2*e4*e2 - 7299480837065780116*x1^3*x2^7*x3^3*x4^3*x*z^4*e1^2*e4*e2 - 301757238208372449*x1^3*x2^7*x3^2*x4^4*x*z^4*e1^2*e4*e2 - 7275343587537586885*x1^3*x2^7*x3^2*y*z^3*e1^2*e4^2*e2*e3 - 6899017759979341067*x1^3*x2^7*x3*x4^5*x*z^4*e1^2*e4*e2 + 2279406730201693717*x1^3*x2^7*x3*x4*y*z^3*e1^2*e4^2*e2*e3 - 1393741021807121295*x1^3*x2^7*x4^6*x*z^4*e1^2*e4*e2 - 8616254661504566372*x1^3*x2^7*x4^2*y*z^3*e1^2*e4^2*e2*e3 - 8388744182408647164*x1^3*x2^6*x3^7*x*z^4*e1^2*e4*e2 - 5317584075294493410*x1^3*x2^6*x3^6*x4*x*z^4*e1^2*e4*e2 - 2678964890896164094*x1^3*x2^6*x3^5*x4^2*x*z^4*e1^2*e4*e2 - 1741070914157677065*x1^3*x2^6*x3^4*x4^3*x*z^4*e1^2*e4*e2 + 1341382859681170607*x1^3*x2^6*x3^3*x4^4*x*z^4*e1^2*e4*e2 + 1437922511197331371*x1^3*x2^6*x3^3*y*z^3*e1^2*e4^2*e2*e3 - 8549638646777872830*x1^3*x2^6*x3^2*x4^5*x*z^4*e1^2*e4*e2 + 4915799812670965346*x1^3*x2^6*x3^2*x4*y*z^3*e1^2*e4^2*e2*e3 - 9031726858825232428*x1^3*x2^6*x3*x4^6*x*z^4*e1^2*e4*e2 - 2582463792725431589*x1^3*x2^6*x3*x4^2*y*z^3*e1^2*e4^2*e2*e3 + 5049114577712668849*x1^3*x2^6*x4^7*x*z^4*e1^2*e4*e2 - 7061501257320020792*x1^3*x2^6*x4^3*y*z^3*e1^2*e4^2*e2*e3 + 3381362511334827857*x1^3*x2^5*x3^8*x*z^4*e1^2*e4*e2 + 6092234369828596163*x1^3*x2^5*x3^7*x4*x*z^4*e1^2*e4*e2 + 2163931411260480264*x1^3*x2^5*x3^6*x4^2*x*z^4*e1^2*e4*e2 - 6794704762942571156*x1^3*x2^5*x3^5*x4^3*x*z^4*e1^2*e4*e2 + 2081650870487146045*x1^3*x2^5*x3^4*x4^4*x*z^4*e1^2*e4*e2 - 54347708045110990*x1^3*x2^5*x3^4*y*z^3*e1^2*e4^2*e2*e3 + 1316434681267809229*x1^3*x2^5*x3^3*x4^5*x*z^4*e1^2*e4*e2 + 4686220443941443680*x1^3*x2^5*x3^3*x4*y*z^3*e1^2*e4^2*e2*e3 - 8808728778318238467*x1^3*x2^5*x3^2*x4^6*x*z^4*e1^2*e4*e2 + 6060790877272777412*x1^3*x2^5*x3^2*x4^2*y*z^3*e1^2*e4^2*e2*e3 - 2995319592239609794*x1^3*x2^5*x3*x4^7*x*z^4*e1^2*e4*e2 - 4367444145222473199*x1^3*x2^5*x3*x4^3*y*z^3*e1^2*e4^2*e2*e3 + 6705836550246364603*x1^3*x2^5*x4^8*x*z^4*e1^2*e4*e2 - 3011273788889783027*x1^3*x2^5*x4^4*y*z^3*e1^2*e4^2*e2*e3 + 4934763111346456848*x1^3*x2^5*x^2*z^2*e1^3*e4^2*e2^3*e3^2*s - 1877065755498244280*x1^3*x2^4*x3^9*x*z^4*e1^2*e4*e2 + 5615136675211248985*x1^3*x2^4*x3^8*x4*x*z^4*e1^2*e4*e2 - 7155199054477037258*x1^3*x2^4*x3^7*x4^2*x*z^4*e1^2*e4*e2 - 7356660030475655200*x1^3*x2^4*x3^6*x4^3*x*z^4*e1^2*e4*e2 - 2921870374391691583*x1^3*x2^4*x3^5*x4^4*x*z^4*e1^2*e4*e2 - 5524297513904571192*x1^3*x2^4*x3^5*y*z^3*e1^2*e4^2*e2*e3 - 9066865470363663786*x1^3*x2^4*x3^4*x4^5*x*z^4*e1^2*e4*e2 + 538501437776129269*x1^3*x2^4*x3^4*x4*y*z^3*e1^2*e4^2*e2*e3 - 5334368328892384094*x1^3*x2^4*x3^3*x4^6*x*z^4*e1^2*e4*e2 - 736433735065540042*x1^3*x2^4*x3^3*x4^2*y*z^3*e1^2*e4^2*e2*e3 - 2044444381666912415*x1^3*x2^4*x3^2*x4^7*x*z^4*e1^2*e4*e2 - 7733192876721240258*x1^3*x2^4*x3^2*x4^3*y*z^3*e1^2*e4^2*e2*e3 - 1503079766675397295*x1^3*x2^4*x3*x4^8*x*z^4*e1^2*e4*e2 + 3442773160534851506*x1^3*x2^4*x3*x4^4*y*z^3*e1^2*e4^2*e2*e3 + 960173723443470029*x1^3*x2^4*x3*x^2*z^2*e1^3*e4^2*e2^3*e3^2*s + 8383127921911035612*x1^3*x2^4*x4^9*x*z^4*e1^2*e4*e2 - 7876004008662687720*x1^3*x2^4*x4^5*y*z^3*e1^2*e4^2*e2*e3 + 2292461304733928651*x1^3*x2^4*x4*x^2*z^2*e1^3*e4^2*e2^3*e3^2*s - 4504627415206502859*x1^3*x2^3*x3^10*x*z^4*e1^2*e4*e2 + 3231275575274285791*x1^3*x2^3*x3^9*x4*x*z^4*e1^2*e4*e2 - 5634585476741737025*x1^3*x2^3*x3^8*x4^2*x*z^4*e1^2*e4*e2 + 4470526932506869183*x1^3*x2^3*x3^7*x4^3*x*z^4*e1^2*e4*e2 - 8904380101709340765*x1^3*x2^3*x3^6*x4^4*x*z^4*e1^2*e4*e2 + 8172264368751114942*x1^3*x2^3*x3^6*y*z^3*e1^2*e4^2*e2*e3 + 774644859251157831*x1^3*x2^3*x3^5*x4^5*x*z^4*e1^2*e4*e2 + 8009606245499407353*x1^3*x2^3*x3^5*x4*y*z^3*e1^2*e4^2*e2*e3 + 504992831118226710*x1^3*x2^3*x3^4*x4^6*x*z^4*e1^2*e4*e2 + 4819113405443405503*x1^3*x2^3*x3^4*x4^2*y*z^3*e1^2*e4^2*e2*e3 - 2541788736319856141*x1^3*x2^3*x3^3*x4^7*x*z^4*e1^2*e4*e2 + 3689010270565549788*x1^3*x2^3*x3^3*x4^3*y*z^3*e1^2*e4^2*e2*e3 - 8374184357932200952*x1^3*x2^3*x3^2*x4^8*x*z^4*e1^2*e4*e2 - 2836860781290157106*x1^3*x2^3*x3^2*x4^4*y*z^3*e1^2*e4^2*e2*e3 - 1398222870008655285*x1^3*x2^3*x3^2*x^2*z^2*e1^3*e4^2*e2^3*e3^2*s - 3797825137442788618*x1^3*x2^3*x3*x4^9*x*z^4*e1^2*e4*e2 - 3973871191928559084*x1^3*x2^3*x3*x4^5*y*z^3*e1^2*e4^2*e2*e3 - 2051407770581471486*x1^3*x2^3*x3*x4*x^2*z^2*e1^3*e4^2*e2^3*e3^2*s + 7266754879604313485*x1^3*x2^3*x4^10*x*z^4*e1^2*e4*e2 + 951526973521666864*x1^3*x2^3*x4^6*y*z^3*e1^2*e4^2*e2*e3 - 4566905333628690382*x1^3*x2^3*x4^2*x^2*z^2*e1^3*e4^2*e2^3*e3^2*s - 7054375416104916282*x1^3*x2^2*x3^11*x*z^4*e1^2*e4*e2 - 248264944100155623*x1^3*x2^2*x3^10*x4*x*z^4*e1^2*e4*e2 + 8925068402368647252*x1^3*x2^2*x3^9*x4^2*x*z^4*e1^2*e4*e2 + 6565847642170883969*x1^3*x2^2*x3^8*x4^3*x*z^4*e1^2*e4*e2 - 7125044540442330806*x1^3*x2^2*x3^7*x4^4*x*z^4*e1^2*e4*e2 - 7397297747565033669*x1^3*x2^2*x3^7*y*z^3*e1^2*e4^2*e2*e3 + 1437282707170930147*x1^3*x2^2*x3^6*x4^5*x*z^4*e1^2*e4*e2 + 5310723798061284386*x1^3*x2^2*x3^6*x4*y*z^3*e1^2*e4^2*e2*e3 - 5512876825294540568*x1^3*x2^2*x3^5*x4^6*x*z^4*e1^2*e4*e2 - 1445580863472749185*x1^3*x2^2*x3^5*x4^2*y*z^3*e1^2*e4^2*e2*e3 - 5066601773226770386*x1^3*x2^2*x3^4*x4^7*x*z^4*e1^2*e4*e2 - 2753964293571950181*x1^3*x2^2*x3^4*x4^3*y*z^3*e1^2*e4^2*e2*e3 + 6745318418674457434*x1^3*x2^2*x3^3*x4^8*x*z^4*e1^2*e4*e2 - 3185995334478004708*x1^3*x2^2*x3^3*x4^4*y*z^3*e1^2*e4^2*e2*e3 - 758474597866258013*x1^3*x2^2*x3^3*x^2*z^2*e1^3*e4^2*e2^3*e3^2*s - 8524373592777449750*x1^3*x2^2*x3^2*x4^9*x*z^4*e1^2*e4*e2 - 7620235401810820768*x1^3*x2^2*x3^2*x4^5*y*z^3*e1^2*e4^2*e2*e3 - 4238124480885314623*x1^3*x2^2*x3^2*x4*x^2*z^2*e1^3*e4^2*e2^3*e3^2*s + 5262609503720517765*x1^3*x2^2*x3*x4^10*x*z^4*e1^2*e4*e2 - 4513079871771534384*x1^3*x2^2*x3*x4^6*y*z^3*e1^2*e4^2*e2*e3 - 5757602174260647141*x1^3*x2^2*x3*x4^2*x^2*z^2*e1^3*e4^2*e2^3*e3^2*s + 8888566361118143839*x1^3*x2^2*x4^11*x*z^4*e1^2*e4*e2 + 6755315668533033061*x1^3*x2^2*x4^7*y*z^3*e1^2*e4^2*e2*e3 + 4347698265115369393*x1^3*x2^2*x4^3*x^2*z^2*e1^3*e4^2*e2^3*e3^2*s + 4829636460594868077*x1^3*x2*x3^12*x*z^4*e1^2*e4*e2 + 1960239029796476209*x1^3*x2*x3^11*x4*x*z^4*e1^2*e4*e2 + 7062402716931668269*x1^3*x2*x3^10*x4^2*x*z^4*e1^2*e4*e2 + 5653206921571739657*x1^3*x2*x3^9*x4^3*x*z^4*e1^2*e4*e2 - 3158721217605003346*x1^3*x2*x3^8*x4^4*x*z^4*e1^2*e4*e2 - 3035293756699566041*x1^3*x2*x3^8*y*z^3*e1^2*e4^2*e2*e3 + 2132163731906243439*x1^3*x2*x3^7*x4^5*x*z^4*e1^2*e4*e2 + 4280960475975480965*x1^3*x2*x3^7*x4*y*z^3*e1^2*e4^2*e2*e3 + 8250650493431986730*x1^3*x2*x3^6*x4^6*x*z^4*e1^2*e4*e2 + 1058603434305911881*x1^3*x2*x3^6*x4^2*y*z^3*e1^2*e4^2*e2*e3 + 184284864174630545*x1^3*x2*x3^5*x4^7*x*z^4*e1^2*e4*e2 - 3994214270734751960*x1^3*x2*x3^5*x4^3*y*z^3*e1^2*e4^2*e2*e3 - 5532506341801294595*x1^3*x2*x3^4*x4^8*x*z^4*e1^2*e4*e2 + 5420190274999265543*x1^3*x2*x3^4*x4^4*y*z^3*e1^2*e4^2*e2*e3 - 600634757075700131*x1^3*x2*x3^4*x^2*z^2*e1^3*e4^2*e2^3*e3^2*s + 5400217435137614857*x1^3*x2*x3^3*x4^9*x*z^4*e1^2*e4*e2 - 6612601776803761361*x1^3*x2*x3^3*x4^5*y*z^3*e1^2*e4^2*e2*e3 + 4544280173370150332*x1^3*x2*x3^3*x4*x^2*z^2*e1^3*e4^2*e2^3*e3^2*s - 1402245598786126651*x1^3*x2*x3^2*x4^10*x*z^4*e1^2*e4*e2 - 1704507333458478674*x1^3*x2*x3^2*x4^6*y*z^3*e1^2*e4^2*e2*e3 + 3808484713083011998*x1^3*x2*x3^2*x4^2*x^2*z^2*e1^3*e4^2*e2^3*e3^2*s - 1981695302520737233*x1^3*x2*x3*x4^11*x*z^4*e1^2*e4*e2 + 2351310591015855633*x1^3*x2*x3*x4^7*y*z^3*e1^2*e4^2*e2*e3 - 6940639984932734436*x1^3*x2*x3*x4^3*x^2*z^2*e1^3*e4^2*e2^3*e3^2*s + 570105962461399040*x1^3*x2*x4^12*x*z^4*e1^2*e4*e2 - 1475915550588452807*x1^3*x2*x4^8*y*z^3*e1^2*e4^2*e2*e3 + 4375795638316253872*x1^3*x2*x4^4*x^2*z^2*e1^3*e4^2*e2^3*e3^2*s + 5167850280199092844*x1^3*x2*x*y*z*e1^3*e4^3*e2^3*e3^3*s + 8916220603023928976*x1^3*x3^13*x*z^4*e1^2*e4*e2 + 141822775488829828*x1^3*x3^12*x4*x*z^4*e1^2*e4*e2 - 4235936865805558787*x1^3*x3^11*x4^2*x*z^4*e1^2*e4*e2 - 4649276494901786854*x1^3*x3^10*x4^3*x*z^4*e1^2*e4*e2 - 2115675960573779657*x1^3*x3^9*x4^4*x*z^4*e1^2*e4*e2 - 6780534951315659527*x1^3*x3^9*y*z^3*e1^2*e4^2*e2*e3 - 4435469662392849694*x1^3*x3^8*x4^5*x*z^4*e1^2*e4*e2 - 5912430080412556274*x1^3*x3^8*x4*y*z^3*e1^2*e4^2*e2*e3 - 6907850134605155529*x1^3*x3^7*x4^6*x*z^4*e1^2*e4*e2 + 346283186315183731*x1^3*x3^7*x4^2*y*z^3*e1^2*e4^2*e2*e3 - 8034975101603609432*x1^3*x3^6*x4^7*x*z^4*e1^2*e4*e2 + 7724413188660394388*x1^3*x3^6*x4^3*y*z^3*e1^2*e4^2*e2*e3 - 4222017849072183327*x1^3*x3^5*x4^8*x*z^4*e1^2*e4*e2 - 1804373675689604009*x1^3*x3^5*x4^4*y*z^3*e1^2*e4^2*e2*e3 + 6617922422798856444*x1^3*x3^5*x^2*z^2*e1^3*e4^2*e2^3*e3^2*s + 5723548796098919645*x1^3*x3^4*x4^9*x*z^4*e1^2*e4*e2 - 741388048961959166*x1^3*x3^4*x4^5*y*z^3*e1^2*e4^2*e2*e3 - 4137802671858720859*x1^3*x3^4*x4*x^2*z^2*e1^3*e4^2*e2^3*e3^2*s - 5020055571606449624*x1^3*x3^3*x4^10*x*z^4*e1^2*e4*e2 - 9060083302841172900*x1^3*x3^3*x4^6*y*z^3*e1^2*e4^2*e2*e3 + 5471000468032967641*x1^3*x3^3*x4^2*x^2*z^2*e1^3*e4^2*e2^3*e3^2*s - 4802712077804209851*x1^3*x3^2*x4^11*x*z^4*e1^2*e4*e2 + 7788450216866034037*x1^3*x3^2*x4^7*y*z^3*e1^2*e4^2*e2*e3 + 174819726359567074*x1^3*x3^2*x4^3*x^2*z^2*e1^3*e4^2*e2^3*e3^2*s + 5851057134592889068*x1^3*x3*x4^12*x*z^4*e1^2*e4*e2 - 5341822557108670079*x1^3*x3*x4^8*y*z^3*e1^2*e4^2*e2*e3 + 7832956056463226282*x1^3*x3*x4^4*x^2*z^2*e1^3*e4^2*e2^3*e3^2*s + 5616386025501687912*x1^3*x3*x*y*z*e1^3*e4^3*e2^3*e3^3*s - 6977115688775948341*x1^3*x4^13*x*z^4*e1^2*e4*e2 - 5632195044101085608*x1^3*x4^9*y*z^3*e1^2*e4^2*e2*e3 - 359735957814688100*x1^3*x4^5*x^2*z^2*e1^3*e4^2*e2^3*e3^2*s + 7640214622521851000*x1^3*x4*x*y*z*e1^3*e4^3*e2^3*e3^3*s - 1265109762440848214*x1^2*x2^10*y*z^3*e1*e4 - 7167953056741119872*x1^2*x2^9*x3*y*z^3*e1*e4 - 3901553103894091849*x1^2*x2^9*x4*y*z^3*e1*e4 - 2845189362553292315*x1^2*x2^8*x3^2*y*z^3*e1*e4 - 7253887597962681385*x1^2*x2^8*x3*x4*y*z^3*e1*e4 + 573057659268596756*x1^2*x2^8*x4^2*y*z^3*e1*e4 + 5020353739425445384*x1^2*x2^7*x3^3*y*z^3*e1*e4 - 6506078400068590031*x1^2*x2^7*x3^2*x4*y*z^3*e1*e4 + 4170538598741654369*x1^2*x2^7*x3*x4^2*y*z^3*e1*e4 - 8683156177067014043*x1^2*x2^7*x4^3*y*z^3*e1*e4 - 1140773444413281732*x1^2*x2^6*x3^4*y*z^3*e1*e4 + 1811757348599218785*x1^2*x2^6*x3^3*x4*y*z^3*e1*e4 + 2130415554666762390*x1^2*x2^6*x3^2*x4^2*y*z^3*e1*e4 - 9212743775504180902*x1^2*x2^6*x3*x4^3*y*z^3*e1*e4 - 3062950917087947726*x1^2*x2^6*x4^4*y*z^3*e1*e4 + 346993229146279832*x1^2*x2^6*x^2*z^2*e1^2*e4*e2^2*e3*s + 976484589864043703*x1^2*x2^5*x3^5*y*z^3*e1*e4 + 507800668990404702*x1^2*x2^5*x3^4*x4*y*z^3*e1*e4 - 2545587121708757402*x1^2*x2^5*x3^3*x4^2*y*z^3*e1*e4 - 4616277735730749466*x1^2*x2^5*x3^2*x4^3*y*z^3*e1*e4 + 8946113909523221559*x1^2*x2^5*x3*x4^4*y*z^3*e1*e4 + 7310110010863992104*x1^2*x2^5*x3*x^2*z^2*e1^2*e4*e2^2*e3*s + 474473353083036068*x1^2*x2^5*x4^5*y*z^3*e1*e4 - 1635191887605287896*x1^2*x2^5*x4*x^2*z^2*e1^2*e4*e2^2*e3*s + 7386073212217089420*x1^2*x2^4*x3^6*y*z^3*e1*e4 + 972454321721918200*x1^2*x2^4*x3^5*x4*y*z^3*e1*e4 + 2508664426407217522*x1^2*x2^4*x3^4*x4^2*y*z^3*e1*e4 + 3552129065984719176*x1^2*x2^4*x3^3*x4^3*y*z^3*e1*e4 + 4241428337875199416*x1^2*x2^4*x3^2*x4^4*y*z^3*e1*e4 + 678409613879558373*x1^2*x2^4*x3^2*x^2*z^2*e1^2*e4*e2^2*e3*s - 3709692388712728658*x1^2*x2^4*x3*x4^5*y*z^3*e1*e4 + 6002893580534988364*x1^2*x2^4*x3*x4*x^2*z^2*e1^2*e4*e2^2*e3*s + 8362914464966624852*x1^2*x2^4*x4^6*y*z^3*e1*e4 + 5882619165368821875*x1^2*x2^4*x4^2*x^2*z^2*e1^2*e4*e2^2*e3*s + 2504207837610506880*x1^2*x2^3*x3^7*y*z^3*e1*e4 - 918967684591054479*x1^2*x2^3*x3^6*x4*y*z^3*e1*e4 - 2862301042490923362*x1^2*x2^3*x3^5*x4^2*y*z^3*e1*e4 + 2783532603155304133*x1^2*x2^3*x3^4*x4^3*y*z^3*e1*e4 - 2570250380130194272*x1^2*x2^3*x3^3*x4^4*y*z^3*e1*e4 + 1748868719718672382*x1^2*x2^3*x3^3*x^2*z^2*e1^2*e4*e2^2*e3*s - 2779044238025907246*x1^2*x2^3*x3^2*x4^5*y*z^3*e1*e4 - 2503909015023351947*x1^2*x2^3*x3^2*x4*x^2*z^2*e1^2*e4*e2^2*e3*s - 697196441175642245*x1^2*x2^3*x3*x4^6*y*z^3*e1*e4 - 1311764988127703822*x1^2*x2^3*x3*x4^2*x^2*z^2*e1^2*e4*e2^2*e3*s - 56040696597951973*x1^2*x2^3*x4^7*y*z^3*e1*e4 - 5097212851172792127*x1^2*x2^3*x4^3*x^2*z^2*e1^2*e4*e2^2*e3*s - 431186326498415230*x1^2*x2^2*x3^8*y*z^3*e1*e4 + 292213543678908354*x1^2*x2^2*x3^7*x4*y*z^3*e1*e4 + 7477209688328557283*x1^2*x2^2*x3^6*x4^2*y*z^3*e1*e4 + 8377573849302647169*x1^2*x2^2*x3^5*x4^3*y*z^3*e1*e4 - 8108155162774451794*x1^2*x2^2*x3^4*x4^4*y*z^3*e1*e4 - 828827533476819471*x1^2*x2^2*x3^4*x^2*z^2*e1^2*e4*e2^2*e3*s + 1629006818481102915*x1^2*x2^2*x3^3*x4^5*y*z^3*e1*e4 - 3682278613232311269*x1^2*x2^2*x3^3*x4*x^2*z^2*e1^2*e4*e2^2*e3*s + 6971825496703549826*x1^2*x2^2*x3^2*x4^6*y*z^3*e1*e4 + 7406585427354370590*x1^2*x2^2*x3^2*x4^2*x^2*z^2*e1^2*e4*e2^2*e3*s + 462535875755898229*x1^2*x2^2*x3*x4^7*y*z^3*e1*e4 + 2739223787179835682*x1^2*x2^2*x3*x4^3*x^2*z^2*e1^2*e4*e2^2*e3*s - 8808765077420379867*x1^2*x2^2*x4^8*y*z^3*e1*e4 - 3868430938025438029*x1^2*x2^2*x4^4*x^2*z^2*e1^2*e4*e2^2*e3*s + 8998275477113899770*x1^2*x2^2*x*y*z*e1^2*e4^2*e2^2*e3^2*s + 7246867409769112215*x1^2*x2*x3^9*y*z^3*e1*e4 - 4539156173067317576*x1^2*x2*x3^8*x4*y*z^3*e1*e4 + 4352848308080438667*x1^2*x2*x3^7*x4^2*y*z^3*e1*e4 + 5211670675628669534*x1^2*x2*x3^6*x4^3*y*z^3*e1*e4 - 8377944683375680844*x1^2*x2*x3^5*x4^4*y*z^3*e1*e4 + 7028176661894865920*x1^2*x2*x3^5*x^2*z^2*e1^2*e4*e2^2*e3*s + 5863118715872333505*x1^2*x2*x3^4*x4^5*y*z^3*e1*e4 - 7732157404083552849*x1^2*x2*x3^4*x4*x^2*z^2*e1^2*e4*e2^2*e3*s + 6236235004195150247*x1^2*x2*x3^3*x4^6*y*z^3*e1*e4 + 3325000919541184280*x1^2*x2*x3^3*x4^2*x^2*z^2*e1^2*e4*e2^2*e3*s + 8876033288287840614*x1^2*x2*x3^2*x4^7*y*z^3*e1*e4 + 1518224504257445677*x1^2*x2*x3^2*x4^3*x^2*z^2*e1^2*e4*e2^2*e3*s - 2120332070670742295*x1^2*x2*x3*x4^8*y*z^3*e1*e4 + 6226234947110611493*x1^2*x2*x3*x4^4*x^2*z^2*e1^2*e4*e2^2*e3*s - 3929648655257862065*x1^2*x2*x3*x*y*z*e1^2*e4^2*e2^2*e3^2*s - 9121384669167612320*x1^2*x2*x4^9*y*z^3*e1*e4 + 1288146620860557195*x1^2*x2*x4^5*x^2*z^2*e1^2*e4*e2^2*e3*s - 4157742869632892156*x1^2*x2*x4*x*y*z*e1^2*e4^2*e2^2*e3^2*s - 1496995508237484512*x1^2*x3^10*y*z^3*e1*e4 + 895480497563917079*x1^2*x3^9*x4*y*z^3*e1*e4 - 8770862073566757906*x1^2*x3^8*x4^2*y*z^3*e1*e4 - 4048387215877894806*x1^2*x3^7*x4^3*y*z^3*e1*e4 - 6314607691808412529*x1^2*x3^6*x4^4*y*z^3*e1*e4 + 1828491061757461472*x1^2*x3^6*x^2*z^2*e1^2*e4*e2^2*e3*s + 7382156538144711010*x1^2*x3^5*x4^5*y*z^3*e1*e4 + 267692758849686126*x1^2*x3^5*x4*x^2*z^2*e1^2*e4*e2^2*e3*s - 8577764073258477764*x1^2*x3^4*x4^6*y*z^3*e1*e4 - 280630224589044875*x1^2*x3^4*x4^2*x^2*z^2*e1^2*e4*e2^2*e3*s - 2871252386060013412*x1^2*x3^3*x4^7*y*z^3*e1*e4 - 6228338765428705653*x1^2*x3^3*x4^3*x^2*z^2*e1^2*e4*e2^2*e3*s + 3076215078084422114*x1^2*x3^2*x4^8*y*z^3*e1*e4 - 1722299807841623743*x1^2*x3^2*x4^4*x^2*z^2*e1^2*e4*e2^2*e3*s + 1923540275749602928*x1^2*x3^2*x*y*z*e1^2*e4^2*e2^2*e3^2*s - 3378736206820355045*x1^2*x3*x4^9*y*z^3*e1*e4 + 7874554453761837677*x1^2*x3*x4^5*x^2*z^2*e1^2*e4*e2^2*e3*s + 7882061052498119867*x1^2*x3*x4*x*y*z*e1^2*e4^2*e2^2*e3^2*s - 6007119937161816764*x1^2*x4^10*y*z^3*e1*e4 - 6628953451341579379*x1^2*x4^6*x^2*z^2*e1^2*e4*e2^2*e3*s - 3311225507397183309*x1^2*x4^2*x*y*z*e1^2*e4^2*e2^2*e3^2*s - 8866886123385995750*x1*x2^7*x^2*z^2*e1*e2*s + 2324464435094358729*x1*x2^6*x3*x^2*z^2*e1*e2*s - 7885123822747547680*x1*x2^6*x4*x^2*z^2*e1*e2*s + 4993364096584907862*x1*x2^5*x3^2*x^2*z^2*e1*e2*s - 6300007604384825523*x1*x2^5*x3*x4*x^2*z^2*e1*e2*s - 8467669235972676797*x1*x2^5*x4^2*x^2*z^2*e1*e2*s - 5426947977324444804*x1*x2^4*x3^3*x^2*z^2*e1*e2*s + 4193572733483683387*x1*x2^4*x3^2*x4*x^2*z^2*e1*e2*s - 8244710723126629539*x1*x2^4*x3*x4^2*x^2*z^2*e1*e2*s - 8266776301439965720*x1*x2^4*x4^3*x^2*z^2*e1*e2*s - 6149511335641386627*x1*x2^3*x3^4*x^2*z^2*e1*e2*s - 429020956202025290*x1*x2^3*x3^3*x4*x^2*z^2*e1*e2*s + 1950263275874086023*x1*x2^3*x3^2*x4^2*x^2*z^2*e1*e2*s + 2673655739443048434*x1*x2^3*x3*x4^3*x^2*z^2*e1*e2*s - 3413975713267782085*x1*x2^3*x4^4*x^2*z^2*e1*e2*s - 3635111995176924260*x1*x2^3*x*y*z*e1*e4*e2*e3*s + 3320008221048016369*x1*x2^2*x3^5*x^2*z^2*e1*e2*s - 1004930541647133005*x1*x2^2*x3^4*x4*x^2*z^2*e1*e2*s + 2211218226348557113*x1*x2^2*x3^3*x4^2*x^2*z^2*e1*e2*s - 5871828292722470495*x1*x2^2*x3^2*x4^3*x^2*z^2*e1*e2*s + 33500831272431474*x1*x2^2*x3*x4^4*x^2*z^2*e1*e2*s - 9144078107509681038*x1*x2^2*x3*x*y*z*e1*e4*e2*e3*s + 227847318533456333*x1*x2^2*x4^5*x^2*z^2*e1*e2*s - 8155916189931826687*x1*x2^2*x4*x*y*z*e1*e4*e2*e3*s - 3611916699320817929*x1*x2*x3^6*x^2*z^2*e1*e2*s - 2422440591028099681*x1*x2*x3^5*x4*x^2*z^2*e1*e2*s + 5416095751058618654*x1*x2*x3^4*x4^2*x^2*z^2*e1*e2*s - 1712951563792240146*x1*x2*x3^3*x4^3*x^2*z^2*e1*e2*s + 2832226509400876645*x1*x2*x3^2*x4^4*x^2*z^2*e1*e2*s + 4745007098605939137*x1*x2*x3^2*x*y*z*e1*e4*e2*e3*s + 7966965835472983065*x1*x2*x3*x4^5*x^2*z^2*e1*e2*s - 3609680781300523585*x1*x2*x3*x4*x*y*z*e1*e4*e2*e3*s + 5315872294200005466*x1*x2*x4^6*x^2*z^2*e1*e2*s - 5442201294854784223*x1*x2*x4^2*x*y*z*e1*e4*e2*e3*s - 1021545258380870523*x1*x3^7*x^2*z^2*e1*e2*s - 2274333998285113423*x1*x3^6*x4*x^2*z^2*e1*e2*s - 4821666648705141841*x1*x3^5*x4^2*x^2*z^2*e1*e2*s + 2004162850655479332*x1*x3^4*x4^3*x^2*z^2*e1*e2*s - 3266761122794840447*x1*x3^3*x4^4*x^2*z^2*e1*e2*s + 3559057387146356631*x1*x3^3*x*y*z*e1*e4*e2*e3*s - 2155422294387612360*x1*x3^2*x4^5*x^2*z^2*e1*e2*s + 3965561418835335374*x1*x3^2*x4*x*y*z*e1*e4*e2*e3*s - 4685594894488882412*x1*x3*x4^6*x^2*z^2*e1*e2*s - 7911070918327850549*x1*x3*x4^2*x*y*z*e1*e4*e2*e3*s - 1231482967460587376*x1*x4^7*x^2*z^2*e1*e2*s + 1624216885869813153*x1*x4^3*x*y*z*e1*e4*e2*e3*s - 3563449025423290000*x2^4*x*y*z*s + 7771018759106949439*x2^3*x3*x*y*z*s - 6413255078438852957*x2^3*x4*x*y*z*s - 710318956485635669*x2^2*x3^2*x*y*z*s + 5234396314347709865*x2^2*x3*x4*x*y*z*s + 1950406094265132143*x2^2*x4^2*x*y*z*s + 5073006328031500872*x2*x3^3*x*y*z*s + 6327102790424703790*x2*x3^2*x4*x*y*z*s + 5218202654913457879*x2*x3*x4^2*x*y*z*s + 1260708341730452748*x2*x4^3*x*y*z*s + 6759394237345372089*x3^4*x*y*z*s - 8340679324008952688*x3^3*x4*x*y*z*s + 9048290120425040341*x3^2*x4^2*x*y*z*s - 2938000851552539121*x3*x4^3*x*y*z*s + 2434685216038596372*x4^4*x*y*z*s + x^3*e1*e2^2*e3*s^2 - y^2*e4*e3*s"
      ]
     },
     "execution_count": 36,
     "metadata": {},
     "output_type": "execute_result"
    }
   ],
   "source": [
    "tate_polynomial(t2_resolved)"
   ]
  },
  {
   "cell_type": "markdown",
   "id": "eb224dce-a8df-4225-94ac-63836453e93c",
   "metadata": {},
   "source": [
    "In the above case, the gauge divisor was very simple and the blowups could be performed with toric techniques. We can do more general!\n",
    "\n",
    "To this end, let us pick a different gauge divisor $\\{ w = 0 \\}$, so that the resolutions require non-toric blowups:"
   ]
  },
  {
   "cell_type": "code",
   "execution_count": 37,
   "id": "be1c6592-e11c-4261-b0f8-1b4f9e421afa",
   "metadata": {},
   "outputs": [
    {
     "data": {
      "text/plain": [
       "Torus-invariant, non-prime divisor on a normal toric variety"
      ]
     },
     "execution_count": 37,
     "metadata": {},
     "output_type": "execute_result"
    }
   ],
   "source": [
    "w = 2 * torusinvariant_prime_divisors(B3)[1]"
   ]
  },
  {
   "cell_type": "code",
   "execution_count": 38,
   "id": "aa8329ca-a708-4987-a9fa-5dd531cda028",
   "metadata": {},
   "outputs": [
    {
     "name": "stdout",
     "output_type": "stream",
     "text": [
      "Construction over concrete base may lead to singularity enhancement. Consider computing singular_loci. However, this may take time!\n",
      "\n"
     ]
    }
   ],
   "source": [
    "t = literature_model(arxiv_id = \"1109.3454\", equation = \"3.1\", base_space = B3, defining_classes = Dict(\"w\" => w));"
   ]
  },
  {
   "cell_type": "code",
   "execution_count": 39,
   "id": "eee7ac45-4f4f-44bd-97a7-8b04355b0e4e",
   "metadata": {},
   "outputs": [
    {
     "data": {
      "text/plain": [
       "Dict{String, MPolyDecRingElem{QQFieldElem, QQMPolyRingElem}} with 9 entries:\n",
       "  \"a21\" => 3659345554323800374*x1^6 - 9085341300060339658*x1^5*x2 - 14078859432…\n",
       "  \"a6\"  => 0\n",
       "  \"a3\"  => 65081823884057215866172970111460502464416556832037543171*x1^12 + 264…\n",
       "  \"w\"   => 7656511896348647417*x1^2 + 2132988849168723905*x1*x2 - 1006718962530…\n",
       "  \"a2\"  => 28017822769530713174885675286018733958*x1^8 - 6175668048367186788139…\n",
       "  \"a1\"  => 4641021999129932127*x1^4 - 3941426358101813665*x1^3*x2 + 21762943252…\n",
       "  \"a43\" => -7877468632201274494*x1^10 + 1144538665898989646*x1^9*x2 + 795379412…\n",
       "  \"a4\"  => -3535733858921893245367126064778356590644721728753837658960714063055…\n",
       "  \"a32\" => 1110191229328455539*x1^8 + 3901518187956099794*x1^7*x2 + 99872365857…"
      ]
     },
     "execution_count": 39,
     "metadata": {},
     "output_type": "execute_result"
    }
   ],
   "source": [
    "explicit_model_sections(t)"
   ]
  },
  {
   "cell_type": "markdown",
   "id": "90ffa353-478d-4e9d-84e7-3a52d6bc1035",
   "metadata": {},
   "source": [
    "Among others, we need to be able to blowup the center $\\mathbb{V}( x, y, w )$, where $x$ and $y$ are homogeneous coordinates to the 5-dimensional toric ambient space and $w$ is the section as displayed above. Note that $w$ has (likely) been truncated in your browser. It is a degree 2 polynomial in the base coordinates $x_1$, $x_2$, $x_3$ and $x_4$. The blowup of the center $\\mathbb{V}( x, y, w )$ can for instance be executed as follows:"
   ]
  },
  {
   "cell_type": "code",
   "execution_count": 40,
   "id": "bd2acd13-83de-4c97-a437-7f0aeb3a7430",
   "metadata": {},
   "outputs": [
    {
     "data": {
      "text/plain": [
       "Partially resolved global Tate model over a concrete base -- SU(5)xU(1) restricted Tate model based on arXiv paper 1109.3454 Eq. (3.1)"
      ]
     },
     "execution_count": 40,
     "metadata": {},
     "output_type": "execute_result"
    }
   ],
   "source": [
    "blow_up(t, [\"x\", \"y\", string(explicit_model_sections(t)[\"w\"])]; coordinate_name = \"e1\")"
   ]
  },
  {
   "cell_type": "markdown",
   "id": "5fcf4eca-2930-4aa5-919a-640cfaa964f0",
   "metadata": {},
   "source": [
    "Certainly, you can also resolve the model completely automatically again. However, this may take a little while:"
   ]
  },
  {
   "cell_type": "code",
   "execution_count": 41,
   "id": "08f522fe-fbe5-409d-b286-698f694f0a91",
   "metadata": {},
   "outputs": [
    {
     "data": {
      "text/plain": [
       "Partially resolved global Tate model over a concrete base -- SU(5)xU(1) restricted Tate model based on arXiv paper 1109.3454 Eq. (3.1)"
      ]
     },
     "execution_count": 41,
     "metadata": {},
     "output_type": "execute_result"
    }
   ],
   "source": [
    "t_scheme_resolved = resolve(t, 1)"
   ]
  },
  {
   "cell_type": "markdown",
   "id": "556466bc-f1ff-4158-80e0-b9d43a3d76ca",
   "metadata": {},
   "source": [
    "Also, the ambient space of this resolved model is now a scheme:"
   ]
  },
  {
   "cell_type": "code",
   "execution_count": 42,
   "id": "e3684f81-bbbd-4934-8dd6-a7416445240a",
   "metadata": {},
   "outputs": [
    {
     "data": {
      "text/plain": [
       "Scheme\n",
       "  over rational field\n",
       "with default covering\n",
       "  described by patches\n",
       "     1: scheme(-(s1//s0)*x_5_1 + x_4_1, 7656511896348647417*(s1//s0)*x_1_1^2 + 2132988849168723905*(s1//s0)*x_1_1*x_2_1 - 100671896253054256*(s1//s0)*x_1_1*x_3_1 - 313360254162594683*(s1//s0)*x_1_1 + 4065677199907116207*(s1//s0)*x_2_1^2 + 693109826571187770*(s1//s0)*x_2_1*x_3_1 + 5641156930860625119*(s1//s0)*x_2_1 - 4247854088754075259*(s1//s0)*x_3_1^2 - 1115622603246118542*(s1//s0)*x_3_1 - 6287793440977395190*(s1//s0) - (s2//s0)*x_4_1, -(s2//s0)*x_5_1 + 7656511896348647417*x_1_1^2 + 2132988849168723905*x_1_1*x_2_1 - 100671896253054256*x_1_1*x_3_1 - 313360254162594683*x_1_1 + 4065677199907116207*x_2_1^2 + 693109826571187770*x_2_1*x_3_1 + 5641156930860625119*x_2_1 - 4247854088754075259*x_3_1^2 - 1115622603246118542*x_3_1 - 6287793440977395190, (s1//s0)*(s1//s0) - x_5_1, -(s1//s0)*x_4_1 + x_5_1^2)\n",
       "     2: scheme(-(s1//s0)*x_5_1 + x_4_1, 7656511896348647417*(s1//s0)*x_1_1^2 + 2132988849168723905*(s1//s0)*x_1_1*x_2_1 - 100671896253054256*(s1//s0)*x_1_1*x_3_1 - 313360254162594683*(s1//s0)*x_1_1 + 4065677199907116207*(s1//s0)*x_2_1^2 + 693109826571187770*(s1//s0)*x_2_1*x_3_1 + 5641156930860625119*(s1//s0)*x_2_1 - 4247854088754075259*(s1//s0)*x_3_1^2 - 1115622603246118542*(s1//s0)*x_3_1 - 6287793440977395190*(s1//s0) - (s2//s0)*x_4_1, -(s2//s0)*x_5_1 + 7656511896348647417*x_1_1^2 + 2132988849168723905*x_1_1*x_2_1 - 100671896253054256*x_1_1*x_3_1 - 313360254162594683*x_1_1 + 4065677199907116207*x_2_1^2 + 693109826571187770*x_2_1*x_3_1 + 5641156930860625119*x_2_1 - 4247854088754075259*x_3_1^2 - 1115622603246118542*x_3_1 - 6287793440977395190, -(s0//s1)*x_5_1 + (s1//s0), (s0//s1)*x_5_1^2 - x_4_1)\n",
       "     3: scheme((s0//s1)*x_4_1 - x_5_1, -(s2//s1)*x_4_1 + 7656511896348647417*x_1_1^2 + 2132988849168723905*x_1_1*x_2_1 - 100671896253054256*x_1_1*x_3_1 - 313360254162594683*x_1_1 + 4065677199907116207*x_2_1^2 + 693109826571187770*x_2_1*x_3_1 + 5641156930860625119*x_2_1 - 4247854088754075259*x_3_1^2 - 1115622603246118542*x_3_1 - 6287793440977395190, 7656511896348647417*(s0//s1)*x_1_1^2 + 2132988849168723905*(s0//s1)*x_1_1*x_2_1 - 100671896253054256*(s0//s1)*x_1_1*x_3_1 - 313360254162594683*(s0//s1)*x_1_1 + 4065677199907116207*(s0//s1)*x_2_1^2 + 693109826571187770*(s0//s1)*x_2_1*x_3_1 + 5641156930860625119*(s0//s1)*x_2_1 - 4247854088754075259*(s0//s1)*x_3_1^2 - 1115622603246118542*(s0//s1)*x_3_1 - 6287793440977395190*(s0//s1) - (s2//s1)*x_5_1)\n",
       "     4: scheme((s0//s2)*x_4_1 - (s1//s2)*x_5_1, 7656511896348647417*(s1//s2)*x_1_1^2 + 2132988849168723905*(s1//s2)*x_1_1*x_2_1 - 100671896253054256*(s1//s2)*x_1_1*x_3_1 - 313360254162594683*(s1//s2)*x_1_1 + 4065677199907116207*(s1//s2)*x_2_1^2 + 693109826571187770*(s1//s2)*x_2_1*x_3_1 + 5641156930860625119*(s1//s2)*x_2_1 - 4247854088754075259*(s1//s2)*x_3_1^2 - 1115622603246118542*(s1//s2)*x_3_1 - 6287793440977395190*(s1//s2) - x_4_1, 7656511896348647417*(s0//s2)*x_1_1^2 + 2132988849168723905*(s0//s2)*x_1_1*x_2_1 - 100671896253054256*(s0//s2)*x_1_1*x_3_1 - 313360254162594683*(s0//s2)*x_1_1 + 4065677199907116207*(s0//s2)*x_2_1^2 + 693109826571187770*(s0//s2)*x_2_1*x_3_1 + 5641156930860625119*(s0//s2)*x_2_1 - 4247854088754075259*(s0//s2)*x_3_1^2 - 1115622603246118542*(s0//s2)*x_3_1 - 6287793440977395190*(s0//s2) - x_5_1, -(s1//s0)*(s1//s2) + 7656511896348647417*x_1_1^2 + 2132988849168723905*x_1_1*x_2_1 - 100671896253054256*x_1_1*x_3_1 - 313360254162594683*x_1_1 + 4065677199907116207*x_2_1^2 + 693109826571187770*x_2_1*x_3_1 + 5641156930860625119*x_2_1 - 4247854088754075259*x_3_1^2 - 1115622603246118542*x_3_1 - 6287793440977395190, (s1//s0)*(s1//s2)^2 - x_4_1, (s1//s0)*(s0//s2)*(s1//s2) - x_5_1, -(s1//s0)*x_5_1 + x_4_1, (s1//s0)*(s0//s2) - (s1//s2))\n",
       "     5: scheme((s0//s2)*x_4_1 - (s1//s2)*x_5_1, 7656511896348647417*(s1//s2)*x_1_1^2 + 2132988849168723905*(s1//s2)*x_1_1*x_2_1 - 100671896253054256*(s1//s2)*x_1_1*x_3_1 - 313360254162594683*(s1//s2)*x_1_1 + 4065677199907116207*(s1//s2)*x_2_1^2 + 693109826571187770*(s1//s2)*x_2_1*x_3_1 + 5641156930860625119*(s1//s2)*x_2_1 - 4247854088754075259*(s1//s2)*x_3_1^2 - 1115622603246118542*(s1//s2)*x_3_1 - 6287793440977395190*(s1//s2) - x_4_1, 7656511896348647417*(s0//s2)*x_1_1^2 + 2132988849168723905*(s0//s2)*x_1_1*x_2_1 - 100671896253054256*(s0//s2)*x_1_1*x_3_1 - 313360254162594683*(s0//s2)*x_1_1 + 4065677199907116207*(s0//s2)*x_2_1^2 + 693109826571187770*(s0//s2)*x_2_1*x_3_1 + 5641156930860625119*(s0//s2)*x_2_1 - 4247854088754075259*(s0//s2)*x_3_1^2 - 1115622603246118542*(s0//s2)*x_3_1 - 6287793440977395190*(s0//s2) - x_5_1, -(s1//s0)*(s1//s2) + 7656511896348647417*x_1_1^2 + 2132988849168723905*x_1_1*x_2_1 - 100671896253054256*x_1_1*x_3_1 - 313360254162594683*x_1_1 + 4065677199907116207*x_2_1^2 + 693109826571187770*x_2_1*x_3_1 + 5641156930860625119*x_2_1 - 4247854088754075259*x_3_1^2 - 1115622603246118542*x_3_1 - 6287793440977395190, (s1//s0)*(s1//s2)^2 - x_4_1, (s1//s0)*(s0//s2)*(s1//s2) - x_5_1, (s0//s1)*x_4_1 - x_5_1, -(s0//s1)*(s1//s2) + (s0//s2))\n",
       "     6: scheme((s0//s2)*x_4_1 - (s1//s2)*x_5_1, 7656511896348647417*(s1//s2)*x_1_1^2 + 2132988849168723905*(s1//s2)*x_1_1*x_2_1 - 100671896253054256*(s1//s2)*x_1_1*x_3_1 - 313360254162594683*(s1//s2)*x_1_1 + 4065677199907116207*(s1//s2)*x_2_1^2 + 693109826571187770*(s1//s2)*x_2_1*x_3_1 + 5641156930860625119*(s1//s2)*x_2_1 - 4247854088754075259*(s1//s2)*x_3_1^2 - 1115622603246118542*(s1//s2)*x_3_1 - 6287793440977395190*(s1//s2) - x_4_1, 7656511896348647417*(s0//s2)*x_1_1^2 + 2132988849168723905*(s0//s2)*x_1_1*x_2_1 - 100671896253054256*(s0//s2)*x_1_1*x_3_1 - 313360254162594683*(s0//s2)*x_1_1 + 4065677199907116207*(s0//s2)*x_2_1^2 + 693109826571187770*(s0//s2)*x_2_1*x_3_1 + 5641156930860625119*(s0//s2)*x_2_1 - 4247854088754075259*(s0//s2)*x_3_1^2 - 1115622603246118542*(s0//s2)*x_3_1 - 6287793440977395190*(s0//s2) - x_5_1, 7656511896348647417*(s0//s1)*x_1_1^2 + 2132988849168723905*(s0//s1)*x_1_1*x_2_1 - 100671896253054256*(s0//s1)*x_1_1*x_3_1 - 313360254162594683*(s0//s1)*x_1_1 + 4065677199907116207*(s0//s1)*x_2_1^2 + 693109826571187770*(s0//s1)*x_2_1*x_3_1 + 5641156930860625119*(s0//s1)*x_2_1 - 4247854088754075259*(s0//s1)*x_3_1^2 - 1115622603246118542*(s0//s1)*x_3_1 - 6287793440977395190*(s0//s1) - (s1//s2), -(s0//s1)*x_4_1 + (s1//s2)^2, -(s0//s1)*x_5_1 + (s0//s2)*(s1//s2), (s1//s0)*(s0//s1)*x_5_1 - x_4_1, -(s1//s0)*(s0//s2) + 7656511896348647417*x_1_1^2 + 2132988849168723905*x_1_1*x_2_1 - 100671896253054256*x_1_1*x_3_1 - 313360254162594683*x_1_1 + 4065677199907116207*x_2_1^2 + 693109826571187770*x_2_1*x_3_1 + 5641156930860625119*x_2_1 - 4247854088754075259*x_3_1^2 - 1115622603246118542*x_3_1 - 6287793440977395190, (s1//s0)*(s0//s2)^2 - x_5_1, (s1//s0)*(s0//s1)*(s0//s2) - (s1//s2), (s1//s0)*(s1//s2) - x_5_1, (s1//s0)*(s0//s1) - (s0//s2), -(s1//s0)*x_4_1 + 7656511896348647417*x_1_1^2*x_5_1 + 2132988849168723905*x_1_1*x_2_1*x_5_1 - 100671896253054256*x_1_1*x_3_1*x_5_1 - 313360254162594683*x_1_1*x_5_1 + 4065677199907116207*x_2_1^2*x_5_1 + 693109826571187770*x_2_1*x_3_1*x_5_1 + 5641156930860625119*x_2_1*x_5_1 - 4247854088754075259*x_3_1^2*x_5_1 - 1115622603246118542*x_3_1*x_5_1 - 6287793440977395190*x_5_1, -(s1//s0)*x_4_1^2 + (s1//s0)*(s1//s2)*x_5_1^2, -(s1//s0)^2*x_4_1^2 + (s1//s0)*x_5_1^3)\n",
       "     7: scheme((s0//s2)*x_4_1 - (s1//s2)*x_5_1, 7656511896348647417*(s1//s2)*x_1_1^2 + 2132988849168723905*(s1//s2)*x_1_1*x_2_1 - 100671896253054256*(s1//s2)*x_1_1*x_3_1 - 313360254162594683*(s1//s2)*x_1_1 + 4065677199907116207*(s1//s2)*x_2_1^2 + 693109826571187770*(s1//s2)*x_2_1*x_3_1 + 5641156930860625119*(s1//s2)*x_2_1 - 4247854088754075259*(s1//s2)*x_3_1^2 - 1115622603246118542*(s1//s2)*x_3_1 - 6287793440977395190*(s1//s2) - x_4_1, 7656511896348647417*(s0//s2)*x_1_1^2 + 2132988849168723905*(s0//s2)*x_1_1*x_2_1 - 100671896253054256*(s0//s2)*x_1_1*x_3_1 - 313360254162594683*(s0//s2)*x_1_1 + 4065677199907116207*(s0//s2)*x_2_1^2 + 693109826571187770*(s0//s2)*x_2_1*x_3_1 + 5641156930860625119*(s0//s2)*x_2_1 - 4247854088754075259*(s0//s2)*x_3_1^2 - 1115622603246118542*(s0//s2)*x_3_1 - 6287793440977395190*(s0//s2) - x_5_1, 7656511896348647417*(s0//s1)*x_1_1^2 + 2132988849168723905*(s0//s1)*x_1_1*x_2_1 - 100671896253054256*(s0//s1)*x_1_1*x_3_1 - 313360254162594683*(s0//s1)*x_1_1 + 4065677199907116207*(s0//s1)*x_2_1^2 + 693109826571187770*(s0//s1)*x_2_1*x_3_1 + 5641156930860625119*(s0//s1)*x_2_1 - 4247854088754075259*(s0//s1)*x_3_1^2 - 1115622603246118542*(s0//s1)*x_3_1 - 6287793440977395190*(s0//s1) - (s1//s2), -(s0//s1)*x_4_1 + (s1//s2)^2, -(s0//s1)*x_5_1 + (s0//s2)*(s1//s2), (s1//s0)*(s0//s1)*x_5_1 - x_4_1, -(s1//s0)*(s0//s2) + 7656511896348647417*x_1_1^2 + 2132988849168723905*x_1_1*x_2_1 - 100671896253054256*x_1_1*x_3_1 - 313360254162594683*x_1_1 + 4065677199907116207*x_2_1^2 + 693109826571187770*x_2_1*x_3_1 + 5641156930860625119*x_2_1 - 4247854088754075259*x_3_1^2 - 1115622603246118542*x_3_1 - 6287793440977395190, (s1//s0)*(s0//s2)^2 - x_5_1, (s1//s0)*(s0//s1)*(s0//s2) - (s1//s2), -(s0//s1)*x_5_1 + (s1//s2), -(s0//s1)*(s0//s2) + (s0//s1), 7656511896348647417*(s0//s1)*x_1_1^2*x_5_1 + 2132988849168723905*(s0//s1)*x_1_1*x_2_1*x_5_1 - 100671896253054256*(s0//s1)*x_1_1*x_3_1*x_5_1 - 313360254162594683*(s0//s1)*x_1_1*x_5_1 + 4065677199907116207*(s0//s1)*x_2_1^2*x_5_1 + 693109826571187770*(s0//s1)*x_2_1*x_3_1*x_5_1 + 5641156930860625119*(s0//s1)*x_2_1*x_5_1 - 4247854088754075259*(s0//s1)*x_3_1^2*x_5_1 - 1115622603246118542*(s0//s1)*x_3_1*x_5_1 - 6287793440977395190*(s0//s1)*x_5_1 - x_4_1, (s0//s1)*(s1//s0)*(s1//s2)*x_5_1^2 - x_4_1^2, (s0//s1)^2*(s1//s0)*x_5_1^3 - x_4_1^2)\n",
       "     8: scheme((s0//s2)*x_4_1 - (s1//s2)*x_5_1, 7656511896348647417*(s1//s2)*x_1_1^2 + 2132988849168723905*(s1//s2)*x_1_1*x_2_1 - 100671896253054256*(s1//s2)*x_1_1*x_3_1 - 313360254162594683*(s1//s2)*x_1_1 + 4065677199907116207*(s1//s2)*x_2_1^2 + 693109826571187770*(s1//s2)*x_2_1*x_3_1 + 5641156930860625119*(s1//s2)*x_2_1 - 4247854088754075259*(s1//s2)*x_3_1^2 - 1115622603246118542*(s1//s2)*x_3_1 - 6287793440977395190*(s1//s2) - x_4_1, 7656511896348647417*(s0//s2)*x_1_1^2 + 2132988849168723905*(s0//s2)*x_1_1*x_2_1 - 100671896253054256*(s0//s2)*x_1_1*x_3_1 - 313360254162594683*(s0//s2)*x_1_1 + 4065677199907116207*(s0//s2)*x_2_1^2 + 693109826571187770*(s0//s2)*x_2_1*x_3_1 + 5641156930860625119*(s0//s2)*x_2_1 - 4247854088754075259*(s0//s2)*x_3_1^2 - 1115622603246118542*(s0//s2)*x_3_1 - 6287793440977395190*(s0//s2) - x_5_1, 7656511896348647417*(s0//s1)*x_1_1^2 + 2132988849168723905*(s0//s1)*x_1_1*x_2_1 - 100671896253054256*(s0//s1)*x_1_1*x_3_1 - 313360254162594683*(s0//s1)*x_1_1 + 4065677199907116207*(s0//s1)*x_2_1^2 + 693109826571187770*(s0//s1)*x_2_1*x_3_1 + 5641156930860625119*(s0//s1)*x_2_1 - 4247854088754075259*(s0//s1)*x_3_1^2 - 1115622603246118542*(s0//s1)*x_3_1 - 6287793440977395190*(s0//s1) - (s1//s2), -(s0//s1)*x_4_1 + (s1//s2)^2, -(s0//s1)*x_5_1 + (s0//s2)*(s1//s2), -(s0//s1)*x_4_1 + (s0//s1)*x_5_1, 7656511896348647417*(s0//s1)*x_1_1^2 + 2132988849168723905*(s0//s1)*x_1_1*x_2_1 - 100671896253054256*(s0//s1)*x_1_1*x_3_1 - 313360254162594683*(s0//s1)*x_1_1 + 4065677199907116207*(s0//s1)*x_2_1^2 + 693109826571187770*(s0//s1)*x_2_1*x_3_1 + 5641156930860625119*(s0//s1)*x_2_1 - 4247854088754075259*(s0//s1)*x_3_1^2 - 1115622603246118542*(s0//s1)*x_3_1 - 6287793440977395190*(s0//s1) - (s0//s2), -(s0//s1)*x_5_1 + (s0//s2)^2, -(s0//s1)*(s1//s2) + (s0//s1)*(s0//s2), -(s1//s0)*(s0//s1) + 7656511896348647417*x_1_1^2 + 2132988849168723905*x_1_1*x_2_1 - 100671896253054256*x_1_1*x_3_1 - 313360254162594683*x_1_1 + 4065677199907116207*x_2_1^2 + 693109826571187770*x_2_1*x_3_1 + 5641156930860625119*x_2_1 - 4247854088754075259*x_3_1^2 - 1115622603246118542*x_3_1 - 6287793440977395190, (s1//s0)*(s0//s1)*(s1//s2) - x_4_1, (s1//s0)*(s0//s1)*(s1//s2) - x_5_1, (s1//s0)*(s0//s1)^2 - (s1//s2), (s1//s0)*(s0//s1)*(s0//s1) - (s0//s2))\n",
       "     9: scheme((s0//s2)*x_4_1 - (s1//s2)*x_5_1, 7656511896348647417*(s1//s2)*x_1_1^2 + 2132988849168723905*(s1//s2)*x_1_1*x_2_1 - 100671896253054256*(s1//s2)*x_1_1*x_3_1 - 313360254162594683*(s1//s2)*x_1_1 + 4065677199907116207*(s1//s2)*x_2_1^2 + 693109826571187770*(s1//s2)*x_2_1*x_3_1 + 5641156930860625119*(s1//s2)*x_2_1 - 4247854088754075259*(s1//s2)*x_3_1^2 - 1115622603246118542*(s1//s2)*x_3_1 - 6287793440977395190*(s1//s2) - x_4_1, 7656511896348647417*(s0//s2)*x_1_1^2 + 2132988849168723905*(s0//s2)*x_1_1*x_2_1 - 100671896253054256*(s0//s2)*x_1_1*x_3_1 - 313360254162594683*(s0//s2)*x_1_1 + 4065677199907116207*(s0//s2)*x_2_1^2 + 693109826571187770*(s0//s2)*x_2_1*x_3_1 + 5641156930860625119*(s0//s2)*x_2_1 - 4247854088754075259*(s0//s2)*x_3_1^2 - 1115622603246118542*(s0//s2)*x_3_1 - 6287793440977395190*(s0//s2) - x_5_1, 7656511896348647417*(s0//s1)*x_1_1^2 + 2132988849168723905*(s0//s1)*x_1_1*x_2_1 - 100671896253054256*(s0//s1)*x_1_1*x_3_1 - 313360254162594683*(s0//s1)*x_1_1 + 4065677199907116207*(s0//s1)*x_2_1^2 + 693109826571187770*(s0//s1)*x_2_1*x_3_1 + 5641156930860625119*(s0//s1)*x_2_1 - 4247854088754075259*(s0//s1)*x_3_1^2 - 1115622603246118542*(s0//s1)*x_3_1 - 6287793440977395190*(s0//s1) - (s1//s2), -(s0//s1)*x_4_1 + (s1//s2)^2, -(s0//s1)*x_5_1 + (s0//s2)*(s1//s2), -(s0//s1)*x_4_1 + (s0//s1)*x_5_1, 7656511896348647417*(s0//s1)*x_1_1^2 + 2132988849168723905*(s0//s1)*x_1_1*x_2_1 - 100671896253054256*(s0//s1)*x_1_1*x_3_1 - 313360254162594683*(s0//s1)*x_1_1 + 4065677199907116207*(s0//s1)*x_2_1^2 + 693109826571187770*(s0//s1)*x_2_1*x_3_1 + 5641156930860625119*(s0//s1)*x_2_1 - 4247854088754075259*(s0//s1)*x_3_1^2 - 1115622603246118542*(s0//s1)*x_3_1 - 6287793440977395190*(s0//s1) - (s0//s2), -(s0//s1)*x_5_1 + (s0//s2)^2, -(s0//s1)*(s1//s2) + (s0//s1)*(s0//s2), 7656511896348647417*(s0//s1)*x_1_1^2 + 2132988849168723905*(s0//s1)*x_1_1*x_2_1 - 100671896253054256*(s0//s1)*x_1_1*x_3_1 - 313360254162594683*(s0//s1)*x_1_1 + 4065677199907116207*(s0//s1)*x_2_1^2 + 693109826571187770*(s0//s1)*x_2_1*x_3_1 + 5641156930860625119*(s0//s1)*x_2_1 - 4247854088754075259*(s0//s1)*x_3_1^2 - 1115622603246118542*(s0//s1)*x_3_1 - 6287793440977395190*(s0//s1) - (s0//s1), -(s0//s1)*x_4_1 + (s0//s1)*(s1//s2), -(s0//s1)*x_5_1 + (s0//s1)*(s1//s2), -(s0//s1)*(s1//s2) + (s0//s1)^2, -(s0//s1)*(s0//s2) + (s0//s1)*(s0//s1), -(s1//s0)*x_5_1 + (s1//s2), -(s1//s0)*(s0//s2) + (s0//s1), -(s1//s0)*(s0//s1) + (s0//s1), 7656511896348647417*(s1//s0)*x_1_1^2*x_5_1 + 2132988849168723905*(s1//s0)*x_1_1*x_2_1*x_5_1 - 100671896253054256*(s1//s0)*x_1_1*x_3_1*x_5_1 - 313360254162594683*(s1//s0)*x_1_1*x_5_1 + 4065677199907116207*(s1//s0)*x_2_1^2*x_5_1 + 693109826571187770*(s1//s0)*x_2_1*x_3_1*x_5_1 + 5641156930860625119*(s1//s0)*x_2_1*x_5_1 - 4247854088754075259*(s1//s0)*x_3_1^2*x_5_1 - 1115622603246118542*(s1//s0)*x_3_1*x_5_1 - 6287793440977395190*(s1//s0)*x_5_1 - x_4_1)\n",
       "    10: scheme((s0//s2)*x_4_1 - (s1//s2)*x_5_1, 7656511896348647417*(s1//s2)*x_1_1^2 + 2132988849168723905*(s1//s2)*x_1_1*x_2_1 - 100671896253054256*(s1//s2)*x_1_1*x_3_1 - 313360254162594683*(s1//s2)*x_1_1 + 4065677199907116207*(s1//s2)*x_2_1^2 + 693109826571187770*(s1//s2)*x_2_1*x_3_1 + 5641156930860625119*(s1//s2)*x_2_1 - 4247854088754075259*(s1//s2)*x_3_1^2 - 1115622603246118542*(s1//s2)*x_3_1 - 6287793440977395190*(s1//s2) - x_4_1, 7656511896348647417*(s0//s2)*x_1_1^2 + 2132988849168723905*(s0//s2)*x_1_1*x_2_1 - 100671896253054256*(s0//s2)*x_1_1*x_3_1 - 313360254162594683*(s0//s2)*x_1_1 + 4065677199907116207*(s0//s2)*x_2_1^2 + 693109826571187770*(s0//s2)*x_2_1*x_3_1 + 5641156930860625119*(s0//s2)*x_2_1 - 4247854088754075259*(s0//s2)*x_3_1^2 - 1115622603246118542*(s0//s2)*x_3_1 - 6287793440977395190*(s0//s2) - x_5_1, 7656511896348647417*(s0//s1)*x_1_1^2 + 2132988849168723905*(s0//s1)*x_1_1*x_2_1 - 100671896253054256*(s0//s1)*x_1_1*x_3_1 - 313360254162594683*(s0//s1)*x_1_1 + 4065677199907116207*(s0//s1)*x_2_1^2 + 693109826571187770*(s0//s1)*x_2_1*x_3_1 + 5641156930860625119*(s0//s1)*x_2_1 - 4247854088754075259*(s0//s1)*x_3_1^2 - 1115622603246118542*(s0//s1)*x_3_1 - 6287793440977395190*(s0//s1) - (s1//s2), -(s0//s1)*x_4_1 + (s1//s2)^2, -(s0//s1)*x_5_1 + (s0//s2)*(s1//s2), -(s0//s1)*x_4_1 + (s0//s1)*x_5_1, 7656511896348647417*(s0//s1)*x_1_1^2 + 2132988849168723905*(s0//s1)*x_1_1*x_2_1 - 100671896253054256*(s0//s1)*x_1_1*x_3_1 - 313360254162594683*(s0//s1)*x_1_1 + 4065677199907116207*(s0//s1)*x_2_1^2 + 693109826571187770*(s0//s1)*x_2_1*x_3_1 + 5641156930860625119*(s0//s1)*x_2_1 - 4247854088754075259*(s0//s1)*x_3_1^2 - 1115622603246118542*(s0//s1)*x_3_1 - 6287793440977395190*(s0//s1) - (s0//s2), -(s0//s1)*x_5_1 + (s0//s2)^2, -(s0//s1)*(s1//s2) + (s0//s1)*(s0//s2), 7656511896348647417*(s0//s1)*x_1_1^2 + 2132988849168723905*(s0//s1)*x_1_1*x_2_1 - 100671896253054256*(s0//s1)*x_1_1*x_3_1 - 313360254162594683*(s0//s1)*x_1_1 + 4065677199907116207*(s0//s1)*x_2_1^2 + 693109826571187770*(s0//s1)*x_2_1*x_3_1 + 5641156930860625119*(s0//s1)*x_2_1 - 4247854088754075259*(s0//s1)*x_3_1^2 - 1115622603246118542*(s0//s1)*x_3_1 - 6287793440977395190*(s0//s1) - (s0//s1), -(s0//s1)*x_4_1 + (s0//s1)*(s1//s2), -(s0//s1)*x_5_1 + (s0//s1)*(s1//s2), -(s0//s1)*(s1//s2) + (s0//s1)^2, -(s0//s1)*(s0//s2) + (s0//s1)*(s0//s1), (s0//s1)*(s1//s2) - x_5_1, (s0//s1)*(s0//s1) - (s0//s2), (s0//s1)*(s0//s1) - (s0//s1), -(s0//s1)*x_4_1 + 7656511896348647417*x_1_1^2*x_5_1 + 2132988849168723905*x_1_1*x_2_1*x_5_1 - 100671896253054256*x_1_1*x_3_1*x_5_1 - 313360254162594683*x_1_1*x_5_1 + 4065677199907116207*x_2_1^2*x_5_1 + 693109826571187770*x_2_1*x_3_1*x_5_1 + 5641156930860625119*x_2_1*x_5_1 - 4247854088754075259*x_3_1^2*x_5_1 - 1115622603246118542*x_3_1*x_5_1 - 6287793440977395190*x_5_1)\n",
       "    11: scheme(-(s1//s0)*x_5_2 + x_4_2, 6287793440977395190*(s1//s0)*x_1_2^2 - 5641156930860625119*(s1//s0)*x_1_2*x_2_2 + 1115622603246118542*(s1//s0)*x_1_2*x_3_2 + 313360254162594683*(s1//s0)*x_1_2 - 4065677199907116207*(s1//s0)*x_2_2^2 - 693109826571187770*(s1//s0)*x_2_2*x_3_2 - 2132988849168723905*(s1//s0)*x_2_2 + 4247854088754075259*(s1//s0)*x_3_2^2 + 100671896253054256*(s1//s0)*x_3_2 - 7656511896348647417*(s1//s0) - (s2//s0)*x_4_2, -(s2//s0)*x_5_2 + 6287793440977395190*x_1_2^2 - 5641156930860625119*x_1_2*x_2_2 + 1115622603246118542*x_1_2*x_3_2 + 313360254162594683*x_1_2 - 4065677199907116207*x_2_2^2 - 693109826571187770*x_2_2*x_3_2 - 2132988849168723905*x_2_2 + 4247854088754075259*x_3_2^2 + 100671896253054256*x_3_2 - 7656511896348647417, (s1//s0)*(s1//s0) - x_5_2, -(s1//s0)*x_4_2 + x_5_2^2)\n",
       "    12: scheme(-(s1//s0)*x_5_2 + x_4_2, 6287793440977395190*(s1//s0)*x_1_2^2 - 5641156930860625119*(s1//s0)*x_1_2*x_2_2 + 1115622603246118542*(s1//s0)*x_1_2*x_3_2 + 313360254162594683*(s1//s0)*x_1_2 - 4065677199907116207*(s1//s0)*x_2_2^2 - 693109826571187770*(s1//s0)*x_2_2*x_3_2 - 2132988849168723905*(s1//s0)*x_2_2 + 4247854088754075259*(s1//s0)*x_3_2^2 + 100671896253054256*(s1//s0)*x_3_2 - 7656511896348647417*(s1//s0) - (s2//s0)*x_4_2, -(s2//s0)*x_5_2 + 6287793440977395190*x_1_2^2 - 5641156930860625119*x_1_2*x_2_2 + 1115622603246118542*x_1_2*x_3_2 + 313360254162594683*x_1_2 - 4065677199907116207*x_2_2^2 - 693109826571187770*x_2_2*x_3_2 - 2132988849168723905*x_2_2 + 4247854088754075259*x_3_2^2 + 100671896253054256*x_3_2 - 7656511896348647417, -(s0//s1)*x_5_2 + (s1//s0), (s0//s1)*x_5_2^2 - x_4_2)\n",
       "    13: scheme((s0//s1)*x_4_2 - x_5_2, -(s2//s1)*x_4_2 + 6287793440977395190*x_1_2^2 - 5641156930860625119*x_1_2*x_2_2 + 1115622603246118542*x_1_2*x_3_2 + 313360254162594683*x_1_2 - 4065677199907116207*x_2_2^2 - 693109826571187770*x_2_2*x_3_2 - 2132988849168723905*x_2_2 + 4247854088754075259*x_3_2^2 + 100671896253054256*x_3_2 - 7656511896348647417, 6287793440977395190*(s0//s1)*x_1_2^2 - 5641156930860625119*(s0//s1)*x_1_2*x_2_2 + 1115622603246118542*(s0//s1)*x_1_2*x_3_2 + 313360254162594683*(s0//s1)*x_1_2 - 4065677199907116207*(s0//s1)*x_2_2^2 - 693109826571187770*(s0//s1)*x_2_2*x_3_2 - 2132988849168723905*(s0//s1)*x_2_2 + 4247854088754075259*(s0//s1)*x_3_2^2 + 100671896253054256*(s0//s1)*x_3_2 - 7656511896348647417*(s0//s1) - (s2//s1)*x_5_2)\n",
       "    14: scheme((s0//s2)*x_4_2 - (s1//s2)*x_5_2, 6287793440977395190*(s1//s2)*x_1_2^2 - 5641156930860625119*(s1//s2)*x_1_2*x_2_2 + 1115622603246118542*(s1//s2)*x_1_2*x_3_2 + 313360254162594683*(s1//s2)*x_1_2 - 4065677199907116207*(s1//s2)*x_2_2^2 - 693109826571187770*(s1//s2)*x_2_2*x_3_2 - 2132988849168723905*(s1//s2)*x_2_2 + 4247854088754075259*(s1//s2)*x_3_2^2 + 100671896253054256*(s1//s2)*x_3_2 - 7656511896348647417*(s1//s2) - x_4_2, 6287793440977395190*(s0//s2)*x_1_2^2 - 5641156930860625119*(s0//s2)*x_1_2*x_2_2 + 1115622603246118542*(s0//s2)*x_1_2*x_3_2 + 313360254162594683*(s0//s2)*x_1_2 - 4065677199907116207*(s0//s2)*x_2_2^2 - 693109826571187770*(s0//s2)*x_2_2*x_3_2 - 2132988849168723905*(s0//s2)*x_2_2 + 4247854088754075259*(s0//s2)*x_3_2^2 + 100671896253054256*(s0//s2)*x_3_2 - 7656511896348647417*(s0//s2) - x_5_2, -(s1//s0)*(s1//s2) + 6287793440977395190*x_1_2^2 - 5641156930860625119*x_1_2*x_2_2 + 1115622603246118542*x_1_2*x_3_2 + 313360254162594683*x_1_2 - 4065677199907116207*x_2_2^2 - 693109826571187770*x_2_2*x_3_2 - 2132988849168723905*x_2_2 + 4247854088754075259*x_3_2^2 + 100671896253054256*x_3_2 - 7656511896348647417, (s1//s0)*(s1//s2)^2 - x_4_2, (s1//s0)*(s0//s2)*(s1//s2) - x_5_2, -(s1//s0)*x_5_2 + x_4_2, (s1//s0)*(s0//s2) - (s1//s2))\n",
       "    15: scheme((s0//s2)*x_4_2 - (s1//s2)*x_5_2, 6287793440977395190*(s1//s2)*x_1_2^2 - 5641156930860625119*(s1//s2)*x_1_2*x_2_2 + 1115622603246118542*(s1//s2)*x_1_2*x_3_2 + 313360254162594683*(s1//s2)*x_1_2 - 4065677199907116207*(s1//s2)*x_2_2^2 - 693109826571187770*(s1//s2)*x_2_2*x_3_2 - 2132988849168723905*(s1//s2)*x_2_2 + 4247854088754075259*(s1//s2)*x_3_2^2 + 100671896253054256*(s1//s2)*x_3_2 - 7656511896348647417*(s1//s2) - x_4_2, 6287793440977395190*(s0//s2)*x_1_2^2 - 5641156930860625119*(s0//s2)*x_1_2*x_2_2 + 1115622603246118542*(s0//s2)*x_1_2*x_3_2 + 313360254162594683*(s0//s2)*x_1_2 - 4065677199907116207*(s0//s2)*x_2_2^2 - 693109826571187770*(s0//s2)*x_2_2*x_3_2 - 2132988849168723905*(s0//s2)*x_2_2 + 4247854088754075259*(s0//s2)*x_3_2^2 + 100671896253054256*(s0//s2)*x_3_2 - 7656511896348647417*(s0//s2) - x_5_2, -(s1//s0)*(s1//s2) + 6287793440977395190*x_1_2^2 - 5641156930860625119*x_1_2*x_2_2 + 1115622603246118542*x_1_2*x_3_2 + 313360254162594683*x_1_2 - 4065677199907116207*x_2_2^2 - 693109826571187770*x_2_2*x_3_2 - 2132988849168723905*x_2_2 + 4247854088754075259*x_3_2^2 + 100671896253054256*x_3_2 - 7656511896348647417, (s1//s0)*(s1//s2)^2 - x_4_2, (s1//s0)*(s0//s2)*(s1//s2) - x_5_2, (s0//s1)*x_4_2 - x_5_2, -(s0//s1)*(s1//s2) + (s0//s2))\n",
       "    16: scheme((s0//s2)*x_4_2 - (s1//s2)*x_5_2, 6287793440977395190*(s1//s2)*x_1_2^2 - 5641156930860625119*(s1//s2)*x_1_2*x_2_2 + 1115622603246118542*(s1//s2)*x_1_2*x_3_2 + 313360254162594683*(s1//s2)*x_1_2 - 4065677199907116207*(s1//s2)*x_2_2^2 - 693109826571187770*(s1//s2)*x_2_2*x_3_2 - 2132988849168723905*(s1//s2)*x_2_2 + 4247854088754075259*(s1//s2)*x_3_2^2 + 100671896253054256*(s1//s2)*x_3_2 - 7656511896348647417*(s1//s2) - x_4_2, 6287793440977395190*(s0//s2)*x_1_2^2 - 5641156930860625119*(s0//s2)*x_1_2*x_2_2 + 1115622603246118542*(s0//s2)*x_1_2*x_3_2 + 313360254162594683*(s0//s2)*x_1_2 - 4065677199907116207*(s0//s2)*x_2_2^2 - 693109826571187770*(s0//s2)*x_2_2*x_3_2 - 2132988849168723905*(s0//s2)*x_2_2 + 4247854088754075259*(s0//s2)*x_3_2^2 + 100671896253054256*(s0//s2)*x_3_2 - 7656511896348647417*(s0//s2) - x_5_2, 6287793440977395190*(s0//s1)*x_1_2^2 - 5641156930860625119*(s0//s1)*x_1_2*x_2_2 + 1115622603246118542*(s0//s1)*x_1_2*x_3_2 + 313360254162594683*(s0//s1)*x_1_2 - 4065677199907116207*(s0//s1)*x_2_2^2 - 693109826571187770*(s0//s1)*x_2_2*x_3_2 - 2132988849168723905*(s0//s1)*x_2_2 + 4247854088754075259*(s0//s1)*x_3_2^2 + 100671896253054256*(s0//s1)*x_3_2 - 7656511896348647417*(s0//s1) - (s1//s2), -(s0//s1)*x_4_2 + (s1//s2)^2, -(s0//s1)*x_5_2 + (s0//s2)*(s1//s2), (s1//s0)*(s0//s1)*x_5_2 - x_4_2, -(s1//s0)*(s0//s2) + 6287793440977395190*x_1_2^2 - 5641156930860625119*x_1_2*x_2_2 + 1115622603246118542*x_1_2*x_3_2 + 313360254162594683*x_1_2 - 4065677199907116207*x_2_2^2 - 693109826571187770*x_2_2*x_3_2 - 2132988849168723905*x_2_2 + 4247854088754075259*x_3_2^2 + 100671896253054256*x_3_2 - 7656511896348647417, (s1//s0)*(s0//s2)^2 - x_5_2, (s1//s0)*(s0//s1)*(s0//s2) - (s1//s2), (s1//s0)*(s1//s2) - x_5_2, (s1//s0)*(s0//s1) - (s0//s2), -(s1//s0)*x_4_2 + 6287793440977395190*x_1_2^2*x_5_2 - 5641156930860625119*x_1_2*x_2_2*x_5_2 + 1115622603246118542*x_1_2*x_3_2*x_5_2 + 313360254162594683*x_1_2*x_5_2 - 4065677199907116207*x_2_2^2*x_5_2 - 693109826571187770*x_2_2*x_3_2*x_5_2 - 2132988849168723905*x_2_2*x_5_2 + 4247854088754075259*x_3_2^2*x_5_2 + 100671896253054256*x_3_2*x_5_2 - 7656511896348647417*x_5_2, -(s1//s0)*x_4_2^2 + (s1//s0)*(s1//s2)*x_5_2^2, -(s1//s0)^2*x_4_2^2 + (s1//s0)*x_5_2^3)\n",
       "    17: scheme((s0//s2)*x_4_2 - (s1//s2)*x_5_2, 6287793440977395190*(s1//s2)*x_1_2^2 - 5641156930860625119*(s1//s2)*x_1_2*x_2_2 + 1115622603246118542*(s1//s2)*x_1_2*x_3_2 + 313360254162594683*(s1//s2)*x_1_2 - 4065677199907116207*(s1//s2)*x_2_2^2 - 693109826571187770*(s1//s2)*x_2_2*x_3_2 - 2132988849168723905*(s1//s2)*x_2_2 + 4247854088754075259*(s1//s2)*x_3_2^2 + 100671896253054256*(s1//s2)*x_3_2 - 7656511896348647417*(s1//s2) - x_4_2, 6287793440977395190*(s0//s2)*x_1_2^2 - 5641156930860625119*(s0//s2)*x_1_2*x_2_2 + 1115622603246118542*(s0//s2)*x_1_2*x_3_2 + 313360254162594683*(s0//s2)*x_1_2 - 4065677199907116207*(s0//s2)*x_2_2^2 - 693109826571187770*(s0//s2)*x_2_2*x_3_2 - 2132988849168723905*(s0//s2)*x_2_2 + 4247854088754075259*(s0//s2)*x_3_2^2 + 100671896253054256*(s0//s2)*x_3_2 - 7656511896348647417*(s0//s2) - x_5_2, 6287793440977395190*(s0//s1)*x_1_2^2 - 5641156930860625119*(s0//s1)*x_1_2*x_2_2 + 1115622603246118542*(s0//s1)*x_1_2*x_3_2 + 313360254162594683*(s0//s1)*x_1_2 - 4065677199907116207*(s0//s1)*x_2_2^2 - 693109826571187770*(s0//s1)*x_2_2*x_3_2 - 2132988849168723905*(s0//s1)*x_2_2 + 4247854088754075259*(s0//s1)*x_3_2^2 + 100671896253054256*(s0//s1)*x_3_2 - 7656511896348647417*(s0//s1) - (s1//s2), -(s0//s1)*x_4_2 + (s1//s2)^2, -(s0//s1)*x_5_2 + (s0//s2)*(s1//s2), (s1//s0)*(s0//s1)*x_5_2 - x_4_2, -(s1//s0)*(s0//s2) + 6287793440977395190*x_1_2^2 - 5641156930860625119*x_1_2*x_2_2 + 1115622603246118542*x_1_2*x_3_2 + 313360254162594683*x_1_2 - 4065677199907116207*x_2_2^2 - 693109826571187770*x_2_2*x_3_2 - 2132988849168723905*x_2_2 + 4247854088754075259*x_3_2^2 + 100671896253054256*x_3_2 - 7656511896348647417, (s1//s0)*(s0//s2)^2 - x_5_2, (s1//s0)*(s0//s1)*(s0//s2) - (s1//s2), -(s0//s1)*x_5_2 + (s1//s2), -(s0//s1)*(s0//s2) + (s0//s1), 6287793440977395190*(s0//s1)*x_1_2^2*x_5_2 - 5641156930860625119*(s0//s1)*x_1_2*x_2_2*x_5_2 + 1115622603246118542*(s0//s1)*x_1_2*x_3_2*x_5_2 + 313360254162594683*(s0//s1)*x_1_2*x_5_2 - 4065677199907116207*(s0//s1)*x_2_2^2*x_5_2 - 693109826571187770*(s0//s1)*x_2_2*x_3_2*x_5_2 - 2132988849168723905*(s0//s1)*x_2_2*x_5_2 + 4247854088754075259*(s0//s1)*x_3_2^2*x_5_2 + 100671896253054256*(s0//s1)*x_3_2*x_5_2 - 7656511896348647417*(s0//s1)*x_5_2 - x_4_2, (s0//s1)*(s1//s0)*(s1//s2)*x_5_2^2 - x_4_2^2, (s0//s1)^2*(s1//s0)*x_5_2^3 - x_4_2^2)\n",
       "    18: scheme((s0//s2)*x_4_2 - (s1//s2)*x_5_2, 6287793440977395190*(s1//s2)*x_1_2^2 - 5641156930860625119*(s1//s2)*x_1_2*x_2_2 + 1115622603246118542*(s1//s2)*x_1_2*x_3_2 + 313360254162594683*(s1//s2)*x_1_2 - 4065677199907116207*(s1//s2)*x_2_2^2 - 693109826571187770*(s1//s2)*x_2_2*x_3_2 - 2132988849168723905*(s1//s2)*x_2_2 + 4247854088754075259*(s1//s2)*x_3_2^2 + 100671896253054256*(s1//s2)*x_3_2 - 7656511896348647417*(s1//s2) - x_4_2, 6287793440977395190*(s0//s2)*x_1_2^2 - 5641156930860625119*(s0//s2)*x_1_2*x_2_2 + 1115622603246118542*(s0//s2)*x_1_2*x_3_2 + 313360254162594683*(s0//s2)*x_1_2 - 4065677199907116207*(s0//s2)*x_2_2^2 - 693109826571187770*(s0//s2)*x_2_2*x_3_2 - 2132988849168723905*(s0//s2)*x_2_2 + 4247854088754075259*(s0//s2)*x_3_2^2 + 100671896253054256*(s0//s2)*x_3_2 - 7656511896348647417*(s0//s2) - x_5_2, 6287793440977395190*(s0//s1)*x_1_2^2 - 5641156930860625119*(s0//s1)*x_1_2*x_2_2 + 1115622603246118542*(s0//s1)*x_1_2*x_3_2 + 313360254162594683*(s0//s1)*x_1_2 - 4065677199907116207*(s0//s1)*x_2_2^2 - 693109826571187770*(s0//s1)*x_2_2*x_3_2 - 2132988849168723905*(s0//s1)*x_2_2 + 4247854088754075259*(s0//s1)*x_3_2^2 + 100671896253054256*(s0//s1)*x_3_2 - 7656511896348647417*(s0//s1) - (s1//s2), -(s0//s1)*x_4_2 + (s1//s2)^2, -(s0//s1)*x_5_2 + (s0//s2)*(s1//s2), -(s0//s1)*x_4_2 + (s0//s1)*x_5_2, 6287793440977395190*(s0//s1)*x_1_2^2 - 5641156930860625119*(s0//s1)*x_1_2*x_2_2 + 1115622603246118542*(s0//s1)*x_1_2*x_3_2 + 313360254162594683*(s0//s1)*x_1_2 - 4065677199907116207*(s0//s1)*x_2_2^2 - 693109826571187770*(s0//s1)*x_2_2*x_3_2 - 2132988849168723905*(s0//s1)*x_2_2 + 4247854088754075259*(s0//s1)*x_3_2^2 + 100671896253054256*(s0//s1)*x_3_2 - 7656511896348647417*(s0//s1) - (s0//s2), -(s0//s1)*x_5_2 + (s0//s2)^2, -(s0//s1)*(s1//s2) + (s0//s1)*(s0//s2), -(s1//s0)*(s0//s1) + 6287793440977395190*x_1_2^2 - 5641156930860625119*x_1_2*x_2_2 + 1115622603246118542*x_1_2*x_3_2 + 313360254162594683*x_1_2 - 4065677199907116207*x_2_2^2 - 693109826571187770*x_2_2*x_3_2 - 2132988849168723905*x_2_2 + 4247854088754075259*x_3_2^2 + 100671896253054256*x_3_2 - 7656511896348647417, (s1//s0)*(s0//s1)*(s1//s2) - x_4_2, (s1//s0)*(s0//s1)*(s1//s2) - x_5_2, (s1//s0)*(s0//s1)^2 - (s1//s2), (s1//s0)*(s0//s1)*(s0//s1) - (s0//s2))\n",
       "    19: scheme((s0//s2)*x_4_2 - (s1//s2)*x_5_2, 6287793440977395190*(s1//s2)*x_1_2^2 - 5641156930860625119*(s1//s2)*x_1_2*x_2_2 + 1115622603246118542*(s1//s2)*x_1_2*x_3_2 + 313360254162594683*(s1//s2)*x_1_2 - 4065677199907116207*(s1//s2)*x_2_2^2 - 693109826571187770*(s1//s2)*x_2_2*x_3_2 - 2132988849168723905*(s1//s2)*x_2_2 + 4247854088754075259*(s1//s2)*x_3_2^2 + 100671896253054256*(s1//s2)*x_3_2 - 7656511896348647417*(s1//s2) - x_4_2, 6287793440977395190*(s0//s2)*x_1_2^2 - 5641156930860625119*(s0//s2)*x_1_2*x_2_2 + 1115622603246118542*(s0//s2)*x_1_2*x_3_2 + 313360254162594683*(s0//s2)*x_1_2 - 4065677199907116207*(s0//s2)*x_2_2^2 - 693109826571187770*(s0//s2)*x_2_2*x_3_2 - 2132988849168723905*(s0//s2)*x_2_2 + 4247854088754075259*(s0//s2)*x_3_2^2 + 100671896253054256*(s0//s2)*x_3_2 - 7656511896348647417*(s0//s2) - x_5_2, 6287793440977395190*(s0//s1)*x_1_2^2 - 5641156930860625119*(s0//s1)*x_1_2*x_2_2 + 1115622603246118542*(s0//s1)*x_1_2*x_3_2 + 313360254162594683*(s0//s1)*x_1_2 - 4065677199907116207*(s0//s1)*x_2_2^2 - 693109826571187770*(s0//s1)*x_2_2*x_3_2 - 2132988849168723905*(s0//s1)*x_2_2 + 4247854088754075259*(s0//s1)*x_3_2^2 + 100671896253054256*(s0//s1)*x_3_2 - 7656511896348647417*(s0//s1) - (s1//s2), -(s0//s1)*x_4_2 + (s1//s2)^2, -(s0//s1)*x_5_2 + (s0//s2)*(s1//s2), -(s0//s1)*x_4_2 + (s0//s1)*x_5_2, 6287793440977395190*(s0//s1)*x_1_2^2 - 5641156930860625119*(s0//s1)*x_1_2*x_2_2 + 1115622603246118542*(s0//s1)*x_1_2*x_3_2 + 313360254162594683*(s0//s1)*x_1_2 - 4065677199907116207*(s0//s1)*x_2_2^2 - 693109826571187770*(s0//s1)*x_2_2*x_3_2 - 2132988849168723905*(s0//s1)*x_2_2 + 4247854088754075259*(s0//s1)*x_3_2^2 + 100671896253054256*(s0//s1)*x_3_2 - 7656511896348647417*(s0//s1) - (s0//s2), -(s0//s1)*x_5_2 + (s0//s2)^2, -(s0//s1)*(s1//s2) + (s0//s1)*(s0//s2), 6287793440977395190*(s0//s1)*x_1_2^2 - 5641156930860625119*(s0//s1)*x_1_2*x_2_2 + 1115622603246118542*(s0//s1)*x_1_2*x_3_2 + 313360254162594683*(s0//s1)*x_1_2 - 4065677199907116207*(s0//s1)*x_2_2^2 - 693109826571187770*(s0//s1)*x_2_2*x_3_2 - 2132988849168723905*(s0//s1)*x_2_2 + 4247854088754075259*(s0//s1)*x_3_2^2 + 100671896253054256*(s0//s1)*x_3_2 - 7656511896348647417*(s0//s1) - (s0//s1), -(s0//s1)*x_4_2 + (s0//s1)*(s1//s2), -(s0//s1)*x_5_2 + (s0//s1)*(s1//s2), -(s0//s1)*(s1//s2) + (s0//s1)^2, -(s0//s1)*(s0//s2) + (s0//s1)*(s0//s1), -(s1//s0)*x_5_2 + (s1//s2), -(s1//s0)*(s0//s2) + (s0//s1), -(s1//s0)*(s0//s1) + (s0//s1), 6287793440977395190*(s1//s0)*x_1_2^2*x_5_2 - 5641156930860625119*(s1//s0)*x_1_2*x_2_2*x_5_2 + 1115622603246118542*(s1//s0)*x_1_2*x_3_2*x_5_2 + 313360254162594683*(s1//s0)*x_1_2*x_5_2 - 4065677199907116207*(s1//s0)*x_2_2^2*x_5_2 - 693109826571187770*(s1//s0)*x_2_2*x_3_2*x_5_2 - 2132988849168723905*(s1//s0)*x_2_2*x_5_2 + 4247854088754075259*(s1//s0)*x_3_2^2*x_5_2 + 100671896253054256*(s1//s0)*x_3_2*x_5_2 - 7656511896348647417*(s1//s0)*x_5_2 - x_4_2)\n",
       "    20: scheme((s0//s2)*x_4_2 - (s1//s2)*x_5_2, 6287793440977395190*(s1//s2)*x_1_2^2 - 5641156930860625119*(s1//s2)*x_1_2*x_2_2 + 1115622603246118542*(s1//s2)*x_1_2*x_3_2 + 313360254162594683*(s1//s2)*x_1_2 - 4065677199907116207*(s1//s2)*x_2_2^2 - 693109826571187770*(s1//s2)*x_2_2*x_3_2 - 2132988849168723905*(s1//s2)*x_2_2 + 4247854088754075259*(s1//s2)*x_3_2^2 + 100671896253054256*(s1//s2)*x_3_2 - 7656511896348647417*(s1//s2) - x_4_2, 6287793440977395190*(s0//s2)*x_1_2^2 - 5641156930860625119*(s0//s2)*x_1_2*x_2_2 + 1115622603246118542*(s0//s2)*x_1_2*x_3_2 + 313360254162594683*(s0//s2)*x_1_2 - 4065677199907116207*(s0//s2)*x_2_2^2 - 693109826571187770*(s0//s2)*x_2_2*x_3_2 - 2132988849168723905*(s0//s2)*x_2_2 + 4247854088754075259*(s0//s2)*x_3_2^2 + 100671896253054256*(s0//s2)*x_3_2 - 7656511896348647417*(s0//s2) - x_5_2, 6287793440977395190*(s0//s1)*x_1_2^2 - 5641156930860625119*(s0//s1)*x_1_2*x_2_2 + 1115622603246118542*(s0//s1)*x_1_2*x_3_2 + 313360254162594683*(s0//s1)*x_1_2 - 4065677199907116207*(s0//s1)*x_2_2^2 - 693109826571187770*(s0//s1)*x_2_2*x_3_2 - 2132988849168723905*(s0//s1)*x_2_2 + 4247854088754075259*(s0//s1)*x_3_2^2 + 100671896253054256*(s0//s1)*x_3_2 - 7656511896348647417*(s0//s1) - (s1//s2), -(s0//s1)*x_4_2 + (s1//s2)^2, -(s0//s1)*x_5_2 + (s0//s2)*(s1//s2), -(s0//s1)*x_4_2 + (s0//s1)*x_5_2, 6287793440977395190*(s0//s1)*x_1_2^2 - 5641156930860625119*(s0//s1)*x_1_2*x_2_2 + 1115622603246118542*(s0//s1)*x_1_2*x_3_2 + 313360254162594683*(s0//s1)*x_1_2 - 4065677199907116207*(s0//s1)*x_2_2^2 - 693109826571187770*(s0//s1)*x_2_2*x_3_2 - 2132988849168723905*(s0//s1)*x_2_2 + 4247854088754075259*(s0//s1)*x_3_2^2 + 100671896253054256*(s0//s1)*x_3_2 - 7656511896348647417*(s0//s1) - (s0//s2), -(s0//s1)*x_5_2 + (s0//s2)^2, -(s0//s1)*(s1//s2) + (s0//s1)*(s0//s2), 6287793440977395190*(s0//s1)*x_1_2^2 - 5641156930860625119*(s0//s1)*x_1_2*x_2_2 + 1115622603246118542*(s0//s1)*x_1_2*x_3_2 + 313360254162594683*(s0//s1)*x_1_2 - 4065677199907116207*(s0//s1)*x_2_2^2 - 693109826571187770*(s0//s1)*x_2_2*x_3_2 - 2132988849168723905*(s0//s1)*x_2_2 + 4247854088754075259*(s0//s1)*x_3_2^2 + 100671896253054256*(s0//s1)*x_3_2 - 7656511896348647417*(s0//s1) - (s0//s1), -(s0//s1)*x_4_2 + (s0//s1)*(s1//s2), -(s0//s1)*x_5_2 + (s0//s1)*(s1//s2), -(s0//s1)*(s1//s2) + (s0//s1)^2, -(s0//s1)*(s0//s2) + (s0//s1)*(s0//s1), (s0//s1)*(s1//s2) - x_5_2, (s0//s1)*(s0//s1) - (s0//s2), (s0//s1)*(s0//s1) - (s0//s1), -(s0//s1)*x_4_2 + 6287793440977395190*x_1_2^2*x_5_2 - 5641156930860625119*x_1_2*x_2_2*x_5_2 + 1115622603246118542*x_1_2*x_3_2*x_5_2 + 313360254162594683*x_1_2*x_5_2 - 4065677199907116207*x_2_2^2*x_5_2 - 693109826571187770*x_2_2*x_3_2*x_5_2 - 2132988849168723905*x_2_2*x_5_2 + 4247854088754075259*x_3_2^2*x_5_2 + 100671896253054256*x_3_2*x_5_2 - 7656511896348647417*x_5_2)\n",
       "    21: scheme(-(s1//s0)*x_5_3 + x_4_3, 7656511896348647417*(s1//s0)*x_1_3^2 - 313360254162594683*(s1//s0)*x_1_3*x_2_3 - 100671896253054256*(s1//s0)*x_1_3*x_3_3 + 2132988849168723905*(s1//s0)*x_1_3 - 6287793440977395190*(s1//s0)*x_2_3^2 - 1115622603246118542*(s1//s0)*x_2_3*x_3_3 + 5641156930860625119*(s1//s0)*x_2_3 - 4247854088754075259*(s1//s0)*x_3_3^2 + 693109826571187770*(s1//s0)*x_3_3 + 4065677199907116207*(s1//s0) - (s2//s0)*x_4_3, -(s2//s0)*x_5_3 + 7656511896348647417*x_1_3^2 - 313360254162594683*x_1_3*x_2_3 - 100671896253054256*x_1_3*x_3_3 + 2132988849168723905*x_1_3 - 6287793440977395190*x_2_3^2 - 1115622603246118542*x_2_3*x_3_3 + 5641156930860625119*x_2_3 - 4247854088754075259*x_3_3^2 + 693109826571187770*x_3_3 + 4065677199907116207, (s1//s0)*(s1//s0) - x_5_3, -(s1//s0)*x_4_3 + x_5_3^2)\n",
       "    22: scheme(-(s1//s0)*x_5_3 + x_4_3, 7656511896348647417*(s1//s0)*x_1_3^2 - 313360254162594683*(s1//s0)*x_1_3*x_2_3 - 100671896253054256*(s1//s0)*x_1_3*x_3_3 + 2132988849168723905*(s1//s0)*x_1_3 - 6287793440977395190*(s1//s0)*x_2_3^2 - 1115622603246118542*(s1//s0)*x_2_3*x_3_3 + 5641156930860625119*(s1//s0)*x_2_3 - 4247854088754075259*(s1//s0)*x_3_3^2 + 693109826571187770*(s1//s0)*x_3_3 + 4065677199907116207*(s1//s0) - (s2//s0)*x_4_3, -(s2//s0)*x_5_3 + 7656511896348647417*x_1_3^2 - 313360254162594683*x_1_3*x_2_3 - 100671896253054256*x_1_3*x_3_3 + 2132988849168723905*x_1_3 - 6287793440977395190*x_2_3^2 - 1115622603246118542*x_2_3*x_3_3 + 5641156930860625119*x_2_3 - 4247854088754075259*x_3_3^2 + 693109826571187770*x_3_3 + 4065677199907116207, -(s0//s1)*x_5_3 + (s1//s0), (s0//s1)*x_5_3^2 - x_4_3)\n",
       "    23: scheme((s0//s1)*x_4_3 - x_5_3, -(s2//s1)*x_4_3 + 7656511896348647417*x_1_3^2 - 313360254162594683*x_1_3*x_2_3 - 100671896253054256*x_1_3*x_3_3 + 2132988849168723905*x_1_3 - 6287793440977395190*x_2_3^2 - 1115622603246118542*x_2_3*x_3_3 + 5641156930860625119*x_2_3 - 4247854088754075259*x_3_3^2 + 693109826571187770*x_3_3 + 4065677199907116207, 7656511896348647417*(s0//s1)*x_1_3^2 - 313360254162594683*(s0//s1)*x_1_3*x_2_3 - 100671896253054256*(s0//s1)*x_1_3*x_3_3 + 2132988849168723905*(s0//s1)*x_1_3 - 6287793440977395190*(s0//s1)*x_2_3^2 - 1115622603246118542*(s0//s1)*x_2_3*x_3_3 + 5641156930860625119*(s0//s1)*x_2_3 - 4247854088754075259*(s0//s1)*x_3_3^2 + 693109826571187770*(s0//s1)*x_3_3 + 4065677199907116207*(s0//s1) - (s2//s1)*x_5_3)\n",
       "    24: scheme((s0//s2)*x_4_3 - (s1//s2)*x_5_3, 7656511896348647417*(s1//s2)*x_1_3^2 - 313360254162594683*(s1//s2)*x_1_3*x_2_3 - 100671896253054256*(s1//s2)*x_1_3*x_3_3 + 2132988849168723905*(s1//s2)*x_1_3 - 6287793440977395190*(s1//s2)*x_2_3^2 - 1115622603246118542*(s1//s2)*x_2_3*x_3_3 + 5641156930860625119*(s1//s2)*x_2_3 - 4247854088754075259*(s1//s2)*x_3_3^2 + 693109826571187770*(s1//s2)*x_3_3 + 4065677199907116207*(s1//s2) - x_4_3, 7656511896348647417*(s0//s2)*x_1_3^2 - 313360254162594683*(s0//s2)*x_1_3*x_2_3 - 100671896253054256*(s0//s2)*x_1_3*x_3_3 + 2132988849168723905*(s0//s2)*x_1_3 - 6287793440977395190*(s0//s2)*x_2_3^2 - 1115622603246118542*(s0//s2)*x_2_3*x_3_3 + 5641156930860625119*(s0//s2)*x_2_3 - 4247854088754075259*(s0//s2)*x_3_3^2 + 693109826571187770*(s0//s2)*x_3_3 + 4065677199907116207*(s0//s2) - x_5_3, -(s1//s0)*(s1//s2) + 7656511896348647417*x_1_3^2 - 313360254162594683*x_1_3*x_2_3 - 100671896253054256*x_1_3*x_3_3 + 2132988849168723905*x_1_3 - 6287793440977395190*x_2_3^2 - 1115622603246118542*x_2_3*x_3_3 + 5641156930860625119*x_2_3 - 4247854088754075259*x_3_3^2 + 693109826571187770*x_3_3 + 4065677199907116207, (s1//s0)*(s1//s2)^2 - x_4_3, (s1//s0)*(s0//s2)*(s1//s2) - x_5_3, -(s1//s0)*x_5_3 + x_4_3, (s1//s0)*(s0//s2) - (s1//s2))\n",
       "    25: scheme((s0//s2)*x_4_3 - (s1//s2)*x_5_3, 7656511896348647417*(s1//s2)*x_1_3^2 - 313360254162594683*(s1//s2)*x_1_3*x_2_3 - 100671896253054256*(s1//s2)*x_1_3*x_3_3 + 2132988849168723905*(s1//s2)*x_1_3 - 6287793440977395190*(s1//s2)*x_2_3^2 - 1115622603246118542*(s1//s2)*x_2_3*x_3_3 + 5641156930860625119*(s1//s2)*x_2_3 - 4247854088754075259*(s1//s2)*x_3_3^2 + 693109826571187770*(s1//s2)*x_3_3 + 4065677199907116207*(s1//s2) - x_4_3, 7656511896348647417*(s0//s2)*x_1_3^2 - 313360254162594683*(s0//s2)*x_1_3*x_2_3 - 100671896253054256*(s0//s2)*x_1_3*x_3_3 + 2132988849168723905*(s0//s2)*x_1_3 - 6287793440977395190*(s0//s2)*x_2_3^2 - 1115622603246118542*(s0//s2)*x_2_3*x_3_3 + 5641156930860625119*(s0//s2)*x_2_3 - 4247854088754075259*(s0//s2)*x_3_3^2 + 693109826571187770*(s0//s2)*x_3_3 + 4065677199907116207*(s0//s2) - x_5_3, -(s1//s0)*(s1//s2) + 7656511896348647417*x_1_3^2 - 313360254162594683*x_1_3*x_2_3 - 100671896253054256*x_1_3*x_3_3 + 2132988849168723905*x_1_3 - 6287793440977395190*x_2_3^2 - 1115622603246118542*x_2_3*x_3_3 + 5641156930860625119*x_2_3 - 4247854088754075259*x_3_3^2 + 693109826571187770*x_3_3 + 4065677199907116207, (s1//s0)*(s1//s2)^2 - x_4_3, (s1//s0)*(s0//s2)*(s1//s2) - x_5_3, (s0//s1)*x_4_3 - x_5_3, -(s0//s1)*(s1//s2) + (s0//s2))\n",
       "    26: scheme((s0//s2)*x_4_3 - (s1//s2)*x_5_3, 7656511896348647417*(s1//s2)*x_1_3^2 - 313360254162594683*(s1//s2)*x_1_3*x_2_3 - 100671896253054256*(s1//s2)*x_1_3*x_3_3 + 2132988849168723905*(s1//s2)*x_1_3 - 6287793440977395190*(s1//s2)*x_2_3^2 - 1115622603246118542*(s1//s2)*x_2_3*x_3_3 + 5641156930860625119*(s1//s2)*x_2_3 - 4247854088754075259*(s1//s2)*x_3_3^2 + 693109826571187770*(s1//s2)*x_3_3 + 4065677199907116207*(s1//s2) - x_4_3, 7656511896348647417*(s0//s2)*x_1_3^2 - 313360254162594683*(s0//s2)*x_1_3*x_2_3 - 100671896253054256*(s0//s2)*x_1_3*x_3_3 + 2132988849168723905*(s0//s2)*x_1_3 - 6287793440977395190*(s0//s2)*x_2_3^2 - 1115622603246118542*(s0//s2)*x_2_3*x_3_3 + 5641156930860625119*(s0//s2)*x_2_3 - 4247854088754075259*(s0//s2)*x_3_3^2 + 693109826571187770*(s0//s2)*x_3_3 + 4065677199907116207*(s0//s2) - x_5_3, 7656511896348647417*(s0//s1)*x_1_3^2 - 313360254162594683*(s0//s1)*x_1_3*x_2_3 - 100671896253054256*(s0//s1)*x_1_3*x_3_3 + 2132988849168723905*(s0//s1)*x_1_3 - 6287793440977395190*(s0//s1)*x_2_3^2 - 1115622603246118542*(s0//s1)*x_2_3*x_3_3 + 5641156930860625119*(s0//s1)*x_2_3 - 4247854088754075259*(s0//s1)*x_3_3^2 + 693109826571187770*(s0//s1)*x_3_3 + 4065677199907116207*(s0//s1) - (s1//s2), -(s0//s1)*x_4_3 + (s1//s2)^2, -(s0//s1)*x_5_3 + (s0//s2)*(s1//s2), (s1//s0)*(s0//s1)*x_5_3 - x_4_3, -(s1//s0)*(s0//s2) + 7656511896348647417*x_1_3^2 - 313360254162594683*x_1_3*x_2_3 - 100671896253054256*x_1_3*x_3_3 + 2132988849168723905*x_1_3 - 6287793440977395190*x_2_3^2 - 1115622603246118542*x_2_3*x_3_3 + 5641156930860625119*x_2_3 - 4247854088754075259*x_3_3^2 + 693109826571187770*x_3_3 + 4065677199907116207, (s1//s0)*(s0//s2)^2 - x_5_3, (s1//s0)*(s0//s1)*(s0//s2) - (s1//s2), (s1//s0)*(s1//s2) - x_5_3, (s1//s0)*(s0//s1) - (s0//s2), -(s1//s0)*x_4_3 + 7656511896348647417*x_1_3^2*x_5_3 - 313360254162594683*x_1_3*x_2_3*x_5_3 - 100671896253054256*x_1_3*x_3_3*x_5_3 + 2132988849168723905*x_1_3*x_5_3 - 6287793440977395190*x_2_3^2*x_5_3 - 1115622603246118542*x_2_3*x_3_3*x_5_3 + 5641156930860625119*x_2_3*x_5_3 - 4247854088754075259*x_3_3^2*x_5_3 + 693109826571187770*x_3_3*x_5_3 + 4065677199907116207*x_5_3, -(s1//s0)*x_4_3^2 + (s1//s0)*(s1//s2)*x_5_3^2, -(s1//s0)^2*x_4_3^2 + (s1//s0)*x_5_3^3)\n",
       "    27: scheme((s0//s2)*x_4_3 - (s1//s2)*x_5_3, 7656511896348647417*(s1//s2)*x_1_3^2 - 313360254162594683*(s1//s2)*x_1_3*x_2_3 - 100671896253054256*(s1//s2)*x_1_3*x_3_3 + 2132988849168723905*(s1//s2)*x_1_3 - 6287793440977395190*(s1//s2)*x_2_3^2 - 1115622603246118542*(s1//s2)*x_2_3*x_3_3 + 5641156930860625119*(s1//s2)*x_2_3 - 4247854088754075259*(s1//s2)*x_3_3^2 + 693109826571187770*(s1//s2)*x_3_3 + 4065677199907116207*(s1//s2) - x_4_3, 7656511896348647417*(s0//s2)*x_1_3^2 - 313360254162594683*(s0//s2)*x_1_3*x_2_3 - 100671896253054256*(s0//s2)*x_1_3*x_3_3 + 2132988849168723905*(s0//s2)*x_1_3 - 6287793440977395190*(s0//s2)*x_2_3^2 - 1115622603246118542*(s0//s2)*x_2_3*x_3_3 + 5641156930860625119*(s0//s2)*x_2_3 - 4247854088754075259*(s0//s2)*x_3_3^2 + 693109826571187770*(s0//s2)*x_3_3 + 4065677199907116207*(s0//s2) - x_5_3, 7656511896348647417*(s0//s1)*x_1_3^2 - 313360254162594683*(s0//s1)*x_1_3*x_2_3 - 100671896253054256*(s0//s1)*x_1_3*x_3_3 + 2132988849168723905*(s0//s1)*x_1_3 - 6287793440977395190*(s0//s1)*x_2_3^2 - 1115622603246118542*(s0//s1)*x_2_3*x_3_3 + 5641156930860625119*(s0//s1)*x_2_3 - 4247854088754075259*(s0//s1)*x_3_3^2 + 693109826571187770*(s0//s1)*x_3_3 + 4065677199907116207*(s0//s1) - (s1//s2), -(s0//s1)*x_4_3 + (s1//s2)^2, -(s0//s1)*x_5_3 + (s0//s2)*(s1//s2), (s1//s0)*(s0//s1)*x_5_3 - x_4_3, -(s1//s0)*(s0//s2) + 7656511896348647417*x_1_3^2 - 313360254162594683*x_1_3*x_2_3 - 100671896253054256*x_1_3*x_3_3 + 2132988849168723905*x_1_3 - 6287793440977395190*x_2_3^2 - 1115622603246118542*x_2_3*x_3_3 + 5641156930860625119*x_2_3 - 4247854088754075259*x_3_3^2 + 693109826571187770*x_3_3 + 4065677199907116207, (s1//s0)*(s0//s2)^2 - x_5_3, (s1//s0)*(s0//s1)*(s0//s2) - (s1//s2), -(s0//s1)*x_5_3 + (s1//s2), -(s0//s1)*(s0//s2) + (s0//s1), 7656511896348647417*(s0//s1)*x_1_3^2*x_5_3 - 313360254162594683*(s0//s1)*x_1_3*x_2_3*x_5_3 - 100671896253054256*(s0//s1)*x_1_3*x_3_3*x_5_3 + 2132988849168723905*(s0//s1)*x_1_3*x_5_3 - 6287793440977395190*(s0//s1)*x_2_3^2*x_5_3 - 1115622603246118542*(s0//s1)*x_2_3*x_3_3*x_5_3 + 5641156930860625119*(s0//s1)*x_2_3*x_5_3 - 4247854088754075259*(s0//s1)*x_3_3^2*x_5_3 + 693109826571187770*(s0//s1)*x_3_3*x_5_3 + 4065677199907116207*(s0//s1)*x_5_3 - x_4_3, (s0//s1)*(s1//s0)*(s1//s2)*x_5_3^2 - x_4_3^2, (s0//s1)^2*(s1//s0)*x_5_3^3 - x_4_3^2)\n",
       "    28: scheme((s0//s2)*x_4_3 - (s1//s2)*x_5_3, 7656511896348647417*(s1//s2)*x_1_3^2 - 313360254162594683*(s1//s2)*x_1_3*x_2_3 - 100671896253054256*(s1//s2)*x_1_3*x_3_3 + 2132988849168723905*(s1//s2)*x_1_3 - 6287793440977395190*(s1//s2)*x_2_3^2 - 1115622603246118542*(s1//s2)*x_2_3*x_3_3 + 5641156930860625119*(s1//s2)*x_2_3 - 4247854088754075259*(s1//s2)*x_3_3^2 + 693109826571187770*(s1//s2)*x_3_3 + 4065677199907116207*(s1//s2) - x_4_3, 7656511896348647417*(s0//s2)*x_1_3^2 - 313360254162594683*(s0//s2)*x_1_3*x_2_3 - 100671896253054256*(s0//s2)*x_1_3*x_3_3 + 2132988849168723905*(s0//s2)*x_1_3 - 6287793440977395190*(s0//s2)*x_2_3^2 - 1115622603246118542*(s0//s2)*x_2_3*x_3_3 + 5641156930860625119*(s0//s2)*x_2_3 - 4247854088754075259*(s0//s2)*x_3_3^2 + 693109826571187770*(s0//s2)*x_3_3 + 4065677199907116207*(s0//s2) - x_5_3, 7656511896348647417*(s0//s1)*x_1_3^2 - 313360254162594683*(s0//s1)*x_1_3*x_2_3 - 100671896253054256*(s0//s1)*x_1_3*x_3_3 + 2132988849168723905*(s0//s1)*x_1_3 - 6287793440977395190*(s0//s1)*x_2_3^2 - 1115622603246118542*(s0//s1)*x_2_3*x_3_3 + 5641156930860625119*(s0//s1)*x_2_3 - 4247854088754075259*(s0//s1)*x_3_3^2 + 693109826571187770*(s0//s1)*x_3_3 + 4065677199907116207*(s0//s1) - (s1//s2), -(s0//s1)*x_4_3 + (s1//s2)^2, -(s0//s1)*x_5_3 + (s0//s2)*(s1//s2), -(s0//s1)*x_4_3 + (s0//s1)*x_5_3, 7656511896348647417*(s0//s1)*x_1_3^2 - 313360254162594683*(s0//s1)*x_1_3*x_2_3 - 100671896253054256*(s0//s1)*x_1_3*x_3_3 + 2132988849168723905*(s0//s1)*x_1_3 - 6287793440977395190*(s0//s1)*x_2_3^2 - 1115622603246118542*(s0//s1)*x_2_3*x_3_3 + 5641156930860625119*(s0//s1)*x_2_3 - 4247854088754075259*(s0//s1)*x_3_3^2 + 693109826571187770*(s0//s1)*x_3_3 + 4065677199907116207*(s0//s1) - (s0//s2), -(s0//s1)*x_5_3 + (s0//s2)^2, -(s0//s1)*(s1//s2) + (s0//s1)*(s0//s2), -(s1//s0)*(s0//s1) + 7656511896348647417*x_1_3^2 - 313360254162594683*x_1_3*x_2_3 - 100671896253054256*x_1_3*x_3_3 + 2132988849168723905*x_1_3 - 6287793440977395190*x_2_3^2 - 1115622603246118542*x_2_3*x_3_3 + 5641156930860625119*x_2_3 - 4247854088754075259*x_3_3^2 + 693109826571187770*x_3_3 + 4065677199907116207, (s1//s0)*(s0//s1)*(s1//s2) - x_4_3, (s1//s0)*(s0//s1)*(s1//s2) - x_5_3, (s1//s0)*(s0//s1)^2 - (s1//s2), (s1//s0)*(s0//s1)*(s0//s1) - (s0//s2))\n",
       "    29: scheme((s0//s2)*x_4_3 - (s1//s2)*x_5_3, 7656511896348647417*(s1//s2)*x_1_3^2 - 313360254162594683*(s1//s2)*x_1_3*x_2_3 - 100671896253054256*(s1//s2)*x_1_3*x_3_3 + 2132988849168723905*(s1//s2)*x_1_3 - 6287793440977395190*(s1//s2)*x_2_3^2 - 1115622603246118542*(s1//s2)*x_2_3*x_3_3 + 5641156930860625119*(s1//s2)*x_2_3 - 4247854088754075259*(s1//s2)*x_3_3^2 + 693109826571187770*(s1//s2)*x_3_3 + 4065677199907116207*(s1//s2) - x_4_3, 7656511896348647417*(s0//s2)*x_1_3^2 - 313360254162594683*(s0//s2)*x_1_3*x_2_3 - 100671896253054256*(s0//s2)*x_1_3*x_3_3 + 2132988849168723905*(s0//s2)*x_1_3 - 6287793440977395190*(s0//s2)*x_2_3^2 - 1115622603246118542*(s0//s2)*x_2_3*x_3_3 + 5641156930860625119*(s0//s2)*x_2_3 - 4247854088754075259*(s0//s2)*x_3_3^2 + 693109826571187770*(s0//s2)*x_3_3 + 4065677199907116207*(s0//s2) - x_5_3, 7656511896348647417*(s0//s1)*x_1_3^2 - 313360254162594683*(s0//s1)*x_1_3*x_2_3 - 100671896253054256*(s0//s1)*x_1_3*x_3_3 + 2132988849168723905*(s0//s1)*x_1_3 - 6287793440977395190*(s0//s1)*x_2_3^2 - 1115622603246118542*(s0//s1)*x_2_3*x_3_3 + 5641156930860625119*(s0//s1)*x_2_3 - 4247854088754075259*(s0//s1)*x_3_3^2 + 693109826571187770*(s0//s1)*x_3_3 + 4065677199907116207*(s0//s1) - (s1//s2), -(s0//s1)*x_4_3 + (s1//s2)^2, -(s0//s1)*x_5_3 + (s0//s2)*(s1//s2), -(s0//s1)*x_4_3 + (s0//s1)*x_5_3, 7656511896348647417*(s0//s1)*x_1_3^2 - 313360254162594683*(s0//s1)*x_1_3*x_2_3 - 100671896253054256*(s0//s1)*x_1_3*x_3_3 + 2132988849168723905*(s0//s1)*x_1_3 - 6287793440977395190*(s0//s1)*x_2_3^2 - 1115622603246118542*(s0//s1)*x_2_3*x_3_3 + 5641156930860625119*(s0//s1)*x_2_3 - 4247854088754075259*(s0//s1)*x_3_3^2 + 693109826571187770*(s0//s1)*x_3_3 + 4065677199907116207*(s0//s1) - (s0//s2), -(s0//s1)*x_5_3 + (s0//s2)^2, -(s0//s1)*(s1//s2) + (s0//s1)*(s0//s2), 7656511896348647417*(s0//s1)*x_1_3^2 - 313360254162594683*(s0//s1)*x_1_3*x_2_3 - 100671896253054256*(s0//s1)*x_1_3*x_3_3 + 2132988849168723905*(s0//s1)*x_1_3 - 6287793440977395190*(s0//s1)*x_2_3^2 - 1115622603246118542*(s0//s1)*x_2_3*x_3_3 + 5641156930860625119*(s0//s1)*x_2_3 - 4247854088754075259*(s0//s1)*x_3_3^2 + 693109826571187770*(s0//s1)*x_3_3 + 4065677199907116207*(s0//s1) - (s0//s1), -(s0//s1)*x_4_3 + (s0//s1)*(s1//s2), -(s0//s1)*x_5_3 + (s0//s1)*(s1//s2), -(s0//s1)*(s1//s2) + (s0//s1)^2, -(s0//s1)*(s0//s2) + (s0//s1)*(s0//s1), -(s1//s0)*x_5_3 + (s1//s2), -(s1//s0)*(s0//s2) + (s0//s1), -(s1//s0)*(s0//s1) + (s0//s1), 7656511896348647417*(s1//s0)*x_1_3^2*x_5_3 - 313360254162594683*(s1//s0)*x_1_3*x_2_3*x_5_3 - 100671896253054256*(s1//s0)*x_1_3*x_3_3*x_5_3 + 2132988849168723905*(s1//s0)*x_1_3*x_5_3 - 6287793440977395190*(s1//s0)*x_2_3^2*x_5_3 - 1115622603246118542*(s1//s0)*x_2_3*x_3_3*x_5_3 + 5641156930860625119*(s1//s0)*x_2_3*x_5_3 - 4247854088754075259*(s1//s0)*x_3_3^2*x_5_3 + 693109826571187770*(s1//s0)*x_3_3*x_5_3 + 4065677199907116207*(s1//s0)*x_5_3 - x_4_3)\n",
       "    30: scheme((s0//s2)*x_4_3 - (s1//s2)*x_5_3, 7656511896348647417*(s1//s2)*x_1_3^2 - 313360254162594683*(s1//s2)*x_1_3*x_2_3 - 100671896253054256*(s1//s2)*x_1_3*x_3_3 + 2132988849168723905*(s1//s2)*x_1_3 - 6287793440977395190*(s1//s2)*x_2_3^2 - 1115622603246118542*(s1//s2)*x_2_3*x_3_3 + 5641156930860625119*(s1//s2)*x_2_3 - 4247854088754075259*(s1//s2)*x_3_3^2 + 693109826571187770*(s1//s2)*x_3_3 + 4065677199907116207*(s1//s2) - x_4_3, 7656511896348647417*(s0//s2)*x_1_3^2 - 313360254162594683*(s0//s2)*x_1_3*x_2_3 - 100671896253054256*(s0//s2)*x_1_3*x_3_3 + 2132988849168723905*(s0//s2)*x_1_3 - 6287793440977395190*(s0//s2)*x_2_3^2 - 1115622603246118542*(s0//s2)*x_2_3*x_3_3 + 5641156930860625119*(s0//s2)*x_2_3 - 4247854088754075259*(s0//s2)*x_3_3^2 + 693109826571187770*(s0//s2)*x_3_3 + 4065677199907116207*(s0//s2) - x_5_3, 7656511896348647417*(s0//s1)*x_1_3^2 - 313360254162594683*(s0//s1)*x_1_3*x_2_3 - 100671896253054256*(s0//s1)*x_1_3*x_3_3 + 2132988849168723905*(s0//s1)*x_1_3 - 6287793440977395190*(s0//s1)*x_2_3^2 - 1115622603246118542*(s0//s1)*x_2_3*x_3_3 + 5641156930860625119*(s0//s1)*x_2_3 - 4247854088754075259*(s0//s1)*x_3_3^2 + 693109826571187770*(s0//s1)*x_3_3 + 4065677199907116207*(s0//s1) - (s1//s2), -(s0//s1)*x_4_3 + (s1//s2)^2, -(s0//s1)*x_5_3 + (s0//s2)*(s1//s2), -(s0//s1)*x_4_3 + (s0//s1)*x_5_3, 7656511896348647417*(s0//s1)*x_1_3^2 - 313360254162594683*(s0//s1)*x_1_3*x_2_3 - 100671896253054256*(s0//s1)*x_1_3*x_3_3 + 2132988849168723905*(s0//s1)*x_1_3 - 6287793440977395190*(s0//s1)*x_2_3^2 - 1115622603246118542*(s0//s1)*x_2_3*x_3_3 + 5641156930860625119*(s0//s1)*x_2_3 - 4247854088754075259*(s0//s1)*x_3_3^2 + 693109826571187770*(s0//s1)*x_3_3 + 4065677199907116207*(s0//s1) - (s0//s2), -(s0//s1)*x_5_3 + (s0//s2)^2, -(s0//s1)*(s1//s2) + (s0//s1)*(s0//s2), 7656511896348647417*(s0//s1)*x_1_3^2 - 313360254162594683*(s0//s1)*x_1_3*x_2_3 - 100671896253054256*(s0//s1)*x_1_3*x_3_3 + 2132988849168723905*(s0//s1)*x_1_3 - 6287793440977395190*(s0//s1)*x_2_3^2 - 1115622603246118542*(s0//s1)*x_2_3*x_3_3 + 5641156930860625119*(s0//s1)*x_2_3 - 4247854088754075259*(s0//s1)*x_3_3^2 + 693109826571187770*(s0//s1)*x_3_3 + 4065677199907116207*(s0//s1) - (s0//s1), -(s0//s1)*x_4_3 + (s0//s1)*(s1//s2), -(s0//s1)*x_5_3 + (s0//s1)*(s1//s2), -(s0//s1)*(s1//s2) + (s0//s1)^2, -(s0//s1)*(s0//s2) + (s0//s1)*(s0//s1), (s0//s1)*(s1//s2) - x_5_3, (s0//s1)*(s0//s1) - (s0//s2), (s0//s1)*(s0//s1) - (s0//s1), -(s0//s1)*x_4_3 + 7656511896348647417*x_1_3^2*x_5_3 - 313360254162594683*x_1_3*x_2_3*x_5_3 - 100671896253054256*x_1_3*x_3_3*x_5_3 + 2132988849168723905*x_1_3*x_5_3 - 6287793440977395190*x_2_3^2*x_5_3 - 1115622603246118542*x_2_3*x_3_3*x_5_3 + 5641156930860625119*x_2_3*x_5_3 - 4247854088754075259*x_3_3^2*x_5_3 + 693109826571187770*x_3_3*x_5_3 + 4065677199907116207*x_5_3)\n",
       "    31: scheme(-(s1//s0)*x_5_4 + x_4_4, 7656511896348647417*(s1//s0)*x_1_4^2 + 2132988849168723905*(s1//s0)*x_1_4*x_2_4 - 313360254162594683*(s1//s0)*x_1_4*x_3_4 - 100671896253054256*(s1//s0)*x_1_4 + 4065677199907116207*(s1//s0)*x_2_4^2 + 5641156930860625119*(s1//s0)*x_2_4*x_3_4 + 693109826571187770*(s1//s0)*x_2_4 - 6287793440977395190*(s1//s0)*x_3_4^2 - 1115622603246118542*(s1//s0)*x_3_4 - 4247854088754075259*(s1//s0) - (s2//s0)*x_4_4, -(s2//s0)*x_5_4 + 7656511896348647417*x_1_4^2 + 2132988849168723905*x_1_4*x_2_4 - 313360254162594683*x_1_4*x_3_4 - 100671896253054256*x_1_4 + 4065677199907116207*x_2_4^2 + 5641156930860625119*x_2_4*x_3_4 + 693109826571187770*x_2_4 - 6287793440977395190*x_3_4^2 - 1115622603246118542*x_3_4 - 4247854088754075259, (s1//s0)*(s1//s0) - x_5_4, -(s1//s0)*x_4_4 + x_5_4^2)\n",
       "    32: scheme(-(s1//s0)*x_5_4 + x_4_4, 7656511896348647417*(s1//s0)*x_1_4^2 + 2132988849168723905*(s1//s0)*x_1_4*x_2_4 - 313360254162594683*(s1//s0)*x_1_4*x_3_4 - 100671896253054256*(s1//s0)*x_1_4 + 4065677199907116207*(s1//s0)*x_2_4^2 + 5641156930860625119*(s1//s0)*x_2_4*x_3_4 + 693109826571187770*(s1//s0)*x_2_4 - 6287793440977395190*(s1//s0)*x_3_4^2 - 1115622603246118542*(s1//s0)*x_3_4 - 4247854088754075259*(s1//s0) - (s2//s0)*x_4_4, -(s2//s0)*x_5_4 + 7656511896348647417*x_1_4^2 + 2132988849168723905*x_1_4*x_2_4 - 313360254162594683*x_1_4*x_3_4 - 100671896253054256*x_1_4 + 4065677199907116207*x_2_4^2 + 5641156930860625119*x_2_4*x_3_4 + 693109826571187770*x_2_4 - 6287793440977395190*x_3_4^2 - 1115622603246118542*x_3_4 - 4247854088754075259, -(s0//s1)*x_5_4 + (s1//s0), (s0//s1)*x_5_4^2 - x_4_4)\n",
       "    33: scheme((s0//s1)*x_4_4 - x_5_4, -(s2//s1)*x_4_4 + 7656511896348647417*x_1_4^2 + 2132988849168723905*x_1_4*x_2_4 - 313360254162594683*x_1_4*x_3_4 - 100671896253054256*x_1_4 + 4065677199907116207*x_2_4^2 + 5641156930860625119*x_2_4*x_3_4 + 693109826571187770*x_2_4 - 6287793440977395190*x_3_4^2 - 1115622603246118542*x_3_4 - 4247854088754075259, 7656511896348647417*(s0//s1)*x_1_4^2 + 2132988849168723905*(s0//s1)*x_1_4*x_2_4 - 313360254162594683*(s0//s1)*x_1_4*x_3_4 - 100671896253054256*(s0//s1)*x_1_4 + 4065677199907116207*(s0//s1)*x_2_4^2 + 5641156930860625119*(s0//s1)*x_2_4*x_3_4 + 693109826571187770*(s0//s1)*x_2_4 - 6287793440977395190*(s0//s1)*x_3_4^2 - 1115622603246118542*(s0//s1)*x_3_4 - 4247854088754075259*(s0//s1) - (s2//s1)*x_5_4)\n",
       "    34: scheme((s0//s2)*x_4_4 - (s1//s2)*x_5_4, 7656511896348647417*(s1//s2)*x_1_4^2 + 2132988849168723905*(s1//s2)*x_1_4*x_2_4 - 313360254162594683*(s1//s2)*x_1_4*x_3_4 - 100671896253054256*(s1//s2)*x_1_4 + 4065677199907116207*(s1//s2)*x_2_4^2 + 5641156930860625119*(s1//s2)*x_2_4*x_3_4 + 693109826571187770*(s1//s2)*x_2_4 - 6287793440977395190*(s1//s2)*x_3_4^2 - 1115622603246118542*(s1//s2)*x_3_4 - 4247854088754075259*(s1//s2) - x_4_4, 7656511896348647417*(s0//s2)*x_1_4^2 + 2132988849168723905*(s0//s2)*x_1_4*x_2_4 - 313360254162594683*(s0//s2)*x_1_4*x_3_4 - 100671896253054256*(s0//s2)*x_1_4 + 4065677199907116207*(s0//s2)*x_2_4^2 + 5641156930860625119*(s0//s2)*x_2_4*x_3_4 + 693109826571187770*(s0//s2)*x_2_4 - 6287793440977395190*(s0//s2)*x_3_4^2 - 1115622603246118542*(s0//s2)*x_3_4 - 4247854088754075259*(s0//s2) - x_5_4, -(s1//s0)*(s1//s2) + 7656511896348647417*x_1_4^2 + 2132988849168723905*x_1_4*x_2_4 - 313360254162594683*x_1_4*x_3_4 - 100671896253054256*x_1_4 + 4065677199907116207*x_2_4^2 + 5641156930860625119*x_2_4*x_3_4 + 693109826571187770*x_2_4 - 6287793440977395190*x_3_4^2 - 1115622603246118542*x_3_4 - 4247854088754075259, (s1//s0)*(s1//s2)^2 - x_4_4, (s1//s0)*(s0//s2)*(s1//s2) - x_5_4, -(s1//s0)*x_5_4 + x_4_4, (s1//s0)*(s0//s2) - (s1//s2))\n",
       "    35: scheme((s0//s2)*x_4_4 - (s1//s2)*x_5_4, 7656511896348647417*(s1//s2)*x_1_4^2 + 2132988849168723905*(s1//s2)*x_1_4*x_2_4 - 313360254162594683*(s1//s2)*x_1_4*x_3_4 - 100671896253054256*(s1//s2)*x_1_4 + 4065677199907116207*(s1//s2)*x_2_4^2 + 5641156930860625119*(s1//s2)*x_2_4*x_3_4 + 693109826571187770*(s1//s2)*x_2_4 - 6287793440977395190*(s1//s2)*x_3_4^2 - 1115622603246118542*(s1//s2)*x_3_4 - 4247854088754075259*(s1//s2) - x_4_4, 7656511896348647417*(s0//s2)*x_1_4^2 + 2132988849168723905*(s0//s2)*x_1_4*x_2_4 - 313360254162594683*(s0//s2)*x_1_4*x_3_4 - 100671896253054256*(s0//s2)*x_1_4 + 4065677199907116207*(s0//s2)*x_2_4^2 + 5641156930860625119*(s0//s2)*x_2_4*x_3_4 + 693109826571187770*(s0//s2)*x_2_4 - 6287793440977395190*(s0//s2)*x_3_4^2 - 1115622603246118542*(s0//s2)*x_3_4 - 4247854088754075259*(s0//s2) - x_5_4, -(s1//s0)*(s1//s2) + 7656511896348647417*x_1_4^2 + 2132988849168723905*x_1_4*x_2_4 - 313360254162594683*x_1_4*x_3_4 - 100671896253054256*x_1_4 + 4065677199907116207*x_2_4^2 + 5641156930860625119*x_2_4*x_3_4 + 693109826571187770*x_2_4 - 6287793440977395190*x_3_4^2 - 1115622603246118542*x_3_4 - 4247854088754075259, (s1//s0)*(s1//s2)^2 - x_4_4, (s1//s0)*(s0//s2)*(s1//s2) - x_5_4, (s0//s1)*x_4_4 - x_5_4, -(s0//s1)*(s1//s2) + (s0//s2))\n",
       "    36: scheme((s0//s2)*x_4_4 - (s1//s2)*x_5_4, 7656511896348647417*(s1//s2)*x_1_4^2 + 2132988849168723905*(s1//s2)*x_1_4*x_2_4 - 313360254162594683*(s1//s2)*x_1_4*x_3_4 - 100671896253054256*(s1//s2)*x_1_4 + 4065677199907116207*(s1//s2)*x_2_4^2 + 5641156930860625119*(s1//s2)*x_2_4*x_3_4 + 693109826571187770*(s1//s2)*x_2_4 - 6287793440977395190*(s1//s2)*x_3_4^2 - 1115622603246118542*(s1//s2)*x_3_4 - 4247854088754075259*(s1//s2) - x_4_4, 7656511896348647417*(s0//s2)*x_1_4^2 + 2132988849168723905*(s0//s2)*x_1_4*x_2_4 - 313360254162594683*(s0//s2)*x_1_4*x_3_4 - 100671896253054256*(s0//s2)*x_1_4 + 4065677199907116207*(s0//s2)*x_2_4^2 + 5641156930860625119*(s0//s2)*x_2_4*x_3_4 + 693109826571187770*(s0//s2)*x_2_4 - 6287793440977395190*(s0//s2)*x_3_4^2 - 1115622603246118542*(s0//s2)*x_3_4 - 4247854088754075259*(s0//s2) - x_5_4, 7656511896348647417*(s0//s1)*x_1_4^2 + 2132988849168723905*(s0//s1)*x_1_4*x_2_4 - 313360254162594683*(s0//s1)*x_1_4*x_3_4 - 100671896253054256*(s0//s1)*x_1_4 + 4065677199907116207*(s0//s1)*x_2_4^2 + 5641156930860625119*(s0//s1)*x_2_4*x_3_4 + 693109826571187770*(s0//s1)*x_2_4 - 6287793440977395190*(s0//s1)*x_3_4^2 - 1115622603246118542*(s0//s1)*x_3_4 - 4247854088754075259*(s0//s1) - (s1//s2), -(s0//s1)*x_4_4 + (s1//s2)^2, -(s0//s1)*x_5_4 + (s0//s2)*(s1//s2), (s1//s0)*(s0//s1)*x_5_4 - x_4_4, -(s1//s0)*(s0//s2) + 7656511896348647417*x_1_4^2 + 2132988849168723905*x_1_4*x_2_4 - 313360254162594683*x_1_4*x_3_4 - 100671896253054256*x_1_4 + 4065677199907116207*x_2_4^2 + 5641156930860625119*x_2_4*x_3_4 + 693109826571187770*x_2_4 - 6287793440977395190*x_3_4^2 - 1115622603246118542*x_3_4 - 4247854088754075259, (s1//s0)*(s0//s2)^2 - x_5_4, (s1//s0)*(s0//s1)*(s0//s2) - (s1//s2), (s1//s0)*(s1//s2) - x_5_4, (s1//s0)*(s0//s1) - (s0//s2), -(s1//s0)*x_4_4 + 7656511896348647417*x_1_4^2*x_5_4 + 2132988849168723905*x_1_4*x_2_4*x_5_4 - 313360254162594683*x_1_4*x_3_4*x_5_4 - 100671896253054256*x_1_4*x_5_4 + 4065677199907116207*x_2_4^2*x_5_4 + 5641156930860625119*x_2_4*x_3_4*x_5_4 + 693109826571187770*x_2_4*x_5_4 - 6287793440977395190*x_3_4^2*x_5_4 - 1115622603246118542*x_3_4*x_5_4 - 4247854088754075259*x_5_4, -(s1//s0)*x_4_4^2 + (s1//s0)*(s1//s2)*x_5_4^2, -(s1//s0)^2*x_4_4^2 + (s1//s0)*x_5_4^3)\n",
       "    37: scheme((s0//s2)*x_4_4 - (s1//s2)*x_5_4, 7656511896348647417*(s1//s2)*x_1_4^2 + 2132988849168723905*(s1//s2)*x_1_4*x_2_4 - 313360254162594683*(s1//s2)*x_1_4*x_3_4 - 100671896253054256*(s1//s2)*x_1_4 + 4065677199907116207*(s1//s2)*x_2_4^2 + 5641156930860625119*(s1//s2)*x_2_4*x_3_4 + 693109826571187770*(s1//s2)*x_2_4 - 6287793440977395190*(s1//s2)*x_3_4^2 - 1115622603246118542*(s1//s2)*x_3_4 - 4247854088754075259*(s1//s2) - x_4_4, 7656511896348647417*(s0//s2)*x_1_4^2 + 2132988849168723905*(s0//s2)*x_1_4*x_2_4 - 313360254162594683*(s0//s2)*x_1_4*x_3_4 - 100671896253054256*(s0//s2)*x_1_4 + 4065677199907116207*(s0//s2)*x_2_4^2 + 5641156930860625119*(s0//s2)*x_2_4*x_3_4 + 693109826571187770*(s0//s2)*x_2_4 - 6287793440977395190*(s0//s2)*x_3_4^2 - 1115622603246118542*(s0//s2)*x_3_4 - 4247854088754075259*(s0//s2) - x_5_4, 7656511896348647417*(s0//s1)*x_1_4^2 + 2132988849168723905*(s0//s1)*x_1_4*x_2_4 - 313360254162594683*(s0//s1)*x_1_4*x_3_4 - 100671896253054256*(s0//s1)*x_1_4 + 4065677199907116207*(s0//s1)*x_2_4^2 + 5641156930860625119*(s0//s1)*x_2_4*x_3_4 + 693109826571187770*(s0//s1)*x_2_4 - 6287793440977395190*(s0//s1)*x_3_4^2 - 1115622603246118542*(s0//s1)*x_3_4 - 4247854088754075259*(s0//s1) - (s1//s2), -(s0//s1)*x_4_4 + (s1//s2)^2, -(s0//s1)*x_5_4 + (s0//s2)*(s1//s2), (s1//s0)*(s0//s1)*x_5_4 - x_4_4, -(s1//s0)*(s0//s2) + 7656511896348647417*x_1_4^2 + 2132988849168723905*x_1_4*x_2_4 - 313360254162594683*x_1_4*x_3_4 - 100671896253054256*x_1_4 + 4065677199907116207*x_2_4^2 + 5641156930860625119*x_2_4*x_3_4 + 693109826571187770*x_2_4 - 6287793440977395190*x_3_4^2 - 1115622603246118542*x_3_4 - 4247854088754075259, (s1//s0)*(s0//s2)^2 - x_5_4, (s1//s0)*(s0//s1)*(s0//s2) - (s1//s2), -(s0//s1)*x_5_4 + (s1//s2), -(s0//s1)*(s0//s2) + (s0//s1), 7656511896348647417*(s0//s1)*x_1_4^2*x_5_4 + 2132988849168723905*(s0//s1)*x_1_4*x_2_4*x_5_4 - 313360254162594683*(s0//s1)*x_1_4*x_3_4*x_5_4 - 100671896253054256*(s0//s1)*x_1_4*x_5_4 + 4065677199907116207*(s0//s1)*x_2_4^2*x_5_4 + 5641156930860625119*(s0//s1)*x_2_4*x_3_4*x_5_4 + 693109826571187770*(s0//s1)*x_2_4*x_5_4 - 6287793440977395190*(s0//s1)*x_3_4^2*x_5_4 - 1115622603246118542*(s0//s1)*x_3_4*x_5_4 - 4247854088754075259*(s0//s1)*x_5_4 - x_4_4, (s0//s1)*(s1//s0)*(s1//s2)*x_5_4^2 - x_4_4^2, (s0//s1)^2*(s1//s0)*x_5_4^3 - x_4_4^2)\n",
       "    38: scheme((s0//s2)*x_4_4 - (s1//s2)*x_5_4, 7656511896348647417*(s1//s2)*x_1_4^2 + 2132988849168723905*(s1//s2)*x_1_4*x_2_4 - 313360254162594683*(s1//s2)*x_1_4*x_3_4 - 100671896253054256*(s1//s2)*x_1_4 + 4065677199907116207*(s1//s2)*x_2_4^2 + 5641156930860625119*(s1//s2)*x_2_4*x_3_4 + 693109826571187770*(s1//s2)*x_2_4 - 6287793440977395190*(s1//s2)*x_3_4^2 - 1115622603246118542*(s1//s2)*x_3_4 - 4247854088754075259*(s1//s2) - x_4_4, 7656511896348647417*(s0//s2)*x_1_4^2 + 2132988849168723905*(s0//s2)*x_1_4*x_2_4 - 313360254162594683*(s0//s2)*x_1_4*x_3_4 - 100671896253054256*(s0//s2)*x_1_4 + 4065677199907116207*(s0//s2)*x_2_4^2 + 5641156930860625119*(s0//s2)*x_2_4*x_3_4 + 693109826571187770*(s0//s2)*x_2_4 - 6287793440977395190*(s0//s2)*x_3_4^2 - 1115622603246118542*(s0//s2)*x_3_4 - 4247854088754075259*(s0//s2) - x_5_4, 7656511896348647417*(s0//s1)*x_1_4^2 + 2132988849168723905*(s0//s1)*x_1_4*x_2_4 - 313360254162594683*(s0//s1)*x_1_4*x_3_4 - 100671896253054256*(s0//s1)*x_1_4 + 4065677199907116207*(s0//s1)*x_2_4^2 + 5641156930860625119*(s0//s1)*x_2_4*x_3_4 + 693109826571187770*(s0//s1)*x_2_4 - 6287793440977395190*(s0//s1)*x_3_4^2 - 1115622603246118542*(s0//s1)*x_3_4 - 4247854088754075259*(s0//s1) - (s1//s2), -(s0//s1)*x_4_4 + (s1//s2)^2, -(s0//s1)*x_5_4 + (s0//s2)*(s1//s2), -(s0//s1)*x_4_4 + (s0//s1)*x_5_4, 7656511896348647417*(s0//s1)*x_1_4^2 + 2132988849168723905*(s0//s1)*x_1_4*x_2_4 - 313360254162594683*(s0//s1)*x_1_4*x_3_4 - 100671896253054256*(s0//s1)*x_1_4 + 4065677199907116207*(s0//s1)*x_2_4^2 + 5641156930860625119*(s0//s1)*x_2_4*x_3_4 + 693109826571187770*(s0//s1)*x_2_4 - 6287793440977395190*(s0//s1)*x_3_4^2 - 1115622603246118542*(s0//s1)*x_3_4 - 4247854088754075259*(s0//s1) - (s0//s2), -(s0//s1)*x_5_4 + (s0//s2)^2, -(s0//s1)*(s1//s2) + (s0//s1)*(s0//s2), -(s1//s0)*(s0//s1) + 7656511896348647417*x_1_4^2 + 2132988849168723905*x_1_4*x_2_4 - 313360254162594683*x_1_4*x_3_4 - 100671896253054256*x_1_4 + 4065677199907116207*x_2_4^2 + 5641156930860625119*x_2_4*x_3_4 + 693109826571187770*x_2_4 - 6287793440977395190*x_3_4^2 - 1115622603246118542*x_3_4 - 4247854088754075259, (s1//s0)*(s0//s1)*(s1//s2) - x_4_4, (s1//s0)*(s0//s1)*(s1//s2) - x_5_4, (s1//s0)*(s0//s1)^2 - (s1//s2), (s1//s0)*(s0//s1)*(s0//s1) - (s0//s2))\n",
       "    39: scheme((s0//s2)*x_4_4 - (s1//s2)*x_5_4, 7656511896348647417*(s1//s2)*x_1_4^2 + 2132988849168723905*(s1//s2)*x_1_4*x_2_4 - 313360254162594683*(s1//s2)*x_1_4*x_3_4 - 100671896253054256*(s1//s2)*x_1_4 + 4065677199907116207*(s1//s2)*x_2_4^2 + 5641156930860625119*(s1//s2)*x_2_4*x_3_4 + 693109826571187770*(s1//s2)*x_2_4 - 6287793440977395190*(s1//s2)*x_3_4^2 - 1115622603246118542*(s1//s2)*x_3_4 - 4247854088754075259*(s1//s2) - x_4_4, 7656511896348647417*(s0//s2)*x_1_4^2 + 2132988849168723905*(s0//s2)*x_1_4*x_2_4 - 313360254162594683*(s0//s2)*x_1_4*x_3_4 - 100671896253054256*(s0//s2)*x_1_4 + 4065677199907116207*(s0//s2)*x_2_4^2 + 5641156930860625119*(s0//s2)*x_2_4*x_3_4 + 693109826571187770*(s0//s2)*x_2_4 - 6287793440977395190*(s0//s2)*x_3_4^2 - 1115622603246118542*(s0//s2)*x_3_4 - 4247854088754075259*(s0//s2) - x_5_4, 7656511896348647417*(s0//s1)*x_1_4^2 + 2132988849168723905*(s0//s1)*x_1_4*x_2_4 - 313360254162594683*(s0//s1)*x_1_4*x_3_4 - 100671896253054256*(s0//s1)*x_1_4 + 4065677199907116207*(s0//s1)*x_2_4^2 + 5641156930860625119*(s0//s1)*x_2_4*x_3_4 + 693109826571187770*(s0//s1)*x_2_4 - 6287793440977395190*(s0//s1)*x_3_4^2 - 1115622603246118542*(s0//s1)*x_3_4 - 4247854088754075259*(s0//s1) - (s1//s2), -(s0//s1)*x_4_4 + (s1//s2)^2, -(s0//s1)*x_5_4 + (s0//s2)*(s1//s2), -(s0//s1)*x_4_4 + (s0//s1)*x_5_4, 7656511896348647417*(s0//s1)*x_1_4^2 + 2132988849168723905*(s0//s1)*x_1_4*x_2_4 - 313360254162594683*(s0//s1)*x_1_4*x_3_4 - 100671896253054256*(s0//s1)*x_1_4 + 4065677199907116207*(s0//s1)*x_2_4^2 + 5641156930860625119*(s0//s1)*x_2_4*x_3_4 + 693109826571187770*(s0//s1)*x_2_4 - 6287793440977395190*(s0//s1)*x_3_4^2 - 1115622603246118542*(s0//s1)*x_3_4 - 4247854088754075259*(s0//s1) - (s0//s2), -(s0//s1)*x_5_4 + (s0//s2)^2, -(s0//s1)*(s1//s2) + (s0//s1)*(s0//s2), 7656511896348647417*(s0//s1)*x_1_4^2 + 2132988849168723905*(s0//s1)*x_1_4*x_2_4 - 313360254162594683*(s0//s1)*x_1_4*x_3_4 - 100671896253054256*(s0//s1)*x_1_4 + 4065677199907116207*(s0//s1)*x_2_4^2 + 5641156930860625119*(s0//s1)*x_2_4*x_3_4 + 693109826571187770*(s0//s1)*x_2_4 - 6287793440977395190*(s0//s1)*x_3_4^2 - 1115622603246118542*(s0//s1)*x_3_4 - 4247854088754075259*(s0//s1) - (s0//s1), -(s0//s1)*x_4_4 + (s0//s1)*(s1//s2), -(s0//s1)*x_5_4 + (s0//s1)*(s1//s2), -(s0//s1)*(s1//s2) + (s0//s1)^2, -(s0//s1)*(s0//s2) + (s0//s1)*(s0//s1), -(s1//s0)*x_5_4 + (s1//s2), -(s1//s0)*(s0//s2) + (s0//s1), -(s1//s0)*(s0//s1) + (s0//s1), 7656511896348647417*(s1//s0)*x_1_4^2*x_5_4 + 2132988849168723905*(s1//s0)*x_1_4*x_2_4*x_5_4 - 313360254162594683*(s1//s0)*x_1_4*x_3_4*x_5_4 - 100671896253054256*(s1//s0)*x_1_4*x_5_4 + 4065677199907116207*(s1//s0)*x_2_4^2*x_5_4 + 5641156930860625119*(s1//s0)*x_2_4*x_3_4*x_5_4 + 693109826571187770*(s1//s0)*x_2_4*x_5_4 - 6287793440977395190*(s1//s0)*x_3_4^2*x_5_4 - 1115622603246118542*(s1//s0)*x_3_4*x_5_4 - 4247854088754075259*(s1//s0)*x_5_4 - x_4_4)\n",
       "    40: scheme((s0//s2)*x_4_4 - (s1//s2)*x_5_4, 7656511896348647417*(s1//s2)*x_1_4^2 + 2132988849168723905*(s1//s2)*x_1_4*x_2_4 - 313360254162594683*(s1//s2)*x_1_4*x_3_4 - 100671896253054256*(s1//s2)*x_1_4 + 4065677199907116207*(s1//s2)*x_2_4^2 + 5641156930860625119*(s1//s2)*x_2_4*x_3_4 + 693109826571187770*(s1//s2)*x_2_4 - 6287793440977395190*(s1//s2)*x_3_4^2 - 1115622603246118542*(s1//s2)*x_3_4 - 4247854088754075259*(s1//s2) - x_4_4, 7656511896348647417*(s0//s2)*x_1_4^2 + 2132988849168723905*(s0//s2)*x_1_4*x_2_4 - 313360254162594683*(s0//s2)*x_1_4*x_3_4 - 100671896253054256*(s0//s2)*x_1_4 + 4065677199907116207*(s0//s2)*x_2_4^2 + 5641156930860625119*(s0//s2)*x_2_4*x_3_4 + 693109826571187770*(s0//s2)*x_2_4 - 6287793440977395190*(s0//s2)*x_3_4^2 - 1115622603246118542*(s0//s2)*x_3_4 - 4247854088754075259*(s0//s2) - x_5_4, 7656511896348647417*(s0//s1)*x_1_4^2 + 2132988849168723905*(s0//s1)*x_1_4*x_2_4 - 313360254162594683*(s0//s1)*x_1_4*x_3_4 - 100671896253054256*(s0//s1)*x_1_4 + 4065677199907116207*(s0//s1)*x_2_4^2 + 5641156930860625119*(s0//s1)*x_2_4*x_3_4 + 693109826571187770*(s0//s1)*x_2_4 - 6287793440977395190*(s0//s1)*x_3_4^2 - 1115622603246118542*(s0//s1)*x_3_4 - 4247854088754075259*(s0//s1) - (s1//s2), -(s0//s1)*x_4_4 + (s1//s2)^2, -(s0//s1)*x_5_4 + (s0//s2)*(s1//s2), -(s0//s1)*x_4_4 + (s0//s1)*x_5_4, 7656511896348647417*(s0//s1)*x_1_4^2 + 2132988849168723905*(s0//s1)*x_1_4*x_2_4 - 313360254162594683*(s0//s1)*x_1_4*x_3_4 - 100671896253054256*(s0//s1)*x_1_4 + 4065677199907116207*(s0//s1)*x_2_4^2 + 5641156930860625119*(s0//s1)*x_2_4*x_3_4 + 693109826571187770*(s0//s1)*x_2_4 - 6287793440977395190*(s0//s1)*x_3_4^2 - 1115622603246118542*(s0//s1)*x_3_4 - 4247854088754075259*(s0//s1) - (s0//s2), -(s0//s1)*x_5_4 + (s0//s2)^2, -(s0//s1)*(s1//s2) + (s0//s1)*(s0//s2), 7656511896348647417*(s0//s1)*x_1_4^2 + 2132988849168723905*(s0//s1)*x_1_4*x_2_4 - 313360254162594683*(s0//s1)*x_1_4*x_3_4 - 100671896253054256*(s0//s1)*x_1_4 + 4065677199907116207*(s0//s1)*x_2_4^2 + 5641156930860625119*(s0//s1)*x_2_4*x_3_4 + 693109826571187770*(s0//s1)*x_2_4 - 6287793440977395190*(s0//s1)*x_3_4^2 - 1115622603246118542*(s0//s1)*x_3_4 - 4247854088754075259*(s0//s1) - (s0//s1), -(s0//s1)*x_4_4 + (s0//s1)*(s1//s2), -(s0//s1)*x_5_4 + (s0//s1)*(s1//s2), -(s0//s1)*(s1//s2) + (s0//s1)^2, -(s0//s1)*(s0//s2) + (s0//s1)*(s0//s1), (s0//s1)*(s1//s2) - x_5_4, (s0//s1)*(s0//s1) - (s0//s2), (s0//s1)*(s0//s1) - (s0//s1), -(s0//s1)*x_4_4 + 7656511896348647417*x_1_4^2*x_5_4 + 2132988849168723905*x_1_4*x_2_4*x_5_4 - 313360254162594683*x_1_4*x_3_4*x_5_4 - 100671896253054256*x_1_4*x_5_4 + 4065677199907116207*x_2_4^2*x_5_4 + 5641156930860625119*x_2_4*x_3_4*x_5_4 + 693109826571187770*x_2_4*x_5_4 - 6287793440977395190*x_3_4^2*x_5_4 - 1115622603246118542*x_3_4*x_5_4 - 4247854088754075259*x_5_4)\n",
       "    41: normal, 5-dimensional toric variety\n",
       "    42: normal, 5-dimensional toric variety\n",
       "    43: normal, 5-dimensional toric variety\n",
       "    44: normal, 5-dimensional toric variety\n",
       "    45: normal, 5-dimensional toric variety\n",
       "    46: normal, 5-dimensional toric variety\n",
       "    47: normal, 5-dimensional toric variety\n",
       "    48: normal, 5-dimensional toric variety\n",
       "  in the coordinate(s)\n",
       "     1: [(s1//s0), (s1//s0), (s2//s0), x_1_1, x_2_1, x_3_1, x_4_1, x_5_1]\n",
       "     2: [(s0//s1), (s1//s0), (s2//s0), x_1_1, x_2_1, x_3_1, x_4_1, x_5_1]\n",
       "     3: [(s0//s1), (s2//s1), x_1_1, x_2_1, x_3_1, x_4_1, x_5_1]\n",
       "     4: [(s1//s0), (s1//s0), (s0//s2), (s1//s2), x_1_1, x_2_1, x_3_1, x_4_1, x_5_1]\n",
       "     5: [(s0//s1), (s1//s0), (s0//s2), (s1//s2), x_1_1, x_2_1, x_3_1, x_4_1, x_5_1]\n",
       "     6: [(s1//s0), (s1//s0), (s0//s1), (s0//s2), (s1//s2), x_1_1, x_2_1, x_3_1, x_4_1, x_5_1]\n",
       "     7: [(s0//s1), (s1//s0), (s0//s1), (s0//s2), (s1//s2), x_1_1, x_2_1, x_3_1, x_4_1, x_5_1]\n",
       "     8: [(s1//s0), (s0//s1), (s0//s1), (s0//s2), (s1//s2), x_1_1, x_2_1, x_3_1, x_4_1, x_5_1]\n",
       "     9: [(s1//s0), (s0//s1), (s0//s1), (s0//s1), (s0//s2), (s1//s2), x_1_1, x_2_1, x_3_1, x_4_1, x_5_1]\n",
       "    10: [(s0//s1), (s0//s1), (s0//s1), (s0//s1), (s0//s2), (s1//s2), x_1_1, x_2_1, x_3_1, x_4_1, x_5_1]\n",
       "    11: [(s1//s0), (s1//s0), (s2//s0), x_1_2, x_2_2, x_3_2, x_4_2, x_5_2]\n",
       "    12: [(s0//s1), (s1//s0), (s2//s0), x_1_2, x_2_2, x_3_2, x_4_2, x_5_2]\n",
       "    13: [(s0//s1), (s2//s1), x_1_2, x_2_2, x_3_2, x_4_2, x_5_2]\n",
       "    14: [(s1//s0), (s1//s0), (s0//s2), (s1//s2), x_1_2, x_2_2, x_3_2, x_4_2, x_5_2]\n",
       "    15: [(s0//s1), (s1//s0), (s0//s2), (s1//s2), x_1_2, x_2_2, x_3_2, x_4_2, x_5_2]\n",
       "    16: [(s1//s0), (s1//s0), (s0//s1), (s0//s2), (s1//s2), x_1_2, x_2_2, x_3_2, x_4_2, x_5_2]\n",
       "    17: [(s0//s1), (s1//s0), (s0//s1), (s0//s2), (s1//s2), x_1_2, x_2_2, x_3_2, x_4_2, x_5_2]\n",
       "    18: [(s1//s0), (s0//s1), (s0//s1), (s0//s2), (s1//s2), x_1_2, x_2_2, x_3_2, x_4_2, x_5_2]\n",
       "    19: [(s1//s0), (s0//s1), (s0//s1), (s0//s1), (s0//s2), (s1//s2), x_1_2, x_2_2, x_3_2, x_4_2, x_5_2]\n",
       "    20: [(s0//s1), (s0//s1), (s0//s1), (s0//s1), (s0//s2), (s1//s2), x_1_2, x_2_2, x_3_2, x_4_2, x_5_2]\n",
       "    21: [(s1//s0), (s1//s0), (s2//s0), x_1_3, x_2_3, x_3_3, x_4_3, x_5_3]\n",
       "    22: [(s0//s1), (s1//s0), (s2//s0), x_1_3, x_2_3, x_3_3, x_4_3, x_5_3]\n",
       "    23: [(s0//s1), (s2//s1), x_1_3, x_2_3, x_3_3, x_4_3, x_5_3]\n",
       "    24: [(s1//s0), (s1//s0), (s0//s2), (s1//s2), x_1_3, x_2_3, x_3_3, x_4_3, x_5_3]\n",
       "    25: [(s0//s1), (s1//s0), (s0//s2), (s1//s2), x_1_3, x_2_3, x_3_3, x_4_3, x_5_3]\n",
       "    26: [(s1//s0), (s1//s0), (s0//s1), (s0//s2), (s1//s2), x_1_3, x_2_3, x_3_3, x_4_3, x_5_3]\n",
       "    27: [(s0//s1), (s1//s0), (s0//s1), (s0//s2), (s1//s2), x_1_3, x_2_3, x_3_3, x_4_3, x_5_3]\n",
       "    28: [(s1//s0), (s0//s1), (s0//s1), (s0//s2), (s1//s2), x_1_3, x_2_3, x_3_3, x_4_3, x_5_3]\n",
       "    29: [(s1//s0), (s0//s1), (s0//s1), (s0//s1), (s0//s2), (s1//s2), x_1_3, x_2_3, x_3_3, x_4_3, x_5_3]\n",
       "    30: [(s0//s1), (s0//s1), (s0//s1), (s0//s1), (s0//s2), (s1//s2), x_1_3, x_2_3, x_3_3, x_4_3, x_5_3]\n",
       "    31: [(s1//s0), (s1//s0), (s2//s0), x_1_4, x_2_4, x_3_4, x_4_4, x_5_4]\n",
       "    32: [(s0//s1), (s1//s0), (s2//s0), x_1_4, x_2_4, x_3_4, x_4_4, x_5_4]\n",
       "    33: [(s0//s1), (s2//s1), x_1_4, x_2_4, x_3_4, x_4_4, x_5_4]\n",
       "    34: [(s1//s0), (s1//s0), (s0//s2), (s1//s2), x_1_4, x_2_4, x_3_4, x_4_4, x_5_4]\n",
       "    35: [(s0//s1), (s1//s0), (s0//s2), (s1//s2), x_1_4, x_2_4, x_3_4, x_4_4, x_5_4]\n",
       "    36: [(s1//s0), (s1//s0), (s0//s1), (s0//s2), (s1//s2), x_1_4, x_2_4, x_3_4, x_4_4, x_5_4]\n",
       "    37: [(s0//s1), (s1//s0), (s0//s1), (s0//s2), (s1//s2), x_1_4, x_2_4, x_3_4, x_4_4, x_5_4]\n",
       "    38: [(s1//s0), (s0//s1), (s0//s1), (s0//s2), (s1//s2), x_1_4, x_2_4, x_3_4, x_4_4, x_5_4]\n",
       "    39: [(s1//s0), (s0//s1), (s0//s1), (s0//s1), (s0//s2), (s1//s2), x_1_4, x_2_4, x_3_4, x_4_4, x_5_4]\n",
       "    40: [(s0//s1), (s0//s1), (s0//s1), (s0//s1), (s0//s2), (s1//s2), x_1_4, x_2_4, x_3_4, x_4_4, x_5_4]\n",
       "    41: [x_1_5, x_2_5, x_3_5, x_4_5, x_5_5, x_6_5]\n",
       "    42: [x_1_6, x_2_6, x_3_6, x_4_6, x_5_6, x_6_6]\n",
       "    43: [x_1_7, x_2_7, x_3_7, x_4_7, x_5_7, x_6_7]\n",
       "    44: [x_1_8, x_2_8, x_3_8, x_4_8, x_5_8, x_6_8]\n",
       "    45: [x_1_9, x_2_9, x_3_9, x_4_9, x_5_9, x_6_9]\n",
       "    46: [x_1_10, x_2_10, x_3_10, x_4_10, x_5_10, x_6_10]\n",
       "    47: [x_1_11, x_2_11, x_3_11, x_4_11, x_5_11, x_6_11]\n",
       "    48: [x_1_12, x_2_12, x_3_12, x_4_12, x_5_12, x_6_12]"
      ]
     },
     "execution_count": 42,
     "metadata": {},
     "output_type": "execute_result"
    }
   ],
   "source": [
    "ambient_space(t_scheme_resolved)"
   ]
  },
  {
   "cell_type": "markdown",
   "id": "e798f850-6d90-4840-a553-8d09bda8347d",
   "metadata": {},
   "source": [
    "This is now the starting point of more refined investigations, say of topological data to gauge for instance the Tadpole cancellation condition, or to work out the chiral spectrum, the vector-like spectrum, or even coupling strengths of Yukawa interactions. We do not yet touch upon these subjects. However, we hope to extend to these topics in the not too distant future."
   ]
  },
  {
   "cell_type": "markdown",
   "id": "d543c1a6-d27e-493f-a3e8-44a2f5ee3190",
   "metadata": {},
   "source": [
    "## 2.D Other Functionality"
   ]
  },
  {
   "cell_type": "markdown",
   "id": "769678be-292d-4f32-bc64-060c5fe87e9c",
   "metadata": {},
   "source": [
    "It is possible to tune constructed models to change certain attributes, e.g. in an attempt to engineer a larger gauge group. We can also tune a model by fixing a special choice for the model sections.\n",
    "Note that it is in particular possible to set a section to zero:"
   ]
  },
  {
   "cell_type": "code",
   "execution_count": 43,
   "id": "d0dc3574-79ee-44aa-8eec-ced983db8a57",
   "metadata": {},
   "outputs": [
    {
     "data": {
      "text/plain": [
       "Torus-invariant, non-prime divisor on a normal toric variety"
      ]
     },
     "execution_count": 43,
     "metadata": {},
     "output_type": "execute_result"
    }
   ],
   "source": [
    "Kbar = anticanonical_divisor(B3)"
   ]
  },
  {
   "cell_type": "code",
   "execution_count": 44,
   "id": "2c0655d5-1ef3-4fe3-84c4-e4b511f61fb6",
   "metadata": {},
   "outputs": [
    {
     "name": "stdout",
     "output_type": "stream",
     "text": [
      "Construction over concrete base may lead to singularity enhancement. Consider computing singular_loci. However, this may take time!\n",
      "\n"
     ]
    },
    {
     "data": {
      "text/plain": [
       "Hypersurface model over a concrete base"
      ]
     },
     "execution_count": 44,
     "metadata": {},
     "output_type": "execute_result"
    }
   ],
   "source": [
    "F1 = literature_model(arxiv_id = \"1408.4808\", equation = \"3.4\", type = \"hypersurface\", base_space = B3, defining_classes = Dict(\"s7\" => Kbar, \"s9\" => Kbar), completeness_check = false)"
   ]
  },
  {
   "cell_type": "code",
   "execution_count": 45,
   "id": "9f6a144c-7730-4a95-a42e-2b5d985e21ee",
   "metadata": {},
   "outputs": [
    {
     "data": {
      "text/plain": [
       "s1*u^3 + s2*u^2*v + s3*u*v^2 + s4*v^3 + s5*u^2*w + s6*u*v*w + s7*v^2*w + s8*u*w^2 + s9*v*w^2 + s10*w^3"
      ]
     },
     "execution_count": 45,
     "metadata": {},
     "output_type": "execute_result"
    }
   ],
   "source": [
    "hypersurface_equation_parametrization(F1)"
   ]
  },
  {
   "cell_type": "code",
   "execution_count": 46,
   "id": "6bcf6a76-bdb1-4e15-a2a7-6a5c74034ef2",
   "metadata": {},
   "outputs": [],
   "source": [
    "x1, x2, x3, x4 = gens(cox_ring(base_space(F1)));;"
   ]
  },
  {
   "cell_type": "code",
   "execution_count": 47,
   "id": "44e03e68-d2c3-4495-b055-0a2c07478b94",
   "metadata": {},
   "outputs": [
    {
     "data": {
      "text/plain": [
       "Dict{String, MPolyDecRingElem{QQFieldElem, QQMPolyRingElem}} with 1 entry:\n",
       "  \"s10\" => 0"
      ]
     },
     "execution_count": 47,
     "metadata": {},
     "output_type": "execute_result"
    }
   ],
   "source": [
    "new_choice = Dict(\"s10\" => zero(parent(x1)))"
   ]
  },
  {
   "cell_type": "code",
   "execution_count": 48,
   "id": "bf5f306a-2c71-4bf4-93b4-8e4228299820",
   "metadata": {},
   "outputs": [
    {
     "data": {
      "text/plain": [
       "Hypersurface model over a concrete base"
      ]
     },
     "execution_count": 48,
     "metadata": {},
     "output_type": "execute_result"
    }
   ],
   "source": [
    "tuned_F1 = tune(F1, new_choice)"
   ]
  },
  {
   "cell_type": "code",
   "execution_count": 49,
   "id": "b1b3ad99-47e5-4d58-94a9-1a469417575b",
   "metadata": {},
   "outputs": [
    {
     "data": {
      "text/plain": [
       "true"
      ]
     },
     "execution_count": 49,
     "metadata": {},
     "output_type": "execute_result"
    }
   ],
   "source": [
    "is_zero(explicit_model_sections(tuned_F1)[\"s10\"])"
   ]
  },
  {
   "cell_type": "code",
   "execution_count": 50,
   "id": "a44b0b3d-fa3e-480f-b217-b069e96c8056",
   "metadata": {},
   "outputs": [
    {
     "data": {
      "text/plain": [
       "Dict{String, MPolyDecRingElem{QQFieldElem, QQMPolyRingElem}} with 10 entries:\n",
       "  \"s1\"  => 7644518439765676013*x1^4 - 8052778196120021487*x1^3*x2 + 40885427895…\n",
       "  \"s8\"  => 7083806951173483941*x1^4 + 5757540700911697220*x1^3*x2 - 26601382383…\n",
       "  \"s5\"  => -6900453791927915518*x1^4 + 2720346153285249492*x1^3*x2 - 1311713386…\n",
       "  \"s6\"  => 5126470903785838698*x1^4 - 2442980264328548946*x1^3*x2 - 31365684465…\n",
       "  \"s7\"  => -8268675421409026459*x1^4 + 3531337419624638750*x1^3*x2 + 3659113922…\n",
       "  \"s2\"  => 2464730467945011663*x1^4 + 6722011311118450244*x1^3*x2 + 61844352254…\n",
       "  \"s4\"  => 689624688557060679*x1^4 + 2502703357510133344*x1^3*x2 - 267562952287…\n",
       "  \"s9\"  => -2884898004858393790*x1^4 - 4901027463797287743*x1^3*x2 + 1643294359…\n",
       "  \"s3\"  => 4112172757938070854*x1^4 + 1813149445586054523*x1^3*x2 + 20291540198…\n",
       "  \"s10\" => 0"
      ]
     },
     "execution_count": 50,
     "metadata": {},
     "output_type": "execute_result"
    }
   ],
   "source": [
    "explicit_model_sections(tuned_F1)"
   ]
  },
  {
   "cell_type": "markdown",
   "id": "ed0511a0-59a1-4197-b41b-fdcc2f679f30",
   "metadata": {},
   "source": [
    "# 3 The Quadrillion F-Theory Standard Models"
   ]
  },
  {
   "cell_type": "markdown",
   "id": "0a551fac-32dc-42b0-b844-9299c25620b8",
   "metadata": {},
   "source": [
    "## 3.A Base Geometry"
   ]
  },
  {
   "attachments": {},
   "cell_type": "markdown",
   "id": "503bdb73-1872-4cef-801c-df3144669863",
   "metadata": {},
   "source": [
    "A yet more special instance of literature models are the Quadrillion F-theory Standard Models\n",
    "(F-theory QSMs) [CHLLT19](https://arxiv.org/abs/1903.00009). Those hypersurface models come in 708 different families.\n",
    "\n",
    "The base geometry of an F-theory QSM is obtained from triangulating one of 708 reflexive 3-dimensional\n",
    "polytopes. The models, whose bases are obtained from triangulations of the same polytope form a family.\n",
    "The following information on the polytope in question and its triangulations is available within the database:"
   ]
  },
  {
   "cell_type": "code",
   "execution_count": 51,
   "id": "2184226a-0a28-442a-83ac-62b17e363c5b",
   "metadata": {},
   "outputs": [
    {
     "data": {
      "text/plain": [
       "Hypersurface model over a concrete base"
      ]
     },
     "execution_count": 51,
     "metadata": {},
     "output_type": "execute_result"
    }
   ],
   "source": [
    "qsm_model = literature_model(arxiv_id = \"1903.00009\", model_parameters = Dict(\"k\" => 4))"
   ]
  },
  {
   "cell_type": "markdown",
   "id": "4275f385-ef7a-442d-b5d1-da3ad7280074",
   "metadata": {},
   "source": [
    "The following method returns the vertices of the polytope the the base of the F-Theory QSM is\n",
    "build from. Note that those vertices are normalized according to the Polymake standard\n",
    "to rational numbers:"
   ]
  },
  {
   "cell_type": "code",
   "execution_count": 52,
   "id": "22708169-4ca1-478d-9848-4f96e5b64e42",
   "metadata": {},
   "outputs": [
    {
     "data": {
      "text/plain": [
       "4-element Vector{Vector{QQFieldElem}}:\n",
       " [-1, -1, -1]\n",
       " [1, -1//2, -1//2]\n",
       " [-1, 2, -1]\n",
       " [-1, -1, 5]"
      ]
     },
     "execution_count": 52,
     "metadata": {},
     "output_type": "execute_result"
    }
   ],
   "source": [
    "vertices(qsm_model)"
   ]
  },
  {
   "cell_type": "markdown",
   "id": "28e98253-980d-44aa-88bd-9c9eaccf202c",
   "metadata": {},
   "source": [
    "Of the 3-dimensional reflexive polytope that the base of this F-theory model is build from,\n",
    "the following method returns the index within the Kreuzer-Skarke list:"
   ]
  },
  {
   "cell_type": "code",
   "execution_count": 53,
   "id": "38a90e0b-08ce-4bc8-b0fb-6706ecc58234",
   "metadata": {},
   "outputs": [
    {
     "data": {
      "text/plain": [
       "4"
      ]
     },
     "execution_count": 53,
     "metadata": {},
     "output_type": "execute_result"
    }
   ],
   "source": [
    "polytope_index(qsm_model)"
   ]
  },
  {
   "cell_type": "markdown",
   "id": "a58994c9-3562-47e3-b158-7a1a0b93705b",
   "metadata": {},
   "source": [
    "For a 3-dimensional reflexive polytope in the Kreuzer-Skarke list, the list of\n",
    "full (sometimes also called fine), regular, star triangulations can be extremely\n",
    "large. Consequently, one may wonder if the triangulations can be enumerated in a\n",
    "somewhat reasonable time (say 5 minutes on a personal computer). The following method tries\n",
    "to provide an answer to this. It returns `true` if one should expect a timly response\n",
    "to the atttempt to enumerate all (full, regular, star) triangulations. Otherwise, this\n",
    "method returns `false`:"
   ]
  },
  {
   "cell_type": "code",
   "execution_count": 54,
   "id": "4618d3c4-18bc-4d30-8420-2528d1b8ad07",
   "metadata": {},
   "outputs": [
    {
     "data": {
      "text/plain": [
       "true"
      ]
     },
     "execution_count": 54,
     "metadata": {},
     "output_type": "execute_result"
    }
   ],
   "source": [
    "has_quick_triangulation(qsm_model)"
   ]
  },
  {
   "cell_type": "markdown",
   "id": "5a648b76-b140-44e6-829c-399f7a0134c9",
   "metadata": {},
   "source": [
    "In order to enumerate the number of full, regular, star triangulations of a\n",
    "3-dimensional reflexive polytope, it is possible to first find the corresponding\n",
    "triangulations of all facets of the polytope [HT17](https://arxiv.org/abs/1610.08864). A first indication for\n",
    "the complexity of this triangulation task is the maximum number of lattice points\n",
    "in a facet of the polytope in question. The following method returns this maximal number of\n",
    "lattice points:"
   ]
  },
  {
   "cell_type": "code",
   "execution_count": 55,
   "id": "9c48f30d-601f-4337-88fd-b64bb14b6e8d",
   "metadata": {},
   "outputs": [
    {
     "data": {
      "text/plain": [
       "16"
      ]
     },
     "execution_count": 55,
     "metadata": {},
     "output_type": "execute_result"
    }
   ],
   "source": [
    "max_lattice_pts_in_facet(qsm_model)"
   ]
  },
  {
   "cell_type": "markdown",
   "id": "cdcf8333-e3bf-40ec-923b-64a39e8a4d5c",
   "metadata": {},
   "source": [
    "The following method returns an estimate for the number of full, regular, star triangulations\n",
    "of the 3-dimensional reflexive polytope, those triangulations define the possible base\n",
    "spaces of the F-theory QSM in question:"
   ]
  },
  {
   "cell_type": "code",
   "execution_count": 56,
   "id": "090d49b9-87f3-4959-b663-42c364962af6",
   "metadata": {},
   "outputs": [
    {
     "data": {
      "text/plain": [
       "212533333333"
      ]
     },
     "execution_count": 56,
     "metadata": {},
     "output_type": "execute_result"
    }
   ],
   "source": [
    "estimated_number_of_triangulations(qsm_model)"
   ]
  },
  {
   "cell_type": "markdown",
   "id": "4138f688-1ea7-47e8-803a-1c6be32f2881",
   "metadata": {},
   "source": [
    "Beyond the polytope and its triangulations, a number of other integers are of key importance, for example, Hodge numbers are also supported in the database."
   ]
  },
  {
   "cell_type": "markdown",
   "id": "35917b76-4f39-47dd-9d6a-b9655a514bd4",
   "metadata": {},
   "source": [
    "## 3.B The $C_{i}$ Curves"
   ]
  },
  {
   "cell_type": "markdown",
   "id": "ab265d31-2d56-436e-b475-52b58fd31aad",
   "metadata": {},
   "source": [
    "More recently, a research program estimated the exact massless spectra of the F-theory QSMs\n",
    "(cf. [Bie24](https://arxiv.org/abs/2303.08144)). These studies require yet more information about the F-theory QSM geometries,\n",
    "which are supported by the database.\n",
    "\n",
    "First, recall that (currently), the base of an F-theory QSM is a 3-dimensional toric variety $B3$.\n",
    "Let $s \\in H^0(B3, \\bar{K}_{B3}^{\\otimes i})$, then $V(s)$ is a K3-surface. Moreover, let $x_{i}$ be the coordinates\n",
    "of the Cox ring of $B3$. Then $V(x_{i})$ is a divisor in $B3$. Consequently, $C_{i} = V(x_{i}) \\cap V(s)$\n",
    "is a divisor in the K3-surface $V(s)$. For the root bundle counting program, these curves $C_{i}$ are\n",
    "of ample importance (cf. [Bie24](https://arxiv.org/abs/2303.08144)). The following information on these curves is supported:"
   ]
  },
  {
   "cell_type": "markdown",
   "id": "e0374166-2742-4ed2-be6d-0eea2facbba5",
   "metadata": {},
   "source": [
    "The following method returns the genera of the $C_{i}$ curves.\n",
    "Recall that $C_{i} = V(x_{i}, s)$, where $x_{i}$ is a homogeneous\n",
    "coordinate of the 3-dimensional toric base space $B3$ of the\n",
    "QSM hypersurface model in question, and $s$ is a generic\n",
    "section of the anticanonical bundle of $B3$. Consequently,\n",
    "we may use the coordinates $x_{i}$ as labels for the curves $C_{i}$:"
   ]
  },
  {
   "cell_type": "code",
   "execution_count": 57,
   "id": "d164138e-571e-4a85-96f7-60e096b53d78",
   "metadata": {},
   "outputs": [
    {
     "data": {
      "text/plain": [
       "x7"
      ]
     },
     "execution_count": 57,
     "metadata": {},
     "output_type": "execute_result"
    }
   ],
   "source": [
    "my_key = collect(keys(degrees_of_kbar_restrictions_to_ci_curves(qsm_model)))[1]"
   ]
  },
  {
   "cell_type": "code",
   "execution_count": 58,
   "id": "f806dfe9-3d1c-43ae-b1b3-36ac7ed3fdda",
   "metadata": {},
   "outputs": [
    {
     "data": {
      "text/plain": [
       "0"
      ]
     },
     "execution_count": 58,
     "metadata": {},
     "output_type": "execute_result"
    }
   ],
   "source": [
    "genera_of_ci_curves(qsm_model)[my_key]"
   ]
  },
  {
   "cell_type": "markdown",
   "id": "f798f340-1d8c-46c0-afe8-99cd3a9bb4af",
   "metadata": {},
   "source": [
    "The anticanonical divisor of the 3-dimensional toric base space $B3$ of the\n",
    "QSM hypersurface model in question can be restricted to the $C_{i}$ curves. The\n",
    "result of this operation is a line bundle. The following method returns the degree of\n",
    "this line bundle for every $C_{i}$ curve:"
   ]
  },
  {
   "cell_type": "code",
   "execution_count": 59,
   "id": "adab85a3-ca4e-4369-ab12-1b8ff28502a2",
   "metadata": {},
   "outputs": [
    {
     "data": {
      "text/plain": [
       "0"
      ]
     },
     "execution_count": 59,
     "metadata": {},
     "output_type": "execute_result"
    }
   ],
   "source": [
    "degrees_of_kbar_restrictions_to_ci_curves(qsm_model)[my_key]"
   ]
  },
  {
   "cell_type": "markdown",
   "id": "7d165d3a-8801-48f2-af4b-124f1d508623",
   "metadata": {},
   "source": [
    "The topological intersection numbers among $C_{i}$ curves are also of ample importance.\n",
    "The following method returns those intersection numbers in the form of a matrix:"
   ]
  },
  {
   "cell_type": "code",
   "execution_count": 60,
   "id": "7c158aae-6bd3-4163-8906-960144a1852c",
   "metadata": {},
   "outputs": [
    {
     "data": {
      "text/plain": [
       "29×29 Matrix{Int64}:\n",
       " -2   0   0   0   1   0   0   0   0   1  …  0  0   0  0  0   0   0  0   0   0\n",
       "  0  -2   0   0   0   0   0   0   0   0     0  0   0  0  0   0   1  0   1   2\n",
       "  0   0  -2   0   0   0   0   0   0   0     0  0   0  0  0   2   0  0   0   0\n",
       "  0   0   0  -2   0   0   0   0   1   0     0  0   1  0  0   0   0  0   0   0\n",
       "  1   0   0   0  -2   1   0   0   0   0     0  0   0  0  0   0   0  0   0   0\n",
       "  0   0   0   0   1  -2   1   0   0   0  …  0  0   0  0  0   0   0  0   0   0\n",
       "  0   0   0   0   0   1  -2   1   0   0     0  0   0  0  0   0   0  0   0   0\n",
       "  0   0   0   0   0   0   1  -2   1   0     0  0   0  0  0   0   0  0   0   0\n",
       "  0   0   0   1   0   0   0   1  -2   0     0  0   0  0  0   0   0  0   0   0\n",
       "  1   0   0   0   0   0   0   0   0  -2     0  0   0  0  0   0   0  0   0   0\n",
       "  0   0   0   0   0   0   0   0   0   0  …  0  0   0  0  0   0   0  0   0   0\n",
       "  0   0   0   0   0   0   0   0   0   0     0  0   0  0  0   0   0  0   0   0\n",
       "  0   0   0   0   0   0   0   0   0   0     0  0   0  0  0   0   0  0   0   0\n",
       "  ⋮                   ⋮                  ⋱     ⋮                 ⋮         \n",
       "  1   0   0   0   0   0   0   0   0   0     0  0   0  0  0   0   1  0   0   0\n",
       "  0   0   0   0   0   0   0   0   0   0     0  0   0  0  0   0   0  0   0   0\n",
       "  0   0   0   0   0   0   0   0   0   0     0  0   0  0  0   0   0  0   0   0\n",
       "  0   0   0   0   0   0   0   0   0   0  …  0  0   0  0  0   0   0  0   0   0\n",
       "  0   0   0   1   0   0   0   0   0   0     0  0  -2  0  0   0   0  0   1   0\n",
       "  0   0   0   0   0   0   0   0   0   0     0  0   0  0  0   0   0  0   0   0\n",
       "  0   0   0   0   0   0   0   0   0   0     0  0   0  0  0   0   0  0   0   0\n",
       "  0   0   2   0   0   0   0   0   0   0     0  0   0  0  0  -4   0  0   0   2\n",
       "  0   1   0   0   0   0   0   0   0   0  …  0  0   0  0  0   0  -2  0   0   0\n",
       "  0   0   0   0   0   0   0   0   0   0     0  0   0  0  0   0   0  0   0   0\n",
       "  0   1   0   0   0   0   0   0   0   0     0  0   1  0  0   0   0  0  -2   0\n",
       "  0   2   0   0   0   0   0   0   0   0     0  0   0  0  0   2   0  0   0  -4"
      ]
     },
     "execution_count": 60,
     "metadata": {},
     "output_type": "execute_result"
    }
   ],
   "source": [
    "topological_intersection_numbers_among_ci_curves(qsm_model)"
   ]
  },
  {
   "cell_type": "markdown",
   "id": "eb6a62e6-b0b4-4722-ac07-b7802b7d5fc6",
   "metadata": {},
   "source": [
    "Some of the $C_{i}$ curves are trivial, in that $V(x_{i}, s)$ is the empty set.\n",
    "The following method returns the vector of all indices of trivial $C_{i}$ curves.\n",
    "That is, should $V(x_{23}, s)$ be the empty set, then 23 will be included in\n",
    "the returned list:"
   ]
  },
  {
   "cell_type": "code",
   "execution_count": 61,
   "id": "978f51e3-738b-4e7c-b0ac-29cdc0e1eab7",
   "metadata": {},
   "outputs": [
    {
     "data": {
      "text/plain": [
       "10-element Vector{Int64}:\n",
       " 23\n",
       " 22\n",
       " 18\n",
       " 19\n",
       " 20\n",
       " 26\n",
       " 10\n",
       " 11\n",
       " 12\n",
       " 15"
      ]
     },
     "execution_count": 61,
     "metadata": {},
     "output_type": "execute_result"
    }
   ],
   "source": [
    "indices_of_trivial_ci_curves(qsm_model)"
   ]
  },
  {
   "cell_type": "markdown",
   "id": "ee2dbb8c-3e12-4d38-b3a2-a9fb20e01267",
   "metadata": {},
   "source": [
    "The topological intersection numbers among the non-trivial $C_{i}$ curves are used\n",
    "frequently. The following method returns those intersection numbers in the form of a matrix:"
   ]
  },
  {
   "cell_type": "code",
   "execution_count": 62,
   "id": "469f424f-b89b-44a5-8d72-4f9d1910bba9",
   "metadata": {},
   "outputs": [
    {
     "data": {
      "text/plain": [
       "19×19 Matrix{Int64}:\n",
       " -2   0   0   0   1   0   0   0   0   1   0   0   0   1   0   0   0   0   0\n",
       "  0  -2   0   0   0   0   0   0   0   0   0   0   0   0   0   0   1   1   2\n",
       "  0   0  -2   0   0   0   0   0   0   0   0   1   1   0   0   2   0   0   0\n",
       "  0   0   0  -2   0   0   0   0   1   0   1   0   0   0   1   0   0   0   0\n",
       "  1   0   0   0  -2   1   0   0   0   0   0   0   0   0   0   0   0   0   0\n",
       "  0   0   0   0   1  -2   1   0   0   0   0   0   0   0   0   0   0   0   0\n",
       "  0   0   0   0   0   1  -2   1   0   0   0   0   0   0   0   0   0   0   0\n",
       "  0   0   0   0   0   0   1  -2   1   0   0   0   0   0   0   0   0   0   0\n",
       "  0   0   0   1   0   0   0   1  -2   0   0   0   0   0   0   0   0   0   0\n",
       "  1   0   0   0   0   0   0   0   0  -2   0   1   0   0   0   0   0   0   0\n",
       "  0   0   0   1   0   0   0   0   0   0  -2   0   1   0   0   0   0   0   0\n",
       "  0   0   1   0   0   0   0   0   0   1   0  -2   0   0   0   0   0   0   0\n",
       "  0   0   1   0   0   0   0   0   0   0   1   0  -2   0   0   0   0   0   0\n",
       "  1   0   0   0   0   0   0   0   0   0   0   0   0  -2   0   0   1   0   0\n",
       "  0   0   0   1   0   0   0   0   0   0   0   0   0   0  -2   0   0   1   0\n",
       "  0   0   2   0   0   0   0   0   0   0   0   0   0   0   0  -4   0   0   2\n",
       "  0   1   0   0   0   0   0   0   0   0   0   0   0   1   0   0  -2   0   0\n",
       "  0   1   0   0   0   0   0   0   0   0   0   0   0   0   1   0   0  -2   0\n",
       "  0   2   0   0   0   0   0   0   0   0   0   0   0   0   0   2   0   0  -4"
      ]
     },
     "execution_count": 62,
     "metadata": {},
     "output_type": "execute_result"
    }
   ],
   "source": [
    "topological_intersection_numbers_among_nontrivial_ci_curves(qsm_model)"
   ]
  },
  {
   "cell_type": "markdown",
   "id": "153a58b4-dc74-4a5b-b106-6da0da10548b",
   "metadata": {},
   "source": [
    "The collection of the $C_{i}$ curves form a nodal curve. To every nodal curve one can associate a\n",
    "(dual) graph. In this graph, every irreducible component of the nodal curve becomes a node/vertex\n",
    "of the dual graph, and every nodal singularity of the nodal curve turns into an edge of the dual\n",
    "graph. In the case at hand, this is rather simple.\n",
    "\n",
    "The $C_{i}$ curves turn into the irreducible components of the nodal curve. Certainly, we only need\n",
    "to focus on the non-trivial $C_{i}$ curves. A non-trivial $C_{i}$ curve can split into multiple irreducible\n",
    "components. This is taken into acccount when the nodes/vertices of the dual graph are constructed.\n",
    "\n",
    "The topological intersection numbers among the $C_{i}$ curves (or rather, their irreducible components)\n",
    "tells us how many nodal singularities link the $C_{i}$ curves (or rather, their irreducible components)\n",
    "in question. Hence, if the topological intersection numbers is zero, there is no edge between the\n",
    "corresponding nodes. Otherwise, if the topological intersection number is positive, say $n$, then\n",
    "there are exactly $n$ edges between the nodes in question."
   ]
  },
  {
   "cell_type": "markdown",
   "id": "31f12218-d172-4eca-913b-c11c6a5e18d5",
   "metadata": {},
   "source": [
    "The following method returns the dual graph of the QSM model in question.\n",
    "Note that no labels are (currently) attached to the vertices/nodes or edges.\n",
    "To understand/read this graph correctly, one of the following methods listed below:"
   ]
  },
  {
   "cell_type": "code",
   "execution_count": 63,
   "id": "7a64a41b-38ee-4644-b307-016ecb32b32b",
   "metadata": {},
   "outputs": [
    {
     "data": {
      "text/plain": [
       "Undirected graph with 21 nodes and the following edges:\n",
       "(5, 1)(6, 5)(7, 6)(8, 7)(9, 4)(9, 8)(10, 1)(11, 4)(12, 3)(12, 10)(13, 3)(13, 11)(14, 1)(15, 4)(16, 3)(17, 3)(18, 2)(18, 14)(19, 2)(19, 15)(20, 2)(20, 16)(21, 2)(21, 17)"
      ]
     },
     "execution_count": 63,
     "metadata": {},
     "output_type": "execute_result"
    }
   ],
   "source": [
    "dual_graph(qsm_model)"
   ]
  },
  {
   "cell_type": "markdown",
   "id": "9f99e38f-8733-4172-944d-c543caffaffe",
   "metadata": {},
   "source": [
    "The following method returns a vector with labels for each node/vertex of the dual graph of the QSM\n",
    "model in question. Those labels allow to understand the geometric origin of the node/vertex.\n",
    "\n",
    "Specifically, recall that those nodes are associated to the $C_{i}$ curves, which are in turn\n",
    "given by $C_{i} = V(x_{i}, s)$. $x_{i}$ is a homogenous coordinate of the 3-dimensional toric base space\n",
    "B3 of the QSM in question, and s is a generic section of the anticanonical bundle of $B3$.\n",
    "\n",
    "Only non-trivial $C_{i}$ curves correspond to vertices/nodes of the dual graph.\n",
    "\n",
    "If $C_{i}$ is irreducible and corresponds to the k-th component, then the label \"Ci\"\n",
    "appears at position k of the vector returned by this method. However, if $C_{i}$ is\n",
    "reducible, then we introduce the labels Ci-0, Ci-1, Ci-2 etc. for those irreducible\n",
    "components of $C_{i}$. If Ci-0 corresponds to the k-th components of the dual graph,\n",
    "then the label \"Ci-0\" appears at position k of the vector returned by this method:\n"
   ]
  },
  {
   "cell_type": "code",
   "execution_count": 64,
   "id": "702ce797-2724-4dbc-a4cd-fe4d7d6d7fc3",
   "metadata": {},
   "outputs": [
    {
     "data": {
      "text/plain": [
       "21-element Vector{String}:\n",
       " \"C0\"\n",
       " \"C1\"\n",
       " \"C2\"\n",
       " \"C3\"\n",
       " \"C4\"\n",
       " \"C5\"\n",
       " \"C6\"\n",
       " \"C7\"\n",
       " \"C8\"\n",
       " \"C9\"\n",
       " \"C13\"\n",
       " \"C14\"\n",
       " \"C16\"\n",
       " \"C17\"\n",
       " \"C21\"\n",
       " \"C24-0\"\n",
       " \"C24-1\"\n",
       " \"C25\"\n",
       " \"C27\"\n",
       " \"C28-0\"\n",
       " \"C28-1\""
      ]
     },
     "execution_count": 64,
     "metadata": {},
     "output_type": "execute_result"
    }
   ],
   "source": [
    "components_of_dual_graph(qsm_model)"
   ]
  },
  {
   "cell_type": "markdown",
   "id": "2ad89195-17b8-4f2d-9572-11893d965fed",
   "metadata": {},
   "source": [
    "The anticanonical bundle of the toric 3-dimensional base space of the F-theory QSM in\n",
    "question can be restricted to the (geometric counterparts of the) nodes/vertices of\n",
    "the dual graph. The result is a line bundle for each node/vertex. The following method returns\n",
    "a vector with the degrees of these line bundles:"
   ]
  },
  {
   "cell_type": "code",
   "execution_count": 65,
   "id": "76b54ab2-730a-4945-9269-6359d7090e35",
   "metadata": {},
   "outputs": [
    {
     "data": {
      "text/plain": [
       "0"
      ]
     },
     "execution_count": 65,
     "metadata": {},
     "output_type": "execute_result"
    }
   ],
   "source": [
    "degrees_of_kbar_restrictions_to_components_of_dual_graph(qsm_model)[\"C28-1\"]"
   ]
  },
  {
   "cell_type": "markdown",
   "id": "d9bc90b7-5d9c-454d-a927-b2ab3ea234ce",
   "metadata": {},
   "source": [
    "The following method returns a vector with the genera of the (geometric\n",
    "counterparts of the) nodes/vertices of the dual graph:"
   ]
  },
  {
   "cell_type": "code",
   "execution_count": 66,
   "id": "b41a2d49-a79a-4854-89a2-aaa9eba5ee93",
   "metadata": {},
   "outputs": [
    {
     "data": {
      "text/plain": [
       "0"
      ]
     },
     "execution_count": 66,
     "metadata": {},
     "output_type": "execute_result"
    }
   ],
   "source": [
    "genera_of_components_of_dual_graph(qsm_model)[\"C28-1\"]"
   ]
  },
  {
   "cell_type": "markdown",
   "id": "a1c5e06a-bce8-43aa-a4b5-75c8e698841f",
   "metadata": {},
   "source": [
    "The dual graph is essential in counting root bundles (cf. [BCL21](https://link.aps.org/doi/10.1103/PhysRevD.104.L061903)). It turns out, that one\n",
    "can simplify this graph so that the computations at hand can be conducted on a simpler graph\n",
    "instead. The following functionality exists to access this simplified dual graph:\n",
    "```@docs\n",
    "simplified_dual_graph(m::AbstractFTheoryModel)\n",
    "components_of_simplified_dual_graph(m::AbstractFTheoryModel)\n",
    "degrees_of_kbar_restrictions_to_components_of_simplified_dual_graph(m::AbstractFTheoryModel)\n",
    "genera_of_components_of_simplified_dual_graph(m::AbstractFTheoryModel)\n",
    "```"
   ]
  },
  {
   "cell_type": "code",
   "execution_count": null,
   "id": "ef7c098c-d336-45a5-a6c0-d679a4a90e7a",
   "metadata": {},
   "outputs": [],
   "source": []
  }
 ],
 "metadata": {
  "kernelspec": {
   "display_name": "Julia 1.9.2",
   "language": "julia",
   "name": "julia-1.9"
  },
  "language_info": {
   "file_extension": ".jl",
   "mimetype": "application/julia",
   "name": "julia",
   "version": "1.9.2"
  }
 },
 "nbformat": 4,
 "nbformat_minor": 5
}
